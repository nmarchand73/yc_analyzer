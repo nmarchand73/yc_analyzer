{
 "cells": [
  {
   "cell_type": "markdown",
   "metadata": {},
   "source": "<cell_type>markdown</cell_type># YC Companies Analysis for Solo Entrepreneurs\n\nThis interactive notebook helps solo founders explore trends, **success factors**, and actionable insights from the Y Combinator companies dataset. Use the filters and visualizations to benchmark and discover opportunities.\n\n⚠️ **Important Note:** This analysis has limitations due to survivorship bias (recent companies haven't had time to exit). For rigorous statistical analysis, see `yc_comprehensive_analysis.ipynb`."
  },
  {
   "cell_type": "code",
   "execution_count": 1,
   "metadata": {},
   "outputs": [],
   "source": [
    "# Setup\n",
    "import pandas as pd\n",
    "import numpy as np\n",
    "import matplotlib.pyplot as plt\n",
    "import seaborn as sns\n",
    "from ipywidgets import interact, widgets\n",
    "import warnings\n",
    "warnings.filterwarnings('ignore')\n",
    "\n",
    "# Set plot style\n",
    "sns.set(style='whitegrid')"
   ]
  },
  {
   "cell_type": "markdown",
   "metadata": {},
   "source": [
    "## Load Data\n",
    "Upload or specify the path to your YC companies CSV file (e.g., '2024-06-09-yc-companies.csv')."
   ]
  },
  {
   "cell_type": "code",
   "execution_count": 2,
   "metadata": {},
   "outputs": [
    {
     "name": "stdout",
     "output_type": "stream",
     "text": [
      "Loaded 7858 records from ../data/2025-05-03.jl\n"
     ]
    }
   ],
   "source": [
    "import pandas as pd\n",
    "\n",
    "# Change the filename if needed\n",
    "json_path = '../data/2025-05-03.jl'\n",
    "try:\n",
    "    df = pd.read_json(json_path, lines=True)\n",
    "    print(f'Loaded {len(df)} records from {json_path}')\n",
    "except Exception as e:\n",
    "    print(f'Error loading file: {e}')"
   ]
  },
  {
   "cell_type": "markdown",
   "metadata": {},
   "source": [
    "## Data Cleaning & Preparation\n",
    "- Mark solo founders (num_founders == 1)\n",
    "- Extract year from batch\n",
    "- Parse tags as lists if needed\n"
   ]
  },
  {
   "cell_type": "code",
   "execution_count": null,
   "metadata": {},
   "outputs": [],
   "source": "import re\n\ndf['is_solo_founder'] = df['num_founders'] == 1\n\n# Extract year from batch - handle both old (W25, S24) and new (Winter 2025, Fall 2024) formats\ndef parse_batch_year(batch):\n    if pd.isna(batch):\n        return None\n    match = re.search(r'(\\d{2,4})', str(batch))\n    if match:\n        year = match.group(1)\n        if len(year) == 2:\n            year = int(year)\n            return 2000 + year if year < 50 else 1900 + year\n        return int(year)\n    return None\n\ndf['year'] = df['batch'].apply(parse_batch_year)\n\n# Calculate company age\ncurrent_year = 2025\ndf['company_age'] = df['year_founded'].apply(lambda x: current_year - x if pd.notna(x) else None)\n\n# Define success (for companies ≥3 years old to reduce survivorship bias)\ndf['is_mature'] = df['company_age'] >= 3\ndf['is_successful'] = df['status'].apply(lambda x: 'acquired' in str(x).lower() or 'public' in str(x).lower())\n\n# If tags are stored as strings, convert to lists\nif df['tags'].dtype == object and isinstance(df['tags'].iloc[0], str):\n    import ast\n    df['tags'] = df['tags'].apply(lambda x: ast.literal_eval(x) if isinstance(x, str) and x.startswith('[') else x)\n\nprint('✓ Data prepared')\nprint(f'  Total companies: {len(df):,}')\nprint(f'  Solo founders: {df[\"is_solo_founder\"].sum():,} ({df[\"is_solo_founder\"].mean()*100:.1f}%)')\nprint(f'  Mature companies (≥3 years): {df[\"is_mature\"].sum():,}')\nprint(f'\\n⚠️  Note: Success analysis uses only mature companies to avoid survivorship bias')\ndisplay(df.head())"
  },
  {
   "cell_type": "markdown",
   "metadata": {},
   "source": [
    "## Interactive Filters\n",
    "Use the widgets below to filter by year, industry, and solo/team founders."
   ]
  },
  {
   "cell_type": "code",
   "execution_count": null,
   "metadata": {},
   "outputs": [],
   "source": "from ipywidgets import interact, widgets\n\nyears = sorted(df['year'].dropna().unique().astype(int))\nmin_year, max_year = int(min(years)), int(max(years))\nindustries = sorted({tag for tags in df['tags'].dropna() for tag in tags})\n\n@interact(\n    year_range=widgets.IntRangeSlider(value=[min_year, max_year], min=min_year, max=max_year, step=1, description='Year Range'),\n    industry=widgets.SelectMultiple(options=industries, description='Industry', layout=widgets.Layout(width='50%')),\n    solo_only=widgets.Checkbox(value=True, description='Solo Founders Only')\n)\ndef filter_data(year_range, industry, solo_only):\n    filtered = df[(df['year'] >= year_range[0]) & (df['year'] <= year_range[1])]\n    if industry:\n        filtered = filtered[filtered['tags'].apply(lambda tags: any(i in tags for i in industry) if isinstance(tags, list) else False)]\n    if solo_only:\n        filtered = filtered[filtered['is_solo_founder']]\n    print(f'Companies found: {len(filtered)}')\n    display(filtered[['company_name', 'batch', 'status', 'tags', 'location', 'year', 'num_founders', 'team_size', 'website']].head(10))"
  },
  {
   "cell_type": "markdown",
   "metadata": {},
   "source": [
    "## Visualizations\n",
    "Explore trends and success metrics for solo founders."
   ]
  },
  {
   "cell_type": "code",
   "execution_count": null,
   "metadata": {},
   "outputs": [],
   "source": "# Solo vs. Team-Founded Companies\nplt.figure(figsize=(5,3))\ndf['is_solo_founder'].value_counts().plot(kind='pie', labels=['Team', 'Solo'], autopct='%1.1f%%', startangle=90, colors=['#66b3ff','#ff9999'])\nplt.title('Proportion of Solo vs. Team-Founded Companies')\nplt.ylabel('')\nplt.show()\n\n# Top Industries for Solo Founders\nsolo = df[df['is_solo_founder']]\ntop_industries = pd.Series([i for tags in solo['tags'].dropna() for i in tags]).value_counts().head(10)\nplt.figure(figsize=(8,4))\nsns.barplot(x=top_industries.values, y=top_industries.index, palette='viridis')\nplt.title('Top Industries for Solo Founders (by count)')\nplt.xlabel('Number of Companies')\nplt.show()\n\n# Status Breakdown for Solo Founders\nplt.figure(figsize=(6,3))\nsolo['status'].value_counts().plot(kind='bar', color='#ffcc99')\nplt.title('Status of Solo-Founded Companies')\nplt.xlabel('Status')\nplt.ylabel('Count')\nplt.show()\n\n# ===== NEW: SUCCESS RATE ANALYSIS (MATURE COMPANIES ONLY) =====\nprint(\"\\n\" + \"=\"*60)\nprint(\"SUCCESS RATE COMPARISON (Mature Companies ≥3 years)\")\nprint(\"=\"*60)\n\nmature_df = df[df['is_mature']].copy()\nmature_solo = mature_df[mature_df['is_solo_founder']]\nmature_team = mature_df[~mature_df['is_solo_founder']]\n\nsolo_success_rate = mature_solo['is_successful'].mean() * 100\nteam_success_rate = mature_team['is_successful'].mean() * 100\n\nprint(f\"\\nSolo Founders:\")\nprint(f\"  Sample size: {len(mature_solo):,} companies\")\nprint(f\"  Success rate: {solo_success_rate:.1f}%\")\nprint(f\"  Successful: {mature_solo['is_successful'].sum():,} companies\")\n\nprint(f\"\\nTeam Founders:\")\nprint(f\"  Sample size: {len(mature_team):,} companies\")\nprint(f\"  Success rate: {team_success_rate:.1f}%\")\nprint(f\"  Successful: {mature_team['is_successful'].sum():,} companies\")\n\nprint(f\"\\nDifference: {team_success_rate - solo_success_rate:+.1f} percentage points\")\nprint(f\"⚠️  Note: This is correlation, not causation. Many factors affect success.\")\nprint(\"=\"*60)\n\n# Visualization\nfig, ax = plt.subplots(figsize=(7,4))\ncategories = ['Solo Founders', 'Team Founders']\nsuccess_rates = [solo_success_rate, team_success_rate]\ncolors_bar = ['#ff9999', '#66b3ff']\n\nbars = ax.bar(categories, success_rates, color=colors_bar, alpha=0.7)\nax.set_ylabel('Success Rate (%)')\nax.set_title('Success Rate: Solo vs Team Founders\\n(Mature companies ≥3 years only)')\nax.set_ylim(0, max(success_rates) * 1.3)\n\n# Add value labels on bars\nfor bar in bars:\n    height = bar.get_height()\n    ax.text(bar.get_x() + bar.get_width()/2., height,\n            f'{height:.1f}%',\n            ha='center', va='bottom', fontsize=12, fontweight='bold')\n\nplt.tight_layout()\nplt.show()"
  },
  {
   "cell_type": "code",
   "execution_count": 10,
   "metadata": {},
   "outputs": [
    {
     "data": {
      "application/vnd.plotly.v1+json": {
       "config": {
        "plotlyServerURL": "https://plot.ly"
       },
       "data": [
        {
         "customdata": [
          [
           "ai"
          ],
          [
           "ai"
          ],
          [
           "ai"
          ],
          [
           "ai"
          ],
          [
           "ai"
          ],
          [
           "ai"
          ],
          [
           "ai"
          ],
          [
           "ai"
          ],
          [
           "ai"
          ],
          [
           "ai"
          ],
          [
           "ai"
          ],
          [
           "ai"
          ],
          [
           "ai"
          ],
          [
           "ai"
          ],
          [
           "ai"
          ]
         ],
         "hovertemplate": "Industry=%{customdata[0]}<br>Year Founded=%{x}<br>Number of Companies=%{y}<extra></extra>",
         "legendgroup": "ai",
         "line": {
          "color": "#636efa",
          "dash": "solid"
         },
         "marker": {
          "symbol": "circle"
         },
         "mode": "lines",
         "name": "ai",
         "showlegend": true,
         "type": "scattergl",
         "x": {
          "bdata": "AAAAAABUn0AAAAAAAGyfQAAAAAAAdJ9AAAAAAAB4n0AAAAAAAHyfQAAAAAAAgJ9AAAAAAACEn0AAAAAAAIifQAAAAAAAjJ9AAAAAAACQn0AAAAAAAJSfQAAAAAAAmJ9AAAAAAACcn0AAAAAAAKCfQAAAAAAApJ9A",
          "dtype": "f8"
         },
         "xaxis": "x",
         "y": {
          "bdata": "AgABAAIABQAGAAUAEAARABkANgBrAJ0AKAHwAA0A",
          "dtype": "i2"
         },
         "yaxis": "y"
        },
        {
         "customdata": [
          [
           "b2b"
          ],
          [
           "b2b"
          ],
          [
           "b2b"
          ],
          [
           "b2b"
          ],
          [
           "b2b"
          ],
          [
           "b2b"
          ],
          [
           "b2b"
          ],
          [
           "b2b"
          ],
          [
           "b2b"
          ],
          [
           "b2b"
          ],
          [
           "b2b"
          ],
          [
           "b2b"
          ],
          [
           "b2b"
          ],
          [
           "b2b"
          ],
          [
           "b2b"
          ],
          [
           "b2b"
          ],
          [
           "b2b"
          ],
          [
           "b2b"
          ],
          [
           "b2b"
          ]
         ],
         "hovertemplate": "Industry=%{customdata[0]}<br>Year Founded=%{x}<br>Number of Companies=%{y}<extra></extra>",
         "legendgroup": "b2b",
         "line": {
          "color": "#EF553B",
          "dash": "solid"
         },
         "marker": {
          "symbol": "circle"
         },
         "mode": "lines",
         "name": "b2b",
         "showlegend": true,
         "type": "scattergl",
         "x": {
          "bdata": "AAAAAABUn0AAAAAAAFyfQAAAAAAAZJ9AAAAAAABon0AAAAAAAGyfQAAAAAAAcJ9AAAAAAAB0n0AAAAAAAHifQAAAAAAAfJ9AAAAAAACAn0AAAAAAAISfQAAAAAAAiJ9AAAAAAACMn0AAAAAAAJCfQAAAAAAAlJ9AAAAAAACYn0AAAAAAAJyfQAAAAAAAoJ9AAAAAAACkn0A=",
          "dtype": "f8"
         },
         "xaxis": "x",
         "y": {
          "bdata": "AwABAAEAAQAJAAoACQAOABEAFAAsAEIAkgAlAR8BFwE2AccACwA=",
          "dtype": "i2"
         },
         "yaxis": "y"
        },
        {
         "customdata": [
          [
           "calendar"
          ],
          [
           "calendar"
          ],
          [
           "calendar"
          ],
          [
           "calendar"
          ]
         ],
         "hovertemplate": "Industry=%{customdata[0]}<br>Year Founded=%{x}<br>Number of Companies=%{y}<extra></extra>",
         "legendgroup": "calendar",
         "line": {
          "color": "#00cc96",
          "dash": "solid"
         },
         "marker": {
          "symbol": "circle"
         },
         "mode": "lines",
         "name": "calendar",
         "showlegend": true,
         "type": "scattergl",
         "x": {
          "bdata": "AAAAAABUn0AAAAAAAIifQAAAAAAAkJ9AAAAAAACUn0A=",
          "dtype": "f8"
         },
         "xaxis": "x",
         "y": {
          "bdata": "AQEDAg==",
          "dtype": "i1"
         },
         "yaxis": "y"
        },
        {
         "customdata": [
          [
           "hardware"
          ],
          [
           "hardware"
          ],
          [
           "hardware"
          ],
          [
           "hardware"
          ],
          [
           "hardware"
          ],
          [
           "hardware"
          ],
          [
           "hardware"
          ],
          [
           "hardware"
          ],
          [
           "hardware"
          ],
          [
           "hardware"
          ],
          [
           "hardware"
          ],
          [
           "hardware"
          ],
          [
           "hardware"
          ],
          [
           "hardware"
          ],
          [
           "hardware"
          ],
          [
           "hardware"
          ]
         ],
         "hovertemplate": "Industry=%{customdata[0]}<br>Year Founded=%{x}<br>Number of Companies=%{y}<extra></extra>",
         "legendgroup": "hardware",
         "line": {
          "color": "#ab63fa",
          "dash": "solid"
         },
         "marker": {
          "symbol": "circle"
         },
         "mode": "lines",
         "name": "hardware",
         "showlegend": true,
         "type": "scattergl",
         "x": {
          "bdata": "AAAAAABUn0AAAAAAAGifQAAAAAAAcJ9AAAAAAAB0n0AAAAAAAHifQAAAAAAAfJ9AAAAAAACAn0AAAAAAAISfQAAAAAAAiJ9AAAAAAACMn0AAAAAAAJCfQAAAAAAAlJ9AAAAAAACYn0AAAAAAAJyfQAAAAAAAoJ9AAAAAAACkn0A=",
          "dtype": "f8"
         },
         "xaxis": "x",
         "y": {
          "bdata": "AQEFAwUEBw0IChISBw4RAw==",
          "dtype": "i1"
         },
         "yaxis": "y"
        },
        {
         "customdata": [
          [
           "iot"
          ],
          [
           "iot"
          ],
          [
           "iot"
          ],
          [
           "iot"
          ],
          [
           "iot"
          ],
          [
           "iot"
          ],
          [
           "iot"
          ],
          [
           "iot"
          ],
          [
           "iot"
          ],
          [
           "iot"
          ],
          [
           "iot"
          ],
          [
           "iot"
          ],
          [
           "iot"
          ]
         ],
         "hovertemplate": "Industry=%{customdata[0]}<br>Year Founded=%{x}<br>Number of Companies=%{y}<extra></extra>",
         "legendgroup": "iot",
         "line": {
          "color": "#FFA15A",
          "dash": "solid"
         },
         "marker": {
          "symbol": "circle"
         },
         "mode": "lines",
         "name": "iot",
         "showlegend": true,
         "type": "scattergl",
         "x": {
          "bdata": "AAAAAABUn0AAAAAAAGifQAAAAAAAbJ9AAAAAAABwn0AAAAAAAHSfQAAAAAAAeJ9AAAAAAAB8n0AAAAAAAICfQAAAAAAAhJ9AAAAAAACIn0AAAAAAAIyfQAAAAAAAkJ9AAAAAAACUn0A=",
          "dtype": "f8"
         },
         "xaxis": "x",
         "y": {
          "bdata": "AQEBAQEDAgMFAQcJAg==",
          "dtype": "i1"
         },
         "yaxis": "y"
        },
        {
         "customdata": [
          [
           "marketing"
          ],
          [
           "marketing"
          ],
          [
           "marketing"
          ],
          [
           "marketing"
          ],
          [
           "marketing"
          ],
          [
           "marketing"
          ],
          [
           "marketing"
          ],
          [
           "marketing"
          ],
          [
           "marketing"
          ],
          [
           "marketing"
          ],
          [
           "marketing"
          ],
          [
           "marketing"
          ],
          [
           "marketing"
          ],
          [
           "marketing"
          ]
         ],
         "hovertemplate": "Industry=%{customdata[0]}<br>Year Founded=%{x}<br>Number of Companies=%{y}<extra></extra>",
         "legendgroup": "marketing",
         "line": {
          "color": "#19d3f3",
          "dash": "solid"
         },
         "marker": {
          "symbol": "circle"
         },
         "mode": "lines",
         "name": "marketing",
         "showlegend": true,
         "type": "scattergl",
         "x": {
          "bdata": "AAAAAABUn0AAAAAAAGifQAAAAAAAbJ9AAAAAAABwn0AAAAAAAHSfQAAAAAAAeJ9AAAAAAAB8n0AAAAAAAICfQAAAAAAAjJ9AAAAAAACQn0AAAAAAAJSfQAAAAAAAmJ9AAAAAAACcn0AAAAAAAKCfQA==",
          "dtype": "f8"
         },
         "xaxis": "x",
         "y": {
          "bdata": "AgECAQEBAQQHCBUSEws=",
          "dtype": "i1"
         },
         "yaxis": "y"
        },
        {
         "customdata": [
          [
           "messaging"
          ],
          [
           "messaging"
          ],
          [
           "messaging"
          ],
          [
           "messaging"
          ],
          [
           "messaging"
          ],
          [
           "messaging"
          ],
          [
           "messaging"
          ],
          [
           "messaging"
          ],
          [
           "messaging"
          ],
          [
           "messaging"
          ],
          [
           "messaging"
          ],
          [
           "messaging"
          ]
         ],
         "hovertemplate": "Industry=%{customdata[0]}<br>Year Founded=%{x}<br>Number of Companies=%{y}<extra></extra>",
         "legendgroup": "messaging",
         "line": {
          "color": "#FF6692",
          "dash": "solid"
         },
         "marker": {
          "symbol": "circle"
         },
         "mode": "lines",
         "name": "messaging",
         "showlegend": true,
         "type": "scattergl",
         "x": {
          "bdata": "AAAAAABUn0AAAAAAAFyfQAAAAAAAbJ9AAAAAAABwn0AAAAAAAHyfQAAAAAAAgJ9AAAAAAACEn0AAAAAAAIyfQAAAAAAAkJ9AAAAAAACUn0AAAAAAAJifQAAAAAAAnJ9A",
          "dtype": "f8"
         },
         "xaxis": "x",
         "y": {
          "bdata": "AQECAgEBBQICBQYE",
          "dtype": "i1"
         },
         "yaxis": "y"
        },
        {
         "customdata": [
          [
           "saas"
          ],
          [
           "saas"
          ],
          [
           "saas"
          ],
          [
           "saas"
          ],
          [
           "saas"
          ],
          [
           "saas"
          ],
          [
           "saas"
          ],
          [
           "saas"
          ],
          [
           "saas"
          ],
          [
           "saas"
          ],
          [
           "saas"
          ],
          [
           "saas"
          ],
          [
           "saas"
          ],
          [
           "saas"
          ],
          [
           "saas"
          ],
          [
           "saas"
          ],
          [
           "saas"
          ],
          [
           "saas"
          ],
          [
           "saas"
          ],
          [
           "saas"
          ]
         ],
         "hovertemplate": "Industry=%{customdata[0]}<br>Year Founded=%{x}<br>Number of Companies=%{y}<extra></extra>",
         "legendgroup": "saas",
         "line": {
          "color": "#B6E880",
          "dash": "solid"
         },
         "marker": {
          "symbol": "circle"
         },
         "mode": "lines",
         "name": "saas",
         "showlegend": true,
         "type": "scattergl",
         "x": {
          "bdata": "AAAAAABUn0AAAAAAAFyfQAAAAAAAYJ9AAAAAAABkn0AAAAAAAGifQAAAAAAAbJ9AAAAAAABwn0AAAAAAAHSfQAAAAAAAeJ9AAAAAAAB8n0AAAAAAAICfQAAAAAAAhJ9AAAAAAACIn0AAAAAAAIyfQAAAAAAAkJ9AAAAAAACUn0AAAAAAAJifQAAAAAAAnJ9AAAAAAACgn0AAAAAAAKSfQA==",
          "dtype": "f8"
         },
         "xaxis": "x",
         "y": {
          "bdata": "AwADAAIAAgACABQAEwAQAB4AIAAdAEUASwCsAFEBPwH7ANkAhAAIAA==",
          "dtype": "i2"
         },
         "yaxis": "y"
        },
        {
         "customdata": [
          [
           "telecommunications"
          ],
          [
           "telecommunications"
          ],
          [
           "telecommunications"
          ],
          [
           "telecommunications"
          ],
          [
           "telecommunications"
          ],
          [
           "telecommunications"
          ],
          [
           "telecommunications"
          ],
          [
           "telecommunications"
          ],
          [
           "telecommunications"
          ]
         ],
         "hovertemplate": "Industry=%{customdata[0]}<br>Year Founded=%{x}<br>Number of Companies=%{y}<extra></extra>",
         "legendgroup": "telecommunications",
         "line": {
          "color": "#FF97FF",
          "dash": "solid"
         },
         "marker": {
          "symbol": "circle"
         },
         "mode": "lines",
         "name": "telecommunications",
         "showlegend": true,
         "type": "scattergl",
         "x": {
          "bdata": "AAAAAABUn0AAAAAAAGyfQAAAAAAAhJ9AAAAAAACIn0AAAAAAAIyfQAAAAAAAkJ9AAAAAAACYn0AAAAAAAJyfQAAAAAAAoJ9A",
          "dtype": "f8"
         },
         "xaxis": "x",
         "y": {
          "bdata": "AQEBAwUIBAQD",
          "dtype": "i1"
         },
         "yaxis": "y"
        },
        {
         "customdata": [
          [
           "community"
          ],
          [
           "community"
          ],
          [
           "community"
          ],
          [
           "community"
          ],
          [
           "community"
          ],
          [
           "community"
          ],
          [
           "community"
          ],
          [
           "community"
          ],
          [
           "community"
          ],
          [
           "community"
          ],
          [
           "community"
          ],
          [
           "community"
          ],
          [
           "community"
          ],
          [
           "community"
          ],
          [
           "community"
          ]
         ],
         "hovertemplate": "Industry=%{customdata[0]}<br>Year Founded=%{x}<br>Number of Companies=%{y}<extra></extra>",
         "legendgroup": "community",
         "line": {
          "color": "#FECB52",
          "dash": "solid"
         },
         "marker": {
          "symbol": "circle"
         },
         "mode": "lines",
         "name": "community",
         "showlegend": true,
         "type": "scattergl",
         "x": {
          "bdata": "AAAAAABYn0AAAAAAAFyfQAAAAAAAZJ9AAAAAAABon0AAAAAAAHSfQAAAAAAAeJ9AAAAAAAB8n0AAAAAAAICfQAAAAAAAhJ9AAAAAAACIn0AAAAAAAIyfQAAAAAAAkJ9AAAAAAACUn0AAAAAAAJifQAAAAAAAoJ9A",
          "dtype": "f8"
         },
         "xaxis": "x",
         "y": {
          "bdata": "AQEBAQICAQQEBgsVDQYC",
          "dtype": "i1"
         },
         "yaxis": "y"
        },
        {
         "customdata": [
          [
           "e-commerce"
          ],
          [
           "e-commerce"
          ],
          [
           "e-commerce"
          ],
          [
           "e-commerce"
          ],
          [
           "e-commerce"
          ],
          [
           "e-commerce"
          ],
          [
           "e-commerce"
          ],
          [
           "e-commerce"
          ],
          [
           "e-commerce"
          ],
          [
           "e-commerce"
          ],
          [
           "e-commerce"
          ],
          [
           "e-commerce"
          ],
          [
           "e-commerce"
          ],
          [
           "e-commerce"
          ],
          [
           "e-commerce"
          ],
          [
           "e-commerce"
          ]
         ],
         "hovertemplate": "Industry=%{customdata[0]}<br>Year Founded=%{x}<br>Number of Companies=%{y}<extra></extra>",
         "legendgroup": "e-commerce",
         "line": {
          "color": "#636efa",
          "dash": "solid"
         },
         "marker": {
          "symbol": "circle"
         },
         "mode": "lines",
         "name": "e-commerce",
         "showlegend": true,
         "type": "scattergl",
         "x": {
          "bdata": "AAAAAABYn0AAAAAAAGifQAAAAAAAbJ9AAAAAAABwn0AAAAAAAHSfQAAAAAAAeJ9AAAAAAAB8n0AAAAAAAICfQAAAAAAAhJ9AAAAAAACIn0AAAAAAAIyfQAAAAAAAkJ9AAAAAAACUn0AAAAAAAJifQAAAAAAAnJ9AAAAAAACgn0A=",
          "dtype": "f8"
         },
         "xaxis": "x",
         "y": {
          "bdata": "AQEEBwQKBwcMDiJDTCYLDQ==",
          "dtype": "i1"
         },
         "yaxis": "y"
        },
        {
         "customdata": [
          [
           "fintech"
          ],
          [
           "fintech"
          ],
          [
           "fintech"
          ],
          [
           "fintech"
          ],
          [
           "fintech"
          ],
          [
           "fintech"
          ],
          [
           "fintech"
          ],
          [
           "fintech"
          ],
          [
           "fintech"
          ],
          [
           "fintech"
          ],
          [
           "fintech"
          ],
          [
           "fintech"
          ],
          [
           "fintech"
          ],
          [
           "fintech"
          ],
          [
           "fintech"
          ],
          [
           "fintech"
          ],
          [
           "fintech"
          ],
          [
           "fintech"
          ],
          [
           "fintech"
          ]
         ],
         "hovertemplate": "Industry=%{customdata[0]}<br>Year Founded=%{x}<br>Number of Companies=%{y}<extra></extra>",
         "legendgroup": "fintech",
         "line": {
          "color": "#EF553B",
          "dash": "solid"
         },
         "marker": {
          "symbol": "circle"
         },
         "mode": "lines",
         "name": "fintech",
         "showlegend": true,
         "type": "scattergl",
         "x": {
          "bdata": "AAAAAABYn0AAAAAAAGCfQAAAAAAAZJ9AAAAAAABon0AAAAAAAGyfQAAAAAAAcJ9AAAAAAAB0n0AAAAAAAHifQAAAAAAAfJ9AAAAAAACAn0AAAAAAAISfQAAAAAAAiJ9AAAAAAACMn0AAAAAAAJCfQAAAAAAAlJ9AAAAAAACYn0AAAAAAAJyfQAAAAAAAoJ9AAAAAAACkn0A=",
          "dtype": "f8"
         },
         "xaxis": "x",
         "y": {
          "bdata": "AQABAAIAAwAEAAUABgAMAB0AFAAhADwAkwDPAPkAkQBiAD8AAgA=",
          "dtype": "i2"
         },
         "yaxis": "y"
        },
        {
         "customdata": [
          [
           "gaming"
          ],
          [
           "gaming"
          ],
          [
           "gaming"
          ],
          [
           "gaming"
          ],
          [
           "gaming"
          ],
          [
           "gaming"
          ],
          [
           "gaming"
          ],
          [
           "gaming"
          ],
          [
           "gaming"
          ],
          [
           "gaming"
          ],
          [
           "gaming"
          ],
          [
           "gaming"
          ],
          [
           "gaming"
          ],
          [
           "gaming"
          ],
          [
           "gaming"
          ],
          [
           "gaming"
          ]
         ],
         "hovertemplate": "Industry=%{customdata[0]}<br>Year Founded=%{x}<br>Number of Companies=%{y}<extra></extra>",
         "legendgroup": "gaming",
         "line": {
          "color": "#00cc96",
          "dash": "solid"
         },
         "marker": {
          "symbol": "circle"
         },
         "mode": "lines",
         "name": "gaming",
         "showlegend": true,
         "type": "scattergl",
         "x": {
          "bdata": "AAAAAABYn0AAAAAAAGCfQAAAAAAAZJ9AAAAAAABon0AAAAAAAGyfQAAAAAAAdJ9AAAAAAAB4n0AAAAAAAICfQAAAAAAAhJ9AAAAAAACIn0AAAAAAAIyfQAAAAAAAkJ9AAAAAAACUn0AAAAAAAJifQAAAAAAAnJ9AAAAAAACgn0A=",
          "dtype": "f8"
         },
         "xaxis": "x",
         "y": {
          "bdata": "AQEBAQEEAwEECgQRHAoIAw==",
          "dtype": "i1"
         },
         "yaxis": "y"
        },
        {
         "customdata": [
          [
           "marketplace"
          ],
          [
           "marketplace"
          ],
          [
           "marketplace"
          ],
          [
           "marketplace"
          ],
          [
           "marketplace"
          ],
          [
           "marketplace"
          ],
          [
           "marketplace"
          ],
          [
           "marketplace"
          ],
          [
           "marketplace"
          ],
          [
           "marketplace"
          ],
          [
           "marketplace"
          ],
          [
           "marketplace"
          ],
          [
           "marketplace"
          ],
          [
           "marketplace"
          ],
          [
           "marketplace"
          ],
          [
           "marketplace"
          ],
          [
           "marketplace"
          ],
          [
           "marketplace"
          ]
         ],
         "hovertemplate": "Industry=%{customdata[0]}<br>Year Founded=%{x}<br>Number of Companies=%{y}<extra></extra>",
         "legendgroup": "marketplace",
         "line": {
          "color": "#ab63fa",
          "dash": "solid"
         },
         "marker": {
          "symbol": "circle"
         },
         "mode": "lines",
         "name": "marketplace",
         "showlegend": true,
         "type": "scattergl",
         "x": {
          "bdata": "AAAAAABYn0AAAAAAAGCfQAAAAAAAZJ9AAAAAAABon0AAAAAAAGyfQAAAAAAAcJ9AAAAAAAB0n0AAAAAAAHifQAAAAAAAfJ9AAAAAAACAn0AAAAAAAISfQAAAAAAAiJ9AAAAAAACMn0AAAAAAAJCfQAAAAAAAlJ9AAAAAAACYn0AAAAAAAJyfQAAAAAAAoJ9A",
          "dtype": "f8"
         },
         "xaxis": "x",
         "y": {
          "bdata": "AQECAQcIBwoQDhQQLkpbHhkJ",
          "dtype": "i1"
         },
         "yaxis": "y"
        },
        {
         "customdata": [
          [
           "media"
          ],
          [
           "media"
          ],
          [
           "media"
          ],
          [
           "media"
          ],
          [
           "media"
          ],
          [
           "media"
          ],
          [
           "media"
          ],
          [
           "media"
          ],
          [
           "media"
          ],
          [
           "media"
          ],
          [
           "media"
          ],
          [
           "media"
          ],
          [
           "media"
          ]
         ],
         "hovertemplate": "Industry=%{customdata[0]}<br>Year Founded=%{x}<br>Number of Companies=%{y}<extra></extra>",
         "legendgroup": "media",
         "line": {
          "color": "#FFA15A",
          "dash": "solid"
         },
         "marker": {
          "symbol": "circle"
         },
         "mode": "lines",
         "name": "media",
         "showlegend": true,
         "type": "scattergl",
         "x": {
          "bdata": "AAAAAABYn0AAAAAAAFyfQAAAAAAAbJ9AAAAAAABwn0AAAAAAAHSfQAAAAAAAfJ9AAAAAAACAn0AAAAAAAIifQAAAAAAAjJ9AAAAAAACQn0AAAAAAAJSfQAAAAAAAmJ9AAAAAAACcn0A=",
          "dtype": "f8"
         },
         "xaxis": "x",
         "y": {
          "bdata": "AQEBAgICAgEBBAcECA==",
          "dtype": "i1"
         },
         "yaxis": "y"
        },
        {
         "customdata": [
          [
           "music"
          ],
          [
           "music"
          ],
          [
           "music"
          ],
          [
           "music"
          ],
          [
           "music"
          ],
          [
           "music"
          ],
          [
           "music"
          ]
         ],
         "hovertemplate": "Industry=%{customdata[0]}<br>Year Founded=%{x}<br>Number of Companies=%{y}<extra></extra>",
         "legendgroup": "music",
         "line": {
          "color": "#19d3f3",
          "dash": "solid"
         },
         "marker": {
          "symbol": "circle"
         },
         "mode": "lines",
         "name": "music",
         "showlegend": true,
         "type": "scattergl",
         "x": {
          "bdata": "AAAAAABYn0AAAAAAAGSfQAAAAAAAaJ9AAAAAAACQn0AAAAAAAJSfQAAAAAAAnJ9AAAAAAACgn0A=",
          "dtype": "f8"
         },
         "xaxis": "x",
         "y": {
          "bdata": "AQEBBAQCAg==",
          "dtype": "i1"
         },
         "yaxis": "y"
        },
        {
         "customdata": [
          [
           "social-media"
          ],
          [
           "social-media"
          ],
          [
           "social-media"
          ],
          [
           "social-media"
          ],
          [
           "social-media"
          ],
          [
           "social-media"
          ],
          [
           "social-media"
          ],
          [
           "social-media"
          ],
          [
           "social-media"
          ],
          [
           "social-media"
          ],
          [
           "social-media"
          ]
         ],
         "hovertemplate": "Industry=%{customdata[0]}<br>Year Founded=%{x}<br>Number of Companies=%{y}<extra></extra>",
         "legendgroup": "social-media",
         "line": {
          "color": "#FF6692",
          "dash": "solid"
         },
         "marker": {
          "symbol": "circle"
         },
         "mode": "lines",
         "name": "social-media",
         "showlegend": true,
         "type": "scattergl",
         "x": {
          "bdata": "AAAAAABYn0AAAAAAAFyfQAAAAAAAeJ9AAAAAAAB8n0AAAAAAAICfQAAAAAAAhJ9AAAAAAACIn0AAAAAAAJCfQAAAAAAAlJ9AAAAAAACcn0AAAAAAAKCfQA==",
          "dtype": "f8"
         },
         "xaxis": "x",
         "y": {
          "bdata": "AQEEAQECAQQECQo=",
          "dtype": "i1"
         },
         "yaxis": "y"
        },
        {
         "customdata": [
          [
           "social-network"
          ],
          [
           "social-network"
          ],
          [
           "social-network"
          ],
          [
           "social-network"
          ],
          [
           "social-network"
          ],
          [
           "social-network"
          ],
          [
           "social-network"
          ],
          [
           "social-network"
          ],
          [
           "social-network"
          ],
          [
           "social-network"
          ]
         ],
         "hovertemplate": "Industry=%{customdata[0]}<br>Year Founded=%{x}<br>Number of Companies=%{y}<extra></extra>",
         "legendgroup": "social-network",
         "line": {
          "color": "#B6E880",
          "dash": "solid"
         },
         "marker": {
          "symbol": "circle"
         },
         "mode": "lines",
         "name": "social-network",
         "showlegend": true,
         "type": "scattergl",
         "x": {
          "bdata": "AAAAAABYn0AAAAAAAFyfQAAAAAAAbJ9AAAAAAABwn0AAAAAAAHyfQAAAAAAAgJ9AAAAAAACEn0AAAAAAAJCfQAAAAAAAlJ9AAAAAAACgn0A=",
          "dtype": "f8"
         },
         "xaxis": "x",
         "y": {
          "bdata": "AQEBAQECAQYCBQ==",
          "dtype": "i1"
         },
         "yaxis": "y"
        },
        {
         "customdata": [
          [
           "video"
          ],
          [
           "video"
          ],
          [
           "video"
          ],
          [
           "video"
          ],
          [
           "video"
          ],
          [
           "video"
          ],
          [
           "video"
          ],
          [
           "video"
          ],
          [
           "video"
          ],
          [
           "video"
          ],
          [
           "video"
          ],
          [
           "video"
          ],
          [
           "video"
          ],
          [
           "video"
          ],
          [
           "video"
          ]
         ],
         "hovertemplate": "Industry=%{customdata[0]}<br>Year Founded=%{x}<br>Number of Companies=%{y}<extra></extra>",
         "legendgroup": "video",
         "line": {
          "color": "#FF97FF",
          "dash": "solid"
         },
         "marker": {
          "symbol": "circle"
         },
         "mode": "lines",
         "name": "video",
         "showlegend": true,
         "type": "scattergl",
         "x": {
          "bdata": "AAAAAABYn0AAAAAAAGyfQAAAAAAAcJ9AAAAAAAB0n0AAAAAAAHifQAAAAAAAfJ9AAAAAAACAn0AAAAAAAISfQAAAAAAAiJ9AAAAAAACMn0AAAAAAAJCfQAAAAAAAlJ9AAAAAAACYn0AAAAAAAJyfQAAAAAAAoJ9A",
          "dtype": "f8"
         },
         "xaxis": "x",
         "y": {
          "bdata": "AQECAgICAQECBQoMDgwJ",
          "dtype": "i1"
         },
         "yaxis": "y"
        },
        {
         "customdata": [
          [
           "ai-enhanced-learning"
          ],
          [
           "ai-enhanced-learning"
          ],
          [
           "ai-enhanced-learning"
          ],
          [
           "ai-enhanced-learning"
          ],
          [
           "ai-enhanced-learning"
          ],
          [
           "ai-enhanced-learning"
          ],
          [
           "ai-enhanced-learning"
          ],
          [
           "ai-enhanced-learning"
          ],
          [
           "ai-enhanced-learning"
          ],
          [
           "ai-enhanced-learning"
          ],
          [
           "ai-enhanced-learning"
          ]
         ],
         "hovertemplate": "Industry=%{customdata[0]}<br>Year Founded=%{x}<br>Number of Companies=%{y}<extra></extra>",
         "legendgroup": "ai-enhanced-learning",
         "line": {
          "color": "#FECB52",
          "dash": "solid"
         },
         "marker": {
          "symbol": "circle"
         },
         "mode": "lines",
         "name": "ai-enhanced-learning",
         "showlegend": true,
         "type": "scattergl",
         "x": {
          "bdata": "AAAAAABcn0AAAAAAAHyfQAAAAAAAgJ9AAAAAAACEn0AAAAAAAIifQAAAAAAAjJ9AAAAAAACQn0AAAAAAAJSfQAAAAAAAmJ9AAAAAAACcn0AAAAAAAKCfQA==",
          "dtype": "f8"
         },
         "xaxis": "x",
         "y": {
          "bdata": "AQECAgECBhEGEAs=",
          "dtype": "i1"
         },
         "yaxis": "y"
        },
        {
         "customdata": [
          [
           "developer-tools"
          ],
          [
           "developer-tools"
          ],
          [
           "developer-tools"
          ],
          [
           "developer-tools"
          ],
          [
           "developer-tools"
          ],
          [
           "developer-tools"
          ],
          [
           "developer-tools"
          ],
          [
           "developer-tools"
          ],
          [
           "developer-tools"
          ],
          [
           "developer-tools"
          ],
          [
           "developer-tools"
          ],
          [
           "developer-tools"
          ],
          [
           "developer-tools"
          ],
          [
           "developer-tools"
          ],
          [
           "developer-tools"
          ],
          [
           "developer-tools"
          ],
          [
           "developer-tools"
          ]
         ],
         "hovertemplate": "Industry=%{customdata[0]}<br>Year Founded=%{x}<br>Number of Companies=%{y}<extra></extra>",
         "legendgroup": "developer-tools",
         "line": {
          "color": "#636efa",
          "dash": "solid"
         },
         "marker": {
          "symbol": "circle"
         },
         "mode": "lines",
         "name": "developer-tools",
         "showlegend": true,
         "type": "scattergl",
         "x": {
          "bdata": "AAAAAABcn0AAAAAAAGifQAAAAAAAbJ9AAAAAAABwn0AAAAAAAHSfQAAAAAAAeJ9AAAAAAAB8n0AAAAAAAICfQAAAAAAAhJ9AAAAAAACIn0AAAAAAAIyfQAAAAAAAkJ9AAAAAAACUn0AAAAAAAJifQAAAAAAAnJ9AAAAAAACgn0AAAAAAAKSfQA==",
          "dtype": "f8"
         },
         "xaxis": "x",
         "y": {
          "bdata": "AQADAAUACQACAAYACgALABQAGwA5AGMAdgBwAL0AdAAOAA==",
          "dtype": "i2"
         },
         "yaxis": "y"
        },
        {
         "customdata": [
          [
           "documents"
          ],
          [
           "documents"
          ],
          [
           "documents"
          ],
          [
           "documents"
          ],
          [
           "documents"
          ],
          [
           "documents"
          ],
          [
           "documents"
          ],
          [
           "documents"
          ],
          [
           "documents"
          ],
          [
           "documents"
          ],
          [
           "documents"
          ],
          [
           "documents"
          ]
         ],
         "hovertemplate": "Industry=%{customdata[0]}<br>Year Founded=%{x}<br>Number of Companies=%{y}<extra></extra>",
         "legendgroup": "documents",
         "line": {
          "color": "#EF553B",
          "dash": "solid"
         },
         "marker": {
          "symbol": "circle"
         },
         "mode": "lines",
         "name": "documents",
         "showlegend": true,
         "type": "scattergl",
         "x": {
          "bdata": "AAAAAABcn0AAAAAAAGyfQAAAAAAAeJ9AAAAAAACAn0AAAAAAAISfQAAAAAAAiJ9AAAAAAACMn0AAAAAAAJCfQAAAAAAAlJ9AAAAAAACYn0AAAAAAAJyfQAAAAAAAoJ9A",
          "dtype": "f8"
         },
         "xaxis": "x",
         "y": {
          "bdata": "AgIBBAECBAYEBhAD",
          "dtype": "i1"
         },
         "yaxis": "y"
        },
        {
         "customdata": [
          [
           "edtech"
          ],
          [
           "edtech"
          ],
          [
           "edtech"
          ],
          [
           "edtech"
          ],
          [
           "edtech"
          ],
          [
           "edtech"
          ],
          [
           "edtech"
          ],
          [
           "edtech"
          ]
         ],
         "hovertemplate": "Industry=%{customdata[0]}<br>Year Founded=%{x}<br>Number of Companies=%{y}<extra></extra>",
         "legendgroup": "edtech",
         "line": {
          "color": "#00cc96",
          "dash": "solid"
         },
         "marker": {
          "symbol": "circle"
         },
         "mode": "lines",
         "name": "edtech",
         "showlegend": true,
         "type": "scattergl",
         "x": {
          "bdata": "AAAAAABcn0AAAAAAAGyfQAAAAAAAgJ9AAAAAAACMn0AAAAAAAJCfQAAAAAAAlJ9AAAAAAACcn0AAAAAAAKCfQA==",
          "dtype": "f8"
         },
         "xaxis": "x",
         "y": {
          "bdata": "AQEBAQYCCAU=",
          "dtype": "i1"
         },
         "yaxis": "y"
        },
        {
         "customdata": [
          [
           "productivity"
          ],
          [
           "productivity"
          ],
          [
           "productivity"
          ],
          [
           "productivity"
          ],
          [
           "productivity"
          ],
          [
           "productivity"
          ],
          [
           "productivity"
          ],
          [
           "productivity"
          ],
          [
           "productivity"
          ],
          [
           "productivity"
          ],
          [
           "productivity"
          ],
          [
           "productivity"
          ],
          [
           "productivity"
          ],
          [
           "productivity"
          ]
         ],
         "hovertemplate": "Industry=%{customdata[0]}<br>Year Founded=%{x}<br>Number of Companies=%{y}<extra></extra>",
         "legendgroup": "productivity",
         "line": {
          "color": "#ab63fa",
          "dash": "solid"
         },
         "marker": {
          "symbol": "circle"
         },
         "mode": "lines",
         "name": "productivity",
         "showlegend": true,
         "type": "scattergl",
         "x": {
          "bdata": "AAAAAABcn0AAAAAAAGyfQAAAAAAAeJ9AAAAAAAB8n0AAAAAAAICfQAAAAAAAhJ9AAAAAAACIn0AAAAAAAIyfQAAAAAAAkJ9AAAAAAACUn0AAAAAAAJifQAAAAAAAnJ9AAAAAAACgn0AAAAAAAKSfQA==",
          "dtype": "f8"
         },
         "xaxis": "x",
         "y": {
          "bdata": "AQEBAQICBwosICghJwg=",
          "dtype": "i1"
         },
         "yaxis": "y"
        },
        {
         "customdata": [
          [
           "remote-work"
          ],
          [
           "remote-work"
          ],
          [
           "remote-work"
          ],
          [
           "remote-work"
          ],
          [
           "remote-work"
          ],
          [
           "remote-work"
          ],
          [
           "remote-work"
          ]
         ],
         "hovertemplate": "Industry=%{customdata[0]}<br>Year Founded=%{x}<br>Number of Companies=%{y}<extra></extra>",
         "legendgroup": "remote-work",
         "line": {
          "color": "#FFA15A",
          "dash": "solid"
         },
         "marker": {
          "symbol": "circle"
         },
         "mode": "lines",
         "name": "remote-work",
         "showlegend": true,
         "type": "scattergl",
         "x": {
          "bdata": "AAAAAABcn0AAAAAAAHSfQAAAAAAAiJ9AAAAAAACMn0AAAAAAAJCfQAAAAAAAlJ9AAAAAAACcn0A=",
          "dtype": "f8"
         },
         "xaxis": "x",
         "y": {
          "bdata": "AQEBBwYIBA==",
          "dtype": "i1"
         },
         "yaxis": "y"
        },
        {
         "customdata": [
          [
           "social"
          ],
          [
           "social"
          ],
          [
           "social"
          ],
          [
           "social"
          ],
          [
           "social"
          ],
          [
           "social"
          ],
          [
           "social"
          ],
          [
           "social"
          ],
          [
           "social"
          ],
          [
           "social"
          ],
          [
           "social"
          ],
          [
           "social"
          ]
         ],
         "hovertemplate": "Industry=%{customdata[0]}<br>Year Founded=%{x}<br>Number of Companies=%{y}<extra></extra>",
         "legendgroup": "social",
         "line": {
          "color": "#19d3f3",
          "dash": "solid"
         },
         "marker": {
          "symbol": "circle"
         },
         "mode": "lines",
         "name": "social",
         "showlegend": true,
         "type": "scattergl",
         "x": {
          "bdata": "AAAAAABcn0AAAAAAAGCfQAAAAAAAcJ9AAAAAAAB0n0AAAAAAAHyfQAAAAAAAhJ9AAAAAAACIn0AAAAAAAIyfQAAAAAAAkJ9AAAAAAACUn0AAAAAAAJifQAAAAAAAoJ9A",
          "dtype": "f8"
         },
         "xaxis": "x",
         "y": {
          "bdata": "AQEDAQIDAQgNEQQD",
          "dtype": "i1"
         },
         "yaxis": "y"
        },
        {
         "customdata": [
          [
           "data-engineering"
          ],
          [
           "data-engineering"
          ],
          [
           "data-engineering"
          ],
          [
           "data-engineering"
          ],
          [
           "data-engineering"
          ],
          [
           "data-engineering"
          ],
          [
           "data-engineering"
          ],
          [
           "data-engineering"
          ],
          [
           "data-engineering"
          ],
          [
           "data-engineering"
          ],
          [
           "data-engineering"
          ],
          [
           "data-engineering"
          ],
          [
           "data-engineering"
          ]
         ],
         "hovertemplate": "Industry=%{customdata[0]}<br>Year Founded=%{x}<br>Number of Companies=%{y}<extra></extra>",
         "legendgroup": "data-engineering",
         "line": {
          "color": "#FF6692",
          "dash": "solid"
         },
         "marker": {
          "symbol": "circle"
         },
         "mode": "lines",
         "name": "data-engineering",
         "showlegend": true,
         "type": "scattergl",
         "x": {
          "bdata": "AAAAAABgn0AAAAAAAHCfQAAAAAAAdJ9AAAAAAAB8n0AAAAAAAICfQAAAAAAAhJ9AAAAAAACIn0AAAAAAAIyfQAAAAAAAkJ9AAAAAAACUn0AAAAAAAJifQAAAAAAAnJ9AAAAAAACgn0A=",
          "dtype": "f8"
         },
         "xaxis": "x",
         "y": {
          "bdata": "AQECAQEEBQYdJxwSCA==",
          "dtype": "i1"
         },
         "yaxis": "y"
        },
        {
         "customdata": [
          [
           "email"
          ],
          [
           "email"
          ],
          [
           "email"
          ],
          [
           "email"
          ],
          [
           "email"
          ],
          [
           "email"
          ],
          [
           "email"
          ],
          [
           "email"
          ]
         ],
         "hovertemplate": "Industry=%{customdata[0]}<br>Year Founded=%{x}<br>Number of Companies=%{y}<extra></extra>",
         "legendgroup": "email",
         "line": {
          "color": "#B6E880",
          "dash": "solid"
         },
         "marker": {
          "symbol": "circle"
         },
         "mode": "lines",
         "name": "email",
         "showlegend": true,
         "type": "scattergl",
         "x": {
          "bdata": "AAAAAABgn0AAAAAAAGifQAAAAAAAeJ9AAAAAAACAn0AAAAAAAJCfQAAAAAAAmJ9AAAAAAACcn0AAAAAAAKCfQA==",
          "dtype": "f8"
         },
         "xaxis": "x",
         "y": {
          "bdata": "AQECAQQEAgM=",
          "dtype": "i1"
         },
         "yaxis": "y"
        },
        {
         "customdata": [
          [
           "food-service-robots-&-machines"
          ],
          [
           "food-service-robots-&-machines"
          ],
          [
           "food-service-robots-&-machines"
          ],
          [
           "food-service-robots-&-machines"
          ],
          [
           "food-service-robots-&-machines"
          ],
          [
           "food-service-robots-&-machines"
          ]
         ],
         "hovertemplate": "Industry=%{customdata[0]}<br>Year Founded=%{x}<br>Number of Companies=%{y}<extra></extra>",
         "legendgroup": "food-service-robots-&-machines",
         "line": {
          "color": "#FF97FF",
          "dash": "solid"
         },
         "marker": {
          "symbol": "circle"
         },
         "mode": "lines",
         "name": "food-service-robots-&-machines",
         "showlegend": true,
         "type": "scattergl",
         "x": {
          "bdata": "AAAAAABgn0AAAAAAAHSfQAAAAAAAeJ9AAAAAAACAn0AAAAAAAJCfQAAAAAAAlJ9A",
          "dtype": "f8"
         },
         "xaxis": "x",
         "y": {
          "bdata": "AQEBAQIE",
          "dtype": "i1"
         },
         "yaxis": "y"
        },
        {
         "customdata": [
          [
           "payments"
          ],
          [
           "payments"
          ],
          [
           "payments"
          ],
          [
           "payments"
          ],
          [
           "payments"
          ],
          [
           "payments"
          ],
          [
           "payments"
          ],
          [
           "payments"
          ],
          [
           "payments"
          ],
          [
           "payments"
          ],
          [
           "payments"
          ],
          [
           "payments"
          ],
          [
           "payments"
          ],
          [
           "payments"
          ],
          [
           "payments"
          ],
          [
           "payments"
          ]
         ],
         "hovertemplate": "Industry=%{customdata[0]}<br>Year Founded=%{x}<br>Number of Companies=%{y}<extra></extra>",
         "legendgroup": "payments",
         "line": {
          "color": "#FECB52",
          "dash": "solid"
         },
         "marker": {
          "symbol": "circle"
         },
         "mode": "lines",
         "name": "payments",
         "showlegend": true,
         "type": "scattergl",
         "x": {
          "bdata": "AAAAAABgn0AAAAAAAGifQAAAAAAAbJ9AAAAAAABwn0AAAAAAAHSfQAAAAAAAeJ9AAAAAAAB8n0AAAAAAAICfQAAAAAAAhJ9AAAAAAACIn0AAAAAAAIyfQAAAAAAAkJ9AAAAAAACUn0AAAAAAAJifQAAAAAAAnJ9AAAAAAACgn0A=",
          "dtype": "f8"
         },
         "xaxis": "x",
         "y": {
          "bdata": "AQEBAQMDAgQEBRUnLCQXDQ==",
          "dtype": "i1"
         },
         "yaxis": "y"
        },
        {
         "customdata": [
          [
           "proptech"
          ],
          [
           "proptech"
          ],
          [
           "proptech"
          ],
          [
           "proptech"
          ],
          [
           "proptech"
          ],
          [
           "proptech"
          ],
          [
           "proptech"
          ],
          [
           "proptech"
          ],
          [
           "proptech"
          ],
          [
           "proptech"
          ],
          [
           "proptech"
          ],
          [
           "proptech"
          ],
          [
           "proptech"
          ]
         ],
         "hovertemplate": "Industry=%{customdata[0]}<br>Year Founded=%{x}<br>Number of Companies=%{y}<extra></extra>",
         "legendgroup": "proptech",
         "line": {
          "color": "#636efa",
          "dash": "solid"
         },
         "marker": {
          "symbol": "circle"
         },
         "mode": "lines",
         "name": "proptech",
         "showlegend": true,
         "type": "scattergl",
         "x": {
          "bdata": "AAAAAABgn0AAAAAAAGyfQAAAAAAAdJ9AAAAAAAB8n0AAAAAAAICfQAAAAAAAhJ9AAAAAAACIn0AAAAAAAIyfQAAAAAAAkJ9AAAAAAACUn0AAAAAAAJifQAAAAAAAnJ9AAAAAAACgn0A=",
          "dtype": "f8"
         },
         "xaxis": "x",
         "y": {
          "bdata": "AQECBAIECBYMICMKCw==",
          "dtype": "i1"
         },
         "yaxis": "y"
        },
        {
         "customdata": [
          [
           "restaurant-tech"
          ],
          [
           "restaurant-tech"
          ],
          [
           "restaurant-tech"
          ],
          [
           "restaurant-tech"
          ],
          [
           "restaurant-tech"
          ]
         ],
         "hovertemplate": "Industry=%{customdata[0]}<br>Year Founded=%{x}<br>Number of Companies=%{y}<extra></extra>",
         "legendgroup": "restaurant-tech",
         "line": {
          "color": "#EF553B",
          "dash": "solid"
         },
         "marker": {
          "symbol": "circle"
         },
         "mode": "lines",
         "name": "restaurant-tech",
         "showlegend": true,
         "type": "scattergl",
         "x": {
          "bdata": "AAAAAABgn0AAAAAAAHifQAAAAAAAjJ9AAAAAAACUn0AAAAAAAJifQA==",
          "dtype": "f8"
         },
         "xaxis": "x",
         "y": {
          "bdata": "AQEBAwQ=",
          "dtype": "i1"
         },
         "yaxis": "y"
        },
        {
         "customdata": [
          [
           "travel"
          ],
          [
           "travel"
          ],
          [
           "travel"
          ],
          [
           "travel"
          ],
          [
           "travel"
          ],
          [
           "travel"
          ],
          [
           "travel"
          ],
          [
           "travel"
          ],
          [
           "travel"
          ],
          [
           "travel"
          ],
          [
           "travel"
          ],
          [
           "travel"
          ]
         ],
         "hovertemplate": "Industry=%{customdata[0]}<br>Year Founded=%{x}<br>Number of Companies=%{y}<extra></extra>",
         "legendgroup": "travel",
         "line": {
          "color": "#00cc96",
          "dash": "solid"
         },
         "marker": {
          "symbol": "circle"
         },
         "mode": "lines",
         "name": "travel",
         "showlegend": true,
         "type": "scattergl",
         "x": {
          "bdata": "AAAAAABgn0AAAAAAAGyfQAAAAAAAcJ9AAAAAAAB0n0AAAAAAAHifQAAAAAAAfJ9AAAAAAACEn0AAAAAAAIyfQAAAAAAAkJ9AAAAAAACUn0AAAAAAAJyfQAAAAAAAoJ9A",
          "dtype": "f8"
         },
         "xaxis": "x",
         "y": {
          "bdata": "AQECAgECAwwGCAsF",
          "dtype": "i1"
         },
         "yaxis": "y"
        },
        {
         "customdata": [
          [
           "analytics"
          ],
          [
           "analytics"
          ],
          [
           "analytics"
          ],
          [
           "analytics"
          ],
          [
           "analytics"
          ],
          [
           "analytics"
          ],
          [
           "analytics"
          ],
          [
           "analytics"
          ],
          [
           "analytics"
          ],
          [
           "analytics"
          ],
          [
           "analytics"
          ],
          [
           "analytics"
          ],
          [
           "analytics"
          ],
          [
           "analytics"
          ],
          [
           "analytics"
          ],
          [
           "analytics"
          ]
         ],
         "hovertemplate": "Industry=%{customdata[0]}<br>Year Founded=%{x}<br>Number of Companies=%{y}<extra></extra>",
         "legendgroup": "analytics",
         "line": {
          "color": "#ab63fa",
          "dash": "solid"
         },
         "marker": {
          "symbol": "circle"
         },
         "mode": "lines",
         "name": "analytics",
         "showlegend": true,
         "type": "scattergl",
         "x": {
          "bdata": "AAAAAABkn0AAAAAAAGifQAAAAAAAbJ9AAAAAAABwn0AAAAAAAHSfQAAAAAAAeJ9AAAAAAAB8n0AAAAAAAISfQAAAAAAAiJ9AAAAAAACMn0AAAAAAAJCfQAAAAAAAlJ9AAAAAAACYn0AAAAAAAJyfQAAAAAAAoJ9AAAAAAACkn0A=",
          "dtype": "f8"
         },
         "xaxis": "x",
         "y": {
          "bdata": "AQEBBAUCAQYCDSYrLjEVAw==",
          "dtype": "i1"
         },
         "yaxis": "y"
        },
        {
         "customdata": [
          [
           "api"
          ],
          [
           "api"
          ],
          [
           "api"
          ],
          [
           "api"
          ],
          [
           "api"
          ],
          [
           "api"
          ],
          [
           "api"
          ],
          [
           "api"
          ],
          [
           "api"
          ],
          [
           "api"
          ],
          [
           "api"
          ],
          [
           "api"
          ],
          [
           "api"
          ],
          [
           "api"
          ]
         ],
         "hovertemplate": "Industry=%{customdata[0]}<br>Year Founded=%{x}<br>Number of Companies=%{y}<extra></extra>",
         "legendgroup": "api",
         "line": {
          "color": "#FFA15A",
          "dash": "solid"
         },
         "marker": {
          "symbol": "circle"
         },
         "mode": "lines",
         "name": "api",
         "showlegend": true,
         "type": "scattergl",
         "x": {
          "bdata": "AAAAAABkn0AAAAAAAGyfQAAAAAAAdJ9AAAAAAAB4n0AAAAAAAHyfQAAAAAAAgJ9AAAAAAACEn0AAAAAAAIifQAAAAAAAjJ9AAAAAAACQn0AAAAAAAJSfQAAAAAAAmJ9AAAAAAACcn0AAAAAAAKCfQA==",
          "dtype": "f8"
         },
         "xaxis": "x",
         "y": {
          "bdata": "AQECAQIDCQgKISs1IhA=",
          "dtype": "i1"
         },
         "yaxis": "y"
        },
        {
         "customdata": [
          [
           "automation"
          ],
          [
           "automation"
          ],
          [
           "automation"
          ],
          [
           "automation"
          ],
          [
           "automation"
          ],
          [
           "automation"
          ],
          [
           "automation"
          ],
          [
           "automation"
          ],
          [
           "automation"
          ],
          [
           "automation"
          ],
          [
           "automation"
          ],
          [
           "automation"
          ]
         ],
         "hovertemplate": "Industry=%{customdata[0]}<br>Year Founded=%{x}<br>Number of Companies=%{y}<extra></extra>",
         "legendgroup": "automation",
         "line": {
          "color": "#19d3f3",
          "dash": "solid"
         },
         "marker": {
          "symbol": "circle"
         },
         "mode": "lines",
         "name": "automation",
         "showlegend": true,
         "type": "scattergl",
         "x": {
          "bdata": "AAAAAABkn0AAAAAAAGyfQAAAAAAAeJ9AAAAAAACEn0AAAAAAAIifQAAAAAAAjJ9AAAAAAACQn0AAAAAAAJSfQAAAAAAAmJ9AAAAAAACcn0AAAAAAAKCfQAAAAAAApJ9A",
          "dtype": "f8"
         },
         "xaxis": "x",
         "y": {
          "bdata": "AQEBAQIDBAgKHCQD",
          "dtype": "i1"
         },
         "yaxis": "y"
        },
        {
         "customdata": [
          [
           "banking-as-a-service"
          ],
          [
           "banking-as-a-service"
          ],
          [
           "banking-as-a-service"
          ],
          [
           "banking-as-a-service"
          ],
          [
           "banking-as-a-service"
          ],
          [
           "banking-as-a-service"
          ],
          [
           "banking-as-a-service"
          ],
          [
           "banking-as-a-service"
          ],
          [
           "banking-as-a-service"
          ]
         ],
         "hovertemplate": "Industry=%{customdata[0]}<br>Year Founded=%{x}<br>Number of Companies=%{y}<extra></extra>",
         "legendgroup": "banking-as-a-service",
         "line": {
          "color": "#FF6692",
          "dash": "solid"
         },
         "marker": {
          "symbol": "circle"
         },
         "mode": "lines",
         "name": "banking-as-a-service",
         "showlegend": true,
         "type": "scattergl",
         "x": {
          "bdata": "AAAAAABkn0AAAAAAAHifQAAAAAAAfJ9AAAAAAACEn0AAAAAAAIifQAAAAAAAjJ9AAAAAAACQn0AAAAAAAJSfQAAAAAAAmJ9A",
          "dtype": "f8"
         },
         "xaxis": "x",
         "y": {
          "bdata": "AQECAgMIBgwC",
          "dtype": "i1"
         },
         "yaxis": "y"
        },
        {
         "customdata": [
          [
           "cloud-computing"
          ],
          [
           "cloud-computing"
          ],
          [
           "cloud-computing"
          ],
          [
           "cloud-computing"
          ],
          [
           "cloud-computing"
          ],
          [
           "cloud-computing"
          ],
          [
           "cloud-computing"
          ],
          [
           "cloud-computing"
          ],
          [
           "cloud-computing"
          ],
          [
           "cloud-computing"
          ]
         ],
         "hovertemplate": "Industry=%{customdata[0]}<br>Year Founded=%{x}<br>Number of Companies=%{y}<extra></extra>",
         "legendgroup": "cloud-computing",
         "line": {
          "color": "#B6E880",
          "dash": "solid"
         },
         "marker": {
          "symbol": "circle"
         },
         "mode": "lines",
         "name": "cloud-computing",
         "showlegend": true,
         "type": "scattergl",
         "x": {
          "bdata": "AAAAAABkn0AAAAAAAGyfQAAAAAAAdJ9AAAAAAACMn0AAAAAAAJCfQAAAAAAAlJ9AAAAAAACYn0AAAAAAAJyfQAAAAAAAoJ9AAAAAAACkn0A=",
          "dtype": "f8"
         },
         "xaxis": "x",
         "y": {
          "bdata": "AQIBAQoIBg8SAw==",
          "dtype": "i1"
         },
         "yaxis": "y"
        },
        {
         "customdata": [
          [
           "crowdfunding"
          ],
          [
           "crowdfunding"
          ],
          [
           "crowdfunding"
          ],
          [
           "crowdfunding"
          ]
         ],
         "hovertemplate": "Industry=%{customdata[0]}<br>Year Founded=%{x}<br>Number of Companies=%{y}<extra></extra>",
         "legendgroup": "crowdfunding",
         "line": {
          "color": "#FF97FF",
          "dash": "solid"
         },
         "marker": {
          "symbol": "circle"
         },
         "mode": "lines",
         "name": "crowdfunding",
         "showlegend": true,
         "type": "scattergl",
         "x": {
          "bdata": "AAAAAABkn0AAAAAAAGyfQAAAAAAAcJ9AAAAAAACUn0A=",
          "dtype": "f8"
         },
         "xaxis": "x",
         "y": {
          "bdata": "AQECAg==",
          "dtype": "i1"
         },
         "yaxis": "y"
        },
        {
         "customdata": [
          [
           "crypto-web3"
          ],
          [
           "crypto-web3"
          ],
          [
           "crypto-web3"
          ],
          [
           "crypto-web3"
          ],
          [
           "crypto-web3"
          ],
          [
           "crypto-web3"
          ],
          [
           "crypto-web3"
          ],
          [
           "crypto-web3"
          ],
          [
           "crypto-web3"
          ],
          [
           "crypto-web3"
          ],
          [
           "crypto-web3"
          ],
          [
           "crypto-web3"
          ],
          [
           "crypto-web3"
          ]
         ],
         "hovertemplate": "Industry=%{customdata[0]}<br>Year Founded=%{x}<br>Number of Companies=%{y}<extra></extra>",
         "legendgroup": "crypto-web3",
         "line": {
          "color": "#FECB52",
          "dash": "solid"
         },
         "marker": {
          "symbol": "circle"
         },
         "mode": "lines",
         "name": "crypto-web3",
         "showlegend": true,
         "type": "scattergl",
         "x": {
          "bdata": "AAAAAABkn0AAAAAAAHCfQAAAAAAAdJ9AAAAAAAB4n0AAAAAAAHyfQAAAAAAAhJ9AAAAAAACIn0AAAAAAAIyfQAAAAAAAkJ9AAAAAAACUn0AAAAAAAJifQAAAAAAAnJ9AAAAAAACgn0A=",
          "dtype": "f8"
         },
         "xaxis": "x",
         "y": {
          "bdata": "AQEBBAEKCwgOOBgJAw==",
          "dtype": "i1"
         },
         "yaxis": "y"
        },
        {
         "customdata": [
          [
           "data-visualization"
          ],
          [
           "data-visualization"
          ],
          [
           "data-visualization"
          ],
          [
           "data-visualization"
          ],
          [
           "data-visualization"
          ],
          [
           "data-visualization"
          ],
          [
           "data-visualization"
          ],
          [
           "data-visualization"
          ],
          [
           "data-visualization"
          ]
         ],
         "hovertemplate": "Industry=%{customdata[0]}<br>Year Founded=%{x}<br>Number of Companies=%{y}<extra></extra>",
         "legendgroup": "data-visualization",
         "line": {
          "color": "#636efa",
          "dash": "solid"
         },
         "marker": {
          "symbol": "circle"
         },
         "mode": "lines",
         "name": "data-visualization",
         "showlegend": true,
         "type": "scattergl",
         "x": {
          "bdata": "AAAAAABkn0AAAAAAAHCfQAAAAAAAdJ9AAAAAAACMn0AAAAAAAJCfQAAAAAAAlJ9AAAAAAACYn0AAAAAAAJyfQAAAAAAAoJ9A",
          "dtype": "f8"
         },
         "xaxis": "x",
         "y": {
          "bdata": "AQEBAQgGBxIJ",
          "dtype": "i1"
         },
         "yaxis": "y"
        },
        {
         "customdata": [
          [
           "databases"
          ],
          [
           "databases"
          ],
          [
           "databases"
          ],
          [
           "databases"
          ],
          [
           "databases"
          ],
          [
           "databases"
          ],
          [
           "databases"
          ],
          [
           "databases"
          ]
         ],
         "hovertemplate": "Industry=%{customdata[0]}<br>Year Founded=%{x}<br>Number of Companies=%{y}<extra></extra>",
         "legendgroup": "databases",
         "line": {
          "color": "#EF553B",
          "dash": "solid"
         },
         "marker": {
          "symbol": "circle"
         },
         "mode": "lines",
         "name": "databases",
         "showlegend": true,
         "type": "scattergl",
         "x": {
          "bdata": "AAAAAABkn0AAAAAAAHCfQAAAAAAAjJ9AAAAAAACQn0AAAAAAAJSfQAAAAAAAmJ9AAAAAAACcn0AAAAAAAKCfQA==",
          "dtype": "f8"
         },
         "xaxis": "x",
         "y": {
          "bdata": "AQECBAYEEgc=",
          "dtype": "i1"
         },
         "yaxis": "y"
        },
        {
         "customdata": [
          [
           "diagnostics"
          ],
          [
           "diagnostics"
          ],
          [
           "diagnostics"
          ],
          [
           "diagnostics"
          ],
          [
           "diagnostics"
          ],
          [
           "diagnostics"
          ],
          [
           "diagnostics"
          ],
          [
           "diagnostics"
          ],
          [
           "diagnostics"
          ],
          [
           "diagnostics"
          ],
          [
           "diagnostics"
          ]
         ],
         "hovertemplate": "Industry=%{customdata[0]}<br>Year Founded=%{x}<br>Number of Companies=%{y}<extra></extra>",
         "legendgroup": "diagnostics",
         "line": {
          "color": "#00cc96",
          "dash": "solid"
         },
         "marker": {
          "symbol": "circle"
         },
         "mode": "lines",
         "name": "diagnostics",
         "showlegend": true,
         "type": "scattergl",
         "x": {
          "bdata": "AAAAAABkn0AAAAAAAHifQAAAAAAAfJ9AAAAAAACAn0AAAAAAAISfQAAAAAAAiJ9AAAAAAACMn0AAAAAAAJCfQAAAAAAAlJ9AAAAAAACYn0AAAAAAAJyfQA==",
          "dtype": "f8"
         },
         "xaxis": "x",
         "y": {
          "bdata": "AQIDAgEFAgoGBgM=",
          "dtype": "i1"
         },
         "yaxis": "y"
        },
        {
         "customdata": [
          [
           "food-tech"
          ],
          [
           "food-tech"
          ],
          [
           "food-tech"
          ],
          [
           "food-tech"
          ],
          [
           "food-tech"
          ],
          [
           "food-tech"
          ],
          [
           "food-tech"
          ],
          [
           "food-tech"
          ],
          [
           "food-tech"
          ],
          [
           "food-tech"
          ],
          [
           "food-tech"
          ]
         ],
         "hovertemplate": "Industry=%{customdata[0]}<br>Year Founded=%{x}<br>Number of Companies=%{y}<extra></extra>",
         "legendgroup": "food-tech",
         "line": {
          "color": "#ab63fa",
          "dash": "solid"
         },
         "marker": {
          "symbol": "circle"
         },
         "mode": "lines",
         "name": "food-tech",
         "showlegend": true,
         "type": "scattergl",
         "x": {
          "bdata": "AAAAAABkn0AAAAAAAHifQAAAAAAAgJ9AAAAAAACEn0AAAAAAAIifQAAAAAAAjJ9AAAAAAACQn0AAAAAAAJSfQAAAAAAAmJ9AAAAAAACcn0AAAAAAAKSfQA==",
          "dtype": "f8"
         },
         "xaxis": "x",
         "y": {
          "bdata": "AQICBQMKDhEKAgM=",
          "dtype": "i1"
         },
         "yaxis": "y"
        },
        {
         "customdata": [
          [
           "genomics"
          ],
          [
           "genomics"
          ],
          [
           "genomics"
          ],
          [
           "genomics"
          ],
          [
           "genomics"
          ],
          [
           "genomics"
          ],
          [
           "genomics"
          ],
          [
           "genomics"
          ],
          [
           "genomics"
          ],
          [
           "genomics"
          ]
         ],
         "hovertemplate": "Industry=%{customdata[0]}<br>Year Founded=%{x}<br>Number of Companies=%{y}<extra></extra>",
         "legendgroup": "genomics",
         "line": {
          "color": "#FFA15A",
          "dash": "solid"
         },
         "marker": {
          "symbol": "circle"
         },
         "mode": "lines",
         "name": "genomics",
         "showlegend": true,
         "type": "scattergl",
         "x": {
          "bdata": "AAAAAABkn0AAAAAAAHSfQAAAAAAAeJ9AAAAAAAB8n0AAAAAAAICfQAAAAAAAhJ9AAAAAAACIn0AAAAAAAIyfQAAAAAAAkJ9AAAAAAACYn0A=",
          "dtype": "f8"
         },
         "xaxis": "x",
         "y": {
          "bdata": "AQEBAgMDAwgCAg==",
          "dtype": "i1"
         },
         "yaxis": "y"
        },
        {
         "customdata": [
          [
           "healthcare"
          ],
          [
           "healthcare"
          ],
          [
           "healthcare"
          ],
          [
           "healthcare"
          ],
          [
           "healthcare"
          ],
          [
           "healthcare"
          ],
          [
           "healthcare"
          ],
          [
           "healthcare"
          ],
          [
           "healthcare"
          ],
          [
           "healthcare"
          ],
          [
           "healthcare"
          ],
          [
           "healthcare"
          ],
          [
           "healthcare"
          ],
          [
           "healthcare"
          ]
         ],
         "hovertemplate": "Industry=%{customdata[0]}<br>Year Founded=%{x}<br>Number of Companies=%{y}<extra></extra>",
         "legendgroup": "healthcare",
         "line": {
          "color": "#19d3f3",
          "dash": "solid"
         },
         "marker": {
          "symbol": "circle"
         },
         "mode": "lines",
         "name": "healthcare",
         "showlegend": true,
         "type": "scattergl",
         "x": {
          "bdata": "AAAAAABkn0AAAAAAAGyfQAAAAAAAcJ9AAAAAAAB4n0AAAAAAAHyfQAAAAAAAgJ9AAAAAAACEn0AAAAAAAIifQAAAAAAAjJ9AAAAAAACQn0AAAAAAAJSfQAAAAAAAmJ9AAAAAAACcn0AAAAAAAKCfQA==",
          "dtype": "f8"
         },
         "xaxis": "x",
         "y": {
          "bdata": "AQMBAggJDgoRIj0mJiE=",
          "dtype": "i1"
         },
         "yaxis": "y"
        },
        {
         "customdata": [
          [
           "machine-learning"
          ],
          [
           "machine-learning"
          ],
          [
           "machine-learning"
          ],
          [
           "machine-learning"
          ],
          [
           "machine-learning"
          ],
          [
           "machine-learning"
          ],
          [
           "machine-learning"
          ],
          [
           "machine-learning"
          ],
          [
           "machine-learning"
          ],
          [
           "machine-learning"
          ],
          [
           "machine-learning"
          ],
          [
           "machine-learning"
          ],
          [
           "machine-learning"
          ],
          [
           "machine-learning"
          ],
          [
           "machine-learning"
          ]
         ],
         "hovertemplate": "Industry=%{customdata[0]}<br>Year Founded=%{x}<br>Number of Companies=%{y}<extra></extra>",
         "legendgroup": "machine-learning",
         "line": {
          "color": "#FF6692",
          "dash": "solid"
         },
         "marker": {
          "symbol": "circle"
         },
         "mode": "lines",
         "name": "machine-learning",
         "showlegend": true,
         "type": "scattergl",
         "x": {
          "bdata": "AAAAAABkn0AAAAAAAGyfQAAAAAAAcJ9AAAAAAAB0n0AAAAAAAHifQAAAAAAAfJ9AAAAAAACAn0AAAAAAAISfQAAAAAAAiJ9AAAAAAACMn0AAAAAAAJCfQAAAAAAAlJ9AAAAAAACYn0AAAAAAAJyfQAAAAAAAoJ9A",
          "dtype": "f8"
         },
         "xaxis": "x",
         "y": {
          "bdata": "AQIBAwYGBRIVHUNDKCsi",
          "dtype": "i1"
         },
         "yaxis": "y"
        },
        {
         "customdata": [
          [
           "real-estate"
          ],
          [
           "real-estate"
          ],
          [
           "real-estate"
          ],
          [
           "real-estate"
          ],
          [
           "real-estate"
          ],
          [
           "real-estate"
          ],
          [
           "real-estate"
          ],
          [
           "real-estate"
          ],
          [
           "real-estate"
          ],
          [
           "real-estate"
          ],
          [
           "real-estate"
          ],
          [
           "real-estate"
          ],
          [
           "real-estate"
          ],
          [
           "real-estate"
          ]
         ],
         "hovertemplate": "Industry=%{customdata[0]}<br>Year Founded=%{x}<br>Number of Companies=%{y}<extra></extra>",
         "legendgroup": "real-estate",
         "line": {
          "color": "#B6E880",
          "dash": "solid"
         },
         "marker": {
          "symbol": "circle"
         },
         "mode": "lines",
         "name": "real-estate",
         "showlegend": true,
         "type": "scattergl",
         "x": {
          "bdata": "AAAAAABkn0AAAAAAAGyfQAAAAAAAdJ9AAAAAAAB4n0AAAAAAAHyfQAAAAAAAgJ9AAAAAAACEn0AAAAAAAIifQAAAAAAAjJ9AAAAAAACQn0AAAAAAAJSfQAAAAAAAmJ9AAAAAAACcn0AAAAAAAKCfQA==",
          "dtype": "f8"
         },
         "xaxis": "x",
         "y": {
          "bdata": "AQEDAQIEAgYGCgoVDxA=",
          "dtype": "i1"
         },
         "yaxis": "y"
        },
        {
         "customdata": [
          [
           "sustainability"
          ],
          [
           "sustainability"
          ],
          [
           "sustainability"
          ],
          [
           "sustainability"
          ],
          [
           "sustainability"
          ],
          [
           "sustainability"
          ],
          [
           "sustainability"
          ],
          [
           "sustainability"
          ],
          [
           "sustainability"
          ]
         ],
         "hovertemplate": "Industry=%{customdata[0]}<br>Year Founded=%{x}<br>Number of Companies=%{y}<extra></extra>",
         "legendgroup": "sustainability",
         "line": {
          "color": "#FF97FF",
          "dash": "solid"
         },
         "marker": {
          "symbol": "circle"
         },
         "mode": "lines",
         "name": "sustainability",
         "showlegend": true,
         "type": "scattergl",
         "x": {
          "bdata": "AAAAAABkn0AAAAAAAGyfQAAAAAAAdJ9AAAAAAAB4n0AAAAAAAHyfQAAAAAAAgJ9AAAAAAACIn0AAAAAAAJSfQAAAAAAAnJ9A",
          "dtype": "f8"
         },
         "xaxis": "x",
         "y": {
          "bdata": "AQEBAgECAQQC",
          "dtype": "i1"
         },
         "yaxis": "y"
        },
        {
         "customdata": [
          [
           "synthetic-biology"
          ],
          [
           "synthetic-biology"
          ],
          [
           "synthetic-biology"
          ],
          [
           "synthetic-biology"
          ],
          [
           "synthetic-biology"
          ],
          [
           "synthetic-biology"
          ],
          [
           "synthetic-biology"
          ],
          [
           "synthetic-biology"
          ],
          [
           "synthetic-biology"
          ],
          [
           "synthetic-biology"
          ],
          [
           "synthetic-biology"
          ]
         ],
         "hovertemplate": "Industry=%{customdata[0]}<br>Year Founded=%{x}<br>Number of Companies=%{y}<extra></extra>",
         "legendgroup": "synthetic-biology",
         "line": {
          "color": "#FECB52",
          "dash": "solid"
         },
         "marker": {
          "symbol": "circle"
         },
         "mode": "lines",
         "name": "synthetic-biology",
         "showlegend": true,
         "type": "scattergl",
         "x": {
          "bdata": "AAAAAABkn0AAAAAAAHifQAAAAAAAgJ9AAAAAAACEn0AAAAAAAIifQAAAAAAAjJ9AAAAAAACQn0AAAAAAAJSfQAAAAAAAmJ9AAAAAAACcn0AAAAAAAKCfQA==",
          "dtype": "f8"
         },
         "xaxis": "x",
         "y": {
          "bdata": "AQEBAQUEBAwGAg8=",
          "dtype": "i1"
         },
         "yaxis": "y"
        },
        {
         "customdata": [
          [
           "telemedicine"
          ],
          [
           "telemedicine"
          ],
          [
           "telemedicine"
          ],
          [
           "telemedicine"
          ],
          [
           "telemedicine"
          ],
          [
           "telemedicine"
          ],
          [
           "telemedicine"
          ],
          [
           "telemedicine"
          ],
          [
           "telemedicine"
          ],
          [
           "telemedicine"
          ]
         ],
         "hovertemplate": "Industry=%{customdata[0]}<br>Year Founded=%{x}<br>Number of Companies=%{y}<extra></extra>",
         "legendgroup": "telemedicine",
         "line": {
          "color": "#636efa",
          "dash": "solid"
         },
         "marker": {
          "symbol": "circle"
         },
         "mode": "lines",
         "name": "telemedicine",
         "showlegend": true,
         "type": "scattergl",
         "x": {
          "bdata": "AAAAAABkn0AAAAAAAHifQAAAAAAAfJ9AAAAAAACAn0AAAAAAAISfQAAAAAAAiJ9AAAAAAACMn0AAAAAAAJCfQAAAAAAAlJ9AAAAAAACYn0A=",
          "dtype": "f8"
         },
         "xaxis": "x",
         "y": {
          "bdata": "AQEBAgEHCQYLCA==",
          "dtype": "i1"
         },
         "yaxis": "y"
        },
        {
         "customdata": [
          [
           "advertising"
          ],
          [
           "advertising"
          ],
          [
           "advertising"
          ],
          [
           "advertising"
          ],
          [
           "advertising"
          ],
          [
           "advertising"
          ],
          [
           "advertising"
          ],
          [
           "advertising"
          ]
         ],
         "hovertemplate": "Industry=%{customdata[0]}<br>Year Founded=%{x}<br>Number of Companies=%{y}<extra></extra>",
         "legendgroup": "advertising",
         "line": {
          "color": "#EF553B",
          "dash": "solid"
         },
         "marker": {
          "symbol": "circle"
         },
         "mode": "lines",
         "name": "advertising",
         "showlegend": true,
         "type": "scattergl",
         "x": {
          "bdata": "AAAAAABon0AAAAAAAHSfQAAAAAAAhJ9AAAAAAACIn0AAAAAAAIyfQAAAAAAAkJ9AAAAAAACUn0AAAAAAAJyfQA==",
          "dtype": "f8"
         },
         "xaxis": "x",
         "y": {
          "bdata": "AQEBAQEEBgQ=",
          "dtype": "i1"
         },
         "yaxis": "y"
        },
        {
         "customdata": [
          [
           "ai-powered-drug-discovery"
          ],
          [
           "ai-powered-drug-discovery"
          ],
          [
           "ai-powered-drug-discovery"
          ],
          [
           "ai-powered-drug-discovery"
          ],
          [
           "ai-powered-drug-discovery"
          ],
          [
           "ai-powered-drug-discovery"
          ],
          [
           "ai-powered-drug-discovery"
          ],
          [
           "ai-powered-drug-discovery"
          ],
          [
           "ai-powered-drug-discovery"
          ],
          [
           "ai-powered-drug-discovery"
          ],
          [
           "ai-powered-drug-discovery"
          ],
          [
           "ai-powered-drug-discovery"
          ]
         ],
         "hovertemplate": "Industry=%{customdata[0]}<br>Year Founded=%{x}<br>Number of Companies=%{y}<extra></extra>",
         "legendgroup": "ai-powered-drug-discovery",
         "line": {
          "color": "#00cc96",
          "dash": "solid"
         },
         "marker": {
          "symbol": "circle"
         },
         "mode": "lines",
         "name": "ai-powered-drug-discovery",
         "showlegend": true,
         "type": "scattergl",
         "x": {
          "bdata": "AAAAAABon0AAAAAAAHifQAAAAAAAfJ9AAAAAAACAn0AAAAAAAISfQAAAAAAAiJ9AAAAAAACMn0AAAAAAAJCfQAAAAAAAlJ9AAAAAAACYn0AAAAAAAJyfQAAAAAAAoJ9A",
          "dtype": "f8"
         },
         "xaxis": "x",
         "y": {
          "bdata": "AQEBAwIDAwoKBgQE",
          "dtype": "i1"
         },
         "yaxis": "y"
        },
        {
         "customdata": [
          [
           "deep-learning"
          ],
          [
           "deep-learning"
          ],
          [
           "deep-learning"
          ],
          [
           "deep-learning"
          ],
          [
           "deep-learning"
          ],
          [
           "deep-learning"
          ],
          [
           "deep-learning"
          ],
          [
           "deep-learning"
          ],
          [
           "deep-learning"
          ],
          [
           "deep-learning"
          ],
          [
           "deep-learning"
          ],
          [
           "deep-learning"
          ]
         ],
         "hovertemplate": "Industry=%{customdata[0]}<br>Year Founded=%{x}<br>Number of Companies=%{y}<extra></extra>",
         "legendgroup": "deep-learning",
         "line": {
          "color": "#ab63fa",
          "dash": "solid"
         },
         "marker": {
          "symbol": "circle"
         },
         "mode": "lines",
         "name": "deep-learning",
         "showlegend": true,
         "type": "scattergl",
         "x": {
          "bdata": "AAAAAABon0AAAAAAAHifQAAAAAAAfJ9AAAAAAACAn0AAAAAAAISfQAAAAAAAiJ9AAAAAAACMn0AAAAAAAJCfQAAAAAAAlJ9AAAAAAACYn0AAAAAAAJyfQAAAAAAAoJ9A",
          "dtype": "f8"
         },
         "xaxis": "x",
         "y": {
          "bdata": "AQIBAQIHBQwEAgYC",
          "dtype": "i1"
         },
         "yaxis": "y"
        },
        {
         "customdata": [
          [
           "design-tools"
          ],
          [
           "design-tools"
          ],
          [
           "design-tools"
          ],
          [
           "design-tools"
          ],
          [
           "design-tools"
          ],
          [
           "design-tools"
          ],
          [
           "design-tools"
          ],
          [
           "design-tools"
          ],
          [
           "design-tools"
          ],
          [
           "design-tools"
          ],
          [
           "design-tools"
          ],
          [
           "design-tools"
          ],
          [
           "design-tools"
          ],
          [
           "design-tools"
          ]
         ],
         "hovertemplate": "Industry=%{customdata[0]}<br>Year Founded=%{x}<br>Number of Companies=%{y}<extra></extra>",
         "legendgroup": "design-tools",
         "line": {
          "color": "#FFA15A",
          "dash": "solid"
         },
         "marker": {
          "symbol": "circle"
         },
         "mode": "lines",
         "name": "design-tools",
         "showlegend": true,
         "type": "scattergl",
         "x": {
          "bdata": "AAAAAABon0AAAAAAAHCfQAAAAAAAeJ9AAAAAAAB8n0AAAAAAAICfQAAAAAAAhJ9AAAAAAACIn0AAAAAAAIyfQAAAAAAAkJ9AAAAAAACUn0AAAAAAAJifQAAAAAAAnJ9AAAAAAACgn0AAAAAAAKSfQA==",
          "dtype": "f8"
         },
         "xaxis": "x",
         "y": {
          "bdata": "AQECBgEFBAQQCgQOBQM=",
          "dtype": "i1"
         },
         "yaxis": "y"
        },
        {
         "customdata": [
          [
           "education"
          ],
          [
           "education"
          ],
          [
           "education"
          ],
          [
           "education"
          ],
          [
           "education"
          ],
          [
           "education"
          ],
          [
           "education"
          ],
          [
           "education"
          ],
          [
           "education"
          ],
          [
           "education"
          ],
          [
           "education"
          ],
          [
           "education"
          ],
          [
           "education"
          ],
          [
           "education"
          ],
          [
           "education"
          ]
         ],
         "hovertemplate": "Industry=%{customdata[0]}<br>Year Founded=%{x}<br>Number of Companies=%{y}<extra></extra>",
         "legendgroup": "education",
         "line": {
          "color": "#19d3f3",
          "dash": "solid"
         },
         "marker": {
          "symbol": "circle"
         },
         "mode": "lines",
         "name": "education",
         "showlegend": true,
         "type": "scattergl",
         "x": {
          "bdata": "AAAAAABon0AAAAAAAGyfQAAAAAAAcJ9AAAAAAAB0n0AAAAAAAHifQAAAAAAAfJ9AAAAAAACAn0AAAAAAAISfQAAAAAAAiJ9AAAAAAACMn0AAAAAAAJCfQAAAAAAAlJ9AAAAAAACYn0AAAAAAAJyfQAAAAAAAoJ9A",
          "dtype": "f8"
         },
         "xaxis": "x",
         "y": {
          "bdata": "BAYKDAMFBQwTHygeDA4H",
          "dtype": "i1"
         },
         "yaxis": "y"
        },
        {
         "customdata": [
          [
           "elearning"
          ],
          [
           "elearning"
          ],
          [
           "elearning"
          ],
          [
           "elearning"
          ],
          [
           "elearning"
          ],
          [
           "elearning"
          ],
          [
           "elearning"
          ],
          [
           "elearning"
          ],
          [
           "elearning"
          ],
          [
           "elearning"
          ],
          [
           "elearning"
          ],
          [
           "elearning"
          ],
          [
           "elearning"
          ]
         ],
         "hovertemplate": "Industry=%{customdata[0]}<br>Year Founded=%{x}<br>Number of Companies=%{y}<extra></extra>",
         "legendgroup": "elearning",
         "line": {
          "color": "#FF6692",
          "dash": "solid"
         },
         "marker": {
          "symbol": "circle"
         },
         "mode": "lines",
         "name": "elearning",
         "showlegend": true,
         "type": "scattergl",
         "x": {
          "bdata": "AAAAAABon0AAAAAAAGyfQAAAAAAAcJ9AAAAAAAB0n0AAAAAAAHifQAAAAAAAfJ9AAAAAAACEn0AAAAAAAIifQAAAAAAAjJ9AAAAAAACQn0AAAAAAAJSfQAAAAAAAmJ9AAAAAAACcn0A=",
          "dtype": "f8"
         },
         "xaxis": "x",
         "y": {
          "bdata": "AgECAgICBAcPEg4GAg==",
          "dtype": "i1"
         },
         "yaxis": "y"
        },
        {
         "customdata": [
          [
           "finops"
          ],
          [
           "finops"
          ],
          [
           "finops"
          ],
          [
           "finops"
          ],
          [
           "finops"
          ],
          [
           "finops"
          ],
          [
           "finops"
          ],
          [
           "finops"
          ],
          [
           "finops"
          ]
         ],
         "hovertemplate": "Industry=%{customdata[0]}<br>Year Founded=%{x}<br>Number of Companies=%{y}<extra></extra>",
         "legendgroup": "finops",
         "line": {
          "color": "#B6E880",
          "dash": "solid"
         },
         "marker": {
          "symbol": "circle"
         },
         "mode": "lines",
         "name": "finops",
         "showlegend": true,
         "type": "scattergl",
         "x": {
          "bdata": "AAAAAABon0AAAAAAAHyfQAAAAAAAgJ9AAAAAAACEn0AAAAAAAJCfQAAAAAAAlJ9AAAAAAACYn0AAAAAAAJyfQAAAAAAAoJ9A",
          "dtype": "f8"
         },
         "xaxis": "x",
         "y": {
          "bdata": "AQEBAQ8OBgQK",
          "dtype": "i1"
         },
         "yaxis": "y"
        },
        {
         "customdata": [
          [
           "food-&-beverage"
          ],
          [
           "food-&-beverage"
          ],
          [
           "food-&-beverage"
          ],
          [
           "food-&-beverage"
          ],
          [
           "food-&-beverage"
          ],
          [
           "food-&-beverage"
          ],
          [
           "food-&-beverage"
          ],
          [
           "food-&-beverage"
          ],
          [
           "food-&-beverage"
          ]
         ],
         "hovertemplate": "Industry=%{customdata[0]}<br>Year Founded=%{x}<br>Number of Companies=%{y}<extra></extra>",
         "legendgroup": "food-&-beverage",
         "line": {
          "color": "#FF97FF",
          "dash": "solid"
         },
         "marker": {
          "symbol": "circle"
         },
         "mode": "lines",
         "name": "food-&-beverage",
         "showlegend": true,
         "type": "scattergl",
         "x": {
          "bdata": "AAAAAABon0AAAAAAAHCfQAAAAAAAeJ9AAAAAAAB8n0AAAAAAAICfQAAAAAAAjJ9AAAAAAACQn0AAAAAAAJifQAAAAAAAnJ9A",
          "dtype": "f8"
         },
         "xaxis": "x",
         "y": {
          "bdata": "AQEBAQEDBgQC",
          "dtype": "i1"
         },
         "yaxis": "y"
        },
        {
         "customdata": [
          [
           "hard-tech"
          ],
          [
           "hard-tech"
          ],
          [
           "hard-tech"
          ],
          [
           "hard-tech"
          ],
          [
           "hard-tech"
          ],
          [
           "hard-tech"
          ],
          [
           "hard-tech"
          ],
          [
           "hard-tech"
          ],
          [
           "hard-tech"
          ],
          [
           "hard-tech"
          ],
          [
           "hard-tech"
          ],
          [
           "hard-tech"
          ],
          [
           "hard-tech"
          ],
          [
           "hard-tech"
          ]
         ],
         "hovertemplate": "Industry=%{customdata[0]}<br>Year Founded=%{x}<br>Number of Companies=%{y}<extra></extra>",
         "legendgroup": "hard-tech",
         "line": {
          "color": "#FECB52",
          "dash": "solid"
         },
         "marker": {
          "symbol": "circle"
         },
         "mode": "lines",
         "name": "hard-tech",
         "showlegend": true,
         "type": "scattergl",
         "x": {
          "bdata": "AAAAAABon0AAAAAAAHCfQAAAAAAAdJ9AAAAAAAB4n0AAAAAAAHyfQAAAAAAAgJ9AAAAAAACEn0AAAAAAAIifQAAAAAAAjJ9AAAAAAACQn0AAAAAAAJSfQAAAAAAAmJ9AAAAAAACcn0AAAAAAAKCfQA==",
          "dtype": "f8"
         },
         "xaxis": "x",
         "y": {
          "bdata": "AQIBAwICBQcWEBoHDiI=",
          "dtype": "i1"
         },
         "yaxis": "y"
        },
        {
         "customdata": [
          [
           "open-source"
          ],
          [
           "open-source"
          ],
          [
           "open-source"
          ],
          [
           "open-source"
          ],
          [
           "open-source"
          ],
          [
           "open-source"
          ],
          [
           "open-source"
          ],
          [
           "open-source"
          ],
          [
           "open-source"
          ],
          [
           "open-source"
          ],
          [
           "open-source"
          ],
          [
           "open-source"
          ],
          [
           "open-source"
          ]
         ],
         "hovertemplate": "Industry=%{customdata[0]}<br>Year Founded=%{x}<br>Number of Companies=%{y}<extra></extra>",
         "legendgroup": "open-source",
         "line": {
          "color": "#636efa",
          "dash": "solid"
         },
         "marker": {
          "symbol": "circle"
         },
         "mode": "lines",
         "name": "open-source",
         "showlegend": true,
         "type": "scattergl",
         "x": {
          "bdata": "AAAAAABon0AAAAAAAHCfQAAAAAAAeJ9AAAAAAAB8n0AAAAAAAICfQAAAAAAAhJ9AAAAAAACIn0AAAAAAAIyfQAAAAAAAkJ9AAAAAAACUn0AAAAAAAJifQAAAAAAAnJ9AAAAAAACgn0A=",
          "dtype": "f8"
         },
         "xaxis": "x",
         "y": {
          "bdata": "AgMCAQMCCA8lKzI6Hg==",
          "dtype": "i1"
         },
         "yaxis": "y"
        },
        {
         "customdata": [
          [
           "recruiting"
          ],
          [
           "recruiting"
          ],
          [
           "recruiting"
          ],
          [
           "recruiting"
          ],
          [
           "recruiting"
          ],
          [
           "recruiting"
          ],
          [
           "recruiting"
          ],
          [
           "recruiting"
          ],
          [
           "recruiting"
          ],
          [
           "recruiting"
          ],
          [
           "recruiting"
          ],
          [
           "recruiting"
          ],
          [
           "recruiting"
          ]
         ],
         "hovertemplate": "Industry=%{customdata[0]}<br>Year Founded=%{x}<br>Number of Companies=%{y}<extra></extra>",
         "legendgroup": "recruiting",
         "line": {
          "color": "#EF553B",
          "dash": "solid"
         },
         "marker": {
          "symbol": "circle"
         },
         "mode": "lines",
         "name": "recruiting",
         "showlegend": true,
         "type": "scattergl",
         "x": {
          "bdata": "AAAAAABon0AAAAAAAGyfQAAAAAAAdJ9AAAAAAAB8n0AAAAAAAICfQAAAAAAAhJ9AAAAAAACIn0AAAAAAAIyfQAAAAAAAkJ9AAAAAAACUn0AAAAAAAJifQAAAAAAAnJ9AAAAAAACgn0A=",
          "dtype": "f8"
         },
         "xaxis": "x",
         "y": {
          "bdata": "AQEBAQMFBhMMBgQEAg==",
          "dtype": "i1"
         },
         "yaxis": "y"
        },
        {
         "customdata": [
          [
           "seo"
          ],
          [
           "seo"
          ]
         ],
         "hovertemplate": "Industry=%{customdata[0]}<br>Year Founded=%{x}<br>Number of Companies=%{y}<extra></extra>",
         "legendgroup": "seo",
         "line": {
          "color": "#00cc96",
          "dash": "solid"
         },
         "marker": {
          "symbol": "circle"
         },
         "mode": "lines",
         "name": "seo",
         "showlegend": true,
         "type": "scattergl",
         "x": {
          "bdata": "AAAAAABon0AAAAAAAJCfQA==",
          "dtype": "f8"
         },
         "xaxis": "x",
         "y": {
          "bdata": "AQI=",
          "dtype": "i1"
         },
         "yaxis": "y"
        },
        {
         "customdata": [
          [
           "therapeutics"
          ],
          [
           "therapeutics"
          ],
          [
           "therapeutics"
          ],
          [
           "therapeutics"
          ],
          [
           "therapeutics"
          ],
          [
           "therapeutics"
          ],
          [
           "therapeutics"
          ],
          [
           "therapeutics"
          ],
          [
           "therapeutics"
          ],
          [
           "therapeutics"
          ]
         ],
         "hovertemplate": "Industry=%{customdata[0]}<br>Year Founded=%{x}<br>Number of Companies=%{y}<extra></extra>",
         "legendgroup": "therapeutics",
         "line": {
          "color": "#ab63fa",
          "dash": "solid"
         },
         "marker": {
          "symbol": "circle"
         },
         "mode": "lines",
         "name": "therapeutics",
         "showlegend": true,
         "type": "scattergl",
         "x": {
          "bdata": "AAAAAABon0AAAAAAAHSfQAAAAAAAfJ9AAAAAAACIn0AAAAAAAIyfQAAAAAAAkJ9AAAAAAACUn0AAAAAAAJifQAAAAAAAnJ9AAAAAAACgn0A=",
          "dtype": "f8"
         },
         "xaxis": "x",
         "y": {
          "bdata": "AQEFBAYIDhIKBw==",
          "dtype": "i1"
         },
         "yaxis": "y"
        },
        {
         "customdata": [
          [
           "agriculture"
          ],
          [
           "agriculture"
          ],
          [
           "agriculture"
          ],
          [
           "agriculture"
          ],
          [
           "agriculture"
          ],
          [
           "agriculture"
          ],
          [
           "agriculture"
          ],
          [
           "agriculture"
          ],
          [
           "agriculture"
          ],
          [
           "agriculture"
          ],
          [
           "agriculture"
          ]
         ],
         "hovertemplate": "Industry=%{customdata[0]}<br>Year Founded=%{x}<br>Number of Companies=%{y}<extra></extra>",
         "legendgroup": "agriculture",
         "line": {
          "color": "#FFA15A",
          "dash": "solid"
         },
         "marker": {
          "symbol": "circle"
         },
         "mode": "lines",
         "name": "agriculture",
         "showlegend": true,
         "type": "scattergl",
         "x": {
          "bdata": "AAAAAABsn0AAAAAAAHifQAAAAAAAfJ9AAAAAAACAn0AAAAAAAISfQAAAAAAAiJ9AAAAAAACMn0AAAAAAAJSfQAAAAAAAmJ9AAAAAAACcn0AAAAAAAKCfQA==",
          "dtype": "f8"
         },
         "xaxis": "x",
         "y": {
          "bdata": "AQMCAQMDBAYCAgU=",
          "dtype": "i1"
         },
         "yaxis": "y"
        },
        {
         "customdata": [
          [
           "ai-assistant"
          ],
          [
           "ai-assistant"
          ],
          [
           "ai-assistant"
          ],
          [
           "ai-assistant"
          ],
          [
           "ai-assistant"
          ],
          [
           "ai-assistant"
          ],
          [
           "ai-assistant"
          ],
          [
           "ai-assistant"
          ],
          [
           "ai-assistant"
          ],
          [
           "ai-assistant"
          ],
          [
           "ai-assistant"
          ],
          [
           "ai-assistant"
          ]
         ],
         "hovertemplate": "Industry=%{customdata[0]}<br>Year Founded=%{x}<br>Number of Companies=%{y}<extra></extra>",
         "legendgroup": "ai-assistant",
         "line": {
          "color": "#19d3f3",
          "dash": "solid"
         },
         "marker": {
          "symbol": "circle"
         },
         "mode": "lines",
         "name": "ai-assistant",
         "showlegend": true,
         "type": "scattergl",
         "x": {
          "bdata": "AAAAAABsn0AAAAAAAHyfQAAAAAAAgJ9AAAAAAACEn0AAAAAAAIifQAAAAAAAjJ9AAAAAAACQn0AAAAAAAJSfQAAAAAAAmJ9AAAAAAACcn0AAAAAAAKCfQAAAAAAApJ9A",
          "dtype": "f8"
         },
         "xaxis": "x",
         "y": {
          "bdata": "AQEDAgELBhIYUzQG",
          "dtype": "i1"
         },
         "yaxis": "y"
        },
        {
         "customdata": [
          [
           "artificial-intelligence"
          ],
          [
           "artificial-intelligence"
          ],
          [
           "artificial-intelligence"
          ],
          [
           "artificial-intelligence"
          ],
          [
           "artificial-intelligence"
          ],
          [
           "artificial-intelligence"
          ],
          [
           "artificial-intelligence"
          ],
          [
           "artificial-intelligence"
          ],
          [
           "artificial-intelligence"
          ],
          [
           "artificial-intelligence"
          ],
          [
           "artificial-intelligence"
          ],
          [
           "artificial-intelligence"
          ],
          [
           "artificial-intelligence"
          ],
          [
           "artificial-intelligence"
          ],
          [
           "artificial-intelligence"
          ]
         ],
         "hovertemplate": "Industry=%{customdata[0]}<br>Year Founded=%{x}<br>Number of Companies=%{y}<extra></extra>",
         "legendgroup": "artificial-intelligence",
         "line": {
          "color": "#FF6692",
          "dash": "solid"
         },
         "marker": {
          "symbol": "circle"
         },
         "mode": "lines",
         "name": "artificial-intelligence",
         "showlegend": true,
         "type": "scattergl",
         "x": {
          "bdata": "AAAAAABsn0AAAAAAAHCfQAAAAAAAdJ9AAAAAAAB4n0AAAAAAAHyfQAAAAAAAgJ9AAAAAAACEn0AAAAAAAIifQAAAAAAAjJ9AAAAAAACQn0AAAAAAAJSfQAAAAAAAmJ9AAAAAAACcn0AAAAAAAKCfQAAAAAAApJ9A",
          "dtype": "f8"
         },
         "xaxis": "x",
         "y": {
          "bdata": "AgACAAMAAgAEAA4AEwAaADgAaAB/AJEASAHvAAkA",
          "dtype": "i2"
         },
         "yaxis": "y"
        },
        {
         "customdata": [
          [
           "augmented-reality"
          ],
          [
           "augmented-reality"
          ],
          [
           "augmented-reality"
          ],
          [
           "augmented-reality"
          ],
          [
           "augmented-reality"
          ],
          [
           "augmented-reality"
          ],
          [
           "augmented-reality"
          ],
          [
           "augmented-reality"
          ]
         ],
         "hovertemplate": "Industry=%{customdata[0]}<br>Year Founded=%{x}<br>Number of Companies=%{y}<extra></extra>",
         "legendgroup": "augmented-reality",
         "line": {
          "color": "#B6E880",
          "dash": "solid"
         },
         "marker": {
          "symbol": "circle"
         },
         "mode": "lines",
         "name": "augmented-reality",
         "showlegend": true,
         "type": "scattergl",
         "x": {
          "bdata": "AAAAAABsn0AAAAAAAHSfQAAAAAAAeJ9AAAAAAAB8n0AAAAAAAISfQAAAAAAAiJ9AAAAAAACUn0AAAAAAAKCfQA==",
          "dtype": "f8"
         },
         "xaxis": "x",
         "y": {
          "bdata": "AQEBAQEDCAM=",
          "dtype": "i1"
         },
         "yaxis": "y"
        },
        {
         "customdata": [
          [
           "automotive"
          ],
          [
           "automotive"
          ],
          [
           "automotive"
          ],
          [
           "automotive"
          ],
          [
           "automotive"
          ],
          [
           "automotive"
          ],
          [
           "automotive"
          ],
          [
           "automotive"
          ]
         ],
         "hovertemplate": "Industry=%{customdata[0]}<br>Year Founded=%{x}<br>Number of Companies=%{y}<extra></extra>",
         "legendgroup": "automotive",
         "line": {
          "color": "#FF97FF",
          "dash": "solid"
         },
         "marker": {
          "symbol": "circle"
         },
         "mode": "lines",
         "name": "automotive",
         "showlegend": true,
         "type": "scattergl",
         "x": {
          "bdata": "AAAAAABsn0AAAAAAAHSfQAAAAAAAfJ9AAAAAAACEn0AAAAAAAJSfQAAAAAAAmJ9AAAAAAACcn0AAAAAAAKCfQA==",
          "dtype": "f8"
         },
         "xaxis": "x",
         "y": {
          "bdata": "AQEBAQIEAgk=",
          "dtype": "i1"
         },
         "yaxis": "y"
        },
        {
         "customdata": [
          [
           "biotech"
          ],
          [
           "biotech"
          ],
          [
           "biotech"
          ],
          [
           "biotech"
          ],
          [
           "biotech"
          ],
          [
           "biotech"
          ],
          [
           "biotech"
          ],
          [
           "biotech"
          ],
          [
           "biotech"
          ],
          [
           "biotech"
          ],
          [
           "biotech"
          ],
          [
           "biotech"
          ],
          [
           "biotech"
          ]
         ],
         "hovertemplate": "Industry=%{customdata[0]}<br>Year Founded=%{x}<br>Number of Companies=%{y}<extra></extra>",
         "legendgroup": "biotech",
         "line": {
          "color": "#FECB52",
          "dash": "solid"
         },
         "marker": {
          "symbol": "circle"
         },
         "mode": "lines",
         "name": "biotech",
         "showlegend": true,
         "type": "scattergl",
         "x": {
          "bdata": "AAAAAABsn0AAAAAAAHCfQAAAAAAAeJ9AAAAAAAB8n0AAAAAAAICfQAAAAAAAhJ9AAAAAAACIn0AAAAAAAIyfQAAAAAAAkJ9AAAAAAACUn0AAAAAAAJifQAAAAAAAnJ9AAAAAAACgn0A=",
          "dtype": "f8"
         },
         "xaxis": "x",
         "y": {
          "bdata": "AQEDBwcEDQkYKBoYEw==",
          "dtype": "i1"
         },
         "yaxis": "y"
        },
        {
         "customdata": [
          [
           "cloud-workload-protection"
          ],
          [
           "cloud-workload-protection"
          ],
          [
           "cloud-workload-protection"
          ]
         ],
         "hovertemplate": "Industry=%{customdata[0]}<br>Year Founded=%{x}<br>Number of Companies=%{y}<extra></extra>",
         "legendgroup": "cloud-workload-protection",
         "line": {
          "color": "#636efa",
          "dash": "solid"
         },
         "marker": {
          "symbol": "circle"
         },
         "mode": "lines",
         "name": "cloud-workload-protection",
         "showlegend": true,
         "type": "scattergl",
         "x": {
          "bdata": "AAAAAABsn0AAAAAAAIifQAAAAAAAlJ9A",
          "dtype": "f8"
         },
         "xaxis": "x",
         "y": {
          "bdata": "AQMD",
          "dtype": "i1"
         },
         "yaxis": "y"
        },
        {
         "customdata": [
          [
           "collaboration"
          ],
          [
           "collaboration"
          ],
          [
           "collaboration"
          ],
          [
           "collaboration"
          ],
          [
           "collaboration"
          ],
          [
           "collaboration"
          ],
          [
           "collaboration"
          ],
          [
           "collaboration"
          ],
          [
           "collaboration"
          ],
          [
           "collaboration"
          ]
         ],
         "hovertemplate": "Industry=%{customdata[0]}<br>Year Founded=%{x}<br>Number of Companies=%{y}<extra></extra>",
         "legendgroup": "collaboration",
         "line": {
          "color": "#EF553B",
          "dash": "solid"
         },
         "marker": {
          "symbol": "circle"
         },
         "mode": "lines",
         "name": "collaboration",
         "showlegend": true,
         "type": "scattergl",
         "x": {
          "bdata": "AAAAAABsn0AAAAAAAHyfQAAAAAAAgJ9AAAAAAACEn0AAAAAAAIifQAAAAAAAkJ9AAAAAAACUn0AAAAAAAJifQAAAAAAAnJ9AAAAAAACgn0A=",
          "dtype": "f8"
         },
         "xaxis": "x",
         "y": {
          "bdata": "AgEDBAMGFAQGBQ==",
          "dtype": "i1"
         },
         "yaxis": "y"
        },
        {
         "customdata": [
          [
           "computer-vision"
          ],
          [
           "computer-vision"
          ],
          [
           "computer-vision"
          ],
          [
           "computer-vision"
          ],
          [
           "computer-vision"
          ],
          [
           "computer-vision"
          ],
          [
           "computer-vision"
          ],
          [
           "computer-vision"
          ],
          [
           "computer-vision"
          ],
          [
           "computer-vision"
          ],
          [
           "computer-vision"
          ],
          [
           "computer-vision"
          ],
          [
           "computer-vision"
          ]
         ],
         "hovertemplate": "Industry=%{customdata[0]}<br>Year Founded=%{x}<br>Number of Companies=%{y}<extra></extra>",
         "legendgroup": "computer-vision",
         "line": {
          "color": "#00cc96",
          "dash": "solid"
         },
         "marker": {
          "symbol": "circle"
         },
         "mode": "lines",
         "name": "computer-vision",
         "showlegend": true,
         "type": "scattergl",
         "x": {
          "bdata": "AAAAAABsn0AAAAAAAHifQAAAAAAAfJ9AAAAAAACAn0AAAAAAAISfQAAAAAAAiJ9AAAAAAACMn0AAAAAAAJCfQAAAAAAAlJ9AAAAAAACYn0AAAAAAAJyfQAAAAAAAoJ9AAAAAAACkn0A=",
          "dtype": "f8"
         },
         "xaxis": "x",
         "y": {
          "bdata": "AQIEAgYHCgoQCAsMAw==",
          "dtype": "i1"
         },
         "yaxis": "y"
        },
        {
         "customdata": [
          [
           "consumer"
          ],
          [
           "consumer"
          ],
          [
           "consumer"
          ],
          [
           "consumer"
          ],
          [
           "consumer"
          ],
          [
           "consumer"
          ],
          [
           "consumer"
          ],
          [
           "consumer"
          ],
          [
           "consumer"
          ],
          [
           "consumer"
          ],
          [
           "consumer"
          ],
          [
           "consumer"
          ],
          [
           "consumer"
          ],
          [
           "consumer"
          ]
         ],
         "hovertemplate": "Industry=%{customdata[0]}<br>Year Founded=%{x}<br>Number of Companies=%{y}<extra></extra>",
         "legendgroup": "consumer",
         "line": {
          "color": "#ab63fa",
          "dash": "solid"
         },
         "marker": {
          "symbol": "circle"
         },
         "mode": "lines",
         "name": "consumer",
         "showlegend": true,
         "type": "scattergl",
         "x": {
          "bdata": "AAAAAABsn0AAAAAAAHCfQAAAAAAAdJ9AAAAAAAB4n0AAAAAAAHyfQAAAAAAAgJ9AAAAAAACEn0AAAAAAAIifQAAAAAAAjJ9AAAAAAACQn0AAAAAAAJSfQAAAAAAAmJ9AAAAAAACcn0AAAAAAAKCfQA==",
          "dtype": "f8"
         },
         "xaxis": "x",
         "y": {
          "bdata": "AQIBAQMFDgkVJl8iNy0=",
          "dtype": "i1"
         },
         "yaxis": "y"
        },
        {
         "customdata": [
          [
           "consumer-health-services"
          ],
          [
           "consumer-health-services"
          ],
          [
           "consumer-health-services"
          ],
          [
           "consumer-health-services"
          ],
          [
           "consumer-health-services"
          ],
          [
           "consumer-health-services"
          ],
          [
           "consumer-health-services"
          ],
          [
           "consumer-health-services"
          ],
          [
           "consumer-health-services"
          ],
          [
           "consumer-health-services"
          ],
          [
           "consumer-health-services"
          ],
          [
           "consumer-health-services"
          ],
          [
           "consumer-health-services"
          ]
         ],
         "hovertemplate": "Industry=%{customdata[0]}<br>Year Founded=%{x}<br>Number of Companies=%{y}<extra></extra>",
         "legendgroup": "consumer-health-services",
         "line": {
          "color": "#FFA15A",
          "dash": "solid"
         },
         "marker": {
          "symbol": "circle"
         },
         "mode": "lines",
         "name": "consumer-health-services",
         "showlegend": true,
         "type": "scattergl",
         "x": {
          "bdata": "AAAAAABsn0AAAAAAAHCfQAAAAAAAeJ9AAAAAAAB8n0AAAAAAAICfQAAAAAAAhJ9AAAAAAACIn0AAAAAAAIyfQAAAAAAAkJ9AAAAAAACUn0AAAAAAAJifQAAAAAAAnJ9AAAAAAACgn0A=",
          "dtype": "f8"
         },
         "xaxis": "x",
         "y": {
          "bdata": "AQIDBQUNDB0YMQQNAg==",
          "dtype": "i1"
         },
         "yaxis": "y"
        },
        {
         "customdata": [
          [
           "crm"
          ],
          [
           "crm"
          ],
          [
           "crm"
          ],
          [
           "crm"
          ],
          [
           "crm"
          ],
          [
           "crm"
          ],
          [
           "crm"
          ],
          [
           "crm"
          ]
         ],
         "hovertemplate": "Industry=%{customdata[0]}<br>Year Founded=%{x}<br>Number of Companies=%{y}<extra></extra>",
         "legendgroup": "crm",
         "line": {
          "color": "#19d3f3",
          "dash": "solid"
         },
         "marker": {
          "symbol": "circle"
         },
         "mode": "lines",
         "name": "crm",
         "showlegend": true,
         "type": "scattergl",
         "x": {
          "bdata": "AAAAAABsn0AAAAAAAHifQAAAAAAAgJ9AAAAAAACEn0AAAAAAAIyfQAAAAAAAlJ9AAAAAAACYn0AAAAAAAJyfQA==",
          "dtype": "f8"
         },
         "xaxis": "x",
         "y": {
          "bdata": "AQEBAgQCAgo=",
          "dtype": "i1"
         },
         "yaxis": "y"
        },
        {
         "customdata": [
          [
           "devsecops"
          ],
          [
           "devsecops"
          ],
          [
           "devsecops"
          ],
          [
           "devsecops"
          ],
          [
           "devsecops"
          ],
          [
           "devsecops"
          ],
          [
           "devsecops"
          ],
          [
           "devsecops"
          ],
          [
           "devsecops"
          ],
          [
           "devsecops"
          ],
          [
           "devsecops"
          ],
          [
           "devsecops"
          ]
         ],
         "hovertemplate": "Industry=%{customdata[0]}<br>Year Founded=%{x}<br>Number of Companies=%{y}<extra></extra>",
         "legendgroup": "devsecops",
         "line": {
          "color": "#FF6692",
          "dash": "solid"
         },
         "marker": {
          "symbol": "circle"
         },
         "mode": "lines",
         "name": "devsecops",
         "showlegend": true,
         "type": "scattergl",
         "x": {
          "bdata": "AAAAAABsn0AAAAAAAHCfQAAAAAAAdJ9AAAAAAAB4n0AAAAAAAHyfQAAAAAAAgJ9AAAAAAACIn0AAAAAAAIyfQAAAAAAAkJ9AAAAAAACUn0AAAAAAAJifQAAAAAAAnJ9A",
          "dtype": "f8"
         },
         "xaxis": "x",
         "y": {
          "bdata": "AQEBAQQCAwYICAgC",
          "dtype": "i1"
         },
         "yaxis": "y"
        },
        {
         "customdata": [
          [
           "enterprise"
          ],
          [
           "enterprise"
          ],
          [
           "enterprise"
          ],
          [
           "enterprise"
          ],
          [
           "enterprise"
          ],
          [
           "enterprise"
          ],
          [
           "enterprise"
          ],
          [
           "enterprise"
          ],
          [
           "enterprise"
          ],
          [
           "enterprise"
          ],
          [
           "enterprise"
          ],
          [
           "enterprise"
          ],
          [
           "enterprise"
          ]
         ],
         "hovertemplate": "Industry=%{customdata[0]}<br>Year Founded=%{x}<br>Number of Companies=%{y}<extra></extra>",
         "legendgroup": "enterprise",
         "line": {
          "color": "#B6E880",
          "dash": "solid"
         },
         "marker": {
          "symbol": "circle"
         },
         "mode": "lines",
         "name": "enterprise",
         "showlegend": true,
         "type": "scattergl",
         "x": {
          "bdata": "AAAAAABsn0AAAAAAAHCfQAAAAAAAdJ9AAAAAAAB4n0AAAAAAAICfQAAAAAAAhJ9AAAAAAACIn0AAAAAAAIyfQAAAAAAAkJ9AAAAAAACUn0AAAAAAAJifQAAAAAAAnJ9AAAAAAACgn0A=",
          "dtype": "f8"
         },
         "xaxis": "x",
         "y": {
          "bdata": "AgECAQMHBgULHCggCw==",
          "dtype": "i1"
         },
         "yaxis": "y"
        },
        {
         "customdata": [
          [
           "entertainment"
          ],
          [
           "entertainment"
          ],
          [
           "entertainment"
          ],
          [
           "entertainment"
          ],
          [
           "entertainment"
          ],
          [
           "entertainment"
          ],
          [
           "entertainment"
          ],
          [
           "entertainment"
          ],
          [
           "entertainment"
          ],
          [
           "entertainment"
          ],
          [
           "entertainment"
          ]
         ],
         "hovertemplate": "Industry=%{customdata[0]}<br>Year Founded=%{x}<br>Number of Companies=%{y}<extra></extra>",
         "legendgroup": "entertainment",
         "line": {
          "color": "#FF97FF",
          "dash": "solid"
         },
         "marker": {
          "symbol": "circle"
         },
         "mode": "lines",
         "name": "entertainment",
         "showlegend": true,
         "type": "scattergl",
         "x": {
          "bdata": "AAAAAABsn0AAAAAAAHifQAAAAAAAgJ9AAAAAAACEn0AAAAAAAIifQAAAAAAAjJ9AAAAAAACQn0AAAAAAAJSfQAAAAAAAmJ9AAAAAAACcn0AAAAAAAKCfQA==",
          "dtype": "f8"
         },
         "xaxis": "x",
         "y": {
          "bdata": "AwICAgQCDwoGCgk=",
          "dtype": "i1"
         },
         "yaxis": "y"
        },
        {
         "customdata": [
          [
           "health-insurance"
          ],
          [
           "health-insurance"
          ],
          [
           "health-insurance"
          ],
          [
           "health-insurance"
          ],
          [
           "health-insurance"
          ],
          [
           "health-insurance"
          ],
          [
           "health-insurance"
          ],
          [
           "health-insurance"
          ],
          [
           "health-insurance"
          ],
          [
           "health-insurance"
          ]
         ],
         "hovertemplate": "Industry=%{customdata[0]}<br>Year Founded=%{x}<br>Number of Companies=%{y}<extra></extra>",
         "legendgroup": "health-insurance",
         "line": {
          "color": "#FECB52",
          "dash": "solid"
         },
         "marker": {
          "symbol": "circle"
         },
         "mode": "lines",
         "name": "health-insurance",
         "showlegend": true,
         "type": "scattergl",
         "x": {
          "bdata": "AAAAAABsn0AAAAAAAHCfQAAAAAAAdJ9AAAAAAACAn0AAAAAAAISfQAAAAAAAjJ9AAAAAAACQn0AAAAAAAJSfQAAAAAAAmJ9AAAAAAACcn0A=",
          "dtype": "f8"
         },
         "xaxis": "x",
         "y": {
          "bdata": "AgEBAQIDBAQEDA==",
          "dtype": "i1"
         },
         "yaxis": "y"
        },
        {
         "customdata": [
          [
           "health-tech"
          ],
          [
           "health-tech"
          ],
          [
           "health-tech"
          ],
          [
           "health-tech"
          ],
          [
           "health-tech"
          ],
          [
           "health-tech"
          ],
          [
           "health-tech"
          ],
          [
           "health-tech"
          ],
          [
           "health-tech"
          ],
          [
           "health-tech"
          ],
          [
           "health-tech"
          ],
          [
           "health-tech"
          ],
          [
           "health-tech"
          ],
          [
           "health-tech"
          ]
         ],
         "hovertemplate": "Industry=%{customdata[0]}<br>Year Founded=%{x}<br>Number of Companies=%{y}<extra></extra>",
         "legendgroup": "health-tech",
         "line": {
          "color": "#636efa",
          "dash": "solid"
         },
         "marker": {
          "symbol": "circle"
         },
         "mode": "lines",
         "name": "health-tech",
         "showlegend": true,
         "type": "scattergl",
         "x": {
          "bdata": "AAAAAABsn0AAAAAAAHCfQAAAAAAAdJ9AAAAAAAB4n0AAAAAAAHyfQAAAAAAAgJ9AAAAAAACEn0AAAAAAAIifQAAAAAAAjJ9AAAAAAACQn0AAAAAAAJSfQAAAAAAAmJ9AAAAAAACcn0AAAAAAAKCfQA==",
          "dtype": "f8"
         },
         "xaxis": "x",
         "y": {
          "bdata": "AQEBAgIECgsTFxsiIxM=",
          "dtype": "i1"
         },
         "yaxis": "y"
        },
        {
         "customdata": [
          [
           "investing"
          ],
          [
           "investing"
          ],
          [
           "investing"
          ],
          [
           "investing"
          ],
          [
           "investing"
          ],
          [
           "investing"
          ],
          [
           "investing"
          ],
          [
           "investing"
          ],
          [
           "investing"
          ],
          [
           "investing"
          ],
          [
           "investing"
          ],
          [
           "investing"
          ],
          [
           "investing"
          ]
         ],
         "hovertemplate": "Industry=%{customdata[0]}<br>Year Founded=%{x}<br>Number of Companies=%{y}<extra></extra>",
         "legendgroup": "investing",
         "line": {
          "color": "#EF553B",
          "dash": "solid"
         },
         "marker": {
          "symbol": "circle"
         },
         "mode": "lines",
         "name": "investing",
         "showlegend": true,
         "type": "scattergl",
         "x": {
          "bdata": "AAAAAABsn0AAAAAAAHCfQAAAAAAAdJ9AAAAAAAB8n0AAAAAAAICfQAAAAAAAhJ9AAAAAAACIn0AAAAAAAIyfQAAAAAAAkJ9AAAAAAACUn0AAAAAAAJifQAAAAAAAnJ9AAAAAAACgn0A=",
          "dtype": "f8"
         },
         "xaxis": "x",
         "y": {
          "bdata": "AQEBAwICBAIKDAQSBg==",
          "dtype": "i1"
         },
         "yaxis": "y"
        },
        {
         "customdata": [
          [
           "kids"
          ],
          [
           "kids"
          ],
          [
           "kids"
          ],
          [
           "kids"
          ]
         ],
         "hovertemplate": "Industry=%{customdata[0]}<br>Year Founded=%{x}<br>Number of Companies=%{y}<extra></extra>",
         "legendgroup": "kids",
         "line": {
          "color": "#00cc96",
          "dash": "solid"
         },
         "marker": {
          "symbol": "circle"
         },
         "mode": "lines",
         "name": "kids",
         "showlegend": true,
         "type": "scattergl",
         "x": {
          "bdata": "AAAAAABsn0AAAAAAAIifQAAAAAAAkJ9AAAAAAACUn0A=",
          "dtype": "f8"
         },
         "xaxis": "x",
         "y": {
          "bdata": "AQIEAg==",
          "dtype": "i1"
         },
         "yaxis": "y"
        },
        {
         "customdata": [
          [
           "legal"
          ],
          [
           "legal"
          ],
          [
           "legal"
          ],
          [
           "legal"
          ],
          [
           "legal"
          ],
          [
           "legal"
          ],
          [
           "legal"
          ],
          [
           "legal"
          ],
          [
           "legal"
          ],
          [
           "legal"
          ],
          [
           "legal"
          ]
         ],
         "hovertemplate": "Industry=%{customdata[0]}<br>Year Founded=%{x}<br>Number of Companies=%{y}<extra></extra>",
         "legendgroup": "legal",
         "line": {
          "color": "#ab63fa",
          "dash": "solid"
         },
         "marker": {
          "symbol": "circle"
         },
         "mode": "lines",
         "name": "legal",
         "showlegend": true,
         "type": "scattergl",
         "x": {
          "bdata": "AAAAAABsn0AAAAAAAHSfQAAAAAAAgJ9AAAAAAACIn0AAAAAAAIyfQAAAAAAAkJ9AAAAAAACUn0AAAAAAAJifQAAAAAAAnJ9AAAAAAACgn0AAAAAAAKSfQA==",
          "dtype": "f8"
         },
         "xaxis": "x",
         "y": {
          "bdata": "AQIBAQIEBAIGCAY=",
          "dtype": "i1"
         },
         "yaxis": "y"
        },
        {
         "customdata": [
          [
           "legaltech"
          ],
          [
           "legaltech"
          ],
          [
           "legaltech"
          ],
          [
           "legaltech"
          ],
          [
           "legaltech"
          ],
          [
           "legaltech"
          ],
          [
           "legaltech"
          ],
          [
           "legaltech"
          ],
          [
           "legaltech"
          ],
          [
           "legaltech"
          ],
          [
           "legaltech"
          ],
          [
           "legaltech"
          ]
         ],
         "hovertemplate": "Industry=%{customdata[0]}<br>Year Founded=%{x}<br>Number of Companies=%{y}<extra></extra>",
         "legendgroup": "legaltech",
         "line": {
          "color": "#FFA15A",
          "dash": "solid"
         },
         "marker": {
          "symbol": "circle"
         },
         "mode": "lines",
         "name": "legaltech",
         "showlegend": true,
         "type": "scattergl",
         "x": {
          "bdata": "AAAAAABsn0AAAAAAAHifQAAAAAAAgJ9AAAAAAACEn0AAAAAAAIifQAAAAAAAjJ9AAAAAAACQn0AAAAAAAJSfQAAAAAAAmJ9AAAAAAACcn0AAAAAAAKCfQAAAAAAApJ9A",
          "dtype": "f8"
         },
         "xaxis": "x",
         "y": {
          "bdata": "AQMBAwIEDgQGDg0D",
          "dtype": "i1"
         },
         "yaxis": "y"
        },
        {
         "customdata": [
          [
           "metaverse"
          ],
          [
           "metaverse"
          ],
          [
           "metaverse"
          ],
          [
           "metaverse"
          ],
          [
           "metaverse"
          ],
          [
           "metaverse"
          ]
         ],
         "hovertemplate": "Industry=%{customdata[0]}<br>Year Founded=%{x}<br>Number of Companies=%{y}<extra></extra>",
         "legendgroup": "metaverse",
         "line": {
          "color": "#19d3f3",
          "dash": "solid"
         },
         "marker": {
          "symbol": "circle"
         },
         "mode": "lines",
         "name": "metaverse",
         "showlegend": true,
         "type": "scattergl",
         "x": {
          "bdata": "AAAAAABsn0AAAAAAAHifQAAAAAAAiJ9AAAAAAACMn0AAAAAAAJCfQAAAAAAAlJ9A",
          "dtype": "f8"
         },
         "xaxis": "x",
         "y": {
          "bdata": "AQEBAQME",
          "dtype": "i1"
         },
         "yaxis": "y"
        },
        {
         "customdata": [
          [
           "next-gen-network-security"
          ],
          [
           "next-gen-network-security"
          ],
          [
           "next-gen-network-security"
          ],
          [
           "next-gen-network-security"
          ]
         ],
         "hovertemplate": "Industry=%{customdata[0]}<br>Year Founded=%{x}<br>Number of Companies=%{y}<extra></extra>",
         "legendgroup": "next-gen-network-security",
         "line": {
          "color": "#FF6692",
          "dash": "solid"
         },
         "marker": {
          "symbol": "circle"
         },
         "mode": "lines",
         "name": "next-gen-network-security",
         "showlegend": true,
         "type": "scattergl",
         "x": {
          "bdata": "AAAAAABsn0AAAAAAAHyfQAAAAAAAhJ9AAAAAAACUn0A=",
          "dtype": "f8"
         },
         "xaxis": "x",
         "y": {
          "bdata": "AQEBBA==",
          "dtype": "i1"
         },
         "yaxis": "y"
        },
        {
         "customdata": [
          [
           "nonprofit"
          ],
          [
           "nonprofit"
          ],
          [
           "nonprofit"
          ],
          [
           "nonprofit"
          ],
          [
           "nonprofit"
          ],
          [
           "nonprofit"
          ],
          [
           "nonprofit"
          ],
          [
           "nonprofit"
          ],
          [
           "nonprofit"
          ],
          [
           "nonprofit"
          ],
          [
           "nonprofit"
          ]
         ],
         "hovertemplate": "Industry=%{customdata[0]}<br>Year Founded=%{x}<br>Number of Companies=%{y}<extra></extra>",
         "legendgroup": "nonprofit",
         "line": {
          "color": "#B6E880",
          "dash": "solid"
         },
         "marker": {
          "symbol": "circle"
         },
         "mode": "lines",
         "name": "nonprofit",
         "showlegend": true,
         "type": "scattergl",
         "x": {
          "bdata": "AAAAAABsn0AAAAAAAHCfQAAAAAAAdJ9AAAAAAAB4n0AAAAAAAHyfQAAAAAAAgJ9AAAAAAACEn0AAAAAAAIyfQAAAAAAAkJ9AAAAAAACUn0AAAAAAAJifQA==",
          "dtype": "f8"
         },
         "xaxis": "x",
         "y": {
          "bdata": "AQIEBAECAwMCAgI=",
          "dtype": "i1"
         },
         "yaxis": "y"
        },
        {
         "customdata": [
          [
           "payroll"
          ],
          [
           "payroll"
          ],
          [
           "payroll"
          ],
          [
           "payroll"
          ],
          [
           "payroll"
          ],
          [
           "payroll"
          ],
          [
           "payroll"
          ],
          [
           "payroll"
          ]
         ],
         "hovertemplate": "Industry=%{customdata[0]}<br>Year Founded=%{x}<br>Number of Companies=%{y}<extra></extra>",
         "legendgroup": "payroll",
         "line": {
          "color": "#FF97FF",
          "dash": "solid"
         },
         "marker": {
          "symbol": "circle"
         },
         "mode": "lines",
         "name": "payroll",
         "showlegend": true,
         "type": "scattergl",
         "x": {
          "bdata": "AAAAAABsn0AAAAAAAICfQAAAAAAAiJ9AAAAAAACMn0AAAAAAAJCfQAAAAAAAlJ9AAAAAAACYn0AAAAAAAJyfQA==",
          "dtype": "f8"
         },
         "xaxis": "x",
         "y": {
          "bdata": "AQEBAgIEBAg=",
          "dtype": "i1"
         },
         "yaxis": "y"
        },
        {
         "customdata": [
          [
           "robotics"
          ],
          [
           "robotics"
          ],
          [
           "robotics"
          ],
          [
           "robotics"
          ],
          [
           "robotics"
          ],
          [
           "robotics"
          ],
          [
           "robotics"
          ],
          [
           "robotics"
          ],
          [
           "robotics"
          ],
          [
           "robotics"
          ],
          [
           "robotics"
          ],
          [
           "robotics"
          ],
          [
           "robotics"
          ],
          [
           "robotics"
          ]
         ],
         "hovertemplate": "Industry=%{customdata[0]}<br>Year Founded=%{x}<br>Number of Companies=%{y}<extra></extra>",
         "legendgroup": "robotics",
         "line": {
          "color": "#FECB52",
          "dash": "solid"
         },
         "marker": {
          "symbol": "circle"
         },
         "mode": "lines",
         "name": "robotics",
         "showlegend": true,
         "type": "scattergl",
         "x": {
          "bdata": "AAAAAABsn0AAAAAAAHCfQAAAAAAAdJ9AAAAAAAB4n0AAAAAAAHyfQAAAAAAAgJ9AAAAAAACEn0AAAAAAAIifQAAAAAAAjJ9AAAAAAACQn0AAAAAAAJSfQAAAAAAAmJ9AAAAAAACcn0AAAAAAAKCfQA==",
          "dtype": "f8"
         },
         "xaxis": "x",
         "y": {
          "bdata": "AQIBAgMBBwgDFA4LCxM=",
          "dtype": "i1"
         },
         "yaxis": "y"
        },
        {
         "customdata": [
          [
           "sales"
          ],
          [
           "sales"
          ],
          [
           "sales"
          ],
          [
           "sales"
          ],
          [
           "sales"
          ],
          [
           "sales"
          ],
          [
           "sales"
          ],
          [
           "sales"
          ],
          [
           "sales"
          ],
          [
           "sales"
          ],
          [
           "sales"
          ]
         ],
         "hovertemplate": "Industry=%{customdata[0]}<br>Year Founded=%{x}<br>Number of Companies=%{y}<extra></extra>",
         "legendgroup": "sales",
         "line": {
          "color": "#636efa",
          "dash": "solid"
         },
         "marker": {
          "symbol": "circle"
         },
         "mode": "lines",
         "name": "sales",
         "showlegend": true,
         "type": "scattergl",
         "x": {
          "bdata": "AAAAAABsn0AAAAAAAHyfQAAAAAAAgJ9AAAAAAACIn0AAAAAAAIyfQAAAAAAAkJ9AAAAAAACUn0AAAAAAAJifQAAAAAAAnJ9AAAAAAACgn0AAAAAAAKSfQA==",
          "dtype": "f8"
         },
         "xaxis": "x",
         "y": {
          "bdata": "AQIDAwkZEywtCgM=",
          "dtype": "i1"
         },
         "yaxis": "y"
        },
        {
         "customdata": [
          [
           "sms"
          ],
          [
           "sms"
          ],
          [
           "sms"
          ],
          [
           "sms"
          ],
          [
           "sms"
          ],
          [
           "sms"
          ]
         ],
         "hovertemplate": "Industry=%{customdata[0]}<br>Year Founded=%{x}<br>Number of Companies=%{y}<extra></extra>",
         "legendgroup": "sms",
         "line": {
          "color": "#EF553B",
          "dash": "solid"
         },
         "marker": {
          "symbol": "circle"
         },
         "mode": "lines",
         "name": "sms",
         "showlegend": true,
         "type": "scattergl",
         "x": {
          "bdata": "AAAAAABsn0AAAAAAAHifQAAAAAAAhJ9AAAAAAACYn0AAAAAAAJyfQAAAAAAAoJ9A",
          "dtype": "f8"
         },
         "xaxis": "x",
         "y": {
          "bdata": "AQECAgQD",
          "dtype": "i1"
         },
         "yaxis": "y"
        },
        {
         "customdata": [
          [
           "sustainable-tourism"
          ],
          [
           "sustainable-tourism"
          ],
          [
           "sustainable-tourism"
          ]
         ],
         "hovertemplate": "Industry=%{customdata[0]}<br>Year Founded=%{x}<br>Number of Companies=%{y}<extra></extra>",
         "legendgroup": "sustainable-tourism",
         "line": {
          "color": "#00cc96",
          "dash": "solid"
         },
         "marker": {
          "symbol": "circle"
         },
         "mode": "lines",
         "name": "sustainable-tourism",
         "showlegend": true,
         "type": "scattergl",
         "x": {
          "bdata": "AAAAAABsn0AAAAAAAIifQAAAAAAAlJ9A",
          "dtype": "f8"
         },
         "xaxis": "x",
         "y": {
          "bdata": "AQEC",
          "dtype": "i1"
         },
         "yaxis": "y"
        },
        {
         "customdata": [
          [
           "apparel"
          ],
          [
           "apparel"
          ],
          [
           "apparel"
          ]
         ],
         "hovertemplate": "Industry=%{customdata[0]}<br>Year Founded=%{x}<br>Number of Companies=%{y}<extra></extra>",
         "legendgroup": "apparel",
         "line": {
          "color": "#ab63fa",
          "dash": "solid"
         },
         "marker": {
          "symbol": "circle"
         },
         "mode": "lines",
         "name": "apparel",
         "showlegend": true,
         "type": "scattergl",
         "x": {
          "bdata": "AAAAAABwn0AAAAAAAICfQAAAAAAAoJ9A",
          "dtype": "f8"
         },
         "xaxis": "x",
         "y": {
          "bdata": "AgEB",
          "dtype": "i1"
         },
         "yaxis": "y"
        },
        {
         "customdata": [
          [
           "assistive-tech"
          ],
          [
           "assistive-tech"
          ],
          [
           "assistive-tech"
          ],
          [
           "assistive-tech"
          ],
          [
           "assistive-tech"
          ],
          [
           "assistive-tech"
          ]
         ],
         "hovertemplate": "Industry=%{customdata[0]}<br>Year Founded=%{x}<br>Number of Companies=%{y}<extra></extra>",
         "legendgroup": "assistive-tech",
         "line": {
          "color": "#FFA15A",
          "dash": "solid"
         },
         "marker": {
          "symbol": "circle"
         },
         "mode": "lines",
         "name": "assistive-tech",
         "showlegend": true,
         "type": "scattergl",
         "x": {
          "bdata": "AAAAAABwn0AAAAAAAHSfQAAAAAAAfJ9AAAAAAACAn0AAAAAAAISfQAAAAAAAlJ9A",
          "dtype": "f8"
         },
         "xaxis": "x",
         "y": {
          "bdata": "AQEBAQME",
          "dtype": "i1"
         },
         "yaxis": "y"
        },
        {
         "customdata": [
          [
           "beauty"
          ],
          [
           "beauty"
          ],
          [
           "beauty"
          ],
          [
           "beauty"
          ],
          [
           "beauty"
          ]
         ],
         "hovertemplate": "Industry=%{customdata[0]}<br>Year Founded=%{x}<br>Number of Companies=%{y}<extra></extra>",
         "legendgroup": "beauty",
         "line": {
          "color": "#19d3f3",
          "dash": "solid"
         },
         "marker": {
          "symbol": "circle"
         },
         "mode": "lines",
         "name": "beauty",
         "showlegend": true,
         "type": "scattergl",
         "x": {
          "bdata": "AAAAAABwn0AAAAAAAHyfQAAAAAAAjJ9AAAAAAACQn0AAAAAAAJSfQA==",
          "dtype": "f8"
         },
         "xaxis": "x",
         "y": {
          "bdata": "AQICAgI=",
          "dtype": "i1"
         },
         "yaxis": "y"
        },
        {
         "customdata": [
          [
           "cashierless-checkout"
          ],
          [
           "cashierless-checkout"
          ],
          [
           "cashierless-checkout"
          ]
         ],
         "hovertemplate": "Industry=%{customdata[0]}<br>Year Founded=%{x}<br>Number of Companies=%{y}<extra></extra>",
         "legendgroup": "cashierless-checkout",
         "line": {
          "color": "#FF6692",
          "dash": "solid"
         },
         "marker": {
          "symbol": "circle"
         },
         "mode": "lines",
         "name": "cashierless-checkout",
         "showlegend": true,
         "type": "scattergl",
         "x": {
          "bdata": "AAAAAABwn0AAAAAAAHifQAAAAAAAkJ9A",
          "dtype": "f8"
         },
         "xaxis": "x",
         "y": {
          "bdata": "AQEC",
          "dtype": "i1"
         },
         "yaxis": "y"
        },
        {
         "customdata": [
          [
           "coding-bootcamps"
          ]
         ],
         "hovertemplate": "Industry=%{customdata[0]}<br>Year Founded=%{x}<br>Number of Companies=%{y}<extra></extra>",
         "legendgroup": "coding-bootcamps",
         "line": {
          "color": "#B6E880",
          "dash": "solid"
         },
         "marker": {
          "symbol": "circle"
         },
         "mode": "lines",
         "name": "coding-bootcamps",
         "showlegend": true,
         "type": "scattergl",
         "x": {
          "bdata": "AAAAAABwn0A=",
          "dtype": "f8"
         },
         "xaxis": "x",
         "y": {
          "bdata": "AQ==",
          "dtype": "i1"
         },
         "yaxis": "y"
        },
        {
         "customdata": [
          [
           "construction"
          ],
          [
           "construction"
          ],
          [
           "construction"
          ],
          [
           "construction"
          ],
          [
           "construction"
          ],
          [
           "construction"
          ],
          [
           "construction"
          ],
          [
           "construction"
          ],
          [
           "construction"
          ],
          [
           "construction"
          ],
          [
           "construction"
          ],
          [
           "construction"
          ],
          [
           "construction"
          ]
         ],
         "hovertemplate": "Industry=%{customdata[0]}<br>Year Founded=%{x}<br>Number of Companies=%{y}<extra></extra>",
         "legendgroup": "construction",
         "line": {
          "color": "#FF97FF",
          "dash": "solid"
         },
         "marker": {
          "symbol": "circle"
         },
         "mode": "lines",
         "name": "construction",
         "showlegend": true,
         "type": "scattergl",
         "x": {
          "bdata": "AAAAAABwn0AAAAAAAHSfQAAAAAAAeJ9AAAAAAACAn0AAAAAAAISfQAAAAAAAiJ9AAAAAAACMn0AAAAAAAJCfQAAAAAAAlJ9AAAAAAACYn0AAAAAAAJyfQAAAAAAAoJ9AAAAAAACkn0A=",
          "dtype": "f8"
         },
         "xaxis": "x",
         "y": {
          "bdata": "AQECAQIEDQwUDAoDAw==",
          "dtype": "i1"
         },
         "yaxis": "y"
        },
        {
         "customdata": [
          [
           "customer-success"
          ],
          [
           "customer-success"
          ],
          [
           "customer-success"
          ],
          [
           "customer-success"
          ],
          [
           "customer-success"
          ],
          [
           "customer-success"
          ],
          [
           "customer-success"
          ],
          [
           "customer-success"
          ]
         ],
         "hovertemplate": "Industry=%{customdata[0]}<br>Year Founded=%{x}<br>Number of Companies=%{y}<extra></extra>",
         "legendgroup": "customer-success",
         "line": {
          "color": "#FECB52",
          "dash": "solid"
         },
         "marker": {
          "symbol": "circle"
         },
         "mode": "lines",
         "name": "customer-success",
         "showlegend": true,
         "type": "scattergl",
         "x": {
          "bdata": "AAAAAABwn0AAAAAAAHyfQAAAAAAAiJ9AAAAAAACMn0AAAAAAAJCfQAAAAAAAlJ9AAAAAAACYn0AAAAAAAJyfQA==",
          "dtype": "f8"
         },
         "xaxis": "x",
         "y": {
          "bdata": "AQECAQYICg0=",
          "dtype": "i1"
         },
         "yaxis": "y"
        },
        {
         "customdata": [
          [
           "customization"
          ]
         ],
         "hovertemplate": "Industry=%{customdata[0]}<br>Year Founded=%{x}<br>Number of Companies=%{y}<extra></extra>",
         "legendgroup": "customization",
         "line": {
          "color": "#636efa",
          "dash": "solid"
         },
         "marker": {
          "symbol": "circle"
         },
         "mode": "lines",
         "name": "customization",
         "showlegend": true,
         "type": "scattergl",
         "x": {
          "bdata": "AAAAAABwn0A=",
          "dtype": "f8"
         },
         "xaxis": "x",
         "y": {
          "bdata": "AQ==",
          "dtype": "i1"
         },
         "yaxis": "y"
        },
        {
         "customdata": [
          [
           "delivery"
          ],
          [
           "delivery"
          ],
          [
           "delivery"
          ],
          [
           "delivery"
          ],
          [
           "delivery"
          ],
          [
           "delivery"
          ],
          [
           "delivery"
          ],
          [
           "delivery"
          ],
          [
           "delivery"
          ],
          [
           "delivery"
          ],
          [
           "delivery"
          ]
         ],
         "hovertemplate": "Industry=%{customdata[0]}<br>Year Founded=%{x}<br>Number of Companies=%{y}<extra></extra>",
         "legendgroup": "delivery",
         "line": {
          "color": "#EF553B",
          "dash": "solid"
         },
         "marker": {
          "symbol": "circle"
         },
         "mode": "lines",
         "name": "delivery",
         "showlegend": true,
         "type": "scattergl",
         "x": {
          "bdata": "AAAAAABwn0AAAAAAAHSfQAAAAAAAeJ9AAAAAAAB8n0AAAAAAAICfQAAAAAAAhJ9AAAAAAACIn0AAAAAAAIyfQAAAAAAAkJ9AAAAAAACUn0AAAAAAAJifQA==",
          "dtype": "f8"
         },
         "xaxis": "x",
         "y": {
          "bdata": "AQMBAQEEAwkTFAQ=",
          "dtype": "i1"
         },
         "yaxis": "y"
        },
        {
         "customdata": [
          [
           "design"
          ],
          [
           "design"
          ],
          [
           "design"
          ],
          [
           "design"
          ],
          [
           "design"
          ],
          [
           "design"
          ],
          [
           "design"
          ]
         ],
         "hovertemplate": "Industry=%{customdata[0]}<br>Year Founded=%{x}<br>Number of Companies=%{y}<extra></extra>",
         "legendgroup": "design",
         "line": {
          "color": "#00cc96",
          "dash": "solid"
         },
         "marker": {
          "symbol": "circle"
         },
         "mode": "lines",
         "name": "design",
         "showlegend": true,
         "type": "scattergl",
         "x": {
          "bdata": "AAAAAABwn0AAAAAAAHSfQAAAAAAAiJ9AAAAAAACQn0AAAAAAAJifQAAAAAAAnJ9AAAAAAACgn0A=",
          "dtype": "f8"
         },
         "xaxis": "x",
         "y": {
          "bdata": "AQEBBgQFAw==",
          "dtype": "i1"
         },
         "yaxis": "y"
        },
        {
         "customdata": [
          [
           "digital-health"
          ],
          [
           "digital-health"
          ],
          [
           "digital-health"
          ],
          [
           "digital-health"
          ],
          [
           "digital-health"
          ],
          [
           "digital-health"
          ],
          [
           "digital-health"
          ],
          [
           "digital-health"
          ],
          [
           "digital-health"
          ],
          [
           "digital-health"
          ],
          [
           "digital-health"
          ],
          [
           "digital-health"
          ],
          [
           "digital-health"
          ]
         ],
         "hovertemplate": "Industry=%{customdata[0]}<br>Year Founded=%{x}<br>Number of Companies=%{y}<extra></extra>",
         "legendgroup": "digital-health",
         "line": {
          "color": "#ab63fa",
          "dash": "solid"
         },
         "marker": {
          "symbol": "circle"
         },
         "mode": "lines",
         "name": "digital-health",
         "showlegend": true,
         "type": "scattergl",
         "x": {
          "bdata": "AAAAAABwn0AAAAAAAHSfQAAAAAAAeJ9AAAAAAAB8n0AAAAAAAICfQAAAAAAAhJ9AAAAAAACIn0AAAAAAAIyfQAAAAAAAkJ9AAAAAAACUn0AAAAAAAJifQAAAAAAAnJ9AAAAAAACgn0A=",
          "dtype": "f8"
         },
         "xaxis": "x",
         "y": {
          "bdata": "AgEBAQYGBxIcIRQPDg==",
          "dtype": "i1"
         },
         "yaxis": "y"
        },
        {
         "customdata": [
          [
           "fashion"
          ],
          [
           "fashion"
          ],
          [
           "fashion"
          ],
          [
           "fashion"
          ],
          [
           "fashion"
          ],
          [
           "fashion"
          ],
          [
           "fashion"
          ],
          [
           "fashion"
          ]
         ],
         "hovertemplate": "Industry=%{customdata[0]}<br>Year Founded=%{x}<br>Number of Companies=%{y}<extra></extra>",
         "legendgroup": "fashion",
         "line": {
          "color": "#FFA15A",
          "dash": "solid"
         },
         "marker": {
          "symbol": "circle"
         },
         "mode": "lines",
         "name": "fashion",
         "showlegend": true,
         "type": "scattergl",
         "x": {
          "bdata": "AAAAAABwn0AAAAAAAHyfQAAAAAAAgJ9AAAAAAACMn0AAAAAAAJCfQAAAAAAAlJ9AAAAAAACcn0AAAAAAAKCfQA==",
          "dtype": "f8"
         },
         "xaxis": "x",
         "y": {
          "bdata": "AQEBAgICAgE=",
          "dtype": "i1"
         },
         "yaxis": "y"
        },
        {
         "customdata": [
          [
           "feedback"
          ],
          [
           "feedback"
          ],
          [
           "feedback"
          ]
         ],
         "hovertemplate": "Industry=%{customdata[0]}<br>Year Founded=%{x}<br>Number of Companies=%{y}<extra></extra>",
         "legendgroup": "feedback",
         "line": {
          "color": "#19d3f3",
          "dash": "solid"
         },
         "marker": {
          "symbol": "circle"
         },
         "mode": "lines",
         "name": "feedback",
         "showlegend": true,
         "type": "scattergl",
         "x": {
          "bdata": "AAAAAABwn0AAAAAAAJSfQAAAAAAAoJ9A",
          "dtype": "f8"
         },
         "xaxis": "x",
         "y": {
          "bdata": "AQIH",
          "dtype": "i1"
         },
         "yaxis": "y"
        },
        {
         "customdata": [
          [
           "fundraising"
          ],
          [
           "fundraising"
          ]
         ],
         "hovertemplate": "Industry=%{customdata[0]}<br>Year Founded=%{x}<br>Number of Companies=%{y}<extra></extra>",
         "legendgroup": "fundraising",
         "line": {
          "color": "#FF6692",
          "dash": "solid"
         },
         "marker": {
          "symbol": "circle"
         },
         "mode": "lines",
         "name": "fundraising",
         "showlegend": true,
         "type": "scattergl",
         "x": {
          "bdata": "AAAAAABwn0AAAAAAAJyfQA==",
          "dtype": "f8"
         },
         "xaxis": "x",
         "y": {
          "bdata": "AQQ=",
          "dtype": "i1"
         },
         "yaxis": "y"
        },
        {
         "customdata": [
          [
           "govtech"
          ],
          [
           "govtech"
          ],
          [
           "govtech"
          ],
          [
           "govtech"
          ],
          [
           "govtech"
          ],
          [
           "govtech"
          ],
          [
           "govtech"
          ],
          [
           "govtech"
          ],
          [
           "govtech"
          ],
          [
           "govtech"
          ],
          [
           "govtech"
          ],
          [
           "govtech"
          ],
          [
           "govtech"
          ]
         ],
         "hovertemplate": "Industry=%{customdata[0]}<br>Year Founded=%{x}<br>Number of Companies=%{y}<extra></extra>",
         "legendgroup": "govtech",
         "line": {
          "color": "#B6E880",
          "dash": "solid"
         },
         "marker": {
          "symbol": "circle"
         },
         "mode": "lines",
         "name": "govtech",
         "showlegend": true,
         "type": "scattergl",
         "x": {
          "bdata": "AAAAAABwn0AAAAAAAHSfQAAAAAAAfJ9AAAAAAACAn0AAAAAAAISfQAAAAAAAiJ9AAAAAAACMn0AAAAAAAJCfQAAAAAAAlJ9AAAAAAACYn0AAAAAAAJyfQAAAAAAAoJ9AAAAAAACkn0A=",
          "dtype": "f8"
         },
         "xaxis": "x",
         "y": {
          "bdata": "AgEEAgQCBAYKBAYIAw==",
          "dtype": "i1"
         },
         "yaxis": "y"
        },
        {
         "customdata": [
          [
           "graphql"
          ],
          [
           "graphql"
          ],
          [
           "graphql"
          ]
         ],
         "hovertemplate": "Industry=%{customdata[0]}<br>Year Founded=%{x}<br>Number of Companies=%{y}<extra></extra>",
         "legendgroup": "graphql",
         "line": {
          "color": "#FF97FF",
          "dash": "solid"
         },
         "marker": {
          "symbol": "circle"
         },
         "mode": "lines",
         "name": "graphql",
         "showlegend": true,
         "type": "scattergl",
         "x": {
          "bdata": "AAAAAABwn0AAAAAAAIifQAAAAAAAkJ9A",
          "dtype": "f8"
         },
         "xaxis": "x",
         "y": {
          "bdata": "AQEC",
          "dtype": "i1"
         },
         "yaxis": "y"
        },
        {
         "customdata": [
          [
           "grocery"
          ],
          [
           "grocery"
          ],
          [
           "grocery"
          ],
          [
           "grocery"
          ],
          [
           "grocery"
          ],
          [
           "grocery"
          ],
          [
           "grocery"
          ],
          [
           "grocery"
          ],
          [
           "grocery"
          ]
         ],
         "hovertemplate": "Industry=%{customdata[0]}<br>Year Founded=%{x}<br>Number of Companies=%{y}<extra></extra>",
         "legendgroup": "grocery",
         "line": {
          "color": "#FECB52",
          "dash": "solid"
         },
         "marker": {
          "symbol": "circle"
         },
         "mode": "lines",
         "name": "grocery",
         "showlegend": true,
         "type": "scattergl",
         "x": {
          "bdata": "AAAAAABwn0AAAAAAAICfQAAAAAAAhJ9AAAAAAACIn0AAAAAAAIyfQAAAAAAAkJ9AAAAAAACUn0AAAAAAAJifQAAAAAAAnJ9A",
          "dtype": "f8"
         },
         "xaxis": "x",
         "y": {
          "bdata": "AQIGAQQNBAQC",
          "dtype": "i1"
         },
         "yaxis": "y"
        },
        {
         "customdata": [
          [
           "hr-tech"
          ],
          [
           "hr-tech"
          ],
          [
           "hr-tech"
          ],
          [
           "hr-tech"
          ],
          [
           "hr-tech"
          ],
          [
           "hr-tech"
          ],
          [
           "hr-tech"
          ],
          [
           "hr-tech"
          ],
          [
           "hr-tech"
          ],
          [
           "hr-tech"
          ],
          [
           "hr-tech"
          ],
          [
           "hr-tech"
          ],
          [
           "hr-tech"
          ]
         ],
         "hovertemplate": "Industry=%{customdata[0]}<br>Year Founded=%{x}<br>Number of Companies=%{y}<extra></extra>",
         "legendgroup": "hr-tech",
         "line": {
          "color": "#636efa",
          "dash": "solid"
         },
         "marker": {
          "symbol": "circle"
         },
         "mode": "lines",
         "name": "hr-tech",
         "showlegend": true,
         "type": "scattergl",
         "x": {
          "bdata": "AAAAAABwn0AAAAAAAHifQAAAAAAAfJ9AAAAAAACAn0AAAAAAAISfQAAAAAAAiJ9AAAAAAACMn0AAAAAAAJCfQAAAAAAAlJ9AAAAAAACYn0AAAAAAAJyfQAAAAAAAoJ9AAAAAAACkn0A=",
          "dtype": "f8"
         },
         "xaxis": "x",
         "y": {
          "bdata": "AgMEBgUGDhgGCg4GAg==",
          "dtype": "i1"
         },
         "yaxis": "y"
        },
        {
         "customdata": [
          [
           "human-resources"
          ],
          [
           "human-resources"
          ],
          [
           "human-resources"
          ],
          [
           "human-resources"
          ],
          [
           "human-resources"
          ],
          [
           "human-resources"
          ],
          [
           "human-resources"
          ],
          [
           "human-resources"
          ],
          [
           "human-resources"
          ],
          [
           "human-resources"
          ],
          [
           "human-resources"
          ],
          [
           "human-resources"
          ]
         ],
         "hovertemplate": "Industry=%{customdata[0]}<br>Year Founded=%{x}<br>Number of Companies=%{y}<extra></extra>",
         "legendgroup": "human-resources",
         "line": {
          "color": "#EF553B",
          "dash": "solid"
         },
         "marker": {
          "symbol": "circle"
         },
         "mode": "lines",
         "name": "human-resources",
         "showlegend": true,
         "type": "scattergl",
         "x": {
          "bdata": "AAAAAABwn0AAAAAAAHifQAAAAAAAfJ9AAAAAAACAn0AAAAAAAISfQAAAAAAAiJ9AAAAAAACMn0AAAAAAAJCfQAAAAAAAlJ9AAAAAAACYn0AAAAAAAJyfQAAAAAAAoJ9A",
          "dtype": "f8"
         },
         "xaxis": "x",
         "y": {
          "bdata": "AQEDAwEEAgQEAgUD",
          "dtype": "i1"
         },
         "yaxis": "y"
        },
        {
         "customdata": [
          [
           "indoor-mapping"
          ],
          [
           "indoor-mapping"
          ]
         ],
         "hovertemplate": "Industry=%{customdata[0]}<br>Year Founded=%{x}<br>Number of Companies=%{y}<extra></extra>",
         "legendgroup": "indoor-mapping",
         "line": {
          "color": "#00cc96",
          "dash": "solid"
         },
         "marker": {
          "symbol": "circle"
         },
         "mode": "lines",
         "name": "indoor-mapping",
         "showlegend": true,
         "type": "scattergl",
         "x": {
          "bdata": "AAAAAABwn0AAAAAAAIifQA==",
          "dtype": "f8"
         },
         "xaxis": "x",
         "y": {
          "bdata": "AQE=",
          "dtype": "i1"
         },
         "yaxis": "y"
        },
        {
         "customdata": [
          [
           "logistics"
          ],
          [
           "logistics"
          ],
          [
           "logistics"
          ],
          [
           "logistics"
          ],
          [
           "logistics"
          ],
          [
           "logistics"
          ],
          [
           "logistics"
          ],
          [
           "logistics"
          ],
          [
           "logistics"
          ],
          [
           "logistics"
          ],
          [
           "logistics"
          ],
          [
           "logistics"
          ],
          [
           "logistics"
          ]
         ],
         "hovertemplate": "Industry=%{customdata[0]}<br>Year Founded=%{x}<br>Number of Companies=%{y}<extra></extra>",
         "legendgroup": "logistics",
         "line": {
          "color": "#ab63fa",
          "dash": "solid"
         },
         "marker": {
          "symbol": "circle"
         },
         "mode": "lines",
         "name": "logistics",
         "showlegend": true,
         "type": "scattergl",
         "x": {
          "bdata": "AAAAAABwn0AAAAAAAHSfQAAAAAAAeJ9AAAAAAAB8n0AAAAAAAICfQAAAAAAAhJ9AAAAAAACIn0AAAAAAAIyfQAAAAAAAkJ9AAAAAAACUn0AAAAAAAJifQAAAAAAAnJ9AAAAAAACgn0A=",
          "dtype": "f8"
         },
         "xaxis": "x",
         "y": {
          "bdata": "AQQIBQEHCA8ZGBQVDQ==",
          "dtype": "i1"
         },
         "yaxis": "y"
        },
        {
         "customdata": [
          [
           "manufacturing"
          ],
          [
           "manufacturing"
          ],
          [
           "manufacturing"
          ],
          [
           "manufacturing"
          ],
          [
           "manufacturing"
          ],
          [
           "manufacturing"
          ],
          [
           "manufacturing"
          ],
          [
           "manufacturing"
          ],
          [
           "manufacturing"
          ],
          [
           "manufacturing"
          ],
          [
           "manufacturing"
          ],
          [
           "manufacturing"
          ]
         ],
         "hovertemplate": "Industry=%{customdata[0]}<br>Year Founded=%{x}<br>Number of Companies=%{y}<extra></extra>",
         "legendgroup": "manufacturing",
         "line": {
          "color": "#FFA15A",
          "dash": "solid"
         },
         "marker": {
          "symbol": "circle"
         },
         "mode": "lines",
         "name": "manufacturing",
         "showlegend": true,
         "type": "scattergl",
         "x": {
          "bdata": "AAAAAABwn0AAAAAAAHifQAAAAAAAfJ9AAAAAAACAn0AAAAAAAISfQAAAAAAAiJ9AAAAAAACMn0AAAAAAAJCfQAAAAAAAlJ9AAAAAAACYn0AAAAAAAJyfQAAAAAAAoJ9A",
          "dtype": "f8"
         },
         "xaxis": "x",
         "y": {
          "bdata": "AQECAQMDAgkUDQ8Y",
          "dtype": "i1"
         },
         "yaxis": "y"
        },
        {
         "customdata": [
          [
           "medical-devices"
          ],
          [
           "medical-devices"
          ],
          [
           "medical-devices"
          ],
          [
           "medical-devices"
          ],
          [
           "medical-devices"
          ],
          [
           "medical-devices"
          ],
          [
           "medical-devices"
          ],
          [
           "medical-devices"
          ],
          [
           "medical-devices"
          ],
          [
           "medical-devices"
          ],
          [
           "medical-devices"
          ],
          [
           "medical-devices"
          ]
         ],
         "hovertemplate": "Industry=%{customdata[0]}<br>Year Founded=%{x}<br>Number of Companies=%{y}<extra></extra>",
         "legendgroup": "medical-devices",
         "line": {
          "color": "#19d3f3",
          "dash": "solid"
         },
         "marker": {
          "symbol": "circle"
         },
         "mode": "lines",
         "name": "medical-devices",
         "showlegend": true,
         "type": "scattergl",
         "x": {
          "bdata": "AAAAAABwn0AAAAAAAHSfQAAAAAAAeJ9AAAAAAAB8n0AAAAAAAICfQAAAAAAAhJ9AAAAAAACIn0AAAAAAAIyfQAAAAAAAkJ9AAAAAAACUn0AAAAAAAJifQAAAAAAAnJ9A",
          "dtype": "f8"
         },
         "xaxis": "x",
         "y": {
          "bdata": "AQEECAYMCxMNBgQG",
          "dtype": "i1"
         },
         "yaxis": "y"
        },
        {
         "customdata": [
          [
           "monitoring"
          ],
          [
           "monitoring"
          ],
          [
           "monitoring"
          ],
          [
           "monitoring"
          ]
         ],
         "hovertemplate": "Industry=%{customdata[0]}<br>Year Founded=%{x}<br>Number of Companies=%{y}<extra></extra>",
         "legendgroup": "monitoring",
         "line": {
          "color": "#FF6692",
          "dash": "solid"
         },
         "marker": {
          "symbol": "circle"
         },
         "mode": "lines",
         "name": "monitoring",
         "showlegend": true,
         "type": "scattergl",
         "x": {
          "bdata": "AAAAAABwn0AAAAAAAHSfQAAAAAAAkJ9AAAAAAACcn0A=",
          "dtype": "f8"
         },
         "xaxis": "x",
         "y": {
          "bdata": "AQECCg==",
          "dtype": "i1"
         },
         "yaxis": "y"
        },
        {
         "customdata": [
          [
           "procurement"
          ],
          [
           "procurement"
          ],
          [
           "procurement"
          ],
          [
           "procurement"
          ],
          [
           "procurement"
          ],
          [
           "procurement"
          ]
         ],
         "hovertemplate": "Industry=%{customdata[0]}<br>Year Founded=%{x}<br>Number of Companies=%{y}<extra></extra>",
         "legendgroup": "procurement",
         "line": {
          "color": "#B6E880",
          "dash": "solid"
         },
         "marker": {
          "symbol": "circle"
         },
         "mode": "lines",
         "name": "procurement",
         "showlegend": true,
         "type": "scattergl",
         "x": {
          "bdata": "AAAAAABwn0AAAAAAAIyfQAAAAAAAkJ9AAAAAAACUn0AAAAAAAJyfQAAAAAAAoJ9A",
          "dtype": "f8"
         },
         "xaxis": "x",
         "y": {
          "bdata": "AQEGAgcI",
          "dtype": "i1"
         },
         "yaxis": "y"
        },
        {
         "customdata": [
          [
           "smart-home-assistants"
          ],
          [
           "smart-home-assistants"
          ]
         ],
         "hovertemplate": "Industry=%{customdata[0]}<br>Year Founded=%{x}<br>Number of Companies=%{y}<extra></extra>",
         "legendgroup": "smart-home-assistants",
         "line": {
          "color": "#FF97FF",
          "dash": "solid"
         },
         "marker": {
          "symbol": "circle"
         },
         "mode": "lines",
         "name": "smart-home-assistants",
         "showlegend": true,
         "type": "scattergl",
         "x": {
          "bdata": "AAAAAABwn0AAAAAAAISfQA==",
          "dtype": "f8"
         },
         "xaxis": "x",
         "y": {
          "bdata": "AQE=",
          "dtype": "i1"
         },
         "yaxis": "y"
        },
        {
         "customdata": [
          [
           "talent-acquisition"
          ],
          [
           "talent-acquisition"
          ],
          [
           "talent-acquisition"
          ],
          [
           "talent-acquisition"
          ]
         ],
         "hovertemplate": "Industry=%{customdata[0]}<br>Year Founded=%{x}<br>Number of Companies=%{y}<extra></extra>",
         "legendgroup": "talent-acquisition",
         "line": {
          "color": "#FECB52",
          "dash": "solid"
         },
         "marker": {
          "symbol": "circle"
         },
         "mode": "lines",
         "name": "talent-acquisition",
         "showlegend": true,
         "type": "scattergl",
         "x": {
          "bdata": "AAAAAABwn0AAAAAAAIifQAAAAAAAjJ9AAAAAAACUn0A=",
          "dtype": "f8"
         },
         "xaxis": "x",
         "y": {
          "bdata": "AQECAg==",
          "dtype": "i1"
         },
         "yaxis": "y"
        },
        {
         "customdata": [
          [
           "time-series"
          ],
          [
           "time-series"
          ],
          [
           "time-series"
          ]
         ],
         "hovertemplate": "Industry=%{customdata[0]}<br>Year Founded=%{x}<br>Number of Companies=%{y}<extra></extra>",
         "legendgroup": "time-series",
         "line": {
          "color": "#636efa",
          "dash": "solid"
         },
         "marker": {
          "symbol": "circle"
         },
         "mode": "lines",
         "name": "time-series",
         "showlegend": true,
         "type": "scattergl",
         "x": {
          "bdata": "AAAAAABwn0AAAAAAAIyfQAAAAAAAoJ9A",
          "dtype": "f8"
         },
         "xaxis": "x",
         "y": {
          "bdata": "AQIC",
          "dtype": "i1"
         },
         "yaxis": "y"
        },
        {
         "customdata": [
          [
           "warehouse-management-tech"
          ],
          [
           "warehouse-management-tech"
          ],
          [
           "warehouse-management-tech"
          ],
          [
           "warehouse-management-tech"
          ],
          [
           "warehouse-management-tech"
          ],
          [
           "warehouse-management-tech"
          ],
          [
           "warehouse-management-tech"
          ],
          [
           "warehouse-management-tech"
          ],
          [
           "warehouse-management-tech"
          ]
         ],
         "hovertemplate": "Industry=%{customdata[0]}<br>Year Founded=%{x}<br>Number of Companies=%{y}<extra></extra>",
         "legendgroup": "warehouse-management-tech",
         "line": {
          "color": "#EF553B",
          "dash": "solid"
         },
         "marker": {
          "symbol": "circle"
         },
         "mode": "lines",
         "name": "warehouse-management-tech",
         "showlegend": true,
         "type": "scattergl",
         "x": {
          "bdata": "AAAAAABwn0AAAAAAAHifQAAAAAAAhJ9AAAAAAACIn0AAAAAAAIyfQAAAAAAAkJ9AAAAAAACUn0AAAAAAAJifQAAAAAAAoJ9A",
          "dtype": "f8"
         },
         "xaxis": "x",
         "y": {
          "bdata": "AQEBAwQEBAIG",
          "dtype": "i1"
         },
         "yaxis": "y"
        },
        {
         "customdata": [
          [
           "advanced-materials"
          ],
          [
           "advanced-materials"
          ]
         ],
         "hovertemplate": "Industry=%{customdata[0]}<br>Year Founded=%{x}<br>Number of Companies=%{y}<extra></extra>",
         "legendgroup": "advanced-materials",
         "line": {
          "color": "#00cc96",
          "dash": "solid"
         },
         "marker": {
          "symbol": "circle"
         },
         "mode": "lines",
         "name": "advanced-materials",
         "showlegend": true,
         "type": "scattergl",
         "x": {
          "bdata": "AAAAAAB0n0AAAAAAAIifQA==",
          "dtype": "f8"
         },
         "xaxis": "x",
         "y": {
          "bdata": "AQE=",
          "dtype": "i1"
         },
         "yaxis": "y"
        },
        {
         "customdata": [
          [
           "aiops"
          ],
          [
           "aiops"
          ],
          [
           "aiops"
          ],
          [
           "aiops"
          ],
          [
           "aiops"
          ],
          [
           "aiops"
          ],
          [
           "aiops"
          ],
          [
           "aiops"
          ],
          [
           "aiops"
          ],
          [
           "aiops"
          ],
          [
           "aiops"
          ],
          [
           "aiops"
          ]
         ],
         "hovertemplate": "Industry=%{customdata[0]}<br>Year Founded=%{x}<br>Number of Companies=%{y}<extra></extra>",
         "legendgroup": "aiops",
         "line": {
          "color": "#ab63fa",
          "dash": "solid"
         },
         "marker": {
          "symbol": "circle"
         },
         "mode": "lines",
         "name": "aiops",
         "showlegend": true,
         "type": "scattergl",
         "x": {
          "bdata": "AAAAAAB0n0AAAAAAAHifQAAAAAAAfJ9AAAAAAACAn0AAAAAAAIifQAAAAAAAjJ9AAAAAAACQn0AAAAAAAJSfQAAAAAAAmJ9AAAAAAACcn0AAAAAAAKCfQAAAAAAApJ9A",
          "dtype": "f8"
         },
         "xaxis": "x",
         "y": {
          "bdata": "AQEBAQEEAg0QEBQD",
          "dtype": "i1"
         },
         "yaxis": "y"
        },
        {
         "customdata": [
          [
           "air-taxis"
          ],
          [
           "air-taxis"
          ],
          [
           "air-taxis"
          ],
          [
           "air-taxis"
          ],
          [
           "air-taxis"
          ]
         ],
         "hovertemplate": "Industry=%{customdata[0]}<br>Year Founded=%{x}<br>Number of Companies=%{y}<extra></extra>",
         "legendgroup": "air-taxis",
         "line": {
          "color": "#FFA15A",
          "dash": "solid"
         },
         "marker": {
          "symbol": "circle"
         },
         "mode": "lines",
         "name": "air-taxis",
         "showlegend": true,
         "type": "scattergl",
         "x": {
          "bdata": "AAAAAAB0n0AAAAAAAICfQAAAAAAAhJ9AAAAAAACIn0AAAAAAAIyfQA==",
          "dtype": "f8"
         },
         "xaxis": "x",
         "y": {
          "bdata": "AQEBAQE=",
          "dtype": "i1"
         },
         "yaxis": "y"
        },
        {
         "customdata": [
          [
           "autonomous-delivery"
          ],
          [
           "autonomous-delivery"
          ],
          [
           "autonomous-delivery"
          ],
          [
           "autonomous-delivery"
          ]
         ],
         "hovertemplate": "Industry=%{customdata[0]}<br>Year Founded=%{x}<br>Number of Companies=%{y}<extra></extra>",
         "legendgroup": "autonomous-delivery",
         "line": {
          "color": "#19d3f3",
          "dash": "solid"
         },
         "marker": {
          "symbol": "circle"
         },
         "mode": "lines",
         "name": "autonomous-delivery",
         "showlegend": true,
         "type": "scattergl",
         "x": {
          "bdata": "AAAAAAB0n0AAAAAAAHyfQAAAAAAAiJ9AAAAAAACQn0A=",
          "dtype": "f8"
         },
         "xaxis": "x",
         "y": {
          "bdata": "AQECBg==",
          "dtype": "i1"
         },
         "yaxis": "y"
        },
        {
         "customdata": [
          [
           "big-data"
          ],
          [
           "big-data"
          ],
          [
           "big-data"
          ],
          [
           "big-data"
          ],
          [
           "big-data"
          ],
          [
           "big-data"
          ],
          [
           "big-data"
          ],
          [
           "big-data"
          ],
          [
           "big-data"
          ]
         ],
         "hovertemplate": "Industry=%{customdata[0]}<br>Year Founded=%{x}<br>Number of Companies=%{y}<extra></extra>",
         "legendgroup": "big-data",
         "line": {
          "color": "#FF6692",
          "dash": "solid"
         },
         "marker": {
          "symbol": "circle"
         },
         "mode": "lines",
         "name": "big-data",
         "showlegend": true,
         "type": "scattergl",
         "x": {
          "bdata": "AAAAAAB0n0AAAAAAAICfQAAAAAAAhJ9AAAAAAACMn0AAAAAAAJCfQAAAAAAAlJ9AAAAAAACYn0AAAAAAAJyfQAAAAAAAoJ9A",
          "dtype": "f8"
         },
         "xaxis": "x",
         "y": {
          "bdata": "AQEBAgIGAgoF",
          "dtype": "i1"
         },
         "yaxis": "y"
        },
        {
         "customdata": [
          [
           "booking"
          ]
         ],
         "hovertemplate": "Industry=%{customdata[0]}<br>Year Founded=%{x}<br>Number of Companies=%{y}<extra></extra>",
         "legendgroup": "booking",
         "line": {
          "color": "#B6E880",
          "dash": "solid"
         },
         "marker": {
          "symbol": "circle"
         },
         "mode": "lines",
         "name": "booking",
         "showlegend": true,
         "type": "scattergl",
         "x": {
          "bdata": "AAAAAAB0n0A=",
          "dtype": "f8"
         },
         "xaxis": "x",
         "y": {
          "bdata": "AQ==",
          "dtype": "i1"
         },
         "yaxis": "y"
        },
        {
         "customdata": [
          [
           "civic-tech"
          ],
          [
           "civic-tech"
          ],
          [
           "civic-tech"
          ],
          [
           "civic-tech"
          ],
          [
           "civic-tech"
          ],
          [
           "civic-tech"
          ]
         ],
         "hovertemplate": "Industry=%{customdata[0]}<br>Year Founded=%{x}<br>Number of Companies=%{y}<extra></extra>",
         "legendgroup": "civic-tech",
         "line": {
          "color": "#FF97FF",
          "dash": "solid"
         },
         "marker": {
          "symbol": "circle"
         },
         "mode": "lines",
         "name": "civic-tech",
         "showlegend": true,
         "type": "scattergl",
         "x": {
          "bdata": "AAAAAAB0n0AAAAAAAHyfQAAAAAAAhJ9AAAAAAACMn0AAAAAAAJifQAAAAAAAnJ9A",
          "dtype": "f8"
         },
         "xaxis": "x",
         "y": {
          "bdata": "AQIBAQIG",
          "dtype": "i1"
         },
         "yaxis": "y"
        },
        {
         "customdata": [
          [
           "climate"
          ],
          [
           "climate"
          ],
          [
           "climate"
          ],
          [
           "climate"
          ],
          [
           "climate"
          ],
          [
           "climate"
          ],
          [
           "climate"
          ],
          [
           "climate"
          ],
          [
           "climate"
          ],
          [
           "climate"
          ],
          [
           "climate"
          ],
          [
           "climate"
          ]
         ],
         "hovertemplate": "Industry=%{customdata[0]}<br>Year Founded=%{x}<br>Number of Companies=%{y}<extra></extra>",
         "legendgroup": "climate",
         "line": {
          "color": "#FECB52",
          "dash": "solid"
         },
         "marker": {
          "symbol": "circle"
         },
         "mode": "lines",
         "name": "climate",
         "showlegend": true,
         "type": "scattergl",
         "x": {
          "bdata": "AAAAAAB0n0AAAAAAAHifQAAAAAAAfJ9AAAAAAACAn0AAAAAAAISfQAAAAAAAiJ9AAAAAAACMn0AAAAAAAJCfQAAAAAAAlJ9AAAAAAACYn0AAAAAAAJyfQAAAAAAAoJ9A",
          "dtype": "f8"
         },
         "xaxis": "x",
         "y": {
          "bdata": "BQQGBQgLFzVCHhQX",
          "dtype": "i1"
         },
         "yaxis": "y"
        },
        {
         "customdata": [
          [
           "climatetech"
          ],
          [
           "climatetech"
          ],
          [
           "climatetech"
          ],
          [
           "climatetech"
          ],
          [
           "climatetech"
          ],
          [
           "climatetech"
          ],
          [
           "climatetech"
          ],
          [
           "climatetech"
          ],
          [
           "climatetech"
          ],
          [
           "climatetech"
          ],
          [
           "climatetech"
          ]
         ],
         "hovertemplate": "Industry=%{customdata[0]}<br>Year Founded=%{x}<br>Number of Companies=%{y}<extra></extra>",
         "legendgroup": "climatetech",
         "line": {
          "color": "#636efa",
          "dash": "solid"
         },
         "marker": {
          "symbol": "circle"
         },
         "mode": "lines",
         "name": "climatetech",
         "showlegend": true,
         "type": "scattergl",
         "x": {
          "bdata": "AAAAAAB0n0AAAAAAAHyfQAAAAAAAgJ9AAAAAAACEn0AAAAAAAIifQAAAAAAAjJ9AAAAAAACQn0AAAAAAAJSfQAAAAAAAmJ9AAAAAAACcn0AAAAAAAKCfQA==",
          "dtype": "f8"
         },
         "xaxis": "x",
         "y": {
          "bdata": "AQEBAgIECAwMBwM=",
          "dtype": "i1"
         },
         "yaxis": "y"
        },
        {
         "customdata": [
          [
           "defi"
          ],
          [
           "defi"
          ],
          [
           "defi"
          ],
          [
           "defi"
          ],
          [
           "defi"
          ],
          [
           "defi"
          ]
         ],
         "hovertemplate": "Industry=%{customdata[0]}<br>Year Founded=%{x}<br>Number of Companies=%{y}<extra></extra>",
         "legendgroup": "defi",
         "line": {
          "color": "#EF553B",
          "dash": "solid"
         },
         "marker": {
          "symbol": "circle"
         },
         "mode": "lines",
         "name": "defi",
         "showlegend": true,
         "type": "scattergl",
         "x": {
          "bdata": "AAAAAAB0n0AAAAAAAIifQAAAAAAAjJ9AAAAAAACQn0AAAAAAAJSfQAAAAAAAmJ9A",
          "dtype": "f8"
         },
         "xaxis": "x",
         "y": {
          "bdata": "AQEDBAQM",
          "dtype": "i1"
         },
         "yaxis": "y"
        },
        {
         "customdata": [
          [
           "devops"
          ],
          [
           "devops"
          ],
          [
           "devops"
          ],
          [
           "devops"
          ],
          [
           "devops"
          ],
          [
           "devops"
          ],
          [
           "devops"
          ],
          [
           "devops"
          ],
          [
           "devops"
          ]
         ],
         "hovertemplate": "Industry=%{customdata[0]}<br>Year Founded=%{x}<br>Number of Companies=%{y}<extra></extra>",
         "legendgroup": "devops",
         "line": {
          "color": "#00cc96",
          "dash": "solid"
         },
         "marker": {
          "symbol": "circle"
         },
         "mode": "lines",
         "name": "devops",
         "showlegend": true,
         "type": "scattergl",
         "x": {
          "bdata": "AAAAAAB0n0AAAAAAAIifQAAAAAAAjJ9AAAAAAACQn0AAAAAAAJSfQAAAAAAAmJ9AAAAAAACcn0AAAAAAAKCfQAAAAAAApJ9A",
          "dtype": "f8"
         },
         "xaxis": "x",
         "y": {
          "bdata": "AgEBCAYGFAwD",
          "dtype": "i1"
         },
         "yaxis": "y"
        },
        {
         "customdata": [
          [
           "drug-discovery"
          ],
          [
           "drug-discovery"
          ],
          [
           "drug-discovery"
          ],
          [
           "drug-discovery"
          ],
          [
           "drug-discovery"
          ],
          [
           "drug-discovery"
          ],
          [
           "drug-discovery"
          ],
          [
           "drug-discovery"
          ],
          [
           "drug-discovery"
          ],
          [
           "drug-discovery"
          ],
          [
           "drug-discovery"
          ]
         ],
         "hovertemplate": "Industry=%{customdata[0]}<br>Year Founded=%{x}<br>Number of Companies=%{y}<extra></extra>",
         "legendgroup": "drug-discovery",
         "line": {
          "color": "#ab63fa",
          "dash": "solid"
         },
         "marker": {
          "symbol": "circle"
         },
         "mode": "lines",
         "name": "drug-discovery",
         "showlegend": true,
         "type": "scattergl",
         "x": {
          "bdata": "AAAAAAB0n0AAAAAAAHifQAAAAAAAfJ9AAAAAAACEn0AAAAAAAIifQAAAAAAAjJ9AAAAAAACQn0AAAAAAAJSfQAAAAAAAmJ9AAAAAAACcn0AAAAAAAKCfQA==",
          "dtype": "f8"
         },
         "xaxis": "x",
         "y": {
          "bdata": "AQEDAgQDAgoIBwY=",
          "dtype": "i1"
         },
         "yaxis": "y"
        },
        {
         "customdata": [
          [
           "energy"
          ],
          [
           "energy"
          ],
          [
           "energy"
          ],
          [
           "energy"
          ],
          [
           "energy"
          ],
          [
           "energy"
          ],
          [
           "energy"
          ],
          [
           "energy"
          ],
          [
           "energy"
          ],
          [
           "energy"
          ]
         ],
         "hovertemplate": "Industry=%{customdata[0]}<br>Year Founded=%{x}<br>Number of Companies=%{y}<extra></extra>",
         "legendgroup": "energy",
         "line": {
          "color": "#FFA15A",
          "dash": "solid"
         },
         "marker": {
          "symbol": "circle"
         },
         "mode": "lines",
         "name": "energy",
         "showlegend": true,
         "type": "scattergl",
         "x": {
          "bdata": "AAAAAAB0n0AAAAAAAHyfQAAAAAAAgJ9AAAAAAACEn0AAAAAAAIyfQAAAAAAAkJ9AAAAAAACUn0AAAAAAAJifQAAAAAAAnJ9AAAAAAACgn0A=",
          "dtype": "f8"
         },
         "xaxis": "x",
         "y": {
          "bdata": "AQMCAgMHCgwEAw==",
          "dtype": "i1"
         },
         "yaxis": "y"
        },
        {
         "customdata": [
          [
           "fusion-energy"
          ]
         ],
         "hovertemplate": "Industry=%{customdata[0]}<br>Year Founded=%{x}<br>Number of Companies=%{y}<extra></extra>",
         "legendgroup": "fusion-energy",
         "line": {
          "color": "#19d3f3",
          "dash": "solid"
         },
         "marker": {
          "symbol": "circle"
         },
         "mode": "lines",
         "name": "fusion-energy",
         "showlegend": true,
         "type": "scattergl",
         "x": {
          "bdata": "AAAAAAB0n0A=",
          "dtype": "f8"
         },
         "xaxis": "x",
         "y": {
          "bdata": "AQ==",
          "dtype": "i1"
         },
         "yaxis": "y"
        },
        {
         "customdata": [
          [
           "identity"
          ],
          [
           "identity"
          ],
          [
           "identity"
          ],
          [
           "identity"
          ],
          [
           "identity"
          ],
          [
           "identity"
          ],
          [
           "identity"
          ]
         ],
         "hovertemplate": "Industry=%{customdata[0]}<br>Year Founded=%{x}<br>Number of Companies=%{y}<extra></extra>",
         "legendgroup": "identity",
         "line": {
          "color": "#FF6692",
          "dash": "solid"
         },
         "marker": {
          "symbol": "circle"
         },
         "mode": "lines",
         "name": "identity",
         "showlegend": true,
         "type": "scattergl",
         "x": {
          "bdata": "AAAAAAB0n0AAAAAAAICfQAAAAAAAiJ9AAAAAAACQn0AAAAAAAJSfQAAAAAAAmJ9AAAAAAACgn0A=",
          "dtype": "f8"
         },
         "xaxis": "x",
         "y": {
          "bdata": "AQEBAgoIAg==",
          "dtype": "i1"
         },
         "yaxis": "y"
        },
        {
         "customdata": [
          [
           "nanomedicine"
          ],
          [
           "nanomedicine"
          ],
          [
           "nanomedicine"
          ],
          [
           "nanomedicine"
          ],
          [
           "nanomedicine"
          ]
         ],
         "hovertemplate": "Industry=%{customdata[0]}<br>Year Founded=%{x}<br>Number of Companies=%{y}<extra></extra>",
         "legendgroup": "nanomedicine",
         "line": {
          "color": "#B6E880",
          "dash": "solid"
         },
         "marker": {
          "symbol": "circle"
         },
         "mode": "lines",
         "name": "nanomedicine",
         "showlegend": true,
         "type": "scattergl",
         "x": {
          "bdata": "AAAAAAB0n0AAAAAAAICfQAAAAAAAiJ9AAAAAAACUn0AAAAAAAJyfQA==",
          "dtype": "f8"
         },
         "xaxis": "x",
         "y": {
          "bdata": "AQEBAgI=",
          "dtype": "i1"
         },
         "yaxis": "y"
        },
        {
         "customdata": [
          [
           "notifications"
          ]
         ],
         "hovertemplate": "Industry=%{customdata[0]}<br>Year Founded=%{x}<br>Number of Companies=%{y}<extra></extra>",
         "legendgroup": "notifications",
         "line": {
          "color": "#FF97FF",
          "dash": "solid"
         },
         "marker": {
          "symbol": "circle"
         },
         "mode": "lines",
         "name": "notifications",
         "showlegend": true,
         "type": "scattergl",
         "x": {
          "bdata": "AAAAAAB0n0A=",
          "dtype": "f8"
         },
         "xaxis": "x",
         "y": {
          "bdata": "AQ==",
          "dtype": "i1"
         },
         "yaxis": "y"
        },
        {
         "customdata": [
          [
           "privacy"
          ],
          [
           "privacy"
          ],
          [
           "privacy"
          ],
          [
           "privacy"
          ],
          [
           "privacy"
          ],
          [
           "privacy"
          ],
          [
           "privacy"
          ],
          [
           "privacy"
          ]
         ],
         "hovertemplate": "Industry=%{customdata[0]}<br>Year Founded=%{x}<br>Number of Companies=%{y}<extra></extra>",
         "legendgroup": "privacy",
         "line": {
          "color": "#FECB52",
          "dash": "solid"
         },
         "marker": {
          "symbol": "circle"
         },
         "mode": "lines",
         "name": "privacy",
         "showlegend": true,
         "type": "scattergl",
         "x": {
          "bdata": "AAAAAAB0n0AAAAAAAHyfQAAAAAAAhJ9AAAAAAACQn0AAAAAAAJSfQAAAAAAAmJ9AAAAAAACcn0AAAAAAAKCfQA==",
          "dtype": "f8"
         },
         "xaxis": "x",
         "y": {
          "bdata": "AQICBAYCBQM=",
          "dtype": "i1"
         },
         "yaxis": "y"
        },
        {
         "customdata": [
          [
           "security"
          ],
          [
           "security"
          ],
          [
           "security"
          ],
          [
           "security"
          ],
          [
           "security"
          ],
          [
           "security"
          ],
          [
           "security"
          ],
          [
           "security"
          ],
          [
           "security"
          ],
          [
           "security"
          ],
          [
           "security"
          ]
         ],
         "hovertemplate": "Industry=%{customdata[0]}<br>Year Founded=%{x}<br>Number of Companies=%{y}<extra></extra>",
         "legendgroup": "security",
         "line": {
          "color": "#636efa",
          "dash": "solid"
         },
         "marker": {
          "symbol": "circle"
         },
         "mode": "lines",
         "name": "security",
         "showlegend": true,
         "type": "scattergl",
         "x": {
          "bdata": "AAAAAAB0n0AAAAAAAHyfQAAAAAAAgJ9AAAAAAACEn0AAAAAAAIifQAAAAAAAjJ9AAAAAAACQn0AAAAAAAJSfQAAAAAAAmJ9AAAAAAACcn0AAAAAAAKCfQA==",
          "dtype": "f8"
         },
         "xaxis": "x",
         "y": {
          "bdata": "AQIBCAQFFRoQDAw=",
          "dtype": "i1"
         },
         "yaxis": "y"
        },
        {
         "customdata": [
          [
           "self-driving-vehicles"
          ],
          [
           "self-driving-vehicles"
          ],
          [
           "self-driving-vehicles"
          ]
         ],
         "hovertemplate": "Industry=%{customdata[0]}<br>Year Founded=%{x}<br>Number of Companies=%{y}<extra></extra>",
         "legendgroup": "self-driving-vehicles",
         "line": {
          "color": "#EF553B",
          "dash": "solid"
         },
         "marker": {
          "symbol": "circle"
         },
         "mode": "lines",
         "name": "self-driving-vehicles",
         "showlegend": true,
         "type": "scattergl",
         "x": {
          "bdata": "AAAAAAB0n0AAAAAAAIifQAAAAAAAkJ9A",
          "dtype": "f8"
         },
         "xaxis": "x",
         "y": {
          "bdata": "AQEC",
          "dtype": "i1"
         },
         "yaxis": "y"
        },
        {
         "customdata": [
          [
           "small-modular-reactors"
          ],
          [
           "small-modular-reactors"
          ]
         ],
         "hovertemplate": "Industry=%{customdata[0]}<br>Year Founded=%{x}<br>Number of Companies=%{y}<extra></extra>",
         "legendgroup": "small-modular-reactors",
         "line": {
          "color": "#00cc96",
          "dash": "solid"
         },
         "marker": {
          "symbol": "circle"
         },
         "mode": "lines",
         "name": "small-modular-reactors",
         "showlegend": true,
         "type": "scattergl",
         "x": {
          "bdata": "AAAAAAB0n0AAAAAAAIifQA==",
          "dtype": "f8"
         },
         "xaxis": "x",
         "y": {
          "bdata": "AQE=",
          "dtype": "i1"
         },
         "yaxis": "y"
        },
        {
         "customdata": [
          [
           "smart-locks"
          ]
         ],
         "hovertemplate": "Industry=%{customdata[0]}<br>Year Founded=%{x}<br>Number of Companies=%{y}<extra></extra>",
         "legendgroup": "smart-locks",
         "line": {
          "color": "#ab63fa",
          "dash": "solid"
         },
         "marker": {
          "symbol": "circle"
         },
         "mode": "lines",
         "name": "smart-locks",
         "showlegend": true,
         "type": "scattergl",
         "x": {
          "bdata": "AAAAAAB0n0A=",
          "dtype": "f8"
         },
         "xaxis": "x",
         "y": {
          "bdata": "AQ==",
          "dtype": "i1"
         },
         "yaxis": "y"
        },
        {
         "customdata": [
          [
           "supply-chain"
          ],
          [
           "supply-chain"
          ],
          [
           "supply-chain"
          ],
          [
           "supply-chain"
          ],
          [
           "supply-chain"
          ],
          [
           "supply-chain"
          ],
          [
           "supply-chain"
          ],
          [
           "supply-chain"
          ],
          [
           "supply-chain"
          ],
          [
           "supply-chain"
          ],
          [
           "supply-chain"
          ]
         ],
         "hovertemplate": "Industry=%{customdata[0]}<br>Year Founded=%{x}<br>Number of Companies=%{y}<extra></extra>",
         "legendgroup": "supply-chain",
         "line": {
          "color": "#FFA15A",
          "dash": "solid"
         },
         "marker": {
          "symbol": "circle"
         },
         "mode": "lines",
         "name": "supply-chain",
         "showlegend": true,
         "type": "scattergl",
         "x": {
          "bdata": "AAAAAAB0n0AAAAAAAHifQAAAAAAAgJ9AAAAAAACEn0AAAAAAAIifQAAAAAAAjJ9AAAAAAACQn0AAAAAAAJSfQAAAAAAAmJ9AAAAAAACcn0AAAAAAAKCfQA==",
          "dtype": "f8"
         },
         "xaxis": "x",
         "y": {
          "bdata": "AQICBwcRDA8LEhA=",
          "dtype": "i1"
         },
         "yaxis": "y"
        },
        {
         "customdata": [
          [
           "telehealth"
          ],
          [
           "telehealth"
          ],
          [
           "telehealth"
          ],
          [
           "telehealth"
          ],
          [
           "telehealth"
          ],
          [
           "telehealth"
          ],
          [
           "telehealth"
          ],
          [
           "telehealth"
          ],
          [
           "telehealth"
          ]
         ],
         "hovertemplate": "Industry=%{customdata[0]}<br>Year Founded=%{x}<br>Number of Companies=%{y}<extra></extra>",
         "legendgroup": "telehealth",
         "line": {
          "color": "#19d3f3",
          "dash": "solid"
         },
         "marker": {
          "symbol": "circle"
         },
         "mode": "lines",
         "name": "telehealth",
         "showlegend": true,
         "type": "scattergl",
         "x": {
          "bdata": "AAAAAAB0n0AAAAAAAICfQAAAAAAAhJ9AAAAAAACIn0AAAAAAAIyfQAAAAAAAkJ9AAAAAAACUn0AAAAAAAJifQAAAAAAAoJ9A",
          "dtype": "f8"
         },
         "xaxis": "x",
         "y": {
          "bdata": "AQEBAgcEEgoC",
          "dtype": "i1"
         },
         "yaxis": "y"
        },
        {
         "customdata": [
          [
           "web-development"
          ],
          [
           "web-development"
          ],
          [
           "web-development"
          ],
          [
           "web-development"
          ],
          [
           "web-development"
          ],
          [
           "web-development"
          ]
         ],
         "hovertemplate": "Industry=%{customdata[0]}<br>Year Founded=%{x}<br>Number of Companies=%{y}<extra></extra>",
         "legendgroup": "web-development",
         "line": {
          "color": "#FF6692",
          "dash": "solid"
         },
         "marker": {
          "symbol": "circle"
         },
         "mode": "lines",
         "name": "web-development",
         "showlegend": true,
         "type": "scattergl",
         "x": {
          "bdata": "AAAAAAB0n0AAAAAAAHifQAAAAAAAkJ9AAAAAAACYn0AAAAAAAJyfQAAAAAAAoJ9A",
          "dtype": "f8"
         },
         "xaxis": "x",
         "y": {
          "bdata": "AQEIBAoJ",
          "dtype": "i1"
         },
         "yaxis": "y"
        },
        {
         "customdata": [
          [
           "aerospace"
          ],
          [
           "aerospace"
          ],
          [
           "aerospace"
          ],
          [
           "aerospace"
          ],
          [
           "aerospace"
          ],
          [
           "aerospace"
          ],
          [
           "aerospace"
          ],
          [
           "aerospace"
          ],
          [
           "aerospace"
          ],
          [
           "aerospace"
          ]
         ],
         "hovertemplate": "Industry=%{customdata[0]}<br>Year Founded=%{x}<br>Number of Companies=%{y}<extra></extra>",
         "legendgroup": "aerospace",
         "line": {
          "color": "#B6E880",
          "dash": "solid"
         },
         "marker": {
          "symbol": "circle"
         },
         "mode": "lines",
         "name": "aerospace",
         "showlegend": true,
         "type": "scattergl",
         "x": {
          "bdata": "AAAAAAB4n0AAAAAAAICfQAAAAAAAiJ9AAAAAAACMn0AAAAAAAJCfQAAAAAAAlJ9AAAAAAACYn0AAAAAAAJyfQAAAAAAAoJ9AAAAAAACkn0A=",
          "dtype": "f8"
         },
         "xaxis": "x",
         "y": {
          "bdata": "AQICAQQEBgYOAw==",
          "dtype": "i1"
         },
         "yaxis": "y"
        },
        {
         "customdata": [
          [
           "bioplastic"
          ],
          [
           "bioplastic"
          ],
          [
           "bioplastic"
          ]
         ],
         "hovertemplate": "Industry=%{customdata[0]}<br>Year Founded=%{x}<br>Number of Companies=%{y}<extra></extra>",
         "legendgroup": "bioplastic",
         "line": {
          "color": "#FF97FF",
          "dash": "solid"
         },
         "marker": {
          "symbol": "circle"
         },
         "mode": "lines",
         "name": "bioplastic",
         "showlegend": true,
         "type": "scattergl",
         "x": {
          "bdata": "AAAAAAB4n0AAAAAAAISfQAAAAAAAkJ9A",
          "dtype": "f8"
         },
         "xaxis": "x",
         "y": {
          "bdata": "AQEC",
          "dtype": "i1"
         },
         "yaxis": "y"
        },
        {
         "customdata": [
          [
           "cannabis"
          ],
          [
           "cannabis"
          ],
          [
           "cannabis"
          ],
          [
           "cannabis"
          ],
          [
           "cannabis"
          ]
         ],
         "hovertemplate": "Industry=%{customdata[0]}<br>Year Founded=%{x}<br>Number of Companies=%{y}<extra></extra>",
         "legendgroup": "cannabis",
         "line": {
          "color": "#FECB52",
          "dash": "solid"
         },
         "marker": {
          "symbol": "circle"
         },
         "mode": "lines",
         "name": "cannabis",
         "showlegend": true,
         "type": "scattergl",
         "x": {
          "bdata": "AAAAAAB4n0AAAAAAAHyfQAAAAAAAhJ9AAAAAAACIn0AAAAAAAIyfQA==",
          "dtype": "f8"
         },
         "xaxis": "x",
         "y": {
          "bdata": "AQEBAgE=",
          "dtype": "i1"
         },
         "yaxis": "y"
        },
        {
         "customdata": [
          [
           "carbon-capture-and-removal"
          ],
          [
           "carbon-capture-and-removal"
          ],
          [
           "carbon-capture-and-removal"
          ],
          [
           "carbon-capture-and-removal"
          ],
          [
           "carbon-capture-and-removal"
          ],
          [
           "carbon-capture-and-removal"
          ],
          [
           "carbon-capture-and-removal"
          ]
         ],
         "hovertemplate": "Industry=%{customdata[0]}<br>Year Founded=%{x}<br>Number of Companies=%{y}<extra></extra>",
         "legendgroup": "carbon-capture-and-removal",
         "line": {
          "color": "#636efa",
          "dash": "solid"
         },
         "marker": {
          "symbol": "circle"
         },
         "mode": "lines",
         "name": "carbon-capture-and-removal",
         "showlegend": true,
         "type": "scattergl",
         "x": {
          "bdata": "AAAAAAB4n0AAAAAAAISfQAAAAAAAiJ9AAAAAAACMn0AAAAAAAJCfQAAAAAAAlJ9AAAAAAACYn0A=",
          "dtype": "f8"
         },
         "xaxis": "x",
         "y": {
          "bdata": "AQIBAQoGAg==",
          "dtype": "i1"
         },
         "yaxis": "y"
        },
        {
         "customdata": [
          [
           "cellular-agriculture"
          ],
          [
           "cellular-agriculture"
          ],
          [
           "cellular-agriculture"
          ]
         ],
         "hovertemplate": "Industry=%{customdata[0]}<br>Year Founded=%{x}<br>Number of Companies=%{y}<extra></extra>",
         "legendgroup": "cellular-agriculture",
         "line": {
          "color": "#EF553B",
          "dash": "solid"
         },
         "marker": {
          "symbol": "circle"
         },
         "mode": "lines",
         "name": "cellular-agriculture",
         "showlegend": true,
         "type": "scattergl",
         "x": {
          "bdata": "AAAAAAB4n0AAAAAAAIyfQAAAAAAAlJ9A",
          "dtype": "f8"
         },
         "xaxis": "x",
         "y": {
          "bdata": "AQEE",
          "dtype": "i1"
         },
         "yaxis": "y"
        },
        {
         "customdata": [
          [
           "china"
          ]
         ],
         "hovertemplate": "Industry=%{customdata[0]}<br>Year Founded=%{x}<br>Number of Companies=%{y}<extra></extra>",
         "legendgroup": "china",
         "line": {
          "color": "#00cc96",
          "dash": "solid"
         },
         "marker": {
          "symbol": "circle"
         },
         "mode": "lines",
         "name": "china",
         "showlegend": true,
         "type": "scattergl",
         "x": {
          "bdata": "AAAAAAB4n0A=",
          "dtype": "f8"
         },
         "xaxis": "x",
         "y": {
          "bdata": "AQ==",
          "dtype": "i1"
         },
         "yaxis": "y"
        },
        {
         "customdata": [
          [
           "cloud-gaming"
          ],
          [
           "cloud-gaming"
          ],
          [
           "cloud-gaming"
          ]
         ],
         "hovertemplate": "Industry=%{customdata[0]}<br>Year Founded=%{x}<br>Number of Companies=%{y}<extra></extra>",
         "legendgroup": "cloud-gaming",
         "line": {
          "color": "#ab63fa",
          "dash": "solid"
         },
         "marker": {
          "symbol": "circle"
         },
         "mode": "lines",
         "name": "cloud-gaming",
         "showlegend": true,
         "type": "scattergl",
         "x": {
          "bdata": "AAAAAAB4n0AAAAAAAJCfQAAAAAAAlJ9A",
          "dtype": "f8"
         },
         "xaxis": "x",
         "y": {
          "bdata": "AQIC",
          "dtype": "i1"
         },
         "yaxis": "y"
        },
        {
         "customdata": [
          [
           "compliance"
          ],
          [
           "compliance"
          ],
          [
           "compliance"
          ],
          [
           "compliance"
          ],
          [
           "compliance"
          ],
          [
           "compliance"
          ],
          [
           "compliance"
          ],
          [
           "compliance"
          ],
          [
           "compliance"
          ],
          [
           "compliance"
          ]
         ],
         "hovertemplate": "Industry=%{customdata[0]}<br>Year Founded=%{x}<br>Number of Companies=%{y}<extra></extra>",
         "legendgroup": "compliance",
         "line": {
          "color": "#FFA15A",
          "dash": "solid"
         },
         "marker": {
          "symbol": "circle"
         },
         "mode": "lines",
         "name": "compliance",
         "showlegend": true,
         "type": "scattergl",
         "x": {
          "bdata": "AAAAAAB4n0AAAAAAAHyfQAAAAAAAhJ9AAAAAAACIn0AAAAAAAIyfQAAAAAAAkJ9AAAAAAACUn0AAAAAAAJifQAAAAAAAnJ9AAAAAAACgn0A=",
          "dtype": "f8"
         },
         "xaxis": "x",
         "y": {
          "bdata": "AQIEBgUIChIcEg==",
          "dtype": "i1"
         },
         "yaxis": "y"
        },
        {
         "customdata": [
          [
           "consumer-products"
          ],
          [
           "consumer-products"
          ],
          [
           "consumer-products"
          ],
          [
           "consumer-products"
          ],
          [
           "consumer-products"
          ],
          [
           "consumer-products"
          ],
          [
           "consumer-products"
          ]
         ],
         "hovertemplate": "Industry=%{customdata[0]}<br>Year Founded=%{x}<br>Number of Companies=%{y}<extra></extra>",
         "legendgroup": "consumer-products",
         "line": {
          "color": "#19d3f3",
          "dash": "solid"
         },
         "marker": {
          "symbol": "circle"
         },
         "mode": "lines",
         "name": "consumer-products",
         "showlegend": true,
         "type": "scattergl",
         "x": {
          "bdata": "AAAAAAB4n0AAAAAAAICfQAAAAAAAiJ9AAAAAAACUn0AAAAAAAJifQAAAAAAAoJ9AAAAAAACkn0A=",
          "dtype": "f8"
         },
         "xaxis": "x",
         "y": {
          "bdata": "AQECAgIGAw==",
          "dtype": "i1"
         },
         "yaxis": "y"
        },
        {
         "customdata": [
          [
           "data-science"
          ],
          [
           "data-science"
          ],
          [
           "data-science"
          ],
          [
           "data-science"
          ],
          [
           "data-science"
          ],
          [
           "data-science"
          ],
          [
           "data-science"
          ]
         ],
         "hovertemplate": "Industry=%{customdata[0]}<br>Year Founded=%{x}<br>Number of Companies=%{y}<extra></extra>",
         "legendgroup": "data-science",
         "line": {
          "color": "#FF6692",
          "dash": "solid"
         },
         "marker": {
          "symbol": "circle"
         },
         "mode": "lines",
         "name": "data-science",
         "showlegend": true,
         "type": "scattergl",
         "x": {
          "bdata": "AAAAAAB4n0AAAAAAAISfQAAAAAAAkJ9AAAAAAACUn0AAAAAAAJifQAAAAAAAnJ9AAAAAAACgn0A=",
          "dtype": "f8"
         },
         "xaxis": "x",
         "y": {
          "bdata": "AQEGBgQUCg==",
          "dtype": "i1"
         },
         "yaxis": "y"
        },
        {
         "customdata": [
          [
           "diversity-&-inclusion"
          ],
          [
           "diversity-&-inclusion"
          ],
          [
           "diversity-&-inclusion"
          ],
          [
           "diversity-&-inclusion"
          ],
          [
           "diversity-&-inclusion"
          ]
         ],
         "hovertemplate": "Industry=%{customdata[0]}<br>Year Founded=%{x}<br>Number of Companies=%{y}<extra></extra>",
         "legendgroup": "diversity-&-inclusion",
         "line": {
          "color": "#B6E880",
          "dash": "solid"
         },
         "marker": {
          "symbol": "circle"
         },
         "mode": "lines",
         "name": "diversity-&-inclusion",
         "showlegend": true,
         "type": "scattergl",
         "x": {
          "bdata": "AAAAAAB4n0AAAAAAAHyfQAAAAAAAhJ9AAAAAAACMn0AAAAAAAJCfQA==",
          "dtype": "f8"
         },
         "xaxis": "x",
         "y": {
          "bdata": "AQEBAgE=",
          "dtype": "i1"
         },
         "yaxis": "y"
        },
        {
         "customdata": [
          [
           "drones"
          ],
          [
           "drones"
          ],
          [
           "drones"
          ],
          [
           "drones"
          ],
          [
           "drones"
          ],
          [
           "drones"
          ],
          [
           "drones"
          ],
          [
           "drones"
          ],
          [
           "drones"
          ],
          [
           "drones"
          ]
         ],
         "hovertemplate": "Industry=%{customdata[0]}<br>Year Founded=%{x}<br>Number of Companies=%{y}<extra></extra>",
         "legendgroup": "drones",
         "line": {
          "color": "#FF97FF",
          "dash": "solid"
         },
         "marker": {
          "symbol": "circle"
         },
         "mode": "lines",
         "name": "drones",
         "showlegend": true,
         "type": "scattergl",
         "x": {
          "bdata": "AAAAAAB4n0AAAAAAAHyfQAAAAAAAgJ9AAAAAAACEn0AAAAAAAIifQAAAAAAAjJ9AAAAAAACQn0AAAAAAAJSfQAAAAAAAnJ9AAAAAAACgn0A=",
          "dtype": "f8"
         },
         "xaxis": "x",
         "y": {
          "bdata": "AQIBAQQBAgICBQ==",
          "dtype": "i1"
         },
         "yaxis": "y"
        },
        {
         "customdata": [
          [
           "energy-storage"
          ],
          [
           "energy-storage"
          ],
          [
           "energy-storage"
          ],
          [
           "energy-storage"
          ],
          [
           "energy-storage"
          ],
          [
           "energy-storage"
          ],
          [
           "energy-storage"
          ],
          [
           "energy-storage"
          ]
         ],
         "hovertemplate": "Industry=%{customdata[0]}<br>Year Founded=%{x}<br>Number of Companies=%{y}<extra></extra>",
         "legendgroup": "energy-storage",
         "line": {
          "color": "#FECB52",
          "dash": "solid"
         },
         "marker": {
          "symbol": "circle"
         },
         "mode": "lines",
         "name": "energy-storage",
         "showlegend": true,
         "type": "scattergl",
         "x": {
          "bdata": "AAAAAAB4n0AAAAAAAICfQAAAAAAAhJ9AAAAAAACIn0AAAAAAAJCfQAAAAAAAlJ9AAAAAAACYn0AAAAAAAJyfQA==",
          "dtype": "f8"
         },
         "xaxis": "x",
         "y": {
          "bdata": "AQEBAQQGBAI=",
          "dtype": "i1"
         },
         "yaxis": "y"
        },
        {
         "customdata": [
          [
           "enterprise-software"
          ],
          [
           "enterprise-software"
          ],
          [
           "enterprise-software"
          ],
          [
           "enterprise-software"
          ],
          [
           "enterprise-software"
          ],
          [
           "enterprise-software"
          ],
          [
           "enterprise-software"
          ],
          [
           "enterprise-software"
          ],
          [
           "enterprise-software"
          ],
          [
           "enterprise-software"
          ],
          [
           "enterprise-software"
          ],
          [
           "enterprise-software"
          ]
         ],
         "hovertemplate": "Industry=%{customdata[0]}<br>Year Founded=%{x}<br>Number of Companies=%{y}<extra></extra>",
         "legendgroup": "enterprise-software",
         "line": {
          "color": "#636efa",
          "dash": "solid"
         },
         "marker": {
          "symbol": "circle"
         },
         "mode": "lines",
         "name": "enterprise-software",
         "showlegend": true,
         "type": "scattergl",
         "x": {
          "bdata": "AAAAAAB4n0AAAAAAAHyfQAAAAAAAgJ9AAAAAAACEn0AAAAAAAIifQAAAAAAAjJ9AAAAAAACQn0AAAAAAAJSfQAAAAAAAmJ9AAAAAAACcn0AAAAAAAKCfQAAAAAAApJ9A",
          "dtype": "f8"
         },
         "xaxis": "x",
         "y": {
          "bdata": "AQQCBQECDBASLTID",
          "dtype": "i1"
         },
         "yaxis": "y"
        },
        {
         "customdata": [
          [
           "femtech"
          ],
          [
           "femtech"
          ],
          [
           "femtech"
          ],
          [
           "femtech"
          ],
          [
           "femtech"
          ]
         ],
         "hovertemplate": "Industry=%{customdata[0]}<br>Year Founded=%{x}<br>Number of Companies=%{y}<extra></extra>",
         "legendgroup": "femtech",
         "line": {
          "color": "#EF553B",
          "dash": "solid"
         },
         "marker": {
          "symbol": "circle"
         },
         "mode": "lines",
         "name": "femtech",
         "showlegend": true,
         "type": "scattergl",
         "x": {
          "bdata": "AAAAAAB4n0AAAAAAAIyfQAAAAAAAkJ9AAAAAAACUn0AAAAAAAJifQA==",
          "dtype": "f8"
         },
         "xaxis": "x",
         "y": {
          "bdata": "AQICBAI=",
          "dtype": "i1"
         },
         "yaxis": "y"
        },
        {
         "customdata": [
          [
           "fitness"
          ],
          [
           "fitness"
          ],
          [
           "fitness"
          ],
          [
           "fitness"
          ],
          [
           "fitness"
          ],
          [
           "fitness"
          ],
          [
           "fitness"
          ],
          [
           "fitness"
          ]
         ],
         "hovertemplate": "Industry=%{customdata[0]}<br>Year Founded=%{x}<br>Number of Companies=%{y}<extra></extra>",
         "legendgroup": "fitness",
         "line": {
          "color": "#00cc96",
          "dash": "solid"
         },
         "marker": {
          "symbol": "circle"
         },
         "mode": "lines",
         "name": "fitness",
         "showlegend": true,
         "type": "scattergl",
         "x": {
          "bdata": "AAAAAAB4n0AAAAAAAICfQAAAAAAAiJ9AAAAAAACMn0AAAAAAAJCfQAAAAAAAlJ9AAAAAAACYn0AAAAAAAJyfQA==",
          "dtype": "f8"
         },
         "xaxis": "x",
         "y": {
          "bdata": "AgIBBAoCAgI=",
          "dtype": "i1"
         },
         "yaxis": "y"
        },
        {
         "customdata": [
          [
           "furniture"
          ],
          [
           "furniture"
          ],
          [
           "furniture"
          ]
         ],
         "hovertemplate": "Industry=%{customdata[0]}<br>Year Founded=%{x}<br>Number of Companies=%{y}<extra></extra>",
         "legendgroup": "furniture",
         "line": {
          "color": "#ab63fa",
          "dash": "solid"
         },
         "marker": {
          "symbol": "circle"
         },
         "mode": "lines",
         "name": "furniture",
         "showlegend": true,
         "type": "scattergl",
         "x": {
          "bdata": "AAAAAAB4n0AAAAAAAICfQAAAAAAAhJ9A",
          "dtype": "f8"
         },
         "xaxis": "x",
         "y": {
          "bdata": "AQEB",
          "dtype": "i1"
         },
         "yaxis": "y"
        },
        {
         "customdata": [
          [
           "health-&-wellness"
          ],
          [
           "health-&-wellness"
          ],
          [
           "health-&-wellness"
          ],
          [
           "health-&-wellness"
          ],
          [
           "health-&-wellness"
          ],
          [
           "health-&-wellness"
          ],
          [
           "health-&-wellness"
          ],
          [
           "health-&-wellness"
          ],
          [
           "health-&-wellness"
          ]
         ],
         "hovertemplate": "Industry=%{customdata[0]}<br>Year Founded=%{x}<br>Number of Companies=%{y}<extra></extra>",
         "legendgroup": "health-&-wellness",
         "line": {
          "color": "#FFA15A",
          "dash": "solid"
         },
         "marker": {
          "symbol": "circle"
         },
         "mode": "lines",
         "name": "health-&-wellness",
         "showlegend": true,
         "type": "scattergl",
         "x": {
          "bdata": "AAAAAAB4n0AAAAAAAICfQAAAAAAAhJ9AAAAAAACIn0AAAAAAAIyfQAAAAAAAkJ9AAAAAAACUn0AAAAAAAJifQAAAAAAAnJ9A",
          "dtype": "f8"
         },
         "xaxis": "x",
         "y": {
          "bdata": "AgMCAQYQCQQE",
          "dtype": "i1"
         },
         "yaxis": "y"
        },
        {
         "customdata": [
          [
           "housing"
          ],
          [
           "housing"
          ],
          [
           "housing"
          ],
          [
           "housing"
          ],
          [
           "housing"
          ],
          [
           "housing"
          ],
          [
           "housing"
          ],
          [
           "housing"
          ],
          [
           "housing"
          ],
          [
           "housing"
          ]
         ],
         "hovertemplate": "Industry=%{customdata[0]}<br>Year Founded=%{x}<br>Number of Companies=%{y}<extra></extra>",
         "legendgroup": "housing",
         "line": {
          "color": "#19d3f3",
          "dash": "solid"
         },
         "marker": {
          "symbol": "circle"
         },
         "mode": "lines",
         "name": "housing",
         "showlegend": true,
         "type": "scattergl",
         "x": {
          "bdata": "AAAAAAB4n0AAAAAAAHyfQAAAAAAAgJ9AAAAAAACEn0AAAAAAAIifQAAAAAAAjJ9AAAAAAACQn0AAAAAAAJifQAAAAAAAnJ9AAAAAAACgn0A=",
          "dtype": "f8"
         },
         "xaxis": "x",
         "y": {
          "bdata": "AgECAgMIBAMCAw==",
          "dtype": "i1"
         },
         "yaxis": "y"
        },
        {
         "customdata": [
          [
           "india"
          ],
          [
           "india"
          ],
          [
           "india"
          ],
          [
           "india"
          ],
          [
           "india"
          ],
          [
           "india"
          ],
          [
           "india"
          ],
          [
           "india"
          ],
          [
           "india"
          ]
         ],
         "hovertemplate": "Industry=%{customdata[0]}<br>Year Founded=%{x}<br>Number of Companies=%{y}<extra></extra>",
         "legendgroup": "india",
         "line": {
          "color": "#FF6692",
          "dash": "solid"
         },
         "marker": {
          "symbol": "circle"
         },
         "mode": "lines",
         "name": "india",
         "showlegend": true,
         "type": "scattergl",
         "x": {
          "bdata": "AAAAAAB4n0AAAAAAAHyfQAAAAAAAgJ9AAAAAAACEn0AAAAAAAIyfQAAAAAAAkJ9AAAAAAACUn0AAAAAAAJifQAAAAAAAnJ9A",
          "dtype": "f8"
         },
         "xaxis": "x",
         "y": {
          "bdata": "AQIHAwYFBgIC",
          "dtype": "i1"
         },
         "yaxis": "y"
        },
        {
         "customdata": [
          [
           "insurance"
          ],
          [
           "insurance"
          ],
          [
           "insurance"
          ],
          [
           "insurance"
          ],
          [
           "insurance"
          ],
          [
           "insurance"
          ],
          [
           "insurance"
          ],
          [
           "insurance"
          ],
          [
           "insurance"
          ],
          [
           "insurance"
          ]
         ],
         "hovertemplate": "Industry=%{customdata[0]}<br>Year Founded=%{x}<br>Number of Companies=%{y}<extra></extra>",
         "legendgroup": "insurance",
         "line": {
          "color": "#B6E880",
          "dash": "solid"
         },
         "marker": {
          "symbol": "circle"
         },
         "mode": "lines",
         "name": "insurance",
         "showlegend": true,
         "type": "scattergl",
         "x": {
          "bdata": "AAAAAAB4n0AAAAAAAICfQAAAAAAAhJ9AAAAAAACIn0AAAAAAAIyfQAAAAAAAkJ9AAAAAAACUn0AAAAAAAJifQAAAAAAAnJ9AAAAAAACgn0A=",
          "dtype": "f8"
         },
         "xaxis": "x",
         "y": {
          "bdata": "AgIHBQMWDhUIDA==",
          "dtype": "i1"
         },
         "yaxis": "y"
        },
        {
         "customdata": [
          [
           "mental-health-tech"
          ],
          [
           "mental-health-tech"
          ],
          [
           "mental-health-tech"
          ],
          [
           "mental-health-tech"
          ],
          [
           "mental-health-tech"
          ],
          [
           "mental-health-tech"
          ],
          [
           "mental-health-tech"
          ],
          [
           "mental-health-tech"
          ],
          [
           "mental-health-tech"
          ],
          [
           "mental-health-tech"
          ]
         ],
         "hovertemplate": "Industry=%{customdata[0]}<br>Year Founded=%{x}<br>Number of Companies=%{y}<extra></extra>",
         "legendgroup": "mental-health-tech",
         "line": {
          "color": "#FF97FF",
          "dash": "solid"
         },
         "marker": {
          "symbol": "circle"
         },
         "mode": "lines",
         "name": "mental-health-tech",
         "showlegend": true,
         "type": "scattergl",
         "x": {
          "bdata": "AAAAAAB4n0AAAAAAAHyfQAAAAAAAgJ9AAAAAAACEn0AAAAAAAIifQAAAAAAAjJ9AAAAAAACQn0AAAAAAAJSfQAAAAAAAmJ9AAAAAAACcn0A=",
          "dtype": "f8"
         },
         "xaxis": "x",
         "y": {
          "bdata": "AQECBQMLChIEAQ==",
          "dtype": "i1"
         },
         "yaxis": "y"
        },
        {
         "customdata": [
          [
           "mobility"
          ],
          [
           "mobility"
          ],
          [
           "mobility"
          ],
          [
           "mobility"
          ],
          [
           "mobility"
          ],
          [
           "mobility"
          ]
         ],
         "hovertemplate": "Industry=%{customdata[0]}<br>Year Founded=%{x}<br>Number of Companies=%{y}<extra></extra>",
         "legendgroup": "mobility",
         "line": {
          "color": "#FECB52",
          "dash": "solid"
         },
         "marker": {
          "symbol": "circle"
         },
         "mode": "lines",
         "name": "mobility",
         "showlegend": true,
         "type": "scattergl",
         "x": {
          "bdata": "AAAAAAB4n0AAAAAAAHyfQAAAAAAAgJ9AAAAAAACIn0AAAAAAAIyfQAAAAAAAoJ9A",
          "dtype": "f8"
         },
         "xaxis": "x",
         "y": {
          "bdata": "AQECAgQD",
          "dtype": "i1"
         },
         "yaxis": "y"
        },
        {
         "customdata": [
          [
           "networks"
          ]
         ],
         "hovertemplate": "Industry=%{customdata[0]}<br>Year Founded=%{x}<br>Number of Companies=%{y}<extra></extra>",
         "legendgroup": "networks",
         "line": {
          "color": "#636efa",
          "dash": "solid"
         },
         "marker": {
          "symbol": "circle"
         },
         "mode": "lines",
         "name": "networks",
         "showlegend": true,
         "type": "scattergl",
         "x": {
          "bdata": "AAAAAAB4n0A=",
          "dtype": "f8"
         },
         "xaxis": "x",
         "y": {
          "bdata": "AQ==",
          "dtype": "i1"
         },
         "yaxis": "y"
        },
        {
         "customdata": [
          [
           "nlp"
          ],
          [
           "nlp"
          ],
          [
           "nlp"
          ],
          [
           "nlp"
          ],
          [
           "nlp"
          ],
          [
           "nlp"
          ],
          [
           "nlp"
          ]
         ],
         "hovertemplate": "Industry=%{customdata[0]}<br>Year Founded=%{x}<br>Number of Companies=%{y}<extra></extra>",
         "legendgroup": "nlp",
         "line": {
          "color": "#EF553B",
          "dash": "solid"
         },
         "marker": {
          "symbol": "circle"
         },
         "mode": "lines",
         "name": "nlp",
         "showlegend": true,
         "type": "scattergl",
         "x": {
          "bdata": "AAAAAAB4n0AAAAAAAICfQAAAAAAAhJ9AAAAAAACIn0AAAAAAAJCfQAAAAAAAmJ9AAAAAAACcn0A=",
          "dtype": "f8"
         },
         "xaxis": "x",
         "y": {
          "bdata": "AQMDAggGBA==",
          "dtype": "i1"
         },
         "yaxis": "y"
        },
        {
         "customdata": [
          [
           "oncology"
          ],
          [
           "oncology"
          ],
          [
           "oncology"
          ],
          [
           "oncology"
          ],
          [
           "oncology"
          ],
          [
           "oncology"
          ],
          [
           "oncology"
          ]
         ],
         "hovertemplate": "Industry=%{customdata[0]}<br>Year Founded=%{x}<br>Number of Companies=%{y}<extra></extra>",
         "legendgroup": "oncology",
         "line": {
          "color": "#00cc96",
          "dash": "solid"
         },
         "marker": {
          "symbol": "circle"
         },
         "mode": "lines",
         "name": "oncology",
         "showlegend": true,
         "type": "scattergl",
         "x": {
          "bdata": "AAAAAAB4n0AAAAAAAHyfQAAAAAAAkJ9AAAAAAACUn0AAAAAAAJifQAAAAAAAnJ9AAAAAAACgn0A=",
          "dtype": "f8"
         },
         "xaxis": "x",
         "y": {
          "bdata": "AQEGAgoGBQ==",
          "dtype": "i1"
         },
         "yaxis": "y"
        },
        {
         "customdata": [
          [
           "reinforcement-learning"
          ],
          [
           "reinforcement-learning"
          ],
          [
           "reinforcement-learning"
          ],
          [
           "reinforcement-learning"
          ],
          [
           "reinforcement-learning"
          ],
          [
           "reinforcement-learning"
          ]
         ],
         "hovertemplate": "Industry=%{customdata[0]}<br>Year Founded=%{x}<br>Number of Companies=%{y}<extra></extra>",
         "legendgroup": "reinforcement-learning",
         "line": {
          "color": "#ab63fa",
          "dash": "solid"
         },
         "marker": {
          "symbol": "circle"
         },
         "mode": "lines",
         "name": "reinforcement-learning",
         "showlegend": true,
         "type": "scattergl",
         "x": {
          "bdata": "AAAAAAB4n0AAAAAAAIifQAAAAAAAlJ9AAAAAAACYn0AAAAAAAJyfQAAAAAAApJ9A",
          "dtype": "f8"
         },
         "xaxis": "x",
         "y": {
          "bdata": "AQECAgID",
          "dtype": "i1"
         },
         "yaxis": "y"
        },
        {
         "customdata": [
          [
           "renewable-energy"
          ],
          [
           "renewable-energy"
          ],
          [
           "renewable-energy"
          ],
          [
           "renewable-energy"
          ],
          [
           "renewable-energy"
          ],
          [
           "renewable-energy"
          ],
          [
           "renewable-energy"
          ],
          [
           "renewable-energy"
          ]
         ],
         "hovertemplate": "Industry=%{customdata[0]}<br>Year Founded=%{x}<br>Number of Companies=%{y}<extra></extra>",
         "legendgroup": "renewable-energy",
         "line": {
          "color": "#FFA15A",
          "dash": "solid"
         },
         "marker": {
          "symbol": "circle"
         },
         "mode": "lines",
         "name": "renewable-energy",
         "showlegend": true,
         "type": "scattergl",
         "x": {
          "bdata": "AAAAAAB4n0AAAAAAAHyfQAAAAAAAjJ9AAAAAAACQn0AAAAAAAJSfQAAAAAAAmJ9AAAAAAACcn0AAAAAAAKCfQA==",
          "dtype": "f8"
         },
         "xaxis": "x",
         "y": {
          "bdata": "AQEBBAQEBgM=",
          "dtype": "i1"
         },
         "yaxis": "y"
        },
        {
         "customdata": [
          [
           "retail"
          ],
          [
           "retail"
          ],
          [
           "retail"
          ],
          [
           "retail"
          ],
          [
           "retail"
          ],
          [
           "retail"
          ],
          [
           "retail"
          ],
          [
           "retail"
          ],
          [
           "retail"
          ],
          [
           "retail"
          ]
         ],
         "hovertemplate": "Industry=%{customdata[0]}<br>Year Founded=%{x}<br>Number of Companies=%{y}<extra></extra>",
         "legendgroup": "retail",
         "line": {
          "color": "#19d3f3",
          "dash": "solid"
         },
         "marker": {
          "symbol": "circle"
         },
         "mode": "lines",
         "name": "retail",
         "showlegend": true,
         "type": "scattergl",
         "x": {
          "bdata": "AAAAAAB4n0AAAAAAAHyfQAAAAAAAgJ9AAAAAAACEn0AAAAAAAIyfQAAAAAAAkJ9AAAAAAACUn0AAAAAAAJifQAAAAAAAnJ9AAAAAAACgn0A=",
          "dtype": "f8"
         },
         "xaxis": "x",
         "y": {
          "bdata": "AQMDAwEKCwkIAw==",
          "dtype": "i1"
         },
         "yaxis": "y"
        },
        {
         "customdata": [
          [
           "retail-tech"
          ],
          [
           "retail-tech"
          ],
          [
           "retail-tech"
          ],
          [
           "retail-tech"
          ],
          [
           "retail-tech"
          ]
         ],
         "hovertemplate": "Industry=%{customdata[0]}<br>Year Founded=%{x}<br>Number of Companies=%{y}<extra></extra>",
         "legendgroup": "retail-tech",
         "line": {
          "color": "#FF6692",
          "dash": "solid"
         },
         "marker": {
          "symbol": "circle"
         },
         "mode": "lines",
         "name": "retail-tech",
         "showlegend": true,
         "type": "scattergl",
         "x": {
          "bdata": "AAAAAAB4n0AAAAAAAICfQAAAAAAAhJ9AAAAAAACMn0AAAAAAAKCfQA==",
          "dtype": "f8"
         },
         "xaxis": "x",
         "y": {
          "bdata": "AQEBBQM=",
          "dtype": "i1"
         },
         "yaxis": "y"
        },
        {
         "customdata": [
          [
           "solar-power"
          ],
          [
           "solar-power"
          ],
          [
           "solar-power"
          ],
          [
           "solar-power"
          ],
          [
           "solar-power"
          ],
          [
           "solar-power"
          ],
          [
           "solar-power"
          ]
         ],
         "hovertemplate": "Industry=%{customdata[0]}<br>Year Founded=%{x}<br>Number of Companies=%{y}<extra></extra>",
         "legendgroup": "solar-power",
         "line": {
          "color": "#B6E880",
          "dash": "solid"
         },
         "marker": {
          "symbol": "circle"
         },
         "mode": "lines",
         "name": "solar-power",
         "showlegend": true,
         "type": "scattergl",
         "x": {
          "bdata": "AAAAAAB4n0AAAAAAAHyfQAAAAAAAhJ9AAAAAAACMn0AAAAAAAJSfQAAAAAAAmJ9AAAAAAACcn0A=",
          "dtype": "f8"
         },
         "xaxis": "x",
         "y": {
          "bdata": "AQIBAggGBA==",
          "dtype": "i1"
         },
         "yaxis": "y"
        },
        {
         "customdata": [
          [
           "subscriptions"
          ],
          [
           "subscriptions"
          ],
          [
           "subscriptions"
          ],
          [
           "subscriptions"
          ],
          [
           "subscriptions"
          ],
          [
           "subscriptions"
          ],
          [
           "subscriptions"
          ],
          [
           "subscriptions"
          ],
          [
           "subscriptions"
          ],
          [
           "subscriptions"
          ]
         ],
         "hovertemplate": "Industry=%{customdata[0]}<br>Year Founded=%{x}<br>Number of Companies=%{y}<extra></extra>",
         "legendgroup": "subscriptions",
         "line": {
          "color": "#FF97FF",
          "dash": "solid"
         },
         "marker": {
          "symbol": "circle"
         },
         "mode": "lines",
         "name": "subscriptions",
         "showlegend": true,
         "type": "scattergl",
         "x": {
          "bdata": "AAAAAAB4n0AAAAAAAHyfQAAAAAAAgJ9AAAAAAACEn0AAAAAAAIifQAAAAAAAjJ9AAAAAAACQn0AAAAAAAJSfQAAAAAAAmJ9AAAAAAACcn0A=",
          "dtype": "f8"
         },
         "xaxis": "x",
         "y": {
          "bdata": "AQEFAwMFEhACBA==",
          "dtype": "i1"
         },
         "yaxis": "y"
        },
        {
         "customdata": [
          [
           "transportation"
          ],
          [
           "transportation"
          ],
          [
           "transportation"
          ],
          [
           "transportation"
          ],
          [
           "transportation"
          ],
          [
           "transportation"
          ],
          [
           "transportation"
          ],
          [
           "transportation"
          ],
          [
           "transportation"
          ]
         ],
         "hovertemplate": "Industry=%{customdata[0]}<br>Year Founded=%{x}<br>Number of Companies=%{y}<extra></extra>",
         "legendgroup": "transportation",
         "line": {
          "color": "#FECB52",
          "dash": "solid"
         },
         "marker": {
          "symbol": "circle"
         },
         "mode": "lines",
         "name": "transportation",
         "showlegend": true,
         "type": "scattergl",
         "x": {
          "bdata": "AAAAAAB4n0AAAAAAAHyfQAAAAAAAhJ9AAAAAAACIn0AAAAAAAIyfQAAAAAAAkJ9AAAAAAACUn0AAAAAAAJifQAAAAAAAnJ9A",
          "dtype": "f8"
         },
         "xaxis": "x",
         "y": {
          "bdata": "AwECAQcECgYH",
          "dtype": "i1"
         },
         "yaxis": "y"
        },
        {
         "customdata": [
          [
           "trust-&-safety"
          ],
          [
           "trust-&-safety"
          ],
          [
           "trust-&-safety"
          ],
          [
           "trust-&-safety"
          ],
          [
           "trust-&-safety"
          ]
         ],
         "hovertemplate": "Industry=%{customdata[0]}<br>Year Founded=%{x}<br>Number of Companies=%{y}<extra></extra>",
         "legendgroup": "trust-&-safety",
         "line": {
          "color": "#636efa",
          "dash": "solid"
         },
         "marker": {
          "symbol": "circle"
         },
         "mode": "lines",
         "name": "trust-&-safety",
         "showlegend": true,
         "type": "scattergl",
         "x": {
          "bdata": "AAAAAAB4n0AAAAAAAJSfQAAAAAAAmJ9AAAAAAACcn0AAAAAAAKCfQA==",
          "dtype": "f8"
         },
         "xaxis": "x",
         "y": {
          "bdata": "AQICBAM=",
          "dtype": "i1"
         },
         "yaxis": "y"
        },
        {
         "customdata": [
          [
           "virtual-reality"
          ],
          [
           "virtual-reality"
          ],
          [
           "virtual-reality"
          ],
          [
           "virtual-reality"
          ],
          [
           "virtual-reality"
          ],
          [
           "virtual-reality"
          ]
         ],
         "hovertemplate": "Industry=%{customdata[0]}<br>Year Founded=%{x}<br>Number of Companies=%{y}<extra></extra>",
         "legendgroup": "virtual-reality",
         "line": {
          "color": "#EF553B",
          "dash": "solid"
         },
         "marker": {
          "symbol": "circle"
         },
         "mode": "lines",
         "name": "virtual-reality",
         "showlegend": true,
         "type": "scattergl",
         "x": {
          "bdata": "AAAAAAB4n0AAAAAAAISfQAAAAAAAiJ9AAAAAAACMn0AAAAAAAJCfQAAAAAAAlJ9A",
          "dtype": "f8"
         },
         "xaxis": "x",
         "y": {
          "bdata": "AQEBAQQO",
          "dtype": "i1"
         },
         "yaxis": "y"
        },
        {
         "customdata": [
          [
           "3d-printing"
          ],
          [
           "3d-printing"
          ],
          [
           "3d-printing"
          ]
         ],
         "hovertemplate": "Industry=%{customdata[0]}<br>Year Founded=%{x}<br>Number of Companies=%{y}<extra></extra>",
         "legendgroup": "3d-printing",
         "line": {
          "color": "#00cc96",
          "dash": "solid"
         },
         "marker": {
          "symbol": "circle"
         },
         "mode": "lines",
         "name": "3d-printing",
         "showlegend": true,
         "type": "scattergl",
         "x": {
          "bdata": "AAAAAAB8n0AAAAAAAICfQAAAAAAAhJ9A",
          "dtype": "f8"
         },
         "xaxis": "x",
         "y": {
          "bdata": "AgED",
          "dtype": "i1"
         },
         "yaxis": "y"
        },
        {
         "customdata": [
          [
           "alternative-battery-tech"
          ],
          [
           "alternative-battery-tech"
          ]
         ],
         "hovertemplate": "Industry=%{customdata[0]}<br>Year Founded=%{x}<br>Number of Companies=%{y}<extra></extra>",
         "legendgroup": "alternative-battery-tech",
         "line": {
          "color": "#ab63fa",
          "dash": "solid"
         },
         "marker": {
          "symbol": "circle"
         },
         "mode": "lines",
         "name": "alternative-battery-tech",
         "showlegend": true,
         "type": "scattergl",
         "x": {
          "bdata": "AAAAAAB8n0AAAAAAAISfQA==",
          "dtype": "f8"
         },
         "xaxis": "x",
         "y": {
          "bdata": "AQE=",
          "dtype": "i1"
         },
         "yaxis": "y"
        },
        {
         "customdata": [
          [
           "anti-aging"
          ],
          [
           "anti-aging"
          ],
          [
           "anti-aging"
          ],
          [
           "anti-aging"
          ]
         ],
         "hovertemplate": "Industry=%{customdata[0]}<br>Year Founded=%{x}<br>Number of Companies=%{y}<extra></extra>",
         "legendgroup": "anti-aging",
         "line": {
          "color": "#FFA15A",
          "dash": "solid"
         },
         "marker": {
          "symbol": "circle"
         },
         "mode": "lines",
         "name": "anti-aging",
         "showlegend": true,
         "type": "scattergl",
         "x": {
          "bdata": "AAAAAAB8n0AAAAAAAICfQAAAAAAAiJ9AAAAAAACQn0A=",
          "dtype": "f8"
         },
         "xaxis": "x",
         "y": {
          "bdata": "AQMCBA==",
          "dtype": "i1"
         },
         "yaxis": "y"
        },
        {
         "customdata": [
          [
           "ar"
          ],
          [
           "ar"
          ],
          [
           "ar"
          ],
          [
           "ar"
          ]
         ],
         "hovertemplate": "Industry=%{customdata[0]}<br>Year Founded=%{x}<br>Number of Companies=%{y}<extra></extra>",
         "legendgroup": "ar",
         "line": {
          "color": "#19d3f3",
          "dash": "solid"
         },
         "marker": {
          "symbol": "circle"
         },
         "mode": "lines",
         "name": "ar",
         "showlegend": true,
         "type": "scattergl",
         "x": {
          "bdata": "AAAAAAB8n0AAAAAAAIyfQAAAAAAAkJ9AAAAAAACgn0A=",
          "dtype": "f8"
         },
         "xaxis": "x",
         "y": {
          "bdata": "AQECAw==",
          "dtype": "i1"
         },
         "yaxis": "y"
        },
        {
         "customdata": [
          [
           "autonomous-trucking"
          ],
          [
           "autonomous-trucking"
          ],
          [
           "autonomous-trucking"
          ],
          [
           "autonomous-trucking"
          ],
          [
           "autonomous-trucking"
          ]
         ],
         "hovertemplate": "Industry=%{customdata[0]}<br>Year Founded=%{x}<br>Number of Companies=%{y}<extra></extra>",
         "legendgroup": "autonomous-trucking",
         "line": {
          "color": "#FF6692",
          "dash": "solid"
         },
         "marker": {
          "symbol": "circle"
         },
         "mode": "lines",
         "name": "autonomous-trucking",
         "showlegend": true,
         "type": "scattergl",
         "x": {
          "bdata": "AAAAAAB8n0AAAAAAAICfQAAAAAAAhJ9AAAAAAACMn0AAAAAAAJCfQA==",
          "dtype": "f8"
         },
         "xaxis": "x",
         "y": {
          "bdata": "AQEDAgQ=",
          "dtype": "i1"
         },
         "yaxis": "y"
        },
        {
         "customdata": [
          [
           "cell-therapy"
          ],
          [
           "cell-therapy"
          ],
          [
           "cell-therapy"
          ],
          [
           "cell-therapy"
          ],
          [
           "cell-therapy"
          ]
         ],
         "hovertemplate": "Industry=%{customdata[0]}<br>Year Founded=%{x}<br>Number of Companies=%{y}<extra></extra>",
         "legendgroup": "cell-therapy",
         "line": {
          "color": "#B6E880",
          "dash": "solid"
         },
         "marker": {
          "symbol": "circle"
         },
         "mode": "lines",
         "name": "cell-therapy",
         "showlegend": true,
         "type": "scattergl",
         "x": {
          "bdata": "AAAAAAB8n0AAAAAAAIifQAAAAAAAjJ9AAAAAAACUn0AAAAAAAJifQA==",
          "dtype": "f8"
         },
         "xaxis": "x",
         "y": {
          "bdata": "AQECAgI=",
          "dtype": "i1"
         },
         "yaxis": "y"
        },
        {
         "customdata": [
          [
           "conversational-banking"
          ],
          [
           "conversational-banking"
          ]
         ],
         "hovertemplate": "Industry=%{customdata[0]}<br>Year Founded=%{x}<br>Number of Companies=%{y}<extra></extra>",
         "legendgroup": "conversational-banking",
         "line": {
          "color": "#FF97FF",
          "dash": "solid"
         },
         "marker": {
          "symbol": "circle"
         },
         "mode": "lines",
         "name": "conversational-banking",
         "showlegend": true,
         "type": "scattergl",
         "x": {
          "bdata": "AAAAAAB8n0AAAAAAAJyfQA==",
          "dtype": "f8"
         },
         "xaxis": "x",
         "y": {
          "bdata": "AQI=",
          "dtype": "i1"
         },
         "yaxis": "y"
        },
        {
         "customdata": [
          [
           "cryptography"
          ],
          [
           "cryptography"
          ],
          [
           "cryptography"
          ]
         ],
         "hovertemplate": "Industry=%{customdata[0]}<br>Year Founded=%{x}<br>Number of Companies=%{y}<extra></extra>",
         "legendgroup": "cryptography",
         "line": {
          "color": "#FECB52",
          "dash": "solid"
         },
         "marker": {
          "symbol": "circle"
         },
         "mode": "lines",
         "name": "cryptography",
         "showlegend": true,
         "type": "scattergl",
         "x": {
          "bdata": "AAAAAAB8n0AAAAAAAJCfQAAAAAAAlJ9A",
          "dtype": "f8"
         },
         "xaxis": "x",
         "y": {
          "bdata": "AQIC",
          "dtype": "i1"
         },
         "yaxis": "y"
        },
        {
         "customdata": [
          [
           "culture"
          ],
          [
           "culture"
          ]
         ],
         "hovertemplate": "Industry=%{customdata[0]}<br>Year Founded=%{x}<br>Number of Companies=%{y}<extra></extra>",
         "legendgroup": "culture",
         "line": {
          "color": "#636efa",
          "dash": "solid"
         },
         "marker": {
          "symbol": "circle"
         },
         "mode": "lines",
         "name": "culture",
         "showlegend": true,
         "type": "scattergl",
         "x": {
          "bdata": "AAAAAAB8n0AAAAAAAJCfQA==",
          "dtype": "f8"
         },
         "xaxis": "x",
         "y": {
          "bdata": "AQI=",
          "dtype": "i1"
         },
         "yaxis": "y"
        },
        {
         "customdata": [
          [
           "customer-service"
          ],
          [
           "customer-service"
          ],
          [
           "customer-service"
          ],
          [
           "customer-service"
          ],
          [
           "customer-service"
          ],
          [
           "customer-service"
          ],
          [
           "customer-service"
          ],
          [
           "customer-service"
          ],
          [
           "customer-service"
          ]
         ],
         "hovertemplate": "Industry=%{customdata[0]}<br>Year Founded=%{x}<br>Number of Companies=%{y}<extra></extra>",
         "legendgroup": "customer-service",
         "line": {
          "color": "#EF553B",
          "dash": "solid"
         },
         "marker": {
          "symbol": "circle"
         },
         "mode": "lines",
         "name": "customer-service",
         "showlegend": true,
         "type": "scattergl",
         "x": {
          "bdata": "AAAAAAB8n0AAAAAAAISfQAAAAAAAiJ9AAAAAAACMn0AAAAAAAJCfQAAAAAAAlJ9AAAAAAACYn0AAAAAAAJyfQAAAAAAAoJ9A",
          "dtype": "f8"
         },
         "xaxis": "x",
         "y": {
          "bdata": "AgEBAgQEAgIC",
          "dtype": "i1"
         },
         "yaxis": "y"
        },
        {
         "customdata": [
          [
           "dating"
          ],
          [
           "dating"
          ],
          [
           "dating"
          ],
          [
           "dating"
          ]
         ],
         "hovertemplate": "Industry=%{customdata[0]}<br>Year Founded=%{x}<br>Number of Companies=%{y}<extra></extra>",
         "legendgroup": "dating",
         "line": {
          "color": "#00cc96",
          "dash": "solid"
         },
         "marker": {
          "symbol": "circle"
         },
         "mode": "lines",
         "name": "dating",
         "showlegend": true,
         "type": "scattergl",
         "x": {
          "bdata": "AAAAAAB8n0AAAAAAAICfQAAAAAAAhJ9AAAAAAACgn0A=",
          "dtype": "f8"
         },
         "xaxis": "x",
         "y": {
          "bdata": "AQIBAQ==",
          "dtype": "i1"
         },
         "yaxis": "y"
        },
        {
         "customdata": [
          [
           "drug-delivery"
          ],
          [
           "drug-delivery"
          ],
          [
           "drug-delivery"
          ],
          [
           "drug-delivery"
          ]
         ],
         "hovertemplate": "Industry=%{customdata[0]}<br>Year Founded=%{x}<br>Number of Companies=%{y}<extra></extra>",
         "legendgroup": "drug-delivery",
         "line": {
          "color": "#ab63fa",
          "dash": "solid"
         },
         "marker": {
          "symbol": "circle"
         },
         "mode": "lines",
         "name": "drug-delivery",
         "showlegend": true,
         "type": "scattergl",
         "x": {
          "bdata": "AAAAAAB8n0AAAAAAAIifQAAAAAAAmJ9AAAAAAACcn0A=",
          "dtype": "f8"
         },
         "xaxis": "x",
         "y": {
          "bdata": "AQECBA==",
          "dtype": "i1"
         },
         "yaxis": "y"
        },
        {
         "customdata": [
          [
           "electric-vehicles"
          ],
          [
           "electric-vehicles"
          ],
          [
           "electric-vehicles"
          ],
          [
           "electric-vehicles"
          ],
          [
           "electric-vehicles"
          ],
          [
           "electric-vehicles"
          ],
          [
           "electric-vehicles"
          ]
         ],
         "hovertemplate": "Industry=%{customdata[0]}<br>Year Founded=%{x}<br>Number of Companies=%{y}<extra></extra>",
         "legendgroup": "electric-vehicles",
         "line": {
          "color": "#FFA15A",
          "dash": "solid"
         },
         "marker": {
          "symbol": "circle"
         },
         "mode": "lines",
         "name": "electric-vehicles",
         "showlegend": true,
         "type": "scattergl",
         "x": {
          "bdata": "AAAAAAB8n0AAAAAAAISfQAAAAAAAiJ9AAAAAAACMn0AAAAAAAJCfQAAAAAAAlJ9AAAAAAACYn0A=",
          "dtype": "f8"
         },
         "xaxis": "x",
         "y": {
          "bdata": "AQEEAhAKBA==",
          "dtype": "i1"
         },
         "yaxis": "y"
        },
        {
         "customdata": [
          [
           "finance"
          ],
          [
           "finance"
          ],
          [
           "finance"
          ],
          [
           "finance"
          ],
          [
           "finance"
          ],
          [
           "finance"
          ],
          [
           "finance"
          ],
          [
           "finance"
          ],
          [
           "finance"
          ],
          [
           "finance"
          ]
         ],
         "hovertemplate": "Industry=%{customdata[0]}<br>Year Founded=%{x}<br>Number of Companies=%{y}<extra></extra>",
         "legendgroup": "finance",
         "line": {
          "color": "#19d3f3",
          "dash": "solid"
         },
         "marker": {
          "symbol": "circle"
         },
         "mode": "lines",
         "name": "finance",
         "showlegend": true,
         "type": "scattergl",
         "x": {
          "bdata": "AAAAAAB8n0AAAAAAAISfQAAAAAAAiJ9AAAAAAACMn0AAAAAAAJCfQAAAAAAAlJ9AAAAAAACYn0AAAAAAAJyfQAAAAAAAoJ9AAAAAAACkn0A=",
          "dtype": "f8"
         },
         "xaxis": "x",
         "y": {
          "bdata": "AQIBBQ0MGBsaAw==",
          "dtype": "i1"
         },
         "yaxis": "y"
        },
        {
         "customdata": [
          [
           "gene-therapy"
          ],
          [
           "gene-therapy"
          ],
          [
           "gene-therapy"
          ],
          [
           "gene-therapy"
          ],
          [
           "gene-therapy"
          ],
          [
           "gene-therapy"
          ],
          [
           "gene-therapy"
          ],
          [
           "gene-therapy"
          ],
          [
           "gene-therapy"
          ]
         ],
         "hovertemplate": "Industry=%{customdata[0]}<br>Year Founded=%{x}<br>Number of Companies=%{y}<extra></extra>",
         "legendgroup": "gene-therapy",
         "line": {
          "color": "#FF6692",
          "dash": "solid"
         },
         "marker": {
          "symbol": "circle"
         },
         "mode": "lines",
         "name": "gene-therapy",
         "showlegend": true,
         "type": "scattergl",
         "x": {
          "bdata": "AAAAAAB8n0AAAAAAAICfQAAAAAAAhJ9AAAAAAACIn0AAAAAAAIyfQAAAAAAAkJ9AAAAAAACUn0AAAAAAAJyfQAAAAAAAoJ9A",
          "dtype": "f8"
         },
         "xaxis": "x",
         "y": {
          "bdata": "AQEBAQICBgID",
          "dtype": "i1"
         },
         "yaxis": "y"
        },
        {
         "customdata": [
          [
           "home-services"
          ],
          [
           "home-services"
          ],
          [
           "home-services"
          ],
          [
           "home-services"
          ]
         ],
         "hovertemplate": "Industry=%{customdata[0]}<br>Year Founded=%{x}<br>Number of Companies=%{y}<extra></extra>",
         "legendgroup": "home-services",
         "line": {
          "color": "#B6E880",
          "dash": "solid"
         },
         "marker": {
          "symbol": "circle"
         },
         "mode": "lines",
         "name": "home-services",
         "showlegend": true,
         "type": "scattergl",
         "x": {
          "bdata": "AAAAAAB8n0AAAAAAAJCfQAAAAAAAlJ9AAAAAAACcn0A=",
          "dtype": "f8"
         },
         "xaxis": "x",
         "y": {
          "bdata": "AQICBg==",
          "dtype": "i1"
         },
         "yaxis": "y"
        },
        {
         "customdata": [
          [
           "industrial-workplace-safety"
          ],
          [
           "industrial-workplace-safety"
          ],
          [
           "industrial-workplace-safety"
          ]
         ],
         "hovertemplate": "Industry=%{customdata[0]}<br>Year Founded=%{x}<br>Number of Companies=%{y}<extra></extra>",
         "legendgroup": "industrial-workplace-safety",
         "line": {
          "color": "#FF97FF",
          "dash": "solid"
         },
         "marker": {
          "symbol": "circle"
         },
         "mode": "lines",
         "name": "industrial-workplace-safety",
         "showlegend": true,
         "type": "scattergl",
         "x": {
          "bdata": "AAAAAAB8n0AAAAAAAJCfQAAAAAAAmJ9A",
          "dtype": "f8"
         },
         "xaxis": "x",
         "y": {
          "bdata": "AQIB",
          "dtype": "i1"
         },
         "yaxis": "y"
        },
        {
         "customdata": [
          [
           "infrastructure"
          ],
          [
           "infrastructure"
          ],
          [
           "infrastructure"
          ],
          [
           "infrastructure"
          ],
          [
           "infrastructure"
          ],
          [
           "infrastructure"
          ],
          [
           "infrastructure"
          ]
         ],
         "hovertemplate": "Industry=%{customdata[0]}<br>Year Founded=%{x}<br>Number of Companies=%{y}<extra></extra>",
         "legendgroup": "infrastructure",
         "line": {
          "color": "#FECB52",
          "dash": "solid"
         },
         "marker": {
          "symbol": "circle"
         },
         "mode": "lines",
         "name": "infrastructure",
         "showlegend": true,
         "type": "scattergl",
         "x": {
          "bdata": "AAAAAAB8n0AAAAAAAJCfQAAAAAAAlJ9AAAAAAACYn0AAAAAAAJyfQAAAAAAAoJ9AAAAAAACkn0A=",
          "dtype": "f8"
         },
         "xaxis": "x",
         "y": {
          "bdata": "AQwRDjAhAg==",
          "dtype": "i1"
         },
         "yaxis": "y"
        },
        {
         "customdata": [
          [
           "kubernetes"
          ],
          [
           "kubernetes"
          ],
          [
           "kubernetes"
          ],
          [
           "kubernetes"
          ],
          [
           "kubernetes"
          ],
          [
           "kubernetes"
          ],
          [
           "kubernetes"
          ]
         ],
         "hovertemplate": "Industry=%{customdata[0]}<br>Year Founded=%{x}<br>Number of Companies=%{y}<extra></extra>",
         "legendgroup": "kubernetes",
         "line": {
          "color": "#636efa",
          "dash": "solid"
         },
         "marker": {
          "symbol": "circle"
         },
         "mode": "lines",
         "name": "kubernetes",
         "showlegend": true,
         "type": "scattergl",
         "x": {
          "bdata": "AAAAAAB8n0AAAAAAAIifQAAAAAAAjJ9AAAAAAACQn0AAAAAAAJSfQAAAAAAAmJ9AAAAAAACcn0A=",
          "dtype": "f8"
         },
         "xaxis": "x",
         "y": {
          "bdata": "AgIBAwYEBA==",
          "dtype": "i1"
         },
         "yaxis": "y"
        },
        {
         "customdata": [
          [
           "latin-america"
          ],
          [
           "latin-america"
          ],
          [
           "latin-america"
          ],
          [
           "latin-america"
          ],
          [
           "latin-america"
          ],
          [
           "latin-america"
          ]
         ],
         "hovertemplate": "Industry=%{customdata[0]}<br>Year Founded=%{x}<br>Number of Companies=%{y}<extra></extra>",
         "legendgroup": "latin-america",
         "line": {
          "color": "#EF553B",
          "dash": "solid"
         },
         "marker": {
          "symbol": "circle"
         },
         "mode": "lines",
         "name": "latin-america",
         "showlegend": true,
         "type": "scattergl",
         "x": {
          "bdata": "AAAAAAB8n0AAAAAAAISfQAAAAAAAiJ9AAAAAAACMn0AAAAAAAJCfQAAAAAAAmJ9A",
          "dtype": "f8"
         },
         "xaxis": "x",
         "y": {
          "bdata": "AQECCAUI",
          "dtype": "i1"
         },
         "yaxis": "y"
        },
        {
         "customdata": [
          [
           "lending"
          ],
          [
           "lending"
          ],
          [
           "lending"
          ],
          [
           "lending"
          ],
          [
           "lending"
          ],
          [
           "lending"
          ],
          [
           "lending"
          ],
          [
           "lending"
          ]
         ],
         "hovertemplate": "Industry=%{customdata[0]}<br>Year Founded=%{x}<br>Number of Companies=%{y}<extra></extra>",
         "legendgroup": "lending",
         "line": {
          "color": "#00cc96",
          "dash": "solid"
         },
         "marker": {
          "symbol": "circle"
         },
         "mode": "lines",
         "name": "lending",
         "showlegend": true,
         "type": "scattergl",
         "x": {
          "bdata": "AAAAAAB8n0AAAAAAAIifQAAAAAAAjJ9AAAAAAACQn0AAAAAAAJSfQAAAAAAAmJ9AAAAAAACcn0AAAAAAAKCfQA==",
          "dtype": "f8"
         },
         "xaxis": "x",
         "y": {
          "bdata": "AQIECAYEBAM=",
          "dtype": "i1"
         },
         "yaxis": "y"
        },
        {
         "customdata": [
          [
           "microfluidics"
          ],
          [
           "microfluidics"
          ],
          [
           "microfluidics"
          ],
          [
           "microfluidics"
          ]
         ],
         "hovertemplate": "Industry=%{customdata[0]}<br>Year Founded=%{x}<br>Number of Companies=%{y}<extra></extra>",
         "legendgroup": "microfluidics",
         "line": {
          "color": "#ab63fa",
          "dash": "solid"
         },
         "marker": {
          "symbol": "circle"
         },
         "mode": "lines",
         "name": "microfluidics",
         "showlegend": true,
         "type": "scattergl",
         "x": {
          "bdata": "AAAAAAB8n0AAAAAAAISfQAAAAAAAkJ9AAAAAAACYn0A=",
          "dtype": "f8"
         },
         "xaxis": "x",
         "y": {
          "bdata": "AQECAg==",
          "dtype": "i1"
         },
         "yaxis": "y"
        },
        {
         "customdata": [
          [
           "nanosensors"
          ],
          [
           "nanosensors"
          ],
          [
           "nanosensors"
          ],
          [
           "nanosensors"
          ]
         ],
         "hovertemplate": "Industry=%{customdata[0]}<br>Year Founded=%{x}<br>Number of Companies=%{y}<extra></extra>",
         "legendgroup": "nanosensors",
         "line": {
          "color": "#FFA15A",
          "dash": "solid"
         },
         "marker": {
          "symbol": "circle"
         },
         "mode": "lines",
         "name": "nanosensors",
         "showlegend": true,
         "type": "scattergl",
         "x": {
          "bdata": "AAAAAAB8n0AAAAAAAISfQAAAAAAAjJ9AAAAAAACQn0A=",
          "dtype": "f8"
         },
         "xaxis": "x",
         "y": {
          "bdata": "AQECAg==",
          "dtype": "i1"
         },
         "yaxis": "y"
        },
        {
         "customdata": [
          [
           "personalization"
          ],
          [
           "personalization"
          ]
         ],
         "hovertemplate": "Industry=%{customdata[0]}<br>Year Founded=%{x}<br>Number of Companies=%{y}<extra></extra>",
         "legendgroup": "personalization",
         "line": {
          "color": "#19d3f3",
          "dash": "solid"
         },
         "marker": {
          "symbol": "circle"
         },
         "mode": "lines",
         "name": "personalization",
         "showlegend": true,
         "type": "scattergl",
         "x": {
          "bdata": "AAAAAAB8n0AAAAAAAIyfQA==",
          "dtype": "f8"
         },
         "xaxis": "x",
         "y": {
          "bdata": "AQI=",
          "dtype": "i1"
         },
         "yaxis": "y"
        },
        {
         "customdata": [
          [
           "primary-care"
          ],
          [
           "primary-care"
          ],
          [
           "primary-care"
          ],
          [
           "primary-care"
          ],
          [
           "primary-care"
          ]
         ],
         "hovertemplate": "Industry=%{customdata[0]}<br>Year Founded=%{x}<br>Number of Companies=%{y}<extra></extra>",
         "legendgroup": "primary-care",
         "line": {
          "color": "#FF6692",
          "dash": "solid"
         },
         "marker": {
          "symbol": "circle"
         },
         "mode": "lines",
         "name": "primary-care",
         "showlegend": true,
         "type": "scattergl",
         "x": {
          "bdata": "AAAAAAB8n0AAAAAAAICfQAAAAAAAhJ9AAAAAAACUn0AAAAAAAJifQA==",
          "dtype": "f8"
         },
         "xaxis": "x",
         "y": {
          "bdata": "AQEBBgI=",
          "dtype": "i1"
         },
         "yaxis": "y"
        },
        {
         "customdata": [
          [
           "remote"
          ],
          [
           "remote"
          ]
         ],
         "hovertemplate": "Industry=%{customdata[0]}<br>Year Founded=%{x}<br>Number of Companies=%{y}<extra></extra>",
         "legendgroup": "remote",
         "line": {
          "color": "#B6E880",
          "dash": "solid"
         },
         "marker": {
          "symbol": "circle"
         },
         "mode": "lines",
         "name": "remote",
         "showlegend": true,
         "type": "scattergl",
         "x": {
          "bdata": "AAAAAAB8n0AAAAAAAJCfQA==",
          "dtype": "f8"
         },
         "xaxis": "x",
         "y": {
          "bdata": "AQQ=",
          "dtype": "i1"
         },
         "yaxis": "y"
        },
        {
         "customdata": [
          [
           "sales-enablement"
          ],
          [
           "sales-enablement"
          ],
          [
           "sales-enablement"
          ],
          [
           "sales-enablement"
          ],
          [
           "sales-enablement"
          ],
          [
           "sales-enablement"
          ],
          [
           "sales-enablement"
          ],
          [
           "sales-enablement"
          ]
         ],
         "hovertemplate": "Industry=%{customdata[0]}<br>Year Founded=%{x}<br>Number of Companies=%{y}<extra></extra>",
         "legendgroup": "sales-enablement",
         "line": {
          "color": "#FF97FF",
          "dash": "solid"
         },
         "marker": {
          "symbol": "circle"
         },
         "mode": "lines",
         "name": "sales-enablement",
         "showlegend": true,
         "type": "scattergl",
         "x": {
          "bdata": "AAAAAAB8n0AAAAAAAICfQAAAAAAAjJ9AAAAAAACQn0AAAAAAAJSfQAAAAAAAmJ9AAAAAAACcn0AAAAAAAKCfQA==",
          "dtype": "f8"
         },
         "xaxis": "x",
         "y": {
          "bdata": "AQECCQgOCQU=",
          "dtype": "i1"
         },
         "yaxis": "y"
        },
        {
         "customdata": [
          [
           "smb"
          ],
          [
           "smb"
          ],
          [
           "smb"
          ],
          [
           "smb"
          ],
          [
           "smb"
          ],
          [
           "smb"
          ]
         ],
         "hovertemplate": "Industry=%{customdata[0]}<br>Year Founded=%{x}<br>Number of Companies=%{y}<extra></extra>",
         "legendgroup": "smb",
         "line": {
          "color": "#FECB52",
          "dash": "solid"
         },
         "marker": {
          "symbol": "circle"
         },
         "mode": "lines",
         "name": "smb",
         "showlegend": true,
         "type": "scattergl",
         "x": {
          "bdata": "AAAAAAB8n0AAAAAAAISfQAAAAAAAiJ9AAAAAAACMn0AAAAAAAJSfQAAAAAAAnJ9A",
          "dtype": "f8"
         },
         "xaxis": "x",
         "y": {
          "bdata": "AQECAQQE",
          "dtype": "i1"
         },
         "yaxis": "y"
        },
        {
         "customdata": [
          [
           "sports-tech"
          ],
          [
           "sports-tech"
          ],
          [
           "sports-tech"
          ],
          [
           "sports-tech"
          ],
          [
           "sports-tech"
          ],
          [
           "sports-tech"
          ],
          [
           "sports-tech"
          ],
          [
           "sports-tech"
          ]
         ],
         "hovertemplate": "Industry=%{customdata[0]}<br>Year Founded=%{x}<br>Number of Companies=%{y}<extra></extra>",
         "legendgroup": "sports-tech",
         "line": {
          "color": "#636efa",
          "dash": "solid"
         },
         "marker": {
          "symbol": "circle"
         },
         "mode": "lines",
         "name": "sports-tech",
         "showlegend": true,
         "type": "scattergl",
         "x": {
          "bdata": "AAAAAAB8n0AAAAAAAICfQAAAAAAAhJ9AAAAAAACIn0AAAAAAAIyfQAAAAAAAkJ9AAAAAAACUn0AAAAAAAKCfQA==",
          "dtype": "f8"
         },
         "xaxis": "x",
         "y": {
          "bdata": "AQEBAwMCBwI=",
          "dtype": "i1"
         },
         "yaxis": "y"
        },
        {
         "customdata": [
          [
           "sustainable-agriculture"
          ],
          [
           "sustainable-agriculture"
          ]
         ],
         "hovertemplate": "Industry=%{customdata[0]}<br>Year Founded=%{x}<br>Number of Companies=%{y}<extra></extra>",
         "legendgroup": "sustainable-agriculture",
         "line": {
          "color": "#EF553B",
          "dash": "solid"
         },
         "marker": {
          "symbol": "circle"
         },
         "mode": "lines",
         "name": "sustainable-agriculture",
         "showlegend": true,
         "type": "scattergl",
         "x": {
          "bdata": "AAAAAAB8n0AAAAAAAISfQA==",
          "dtype": "f8"
         },
         "xaxis": "x",
         "y": {
          "bdata": "AQE=",
          "dtype": "i1"
         },
         "yaxis": "y"
        },
        {
         "customdata": [
          [
           "team-collaboration"
          ],
          [
           "team-collaboration"
          ],
          [
           "team-collaboration"
          ]
         ],
         "hovertemplate": "Industry=%{customdata[0]}<br>Year Founded=%{x}<br>Number of Companies=%{y}<extra></extra>",
         "legendgroup": "team-collaboration",
         "line": {
          "color": "#00cc96",
          "dash": "solid"
         },
         "marker": {
          "symbol": "circle"
         },
         "mode": "lines",
         "name": "team-collaboration",
         "showlegend": true,
         "type": "scattergl",
         "x": {
          "bdata": "AAAAAAB8n0AAAAAAAIyfQAAAAAAAnJ9A",
          "dtype": "f8"
         },
         "xaxis": "x",
         "y": {
          "bdata": "AQUC",
          "dtype": "i1"
         },
         "yaxis": "y"
        },
        {
         "customdata": [
          [
           "unmanned-vehicle"
          ],
          [
           "unmanned-vehicle"
          ],
          [
           "unmanned-vehicle"
          ]
         ],
         "hovertemplate": "Industry=%{customdata[0]}<br>Year Founded=%{x}<br>Number of Companies=%{y}<extra></extra>",
         "legendgroup": "unmanned-vehicle",
         "line": {
          "color": "#ab63fa",
          "dash": "solid"
         },
         "marker": {
          "symbol": "circle"
         },
         "mode": "lines",
         "name": "unmanned-vehicle",
         "showlegend": true,
         "type": "scattergl",
         "x": {
          "bdata": "AAAAAAB8n0AAAAAAAIyfQAAAAAAAlJ9A",
          "dtype": "f8"
         },
         "xaxis": "x",
         "y": {
          "bdata": "AQEC",
          "dtype": "i1"
         },
         "yaxis": "y"
        },
        {
         "customdata": [
          [
           "vertical-farming"
          ],
          [
           "vertical-farming"
          ],
          [
           "vertical-farming"
          ]
         ],
         "hovertemplate": "Industry=%{customdata[0]}<br>Year Founded=%{x}<br>Number of Companies=%{y}<extra></extra>",
         "legendgroup": "vertical-farming",
         "line": {
          "color": "#FFA15A",
          "dash": "solid"
         },
         "marker": {
          "symbol": "circle"
         },
         "mode": "lines",
         "name": "vertical-farming",
         "showlegend": true,
         "type": "scattergl",
         "x": {
          "bdata": "AAAAAAB8n0AAAAAAAISfQAAAAAAAiJ9A",
          "dtype": "f8"
         },
         "xaxis": "x",
         "y": {
          "bdata": "AQEB",
          "dtype": "i1"
         },
         "yaxis": "y"
        },
        {
         "customdata": [
          [
           "3d-printed-foods"
          ]
         ],
         "hovertemplate": "Industry=%{customdata[0]}<br>Year Founded=%{x}<br>Number of Companies=%{y}<extra></extra>",
         "legendgroup": "3d-printed-foods",
         "line": {
          "color": "#19d3f3",
          "dash": "solid"
         },
         "marker": {
          "symbol": "circle"
         },
         "mode": "lines",
         "name": "3d-printed-foods",
         "showlegend": true,
         "type": "scattergl",
         "x": {
          "bdata": "AAAAAACAn0A=",
          "dtype": "f8"
         },
         "xaxis": "x",
         "y": {
          "bdata": "AQ==",
          "dtype": "i1"
         },
         "yaxis": "y"
        },
        {
         "customdata": [
          [
           "airlines"
          ],
          [
           "airlines"
          ]
         ],
         "hovertemplate": "Industry=%{customdata[0]}<br>Year Founded=%{x}<br>Number of Companies=%{y}<extra></extra>",
         "legendgroup": "airlines",
         "line": {
          "color": "#FF6692",
          "dash": "solid"
         },
         "marker": {
          "symbol": "circle"
         },
         "mode": "lines",
         "name": "airlines",
         "showlegend": true,
         "type": "scattergl",
         "x": {
          "bdata": "AAAAAACAn0AAAAAAAJyfQA==",
          "dtype": "f8"
         },
         "xaxis": "x",
         "y": {
          "bdata": "AQI=",
          "dtype": "i1"
         },
         "yaxis": "y"
        },
        {
         "customdata": [
          [
           "airplanes"
          ],
          [
           "airplanes"
          ],
          [
           "airplanes"
          ],
          [
           "airplanes"
          ],
          [
           "airplanes"
          ],
          [
           "airplanes"
          ]
         ],
         "hovertemplate": "Industry=%{customdata[0]}<br>Year Founded=%{x}<br>Number of Companies=%{y}<extra></extra>",
         "legendgroup": "airplanes",
         "line": {
          "color": "#B6E880",
          "dash": "solid"
         },
         "marker": {
          "symbol": "circle"
         },
         "mode": "lines",
         "name": "airplanes",
         "showlegend": true,
         "type": "scattergl",
         "x": {
          "bdata": "AAAAAACAn0AAAAAAAISfQAAAAAAAjJ9AAAAAAACQn0AAAAAAAJSfQAAAAAAAmJ9A",
          "dtype": "f8"
         },
         "xaxis": "x",
         "y": {
          "bdata": "AgIDAgIE",
          "dtype": "i1"
         },
         "yaxis": "y"
        },
        {
         "customdata": [
          [
           "biotechnology"
          ],
          [
           "biotechnology"
          ],
          [
           "biotechnology"
          ],
          [
           "biotechnology"
          ],
          [
           "biotechnology"
          ]
         ],
         "hovertemplate": "Industry=%{customdata[0]}<br>Year Founded=%{x}<br>Number of Companies=%{y}<extra></extra>",
         "legendgroup": "biotechnology",
         "line": {
          "color": "#FF97FF",
          "dash": "solid"
         },
         "marker": {
          "symbol": "circle"
         },
         "mode": "lines",
         "name": "biotechnology",
         "showlegend": true,
         "type": "scattergl",
         "x": {
          "bdata": "AAAAAACAn0AAAAAAAISfQAAAAAAAiJ9AAAAAAACUn0AAAAAAAJifQA==",
          "dtype": "f8"
         },
         "xaxis": "x",
         "y": {
          "bdata": "AgEBBAQ=",
          "dtype": "i1"
         },
         "yaxis": "y"
        },
        {
         "customdata": [
          [
           "chatbots"
          ]
         ],
         "hovertemplate": "Industry=%{customdata[0]}<br>Year Founded=%{x}<br>Number of Companies=%{y}<extra></extra>",
         "legendgroup": "chatbots",
         "line": {
          "color": "#FECB52",
          "dash": "solid"
         },
         "marker": {
          "symbol": "circle"
         },
         "mode": "lines",
         "name": "chatbots",
         "showlegend": true,
         "type": "scattergl",
         "x": {
          "bdata": "AAAAAACAn0A=",
          "dtype": "f8"
         },
         "xaxis": "x",
         "y": {
          "bdata": "AQ==",
          "dtype": "i1"
         },
         "yaxis": "y"
        },
        {
         "customdata": [
          [
           "crowdsourcing"
          ],
          [
           "crowdsourcing"
          ]
         ],
         "hovertemplate": "Industry=%{customdata[0]}<br>Year Founded=%{x}<br>Number of Companies=%{y}<extra></extra>",
         "legendgroup": "crowdsourcing",
         "line": {
          "color": "#636efa",
          "dash": "solid"
         },
         "marker": {
          "symbol": "circle"
         },
         "mode": "lines",
         "name": "crowdsourcing",
         "showlegend": true,
         "type": "scattergl",
         "x": {
          "bdata": "AAAAAACAn0AAAAAAAISfQA==",
          "dtype": "f8"
         },
         "xaxis": "x",
         "y": {
          "bdata": "AQE=",
          "dtype": "i1"
         },
         "yaxis": "y"
        },
        {
         "customdata": [
          [
           "cultivated-meat"
          ],
          [
           "cultivated-meat"
          ]
         ],
         "hovertemplate": "Industry=%{customdata[0]}<br>Year Founded=%{x}<br>Number of Companies=%{y}<extra></extra>",
         "legendgroup": "cultivated-meat",
         "line": {
          "color": "#EF553B",
          "dash": "solid"
         },
         "marker": {
          "symbol": "circle"
         },
         "mode": "lines",
         "name": "cultivated-meat",
         "showlegend": true,
         "type": "scattergl",
         "x": {
          "bdata": "AAAAAACAn0AAAAAAAIifQA==",
          "dtype": "f8"
         },
         "xaxis": "x",
         "y": {
          "bdata": "AQE=",
          "dtype": "i1"
         },
         "yaxis": "y"
        },
        {
         "customdata": [
          [
           "cybersecurity"
          ],
          [
           "cybersecurity"
          ],
          [
           "cybersecurity"
          ],
          [
           "cybersecurity"
          ],
          [
           "cybersecurity"
          ],
          [
           "cybersecurity"
          ],
          [
           "cybersecurity"
          ],
          [
           "cybersecurity"
          ]
         ],
         "hovertemplate": "Industry=%{customdata[0]}<br>Year Founded=%{x}<br>Number of Companies=%{y}<extra></extra>",
         "legendgroup": "cybersecurity",
         "line": {
          "color": "#00cc96",
          "dash": "solid"
         },
         "marker": {
          "symbol": "circle"
         },
         "mode": "lines",
         "name": "cybersecurity",
         "showlegend": true,
         "type": "scattergl",
         "x": {
          "bdata": "AAAAAACAn0AAAAAAAISfQAAAAAAAjJ9AAAAAAACQn0AAAAAAAJSfQAAAAAAAmJ9AAAAAAACcn0AAAAAAAKCfQA==",
          "dtype": "f8"
         },
         "xaxis": "x",
         "y": {
          "bdata": "AgEBBAQKDwo=",
          "dtype": "i1"
         },
         "yaxis": "y"
        },
        {
         "customdata": [
          [
           "generative-ai"
          ],
          [
           "generative-ai"
          ],
          [
           "generative-ai"
          ],
          [
           "generative-ai"
          ],
          [
           "generative-ai"
          ],
          [
           "generative-ai"
          ],
          [
           "generative-ai"
          ],
          [
           "generative-ai"
          ],
          [
           "generative-ai"
          ],
          [
           "generative-ai"
          ]
         ],
         "hovertemplate": "Industry=%{customdata[0]}<br>Year Founded=%{x}<br>Number of Companies=%{y}<extra></extra>",
         "legendgroup": "generative-ai",
         "line": {
          "color": "#ab63fa",
          "dash": "solid"
         },
         "marker": {
          "symbol": "circle"
         },
         "mode": "lines",
         "name": "generative-ai",
         "showlegend": true,
         "type": "scattergl",
         "x": {
          "bdata": "AAAAAACAn0AAAAAAAISfQAAAAAAAiJ9AAAAAAACMn0AAAAAAAJCfQAAAAAAAlJ9AAAAAAACYn0AAAAAAAJyfQAAAAAAAoJ9AAAAAAACkn0A=",
          "dtype": "f8"
         },
         "xaxis": "x",
         "y": {
          "bdata": "AgAGAAMACwAbADgAawCVAGAACwA=",
          "dtype": "i2"
         },
         "yaxis": "y"
        },
        {
         "customdata": [
          [
           "medical-robotics"
          ],
          [
           "medical-robotics"
          ],
          [
           "medical-robotics"
          ],
          [
           "medical-robotics"
          ],
          [
           "medical-robotics"
          ]
         ],
         "hovertemplate": "Industry=%{customdata[0]}<br>Year Founded=%{x}<br>Number of Companies=%{y}<extra></extra>",
         "legendgroup": "medical-robotics",
         "line": {
          "color": "#FFA15A",
          "dash": "solid"
         },
         "marker": {
          "symbol": "circle"
         },
         "mode": "lines",
         "name": "medical-robotics",
         "showlegend": true,
         "type": "scattergl",
         "x": {
          "bdata": "AAAAAACAn0AAAAAAAIifQAAAAAAAjJ9AAAAAAACUn0AAAAAAAJyfQA==",
          "dtype": "f8"
         },
         "xaxis": "x",
         "y": {
          "bdata": "AQECAgI=",
          "dtype": "i1"
         },
         "yaxis": "y"
        },
        {
         "customdata": [
          [
           "microinsurance"
          ],
          [
           "microinsurance"
          ]
         ],
         "hovertemplate": "Industry=%{customdata[0]}<br>Year Founded=%{x}<br>Number of Companies=%{y}<extra></extra>",
         "legendgroup": "microinsurance",
         "line": {
          "color": "#19d3f3",
          "dash": "solid"
         },
         "marker": {
          "symbol": "circle"
         },
         "mode": "lines",
         "name": "microinsurance",
         "showlegend": true,
         "type": "scattergl",
         "x": {
          "bdata": "AAAAAACAn0AAAAAAAJCfQA==",
          "dtype": "f8"
         },
         "xaxis": "x",
         "y": {
          "bdata": "AgI=",
          "dtype": "i1"
         },
         "yaxis": "y"
        },
        {
         "customdata": [
          [
           "mining"
          ],
          [
           "mining"
          ],
          [
           "mining"
          ],
          [
           "mining"
          ]
         ],
         "hovertemplate": "Industry=%{customdata[0]}<br>Year Founded=%{x}<br>Number of Companies=%{y}<extra></extra>",
         "legendgroup": "mining",
         "line": {
          "color": "#FF6692",
          "dash": "solid"
         },
         "marker": {
          "symbol": "circle"
         },
         "mode": "lines",
         "name": "mining",
         "showlegend": true,
         "type": "scattergl",
         "x": {
          "bdata": "AAAAAACAn0AAAAAAAIyfQAAAAAAAkJ9AAAAAAACgn0A=",
          "dtype": "f8"
         },
         "xaxis": "x",
         "y": {
          "bdata": "AQECAw==",
          "dtype": "i1"
         },
         "yaxis": "y"
        },
        {
         "customdata": [
          [
           "nanotechnology"
          ],
          [
           "nanotechnology"
          ],
          [
           "nanotechnology"
          ],
          [
           "nanotechnology"
          ]
         ],
         "hovertemplate": "Industry=%{customdata[0]}<br>Year Founded=%{x}<br>Number of Companies=%{y}<extra></extra>",
         "legendgroup": "nanotechnology",
         "line": {
          "color": "#B6E880",
          "dash": "solid"
         },
         "marker": {
          "symbol": "circle"
         },
         "mode": "lines",
         "name": "nanotechnology",
         "showlegend": true,
         "type": "scattergl",
         "x": {
          "bdata": "AAAAAACAn0AAAAAAAISfQAAAAAAAiJ9AAAAAAACYn0A=",
          "dtype": "f8"
         },
         "xaxis": "x",
         "y": {
          "bdata": "AQIBBg==",
          "dtype": "i1"
         },
         "yaxis": "y"
        },
        {
         "customdata": [
          [
           "plant-based-meat"
          ],
          [
           "plant-based-meat"
          ]
         ],
         "hovertemplate": "Industry=%{customdata[0]}<br>Year Founded=%{x}<br>Number of Companies=%{y}<extra></extra>",
         "legendgroup": "plant-based-meat",
         "line": {
          "color": "#FF97FF",
          "dash": "solid"
         },
         "marker": {
          "symbol": "circle"
         },
         "mode": "lines",
         "name": "plant-based-meat",
         "showlegend": true,
         "type": "scattergl",
         "x": {
          "bdata": "AAAAAACAn0AAAAAAAISfQA==",
          "dtype": "f8"
         },
         "xaxis": "x",
         "y": {
          "bdata": "AQE=",
          "dtype": "i1"
         },
         "yaxis": "y"
        },
        {
         "customdata": [
          [
           "podcasts"
          ],
          [
           "podcasts"
          ],
          [
           "podcasts"
          ],
          [
           "podcasts"
          ],
          [
           "podcasts"
          ],
          [
           "podcasts"
          ]
         ],
         "hovertemplate": "Industry=%{customdata[0]}<br>Year Founded=%{x}<br>Number of Companies=%{y}<extra></extra>",
         "legendgroup": "podcasts",
         "line": {
          "color": "#FECB52",
          "dash": "solid"
         },
         "marker": {
          "symbol": "circle"
         },
         "mode": "lines",
         "name": "podcasts",
         "showlegend": true,
         "type": "scattergl",
         "x": {
          "bdata": "AAAAAACAn0AAAAAAAISfQAAAAAAAiJ9AAAAAAACQn0AAAAAAAJyfQAAAAAAAoJ9A",
          "dtype": "f8"
         },
         "xaxis": "x",
         "y": {
          "bdata": "AQECAgIC",
          "dtype": "i1"
         },
         "yaxis": "y"
        },
        {
         "customdata": [
          [
           "robotic-process-automation"
          ],
          [
           "robotic-process-automation"
          ],
          [
           "robotic-process-automation"
          ],
          [
           "robotic-process-automation"
          ],
          [
           "robotic-process-automation"
          ],
          [
           "robotic-process-automation"
          ],
          [
           "robotic-process-automation"
          ],
          [
           "robotic-process-automation"
          ]
         ],
         "hovertemplate": "Industry=%{customdata[0]}<br>Year Founded=%{x}<br>Number of Companies=%{y}<extra></extra>",
         "legendgroup": "robotic-process-automation",
         "line": {
          "color": "#636efa",
          "dash": "solid"
         },
         "marker": {
          "symbol": "circle"
         },
         "mode": "lines",
         "name": "robotic-process-automation",
         "showlegend": true,
         "type": "scattergl",
         "x": {
          "bdata": "AAAAAACAn0AAAAAAAIifQAAAAAAAjJ9AAAAAAACQn0AAAAAAAJSfQAAAAAAAmJ9AAAAAAACcn0AAAAAAAKCfQA==",
          "dtype": "f8"
         },
         "xaxis": "x",
         "y": {
          "bdata": "AQIHBgYCCQg=",
          "dtype": "i1"
         },
         "yaxis": "y"
        },
        {
         "customdata": [
          [
           "robotic-surgery"
          ],
          [
           "robotic-surgery"
          ],
          [
           "robotic-surgery"
          ]
         ],
         "hovertemplate": "Industry=%{customdata[0]}<br>Year Founded=%{x}<br>Number of Companies=%{y}<extra></extra>",
         "legendgroup": "robotic-surgery",
         "line": {
          "color": "#EF553B",
          "dash": "solid"
         },
         "marker": {
          "symbol": "circle"
         },
         "mode": "lines",
         "name": "robotic-surgery",
         "showlegend": true,
         "type": "scattergl",
         "x": {
          "bdata": "AAAAAACAn0AAAAAAAIifQAAAAAAAlJ9A",
          "dtype": "f8"
         },
         "xaxis": "x",
         "y": {
          "bdata": "AQEC",
          "dtype": "i1"
         },
         "yaxis": "y"
        },
        {
         "customdata": [
          [
           "rocketry"
          ],
          [
           "rocketry"
          ],
          [
           "rocketry"
          ]
         ],
         "hovertemplate": "Industry=%{customdata[0]}<br>Year Founded=%{x}<br>Number of Companies=%{y}<extra></extra>",
         "legendgroup": "rocketry",
         "line": {
          "color": "#00cc96",
          "dash": "solid"
         },
         "marker": {
          "symbol": "circle"
         },
         "mode": "lines",
         "name": "rocketry",
         "showlegend": true,
         "type": "scattergl",
         "x": {
          "bdata": "AAAAAACAn0AAAAAAAISfQAAAAAAAnJ9A",
          "dtype": "f8"
         },
         "xaxis": "x",
         "y": {
          "bdata": "AQEC",
          "dtype": "i1"
         },
         "yaxis": "y"
        },
        {
         "customdata": [
          [
           "scheduling"
          ],
          [
           "scheduling"
          ],
          [
           "scheduling"
          ],
          [
           "scheduling"
          ]
         ],
         "hovertemplate": "Industry=%{customdata[0]}<br>Year Founded=%{x}<br>Number of Companies=%{y}<extra></extra>",
         "legendgroup": "scheduling",
         "line": {
          "color": "#ab63fa",
          "dash": "solid"
         },
         "marker": {
          "symbol": "circle"
         },
         "mode": "lines",
         "name": "scheduling",
         "showlegend": true,
         "type": "scattergl",
         "x": {
          "bdata": "AAAAAACAn0AAAAAAAIifQAAAAAAAjJ9AAAAAAACQn0A=",
          "dtype": "f8"
         },
         "xaxis": "x",
         "y": {
          "bdata": "AQECBA==",
          "dtype": "i1"
         },
         "yaxis": "y"
        },
        {
         "customdata": [
          [
           "space-exploration"
          ],
          [
           "space-exploration"
          ],
          [
           "space-exploration"
          ],
          [
           "space-exploration"
          ],
          [
           "space-exploration"
          ],
          [
           "space-exploration"
          ],
          [
           "space-exploration"
          ],
          [
           "space-exploration"
          ],
          [
           "space-exploration"
          ]
         ],
         "hovertemplate": "Industry=%{customdata[0]}<br>Year Founded=%{x}<br>Number of Companies=%{y}<extra></extra>",
         "legendgroup": "space-exploration",
         "line": {
          "color": "#FFA15A",
          "dash": "solid"
         },
         "marker": {
          "symbol": "circle"
         },
         "mode": "lines",
         "name": "space-exploration",
         "showlegend": true,
         "type": "scattergl",
         "x": {
          "bdata": "AAAAAACAn0AAAAAAAISfQAAAAAAAiJ9AAAAAAACMn0AAAAAAAJCfQAAAAAAAlJ9AAAAAAACYn0AAAAAAAJyfQAAAAAAAoJ9A",
          "dtype": "f8"
         },
         "xaxis": "x",
         "y": {
          "bdata": "BQIBBAIEAgID",
          "dtype": "i1"
         },
         "yaxis": "y"
        },
        {
         "customdata": [
          [
           "speech-recognition"
          ],
          [
           "speech-recognition"
          ]
         ],
         "hovertemplate": "Industry=%{customdata[0]}<br>Year Founded=%{x}<br>Number of Companies=%{y}<extra></extra>",
         "legendgroup": "speech-recognition",
         "line": {
          "color": "#19d3f3",
          "dash": "solid"
         },
         "marker": {
          "symbol": "circle"
         },
         "mode": "lines",
         "name": "speech-recognition",
         "showlegend": true,
         "type": "scattergl",
         "x": {
          "bdata": "AAAAAACAn0AAAAAAAJSfQA==",
          "dtype": "f8"
         },
         "xaxis": "x",
         "y": {
          "bdata": "AwI=",
          "dtype": "i1"
         },
         "yaxis": "y"
        },
        {
         "customdata": [
          [
           "sustainable-fashion"
          ],
          [
           "sustainable-fashion"
          ],
          [
           "sustainable-fashion"
          ],
          [
           "sustainable-fashion"
          ]
         ],
         "hovertemplate": "Industry=%{customdata[0]}<br>Year Founded=%{x}<br>Number of Companies=%{y}<extra></extra>",
         "legendgroup": "sustainable-fashion",
         "line": {
          "color": "#FF6692",
          "dash": "solid"
         },
         "marker": {
          "symbol": "circle"
         },
         "mode": "lines",
         "name": "sustainable-fashion",
         "showlegend": true,
         "type": "scattergl",
         "x": {
          "bdata": "AAAAAACAn0AAAAAAAISfQAAAAAAAjJ9AAAAAAACUn0A=",
          "dtype": "f8"
         },
         "xaxis": "x",
         "y": {
          "bdata": "AQEFBg==",
          "dtype": "i1"
         },
         "yaxis": "y"
        },
        {
         "customdata": [
          [
           "ticketing"
          ],
          [
           "ticketing"
          ]
         ],
         "hovertemplate": "Industry=%{customdata[0]}<br>Year Founded=%{x}<br>Number of Companies=%{y}<extra></extra>",
         "legendgroup": "ticketing",
         "line": {
          "color": "#B6E880",
          "dash": "solid"
         },
         "marker": {
          "symbol": "circle"
         },
         "mode": "lines",
         "name": "ticketing",
         "showlegend": true,
         "type": "scattergl",
         "x": {
          "bdata": "AAAAAACAn0AAAAAAAKCfQA==",
          "dtype": "f8"
         },
         "xaxis": "x",
         "y": {
          "bdata": "AQI=",
          "dtype": "i1"
         },
         "yaxis": "y"
        },
        {
         "customdata": [
          [
           "vr-health"
          ],
          [
           "vr-health"
          ]
         ],
         "hovertemplate": "Industry=%{customdata[0]}<br>Year Founded=%{x}<br>Number of Companies=%{y}<extra></extra>",
         "legendgroup": "vr-health",
         "line": {
          "color": "#FF97FF",
          "dash": "solid"
         },
         "marker": {
          "symbol": "circle"
         },
         "mode": "lines",
         "name": "vr-health",
         "showlegend": true,
         "type": "scattergl",
         "x": {
          "bdata": "AAAAAACAn0AAAAAAAISfQA==",
          "dtype": "f8"
         },
         "xaxis": "x",
         "y": {
          "bdata": "AQE=",
          "dtype": "i1"
         },
         "yaxis": "y"
        },
        {
         "customdata": [
          [
           "alternative-fuels"
          ]
         ],
         "hovertemplate": "Industry=%{customdata[0]}<br>Year Founded=%{x}<br>Number of Companies=%{y}<extra></extra>",
         "legendgroup": "alternative-fuels",
         "line": {
          "color": "#FECB52",
          "dash": "solid"
         },
         "marker": {
          "symbol": "circle"
         },
         "mode": "lines",
         "name": "alternative-fuels",
         "showlegend": true,
         "type": "scattergl",
         "x": {
          "bdata": "AAAAAACEn0A=",
          "dtype": "f8"
         },
         "xaxis": "x",
         "y": {
          "bdata": "AQ==",
          "dtype": "i1"
         },
         "yaxis": "y"
        },
        {
         "customdata": [
          [
           "biometrics"
          ],
          [
           "biometrics"
          ],
          [
           "biometrics"
          ]
         ],
         "hovertemplate": "Industry=%{customdata[0]}<br>Year Founded=%{x}<br>Number of Companies=%{y}<extra></extra>",
         "legendgroup": "biometrics",
         "line": {
          "color": "#636efa",
          "dash": "solid"
         },
         "marker": {
          "symbol": "circle"
         },
         "mode": "lines",
         "name": "biometrics",
         "showlegend": true,
         "type": "scattergl",
         "x": {
          "bdata": "AAAAAACEn0AAAAAAAJCfQAAAAAAAlJ9A",
          "dtype": "f8"
         },
         "xaxis": "x",
         "y": {
          "bdata": "AQQC",
          "dtype": "i1"
         },
         "yaxis": "y"
        },
        {
         "customdata": [
          [
           "careers"
          ],
          [
           "careers"
          ],
          [
           "careers"
          ]
         ],
         "hovertemplate": "Industry=%{customdata[0]}<br>Year Founded=%{x}<br>Number of Companies=%{y}<extra></extra>",
         "legendgroup": "careers",
         "line": {
          "color": "#EF553B",
          "dash": "solid"
         },
         "marker": {
          "symbol": "circle"
         },
         "mode": "lines",
         "name": "careers",
         "showlegend": true,
         "type": "scattergl",
         "x": {
          "bdata": "AAAAAACEn0AAAAAAAIifQAAAAAAAmJ9A",
          "dtype": "f8"
         },
         "xaxis": "x",
         "y": {
          "bdata": "AQEC",
          "dtype": "i1"
         },
         "yaxis": "y"
        },
        {
         "customdata": [
          [
           "chat"
          ],
          [
           "chat"
          ],
          [
           "chat"
          ]
         ],
         "hovertemplate": "Industry=%{customdata[0]}<br>Year Founded=%{x}<br>Number of Companies=%{y}<extra></extra>",
         "legendgroup": "chat",
         "line": {
          "color": "#00cc96",
          "dash": "solid"
         },
         "marker": {
          "symbol": "circle"
         },
         "mode": "lines",
         "name": "chat",
         "showlegend": true,
         "type": "scattergl",
         "x": {
          "bdata": "AAAAAACEn0AAAAAAAJCfQAAAAAAAoJ9A",
          "dtype": "f8"
         },
         "xaxis": "x",
         "y": {
          "bdata": "AQID",
          "dtype": "i1"
         },
         "yaxis": "y"
        },
        {
         "customdata": [
          [
           "commercial-space-launch"
          ],
          [
           "commercial-space-launch"
          ],
          [
           "commercial-space-launch"
          ],
          [
           "commercial-space-launch"
          ],
          [
           "commercial-space-launch"
          ]
         ],
         "hovertemplate": "Industry=%{customdata[0]}<br>Year Founded=%{x}<br>Number of Companies=%{y}<extra></extra>",
         "legendgroup": "commercial-space-launch",
         "line": {
          "color": "#ab63fa",
          "dash": "solid"
         },
         "marker": {
          "symbol": "circle"
         },
         "mode": "lines",
         "name": "commercial-space-launch",
         "showlegend": true,
         "type": "scattergl",
         "x": {
          "bdata": "AAAAAACEn0AAAAAAAIifQAAAAAAAjJ9AAAAAAACUn0AAAAAAAKCfQA==",
          "dtype": "f8"
         },
         "xaxis": "x",
         "y": {
          "bdata": "AQECBAM=",
          "dtype": "i1"
         },
         "yaxis": "y"
        },
        {
         "customdata": [
          [
           "covid-19"
          ],
          [
           "covid-19"
          ],
          [
           "covid-19"
          ]
         ],
         "hovertemplate": "Industry=%{customdata[0]}<br>Year Founded=%{x}<br>Number of Companies=%{y}<extra></extra>",
         "legendgroup": "covid-19",
         "line": {
          "color": "#FFA15A",
          "dash": "solid"
         },
         "marker": {
          "symbol": "circle"
         },
         "mode": "lines",
         "name": "covid-19",
         "showlegend": true,
         "type": "scattergl",
         "x": {
          "bdata": "AAAAAACEn0AAAAAAAIifQAAAAAAAjJ9A",
          "dtype": "f8"
         },
         "xaxis": "x",
         "y": {
          "bdata": "AgIB",
          "dtype": "i1"
         },
         "yaxis": "y"
        },
        {
         "customdata": [
          [
           "creator-economy"
          ],
          [
           "creator-economy"
          ],
          [
           "creator-economy"
          ],
          [
           "creator-economy"
          ],
          [
           "creator-economy"
          ],
          [
           "creator-economy"
          ],
          [
           "creator-economy"
          ]
         ],
         "hovertemplate": "Industry=%{customdata[0]}<br>Year Founded=%{x}<br>Number of Companies=%{y}<extra></extra>",
         "legendgroup": "creator-economy",
         "line": {
          "color": "#19d3f3",
          "dash": "solid"
         },
         "marker": {
          "symbol": "circle"
         },
         "mode": "lines",
         "name": "creator-economy",
         "showlegend": true,
         "type": "scattergl",
         "x": {
          "bdata": "AAAAAACEn0AAAAAAAIyfQAAAAAAAkJ9AAAAAAACUn0AAAAAAAJifQAAAAAAAnJ9AAAAAAACgn0A=",
          "dtype": "f8"
         },
         "xaxis": "x",
         "y": {
          "bdata": "BAUFDAgEAg==",
          "dtype": "i1"
         },
         "yaxis": "y"
        },
        {
         "customdata": [
          [
           "cyber-insurance"
          ]
         ],
         "hovertemplate": "Industry=%{customdata[0]}<br>Year Founded=%{x}<br>Number of Companies=%{y}<extra></extra>",
         "legendgroup": "cyber-insurance",
         "line": {
          "color": "#FF6692",
          "dash": "solid"
         },
         "marker": {
          "symbol": "circle"
         },
         "mode": "lines",
         "name": "cyber-insurance",
         "showlegend": true,
         "type": "scattergl",
         "x": {
          "bdata": "AAAAAACEn0A=",
          "dtype": "f8"
         },
         "xaxis": "x",
         "y": {
          "bdata": "AQ==",
          "dtype": "i1"
         },
         "yaxis": "y"
        },
        {
         "customdata": [
          [
           "data-labeling"
          ],
          [
           "data-labeling"
          ],
          [
           "data-labeling"
          ],
          [
           "data-labeling"
          ],
          [
           "data-labeling"
          ]
         ],
         "hovertemplate": "Industry=%{customdata[0]}<br>Year Founded=%{x}<br>Number of Companies=%{y}<extra></extra>",
         "legendgroup": "data-labeling",
         "line": {
          "color": "#B6E880",
          "dash": "solid"
         },
         "marker": {
          "symbol": "circle"
         },
         "mode": "lines",
         "name": "data-labeling",
         "showlegend": true,
         "type": "scattergl",
         "x": {
          "bdata": "AAAAAACEn0AAAAAAAIifQAAAAAAAlJ9AAAAAAACcn0AAAAAAAKCfQA==",
          "dtype": "f8"
         },
         "xaxis": "x",
         "y": {
          "bdata": "AQICCQM=",
          "dtype": "i1"
         },
         "yaxis": "y"
        },
        {
         "customdata": [
          [
           "dental"
          ],
          [
           "dental"
          ],
          [
           "dental"
          ]
         ],
         "hovertemplate": "Industry=%{customdata[0]}<br>Year Founded=%{x}<br>Number of Companies=%{y}<extra></extra>",
         "legendgroup": "dental",
         "line": {
          "color": "#FF97FF",
          "dash": "solid"
         },
         "marker": {
          "symbol": "circle"
         },
         "mode": "lines",
         "name": "dental",
         "showlegend": true,
         "type": "scattergl",
         "x": {
          "bdata": "AAAAAACEn0AAAAAAAJCfQAAAAAAAoJ9A",
          "dtype": "f8"
         },
         "xaxis": "x",
         "y": {
          "bdata": "AQIC",
          "dtype": "i1"
         },
         "yaxis": "y"
        },
        {
         "customdata": [
          [
           "election-tech"
          ],
          [
           "election-tech"
          ]
         ],
         "hovertemplate": "Industry=%{customdata[0]}<br>Year Founded=%{x}<br>Number of Companies=%{y}<extra></extra>",
         "legendgroup": "election-tech",
         "line": {
          "color": "#FECB52",
          "dash": "solid"
         },
         "marker": {
          "symbol": "circle"
         },
         "mode": "lines",
         "name": "election-tech",
         "showlegend": true,
         "type": "scattergl",
         "x": {
          "bdata": "AAAAAACEn0AAAAAAAIifQA==",
          "dtype": "f8"
         },
         "xaxis": "x",
         "y": {
          "bdata": "AQE=",
          "dtype": "i1"
         },
         "yaxis": "y"
        },
        {
         "customdata": [
          [
           "electronics"
          ],
          [
           "electronics"
          ],
          [
           "electronics"
          ],
          [
           "electronics"
          ]
         ],
         "hovertemplate": "Industry=%{customdata[0]}<br>Year Founded=%{x}<br>Number of Companies=%{y}<extra></extra>",
         "legendgroup": "electronics",
         "line": {
          "color": "#636efa",
          "dash": "solid"
         },
         "marker": {
          "symbol": "circle"
         },
         "mode": "lines",
         "name": "electronics",
         "showlegend": true,
         "type": "scattergl",
         "x": {
          "bdata": "AAAAAACEn0AAAAAAAJCfQAAAAAAAnJ9AAAAAAACgn0A=",
          "dtype": "f8"
         },
         "xaxis": "x",
         "y": {
          "bdata": "AQICAw==",
          "dtype": "i1"
         },
         "yaxis": "y"
        },
        {
         "customdata": [
          [
           "fertility-tech"
          ],
          [
           "fertility-tech"
          ],
          [
           "fertility-tech"
          ]
         ],
         "hovertemplate": "Industry=%{customdata[0]}<br>Year Founded=%{x}<br>Number of Companies=%{y}<extra></extra>",
         "legendgroup": "fertility-tech",
         "line": {
          "color": "#EF553B",
          "dash": "solid"
         },
         "marker": {
          "symbol": "circle"
         },
         "mode": "lines",
         "name": "fertility-tech",
         "showlegend": true,
         "type": "scattergl",
         "x": {
          "bdata": "AAAAAACEn0AAAAAAAIifQAAAAAAAjJ9A",
          "dtype": "f8"
         },
         "xaxis": "x",
         "y": {
          "bdata": "AQEG",
          "dtype": "i1"
         },
         "yaxis": "y"
        },
        {
         "customdata": [
          [
           "fraud-detection"
          ],
          [
           "fraud-detection"
          ],
          [
           "fraud-detection"
          ],
          [
           "fraud-detection"
          ]
         ],
         "hovertemplate": "Industry=%{customdata[0]}<br>Year Founded=%{x}<br>Number of Companies=%{y}<extra></extra>",
         "legendgroup": "fraud-detection",
         "line": {
          "color": "#00cc96",
          "dash": "solid"
         },
         "marker": {
          "symbol": "circle"
         },
         "mode": "lines",
         "name": "fraud-detection",
         "showlegend": true,
         "type": "scattergl",
         "x": {
          "bdata": "AAAAAACEn0AAAAAAAJSfQAAAAAAAmJ9AAAAAAACgn0A=",
          "dtype": "f8"
         },
         "xaxis": "x",
         "y": {
          "bdata": "AQICBA==",
          "dtype": "i1"
         },
         "yaxis": "y"
        },
        {
         "customdata": [
          [
           "industrial"
          ],
          [
           "industrial"
          ],
          [
           "industrial"
          ],
          [
           "industrial"
          ],
          [
           "industrial"
          ]
         ],
         "hovertemplate": "Industry=%{customdata[0]}<br>Year Founded=%{x}<br>Number of Companies=%{y}<extra></extra>",
         "legendgroup": "industrial",
         "line": {
          "color": "#ab63fa",
          "dash": "solid"
         },
         "marker": {
          "symbol": "circle"
         },
         "mode": "lines",
         "name": "industrial",
         "showlegend": true,
         "type": "scattergl",
         "x": {
          "bdata": "AAAAAACEn0AAAAAAAJSfQAAAAAAAmJ9AAAAAAACcn0AAAAAAAKCfQA==",
          "dtype": "f8"
         },
         "xaxis": "x",
         "y": {
          "bdata": "AQQEBAc=",
          "dtype": "i1"
         },
         "yaxis": "y"
        },
        {
         "customdata": [
          [
           "ml"
          ],
          [
           "ml"
          ],
          [
           "ml"
          ],
          [
           "ml"
          ],
          [
           "ml"
          ]
         ],
         "hovertemplate": "Industry=%{customdata[0]}<br>Year Founded=%{x}<br>Number of Companies=%{y}<extra></extra>",
         "legendgroup": "ml",
         "line": {
          "color": "#FFA15A",
          "dash": "solid"
         },
         "marker": {
          "symbol": "circle"
         },
         "mode": "lines",
         "name": "ml",
         "showlegend": true,
         "type": "scattergl",
         "x": {
          "bdata": "AAAAAACEn0AAAAAAAIifQAAAAAAAkJ9AAAAAAACUn0AAAAAAAJyfQA==",
          "dtype": "f8"
         },
         "xaxis": "x",
         "y": {
          "bdata": "AQMEAgg=",
          "dtype": "i1"
         },
         "yaxis": "y"
        },
        {
         "customdata": [
          [
           "neobank"
          ],
          [
           "neobank"
          ],
          [
           "neobank"
          ],
          [
           "neobank"
          ],
          [
           "neobank"
          ],
          [
           "neobank"
          ],
          [
           "neobank"
          ],
          [
           "neobank"
          ]
         ],
         "hovertemplate": "Industry=%{customdata[0]}<br>Year Founded=%{x}<br>Number of Companies=%{y}<extra></extra>",
         "legendgroup": "neobank",
         "line": {
          "color": "#19d3f3",
          "dash": "solid"
         },
         "marker": {
          "symbol": "circle"
         },
         "mode": "lines",
         "name": "neobank",
         "showlegend": true,
         "type": "scattergl",
         "x": {
          "bdata": "AAAAAACEn0AAAAAAAIifQAAAAAAAjJ9AAAAAAACQn0AAAAAAAJSfQAAAAAAAmJ9AAAAAAACcn0AAAAAAAKCfQA==",
          "dtype": "f8"
         },
         "xaxis": "x",
         "y": {
          "bdata": "AgQGEhQaCAM=",
          "dtype": "i1"
         },
         "yaxis": "y"
        },
        {
         "customdata": [
          [
           "neurotechnology"
          ],
          [
           "neurotechnology"
          ],
          [
           "neurotechnology"
          ],
          [
           "neurotechnology"
          ],
          [
           "neurotechnology"
          ]
         ],
         "hovertemplate": "Industry=%{customdata[0]}<br>Year Founded=%{x}<br>Number of Companies=%{y}<extra></extra>",
         "legendgroup": "neurotechnology",
         "line": {
          "color": "#FF6692",
          "dash": "solid"
         },
         "marker": {
          "symbol": "circle"
         },
         "mode": "lines",
         "name": "neurotechnology",
         "showlegend": true,
         "type": "scattergl",
         "x": {
          "bdata": "AAAAAACEn0AAAAAAAIifQAAAAAAAjJ9AAAAAAACQn0AAAAAAAJSfQA==",
          "dtype": "f8"
         },
         "xaxis": "x",
         "y": {
          "bdata": "AgQCAgI=",
          "dtype": "i1"
         },
         "yaxis": "y"
        },
        {
         "customdata": [
          [
           "nft"
          ],
          [
           "nft"
          ],
          [
           "nft"
          ]
         ],
         "hovertemplate": "Industry=%{customdata[0]}<br>Year Founded=%{x}<br>Number of Companies=%{y}<extra></extra>",
         "legendgroup": "nft",
         "line": {
          "color": "#B6E880",
          "dash": "solid"
         },
         "marker": {
          "symbol": "circle"
         },
         "mode": "lines",
         "name": "nft",
         "showlegend": true,
         "type": "scattergl",
         "x": {
          "bdata": "AAAAAACEn0AAAAAAAJSfQAAAAAAAmJ9A",
          "dtype": "f8"
         },
         "xaxis": "x",
         "y": {
          "bdata": "AQYC",
          "dtype": "i1"
         },
         "yaxis": "y"
        },
        {
         "customdata": [
          [
           "no-code"
          ],
          [
           "no-code"
          ],
          [
           "no-code"
          ],
          [
           "no-code"
          ],
          [
           "no-code"
          ],
          [
           "no-code"
          ],
          [
           "no-code"
          ]
         ],
         "hovertemplate": "Industry=%{customdata[0]}<br>Year Founded=%{x}<br>Number of Companies=%{y}<extra></extra>",
         "legendgroup": "no-code",
         "line": {
          "color": "#FF97FF",
          "dash": "solid"
         },
         "marker": {
          "symbol": "circle"
         },
         "mode": "lines",
         "name": "no-code",
         "showlegend": true,
         "type": "scattergl",
         "x": {
          "bdata": "AAAAAACEn0AAAAAAAIyfQAAAAAAAkJ9AAAAAAACUn0AAAAAAAJifQAAAAAAAnJ9AAAAAAACgn0A=",
          "dtype": "f8"
         },
         "xaxis": "x",
         "y": {
          "bdata": "AgcGEAYGBQ==",
          "dtype": "i1"
         },
         "yaxis": "y"
        },
        {
         "customdata": [
          [
           "operations"
          ],
          [
           "operations"
          ],
          [
           "operations"
          ],
          [
           "operations"
          ],
          [
           "operations"
          ]
         ],
         "hovertemplate": "Industry=%{customdata[0]}<br>Year Founded=%{x}<br>Number of Companies=%{y}<extra></extra>",
         "legendgroup": "operations",
         "line": {
          "color": "#FECB52",
          "dash": "solid"
         },
         "marker": {
          "symbol": "circle"
         },
         "mode": "lines",
         "name": "operations",
         "showlegend": true,
         "type": "scattergl",
         "x": {
          "bdata": "AAAAAACEn0AAAAAAAJCfQAAAAAAAlJ9AAAAAAACcn0AAAAAAAKCfQA==",
          "dtype": "f8"
         },
         "xaxis": "x",
         "y": {
          "bdata": "AQUEDRU=",
          "dtype": "i1"
         },
         "yaxis": "y"
        },
        {
         "customdata": [
          [
           "pediatrics"
          ],
          [
           "pediatrics"
          ],
          [
           "pediatrics"
          ]
         ],
         "hovertemplate": "Industry=%{customdata[0]}<br>Year Founded=%{x}<br>Number of Companies=%{y}<extra></extra>",
         "legendgroup": "pediatrics",
         "line": {
          "color": "#636efa",
          "dash": "solid"
         },
         "marker": {
          "symbol": "circle"
         },
         "mode": "lines",
         "name": "pediatrics",
         "showlegend": true,
         "type": "scattergl",
         "x": {
          "bdata": "AAAAAACEn0AAAAAAAIyfQAAAAAAAkJ9A",
          "dtype": "f8"
         },
         "xaxis": "x",
         "y": {
          "bdata": "AQEC",
          "dtype": "i1"
         },
         "yaxis": "y"
        },
        {
         "customdata": [
          [
           "radar"
          ]
         ],
         "hovertemplate": "Industry=%{customdata[0]}<br>Year Founded=%{x}<br>Number of Companies=%{y}<extra></extra>",
         "legendgroup": "radar",
         "line": {
          "color": "#EF553B",
          "dash": "solid"
         },
         "marker": {
          "symbol": "circle"
         },
         "mode": "lines",
         "name": "radar",
         "showlegend": true,
         "type": "scattergl",
         "x": {
          "bdata": "AAAAAACEn0A=",
          "dtype": "f8"
         },
         "xaxis": "x",
         "y": {
          "bdata": "Ag==",
          "dtype": "i1"
         },
         "yaxis": "y"
        },
        {
         "customdata": [
          [
           "satellites"
          ],
          [
           "satellites"
          ],
          [
           "satellites"
          ],
          [
           "satellites"
          ],
          [
           "satellites"
          ],
          [
           "satellites"
          ],
          [
           "satellites"
          ],
          [
           "satellites"
          ]
         ],
         "hovertemplate": "Industry=%{customdata[0]}<br>Year Founded=%{x}<br>Number of Companies=%{y}<extra></extra>",
         "legendgroup": "satellites",
         "line": {
          "color": "#00cc96",
          "dash": "solid"
         },
         "marker": {
          "symbol": "circle"
         },
         "mode": "lines",
         "name": "satellites",
         "showlegend": true,
         "type": "scattergl",
         "x": {
          "bdata": "AAAAAACEn0AAAAAAAIifQAAAAAAAjJ9AAAAAAACQn0AAAAAAAJSfQAAAAAAAmJ9AAAAAAACcn0AAAAAAAKCfQA==",
          "dtype": "f8"
         },
         "xaxis": "x",
         "y": {
          "bdata": "AQIFBAYCAgY=",
          "dtype": "i1"
         },
         "yaxis": "y"
        },
        {
         "customdata": [
          [
           "sleep-tech"
          ],
          [
           "sleep-tech"
          ],
          [
           "sleep-tech"
          ],
          [
           "sleep-tech"
          ],
          [
           "sleep-tech"
          ]
         ],
         "hovertemplate": "Industry=%{customdata[0]}<br>Year Founded=%{x}<br>Number of Companies=%{y}<extra></extra>",
         "legendgroup": "sleep-tech",
         "line": {
          "color": "#ab63fa",
          "dash": "solid"
         },
         "marker": {
          "symbol": "circle"
         },
         "mode": "lines",
         "name": "sleep-tech",
         "showlegend": true,
         "type": "scattergl",
         "x": {
          "bdata": "AAAAAACEn0AAAAAAAIifQAAAAAAAjJ9AAAAAAACUn0AAAAAAAJyfQA==",
          "dtype": "f8"
         },
         "xaxis": "x",
         "y": {
          "bdata": "AQEEAgE=",
          "dtype": "i1"
         },
         "yaxis": "y"
        },
        {
         "customdata": [
          [
           "smart-clothing"
          ],
          [
           "smart-clothing"
          ],
          [
           "smart-clothing"
          ]
         ],
         "hovertemplate": "Industry=%{customdata[0]}<br>Year Founded=%{x}<br>Number of Companies=%{y}<extra></extra>",
         "legendgroup": "smart-clothing",
         "line": {
          "color": "#FFA15A",
          "dash": "solid"
         },
         "marker": {
          "symbol": "circle"
         },
         "mode": "lines",
         "name": "smart-clothing",
         "showlegend": true,
         "type": "scattergl",
         "x": {
          "bdata": "AAAAAACEn0AAAAAAAIifQAAAAAAAjJ9A",
          "dtype": "f8"
         },
         "xaxis": "x",
         "y": {
          "bdata": "AgEB",
          "dtype": "i1"
         },
         "yaxis": "y"
        },
        {
         "customdata": [
          [
           "women's-health"
          ],
          [
           "women's-health"
          ],
          [
           "women's-health"
          ],
          [
           "women's-health"
          ],
          [
           "women's-health"
          ]
         ],
         "hovertemplate": "Industry=%{customdata[0]}<br>Year Founded=%{x}<br>Number of Companies=%{y}<extra></extra>",
         "legendgroup": "women's-health",
         "line": {
          "color": "#19d3f3",
          "dash": "solid"
         },
         "marker": {
          "symbol": "circle"
         },
         "mode": "lines",
         "name": "women's-health",
         "showlegend": true,
         "type": "scattergl",
         "x": {
          "bdata": "AAAAAACEn0AAAAAAAIifQAAAAAAAkJ9AAAAAAACYn0AAAAAAAJyfQA==",
          "dtype": "f8"
         },
         "xaxis": "x",
         "y": {
          "bdata": "AwMEAgI=",
          "dtype": "i1"
         },
         "yaxis": "y"
        },
        {
         "customdata": [
          [
           "workflow-automation"
          ],
          [
           "workflow-automation"
          ],
          [
           "workflow-automation"
          ],
          [
           "workflow-automation"
          ],
          [
           "workflow-automation"
          ],
          [
           "workflow-automation"
          ],
          [
           "workflow-automation"
          ],
          [
           "workflow-automation"
          ],
          [
           "workflow-automation"
          ]
         ],
         "hovertemplate": "Industry=%{customdata[0]}<br>Year Founded=%{x}<br>Number of Companies=%{y}<extra></extra>",
         "legendgroup": "workflow-automation",
         "line": {
          "color": "#FF6692",
          "dash": "solid"
         },
         "marker": {
          "symbol": "circle"
         },
         "mode": "lines",
         "name": "workflow-automation",
         "showlegend": true,
         "type": "scattergl",
         "x": {
          "bdata": "AAAAAACEn0AAAAAAAIifQAAAAAAAjJ9AAAAAAACQn0AAAAAAAJSfQAAAAAAAmJ9AAAAAAACcn0AAAAAAAKCfQAAAAAAApJ9A",
          "dtype": "f8"
         },
         "xaxis": "x",
         "y": {
          "bdata": "AQEGBAkSFR8C",
          "dtype": "i1"
         },
         "yaxis": "y"
        },
        {
         "customdata": [
          [
           "apis"
          ],
          [
           "apis"
          ],
          [
           "apis"
          ]
         ],
         "hovertemplate": "Industry=%{customdata[0]}<br>Year Founded=%{x}<br>Number of Companies=%{y}<extra></extra>",
         "legendgroup": "apis",
         "line": {
          "color": "#B6E880",
          "dash": "solid"
         },
         "marker": {
          "symbol": "circle"
         },
         "mode": "lines",
         "name": "apis",
         "showlegend": true,
         "type": "scattergl",
         "x": {
          "bdata": "AAAAAACIn0AAAAAAAJSfQAAAAAAAnJ9A",
          "dtype": "f8"
         },
         "xaxis": "x",
         "y": {
          "bdata": "AgIC",
          "dtype": "i1"
         },
         "yaxis": "y"
        },
        {
         "customdata": [
          [
           "auto-commerce"
          ],
          [
           "auto-commerce"
          ],
          [
           "auto-commerce"
          ]
         ],
         "hovertemplate": "Industry=%{customdata[0]}<br>Year Founded=%{x}<br>Number of Companies=%{y}<extra></extra>",
         "legendgroup": "auto-commerce",
         "line": {
          "color": "#FF97FF",
          "dash": "solid"
         },
         "marker": {
          "symbol": "circle"
         },
         "mode": "lines",
         "name": "auto-commerce",
         "showlegend": true,
         "type": "scattergl",
         "x": {
          "bdata": "AAAAAACIn0AAAAAAAJSfQAAAAAAAnJ9A",
          "dtype": "f8"
         },
         "xaxis": "x",
         "y": {
          "bdata": "AQQC",
          "dtype": "i1"
         },
         "yaxis": "y"
        },
        {
         "customdata": [
          [
           "batteryless-iot-sensors"
          ]
         ],
         "hovertemplate": "Industry=%{customdata[0]}<br>Year Founded=%{x}<br>Number of Companies=%{y}<extra></extra>",
         "legendgroup": "batteryless-iot-sensors",
         "line": {
          "color": "#FECB52",
          "dash": "solid"
         },
         "marker": {
          "symbol": "circle"
         },
         "mode": "lines",
         "name": "batteryless-iot-sensors",
         "showlegend": true,
         "type": "scattergl",
         "x": {
          "bdata": "AAAAAACIn0A=",
          "dtype": "f8"
         },
         "xaxis": "x",
         "y": {
          "bdata": "AQ==",
          "dtype": "i1"
         },
         "yaxis": "y"
        },
        {
         "customdata": [
          [
           "chatbot"
          ],
          [
           "chatbot"
          ],
          [
           "chatbot"
          ],
          [
           "chatbot"
          ]
         ],
         "hovertemplate": "Industry=%{customdata[0]}<br>Year Founded=%{x}<br>Number of Companies=%{y}<extra></extra>",
         "legendgroup": "chatbot",
         "line": {
          "color": "#636efa",
          "dash": "solid"
         },
         "marker": {
          "symbol": "circle"
         },
         "mode": "lines",
         "name": "chatbot",
         "showlegend": true,
         "type": "scattergl",
         "x": {
          "bdata": "AAAAAACIn0AAAAAAAIyfQAAAAAAAkJ9AAAAAAACYn0A=",
          "dtype": "f8"
         },
         "xaxis": "x",
         "y": {
          "bdata": "AQEEBA==",
          "dtype": "i1"
         },
         "yaxis": "y"
        },
        {
         "customdata": [
          [
           "computational-storage"
          ]
         ],
         "hovertemplate": "Industry=%{customdata[0]}<br>Year Founded=%{x}<br>Number of Companies=%{y}<extra></extra>",
         "legendgroup": "computational-storage",
         "line": {
          "color": "#EF553B",
          "dash": "solid"
         },
         "marker": {
          "symbol": "circle"
         },
         "mode": "lines",
         "name": "computational-storage",
         "showlegend": true,
         "type": "scattergl",
         "x": {
          "bdata": "AAAAAACIn0A=",
          "dtype": "f8"
         },
         "xaxis": "x",
         "y": {
          "bdata": "AQ==",
          "dtype": "i1"
         },
         "yaxis": "y"
        },
        {
         "customdata": [
          [
           "consumer-finance"
          ],
          [
           "consumer-finance"
          ],
          [
           "consumer-finance"
          ],
          [
           "consumer-finance"
          ],
          [
           "consumer-finance"
          ],
          [
           "consumer-finance"
          ],
          [
           "consumer-finance"
          ]
         ],
         "hovertemplate": "Industry=%{customdata[0]}<br>Year Founded=%{x}<br>Number of Companies=%{y}<extra></extra>",
         "legendgroup": "consumer-finance",
         "line": {
          "color": "#00cc96",
          "dash": "solid"
         },
         "marker": {
          "symbol": "circle"
         },
         "mode": "lines",
         "name": "consumer-finance",
         "showlegend": true,
         "type": "scattergl",
         "x": {
          "bdata": "AAAAAACIn0AAAAAAAIyfQAAAAAAAkJ9AAAAAAACUn0AAAAAAAJifQAAAAAAAnJ9AAAAAAACgn0A=",
          "dtype": "f8"
         },
         "xaxis": "x",
         "y": {
          "bdata": "AwQDDAIEBg==",
          "dtype": "i1"
         },
         "yaxis": "y"
        },
        {
         "customdata": [
          [
           "conversational-ai"
          ],
          [
           "conversational-ai"
          ],
          [
           "conversational-ai"
          ],
          [
           "conversational-ai"
          ],
          [
           "conversational-ai"
          ],
          [
           "conversational-ai"
          ],
          [
           "conversational-ai"
          ]
         ],
         "hovertemplate": "Industry=%{customdata[0]}<br>Year Founded=%{x}<br>Number of Companies=%{y}<extra></extra>",
         "legendgroup": "conversational-ai",
         "line": {
          "color": "#ab63fa",
          "dash": "solid"
         },
         "marker": {
          "symbol": "circle"
         },
         "mode": "lines",
         "name": "conversational-ai",
         "showlegend": true,
         "type": "scattergl",
         "x": {
          "bdata": "AAAAAACIn0AAAAAAAIyfQAAAAAAAlJ9AAAAAAACYn0AAAAAAAJyfQAAAAAAAoJ9AAAAAAACkn0A=",
          "dtype": "f8"
         },
         "xaxis": "x",
         "y": {
          "bdata": "AQEDBBAUCA==",
          "dtype": "i1"
         },
         "yaxis": "y"
        },
        {
         "customdata": [
          [
           "crispr"
          ],
          [
           "crispr"
          ]
         ],
         "hovertemplate": "Industry=%{customdata[0]}<br>Year Founded=%{x}<br>Number of Companies=%{y}<extra></extra>",
         "legendgroup": "crispr",
         "line": {
          "color": "#FFA15A",
          "dash": "solid"
         },
         "marker": {
          "symbol": "circle"
         },
         "mode": "lines",
         "name": "crispr",
         "showlegend": true,
         "type": "scattergl",
         "x": {
          "bdata": "AAAAAACIn0AAAAAAAJCfQA==",
          "dtype": "f8"
         },
         "xaxis": "x",
         "y": {
          "bdata": "AQI=",
          "dtype": "i1"
         },
         "yaxis": "y"
        },
        {
         "customdata": [
          [
           "dao"
          ],
          [
           "dao"
          ],
          [
           "dao"
          ]
         ],
         "hovertemplate": "Industry=%{customdata[0]}<br>Year Founded=%{x}<br>Number of Companies=%{y}<extra></extra>",
         "legendgroup": "dao",
         "line": {
          "color": "#19d3f3",
          "dash": "solid"
         },
         "marker": {
          "symbol": "circle"
         },
         "mode": "lines",
         "name": "dao",
         "showlegend": true,
         "type": "scattergl",
         "x": {
          "bdata": "AAAAAACIn0AAAAAAAJSfQAAAAAAAmJ9A",
          "dtype": "f8"
         },
         "xaxis": "x",
         "y": {
          "bdata": "AQIE",
          "dtype": "i1"
         },
         "yaxis": "y"
        },
        {
         "customdata": [
          [
           "food"
          ],
          [
           "food"
          ],
          [
           "food"
          ],
          [
           "food"
          ]
         ],
         "hovertemplate": "Industry=%{customdata[0]}<br>Year Founded=%{x}<br>Number of Companies=%{y}<extra></extra>",
         "legendgroup": "food",
         "line": {
          "color": "#FF6692",
          "dash": "solid"
         },
         "marker": {
          "symbol": "circle"
         },
         "mode": "lines",
         "name": "food",
         "showlegend": true,
         "type": "scattergl",
         "x": {
          "bdata": "AAAAAACIn0AAAAAAAIyfQAAAAAAAkJ9AAAAAAACYn0A=",
          "dtype": "f8"
         },
         "xaxis": "x",
         "y": {
          "bdata": "AQMEAg==",
          "dtype": "i1"
         },
         "yaxis": "y"
        },
        {
         "customdata": [
          [
           "fraud-prevention"
          ],
          [
           "fraud-prevention"
          ],
          [
           "fraud-prevention"
          ]
         ],
         "hovertemplate": "Industry=%{customdata[0]}<br>Year Founded=%{x}<br>Number of Companies=%{y}<extra></extra>",
         "legendgroup": "fraud-prevention",
         "line": {
          "color": "#B6E880",
          "dash": "solid"
         },
         "marker": {
          "symbol": "circle"
         },
         "mode": "lines",
         "name": "fraud-prevention",
         "showlegend": true,
         "type": "scattergl",
         "x": {
          "bdata": "AAAAAACIn0AAAAAAAJyfQAAAAAAAoJ9A",
          "dtype": "f8"
         },
         "xaxis": "x",
         "y": {
          "bdata": "AQIC",
          "dtype": "i1"
         },
         "yaxis": "y"
        },
        {
         "customdata": [
          [
           "ghost-kitchens"
          ],
          [
           "ghost-kitchens"
          ],
          [
           "ghost-kitchens"
          ],
          [
           "ghost-kitchens"
          ]
         ],
         "hovertemplate": "Industry=%{customdata[0]}<br>Year Founded=%{x}<br>Number of Companies=%{y}<extra></extra>",
         "legendgroup": "ghost-kitchens",
         "line": {
          "color": "#FF97FF",
          "dash": "solid"
         },
         "marker": {
          "symbol": "circle"
         },
         "mode": "lines",
         "name": "ghost-kitchens",
         "showlegend": true,
         "type": "scattergl",
         "x": {
          "bdata": "AAAAAACIn0AAAAAAAIyfQAAAAAAAkJ9AAAAAAACUn0A=",
          "dtype": "f8"
         },
         "xaxis": "x",
         "y": {
          "bdata": "AQEICA==",
          "dtype": "i1"
         },
         "yaxis": "y"
        },
        {
         "customdata": [
          [
           "immigration"
          ],
          [
           "immigration"
          ],
          [
           "immigration"
          ]
         ],
         "hovertemplate": "Industry=%{customdata[0]}<br>Year Founded=%{x}<br>Number of Companies=%{y}<extra></extra>",
         "legendgroup": "immigration",
         "line": {
          "color": "#FECB52",
          "dash": "solid"
         },
         "marker": {
          "symbol": "circle"
         },
         "mode": "lines",
         "name": "immigration",
         "showlegend": true,
         "type": "scattergl",
         "x": {
          "bdata": "AAAAAACIn0AAAAAAAIyfQAAAAAAAoJ9A",
          "dtype": "f8"
         },
         "xaxis": "x",
         "y": {
          "bdata": "AQED",
          "dtype": "i1"
         },
         "yaxis": "y"
        },
        {
         "customdata": [
          [
           "income-share-agreements"
          ],
          [
           "income-share-agreements"
          ]
         ],
         "hovertemplate": "Industry=%{customdata[0]}<br>Year Founded=%{x}<br>Number of Companies=%{y}<extra></extra>",
         "legendgroup": "income-share-agreements",
         "line": {
          "color": "#636efa",
          "dash": "solid"
         },
         "marker": {
          "symbol": "circle"
         },
         "mode": "lines",
         "name": "income-share-agreements",
         "showlegend": true,
         "type": "scattergl",
         "x": {
          "bdata": "AAAAAACIn0AAAAAAAJCfQA==",
          "dtype": "f8"
         },
         "xaxis": "x",
         "y": {
          "bdata": "AgQ=",
          "dtype": "i1"
         },
         "yaxis": "y"
        },
        {
         "customdata": [
          [
           "investments"
          ],
          [
           "investments"
          ],
          [
           "investments"
          ],
          [
           "investments"
          ],
          [
           "investments"
          ]
         ],
         "hovertemplate": "Industry=%{customdata[0]}<br>Year Founded=%{x}<br>Number of Companies=%{y}<extra></extra>",
         "legendgroup": "investments",
         "line": {
          "color": "#EF553B",
          "dash": "solid"
         },
         "marker": {
          "symbol": "circle"
         },
         "mode": "lines",
         "name": "investments",
         "showlegend": true,
         "type": "scattergl",
         "x": {
          "bdata": "AAAAAACIn0AAAAAAAJCfQAAAAAAAlJ9AAAAAAACcn0AAAAAAAKCfQA==",
          "dtype": "f8"
         },
         "xaxis": "x",
         "y": {
          "bdata": "AQICBAM=",
          "dtype": "i1"
         },
         "yaxis": "y"
        },
        {
         "customdata": [
          [
           "iot-security"
          ]
         ],
         "hovertemplate": "Industry=%{customdata[0]}<br>Year Founded=%{x}<br>Number of Companies=%{y}<extra></extra>",
         "legendgroup": "iot-security",
         "line": {
          "color": "#00cc96",
          "dash": "solid"
         },
         "marker": {
          "symbol": "circle"
         },
         "mode": "lines",
         "name": "iot-security",
         "showlegend": true,
         "type": "scattergl",
         "x": {
          "bdata": "AAAAAACIn0A=",
          "dtype": "f8"
         },
         "xaxis": "x",
         "y": {
          "bdata": "AQ==",
          "dtype": "i1"
         },
         "yaxis": "y"
        },
        {
         "customdata": [
          [
           "mental-health"
          ],
          [
           "mental-health"
          ],
          [
           "mental-health"
          ],
          [
           "mental-health"
          ],
          [
           "mental-health"
          ],
          [
           "mental-health"
          ]
         ],
         "hovertemplate": "Industry=%{customdata[0]}<br>Year Founded=%{x}<br>Number of Companies=%{y}<extra></extra>",
         "legendgroup": "mental-health",
         "line": {
          "color": "#ab63fa",
          "dash": "solid"
         },
         "marker": {
          "symbol": "circle"
         },
         "mode": "lines",
         "name": "mental-health",
         "showlegend": true,
         "type": "scattergl",
         "x": {
          "bdata": "AAAAAACIn0AAAAAAAIyfQAAAAAAAkJ9AAAAAAACUn0AAAAAAAJyfQAAAAAAAoJ9A",
          "dtype": "f8"
         },
         "xaxis": "x",
         "y": {
          "bdata": "AQUCBAQD",
          "dtype": "i1"
         },
         "yaxis": "y"
        },
        {
         "customdata": [
          [
           "navigation"
          ],
          [
           "navigation"
          ],
          [
           "navigation"
          ]
         ],
         "hovertemplate": "Industry=%{customdata[0]}<br>Year Founded=%{x}<br>Number of Companies=%{y}<extra></extra>",
         "legendgroup": "navigation",
         "line": {
          "color": "#FFA15A",
          "dash": "solid"
         },
         "marker": {
          "symbol": "circle"
         },
         "mode": "lines",
         "name": "navigation",
         "showlegend": true,
         "type": "scattergl",
         "x": {
          "bdata": "AAAAAACIn0AAAAAAAJSfQAAAAAAAoJ9A",
          "dtype": "f8"
         },
         "xaxis": "x",
         "y": {
          "bdata": "AQID",
          "dtype": "i1"
         },
         "yaxis": "y"
        },
        {
         "customdata": [
          [
           "regtech"
          ],
          [
           "regtech"
          ],
          [
           "regtech"
          ],
          [
           "regtech"
          ],
          [
           "regtech"
          ],
          [
           "regtech"
          ]
         ],
         "hovertemplate": "Industry=%{customdata[0]}<br>Year Founded=%{x}<br>Number of Companies=%{y}<extra></extra>",
         "legendgroup": "regtech",
         "line": {
          "color": "#19d3f3",
          "dash": "solid"
         },
         "marker": {
          "symbol": "circle"
         },
         "mode": "lines",
         "name": "regtech",
         "showlegend": true,
         "type": "scattergl",
         "x": {
          "bdata": "AAAAAACIn0AAAAAAAJCfQAAAAAAAlJ9AAAAAAACYn0AAAAAAAJyfQAAAAAAAoJ9A",
          "dtype": "f8"
         },
         "xaxis": "x",
         "y": {
          "bdata": "AgQGBgQD",
          "dtype": "i1"
         },
         "yaxis": "y"
        },
        {
         "customdata": [
          [
           "cultured-meat"
          ],
          [
           "cultured-meat"
          ],
          [
           "cultured-meat"
          ]
         ],
         "hovertemplate": "Industry=%{customdata[0]}<br>Year Founded=%{x}<br>Number of Companies=%{y}<extra></extra>",
         "legendgroup": "cultured-meat",
         "line": {
          "color": "#FF6692",
          "dash": "solid"
         },
         "marker": {
          "symbol": "circle"
         },
         "mode": "lines",
         "name": "cultured-meat",
         "showlegend": true,
         "type": "scattergl",
         "x": {
          "bdata": "AAAAAACMn0AAAAAAAJSfQAAAAAAAmJ9A",
          "dtype": "f8"
         },
         "xaxis": "x",
         "y": {
          "bdata": "AgIC",
          "dtype": "i1"
         },
         "yaxis": "y"
        },
        {
         "customdata": [
          [
           "customer-support"
          ],
          [
           "customer-support"
          ],
          [
           "customer-support"
          ],
          [
           "customer-support"
          ],
          [
           "customer-support"
          ],
          [
           "customer-support"
          ]
         ],
         "hovertemplate": "Industry=%{customdata[0]}<br>Year Founded=%{x}<br>Number of Companies=%{y}<extra></extra>",
         "legendgroup": "customer-support",
         "line": {
          "color": "#B6E880",
          "dash": "solid"
         },
         "marker": {
          "symbol": "circle"
         },
         "mode": "lines",
         "name": "customer-support",
         "showlegend": true,
         "type": "scattergl",
         "x": {
          "bdata": "AAAAAACMn0AAAAAAAJCfQAAAAAAAlJ9AAAAAAACYn0AAAAAAAJyfQAAAAAAAoJ9A",
          "dtype": "f8"
         },
         "xaxis": "x",
         "y": {
          "bdata": "AwQKDhEF",
          "dtype": "i1"
         },
         "yaxis": "y"
        },
        {
         "customdata": [
          [
           "digital-freight-brokerage"
          ]
         ],
         "hovertemplate": "Industry=%{customdata[0]}<br>Year Founded=%{x}<br>Number of Companies=%{y}<extra></extra>",
         "legendgroup": "digital-freight-brokerage",
         "line": {
          "color": "#FF97FF",
          "dash": "solid"
         },
         "marker": {
          "symbol": "circle"
         },
         "mode": "lines",
         "name": "digital-freight-brokerage",
         "showlegend": true,
         "type": "scattergl",
         "x": {
          "bdata": "AAAAAACMn0A=",
          "dtype": "f8"
         },
         "xaxis": "x",
         "y": {
          "bdata": "Ag==",
          "dtype": "i1"
         },
         "yaxis": "y"
        },
        {
         "customdata": [
          [
           "edge-computing-semiconductors"
          ],
          [
           "edge-computing-semiconductors"
          ]
         ],
         "hovertemplate": "Industry=%{customdata[0]}<br>Year Founded=%{x}<br>Number of Companies=%{y}<extra></extra>",
         "legendgroup": "edge-computing-semiconductors",
         "line": {
          "color": "#FECB52",
          "dash": "solid"
         },
         "marker": {
          "symbol": "circle"
         },
         "mode": "lines",
         "name": "edge-computing-semiconductors",
         "showlegend": true,
         "type": "scattergl",
         "x": {
          "bdata": "AAAAAACMn0AAAAAAAKCfQA==",
          "dtype": "f8"
         },
         "xaxis": "x",
         "y": {
          "bdata": "AQM=",
          "dtype": "i1"
         },
         "yaxis": "y"
        },
        {
         "customdata": [
          [
           "emerging-markets"
          ],
          [
           "emerging-markets"
          ],
          [
           "emerging-markets"
          ],
          [
           "emerging-markets"
          ]
         ],
         "hovertemplate": "Industry=%{customdata[0]}<br>Year Founded=%{x}<br>Number of Companies=%{y}<extra></extra>",
         "legendgroup": "emerging-markets",
         "line": {
          "color": "#636efa",
          "dash": "solid"
         },
         "marker": {
          "symbol": "circle"
         },
         "mode": "lines",
         "name": "emerging-markets",
         "showlegend": true,
         "type": "scattergl",
         "x": {
          "bdata": "AAAAAACMn0AAAAAAAJifQAAAAAAAnJ9AAAAAAACgn0A=",
          "dtype": "f8"
         },
         "xaxis": "x",
         "y": {
          "bdata": "AQIEAw==",
          "dtype": "i1"
         },
         "yaxis": "y"
        },
        {
         "customdata": [
          [
           "geographic-information-system"
          ],
          [
           "geographic-information-system"
          ]
         ],
         "hovertemplate": "Industry=%{customdata[0]}<br>Year Founded=%{x}<br>Number of Companies=%{y}<extra></extra>",
         "legendgroup": "geographic-information-system",
         "line": {
          "color": "#EF553B",
          "dash": "solid"
         },
         "marker": {
          "symbol": "circle"
         },
         "mode": "lines",
         "name": "geographic-information-system",
         "showlegend": true,
         "type": "scattergl",
         "x": {
          "bdata": "AAAAAACMn0AAAAAAAJifQA==",
          "dtype": "f8"
         },
         "xaxis": "x",
         "y": {
          "bdata": "BQI=",
          "dtype": "i1"
         },
         "yaxis": "y"
        },
        {
         "customdata": [
          [
           "healthcare-it"
          ],
          [
           "healthcare-it"
          ],
          [
           "healthcare-it"
          ],
          [
           "healthcare-it"
          ],
          [
           "healthcare-it"
          ],
          [
           "healthcare-it"
          ]
         ],
         "hovertemplate": "Industry=%{customdata[0]}<br>Year Founded=%{x}<br>Number of Companies=%{y}<extra></extra>",
         "legendgroup": "healthcare-it",
         "line": {
          "color": "#00cc96",
          "dash": "solid"
         },
         "marker": {
          "symbol": "circle"
         },
         "mode": "lines",
         "name": "healthcare-it",
         "showlegend": true,
         "type": "scattergl",
         "x": {
          "bdata": "AAAAAACMn0AAAAAAAJCfQAAAAAAAlJ9AAAAAAACYn0AAAAAAAJyfQAAAAAAAoJ9A",
          "dtype": "f8"
         },
         "xaxis": "x",
         "y": {
          "bdata": "BwQFBBAL",
          "dtype": "i1"
         },
         "yaxis": "y"
        },
        {
         "customdata": [
          [
           "maritime"
          ],
          [
           "maritime"
          ]
         ],
         "hovertemplate": "Industry=%{customdata[0]}<br>Year Founded=%{x}<br>Number of Companies=%{y}<extra></extra>",
         "legendgroup": "maritime",
         "line": {
          "color": "#ab63fa",
          "dash": "solid"
         },
         "marker": {
          "symbol": "circle"
         },
         "mode": "lines",
         "name": "maritime",
         "showlegend": true,
         "type": "scattergl",
         "x": {
          "bdata": "AAAAAACMn0AAAAAAAJCfQA==",
          "dtype": "f8"
         },
         "xaxis": "x",
         "y": {
          "bdata": "AgI=",
          "dtype": "i1"
         },
         "yaxis": "y"
        },
        {
         "customdata": [
          [
           "psychedelics"
          ]
         ],
         "hovertemplate": "Industry=%{customdata[0]}<br>Year Founded=%{x}<br>Number of Companies=%{y}<extra></extra>",
         "legendgroup": "psychedelics",
         "line": {
          "color": "#FFA15A",
          "dash": "solid"
         },
         "marker": {
          "symbol": "circle"
         },
         "mode": "lines",
         "name": "psychedelics",
         "showlegend": true,
         "type": "scattergl",
         "x": {
          "bdata": "AAAAAACMn0A=",
          "dtype": "f8"
         },
         "xaxis": "x",
         "y": {
          "bdata": "Ag==",
          "dtype": "i1"
         },
         "yaxis": "y"
        },
        {
         "customdata": [
          [
           "remittances"
          ],
          [
           "remittances"
          ]
         ],
         "hovertemplate": "Industry=%{customdata[0]}<br>Year Founded=%{x}<br>Number of Companies=%{y}<extra></extra>",
         "legendgroup": "remittances",
         "line": {
          "color": "#19d3f3",
          "dash": "solid"
         },
         "marker": {
          "symbol": "circle"
         },
         "mode": "lines",
         "name": "remittances",
         "showlegend": true,
         "type": "scattergl",
         "x": {
          "bdata": "AAAAAACMn0AAAAAAAJifQA==",
          "dtype": "f8"
         },
         "xaxis": "x",
         "y": {
          "bdata": "AwI=",
          "dtype": "i1"
         },
         "yaxis": "y"
        },
        {
         "customdata": [
          [
           "security-orchestration-automation-and-response-(soar)"
          ]
         ],
         "hovertemplate": "Industry=%{customdata[0]}<br>Year Founded=%{x}<br>Number of Companies=%{y}<extra></extra>",
         "legendgroup": "security-orchestration-automation-and-response-(soar)",
         "line": {
          "color": "#FF6692",
          "dash": "solid"
         },
         "marker": {
          "symbol": "circle"
         },
         "mode": "lines",
         "name": "security-orchestration-automation-and-response-(soar)",
         "showlegend": true,
         "type": "scattergl",
         "x": {
          "bdata": "AAAAAACMn0A=",
          "dtype": "f8"
         },
         "xaxis": "x",
         "y": {
          "bdata": "AQ==",
          "dtype": "i1"
         },
         "yaxis": "y"
        },
        {
         "customdata": [
          [
           "trading"
          ],
          [
           "trading"
          ],
          [
           "trading"
          ]
         ],
         "hovertemplate": "Industry=%{customdata[0]}<br>Year Founded=%{x}<br>Number of Companies=%{y}<extra></extra>",
         "legendgroup": "trading",
         "line": {
          "color": "#B6E880",
          "dash": "solid"
         },
         "marker": {
          "symbol": "circle"
         },
         "mode": "lines",
         "name": "trading",
         "showlegend": true,
         "type": "scattergl",
         "x": {
          "bdata": "AAAAAACMn0AAAAAAAJCfQAAAAAAAnJ9A",
          "dtype": "f8"
         },
         "xaxis": "x",
         "y": {
          "bdata": "AQQC",
          "dtype": "i1"
         },
         "yaxis": "y"
        },
        {
         "customdata": [
          [
           "weather"
          ],
          [
           "weather"
          ]
         ],
         "hovertemplate": "Industry=%{customdata[0]}<br>Year Founded=%{x}<br>Number of Companies=%{y}<extra></extra>",
         "legendgroup": "weather",
         "line": {
          "color": "#FF97FF",
          "dash": "solid"
         },
         "marker": {
          "symbol": "circle"
         },
         "mode": "lines",
         "name": "weather",
         "showlegend": true,
         "type": "scattergl",
         "x": {
          "bdata": "AAAAAACMn0AAAAAAAJCfQA==",
          "dtype": "f8"
         },
         "xaxis": "x",
         "y": {
          "bdata": "AgI=",
          "dtype": "i1"
         },
         "yaxis": "y"
        },
        {
         "customdata": [
          [
           "billing"
          ],
          [
           "billing"
          ],
          [
           "billing"
          ],
          [
           "billing"
          ]
         ],
         "hovertemplate": "Industry=%{customdata[0]}<br>Year Founded=%{x}<br>Number of Companies=%{y}<extra></extra>",
         "legendgroup": "billing",
         "line": {
          "color": "#FECB52",
          "dash": "solid"
         },
         "marker": {
          "symbol": "circle"
         },
         "mode": "lines",
         "name": "billing",
         "showlegend": true,
         "type": "scattergl",
         "x": {
          "bdata": "AAAAAACQn0AAAAAAAJSfQAAAAAAAnJ9AAAAAAACgn0A=",
          "dtype": "f8"
         },
         "xaxis": "x",
         "y": {
          "bdata": "AgQEAw==",
          "dtype": "i1"
         },
         "yaxis": "y"
        },
        {
         "customdata": [
          [
           "call-center"
          ],
          [
           "call-center"
          ],
          [
           "call-center"
          ]
         ],
         "hovertemplate": "Industry=%{customdata[0]}<br>Year Founded=%{x}<br>Number of Companies=%{y}<extra></extra>",
         "legendgroup": "call-center",
         "line": {
          "color": "#636efa",
          "dash": "solid"
         },
         "marker": {
          "symbol": "circle"
         },
         "mode": "lines",
         "name": "call-center",
         "showlegend": true,
         "type": "scattergl",
         "x": {
          "bdata": "AAAAAACQn0AAAAAAAJifQAAAAAAAoJ9A",
          "dtype": "f8"
         },
         "xaxis": "x",
         "y": {
          "bdata": "AgIK",
          "dtype": "i1"
         },
         "yaxis": "y"
        },
        {
         "customdata": [
          [
           "cryptocurrency"
          ],
          [
           "cryptocurrency"
          ],
          [
           "cryptocurrency"
          ]
         ],
         "hovertemplate": "Industry=%{customdata[0]}<br>Year Founded=%{x}<br>Number of Companies=%{y}<extra></extra>",
         "legendgroup": "cryptocurrency",
         "line": {
          "color": "#EF553B",
          "dash": "solid"
         },
         "marker": {
          "symbol": "circle"
         },
         "mode": "lines",
         "name": "cryptocurrency",
         "showlegend": true,
         "type": "scattergl",
         "x": {
          "bdata": "AAAAAACQn0AAAAAAAJSfQAAAAAAAnJ9A",
          "dtype": "f8"
         },
         "xaxis": "x",
         "y": {
          "bdata": "AgQC",
          "dtype": "i1"
         },
         "yaxis": "y"
        },
        {
         "customdata": [
          [
           "gardening"
          ]
         ],
         "hovertemplate": "Industry=%{customdata[0]}<br>Year Founded=%{x}<br>Number of Companies=%{y}<extra></extra>",
         "legendgroup": "gardening",
         "line": {
          "color": "#00cc96",
          "dash": "solid"
         },
         "marker": {
          "symbol": "circle"
         },
         "mode": "lines",
         "name": "gardening",
         "showlegend": true,
         "type": "scattergl",
         "x": {
          "bdata": "AAAAAACQn0A=",
          "dtype": "f8"
         },
         "xaxis": "x",
         "y": {
          "bdata": "Ag==",
          "dtype": "i1"
         },
         "yaxis": "y"
        },
        {
         "customdata": [
          [
           "live"
          ]
         ],
         "hovertemplate": "Industry=%{customdata[0]}<br>Year Founded=%{x}<br>Number of Companies=%{y}<extra></extra>",
         "legendgroup": "live",
         "line": {
          "color": "#ab63fa",
          "dash": "solid"
         },
         "marker": {
          "symbol": "circle"
         },
         "mode": "lines",
         "name": "live",
         "showlegend": true,
         "type": "scattergl",
         "x": {
          "bdata": "AAAAAACQn0A=",
          "dtype": "f8"
         },
         "xaxis": "x",
         "y": {
          "bdata": "Ag==",
          "dtype": "i1"
         },
         "yaxis": "y"
        },
        {
         "customdata": [
          [
           "note-taking"
          ],
          [
           "note-taking"
          ],
          [
           "note-taking"
          ]
         ],
         "hovertemplate": "Industry=%{customdata[0]}<br>Year Founded=%{x}<br>Number of Companies=%{y}<extra></extra>",
         "legendgroup": "note-taking",
         "line": {
          "color": "#FFA15A",
          "dash": "solid"
         },
         "marker": {
          "symbol": "circle"
         },
         "mode": "lines",
         "name": "note-taking",
         "showlegend": true,
         "type": "scattergl",
         "x": {
          "bdata": "AAAAAACQn0AAAAAAAJSfQAAAAAAAoJ9A",
          "dtype": "f8"
         },
         "xaxis": "x",
         "y": {
          "bdata": "BAID",
          "dtype": "i1"
         },
         "yaxis": "y"
        },
        {
         "customdata": [
          [
           "ridesharing"
          ],
          [
           "ridesharing"
          ]
         ],
         "hovertemplate": "Industry=%{customdata[0]}<br>Year Founded=%{x}<br>Number of Companies=%{y}<extra></extra>",
         "legendgroup": "ridesharing",
         "line": {
          "color": "#19d3f3",
          "dash": "solid"
         },
         "marker": {
          "symbol": "circle"
         },
         "mode": "lines",
         "name": "ridesharing",
         "showlegend": true,
         "type": "scattergl",
         "x": {
          "bdata": "AAAAAACQn0AAAAAAAJyfQA==",
          "dtype": "f8"
         },
         "xaxis": "x",
         "y": {
          "bdata": "AgM=",
          "dtype": "i1"
         },
         "yaxis": "y"
        },
        {
         "customdata": [
          [
           "semiconductors"
          ],
          [
           "semiconductors"
          ],
          [
           "semiconductors"
          ]
         ],
         "hovertemplate": "Industry=%{customdata[0]}<br>Year Founded=%{x}<br>Number of Companies=%{y}<extra></extra>",
         "legendgroup": "semiconductors",
         "line": {
          "color": "#FF6692",
          "dash": "solid"
         },
         "marker": {
          "symbol": "circle"
         },
         "mode": "lines",
         "name": "semiconductors",
         "showlegend": true,
         "type": "scattergl",
         "x": {
          "bdata": "AAAAAACQn0AAAAAAAJyfQAAAAAAAoJ9A",
          "dtype": "f8"
         },
         "xaxis": "x",
         "y": {
          "bdata": "BQYG",
          "dtype": "i1"
         },
         "yaxis": "y"
        },
        {
         "customdata": [
          [
           "stocks"
          ],
          [
           "stocks"
          ]
         ],
         "hovertemplate": "Industry=%{customdata[0]}<br>Year Founded=%{x}<br>Number of Companies=%{y}<extra></extra>",
         "legendgroup": "stocks",
         "line": {
          "color": "#B6E880",
          "dash": "solid"
         },
         "marker": {
          "symbol": "circle"
         },
         "mode": "lines",
         "name": "stocks",
         "showlegend": true,
         "type": "scattergl",
         "x": {
          "bdata": "AAAAAACQn0AAAAAAAJyfQA==",
          "dtype": "f8"
         },
         "xaxis": "x",
         "y": {
          "bdata": "AgI=",
          "dtype": "i1"
         },
         "yaxis": "y"
        },
        {
         "customdata": [
          [
           "architecture"
          ],
          [
           "architecture"
          ]
         ],
         "hovertemplate": "Industry=%{customdata[0]}<br>Year Founded=%{x}<br>Number of Companies=%{y}<extra></extra>",
         "legendgroup": "architecture",
         "line": {
          "color": "#FF97FF",
          "dash": "solid"
         },
         "marker": {
          "symbol": "circle"
         },
         "mode": "lines",
         "name": "architecture",
         "showlegend": true,
         "type": "scattergl",
         "x": {
          "bdata": "AAAAAACUn0AAAAAAAJyfQA==",
          "dtype": "f8"
         },
         "xaxis": "x",
         "y": {
          "bdata": "AgI=",
          "dtype": "i1"
         },
         "yaxis": "y"
        },
        {
         "customdata": [
          [
           "art-trading-platforms"
          ]
         ],
         "hovertemplate": "Industry=%{customdata[0]}<br>Year Founded=%{x}<br>Number of Companies=%{y}<extra></extra>",
         "legendgroup": "art-trading-platforms",
         "line": {
          "color": "#FECB52",
          "dash": "solid"
         },
         "marker": {
          "symbol": "circle"
         },
         "mode": "lines",
         "name": "art-trading-platforms",
         "showlegend": true,
         "type": "scattergl",
         "x": {
          "bdata": "AAAAAACUn0A=",
          "dtype": "f8"
         },
         "xaxis": "x",
         "y": {
          "bdata": "BA==",
          "dtype": "i1"
         },
         "yaxis": "y"
        },
        {
         "customdata": [
          [
           "deepfake-detection"
          ]
         ],
         "hovertemplate": "Industry=%{customdata[0]}<br>Year Founded=%{x}<br>Number of Companies=%{y}<extra></extra>",
         "legendgroup": "deepfake-detection",
         "line": {
          "color": "#636efa",
          "dash": "solid"
         },
         "marker": {
          "symbol": "circle"
         },
         "mode": "lines",
         "name": "deepfake-detection",
         "showlegend": true,
         "type": "scattergl",
         "x": {
          "bdata": "AAAAAACUn0A=",
          "dtype": "f8"
         },
         "xaxis": "x",
         "y": {
          "bdata": "Ag==",
          "dtype": "i1"
         },
         "yaxis": "y"
        },
        {
         "customdata": [
          [
           "genetic-engineering"
          ]
         ],
         "hovertemplate": "Industry=%{customdata[0]}<br>Year Founded=%{x}<br>Number of Companies=%{y}<extra></extra>",
         "legendgroup": "genetic-engineering",
         "line": {
          "color": "#EF553B",
          "dash": "solid"
         },
         "marker": {
          "symbol": "circle"
         },
         "mode": "lines",
         "name": "genetic-engineering",
         "showlegend": true,
         "type": "scattergl",
         "x": {
          "bdata": "AAAAAACUn0A=",
          "dtype": "f8"
         },
         "xaxis": "x",
         "y": {
          "bdata": "Ag==",
          "dtype": "i1"
         },
         "yaxis": "y"
        },
        {
         "customdata": [
          [
           "hydrogen-energy"
          ],
          [
           "hydrogen-energy"
          ]
         ],
         "hovertemplate": "Industry=%{customdata[0]}<br>Year Founded=%{x}<br>Number of Companies=%{y}<extra></extra>",
         "legendgroup": "hydrogen-energy",
         "line": {
          "color": "#00cc96",
          "dash": "solid"
         },
         "marker": {
          "symbol": "circle"
         },
         "mode": "lines",
         "name": "hydrogen-energy",
         "showlegend": true,
         "type": "scattergl",
         "x": {
          "bdata": "AAAAAACUn0AAAAAAAJifQA==",
          "dtype": "f8"
         },
         "xaxis": "x",
         "y": {
          "bdata": "BAI=",
          "dtype": "i1"
         },
         "yaxis": "y"
        },
        {
         "customdata": [
          [
           "international"
          ],
          [
           "international"
          ],
          [
           "international"
          ]
         ],
         "hovertemplate": "Industry=%{customdata[0]}<br>Year Founded=%{x}<br>Number of Companies=%{y}<extra></extra>",
         "legendgroup": "international",
         "line": {
          "color": "#ab63fa",
          "dash": "solid"
         },
         "marker": {
          "symbol": "circle"
         },
         "mode": "lines",
         "name": "international",
         "showlegend": true,
         "type": "scattergl",
         "x": {
          "bdata": "AAAAAACUn0AAAAAAAJyfQAAAAAAAoJ9A",
          "dtype": "f8"
         },
         "xaxis": "x",
         "y": {
          "bdata": "AgID",
          "dtype": "i1"
         },
         "yaxis": "y"
        },
        {
         "customdata": [
          [
           "market-research"
          ],
          [
           "market-research"
          ],
          [
           "market-research"
          ],
          [
           "market-research"
          ]
         ],
         "hovertemplate": "Industry=%{customdata[0]}<br>Year Founded=%{x}<br>Number of Companies=%{y}<extra></extra>",
         "legendgroup": "market-research",
         "line": {
          "color": "#FFA15A",
          "dash": "solid"
         },
         "marker": {
          "symbol": "circle"
         },
         "mode": "lines",
         "name": "market-research",
         "showlegend": true,
         "type": "scattergl",
         "x": {
          "bdata": "AAAAAACUn0AAAAAAAJifQAAAAAAAnJ9AAAAAAACgn0A=",
          "dtype": "f8"
         },
         "xaxis": "x",
         "y": {
          "bdata": "AgYDCA==",
          "dtype": "i1"
         },
         "yaxis": "y"
        },
        {
         "customdata": [
          [
           "recommendation-system"
          ],
          [
           "recommendation-system"
          ]
         ],
         "hovertemplate": "Industry=%{customdata[0]}<br>Year Founded=%{x}<br>Number of Companies=%{y}<extra></extra>",
         "legendgroup": "recommendation-system",
         "line": {
          "color": "#19d3f3",
          "dash": "solid"
         },
         "marker": {
          "symbol": "circle"
         },
         "mode": "lines",
         "name": "recommendation-system",
         "showlegend": true,
         "type": "scattergl",
         "x": {
          "bdata": "AAAAAACUn0AAAAAAAJifQA==",
          "dtype": "f8"
         },
         "xaxis": "x",
         "y": {
          "bdata": "AgI=",
          "dtype": "i1"
         },
         "yaxis": "y"
        },
        {
         "customdata": [
          [
           "search"
          ],
          [
           "search"
          ],
          [
           "search"
          ]
         ],
         "hovertemplate": "Industry=%{customdata[0]}<br>Year Founded=%{x}<br>Number of Companies=%{y}<extra></extra>",
         "legendgroup": "search",
         "line": {
          "color": "#FF6692",
          "dash": "solid"
         },
         "marker": {
          "symbol": "circle"
         },
         "mode": "lines",
         "name": "search",
         "showlegend": true,
         "type": "scattergl",
         "x": {
          "bdata": "AAAAAACUn0AAAAAAAJifQAAAAAAAnJ9A",
          "dtype": "f8"
         },
         "xaxis": "x",
         "y": {
          "bdata": "BgIU",
          "dtype": "i1"
         },
         "yaxis": "y"
        },
        {
         "customdata": [
          [
           "skincare"
          ]
         ],
         "hovertemplate": "Industry=%{customdata[0]}<br>Year Founded=%{x}<br>Number of Companies=%{y}<extra></extra>",
         "legendgroup": "skincare",
         "line": {
          "color": "#B6E880",
          "dash": "solid"
         },
         "marker": {
          "symbol": "circle"
         },
         "mode": "lines",
         "name": "skincare",
         "showlegend": true,
         "type": "scattergl",
         "x": {
          "bdata": "AAAAAACUn0A=",
          "dtype": "f8"
         },
         "xaxis": "x",
         "y": {
          "bdata": "Ag==",
          "dtype": "i1"
         },
         "yaxis": "y"
        },
        {
         "customdata": [
          [
           "clean-meat"
          ]
         ],
         "hovertemplate": "Industry=%{customdata[0]}<br>Year Founded=%{x}<br>Number of Companies=%{y}<extra></extra>",
         "legendgroup": "clean-meat",
         "line": {
          "color": "#FF97FF",
          "dash": "solid"
         },
         "marker": {
          "symbol": "circle"
         },
         "mode": "lines",
         "name": "clean-meat",
         "showlegend": true,
         "type": "scattergl",
         "x": {
          "bdata": "AAAAAACYn0A=",
          "dtype": "f8"
         },
         "xaxis": "x",
         "y": {
          "bdata": "Ag==",
          "dtype": "i1"
         },
         "yaxis": "y"
        },
        {
         "customdata": [
          [
           "home-automation"
          ]
         ],
         "hovertemplate": "Industry=%{customdata[0]}<br>Year Founded=%{x}<br>Number of Companies=%{y}<extra></extra>",
         "legendgroup": "home-automation",
         "line": {
          "color": "#FECB52",
          "dash": "solid"
         },
         "marker": {
          "symbol": "circle"
         },
         "mode": "lines",
         "name": "home-automation",
         "showlegend": true,
         "type": "scattergl",
         "x": {
          "bdata": "AAAAAACcn0A=",
          "dtype": "f8"
         },
         "xaxis": "x",
         "y": {
          "bdata": "Ag==",
          "dtype": "i1"
         },
         "yaxis": "y"
        },
        {
         "customdata": [
          [
           "lidar"
          ]
         ],
         "hovertemplate": "Industry=%{customdata[0]}<br>Year Founded=%{x}<br>Number of Companies=%{y}<extra></extra>",
         "legendgroup": "lidar",
         "line": {
          "color": "#636efa",
          "dash": "solid"
         },
         "marker": {
          "symbol": "circle"
         },
         "mode": "lines",
         "name": "lidar",
         "showlegend": true,
         "type": "scattergl",
         "x": {
          "bdata": "AAAAAACcn0A=",
          "dtype": "f8"
         },
         "xaxis": "x",
         "y": {
          "bdata": "Aw==",
          "dtype": "i1"
         },
         "yaxis": "y"
        },
        {
         "customdata": [
          [
           "location-based"
          ]
         ],
         "hovertemplate": "Industry=%{customdata[0]}<br>Year Founded=%{x}<br>Number of Companies=%{y}<extra></extra>",
         "legendgroup": "location-based",
         "line": {
          "color": "#EF553B",
          "dash": "solid"
         },
         "marker": {
          "symbol": "circle"
         },
         "mode": "lines",
         "name": "location-based",
         "showlegend": true,
         "type": "scattergl",
         "x": {
          "bdata": "AAAAAACgn0A=",
          "dtype": "f8"
         },
         "xaxis": "x",
         "y": {
          "bdata": "AQ==",
          "dtype": "i1"
         },
         "yaxis": "y"
        },
        {
         "customdata": [
          [
           "quantum-computing"
          ]
         ],
         "hovertemplate": "Industry=%{customdata[0]}<br>Year Founded=%{x}<br>Number of Companies=%{y}<extra></extra>",
         "legendgroup": "quantum-computing",
         "line": {
          "color": "#00cc96",
          "dash": "solid"
         },
         "marker": {
          "symbol": "circle"
         },
         "mode": "lines",
         "name": "quantum-computing",
         "showlegend": true,
         "type": "scattergl",
         "x": {
          "bdata": "AAAAAACgn0A=",
          "dtype": "f8"
         },
         "xaxis": "x",
         "y": {
          "bdata": "Aw==",
          "dtype": "i1"
         },
         "yaxis": "y"
        },
        {
         "customdata": [
          [
           "reviews"
          ]
         ],
         "hovertemplate": "Industry=%{customdata[0]}<br>Year Founded=%{x}<br>Number of Companies=%{y}<extra></extra>",
         "legendgroup": "reviews",
         "line": {
          "color": "#ab63fa",
          "dash": "solid"
         },
         "marker": {
          "symbol": "circle"
         },
         "mode": "lines",
         "name": "reviews",
         "showlegend": true,
         "type": "scattergl",
         "x": {
          "bdata": "AAAAAACgn0A=",
          "dtype": "f8"
         },
         "xaxis": "x",
         "y": {
          "bdata": "Ag==",
          "dtype": "i1"
         },
         "yaxis": "y"
        },
        {
         "customdata": [
          [
           "swarm-robotics"
          ]
         ],
         "hovertemplate": "Industry=%{customdata[0]}<br>Year Founded=%{x}<br>Number of Companies=%{y}<extra></extra>",
         "legendgroup": "swarm-robotics",
         "line": {
          "color": "#FFA15A",
          "dash": "solid"
         },
         "marker": {
          "symbol": "circle"
         },
         "mode": "lines",
         "name": "swarm-robotics",
         "showlegend": true,
         "type": "scattergl",
         "x": {
          "bdata": "AAAAAACgn0A=",
          "dtype": "f8"
         },
         "xaxis": "x",
         "y": {
          "bdata": "Aw==",
          "dtype": "i1"
         },
         "yaxis": "y"
        }
       ],
       "layout": {
        "legend": {
         "orientation": "v",
         "title": {
          "text": "Industry"
         },
         "tracegroupgap": 0,
         "x": 1.05,
         "xanchor": "left",
         "y": 1,
         "yanchor": "top"
        },
        "template": {
         "data": {
          "bar": [
           {
            "error_x": {
             "color": "#2a3f5f"
            },
            "error_y": {
             "color": "#2a3f5f"
            },
            "marker": {
             "line": {
              "color": "white",
              "width": 0.5
             },
             "pattern": {
              "fillmode": "overlay",
              "size": 10,
              "solidity": 0.2
             }
            },
            "type": "bar"
           }
          ],
          "barpolar": [
           {
            "marker": {
             "line": {
              "color": "white",
              "width": 0.5
             },
             "pattern": {
              "fillmode": "overlay",
              "size": 10,
              "solidity": 0.2
             }
            },
            "type": "barpolar"
           }
          ],
          "carpet": [
           {
            "aaxis": {
             "endlinecolor": "#2a3f5f",
             "gridcolor": "#C8D4E3",
             "linecolor": "#C8D4E3",
             "minorgridcolor": "#C8D4E3",
             "startlinecolor": "#2a3f5f"
            },
            "baxis": {
             "endlinecolor": "#2a3f5f",
             "gridcolor": "#C8D4E3",
             "linecolor": "#C8D4E3",
             "minorgridcolor": "#C8D4E3",
             "startlinecolor": "#2a3f5f"
            },
            "type": "carpet"
           }
          ],
          "choropleth": [
           {
            "colorbar": {
             "outlinewidth": 0,
             "ticks": ""
            },
            "type": "choropleth"
           }
          ],
          "contour": [
           {
            "colorbar": {
             "outlinewidth": 0,
             "ticks": ""
            },
            "colorscale": [
             [
              0,
              "#0d0887"
             ],
             [
              0.1111111111111111,
              "#46039f"
             ],
             [
              0.2222222222222222,
              "#7201a8"
             ],
             [
              0.3333333333333333,
              "#9c179e"
             ],
             [
              0.4444444444444444,
              "#bd3786"
             ],
             [
              0.5555555555555556,
              "#d8576b"
             ],
             [
              0.6666666666666666,
              "#ed7953"
             ],
             [
              0.7777777777777778,
              "#fb9f3a"
             ],
             [
              0.8888888888888888,
              "#fdca26"
             ],
             [
              1,
              "#f0f921"
             ]
            ],
            "type": "contour"
           }
          ],
          "contourcarpet": [
           {
            "colorbar": {
             "outlinewidth": 0,
             "ticks": ""
            },
            "type": "contourcarpet"
           }
          ],
          "heatmap": [
           {
            "colorbar": {
             "outlinewidth": 0,
             "ticks": ""
            },
            "colorscale": [
             [
              0,
              "#0d0887"
             ],
             [
              0.1111111111111111,
              "#46039f"
             ],
             [
              0.2222222222222222,
              "#7201a8"
             ],
             [
              0.3333333333333333,
              "#9c179e"
             ],
             [
              0.4444444444444444,
              "#bd3786"
             ],
             [
              0.5555555555555556,
              "#d8576b"
             ],
             [
              0.6666666666666666,
              "#ed7953"
             ],
             [
              0.7777777777777778,
              "#fb9f3a"
             ],
             [
              0.8888888888888888,
              "#fdca26"
             ],
             [
              1,
              "#f0f921"
             ]
            ],
            "type": "heatmap"
           }
          ],
          "histogram": [
           {
            "marker": {
             "pattern": {
              "fillmode": "overlay",
              "size": 10,
              "solidity": 0.2
             }
            },
            "type": "histogram"
           }
          ],
          "histogram2d": [
           {
            "colorbar": {
             "outlinewidth": 0,
             "ticks": ""
            },
            "colorscale": [
             [
              0,
              "#0d0887"
             ],
             [
              0.1111111111111111,
              "#46039f"
             ],
             [
              0.2222222222222222,
              "#7201a8"
             ],
             [
              0.3333333333333333,
              "#9c179e"
             ],
             [
              0.4444444444444444,
              "#bd3786"
             ],
             [
              0.5555555555555556,
              "#d8576b"
             ],
             [
              0.6666666666666666,
              "#ed7953"
             ],
             [
              0.7777777777777778,
              "#fb9f3a"
             ],
             [
              0.8888888888888888,
              "#fdca26"
             ],
             [
              1,
              "#f0f921"
             ]
            ],
            "type": "histogram2d"
           }
          ],
          "histogram2dcontour": [
           {
            "colorbar": {
             "outlinewidth": 0,
             "ticks": ""
            },
            "colorscale": [
             [
              0,
              "#0d0887"
             ],
             [
              0.1111111111111111,
              "#46039f"
             ],
             [
              0.2222222222222222,
              "#7201a8"
             ],
             [
              0.3333333333333333,
              "#9c179e"
             ],
             [
              0.4444444444444444,
              "#bd3786"
             ],
             [
              0.5555555555555556,
              "#d8576b"
             ],
             [
              0.6666666666666666,
              "#ed7953"
             ],
             [
              0.7777777777777778,
              "#fb9f3a"
             ],
             [
              0.8888888888888888,
              "#fdca26"
             ],
             [
              1,
              "#f0f921"
             ]
            ],
            "type": "histogram2dcontour"
           }
          ],
          "mesh3d": [
           {
            "colorbar": {
             "outlinewidth": 0,
             "ticks": ""
            },
            "type": "mesh3d"
           }
          ],
          "parcoords": [
           {
            "line": {
             "colorbar": {
              "outlinewidth": 0,
              "ticks": ""
             }
            },
            "type": "parcoords"
           }
          ],
          "pie": [
           {
            "automargin": true,
            "type": "pie"
           }
          ],
          "scatter": [
           {
            "fillpattern": {
             "fillmode": "overlay",
             "size": 10,
             "solidity": 0.2
            },
            "type": "scatter"
           }
          ],
          "scatter3d": [
           {
            "line": {
             "colorbar": {
              "outlinewidth": 0,
              "ticks": ""
             }
            },
            "marker": {
             "colorbar": {
              "outlinewidth": 0,
              "ticks": ""
             }
            },
            "type": "scatter3d"
           }
          ],
          "scattercarpet": [
           {
            "marker": {
             "colorbar": {
              "outlinewidth": 0,
              "ticks": ""
             }
            },
            "type": "scattercarpet"
           }
          ],
          "scattergeo": [
           {
            "marker": {
             "colorbar": {
              "outlinewidth": 0,
              "ticks": ""
             }
            },
            "type": "scattergeo"
           }
          ],
          "scattergl": [
           {
            "marker": {
             "colorbar": {
              "outlinewidth": 0,
              "ticks": ""
             }
            },
            "type": "scattergl"
           }
          ],
          "scattermap": [
           {
            "marker": {
             "colorbar": {
              "outlinewidth": 0,
              "ticks": ""
             }
            },
            "type": "scattermap"
           }
          ],
          "scattermapbox": [
           {
            "marker": {
             "colorbar": {
              "outlinewidth": 0,
              "ticks": ""
             }
            },
            "type": "scattermapbox"
           }
          ],
          "scatterpolar": [
           {
            "marker": {
             "colorbar": {
              "outlinewidth": 0,
              "ticks": ""
             }
            },
            "type": "scatterpolar"
           }
          ],
          "scatterpolargl": [
           {
            "marker": {
             "colorbar": {
              "outlinewidth": 0,
              "ticks": ""
             }
            },
            "type": "scatterpolargl"
           }
          ],
          "scatterternary": [
           {
            "marker": {
             "colorbar": {
              "outlinewidth": 0,
              "ticks": ""
             }
            },
            "type": "scatterternary"
           }
          ],
          "surface": [
           {
            "colorbar": {
             "outlinewidth": 0,
             "ticks": ""
            },
            "colorscale": [
             [
              0,
              "#0d0887"
             ],
             [
              0.1111111111111111,
              "#46039f"
             ],
             [
              0.2222222222222222,
              "#7201a8"
             ],
             [
              0.3333333333333333,
              "#9c179e"
             ],
             [
              0.4444444444444444,
              "#bd3786"
             ],
             [
              0.5555555555555556,
              "#d8576b"
             ],
             [
              0.6666666666666666,
              "#ed7953"
             ],
             [
              0.7777777777777778,
              "#fb9f3a"
             ],
             [
              0.8888888888888888,
              "#fdca26"
             ],
             [
              1,
              "#f0f921"
             ]
            ],
            "type": "surface"
           }
          ],
          "table": [
           {
            "cells": {
             "fill": {
              "color": "#EBF0F8"
             },
             "line": {
              "color": "white"
             }
            },
            "header": {
             "fill": {
              "color": "#C8D4E3"
             },
             "line": {
              "color": "white"
             }
            },
            "type": "table"
           }
          ]
         },
         "layout": {
          "annotationdefaults": {
           "arrowcolor": "#2a3f5f",
           "arrowhead": 0,
           "arrowwidth": 1
          },
          "autotypenumbers": "strict",
          "coloraxis": {
           "colorbar": {
            "outlinewidth": 0,
            "ticks": ""
           }
          },
          "colorscale": {
           "diverging": [
            [
             0,
             "#8e0152"
            ],
            [
             0.1,
             "#c51b7d"
            ],
            [
             0.2,
             "#de77ae"
            ],
            [
             0.3,
             "#f1b6da"
            ],
            [
             0.4,
             "#fde0ef"
            ],
            [
             0.5,
             "#f7f7f7"
            ],
            [
             0.6,
             "#e6f5d0"
            ],
            [
             0.7,
             "#b8e186"
            ],
            [
             0.8,
             "#7fbc41"
            ],
            [
             0.9,
             "#4d9221"
            ],
            [
             1,
             "#276419"
            ]
           ],
           "sequential": [
            [
             0,
             "#0d0887"
            ],
            [
             0.1111111111111111,
             "#46039f"
            ],
            [
             0.2222222222222222,
             "#7201a8"
            ],
            [
             0.3333333333333333,
             "#9c179e"
            ],
            [
             0.4444444444444444,
             "#bd3786"
            ],
            [
             0.5555555555555556,
             "#d8576b"
            ],
            [
             0.6666666666666666,
             "#ed7953"
            ],
            [
             0.7777777777777778,
             "#fb9f3a"
            ],
            [
             0.8888888888888888,
             "#fdca26"
            ],
            [
             1,
             "#f0f921"
            ]
           ],
           "sequentialminus": [
            [
             0,
             "#0d0887"
            ],
            [
             0.1111111111111111,
             "#46039f"
            ],
            [
             0.2222222222222222,
             "#7201a8"
            ],
            [
             0.3333333333333333,
             "#9c179e"
            ],
            [
             0.4444444444444444,
             "#bd3786"
            ],
            [
             0.5555555555555556,
             "#d8576b"
            ],
            [
             0.6666666666666666,
             "#ed7953"
            ],
            [
             0.7777777777777778,
             "#fb9f3a"
            ],
            [
             0.8888888888888888,
             "#fdca26"
            ],
            [
             1,
             "#f0f921"
            ]
           ]
          },
          "colorway": [
           "#636efa",
           "#EF553B",
           "#00cc96",
           "#ab63fa",
           "#FFA15A",
           "#19d3f3",
           "#FF6692",
           "#B6E880",
           "#FF97FF",
           "#FECB52"
          ],
          "font": {
           "color": "#2a3f5f"
          },
          "geo": {
           "bgcolor": "white",
           "lakecolor": "white",
           "landcolor": "white",
           "showlakes": true,
           "showland": true,
           "subunitcolor": "#C8D4E3"
          },
          "hoverlabel": {
           "align": "left"
          },
          "hovermode": "closest",
          "mapbox": {
           "style": "light"
          },
          "paper_bgcolor": "white",
          "plot_bgcolor": "white",
          "polar": {
           "angularaxis": {
            "gridcolor": "#EBF0F8",
            "linecolor": "#EBF0F8",
            "ticks": ""
           },
           "bgcolor": "white",
           "radialaxis": {
            "gridcolor": "#EBF0F8",
            "linecolor": "#EBF0F8",
            "ticks": ""
           }
          },
          "scene": {
           "xaxis": {
            "backgroundcolor": "white",
            "gridcolor": "#DFE8F3",
            "gridwidth": 2,
            "linecolor": "#EBF0F8",
            "showbackground": true,
            "ticks": "",
            "zerolinecolor": "#EBF0F8"
           },
           "yaxis": {
            "backgroundcolor": "white",
            "gridcolor": "#DFE8F3",
            "gridwidth": 2,
            "linecolor": "#EBF0F8",
            "showbackground": true,
            "ticks": "",
            "zerolinecolor": "#EBF0F8"
           },
           "zaxis": {
            "backgroundcolor": "white",
            "gridcolor": "#DFE8F3",
            "gridwidth": 2,
            "linecolor": "#EBF0F8",
            "showbackground": true,
            "ticks": "",
            "zerolinecolor": "#EBF0F8"
           }
          },
          "shapedefaults": {
           "line": {
            "color": "#2a3f5f"
           }
          },
          "ternary": {
           "aaxis": {
            "gridcolor": "#DFE8F3",
            "linecolor": "#A2B1C6",
            "ticks": ""
           },
           "baxis": {
            "gridcolor": "#DFE8F3",
            "linecolor": "#A2B1C6",
            "ticks": ""
           },
           "bgcolor": "white",
           "caxis": {
            "gridcolor": "#DFE8F3",
            "linecolor": "#A2B1C6",
            "ticks": ""
           }
          },
          "title": {
           "x": 0.05
          },
          "xaxis": {
           "automargin": true,
           "gridcolor": "#EBF0F8",
           "linecolor": "#EBF0F8",
           "ticks": "",
           "title": {
            "standoff": 15
           },
           "zerolinecolor": "#EBF0F8",
           "zerolinewidth": 2
          },
          "yaxis": {
           "automargin": true,
           "gridcolor": "#EBF0F8",
           "linecolor": "#EBF0F8",
           "ticks": "",
           "title": {
            "standoff": 15
           },
           "zerolinecolor": "#EBF0F8",
           "zerolinewidth": 2
          }
         }
        },
        "title": {
         "text": "Industry Trend Over the Years"
        },
        "xaxis": {
         "anchor": "y",
         "domain": [
          0,
          1
         ],
         "dtick": 1,
         "title": {
          "text": "Year Founded"
         }
        },
        "yaxis": {
         "anchor": "x",
         "domain": [
          0,
          1
         ],
         "title": {
          "text": "Number of Companies"
         }
        }
       }
      }
     },
     "metadata": {},
     "output_type": "display_data"
    }
   ],
   "source": [
    "import plotly.express as px\n",
    "\n",
    "# Assuming df is already loaded and 'tags' is a list of industries\n",
    "df_exploded = df.explode('tags')\n",
    "\n",
    "# Group and count companies per year and industry\n",
    "industry_trend = df_exploded.groupby(['year_founded', 'tags']).size().reset_index(name='count')\n",
    "\n",
    "# Create an interactive line plot\n",
    "fig = px.line(\n",
    "    industry_trend,\n",
    "    x='year_founded',\n",
    "    y='count',\n",
    "    color='tags',\n",
    "    title='Industry Trend Over the Years',\n",
    "    labels={'year_founded': 'Year Founded', 'count': 'Number of Companies', 'tags': 'Industry'},\n",
    "    hover_data=['tags', 'count', 'year_founded']\n",
    ")\n",
    "\n",
    "fig.update_layout(\n",
    "    legend_title_text='Industry',\n",
    "    xaxis=dict(dtick=1),\n",
    "    template='plotly_white',\n",
    "    legend=dict(\n",
    "        orientation=\"v\",\n",
    "        yanchor=\"top\",\n",
    "        y=1,\n",
    "        xanchor=\"left\",\n",
    "        x=1.05\n",
    "    )\n",
    ")\n",
    "\n",
    "fig.show()"
   ]
  },
  {
   "cell_type": "markdown",
   "metadata": {},
   "source": "<cell_type>markdown</cell_type>## Actionable Insights & Analysis\n\n### 🎯 Key Findings (Mature Companies ≥3 years):\n\n**Solo vs Team Success:**\n- The analysis above shows the actual success rates (Public/Acquired) for mature companies\n- Team-founded companies typically show higher success rates, but solo founders can succeed in specific niches\n- Success depends on many factors: industry, timing, execution, market conditions, founder skill, and luck\n\n**Industry Selection:**\n- Top industries by count ≠ top industries by success rate\n- For success rate by industry, see the comprehensive analysis notebook\n- Consider market saturation vs opportunity when choosing an industry\n\n**Team Growth Patterns:**\n- Most successful solo founders eventually hire and grow their teams\n- Early team growth correlates with (but doesn't cause) success\n\n---\n\n### ⚠️ Important Caveats\n\n**Limitations of This Analysis:**\n\n1. **Survivorship Bias**: Recent companies haven't had time to exit. We partially address this by filtering to companies ≥3 years old for success analysis.\n\n2. **Correlation ≠ Causation**: All patterns shown are correlational. We cannot prove that having co-founders *causes* success.\n\n3. **Selection Bias**: YC companies are already pre-selected (top ~1-2% of applicants). Results may not generalize.\n\n4. **Small Samples**: Some industry/location combinations have <20 companies, making statistics unreliable.\n\n5. **Definition of Success**: \"Success\" = Public or Acquired. This ignores profitable private companies that never exit.\n\n6. **Missing Data**: ~20-30% of companies have missing team_size or year_founded data.\n\n---\n\n### 💡 Recommendations for Solo Founders\n\n**Before deciding to go solo:**\n1. Analyze your specific industry's solo success rate (not just overall)\n2. Assess your own skills: do you cover technical, business, and sales?\n3. Consider: is the problem suited for a solo founder or does it need diverse expertise?\n4. Plan for eventual hiring - most successful solos grow teams within 1-2 years\n\n**For rigorous statistical analysis:**\n- See `yc_comprehensive_analysis.ipynb` for:\n  - Success rate by industry\n  - Geographic analysis  \n  - Predictive modeling\n  - Statistical significance testing\n  - Comprehensive caveats and limitations\n\nUse these insights for **exploration and hypothesis generation**, not definitive decisions."
  }
 ],
 "metadata": {
  "kernelspec": {
   "display_name": "Python 3",
   "language": "python",
   "name": "python3"
  },
  "language_info": {
   "codemirror_mode": {
    "name": "ipython",
    "version": 3
   },
   "file_extension": ".py",
   "mimetype": "text/x-python",
   "name": "python",
   "nbconvert_exporter": "python",
   "pygments_lexer": "ipython3",
   "version": "3.13.3"
  }
 },
 "nbformat": 4,
 "nbformat_minor": 2
}