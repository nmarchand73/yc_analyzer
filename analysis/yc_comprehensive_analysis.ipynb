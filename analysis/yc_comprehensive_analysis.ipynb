{
 "cells": [
  {
   "cell_type": "markdown",
   "metadata": {},
   "source": [
    "# Y Combinator Companies: Comprehensive Analysis\n",
    "\n",
    "**Deep dive into 20 years of YC data** - Success factors, trends, predictions, and actionable insights for founders.\n",
    "\n",
    "This notebook analyzes 7,858+ YC companies to answer critical questions:\n",
    "- What predicts startup success?\n",
    "- Should you start solo or with co-founders?\n",
    "- Which industries are saturated vs underserved?\n",
    "- How do successful companies grow their teams?\n",
    "- What's the optimal time to launch?\n",
    "\n",
    "---"
   ]
  },
  {
   "cell_type": "code",
   "execution_count": 1,
   "metadata": {},
   "outputs": [
    {
     "name": "stdout",
     "output_type": "stream",
     "text": [
      "✓ Libraries loaded\n"
     ]
    }
   ],
   "source": [
    "# Setup & Imports\n",
    "import pandas as pd\n",
    "import numpy as np\n",
    "import matplotlib.pyplot as plt\n",
    "import seaborn as sns\n",
    "import plotly.express as px\n",
    "import plotly.graph_objects as go\n",
    "from plotly.subplots import make_subplots\n",
    "import warnings\n",
    "from datetime import datetime\n",
    "from collections import Counter\n",
    "import re\n",
    "\n",
    "warnings.filterwarnings('ignore')\n",
    "\n",
    "# Plot settings\n",
    "sns.set_style('whitegrid')\n",
    "plt.rcParams['figure.figsize'] = (12, 6)\n",
    "plt.rcParams['font.size'] = 11\n",
    "\n",
    "# Color palettes\n",
    "STATUS_COLORS = {\n",
    "    'Public': '#00CC66',\n",
    "    'Acquired': '#0099FF', \n",
    "    'Active': '#FFAA00',\n",
    "    'Inactive': '#FF3333',\n",
    "    'Dead': '#999999'\n",
    "}\n",
    "\n",
    "print(\"✓ Libraries loaded\")"
   ]
  },
  {
   "cell_type": "markdown",
   "metadata": {},
   "source": [
    "## 1. Data Loading & Preparation"
   ]
  },
  {
   "cell_type": "code",
   "execution_count": 2,
   "metadata": {},
   "outputs": [
    {
     "name": "stdout",
     "output_type": "stream",
     "text": [
      "✓ Loaded 5,463 companies from 2025-10-05-yc.companies.jl\n",
      "\n",
      "Columns: company_id, company_name, short_description, long_description, batch, status, tags, location, country, year_founded, num_founders, founders_names, team_size, website, cb_url, linkedin_url\n"
     ]
    },
    {
     "data": {
      "text/html": [
       "<div>\n",
       "<style scoped>\n",
       "    .dataframe tbody tr th:only-of-type {\n",
       "        vertical-align: middle;\n",
       "    }\n",
       "\n",
       "    .dataframe tbody tr th {\n",
       "        vertical-align: top;\n",
       "    }\n",
       "\n",
       "    .dataframe thead th {\n",
       "        text-align: right;\n",
       "    }\n",
       "</style>\n",
       "<table border=\"1\" class=\"dataframe\">\n",
       "  <thead>\n",
       "    <tr style=\"text-align: right;\">\n",
       "      <th></th>\n",
       "      <th>company_id</th>\n",
       "      <th>company_name</th>\n",
       "      <th>short_description</th>\n",
       "      <th>long_description</th>\n",
       "      <th>batch</th>\n",
       "      <th>status</th>\n",
       "      <th>tags</th>\n",
       "      <th>location</th>\n",
       "      <th>country</th>\n",
       "      <th>year_founded</th>\n",
       "      <th>num_founders</th>\n",
       "      <th>founders_names</th>\n",
       "      <th>team_size</th>\n",
       "      <th>website</th>\n",
       "      <th>cb_url</th>\n",
       "      <th>linkedin_url</th>\n",
       "    </tr>\n",
       "  </thead>\n",
       "  <tbody>\n",
       "    <tr>\n",
       "      <th>0</th>\n",
       "      <td>31009</td>\n",
       "      <td>Bear</td>\n",
       "      <td>Show up on AI Search Engines</td>\n",
       "      <td>Bear AI helps companies show up AI search engi...</td>\n",
       "      <td>Fall 2025</td>\n",
       "      <td>Active</td>\n",
       "      <td>[generative-ai, saas, b2b]</td>\n",
       "      <td>San Francisco</td>\n",
       "      <td>US</td>\n",
       "      <td>2025.0</td>\n",
       "      <td>2</td>\n",
       "      <td>[Siddhant Paliwal, Janak Sunil]</td>\n",
       "      <td>2.0</td>\n",
       "      <td>https://usebear.ai</td>\n",
       "      <td></td>\n",
       "      <td>https://www.linkedin.com/company/bear-ai/</td>\n",
       "    </tr>\n",
       "    <tr>\n",
       "      <th>1</th>\n",
       "      <td>31002</td>\n",
       "      <td>Clicks</td>\n",
       "      <td>The first AI back-office worker that works lik...</td>\n",
       "      <td>Clicks automates your workflows using your exi...</td>\n",
       "      <td>Fall 2025</td>\n",
       "      <td>Active</td>\n",
       "      <td>[artificial-intelligence, workflow-automation,...</td>\n",
       "      <td>San Francisco</td>\n",
       "      <td>US</td>\n",
       "      <td>2025.0</td>\n",
       "      <td>2</td>\n",
       "      <td>[Dominik Helmreich, Oliver Knapp]</td>\n",
       "      <td>2.0</td>\n",
       "      <td>https://goclicks.ai/</td>\n",
       "      <td></td>\n",
       "      <td>https://www.linkedin.com/company/109159942</td>\n",
       "    </tr>\n",
       "    <tr>\n",
       "      <th>2</th>\n",
       "      <td>31011</td>\n",
       "      <td>Openroll</td>\n",
       "      <td>The world's first Agentic compensation platform</td>\n",
       "      <td>Openroll gives companies real-time intelligenc...</td>\n",
       "      <td>Fall 2025</td>\n",
       "      <td>Active</td>\n",
       "      <td>[b2b, hr-tech, data-visualization, ai]</td>\n",
       "      <td>Stockholm, Sweden</td>\n",
       "      <td>SE</td>\n",
       "      <td>2024.0</td>\n",
       "      <td>2</td>\n",
       "      <td>[Mattias Lindell, Porsev Aslan]</td>\n",
       "      <td>4.0</td>\n",
       "      <td>https://www.openroll.com</td>\n",
       "      <td></td>\n",
       "      <td>https://www.linkedin.com/company/openroll/</td>\n",
       "    </tr>\n",
       "  </tbody>\n",
       "</table>\n",
       "</div>"
      ],
      "text/plain": [
       "   company_id company_name                                  short_description  \\\n",
       "0       31009         Bear                       Show up on AI Search Engines   \n",
       "1       31002       Clicks  The first AI back-office worker that works lik...   \n",
       "2       31011     Openroll    The world's first Agentic compensation platform   \n",
       "\n",
       "                                    long_description      batch  status  \\\n",
       "0  Bear AI helps companies show up AI search engi...  Fall 2025  Active   \n",
       "1  Clicks automates your workflows using your exi...  Fall 2025  Active   \n",
       "2  Openroll gives companies real-time intelligenc...  Fall 2025  Active   \n",
       "\n",
       "                                                tags           location  \\\n",
       "0                         [generative-ai, saas, b2b]      San Francisco   \n",
       "1  [artificial-intelligence, workflow-automation,...      San Francisco   \n",
       "2             [b2b, hr-tech, data-visualization, ai]  Stockholm, Sweden   \n",
       "\n",
       "  country  year_founded  num_founders                     founders_names  \\\n",
       "0      US        2025.0             2    [Siddhant Paliwal, Janak Sunil]   \n",
       "1      US        2025.0             2  [Dominik Helmreich, Oliver Knapp]   \n",
       "2      SE        2024.0             2    [Mattias Lindell, Porsev Aslan]   \n",
       "\n",
       "   team_size                   website cb_url  \\\n",
       "0        2.0        https://usebear.ai          \n",
       "1        2.0      https://goclicks.ai/          \n",
       "2        4.0  https://www.openroll.com          \n",
       "\n",
       "                                 linkedin_url  \n",
       "0   https://www.linkedin.com/company/bear-ai/  \n",
       "1  https://www.linkedin.com/company/109159942  \n",
       "2  https://www.linkedin.com/company/openroll/  "
      ]
     },
     "execution_count": 2,
     "metadata": {},
     "output_type": "execute_result"
    }
   ],
   "source": [
    "# Load latest YC data\n",
    "data_path = '../data/2025-10-05-yc.companies.jl'\n",
    "\n",
    "try:\n",
    "    df = pd.read_json(data_path, lines=True)\n",
    "    print(f\"✓ Loaded {len(df):,} companies from {data_path.split('/')[-1]}\")\n",
    "except FileNotFoundError:\n",
    "    # Fallback to older data\n",
    "    data_path = '../data/2025-05-03.jl'\n",
    "    df = pd.read_json(data_path, lines=True)\n",
    "    print(f\"⚠ Using fallback data: {len(df):,} companies from {data_path.split('/')[-1]}\")\n",
    "\n",
    "# Display sample\n",
    "print(f\"\\nColumns: {', '.join(df.columns.tolist())}\")\n",
    "df.head(3)"
   ]
  },
  {
   "cell_type": "code",
   "execution_count": 3,
   "metadata": {},
   "outputs": [
    {
     "name": "stdout",
     "output_type": "stream",
     "text": [
      "✓ Feature engineering complete\n",
      "\n",
      "New features created:\n",
      "  - batch_season, batch_year\n",
      "  - founder_type, is_solo\n",
      "  - company_age, is_mature, success_category, is_successful\n",
      "  - has_grown, is_sf_bay, is_us\n",
      "  - num_tags, is_ai, is_b2b\n",
      "  - has_linkedin, has_crunchbase, has_website\n",
      "\n",
      "📊 Data Quality:\n",
      "  Missing year_founded: 1,013 (18.5%)\n",
      "  Missing team_size: 87 (1.6%)\n",
      "  Missing location: 547 (10.0%)\n",
      "\n",
      "⚠️  METHODOLOGICAL NOTE:\n",
      "  Recent companies have not had time to exit. For success rate analysis,\n",
      "  we filter to 'mature' companies (≥3 years old) to reduce survivorship bias.\n",
      "  Mature companies: 3,053 (55.9%)\n"
     ]
    }
   ],
   "source": [
    "# Data Cleaning & Feature Engineering\n",
    "\n",
    "# 1. Extract batch year and season\n",
    "def parse_batch(batch):\n",
    "    \"\"\"Extract season and year from batch string\"\"\"\n",
    "    if pd.isna(batch):\n",
    "        return None, None\n",
    "    \n",
    "    # Handle new format: 'Winter 2025', 'Fall 2024'\n",
    "    match = re.search(r'(Winter|Summer|Spring|Fall|W|S|IK)\\s*(\\d{2,4})', str(batch))\n",
    "    if match:\n",
    "        season = match.group(1)\n",
    "        year = match.group(2)\n",
    "        \n",
    "        # Convert to 4-digit year\n",
    "        if len(year) == 2:\n",
    "            year = int(year)\n",
    "            year = 2000 + year if year < 50 else 1900 + year\n",
    "        else:\n",
    "            year = int(year)\n",
    "            \n",
    "        # Map season abbreviations\n",
    "        season_map = {'W': 'Winter', 'S': 'Summer', 'IK': 'IK'}\n",
    "        season = season_map.get(season, season)\n",
    "        \n",
    "        return season, year\n",
    "    return None, None\n",
    "\n",
    "df[['batch_season', 'batch_year']] = df['batch'].apply(lambda x: pd.Series(parse_batch(x)))\n",
    "\n",
    "# 2. Founder type\n",
    "df['founder_type'] = df['num_founders'].apply(\n",
    "    lambda x: 'Solo' if x == 1 else ('Duo' if x == 2 else ('Trio' if x == 3 else '4+' if x >= 4 else 'Unknown'))\n",
    ")\n",
    "df['is_solo'] = df['num_founders'] == 1\n",
    "\n",
    "# 3. Company age (years since founding)\n",
    "current_year = 2025\n",
    "df['company_age'] = df['year_founded'].apply(\n",
    "    lambda x: current_year - x if pd.notna(x) else None\n",
    ")\n",
    "\n",
    "# Filter for mature companies (to avoid survivorship bias in success analysis)\n",
    "df['is_mature'] = df['company_age'] >= 3  # At least 3 years old\n",
    "\n",
    "# 4. Success category\n",
    "def categorize_success(status):\n",
    "    if pd.isna(status):\n",
    "        return 'Unknown'\n",
    "    status = status.lower()\n",
    "    if 'public' in status:\n",
    "        return 'Public'\n",
    "    elif 'acquired' in status:\n",
    "        return 'Acquired'\n",
    "    elif 'active' in status:\n",
    "        return 'Active'\n",
    "    elif any(word in status for word in ['inactive', 'dead', 'closed']):\n",
    "        return 'Inactive'\n",
    "    return 'Other'\n",
    "\n",
    "df['success_category'] = df['status'].apply(categorize_success)\n",
    "df['is_successful'] = df['success_category'].isin(['Public', 'Acquired'])\n",
    "\n",
    "# 5. Has team grown?\n",
    "df['has_grown'] = df['team_size'] > df['num_founders']\n",
    "\n",
    "# 6. Location features\n",
    "df['is_sf_bay'] = df['location'].fillna('').str.contains('San Francisco|Bay Area|Palo Alto|Mountain View', case=False, na=False)\n",
    "df['is_us'] = df['country'] == 'US'\n",
    "\n",
    "# 7. Tag analysis\n",
    "df['num_tags'] = df['tags'].apply(lambda x: len(x) if isinstance(x, list) else 0)\n",
    "df['is_ai'] = df['tags'].apply(\n",
    "    lambda x: any('ai' in tag.lower() or 'artificial' in tag.lower() for tag in x) if isinstance(x, list) else False\n",
    ")\n",
    "df['is_b2b'] = df['tags'].apply(\n",
    "    lambda x: any('b2b' in tag.lower() for tag in x) if isinstance(x, list) else False\n",
    ")\n",
    "\n",
    "# 8. Has online presence\n",
    "df['has_linkedin'] = df['linkedin_url'].notna() & (df['linkedin_url'] != '')\n",
    "df['has_crunchbase'] = df['cb_url'].notna() & (df['cb_url'] != '')\n",
    "df['has_website'] = df['website'].notna() & (df['website'] != '')\n",
    "\n",
    "print(\"✓ Feature engineering complete\")\n",
    "print(f\"\\nNew features created:\")\n",
    "print(f\"  - batch_season, batch_year\")\n",
    "print(f\"  - founder_type, is_solo\")\n",
    "print(f\"  - company_age, is_mature, success_category, is_successful\")\n",
    "print(f\"  - has_grown, is_sf_bay, is_us\")\n",
    "print(f\"  - num_tags, is_ai, is_b2b\")\n",
    "print(f\"  - has_linkedin, has_crunchbase, has_website\")\n",
    "\n",
    "# Data quality check\n",
    "print(f\"\\n📊 Data Quality:\")\n",
    "print(f\"  Missing year_founded: {df['year_founded'].isna().sum():,} ({df['year_founded'].isna().sum()/len(df)*100:.1f}%)\")\n",
    "print(f\"  Missing team_size: {df['team_size'].isna().sum():,} ({df['team_size'].isna().sum()/len(df)*100:.1f}%)\")\n",
    "print(f\"  Missing location: {df['location'].isna().sum():,} ({df['location'].isna().sum()/len(df)*100:.1f}%)\")\n",
    "\n",
    "# Survivorship bias warning\n",
    "print(f\"\\n⚠️  METHODOLOGICAL NOTE:\")\n",
    "print(f\"  Recent companies have not had time to exit. For success rate analysis,\")\n",
    "print(f\"  we filter to 'mature' companies (≥3 years old) to reduce survivorship bias.\")\n",
    "print(f\"  Mature companies: {df['is_mature'].sum():,} ({df['is_mature'].mean()*100:.1f}%)\")"
   ]
  },
  {
   "cell_type": "markdown",
   "metadata": {},
   "source": [
    "---\n",
    "## 2. Executive Summary Dashboard\n",
    "\n",
    "High-level KPIs and success metrics"
   ]
  },
  {
   "cell_type": "code",
   "execution_count": 4,
   "metadata": {},
   "outputs": [
    {
     "name": "stdout",
     "output_type": "stream",
     "text": [
      "════════════════════════════════════════════════════════════\n",
      "  Y COMBINATOR PORTFOLIO OVERVIEW\n",
      "════════════════════════════════════════════════════════════\n",
      "\n",
      "📈 PORTFOLIO METRICS:\n",
      "  Total Companies:        5,463\n",
      "  Total Founders:         10,729\n",
      "  Public/Acquired:        714 (13.1%)\n",
      "  Active Companies:       4,749\n",
      "  Inactive/Dead:          0\n",
      "\n",
      "👥 FOUNDER COMPOSITION:\n",
      "  Solo Founders:          1,423 (26.0%)\n",
      "  2 Co-founders:          2,960 (54.2%)\n",
      "  3+ Co-founders:         1,063 (19.5%)\n",
      "\n",
      "🎯 SUCCESS RATES:\n",
      "  Solo Founders:          13.5%\n",
      "  Team Founders:          12.9%\n",
      "  Difference:             -0.6pp\n",
      "\n",
      "🌍 GEOGRAPHIC DISTRIBUTION:\n",
      "  SF Bay Area:            2,173 (39.8%)\n",
      "  United States:          3,725 (68.2%)\n",
      "  International:          1,738 (31.8%)\n",
      "\n",
      "🤖 INDUSTRY TRENDS:\n",
      "  AI-related companies:   1,762 (32.3%)\n",
      "  B2B companies:          1,070 (19.6%)\n",
      "\n",
      "════════════════════════════════════════════════════════════\n"
     ]
    }
   ],
   "source": [
    "# Key Metrics\n",
    "total_companies = len(df)\n",
    "total_founders = df['num_founders'].sum()\n",
    "successful_companies = df['is_successful'].sum()\n",
    "success_rate = successful_companies / total_companies * 100\n",
    "solo_success_rate = df[df['is_solo']]['is_successful'].mean() * 100\n",
    "team_success_rate = df[~df['is_solo']]['is_successful'].mean() * 100\n",
    "\n",
    "print(\"═\" * 60)\n",
    "print(\"  Y COMBINATOR PORTFOLIO OVERVIEW\")\n",
    "print(\"═\" * 60)\n",
    "print(f\"\\n📈 PORTFOLIO METRICS:\")\n",
    "print(f\"  Total Companies:        {total_companies:,}\")\n",
    "print(f\"  Total Founders:         {total_founders:,.0f}\")\n",
    "print(f\"  Public/Acquired:        {successful_companies:,} ({success_rate:.1f}%)\")\n",
    "print(f\"  Active Companies:       {(df['success_category'] == 'Active').sum():,}\")\n",
    "print(f\"  Inactive/Dead:          {(df['success_category'] == 'Inactive').sum():,}\")\n",
    "\n",
    "print(f\"\\n👥 FOUNDER COMPOSITION:\")\n",
    "print(f\"  Solo Founders:          {df['is_solo'].sum():,} ({df['is_solo'].mean()*100:.1f}%)\")\n",
    "print(f\"  2 Co-founders:          {(df['num_founders'] == 2).sum():,} ({(df['num_founders'] == 2).mean()*100:.1f}%)\")\n",
    "print(f\"  3+ Co-founders:         {(df['num_founders'] >= 3).sum():,} ({(df['num_founders'] >= 3).mean()*100:.1f}%)\")\n",
    "\n",
    "print(f\"\\n🎯 SUCCESS RATES:\")\n",
    "print(f\"  Solo Founders:          {solo_success_rate:.1f}%\")\n",
    "print(f\"  Team Founders:          {team_success_rate:.1f}%\")\n",
    "print(f\"  Difference:             {team_success_rate - solo_success_rate:+.1f}pp\")\n",
    "\n",
    "print(f\"\\n🌍 GEOGRAPHIC DISTRIBUTION:\")\n",
    "print(f\"  SF Bay Area:            {df['is_sf_bay'].sum():,} ({df['is_sf_bay'].mean()*100:.1f}%)\")\n",
    "print(f\"  United States:          {df['is_us'].sum():,} ({df['is_us'].mean()*100:.1f}%)\")\n",
    "print(f\"  International:          {(~df['is_us']).sum():,} ({(~df['is_us']).mean()*100:.1f}%)\")\n",
    "\n",
    "print(f\"\\n🤖 INDUSTRY TRENDS:\")\n",
    "print(f\"  AI-related companies:   {df['is_ai'].sum():,} ({df['is_ai'].mean()*100:.1f}%)\")\n",
    "print(f\"  B2B companies:          {df['is_b2b'].sum():,} ({df['is_b2b'].mean()*100:.1f}%)\")\n",
    "\n",
    "print(\"\\n\" + \"═\" * 60)"
   ]
  },
  {
   "cell_type": "code",
   "execution_count": 5,
   "metadata": {},
   "outputs": [
    {
     "data": {
      "application/vnd.plotly.v1+json": {
       "config": {
        "plotlyServerURL": "https://plot.ly"
       },
       "data": [
        {
         "domain": {
          "x": [
           0,
           0.2888888888888889
          ],
          "y": [
           0.625,
           1
          ]
         },
         "labels": [
          "Active",
          "Acquired",
          "Public"
         ],
         "marker": {
          "colors": [
           "#FFAA00",
           "#0099FF",
           "#00CC66"
          ]
         },
         "type": "pie",
         "values": {
          "bdata": "jRK3AhMA",
          "dtype": "i2"
         }
        },
        {
         "marker": {
          "color": "#0099FF"
         },
         "type": "bar",
         "x": [
          "Solo",
          "Duo",
          "Trio",
          "4+"
         ],
         "xaxis": "x",
         "y": {
          "bdata": "DDdS2Tj8KkD5rBtMkU8nQBGKUIQiFDFAVZ6Jj/tuKUA=",
          "dtype": "f8"
         },
         "yaxis": "y"
        },
        {
         "marker": {
          "color": "#00CC66"
         },
         "orientation": "h",
         "type": "bar",
         "x": {
          "bdata": "jQ7FAJcAigBQADgANwAzADEALgA=",
          "dtype": "i2"
         },
         "xaxis": "x2",
         "y": [
          "US",
          "IN",
          "GB",
          "CA",
          "MX",
          "FR",
          "NG",
          "SG",
          "BR",
          "DE"
         ],
         "yaxis": "y2"
        },
        {
         "marker": {
          "color": "#FF6600"
         },
         "mode": "lines+markers",
         "type": "scatter",
         "x": {
          "bdata": "1QfWB9cH2AfZB9oH2wfcB90H3gffB+AH4QfiB+MH5AflB+YH5wfoB+kH",
          "dtype": "i2"
         },
         "xaxis": "x3",
         "y": {
          "bdata": "CQASACAAKwAqAD8AaQCVAGIAmADYAOAA8QAVAXMBtAHXAnoC8AFUAhYC",
          "dtype": "i2"
         },
         "yaxis": "y3"
        },
        {
         "marker": {
          "color": "#9933FF"
         },
         "orientation": "h",
         "type": "bar",
         "x": {
          "bdata": "awQuBCwDuAKtAgUCMwEMAewA4AA=",
          "dtype": "i2"
         },
         "xaxis": "x4",
         "y": [
          "saas",
          "b2b",
          "artificial-intelligence",
          "fintech",
          "ai",
          "developer-tools",
          "marketplace",
          "generative-ai",
          "e-commerce",
          "machine-learning"
         ],
         "yaxis": "y4"
        },
        {
         "marker": {
          "color": "#FF9900"
         },
         "nbinsx": 30,
         "type": "histogram",
         "x": {
          "bdata": "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",
          "dtype": "f8"
         },
         "xaxis": "x5",
         "yaxis": "y5"
        }
       ],
       "layout": {
        "annotations": [
         {
          "font": {
           "size": 16
          },
          "showarrow": false,
          "text": "Company Status Distribution",
          "x": 0.14444444444444446,
          "xanchor": "center",
          "xref": "paper",
          "y": 1,
          "yanchor": "bottom",
          "yref": "paper"
         },
         {
          "font": {
           "size": 16
          },
          "showarrow": false,
          "text": "Success Rate by Founder Count",
          "x": 0.5,
          "xanchor": "center",
          "xref": "paper",
          "y": 1,
          "yanchor": "bottom",
          "yref": "paper"
         },
         {
          "font": {
           "size": 16
          },
          "showarrow": false,
          "text": "Geographic Distribution",
          "x": 0.8555555555555556,
          "xanchor": "center",
          "xref": "paper",
          "y": 1,
          "yanchor": "bottom",
          "yref": "paper"
         },
         {
          "font": {
           "size": 16
          },
          "showarrow": false,
          "text": "Batch Trends Over Time",
          "x": 0.14444444444444446,
          "xanchor": "center",
          "xref": "paper",
          "y": 0.375,
          "yanchor": "bottom",
          "yref": "paper"
         },
         {
          "font": {
           "size": 16
          },
          "showarrow": false,
          "text": "Top 10 Industries",
          "x": 0.5,
          "xanchor": "center",
          "xref": "paper",
          "y": 0.375,
          "yanchor": "bottom",
          "yref": "paper"
         },
         {
          "font": {
           "size": 16
          },
          "showarrow": false,
          "text": "Team Size Distribution",
          "x": 0.8555555555555556,
          "xanchor": "center",
          "xref": "paper",
          "y": 0.375,
          "yanchor": "bottom",
          "yref": "paper"
         }
        ],
        "height": 800,
        "showlegend": false,
        "template": {
         "data": {
          "bar": [
           {
            "error_x": {
             "color": "#2a3f5f"
            },
            "error_y": {
             "color": "#2a3f5f"
            },
            "marker": {
             "line": {
              "color": "#E5ECF6",
              "width": 0.5
             },
             "pattern": {
              "fillmode": "overlay",
              "size": 10,
              "solidity": 0.2
             }
            },
            "type": "bar"
           }
          ],
          "barpolar": [
           {
            "marker": {
             "line": {
              "color": "#E5ECF6",
              "width": 0.5
             },
             "pattern": {
              "fillmode": "overlay",
              "size": 10,
              "solidity": 0.2
             }
            },
            "type": "barpolar"
           }
          ],
          "carpet": [
           {
            "aaxis": {
             "endlinecolor": "#2a3f5f",
             "gridcolor": "white",
             "linecolor": "white",
             "minorgridcolor": "white",
             "startlinecolor": "#2a3f5f"
            },
            "baxis": {
             "endlinecolor": "#2a3f5f",
             "gridcolor": "white",
             "linecolor": "white",
             "minorgridcolor": "white",
             "startlinecolor": "#2a3f5f"
            },
            "type": "carpet"
           }
          ],
          "choropleth": [
           {
            "colorbar": {
             "outlinewidth": 0,
             "ticks": ""
            },
            "type": "choropleth"
           }
          ],
          "contour": [
           {
            "colorbar": {
             "outlinewidth": 0,
             "ticks": ""
            },
            "colorscale": [
             [
              0,
              "#0d0887"
             ],
             [
              0.1111111111111111,
              "#46039f"
             ],
             [
              0.2222222222222222,
              "#7201a8"
             ],
             [
              0.3333333333333333,
              "#9c179e"
             ],
             [
              0.4444444444444444,
              "#bd3786"
             ],
             [
              0.5555555555555556,
              "#d8576b"
             ],
             [
              0.6666666666666666,
              "#ed7953"
             ],
             [
              0.7777777777777778,
              "#fb9f3a"
             ],
             [
              0.8888888888888888,
              "#fdca26"
             ],
             [
              1,
              "#f0f921"
             ]
            ],
            "type": "contour"
           }
          ],
          "contourcarpet": [
           {
            "colorbar": {
             "outlinewidth": 0,
             "ticks": ""
            },
            "type": "contourcarpet"
           }
          ],
          "heatmap": [
           {
            "colorbar": {
             "outlinewidth": 0,
             "ticks": ""
            },
            "colorscale": [
             [
              0,
              "#0d0887"
             ],
             [
              0.1111111111111111,
              "#46039f"
             ],
             [
              0.2222222222222222,
              "#7201a8"
             ],
             [
              0.3333333333333333,
              "#9c179e"
             ],
             [
              0.4444444444444444,
              "#bd3786"
             ],
             [
              0.5555555555555556,
              "#d8576b"
             ],
             [
              0.6666666666666666,
              "#ed7953"
             ],
             [
              0.7777777777777778,
              "#fb9f3a"
             ],
             [
              0.8888888888888888,
              "#fdca26"
             ],
             [
              1,
              "#f0f921"
             ]
            ],
            "type": "heatmap"
           }
          ],
          "histogram": [
           {
            "marker": {
             "pattern": {
              "fillmode": "overlay",
              "size": 10,
              "solidity": 0.2
             }
            },
            "type": "histogram"
           }
          ],
          "histogram2d": [
           {
            "colorbar": {
             "outlinewidth": 0,
             "ticks": ""
            },
            "colorscale": [
             [
              0,
              "#0d0887"
             ],
             [
              0.1111111111111111,
              "#46039f"
             ],
             [
              0.2222222222222222,
              "#7201a8"
             ],
             [
              0.3333333333333333,
              "#9c179e"
             ],
             [
              0.4444444444444444,
              "#bd3786"
             ],
             [
              0.5555555555555556,
              "#d8576b"
             ],
             [
              0.6666666666666666,
              "#ed7953"
             ],
             [
              0.7777777777777778,
              "#fb9f3a"
             ],
             [
              0.8888888888888888,
              "#fdca26"
             ],
             [
              1,
              "#f0f921"
             ]
            ],
            "type": "histogram2d"
           }
          ],
          "histogram2dcontour": [
           {
            "colorbar": {
             "outlinewidth": 0,
             "ticks": ""
            },
            "colorscale": [
             [
              0,
              "#0d0887"
             ],
             [
              0.1111111111111111,
              "#46039f"
             ],
             [
              0.2222222222222222,
              "#7201a8"
             ],
             [
              0.3333333333333333,
              "#9c179e"
             ],
             [
              0.4444444444444444,
              "#bd3786"
             ],
             [
              0.5555555555555556,
              "#d8576b"
             ],
             [
              0.6666666666666666,
              "#ed7953"
             ],
             [
              0.7777777777777778,
              "#fb9f3a"
             ],
             [
              0.8888888888888888,
              "#fdca26"
             ],
             [
              1,
              "#f0f921"
             ]
            ],
            "type": "histogram2dcontour"
           }
          ],
          "mesh3d": [
           {
            "colorbar": {
             "outlinewidth": 0,
             "ticks": ""
            },
            "type": "mesh3d"
           }
          ],
          "parcoords": [
           {
            "line": {
             "colorbar": {
              "outlinewidth": 0,
              "ticks": ""
             }
            },
            "type": "parcoords"
           }
          ],
          "pie": [
           {
            "automargin": true,
            "type": "pie"
           }
          ],
          "scatter": [
           {
            "fillpattern": {
             "fillmode": "overlay",
             "size": 10,
             "solidity": 0.2
            },
            "type": "scatter"
           }
          ],
          "scatter3d": [
           {
            "line": {
             "colorbar": {
              "outlinewidth": 0,
              "ticks": ""
             }
            },
            "marker": {
             "colorbar": {
              "outlinewidth": 0,
              "ticks": ""
             }
            },
            "type": "scatter3d"
           }
          ],
          "scattercarpet": [
           {
            "marker": {
             "colorbar": {
              "outlinewidth": 0,
              "ticks": ""
             }
            },
            "type": "scattercarpet"
           }
          ],
          "scattergeo": [
           {
            "marker": {
             "colorbar": {
              "outlinewidth": 0,
              "ticks": ""
             }
            },
            "type": "scattergeo"
           }
          ],
          "scattergl": [
           {
            "marker": {
             "colorbar": {
              "outlinewidth": 0,
              "ticks": ""
             }
            },
            "type": "scattergl"
           }
          ],
          "scattermap": [
           {
            "marker": {
             "colorbar": {
              "outlinewidth": 0,
              "ticks": ""
             }
            },
            "type": "scattermap"
           }
          ],
          "scattermapbox": [
           {
            "marker": {
             "colorbar": {
              "outlinewidth": 0,
              "ticks": ""
             }
            },
            "type": "scattermapbox"
           }
          ],
          "scatterpolar": [
           {
            "marker": {
             "colorbar": {
              "outlinewidth": 0,
              "ticks": ""
             }
            },
            "type": "scatterpolar"
           }
          ],
          "scatterpolargl": [
           {
            "marker": {
             "colorbar": {
              "outlinewidth": 0,
              "ticks": ""
             }
            },
            "type": "scatterpolargl"
           }
          ],
          "scatterternary": [
           {
            "marker": {
             "colorbar": {
              "outlinewidth": 0,
              "ticks": ""
             }
            },
            "type": "scatterternary"
           }
          ],
          "surface": [
           {
            "colorbar": {
             "outlinewidth": 0,
             "ticks": ""
            },
            "colorscale": [
             [
              0,
              "#0d0887"
             ],
             [
              0.1111111111111111,
              "#46039f"
             ],
             [
              0.2222222222222222,
              "#7201a8"
             ],
             [
              0.3333333333333333,
              "#9c179e"
             ],
             [
              0.4444444444444444,
              "#bd3786"
             ],
             [
              0.5555555555555556,
              "#d8576b"
             ],
             [
              0.6666666666666666,
              "#ed7953"
             ],
             [
              0.7777777777777778,
              "#fb9f3a"
             ],
             [
              0.8888888888888888,
              "#fdca26"
             ],
             [
              1,
              "#f0f921"
             ]
            ],
            "type": "surface"
           }
          ],
          "table": [
           {
            "cells": {
             "fill": {
              "color": "#EBF0F8"
             },
             "line": {
              "color": "white"
             }
            },
            "header": {
             "fill": {
              "color": "#C8D4E3"
             },
             "line": {
              "color": "white"
             }
            },
            "type": "table"
           }
          ]
         },
         "layout": {
          "annotationdefaults": {
           "arrowcolor": "#2a3f5f",
           "arrowhead": 0,
           "arrowwidth": 1
          },
          "autotypenumbers": "strict",
          "coloraxis": {
           "colorbar": {
            "outlinewidth": 0,
            "ticks": ""
           }
          },
          "colorscale": {
           "diverging": [
            [
             0,
             "#8e0152"
            ],
            [
             0.1,
             "#c51b7d"
            ],
            [
             0.2,
             "#de77ae"
            ],
            [
             0.3,
             "#f1b6da"
            ],
            [
             0.4,
             "#fde0ef"
            ],
            [
             0.5,
             "#f7f7f7"
            ],
            [
             0.6,
             "#e6f5d0"
            ],
            [
             0.7,
             "#b8e186"
            ],
            [
             0.8,
             "#7fbc41"
            ],
            [
             0.9,
             "#4d9221"
            ],
            [
             1,
             "#276419"
            ]
           ],
           "sequential": [
            [
             0,
             "#0d0887"
            ],
            [
             0.1111111111111111,
             "#46039f"
            ],
            [
             0.2222222222222222,
             "#7201a8"
            ],
            [
             0.3333333333333333,
             "#9c179e"
            ],
            [
             0.4444444444444444,
             "#bd3786"
            ],
            [
             0.5555555555555556,
             "#d8576b"
            ],
            [
             0.6666666666666666,
             "#ed7953"
            ],
            [
             0.7777777777777778,
             "#fb9f3a"
            ],
            [
             0.8888888888888888,
             "#fdca26"
            ],
            [
             1,
             "#f0f921"
            ]
           ],
           "sequentialminus": [
            [
             0,
             "#0d0887"
            ],
            [
             0.1111111111111111,
             "#46039f"
            ],
            [
             0.2222222222222222,
             "#7201a8"
            ],
            [
             0.3333333333333333,
             "#9c179e"
            ],
            [
             0.4444444444444444,
             "#bd3786"
            ],
            [
             0.5555555555555556,
             "#d8576b"
            ],
            [
             0.6666666666666666,
             "#ed7953"
            ],
            [
             0.7777777777777778,
             "#fb9f3a"
            ],
            [
             0.8888888888888888,
             "#fdca26"
            ],
            [
             1,
             "#f0f921"
            ]
           ]
          },
          "colorway": [
           "#636efa",
           "#EF553B",
           "#00cc96",
           "#ab63fa",
           "#FFA15A",
           "#19d3f3",
           "#FF6692",
           "#B6E880",
           "#FF97FF",
           "#FECB52"
          ],
          "font": {
           "color": "#2a3f5f"
          },
          "geo": {
           "bgcolor": "white",
           "lakecolor": "white",
           "landcolor": "#E5ECF6",
           "showlakes": true,
           "showland": true,
           "subunitcolor": "white"
          },
          "hoverlabel": {
           "align": "left"
          },
          "hovermode": "closest",
          "mapbox": {
           "style": "light"
          },
          "paper_bgcolor": "white",
          "plot_bgcolor": "#E5ECF6",
          "polar": {
           "angularaxis": {
            "gridcolor": "white",
            "linecolor": "white",
            "ticks": ""
           },
           "bgcolor": "#E5ECF6",
           "radialaxis": {
            "gridcolor": "white",
            "linecolor": "white",
            "ticks": ""
           }
          },
          "scene": {
           "xaxis": {
            "backgroundcolor": "#E5ECF6",
            "gridcolor": "white",
            "gridwidth": 2,
            "linecolor": "white",
            "showbackground": true,
            "ticks": "",
            "zerolinecolor": "white"
           },
           "yaxis": {
            "backgroundcolor": "#E5ECF6",
            "gridcolor": "white",
            "gridwidth": 2,
            "linecolor": "white",
            "showbackground": true,
            "ticks": "",
            "zerolinecolor": "white"
           },
           "zaxis": {
            "backgroundcolor": "#E5ECF6",
            "gridcolor": "white",
            "gridwidth": 2,
            "linecolor": "white",
            "showbackground": true,
            "ticks": "",
            "zerolinecolor": "white"
           }
          },
          "shapedefaults": {
           "line": {
            "color": "#2a3f5f"
           }
          },
          "ternary": {
           "aaxis": {
            "gridcolor": "white",
            "linecolor": "white",
            "ticks": ""
           },
           "baxis": {
            "gridcolor": "white",
            "linecolor": "white",
            "ticks": ""
           },
           "bgcolor": "#E5ECF6",
           "caxis": {
            "gridcolor": "white",
            "linecolor": "white",
            "ticks": ""
           }
          },
          "title": {
           "x": 0.05
          },
          "xaxis": {
           "automargin": true,
           "gridcolor": "white",
           "linecolor": "white",
           "ticks": "",
           "title": {
            "standoff": 15
           },
           "zerolinecolor": "white",
           "zerolinewidth": 2
          },
          "yaxis": {
           "automargin": true,
           "gridcolor": "white",
           "linecolor": "white",
           "ticks": "",
           "title": {
            "standoff": 15
           },
           "zerolinecolor": "white",
           "zerolinewidth": 2
          }
         }
        },
        "title": {
         "text": "YC Portfolio Dashboard",
         "x": 0.5
        },
        "xaxis": {
         "anchor": "y",
         "domain": [
          0.35555555555555557,
          0.6444444444444445
         ]
        },
        "xaxis2": {
         "anchor": "y2",
         "domain": [
          0.7111111111111111,
          1
         ]
        },
        "xaxis3": {
         "anchor": "y3",
         "domain": [
          0,
          0.2888888888888889
         ]
        },
        "xaxis4": {
         "anchor": "y4",
         "domain": [
          0.35555555555555557,
          0.6444444444444445
         ]
        },
        "xaxis5": {
         "anchor": "y5",
         "domain": [
          0.7111111111111111,
          1
         ],
         "title": {
          "text": "Team Size"
         }
        },
        "yaxis": {
         "anchor": "x",
         "domain": [
          0.625,
          1
         ],
         "title": {
          "text": "Success Rate (%)"
         }
        },
        "yaxis2": {
         "anchor": "x2",
         "domain": [
          0.625,
          1
         ]
        },
        "yaxis3": {
         "anchor": "x3",
         "domain": [
          0,
          0.375
         ],
         "title": {
          "text": "# Companies"
         }
        },
        "yaxis4": {
         "anchor": "x4",
         "domain": [
          0,
          0.375
         ]
        },
        "yaxis5": {
         "anchor": "x5",
         "domain": [
          0,
          0.375
         ]
        }
       }
      }
     },
     "metadata": {},
     "output_type": "display_data"
    }
   ],
   "source": [
    "# Visual Dashboard\n",
    "fig = make_subplots(\n",
    "    rows=2, cols=3,\n",
    "    subplot_titles=(\n",
    "        'Company Status Distribution',\n",
    "        'Success Rate by Founder Count',\n",
    "        'Geographic Distribution',\n",
    "        'Batch Trends Over Time',\n",
    "        'Top 10 Industries',\n",
    "        'Team Size Distribution'\n",
    "    ),\n",
    "    specs=[\n",
    "        [{'type': 'pie'}, {'type': 'bar'}, {'type': 'bar'}],\n",
    "        [{'type': 'scatter'}, {'type': 'bar'}, {'type': 'histogram'}]\n",
    "    ]\n",
    ")\n",
    "\n",
    "# 1. Status Distribution (Pie)\n",
    "status_counts = df['success_category'].value_counts()\n",
    "fig.add_trace(\n",
    "    go.Pie(\n",
    "        labels=status_counts.index,\n",
    "        values=status_counts.values,\n",
    "        marker=dict(colors=[STATUS_COLORS.get(s, '#CCCCCC') for s in status_counts.index])\n",
    "    ),\n",
    "    row=1, col=1\n",
    ")\n",
    "\n",
    "# 2. Success by Founder Count\n",
    "success_by_founders = df.groupby('founder_type')['is_successful'].mean() * 100\n",
    "success_by_founders = success_by_founders.reindex(['Solo', 'Duo', 'Trio', '4+'])\n",
    "fig.add_trace(\n",
    "    go.Bar(x=success_by_founders.index, y=success_by_founders.values, marker_color='#0099FF'),\n",
    "    row=1, col=2\n",
    ")\n",
    "\n",
    "# 3. Top Countries\n",
    "top_countries = df['country'].value_counts().head(10)\n",
    "fig.add_trace(\n",
    "    go.Bar(x=top_countries.values, y=top_countries.index, orientation='h', marker_color='#00CC66'),\n",
    "    row=1, col=3\n",
    ")\n",
    "\n",
    "# 4. Batch Trends\n",
    "batch_trends = df.groupby('batch_year').size()\n",
    "fig.add_trace(\n",
    "    go.Scatter(x=batch_trends.index, y=batch_trends.values, mode='lines+markers', marker_color='#FF6600'),\n",
    "    row=2, col=1\n",
    ")\n",
    "\n",
    "# 5. Top Industries\n",
    "all_tags = [tag for tags in df['tags'].dropna() for tag in tags if isinstance(tags, list)]\n",
    "top_industries = pd.Series(all_tags).value_counts().head(10)\n",
    "fig.add_trace(\n",
    "    go.Bar(x=top_industries.values, y=top_industries.index, orientation='h', marker_color='#9933FF'),\n",
    "    row=2, col=2\n",
    ")\n",
    "\n",
    "# 6. Team Size Distribution\n",
    "fig.add_trace(\n",
    "    go.Histogram(x=df['team_size'].dropna(), nbinsx=30, marker_color='#FF9900'),\n",
    "    row=2, col=3\n",
    ")\n",
    "\n",
    "fig.update_layout(height=800, showlegend=False, title_text=\"YC Portfolio Dashboard\", title_x=0.5)\n",
    "fig.update_yaxes(title_text=\"Success Rate (%)\", row=1, col=2)\n",
    "fig.update_yaxes(title_text=\"# Companies\", row=2, col=1)\n",
    "fig.update_xaxes(title_text=\"Team Size\", row=2, col=3)\n",
    "\n",
    "fig.show()"
   ]
  },
  {
   "cell_type": "markdown",
   "metadata": {},
   "source": [
    "---\n",
    "## 3. Success Factor Analysis\n",
    "\n",
    "What predicts startup success? Deep correlation and pattern analysis."
   ]
  },
  {
   "cell_type": "code",
   "execution_count": 6,
   "metadata": {},
   "outputs": [
    {
     "name": "stdout",
     "output_type": "stream",
     "text": [
      "🎯 Analyzing success factors...\n",
      "\n",
      "⚠️  Note: All success analysis uses MATURE companies (≥3 years) to avoid survivorship bias.\n"
     ]
    }
   ],
   "source": [
    "# Success rate by various factors\n",
    "\n",
    "def analyze_success_factor(column, title, top_n=15, min_companies=20):\n",
    "    \"\"\"Analyze success rate for a given categorical column\n",
    "    \n",
    "    Note: Uses only mature companies (≥3 years old) to avoid survivorship bias.\n",
    "    \"\"\"\n",
    "    # Filter to mature companies only\n",
    "    mature_df = df[df['is_mature']].copy()\n",
    "    \n",
    "    success_analysis = mature_df.groupby(column).agg({\n",
    "        'is_successful': ['sum', 'mean', 'count']\n",
    "    }).round(3)\n",
    "    success_analysis.columns = ['Successful', 'Success_Rate', 'Total']\n",
    "    \n",
    "    # Increased minimum to 20 for statistical significance\n",
    "    success_analysis = success_analysis[success_analysis['Total'] >= min_companies]\n",
    "    success_analysis = success_analysis.sort_values('Success_Rate', ascending=False).head(top_n)\n",
    "    \n",
    "    # Plot\n",
    "    fig = go.Figure()\n",
    "    fig.add_trace(go.Bar(\n",
    "        y=success_analysis.index,\n",
    "        x=success_analysis['Success_Rate'] * 100,\n",
    "        orientation='h',\n",
    "        text=[f\"{val*100:.1f}% (n={count:.0f})\" \n",
    "              for val, count in zip(success_analysis['Success_Rate'], success_analysis['Total'])],\n",
    "        textposition='outside',\n",
    "        marker_color='#0099FF'\n",
    "    ))\n",
    "    \n",
    "    fig.update_layout(\n",
    "        title=f\"{title}<br><sub>Mature companies only (≥3 years old), min {min_companies} companies</sub>\",\n",
    "        xaxis_title='Success Rate (%)',\n",
    "        yaxis_title=column.replace('_', ' ').title(),\n",
    "        height=max(400, top_n * 30)\n",
    "    )\n",
    "    fig.show()\n",
    "    \n",
    "    return success_analysis\n",
    "\n",
    "print(\"🎯 Analyzing success factors...\\n\")\n",
    "print(\"⚠️  Note: All success analysis uses MATURE companies (≥3 years) to avoid survivorship bias.\")"
   ]
  },
  {
   "cell_type": "code",
   "execution_count": 7,
   "metadata": {},
   "outputs": [
    {
     "data": {
      "application/vnd.plotly.v1+json": {
       "config": {
        "plotlyServerURL": "https://plot.ly"
       },
       "data": [
        {
         "marker": {
          "color": "#0099FF"
         },
         "orientation": "h",
         "text": [
          "39.5% (n=38)",
          "36.7% (n=60)",
          "36.1% (n=36)",
          "33.3% (n=75)",
          "31.6% (n=117)",
          "22.1% (n=140)",
          "18.1% (n=188)",
          "17.7% (n=124)",
          "15.1% (n=391)",
          "12.5% (n=289)",
          "8.3% (n=708)",
          "5.8% (n=606)",
          "5.0% (n=218)",
          "0.0% (n=23)"
         ],
         "textposition": "outside",
         "type": "bar",
         "x": {
          "bdata": "AAAAAADAQ0CamZmZmVlCQM3MzMzMDEJAZ2ZmZmamQECamZmZmZk/QJqZmZmZGTZAmZmZmZkZMkAzMzMzM7MxQDMzMzMzMy5AAAAAAAAAKUCamZmZmZkgQDQzMzMzMxdAAAAAAAAAFEAAAAAAAAAAAA==",
          "dtype": "f8"
         },
         "y": {
          "bdata": "3QfcB9sH3gffB+EH4gfgB+QH4wflB+YH5wfoBw==",
          "dtype": "i2"
         }
        }
       ],
       "layout": {
        "height": 600,
        "template": {
         "data": {
          "bar": [
           {
            "error_x": {
             "color": "#2a3f5f"
            },
            "error_y": {
             "color": "#2a3f5f"
            },
            "marker": {
             "line": {
              "color": "#E5ECF6",
              "width": 0.5
             },
             "pattern": {
              "fillmode": "overlay",
              "size": 10,
              "solidity": 0.2
             }
            },
            "type": "bar"
           }
          ],
          "barpolar": [
           {
            "marker": {
             "line": {
              "color": "#E5ECF6",
              "width": 0.5
             },
             "pattern": {
              "fillmode": "overlay",
              "size": 10,
              "solidity": 0.2
             }
            },
            "type": "barpolar"
           }
          ],
          "carpet": [
           {
            "aaxis": {
             "endlinecolor": "#2a3f5f",
             "gridcolor": "white",
             "linecolor": "white",
             "minorgridcolor": "white",
             "startlinecolor": "#2a3f5f"
            },
            "baxis": {
             "endlinecolor": "#2a3f5f",
             "gridcolor": "white",
             "linecolor": "white",
             "minorgridcolor": "white",
             "startlinecolor": "#2a3f5f"
            },
            "type": "carpet"
           }
          ],
          "choropleth": [
           {
            "colorbar": {
             "outlinewidth": 0,
             "ticks": ""
            },
            "type": "choropleth"
           }
          ],
          "contour": [
           {
            "colorbar": {
             "outlinewidth": 0,
             "ticks": ""
            },
            "colorscale": [
             [
              0,
              "#0d0887"
             ],
             [
              0.1111111111111111,
              "#46039f"
             ],
             [
              0.2222222222222222,
              "#7201a8"
             ],
             [
              0.3333333333333333,
              "#9c179e"
             ],
             [
              0.4444444444444444,
              "#bd3786"
             ],
             [
              0.5555555555555556,
              "#d8576b"
             ],
             [
              0.6666666666666666,
              "#ed7953"
             ],
             [
              0.7777777777777778,
              "#fb9f3a"
             ],
             [
              0.8888888888888888,
              "#fdca26"
             ],
             [
              1,
              "#f0f921"
             ]
            ],
            "type": "contour"
           }
          ],
          "contourcarpet": [
           {
            "colorbar": {
             "outlinewidth": 0,
             "ticks": ""
            },
            "type": "contourcarpet"
           }
          ],
          "heatmap": [
           {
            "colorbar": {
             "outlinewidth": 0,
             "ticks": ""
            },
            "colorscale": [
             [
              0,
              "#0d0887"
             ],
             [
              0.1111111111111111,
              "#46039f"
             ],
             [
              0.2222222222222222,
              "#7201a8"
             ],
             [
              0.3333333333333333,
              "#9c179e"
             ],
             [
              0.4444444444444444,
              "#bd3786"
             ],
             [
              0.5555555555555556,
              "#d8576b"
             ],
             [
              0.6666666666666666,
              "#ed7953"
             ],
             [
              0.7777777777777778,
              "#fb9f3a"
             ],
             [
              0.8888888888888888,
              "#fdca26"
             ],
             [
              1,
              "#f0f921"
             ]
            ],
            "type": "heatmap"
           }
          ],
          "histogram": [
           {
            "marker": {
             "pattern": {
              "fillmode": "overlay",
              "size": 10,
              "solidity": 0.2
             }
            },
            "type": "histogram"
           }
          ],
          "histogram2d": [
           {
            "colorbar": {
             "outlinewidth": 0,
             "ticks": ""
            },
            "colorscale": [
             [
              0,
              "#0d0887"
             ],
             [
              0.1111111111111111,
              "#46039f"
             ],
             [
              0.2222222222222222,
              "#7201a8"
             ],
             [
              0.3333333333333333,
              "#9c179e"
             ],
             [
              0.4444444444444444,
              "#bd3786"
             ],
             [
              0.5555555555555556,
              "#d8576b"
             ],
             [
              0.6666666666666666,
              "#ed7953"
             ],
             [
              0.7777777777777778,
              "#fb9f3a"
             ],
             [
              0.8888888888888888,
              "#fdca26"
             ],
             [
              1,
              "#f0f921"
             ]
            ],
            "type": "histogram2d"
           }
          ],
          "histogram2dcontour": [
           {
            "colorbar": {
             "outlinewidth": 0,
             "ticks": ""
            },
            "colorscale": [
             [
              0,
              "#0d0887"
             ],
             [
              0.1111111111111111,
              "#46039f"
             ],
             [
              0.2222222222222222,
              "#7201a8"
             ],
             [
              0.3333333333333333,
              "#9c179e"
             ],
             [
              0.4444444444444444,
              "#bd3786"
             ],
             [
              0.5555555555555556,
              "#d8576b"
             ],
             [
              0.6666666666666666,
              "#ed7953"
             ],
             [
              0.7777777777777778,
              "#fb9f3a"
             ],
             [
              0.8888888888888888,
              "#fdca26"
             ],
             [
              1,
              "#f0f921"
             ]
            ],
            "type": "histogram2dcontour"
           }
          ],
          "mesh3d": [
           {
            "colorbar": {
             "outlinewidth": 0,
             "ticks": ""
            },
            "type": "mesh3d"
           }
          ],
          "parcoords": [
           {
            "line": {
             "colorbar": {
              "outlinewidth": 0,
              "ticks": ""
             }
            },
            "type": "parcoords"
           }
          ],
          "pie": [
           {
            "automargin": true,
            "type": "pie"
           }
          ],
          "scatter": [
           {
            "fillpattern": {
             "fillmode": "overlay",
             "size": 10,
             "solidity": 0.2
            },
            "type": "scatter"
           }
          ],
          "scatter3d": [
           {
            "line": {
             "colorbar": {
              "outlinewidth": 0,
              "ticks": ""
             }
            },
            "marker": {
             "colorbar": {
              "outlinewidth": 0,
              "ticks": ""
             }
            },
            "type": "scatter3d"
           }
          ],
          "scattercarpet": [
           {
            "marker": {
             "colorbar": {
              "outlinewidth": 0,
              "ticks": ""
             }
            },
            "type": "scattercarpet"
           }
          ],
          "scattergeo": [
           {
            "marker": {
             "colorbar": {
              "outlinewidth": 0,
              "ticks": ""
             }
            },
            "type": "scattergeo"
           }
          ],
          "scattergl": [
           {
            "marker": {
             "colorbar": {
              "outlinewidth": 0,
              "ticks": ""
             }
            },
            "type": "scattergl"
           }
          ],
          "scattermap": [
           {
            "marker": {
             "colorbar": {
              "outlinewidth": 0,
              "ticks": ""
             }
            },
            "type": "scattermap"
           }
          ],
          "scattermapbox": [
           {
            "marker": {
             "colorbar": {
              "outlinewidth": 0,
              "ticks": ""
             }
            },
            "type": "scattermapbox"
           }
          ],
          "scatterpolar": [
           {
            "marker": {
             "colorbar": {
              "outlinewidth": 0,
              "ticks": ""
             }
            },
            "type": "scatterpolar"
           }
          ],
          "scatterpolargl": [
           {
            "marker": {
             "colorbar": {
              "outlinewidth": 0,
              "ticks": ""
             }
            },
            "type": "scatterpolargl"
           }
          ],
          "scatterternary": [
           {
            "marker": {
             "colorbar": {
              "outlinewidth": 0,
              "ticks": ""
             }
            },
            "type": "scatterternary"
           }
          ],
          "surface": [
           {
            "colorbar": {
             "outlinewidth": 0,
             "ticks": ""
            },
            "colorscale": [
             [
              0,
              "#0d0887"
             ],
             [
              0.1111111111111111,
              "#46039f"
             ],
             [
              0.2222222222222222,
              "#7201a8"
             ],
             [
              0.3333333333333333,
              "#9c179e"
             ],
             [
              0.4444444444444444,
              "#bd3786"
             ],
             [
              0.5555555555555556,
              "#d8576b"
             ],
             [
              0.6666666666666666,
              "#ed7953"
             ],
             [
              0.7777777777777778,
              "#fb9f3a"
             ],
             [
              0.8888888888888888,
              "#fdca26"
             ],
             [
              1,
              "#f0f921"
             ]
            ],
            "type": "surface"
           }
          ],
          "table": [
           {
            "cells": {
             "fill": {
              "color": "#EBF0F8"
             },
             "line": {
              "color": "white"
             }
            },
            "header": {
             "fill": {
              "color": "#C8D4E3"
             },
             "line": {
              "color": "white"
             }
            },
            "type": "table"
           }
          ]
         },
         "layout": {
          "annotationdefaults": {
           "arrowcolor": "#2a3f5f",
           "arrowhead": 0,
           "arrowwidth": 1
          },
          "autotypenumbers": "strict",
          "coloraxis": {
           "colorbar": {
            "outlinewidth": 0,
            "ticks": ""
           }
          },
          "colorscale": {
           "diverging": [
            [
             0,
             "#8e0152"
            ],
            [
             0.1,
             "#c51b7d"
            ],
            [
             0.2,
             "#de77ae"
            ],
            [
             0.3,
             "#f1b6da"
            ],
            [
             0.4,
             "#fde0ef"
            ],
            [
             0.5,
             "#f7f7f7"
            ],
            [
             0.6,
             "#e6f5d0"
            ],
            [
             0.7,
             "#b8e186"
            ],
            [
             0.8,
             "#7fbc41"
            ],
            [
             0.9,
             "#4d9221"
            ],
            [
             1,
             "#276419"
            ]
           ],
           "sequential": [
            [
             0,
             "#0d0887"
            ],
            [
             0.1111111111111111,
             "#46039f"
            ],
            [
             0.2222222222222222,
             "#7201a8"
            ],
            [
             0.3333333333333333,
             "#9c179e"
            ],
            [
             0.4444444444444444,
             "#bd3786"
            ],
            [
             0.5555555555555556,
             "#d8576b"
            ],
            [
             0.6666666666666666,
             "#ed7953"
            ],
            [
             0.7777777777777778,
             "#fb9f3a"
            ],
            [
             0.8888888888888888,
             "#fdca26"
            ],
            [
             1,
             "#f0f921"
            ]
           ],
           "sequentialminus": [
            [
             0,
             "#0d0887"
            ],
            [
             0.1111111111111111,
             "#46039f"
            ],
            [
             0.2222222222222222,
             "#7201a8"
            ],
            [
             0.3333333333333333,
             "#9c179e"
            ],
            [
             0.4444444444444444,
             "#bd3786"
            ],
            [
             0.5555555555555556,
             "#d8576b"
            ],
            [
             0.6666666666666666,
             "#ed7953"
            ],
            [
             0.7777777777777778,
             "#fb9f3a"
            ],
            [
             0.8888888888888888,
             "#fdca26"
            ],
            [
             1,
             "#f0f921"
            ]
           ]
          },
          "colorway": [
           "#636efa",
           "#EF553B",
           "#00cc96",
           "#ab63fa",
           "#FFA15A",
           "#19d3f3",
           "#FF6692",
           "#B6E880",
           "#FF97FF",
           "#FECB52"
          ],
          "font": {
           "color": "#2a3f5f"
          },
          "geo": {
           "bgcolor": "white",
           "lakecolor": "white",
           "landcolor": "#E5ECF6",
           "showlakes": true,
           "showland": true,
           "subunitcolor": "white"
          },
          "hoverlabel": {
           "align": "left"
          },
          "hovermode": "closest",
          "mapbox": {
           "style": "light"
          },
          "paper_bgcolor": "white",
          "plot_bgcolor": "#E5ECF6",
          "polar": {
           "angularaxis": {
            "gridcolor": "white",
            "linecolor": "white",
            "ticks": ""
           },
           "bgcolor": "#E5ECF6",
           "radialaxis": {
            "gridcolor": "white",
            "linecolor": "white",
            "ticks": ""
           }
          },
          "scene": {
           "xaxis": {
            "backgroundcolor": "#E5ECF6",
            "gridcolor": "white",
            "gridwidth": 2,
            "linecolor": "white",
            "showbackground": true,
            "ticks": "",
            "zerolinecolor": "white"
           },
           "yaxis": {
            "backgroundcolor": "#E5ECF6",
            "gridcolor": "white",
            "gridwidth": 2,
            "linecolor": "white",
            "showbackground": true,
            "ticks": "",
            "zerolinecolor": "white"
           },
           "zaxis": {
            "backgroundcolor": "#E5ECF6",
            "gridcolor": "white",
            "gridwidth": 2,
            "linecolor": "white",
            "showbackground": true,
            "ticks": "",
            "zerolinecolor": "white"
           }
          },
          "shapedefaults": {
           "line": {
            "color": "#2a3f5f"
           }
          },
          "ternary": {
           "aaxis": {
            "gridcolor": "white",
            "linecolor": "white",
            "ticks": ""
           },
           "baxis": {
            "gridcolor": "white",
            "linecolor": "white",
            "ticks": ""
           },
           "bgcolor": "#E5ECF6",
           "caxis": {
            "gridcolor": "white",
            "linecolor": "white",
            "ticks": ""
           }
          },
          "title": {
           "x": 0.05
          },
          "xaxis": {
           "automargin": true,
           "gridcolor": "white",
           "linecolor": "white",
           "ticks": "",
           "title": {
            "standoff": 15
           },
           "zerolinecolor": "white",
           "zerolinewidth": 2
          },
          "yaxis": {
           "automargin": true,
           "gridcolor": "white",
           "linecolor": "white",
           "ticks": "",
           "title": {
            "standoff": 15
           },
           "zerolinecolor": "white",
           "zerolinewidth": 2
          }
         }
        },
        "title": {
         "text": "Success Rate by Batch Year<br><sub>Mature companies only (≥3 years old), min 20 companies</sub>"
        },
        "xaxis": {
         "title": {
          "text": "Success Rate (%)"
         }
        },
        "yaxis": {
         "title": {
          "text": "Batch Year"
         }
        }
       }
      }
     },
     "metadata": {},
     "output_type": "display_data"
    }
   ],
   "source": [
    "# 1. Success by Batch Year\n",
    "batch_success = analyze_success_factor('batch_year', 'Success Rate by Batch Year', top_n=20)"
   ]
  },
  {
   "cell_type": "code",
   "execution_count": 8,
   "metadata": {},
   "outputs": [
    {
     "data": {
      "application/vnd.plotly.v1+json": {
       "config": {
        "plotlyServerURL": "https://plot.ly"
       },
       "data": [
        {
         "marker": {
          "color": "#0099FF"
         },
         "orientation": "h",
         "text": [
          "31.8% (n=22)",
          "21.1% (n=38)",
          "20.0% (n=25)",
          "20.0% (n=40)",
          "19.6% (n=56)",
          "18.1% (n=866)",
          "16.3% (n=49)",
          "15.0% (n=20)",
          "14.6% (n=41)",
          "14.0% (n=86)",
          "13.6% (n=22)",
          "13.4% (n=320)",
          "10.7% (n=28)",
          "10.0% (n=40)",
          "9.4% (n=32)"
         ],
         "textposition": "outside",
         "type": "bar",
         "x": {
          "bdata": "zczMzMzMP0CZmZmZmRk1QAAAAAAAADRAAAAAAAAANECamZmZmZkzQJmZmZmZGTJAzczMzMxMMEAAAAAAAAAuQDMzMzMzMy1AAQAAAAAALEA0MzMzMzMrQM3MzMzMzCpAZmZmZmZmJUAAAAAAAAAkQM3MzMzMzCJA",
          "dtype": "f8"
         },
         "y": [
          "San Mateo, CA",
          "Mountain View",
          "San Jose, CA",
          "Boston",
          "Toronto, Canada",
          "San Francisco",
          "Palo Alto",
          "Atlanta, GA",
          "Paris, France",
          "Bengaluru, India",
          "Berlin, Germany",
          "New York",
          "Oakland, CA",
          "Singapore, Singapore",
          "São Paulo, Brazil"
         ]
        }
       ],
       "layout": {
        "height": 450,
        "template": {
         "data": {
          "bar": [
           {
            "error_x": {
             "color": "#2a3f5f"
            },
            "error_y": {
             "color": "#2a3f5f"
            },
            "marker": {
             "line": {
              "color": "#E5ECF6",
              "width": 0.5
             },
             "pattern": {
              "fillmode": "overlay",
              "size": 10,
              "solidity": 0.2
             }
            },
            "type": "bar"
           }
          ],
          "barpolar": [
           {
            "marker": {
             "line": {
              "color": "#E5ECF6",
              "width": 0.5
             },
             "pattern": {
              "fillmode": "overlay",
              "size": 10,
              "solidity": 0.2
             }
            },
            "type": "barpolar"
           }
          ],
          "carpet": [
           {
            "aaxis": {
             "endlinecolor": "#2a3f5f",
             "gridcolor": "white",
             "linecolor": "white",
             "minorgridcolor": "white",
             "startlinecolor": "#2a3f5f"
            },
            "baxis": {
             "endlinecolor": "#2a3f5f",
             "gridcolor": "white",
             "linecolor": "white",
             "minorgridcolor": "white",
             "startlinecolor": "#2a3f5f"
            },
            "type": "carpet"
           }
          ],
          "choropleth": [
           {
            "colorbar": {
             "outlinewidth": 0,
             "ticks": ""
            },
            "type": "choropleth"
           }
          ],
          "contour": [
           {
            "colorbar": {
             "outlinewidth": 0,
             "ticks": ""
            },
            "colorscale": [
             [
              0,
              "#0d0887"
             ],
             [
              0.1111111111111111,
              "#46039f"
             ],
             [
              0.2222222222222222,
              "#7201a8"
             ],
             [
              0.3333333333333333,
              "#9c179e"
             ],
             [
              0.4444444444444444,
              "#bd3786"
             ],
             [
              0.5555555555555556,
              "#d8576b"
             ],
             [
              0.6666666666666666,
              "#ed7953"
             ],
             [
              0.7777777777777778,
              "#fb9f3a"
             ],
             [
              0.8888888888888888,
              "#fdca26"
             ],
             [
              1,
              "#f0f921"
             ]
            ],
            "type": "contour"
           }
          ],
          "contourcarpet": [
           {
            "colorbar": {
             "outlinewidth": 0,
             "ticks": ""
            },
            "type": "contourcarpet"
           }
          ],
          "heatmap": [
           {
            "colorbar": {
             "outlinewidth": 0,
             "ticks": ""
            },
            "colorscale": [
             [
              0,
              "#0d0887"
             ],
             [
              0.1111111111111111,
              "#46039f"
             ],
             [
              0.2222222222222222,
              "#7201a8"
             ],
             [
              0.3333333333333333,
              "#9c179e"
             ],
             [
              0.4444444444444444,
              "#bd3786"
             ],
             [
              0.5555555555555556,
              "#d8576b"
             ],
             [
              0.6666666666666666,
              "#ed7953"
             ],
             [
              0.7777777777777778,
              "#fb9f3a"
             ],
             [
              0.8888888888888888,
              "#fdca26"
             ],
             [
              1,
              "#f0f921"
             ]
            ],
            "type": "heatmap"
           }
          ],
          "histogram": [
           {
            "marker": {
             "pattern": {
              "fillmode": "overlay",
              "size": 10,
              "solidity": 0.2
             }
            },
            "type": "histogram"
           }
          ],
          "histogram2d": [
           {
            "colorbar": {
             "outlinewidth": 0,
             "ticks": ""
            },
            "colorscale": [
             [
              0,
              "#0d0887"
             ],
             [
              0.1111111111111111,
              "#46039f"
             ],
             [
              0.2222222222222222,
              "#7201a8"
             ],
             [
              0.3333333333333333,
              "#9c179e"
             ],
             [
              0.4444444444444444,
              "#bd3786"
             ],
             [
              0.5555555555555556,
              "#d8576b"
             ],
             [
              0.6666666666666666,
              "#ed7953"
             ],
             [
              0.7777777777777778,
              "#fb9f3a"
             ],
             [
              0.8888888888888888,
              "#fdca26"
             ],
             [
              1,
              "#f0f921"
             ]
            ],
            "type": "histogram2d"
           }
          ],
          "histogram2dcontour": [
           {
            "colorbar": {
             "outlinewidth": 0,
             "ticks": ""
            },
            "colorscale": [
             [
              0,
              "#0d0887"
             ],
             [
              0.1111111111111111,
              "#46039f"
             ],
             [
              0.2222222222222222,
              "#7201a8"
             ],
             [
              0.3333333333333333,
              "#9c179e"
             ],
             [
              0.4444444444444444,
              "#bd3786"
             ],
             [
              0.5555555555555556,
              "#d8576b"
             ],
             [
              0.6666666666666666,
              "#ed7953"
             ],
             [
              0.7777777777777778,
              "#fb9f3a"
             ],
             [
              0.8888888888888888,
              "#fdca26"
             ],
             [
              1,
              "#f0f921"
             ]
            ],
            "type": "histogram2dcontour"
           }
          ],
          "mesh3d": [
           {
            "colorbar": {
             "outlinewidth": 0,
             "ticks": ""
            },
            "type": "mesh3d"
           }
          ],
          "parcoords": [
           {
            "line": {
             "colorbar": {
              "outlinewidth": 0,
              "ticks": ""
             }
            },
            "type": "parcoords"
           }
          ],
          "pie": [
           {
            "automargin": true,
            "type": "pie"
           }
          ],
          "scatter": [
           {
            "fillpattern": {
             "fillmode": "overlay",
             "size": 10,
             "solidity": 0.2
            },
            "type": "scatter"
           }
          ],
          "scatter3d": [
           {
            "line": {
             "colorbar": {
              "outlinewidth": 0,
              "ticks": ""
             }
            },
            "marker": {
             "colorbar": {
              "outlinewidth": 0,
              "ticks": ""
             }
            },
            "type": "scatter3d"
           }
          ],
          "scattercarpet": [
           {
            "marker": {
             "colorbar": {
              "outlinewidth": 0,
              "ticks": ""
             }
            },
            "type": "scattercarpet"
           }
          ],
          "scattergeo": [
           {
            "marker": {
             "colorbar": {
              "outlinewidth": 0,
              "ticks": ""
             }
            },
            "type": "scattergeo"
           }
          ],
          "scattergl": [
           {
            "marker": {
             "colorbar": {
              "outlinewidth": 0,
              "ticks": ""
             }
            },
            "type": "scattergl"
           }
          ],
          "scattermap": [
           {
            "marker": {
             "colorbar": {
              "outlinewidth": 0,
              "ticks": ""
             }
            },
            "type": "scattermap"
           }
          ],
          "scattermapbox": [
           {
            "marker": {
             "colorbar": {
              "outlinewidth": 0,
              "ticks": ""
             }
            },
            "type": "scattermapbox"
           }
          ],
          "scatterpolar": [
           {
            "marker": {
             "colorbar": {
              "outlinewidth": 0,
              "ticks": ""
             }
            },
            "type": "scatterpolar"
           }
          ],
          "scatterpolargl": [
           {
            "marker": {
             "colorbar": {
              "outlinewidth": 0,
              "ticks": ""
             }
            },
            "type": "scatterpolargl"
           }
          ],
          "scatterternary": [
           {
            "marker": {
             "colorbar": {
              "outlinewidth": 0,
              "ticks": ""
             }
            },
            "type": "scatterternary"
           }
          ],
          "surface": [
           {
            "colorbar": {
             "outlinewidth": 0,
             "ticks": ""
            },
            "colorscale": [
             [
              0,
              "#0d0887"
             ],
             [
              0.1111111111111111,
              "#46039f"
             ],
             [
              0.2222222222222222,
              "#7201a8"
             ],
             [
              0.3333333333333333,
              "#9c179e"
             ],
             [
              0.4444444444444444,
              "#bd3786"
             ],
             [
              0.5555555555555556,
              "#d8576b"
             ],
             [
              0.6666666666666666,
              "#ed7953"
             ],
             [
              0.7777777777777778,
              "#fb9f3a"
             ],
             [
              0.8888888888888888,
              "#fdca26"
             ],
             [
              1,
              "#f0f921"
             ]
            ],
            "type": "surface"
           }
          ],
          "table": [
           {
            "cells": {
             "fill": {
              "color": "#EBF0F8"
             },
             "line": {
              "color": "white"
             }
            },
            "header": {
             "fill": {
              "color": "#C8D4E3"
             },
             "line": {
              "color": "white"
             }
            },
            "type": "table"
           }
          ]
         },
         "layout": {
          "annotationdefaults": {
           "arrowcolor": "#2a3f5f",
           "arrowhead": 0,
           "arrowwidth": 1
          },
          "autotypenumbers": "strict",
          "coloraxis": {
           "colorbar": {
            "outlinewidth": 0,
            "ticks": ""
           }
          },
          "colorscale": {
           "diverging": [
            [
             0,
             "#8e0152"
            ],
            [
             0.1,
             "#c51b7d"
            ],
            [
             0.2,
             "#de77ae"
            ],
            [
             0.3,
             "#f1b6da"
            ],
            [
             0.4,
             "#fde0ef"
            ],
            [
             0.5,
             "#f7f7f7"
            ],
            [
             0.6,
             "#e6f5d0"
            ],
            [
             0.7,
             "#b8e186"
            ],
            [
             0.8,
             "#7fbc41"
            ],
            [
             0.9,
             "#4d9221"
            ],
            [
             1,
             "#276419"
            ]
           ],
           "sequential": [
            [
             0,
             "#0d0887"
            ],
            [
             0.1111111111111111,
             "#46039f"
            ],
            [
             0.2222222222222222,
             "#7201a8"
            ],
            [
             0.3333333333333333,
             "#9c179e"
            ],
            [
             0.4444444444444444,
             "#bd3786"
            ],
            [
             0.5555555555555556,
             "#d8576b"
            ],
            [
             0.6666666666666666,
             "#ed7953"
            ],
            [
             0.7777777777777778,
             "#fb9f3a"
            ],
            [
             0.8888888888888888,
             "#fdca26"
            ],
            [
             1,
             "#f0f921"
            ]
           ],
           "sequentialminus": [
            [
             0,
             "#0d0887"
            ],
            [
             0.1111111111111111,
             "#46039f"
            ],
            [
             0.2222222222222222,
             "#7201a8"
            ],
            [
             0.3333333333333333,
             "#9c179e"
            ],
            [
             0.4444444444444444,
             "#bd3786"
            ],
            [
             0.5555555555555556,
             "#d8576b"
            ],
            [
             0.6666666666666666,
             "#ed7953"
            ],
            [
             0.7777777777777778,
             "#fb9f3a"
            ],
            [
             0.8888888888888888,
             "#fdca26"
            ],
            [
             1,
             "#f0f921"
            ]
           ]
          },
          "colorway": [
           "#636efa",
           "#EF553B",
           "#00cc96",
           "#ab63fa",
           "#FFA15A",
           "#19d3f3",
           "#FF6692",
           "#B6E880",
           "#FF97FF",
           "#FECB52"
          ],
          "font": {
           "color": "#2a3f5f"
          },
          "geo": {
           "bgcolor": "white",
           "lakecolor": "white",
           "landcolor": "#E5ECF6",
           "showlakes": true,
           "showland": true,
           "subunitcolor": "white"
          },
          "hoverlabel": {
           "align": "left"
          },
          "hovermode": "closest",
          "mapbox": {
           "style": "light"
          },
          "paper_bgcolor": "white",
          "plot_bgcolor": "#E5ECF6",
          "polar": {
           "angularaxis": {
            "gridcolor": "white",
            "linecolor": "white",
            "ticks": ""
           },
           "bgcolor": "#E5ECF6",
           "radialaxis": {
            "gridcolor": "white",
            "linecolor": "white",
            "ticks": ""
           }
          },
          "scene": {
           "xaxis": {
            "backgroundcolor": "#E5ECF6",
            "gridcolor": "white",
            "gridwidth": 2,
            "linecolor": "white",
            "showbackground": true,
            "ticks": "",
            "zerolinecolor": "white"
           },
           "yaxis": {
            "backgroundcolor": "#E5ECF6",
            "gridcolor": "white",
            "gridwidth": 2,
            "linecolor": "white",
            "showbackground": true,
            "ticks": "",
            "zerolinecolor": "white"
           },
           "zaxis": {
            "backgroundcolor": "#E5ECF6",
            "gridcolor": "white",
            "gridwidth": 2,
            "linecolor": "white",
            "showbackground": true,
            "ticks": "",
            "zerolinecolor": "white"
           }
          },
          "shapedefaults": {
           "line": {
            "color": "#2a3f5f"
           }
          },
          "ternary": {
           "aaxis": {
            "gridcolor": "white",
            "linecolor": "white",
            "ticks": ""
           },
           "baxis": {
            "gridcolor": "white",
            "linecolor": "white",
            "ticks": ""
           },
           "bgcolor": "#E5ECF6",
           "caxis": {
            "gridcolor": "white",
            "linecolor": "white",
            "ticks": ""
           }
          },
          "title": {
           "x": 0.05
          },
          "xaxis": {
           "automargin": true,
           "gridcolor": "white",
           "linecolor": "white",
           "ticks": "",
           "title": {
            "standoff": 15
           },
           "zerolinecolor": "white",
           "zerolinewidth": 2
          },
          "yaxis": {
           "automargin": true,
           "gridcolor": "white",
           "linecolor": "white",
           "ticks": "",
           "title": {
            "standoff": 15
           },
           "zerolinecolor": "white",
           "zerolinewidth": 2
          }
         }
        },
        "title": {
         "text": "Success Rate by Location (Top 15 Cities)<br><sub>Mature companies only (≥3 years old), min 20 companies</sub>"
        },
        "xaxis": {
         "title": {
          "text": "Success Rate (%)"
         }
        },
        "yaxis": {
         "title": {
          "text": "Location"
         }
        }
       }
      }
     },
     "metadata": {},
     "output_type": "display_data"
    }
   ],
   "source": [
    "# 2. Success by Location (Top Cities)\n",
    "location_success = analyze_success_factor('location', 'Success Rate by Location (Top 15 Cities)', top_n=15)"
   ]
  },
  {
   "cell_type": "code",
   "execution_count": 9,
   "metadata": {},
   "outputs": [
    {
     "data": {
      "application/vnd.plotly.v1+json": {
       "config": {
        "plotlyServerURL": "https://plot.ly"
       },
       "data": [
        {
         "marker": {
          "color": [
           "#00CC66",
           "#00CC66",
           "#00CC66",
           "#FF3333"
          ]
         },
         "orientation": "h",
         "type": "bar",
         "x": {
          "bdata": "2lO3Ps1Izz8hnH94fzqrP0sUs3LVo6E/RYZTkLHivL8=",
          "dtype": "f8"
         },
         "y": [
          "company_age",
          "team_size",
          "num_founders",
          "num_tags"
         ]
        }
       ],
       "layout": {
        "height": 300,
        "template": {
         "data": {
          "bar": [
           {
            "error_x": {
             "color": "#2a3f5f"
            },
            "error_y": {
             "color": "#2a3f5f"
            },
            "marker": {
             "line": {
              "color": "#E5ECF6",
              "width": 0.5
             },
             "pattern": {
              "fillmode": "overlay",
              "size": 10,
              "solidity": 0.2
             }
            },
            "type": "bar"
           }
          ],
          "barpolar": [
           {
            "marker": {
             "line": {
              "color": "#E5ECF6",
              "width": 0.5
             },
             "pattern": {
              "fillmode": "overlay",
              "size": 10,
              "solidity": 0.2
             }
            },
            "type": "barpolar"
           }
          ],
          "carpet": [
           {
            "aaxis": {
             "endlinecolor": "#2a3f5f",
             "gridcolor": "white",
             "linecolor": "white",
             "minorgridcolor": "white",
             "startlinecolor": "#2a3f5f"
            },
            "baxis": {
             "endlinecolor": "#2a3f5f",
             "gridcolor": "white",
             "linecolor": "white",
             "minorgridcolor": "white",
             "startlinecolor": "#2a3f5f"
            },
            "type": "carpet"
           }
          ],
          "choropleth": [
           {
            "colorbar": {
             "outlinewidth": 0,
             "ticks": ""
            },
            "type": "choropleth"
           }
          ],
          "contour": [
           {
            "colorbar": {
             "outlinewidth": 0,
             "ticks": ""
            },
            "colorscale": [
             [
              0,
              "#0d0887"
             ],
             [
              0.1111111111111111,
              "#46039f"
             ],
             [
              0.2222222222222222,
              "#7201a8"
             ],
             [
              0.3333333333333333,
              "#9c179e"
             ],
             [
              0.4444444444444444,
              "#bd3786"
             ],
             [
              0.5555555555555556,
              "#d8576b"
             ],
             [
              0.6666666666666666,
              "#ed7953"
             ],
             [
              0.7777777777777778,
              "#fb9f3a"
             ],
             [
              0.8888888888888888,
              "#fdca26"
             ],
             [
              1,
              "#f0f921"
             ]
            ],
            "type": "contour"
           }
          ],
          "contourcarpet": [
           {
            "colorbar": {
             "outlinewidth": 0,
             "ticks": ""
            },
            "type": "contourcarpet"
           }
          ],
          "heatmap": [
           {
            "colorbar": {
             "outlinewidth": 0,
             "ticks": ""
            },
            "colorscale": [
             [
              0,
              "#0d0887"
             ],
             [
              0.1111111111111111,
              "#46039f"
             ],
             [
              0.2222222222222222,
              "#7201a8"
             ],
             [
              0.3333333333333333,
              "#9c179e"
             ],
             [
              0.4444444444444444,
              "#bd3786"
             ],
             [
              0.5555555555555556,
              "#d8576b"
             ],
             [
              0.6666666666666666,
              "#ed7953"
             ],
             [
              0.7777777777777778,
              "#fb9f3a"
             ],
             [
              0.8888888888888888,
              "#fdca26"
             ],
             [
              1,
              "#f0f921"
             ]
            ],
            "type": "heatmap"
           }
          ],
          "histogram": [
           {
            "marker": {
             "pattern": {
              "fillmode": "overlay",
              "size": 10,
              "solidity": 0.2
             }
            },
            "type": "histogram"
           }
          ],
          "histogram2d": [
           {
            "colorbar": {
             "outlinewidth": 0,
             "ticks": ""
            },
            "colorscale": [
             [
              0,
              "#0d0887"
             ],
             [
              0.1111111111111111,
              "#46039f"
             ],
             [
              0.2222222222222222,
              "#7201a8"
             ],
             [
              0.3333333333333333,
              "#9c179e"
             ],
             [
              0.4444444444444444,
              "#bd3786"
             ],
             [
              0.5555555555555556,
              "#d8576b"
             ],
             [
              0.6666666666666666,
              "#ed7953"
             ],
             [
              0.7777777777777778,
              "#fb9f3a"
             ],
             [
              0.8888888888888888,
              "#fdca26"
             ],
             [
              1,
              "#f0f921"
             ]
            ],
            "type": "histogram2d"
           }
          ],
          "histogram2dcontour": [
           {
            "colorbar": {
             "outlinewidth": 0,
             "ticks": ""
            },
            "colorscale": [
             [
              0,
              "#0d0887"
             ],
             [
              0.1111111111111111,
              "#46039f"
             ],
             [
              0.2222222222222222,
              "#7201a8"
             ],
             [
              0.3333333333333333,
              "#9c179e"
             ],
             [
              0.4444444444444444,
              "#bd3786"
             ],
             [
              0.5555555555555556,
              "#d8576b"
             ],
             [
              0.6666666666666666,
              "#ed7953"
             ],
             [
              0.7777777777777778,
              "#fb9f3a"
             ],
             [
              0.8888888888888888,
              "#fdca26"
             ],
             [
              1,
              "#f0f921"
             ]
            ],
            "type": "histogram2dcontour"
           }
          ],
          "mesh3d": [
           {
            "colorbar": {
             "outlinewidth": 0,
             "ticks": ""
            },
            "type": "mesh3d"
           }
          ],
          "parcoords": [
           {
            "line": {
             "colorbar": {
              "outlinewidth": 0,
              "ticks": ""
             }
            },
            "type": "parcoords"
           }
          ],
          "pie": [
           {
            "automargin": true,
            "type": "pie"
           }
          ],
          "scatter": [
           {
            "fillpattern": {
             "fillmode": "overlay",
             "size": 10,
             "solidity": 0.2
            },
            "type": "scatter"
           }
          ],
          "scatter3d": [
           {
            "line": {
             "colorbar": {
              "outlinewidth": 0,
              "ticks": ""
             }
            },
            "marker": {
             "colorbar": {
              "outlinewidth": 0,
              "ticks": ""
             }
            },
            "type": "scatter3d"
           }
          ],
          "scattercarpet": [
           {
            "marker": {
             "colorbar": {
              "outlinewidth": 0,
              "ticks": ""
             }
            },
            "type": "scattercarpet"
           }
          ],
          "scattergeo": [
           {
            "marker": {
             "colorbar": {
              "outlinewidth": 0,
              "ticks": ""
             }
            },
            "type": "scattergeo"
           }
          ],
          "scattergl": [
           {
            "marker": {
             "colorbar": {
              "outlinewidth": 0,
              "ticks": ""
             }
            },
            "type": "scattergl"
           }
          ],
          "scattermap": [
           {
            "marker": {
             "colorbar": {
              "outlinewidth": 0,
              "ticks": ""
             }
            },
            "type": "scattermap"
           }
          ],
          "scattermapbox": [
           {
            "marker": {
             "colorbar": {
              "outlinewidth": 0,
              "ticks": ""
             }
            },
            "type": "scattermapbox"
           }
          ],
          "scatterpolar": [
           {
            "marker": {
             "colorbar": {
              "outlinewidth": 0,
              "ticks": ""
             }
            },
            "type": "scatterpolar"
           }
          ],
          "scatterpolargl": [
           {
            "marker": {
             "colorbar": {
              "outlinewidth": 0,
              "ticks": ""
             }
            },
            "type": "scatterpolargl"
           }
          ],
          "scatterternary": [
           {
            "marker": {
             "colorbar": {
              "outlinewidth": 0,
              "ticks": ""
             }
            },
            "type": "scatterternary"
           }
          ],
          "surface": [
           {
            "colorbar": {
             "outlinewidth": 0,
             "ticks": ""
            },
            "colorscale": [
             [
              0,
              "#0d0887"
             ],
             [
              0.1111111111111111,
              "#46039f"
             ],
             [
              0.2222222222222222,
              "#7201a8"
             ],
             [
              0.3333333333333333,
              "#9c179e"
             ],
             [
              0.4444444444444444,
              "#bd3786"
             ],
             [
              0.5555555555555556,
              "#d8576b"
             ],
             [
              0.6666666666666666,
              "#ed7953"
             ],
             [
              0.7777777777777778,
              "#fb9f3a"
             ],
             [
              0.8888888888888888,
              "#fdca26"
             ],
             [
              1,
              "#f0f921"
             ]
            ],
            "type": "surface"
           }
          ],
          "table": [
           {
            "cells": {
             "fill": {
              "color": "#EBF0F8"
             },
             "line": {
              "color": "white"
             }
            },
            "header": {
             "fill": {
              "color": "#C8D4E3"
             },
             "line": {
              "color": "white"
             }
            },
            "type": "table"
           }
          ]
         },
         "layout": {
          "annotationdefaults": {
           "arrowcolor": "#2a3f5f",
           "arrowhead": 0,
           "arrowwidth": 1
          },
          "autotypenumbers": "strict",
          "coloraxis": {
           "colorbar": {
            "outlinewidth": 0,
            "ticks": ""
           }
          },
          "colorscale": {
           "diverging": [
            [
             0,
             "#8e0152"
            ],
            [
             0.1,
             "#c51b7d"
            ],
            [
             0.2,
             "#de77ae"
            ],
            [
             0.3,
             "#f1b6da"
            ],
            [
             0.4,
             "#fde0ef"
            ],
            [
             0.5,
             "#f7f7f7"
            ],
            [
             0.6,
             "#e6f5d0"
            ],
            [
             0.7,
             "#b8e186"
            ],
            [
             0.8,
             "#7fbc41"
            ],
            [
             0.9,
             "#4d9221"
            ],
            [
             1,
             "#276419"
            ]
           ],
           "sequential": [
            [
             0,
             "#0d0887"
            ],
            [
             0.1111111111111111,
             "#46039f"
            ],
            [
             0.2222222222222222,
             "#7201a8"
            ],
            [
             0.3333333333333333,
             "#9c179e"
            ],
            [
             0.4444444444444444,
             "#bd3786"
            ],
            [
             0.5555555555555556,
             "#d8576b"
            ],
            [
             0.6666666666666666,
             "#ed7953"
            ],
            [
             0.7777777777777778,
             "#fb9f3a"
            ],
            [
             0.8888888888888888,
             "#fdca26"
            ],
            [
             1,
             "#f0f921"
            ]
           ],
           "sequentialminus": [
            [
             0,
             "#0d0887"
            ],
            [
             0.1111111111111111,
             "#46039f"
            ],
            [
             0.2222222222222222,
             "#7201a8"
            ],
            [
             0.3333333333333333,
             "#9c179e"
            ],
            [
             0.4444444444444444,
             "#bd3786"
            ],
            [
             0.5555555555555556,
             "#d8576b"
            ],
            [
             0.6666666666666666,
             "#ed7953"
            ],
            [
             0.7777777777777778,
             "#fb9f3a"
            ],
            [
             0.8888888888888888,
             "#fdca26"
            ],
            [
             1,
             "#f0f921"
            ]
           ]
          },
          "colorway": [
           "#636efa",
           "#EF553B",
           "#00cc96",
           "#ab63fa",
           "#FFA15A",
           "#19d3f3",
           "#FF6692",
           "#B6E880",
           "#FF97FF",
           "#FECB52"
          ],
          "font": {
           "color": "#2a3f5f"
          },
          "geo": {
           "bgcolor": "white",
           "lakecolor": "white",
           "landcolor": "#E5ECF6",
           "showlakes": true,
           "showland": true,
           "subunitcolor": "white"
          },
          "hoverlabel": {
           "align": "left"
          },
          "hovermode": "closest",
          "mapbox": {
           "style": "light"
          },
          "paper_bgcolor": "white",
          "plot_bgcolor": "#E5ECF6",
          "polar": {
           "angularaxis": {
            "gridcolor": "white",
            "linecolor": "white",
            "ticks": ""
           },
           "bgcolor": "#E5ECF6",
           "radialaxis": {
            "gridcolor": "white",
            "linecolor": "white",
            "ticks": ""
           }
          },
          "scene": {
           "xaxis": {
            "backgroundcolor": "#E5ECF6",
            "gridcolor": "white",
            "gridwidth": 2,
            "linecolor": "white",
            "showbackground": true,
            "ticks": "",
            "zerolinecolor": "white"
           },
           "yaxis": {
            "backgroundcolor": "#E5ECF6",
            "gridcolor": "white",
            "gridwidth": 2,
            "linecolor": "white",
            "showbackground": true,
            "ticks": "",
            "zerolinecolor": "white"
           },
           "zaxis": {
            "backgroundcolor": "#E5ECF6",
            "gridcolor": "white",
            "gridwidth": 2,
            "linecolor": "white",
            "showbackground": true,
            "ticks": "",
            "zerolinecolor": "white"
           }
          },
          "shapedefaults": {
           "line": {
            "color": "#2a3f5f"
           }
          },
          "ternary": {
           "aaxis": {
            "gridcolor": "white",
            "linecolor": "white",
            "ticks": ""
           },
           "baxis": {
            "gridcolor": "white",
            "linecolor": "white",
            "ticks": ""
           },
           "bgcolor": "#E5ECF6",
           "caxis": {
            "gridcolor": "white",
            "linecolor": "white",
            "ticks": ""
           }
          },
          "title": {
           "x": 0.05
          },
          "xaxis": {
           "automargin": true,
           "gridcolor": "white",
           "linecolor": "white",
           "ticks": "",
           "title": {
            "standoff": 15
           },
           "zerolinecolor": "white",
           "zerolinewidth": 2
          },
          "yaxis": {
           "automargin": true,
           "gridcolor": "white",
           "linecolor": "white",
           "ticks": "",
           "title": {
            "standoff": 15
           },
           "zerolinecolor": "white",
           "zerolinewidth": 2
          }
         }
        },
        "title": {
         "text": "Feature Correlation with Success (Public/Acquired)<br><sub>Pearson correlation - association only, not causation</sub>"
        },
        "xaxis": {
         "title": {
          "text": "Correlation Coefficient"
         }
        }
       }
      }
     },
     "metadata": {},
     "output_type": "display_data"
    },
    {
     "name": "stdout",
     "output_type": "stream",
     "text": [
      "\n",
      "📊 Correlation Insights:\n",
      "⚠️  Important: Correlation ≠ Causation. These show association, not cause and effect.\n",
      "\n",
      "  • company_age: moderately positively associated (0.244)\n",
      "  • team_size: weakly positively associated (0.053)\n",
      "  • num_founders: weakly positively associated (0.034)\n",
      "  • num_tags: moderately negatively associated (-0.113)\n"
     ]
    }
   ],
   "source": [
    "# 3. Correlation Analysis\n",
    "# Numeric features correlation with success\n",
    "\n",
    "numeric_features = ['num_founders', 'team_size', 'company_age', 'num_tags']\n",
    "correlations = []\n",
    "\n",
    "# Use mature companies only\n",
    "mature_df = df[df['is_mature']].copy()\n",
    "\n",
    "for feature in numeric_features:\n",
    "    if feature in mature_df.columns:\n",
    "        corr = mature_df[[feature, 'is_successful']].dropna().corr().iloc[0, 1]\n",
    "        correlations.append({'Feature': feature, 'Correlation': corr})\n",
    "\n",
    "corr_df = pd.DataFrame(correlations).sort_values('Correlation', ascending=False)\n",
    "\n",
    "fig = go.Figure(go.Bar(\n",
    "    x=corr_df['Correlation'],\n",
    "    y=corr_df['Feature'],\n",
    "    orientation='h',\n",
    "    marker_color=['#00CC66' if x > 0 else '#FF3333' for x in corr_df['Correlation']]\n",
    "))\n",
    "\n",
    "fig.update_layout(\n",
    "    title='Feature Correlation with Success (Public/Acquired)<br><sub>Pearson correlation - association only, not causation</sub>',\n",
    "    xaxis_title='Correlation Coefficient',\n",
    "    height=300\n",
    ")\n",
    "fig.show()\n",
    "\n",
    "print(\"\\n📊 Correlation Insights:\")\n",
    "print(\"⚠️  Important: Correlation ≠ Causation. These show association, not cause and effect.\\n\")\n",
    "for _, row in corr_df.iterrows():\n",
    "    direction = \"positively\" if row['Correlation'] > 0 else \"negatively\"\n",
    "    strength = \"strongly\" if abs(row['Correlation']) > 0.3 else (\"moderately\" if abs(row['Correlation']) > 0.1 else \"weakly\")\n",
    "    print(f\"  • {row['Feature']}: {strength} {direction} associated ({row['Correlation']:.3f})\")"
   ]
  },
  {
   "cell_type": "code",
   "execution_count": 10,
   "metadata": {},
   "outputs": [
    {
     "data": {
      "application/vnd.plotly.v1+json": {
       "config": {
        "plotlyServerURL": "https://plot.ly"
       },
       "data": [
        {
         "marker": {
          "color": "#9933FF"
         },
         "text": [
          "6.0%<br>(n=134)",
          "9.6%<br>(n=2276)",
          "11.9%<br>(n=816)",
          "19.6%<br>(n=776)",
          "13.1%<br>(n=604)",
          "20.5%<br>(n=317)",
          "16.9%<br>(n=308)",
          "33.3%<br>(n=33)"
         ],
         "textposition": "outside",
         "type": "bar",
         "x": [
          "(0, 1]",
          "(1, 5]",
          "(5, 10]",
          "(10, 20]",
          "(20, 50]",
          "(50, 100]",
          "(100, 1000]",
          "(1000, 10000]"
         ],
         "y": {
          "bdata": "SA9Uzm7hF0Dz+1CsiT4jQEZGRkZGxidAKJFp2G6WM0DBomBRsCgqQAkZdRs2gTRAUIiz8hPiMECqqqqqqqpAQA==",
          "dtype": "f8"
         }
        }
       ],
       "layout": {
        "height": 400,
        "template": {
         "data": {
          "bar": [
           {
            "error_x": {
             "color": "#2a3f5f"
            },
            "error_y": {
             "color": "#2a3f5f"
            },
            "marker": {
             "line": {
              "color": "#E5ECF6",
              "width": 0.5
             },
             "pattern": {
              "fillmode": "overlay",
              "size": 10,
              "solidity": 0.2
             }
            },
            "type": "bar"
           }
          ],
          "barpolar": [
           {
            "marker": {
             "line": {
              "color": "#E5ECF6",
              "width": 0.5
             },
             "pattern": {
              "fillmode": "overlay",
              "size": 10,
              "solidity": 0.2
             }
            },
            "type": "barpolar"
           }
          ],
          "carpet": [
           {
            "aaxis": {
             "endlinecolor": "#2a3f5f",
             "gridcolor": "white",
             "linecolor": "white",
             "minorgridcolor": "white",
             "startlinecolor": "#2a3f5f"
            },
            "baxis": {
             "endlinecolor": "#2a3f5f",
             "gridcolor": "white",
             "linecolor": "white",
             "minorgridcolor": "white",
             "startlinecolor": "#2a3f5f"
            },
            "type": "carpet"
           }
          ],
          "choropleth": [
           {
            "colorbar": {
             "outlinewidth": 0,
             "ticks": ""
            },
            "type": "choropleth"
           }
          ],
          "contour": [
           {
            "colorbar": {
             "outlinewidth": 0,
             "ticks": ""
            },
            "colorscale": [
             [
              0,
              "#0d0887"
             ],
             [
              0.1111111111111111,
              "#46039f"
             ],
             [
              0.2222222222222222,
              "#7201a8"
             ],
             [
              0.3333333333333333,
              "#9c179e"
             ],
             [
              0.4444444444444444,
              "#bd3786"
             ],
             [
              0.5555555555555556,
              "#d8576b"
             ],
             [
              0.6666666666666666,
              "#ed7953"
             ],
             [
              0.7777777777777778,
              "#fb9f3a"
             ],
             [
              0.8888888888888888,
              "#fdca26"
             ],
             [
              1,
              "#f0f921"
             ]
            ],
            "type": "contour"
           }
          ],
          "contourcarpet": [
           {
            "colorbar": {
             "outlinewidth": 0,
             "ticks": ""
            },
            "type": "contourcarpet"
           }
          ],
          "heatmap": [
           {
            "colorbar": {
             "outlinewidth": 0,
             "ticks": ""
            },
            "colorscale": [
             [
              0,
              "#0d0887"
             ],
             [
              0.1111111111111111,
              "#46039f"
             ],
             [
              0.2222222222222222,
              "#7201a8"
             ],
             [
              0.3333333333333333,
              "#9c179e"
             ],
             [
              0.4444444444444444,
              "#bd3786"
             ],
             [
              0.5555555555555556,
              "#d8576b"
             ],
             [
              0.6666666666666666,
              "#ed7953"
             ],
             [
              0.7777777777777778,
              "#fb9f3a"
             ],
             [
              0.8888888888888888,
              "#fdca26"
             ],
             [
              1,
              "#f0f921"
             ]
            ],
            "type": "heatmap"
           }
          ],
          "histogram": [
           {
            "marker": {
             "pattern": {
              "fillmode": "overlay",
              "size": 10,
              "solidity": 0.2
             }
            },
            "type": "histogram"
           }
          ],
          "histogram2d": [
           {
            "colorbar": {
             "outlinewidth": 0,
             "ticks": ""
            },
            "colorscale": [
             [
              0,
              "#0d0887"
             ],
             [
              0.1111111111111111,
              "#46039f"
             ],
             [
              0.2222222222222222,
              "#7201a8"
             ],
             [
              0.3333333333333333,
              "#9c179e"
             ],
             [
              0.4444444444444444,
              "#bd3786"
             ],
             [
              0.5555555555555556,
              "#d8576b"
             ],
             [
              0.6666666666666666,
              "#ed7953"
             ],
             [
              0.7777777777777778,
              "#fb9f3a"
             ],
             [
              0.8888888888888888,
              "#fdca26"
             ],
             [
              1,
              "#f0f921"
             ]
            ],
            "type": "histogram2d"
           }
          ],
          "histogram2dcontour": [
           {
            "colorbar": {
             "outlinewidth": 0,
             "ticks": ""
            },
            "colorscale": [
             [
              0,
              "#0d0887"
             ],
             [
              0.1111111111111111,
              "#46039f"
             ],
             [
              0.2222222222222222,
              "#7201a8"
             ],
             [
              0.3333333333333333,
              "#9c179e"
             ],
             [
              0.4444444444444444,
              "#bd3786"
             ],
             [
              0.5555555555555556,
              "#d8576b"
             ],
             [
              0.6666666666666666,
              "#ed7953"
             ],
             [
              0.7777777777777778,
              "#fb9f3a"
             ],
             [
              0.8888888888888888,
              "#fdca26"
             ],
             [
              1,
              "#f0f921"
             ]
            ],
            "type": "histogram2dcontour"
           }
          ],
          "mesh3d": [
           {
            "colorbar": {
             "outlinewidth": 0,
             "ticks": ""
            },
            "type": "mesh3d"
           }
          ],
          "parcoords": [
           {
            "line": {
             "colorbar": {
              "outlinewidth": 0,
              "ticks": ""
             }
            },
            "type": "parcoords"
           }
          ],
          "pie": [
           {
            "automargin": true,
            "type": "pie"
           }
          ],
          "scatter": [
           {
            "fillpattern": {
             "fillmode": "overlay",
             "size": 10,
             "solidity": 0.2
            },
            "type": "scatter"
           }
          ],
          "scatter3d": [
           {
            "line": {
             "colorbar": {
              "outlinewidth": 0,
              "ticks": ""
             }
            },
            "marker": {
             "colorbar": {
              "outlinewidth": 0,
              "ticks": ""
             }
            },
            "type": "scatter3d"
           }
          ],
          "scattercarpet": [
           {
            "marker": {
             "colorbar": {
              "outlinewidth": 0,
              "ticks": ""
             }
            },
            "type": "scattercarpet"
           }
          ],
          "scattergeo": [
           {
            "marker": {
             "colorbar": {
              "outlinewidth": 0,
              "ticks": ""
             }
            },
            "type": "scattergeo"
           }
          ],
          "scattergl": [
           {
            "marker": {
             "colorbar": {
              "outlinewidth": 0,
              "ticks": ""
             }
            },
            "type": "scattergl"
           }
          ],
          "scattermap": [
           {
            "marker": {
             "colorbar": {
              "outlinewidth": 0,
              "ticks": ""
             }
            },
            "type": "scattermap"
           }
          ],
          "scattermapbox": [
           {
            "marker": {
             "colorbar": {
              "outlinewidth": 0,
              "ticks": ""
             }
            },
            "type": "scattermapbox"
           }
          ],
          "scatterpolar": [
           {
            "marker": {
             "colorbar": {
              "outlinewidth": 0,
              "ticks": ""
             }
            },
            "type": "scatterpolar"
           }
          ],
          "scatterpolargl": [
           {
            "marker": {
             "colorbar": {
              "outlinewidth": 0,
              "ticks": ""
             }
            },
            "type": "scatterpolargl"
           }
          ],
          "scatterternary": [
           {
            "marker": {
             "colorbar": {
              "outlinewidth": 0,
              "ticks": ""
             }
            },
            "type": "scatterternary"
           }
          ],
          "surface": [
           {
            "colorbar": {
             "outlinewidth": 0,
             "ticks": ""
            },
            "colorscale": [
             [
              0,
              "#0d0887"
             ],
             [
              0.1111111111111111,
              "#46039f"
             ],
             [
              0.2222222222222222,
              "#7201a8"
             ],
             [
              0.3333333333333333,
              "#9c179e"
             ],
             [
              0.4444444444444444,
              "#bd3786"
             ],
             [
              0.5555555555555556,
              "#d8576b"
             ],
             [
              0.6666666666666666,
              "#ed7953"
             ],
             [
              0.7777777777777778,
              "#fb9f3a"
             ],
             [
              0.8888888888888888,
              "#fdca26"
             ],
             [
              1,
              "#f0f921"
             ]
            ],
            "type": "surface"
           }
          ],
          "table": [
           {
            "cells": {
             "fill": {
              "color": "#EBF0F8"
             },
             "line": {
              "color": "white"
             }
            },
            "header": {
             "fill": {
              "color": "#C8D4E3"
             },
             "line": {
              "color": "white"
             }
            },
            "type": "table"
           }
          ]
         },
         "layout": {
          "annotationdefaults": {
           "arrowcolor": "#2a3f5f",
           "arrowhead": 0,
           "arrowwidth": 1
          },
          "autotypenumbers": "strict",
          "coloraxis": {
           "colorbar": {
            "outlinewidth": 0,
            "ticks": ""
           }
          },
          "colorscale": {
           "diverging": [
            [
             0,
             "#8e0152"
            ],
            [
             0.1,
             "#c51b7d"
            ],
            [
             0.2,
             "#de77ae"
            ],
            [
             0.3,
             "#f1b6da"
            ],
            [
             0.4,
             "#fde0ef"
            ],
            [
             0.5,
             "#f7f7f7"
            ],
            [
             0.6,
             "#e6f5d0"
            ],
            [
             0.7,
             "#b8e186"
            ],
            [
             0.8,
             "#7fbc41"
            ],
            [
             0.9,
             "#4d9221"
            ],
            [
             1,
             "#276419"
            ]
           ],
           "sequential": [
            [
             0,
             "#0d0887"
            ],
            [
             0.1111111111111111,
             "#46039f"
            ],
            [
             0.2222222222222222,
             "#7201a8"
            ],
            [
             0.3333333333333333,
             "#9c179e"
            ],
            [
             0.4444444444444444,
             "#bd3786"
            ],
            [
             0.5555555555555556,
             "#d8576b"
            ],
            [
             0.6666666666666666,
             "#ed7953"
            ],
            [
             0.7777777777777778,
             "#fb9f3a"
            ],
            [
             0.8888888888888888,
             "#fdca26"
            ],
            [
             1,
             "#f0f921"
            ]
           ],
           "sequentialminus": [
            [
             0,
             "#0d0887"
            ],
            [
             0.1111111111111111,
             "#46039f"
            ],
            [
             0.2222222222222222,
             "#7201a8"
            ],
            [
             0.3333333333333333,
             "#9c179e"
            ],
            [
             0.4444444444444444,
             "#bd3786"
            ],
            [
             0.5555555555555556,
             "#d8576b"
            ],
            [
             0.6666666666666666,
             "#ed7953"
            ],
            [
             0.7777777777777778,
             "#fb9f3a"
            ],
            [
             0.8888888888888888,
             "#fdca26"
            ],
            [
             1,
             "#f0f921"
            ]
           ]
          },
          "colorway": [
           "#636efa",
           "#EF553B",
           "#00cc96",
           "#ab63fa",
           "#FFA15A",
           "#19d3f3",
           "#FF6692",
           "#B6E880",
           "#FF97FF",
           "#FECB52"
          ],
          "font": {
           "color": "#2a3f5f"
          },
          "geo": {
           "bgcolor": "white",
           "lakecolor": "white",
           "landcolor": "#E5ECF6",
           "showlakes": true,
           "showland": true,
           "subunitcolor": "white"
          },
          "hoverlabel": {
           "align": "left"
          },
          "hovermode": "closest",
          "mapbox": {
           "style": "light"
          },
          "paper_bgcolor": "white",
          "plot_bgcolor": "#E5ECF6",
          "polar": {
           "angularaxis": {
            "gridcolor": "white",
            "linecolor": "white",
            "ticks": ""
           },
           "bgcolor": "#E5ECF6",
           "radialaxis": {
            "gridcolor": "white",
            "linecolor": "white",
            "ticks": ""
           }
          },
          "scene": {
           "xaxis": {
            "backgroundcolor": "#E5ECF6",
            "gridcolor": "white",
            "gridwidth": 2,
            "linecolor": "white",
            "showbackground": true,
            "ticks": "",
            "zerolinecolor": "white"
           },
           "yaxis": {
            "backgroundcolor": "#E5ECF6",
            "gridcolor": "white",
            "gridwidth": 2,
            "linecolor": "white",
            "showbackground": true,
            "ticks": "",
            "zerolinecolor": "white"
           },
           "zaxis": {
            "backgroundcolor": "#E5ECF6",
            "gridcolor": "white",
            "gridwidth": 2,
            "linecolor": "white",
            "showbackground": true,
            "ticks": "",
            "zerolinecolor": "white"
           }
          },
          "shapedefaults": {
           "line": {
            "color": "#2a3f5f"
           }
          },
          "ternary": {
           "aaxis": {
            "gridcolor": "white",
            "linecolor": "white",
            "ticks": ""
           },
           "baxis": {
            "gridcolor": "white",
            "linecolor": "white",
            "ticks": ""
           },
           "bgcolor": "#E5ECF6",
           "caxis": {
            "gridcolor": "white",
            "linecolor": "white",
            "ticks": ""
           }
          },
          "title": {
           "x": 0.05
          },
          "xaxis": {
           "automargin": true,
           "gridcolor": "white",
           "linecolor": "white",
           "ticks": "",
           "title": {
            "standoff": 15
           },
           "zerolinecolor": "white",
           "zerolinewidth": 2
          },
          "yaxis": {
           "automargin": true,
           "gridcolor": "white",
           "linecolor": "white",
           "ticks": "",
           "title": {
            "standoff": 15
           },
           "zerolinecolor": "white",
           "zerolinewidth": 2
          }
         }
        },
        "title": {
         "text": "Success Rate by Team Size Range"
        },
        "xaxis": {
         "title": {
          "text": "Team Size"
         }
        },
        "yaxis": {
         "title": {
          "text": "Success Rate (%)"
         }
        }
       }
      }
     },
     "metadata": {},
     "output_type": "display_data"
    }
   ],
   "source": [
    "# 4. Team Size vs Success (Scatter)\n",
    "team_size_bins = pd.cut(df['team_size'].dropna(), bins=[0, 1, 5, 10, 20, 50, 100, 1000, 10000])\n",
    "team_success = df.groupby(team_size_bins)['is_successful'].agg(['mean', 'count'])\n",
    "team_success = team_success[team_success['count'] >= 10]\n",
    "\n",
    "fig = go.Figure()\n",
    "fig.add_trace(go.Bar(\n",
    "    x=[str(x) for x in team_success.index],\n",
    "    y=team_success['mean'] * 100,\n",
    "    text=[f\"{val*100:.1f}%<br>(n={count:.0f})\" for val, count in zip(team_success['mean'], team_success['count'])],\n",
    "    textposition='outside',\n",
    "    marker_color='#9933FF'\n",
    "))\n",
    "\n",
    "fig.update_layout(\n",
    "    title='Success Rate by Team Size Range',\n",
    "    xaxis_title='Team Size',\n",
    "    yaxis_title='Success Rate (%)',\n",
    "    height=400\n",
    ")\n",
    "fig.show()"
   ]
  },
  {
   "cell_type": "markdown",
   "metadata": {},
   "source": [
    "---\n",
    "## 4. Deep Solo Founder Analysis\n",
    "\n",
    "Comprehensive analysis of solo vs team-founded companies"
   ]
  },
  {
   "cell_type": "code",
   "execution_count": 11,
   "metadata": {},
   "outputs": [
    {
     "name": "stdout",
     "output_type": "stream",
     "text": [
      "\n",
      "════════════════════════════════════════════════════════════════════════════════\n",
      "  SOLO vs TEAM FOUNDERS: HEAD-TO-HEAD COMPARISON\n",
      "════════════════════════════════════════════════════════════════════════════════\n",
      "                 Metric  Solo Founders  Team Founders  Difference\n",
      "        Total Companies        1423.00        4040.00     2617.00\n",
      "       Success Rate (%)          13.49          12.92       -0.57\n",
      "          Avg Team Size          46.48          50.08        3.60\n",
      "Avg Company Age (years)           5.49           4.58       -0.92\n",
      "        SF Bay Area (%)          41.04          39.33       -1.71\n",
      "         AI-related (%)          27.55          33.91        6.36\n",
      "                B2B (%)          16.16          20.79        4.63\n",
      "       Has LinkedIn (%)          61.07          75.27       14.20\n",
      "     Has Grown Team (%)          87.98          69.46      -18.53\n",
      "════════════════════════════════════════════════════════════════════════════════\n"
     ]
    }
   ],
   "source": [
    "# Solo vs Team Comparison\n",
    "solo_df = df[df['is_solo']].copy()\n",
    "team_df = df[~df['is_solo']].copy()\n",
    "\n",
    "comparison = pd.DataFrame({\n",
    "    'Metric': [\n",
    "        'Total Companies',\n",
    "        'Success Rate (%)',\n",
    "        'Avg Team Size',\n",
    "        'Avg Company Age (years)',\n",
    "        'SF Bay Area (%)',\n",
    "        'AI-related (%)',\n",
    "        'B2B (%)',\n",
    "        'Has LinkedIn (%)',\n",
    "        'Has Grown Team (%)'\n",
    "    ],\n",
    "    'Solo Founders': [\n",
    "        len(solo_df),\n",
    "        solo_df['is_successful'].mean() * 100,\n",
    "        solo_df['team_size'].mean(),\n",
    "        solo_df['company_age'].mean(),\n",
    "        solo_df['is_sf_bay'].mean() * 100,\n",
    "        solo_df['is_ai'].mean() * 100,\n",
    "        solo_df['is_b2b'].mean() * 100,\n",
    "        solo_df['has_linkedin'].mean() * 100,\n",
    "        solo_df['has_grown'].mean() * 100\n",
    "    ],\n",
    "    'Team Founders': [\n",
    "        len(team_df),\n",
    "        team_df['is_successful'].mean() * 100,\n",
    "        team_df['team_size'].mean(),\n",
    "        team_df['company_age'].mean(),\n",
    "        team_df['is_sf_bay'].mean() * 100,\n",
    "        team_df['is_ai'].mean() * 100,\n",
    "        team_df['is_b2b'].mean() * 100,\n",
    "        team_df['has_linkedin'].mean() * 100,\n",
    "        team_df['has_grown'].mean() * 100\n",
    "    ]\n",
    "})\n",
    "\n",
    "comparison['Difference'] = comparison['Team Founders'] - comparison['Solo Founders']\n",
    "comparison = comparison.round(2)\n",
    "\n",
    "print(\"\\n\" + \"═\" * 80)\n",
    "print(\"  SOLO vs TEAM FOUNDERS: HEAD-TO-HEAD COMPARISON\")\n",
    "print(\"═\" * 80)\n",
    "print(comparison.to_string(index=False))\n",
    "print(\"═\" * 80)"
   ]
  },
  {
   "cell_type": "code",
   "execution_count": 12,
   "metadata": {},
   "outputs": [
    {
     "data": {
      "application/vnd.plotly.v1+json": {
       "config": {
        "plotlyServerURL": "https://plot.ly"
       },
       "data": [
        {
         "marker": {
          "color": "#FF6600"
         },
         "orientation": "h",
         "text": [
          "23.9% (46 cos)",
          "20.0% (45 cos)",
          "19.4% (36 cos)",
          "19.2% (26 cos)",
          "18.5% (27 cos)",
          "12.9% (31 cos)",
          "12.5% (40 cos)",
          "12.1% (33 cos)",
          "12.0% (83 cos)",
          "11.5% (26 cos)",
          "11.3% (53 cos)",
          "9.8% (254 cos)",
          "9.3% (129 cos)",
          "9.1% (143 cos)",
          "9.1% (33 cos)"
         ],
         "textposition": "outside",
         "type": "bar",
         "x": {
          "bdata": "3/SmN73pN0AAAAAAAAA0QB3HcRzHcTNAshM7sRM7M0BMaC+hvYQyQM4555xzzilAAAAAAAAAKUA++OCDDz4oQPRrD7msGChAO7ETO7ETJ0CD8Vb2OaQmQOz1er1eryNAp6wpa8qaIkAvuuiiiy4iQC+66KKLLiJA",
          "dtype": "f8"
         },
         "y": [
          "analytics",
          "education",
          "productivity",
          "security",
          "gaming",
          "hardware",
          "open-source",
          "logistics",
          "marketplace",
          "payments",
          "e-commerce",
          "saas",
          "developer-tools",
          "fintech",
          "biotech"
         ]
        }
       ],
       "layout": {
        "height": 500,
        "template": {
         "data": {
          "bar": [
           {
            "error_x": {
             "color": "#2a3f5f"
            },
            "error_y": {
             "color": "#2a3f5f"
            },
            "marker": {
             "line": {
              "color": "#E5ECF6",
              "width": 0.5
             },
             "pattern": {
              "fillmode": "overlay",
              "size": 10,
              "solidity": 0.2
             }
            },
            "type": "bar"
           }
          ],
          "barpolar": [
           {
            "marker": {
             "line": {
              "color": "#E5ECF6",
              "width": 0.5
             },
             "pattern": {
              "fillmode": "overlay",
              "size": 10,
              "solidity": 0.2
             }
            },
            "type": "barpolar"
           }
          ],
          "carpet": [
           {
            "aaxis": {
             "endlinecolor": "#2a3f5f",
             "gridcolor": "white",
             "linecolor": "white",
             "minorgridcolor": "white",
             "startlinecolor": "#2a3f5f"
            },
            "baxis": {
             "endlinecolor": "#2a3f5f",
             "gridcolor": "white",
             "linecolor": "white",
             "minorgridcolor": "white",
             "startlinecolor": "#2a3f5f"
            },
            "type": "carpet"
           }
          ],
          "choropleth": [
           {
            "colorbar": {
             "outlinewidth": 0,
             "ticks": ""
            },
            "type": "choropleth"
           }
          ],
          "contour": [
           {
            "colorbar": {
             "outlinewidth": 0,
             "ticks": ""
            },
            "colorscale": [
             [
              0,
              "#0d0887"
             ],
             [
              0.1111111111111111,
              "#46039f"
             ],
             [
              0.2222222222222222,
              "#7201a8"
             ],
             [
              0.3333333333333333,
              "#9c179e"
             ],
             [
              0.4444444444444444,
              "#bd3786"
             ],
             [
              0.5555555555555556,
              "#d8576b"
             ],
             [
              0.6666666666666666,
              "#ed7953"
             ],
             [
              0.7777777777777778,
              "#fb9f3a"
             ],
             [
              0.8888888888888888,
              "#fdca26"
             ],
             [
              1,
              "#f0f921"
             ]
            ],
            "type": "contour"
           }
          ],
          "contourcarpet": [
           {
            "colorbar": {
             "outlinewidth": 0,
             "ticks": ""
            },
            "type": "contourcarpet"
           }
          ],
          "heatmap": [
           {
            "colorbar": {
             "outlinewidth": 0,
             "ticks": ""
            },
            "colorscale": [
             [
              0,
              "#0d0887"
             ],
             [
              0.1111111111111111,
              "#46039f"
             ],
             [
              0.2222222222222222,
              "#7201a8"
             ],
             [
              0.3333333333333333,
              "#9c179e"
             ],
             [
              0.4444444444444444,
              "#bd3786"
             ],
             [
              0.5555555555555556,
              "#d8576b"
             ],
             [
              0.6666666666666666,
              "#ed7953"
             ],
             [
              0.7777777777777778,
              "#fb9f3a"
             ],
             [
              0.8888888888888888,
              "#fdca26"
             ],
             [
              1,
              "#f0f921"
             ]
            ],
            "type": "heatmap"
           }
          ],
          "histogram": [
           {
            "marker": {
             "pattern": {
              "fillmode": "overlay",
              "size": 10,
              "solidity": 0.2
             }
            },
            "type": "histogram"
           }
          ],
          "histogram2d": [
           {
            "colorbar": {
             "outlinewidth": 0,
             "ticks": ""
            },
            "colorscale": [
             [
              0,
              "#0d0887"
             ],
             [
              0.1111111111111111,
              "#46039f"
             ],
             [
              0.2222222222222222,
              "#7201a8"
             ],
             [
              0.3333333333333333,
              "#9c179e"
             ],
             [
              0.4444444444444444,
              "#bd3786"
             ],
             [
              0.5555555555555556,
              "#d8576b"
             ],
             [
              0.6666666666666666,
              "#ed7953"
             ],
             [
              0.7777777777777778,
              "#fb9f3a"
             ],
             [
              0.8888888888888888,
              "#fdca26"
             ],
             [
              1,
              "#f0f921"
             ]
            ],
            "type": "histogram2d"
           }
          ],
          "histogram2dcontour": [
           {
            "colorbar": {
             "outlinewidth": 0,
             "ticks": ""
            },
            "colorscale": [
             [
              0,
              "#0d0887"
             ],
             [
              0.1111111111111111,
              "#46039f"
             ],
             [
              0.2222222222222222,
              "#7201a8"
             ],
             [
              0.3333333333333333,
              "#9c179e"
             ],
             [
              0.4444444444444444,
              "#bd3786"
             ],
             [
              0.5555555555555556,
              "#d8576b"
             ],
             [
              0.6666666666666666,
              "#ed7953"
             ],
             [
              0.7777777777777778,
              "#fb9f3a"
             ],
             [
              0.8888888888888888,
              "#fdca26"
             ],
             [
              1,
              "#f0f921"
             ]
            ],
            "type": "histogram2dcontour"
           }
          ],
          "mesh3d": [
           {
            "colorbar": {
             "outlinewidth": 0,
             "ticks": ""
            },
            "type": "mesh3d"
           }
          ],
          "parcoords": [
           {
            "line": {
             "colorbar": {
              "outlinewidth": 0,
              "ticks": ""
             }
            },
            "type": "parcoords"
           }
          ],
          "pie": [
           {
            "automargin": true,
            "type": "pie"
           }
          ],
          "scatter": [
           {
            "fillpattern": {
             "fillmode": "overlay",
             "size": 10,
             "solidity": 0.2
            },
            "type": "scatter"
           }
          ],
          "scatter3d": [
           {
            "line": {
             "colorbar": {
              "outlinewidth": 0,
              "ticks": ""
             }
            },
            "marker": {
             "colorbar": {
              "outlinewidth": 0,
              "ticks": ""
             }
            },
            "type": "scatter3d"
           }
          ],
          "scattercarpet": [
           {
            "marker": {
             "colorbar": {
              "outlinewidth": 0,
              "ticks": ""
             }
            },
            "type": "scattercarpet"
           }
          ],
          "scattergeo": [
           {
            "marker": {
             "colorbar": {
              "outlinewidth": 0,
              "ticks": ""
             }
            },
            "type": "scattergeo"
           }
          ],
          "scattergl": [
           {
            "marker": {
             "colorbar": {
              "outlinewidth": 0,
              "ticks": ""
             }
            },
            "type": "scattergl"
           }
          ],
          "scattermap": [
           {
            "marker": {
             "colorbar": {
              "outlinewidth": 0,
              "ticks": ""
             }
            },
            "type": "scattermap"
           }
          ],
          "scattermapbox": [
           {
            "marker": {
             "colorbar": {
              "outlinewidth": 0,
              "ticks": ""
             }
            },
            "type": "scattermapbox"
           }
          ],
          "scatterpolar": [
           {
            "marker": {
             "colorbar": {
              "outlinewidth": 0,
              "ticks": ""
             }
            },
            "type": "scatterpolar"
           }
          ],
          "scatterpolargl": [
           {
            "marker": {
             "colorbar": {
              "outlinewidth": 0,
              "ticks": ""
             }
            },
            "type": "scatterpolargl"
           }
          ],
          "scatterternary": [
           {
            "marker": {
             "colorbar": {
              "outlinewidth": 0,
              "ticks": ""
             }
            },
            "type": "scatterternary"
           }
          ],
          "surface": [
           {
            "colorbar": {
             "outlinewidth": 0,
             "ticks": ""
            },
            "colorscale": [
             [
              0,
              "#0d0887"
             ],
             [
              0.1111111111111111,
              "#46039f"
             ],
             [
              0.2222222222222222,
              "#7201a8"
             ],
             [
              0.3333333333333333,
              "#9c179e"
             ],
             [
              0.4444444444444444,
              "#bd3786"
             ],
             [
              0.5555555555555556,
              "#d8576b"
             ],
             [
              0.6666666666666666,
              "#ed7953"
             ],
             [
              0.7777777777777778,
              "#fb9f3a"
             ],
             [
              0.8888888888888888,
              "#fdca26"
             ],
             [
              1,
              "#f0f921"
             ]
            ],
            "type": "surface"
           }
          ],
          "table": [
           {
            "cells": {
             "fill": {
              "color": "#EBF0F8"
             },
             "line": {
              "color": "white"
             }
            },
            "header": {
             "fill": {
              "color": "#C8D4E3"
             },
             "line": {
              "color": "white"
             }
            },
            "type": "table"
           }
          ]
         },
         "layout": {
          "annotationdefaults": {
           "arrowcolor": "#2a3f5f",
           "arrowhead": 0,
           "arrowwidth": 1
          },
          "autotypenumbers": "strict",
          "coloraxis": {
           "colorbar": {
            "outlinewidth": 0,
            "ticks": ""
           }
          },
          "colorscale": {
           "diverging": [
            [
             0,
             "#8e0152"
            ],
            [
             0.1,
             "#c51b7d"
            ],
            [
             0.2,
             "#de77ae"
            ],
            [
             0.3,
             "#f1b6da"
            ],
            [
             0.4,
             "#fde0ef"
            ],
            [
             0.5,
             "#f7f7f7"
            ],
            [
             0.6,
             "#e6f5d0"
            ],
            [
             0.7,
             "#b8e186"
            ],
            [
             0.8,
             "#7fbc41"
            ],
            [
             0.9,
             "#4d9221"
            ],
            [
             1,
             "#276419"
            ]
           ],
           "sequential": [
            [
             0,
             "#0d0887"
            ],
            [
             0.1111111111111111,
             "#46039f"
            ],
            [
             0.2222222222222222,
             "#7201a8"
            ],
            [
             0.3333333333333333,
             "#9c179e"
            ],
            [
             0.4444444444444444,
             "#bd3786"
            ],
            [
             0.5555555555555556,
             "#d8576b"
            ],
            [
             0.6666666666666666,
             "#ed7953"
            ],
            [
             0.7777777777777778,
             "#fb9f3a"
            ],
            [
             0.8888888888888888,
             "#fdca26"
            ],
            [
             1,
             "#f0f921"
            ]
           ],
           "sequentialminus": [
            [
             0,
             "#0d0887"
            ],
            [
             0.1111111111111111,
             "#46039f"
            ],
            [
             0.2222222222222222,
             "#7201a8"
            ],
            [
             0.3333333333333333,
             "#9c179e"
            ],
            [
             0.4444444444444444,
             "#bd3786"
            ],
            [
             0.5555555555555556,
             "#d8576b"
            ],
            [
             0.6666666666666666,
             "#ed7953"
            ],
            [
             0.7777777777777778,
             "#fb9f3a"
            ],
            [
             0.8888888888888888,
             "#fdca26"
            ],
            [
             1,
             "#f0f921"
            ]
           ]
          },
          "colorway": [
           "#636efa",
           "#EF553B",
           "#00cc96",
           "#ab63fa",
           "#FFA15A",
           "#19d3f3",
           "#FF6692",
           "#B6E880",
           "#FF97FF",
           "#FECB52"
          ],
          "font": {
           "color": "#2a3f5f"
          },
          "geo": {
           "bgcolor": "white",
           "lakecolor": "white",
           "landcolor": "#E5ECF6",
           "showlakes": true,
           "showland": true,
           "subunitcolor": "white"
          },
          "hoverlabel": {
           "align": "left"
          },
          "hovermode": "closest",
          "mapbox": {
           "style": "light"
          },
          "paper_bgcolor": "white",
          "plot_bgcolor": "#E5ECF6",
          "polar": {
           "angularaxis": {
            "gridcolor": "white",
            "linecolor": "white",
            "ticks": ""
           },
           "bgcolor": "#E5ECF6",
           "radialaxis": {
            "gridcolor": "white",
            "linecolor": "white",
            "ticks": ""
           }
          },
          "scene": {
           "xaxis": {
            "backgroundcolor": "#E5ECF6",
            "gridcolor": "white",
            "gridwidth": 2,
            "linecolor": "white",
            "showbackground": true,
            "ticks": "",
            "zerolinecolor": "white"
           },
           "yaxis": {
            "backgroundcolor": "#E5ECF6",
            "gridcolor": "white",
            "gridwidth": 2,
            "linecolor": "white",
            "showbackground": true,
            "ticks": "",
            "zerolinecolor": "white"
           },
           "zaxis": {
            "backgroundcolor": "#E5ECF6",
            "gridcolor": "white",
            "gridwidth": 2,
            "linecolor": "white",
            "showbackground": true,
            "ticks": "",
            "zerolinecolor": "white"
           }
          },
          "shapedefaults": {
           "line": {
            "color": "#2a3f5f"
           }
          },
          "ternary": {
           "aaxis": {
            "gridcolor": "white",
            "linecolor": "white",
            "ticks": ""
           },
           "baxis": {
            "gridcolor": "white",
            "linecolor": "white",
            "ticks": ""
           },
           "bgcolor": "#E5ECF6",
           "caxis": {
            "gridcolor": "white",
            "linecolor": "white",
            "ticks": ""
           }
          },
          "title": {
           "x": 0.05
          },
          "xaxis": {
           "automargin": true,
           "gridcolor": "white",
           "linecolor": "white",
           "ticks": "",
           "title": {
            "standoff": 15
           },
           "zerolinecolor": "white",
           "zerolinewidth": 2
          },
          "yaxis": {
           "automargin": true,
           "gridcolor": "white",
           "linecolor": "white",
           "ticks": "",
           "title": {
            "standoff": 15
           },
           "zerolinecolor": "white",
           "zerolinewidth": 2
          }
         }
        },
        "title": {
         "text": "Top 15 Industries for Solo Founders by Success Rate"
        },
        "xaxis": {
         "title": {
          "text": "Success Rate (%)"
         }
        },
        "yaxis": {
         "title": {
          "text": "Industry"
         }
        }
       }
      }
     },
     "metadata": {},
     "output_type": "display_data"
    }
   ],
   "source": [
    "# Top Industries for Solo Founders (by success rate)\n",
    "solo_tags = [tag for tags in solo_df['tags'].dropna() for tag in tags if isinstance(tags, list)]\n",
    "solo_tag_counts = pd.Series(solo_tags).value_counts()\n",
    "\n",
    "# Calculate success rate per industry for solo founders\n",
    "industry_success = {}\n",
    "for tag in solo_tag_counts.head(30).index:\n",
    "    companies_with_tag = solo_df[solo_df['tags'].apply(\n",
    "        lambda x: tag in x if isinstance(x, list) else False\n",
    "    )]\n",
    "    if len(companies_with_tag) >= 5:\n",
    "        success_rate = companies_with_tag['is_successful'].mean()\n",
    "        industry_success[tag] = {\n",
    "            'success_rate': success_rate,\n",
    "            'count': len(companies_with_tag),\n",
    "            'successful': companies_with_tag['is_successful'].sum()\n",
    "        }\n",
    "\n",
    "industry_df = pd.DataFrame(industry_success).T.sort_values('success_rate', ascending=False).head(15)\n",
    "\n",
    "fig = go.Figure()\n",
    "fig.add_trace(go.Bar(\n",
    "    y=industry_df.index,\n",
    "    x=industry_df['success_rate'] * 100,\n",
    "    orientation='h',\n",
    "    text=[f\"{val*100:.1f}% ({count:.0f} cos)\" \n",
    "          for val, count in zip(industry_df['success_rate'], industry_df['count'])],\n",
    "    textposition='outside',\n",
    "    marker_color='#FF6600'\n",
    "))\n",
    "\n",
    "fig.update_layout(\n",
    "    title='Top 15 Industries for Solo Founders by Success Rate',\n",
    "    xaxis_title='Success Rate (%)',\n",
    "    yaxis_title='Industry',\n",
    "    height=500\n",
    ")\n",
    "fig.show()"
   ]
  },
  {
   "cell_type": "code",
   "execution_count": 13,
   "metadata": {},
   "outputs": [
    {
     "data": {
      "application/vnd.plotly.v1+json": {
       "config": {
        "plotlyServerURL": "https://plot.ly"
       },
       "data": [
        {
         "marker": {
          "color": "#0099FF"
         },
         "name": "# Solo Founders",
         "type": "bar",
         "x": {
          "bdata": "1QfWB9cH2AfZB9oH2wfcB90H3gffB+AH4QfiB+MH5AflB+YH5wfoB+kH",
          "dtype": "i2"
         },
         "xaxis": "x",
         "y": {
          "bdata": "BAAOAAgADQAIABYAIQAqACwAPQBMAE8AWQBqAHgAdwCfAJcAaABvADwA",
          "dtype": "i2"
         },
         "yaxis": "y"
        },
        {
         "line": {
          "width": 3
         },
         "marker": {
          "color": "#FF3333"
         },
         "mode": "lines+markers",
         "name": "% Solo",
         "type": "scatter",
         "x": {
          "bdata": "1QfWB9cH2AfZB9oH2wfcB90H3gffB+AH4QfiB+MH5AflB+YH5wfoB+kH",
          "dtype": "i2"
         },
         "xaxis": "x",
         "y": {
          "bdata": "juM4juM4RkAdx3Ecx3FTQAAAAAAAADlAjrgj7og7PkDDMAzDMAwzQF3XdV3XdUFA27Zt27ZtP0DaPWx9GzA8QJ2Cl1PwckZADuU1lNcQREB7Ce0ltJdBQCVJkiRJokFAkfh2kPh2QkBDm/jnMSJDQF1j0GYpLEBAsgQ27SdLO0DDM1tL5t41QFONpS8p0TdA+N577733NEBMhCcFyZ8yQGc84xnPeCZA",
          "dtype": "f8"
         },
         "yaxis": "y2"
        }
       ],
       "layout": {
        "height": 400,
        "template": {
         "data": {
          "bar": [
           {
            "error_x": {
             "color": "#2a3f5f"
            },
            "error_y": {
             "color": "#2a3f5f"
            },
            "marker": {
             "line": {
              "color": "#E5ECF6",
              "width": 0.5
             },
             "pattern": {
              "fillmode": "overlay",
              "size": 10,
              "solidity": 0.2
             }
            },
            "type": "bar"
           }
          ],
          "barpolar": [
           {
            "marker": {
             "line": {
              "color": "#E5ECF6",
              "width": 0.5
             },
             "pattern": {
              "fillmode": "overlay",
              "size": 10,
              "solidity": 0.2
             }
            },
            "type": "barpolar"
           }
          ],
          "carpet": [
           {
            "aaxis": {
             "endlinecolor": "#2a3f5f",
             "gridcolor": "white",
             "linecolor": "white",
             "minorgridcolor": "white",
             "startlinecolor": "#2a3f5f"
            },
            "baxis": {
             "endlinecolor": "#2a3f5f",
             "gridcolor": "white",
             "linecolor": "white",
             "minorgridcolor": "white",
             "startlinecolor": "#2a3f5f"
            },
            "type": "carpet"
           }
          ],
          "choropleth": [
           {
            "colorbar": {
             "outlinewidth": 0,
             "ticks": ""
            },
            "type": "choropleth"
           }
          ],
          "contour": [
           {
            "colorbar": {
             "outlinewidth": 0,
             "ticks": ""
            },
            "colorscale": [
             [
              0,
              "#0d0887"
             ],
             [
              0.1111111111111111,
              "#46039f"
             ],
             [
              0.2222222222222222,
              "#7201a8"
             ],
             [
              0.3333333333333333,
              "#9c179e"
             ],
             [
              0.4444444444444444,
              "#bd3786"
             ],
             [
              0.5555555555555556,
              "#d8576b"
             ],
             [
              0.6666666666666666,
              "#ed7953"
             ],
             [
              0.7777777777777778,
              "#fb9f3a"
             ],
             [
              0.8888888888888888,
              "#fdca26"
             ],
             [
              1,
              "#f0f921"
             ]
            ],
            "type": "contour"
           }
          ],
          "contourcarpet": [
           {
            "colorbar": {
             "outlinewidth": 0,
             "ticks": ""
            },
            "type": "contourcarpet"
           }
          ],
          "heatmap": [
           {
            "colorbar": {
             "outlinewidth": 0,
             "ticks": ""
            },
            "colorscale": [
             [
              0,
              "#0d0887"
             ],
             [
              0.1111111111111111,
              "#46039f"
             ],
             [
              0.2222222222222222,
              "#7201a8"
             ],
             [
              0.3333333333333333,
              "#9c179e"
             ],
             [
              0.4444444444444444,
              "#bd3786"
             ],
             [
              0.5555555555555556,
              "#d8576b"
             ],
             [
              0.6666666666666666,
              "#ed7953"
             ],
             [
              0.7777777777777778,
              "#fb9f3a"
             ],
             [
              0.8888888888888888,
              "#fdca26"
             ],
             [
              1,
              "#f0f921"
             ]
            ],
            "type": "heatmap"
           }
          ],
          "histogram": [
           {
            "marker": {
             "pattern": {
              "fillmode": "overlay",
              "size": 10,
              "solidity": 0.2
             }
            },
            "type": "histogram"
           }
          ],
          "histogram2d": [
           {
            "colorbar": {
             "outlinewidth": 0,
             "ticks": ""
            },
            "colorscale": [
             [
              0,
              "#0d0887"
             ],
             [
              0.1111111111111111,
              "#46039f"
             ],
             [
              0.2222222222222222,
              "#7201a8"
             ],
             [
              0.3333333333333333,
              "#9c179e"
             ],
             [
              0.4444444444444444,
              "#bd3786"
             ],
             [
              0.5555555555555556,
              "#d8576b"
             ],
             [
              0.6666666666666666,
              "#ed7953"
             ],
             [
              0.7777777777777778,
              "#fb9f3a"
             ],
             [
              0.8888888888888888,
              "#fdca26"
             ],
             [
              1,
              "#f0f921"
             ]
            ],
            "type": "histogram2d"
           }
          ],
          "histogram2dcontour": [
           {
            "colorbar": {
             "outlinewidth": 0,
             "ticks": ""
            },
            "colorscale": [
             [
              0,
              "#0d0887"
             ],
             [
              0.1111111111111111,
              "#46039f"
             ],
             [
              0.2222222222222222,
              "#7201a8"
             ],
             [
              0.3333333333333333,
              "#9c179e"
             ],
             [
              0.4444444444444444,
              "#bd3786"
             ],
             [
              0.5555555555555556,
              "#d8576b"
             ],
             [
              0.6666666666666666,
              "#ed7953"
             ],
             [
              0.7777777777777778,
              "#fb9f3a"
             ],
             [
              0.8888888888888888,
              "#fdca26"
             ],
             [
              1,
              "#f0f921"
             ]
            ],
            "type": "histogram2dcontour"
           }
          ],
          "mesh3d": [
           {
            "colorbar": {
             "outlinewidth": 0,
             "ticks": ""
            },
            "type": "mesh3d"
           }
          ],
          "parcoords": [
           {
            "line": {
             "colorbar": {
              "outlinewidth": 0,
              "ticks": ""
             }
            },
            "type": "parcoords"
           }
          ],
          "pie": [
           {
            "automargin": true,
            "type": "pie"
           }
          ],
          "scatter": [
           {
            "fillpattern": {
             "fillmode": "overlay",
             "size": 10,
             "solidity": 0.2
            },
            "type": "scatter"
           }
          ],
          "scatter3d": [
           {
            "line": {
             "colorbar": {
              "outlinewidth": 0,
              "ticks": ""
             }
            },
            "marker": {
             "colorbar": {
              "outlinewidth": 0,
              "ticks": ""
             }
            },
            "type": "scatter3d"
           }
          ],
          "scattercarpet": [
           {
            "marker": {
             "colorbar": {
              "outlinewidth": 0,
              "ticks": ""
             }
            },
            "type": "scattercarpet"
           }
          ],
          "scattergeo": [
           {
            "marker": {
             "colorbar": {
              "outlinewidth": 0,
              "ticks": ""
             }
            },
            "type": "scattergeo"
           }
          ],
          "scattergl": [
           {
            "marker": {
             "colorbar": {
              "outlinewidth": 0,
              "ticks": ""
             }
            },
            "type": "scattergl"
           }
          ],
          "scattermap": [
           {
            "marker": {
             "colorbar": {
              "outlinewidth": 0,
              "ticks": ""
             }
            },
            "type": "scattermap"
           }
          ],
          "scattermapbox": [
           {
            "marker": {
             "colorbar": {
              "outlinewidth": 0,
              "ticks": ""
             }
            },
            "type": "scattermapbox"
           }
          ],
          "scatterpolar": [
           {
            "marker": {
             "colorbar": {
              "outlinewidth": 0,
              "ticks": ""
             }
            },
            "type": "scatterpolar"
           }
          ],
          "scatterpolargl": [
           {
            "marker": {
             "colorbar": {
              "outlinewidth": 0,
              "ticks": ""
             }
            },
            "type": "scatterpolargl"
           }
          ],
          "scatterternary": [
           {
            "marker": {
             "colorbar": {
              "outlinewidth": 0,
              "ticks": ""
             }
            },
            "type": "scatterternary"
           }
          ],
          "surface": [
           {
            "colorbar": {
             "outlinewidth": 0,
             "ticks": ""
            },
            "colorscale": [
             [
              0,
              "#0d0887"
             ],
             [
              0.1111111111111111,
              "#46039f"
             ],
             [
              0.2222222222222222,
              "#7201a8"
             ],
             [
              0.3333333333333333,
              "#9c179e"
             ],
             [
              0.4444444444444444,
              "#bd3786"
             ],
             [
              0.5555555555555556,
              "#d8576b"
             ],
             [
              0.6666666666666666,
              "#ed7953"
             ],
             [
              0.7777777777777778,
              "#fb9f3a"
             ],
             [
              0.8888888888888888,
              "#fdca26"
             ],
             [
              1,
              "#f0f921"
             ]
            ],
            "type": "surface"
           }
          ],
          "table": [
           {
            "cells": {
             "fill": {
              "color": "#EBF0F8"
             },
             "line": {
              "color": "white"
             }
            },
            "header": {
             "fill": {
              "color": "#C8D4E3"
             },
             "line": {
              "color": "white"
             }
            },
            "type": "table"
           }
          ]
         },
         "layout": {
          "annotationdefaults": {
           "arrowcolor": "#2a3f5f",
           "arrowhead": 0,
           "arrowwidth": 1
          },
          "autotypenumbers": "strict",
          "coloraxis": {
           "colorbar": {
            "outlinewidth": 0,
            "ticks": ""
           }
          },
          "colorscale": {
           "diverging": [
            [
             0,
             "#8e0152"
            ],
            [
             0.1,
             "#c51b7d"
            ],
            [
             0.2,
             "#de77ae"
            ],
            [
             0.3,
             "#f1b6da"
            ],
            [
             0.4,
             "#fde0ef"
            ],
            [
             0.5,
             "#f7f7f7"
            ],
            [
             0.6,
             "#e6f5d0"
            ],
            [
             0.7,
             "#b8e186"
            ],
            [
             0.8,
             "#7fbc41"
            ],
            [
             0.9,
             "#4d9221"
            ],
            [
             1,
             "#276419"
            ]
           ],
           "sequential": [
            [
             0,
             "#0d0887"
            ],
            [
             0.1111111111111111,
             "#46039f"
            ],
            [
             0.2222222222222222,
             "#7201a8"
            ],
            [
             0.3333333333333333,
             "#9c179e"
            ],
            [
             0.4444444444444444,
             "#bd3786"
            ],
            [
             0.5555555555555556,
             "#d8576b"
            ],
            [
             0.6666666666666666,
             "#ed7953"
            ],
            [
             0.7777777777777778,
             "#fb9f3a"
            ],
            [
             0.8888888888888888,
             "#fdca26"
            ],
            [
             1,
             "#f0f921"
            ]
           ],
           "sequentialminus": [
            [
             0,
             "#0d0887"
            ],
            [
             0.1111111111111111,
             "#46039f"
            ],
            [
             0.2222222222222222,
             "#7201a8"
            ],
            [
             0.3333333333333333,
             "#9c179e"
            ],
            [
             0.4444444444444444,
             "#bd3786"
            ],
            [
             0.5555555555555556,
             "#d8576b"
            ],
            [
             0.6666666666666666,
             "#ed7953"
            ],
            [
             0.7777777777777778,
             "#fb9f3a"
            ],
            [
             0.8888888888888888,
             "#fdca26"
            ],
            [
             1,
             "#f0f921"
            ]
           ]
          },
          "colorway": [
           "#636efa",
           "#EF553B",
           "#00cc96",
           "#ab63fa",
           "#FFA15A",
           "#19d3f3",
           "#FF6692",
           "#B6E880",
           "#FF97FF",
           "#FECB52"
          ],
          "font": {
           "color": "#2a3f5f"
          },
          "geo": {
           "bgcolor": "white",
           "lakecolor": "white",
           "landcolor": "#E5ECF6",
           "showlakes": true,
           "showland": true,
           "subunitcolor": "white"
          },
          "hoverlabel": {
           "align": "left"
          },
          "hovermode": "closest",
          "mapbox": {
           "style": "light"
          },
          "paper_bgcolor": "white",
          "plot_bgcolor": "#E5ECF6",
          "polar": {
           "angularaxis": {
            "gridcolor": "white",
            "linecolor": "white",
            "ticks": ""
           },
           "bgcolor": "#E5ECF6",
           "radialaxis": {
            "gridcolor": "white",
            "linecolor": "white",
            "ticks": ""
           }
          },
          "scene": {
           "xaxis": {
            "backgroundcolor": "#E5ECF6",
            "gridcolor": "white",
            "gridwidth": 2,
            "linecolor": "white",
            "showbackground": true,
            "ticks": "",
            "zerolinecolor": "white"
           },
           "yaxis": {
            "backgroundcolor": "#E5ECF6",
            "gridcolor": "white",
            "gridwidth": 2,
            "linecolor": "white",
            "showbackground": true,
            "ticks": "",
            "zerolinecolor": "white"
           },
           "zaxis": {
            "backgroundcolor": "#E5ECF6",
            "gridcolor": "white",
            "gridwidth": 2,
            "linecolor": "white",
            "showbackground": true,
            "ticks": "",
            "zerolinecolor": "white"
           }
          },
          "shapedefaults": {
           "line": {
            "color": "#2a3f5f"
           }
          },
          "ternary": {
           "aaxis": {
            "gridcolor": "white",
            "linecolor": "white",
            "ticks": ""
           },
           "baxis": {
            "gridcolor": "white",
            "linecolor": "white",
            "ticks": ""
           },
           "bgcolor": "#E5ECF6",
           "caxis": {
            "gridcolor": "white",
            "linecolor": "white",
            "ticks": ""
           }
          },
          "title": {
           "x": 0.05
          },
          "xaxis": {
           "automargin": true,
           "gridcolor": "white",
           "linecolor": "white",
           "ticks": "",
           "title": {
            "standoff": 15
           },
           "zerolinecolor": "white",
           "zerolinewidth": 2
          },
          "yaxis": {
           "automargin": true,
           "gridcolor": "white",
           "linecolor": "white",
           "ticks": "",
           "title": {
            "standoff": 15
           },
           "zerolinecolor": "white",
           "zerolinewidth": 2
          }
         }
        },
        "title": {
         "text": "Solo Founder Trends: YC Acceptance Over Time"
        },
        "xaxis": {
         "anchor": "y",
         "domain": [
          0,
          0.94
         ],
         "title": {
          "text": "Batch Year"
         }
        },
        "yaxis": {
         "anchor": "x",
         "domain": [
          0,
          1
         ],
         "title": {
          "text": "Number of Solo Founders"
         }
        },
        "yaxis2": {
         "anchor": "x",
         "overlaying": "y",
         "side": "right",
         "title": {
          "text": "Percentage Solo (%)"
         }
        }
       }
      }
     },
     "metadata": {},
     "output_type": "display_data"
    },
    {
     "name": "stdout",
     "output_type": "stream",
     "text": [
      "\n",
      "📈 Solo Founder Trend:\n",
      "  Early batches (avg): 39.3% solo\n",
      "  Recent batches (avg): 16.9% solo\n",
      "  Change: -22.4pp\n"
     ]
    }
   ],
   "source": [
    "# Solo Founder Trends Over Time\n",
    "solo_trends = df.groupby('batch_year').agg({\n",
    "    'is_solo': ['sum', 'mean']\n",
    "})\n",
    "solo_trends.columns = ['Solo_Count', 'Solo_Percentage']\n",
    "solo_trends = solo_trends.dropna()\n",
    "\n",
    "fig = make_subplots(specs=[[{\"secondary_y\": True}]])\n",
    "\n",
    "fig.add_trace(\n",
    "    go.Bar(x=solo_trends.index, y=solo_trends['Solo_Count'], name='# Solo Founders', marker_color='#0099FF'),\n",
    "    secondary_y=False\n",
    ")\n",
    "\n",
    "fig.add_trace(\n",
    "    go.Scatter(x=solo_trends.index, y=solo_trends['Solo_Percentage']*100, \n",
    "               name='% Solo', mode='lines+markers', marker_color='#FF3333', line=dict(width=3)),\n",
    "    secondary_y=True\n",
    ")\n",
    "\n",
    "fig.update_layout(title='Solo Founder Trends: YC Acceptance Over Time', height=400)\n",
    "fig.update_yaxes(title_text=\"Number of Solo Founders\", secondary_y=False)\n",
    "fig.update_yaxes(title_text=\"Percentage Solo (%)\", secondary_y=True)\n",
    "fig.update_xaxes(title_text=\"Batch Year\")\n",
    "\n",
    "fig.show()\n",
    "\n",
    "recent_solo_pct = solo_trends['Solo_Percentage'].tail(3).mean() * 100\n",
    "early_solo_pct = solo_trends['Solo_Percentage'].head(5).mean() * 100\n",
    "print(f\"\\n📈 Solo Founder Trend:\")\n",
    "print(f\"  Early batches (avg): {early_solo_pct:.1f}% solo\")\n",
    "print(f\"  Recent batches (avg): {recent_solo_pct:.1f}% solo\")\n",
    "print(f\"  Change: {recent_solo_pct - early_solo_pct:+.1f}pp\")"
   ]
  },
  {
   "cell_type": "markdown",
   "metadata": {},
   "source": [
    "---\n",
    "## 5. Temporal & Batch Analysis\n",
    "\n",
    "How has YC evolved over 20 years?"
   ]
  },
  {
   "cell_type": "code",
   "execution_count": 14,
   "metadata": {},
   "outputs": [
    {
     "data": {
      "application/vnd.plotly.v1+json": {
       "config": {
        "plotlyServerURL": "https://plot.ly"
       },
       "data": [
        {
         "fill": "tozeroy",
         "marker": {
          "color": "#0099FF"
         },
         "mode": "lines+markers",
         "type": "scatter",
         "x": {
          "bdata": "1QfWB9cH2AfZB9oH2wfcB90H3gffB+AH4QfiB+MH5AflB+YH5wfoB+kH",
          "dtype": "i2"
         },
         "xaxis": "x",
         "y": {
          "bdata": "CQASACAAKwAqAD8AaQCVAGIAmADYAOAA8QAVAXMBtAHXAnoC8AFUAhYC",
          "dtype": "i2"
         },
         "yaxis": "y"
        },
        {
         "marker": {
          "color": "#00CC66"
         },
         "mode": "lines+markers",
         "type": "scatter",
         "x": {
          "bdata": "1QfWB9cH2AfZB9oH2wfcB90H3gffB+AH4QfiB+MH5AflB+YH5wfoB+kH",
          "dtype": "i2"
         },
         "xaxis": "x2",
         "y": {
          "bdata": "zczMzMysUEBnZmZmZqZAQM3MzMzMTERAZmZmZmbmNEAAAAAAAAA/QGZmZmZmZklAAAAAAAAAREAzMzMzM3NAQJmZmZmZWUFAMzMzMzNzQUCZmZmZmRk+QJqZmZmZmTNAZmZmZmbmOEAzMzMzM7MxQAAAAAAAACtAzMzMzMzMLECamZmZmZkgQM3MzMzMzBZAAAAAAAAAFECamZmZmZnpPwAAAAAAAAAA",
          "dtype": "f8"
         },
         "yaxis": "y2"
        },
        {
         "fill": "tozeroy",
         "marker": {
          "color": "#9933FF"
         },
         "mode": "lines+markers",
         "type": "scatter",
         "x": {
          "bdata": "1QfWB9cH2AfZB9oH2wfcB90H3gffB+AH4QfiB+MH5AflB+YH5wfoB+kH",
          "dtype": "i2"
         },
         "xaxis": "x3",
         "y": {
          "bdata": "AAAAAAAAAABnZmZmZmYWQAAAAAAAAAAAzczMzMzMEkAAAAAAAAAjQDMzMzMzMxNAzczMzMzMGkDNzMzMzMwiQGZmZmZmZhhAZmZmZmZmIkDMzMzMzMwsQGZmZmZmZjFAAAAAAAAANkAAAAAAAAA2QM3MzMzMzC9AZ2ZmZmbmNkDNzMzMzEw1QAAAAAAAQEBA//////8/TECamZmZmdlOQM3MzMzMzFBA",
          "dtype": "f8"
         },
         "yaxis": "y3"
        },
        {
         "fill": "tozeroy",
         "marker": {
          "color": "#FF6600"
         },
         "mode": "lines+markers",
         "type": "scatter",
         "x": {
          "bdata": "1QfWB9cH2AfZB9oH2wfcB90H3gffB+AH4QfiB+MH5AflB+YH5wfoB+kH",
          "dtype": "i2"
         },
         "xaxis": "x4",
         "y": {
          "bdata": "AAAAAAAAAAAAAAAAAAAAAM3MzMzMzAhAAAAAAAAAAAAzMzMzMzMDQAAAAAAAAAAAzczMzMzMGkCZmZmZmZkdQGZmZmZmZhRAMzMzMzMzIUAAAAAAAAAYQAAAAAAAABJAZmZmZmZmIUCamZmZmZkgQDMzMzMzMyhAmZmZmZkZOEDNzMzMzEw5QM3MzMzMTD5AMzMzMzMzP0AzMzMzM7M4QDMzMzMzszlA",
          "dtype": "f8"
         },
         "yaxis": "y4"
        }
       ],
       "layout": {
        "annotations": [
         {
          "font": {
           "size": 16
          },
          "showarrow": false,
          "text": "Batch Size Over Time",
          "x": 0.225,
          "xanchor": "center",
          "xref": "paper",
          "y": 1,
          "yanchor": "bottom",
          "yref": "paper"
         },
         {
          "font": {
           "size": 16
          },
          "showarrow": false,
          "text": "Success Rate by Vintage",
          "x": 0.775,
          "xanchor": "center",
          "xref": "paper",
          "y": 1,
          "yanchor": "bottom",
          "yref": "paper"
         },
         {
          "font": {
           "size": 16
          },
          "showarrow": false,
          "text": "AI Companies Trend",
          "x": 0.225,
          "xanchor": "center",
          "xref": "paper",
          "y": 0.375,
          "yanchor": "bottom",
          "yref": "paper"
         },
         {
          "font": {
           "size": 16
          },
          "showarrow": false,
          "text": "B2B Companies Trend",
          "x": 0.775,
          "xanchor": "center",
          "xref": "paper",
          "y": 0.375,
          "yanchor": "bottom",
          "yref": "paper"
         }
        ],
        "height": 700,
        "showlegend": false,
        "template": {
         "data": {
          "bar": [
           {
            "error_x": {
             "color": "#2a3f5f"
            },
            "error_y": {
             "color": "#2a3f5f"
            },
            "marker": {
             "line": {
              "color": "#E5ECF6",
              "width": 0.5
             },
             "pattern": {
              "fillmode": "overlay",
              "size": 10,
              "solidity": 0.2
             }
            },
            "type": "bar"
           }
          ],
          "barpolar": [
           {
            "marker": {
             "line": {
              "color": "#E5ECF6",
              "width": 0.5
             },
             "pattern": {
              "fillmode": "overlay",
              "size": 10,
              "solidity": 0.2
             }
            },
            "type": "barpolar"
           }
          ],
          "carpet": [
           {
            "aaxis": {
             "endlinecolor": "#2a3f5f",
             "gridcolor": "white",
             "linecolor": "white",
             "minorgridcolor": "white",
             "startlinecolor": "#2a3f5f"
            },
            "baxis": {
             "endlinecolor": "#2a3f5f",
             "gridcolor": "white",
             "linecolor": "white",
             "minorgridcolor": "white",
             "startlinecolor": "#2a3f5f"
            },
            "type": "carpet"
           }
          ],
          "choropleth": [
           {
            "colorbar": {
             "outlinewidth": 0,
             "ticks": ""
            },
            "type": "choropleth"
           }
          ],
          "contour": [
           {
            "colorbar": {
             "outlinewidth": 0,
             "ticks": ""
            },
            "colorscale": [
             [
              0,
              "#0d0887"
             ],
             [
              0.1111111111111111,
              "#46039f"
             ],
             [
              0.2222222222222222,
              "#7201a8"
             ],
             [
              0.3333333333333333,
              "#9c179e"
             ],
             [
              0.4444444444444444,
              "#bd3786"
             ],
             [
              0.5555555555555556,
              "#d8576b"
             ],
             [
              0.6666666666666666,
              "#ed7953"
             ],
             [
              0.7777777777777778,
              "#fb9f3a"
             ],
             [
              0.8888888888888888,
              "#fdca26"
             ],
             [
              1,
              "#f0f921"
             ]
            ],
            "type": "contour"
           }
          ],
          "contourcarpet": [
           {
            "colorbar": {
             "outlinewidth": 0,
             "ticks": ""
            },
            "type": "contourcarpet"
           }
          ],
          "heatmap": [
           {
            "colorbar": {
             "outlinewidth": 0,
             "ticks": ""
            },
            "colorscale": [
             [
              0,
              "#0d0887"
             ],
             [
              0.1111111111111111,
              "#46039f"
             ],
             [
              0.2222222222222222,
              "#7201a8"
             ],
             [
              0.3333333333333333,
              "#9c179e"
             ],
             [
              0.4444444444444444,
              "#bd3786"
             ],
             [
              0.5555555555555556,
              "#d8576b"
             ],
             [
              0.6666666666666666,
              "#ed7953"
             ],
             [
              0.7777777777777778,
              "#fb9f3a"
             ],
             [
              0.8888888888888888,
              "#fdca26"
             ],
             [
              1,
              "#f0f921"
             ]
            ],
            "type": "heatmap"
           }
          ],
          "histogram": [
           {
            "marker": {
             "pattern": {
              "fillmode": "overlay",
              "size": 10,
              "solidity": 0.2
             }
            },
            "type": "histogram"
           }
          ],
          "histogram2d": [
           {
            "colorbar": {
             "outlinewidth": 0,
             "ticks": ""
            },
            "colorscale": [
             [
              0,
              "#0d0887"
             ],
             [
              0.1111111111111111,
              "#46039f"
             ],
             [
              0.2222222222222222,
              "#7201a8"
             ],
             [
              0.3333333333333333,
              "#9c179e"
             ],
             [
              0.4444444444444444,
              "#bd3786"
             ],
             [
              0.5555555555555556,
              "#d8576b"
             ],
             [
              0.6666666666666666,
              "#ed7953"
             ],
             [
              0.7777777777777778,
              "#fb9f3a"
             ],
             [
              0.8888888888888888,
              "#fdca26"
             ],
             [
              1,
              "#f0f921"
             ]
            ],
            "type": "histogram2d"
           }
          ],
          "histogram2dcontour": [
           {
            "colorbar": {
             "outlinewidth": 0,
             "ticks": ""
            },
            "colorscale": [
             [
              0,
              "#0d0887"
             ],
             [
              0.1111111111111111,
              "#46039f"
             ],
             [
              0.2222222222222222,
              "#7201a8"
             ],
             [
              0.3333333333333333,
              "#9c179e"
             ],
             [
              0.4444444444444444,
              "#bd3786"
             ],
             [
              0.5555555555555556,
              "#d8576b"
             ],
             [
              0.6666666666666666,
              "#ed7953"
             ],
             [
              0.7777777777777778,
              "#fb9f3a"
             ],
             [
              0.8888888888888888,
              "#fdca26"
             ],
             [
              1,
              "#f0f921"
             ]
            ],
            "type": "histogram2dcontour"
           }
          ],
          "mesh3d": [
           {
            "colorbar": {
             "outlinewidth": 0,
             "ticks": ""
            },
            "type": "mesh3d"
           }
          ],
          "parcoords": [
           {
            "line": {
             "colorbar": {
              "outlinewidth": 0,
              "ticks": ""
             }
            },
            "type": "parcoords"
           }
          ],
          "pie": [
           {
            "automargin": true,
            "type": "pie"
           }
          ],
          "scatter": [
           {
            "fillpattern": {
             "fillmode": "overlay",
             "size": 10,
             "solidity": 0.2
            },
            "type": "scatter"
           }
          ],
          "scatter3d": [
           {
            "line": {
             "colorbar": {
              "outlinewidth": 0,
              "ticks": ""
             }
            },
            "marker": {
             "colorbar": {
              "outlinewidth": 0,
              "ticks": ""
             }
            },
            "type": "scatter3d"
           }
          ],
          "scattercarpet": [
           {
            "marker": {
             "colorbar": {
              "outlinewidth": 0,
              "ticks": ""
             }
            },
            "type": "scattercarpet"
           }
          ],
          "scattergeo": [
           {
            "marker": {
             "colorbar": {
              "outlinewidth": 0,
              "ticks": ""
             }
            },
            "type": "scattergeo"
           }
          ],
          "scattergl": [
           {
            "marker": {
             "colorbar": {
              "outlinewidth": 0,
              "ticks": ""
             }
            },
            "type": "scattergl"
           }
          ],
          "scattermap": [
           {
            "marker": {
             "colorbar": {
              "outlinewidth": 0,
              "ticks": ""
             }
            },
            "type": "scattermap"
           }
          ],
          "scattermapbox": [
           {
            "marker": {
             "colorbar": {
              "outlinewidth": 0,
              "ticks": ""
             }
            },
            "type": "scattermapbox"
           }
          ],
          "scatterpolar": [
           {
            "marker": {
             "colorbar": {
              "outlinewidth": 0,
              "ticks": ""
             }
            },
            "type": "scatterpolar"
           }
          ],
          "scatterpolargl": [
           {
            "marker": {
             "colorbar": {
              "outlinewidth": 0,
              "ticks": ""
             }
            },
            "type": "scatterpolargl"
           }
          ],
          "scatterternary": [
           {
            "marker": {
             "colorbar": {
              "outlinewidth": 0,
              "ticks": ""
             }
            },
            "type": "scatterternary"
           }
          ],
          "surface": [
           {
            "colorbar": {
             "outlinewidth": 0,
             "ticks": ""
            },
            "colorscale": [
             [
              0,
              "#0d0887"
             ],
             [
              0.1111111111111111,
              "#46039f"
             ],
             [
              0.2222222222222222,
              "#7201a8"
             ],
             [
              0.3333333333333333,
              "#9c179e"
             ],
             [
              0.4444444444444444,
              "#bd3786"
             ],
             [
              0.5555555555555556,
              "#d8576b"
             ],
             [
              0.6666666666666666,
              "#ed7953"
             ],
             [
              0.7777777777777778,
              "#fb9f3a"
             ],
             [
              0.8888888888888888,
              "#fdca26"
             ],
             [
              1,
              "#f0f921"
             ]
            ],
            "type": "surface"
           }
          ],
          "table": [
           {
            "cells": {
             "fill": {
              "color": "#EBF0F8"
             },
             "line": {
              "color": "white"
             }
            },
            "header": {
             "fill": {
              "color": "#C8D4E3"
             },
             "line": {
              "color": "white"
             }
            },
            "type": "table"
           }
          ]
         },
         "layout": {
          "annotationdefaults": {
           "arrowcolor": "#2a3f5f",
           "arrowhead": 0,
           "arrowwidth": 1
          },
          "autotypenumbers": "strict",
          "coloraxis": {
           "colorbar": {
            "outlinewidth": 0,
            "ticks": ""
           }
          },
          "colorscale": {
           "diverging": [
            [
             0,
             "#8e0152"
            ],
            [
             0.1,
             "#c51b7d"
            ],
            [
             0.2,
             "#de77ae"
            ],
            [
             0.3,
             "#f1b6da"
            ],
            [
             0.4,
             "#fde0ef"
            ],
            [
             0.5,
             "#f7f7f7"
            ],
            [
             0.6,
             "#e6f5d0"
            ],
            [
             0.7,
             "#b8e186"
            ],
            [
             0.8,
             "#7fbc41"
            ],
            [
             0.9,
             "#4d9221"
            ],
            [
             1,
             "#276419"
            ]
           ],
           "sequential": [
            [
             0,
             "#0d0887"
            ],
            [
             0.1111111111111111,
             "#46039f"
            ],
            [
             0.2222222222222222,
             "#7201a8"
            ],
            [
             0.3333333333333333,
             "#9c179e"
            ],
            [
             0.4444444444444444,
             "#bd3786"
            ],
            [
             0.5555555555555556,
             "#d8576b"
            ],
            [
             0.6666666666666666,
             "#ed7953"
            ],
            [
             0.7777777777777778,
             "#fb9f3a"
            ],
            [
             0.8888888888888888,
             "#fdca26"
            ],
            [
             1,
             "#f0f921"
            ]
           ],
           "sequentialminus": [
            [
             0,
             "#0d0887"
            ],
            [
             0.1111111111111111,
             "#46039f"
            ],
            [
             0.2222222222222222,
             "#7201a8"
            ],
            [
             0.3333333333333333,
             "#9c179e"
            ],
            [
             0.4444444444444444,
             "#bd3786"
            ],
            [
             0.5555555555555556,
             "#d8576b"
            ],
            [
             0.6666666666666666,
             "#ed7953"
            ],
            [
             0.7777777777777778,
             "#fb9f3a"
            ],
            [
             0.8888888888888888,
             "#fdca26"
            ],
            [
             1,
             "#f0f921"
            ]
           ]
          },
          "colorway": [
           "#636efa",
           "#EF553B",
           "#00cc96",
           "#ab63fa",
           "#FFA15A",
           "#19d3f3",
           "#FF6692",
           "#B6E880",
           "#FF97FF",
           "#FECB52"
          ],
          "font": {
           "color": "#2a3f5f"
          },
          "geo": {
           "bgcolor": "white",
           "lakecolor": "white",
           "landcolor": "#E5ECF6",
           "showlakes": true,
           "showland": true,
           "subunitcolor": "white"
          },
          "hoverlabel": {
           "align": "left"
          },
          "hovermode": "closest",
          "mapbox": {
           "style": "light"
          },
          "paper_bgcolor": "white",
          "plot_bgcolor": "#E5ECF6",
          "polar": {
           "angularaxis": {
            "gridcolor": "white",
            "linecolor": "white",
            "ticks": ""
           },
           "bgcolor": "#E5ECF6",
           "radialaxis": {
            "gridcolor": "white",
            "linecolor": "white",
            "ticks": ""
           }
          },
          "scene": {
           "xaxis": {
            "backgroundcolor": "#E5ECF6",
            "gridcolor": "white",
            "gridwidth": 2,
            "linecolor": "white",
            "showbackground": true,
            "ticks": "",
            "zerolinecolor": "white"
           },
           "yaxis": {
            "backgroundcolor": "#E5ECF6",
            "gridcolor": "white",
            "gridwidth": 2,
            "linecolor": "white",
            "showbackground": true,
            "ticks": "",
            "zerolinecolor": "white"
           },
           "zaxis": {
            "backgroundcolor": "#E5ECF6",
            "gridcolor": "white",
            "gridwidth": 2,
            "linecolor": "white",
            "showbackground": true,
            "ticks": "",
            "zerolinecolor": "white"
           }
          },
          "shapedefaults": {
           "line": {
            "color": "#2a3f5f"
           }
          },
          "ternary": {
           "aaxis": {
            "gridcolor": "white",
            "linecolor": "white",
            "ticks": ""
           },
           "baxis": {
            "gridcolor": "white",
            "linecolor": "white",
            "ticks": ""
           },
           "bgcolor": "#E5ECF6",
           "caxis": {
            "gridcolor": "white",
            "linecolor": "white",
            "ticks": ""
           }
          },
          "title": {
           "x": 0.05
          },
          "xaxis": {
           "automargin": true,
           "gridcolor": "white",
           "linecolor": "white",
           "ticks": "",
           "title": {
            "standoff": 15
           },
           "zerolinecolor": "white",
           "zerolinewidth": 2
          },
          "yaxis": {
           "automargin": true,
           "gridcolor": "white",
           "linecolor": "white",
           "ticks": "",
           "title": {
            "standoff": 15
           },
           "zerolinecolor": "white",
           "zerolinewidth": 2
          }
         }
        },
        "title": {
         "text": "YC Evolution: 20-Year Trends"
        },
        "xaxis": {
         "anchor": "y",
         "domain": [
          0,
          0.45
         ]
        },
        "xaxis2": {
         "anchor": "y2",
         "domain": [
          0.55,
          1
         ]
        },
        "xaxis3": {
         "anchor": "y3",
         "domain": [
          0,
          0.45
         ]
        },
        "xaxis4": {
         "anchor": "y4",
         "domain": [
          0.55,
          1
         ]
        },
        "yaxis": {
         "anchor": "x",
         "domain": [
          0.625,
          1
         ],
         "title": {
          "text": "# Companies"
         }
        },
        "yaxis2": {
         "anchor": "x2",
         "domain": [
          0.625,
          1
         ],
         "title": {
          "text": "Success Rate (%)"
         }
        },
        "yaxis3": {
         "anchor": "x3",
         "domain": [
          0,
          0.375
         ],
         "title": {
          "text": "% AI Companies"
         }
        },
        "yaxis4": {
         "anchor": "x4",
         "domain": [
          0,
          0.375
         ],
         "title": {
          "text": "% B2B Companies"
         }
        }
       }
      }
     },
     "metadata": {},
     "output_type": "display_data"
    }
   ],
   "source": [
    "# Batch statistics over time\n",
    "batch_stats = df.groupby('batch_year').agg({\n",
    "    'company_id': 'count',\n",
    "    'is_successful': 'mean',\n",
    "    'num_founders': 'mean',\n",
    "    'team_size': 'mean',\n",
    "    'is_ai': 'mean',\n",
    "    'is_b2b': 'mean'\n",
    "}).round(3)\n",
    "\n",
    "batch_stats.columns = ['Batch_Size', 'Success_Rate', 'Avg_Founders', 'Avg_Team_Size', 'AI_Pct', 'B2B_Pct']\n",
    "batch_stats = batch_stats.dropna()\n",
    "\n",
    "# Plot multiple trends\n",
    "fig = make_subplots(\n",
    "    rows=2, cols=2,\n",
    "    subplot_titles=('Batch Size Over Time', 'Success Rate by Vintage', \n",
    "                    'AI Companies Trend', 'B2B Companies Trend')\n",
    ")\n",
    "\n",
    "# 1. Batch size\n",
    "fig.add_trace(\n",
    "    go.Scatter(x=batch_stats.index, y=batch_stats['Batch_Size'], \n",
    "               mode='lines+markers', marker_color='#0099FF', fill='tozeroy'),\n",
    "    row=1, col=1\n",
    ")\n",
    "\n",
    "# 2. Success rate\n",
    "fig.add_trace(\n",
    "    go.Scatter(x=batch_stats.index, y=batch_stats['Success_Rate']*100, \n",
    "               mode='lines+markers', marker_color='#00CC66'),\n",
    "    row=1, col=2\n",
    ")\n",
    "\n",
    "# 3. AI trend\n",
    "fig.add_trace(\n",
    "    go.Scatter(x=batch_stats.index, y=batch_stats['AI_Pct']*100, \n",
    "               mode='lines+markers', marker_color='#9933FF', fill='tozeroy'),\n",
    "    row=2, col=1\n",
    ")\n",
    "\n",
    "# 4. B2B trend\n",
    "fig.add_trace(\n",
    "    go.Scatter(x=batch_stats.index, y=batch_stats['B2B_Pct']*100, \n",
    "               mode='lines+markers', marker_color='#FF6600', fill='tozeroy'),\n",
    "    row=2, col=2\n",
    ")\n",
    "\n",
    "fig.update_yaxes(title_text=\"# Companies\", row=1, col=1)\n",
    "fig.update_yaxes(title_text=\"Success Rate (%)\", row=1, col=2)\n",
    "fig.update_yaxes(title_text=\"% AI Companies\", row=2, col=1)\n",
    "fig.update_yaxes(title_text=\"% B2B Companies\", row=2, col=2)\n",
    "\n",
    "fig.update_layout(height=700, showlegend=False, title_text=\"YC Evolution: 20-Year Trends\")\n",
    "fig.show()"
   ]
  },
  {
   "cell_type": "code",
   "execution_count": 15,
   "metadata": {},
   "outputs": [
    {
     "name": "stdout",
     "output_type": "stream",
     "text": [
      "\n",
      "🌤️  SEASONAL BATCH COMPARISON:\n",
      "              Count  Success_Rate  Avg_Founders  Avg_Team_Size\n",
      "batch_season                                                  \n",
      "Fall            146         0.000         1.986          3.368\n",
      "Spring          144         0.000         2.090          2.832\n",
      "Summer         2511         0.136         1.973         46.876\n",
      "Winter         2662         0.140         1.948         56.321\n"
     ]
    },
    {
     "data": {
      "application/vnd.plotly.v1+json": {
       "config": {
        "plotlyServerURL": "https://plot.ly"
       },
       "data": [
        {
         "name": "Fall",
         "type": "bar",
         "x": [
          "Companies",
          "Success Rate (%)",
          "Avg Founders",
          "Avg Team Size"
         ],
         "y": [
          146,
          0,
          1.986,
          3.368
         ]
        },
        {
         "name": "Spring",
         "type": "bar",
         "x": [
          "Companies",
          "Success Rate (%)",
          "Avg Founders",
          "Avg Team Size"
         ],
         "y": [
          144,
          0,
          2.09,
          2.832
         ]
        },
        {
         "name": "Summer",
         "type": "bar",
         "x": [
          "Companies",
          "Success Rate (%)",
          "Avg Founders",
          "Avg Team Size"
         ],
         "y": [
          2511,
          13.600000000000001,
          1.973,
          46.876
         ]
        },
        {
         "name": "Winter",
         "type": "bar",
         "x": [
          "Companies",
          "Success Rate (%)",
          "Avg Founders",
          "Avg Team Size"
         ],
         "y": [
          2662,
          14.000000000000002,
          1.948,
          56.321
         ]
        }
       ],
       "layout": {
        "barmode": "group",
        "height": 400,
        "template": {
         "data": {
          "bar": [
           {
            "error_x": {
             "color": "#2a3f5f"
            },
            "error_y": {
             "color": "#2a3f5f"
            },
            "marker": {
             "line": {
              "color": "#E5ECF6",
              "width": 0.5
             },
             "pattern": {
              "fillmode": "overlay",
              "size": 10,
              "solidity": 0.2
             }
            },
            "type": "bar"
           }
          ],
          "barpolar": [
           {
            "marker": {
             "line": {
              "color": "#E5ECF6",
              "width": 0.5
             },
             "pattern": {
              "fillmode": "overlay",
              "size": 10,
              "solidity": 0.2
             }
            },
            "type": "barpolar"
           }
          ],
          "carpet": [
           {
            "aaxis": {
             "endlinecolor": "#2a3f5f",
             "gridcolor": "white",
             "linecolor": "white",
             "minorgridcolor": "white",
             "startlinecolor": "#2a3f5f"
            },
            "baxis": {
             "endlinecolor": "#2a3f5f",
             "gridcolor": "white",
             "linecolor": "white",
             "minorgridcolor": "white",
             "startlinecolor": "#2a3f5f"
            },
            "type": "carpet"
           }
          ],
          "choropleth": [
           {
            "colorbar": {
             "outlinewidth": 0,
             "ticks": ""
            },
            "type": "choropleth"
           }
          ],
          "contour": [
           {
            "colorbar": {
             "outlinewidth": 0,
             "ticks": ""
            },
            "colorscale": [
             [
              0,
              "#0d0887"
             ],
             [
              0.1111111111111111,
              "#46039f"
             ],
             [
              0.2222222222222222,
              "#7201a8"
             ],
             [
              0.3333333333333333,
              "#9c179e"
             ],
             [
              0.4444444444444444,
              "#bd3786"
             ],
             [
              0.5555555555555556,
              "#d8576b"
             ],
             [
              0.6666666666666666,
              "#ed7953"
             ],
             [
              0.7777777777777778,
              "#fb9f3a"
             ],
             [
              0.8888888888888888,
              "#fdca26"
             ],
             [
              1,
              "#f0f921"
             ]
            ],
            "type": "contour"
           }
          ],
          "contourcarpet": [
           {
            "colorbar": {
             "outlinewidth": 0,
             "ticks": ""
            },
            "type": "contourcarpet"
           }
          ],
          "heatmap": [
           {
            "colorbar": {
             "outlinewidth": 0,
             "ticks": ""
            },
            "colorscale": [
             [
              0,
              "#0d0887"
             ],
             [
              0.1111111111111111,
              "#46039f"
             ],
             [
              0.2222222222222222,
              "#7201a8"
             ],
             [
              0.3333333333333333,
              "#9c179e"
             ],
             [
              0.4444444444444444,
              "#bd3786"
             ],
             [
              0.5555555555555556,
              "#d8576b"
             ],
             [
              0.6666666666666666,
              "#ed7953"
             ],
             [
              0.7777777777777778,
              "#fb9f3a"
             ],
             [
              0.8888888888888888,
              "#fdca26"
             ],
             [
              1,
              "#f0f921"
             ]
            ],
            "type": "heatmap"
           }
          ],
          "histogram": [
           {
            "marker": {
             "pattern": {
              "fillmode": "overlay",
              "size": 10,
              "solidity": 0.2
             }
            },
            "type": "histogram"
           }
          ],
          "histogram2d": [
           {
            "colorbar": {
             "outlinewidth": 0,
             "ticks": ""
            },
            "colorscale": [
             [
              0,
              "#0d0887"
             ],
             [
              0.1111111111111111,
              "#46039f"
             ],
             [
              0.2222222222222222,
              "#7201a8"
             ],
             [
              0.3333333333333333,
              "#9c179e"
             ],
             [
              0.4444444444444444,
              "#bd3786"
             ],
             [
              0.5555555555555556,
              "#d8576b"
             ],
             [
              0.6666666666666666,
              "#ed7953"
             ],
             [
              0.7777777777777778,
              "#fb9f3a"
             ],
             [
              0.8888888888888888,
              "#fdca26"
             ],
             [
              1,
              "#f0f921"
             ]
            ],
            "type": "histogram2d"
           }
          ],
          "histogram2dcontour": [
           {
            "colorbar": {
             "outlinewidth": 0,
             "ticks": ""
            },
            "colorscale": [
             [
              0,
              "#0d0887"
             ],
             [
              0.1111111111111111,
              "#46039f"
             ],
             [
              0.2222222222222222,
              "#7201a8"
             ],
             [
              0.3333333333333333,
              "#9c179e"
             ],
             [
              0.4444444444444444,
              "#bd3786"
             ],
             [
              0.5555555555555556,
              "#d8576b"
             ],
             [
              0.6666666666666666,
              "#ed7953"
             ],
             [
              0.7777777777777778,
              "#fb9f3a"
             ],
             [
              0.8888888888888888,
              "#fdca26"
             ],
             [
              1,
              "#f0f921"
             ]
            ],
            "type": "histogram2dcontour"
           }
          ],
          "mesh3d": [
           {
            "colorbar": {
             "outlinewidth": 0,
             "ticks": ""
            },
            "type": "mesh3d"
           }
          ],
          "parcoords": [
           {
            "line": {
             "colorbar": {
              "outlinewidth": 0,
              "ticks": ""
             }
            },
            "type": "parcoords"
           }
          ],
          "pie": [
           {
            "automargin": true,
            "type": "pie"
           }
          ],
          "scatter": [
           {
            "fillpattern": {
             "fillmode": "overlay",
             "size": 10,
             "solidity": 0.2
            },
            "type": "scatter"
           }
          ],
          "scatter3d": [
           {
            "line": {
             "colorbar": {
              "outlinewidth": 0,
              "ticks": ""
             }
            },
            "marker": {
             "colorbar": {
              "outlinewidth": 0,
              "ticks": ""
             }
            },
            "type": "scatter3d"
           }
          ],
          "scattercarpet": [
           {
            "marker": {
             "colorbar": {
              "outlinewidth": 0,
              "ticks": ""
             }
            },
            "type": "scattercarpet"
           }
          ],
          "scattergeo": [
           {
            "marker": {
             "colorbar": {
              "outlinewidth": 0,
              "ticks": ""
             }
            },
            "type": "scattergeo"
           }
          ],
          "scattergl": [
           {
            "marker": {
             "colorbar": {
              "outlinewidth": 0,
              "ticks": ""
             }
            },
            "type": "scattergl"
           }
          ],
          "scattermap": [
           {
            "marker": {
             "colorbar": {
              "outlinewidth": 0,
              "ticks": ""
             }
            },
            "type": "scattermap"
           }
          ],
          "scattermapbox": [
           {
            "marker": {
             "colorbar": {
              "outlinewidth": 0,
              "ticks": ""
             }
            },
            "type": "scattermapbox"
           }
          ],
          "scatterpolar": [
           {
            "marker": {
             "colorbar": {
              "outlinewidth": 0,
              "ticks": ""
             }
            },
            "type": "scatterpolar"
           }
          ],
          "scatterpolargl": [
           {
            "marker": {
             "colorbar": {
              "outlinewidth": 0,
              "ticks": ""
             }
            },
            "type": "scatterpolargl"
           }
          ],
          "scatterternary": [
           {
            "marker": {
             "colorbar": {
              "outlinewidth": 0,
              "ticks": ""
             }
            },
            "type": "scatterternary"
           }
          ],
          "surface": [
           {
            "colorbar": {
             "outlinewidth": 0,
             "ticks": ""
            },
            "colorscale": [
             [
              0,
              "#0d0887"
             ],
             [
              0.1111111111111111,
              "#46039f"
             ],
             [
              0.2222222222222222,
              "#7201a8"
             ],
             [
              0.3333333333333333,
              "#9c179e"
             ],
             [
              0.4444444444444444,
              "#bd3786"
             ],
             [
              0.5555555555555556,
              "#d8576b"
             ],
             [
              0.6666666666666666,
              "#ed7953"
             ],
             [
              0.7777777777777778,
              "#fb9f3a"
             ],
             [
              0.8888888888888888,
              "#fdca26"
             ],
             [
              1,
              "#f0f921"
             ]
            ],
            "type": "surface"
           }
          ],
          "table": [
           {
            "cells": {
             "fill": {
              "color": "#EBF0F8"
             },
             "line": {
              "color": "white"
             }
            },
            "header": {
             "fill": {
              "color": "#C8D4E3"
             },
             "line": {
              "color": "white"
             }
            },
            "type": "table"
           }
          ]
         },
         "layout": {
          "annotationdefaults": {
           "arrowcolor": "#2a3f5f",
           "arrowhead": 0,
           "arrowwidth": 1
          },
          "autotypenumbers": "strict",
          "coloraxis": {
           "colorbar": {
            "outlinewidth": 0,
            "ticks": ""
           }
          },
          "colorscale": {
           "diverging": [
            [
             0,
             "#8e0152"
            ],
            [
             0.1,
             "#c51b7d"
            ],
            [
             0.2,
             "#de77ae"
            ],
            [
             0.3,
             "#f1b6da"
            ],
            [
             0.4,
             "#fde0ef"
            ],
            [
             0.5,
             "#f7f7f7"
            ],
            [
             0.6,
             "#e6f5d0"
            ],
            [
             0.7,
             "#b8e186"
            ],
            [
             0.8,
             "#7fbc41"
            ],
            [
             0.9,
             "#4d9221"
            ],
            [
             1,
             "#276419"
            ]
           ],
           "sequential": [
            [
             0,
             "#0d0887"
            ],
            [
             0.1111111111111111,
             "#46039f"
            ],
            [
             0.2222222222222222,
             "#7201a8"
            ],
            [
             0.3333333333333333,
             "#9c179e"
            ],
            [
             0.4444444444444444,
             "#bd3786"
            ],
            [
             0.5555555555555556,
             "#d8576b"
            ],
            [
             0.6666666666666666,
             "#ed7953"
            ],
            [
             0.7777777777777778,
             "#fb9f3a"
            ],
            [
             0.8888888888888888,
             "#fdca26"
            ],
            [
             1,
             "#f0f921"
            ]
           ],
           "sequentialminus": [
            [
             0,
             "#0d0887"
            ],
            [
             0.1111111111111111,
             "#46039f"
            ],
            [
             0.2222222222222222,
             "#7201a8"
            ],
            [
             0.3333333333333333,
             "#9c179e"
            ],
            [
             0.4444444444444444,
             "#bd3786"
            ],
            [
             0.5555555555555556,
             "#d8576b"
            ],
            [
             0.6666666666666666,
             "#ed7953"
            ],
            [
             0.7777777777777778,
             "#fb9f3a"
            ],
            [
             0.8888888888888888,
             "#fdca26"
            ],
            [
             1,
             "#f0f921"
            ]
           ]
          },
          "colorway": [
           "#636efa",
           "#EF553B",
           "#00cc96",
           "#ab63fa",
           "#FFA15A",
           "#19d3f3",
           "#FF6692",
           "#B6E880",
           "#FF97FF",
           "#FECB52"
          ],
          "font": {
           "color": "#2a3f5f"
          },
          "geo": {
           "bgcolor": "white",
           "lakecolor": "white",
           "landcolor": "#E5ECF6",
           "showlakes": true,
           "showland": true,
           "subunitcolor": "white"
          },
          "hoverlabel": {
           "align": "left"
          },
          "hovermode": "closest",
          "mapbox": {
           "style": "light"
          },
          "paper_bgcolor": "white",
          "plot_bgcolor": "#E5ECF6",
          "polar": {
           "angularaxis": {
            "gridcolor": "white",
            "linecolor": "white",
            "ticks": ""
           },
           "bgcolor": "#E5ECF6",
           "radialaxis": {
            "gridcolor": "white",
            "linecolor": "white",
            "ticks": ""
           }
          },
          "scene": {
           "xaxis": {
            "backgroundcolor": "#E5ECF6",
            "gridcolor": "white",
            "gridwidth": 2,
            "linecolor": "white",
            "showbackground": true,
            "ticks": "",
            "zerolinecolor": "white"
           },
           "yaxis": {
            "backgroundcolor": "#E5ECF6",
            "gridcolor": "white",
            "gridwidth": 2,
            "linecolor": "white",
            "showbackground": true,
            "ticks": "",
            "zerolinecolor": "white"
           },
           "zaxis": {
            "backgroundcolor": "#E5ECF6",
            "gridcolor": "white",
            "gridwidth": 2,
            "linecolor": "white",
            "showbackground": true,
            "ticks": "",
            "zerolinecolor": "white"
           }
          },
          "shapedefaults": {
           "line": {
            "color": "#2a3f5f"
           }
          },
          "ternary": {
           "aaxis": {
            "gridcolor": "white",
            "linecolor": "white",
            "ticks": ""
           },
           "baxis": {
            "gridcolor": "white",
            "linecolor": "white",
            "ticks": ""
           },
           "bgcolor": "#E5ECF6",
           "caxis": {
            "gridcolor": "white",
            "linecolor": "white",
            "ticks": ""
           }
          },
          "title": {
           "x": 0.05
          },
          "xaxis": {
           "automargin": true,
           "gridcolor": "white",
           "linecolor": "white",
           "ticks": "",
           "title": {
            "standoff": 15
           },
           "zerolinecolor": "white",
           "zerolinewidth": 2
          },
          "yaxis": {
           "automargin": true,
           "gridcolor": "white",
           "linecolor": "white",
           "ticks": "",
           "title": {
            "standoff": 15
           },
           "zerolinecolor": "white",
           "zerolinewidth": 2
          }
         }
        },
        "title": {
         "text": "Batch Season Comparison"
        }
       }
      }
     },
     "metadata": {},
     "output_type": "display_data"
    }
   ],
   "source": [
    "# Season comparison (Winter vs Summer)\n",
    "season_stats = df.groupby('batch_season').agg({\n",
    "    'company_id': 'count',\n",
    "    'is_successful': 'mean',\n",
    "    'num_founders': 'mean',\n",
    "    'team_size': 'mean'\n",
    "}).round(3)\n",
    "\n",
    "season_stats.columns = ['Count', 'Success_Rate', 'Avg_Founders', 'Avg_Team_Size']\n",
    "\n",
    "print(\"\\n🌤️  SEASONAL BATCH COMPARISON:\")\n",
    "print(season_stats.to_string())\n",
    "\n",
    "# Visual comparison\n",
    "fig = go.Figure()\n",
    "for season in season_stats.index:\n",
    "    if pd.notna(season):\n",
    "        fig.add_trace(go.Bar(\n",
    "            name=season,\n",
    "            x=['Companies', 'Success Rate (%)', 'Avg Founders', 'Avg Team Size'],\n",
    "            y=[season_stats.loc[season, 'Count'], \n",
    "               season_stats.loc[season, 'Success_Rate']*100,\n",
    "               season_stats.loc[season, 'Avg_Founders'],\n",
    "               season_stats.loc[season, 'Avg_Team_Size']]\n",
    "        ))\n",
    "\n",
    "fig.update_layout(title='Batch Season Comparison', barmode='group', height=400)\n",
    "fig.show()"
   ]
  },
  {
   "cell_type": "markdown",
   "metadata": {},
   "source": [
    "---\n",
    "## 6. Industry Deep Dive\n",
    "\n",
    "Which industries are thriving? Which are oversaturated?"
   ]
  },
  {
   "cell_type": "code",
   "execution_count": 16,
   "metadata": {},
   "outputs": [
    {
     "name": "stdout",
     "output_type": "stream",
     "text": [
      "\n",
      "🏆 TOP 20 INDUSTRIES BY SUCCESS RATE (min 10 companies):\n",
      "        Industry  Total  Successful  Success_Rate  Active  Avg_Team_Size  Solo_Pct\n",
      "           video     85          19      0.223529      66      37.564706  0.223529\n",
      "       analytics    181          39      0.215470     142      27.592179  0.254144\n",
      "     real-estate     79          15      0.189873      64      20.102564  0.177215\n",
      "          social     68          12      0.176471      56      38.529412  0.323529\n",
      "        security     85          15      0.176471      70      32.308642  0.305882\n",
      "data-engineering     91          15      0.164835      76      32.186813  0.186813\n",
      "       education    164          26      0.158537     138      55.734568  0.274390\n",
      "          gaming     85          13      0.152941      72      44.166667  0.317647\n",
      " computer-vision     72          11      0.152778      61      22.057143  0.208333\n",
      "      e-commerce    236          36      0.152542     200     140.130435  0.224576\n",
      "     open-source    158          23      0.145570     135      30.762821  0.253165\n",
      "             api    139          20      0.143885     119      30.737226  0.223022\n",
      " medical-devices     66           9      0.136364      57      14.045455  0.348485\n",
      "      enterprise    108          14      0.129630      94      20.323810  0.296296\n",
      "        payments    148          19      0.128378     129      69.161972  0.175676\n",
      "            saas   1131         145      0.128205     986      50.401251  0.224580\n",
      "    productivity    156          20      0.128205     136      12.522876  0.230769\n",
      "machine-learning    224          27      0.120536     197      42.171946  0.236607\n",
      "         fintech    696          83      0.119253     613      76.241228  0.205460\n",
      "     marketplace    307          36      0.117264     271     109.086093  0.270358\n",
      "\n",
      "⚠️  BOTTOM 10 INDUSTRIES BY SUCCESS RATE:\n",
      "                Industry  Total  Successful  Success_Rate  Active  Avg_Team_Size  Solo_Pct\n",
      "                   sales    109           5      0.045872     104      18.027778  0.165138\n",
      "consumer-health-services    102           4      0.039216      98      96.574257  0.284314\n",
      "                      ai    685          26      0.037956     659      22.857988  0.195620\n",
      "            ai-assistant    140           5      0.035714     135      13.963768  0.185714\n",
      "                robotics     87           3      0.034483      84      26.895349  0.287356\n",
      "               hard-tech     91           3      0.032967      88      14.213483  0.241758\n",
      "            supply-chain     80           2      0.025000      78     128.962025  0.325000\n",
      "          infrastructure     89           2      0.022472      87       9.250000  0.157303\n",
      "           manufacturing     67           1      0.014925      66      30.447761  0.313433\n",
      "     workflow-automation     70           0      0.000000      70      11.928571  0.200000\n"
     ]
    }
   ],
   "source": [
    "# Industry analysis - extract all tags\n",
    "all_tags = []\n",
    "for tags in df['tags'].dropna():\n",
    "    if isinstance(tags, list):\n",
    "        all_tags.extend(tags)\n",
    "\n",
    "tag_counts = pd.Series(all_tags).value_counts()\n",
    "\n",
    "# Success rate per industry\n",
    "industry_analysis = []\n",
    "for tag in tag_counts.head(50).index:\n",
    "    tag_companies = df[df['tags'].apply(lambda x: tag in x if isinstance(x, list) else False)]\n",
    "    if len(tag_companies) >= 10:\n",
    "        industry_analysis.append({\n",
    "            'Industry': tag,\n",
    "            'Total': len(tag_companies),\n",
    "            'Successful': tag_companies['is_successful'].sum(),\n",
    "            'Success_Rate': tag_companies['is_successful'].mean(),\n",
    "            'Active': (tag_companies['success_category'] == 'Active').sum(),\n",
    "            'Avg_Team_Size': tag_companies['team_size'].mean(),\n",
    "            'Solo_Pct': tag_companies['is_solo'].mean()\n",
    "        })\n",
    "\n",
    "industry_df = pd.DataFrame(industry_analysis).sort_values('Success_Rate', ascending=False)\n",
    "\n",
    "print(\"\\n🏆 TOP 20 INDUSTRIES BY SUCCESS RATE (min 10 companies):\")\n",
    "print(industry_df.head(20).to_string(index=False))\n",
    "\n",
    "print(\"\\n⚠️  BOTTOM 10 INDUSTRIES BY SUCCESS RATE:\")\n",
    "print(industry_df.tail(10).to_string(index=False))"
   ]
  },
  {
   "cell_type": "code",
   "execution_count": 17,
   "metadata": {},
   "outputs": [
    {
     "data": {
      "application/vnd.plotly.v1+json": {
       "config": {
        "plotlyServerURL": "https://plot.ly"
       },
       "data": [
        {
         "customdata": [
          [
           "video",
           19,
           66
          ],
          [
           "analytics",
           39,
           142
          ],
          [
           "real-estate",
           15,
           64
          ],
          [
           "social",
           12,
           56
          ],
          [
           "security",
           15,
           70
          ],
          [
           "data-engineering",
           15,
           76
          ],
          [
           "education",
           26,
           138
          ],
          [
           "gaming",
           13,
           72
          ],
          [
           "computer-vision",
           11,
           61
          ],
          [
           "e-commerce",
           36,
           200
          ],
          [
           "open-source",
           23,
           135
          ],
          [
           "api",
           20,
           119
          ],
          [
           "medical-devices",
           9,
           57
          ],
          [
           "enterprise",
           14,
           94
          ],
          [
           "payments",
           19,
           129
          ],
          [
           "saas",
           145,
           986
          ],
          [
           "productivity",
           20,
           136
          ],
          [
           "machine-learning",
           27,
           197
          ],
          [
           "fintech",
           83,
           613
          ],
          [
           "marketplace",
           36,
           271
          ],
          [
           "proptech",
           9,
           72
          ],
          [
           "hr-tech",
           8,
           65
          ],
          [
           "developer-tools",
           56,
           461
          ],
          [
           "hardware",
           12,
           107
          ],
          [
           "insurance",
           6,
           61
          ],
          [
           "climate",
           13,
           133
          ],
          [
           "crypto-web3",
           8,
           83
          ],
          [
           "b2b",
           89,
           981
          ],
          [
           "consumer",
           18,
           199
          ],
          [
           "logistics",
           10,
           111
          ]
         ],
         "hovertemplate": "Number of Companies=%{x}<br>Success Rate=%{y}<br>Avg_Team_Size=%{marker.size}<br>Industry=%{customdata[0]}<br>Successful=%{customdata[1]}<br>Active=%{customdata[2]}<br>% Solo Founders=%{marker.color}<extra></extra>",
         "legendgroup": "",
         "marker": {
          "color": {
           "bdata": "nZycnJyczD9Y+nO240PQP14tbsL8rsY/tbS0tLS01D+Uk5OTk5PTP5h+6Zd+6cc/kMH5GJyP0T9UVFRUVFTUP6uqqqqqqso/rggaTuq+zD9oICod2TPQP9JqEqL4i8w/TjbZZJNN1j9oL6G9hPbSP8ln3WCKfMY/Jo6kuwm/zD+e2Imd2InNP5IkSZIkSc4/GMikeIFMyj8GI9LsjE3RP+Dp1vywSLk/xIgRI0aMyD8LlfecJ/DPP9EZrNAZrNA/8asxkR6ozD/u3Llz587NP9ACLdACLdA/E+idupaDyz//aH+0P9rPP3TRRRdddNE/",
           "dtype": "f8"
          },
          "coloraxis": "coloraxis",
          "size": {
           "bdata": "SEhISEjIQkBSnSYHmZc7QKRBGqRBGjRAxMPDw8NDQ0DND4uUgSdAQH/pl37pF0BANj8sUgbeS0BVVVVVVRVGQOqgDuqgDjZAFrKQhSyEYUA1SIM0SMM+QNEQf9y6vD5AF1100UUXLEAu5VIu5VI0QEw9Gb9dSlFAoqVUMlwzSUBhtgthtgspQFECFlECFkVA9xHcR3APU0AKFgWLgkVbQGZmZmZmLkZAxIgRI0bsZUBb8caCZyk3QPyNsvuNsjhASQ9Uzm5hQ0BX2BxItAJLQHFH3BF35FZAD6GH0EPoQkCzzyE1wdhHQKzQGazQmWRA",
           "dtype": "f8"
          },
          "sizemode": "area",
          "sizeref": 0.438458904109589,
          "symbol": "circle"
         },
         "mode": "markers+text",
         "name": "",
         "orientation": "v",
         "showlegend": false,
         "text": [
          "video",
          "analytics",
          "real-estate",
          "social",
          "security",
          "data-engineering",
          "education",
          "gaming",
          "computer-vision",
          "e-commerce",
          "open-source",
          "api",
          "medical-devices",
          "enterprise",
          "payments",
          "saas",
          "productivity",
          "machine-learning",
          "fintech",
          "marketplace",
          "proptech",
          "hr-tech",
          "developer-tools",
          "hardware",
          "insurance",
          "climate",
          "crypto-web3",
          "b2b",
          "consumer",
          "logistics"
         ],
         "textposition": "top center",
         "type": "scatter",
         "x": {
          "bdata": "VQC1AE8ARABVAFsApABVAEgA7ACeAIsAQgBsAJQAawScAOAAuAIzAVEASQAFAncAQwCSAFsALgTZAHkA",
          "dtype": "i2"
         },
         "xaxis": "x",
         "y": {
          "bdata": "nZycnJyczD+gsx0fgpTLP5wwv6vFTcg/l5aWlpaWxj+XlpaWlpbGP5VRGZVRGcU/S9SuRO1KxD+Uk5OTk5PDP+Q4juM4jsM/78tjK4KGwz9EpSN7BqLCP6Ab8/TRasI/dNFFF110wT97Ce0ltJfAP+sGU+SzbsA/kAZpkAZpwD+QBmmQBmnAP7dt27Zt274/s3XoN1uHvj986XjVAAW+PxzHcRzHcbw/4MCBAwcOvD8SLLtOrbq7Pxqs0Bms0Lk/jYn0QOXstj+2bNmyZcu2PxdogRZogbY/COlPDyBLtT+q8FR4Kjy1P7RD4MYyKLU/",
          "dtype": "f8"
         },
         "yaxis": "y"
        }
       ],
       "layout": {
        "coloraxis": {
         "colorbar": {
          "title": {
           "text": "% Solo Founders"
          }
         },
         "colorscale": [
          [
           0,
           "rgb(165,0,38)"
          ],
          [
           0.1,
           "rgb(215,48,39)"
          ],
          [
           0.2,
           "rgb(244,109,67)"
          ],
          [
           0.3,
           "rgb(253,174,97)"
          ],
          [
           0.4,
           "rgb(254,224,139)"
          ],
          [
           0.5,
           "rgb(255,255,191)"
          ],
          [
           0.6,
           "rgb(217,239,139)"
          ],
          [
           0.7,
           "rgb(166,217,106)"
          ],
          [
           0.8,
           "rgb(102,189,99)"
          ],
          [
           0.9,
           "rgb(26,152,80)"
          ],
          [
           1,
           "rgb(0,104,55)"
          ]
         ]
        },
        "height": 600,
        "legend": {
         "itemsizing": "constant",
         "tracegroupgap": 0
        },
        "template": {
         "data": {
          "bar": [
           {
            "error_x": {
             "color": "#2a3f5f"
            },
            "error_y": {
             "color": "#2a3f5f"
            },
            "marker": {
             "line": {
              "color": "#E5ECF6",
              "width": 0.5
             },
             "pattern": {
              "fillmode": "overlay",
              "size": 10,
              "solidity": 0.2
             }
            },
            "type": "bar"
           }
          ],
          "barpolar": [
           {
            "marker": {
             "line": {
              "color": "#E5ECF6",
              "width": 0.5
             },
             "pattern": {
              "fillmode": "overlay",
              "size": 10,
              "solidity": 0.2
             }
            },
            "type": "barpolar"
           }
          ],
          "carpet": [
           {
            "aaxis": {
             "endlinecolor": "#2a3f5f",
             "gridcolor": "white",
             "linecolor": "white",
             "minorgridcolor": "white",
             "startlinecolor": "#2a3f5f"
            },
            "baxis": {
             "endlinecolor": "#2a3f5f",
             "gridcolor": "white",
             "linecolor": "white",
             "minorgridcolor": "white",
             "startlinecolor": "#2a3f5f"
            },
            "type": "carpet"
           }
          ],
          "choropleth": [
           {
            "colorbar": {
             "outlinewidth": 0,
             "ticks": ""
            },
            "type": "choropleth"
           }
          ],
          "contour": [
           {
            "colorbar": {
             "outlinewidth": 0,
             "ticks": ""
            },
            "colorscale": [
             [
              0,
              "#0d0887"
             ],
             [
              0.1111111111111111,
              "#46039f"
             ],
             [
              0.2222222222222222,
              "#7201a8"
             ],
             [
              0.3333333333333333,
              "#9c179e"
             ],
             [
              0.4444444444444444,
              "#bd3786"
             ],
             [
              0.5555555555555556,
              "#d8576b"
             ],
             [
              0.6666666666666666,
              "#ed7953"
             ],
             [
              0.7777777777777778,
              "#fb9f3a"
             ],
             [
              0.8888888888888888,
              "#fdca26"
             ],
             [
              1,
              "#f0f921"
             ]
            ],
            "type": "contour"
           }
          ],
          "contourcarpet": [
           {
            "colorbar": {
             "outlinewidth": 0,
             "ticks": ""
            },
            "type": "contourcarpet"
           }
          ],
          "heatmap": [
           {
            "colorbar": {
             "outlinewidth": 0,
             "ticks": ""
            },
            "colorscale": [
             [
              0,
              "#0d0887"
             ],
             [
              0.1111111111111111,
              "#46039f"
             ],
             [
              0.2222222222222222,
              "#7201a8"
             ],
             [
              0.3333333333333333,
              "#9c179e"
             ],
             [
              0.4444444444444444,
              "#bd3786"
             ],
             [
              0.5555555555555556,
              "#d8576b"
             ],
             [
              0.6666666666666666,
              "#ed7953"
             ],
             [
              0.7777777777777778,
              "#fb9f3a"
             ],
             [
              0.8888888888888888,
              "#fdca26"
             ],
             [
              1,
              "#f0f921"
             ]
            ],
            "type": "heatmap"
           }
          ],
          "histogram": [
           {
            "marker": {
             "pattern": {
              "fillmode": "overlay",
              "size": 10,
              "solidity": 0.2
             }
            },
            "type": "histogram"
           }
          ],
          "histogram2d": [
           {
            "colorbar": {
             "outlinewidth": 0,
             "ticks": ""
            },
            "colorscale": [
             [
              0,
              "#0d0887"
             ],
             [
              0.1111111111111111,
              "#46039f"
             ],
             [
              0.2222222222222222,
              "#7201a8"
             ],
             [
              0.3333333333333333,
              "#9c179e"
             ],
             [
              0.4444444444444444,
              "#bd3786"
             ],
             [
              0.5555555555555556,
              "#d8576b"
             ],
             [
              0.6666666666666666,
              "#ed7953"
             ],
             [
              0.7777777777777778,
              "#fb9f3a"
             ],
             [
              0.8888888888888888,
              "#fdca26"
             ],
             [
              1,
              "#f0f921"
             ]
            ],
            "type": "histogram2d"
           }
          ],
          "histogram2dcontour": [
           {
            "colorbar": {
             "outlinewidth": 0,
             "ticks": ""
            },
            "colorscale": [
             [
              0,
              "#0d0887"
             ],
             [
              0.1111111111111111,
              "#46039f"
             ],
             [
              0.2222222222222222,
              "#7201a8"
             ],
             [
              0.3333333333333333,
              "#9c179e"
             ],
             [
              0.4444444444444444,
              "#bd3786"
             ],
             [
              0.5555555555555556,
              "#d8576b"
             ],
             [
              0.6666666666666666,
              "#ed7953"
             ],
             [
              0.7777777777777778,
              "#fb9f3a"
             ],
             [
              0.8888888888888888,
              "#fdca26"
             ],
             [
              1,
              "#f0f921"
             ]
            ],
            "type": "histogram2dcontour"
           }
          ],
          "mesh3d": [
           {
            "colorbar": {
             "outlinewidth": 0,
             "ticks": ""
            },
            "type": "mesh3d"
           }
          ],
          "parcoords": [
           {
            "line": {
             "colorbar": {
              "outlinewidth": 0,
              "ticks": ""
             }
            },
            "type": "parcoords"
           }
          ],
          "pie": [
           {
            "automargin": true,
            "type": "pie"
           }
          ],
          "scatter": [
           {
            "fillpattern": {
             "fillmode": "overlay",
             "size": 10,
             "solidity": 0.2
            },
            "type": "scatter"
           }
          ],
          "scatter3d": [
           {
            "line": {
             "colorbar": {
              "outlinewidth": 0,
              "ticks": ""
             }
            },
            "marker": {
             "colorbar": {
              "outlinewidth": 0,
              "ticks": ""
             }
            },
            "type": "scatter3d"
           }
          ],
          "scattercarpet": [
           {
            "marker": {
             "colorbar": {
              "outlinewidth": 0,
              "ticks": ""
             }
            },
            "type": "scattercarpet"
           }
          ],
          "scattergeo": [
           {
            "marker": {
             "colorbar": {
              "outlinewidth": 0,
              "ticks": ""
             }
            },
            "type": "scattergeo"
           }
          ],
          "scattergl": [
           {
            "marker": {
             "colorbar": {
              "outlinewidth": 0,
              "ticks": ""
             }
            },
            "type": "scattergl"
           }
          ],
          "scattermap": [
           {
            "marker": {
             "colorbar": {
              "outlinewidth": 0,
              "ticks": ""
             }
            },
            "type": "scattermap"
           }
          ],
          "scattermapbox": [
           {
            "marker": {
             "colorbar": {
              "outlinewidth": 0,
              "ticks": ""
             }
            },
            "type": "scattermapbox"
           }
          ],
          "scatterpolar": [
           {
            "marker": {
             "colorbar": {
              "outlinewidth": 0,
              "ticks": ""
             }
            },
            "type": "scatterpolar"
           }
          ],
          "scatterpolargl": [
           {
            "marker": {
             "colorbar": {
              "outlinewidth": 0,
              "ticks": ""
             }
            },
            "type": "scatterpolargl"
           }
          ],
          "scatterternary": [
           {
            "marker": {
             "colorbar": {
              "outlinewidth": 0,
              "ticks": ""
             }
            },
            "type": "scatterternary"
           }
          ],
          "surface": [
           {
            "colorbar": {
             "outlinewidth": 0,
             "ticks": ""
            },
            "colorscale": [
             [
              0,
              "#0d0887"
             ],
             [
              0.1111111111111111,
              "#46039f"
             ],
             [
              0.2222222222222222,
              "#7201a8"
             ],
             [
              0.3333333333333333,
              "#9c179e"
             ],
             [
              0.4444444444444444,
              "#bd3786"
             ],
             [
              0.5555555555555556,
              "#d8576b"
             ],
             [
              0.6666666666666666,
              "#ed7953"
             ],
             [
              0.7777777777777778,
              "#fb9f3a"
             ],
             [
              0.8888888888888888,
              "#fdca26"
             ],
             [
              1,
              "#f0f921"
             ]
            ],
            "type": "surface"
           }
          ],
          "table": [
           {
            "cells": {
             "fill": {
              "color": "#EBF0F8"
             },
             "line": {
              "color": "white"
             }
            },
            "header": {
             "fill": {
              "color": "#C8D4E3"
             },
             "line": {
              "color": "white"
             }
            },
            "type": "table"
           }
          ]
         },
         "layout": {
          "annotationdefaults": {
           "arrowcolor": "#2a3f5f",
           "arrowhead": 0,
           "arrowwidth": 1
          },
          "autotypenumbers": "strict",
          "coloraxis": {
           "colorbar": {
            "outlinewidth": 0,
            "ticks": ""
           }
          },
          "colorscale": {
           "diverging": [
            [
             0,
             "#8e0152"
            ],
            [
             0.1,
             "#c51b7d"
            ],
            [
             0.2,
             "#de77ae"
            ],
            [
             0.3,
             "#f1b6da"
            ],
            [
             0.4,
             "#fde0ef"
            ],
            [
             0.5,
             "#f7f7f7"
            ],
            [
             0.6,
             "#e6f5d0"
            ],
            [
             0.7,
             "#b8e186"
            ],
            [
             0.8,
             "#7fbc41"
            ],
            [
             0.9,
             "#4d9221"
            ],
            [
             1,
             "#276419"
            ]
           ],
           "sequential": [
            [
             0,
             "#0d0887"
            ],
            [
             0.1111111111111111,
             "#46039f"
            ],
            [
             0.2222222222222222,
             "#7201a8"
            ],
            [
             0.3333333333333333,
             "#9c179e"
            ],
            [
             0.4444444444444444,
             "#bd3786"
            ],
            [
             0.5555555555555556,
             "#d8576b"
            ],
            [
             0.6666666666666666,
             "#ed7953"
            ],
            [
             0.7777777777777778,
             "#fb9f3a"
            ],
            [
             0.8888888888888888,
             "#fdca26"
            ],
            [
             1,
             "#f0f921"
            ]
           ],
           "sequentialminus": [
            [
             0,
             "#0d0887"
            ],
            [
             0.1111111111111111,
             "#46039f"
            ],
            [
             0.2222222222222222,
             "#7201a8"
            ],
            [
             0.3333333333333333,
             "#9c179e"
            ],
            [
             0.4444444444444444,
             "#bd3786"
            ],
            [
             0.5555555555555556,
             "#d8576b"
            ],
            [
             0.6666666666666666,
             "#ed7953"
            ],
            [
             0.7777777777777778,
             "#fb9f3a"
            ],
            [
             0.8888888888888888,
             "#fdca26"
            ],
            [
             1,
             "#f0f921"
            ]
           ]
          },
          "colorway": [
           "#636efa",
           "#EF553B",
           "#00cc96",
           "#ab63fa",
           "#FFA15A",
           "#19d3f3",
           "#FF6692",
           "#B6E880",
           "#FF97FF",
           "#FECB52"
          ],
          "font": {
           "color": "#2a3f5f"
          },
          "geo": {
           "bgcolor": "white",
           "lakecolor": "white",
           "landcolor": "#E5ECF6",
           "showlakes": true,
           "showland": true,
           "subunitcolor": "white"
          },
          "hoverlabel": {
           "align": "left"
          },
          "hovermode": "closest",
          "mapbox": {
           "style": "light"
          },
          "paper_bgcolor": "white",
          "plot_bgcolor": "#E5ECF6",
          "polar": {
           "angularaxis": {
            "gridcolor": "white",
            "linecolor": "white",
            "ticks": ""
           },
           "bgcolor": "#E5ECF6",
           "radialaxis": {
            "gridcolor": "white",
            "linecolor": "white",
            "ticks": ""
           }
          },
          "scene": {
           "xaxis": {
            "backgroundcolor": "#E5ECF6",
            "gridcolor": "white",
            "gridwidth": 2,
            "linecolor": "white",
            "showbackground": true,
            "ticks": "",
            "zerolinecolor": "white"
           },
           "yaxis": {
            "backgroundcolor": "#E5ECF6",
            "gridcolor": "white",
            "gridwidth": 2,
            "linecolor": "white",
            "showbackground": true,
            "ticks": "",
            "zerolinecolor": "white"
           },
           "zaxis": {
            "backgroundcolor": "#E5ECF6",
            "gridcolor": "white",
            "gridwidth": 2,
            "linecolor": "white",
            "showbackground": true,
            "ticks": "",
            "zerolinecolor": "white"
           }
          },
          "shapedefaults": {
           "line": {
            "color": "#2a3f5f"
           }
          },
          "ternary": {
           "aaxis": {
            "gridcolor": "white",
            "linecolor": "white",
            "ticks": ""
           },
           "baxis": {
            "gridcolor": "white",
            "linecolor": "white",
            "ticks": ""
           },
           "bgcolor": "#E5ECF6",
           "caxis": {
            "gridcolor": "white",
            "linecolor": "white",
            "ticks": ""
           }
          },
          "title": {
           "x": 0.05
          },
          "xaxis": {
           "automargin": true,
           "gridcolor": "white",
           "linecolor": "white",
           "ticks": "",
           "title": {
            "standoff": 15
           },
           "zerolinecolor": "white",
           "zerolinewidth": 2
          },
          "yaxis": {
           "automargin": true,
           "gridcolor": "white",
           "linecolor": "white",
           "ticks": "",
           "title": {
            "standoff": 15
           },
           "zerolinecolor": "white",
           "zerolinewidth": 2
          }
         }
        },
        "title": {
         "text": "Industry Map: Saturation vs Success Rate (Top 30)"
        },
        "xaxis": {
         "anchor": "y",
         "domain": [
          0,
          1
         ],
         "title": {
          "text": "Number of Companies"
         }
        },
        "yaxis": {
         "anchor": "x",
         "domain": [
          0,
          1
         ],
         "title": {
          "text": "Success Rate"
         }
        }
       }
      }
     },
     "metadata": {},
     "output_type": "display_data"
    }
   ],
   "source": [
    "# Industry saturation vs success (bubble chart)\n",
    "fig = px.scatter(\n",
    "    industry_df.head(30),\n",
    "    x='Total',\n",
    "    y='Success_Rate',\n",
    "    size='Avg_Team_Size',\n",
    "    color='Solo_Pct',\n",
    "    hover_data=['Industry', 'Successful', 'Active'],\n",
    "    text='Industry',\n",
    "    title='Industry Map: Saturation vs Success Rate (Top 30)',\n",
    "    labels={'Total': 'Number of Companies', 'Success_Rate': 'Success Rate', 'Solo_Pct': '% Solo Founders'},\n",
    "    color_continuous_scale='RdYlGn'\n",
    ")\n",
    "\n",
    "fig.update_traces(textposition='top center')\n",
    "fig.update_layout(height=600)\n",
    "fig.show()"
   ]
  },
  {
   "cell_type": "code",
   "execution_count": 18,
   "metadata": {},
   "outputs": [
    {
     "data": {
      "application/vnd.plotly.v1+json": {
       "config": {
        "plotlyServerURL": "https://plot.ly"
       },
       "data": [
        {
         "hovertemplate": "Industry=saas<br>Year=%{x}<br># Companies per Year=%{y}<extra></extra>",
         "legendgroup": "saas",
         "line": {
          "color": "#636efa",
          "dash": "solid"
         },
         "marker": {
          "symbol": "circle"
         },
         "mode": "lines",
         "name": "saas",
         "orientation": "v",
         "showlegend": true,
         "type": "scatter",
         "x": {
          "bdata": "1QfWB9cH2AfZB9oH2wfcB90H3gffB+AH4QfiB+MH5AflB+YH5wfoB+kH",
          "dtype": "i2"
         },
         "xaxis": "x",
         "y": {
          "bdata": "AAABAAEAAwABAAEAEgARAAkAEwAiABkAGgAqAEQAfQDdALUAhQBiAGwA",
          "dtype": "i2"
         },
         "yaxis": "y"
        },
        {
         "hovertemplate": "Industry=b2b<br>Year=%{x}<br># Companies per Year=%{y}<extra></extra>",
         "legendgroup": "b2b",
         "line": {
          "color": "#EF553B",
          "dash": "solid"
         },
         "marker": {
          "symbol": "circle"
         },
         "mode": "lines",
         "name": "b2b",
         "orientation": "v",
         "showlegend": true,
         "type": "scatter",
         "x": {
          "bdata": "1QfWB9cH2AfZB9oH2wfcB90H3gffB+AH4QfiB+MH5AflB+YH5wfoB+kH",
          "dtype": "i2"
         },
         "xaxis": "x",
         "y": {
          "bdata": "AAAAAAEAAAABAAAABwALAAUADQANAAoAFQAXAC0AaQC4AMAAmwCTAIkA",
          "dtype": "i2"
         },
         "yaxis": "y"
        },
        {
         "hovertemplate": "Industry=artificial-intelligence<br>Year=%{x}<br># Companies per Year=%{y}<extra></extra>",
         "legendgroup": "artificial-intelligence",
         "line": {
          "color": "#00cc96",
          "dash": "solid"
         },
         "marker": {
          "symbol": "circle"
         },
         "mode": "lines",
         "name": "artificial-intelligence",
         "orientation": "v",
         "showlegend": true,
         "type": "scatter",
         "x": {
          "bdata": "1QfWB9cH2AfZB9oH2wfcB90H3gffB+AH4QfiB+MH5AflB+YH5wfoB+kH",
          "dtype": "i2"
         },
         "xaxis": "x",
         "y": {
          "bdata": "AAAAAAAAAQABAAAAAAACAAMAAwAKABEAGgAYAB8AJQBNAFIAgwDJAKYA",
          "dtype": "i2"
         },
         "yaxis": "y"
        },
        {
         "hovertemplate": "Industry=fintech<br>Year=%{x}<br># Companies per Year=%{y}<extra></extra>",
         "legendgroup": "fintech",
         "line": {
          "color": "#ab63fa",
          "dash": "solid"
         },
         "marker": {
          "symbol": "circle"
         },
         "mode": "lines",
         "name": "fintech",
         "orientation": "v",
         "showlegend": true,
         "type": "scatter",
         "x": {
          "bdata": "1QfWB9cH2AfZB9oH2wfcB90H3gffB+AH4QfiB+MH5AflB+YH5wfoB+kH",
          "dtype": "i2"
         },
         "xaxis": "x",
         "y": {
          "bdata": "AAAAAAEAAAACAAIABQAHAAUADwAWABQAGwAhADYATwCQAJcANQAsACAA",
          "dtype": "i2"
         },
         "yaxis": "y"
        },
        {
         "hovertemplate": "Industry=ai<br>Year=%{x}<br># Companies per Year=%{y}<extra></extra>",
         "legendgroup": "ai",
         "line": {
          "color": "#FFA15A",
          "dash": "solid"
         },
         "marker": {
          "symbol": "circle"
         },
         "mode": "lines",
         "name": "ai",
         "orientation": "v",
         "showlegend": true,
         "type": "scatter",
         "x": {
          "bdata": "1QfWB9cH2AfZB9oH2wfcB90H3gffB+AH4QfiB+MH5AflB+YH5wfoB+kH",
          "dtype": "i2"
         },
         "xaxis": "x",
         "y": {
          "bdata": "AAAAAAAAAAAAAAAAAQABAAAAAwAGAAgACQAPABAAHAAzAFwAcQCrAKsA",
          "dtype": "i2"
         },
         "yaxis": "y"
        },
        {
         "hovertemplate": "Industry=developer-tools<br>Year=%{x}<br># Companies per Year=%{y}<extra></extra>",
         "legendgroup": "developer-tools",
         "line": {
          "color": "#19d3f3",
          "dash": "solid"
         },
         "marker": {
          "symbol": "circle"
         },
         "mode": "lines",
         "name": "developer-tools",
         "orientation": "v",
         "showlegend": true,
         "type": "scatter",
         "x": {
          "bdata": "1QfWB9cH2AfZB9oH2wfcB90H3gffB+AH4QfiB+MH5AflB+YH5wfoB+kH",
          "dtype": "i2"
         },
         "xaxis": "x",
         "y": {
          "bdata": "AAAAAQEABwgEBA0IBw4gMEM+W1FF",
          "dtype": "i1"
         },
         "yaxis": "y"
        },
        {
         "hovertemplate": "Industry=marketplace<br>Year=%{x}<br># Companies per Year=%{y}<extra></extra>",
         "legendgroup": "marketplace",
         "line": {
          "color": "#FF6692",
          "dash": "solid"
         },
         "marker": {
          "symbol": "circle"
         },
         "mode": "lines",
         "name": "marketplace",
         "orientation": "v",
         "showlegend": true,
         "type": "scatter",
         "x": {
          "bdata": "1QfWB9cH2AfZB9oH2wfcB90H3gffB+AH4QfiB+MH5AflB+YH5wfoB+kH",
          "dtype": "i2"
         },
         "xaxis": "x",
         "y": {
          "bdata": "AAEAAQUEDAgMDhAUFg4XHzUmDQwI",
          "dtype": "i1"
         },
         "yaxis": "y"
        },
        {
         "hovertemplate": "Industry=generative-ai<br>Year=%{x}<br># Companies per Year=%{y}<extra></extra>",
         "legendgroup": "generative-ai",
         "line": {
          "color": "#B6E880",
          "dash": "solid"
         },
         "marker": {
          "symbol": "circle"
         },
         "mode": "lines",
         "name": "generative-ai",
         "orientation": "v",
         "showlegend": true,
         "type": "scatter",
         "x": {
          "bdata": "1QfWB9cH2AfZB9oH2wfcB90H3gffB+AH4QfiB+MH5AflB+YH5wfoB+kH",
          "dtype": "i2"
         },
         "xaxis": "x",
         "y": {
          "bdata": "AAAAAAAAAAAAAQEAAwUGCxQnVDYs",
          "dtype": "i1"
         },
         "yaxis": "y"
        },
        {
         "hovertemplate": "Industry=e-commerce<br>Year=%{x}<br># Companies per Year=%{y}<extra></extra>",
         "legendgroup": "e-commerce",
         "line": {
          "color": "#FF97FF",
          "dash": "solid"
         },
         "marker": {
          "symbol": "circle"
         },
         "mode": "lines",
         "name": "e-commerce",
         "orientation": "v",
         "showlegend": true,
         "type": "scatter",
         "x": {
          "bdata": "1QfWB9cH2AfZB9oH2wfcB90H3gffB+AH4QfiB+MH5AflB+YH5wfoB+kH",
          "dtype": "i2"
         },
         "xaxis": "x",
         "y": {
          "bdata": "AAEAAQABBwkKCAsNCAwTFjEiCwsJ",
          "dtype": "i1"
         },
         "yaxis": "y"
        },
        {
         "hovertemplate": "Industry=machine-learning<br>Year=%{x}<br># Companies per Year=%{y}<extra></extra>",
         "legendgroup": "machine-learning",
         "line": {
          "color": "#FECB52",
          "dash": "solid"
         },
         "marker": {
          "symbol": "circle"
         },
         "mode": "lines",
         "name": "machine-learning",
         "orientation": "v",
         "showlegend": true,
         "type": "scatter",
         "x": {
          "bdata": "1QfWB9cH2AfZB9oH2wfcB90H3gffB+AH4QfiB+MH5AflB+YH5wfoB+kH",
          "dtype": "i2"
         },
         "xaxis": "x",
         "y": {
          "bdata": "AAAAAAEAAgEABwcGCg4OGx8nGRkP",
          "dtype": "i1"
         },
         "yaxis": "y"
        }
       ],
       "layout": {
        "height": 500,
        "legend": {
         "title": {
          "text": "Industry"
         },
         "tracegroupgap": 0
        },
        "template": {
         "data": {
          "bar": [
           {
            "error_x": {
             "color": "#2a3f5f"
            },
            "error_y": {
             "color": "#2a3f5f"
            },
            "marker": {
             "line": {
              "color": "#E5ECF6",
              "width": 0.5
             },
             "pattern": {
              "fillmode": "overlay",
              "size": 10,
              "solidity": 0.2
             }
            },
            "type": "bar"
           }
          ],
          "barpolar": [
           {
            "marker": {
             "line": {
              "color": "#E5ECF6",
              "width": 0.5
             },
             "pattern": {
              "fillmode": "overlay",
              "size": 10,
              "solidity": 0.2
             }
            },
            "type": "barpolar"
           }
          ],
          "carpet": [
           {
            "aaxis": {
             "endlinecolor": "#2a3f5f",
             "gridcolor": "white",
             "linecolor": "white",
             "minorgridcolor": "white",
             "startlinecolor": "#2a3f5f"
            },
            "baxis": {
             "endlinecolor": "#2a3f5f",
             "gridcolor": "white",
             "linecolor": "white",
             "minorgridcolor": "white",
             "startlinecolor": "#2a3f5f"
            },
            "type": "carpet"
           }
          ],
          "choropleth": [
           {
            "colorbar": {
             "outlinewidth": 0,
             "ticks": ""
            },
            "type": "choropleth"
           }
          ],
          "contour": [
           {
            "colorbar": {
             "outlinewidth": 0,
             "ticks": ""
            },
            "colorscale": [
             [
              0,
              "#0d0887"
             ],
             [
              0.1111111111111111,
              "#46039f"
             ],
             [
              0.2222222222222222,
              "#7201a8"
             ],
             [
              0.3333333333333333,
              "#9c179e"
             ],
             [
              0.4444444444444444,
              "#bd3786"
             ],
             [
              0.5555555555555556,
              "#d8576b"
             ],
             [
              0.6666666666666666,
              "#ed7953"
             ],
             [
              0.7777777777777778,
              "#fb9f3a"
             ],
             [
              0.8888888888888888,
              "#fdca26"
             ],
             [
              1,
              "#f0f921"
             ]
            ],
            "type": "contour"
           }
          ],
          "contourcarpet": [
           {
            "colorbar": {
             "outlinewidth": 0,
             "ticks": ""
            },
            "type": "contourcarpet"
           }
          ],
          "heatmap": [
           {
            "colorbar": {
             "outlinewidth": 0,
             "ticks": ""
            },
            "colorscale": [
             [
              0,
              "#0d0887"
             ],
             [
              0.1111111111111111,
              "#46039f"
             ],
             [
              0.2222222222222222,
              "#7201a8"
             ],
             [
              0.3333333333333333,
              "#9c179e"
             ],
             [
              0.4444444444444444,
              "#bd3786"
             ],
             [
              0.5555555555555556,
              "#d8576b"
             ],
             [
              0.6666666666666666,
              "#ed7953"
             ],
             [
              0.7777777777777778,
              "#fb9f3a"
             ],
             [
              0.8888888888888888,
              "#fdca26"
             ],
             [
              1,
              "#f0f921"
             ]
            ],
            "type": "heatmap"
           }
          ],
          "histogram": [
           {
            "marker": {
             "pattern": {
              "fillmode": "overlay",
              "size": 10,
              "solidity": 0.2
             }
            },
            "type": "histogram"
           }
          ],
          "histogram2d": [
           {
            "colorbar": {
             "outlinewidth": 0,
             "ticks": ""
            },
            "colorscale": [
             [
              0,
              "#0d0887"
             ],
             [
              0.1111111111111111,
              "#46039f"
             ],
             [
              0.2222222222222222,
              "#7201a8"
             ],
             [
              0.3333333333333333,
              "#9c179e"
             ],
             [
              0.4444444444444444,
              "#bd3786"
             ],
             [
              0.5555555555555556,
              "#d8576b"
             ],
             [
              0.6666666666666666,
              "#ed7953"
             ],
             [
              0.7777777777777778,
              "#fb9f3a"
             ],
             [
              0.8888888888888888,
              "#fdca26"
             ],
             [
              1,
              "#f0f921"
             ]
            ],
            "type": "histogram2d"
           }
          ],
          "histogram2dcontour": [
           {
            "colorbar": {
             "outlinewidth": 0,
             "ticks": ""
            },
            "colorscale": [
             [
              0,
              "#0d0887"
             ],
             [
              0.1111111111111111,
              "#46039f"
             ],
             [
              0.2222222222222222,
              "#7201a8"
             ],
             [
              0.3333333333333333,
              "#9c179e"
             ],
             [
              0.4444444444444444,
              "#bd3786"
             ],
             [
              0.5555555555555556,
              "#d8576b"
             ],
             [
              0.6666666666666666,
              "#ed7953"
             ],
             [
              0.7777777777777778,
              "#fb9f3a"
             ],
             [
              0.8888888888888888,
              "#fdca26"
             ],
             [
              1,
              "#f0f921"
             ]
            ],
            "type": "histogram2dcontour"
           }
          ],
          "mesh3d": [
           {
            "colorbar": {
             "outlinewidth": 0,
             "ticks": ""
            },
            "type": "mesh3d"
           }
          ],
          "parcoords": [
           {
            "line": {
             "colorbar": {
              "outlinewidth": 0,
              "ticks": ""
             }
            },
            "type": "parcoords"
           }
          ],
          "pie": [
           {
            "automargin": true,
            "type": "pie"
           }
          ],
          "scatter": [
           {
            "fillpattern": {
             "fillmode": "overlay",
             "size": 10,
             "solidity": 0.2
            },
            "type": "scatter"
           }
          ],
          "scatter3d": [
           {
            "line": {
             "colorbar": {
              "outlinewidth": 0,
              "ticks": ""
             }
            },
            "marker": {
             "colorbar": {
              "outlinewidth": 0,
              "ticks": ""
             }
            },
            "type": "scatter3d"
           }
          ],
          "scattercarpet": [
           {
            "marker": {
             "colorbar": {
              "outlinewidth": 0,
              "ticks": ""
             }
            },
            "type": "scattercarpet"
           }
          ],
          "scattergeo": [
           {
            "marker": {
             "colorbar": {
              "outlinewidth": 0,
              "ticks": ""
             }
            },
            "type": "scattergeo"
           }
          ],
          "scattergl": [
           {
            "marker": {
             "colorbar": {
              "outlinewidth": 0,
              "ticks": ""
             }
            },
            "type": "scattergl"
           }
          ],
          "scattermap": [
           {
            "marker": {
             "colorbar": {
              "outlinewidth": 0,
              "ticks": ""
             }
            },
            "type": "scattermap"
           }
          ],
          "scattermapbox": [
           {
            "marker": {
             "colorbar": {
              "outlinewidth": 0,
              "ticks": ""
             }
            },
            "type": "scattermapbox"
           }
          ],
          "scatterpolar": [
           {
            "marker": {
             "colorbar": {
              "outlinewidth": 0,
              "ticks": ""
             }
            },
            "type": "scatterpolar"
           }
          ],
          "scatterpolargl": [
           {
            "marker": {
             "colorbar": {
              "outlinewidth": 0,
              "ticks": ""
             }
            },
            "type": "scatterpolargl"
           }
          ],
          "scatterternary": [
           {
            "marker": {
             "colorbar": {
              "outlinewidth": 0,
              "ticks": ""
             }
            },
            "type": "scatterternary"
           }
          ],
          "surface": [
           {
            "colorbar": {
             "outlinewidth": 0,
             "ticks": ""
            },
            "colorscale": [
             [
              0,
              "#0d0887"
             ],
             [
              0.1111111111111111,
              "#46039f"
             ],
             [
              0.2222222222222222,
              "#7201a8"
             ],
             [
              0.3333333333333333,
              "#9c179e"
             ],
             [
              0.4444444444444444,
              "#bd3786"
             ],
             [
              0.5555555555555556,
              "#d8576b"
             ],
             [
              0.6666666666666666,
              "#ed7953"
             ],
             [
              0.7777777777777778,
              "#fb9f3a"
             ],
             [
              0.8888888888888888,
              "#fdca26"
             ],
             [
              1,
              "#f0f921"
             ]
            ],
            "type": "surface"
           }
          ],
          "table": [
           {
            "cells": {
             "fill": {
              "color": "#EBF0F8"
             },
             "line": {
              "color": "white"
             }
            },
            "header": {
             "fill": {
              "color": "#C8D4E3"
             },
             "line": {
              "color": "white"
             }
            },
            "type": "table"
           }
          ]
         },
         "layout": {
          "annotationdefaults": {
           "arrowcolor": "#2a3f5f",
           "arrowhead": 0,
           "arrowwidth": 1
          },
          "autotypenumbers": "strict",
          "coloraxis": {
           "colorbar": {
            "outlinewidth": 0,
            "ticks": ""
           }
          },
          "colorscale": {
           "diverging": [
            [
             0,
             "#8e0152"
            ],
            [
             0.1,
             "#c51b7d"
            ],
            [
             0.2,
             "#de77ae"
            ],
            [
             0.3,
             "#f1b6da"
            ],
            [
             0.4,
             "#fde0ef"
            ],
            [
             0.5,
             "#f7f7f7"
            ],
            [
             0.6,
             "#e6f5d0"
            ],
            [
             0.7,
             "#b8e186"
            ],
            [
             0.8,
             "#7fbc41"
            ],
            [
             0.9,
             "#4d9221"
            ],
            [
             1,
             "#276419"
            ]
           ],
           "sequential": [
            [
             0,
             "#0d0887"
            ],
            [
             0.1111111111111111,
             "#46039f"
            ],
            [
             0.2222222222222222,
             "#7201a8"
            ],
            [
             0.3333333333333333,
             "#9c179e"
            ],
            [
             0.4444444444444444,
             "#bd3786"
            ],
            [
             0.5555555555555556,
             "#d8576b"
            ],
            [
             0.6666666666666666,
             "#ed7953"
            ],
            [
             0.7777777777777778,
             "#fb9f3a"
            ],
            [
             0.8888888888888888,
             "#fdca26"
            ],
            [
             1,
             "#f0f921"
            ]
           ],
           "sequentialminus": [
            [
             0,
             "#0d0887"
            ],
            [
             0.1111111111111111,
             "#46039f"
            ],
            [
             0.2222222222222222,
             "#7201a8"
            ],
            [
             0.3333333333333333,
             "#9c179e"
            ],
            [
             0.4444444444444444,
             "#bd3786"
            ],
            [
             0.5555555555555556,
             "#d8576b"
            ],
            [
             0.6666666666666666,
             "#ed7953"
            ],
            [
             0.7777777777777778,
             "#fb9f3a"
            ],
            [
             0.8888888888888888,
             "#fdca26"
            ],
            [
             1,
             "#f0f921"
            ]
           ]
          },
          "colorway": [
           "#636efa",
           "#EF553B",
           "#00cc96",
           "#ab63fa",
           "#FFA15A",
           "#19d3f3",
           "#FF6692",
           "#B6E880",
           "#FF97FF",
           "#FECB52"
          ],
          "font": {
           "color": "#2a3f5f"
          },
          "geo": {
           "bgcolor": "white",
           "lakecolor": "white",
           "landcolor": "#E5ECF6",
           "showlakes": true,
           "showland": true,
           "subunitcolor": "white"
          },
          "hoverlabel": {
           "align": "left"
          },
          "hovermode": "closest",
          "mapbox": {
           "style": "light"
          },
          "paper_bgcolor": "white",
          "plot_bgcolor": "#E5ECF6",
          "polar": {
           "angularaxis": {
            "gridcolor": "white",
            "linecolor": "white",
            "ticks": ""
           },
           "bgcolor": "#E5ECF6",
           "radialaxis": {
            "gridcolor": "white",
            "linecolor": "white",
            "ticks": ""
           }
          },
          "scene": {
           "xaxis": {
            "backgroundcolor": "#E5ECF6",
            "gridcolor": "white",
            "gridwidth": 2,
            "linecolor": "white",
            "showbackground": true,
            "ticks": "",
            "zerolinecolor": "white"
           },
           "yaxis": {
            "backgroundcolor": "#E5ECF6",
            "gridcolor": "white",
            "gridwidth": 2,
            "linecolor": "white",
            "showbackground": true,
            "ticks": "",
            "zerolinecolor": "white"
           },
           "zaxis": {
            "backgroundcolor": "#E5ECF6",
            "gridcolor": "white",
            "gridwidth": 2,
            "linecolor": "white",
            "showbackground": true,
            "ticks": "",
            "zerolinecolor": "white"
           }
          },
          "shapedefaults": {
           "line": {
            "color": "#2a3f5f"
           }
          },
          "ternary": {
           "aaxis": {
            "gridcolor": "white",
            "linecolor": "white",
            "ticks": ""
           },
           "baxis": {
            "gridcolor": "white",
            "linecolor": "white",
            "ticks": ""
           },
           "bgcolor": "#E5ECF6",
           "caxis": {
            "gridcolor": "white",
            "linecolor": "white",
            "ticks": ""
           }
          },
          "title": {
           "x": 0.05
          },
          "xaxis": {
           "automargin": true,
           "gridcolor": "white",
           "linecolor": "white",
           "ticks": "",
           "title": {
            "standoff": 15
           },
           "zerolinecolor": "white",
           "zerolinewidth": 2
          },
          "yaxis": {
           "automargin": true,
           "gridcolor": "white",
           "linecolor": "white",
           "ticks": "",
           "title": {
            "standoff": 15
           },
           "zerolinecolor": "white",
           "zerolinewidth": 2
          }
         }
        },
        "title": {
         "text": "Industry Trends Over Time (Top 10 Industries)"
        },
        "xaxis": {
         "anchor": "y",
         "domain": [
          0,
          1
         ],
         "title": {
          "text": "Year"
         }
        },
        "yaxis": {
         "anchor": "x",
         "domain": [
          0,
          1
         ],
         "title": {
          "text": "# Companies per Year"
         }
        }
       }
      }
     },
     "metadata": {},
     "output_type": "display_data"
    }
   ],
   "source": [
    "# Industry trends over time (top 10 industries)\n",
    "top_industries = tag_counts.head(10).index\n",
    "\n",
    "industry_time_data = []\n",
    "for year in sorted(df['batch_year'].dropna().unique()):\n",
    "    year_df = df[df['batch_year'] == year]\n",
    "    for industry in top_industries:\n",
    "        count = year_df['tags'].apply(lambda x: industry in x if isinstance(x, list) else False).sum()\n",
    "        industry_time_data.append({\n",
    "            'Year': year,\n",
    "            'Industry': industry,\n",
    "            'Count': count\n",
    "        })\n",
    "\n",
    "industry_time_df = pd.DataFrame(industry_time_data)\n",
    "\n",
    "fig = px.line(\n",
    "    industry_time_df,\n",
    "    x='Year',\n",
    "    y='Count',\n",
    "    color='Industry',\n",
    "    title='Industry Trends Over Time (Top 10 Industries)',\n",
    "    labels={'Count': '# Companies per Year'}\n",
    ")\n",
    "\n",
    "fig.update_layout(height=500)\n",
    "fig.show()"
   ]
  },
  {
   "cell_type": "markdown",
   "metadata": {},
   "source": [
    "---\n",
    "## 7. Geographic Intelligence\n",
    "\n",
    "Where are successful companies built?"
   ]
  },
  {
   "cell_type": "code",
   "execution_count": 19,
   "metadata": {},
   "outputs": [
    {
     "name": "stdout",
     "output_type": "stream",
     "text": [
      "\n",
      "🌍 SUCCESS RATE BY COUNTRY (min 10 companies):\n",
      "         Total  Successful  Success_Rate  Avg_Team_Size  Solo_Pct\n",
      "country                                                          \n",
      "DK          14           3         0.214         13.714     0.143\n",
      "ES          16           3         0.188         16.812     0.188\n",
      "NL          11           2         0.182         56.364     0.182\n",
      "CA         138          23         0.167         26.650     0.275\n",
      "US        3725         574         0.154         47.367     0.282\n",
      "IL          28           4         0.143         37.074     0.143\n",
      "FR          56           8         0.143         13.571     0.196\n",
      "SG          51           6         0.118         36.059     0.157\n",
      "BR          49           5         0.102         66.104     0.306\n",
      "CH          10           1         0.100          7.100     0.100\n",
      "PK          10           1         0.100         49.400     0.300\n",
      "IN         197          19         0.096        118.546     0.142\n",
      "GB         151          14         0.093         26.750     0.252\n",
      "DE          46           4         0.087         16.739     0.196\n",
      "MX          80           6         0.075        122.557     0.150\n",
      "AR          17           1         0.059         56.824     0.118\n",
      "NG          55           2         0.036         66.741     0.145\n",
      "CO          29           1         0.034        264.414     0.241\n",
      "CL          16           0         0.000         71.250     0.062\n",
      "AE          10           0         0.000         37.200     0.500\n"
     ]
    }
   ],
   "source": [
    "# Success by geography\n",
    "geo_stats = df.groupby('country').agg({\n",
    "    'company_id': 'count',\n",
    "    'is_successful': ['sum', 'mean'],\n",
    "    'team_size': 'mean',\n",
    "    'is_solo': 'mean'\n",
    "}).round(3)\n",
    "\n",
    "geo_stats.columns = ['Total', 'Successful', 'Success_Rate', 'Avg_Team_Size', 'Solo_Pct']\n",
    "geo_stats = geo_stats[geo_stats['Total'] >= 10].sort_values('Success_Rate', ascending=False)\n",
    "\n",
    "print(\"\\n🌍 SUCCESS RATE BY COUNTRY (min 10 companies):\")\n",
    "print(geo_stats.head(20).to_string())"
   ]
  },
  {
   "cell_type": "code",
   "execution_count": 20,
   "metadata": {},
   "outputs": [
    {
     "data": {
      "application/vnd.plotly.v1+json": {
       "config": {
        "plotlyServerURL": "https://plot.ly"
       },
       "data": [
        {
         "marker": {
          "color": "#0099FF"
         },
         "name": "Total Companies",
         "orientation": "h",
         "text": [
          "1986 (15.7%)",
          "523 (10.3%)",
          "132 (8.3%)",
          "109 (11.9%)",
          "107 (13.1%)",
          "94 (20.2%)",
          "85 (23.5%)",
          "75 (20.0%)",
          "61 (21.3%)",
          "55 (14.5%)",
          "54 (9.3%)",
          "53 (13.2%)",
          "52 (9.6%)",
          "50 (12.0%)",
          "47 (2.1%)",
          "39 (15.4%)",
          "36 (8.3%)",
          "35 (25.7%)",
          "34 (14.7%)",
          "33 (21.2%)"
         ],
         "textposition": "outside",
         "type": "bar",
         "x": {
          "bdata": "wgcLAoQAbQBrAF4AVQBLAD0ANwA2ADUANAAyAC8AJwAkACMAIgAhAA==",
          "dtype": "i2"
         },
         "y": [
          "San Francisco",
          "New York",
          "London, United Kingdom",
          "Bengaluru, India",
          "Los Angeles, CA",
          "Palo Alto",
          "Mountain View",
          "Toronto, Canada",
          "Boston",
          "Paris, France",
          "Mexico City, Mexico",
          "Austin, TX",
          "Seattle, WA",
          "Singapore, Singapore",
          "Lagos, Nigeria",
          "Oakland, CA",
          "São Paulo, Brazil",
          "San Mateo, CA",
          "San Jose, CA",
          "Berkeley, CA"
         ]
        }
       ],
       "layout": {
        "height": 600,
        "template": {
         "data": {
          "bar": [
           {
            "error_x": {
             "color": "#2a3f5f"
            },
            "error_y": {
             "color": "#2a3f5f"
            },
            "marker": {
             "line": {
              "color": "#E5ECF6",
              "width": 0.5
             },
             "pattern": {
              "fillmode": "overlay",
              "size": 10,
              "solidity": 0.2
             }
            },
            "type": "bar"
           }
          ],
          "barpolar": [
           {
            "marker": {
             "line": {
              "color": "#E5ECF6",
              "width": 0.5
             },
             "pattern": {
              "fillmode": "overlay",
              "size": 10,
              "solidity": 0.2
             }
            },
            "type": "barpolar"
           }
          ],
          "carpet": [
           {
            "aaxis": {
             "endlinecolor": "#2a3f5f",
             "gridcolor": "white",
             "linecolor": "white",
             "minorgridcolor": "white",
             "startlinecolor": "#2a3f5f"
            },
            "baxis": {
             "endlinecolor": "#2a3f5f",
             "gridcolor": "white",
             "linecolor": "white",
             "minorgridcolor": "white",
             "startlinecolor": "#2a3f5f"
            },
            "type": "carpet"
           }
          ],
          "choropleth": [
           {
            "colorbar": {
             "outlinewidth": 0,
             "ticks": ""
            },
            "type": "choropleth"
           }
          ],
          "contour": [
           {
            "colorbar": {
             "outlinewidth": 0,
             "ticks": ""
            },
            "colorscale": [
             [
              0,
              "#0d0887"
             ],
             [
              0.1111111111111111,
              "#46039f"
             ],
             [
              0.2222222222222222,
              "#7201a8"
             ],
             [
              0.3333333333333333,
              "#9c179e"
             ],
             [
              0.4444444444444444,
              "#bd3786"
             ],
             [
              0.5555555555555556,
              "#d8576b"
             ],
             [
              0.6666666666666666,
              "#ed7953"
             ],
             [
              0.7777777777777778,
              "#fb9f3a"
             ],
             [
              0.8888888888888888,
              "#fdca26"
             ],
             [
              1,
              "#f0f921"
             ]
            ],
            "type": "contour"
           }
          ],
          "contourcarpet": [
           {
            "colorbar": {
             "outlinewidth": 0,
             "ticks": ""
            },
            "type": "contourcarpet"
           }
          ],
          "heatmap": [
           {
            "colorbar": {
             "outlinewidth": 0,
             "ticks": ""
            },
            "colorscale": [
             [
              0,
              "#0d0887"
             ],
             [
              0.1111111111111111,
              "#46039f"
             ],
             [
              0.2222222222222222,
              "#7201a8"
             ],
             [
              0.3333333333333333,
              "#9c179e"
             ],
             [
              0.4444444444444444,
              "#bd3786"
             ],
             [
              0.5555555555555556,
              "#d8576b"
             ],
             [
              0.6666666666666666,
              "#ed7953"
             ],
             [
              0.7777777777777778,
              "#fb9f3a"
             ],
             [
              0.8888888888888888,
              "#fdca26"
             ],
             [
              1,
              "#f0f921"
             ]
            ],
            "type": "heatmap"
           }
          ],
          "histogram": [
           {
            "marker": {
             "pattern": {
              "fillmode": "overlay",
              "size": 10,
              "solidity": 0.2
             }
            },
            "type": "histogram"
           }
          ],
          "histogram2d": [
           {
            "colorbar": {
             "outlinewidth": 0,
             "ticks": ""
            },
            "colorscale": [
             [
              0,
              "#0d0887"
             ],
             [
              0.1111111111111111,
              "#46039f"
             ],
             [
              0.2222222222222222,
              "#7201a8"
             ],
             [
              0.3333333333333333,
              "#9c179e"
             ],
             [
              0.4444444444444444,
              "#bd3786"
             ],
             [
              0.5555555555555556,
              "#d8576b"
             ],
             [
              0.6666666666666666,
              "#ed7953"
             ],
             [
              0.7777777777777778,
              "#fb9f3a"
             ],
             [
              0.8888888888888888,
              "#fdca26"
             ],
             [
              1,
              "#f0f921"
             ]
            ],
            "type": "histogram2d"
           }
          ],
          "histogram2dcontour": [
           {
            "colorbar": {
             "outlinewidth": 0,
             "ticks": ""
            },
            "colorscale": [
             [
              0,
              "#0d0887"
             ],
             [
              0.1111111111111111,
              "#46039f"
             ],
             [
              0.2222222222222222,
              "#7201a8"
             ],
             [
              0.3333333333333333,
              "#9c179e"
             ],
             [
              0.4444444444444444,
              "#bd3786"
             ],
             [
              0.5555555555555556,
              "#d8576b"
             ],
             [
              0.6666666666666666,
              "#ed7953"
             ],
             [
              0.7777777777777778,
              "#fb9f3a"
             ],
             [
              0.8888888888888888,
              "#fdca26"
             ],
             [
              1,
              "#f0f921"
             ]
            ],
            "type": "histogram2dcontour"
           }
          ],
          "mesh3d": [
           {
            "colorbar": {
             "outlinewidth": 0,
             "ticks": ""
            },
            "type": "mesh3d"
           }
          ],
          "parcoords": [
           {
            "line": {
             "colorbar": {
              "outlinewidth": 0,
              "ticks": ""
             }
            },
            "type": "parcoords"
           }
          ],
          "pie": [
           {
            "automargin": true,
            "type": "pie"
           }
          ],
          "scatter": [
           {
            "fillpattern": {
             "fillmode": "overlay",
             "size": 10,
             "solidity": 0.2
            },
            "type": "scatter"
           }
          ],
          "scatter3d": [
           {
            "line": {
             "colorbar": {
              "outlinewidth": 0,
              "ticks": ""
             }
            },
            "marker": {
             "colorbar": {
              "outlinewidth": 0,
              "ticks": ""
             }
            },
            "type": "scatter3d"
           }
          ],
          "scattercarpet": [
           {
            "marker": {
             "colorbar": {
              "outlinewidth": 0,
              "ticks": ""
             }
            },
            "type": "scattercarpet"
           }
          ],
          "scattergeo": [
           {
            "marker": {
             "colorbar": {
              "outlinewidth": 0,
              "ticks": ""
             }
            },
            "type": "scattergeo"
           }
          ],
          "scattergl": [
           {
            "marker": {
             "colorbar": {
              "outlinewidth": 0,
              "ticks": ""
             }
            },
            "type": "scattergl"
           }
          ],
          "scattermap": [
           {
            "marker": {
             "colorbar": {
              "outlinewidth": 0,
              "ticks": ""
             }
            },
            "type": "scattermap"
           }
          ],
          "scattermapbox": [
           {
            "marker": {
             "colorbar": {
              "outlinewidth": 0,
              "ticks": ""
             }
            },
            "type": "scattermapbox"
           }
          ],
          "scatterpolar": [
           {
            "marker": {
             "colorbar": {
              "outlinewidth": 0,
              "ticks": ""
             }
            },
            "type": "scatterpolar"
           }
          ],
          "scatterpolargl": [
           {
            "marker": {
             "colorbar": {
              "outlinewidth": 0,
              "ticks": ""
             }
            },
            "type": "scatterpolargl"
           }
          ],
          "scatterternary": [
           {
            "marker": {
             "colorbar": {
              "outlinewidth": 0,
              "ticks": ""
             }
            },
            "type": "scatterternary"
           }
          ],
          "surface": [
           {
            "colorbar": {
             "outlinewidth": 0,
             "ticks": ""
            },
            "colorscale": [
             [
              0,
              "#0d0887"
             ],
             [
              0.1111111111111111,
              "#46039f"
             ],
             [
              0.2222222222222222,
              "#7201a8"
             ],
             [
              0.3333333333333333,
              "#9c179e"
             ],
             [
              0.4444444444444444,
              "#bd3786"
             ],
             [
              0.5555555555555556,
              "#d8576b"
             ],
             [
              0.6666666666666666,
              "#ed7953"
             ],
             [
              0.7777777777777778,
              "#fb9f3a"
             ],
             [
              0.8888888888888888,
              "#fdca26"
             ],
             [
              1,
              "#f0f921"
             ]
            ],
            "type": "surface"
           }
          ],
          "table": [
           {
            "cells": {
             "fill": {
              "color": "#EBF0F8"
             },
             "line": {
              "color": "white"
             }
            },
            "header": {
             "fill": {
              "color": "#C8D4E3"
             },
             "line": {
              "color": "white"
             }
            },
            "type": "table"
           }
          ]
         },
         "layout": {
          "annotationdefaults": {
           "arrowcolor": "#2a3f5f",
           "arrowhead": 0,
           "arrowwidth": 1
          },
          "autotypenumbers": "strict",
          "coloraxis": {
           "colorbar": {
            "outlinewidth": 0,
            "ticks": ""
           }
          },
          "colorscale": {
           "diverging": [
            [
             0,
             "#8e0152"
            ],
            [
             0.1,
             "#c51b7d"
            ],
            [
             0.2,
             "#de77ae"
            ],
            [
             0.3,
             "#f1b6da"
            ],
            [
             0.4,
             "#fde0ef"
            ],
            [
             0.5,
             "#f7f7f7"
            ],
            [
             0.6,
             "#e6f5d0"
            ],
            [
             0.7,
             "#b8e186"
            ],
            [
             0.8,
             "#7fbc41"
            ],
            [
             0.9,
             "#4d9221"
            ],
            [
             1,
             "#276419"
            ]
           ],
           "sequential": [
            [
             0,
             "#0d0887"
            ],
            [
             0.1111111111111111,
             "#46039f"
            ],
            [
             0.2222222222222222,
             "#7201a8"
            ],
            [
             0.3333333333333333,
             "#9c179e"
            ],
            [
             0.4444444444444444,
             "#bd3786"
            ],
            [
             0.5555555555555556,
             "#d8576b"
            ],
            [
             0.6666666666666666,
             "#ed7953"
            ],
            [
             0.7777777777777778,
             "#fb9f3a"
            ],
            [
             0.8888888888888888,
             "#fdca26"
            ],
            [
             1,
             "#f0f921"
            ]
           ],
           "sequentialminus": [
            [
             0,
             "#0d0887"
            ],
            [
             0.1111111111111111,
             "#46039f"
            ],
            [
             0.2222222222222222,
             "#7201a8"
            ],
            [
             0.3333333333333333,
             "#9c179e"
            ],
            [
             0.4444444444444444,
             "#bd3786"
            ],
            [
             0.5555555555555556,
             "#d8576b"
            ],
            [
             0.6666666666666666,
             "#ed7953"
            ],
            [
             0.7777777777777778,
             "#fb9f3a"
            ],
            [
             0.8888888888888888,
             "#fdca26"
            ],
            [
             1,
             "#f0f921"
            ]
           ]
          },
          "colorway": [
           "#636efa",
           "#EF553B",
           "#00cc96",
           "#ab63fa",
           "#FFA15A",
           "#19d3f3",
           "#FF6692",
           "#B6E880",
           "#FF97FF",
           "#FECB52"
          ],
          "font": {
           "color": "#2a3f5f"
          },
          "geo": {
           "bgcolor": "white",
           "lakecolor": "white",
           "landcolor": "#E5ECF6",
           "showlakes": true,
           "showland": true,
           "subunitcolor": "white"
          },
          "hoverlabel": {
           "align": "left"
          },
          "hovermode": "closest",
          "mapbox": {
           "style": "light"
          },
          "paper_bgcolor": "white",
          "plot_bgcolor": "#E5ECF6",
          "polar": {
           "angularaxis": {
            "gridcolor": "white",
            "linecolor": "white",
            "ticks": ""
           },
           "bgcolor": "#E5ECF6",
           "radialaxis": {
            "gridcolor": "white",
            "linecolor": "white",
            "ticks": ""
           }
          },
          "scene": {
           "xaxis": {
            "backgroundcolor": "#E5ECF6",
            "gridcolor": "white",
            "gridwidth": 2,
            "linecolor": "white",
            "showbackground": true,
            "ticks": "",
            "zerolinecolor": "white"
           },
           "yaxis": {
            "backgroundcolor": "#E5ECF6",
            "gridcolor": "white",
            "gridwidth": 2,
            "linecolor": "white",
            "showbackground": true,
            "ticks": "",
            "zerolinecolor": "white"
           },
           "zaxis": {
            "backgroundcolor": "#E5ECF6",
            "gridcolor": "white",
            "gridwidth": 2,
            "linecolor": "white",
            "showbackground": true,
            "ticks": "",
            "zerolinecolor": "white"
           }
          },
          "shapedefaults": {
           "line": {
            "color": "#2a3f5f"
           }
          },
          "ternary": {
           "aaxis": {
            "gridcolor": "white",
            "linecolor": "white",
            "ticks": ""
           },
           "baxis": {
            "gridcolor": "white",
            "linecolor": "white",
            "ticks": ""
           },
           "bgcolor": "#E5ECF6",
           "caxis": {
            "gridcolor": "white",
            "linecolor": "white",
            "ticks": ""
           }
          },
          "title": {
           "x": 0.05
          },
          "xaxis": {
           "automargin": true,
           "gridcolor": "white",
           "linecolor": "white",
           "ticks": "",
           "title": {
            "standoff": 15
           },
           "zerolinecolor": "white",
           "zerolinewidth": 2
          },
          "yaxis": {
           "automargin": true,
           "gridcolor": "white",
           "linecolor": "white",
           "ticks": "",
           "title": {
            "standoff": 15
           },
           "zerolinecolor": "white",
           "zerolinewidth": 2
          }
         }
        },
        "title": {
         "text": "Top 20 Cities by YC Company Count"
        },
        "xaxis": {
         "title": {
          "text": "Number of Companies"
         }
        }
       }
      }
     },
     "metadata": {},
     "output_type": "display_data"
    }
   ],
   "source": [
    "# City-level analysis\n",
    "city_stats = df.groupby('location').agg({\n",
    "    'company_id': 'count',\n",
    "    'is_successful': ['sum', 'mean'],\n",
    "    'is_solo': 'mean'\n",
    "}).round(3)\n",
    "\n",
    "city_stats.columns = ['Total', 'Successful', 'Success_Rate', 'Solo_Pct']\n",
    "city_stats = city_stats[city_stats['Total'] >= 20].sort_values('Total', ascending=False).head(20)\n",
    "\n",
    "fig = go.Figure()\n",
    "fig.add_trace(go.Bar(\n",
    "    y=city_stats.index,\n",
    "    x=city_stats['Total'],\n",
    "    orientation='h',\n",
    "    name='Total Companies',\n",
    "    marker_color='#0099FF',\n",
    "    text=[f\"{val:.0f} ({sr*100:.1f}%)\" for val, sr in zip(city_stats['Total'], city_stats['Success_Rate'])],\n",
    "    textposition='outside'\n",
    "))\n",
    "\n",
    "fig.update_layout(\n",
    "    title='Top 20 Cities by YC Company Count',\n",
    "    xaxis_title='Number of Companies',\n",
    "    height=600\n",
    ")\n",
    "fig.show()"
   ]
  },
  {
   "cell_type": "markdown",
   "metadata": {},
   "source": [
    "---\n",
    "## 8. Advanced Visualizations\n",
    "\n",
    "Network graphs, Sankey diagrams, and interactive explorations"
   ]
  },
  {
   "cell_type": "code",
   "execution_count": 21,
   "metadata": {},
   "outputs": [
    {
     "data": {
      "application/vnd.plotly.v1+json": {
       "config": {
        "plotlyServerURL": "https://plot.ly"
       },
       "data": [
        {
         "link": {
          "source": [
           7,
           7,
           7,
           7,
           7,
           7,
           7,
           7,
           7,
           7,
           1,
           1,
           1,
           1,
           1,
           1,
           1,
           1,
           1,
           1,
           8,
           8,
           8,
           8,
           8,
           8,
           8,
           8,
           8,
           8,
           0,
           0,
           0,
           0,
           0,
           0,
           0,
           0,
           0,
           0,
           9,
           9,
           9,
           9,
           9,
           9,
           9,
           9,
           9,
           9,
           15,
           15,
           12,
           12,
           4,
           4,
           13,
           13,
           16,
           16,
           10,
           10,
           2,
           2,
           11,
           11,
           5,
           5,
           6,
           6
          ],
          "target": [
           15,
           12,
           4,
           13,
           16,
           10,
           2,
           11,
           5,
           6,
           15,
           12,
           4,
           13,
           16,
           10,
           2,
           11,
           5,
           6,
           15,
           12,
           4,
           13,
           16,
           10,
           2,
           11,
           5,
           6,
           15,
           12,
           4,
           13,
           16,
           10,
           2,
           11,
           5,
           6,
           15,
           12,
           4,
           13,
           16,
           10,
           2,
           11,
           5,
           6,
           3,
           14,
           3,
           14,
           3,
           14,
           3,
           14,
           3,
           14,
           3,
           14,
           3,
           14,
           3,
           14,
           3,
           14,
           3,
           14
          ],
          "value": [
           72,
           13,
           121,
           96,
           50,
           8,
           16,
           31,
           14,
           4,
           78,
           19,
           122,
           79,
           51,
           23,
           16,
           27,
           14,
           7,
           119,
           70,
           37,
           40,
           65,
           38,
           14,
           7,
           5,
           11,
           189,
           134,
           31,
           25,
           38,
           20,
           16,
           4,
           10,
           9,
           157,
           101,
           22,
           36,
           38,
           23,
           16,
           5,
           7,
           17,
           602,
           13,
           330,
           7,
           313,
           20,
           258,
           18,
           222,
           20,
           110,
           2,
           73,
           5,
           73,
           1,
           47,
           3,
           45,
           3
          ]
         },
         "node": {
          "color": "#0099FF",
          "label": [
           "Batch 2024",
           "Batch 2022",
           "b2b",
           "Active",
           "fintech",
           "machine-learning",
           "aiops",
           "Batch 2021",
           "Batch 2023",
           "Batch 2025",
           "generative-ai",
           "marketplace",
           "Other",
           "saas",
           "Acquired",
           "artificial-intelligence",
           "developer-tools"
          ],
          "pad": 15,
          "thickness": 20
         },
         "type": "sankey"
        }
       ],
       "layout": {
        "height": 600,
        "template": {
         "data": {
          "bar": [
           {
            "error_x": {
             "color": "#2a3f5f"
            },
            "error_y": {
             "color": "#2a3f5f"
            },
            "marker": {
             "line": {
              "color": "#E5ECF6",
              "width": 0.5
             },
             "pattern": {
              "fillmode": "overlay",
              "size": 10,
              "solidity": 0.2
             }
            },
            "type": "bar"
           }
          ],
          "barpolar": [
           {
            "marker": {
             "line": {
              "color": "#E5ECF6",
              "width": 0.5
             },
             "pattern": {
              "fillmode": "overlay",
              "size": 10,
              "solidity": 0.2
             }
            },
            "type": "barpolar"
           }
          ],
          "carpet": [
           {
            "aaxis": {
             "endlinecolor": "#2a3f5f",
             "gridcolor": "white",
             "linecolor": "white",
             "minorgridcolor": "white",
             "startlinecolor": "#2a3f5f"
            },
            "baxis": {
             "endlinecolor": "#2a3f5f",
             "gridcolor": "white",
             "linecolor": "white",
             "minorgridcolor": "white",
             "startlinecolor": "#2a3f5f"
            },
            "type": "carpet"
           }
          ],
          "choropleth": [
           {
            "colorbar": {
             "outlinewidth": 0,
             "ticks": ""
            },
            "type": "choropleth"
           }
          ],
          "contour": [
           {
            "colorbar": {
             "outlinewidth": 0,
             "ticks": ""
            },
            "colorscale": [
             [
              0,
              "#0d0887"
             ],
             [
              0.1111111111111111,
              "#46039f"
             ],
             [
              0.2222222222222222,
              "#7201a8"
             ],
             [
              0.3333333333333333,
              "#9c179e"
             ],
             [
              0.4444444444444444,
              "#bd3786"
             ],
             [
              0.5555555555555556,
              "#d8576b"
             ],
             [
              0.6666666666666666,
              "#ed7953"
             ],
             [
              0.7777777777777778,
              "#fb9f3a"
             ],
             [
              0.8888888888888888,
              "#fdca26"
             ],
             [
              1,
              "#f0f921"
             ]
            ],
            "type": "contour"
           }
          ],
          "contourcarpet": [
           {
            "colorbar": {
             "outlinewidth": 0,
             "ticks": ""
            },
            "type": "contourcarpet"
           }
          ],
          "heatmap": [
           {
            "colorbar": {
             "outlinewidth": 0,
             "ticks": ""
            },
            "colorscale": [
             [
              0,
              "#0d0887"
             ],
             [
              0.1111111111111111,
              "#46039f"
             ],
             [
              0.2222222222222222,
              "#7201a8"
             ],
             [
              0.3333333333333333,
              "#9c179e"
             ],
             [
              0.4444444444444444,
              "#bd3786"
             ],
             [
              0.5555555555555556,
              "#d8576b"
             ],
             [
              0.6666666666666666,
              "#ed7953"
             ],
             [
              0.7777777777777778,
              "#fb9f3a"
             ],
             [
              0.8888888888888888,
              "#fdca26"
             ],
             [
              1,
              "#f0f921"
             ]
            ],
            "type": "heatmap"
           }
          ],
          "histogram": [
           {
            "marker": {
             "pattern": {
              "fillmode": "overlay",
              "size": 10,
              "solidity": 0.2
             }
            },
            "type": "histogram"
           }
          ],
          "histogram2d": [
           {
            "colorbar": {
             "outlinewidth": 0,
             "ticks": ""
            },
            "colorscale": [
             [
              0,
              "#0d0887"
             ],
             [
              0.1111111111111111,
              "#46039f"
             ],
             [
              0.2222222222222222,
              "#7201a8"
             ],
             [
              0.3333333333333333,
              "#9c179e"
             ],
             [
              0.4444444444444444,
              "#bd3786"
             ],
             [
              0.5555555555555556,
              "#d8576b"
             ],
             [
              0.6666666666666666,
              "#ed7953"
             ],
             [
              0.7777777777777778,
              "#fb9f3a"
             ],
             [
              0.8888888888888888,
              "#fdca26"
             ],
             [
              1,
              "#f0f921"
             ]
            ],
            "type": "histogram2d"
           }
          ],
          "histogram2dcontour": [
           {
            "colorbar": {
             "outlinewidth": 0,
             "ticks": ""
            },
            "colorscale": [
             [
              0,
              "#0d0887"
             ],
             [
              0.1111111111111111,
              "#46039f"
             ],
             [
              0.2222222222222222,
              "#7201a8"
             ],
             [
              0.3333333333333333,
              "#9c179e"
             ],
             [
              0.4444444444444444,
              "#bd3786"
             ],
             [
              0.5555555555555556,
              "#d8576b"
             ],
             [
              0.6666666666666666,
              "#ed7953"
             ],
             [
              0.7777777777777778,
              "#fb9f3a"
             ],
             [
              0.8888888888888888,
              "#fdca26"
             ],
             [
              1,
              "#f0f921"
             ]
            ],
            "type": "histogram2dcontour"
           }
          ],
          "mesh3d": [
           {
            "colorbar": {
             "outlinewidth": 0,
             "ticks": ""
            },
            "type": "mesh3d"
           }
          ],
          "parcoords": [
           {
            "line": {
             "colorbar": {
              "outlinewidth": 0,
              "ticks": ""
             }
            },
            "type": "parcoords"
           }
          ],
          "pie": [
           {
            "automargin": true,
            "type": "pie"
           }
          ],
          "scatter": [
           {
            "fillpattern": {
             "fillmode": "overlay",
             "size": 10,
             "solidity": 0.2
            },
            "type": "scatter"
           }
          ],
          "scatter3d": [
           {
            "line": {
             "colorbar": {
              "outlinewidth": 0,
              "ticks": ""
             }
            },
            "marker": {
             "colorbar": {
              "outlinewidth": 0,
              "ticks": ""
             }
            },
            "type": "scatter3d"
           }
          ],
          "scattercarpet": [
           {
            "marker": {
             "colorbar": {
              "outlinewidth": 0,
              "ticks": ""
             }
            },
            "type": "scattercarpet"
           }
          ],
          "scattergeo": [
           {
            "marker": {
             "colorbar": {
              "outlinewidth": 0,
              "ticks": ""
             }
            },
            "type": "scattergeo"
           }
          ],
          "scattergl": [
           {
            "marker": {
             "colorbar": {
              "outlinewidth": 0,
              "ticks": ""
             }
            },
            "type": "scattergl"
           }
          ],
          "scattermap": [
           {
            "marker": {
             "colorbar": {
              "outlinewidth": 0,
              "ticks": ""
             }
            },
            "type": "scattermap"
           }
          ],
          "scattermapbox": [
           {
            "marker": {
             "colorbar": {
              "outlinewidth": 0,
              "ticks": ""
             }
            },
            "type": "scattermapbox"
           }
          ],
          "scatterpolar": [
           {
            "marker": {
             "colorbar": {
              "outlinewidth": 0,
              "ticks": ""
             }
            },
            "type": "scatterpolar"
           }
          ],
          "scatterpolargl": [
           {
            "marker": {
             "colorbar": {
              "outlinewidth": 0,
              "ticks": ""
             }
            },
            "type": "scatterpolargl"
           }
          ],
          "scatterternary": [
           {
            "marker": {
             "colorbar": {
              "outlinewidth": 0,
              "ticks": ""
             }
            },
            "type": "scatterternary"
           }
          ],
          "surface": [
           {
            "colorbar": {
             "outlinewidth": 0,
             "ticks": ""
            },
            "colorscale": [
             [
              0,
              "#0d0887"
             ],
             [
              0.1111111111111111,
              "#46039f"
             ],
             [
              0.2222222222222222,
              "#7201a8"
             ],
             [
              0.3333333333333333,
              "#9c179e"
             ],
             [
              0.4444444444444444,
              "#bd3786"
             ],
             [
              0.5555555555555556,
              "#d8576b"
             ],
             [
              0.6666666666666666,
              "#ed7953"
             ],
             [
              0.7777777777777778,
              "#fb9f3a"
             ],
             [
              0.8888888888888888,
              "#fdca26"
             ],
             [
              1,
              "#f0f921"
             ]
            ],
            "type": "surface"
           }
          ],
          "table": [
           {
            "cells": {
             "fill": {
              "color": "#EBF0F8"
             },
             "line": {
              "color": "white"
             }
            },
            "header": {
             "fill": {
              "color": "#C8D4E3"
             },
             "line": {
              "color": "white"
             }
            },
            "type": "table"
           }
          ]
         },
         "layout": {
          "annotationdefaults": {
           "arrowcolor": "#2a3f5f",
           "arrowhead": 0,
           "arrowwidth": 1
          },
          "autotypenumbers": "strict",
          "coloraxis": {
           "colorbar": {
            "outlinewidth": 0,
            "ticks": ""
           }
          },
          "colorscale": {
           "diverging": [
            [
             0,
             "#8e0152"
            ],
            [
             0.1,
             "#c51b7d"
            ],
            [
             0.2,
             "#de77ae"
            ],
            [
             0.3,
             "#f1b6da"
            ],
            [
             0.4,
             "#fde0ef"
            ],
            [
             0.5,
             "#f7f7f7"
            ],
            [
             0.6,
             "#e6f5d0"
            ],
            [
             0.7,
             "#b8e186"
            ],
            [
             0.8,
             "#7fbc41"
            ],
            [
             0.9,
             "#4d9221"
            ],
            [
             1,
             "#276419"
            ]
           ],
           "sequential": [
            [
             0,
             "#0d0887"
            ],
            [
             0.1111111111111111,
             "#46039f"
            ],
            [
             0.2222222222222222,
             "#7201a8"
            ],
            [
             0.3333333333333333,
             "#9c179e"
            ],
            [
             0.4444444444444444,
             "#bd3786"
            ],
            [
             0.5555555555555556,
             "#d8576b"
            ],
            [
             0.6666666666666666,
             "#ed7953"
            ],
            [
             0.7777777777777778,
             "#fb9f3a"
            ],
            [
             0.8888888888888888,
             "#fdca26"
            ],
            [
             1,
             "#f0f921"
            ]
           ],
           "sequentialminus": [
            [
             0,
             "#0d0887"
            ],
            [
             0.1111111111111111,
             "#46039f"
            ],
            [
             0.2222222222222222,
             "#7201a8"
            ],
            [
             0.3333333333333333,
             "#9c179e"
            ],
            [
             0.4444444444444444,
             "#bd3786"
            ],
            [
             0.5555555555555556,
             "#d8576b"
            ],
            [
             0.6666666666666666,
             "#ed7953"
            ],
            [
             0.7777777777777778,
             "#fb9f3a"
            ],
            [
             0.8888888888888888,
             "#fdca26"
            ],
            [
             1,
             "#f0f921"
            ]
           ]
          },
          "colorway": [
           "#636efa",
           "#EF553B",
           "#00cc96",
           "#ab63fa",
           "#FFA15A",
           "#19d3f3",
           "#FF6692",
           "#B6E880",
           "#FF97FF",
           "#FECB52"
          ],
          "font": {
           "color": "#2a3f5f"
          },
          "geo": {
           "bgcolor": "white",
           "lakecolor": "white",
           "landcolor": "#E5ECF6",
           "showlakes": true,
           "showland": true,
           "subunitcolor": "white"
          },
          "hoverlabel": {
           "align": "left"
          },
          "hovermode": "closest",
          "mapbox": {
           "style": "light"
          },
          "paper_bgcolor": "white",
          "plot_bgcolor": "#E5ECF6",
          "polar": {
           "angularaxis": {
            "gridcolor": "white",
            "linecolor": "white",
            "ticks": ""
           },
           "bgcolor": "#E5ECF6",
           "radialaxis": {
            "gridcolor": "white",
            "linecolor": "white",
            "ticks": ""
           }
          },
          "scene": {
           "xaxis": {
            "backgroundcolor": "#E5ECF6",
            "gridcolor": "white",
            "gridwidth": 2,
            "linecolor": "white",
            "showbackground": true,
            "ticks": "",
            "zerolinecolor": "white"
           },
           "yaxis": {
            "backgroundcolor": "#E5ECF6",
            "gridcolor": "white",
            "gridwidth": 2,
            "linecolor": "white",
            "showbackground": true,
            "ticks": "",
            "zerolinecolor": "white"
           },
           "zaxis": {
            "backgroundcolor": "#E5ECF6",
            "gridcolor": "white",
            "gridwidth": 2,
            "linecolor": "white",
            "showbackground": true,
            "ticks": "",
            "zerolinecolor": "white"
           }
          },
          "shapedefaults": {
           "line": {
            "color": "#2a3f5f"
           }
          },
          "ternary": {
           "aaxis": {
            "gridcolor": "white",
            "linecolor": "white",
            "ticks": ""
           },
           "baxis": {
            "gridcolor": "white",
            "linecolor": "white",
            "ticks": ""
           },
           "bgcolor": "#E5ECF6",
           "caxis": {
            "gridcolor": "white",
            "linecolor": "white",
            "ticks": ""
           }
          },
          "title": {
           "x": 0.05
          },
          "xaxis": {
           "automargin": true,
           "gridcolor": "white",
           "linecolor": "white",
           "ticks": "",
           "title": {
            "standoff": 15
           },
           "zerolinecolor": "white",
           "zerolinewidth": 2
          },
          "yaxis": {
           "automargin": true,
           "gridcolor": "white",
           "linecolor": "white",
           "ticks": "",
           "title": {
            "standoff": 15
           },
           "zerolinecolor": "white",
           "zerolinewidth": 2
          }
         }
        },
        "title": {
         "text": "Flow: Recent Batches → Industry → Status"
        }
       }
      }
     },
     "metadata": {},
     "output_type": "display_data"
    }
   ],
   "source": [
    "# Sankey: Batch → Industry → Status\n",
    "# Using recent batches and top industries\n",
    "\n",
    "recent_years = sorted(df['batch_year'].dropna().unique())[-5:]\n",
    "sankey_df = df[df['batch_year'].isin(recent_years)].copy()\n",
    "\n",
    "# Extract primary industry (first tag)\n",
    "sankey_df['primary_industry'] = sankey_df['tags'].apply(\n",
    "    lambda x: x[0] if isinstance(x, list) and len(x) > 0 else 'Other'\n",
    ")\n",
    "\n",
    "# Keep only top 10 industries\n",
    "top_10_industries = sankey_df['primary_industry'].value_counts().head(10).index\n",
    "sankey_df = sankey_df[sankey_df['primary_industry'].isin(top_10_industries)]\n",
    "\n",
    "# Build Sankey data\n",
    "sources = []\n",
    "targets = []\n",
    "values = []\n",
    "\n",
    "# Year → Industry\n",
    "for year in recent_years:\n",
    "    for industry in top_10_industries:\n",
    "        count = len(sankey_df[(sankey_df['batch_year'] == year) & (sankey_df['primary_industry'] == industry)])\n",
    "        if count > 0:\n",
    "            sources.append(f\"Batch {int(year)}\")\n",
    "            targets.append(industry)\n",
    "            values.append(count)\n",
    "\n",
    "# Industry → Status\n",
    "for industry in top_10_industries:\n",
    "    for status in ['Active', 'Acquired', 'Public', 'Inactive']:\n",
    "        count = len(sankey_df[(sankey_df['primary_industry'] == industry) & (sankey_df['success_category'] == status)])\n",
    "        if count > 0:\n",
    "            sources.append(industry)\n",
    "            targets.append(status)\n",
    "            values.append(count)\n",
    "\n",
    "# Create node list\n",
    "all_nodes = list(set(sources + targets))\n",
    "node_dict = {node: idx for idx, node in enumerate(all_nodes)}\n",
    "\n",
    "# Map to indices\n",
    "source_indices = [node_dict[s] for s in sources]\n",
    "target_indices = [node_dict[t] for t in targets]\n",
    "\n",
    "fig = go.Figure(data=[go.Sankey(\n",
    "    node=dict(\n",
    "        pad=15,\n",
    "        thickness=20,\n",
    "        label=all_nodes,\n",
    "        color='#0099FF'\n",
    "    ),\n",
    "    link=dict(\n",
    "        source=source_indices,\n",
    "        target=target_indices,\n",
    "        value=values\n",
    "    )\n",
    ")])\n",
    "\n",
    "fig.update_layout(title=\"Flow: Recent Batches → Industry → Status\", height=600)\n",
    "fig.show()"
   ]
  },
  {
   "cell_type": "markdown",
   "metadata": {},
   "source": [
    "---\n",
    "## 9. Predictive Analysis\n",
    "\n",
    "What features predict success? Simple ML models for insights."
   ]
  },
  {
   "cell_type": "code",
   "execution_count": 22,
   "metadata": {},
   "outputs": [
    {
     "name": "stdout",
     "output_type": "stream",
     "text": [
      "📊 Dataset Info:\n",
      "  Total samples: 2,998\n",
      "  Successful: 408 (13.6%)\n",
      "  Not successful: 2,590 (86.4%)\n",
      "  ⚠️  Class imbalance: 6.3:1 ratio\n",
      "\n",
      "🤖 PREDICTIVE MODEL RESULTS:\n",
      "  Training Accuracy: 69.22%\n",
      "  Test Accuracy: 66.17%\n",
      "  ROC-AUC Score: 0.681\n",
      "  Cross-Val ROC-AUC: 0.709 (±0.028)\n",
      "\n",
      "⚠️  Note: Accuracy is misleading with class imbalance. ROC-AUC is better metric.\n",
      "\n",
      "📊 Detailed Classification Report:\n",
      "                precision    recall  f1-score   support\n",
      "\n",
      "Not Successful       0.90      0.68      0.78       518\n",
      "    Successful       0.21      0.55      0.31        82\n",
      "\n",
      "      accuracy                           0.66       600\n",
      "     macro avg       0.56      0.61      0.54       600\n",
      "  weighted avg       0.81      0.66      0.71       600\n",
      "\n",
      "\n",
      "📈 Feature Importance (Logistic Regression Coefficients):\n",
      "⚠️  Note: These show predictive association, NOT causation.\n",
      "\n",
      "     Feature  Coefficient\n",
      " company_age     0.566915\n",
      "       is_us     0.238107\n",
      "      is_b2b     0.118135\n",
      "   is_sf_bay     0.089155\n",
      "num_founders     0.089099\n",
      "   team_size    -0.016457\n",
      "       is_ai    -0.178225\n",
      "    num_tags    -0.215897\n"
     ]
    },
    {
     "data": {
      "application/vnd.plotly.v1+json": {
       "config": {
        "plotlyServerURL": "https://plot.ly"
       },
       "data": [
        {
         "marker": {
          "color": [
           "#00CC66",
           "#00CC66",
           "#00CC66",
           "#00CC66",
           "#00CC66",
           "#FF3333",
           "#FF3333",
           "#FF3333"
          ]
         },
         "orientation": "h",
         "type": "bar",
         "x": {
          "bdata": "S0P2jSok4j8nJXMcR3rOP9RZ4vsVPr4/gv0MvtnStj+uVEngM8+2P5+8ajgh2pC/NT5HAhLQxr+VdK7Cg6LLvw==",
          "dtype": "f8"
         },
         "y": [
          "company_age",
          "is_us",
          "is_b2b",
          "is_sf_bay",
          "num_founders",
          "team_size",
          "is_ai",
          "num_tags"
         ]
        }
       ],
       "layout": {
        "height": 400,
        "template": {
         "data": {
          "bar": [
           {
            "error_x": {
             "color": "#2a3f5f"
            },
            "error_y": {
             "color": "#2a3f5f"
            },
            "marker": {
             "line": {
              "color": "#E5ECF6",
              "width": 0.5
             },
             "pattern": {
              "fillmode": "overlay",
              "size": 10,
              "solidity": 0.2
             }
            },
            "type": "bar"
           }
          ],
          "barpolar": [
           {
            "marker": {
             "line": {
              "color": "#E5ECF6",
              "width": 0.5
             },
             "pattern": {
              "fillmode": "overlay",
              "size": 10,
              "solidity": 0.2
             }
            },
            "type": "barpolar"
           }
          ],
          "carpet": [
           {
            "aaxis": {
             "endlinecolor": "#2a3f5f",
             "gridcolor": "white",
             "linecolor": "white",
             "minorgridcolor": "white",
             "startlinecolor": "#2a3f5f"
            },
            "baxis": {
             "endlinecolor": "#2a3f5f",
             "gridcolor": "white",
             "linecolor": "white",
             "minorgridcolor": "white",
             "startlinecolor": "#2a3f5f"
            },
            "type": "carpet"
           }
          ],
          "choropleth": [
           {
            "colorbar": {
             "outlinewidth": 0,
             "ticks": ""
            },
            "type": "choropleth"
           }
          ],
          "contour": [
           {
            "colorbar": {
             "outlinewidth": 0,
             "ticks": ""
            },
            "colorscale": [
             [
              0,
              "#0d0887"
             ],
             [
              0.1111111111111111,
              "#46039f"
             ],
             [
              0.2222222222222222,
              "#7201a8"
             ],
             [
              0.3333333333333333,
              "#9c179e"
             ],
             [
              0.4444444444444444,
              "#bd3786"
             ],
             [
              0.5555555555555556,
              "#d8576b"
             ],
             [
              0.6666666666666666,
              "#ed7953"
             ],
             [
              0.7777777777777778,
              "#fb9f3a"
             ],
             [
              0.8888888888888888,
              "#fdca26"
             ],
             [
              1,
              "#f0f921"
             ]
            ],
            "type": "contour"
           }
          ],
          "contourcarpet": [
           {
            "colorbar": {
             "outlinewidth": 0,
             "ticks": ""
            },
            "type": "contourcarpet"
           }
          ],
          "heatmap": [
           {
            "colorbar": {
             "outlinewidth": 0,
             "ticks": ""
            },
            "colorscale": [
             [
              0,
              "#0d0887"
             ],
             [
              0.1111111111111111,
              "#46039f"
             ],
             [
              0.2222222222222222,
              "#7201a8"
             ],
             [
              0.3333333333333333,
              "#9c179e"
             ],
             [
              0.4444444444444444,
              "#bd3786"
             ],
             [
              0.5555555555555556,
              "#d8576b"
             ],
             [
              0.6666666666666666,
              "#ed7953"
             ],
             [
              0.7777777777777778,
              "#fb9f3a"
             ],
             [
              0.8888888888888888,
              "#fdca26"
             ],
             [
              1,
              "#f0f921"
             ]
            ],
            "type": "heatmap"
           }
          ],
          "histogram": [
           {
            "marker": {
             "pattern": {
              "fillmode": "overlay",
              "size": 10,
              "solidity": 0.2
             }
            },
            "type": "histogram"
           }
          ],
          "histogram2d": [
           {
            "colorbar": {
             "outlinewidth": 0,
             "ticks": ""
            },
            "colorscale": [
             [
              0,
              "#0d0887"
             ],
             [
              0.1111111111111111,
              "#46039f"
             ],
             [
              0.2222222222222222,
              "#7201a8"
             ],
             [
              0.3333333333333333,
              "#9c179e"
             ],
             [
              0.4444444444444444,
              "#bd3786"
             ],
             [
              0.5555555555555556,
              "#d8576b"
             ],
             [
              0.6666666666666666,
              "#ed7953"
             ],
             [
              0.7777777777777778,
              "#fb9f3a"
             ],
             [
              0.8888888888888888,
              "#fdca26"
             ],
             [
              1,
              "#f0f921"
             ]
            ],
            "type": "histogram2d"
           }
          ],
          "histogram2dcontour": [
           {
            "colorbar": {
             "outlinewidth": 0,
             "ticks": ""
            },
            "colorscale": [
             [
              0,
              "#0d0887"
             ],
             [
              0.1111111111111111,
              "#46039f"
             ],
             [
              0.2222222222222222,
              "#7201a8"
             ],
             [
              0.3333333333333333,
              "#9c179e"
             ],
             [
              0.4444444444444444,
              "#bd3786"
             ],
             [
              0.5555555555555556,
              "#d8576b"
             ],
             [
              0.6666666666666666,
              "#ed7953"
             ],
             [
              0.7777777777777778,
              "#fb9f3a"
             ],
             [
              0.8888888888888888,
              "#fdca26"
             ],
             [
              1,
              "#f0f921"
             ]
            ],
            "type": "histogram2dcontour"
           }
          ],
          "mesh3d": [
           {
            "colorbar": {
             "outlinewidth": 0,
             "ticks": ""
            },
            "type": "mesh3d"
           }
          ],
          "parcoords": [
           {
            "line": {
             "colorbar": {
              "outlinewidth": 0,
              "ticks": ""
             }
            },
            "type": "parcoords"
           }
          ],
          "pie": [
           {
            "automargin": true,
            "type": "pie"
           }
          ],
          "scatter": [
           {
            "fillpattern": {
             "fillmode": "overlay",
             "size": 10,
             "solidity": 0.2
            },
            "type": "scatter"
           }
          ],
          "scatter3d": [
           {
            "line": {
             "colorbar": {
              "outlinewidth": 0,
              "ticks": ""
             }
            },
            "marker": {
             "colorbar": {
              "outlinewidth": 0,
              "ticks": ""
             }
            },
            "type": "scatter3d"
           }
          ],
          "scattercarpet": [
           {
            "marker": {
             "colorbar": {
              "outlinewidth": 0,
              "ticks": ""
             }
            },
            "type": "scattercarpet"
           }
          ],
          "scattergeo": [
           {
            "marker": {
             "colorbar": {
              "outlinewidth": 0,
              "ticks": ""
             }
            },
            "type": "scattergeo"
           }
          ],
          "scattergl": [
           {
            "marker": {
             "colorbar": {
              "outlinewidth": 0,
              "ticks": ""
             }
            },
            "type": "scattergl"
           }
          ],
          "scattermap": [
           {
            "marker": {
             "colorbar": {
              "outlinewidth": 0,
              "ticks": ""
             }
            },
            "type": "scattermap"
           }
          ],
          "scattermapbox": [
           {
            "marker": {
             "colorbar": {
              "outlinewidth": 0,
              "ticks": ""
             }
            },
            "type": "scattermapbox"
           }
          ],
          "scatterpolar": [
           {
            "marker": {
             "colorbar": {
              "outlinewidth": 0,
              "ticks": ""
             }
            },
            "type": "scatterpolar"
           }
          ],
          "scatterpolargl": [
           {
            "marker": {
             "colorbar": {
              "outlinewidth": 0,
              "ticks": ""
             }
            },
            "type": "scatterpolargl"
           }
          ],
          "scatterternary": [
           {
            "marker": {
             "colorbar": {
              "outlinewidth": 0,
              "ticks": ""
             }
            },
            "type": "scatterternary"
           }
          ],
          "surface": [
           {
            "colorbar": {
             "outlinewidth": 0,
             "ticks": ""
            },
            "colorscale": [
             [
              0,
              "#0d0887"
             ],
             [
              0.1111111111111111,
              "#46039f"
             ],
             [
              0.2222222222222222,
              "#7201a8"
             ],
             [
              0.3333333333333333,
              "#9c179e"
             ],
             [
              0.4444444444444444,
              "#bd3786"
             ],
             [
              0.5555555555555556,
              "#d8576b"
             ],
             [
              0.6666666666666666,
              "#ed7953"
             ],
             [
              0.7777777777777778,
              "#fb9f3a"
             ],
             [
              0.8888888888888888,
              "#fdca26"
             ],
             [
              1,
              "#f0f921"
             ]
            ],
            "type": "surface"
           }
          ],
          "table": [
           {
            "cells": {
             "fill": {
              "color": "#EBF0F8"
             },
             "line": {
              "color": "white"
             }
            },
            "header": {
             "fill": {
              "color": "#C8D4E3"
             },
             "line": {
              "color": "white"
             }
            },
            "type": "table"
           }
          ]
         },
         "layout": {
          "annotationdefaults": {
           "arrowcolor": "#2a3f5f",
           "arrowhead": 0,
           "arrowwidth": 1
          },
          "autotypenumbers": "strict",
          "coloraxis": {
           "colorbar": {
            "outlinewidth": 0,
            "ticks": ""
           }
          },
          "colorscale": {
           "diverging": [
            [
             0,
             "#8e0152"
            ],
            [
             0.1,
             "#c51b7d"
            ],
            [
             0.2,
             "#de77ae"
            ],
            [
             0.3,
             "#f1b6da"
            ],
            [
             0.4,
             "#fde0ef"
            ],
            [
             0.5,
             "#f7f7f7"
            ],
            [
             0.6,
             "#e6f5d0"
            ],
            [
             0.7,
             "#b8e186"
            ],
            [
             0.8,
             "#7fbc41"
            ],
            [
             0.9,
             "#4d9221"
            ],
            [
             1,
             "#276419"
            ]
           ],
           "sequential": [
            [
             0,
             "#0d0887"
            ],
            [
             0.1111111111111111,
             "#46039f"
            ],
            [
             0.2222222222222222,
             "#7201a8"
            ],
            [
             0.3333333333333333,
             "#9c179e"
            ],
            [
             0.4444444444444444,
             "#bd3786"
            ],
            [
             0.5555555555555556,
             "#d8576b"
            ],
            [
             0.6666666666666666,
             "#ed7953"
            ],
            [
             0.7777777777777778,
             "#fb9f3a"
            ],
            [
             0.8888888888888888,
             "#fdca26"
            ],
            [
             1,
             "#f0f921"
            ]
           ],
           "sequentialminus": [
            [
             0,
             "#0d0887"
            ],
            [
             0.1111111111111111,
             "#46039f"
            ],
            [
             0.2222222222222222,
             "#7201a8"
            ],
            [
             0.3333333333333333,
             "#9c179e"
            ],
            [
             0.4444444444444444,
             "#bd3786"
            ],
            [
             0.5555555555555556,
             "#d8576b"
            ],
            [
             0.6666666666666666,
             "#ed7953"
            ],
            [
             0.7777777777777778,
             "#fb9f3a"
            ],
            [
             0.8888888888888888,
             "#fdca26"
            ],
            [
             1,
             "#f0f921"
            ]
           ]
          },
          "colorway": [
           "#636efa",
           "#EF553B",
           "#00cc96",
           "#ab63fa",
           "#FFA15A",
           "#19d3f3",
           "#FF6692",
           "#B6E880",
           "#FF97FF",
           "#FECB52"
          ],
          "font": {
           "color": "#2a3f5f"
          },
          "geo": {
           "bgcolor": "white",
           "lakecolor": "white",
           "landcolor": "#E5ECF6",
           "showlakes": true,
           "showland": true,
           "subunitcolor": "white"
          },
          "hoverlabel": {
           "align": "left"
          },
          "hovermode": "closest",
          "mapbox": {
           "style": "light"
          },
          "paper_bgcolor": "white",
          "plot_bgcolor": "#E5ECF6",
          "polar": {
           "angularaxis": {
            "gridcolor": "white",
            "linecolor": "white",
            "ticks": ""
           },
           "bgcolor": "#E5ECF6",
           "radialaxis": {
            "gridcolor": "white",
            "linecolor": "white",
            "ticks": ""
           }
          },
          "scene": {
           "xaxis": {
            "backgroundcolor": "#E5ECF6",
            "gridcolor": "white",
            "gridwidth": 2,
            "linecolor": "white",
            "showbackground": true,
            "ticks": "",
            "zerolinecolor": "white"
           },
           "yaxis": {
            "backgroundcolor": "#E5ECF6",
            "gridcolor": "white",
            "gridwidth": 2,
            "linecolor": "white",
            "showbackground": true,
            "ticks": "",
            "zerolinecolor": "white"
           },
           "zaxis": {
            "backgroundcolor": "#E5ECF6",
            "gridcolor": "white",
            "gridwidth": 2,
            "linecolor": "white",
            "showbackground": true,
            "ticks": "",
            "zerolinecolor": "white"
           }
          },
          "shapedefaults": {
           "line": {
            "color": "#2a3f5f"
           }
          },
          "ternary": {
           "aaxis": {
            "gridcolor": "white",
            "linecolor": "white",
            "ticks": ""
           },
           "baxis": {
            "gridcolor": "white",
            "linecolor": "white",
            "ticks": ""
           },
           "bgcolor": "#E5ECF6",
           "caxis": {
            "gridcolor": "white",
            "linecolor": "white",
            "ticks": ""
           }
          },
          "title": {
           "x": 0.05
          },
          "xaxis": {
           "automargin": true,
           "gridcolor": "white",
           "linecolor": "white",
           "ticks": "",
           "title": {
            "standoff": 15
           },
           "zerolinecolor": "white",
           "zerolinewidth": 2
          },
          "yaxis": {
           "automargin": true,
           "gridcolor": "white",
           "linecolor": "white",
           "ticks": "",
           "title": {
            "standoff": 15
           },
           "zerolinecolor": "white",
           "zerolinewidth": 2
          }
         }
        },
        "title": {
         "text": "Feature Importance: What Predicts Success?<br><sub>Higher coefficient = stronger positive association with success</sub>"
        },
        "xaxis": {
         "title": {
          "text": "Coefficient (Impact on Success Probability)"
         }
        }
       }
      }
     },
     "metadata": {},
     "output_type": "display_data"
    },
    {
     "name": "stdout",
     "output_type": "stream",
     "text": [
      "\n",
      "⚠️  IMPORTANT CAVEATS:\n",
      "  1. This model shows ASSOCIATION, not CAUSATION\n",
      "  2. Survivorship bias partially mitigated by using mature companies only\n",
      "  3. Many unmeasured factors influence success (market timing, execution, luck)\n",
      "  4. Past performance ≠ future results\n"
     ]
    }
   ],
   "source": [
    "# Feature importance using logistic regression\n",
    "from sklearn.linear_model import LogisticRegression\n",
    "from sklearn.preprocessing import StandardScaler\n",
    "from sklearn.model_selection import train_test_split, cross_val_score\n",
    "from sklearn.metrics import classification_report, roc_auc_score, confusion_matrix\n",
    "\n",
    "# Prepare features - USE MATURE COMPANIES ONLY\n",
    "mature_df = df[df['is_mature']].copy()\n",
    "\n",
    "# IMPORTANT: Exclude 'has_grown' - it's circular (successful companies grow)\n",
    "model_df = mature_df[[\n",
    "    'num_founders', 'team_size', 'company_age', 'num_tags',\n",
    "    'is_sf_bay', 'is_us', 'is_ai', 'is_b2b',\n",
    "    'is_successful'\n",
    "]].dropna()\n",
    "\n",
    "X = model_df.drop('is_successful', axis=1)\n",
    "y = model_df['is_successful']\n",
    "\n",
    "print(f\"📊 Dataset Info:\")\n",
    "print(f\"  Total samples: {len(y):,}\")\n",
    "print(f\"  Successful: {y.sum():,} ({y.mean()*100:.1f}%)\")\n",
    "print(f\"  Not successful: {(~y).sum():,} ({(~y).mean()*100:.1f}%)\")\n",
    "print(f\"  ⚠️  Class imbalance: {(~y).sum() / y.sum():.1f}:1 ratio\\n\")\n",
    "\n",
    "# Train-test split\n",
    "X_train, X_test, y_train, y_test = train_test_split(X, y, test_size=0.2, random_state=42, stratify=y)\n",
    "\n",
    "# Scale features\n",
    "scaler = StandardScaler()\n",
    "X_train_scaled = scaler.fit_transform(X_train)\n",
    "X_test_scaled = scaler.transform(X_test)\n",
    "\n",
    "# Train model with class weights to handle imbalance\n",
    "model = LogisticRegression(max_iter=1000, class_weight='balanced', random_state=42)\n",
    "model.fit(X_train_scaled, y_train)\n",
    "\n",
    "# Feature importance\n",
    "feature_importance = pd.DataFrame({\n",
    "    'Feature': X.columns,\n",
    "    'Coefficient': model.coef_[0]\n",
    "}).sort_values('Coefficient', ascending=False)\n",
    "\n",
    "# Predictions\n",
    "y_pred = model.predict(X_test_scaled)\n",
    "y_pred_proba = model.predict_proba(X_test_scaled)[:, 1]\n",
    "\n",
    "# Comprehensive metrics\n",
    "train_score = model.score(X_train_scaled, y_train)\n",
    "test_score = model.score(X_test_scaled, y_test)\n",
    "roc_auc = roc_auc_score(y_test, y_pred_proba)\n",
    "\n",
    "# Cross-validation for robustness\n",
    "cv_scores = cross_val_score(model, X_train_scaled, y_train, cv=5, scoring='roc_auc')\n",
    "\n",
    "print(f\"🤖 PREDICTIVE MODEL RESULTS:\")\n",
    "print(f\"  Training Accuracy: {train_score*100:.2f}%\")\n",
    "print(f\"  Test Accuracy: {test_score*100:.2f}%\")\n",
    "print(f\"  ROC-AUC Score: {roc_auc:.3f}\")\n",
    "print(f\"  Cross-Val ROC-AUC: {cv_scores.mean():.3f} (±{cv_scores.std():.3f})\")\n",
    "print(f\"\\n⚠️  Note: Accuracy is misleading with class imbalance. ROC-AUC is better metric.\\n\")\n",
    "\n",
    "print(f\"📊 Detailed Classification Report:\")\n",
    "print(classification_report(y_test, y_pred, target_names=['Not Successful', 'Successful']))\n",
    "\n",
    "print(f\"\\n📈 Feature Importance (Logistic Regression Coefficients):\")\n",
    "print(f\"⚠️  Note: These show predictive association, NOT causation.\\n\")\n",
    "print(feature_importance.to_string(index=False))\n",
    "\n",
    "# Visualize\n",
    "fig = go.Figure(go.Bar(\n",
    "    y=feature_importance['Feature'],\n",
    "    x=feature_importance['Coefficient'],\n",
    "    orientation='h',\n",
    "    marker_color=['#00CC66' if x > 0 else '#FF3333' for x in feature_importance['Coefficient']]\n",
    "))\n",
    "\n",
    "fig.update_layout(\n",
    "    title='Feature Importance: What Predicts Success?<br><sub>Higher coefficient = stronger positive association with success</sub>',\n",
    "    xaxis_title='Coefficient (Impact on Success Probability)',\n",
    "    height=400\n",
    ")\n",
    "fig.show()\n",
    "\n",
    "print(\"\\n⚠️  IMPORTANT CAVEATS:\")\n",
    "print(\"  1. This model shows ASSOCIATION, not CAUSATION\")\n",
    "print(\"  2. Survivorship bias partially mitigated by using mature companies only\")\n",
    "print(\"  3. Many unmeasured factors influence success (market timing, execution, luck)\")\n",
    "print(\"  4. Past performance ≠ future results\")"
   ]
  },
  {
   "cell_type": "markdown",
   "metadata": {},
   "source": [
    "---\n",
    "## 10. Actionable Recommendations\n",
    "\n",
    "Data-driven insights for founders"
   ]
  },
  {
   "cell_type": "code",
   "execution_count": 23,
   "metadata": {},
   "outputs": [
    {
     "name": "stdout",
     "output_type": "stream",
     "text": [
      "\n",
      "════════════════════════════════════════════════════════════════════════════════\n",
      "  PERSONALIZED RECOMMENDATIONS\n",
      "  Profile: Solo Founder | Industry: AI | Location: San Francisco\n",
      "════════════════════════════════════════════════════════════════════════════════\n",
      "\n",
      "✅ SUCCESS METRICS (Based on 266 similar companies):\n",
      "  • Success Rate: 4.5%\n",
      "  • Average Team Size: 43.1\n",
      "\n",
      "🎯 KEY INSIGHTS:\n",
      "  • 87.2% of solo founders grow their team\n",
      "  • Successful solo founders have avg 9 person teams\n",
      "\n",
      "📍 TOP LOCATIONS FOR SIMILAR COMPANIES:\n",
      "  • San Francisco: 137 companies (4.4% success rate)\n",
      "  • New York: 27 companies (3.7% success rate)\n",
      "  • London, United Kingdom: 8 companies (0.0% success rate)\n",
      "  • Palo Alto: 6 companies (0.0% success rate)\n",
      "  • Los Angeles, CA: 4 companies (25.0% success rate)\n",
      "\n",
      "📈 INDUSTRY TREND:\n",
      "  • 200/266 companies in AI are from recent batches (2020+)\n",
      "  • Industry momentum: 🔥 Hot\n",
      "\n",
      "💡 RECOMMENDATIONS:\n",
      "  ⚠️  Warning: This profile has lower than average success rate\n",
      "  → Consider: Pivoting, finding co-founders, or targeting different market\n",
      "  → Plan to hire early - 87% of successful solos grow their team\n",
      "\n",
      "════════════════════════════════════════════════════════════════════════════════\n"
     ]
    }
   ],
   "source": [
    "def get_recommendations(founder_type='solo', industry=None, location='San Francisco'):\n",
    "    \"\"\"\n",
    "    Generate personalized recommendations based on founder profile\n",
    "    \"\"\"\n",
    "    print(\"\\n\" + \"═\" * 80)\n",
    "    print(f\"  PERSONALIZED RECOMMENDATIONS\")\n",
    "    print(f\"  Profile: {founder_type.title()} Founder | Industry: {industry or 'General'} | Location: {location}\")\n",
    "    print(\"═\" * 80)\n",
    "    \n",
    "    # Filter similar companies\n",
    "    if founder_type == 'solo':\n",
    "        similar = df[df['is_solo']]\n",
    "    else:\n",
    "        similar = df[~df['is_solo']]\n",
    "    \n",
    "    if industry:\n",
    "        similar = similar[similar['tags'].apply(\n",
    "            lambda x: industry.lower() in ' '.join(x).lower() if isinstance(x, list) else False\n",
    "        )]\n",
    "    \n",
    "    # Calculate metrics\n",
    "    success_rate = similar['is_successful'].mean() * 100\n",
    "    avg_team_size = similar['team_size'].mean()\n",
    "    top_locations = similar['location'].value_counts().head(5)\n",
    "    \n",
    "    print(f\"\\n✅ SUCCESS METRICS (Based on {len(similar):,} similar companies):\")\n",
    "    print(f\"  • Success Rate: {success_rate:.1f}%\")\n",
    "    print(f\"  • Average Team Size: {avg_team_size:.1f}\")\n",
    "    \n",
    "    print(f\"\\n🎯 KEY INSIGHTS:\")\n",
    "    \n",
    "    # Insight 1: Team composition\n",
    "    if founder_type == 'solo':\n",
    "        team_growth = similar[similar['has_grown']].shape[0] / len(similar) * 100\n",
    "        print(f\"  • {team_growth:.1f}% of solo founders grow their team\")\n",
    "        print(f\"  • Successful solo founders have avg {similar[similar['is_successful']]['team_size'].mean():.0f} person teams\")\n",
    "    else:\n",
    "        print(f\"  • Team-founded companies have {team_success_rate - solo_success_rate:+.1f}pp higher success rate\")\n",
    "    \n",
    "    # Insight 2: Location advantage\n",
    "    print(f\"\\n📍 TOP LOCATIONS FOR SIMILAR COMPANIES:\")\n",
    "    for loc, count in top_locations.items():\n",
    "        loc_success = similar[similar['location'] == loc]['is_successful'].mean() * 100\n",
    "        print(f\"  • {loc}: {count} companies ({loc_success:.1f}% success rate)\")\n",
    "    \n",
    "    # Insight 3: Industry trends\n",
    "    if industry:\n",
    "        recent_trend = similar[similar['batch_year'] >= 2020].shape[0]\n",
    "        total_trend = similar.shape[0]\n",
    "        print(f\"\\n📈 INDUSTRY TREND:\")\n",
    "        print(f\"  • {recent_trend}/{total_trend} companies in {industry} are from recent batches (2020+)\")\n",
    "        print(f\"  • Industry momentum: {'🔥 Hot' if recent_trend/total_trend > 0.4 else '📊 Steady' if recent_trend/total_trend > 0.2 else '⚠️  Declining'}\")\n",
    "    \n",
    "    # Recommendations\n",
    "    print(f\"\\n💡 RECOMMENDATIONS:\")\n",
    "    if success_rate < 5:\n",
    "        print(f\"  ⚠️  Warning: This profile has lower than average success rate\")\n",
    "        print(f\"  → Consider: Pivoting, finding co-founders, or targeting different market\")\n",
    "    elif success_rate > 15:\n",
    "        print(f\"  ✅ Strong profile with above-average success rate\")\n",
    "        print(f\"  → Focus on: Execution, customer acquisition, product-market fit\")\n",
    "    \n",
    "    if founder_type == 'solo' and team_growth > 70:\n",
    "        print(f\"  → Plan to hire early - {team_growth:.0f}% of successful solos grow their team\")\n",
    "    \n",
    "    print(\"\\n\" + \"═\" * 80)\n",
    "\n",
    "# Example usage\n",
    "get_recommendations(founder_type='solo', industry='AI', location='San Francisco')"
   ]
  },
  {
   "cell_type": "code",
   "execution_count": 24,
   "metadata": {},
   "outputs": [
    {
     "data": {
      "application/vnd.jupyter.widget-view+json": {
       "model_id": "b63132905ab04310acbae862f462bbb2",
       "version_major": 2,
       "version_minor": 0
      },
      "text/plain": [
       "interactive(children=(Dropdown(description='Founder Type', options=('solo', 'team'), value='solo'), Dropdown(d…"
      ]
     },
     "metadata": {},
     "output_type": "display_data"
    }
   ],
   "source": [
    "# Interactive recommendation widget\n",
    "from ipywidgets import interact, Dropdown\n",
    "\n",
    "# Get unique industries and locations\n",
    "unique_industries = ['General'] + sorted(list(set([tag for tags in df['tags'].dropna() for tag in tags if isinstance(tags, list)]))[:30])\n",
    "unique_locations = ['Any'] + df['location'].value_counts().head(20).index.tolist()\n",
    "\n",
    "@interact(\n",
    "    founder_type=Dropdown(options=['solo', 'team'], description='Founder Type'),\n",
    "    industry=Dropdown(options=unique_industries, description='Industry'),\n",
    "    location=Dropdown(options=unique_locations, description='Location')\n",
    ")\n",
    "def interactive_recommendations(founder_type, industry, location):\n",
    "    industry = None if industry == 'General' else industry\n",
    "    location = None if location == 'Any' else location\n",
    "    get_recommendations(founder_type, industry, location or 'Any')"
   ]
  },
  {
   "cell_type": "markdown",
   "metadata": {},
   "source": [
    "<cell_type>markdown</cell_type>---\n",
    "## Summary & Key Takeaways\n",
    "\n",
    "**Top Insights from the Data:**\n",
    "\n",
    "1. **Solo vs Team**: Team-founded companies generally have higher success rates, but solo founders succeed in specific niches\n",
    "2. **Location Matters**: SF Bay Area dominates, but international opportunities are growing\n",
    "3. **Industry Cycles**: AI/ML experiencing explosive growth; traditional industries show steady patterns\n",
    "4. **Team Growth**: Successful companies grow their teams 2-3x within first few years\n",
    "5. **Timing**: Recent batches are larger but face more competition\n",
    "\n",
    "**For Aspiring Founders:**\n",
    "- Research your industry's saturation level before launching\n",
    "- Consider co-founders if targeting highly competitive markets\n",
    "- Plan for team growth early, especially if starting solo\n",
    "- Location still matters, but remote is increasingly viable\n",
    "- Focus on execution - the best predictor of success is traction\n",
    "\n",
    "---\n",
    "\n",
    "## ⚠️ Methodological Limitations & Caveats\n",
    "\n",
    "**1. Survivorship Bias**\n",
    "- Recent companies haven't had time to exit (IPO/acquisition)\n",
    "- We filter to \"mature\" (≥3 years old) companies to partially address this\n",
    "- Still, older batches have had more time to achieve successful outcomes\n",
    "\n",
    "**2. Selection Bias**\n",
    "- YC-funded companies are already pre-selected (top ~1-2% of applicants)\n",
    "- Results may not generalize to non-YC startups\n",
    "\n",
    "**3. Correlation ≠ Causation**\n",
    "- All statistical associations shown are correlational, not causal\n",
    "- Unmeasured confounders (founder skill, market timing, luck) likely drive results\n",
    "\n",
    "**4. Missing Data**\n",
    "- ~20-30% missing values for some fields (team_size, year_founded)\n",
    "- Companies with missing data may differ systematically\n",
    "\n",
    "**5. Multiple Comparisons**\n",
    "- Testing 50+ industries without correction inflates false positive rate\n",
    "- Some \"top industries\" may be statistical flukes\n",
    "\n",
    "**6. Class Imbalance**\n",
    "- Only ~5-10% of companies achieve \"success\" (Public/Acquired)\n",
    "- Makes prediction challenging and accuracy metrics misleading\n",
    "\n",
    "**7. Measurement Issues**\n",
    "- \"Success\" defined only as Public/Acquired (ignores profitable private companies)\n",
    "- Team size is snapshot, not longitudinal data\n",
    "- Industry tags are self-reported and inconsistent\n",
    "\n",
    "**Use this analysis for exploration and hypothesis generation, not definitive conclusions.**\n",
    "\n",
    "---\n",
    "*Data source: Y Combinator Companies Directory*  \n",
    "*Last updated: October 2025*  \n",
    "*Total companies analyzed: 7,858+*  \n",
    "*Analysis focuses on mature companies (≥3 years): ~5,000+*"
   ]
  }
 ],
 "metadata": {
  "kernelspec": {
   "display_name": "Python 3",
   "language": "python",
   "name": "python3"
  },
  "language_info": {
   "codemirror_mode": {
    "name": "ipython",
    "version": 3
   },
   "file_extension": ".py",
   "mimetype": "text/x-python",
   "name": "python",
   "nbconvert_exporter": "python",
   "pygments_lexer": "ipython3",
   "version": "3.13.7"
  }
 },
 "nbformat": 4,
 "nbformat_minor": 4
}
