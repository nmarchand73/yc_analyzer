{
  "cells": [
    {
      "cell_type": "markdown",
      "metadata": {},
      "source": [
        "# YC Companies: GenAI-Enhanced Analysis\n",
        "\n",
        "**Next-generation startup intelligence powered by AI** - Transform raw YC data into actionable insights, predictive narratives, and competitive intelligence.\n",
        "\n",
        "## 📋 Table of Contents\n",
        "\n",
        "### 🚀 **Getting Started**\n",
        "- [1. Setup & Environment](#1-setup--environment)\n",
        "- [2. Data Loading & Enhanced Feature Engineering](#2-data-loading--enhanced-feature-engineering)\n",
        "- [3. Executive Portfolio Dashboard](#3-executive-portfolio-dashboard)\n",
        "\n",
        "### 📊 **Comprehensive Data Analysis**\n",
        "- [4. Success Factor Correlation Analysis](#4-success-factor-correlation-analysis)\n",
        "- [5. Solo vs Team Founder Comparative Analysis](#5-solo-vs-team-founder-comparative-analysis)\n",
        "- [6. Temporal Trends & Batch Performance Analysis](#6-temporal-trends--batch-performance-analysis)\n",
        "- [7. Industry Market Analysis & Saturation Mapping](#7-industry-market-analysis--saturation-mapping)\n",
        "- [8. Geographic Success Intelligence](#8-geographic-success-intelligence)\n",
        "- [9. Advanced Predictive Modeling & ML Pipeline](#9-advanced-predictive-modeling--ml-pipeline)\n",
        "- [10. Personalized Recommendations Engine](#10-personalized-recommendations-engine)\n",
        "\n",
        "### 🧠 **AI-Powered Intelligence**\n",
        "- [11. AI Company Profiling & Archetype Detection](#11-ai-company-profiling--archetype-detection)\n",
        "- [12. Market Intelligence & Opportunity Detection](#12-market-intelligence--opportunity-detection)\n",
        "- [13. Interactive AI Analysis Interface](#13-interactive-ai-analysis-interface)\n",
        "\n",
        "### 📈 **Advanced Visualizations & Analytics**\n",
        "- [14. Dynamic Interactive Dashboards](#14-dynamic-interactive-dashboards)\n",
        "- [15. Year-Level Batch Intelligence](#15-year-level-batch-intelligence)\n",
        "- [16. Multi-Year Trend Analysis & Forecasting](#16-multi-year-trend-analysis--forecasting)\n",
        "\n",
        "### 🎯 **Quick Start & Interactive Demos**\n",
        "- [17. Quick Start Guide](#17-quick-start-guide)\n",
        "- [18. Interactive Analysis Demos](#18-interactive-analysis-demos)\n",
        "\n",
        "### 📖 **Documentation & Deployment**\n",
        "- [19. Summary & Next Steps](#19-summary--next-steps)\n",
        "- [20. Requirements & Setup](#20-requirements--setup)\n",
        "\n",
        "---\n",
        "\n",
        "## 🚀 What's New\n",
        "\n",
        "**Beyond Traditional Analysis:**\n",
        "- **🧠 AI-Powered Company Profiling** - Automatic archetype detection and positioning\n",
        "- **📈 Predictive Success Narratives** - LLM-generated success pattern analysis\n",
        "- **🔍 Dynamic Market Intelligence** - Real-time trend detection and opportunity mapping\n",
        "- **💬 Conversational Analytics** - Natural language query interface\n",
        "- **🎯 Competitive Intelligence** - Automated competitive landscape analysis\n",
        "\n",
        "---\n"
      ]
    },
    {
      "cell_type": "code",
      "execution_count": 60,
      "metadata": {},
      "outputs": [
        {
          "name": "stdout",
          "output_type": "stream",
          "text": [
            "🚀 Enhanced GenAI Analysis Environment Loaded\n",
            "📊 Ready for advanced startup intelligence analysis\n"
          ]
        }
      ],
      "source": [
        "# Enhanced Setup & Imports\n",
        "import pandas as pd\n",
        "import numpy as np\n",
        "import matplotlib.pyplot as plt\n",
        "import seaborn as sns\n",
        "import plotly.express as px\n",
        "import plotly.graph_objects as go\n",
        "from plotly.subplots import make_subplots\n",
        "import warnings\n",
        "from datetime import datetime, timedelta\n",
        "from collections import Counter, defaultdict\n",
        "import re\n",
        "import json\n",
        "from typing import Dict, List, Tuple, Optional\n",
        "\n",
        "# AI/ML Libraries\n",
        "from openai import OpenAI\n",
        "from sklearn.cluster import KMeans, DBSCAN\n",
        "from sklearn.manifold import TSNE\n",
        "from sklearn.preprocessing import StandardScaler\n",
        "from sklearn.metrics import silhouette_score\n",
        "import umap\n",
        "\n",
        "# Advanced Analytics\n",
        "from textblob import TextBlob\n",
        "import networkx as nx\n",
        "from wordcloud import WordCloud\n",
        "\n",
        "# Interactive Components\n",
        "import ipywidgets as widgets\n",
        "from IPython.display import display, HTML, Markdown\n",
        "\n",
        "warnings.filterwarnings('ignore')\n",
        "\n",
        "# Enhanced Plot Settings\n",
        "sns.set_style('whitegrid')\n",
        "plt.rcParams['figure.figsize'] = (14, 8)\n",
        "plt.rcParams['font.size'] = 12\n",
        "\n",
        "# Color Palettes\n",
        "STATUS_COLORS = {\n",
        "    'Public': '#00CC66',\n",
        "    'Acquired': '#0099FF', \n",
        "    'Active': '#FFAA00',\n",
        "    'Inactive': '#FF3333',\n",
        "    'Dead': '#999999'\n",
        "}\n",
        "\n",
        "ARCHETYPE_COLORS = {\n",
        "    'B2B SaaS': '#1f77b4',\n",
        "    'Marketplace': '#ff7f0e',\n",
        "    'Consumer': '#2ca02c',\n",
        "    'AI/ML': '#d62728',\n",
        "    'Fintech': '#9467bd',\n",
        "    'Healthcare': '#8c564b',\n",
        "    'Other': '#7f7f7f'\n",
        "}\n",
        "\n",
        "print(\"🚀 Enhanced GenAI Analysis Environment Loaded\")\n",
        "print(\"📊 Ready for advanced startup intelligence analysis\")\n"
      ]
    },
    {
      "cell_type": "markdown",
      "metadata": {},
      "source": [
        "## 1. Setup & Environment\n"
      ]
    },
    {
      "cell_type": "code",
      "execution_count": 61,
      "metadata": {},
      "outputs": [
        {
          "name": "stdout",
          "output_type": "stream",
          "text": [
            "✅ Loaded 5,463 companies from 2025-10-05-yc.companies.jl\n",
            "\n",
            "📊 Enhanced Dataset Info:\n",
            "  Total companies: 5,463\n",
            "  Solo founders: 1,423 (26.0%)\n",
            "  Mature companies: 3,053 (55.9%)\n",
            "  Successful companies: 714 (13.1%)\n",
            "  AI companies: 1,386 (25.4%)\n",
            "  B2B companies: 1,652 (30.2%)\n"
          ]
        },
        {
          "data": {
            "text/html": [
              "<div>\n",
              "<style scoped>\n",
              "    .dataframe tbody tr th:only-of-type {\n",
              "        vertical-align: middle;\n",
              "    }\n",
              "\n",
              "    .dataframe tbody tr th {\n",
              "        vertical-align: top;\n",
              "    }\n",
              "\n",
              "    .dataframe thead th {\n",
              "        text-align: right;\n",
              "    }\n",
              "</style>\n",
              "<table border=\"1\" class=\"dataframe\">\n",
              "  <thead>\n",
              "    <tr style=\"text-align: right;\">\n",
              "      <th></th>\n",
              "      <th>company_id</th>\n",
              "      <th>company_name</th>\n",
              "      <th>short_description</th>\n",
              "      <th>long_description</th>\n",
              "      <th>batch</th>\n",
              "      <th>status</th>\n",
              "      <th>tags</th>\n",
              "      <th>location</th>\n",
              "      <th>country</th>\n",
              "      <th>year_founded</th>\n",
              "      <th>...</th>\n",
              "      <th>is_sf_bay</th>\n",
              "      <th>is_us</th>\n",
              "      <th>is_ai</th>\n",
              "      <th>is_b2b</th>\n",
              "      <th>is_fintech</th>\n",
              "      <th>combined_text</th>\n",
              "      <th>text_length</th>\n",
              "      <th>num_tags</th>\n",
              "      <th>sentiment_score</th>\n",
              "      <th>sentiment_label</th>\n",
              "    </tr>\n",
              "  </thead>\n",
              "  <tbody>\n",
              "    <tr>\n",
              "      <th>0</th>\n",
              "      <td>31009</td>\n",
              "      <td>Bear</td>\n",
              "      <td>Show up on AI Search Engines</td>\n",
              "      <td>Bear AI helps companies show up AI search engi...</td>\n",
              "      <td>Fall 2025</td>\n",
              "      <td>Active</td>\n",
              "      <td>[generative-ai, saas, b2b]</td>\n",
              "      <td>San Francisco</td>\n",
              "      <td>US</td>\n",
              "      <td>2025.0</td>\n",
              "      <td>...</td>\n",
              "      <td>True</td>\n",
              "      <td>True</td>\n",
              "      <td>True</td>\n",
              "      <td>True</td>\n",
              "      <td>False</td>\n",
              "      <td>Bear: Show up on AI Search Engines. Bear AI he...</td>\n",
              "      <td>350</td>\n",
              "      <td>3</td>\n",
              "      <td>0.000</td>\n",
              "      <td>Neutral</td>\n",
              "    </tr>\n",
              "    <tr>\n",
              "      <th>1</th>\n",
              "      <td>31002</td>\n",
              "      <td>Clicks</td>\n",
              "      <td>The first AI back-office worker that works lik...</td>\n",
              "      <td>Clicks automates your workflows using your exi...</td>\n",
              "      <td>Fall 2025</td>\n",
              "      <td>Active</td>\n",
              "      <td>[artificial-intelligence, workflow-automation,...</td>\n",
              "      <td>San Francisco</td>\n",
              "      <td>US</td>\n",
              "      <td>2025.0</td>\n",
              "      <td>...</td>\n",
              "      <td>True</td>\n",
              "      <td>True</td>\n",
              "      <td>False</td>\n",
              "      <td>False</td>\n",
              "      <td>False</td>\n",
              "      <td>Clicks: The first AI back-office worker that w...</td>\n",
              "      <td>1162</td>\n",
              "      <td>3</td>\n",
              "      <td>0.125</td>\n",
              "      <td>Positive</td>\n",
              "    </tr>\n",
              "    <tr>\n",
              "      <th>2</th>\n",
              "      <td>31011</td>\n",
              "      <td>Openroll</td>\n",
              "      <td>The world's first Agentic compensation platform</td>\n",
              "      <td>Openroll gives companies real-time intelligenc...</td>\n",
              "      <td>Fall 2025</td>\n",
              "      <td>Active</td>\n",
              "      <td>[b2b, hr-tech, data-visualization, ai]</td>\n",
              "      <td>Stockholm, Sweden</td>\n",
              "      <td>SE</td>\n",
              "      <td>2024.0</td>\n",
              "      <td>...</td>\n",
              "      <td>False</td>\n",
              "      <td>False</td>\n",
              "      <td>True</td>\n",
              "      <td>True</td>\n",
              "      <td>False</td>\n",
              "      <td>Openroll: The world's first Agentic compensati...</td>\n",
              "      <td>383</td>\n",
              "      <td>4</td>\n",
              "      <td>0.250</td>\n",
              "      <td>Positive</td>\n",
              "    </tr>\n",
              "  </tbody>\n",
              "</table>\n",
              "<p>3 rows × 34 columns</p>\n",
              "</div>"
            ],
            "text/plain": [
              "   company_id company_name                                  short_description  \\\n",
              "0       31009         Bear                       Show up on AI Search Engines   \n",
              "1       31002       Clicks  The first AI back-office worker that works lik...   \n",
              "2       31011     Openroll    The world's first Agentic compensation platform   \n",
              "\n",
              "                                    long_description      batch  status  \\\n",
              "0  Bear AI helps companies show up AI search engi...  Fall 2025  Active   \n",
              "1  Clicks automates your workflows using your exi...  Fall 2025  Active   \n",
              "2  Openroll gives companies real-time intelligenc...  Fall 2025  Active   \n",
              "\n",
              "                                                tags           location  \\\n",
              "0                         [generative-ai, saas, b2b]      San Francisco   \n",
              "1  [artificial-intelligence, workflow-automation,...      San Francisco   \n",
              "2             [b2b, hr-tech, data-visualization, ai]  Stockholm, Sweden   \n",
              "\n",
              "  country  year_founded  ...  is_sf_bay  is_us  is_ai is_b2b is_fintech  \\\n",
              "0      US        2025.0  ...       True   True   True   True      False   \n",
              "1      US        2025.0  ...       True   True  False  False      False   \n",
              "2      SE        2024.0  ...      False  False   True   True      False   \n",
              "\n",
              "                                       combined_text  text_length  num_tags  \\\n",
              "0  Bear: Show up on AI Search Engines. Bear AI he...          350         3   \n",
              "1  Clicks: The first AI back-office worker that w...         1162         3   \n",
              "2  Openroll: The world's first Agentic compensati...          383         4   \n",
              "\n",
              "  sentiment_score  sentiment_label  \n",
              "0           0.000          Neutral  \n",
              "1           0.125         Positive  \n",
              "2           0.250         Positive  \n",
              "\n",
              "[3 rows x 34 columns]"
            ]
          },
          "metadata": {},
          "output_type": "display_data"
        }
      ],
      "source": [
        "# Load and enhance YC data\n",
        "data_path = '../data/2025-10-05-yc.companies.jl'\n",
        "\n",
        "try:\n",
        "    df = pd.read_json(data_path, lines=True)\n",
        "    print(f\"✅ Loaded {len(df):,} companies from {data_path.split('/')[-1]}\")\n",
        "except FileNotFoundError:\n",
        "    # Fallback to older data\n",
        "    data_path = '../data/2025-05-03.jl'\n",
        "    df = pd.read_json(data_path, lines=True)\n",
        "    print(f\"⚠️ Using fallback data: {len(df):,} companies from {data_path.split('/')[-1]}\")\n",
        "\n",
        "# Enhanced data preparation\n",
        "def enhance_company_data(df):\n",
        "    \"\"\"Enhanced data preprocessing with AI-ready features\"\"\"\n",
        "    df = df.copy()\n",
        "    \n",
        "    # Basic features\n",
        "    df['is_solo_founder'] = df['num_founders'] == 1\n",
        "    df['is_team_founded'] = df['num_founders'] > 1\n",
        "    \n",
        "    # Extract batch year and season\n",
        "    def parse_batch(batch):\n",
        "        if pd.isna(batch):\n",
        "            return None, None\n",
        "        match = re.search(r'(Winter|Summer|Spring|Fall|W|S|IK)\\s*(\\d{2,4})', str(batch))\n",
        "        if match:\n",
        "            season, year = match.groups()\n",
        "            year = int(year)\n",
        "            if year < 50:\n",
        "                year += 2000\n",
        "            elif year < 100:\n",
        "                year += 1900\n",
        "            return season, year\n",
        "        return None, None\n",
        "    \n",
        "    df[['batch_season', 'batch_year']] = df['batch'].apply(parse_batch).apply(pd.Series)\n",
        "    \n",
        "    # Company age and maturity\n",
        "    current_year = 2025\n",
        "    df['company_age'] = df['year_founded'].apply(lambda x: current_year - x if pd.notna(x) else None)\n",
        "    df['is_mature'] = df['company_age'] >= 3\n",
        "    \n",
        "    # Success indicators\n",
        "    df['is_successful'] = df['status'].apply(lambda x: 'acquired' in str(x).lower() or 'public' in str(x).lower())\n",
        "    df['is_active'] = df['status'].apply(lambda x: 'active' in str(x).lower())\n",
        "    \n",
        "    # Location features\n",
        "    df['is_sf_bay'] = df['location'].str.contains('San Francisco|Palo Alto|Mountain View|Menlo Park', case=False, na=False)\n",
        "    df['is_us'] = df['country'] == 'US'\n",
        "    \n",
        "    # Industry features\n",
        "    df['is_ai'] = df['tags'].apply(lambda x: any('ai' in str(tag).lower() or 'machine-learning' in str(tag).lower() for tag in x) if isinstance(x, list) else False)\n",
        "    df['is_b2b'] = df['tags'].apply(lambda x: any('b2b' in str(tag).lower() or 'saas' in str(tag).lower() for tag in x) if isinstance(x, list) else False)\n",
        "    df['is_fintech'] = df['tags'].apply(lambda x: any('fintech' in str(tag).lower() or 'financial' in str(tag).lower() for tag in x) if isinstance(x, list) else False)\n",
        "    \n",
        "    # Text features for AI analysis\n",
        "    df['combined_text'] = df.apply(lambda x: f\"{x['company_name']}: {x['short_description']}. {x.get('long_description', '')} Tags: {', '.join(x['tags']) if isinstance(x['tags'], list) else ''}\", axis=1)\n",
        "    df['text_length'] = df['combined_text'].str.len()\n",
        "    df['num_tags'] = df['tags'].apply(lambda x: len(x) if isinstance(x, list) else 0)\n",
        "    \n",
        "    # Sentiment analysis\n",
        "    df['sentiment_score'] = df['short_description'].apply(lambda x: TextBlob(str(x)).sentiment.polarity if pd.notna(x) else 0)\n",
        "    df['sentiment_label'] = df['sentiment_score'].apply(lambda x: 'Positive' if x > 0.1 else 'Negative' if x < -0.1 else 'Neutral')\n",
        "    \n",
        "    return df\n",
        "\n",
        "# Apply enhancements\n",
        "df = enhance_company_data(df)\n",
        "\n",
        "print(f\"\\n📊 Enhanced Dataset Info:\")\n",
        "print(f\"  Total companies: {len(df):,}\")\n",
        "print(f\"  Solo founders: {df['is_solo_founder'].sum():,} ({df['is_solo_founder'].mean()*100:.1f}%)\")\n",
        "print(f\"  Mature companies: {df['is_mature'].sum():,} ({df['is_mature'].mean()*100:.1f}%)\")\n",
        "print(f\"  Successful companies: {df['is_successful'].sum():,} ({df['is_successful'].mean()*100:.1f}%)\")\n",
        "print(f\"  AI companies: {df['is_ai'].sum():,} ({df['is_ai'].mean()*100:.1f}%)\")\n",
        "print(f\"  B2B companies: {df['is_b2b'].sum():,} ({df['is_b2b'].mean()*100:.1f}%)\")\n",
        "\n",
        "display(df.head(3))\n"
      ]
    },
    {
      "cell_type": "markdown",
      "metadata": {},
      "source": [
        "## 2. Data Loading & Preparation\n"
      ]
    },
    {
      "cell_type": "markdown",
      "metadata": {},
      "source": [
        "## 2.5. Executive Summary Dashboard\n"
      ]
    },
    {
      "cell_type": "code",
      "execution_count": 62,
      "metadata": {},
      "outputs": [
        {
          "name": "stdout",
          "output_type": "stream",
          "text": [
            "════════════════════════════════════════════════════════════\n",
            "  Y COMBINATOR PORTFOLIO OVERVIEW\n",
            "════════════════════════════════════════════════════════════\n",
            "\n",
            "📈 PORTFOLIO METRICS:\n",
            "  Total Companies:        5,463\n",
            "  Total Founders:         10,729\n",
            "  Public/Acquired:        714 (13.1%)\n",
            "  Active Companies:       3,782\n",
            "  Mature Companies:       3,053 (55.9%)\n",
            "\n",
            "👥 FOUNDER COMPOSITION:\n",
            "  Solo Founders:          1,423 (26.0%)\n",
            "  2 Co-founders:          2,960 (54.2%)\n",
            "  3+ Co-founders:         1,063 (19.5%)\n",
            "\n",
            "🎯 SUCCESS RATES:\n",
            "  Solo Founders:          13.5%\n",
            "  Team Founders:          12.9%\n",
            "  Difference:             -0.6pp\n",
            "\n",
            "🌍 GEOGRAPHIC DISTRIBUTION:\n",
            "  SF Bay Area:            2,191 (40.1%)\n",
            "  United States:          3,725 (68.2%)\n",
            "  International:          1,738 (31.8%)\n",
            "\n",
            "🤖 INDUSTRY TRENDS:\n",
            "  AI-related companies:   1,386 (25.4%)\n",
            "  B2B companies:          1,652 (30.2%)\n",
            "  Fintech companies:      696 (12.7%)\n",
            "\n",
            "════════════════════════════════════════════════════════════\n"
          ]
        }
      ],
      "source": [
        "# Executive Summary Dashboard - Key Metrics and KPIs\n",
        "def create_executive_summary():\n",
        "    \"\"\"Create comprehensive executive summary with key metrics\"\"\"\n",
        "    \n",
        "    # Key Metrics\n",
        "    total_companies = len(df)\n",
        "    total_founders = df['num_founders'].sum()\n",
        "    successful_companies = df['is_successful'].sum()\n",
        "    success_rate = successful_companies / total_companies * 100\n",
        "    solo_success_rate = df[df['is_solo_founder']]['is_successful'].mean() * 100\n",
        "    team_success_rate = df[df['is_team_founded']]['is_successful'].mean() * 100\n",
        "    \n",
        "    print(\"═\" * 60)\n",
        "    print(\"  Y COMBINATOR PORTFOLIO OVERVIEW\")\n",
        "    print(\"═\" * 60)\n",
        "    print(f\"\\n📈 PORTFOLIO METRICS:\")\n",
        "    print(f\"  Total Companies:        {total_companies:,}\")\n",
        "    print(f\"  Total Founders:         {total_founders:,.0f}\")\n",
        "    print(f\"  Public/Acquired:        {successful_companies:,} ({success_rate:.1f}%)\")\n",
        "    print(f\"  Active Companies:       {(df['status'] == 'Active').sum():,}\")\n",
        "    print(f\"  Mature Companies:       {df['is_mature'].sum():,} ({df['is_mature'].mean()*100:.1f}%)\")\n",
        "    \n",
        "    print(f\"\\n👥 FOUNDER COMPOSITION:\")\n",
        "    print(f\"  Solo Founders:          {df['is_solo_founder'].sum():,} ({df['is_solo_founder'].mean()*100:.1f}%)\")\n",
        "    print(f\"  2 Co-founders:          {(df['num_founders'] == 2).sum():,} ({(df['num_founders'] == 2).mean()*100:.1f}%)\")\n",
        "    print(f\"  3+ Co-founders:         {(df['num_founders'] >= 3).sum():,} ({(df['num_founders'] >= 3).mean()*100:.1f}%)\")\n",
        "    \n",
        "    print(f\"\\n🎯 SUCCESS RATES:\")\n",
        "    print(f\"  Solo Founders:          {solo_success_rate:.1f}%\")\n",
        "    print(f\"  Team Founders:          {team_success_rate:.1f}%\")\n",
        "    print(f\"  Difference:             {team_success_rate - solo_success_rate:+.1f}pp\")\n",
        "    \n",
        "    print(f\"\\n🌍 GEOGRAPHIC DISTRIBUTION:\")\n",
        "    print(f\"  SF Bay Area:            {df['is_sf_bay'].sum():,} ({df['is_sf_bay'].mean()*100:.1f}%)\")\n",
        "    print(f\"  United States:          {df['is_us'].sum():,} ({df['is_us'].mean()*100:.1f}%)\")\n",
        "    print(f\"  International:          {(~df['is_us']).sum():,} ({(~df['is_us']).mean()*100:.1f}%)\")\n",
        "    \n",
        "    print(f\"\\n🤖 INDUSTRY TRENDS:\")\n",
        "    print(f\"  AI-related companies:   {df['is_ai'].sum():,} ({df['is_ai'].mean()*100:.1f}%)\")\n",
        "    print(f\"  B2B companies:          {df['is_b2b'].sum():,} ({df['is_b2b'].mean()*100:.1f}%)\")\n",
        "    print(f\"  Fintech companies:      {df['is_fintech'].sum():,} ({df['is_fintech'].mean()*100:.1f}%)\")\n",
        "    \n",
        "    print(\"\\n\" + \"═\" * 60)\n",
        "    \n",
        "    return {\n",
        "        'total_companies': total_companies,\n",
        "        'success_rate': success_rate,\n",
        "        'solo_success_rate': solo_success_rate,\n",
        "        'team_success_rate': team_success_rate\n",
        "    }\n",
        "\n",
        "# Create executive summary\n",
        "executive_metrics = create_executive_summary()\n"
      ]
    },
    {
      "cell_type": "markdown",
      "metadata": {},
      "source": [
        "## 2.6. Success Factor Analysis\n"
      ]
    },
    {
      "cell_type": "code",
      "execution_count": 63,
      "metadata": {},
      "outputs": [
        {
          "name": "stdout",
          "output_type": "stream",
          "text": [
            "🎯 Analyzing success factors...\n",
            "\n",
            "⚠️  Note: All success analysis uses MATURE companies (≥3 years) to avoid survivorship bias.\n"
          ]
        },
        {
          "data": {
            "application/vnd.plotly.v1+json": {
              "config": {
                "plotlyServerURL": "https://plot.ly"
              },
              "data": [
                {
                  "marker": {
                    "color": [
                      "#00CC66",
                      "#00CC66",
                      "#00CC66",
                      "#FF3333"
                    ]
                  },
                  "orientation": "h",
                  "type": "bar",
                  "x": [
                    0.24440923273382859,
                    0.05318067880562461,
                    0.03445307755604484,
                    -0.11283406995382801
                  ],
                  "y": [
                    "company_age",
                    "team_size",
                    "num_founders",
                    "num_tags"
                  ]
                }
              ],
              "layout": {
                "height": 300,
                "template": {
                  "data": {
                    "bar": [
                      {
                        "error_x": {
                          "color": "#2a3f5f"
                        },
                        "error_y": {
                          "color": "#2a3f5f"
                        },
                        "marker": {
                          "line": {
                            "color": "#E5ECF6",
                            "width": 0.5
                          },
                          "pattern": {
                            "fillmode": "overlay",
                            "size": 10,
                            "solidity": 0.2
                          }
                        },
                        "type": "bar"
                      }
                    ],
                    "barpolar": [
                      {
                        "marker": {
                          "line": {
                            "color": "#E5ECF6",
                            "width": 0.5
                          },
                          "pattern": {
                            "fillmode": "overlay",
                            "size": 10,
                            "solidity": 0.2
                          }
                        },
                        "type": "barpolar"
                      }
                    ],
                    "carpet": [
                      {
                        "aaxis": {
                          "endlinecolor": "#2a3f5f",
                          "gridcolor": "white",
                          "linecolor": "white",
                          "minorgridcolor": "white",
                          "startlinecolor": "#2a3f5f"
                        },
                        "baxis": {
                          "endlinecolor": "#2a3f5f",
                          "gridcolor": "white",
                          "linecolor": "white",
                          "minorgridcolor": "white",
                          "startlinecolor": "#2a3f5f"
                        },
                        "type": "carpet"
                      }
                    ],
                    "choropleth": [
                      {
                        "colorbar": {
                          "outlinewidth": 0,
                          "ticks": ""
                        },
                        "type": "choropleth"
                      }
                    ],
                    "contour": [
                      {
                        "colorbar": {
                          "outlinewidth": 0,
                          "ticks": ""
                        },
                        "colorscale": [
                          [
                            0,
                            "#0d0887"
                          ],
                          [
                            0.1111111111111111,
                            "#46039f"
                          ],
                          [
                            0.2222222222222222,
                            "#7201a8"
                          ],
                          [
                            0.3333333333333333,
                            "#9c179e"
                          ],
                          [
                            0.4444444444444444,
                            "#bd3786"
                          ],
                          [
                            0.5555555555555556,
                            "#d8576b"
                          ],
                          [
                            0.6666666666666666,
                            "#ed7953"
                          ],
                          [
                            0.7777777777777778,
                            "#fb9f3a"
                          ],
                          [
                            0.8888888888888888,
                            "#fdca26"
                          ],
                          [
                            1,
                            "#f0f921"
                          ]
                        ],
                        "type": "contour"
                      }
                    ],
                    "contourcarpet": [
                      {
                        "colorbar": {
                          "outlinewidth": 0,
                          "ticks": ""
                        },
                        "type": "contourcarpet"
                      }
                    ],
                    "heatmap": [
                      {
                        "colorbar": {
                          "outlinewidth": 0,
                          "ticks": ""
                        },
                        "colorscale": [
                          [
                            0,
                            "#0d0887"
                          ],
                          [
                            0.1111111111111111,
                            "#46039f"
                          ],
                          [
                            0.2222222222222222,
                            "#7201a8"
                          ],
                          [
                            0.3333333333333333,
                            "#9c179e"
                          ],
                          [
                            0.4444444444444444,
                            "#bd3786"
                          ],
                          [
                            0.5555555555555556,
                            "#d8576b"
                          ],
                          [
                            0.6666666666666666,
                            "#ed7953"
                          ],
                          [
                            0.7777777777777778,
                            "#fb9f3a"
                          ],
                          [
                            0.8888888888888888,
                            "#fdca26"
                          ],
                          [
                            1,
                            "#f0f921"
                          ]
                        ],
                        "type": "heatmap"
                      }
                    ],
                    "heatmapgl": [
                      {
                        "colorbar": {
                          "outlinewidth": 0,
                          "ticks": ""
                        },
                        "colorscale": [
                          [
                            0,
                            "#0d0887"
                          ],
                          [
                            0.1111111111111111,
                            "#46039f"
                          ],
                          [
                            0.2222222222222222,
                            "#7201a8"
                          ],
                          [
                            0.3333333333333333,
                            "#9c179e"
                          ],
                          [
                            0.4444444444444444,
                            "#bd3786"
                          ],
                          [
                            0.5555555555555556,
                            "#d8576b"
                          ],
                          [
                            0.6666666666666666,
                            "#ed7953"
                          ],
                          [
                            0.7777777777777778,
                            "#fb9f3a"
                          ],
                          [
                            0.8888888888888888,
                            "#fdca26"
                          ],
                          [
                            1,
                            "#f0f921"
                          ]
                        ],
                        "type": "heatmapgl"
                      }
                    ],
                    "histogram": [
                      {
                        "marker": {
                          "pattern": {
                            "fillmode": "overlay",
                            "size": 10,
                            "solidity": 0.2
                          }
                        },
                        "type": "histogram"
                      }
                    ],
                    "histogram2d": [
                      {
                        "colorbar": {
                          "outlinewidth": 0,
                          "ticks": ""
                        },
                        "colorscale": [
                          [
                            0,
                            "#0d0887"
                          ],
                          [
                            0.1111111111111111,
                            "#46039f"
                          ],
                          [
                            0.2222222222222222,
                            "#7201a8"
                          ],
                          [
                            0.3333333333333333,
                            "#9c179e"
                          ],
                          [
                            0.4444444444444444,
                            "#bd3786"
                          ],
                          [
                            0.5555555555555556,
                            "#d8576b"
                          ],
                          [
                            0.6666666666666666,
                            "#ed7953"
                          ],
                          [
                            0.7777777777777778,
                            "#fb9f3a"
                          ],
                          [
                            0.8888888888888888,
                            "#fdca26"
                          ],
                          [
                            1,
                            "#f0f921"
                          ]
                        ],
                        "type": "histogram2d"
                      }
                    ],
                    "histogram2dcontour": [
                      {
                        "colorbar": {
                          "outlinewidth": 0,
                          "ticks": ""
                        },
                        "colorscale": [
                          [
                            0,
                            "#0d0887"
                          ],
                          [
                            0.1111111111111111,
                            "#46039f"
                          ],
                          [
                            0.2222222222222222,
                            "#7201a8"
                          ],
                          [
                            0.3333333333333333,
                            "#9c179e"
                          ],
                          [
                            0.4444444444444444,
                            "#bd3786"
                          ],
                          [
                            0.5555555555555556,
                            "#d8576b"
                          ],
                          [
                            0.6666666666666666,
                            "#ed7953"
                          ],
                          [
                            0.7777777777777778,
                            "#fb9f3a"
                          ],
                          [
                            0.8888888888888888,
                            "#fdca26"
                          ],
                          [
                            1,
                            "#f0f921"
                          ]
                        ],
                        "type": "histogram2dcontour"
                      }
                    ],
                    "mesh3d": [
                      {
                        "colorbar": {
                          "outlinewidth": 0,
                          "ticks": ""
                        },
                        "type": "mesh3d"
                      }
                    ],
                    "parcoords": [
                      {
                        "line": {
                          "colorbar": {
                            "outlinewidth": 0,
                            "ticks": ""
                          }
                        },
                        "type": "parcoords"
                      }
                    ],
                    "pie": [
                      {
                        "automargin": true,
                        "type": "pie"
                      }
                    ],
                    "scatter": [
                      {
                        "fillpattern": {
                          "fillmode": "overlay",
                          "size": 10,
                          "solidity": 0.2
                        },
                        "type": "scatter"
                      }
                    ],
                    "scatter3d": [
                      {
                        "line": {
                          "colorbar": {
                            "outlinewidth": 0,
                            "ticks": ""
                          }
                        },
                        "marker": {
                          "colorbar": {
                            "outlinewidth": 0,
                            "ticks": ""
                          }
                        },
                        "type": "scatter3d"
                      }
                    ],
                    "scattercarpet": [
                      {
                        "marker": {
                          "colorbar": {
                            "outlinewidth": 0,
                            "ticks": ""
                          }
                        },
                        "type": "scattercarpet"
                      }
                    ],
                    "scattergeo": [
                      {
                        "marker": {
                          "colorbar": {
                            "outlinewidth": 0,
                            "ticks": ""
                          }
                        },
                        "type": "scattergeo"
                      }
                    ],
                    "scattergl": [
                      {
                        "marker": {
                          "colorbar": {
                            "outlinewidth": 0,
                            "ticks": ""
                          }
                        },
                        "type": "scattergl"
                      }
                    ],
                    "scattermapbox": [
                      {
                        "marker": {
                          "colorbar": {
                            "outlinewidth": 0,
                            "ticks": ""
                          }
                        },
                        "type": "scattermapbox"
                      }
                    ],
                    "scatterpolar": [
                      {
                        "marker": {
                          "colorbar": {
                            "outlinewidth": 0,
                            "ticks": ""
                          }
                        },
                        "type": "scatterpolar"
                      }
                    ],
                    "scatterpolargl": [
                      {
                        "marker": {
                          "colorbar": {
                            "outlinewidth": 0,
                            "ticks": ""
                          }
                        },
                        "type": "scatterpolargl"
                      }
                    ],
                    "scatterternary": [
                      {
                        "marker": {
                          "colorbar": {
                            "outlinewidth": 0,
                            "ticks": ""
                          }
                        },
                        "type": "scatterternary"
                      }
                    ],
                    "surface": [
                      {
                        "colorbar": {
                          "outlinewidth": 0,
                          "ticks": ""
                        },
                        "colorscale": [
                          [
                            0,
                            "#0d0887"
                          ],
                          [
                            0.1111111111111111,
                            "#46039f"
                          ],
                          [
                            0.2222222222222222,
                            "#7201a8"
                          ],
                          [
                            0.3333333333333333,
                            "#9c179e"
                          ],
                          [
                            0.4444444444444444,
                            "#bd3786"
                          ],
                          [
                            0.5555555555555556,
                            "#d8576b"
                          ],
                          [
                            0.6666666666666666,
                            "#ed7953"
                          ],
                          [
                            0.7777777777777778,
                            "#fb9f3a"
                          ],
                          [
                            0.8888888888888888,
                            "#fdca26"
                          ],
                          [
                            1,
                            "#f0f921"
                          ]
                        ],
                        "type": "surface"
                      }
                    ],
                    "table": [
                      {
                        "cells": {
                          "fill": {
                            "color": "#EBF0F8"
                          },
                          "line": {
                            "color": "white"
                          }
                        },
                        "header": {
                          "fill": {
                            "color": "#C8D4E3"
                          },
                          "line": {
                            "color": "white"
                          }
                        },
                        "type": "table"
                      }
                    ]
                  },
                  "layout": {
                    "annotationdefaults": {
                      "arrowcolor": "#2a3f5f",
                      "arrowhead": 0,
                      "arrowwidth": 1
                    },
                    "autotypenumbers": "strict",
                    "coloraxis": {
                      "colorbar": {
                        "outlinewidth": 0,
                        "ticks": ""
                      }
                    },
                    "colorscale": {
                      "diverging": [
                        [
                          0,
                          "#8e0152"
                        ],
                        [
                          0.1,
                          "#c51b7d"
                        ],
                        [
                          0.2,
                          "#de77ae"
                        ],
                        [
                          0.3,
                          "#f1b6da"
                        ],
                        [
                          0.4,
                          "#fde0ef"
                        ],
                        [
                          0.5,
                          "#f7f7f7"
                        ],
                        [
                          0.6,
                          "#e6f5d0"
                        ],
                        [
                          0.7,
                          "#b8e186"
                        ],
                        [
                          0.8,
                          "#7fbc41"
                        ],
                        [
                          0.9,
                          "#4d9221"
                        ],
                        [
                          1,
                          "#276419"
                        ]
                      ],
                      "sequential": [
                        [
                          0,
                          "#0d0887"
                        ],
                        [
                          0.1111111111111111,
                          "#46039f"
                        ],
                        [
                          0.2222222222222222,
                          "#7201a8"
                        ],
                        [
                          0.3333333333333333,
                          "#9c179e"
                        ],
                        [
                          0.4444444444444444,
                          "#bd3786"
                        ],
                        [
                          0.5555555555555556,
                          "#d8576b"
                        ],
                        [
                          0.6666666666666666,
                          "#ed7953"
                        ],
                        [
                          0.7777777777777778,
                          "#fb9f3a"
                        ],
                        [
                          0.8888888888888888,
                          "#fdca26"
                        ],
                        [
                          1,
                          "#f0f921"
                        ]
                      ],
                      "sequentialminus": [
                        [
                          0,
                          "#0d0887"
                        ],
                        [
                          0.1111111111111111,
                          "#46039f"
                        ],
                        [
                          0.2222222222222222,
                          "#7201a8"
                        ],
                        [
                          0.3333333333333333,
                          "#9c179e"
                        ],
                        [
                          0.4444444444444444,
                          "#bd3786"
                        ],
                        [
                          0.5555555555555556,
                          "#d8576b"
                        ],
                        [
                          0.6666666666666666,
                          "#ed7953"
                        ],
                        [
                          0.7777777777777778,
                          "#fb9f3a"
                        ],
                        [
                          0.8888888888888888,
                          "#fdca26"
                        ],
                        [
                          1,
                          "#f0f921"
                        ]
                      ]
                    },
                    "colorway": [
                      "#636efa",
                      "#EF553B",
                      "#00cc96",
                      "#ab63fa",
                      "#FFA15A",
                      "#19d3f3",
                      "#FF6692",
                      "#B6E880",
                      "#FF97FF",
                      "#FECB52"
                    ],
                    "font": {
                      "color": "#2a3f5f"
                    },
                    "geo": {
                      "bgcolor": "white",
                      "lakecolor": "white",
                      "landcolor": "#E5ECF6",
                      "showlakes": true,
                      "showland": true,
                      "subunitcolor": "white"
                    },
                    "hoverlabel": {
                      "align": "left"
                    },
                    "hovermode": "closest",
                    "mapbox": {
                      "style": "light"
                    },
                    "paper_bgcolor": "white",
                    "plot_bgcolor": "#E5ECF6",
                    "polar": {
                      "angularaxis": {
                        "gridcolor": "white",
                        "linecolor": "white",
                        "ticks": ""
                      },
                      "bgcolor": "#E5ECF6",
                      "radialaxis": {
                        "gridcolor": "white",
                        "linecolor": "white",
                        "ticks": ""
                      }
                    },
                    "scene": {
                      "xaxis": {
                        "backgroundcolor": "#E5ECF6",
                        "gridcolor": "white",
                        "gridwidth": 2,
                        "linecolor": "white",
                        "showbackground": true,
                        "ticks": "",
                        "zerolinecolor": "white"
                      },
                      "yaxis": {
                        "backgroundcolor": "#E5ECF6",
                        "gridcolor": "white",
                        "gridwidth": 2,
                        "linecolor": "white",
                        "showbackground": true,
                        "ticks": "",
                        "zerolinecolor": "white"
                      },
                      "zaxis": {
                        "backgroundcolor": "#E5ECF6",
                        "gridcolor": "white",
                        "gridwidth": 2,
                        "linecolor": "white",
                        "showbackground": true,
                        "ticks": "",
                        "zerolinecolor": "white"
                      }
                    },
                    "shapedefaults": {
                      "line": {
                        "color": "#2a3f5f"
                      }
                    },
                    "ternary": {
                      "aaxis": {
                        "gridcolor": "white",
                        "linecolor": "white",
                        "ticks": ""
                      },
                      "baxis": {
                        "gridcolor": "white",
                        "linecolor": "white",
                        "ticks": ""
                      },
                      "bgcolor": "#E5ECF6",
                      "caxis": {
                        "gridcolor": "white",
                        "linecolor": "white",
                        "ticks": ""
                      }
                    },
                    "title": {
                      "x": 0.05
                    },
                    "xaxis": {
                      "automargin": true,
                      "gridcolor": "white",
                      "linecolor": "white",
                      "ticks": "",
                      "title": {
                        "standoff": 15
                      },
                      "zerolinecolor": "white",
                      "zerolinewidth": 2
                    },
                    "yaxis": {
                      "automargin": true,
                      "gridcolor": "white",
                      "linecolor": "white",
                      "ticks": "",
                      "title": {
                        "standoff": 15
                      },
                      "zerolinecolor": "white",
                      "zerolinewidth": 2
                    }
                  }
                },
                "title": {
                  "text": "Feature Correlation with Success (Public/Acquired)<br><sub>Pearson correlation - association only, not causation</sub>"
                },
                "xaxis": {
                  "title": {
                    "text": "Correlation Coefficient"
                  }
                }
              }
            }
          },
          "metadata": {},
          "output_type": "display_data"
        },
        {
          "name": "stdout",
          "output_type": "stream",
          "text": [
            "\n",
            "📊 Correlation Insights:\n",
            "⚠️  Important: Correlation ≠ Causation. These show association, not cause and effect.\n",
            "\n",
            "  • company_age: moderately positively associated (0.244)\n",
            "  • team_size: weakly positively associated (0.053)\n",
            "  • num_founders: weakly positively associated (0.034)\n",
            "  • num_tags: moderately negatively associated (-0.113)\n"
          ]
        }
      ],
      "source": [
        "# Success Factor Analysis - What predicts startup success?\n",
        "def analyze_success_factor(column, title, top_n=15, min_companies=20):\n",
        "    \"\"\"Analyze success rate for a given categorical column\n",
        "    \n",
        "    Note: Uses only mature companies (≥3 years old) to avoid survivorship bias.\n",
        "    \"\"\"\n",
        "    # Filter to mature companies only\n",
        "    mature_df = df[df['is_mature']].copy()\n",
        "    \n",
        "    success_analysis = mature_df.groupby(column).agg({\n",
        "        'is_successful': ['sum', 'mean', 'count']\n",
        "    }).round(3)\n",
        "    success_analysis.columns = ['Successful', 'Success_Rate', 'Total']\n",
        "    \n",
        "    # Increased minimum to 20 for statistical significance\n",
        "    success_analysis = success_analysis[success_analysis['Total'] >= min_companies]\n",
        "    success_analysis = success_analysis.sort_values('Success_Rate', ascending=False).head(top_n)\n",
        "    \n",
        "    # Plot\n",
        "    fig = go.Figure()\n",
        "    fig.add_trace(go.Bar(\n",
        "        y=success_analysis.index,\n",
        "        x=success_analysis['Success_Rate'] * 100,\n",
        "        orientation='h',\n",
        "        text=[f\"{val*100:.1f}% (n={count:.0f})\" \n",
        "              for val, count in zip(success_analysis['Success_Rate'], success_analysis['Total'])],\n",
        "        textposition='outside',\n",
        "        marker_color='#0099FF'\n",
        "    ))\n",
        "    \n",
        "    fig.update_layout(\n",
        "        title=f\"{title}<br><sub>Mature companies only (≥3 years old), min {min_companies} companies</sub>\",\n",
        "        xaxis_title='Success Rate (%)',\n",
        "        yaxis_title=column.replace('_', ' ').title(),\n",
        "        height=max(400, top_n * 30)\n",
        "    )\n",
        "    fig.show()\n",
        "    \n",
        "    return success_analysis\n",
        "\n",
        "# Correlation Analysis\n",
        "def analyze_correlations():\n",
        "    \"\"\"Analyze correlation between numeric features and success\"\"\"\n",
        "    numeric_features = ['num_founders', 'team_size', 'company_age', 'num_tags']\n",
        "    correlations = []\n",
        "    \n",
        "    # Use mature companies only\n",
        "    mature_df = df[df['is_mature']].copy()\n",
        "    \n",
        "    for feature in numeric_features:\n",
        "        if feature in mature_df.columns:\n",
        "            corr = mature_df[[feature, 'is_successful']].dropna().corr().iloc[0, 1]\n",
        "            correlations.append({'Feature': feature, 'Correlation': corr})\n",
        "    \n",
        "    corr_df = pd.DataFrame(correlations).sort_values('Correlation', ascending=False)\n",
        "    \n",
        "    fig = go.Figure(go.Bar(\n",
        "        x=corr_df['Correlation'],\n",
        "        y=corr_df['Feature'],\n",
        "        orientation='h',\n",
        "        marker_color=['#00CC66' if x > 0 else '#FF3333' for x in corr_df['Correlation']]\n",
        "    ))\n",
        "    \n",
        "    fig.update_layout(\n",
        "        title='Feature Correlation with Success (Public/Acquired)<br><sub>Pearson correlation - association only, not causation</sub>',\n",
        "        xaxis_title='Correlation Coefficient',\n",
        "        height=300\n",
        "    )\n",
        "    fig.show()\n",
        "    \n",
        "    print(\"\\n📊 Correlation Insights:\")\n",
        "    print(\"⚠️  Important: Correlation ≠ Causation. These show association, not cause and effect.\\n\")\n",
        "    for _, row in corr_df.iterrows():\n",
        "        direction = \"positively\" if row['Correlation'] > 0 else \"negatively\"\n",
        "        strength = \"strongly\" if abs(row['Correlation']) > 0.3 else (\"moderately\" if abs(row['Correlation']) > 0.1 else \"weakly\")\n",
        "        print(f\"  • {row['Feature']}: {strength} {direction} associated ({row['Correlation']:.3f})\")\n",
        "    \n",
        "    return corr_df\n",
        "\n",
        "print(\"🎯 Analyzing success factors...\\n\")\n",
        "print(\"⚠️  Note: All success analysis uses MATURE companies (≥3 years) to avoid survivorship bias.\")\n",
        "\n",
        "# Run correlation analysis\n",
        "correlation_results = analyze_correlations()\n"
      ]
    },
    {
      "cell_type": "markdown",
      "metadata": {},
      "source": [
        "## 2.7. Solo Founder Deep Dive\n"
      ]
    },
    {
      "cell_type": "code",
      "execution_count": 64,
      "metadata": {},
      "outputs": [
        {
          "name": "stdout",
          "output_type": "stream",
          "text": [
            "🔍 Deep Dive: Solo vs Team Founders\n",
            "\n",
            "════════════════════════════════════════════════════════════════════════════════\n",
            "  SOLO vs TEAM FOUNDERS: HEAD-TO-HEAD COMPARISON\n",
            "════════════════════════════════════════════════════════════════════════════════\n",
            "                 Metric Solo Founders Team Founders Difference\n",
            "        Total Companies          1423          4023       2600\n",
            "       Success Rate (%)     13.492621      12.90082  -0.591801\n",
            "          Avg Team Size     46.483477     50.239919   3.756442\n",
            "Avg Company Age (years)      5.492233       4.57636  -0.915873\n",
            "        SF Bay Area (%)     41.461701     39.572458  -1.889242\n",
            "         AI-related (%)     21.222769     26.895352   5.672583\n",
            "                B2B (%)     25.368939      32.09048   6.721541\n",
            "     Has Grown Team (%)     87.983134     69.400945  -18.58219\n",
            "════════════════════════════════════════════════════════════════════════════════\n"
          ]
        },
        {
          "data": {
            "application/vnd.plotly.v1+json": {
              "config": {
                "plotlyServerURL": "https://plot.ly"
              },
              "data": [
                {
                  "marker": {
                    "color": "#FF6600"
                  },
                  "orientation": "h",
                  "text": [
                    "23.9% (46 cos)",
                    "20.0% (45 cos)",
                    "20.0% (10 cos)",
                    "19.4% (36 cos)",
                    "12.9% (31 cos)",
                    "12.5% (40 cos)",
                    "12.1% (33 cos)",
                    "12.0% (83 cos)",
                    "11.8% (17 cos)",
                    "11.5% (26 cos)",
                    "11.3% (53 cos)",
                    "9.8% (254 cos)",
                    "9.3% (129 cos)",
                    "9.1% (143 cos)",
                    "9.1% (22 cos)"
                  ],
                  "textposition": "outside",
                  "type": "bar",
                  "x": [
                    23.91304347826087,
                    20,
                    20,
                    19.444444444444446,
                    12.903225806451612,
                    12.5,
                    12.121212121212121,
                    12.048192771084338,
                    11.76470588235294,
                    11.538461538461538,
                    11.320754716981133,
                    9.84251968503937,
                    9.30232558139535,
                    9.090909090909092,
                    9.090909090909092
                  ],
                  "y": [
                    "analytics",
                    "education",
                    "enterprise-software",
                    "productivity",
                    "hardware",
                    "open-source",
                    "logistics",
                    "marketplace",
                    "data-engineering",
                    "payments",
                    "e-commerce",
                    "saas",
                    "developer-tools",
                    "fintech",
                    "digital-health"
                  ]
                }
              ],
              "layout": {
                "height": 500,
                "template": {
                  "data": {
                    "bar": [
                      {
                        "error_x": {
                          "color": "#2a3f5f"
                        },
                        "error_y": {
                          "color": "#2a3f5f"
                        },
                        "marker": {
                          "line": {
                            "color": "#E5ECF6",
                            "width": 0.5
                          },
                          "pattern": {
                            "fillmode": "overlay",
                            "size": 10,
                            "solidity": 0.2
                          }
                        },
                        "type": "bar"
                      }
                    ],
                    "barpolar": [
                      {
                        "marker": {
                          "line": {
                            "color": "#E5ECF6",
                            "width": 0.5
                          },
                          "pattern": {
                            "fillmode": "overlay",
                            "size": 10,
                            "solidity": 0.2
                          }
                        },
                        "type": "barpolar"
                      }
                    ],
                    "carpet": [
                      {
                        "aaxis": {
                          "endlinecolor": "#2a3f5f",
                          "gridcolor": "white",
                          "linecolor": "white",
                          "minorgridcolor": "white",
                          "startlinecolor": "#2a3f5f"
                        },
                        "baxis": {
                          "endlinecolor": "#2a3f5f",
                          "gridcolor": "white",
                          "linecolor": "white",
                          "minorgridcolor": "white",
                          "startlinecolor": "#2a3f5f"
                        },
                        "type": "carpet"
                      }
                    ],
                    "choropleth": [
                      {
                        "colorbar": {
                          "outlinewidth": 0,
                          "ticks": ""
                        },
                        "type": "choropleth"
                      }
                    ],
                    "contour": [
                      {
                        "colorbar": {
                          "outlinewidth": 0,
                          "ticks": ""
                        },
                        "colorscale": [
                          [
                            0,
                            "#0d0887"
                          ],
                          [
                            0.1111111111111111,
                            "#46039f"
                          ],
                          [
                            0.2222222222222222,
                            "#7201a8"
                          ],
                          [
                            0.3333333333333333,
                            "#9c179e"
                          ],
                          [
                            0.4444444444444444,
                            "#bd3786"
                          ],
                          [
                            0.5555555555555556,
                            "#d8576b"
                          ],
                          [
                            0.6666666666666666,
                            "#ed7953"
                          ],
                          [
                            0.7777777777777778,
                            "#fb9f3a"
                          ],
                          [
                            0.8888888888888888,
                            "#fdca26"
                          ],
                          [
                            1,
                            "#f0f921"
                          ]
                        ],
                        "type": "contour"
                      }
                    ],
                    "contourcarpet": [
                      {
                        "colorbar": {
                          "outlinewidth": 0,
                          "ticks": ""
                        },
                        "type": "contourcarpet"
                      }
                    ],
                    "heatmap": [
                      {
                        "colorbar": {
                          "outlinewidth": 0,
                          "ticks": ""
                        },
                        "colorscale": [
                          [
                            0,
                            "#0d0887"
                          ],
                          [
                            0.1111111111111111,
                            "#46039f"
                          ],
                          [
                            0.2222222222222222,
                            "#7201a8"
                          ],
                          [
                            0.3333333333333333,
                            "#9c179e"
                          ],
                          [
                            0.4444444444444444,
                            "#bd3786"
                          ],
                          [
                            0.5555555555555556,
                            "#d8576b"
                          ],
                          [
                            0.6666666666666666,
                            "#ed7953"
                          ],
                          [
                            0.7777777777777778,
                            "#fb9f3a"
                          ],
                          [
                            0.8888888888888888,
                            "#fdca26"
                          ],
                          [
                            1,
                            "#f0f921"
                          ]
                        ],
                        "type": "heatmap"
                      }
                    ],
                    "heatmapgl": [
                      {
                        "colorbar": {
                          "outlinewidth": 0,
                          "ticks": ""
                        },
                        "colorscale": [
                          [
                            0,
                            "#0d0887"
                          ],
                          [
                            0.1111111111111111,
                            "#46039f"
                          ],
                          [
                            0.2222222222222222,
                            "#7201a8"
                          ],
                          [
                            0.3333333333333333,
                            "#9c179e"
                          ],
                          [
                            0.4444444444444444,
                            "#bd3786"
                          ],
                          [
                            0.5555555555555556,
                            "#d8576b"
                          ],
                          [
                            0.6666666666666666,
                            "#ed7953"
                          ],
                          [
                            0.7777777777777778,
                            "#fb9f3a"
                          ],
                          [
                            0.8888888888888888,
                            "#fdca26"
                          ],
                          [
                            1,
                            "#f0f921"
                          ]
                        ],
                        "type": "heatmapgl"
                      }
                    ],
                    "histogram": [
                      {
                        "marker": {
                          "pattern": {
                            "fillmode": "overlay",
                            "size": 10,
                            "solidity": 0.2
                          }
                        },
                        "type": "histogram"
                      }
                    ],
                    "histogram2d": [
                      {
                        "colorbar": {
                          "outlinewidth": 0,
                          "ticks": ""
                        },
                        "colorscale": [
                          [
                            0,
                            "#0d0887"
                          ],
                          [
                            0.1111111111111111,
                            "#46039f"
                          ],
                          [
                            0.2222222222222222,
                            "#7201a8"
                          ],
                          [
                            0.3333333333333333,
                            "#9c179e"
                          ],
                          [
                            0.4444444444444444,
                            "#bd3786"
                          ],
                          [
                            0.5555555555555556,
                            "#d8576b"
                          ],
                          [
                            0.6666666666666666,
                            "#ed7953"
                          ],
                          [
                            0.7777777777777778,
                            "#fb9f3a"
                          ],
                          [
                            0.8888888888888888,
                            "#fdca26"
                          ],
                          [
                            1,
                            "#f0f921"
                          ]
                        ],
                        "type": "histogram2d"
                      }
                    ],
                    "histogram2dcontour": [
                      {
                        "colorbar": {
                          "outlinewidth": 0,
                          "ticks": ""
                        },
                        "colorscale": [
                          [
                            0,
                            "#0d0887"
                          ],
                          [
                            0.1111111111111111,
                            "#46039f"
                          ],
                          [
                            0.2222222222222222,
                            "#7201a8"
                          ],
                          [
                            0.3333333333333333,
                            "#9c179e"
                          ],
                          [
                            0.4444444444444444,
                            "#bd3786"
                          ],
                          [
                            0.5555555555555556,
                            "#d8576b"
                          ],
                          [
                            0.6666666666666666,
                            "#ed7953"
                          ],
                          [
                            0.7777777777777778,
                            "#fb9f3a"
                          ],
                          [
                            0.8888888888888888,
                            "#fdca26"
                          ],
                          [
                            1,
                            "#f0f921"
                          ]
                        ],
                        "type": "histogram2dcontour"
                      }
                    ],
                    "mesh3d": [
                      {
                        "colorbar": {
                          "outlinewidth": 0,
                          "ticks": ""
                        },
                        "type": "mesh3d"
                      }
                    ],
                    "parcoords": [
                      {
                        "line": {
                          "colorbar": {
                            "outlinewidth": 0,
                            "ticks": ""
                          }
                        },
                        "type": "parcoords"
                      }
                    ],
                    "pie": [
                      {
                        "automargin": true,
                        "type": "pie"
                      }
                    ],
                    "scatter": [
                      {
                        "fillpattern": {
                          "fillmode": "overlay",
                          "size": 10,
                          "solidity": 0.2
                        },
                        "type": "scatter"
                      }
                    ],
                    "scatter3d": [
                      {
                        "line": {
                          "colorbar": {
                            "outlinewidth": 0,
                            "ticks": ""
                          }
                        },
                        "marker": {
                          "colorbar": {
                            "outlinewidth": 0,
                            "ticks": ""
                          }
                        },
                        "type": "scatter3d"
                      }
                    ],
                    "scattercarpet": [
                      {
                        "marker": {
                          "colorbar": {
                            "outlinewidth": 0,
                            "ticks": ""
                          }
                        },
                        "type": "scattercarpet"
                      }
                    ],
                    "scattergeo": [
                      {
                        "marker": {
                          "colorbar": {
                            "outlinewidth": 0,
                            "ticks": ""
                          }
                        },
                        "type": "scattergeo"
                      }
                    ],
                    "scattergl": [
                      {
                        "marker": {
                          "colorbar": {
                            "outlinewidth": 0,
                            "ticks": ""
                          }
                        },
                        "type": "scattergl"
                      }
                    ],
                    "scattermapbox": [
                      {
                        "marker": {
                          "colorbar": {
                            "outlinewidth": 0,
                            "ticks": ""
                          }
                        },
                        "type": "scattermapbox"
                      }
                    ],
                    "scatterpolar": [
                      {
                        "marker": {
                          "colorbar": {
                            "outlinewidth": 0,
                            "ticks": ""
                          }
                        },
                        "type": "scatterpolar"
                      }
                    ],
                    "scatterpolargl": [
                      {
                        "marker": {
                          "colorbar": {
                            "outlinewidth": 0,
                            "ticks": ""
                          }
                        },
                        "type": "scatterpolargl"
                      }
                    ],
                    "scatterternary": [
                      {
                        "marker": {
                          "colorbar": {
                            "outlinewidth": 0,
                            "ticks": ""
                          }
                        },
                        "type": "scatterternary"
                      }
                    ],
                    "surface": [
                      {
                        "colorbar": {
                          "outlinewidth": 0,
                          "ticks": ""
                        },
                        "colorscale": [
                          [
                            0,
                            "#0d0887"
                          ],
                          [
                            0.1111111111111111,
                            "#46039f"
                          ],
                          [
                            0.2222222222222222,
                            "#7201a8"
                          ],
                          [
                            0.3333333333333333,
                            "#9c179e"
                          ],
                          [
                            0.4444444444444444,
                            "#bd3786"
                          ],
                          [
                            0.5555555555555556,
                            "#d8576b"
                          ],
                          [
                            0.6666666666666666,
                            "#ed7953"
                          ],
                          [
                            0.7777777777777778,
                            "#fb9f3a"
                          ],
                          [
                            0.8888888888888888,
                            "#fdca26"
                          ],
                          [
                            1,
                            "#f0f921"
                          ]
                        ],
                        "type": "surface"
                      }
                    ],
                    "table": [
                      {
                        "cells": {
                          "fill": {
                            "color": "#EBF0F8"
                          },
                          "line": {
                            "color": "white"
                          }
                        },
                        "header": {
                          "fill": {
                            "color": "#C8D4E3"
                          },
                          "line": {
                            "color": "white"
                          }
                        },
                        "type": "table"
                      }
                    ]
                  },
                  "layout": {
                    "annotationdefaults": {
                      "arrowcolor": "#2a3f5f",
                      "arrowhead": 0,
                      "arrowwidth": 1
                    },
                    "autotypenumbers": "strict",
                    "coloraxis": {
                      "colorbar": {
                        "outlinewidth": 0,
                        "ticks": ""
                      }
                    },
                    "colorscale": {
                      "diverging": [
                        [
                          0,
                          "#8e0152"
                        ],
                        [
                          0.1,
                          "#c51b7d"
                        ],
                        [
                          0.2,
                          "#de77ae"
                        ],
                        [
                          0.3,
                          "#f1b6da"
                        ],
                        [
                          0.4,
                          "#fde0ef"
                        ],
                        [
                          0.5,
                          "#f7f7f7"
                        ],
                        [
                          0.6,
                          "#e6f5d0"
                        ],
                        [
                          0.7,
                          "#b8e186"
                        ],
                        [
                          0.8,
                          "#7fbc41"
                        ],
                        [
                          0.9,
                          "#4d9221"
                        ],
                        [
                          1,
                          "#276419"
                        ]
                      ],
                      "sequential": [
                        [
                          0,
                          "#0d0887"
                        ],
                        [
                          0.1111111111111111,
                          "#46039f"
                        ],
                        [
                          0.2222222222222222,
                          "#7201a8"
                        ],
                        [
                          0.3333333333333333,
                          "#9c179e"
                        ],
                        [
                          0.4444444444444444,
                          "#bd3786"
                        ],
                        [
                          0.5555555555555556,
                          "#d8576b"
                        ],
                        [
                          0.6666666666666666,
                          "#ed7953"
                        ],
                        [
                          0.7777777777777778,
                          "#fb9f3a"
                        ],
                        [
                          0.8888888888888888,
                          "#fdca26"
                        ],
                        [
                          1,
                          "#f0f921"
                        ]
                      ],
                      "sequentialminus": [
                        [
                          0,
                          "#0d0887"
                        ],
                        [
                          0.1111111111111111,
                          "#46039f"
                        ],
                        [
                          0.2222222222222222,
                          "#7201a8"
                        ],
                        [
                          0.3333333333333333,
                          "#9c179e"
                        ],
                        [
                          0.4444444444444444,
                          "#bd3786"
                        ],
                        [
                          0.5555555555555556,
                          "#d8576b"
                        ],
                        [
                          0.6666666666666666,
                          "#ed7953"
                        ],
                        [
                          0.7777777777777778,
                          "#fb9f3a"
                        ],
                        [
                          0.8888888888888888,
                          "#fdca26"
                        ],
                        [
                          1,
                          "#f0f921"
                        ]
                      ]
                    },
                    "colorway": [
                      "#636efa",
                      "#EF553B",
                      "#00cc96",
                      "#ab63fa",
                      "#FFA15A",
                      "#19d3f3",
                      "#FF6692",
                      "#B6E880",
                      "#FF97FF",
                      "#FECB52"
                    ],
                    "font": {
                      "color": "#2a3f5f"
                    },
                    "geo": {
                      "bgcolor": "white",
                      "lakecolor": "white",
                      "landcolor": "#E5ECF6",
                      "showlakes": true,
                      "showland": true,
                      "subunitcolor": "white"
                    },
                    "hoverlabel": {
                      "align": "left"
                    },
                    "hovermode": "closest",
                    "mapbox": {
                      "style": "light"
                    },
                    "paper_bgcolor": "white",
                    "plot_bgcolor": "#E5ECF6",
                    "polar": {
                      "angularaxis": {
                        "gridcolor": "white",
                        "linecolor": "white",
                        "ticks": ""
                      },
                      "bgcolor": "#E5ECF6",
                      "radialaxis": {
                        "gridcolor": "white",
                        "linecolor": "white",
                        "ticks": ""
                      }
                    },
                    "scene": {
                      "xaxis": {
                        "backgroundcolor": "#E5ECF6",
                        "gridcolor": "white",
                        "gridwidth": 2,
                        "linecolor": "white",
                        "showbackground": true,
                        "ticks": "",
                        "zerolinecolor": "white"
                      },
                      "yaxis": {
                        "backgroundcolor": "#E5ECF6",
                        "gridcolor": "white",
                        "gridwidth": 2,
                        "linecolor": "white",
                        "showbackground": true,
                        "ticks": "",
                        "zerolinecolor": "white"
                      },
                      "zaxis": {
                        "backgroundcolor": "#E5ECF6",
                        "gridcolor": "white",
                        "gridwidth": 2,
                        "linecolor": "white",
                        "showbackground": true,
                        "ticks": "",
                        "zerolinecolor": "white"
                      }
                    },
                    "shapedefaults": {
                      "line": {
                        "color": "#2a3f5f"
                      }
                    },
                    "ternary": {
                      "aaxis": {
                        "gridcolor": "white",
                        "linecolor": "white",
                        "ticks": ""
                      },
                      "baxis": {
                        "gridcolor": "white",
                        "linecolor": "white",
                        "ticks": ""
                      },
                      "bgcolor": "#E5ECF6",
                      "caxis": {
                        "gridcolor": "white",
                        "linecolor": "white",
                        "ticks": ""
                      }
                    },
                    "title": {
                      "x": 0.05
                    },
                    "xaxis": {
                      "automargin": true,
                      "gridcolor": "white",
                      "linecolor": "white",
                      "ticks": "",
                      "title": {
                        "standoff": 15
                      },
                      "zerolinecolor": "white",
                      "zerolinewidth": 2
                    },
                    "yaxis": {
                      "automargin": true,
                      "gridcolor": "white",
                      "linecolor": "white",
                      "ticks": "",
                      "title": {
                        "standoff": 15
                      },
                      "zerolinecolor": "white",
                      "zerolinewidth": 2
                    }
                  }
                },
                "title": {
                  "text": "Top 15 Industries for Solo Founders by Success Rate"
                },
                "xaxis": {
                  "title": {
                    "text": "Success Rate (%)"
                  }
                },
                "yaxis": {
                  "title": {
                    "text": "Industry"
                  }
                }
              }
            }
          },
          "metadata": {},
          "output_type": "display_data"
        },
        {
          "data": {
            "application/vnd.plotly.v1+json": {
              "config": {
                "plotlyServerURL": "https://plot.ly"
              },
              "data": [
                {
                  "marker": {
                    "color": "#0099FF"
                  },
                  "name": "# Solo Founders",
                  "type": "bar",
                  "x": [
                    2005,
                    2006,
                    2007,
                    2008,
                    2009,
                    2010,
                    2011,
                    2012,
                    2013,
                    2014,
                    2015,
                    2016,
                    2017,
                    2018,
                    2019,
                    2020,
                    2021,
                    2022,
                    2023,
                    2024,
                    2025
                  ],
                  "xaxis": "x",
                  "y": [
                    4,
                    14,
                    8,
                    13,
                    8,
                    22,
                    33,
                    42,
                    44,
                    61,
                    76,
                    79,
                    89,
                    106,
                    120,
                    119,
                    159,
                    151,
                    104,
                    111,
                    60
                  ],
                  "yaxis": "y"
                },
                {
                  "line": {
                    "width": 3
                  },
                  "marker": {
                    "color": "#FF3333"
                  },
                  "mode": "lines+markers",
                  "name": "% Solo",
                  "type": "scatter",
                  "x": [
                    2005,
                    2006,
                    2007,
                    2008,
                    2009,
                    2010,
                    2011,
                    2012,
                    2013,
                    2014,
                    2015,
                    2016,
                    2017,
                    2018,
                    2019,
                    2020,
                    2021,
                    2022,
                    2023,
                    2024,
                    2025
                  ],
                  "xaxis": "x",
                  "y": [
                    44.44444444444444,
                    77.77777777777779,
                    25,
                    30.23255813953488,
                    19.047619047619047,
                    34.92063492063492,
                    31.428571428571427,
                    28.187919463087248,
                    44.89795918367347,
                    40.131578947368425,
                    35.18518518518518,
                    35.267857142857146,
                    36.92946058091287,
                    38.26714801444043,
                    32.34501347708895,
                    27.293577981651374,
                    21.8707015130674,
                    23.817034700315457,
                    20.967741935483872,
                    18.624161073825505,
                    11.235955056179774
                  ],
                  "yaxis": "y2"
                }
              ],
              "layout": {
                "height": 400,
                "template": {
                  "data": {
                    "bar": [
                      {
                        "error_x": {
                          "color": "#2a3f5f"
                        },
                        "error_y": {
                          "color": "#2a3f5f"
                        },
                        "marker": {
                          "line": {
                            "color": "#E5ECF6",
                            "width": 0.5
                          },
                          "pattern": {
                            "fillmode": "overlay",
                            "size": 10,
                            "solidity": 0.2
                          }
                        },
                        "type": "bar"
                      }
                    ],
                    "barpolar": [
                      {
                        "marker": {
                          "line": {
                            "color": "#E5ECF6",
                            "width": 0.5
                          },
                          "pattern": {
                            "fillmode": "overlay",
                            "size": 10,
                            "solidity": 0.2
                          }
                        },
                        "type": "barpolar"
                      }
                    ],
                    "carpet": [
                      {
                        "aaxis": {
                          "endlinecolor": "#2a3f5f",
                          "gridcolor": "white",
                          "linecolor": "white",
                          "minorgridcolor": "white",
                          "startlinecolor": "#2a3f5f"
                        },
                        "baxis": {
                          "endlinecolor": "#2a3f5f",
                          "gridcolor": "white",
                          "linecolor": "white",
                          "minorgridcolor": "white",
                          "startlinecolor": "#2a3f5f"
                        },
                        "type": "carpet"
                      }
                    ],
                    "choropleth": [
                      {
                        "colorbar": {
                          "outlinewidth": 0,
                          "ticks": ""
                        },
                        "type": "choropleth"
                      }
                    ],
                    "contour": [
                      {
                        "colorbar": {
                          "outlinewidth": 0,
                          "ticks": ""
                        },
                        "colorscale": [
                          [
                            0,
                            "#0d0887"
                          ],
                          [
                            0.1111111111111111,
                            "#46039f"
                          ],
                          [
                            0.2222222222222222,
                            "#7201a8"
                          ],
                          [
                            0.3333333333333333,
                            "#9c179e"
                          ],
                          [
                            0.4444444444444444,
                            "#bd3786"
                          ],
                          [
                            0.5555555555555556,
                            "#d8576b"
                          ],
                          [
                            0.6666666666666666,
                            "#ed7953"
                          ],
                          [
                            0.7777777777777778,
                            "#fb9f3a"
                          ],
                          [
                            0.8888888888888888,
                            "#fdca26"
                          ],
                          [
                            1,
                            "#f0f921"
                          ]
                        ],
                        "type": "contour"
                      }
                    ],
                    "contourcarpet": [
                      {
                        "colorbar": {
                          "outlinewidth": 0,
                          "ticks": ""
                        },
                        "type": "contourcarpet"
                      }
                    ],
                    "heatmap": [
                      {
                        "colorbar": {
                          "outlinewidth": 0,
                          "ticks": ""
                        },
                        "colorscale": [
                          [
                            0,
                            "#0d0887"
                          ],
                          [
                            0.1111111111111111,
                            "#46039f"
                          ],
                          [
                            0.2222222222222222,
                            "#7201a8"
                          ],
                          [
                            0.3333333333333333,
                            "#9c179e"
                          ],
                          [
                            0.4444444444444444,
                            "#bd3786"
                          ],
                          [
                            0.5555555555555556,
                            "#d8576b"
                          ],
                          [
                            0.6666666666666666,
                            "#ed7953"
                          ],
                          [
                            0.7777777777777778,
                            "#fb9f3a"
                          ],
                          [
                            0.8888888888888888,
                            "#fdca26"
                          ],
                          [
                            1,
                            "#f0f921"
                          ]
                        ],
                        "type": "heatmap"
                      }
                    ],
                    "heatmapgl": [
                      {
                        "colorbar": {
                          "outlinewidth": 0,
                          "ticks": ""
                        },
                        "colorscale": [
                          [
                            0,
                            "#0d0887"
                          ],
                          [
                            0.1111111111111111,
                            "#46039f"
                          ],
                          [
                            0.2222222222222222,
                            "#7201a8"
                          ],
                          [
                            0.3333333333333333,
                            "#9c179e"
                          ],
                          [
                            0.4444444444444444,
                            "#bd3786"
                          ],
                          [
                            0.5555555555555556,
                            "#d8576b"
                          ],
                          [
                            0.6666666666666666,
                            "#ed7953"
                          ],
                          [
                            0.7777777777777778,
                            "#fb9f3a"
                          ],
                          [
                            0.8888888888888888,
                            "#fdca26"
                          ],
                          [
                            1,
                            "#f0f921"
                          ]
                        ],
                        "type": "heatmapgl"
                      }
                    ],
                    "histogram": [
                      {
                        "marker": {
                          "pattern": {
                            "fillmode": "overlay",
                            "size": 10,
                            "solidity": 0.2
                          }
                        },
                        "type": "histogram"
                      }
                    ],
                    "histogram2d": [
                      {
                        "colorbar": {
                          "outlinewidth": 0,
                          "ticks": ""
                        },
                        "colorscale": [
                          [
                            0,
                            "#0d0887"
                          ],
                          [
                            0.1111111111111111,
                            "#46039f"
                          ],
                          [
                            0.2222222222222222,
                            "#7201a8"
                          ],
                          [
                            0.3333333333333333,
                            "#9c179e"
                          ],
                          [
                            0.4444444444444444,
                            "#bd3786"
                          ],
                          [
                            0.5555555555555556,
                            "#d8576b"
                          ],
                          [
                            0.6666666666666666,
                            "#ed7953"
                          ],
                          [
                            0.7777777777777778,
                            "#fb9f3a"
                          ],
                          [
                            0.8888888888888888,
                            "#fdca26"
                          ],
                          [
                            1,
                            "#f0f921"
                          ]
                        ],
                        "type": "histogram2d"
                      }
                    ],
                    "histogram2dcontour": [
                      {
                        "colorbar": {
                          "outlinewidth": 0,
                          "ticks": ""
                        },
                        "colorscale": [
                          [
                            0,
                            "#0d0887"
                          ],
                          [
                            0.1111111111111111,
                            "#46039f"
                          ],
                          [
                            0.2222222222222222,
                            "#7201a8"
                          ],
                          [
                            0.3333333333333333,
                            "#9c179e"
                          ],
                          [
                            0.4444444444444444,
                            "#bd3786"
                          ],
                          [
                            0.5555555555555556,
                            "#d8576b"
                          ],
                          [
                            0.6666666666666666,
                            "#ed7953"
                          ],
                          [
                            0.7777777777777778,
                            "#fb9f3a"
                          ],
                          [
                            0.8888888888888888,
                            "#fdca26"
                          ],
                          [
                            1,
                            "#f0f921"
                          ]
                        ],
                        "type": "histogram2dcontour"
                      }
                    ],
                    "mesh3d": [
                      {
                        "colorbar": {
                          "outlinewidth": 0,
                          "ticks": ""
                        },
                        "type": "mesh3d"
                      }
                    ],
                    "parcoords": [
                      {
                        "line": {
                          "colorbar": {
                            "outlinewidth": 0,
                            "ticks": ""
                          }
                        },
                        "type": "parcoords"
                      }
                    ],
                    "pie": [
                      {
                        "automargin": true,
                        "type": "pie"
                      }
                    ],
                    "scatter": [
                      {
                        "fillpattern": {
                          "fillmode": "overlay",
                          "size": 10,
                          "solidity": 0.2
                        },
                        "type": "scatter"
                      }
                    ],
                    "scatter3d": [
                      {
                        "line": {
                          "colorbar": {
                            "outlinewidth": 0,
                            "ticks": ""
                          }
                        },
                        "marker": {
                          "colorbar": {
                            "outlinewidth": 0,
                            "ticks": ""
                          }
                        },
                        "type": "scatter3d"
                      }
                    ],
                    "scattercarpet": [
                      {
                        "marker": {
                          "colorbar": {
                            "outlinewidth": 0,
                            "ticks": ""
                          }
                        },
                        "type": "scattercarpet"
                      }
                    ],
                    "scattergeo": [
                      {
                        "marker": {
                          "colorbar": {
                            "outlinewidth": 0,
                            "ticks": ""
                          }
                        },
                        "type": "scattergeo"
                      }
                    ],
                    "scattergl": [
                      {
                        "marker": {
                          "colorbar": {
                            "outlinewidth": 0,
                            "ticks": ""
                          }
                        },
                        "type": "scattergl"
                      }
                    ],
                    "scattermapbox": [
                      {
                        "marker": {
                          "colorbar": {
                            "outlinewidth": 0,
                            "ticks": ""
                          }
                        },
                        "type": "scattermapbox"
                      }
                    ],
                    "scatterpolar": [
                      {
                        "marker": {
                          "colorbar": {
                            "outlinewidth": 0,
                            "ticks": ""
                          }
                        },
                        "type": "scatterpolar"
                      }
                    ],
                    "scatterpolargl": [
                      {
                        "marker": {
                          "colorbar": {
                            "outlinewidth": 0,
                            "ticks": ""
                          }
                        },
                        "type": "scatterpolargl"
                      }
                    ],
                    "scatterternary": [
                      {
                        "marker": {
                          "colorbar": {
                            "outlinewidth": 0,
                            "ticks": ""
                          }
                        },
                        "type": "scatterternary"
                      }
                    ],
                    "surface": [
                      {
                        "colorbar": {
                          "outlinewidth": 0,
                          "ticks": ""
                        },
                        "colorscale": [
                          [
                            0,
                            "#0d0887"
                          ],
                          [
                            0.1111111111111111,
                            "#46039f"
                          ],
                          [
                            0.2222222222222222,
                            "#7201a8"
                          ],
                          [
                            0.3333333333333333,
                            "#9c179e"
                          ],
                          [
                            0.4444444444444444,
                            "#bd3786"
                          ],
                          [
                            0.5555555555555556,
                            "#d8576b"
                          ],
                          [
                            0.6666666666666666,
                            "#ed7953"
                          ],
                          [
                            0.7777777777777778,
                            "#fb9f3a"
                          ],
                          [
                            0.8888888888888888,
                            "#fdca26"
                          ],
                          [
                            1,
                            "#f0f921"
                          ]
                        ],
                        "type": "surface"
                      }
                    ],
                    "table": [
                      {
                        "cells": {
                          "fill": {
                            "color": "#EBF0F8"
                          },
                          "line": {
                            "color": "white"
                          }
                        },
                        "header": {
                          "fill": {
                            "color": "#C8D4E3"
                          },
                          "line": {
                            "color": "white"
                          }
                        },
                        "type": "table"
                      }
                    ]
                  },
                  "layout": {
                    "annotationdefaults": {
                      "arrowcolor": "#2a3f5f",
                      "arrowhead": 0,
                      "arrowwidth": 1
                    },
                    "autotypenumbers": "strict",
                    "coloraxis": {
                      "colorbar": {
                        "outlinewidth": 0,
                        "ticks": ""
                      }
                    },
                    "colorscale": {
                      "diverging": [
                        [
                          0,
                          "#8e0152"
                        ],
                        [
                          0.1,
                          "#c51b7d"
                        ],
                        [
                          0.2,
                          "#de77ae"
                        ],
                        [
                          0.3,
                          "#f1b6da"
                        ],
                        [
                          0.4,
                          "#fde0ef"
                        ],
                        [
                          0.5,
                          "#f7f7f7"
                        ],
                        [
                          0.6,
                          "#e6f5d0"
                        ],
                        [
                          0.7,
                          "#b8e186"
                        ],
                        [
                          0.8,
                          "#7fbc41"
                        ],
                        [
                          0.9,
                          "#4d9221"
                        ],
                        [
                          1,
                          "#276419"
                        ]
                      ],
                      "sequential": [
                        [
                          0,
                          "#0d0887"
                        ],
                        [
                          0.1111111111111111,
                          "#46039f"
                        ],
                        [
                          0.2222222222222222,
                          "#7201a8"
                        ],
                        [
                          0.3333333333333333,
                          "#9c179e"
                        ],
                        [
                          0.4444444444444444,
                          "#bd3786"
                        ],
                        [
                          0.5555555555555556,
                          "#d8576b"
                        ],
                        [
                          0.6666666666666666,
                          "#ed7953"
                        ],
                        [
                          0.7777777777777778,
                          "#fb9f3a"
                        ],
                        [
                          0.8888888888888888,
                          "#fdca26"
                        ],
                        [
                          1,
                          "#f0f921"
                        ]
                      ],
                      "sequentialminus": [
                        [
                          0,
                          "#0d0887"
                        ],
                        [
                          0.1111111111111111,
                          "#46039f"
                        ],
                        [
                          0.2222222222222222,
                          "#7201a8"
                        ],
                        [
                          0.3333333333333333,
                          "#9c179e"
                        ],
                        [
                          0.4444444444444444,
                          "#bd3786"
                        ],
                        [
                          0.5555555555555556,
                          "#d8576b"
                        ],
                        [
                          0.6666666666666666,
                          "#ed7953"
                        ],
                        [
                          0.7777777777777778,
                          "#fb9f3a"
                        ],
                        [
                          0.8888888888888888,
                          "#fdca26"
                        ],
                        [
                          1,
                          "#f0f921"
                        ]
                      ]
                    },
                    "colorway": [
                      "#636efa",
                      "#EF553B",
                      "#00cc96",
                      "#ab63fa",
                      "#FFA15A",
                      "#19d3f3",
                      "#FF6692",
                      "#B6E880",
                      "#FF97FF",
                      "#FECB52"
                    ],
                    "font": {
                      "color": "#2a3f5f"
                    },
                    "geo": {
                      "bgcolor": "white",
                      "lakecolor": "white",
                      "landcolor": "#E5ECF6",
                      "showlakes": true,
                      "showland": true,
                      "subunitcolor": "white"
                    },
                    "hoverlabel": {
                      "align": "left"
                    },
                    "hovermode": "closest",
                    "mapbox": {
                      "style": "light"
                    },
                    "paper_bgcolor": "white",
                    "plot_bgcolor": "#E5ECF6",
                    "polar": {
                      "angularaxis": {
                        "gridcolor": "white",
                        "linecolor": "white",
                        "ticks": ""
                      },
                      "bgcolor": "#E5ECF6",
                      "radialaxis": {
                        "gridcolor": "white",
                        "linecolor": "white",
                        "ticks": ""
                      }
                    },
                    "scene": {
                      "xaxis": {
                        "backgroundcolor": "#E5ECF6",
                        "gridcolor": "white",
                        "gridwidth": 2,
                        "linecolor": "white",
                        "showbackground": true,
                        "ticks": "",
                        "zerolinecolor": "white"
                      },
                      "yaxis": {
                        "backgroundcolor": "#E5ECF6",
                        "gridcolor": "white",
                        "gridwidth": 2,
                        "linecolor": "white",
                        "showbackground": true,
                        "ticks": "",
                        "zerolinecolor": "white"
                      },
                      "zaxis": {
                        "backgroundcolor": "#E5ECF6",
                        "gridcolor": "white",
                        "gridwidth": 2,
                        "linecolor": "white",
                        "showbackground": true,
                        "ticks": "",
                        "zerolinecolor": "white"
                      }
                    },
                    "shapedefaults": {
                      "line": {
                        "color": "#2a3f5f"
                      }
                    },
                    "ternary": {
                      "aaxis": {
                        "gridcolor": "white",
                        "linecolor": "white",
                        "ticks": ""
                      },
                      "baxis": {
                        "gridcolor": "white",
                        "linecolor": "white",
                        "ticks": ""
                      },
                      "bgcolor": "#E5ECF6",
                      "caxis": {
                        "gridcolor": "white",
                        "linecolor": "white",
                        "ticks": ""
                      }
                    },
                    "title": {
                      "x": 0.05
                    },
                    "xaxis": {
                      "automargin": true,
                      "gridcolor": "white",
                      "linecolor": "white",
                      "ticks": "",
                      "title": {
                        "standoff": 15
                      },
                      "zerolinecolor": "white",
                      "zerolinewidth": 2
                    },
                    "yaxis": {
                      "automargin": true,
                      "gridcolor": "white",
                      "linecolor": "white",
                      "ticks": "",
                      "title": {
                        "standoff": 15
                      },
                      "zerolinecolor": "white",
                      "zerolinewidth": 2
                    }
                  }
                },
                "title": {
                  "text": "Solo Founder Trends: YC Acceptance Over Time"
                },
                "xaxis": {
                  "anchor": "y",
                  "domain": [
                    0,
                    0.94
                  ],
                  "title": {
                    "text": "Batch Year"
                  }
                },
                "yaxis": {
                  "anchor": "x",
                  "domain": [
                    0,
                    1
                  ],
                  "title": {
                    "text": "Number of Solo Founders"
                  }
                },
                "yaxis2": {
                  "anchor": "x",
                  "overlaying": "y",
                  "side": "right",
                  "title": {
                    "text": "Percentage Solo (%)"
                  }
                }
              }
            }
          },
          "metadata": {},
          "output_type": "display_data"
        },
        {
          "name": "stdout",
          "output_type": "stream",
          "text": [
            "\n",
            "📈 Solo Founder Trend:\n",
            "  Early batches (avg): 39.3% solo\n",
            "  Recent batches (avg): 16.9% solo\n",
            "  Change: -22.4pp\n"
          ]
        }
      ],
      "source": [
        "# Solo vs Team Founder Comprehensive Analysis\n",
        "def solo_team_comparison():\n",
        "    \"\"\"Comprehensive comparison between solo and team founders\"\"\"\n",
        "    solo_df = df[df['is_solo_founder']].copy()\n",
        "    team_df = df[df['is_team_founded']].copy()\n",
        "    \n",
        "    comparison = pd.DataFrame({\n",
        "        'Metric': [\n",
        "            'Total Companies',\n",
        "            'Success Rate (%)',\n",
        "            'Avg Team Size',\n",
        "            'Avg Company Age (years)',\n",
        "            'SF Bay Area (%)',\n",
        "            'AI-related (%)',\n",
        "            'B2B (%)',\n",
        "            'Has Grown Team (%)'\n",
        "        ],\n",
        "        'Solo Founders': [\n",
        "            len(solo_df),\n",
        "            solo_df['is_successful'].mean() * 100,\n",
        "            solo_df['team_size'].mean(),\n",
        "            solo_df['company_age'].mean(),\n",
        "            solo_df['is_sf_bay'].mean() * 100,\n",
        "            solo_df['is_ai'].mean() * 100,\n",
        "            solo_df['is_b2b'].mean() * 100,\n",
        "            solo_df['team_size'] > solo_df['num_founders']\n",
        "        ],\n",
        "        'Team Founders': [\n",
        "            len(team_df),\n",
        "            team_df['is_successful'].mean() * 100,\n",
        "            team_df['team_size'].mean(),\n",
        "            team_df['company_age'].mean(),\n",
        "            team_df['is_sf_bay'].mean() * 100,\n",
        "            team_df['is_ai'].mean() * 100,\n",
        "            team_df['is_b2b'].mean() * 100,\n",
        "            team_df['team_size'] > team_df['num_founders']\n",
        "        ]\n",
        "    })\n",
        "    \n",
        "    # Calculate team growth percentage\n",
        "    solo_growth = (solo_df['team_size'] > solo_df['num_founders']).mean() * 100\n",
        "    team_growth = (team_df['team_size'] > team_df['num_founders']).mean() * 100\n",
        "    \n",
        "    comparison.loc[comparison['Metric'] == 'Has Grown Team (%)', 'Solo Founders'] = solo_growth\n",
        "    comparison.loc[comparison['Metric'] == 'Has Grown Team (%)', 'Team Founders'] = team_growth\n",
        "    \n",
        "    comparison['Difference'] = comparison['Team Founders'] - comparison['Solo Founders']\n",
        "    comparison = comparison.round(2)\n",
        "    \n",
        "    print(\"\\n\" + \"═\" * 80)\n",
        "    print(\"  SOLO vs TEAM FOUNDERS: HEAD-TO-HEAD COMPARISON\")\n",
        "    print(\"═\" * 80)\n",
        "    print(comparison.to_string(index=False))\n",
        "    print(\"═\" * 80)\n",
        "    \n",
        "    return comparison\n",
        "\n",
        "def analyze_solo_industries():\n",
        "    \"\"\"Analyze top industries for solo founders by success rate\"\"\"\n",
        "    solo_df = df[df['is_solo_founder']].copy()\n",
        "    \n",
        "    # Calculate success rate per industry for solo founders\n",
        "    industry_success = {}\n",
        "    for tag in df['tags'].explode().value_counts().head(30).index:\n",
        "        companies_with_tag = solo_df[solo_df['tags'].apply(\n",
        "            lambda x: tag in x if isinstance(x, list) else False\n",
        "        )]\n",
        "        if len(companies_with_tag) >= 5:\n",
        "            success_rate = companies_with_tag['is_successful'].mean()\n",
        "            industry_success[tag] = {\n",
        "                'success_rate': success_rate,\n",
        "                'count': len(companies_with_tag),\n",
        "                'successful': companies_with_tag['is_successful'].sum()\n",
        "            }\n",
        "    \n",
        "    industry_df = pd.DataFrame(industry_success).T.sort_values('success_rate', ascending=False).head(15)\n",
        "    \n",
        "    fig = go.Figure()\n",
        "    fig.add_trace(go.Bar(\n",
        "        y=industry_df.index,\n",
        "        x=industry_df['success_rate'] * 100,\n",
        "        orientation='h',\n",
        "        text=[f\"{val*100:.1f}% ({count:.0f} cos)\" \n",
        "              for val, count in zip(industry_df['success_rate'], industry_df['count'])],\n",
        "        textposition='outside',\n",
        "        marker_color='#FF6600'\n",
        "    ))\n",
        "    \n",
        "    fig.update_layout(\n",
        "        title='Top 15 Industries for Solo Founders by Success Rate',\n",
        "        xaxis_title='Success Rate (%)',\n",
        "        yaxis_title='Industry',\n",
        "        height=500\n",
        "    )\n",
        "    fig.show()\n",
        "    \n",
        "    return industry_df\n",
        "\n",
        "def solo_trends_over_time():\n",
        "    \"\"\"Analyze solo founder trends over time\"\"\"\n",
        "    solo_trends = df.groupby('batch_year').agg({\n",
        "        'is_solo_founder': ['sum', 'mean']\n",
        "    })\n",
        "    solo_trends.columns = ['Solo_Count', 'Solo_Percentage']\n",
        "    solo_trends = solo_trends.dropna()\n",
        "    \n",
        "    fig = make_subplots(specs=[[{\"secondary_y\": True}]])\n",
        "    \n",
        "    fig.add_trace(\n",
        "        go.Bar(x=solo_trends.index, y=solo_trends['Solo_Count'], name='# Solo Founders', marker_color='#0099FF'),\n",
        "        secondary_y=False\n",
        "    )\n",
        "    \n",
        "    fig.add_trace(\n",
        "        go.Scatter(x=solo_trends.index, y=solo_trends['Solo_Percentage']*100, \n",
        "                   name='% Solo', mode='lines+markers', marker_color='#FF3333', line=dict(width=3)),\n",
        "        secondary_y=True\n",
        "    )\n",
        "    \n",
        "    fig.update_layout(title='Solo Founder Trends: YC Acceptance Over Time', height=400)\n",
        "    fig.update_yaxes(title_text=\"Number of Solo Founders\", secondary_y=False)\n",
        "    fig.update_yaxes(title_text=\"Percentage Solo (%)\", secondary_y=True)\n",
        "    fig.update_xaxes(title_text=\"Batch Year\")\n",
        "    \n",
        "    fig.show()\n",
        "    \n",
        "    recent_solo_pct = solo_trends['Solo_Percentage'].tail(3).mean() * 100\n",
        "    early_solo_pct = solo_trends['Solo_Percentage'].head(5).mean() * 100\n",
        "    print(f\"\\n📈 Solo Founder Trend:\")\n",
        "    print(f\"  Early batches (avg): {early_solo_pct:.1f}% solo\")\n",
        "    print(f\"  Recent batches (avg): {recent_solo_pct:.1f}% solo\")\n",
        "    print(f\"  Change: {recent_solo_pct - early_solo_pct:+.1f}pp\")\n",
        "    \n",
        "    return solo_trends\n",
        "\n",
        "# Run solo founder analysis\n",
        "print(\"🔍 Deep Dive: Solo vs Team Founders\")\n",
        "comparison_results = solo_team_comparison()\n",
        "solo_industries = analyze_solo_industries()\n",
        "solo_trends = solo_trends_over_time()\n"
      ]
    },
    {
      "cell_type": "markdown",
      "metadata": {},
      "source": [
        "## 2.8. Temporal & Batch Analysis\n"
      ]
    },
    {
      "cell_type": "code",
      "execution_count": 65,
      "metadata": {},
      "outputs": [
        {
          "name": "stdout",
          "output_type": "stream",
          "text": [
            "📈 Analyzing YC Evolution Over Time\n"
          ]
        },
        {
          "data": {
            "application/vnd.plotly.v1+json": {
              "config": {
                "plotlyServerURL": "https://plot.ly"
              },
              "data": [
                {
                  "fill": "tozeroy",
                  "marker": {
                    "color": "#0099FF"
                  },
                  "mode": "lines+markers",
                  "type": "scatter",
                  "x": [
                    2005,
                    2006,
                    2007,
                    2008,
                    2009,
                    2010,
                    2011,
                    2012,
                    2013,
                    2014,
                    2015,
                    2016,
                    2017,
                    2018,
                    2019,
                    2020,
                    2021,
                    2022,
                    2023,
                    2024,
                    2025
                  ],
                  "xaxis": "x",
                  "y": [
                    9,
                    18,
                    32,
                    43,
                    42,
                    63,
                    105,
                    149,
                    98,
                    152,
                    216,
                    224,
                    241,
                    277,
                    371,
                    436,
                    727,
                    634,
                    496,
                    596,
                    534
                  ],
                  "yaxis": "y"
                },
                {
                  "marker": {
                    "color": "#00CC66"
                  },
                  "mode": "lines+markers",
                  "type": "scatter",
                  "x": [
                    2005,
                    2006,
                    2007,
                    2008,
                    2009,
                    2010,
                    2011,
                    2012,
                    2013,
                    2014,
                    2015,
                    2016,
                    2017,
                    2018,
                    2019,
                    2020,
                    2021,
                    2022,
                    2023,
                    2024,
                    2025
                  ],
                  "xaxis": "x2",
                  "y": [
                    66.7,
                    33.300000000000004,
                    40.6,
                    20.9,
                    31,
                    50.8,
                    40,
                    32.9,
                    34.699999999999996,
                    34.9,
                    30.099999999999998,
                    19.6,
                    24.9,
                    17.7,
                    13.5,
                    14.399999999999999,
                    8.3,
                    5.7,
                    5,
                    0.8,
                    0
                  ],
                  "yaxis": "y2"
                },
                {
                  "fill": "tozeroy",
                  "marker": {
                    "color": "#9933FF"
                  },
                  "mode": "lines+markers",
                  "type": "scatter",
                  "x": [
                    2005,
                    2006,
                    2007,
                    2008,
                    2009,
                    2010,
                    2011,
                    2012,
                    2013,
                    2014,
                    2015,
                    2016,
                    2017,
                    2018,
                    2019,
                    2020,
                    2021,
                    2022,
                    2023,
                    2024,
                    2025
                  ],
                  "xaxis": "x3",
                  "y": [
                    0,
                    5.6000000000000005,
                    0,
                    2.3,
                    9.5,
                    4.8,
                    8.6,
                    8.7,
                    4.1000000000000005,
                    11.200000000000001,
                    13,
                    13.8,
                    15.8,
                    18.4,
                    12.7,
                    20,
                    17.9,
                    28.199999999999996,
                    45.4,
                    44.1,
                    47.8
                  ],
                  "yaxis": "y3"
                },
                {
                  "fill": "tozeroy",
                  "marker": {
                    "color": "#FF6600"
                  },
                  "mode": "lines+markers",
                  "type": "scatter",
                  "x": [
                    2005,
                    2006,
                    2007,
                    2008,
                    2009,
                    2010,
                    2011,
                    2012,
                    2013,
                    2014,
                    2015,
                    2016,
                    2017,
                    2018,
                    2019,
                    2020,
                    2021,
                    2022,
                    2023,
                    2024,
                    2025
                  ],
                  "xaxis": "x4",
                  "y": [
                    0,
                    5.6000000000000005,
                    3.1,
                    7.000000000000001,
                    4.8,
                    1.6,
                    18.099999999999998,
                    14.099999999999998,
                    11.200000000000001,
                    15.1,
                    19,
                    12.1,
                    14.099999999999998,
                    18.8,
                    24,
                    39,
                    40.9,
                    42.3,
                    41.3,
                    32.4,
                    36.3
                  ],
                  "yaxis": "y4"
                }
              ],
              "layout": {
                "annotations": [
                  {
                    "font": {
                      "size": 16
                    },
                    "showarrow": false,
                    "text": "Batch Size Over Time",
                    "x": 0.225,
                    "xanchor": "center",
                    "xref": "paper",
                    "y": 1,
                    "yanchor": "bottom",
                    "yref": "paper"
                  },
                  {
                    "font": {
                      "size": 16
                    },
                    "showarrow": false,
                    "text": "Success Rate by Vintage",
                    "x": 0.775,
                    "xanchor": "center",
                    "xref": "paper",
                    "y": 1,
                    "yanchor": "bottom",
                    "yref": "paper"
                  },
                  {
                    "font": {
                      "size": 16
                    },
                    "showarrow": false,
                    "text": "AI Companies Trend",
                    "x": 0.225,
                    "xanchor": "center",
                    "xref": "paper",
                    "y": 0.375,
                    "yanchor": "bottom",
                    "yref": "paper"
                  },
                  {
                    "font": {
                      "size": 16
                    },
                    "showarrow": false,
                    "text": "B2B Companies Trend",
                    "x": 0.775,
                    "xanchor": "center",
                    "xref": "paper",
                    "y": 0.375,
                    "yanchor": "bottom",
                    "yref": "paper"
                  }
                ],
                "height": 700,
                "showlegend": false,
                "template": {
                  "data": {
                    "bar": [
                      {
                        "error_x": {
                          "color": "#2a3f5f"
                        },
                        "error_y": {
                          "color": "#2a3f5f"
                        },
                        "marker": {
                          "line": {
                            "color": "#E5ECF6",
                            "width": 0.5
                          },
                          "pattern": {
                            "fillmode": "overlay",
                            "size": 10,
                            "solidity": 0.2
                          }
                        },
                        "type": "bar"
                      }
                    ],
                    "barpolar": [
                      {
                        "marker": {
                          "line": {
                            "color": "#E5ECF6",
                            "width": 0.5
                          },
                          "pattern": {
                            "fillmode": "overlay",
                            "size": 10,
                            "solidity": 0.2
                          }
                        },
                        "type": "barpolar"
                      }
                    ],
                    "carpet": [
                      {
                        "aaxis": {
                          "endlinecolor": "#2a3f5f",
                          "gridcolor": "white",
                          "linecolor": "white",
                          "minorgridcolor": "white",
                          "startlinecolor": "#2a3f5f"
                        },
                        "baxis": {
                          "endlinecolor": "#2a3f5f",
                          "gridcolor": "white",
                          "linecolor": "white",
                          "minorgridcolor": "white",
                          "startlinecolor": "#2a3f5f"
                        },
                        "type": "carpet"
                      }
                    ],
                    "choropleth": [
                      {
                        "colorbar": {
                          "outlinewidth": 0,
                          "ticks": ""
                        },
                        "type": "choropleth"
                      }
                    ],
                    "contour": [
                      {
                        "colorbar": {
                          "outlinewidth": 0,
                          "ticks": ""
                        },
                        "colorscale": [
                          [
                            0,
                            "#0d0887"
                          ],
                          [
                            0.1111111111111111,
                            "#46039f"
                          ],
                          [
                            0.2222222222222222,
                            "#7201a8"
                          ],
                          [
                            0.3333333333333333,
                            "#9c179e"
                          ],
                          [
                            0.4444444444444444,
                            "#bd3786"
                          ],
                          [
                            0.5555555555555556,
                            "#d8576b"
                          ],
                          [
                            0.6666666666666666,
                            "#ed7953"
                          ],
                          [
                            0.7777777777777778,
                            "#fb9f3a"
                          ],
                          [
                            0.8888888888888888,
                            "#fdca26"
                          ],
                          [
                            1,
                            "#f0f921"
                          ]
                        ],
                        "type": "contour"
                      }
                    ],
                    "contourcarpet": [
                      {
                        "colorbar": {
                          "outlinewidth": 0,
                          "ticks": ""
                        },
                        "type": "contourcarpet"
                      }
                    ],
                    "heatmap": [
                      {
                        "colorbar": {
                          "outlinewidth": 0,
                          "ticks": ""
                        },
                        "colorscale": [
                          [
                            0,
                            "#0d0887"
                          ],
                          [
                            0.1111111111111111,
                            "#46039f"
                          ],
                          [
                            0.2222222222222222,
                            "#7201a8"
                          ],
                          [
                            0.3333333333333333,
                            "#9c179e"
                          ],
                          [
                            0.4444444444444444,
                            "#bd3786"
                          ],
                          [
                            0.5555555555555556,
                            "#d8576b"
                          ],
                          [
                            0.6666666666666666,
                            "#ed7953"
                          ],
                          [
                            0.7777777777777778,
                            "#fb9f3a"
                          ],
                          [
                            0.8888888888888888,
                            "#fdca26"
                          ],
                          [
                            1,
                            "#f0f921"
                          ]
                        ],
                        "type": "heatmap"
                      }
                    ],
                    "heatmapgl": [
                      {
                        "colorbar": {
                          "outlinewidth": 0,
                          "ticks": ""
                        },
                        "colorscale": [
                          [
                            0,
                            "#0d0887"
                          ],
                          [
                            0.1111111111111111,
                            "#46039f"
                          ],
                          [
                            0.2222222222222222,
                            "#7201a8"
                          ],
                          [
                            0.3333333333333333,
                            "#9c179e"
                          ],
                          [
                            0.4444444444444444,
                            "#bd3786"
                          ],
                          [
                            0.5555555555555556,
                            "#d8576b"
                          ],
                          [
                            0.6666666666666666,
                            "#ed7953"
                          ],
                          [
                            0.7777777777777778,
                            "#fb9f3a"
                          ],
                          [
                            0.8888888888888888,
                            "#fdca26"
                          ],
                          [
                            1,
                            "#f0f921"
                          ]
                        ],
                        "type": "heatmapgl"
                      }
                    ],
                    "histogram": [
                      {
                        "marker": {
                          "pattern": {
                            "fillmode": "overlay",
                            "size": 10,
                            "solidity": 0.2
                          }
                        },
                        "type": "histogram"
                      }
                    ],
                    "histogram2d": [
                      {
                        "colorbar": {
                          "outlinewidth": 0,
                          "ticks": ""
                        },
                        "colorscale": [
                          [
                            0,
                            "#0d0887"
                          ],
                          [
                            0.1111111111111111,
                            "#46039f"
                          ],
                          [
                            0.2222222222222222,
                            "#7201a8"
                          ],
                          [
                            0.3333333333333333,
                            "#9c179e"
                          ],
                          [
                            0.4444444444444444,
                            "#bd3786"
                          ],
                          [
                            0.5555555555555556,
                            "#d8576b"
                          ],
                          [
                            0.6666666666666666,
                            "#ed7953"
                          ],
                          [
                            0.7777777777777778,
                            "#fb9f3a"
                          ],
                          [
                            0.8888888888888888,
                            "#fdca26"
                          ],
                          [
                            1,
                            "#f0f921"
                          ]
                        ],
                        "type": "histogram2d"
                      }
                    ],
                    "histogram2dcontour": [
                      {
                        "colorbar": {
                          "outlinewidth": 0,
                          "ticks": ""
                        },
                        "colorscale": [
                          [
                            0,
                            "#0d0887"
                          ],
                          [
                            0.1111111111111111,
                            "#46039f"
                          ],
                          [
                            0.2222222222222222,
                            "#7201a8"
                          ],
                          [
                            0.3333333333333333,
                            "#9c179e"
                          ],
                          [
                            0.4444444444444444,
                            "#bd3786"
                          ],
                          [
                            0.5555555555555556,
                            "#d8576b"
                          ],
                          [
                            0.6666666666666666,
                            "#ed7953"
                          ],
                          [
                            0.7777777777777778,
                            "#fb9f3a"
                          ],
                          [
                            0.8888888888888888,
                            "#fdca26"
                          ],
                          [
                            1,
                            "#f0f921"
                          ]
                        ],
                        "type": "histogram2dcontour"
                      }
                    ],
                    "mesh3d": [
                      {
                        "colorbar": {
                          "outlinewidth": 0,
                          "ticks": ""
                        },
                        "type": "mesh3d"
                      }
                    ],
                    "parcoords": [
                      {
                        "line": {
                          "colorbar": {
                            "outlinewidth": 0,
                            "ticks": ""
                          }
                        },
                        "type": "parcoords"
                      }
                    ],
                    "pie": [
                      {
                        "automargin": true,
                        "type": "pie"
                      }
                    ],
                    "scatter": [
                      {
                        "fillpattern": {
                          "fillmode": "overlay",
                          "size": 10,
                          "solidity": 0.2
                        },
                        "type": "scatter"
                      }
                    ],
                    "scatter3d": [
                      {
                        "line": {
                          "colorbar": {
                            "outlinewidth": 0,
                            "ticks": ""
                          }
                        },
                        "marker": {
                          "colorbar": {
                            "outlinewidth": 0,
                            "ticks": ""
                          }
                        },
                        "type": "scatter3d"
                      }
                    ],
                    "scattercarpet": [
                      {
                        "marker": {
                          "colorbar": {
                            "outlinewidth": 0,
                            "ticks": ""
                          }
                        },
                        "type": "scattercarpet"
                      }
                    ],
                    "scattergeo": [
                      {
                        "marker": {
                          "colorbar": {
                            "outlinewidth": 0,
                            "ticks": ""
                          }
                        },
                        "type": "scattergeo"
                      }
                    ],
                    "scattergl": [
                      {
                        "marker": {
                          "colorbar": {
                            "outlinewidth": 0,
                            "ticks": ""
                          }
                        },
                        "type": "scattergl"
                      }
                    ],
                    "scattermapbox": [
                      {
                        "marker": {
                          "colorbar": {
                            "outlinewidth": 0,
                            "ticks": ""
                          }
                        },
                        "type": "scattermapbox"
                      }
                    ],
                    "scatterpolar": [
                      {
                        "marker": {
                          "colorbar": {
                            "outlinewidth": 0,
                            "ticks": ""
                          }
                        },
                        "type": "scatterpolar"
                      }
                    ],
                    "scatterpolargl": [
                      {
                        "marker": {
                          "colorbar": {
                            "outlinewidth": 0,
                            "ticks": ""
                          }
                        },
                        "type": "scatterpolargl"
                      }
                    ],
                    "scatterternary": [
                      {
                        "marker": {
                          "colorbar": {
                            "outlinewidth": 0,
                            "ticks": ""
                          }
                        },
                        "type": "scatterternary"
                      }
                    ],
                    "surface": [
                      {
                        "colorbar": {
                          "outlinewidth": 0,
                          "ticks": ""
                        },
                        "colorscale": [
                          [
                            0,
                            "#0d0887"
                          ],
                          [
                            0.1111111111111111,
                            "#46039f"
                          ],
                          [
                            0.2222222222222222,
                            "#7201a8"
                          ],
                          [
                            0.3333333333333333,
                            "#9c179e"
                          ],
                          [
                            0.4444444444444444,
                            "#bd3786"
                          ],
                          [
                            0.5555555555555556,
                            "#d8576b"
                          ],
                          [
                            0.6666666666666666,
                            "#ed7953"
                          ],
                          [
                            0.7777777777777778,
                            "#fb9f3a"
                          ],
                          [
                            0.8888888888888888,
                            "#fdca26"
                          ],
                          [
                            1,
                            "#f0f921"
                          ]
                        ],
                        "type": "surface"
                      }
                    ],
                    "table": [
                      {
                        "cells": {
                          "fill": {
                            "color": "#EBF0F8"
                          },
                          "line": {
                            "color": "white"
                          }
                        },
                        "header": {
                          "fill": {
                            "color": "#C8D4E3"
                          },
                          "line": {
                            "color": "white"
                          }
                        },
                        "type": "table"
                      }
                    ]
                  },
                  "layout": {
                    "annotationdefaults": {
                      "arrowcolor": "#2a3f5f",
                      "arrowhead": 0,
                      "arrowwidth": 1
                    },
                    "autotypenumbers": "strict",
                    "coloraxis": {
                      "colorbar": {
                        "outlinewidth": 0,
                        "ticks": ""
                      }
                    },
                    "colorscale": {
                      "diverging": [
                        [
                          0,
                          "#8e0152"
                        ],
                        [
                          0.1,
                          "#c51b7d"
                        ],
                        [
                          0.2,
                          "#de77ae"
                        ],
                        [
                          0.3,
                          "#f1b6da"
                        ],
                        [
                          0.4,
                          "#fde0ef"
                        ],
                        [
                          0.5,
                          "#f7f7f7"
                        ],
                        [
                          0.6,
                          "#e6f5d0"
                        ],
                        [
                          0.7,
                          "#b8e186"
                        ],
                        [
                          0.8,
                          "#7fbc41"
                        ],
                        [
                          0.9,
                          "#4d9221"
                        ],
                        [
                          1,
                          "#276419"
                        ]
                      ],
                      "sequential": [
                        [
                          0,
                          "#0d0887"
                        ],
                        [
                          0.1111111111111111,
                          "#46039f"
                        ],
                        [
                          0.2222222222222222,
                          "#7201a8"
                        ],
                        [
                          0.3333333333333333,
                          "#9c179e"
                        ],
                        [
                          0.4444444444444444,
                          "#bd3786"
                        ],
                        [
                          0.5555555555555556,
                          "#d8576b"
                        ],
                        [
                          0.6666666666666666,
                          "#ed7953"
                        ],
                        [
                          0.7777777777777778,
                          "#fb9f3a"
                        ],
                        [
                          0.8888888888888888,
                          "#fdca26"
                        ],
                        [
                          1,
                          "#f0f921"
                        ]
                      ],
                      "sequentialminus": [
                        [
                          0,
                          "#0d0887"
                        ],
                        [
                          0.1111111111111111,
                          "#46039f"
                        ],
                        [
                          0.2222222222222222,
                          "#7201a8"
                        ],
                        [
                          0.3333333333333333,
                          "#9c179e"
                        ],
                        [
                          0.4444444444444444,
                          "#bd3786"
                        ],
                        [
                          0.5555555555555556,
                          "#d8576b"
                        ],
                        [
                          0.6666666666666666,
                          "#ed7953"
                        ],
                        [
                          0.7777777777777778,
                          "#fb9f3a"
                        ],
                        [
                          0.8888888888888888,
                          "#fdca26"
                        ],
                        [
                          1,
                          "#f0f921"
                        ]
                      ]
                    },
                    "colorway": [
                      "#636efa",
                      "#EF553B",
                      "#00cc96",
                      "#ab63fa",
                      "#FFA15A",
                      "#19d3f3",
                      "#FF6692",
                      "#B6E880",
                      "#FF97FF",
                      "#FECB52"
                    ],
                    "font": {
                      "color": "#2a3f5f"
                    },
                    "geo": {
                      "bgcolor": "white",
                      "lakecolor": "white",
                      "landcolor": "#E5ECF6",
                      "showlakes": true,
                      "showland": true,
                      "subunitcolor": "white"
                    },
                    "hoverlabel": {
                      "align": "left"
                    },
                    "hovermode": "closest",
                    "mapbox": {
                      "style": "light"
                    },
                    "paper_bgcolor": "white",
                    "plot_bgcolor": "#E5ECF6",
                    "polar": {
                      "angularaxis": {
                        "gridcolor": "white",
                        "linecolor": "white",
                        "ticks": ""
                      },
                      "bgcolor": "#E5ECF6",
                      "radialaxis": {
                        "gridcolor": "white",
                        "linecolor": "white",
                        "ticks": ""
                      }
                    },
                    "scene": {
                      "xaxis": {
                        "backgroundcolor": "#E5ECF6",
                        "gridcolor": "white",
                        "gridwidth": 2,
                        "linecolor": "white",
                        "showbackground": true,
                        "ticks": "",
                        "zerolinecolor": "white"
                      },
                      "yaxis": {
                        "backgroundcolor": "#E5ECF6",
                        "gridcolor": "white",
                        "gridwidth": 2,
                        "linecolor": "white",
                        "showbackground": true,
                        "ticks": "",
                        "zerolinecolor": "white"
                      },
                      "zaxis": {
                        "backgroundcolor": "#E5ECF6",
                        "gridcolor": "white",
                        "gridwidth": 2,
                        "linecolor": "white",
                        "showbackground": true,
                        "ticks": "",
                        "zerolinecolor": "white"
                      }
                    },
                    "shapedefaults": {
                      "line": {
                        "color": "#2a3f5f"
                      }
                    },
                    "ternary": {
                      "aaxis": {
                        "gridcolor": "white",
                        "linecolor": "white",
                        "ticks": ""
                      },
                      "baxis": {
                        "gridcolor": "white",
                        "linecolor": "white",
                        "ticks": ""
                      },
                      "bgcolor": "#E5ECF6",
                      "caxis": {
                        "gridcolor": "white",
                        "linecolor": "white",
                        "ticks": ""
                      }
                    },
                    "title": {
                      "x": 0.05
                    },
                    "xaxis": {
                      "automargin": true,
                      "gridcolor": "white",
                      "linecolor": "white",
                      "ticks": "",
                      "title": {
                        "standoff": 15
                      },
                      "zerolinecolor": "white",
                      "zerolinewidth": 2
                    },
                    "yaxis": {
                      "automargin": true,
                      "gridcolor": "white",
                      "linecolor": "white",
                      "ticks": "",
                      "title": {
                        "standoff": 15
                      },
                      "zerolinecolor": "white",
                      "zerolinewidth": 2
                    }
                  }
                },
                "title": {
                  "text": "YC Evolution: 20-Year Trends"
                },
                "xaxis": {
                  "anchor": "y",
                  "domain": [
                    0,
                    0.45
                  ]
                },
                "xaxis2": {
                  "anchor": "y2",
                  "domain": [
                    0.55,
                    1
                  ]
                },
                "xaxis3": {
                  "anchor": "y3",
                  "domain": [
                    0,
                    0.45
                  ]
                },
                "xaxis4": {
                  "anchor": "y4",
                  "domain": [
                    0.55,
                    1
                  ]
                },
                "yaxis": {
                  "anchor": "x",
                  "domain": [
                    0.625,
                    1
                  ],
                  "title": {
                    "text": "# Companies"
                  }
                },
                "yaxis2": {
                  "anchor": "x2",
                  "domain": [
                    0.625,
                    1
                  ],
                  "title": {
                    "text": "Success Rate (%)"
                  }
                },
                "yaxis3": {
                  "anchor": "x3",
                  "domain": [
                    0,
                    0.375
                  ],
                  "title": {
                    "text": "% AI Companies"
                  }
                },
                "yaxis4": {
                  "anchor": "x4",
                  "domain": [
                    0,
                    0.375
                  ],
                  "title": {
                    "text": "% B2B Companies"
                  }
                }
              }
            }
          },
          "metadata": {},
          "output_type": "display_data"
        },
        {
          "name": "stdout",
          "output_type": "stream",
          "text": [
            "📊 Seasonal data available: 5463 companies\n",
            "📊 Unique seasons: ['Fall' 'Summer' 'Spring' 'Winter']\n",
            "\n",
            "🌤️  SEASONAL BATCH COMPARISON:\n",
            "              Count  Success_Rate  Avg_Founders  Avg_Team_Size\n",
            "batch_season                                                  \n",
            "Fall            146         0.000         1.986          3.368\n",
            "Spring          144         0.000         2.090          2.832\n",
            "Summer         2511         0.136         1.973         46.876\n",
            "Winter         2662         0.140         1.948         56.321\n"
          ]
        },
        {
          "data": {
            "application/vnd.plotly.v1+json": {
              "config": {
                "plotlyServerURL": "https://plot.ly"
              },
              "data": [
                {
                  "marker": {
                    "color": "lightblue"
                  },
                  "name": "Companies",
                  "type": "bar",
                  "x": [
                    "Fall",
                    "Spring",
                    "Summer",
                    "Winter"
                  ],
                  "xaxis": "x",
                  "y": [
                    146,
                    144,
                    2511,
                    2662
                  ],
                  "yaxis": "y"
                },
                {
                  "marker": {
                    "color": "lightgreen"
                  },
                  "name": "Success Rate %",
                  "type": "bar",
                  "x": [
                    "Fall",
                    "Spring",
                    "Summer",
                    "Winter"
                  ],
                  "xaxis": "x2",
                  "y": [
                    0,
                    0,
                    13.600000000000001,
                    14.000000000000002
                  ],
                  "yaxis": "y2"
                },
                {
                  "marker": {
                    "color": "lightcoral"
                  },
                  "name": "Avg Founders",
                  "type": "bar",
                  "x": [
                    "Fall",
                    "Spring",
                    "Summer",
                    "Winter"
                  ],
                  "xaxis": "x3",
                  "y": [
                    1.986,
                    2.09,
                    1.973,
                    1.948
                  ],
                  "yaxis": "y3"
                },
                {
                  "marker": {
                    "color": "lightyellow"
                  },
                  "name": "Avg Team Size",
                  "type": "bar",
                  "x": [
                    "Fall",
                    "Spring",
                    "Summer",
                    "Winter"
                  ],
                  "xaxis": "x4",
                  "y": [
                    3.368,
                    2.832,
                    46.876,
                    56.321
                  ],
                  "yaxis": "y4"
                }
              ],
              "layout": {
                "annotations": [
                  {
                    "font": {
                      "size": 16
                    },
                    "showarrow": false,
                    "text": "Companies per Season",
                    "x": 0.225,
                    "xanchor": "center",
                    "xref": "paper",
                    "y": 1,
                    "yanchor": "bottom",
                    "yref": "paper"
                  },
                  {
                    "font": {
                      "size": 16
                    },
                    "showarrow": false,
                    "text": "Success Rate by Season",
                    "x": 0.775,
                    "xanchor": "center",
                    "xref": "paper",
                    "y": 1,
                    "yanchor": "bottom",
                    "yref": "paper"
                  },
                  {
                    "font": {
                      "size": 16
                    },
                    "showarrow": false,
                    "text": "Average Founders by Season",
                    "x": 0.225,
                    "xanchor": "center",
                    "xref": "paper",
                    "y": 0.375,
                    "yanchor": "bottom",
                    "yref": "paper"
                  },
                  {
                    "font": {
                      "size": 16
                    },
                    "showarrow": false,
                    "text": "Average Team Size by Season",
                    "x": 0.775,
                    "xanchor": "center",
                    "xref": "paper",
                    "y": 0.375,
                    "yanchor": "bottom",
                    "yref": "paper"
                  }
                ],
                "height": 600,
                "showlegend": false,
                "template": {
                  "data": {
                    "bar": [
                      {
                        "error_x": {
                          "color": "#2a3f5f"
                        },
                        "error_y": {
                          "color": "#2a3f5f"
                        },
                        "marker": {
                          "line": {
                            "color": "#E5ECF6",
                            "width": 0.5
                          },
                          "pattern": {
                            "fillmode": "overlay",
                            "size": 10,
                            "solidity": 0.2
                          }
                        },
                        "type": "bar"
                      }
                    ],
                    "barpolar": [
                      {
                        "marker": {
                          "line": {
                            "color": "#E5ECF6",
                            "width": 0.5
                          },
                          "pattern": {
                            "fillmode": "overlay",
                            "size": 10,
                            "solidity": 0.2
                          }
                        },
                        "type": "barpolar"
                      }
                    ],
                    "carpet": [
                      {
                        "aaxis": {
                          "endlinecolor": "#2a3f5f",
                          "gridcolor": "white",
                          "linecolor": "white",
                          "minorgridcolor": "white",
                          "startlinecolor": "#2a3f5f"
                        },
                        "baxis": {
                          "endlinecolor": "#2a3f5f",
                          "gridcolor": "white",
                          "linecolor": "white",
                          "minorgridcolor": "white",
                          "startlinecolor": "#2a3f5f"
                        },
                        "type": "carpet"
                      }
                    ],
                    "choropleth": [
                      {
                        "colorbar": {
                          "outlinewidth": 0,
                          "ticks": ""
                        },
                        "type": "choropleth"
                      }
                    ],
                    "contour": [
                      {
                        "colorbar": {
                          "outlinewidth": 0,
                          "ticks": ""
                        },
                        "colorscale": [
                          [
                            0,
                            "#0d0887"
                          ],
                          [
                            0.1111111111111111,
                            "#46039f"
                          ],
                          [
                            0.2222222222222222,
                            "#7201a8"
                          ],
                          [
                            0.3333333333333333,
                            "#9c179e"
                          ],
                          [
                            0.4444444444444444,
                            "#bd3786"
                          ],
                          [
                            0.5555555555555556,
                            "#d8576b"
                          ],
                          [
                            0.6666666666666666,
                            "#ed7953"
                          ],
                          [
                            0.7777777777777778,
                            "#fb9f3a"
                          ],
                          [
                            0.8888888888888888,
                            "#fdca26"
                          ],
                          [
                            1,
                            "#f0f921"
                          ]
                        ],
                        "type": "contour"
                      }
                    ],
                    "contourcarpet": [
                      {
                        "colorbar": {
                          "outlinewidth": 0,
                          "ticks": ""
                        },
                        "type": "contourcarpet"
                      }
                    ],
                    "heatmap": [
                      {
                        "colorbar": {
                          "outlinewidth": 0,
                          "ticks": ""
                        },
                        "colorscale": [
                          [
                            0,
                            "#0d0887"
                          ],
                          [
                            0.1111111111111111,
                            "#46039f"
                          ],
                          [
                            0.2222222222222222,
                            "#7201a8"
                          ],
                          [
                            0.3333333333333333,
                            "#9c179e"
                          ],
                          [
                            0.4444444444444444,
                            "#bd3786"
                          ],
                          [
                            0.5555555555555556,
                            "#d8576b"
                          ],
                          [
                            0.6666666666666666,
                            "#ed7953"
                          ],
                          [
                            0.7777777777777778,
                            "#fb9f3a"
                          ],
                          [
                            0.8888888888888888,
                            "#fdca26"
                          ],
                          [
                            1,
                            "#f0f921"
                          ]
                        ],
                        "type": "heatmap"
                      }
                    ],
                    "heatmapgl": [
                      {
                        "colorbar": {
                          "outlinewidth": 0,
                          "ticks": ""
                        },
                        "colorscale": [
                          [
                            0,
                            "#0d0887"
                          ],
                          [
                            0.1111111111111111,
                            "#46039f"
                          ],
                          [
                            0.2222222222222222,
                            "#7201a8"
                          ],
                          [
                            0.3333333333333333,
                            "#9c179e"
                          ],
                          [
                            0.4444444444444444,
                            "#bd3786"
                          ],
                          [
                            0.5555555555555556,
                            "#d8576b"
                          ],
                          [
                            0.6666666666666666,
                            "#ed7953"
                          ],
                          [
                            0.7777777777777778,
                            "#fb9f3a"
                          ],
                          [
                            0.8888888888888888,
                            "#fdca26"
                          ],
                          [
                            1,
                            "#f0f921"
                          ]
                        ],
                        "type": "heatmapgl"
                      }
                    ],
                    "histogram": [
                      {
                        "marker": {
                          "pattern": {
                            "fillmode": "overlay",
                            "size": 10,
                            "solidity": 0.2
                          }
                        },
                        "type": "histogram"
                      }
                    ],
                    "histogram2d": [
                      {
                        "colorbar": {
                          "outlinewidth": 0,
                          "ticks": ""
                        },
                        "colorscale": [
                          [
                            0,
                            "#0d0887"
                          ],
                          [
                            0.1111111111111111,
                            "#46039f"
                          ],
                          [
                            0.2222222222222222,
                            "#7201a8"
                          ],
                          [
                            0.3333333333333333,
                            "#9c179e"
                          ],
                          [
                            0.4444444444444444,
                            "#bd3786"
                          ],
                          [
                            0.5555555555555556,
                            "#d8576b"
                          ],
                          [
                            0.6666666666666666,
                            "#ed7953"
                          ],
                          [
                            0.7777777777777778,
                            "#fb9f3a"
                          ],
                          [
                            0.8888888888888888,
                            "#fdca26"
                          ],
                          [
                            1,
                            "#f0f921"
                          ]
                        ],
                        "type": "histogram2d"
                      }
                    ],
                    "histogram2dcontour": [
                      {
                        "colorbar": {
                          "outlinewidth": 0,
                          "ticks": ""
                        },
                        "colorscale": [
                          [
                            0,
                            "#0d0887"
                          ],
                          [
                            0.1111111111111111,
                            "#46039f"
                          ],
                          [
                            0.2222222222222222,
                            "#7201a8"
                          ],
                          [
                            0.3333333333333333,
                            "#9c179e"
                          ],
                          [
                            0.4444444444444444,
                            "#bd3786"
                          ],
                          [
                            0.5555555555555556,
                            "#d8576b"
                          ],
                          [
                            0.6666666666666666,
                            "#ed7953"
                          ],
                          [
                            0.7777777777777778,
                            "#fb9f3a"
                          ],
                          [
                            0.8888888888888888,
                            "#fdca26"
                          ],
                          [
                            1,
                            "#f0f921"
                          ]
                        ],
                        "type": "histogram2dcontour"
                      }
                    ],
                    "mesh3d": [
                      {
                        "colorbar": {
                          "outlinewidth": 0,
                          "ticks": ""
                        },
                        "type": "mesh3d"
                      }
                    ],
                    "parcoords": [
                      {
                        "line": {
                          "colorbar": {
                            "outlinewidth": 0,
                            "ticks": ""
                          }
                        },
                        "type": "parcoords"
                      }
                    ],
                    "pie": [
                      {
                        "automargin": true,
                        "type": "pie"
                      }
                    ],
                    "scatter": [
                      {
                        "fillpattern": {
                          "fillmode": "overlay",
                          "size": 10,
                          "solidity": 0.2
                        },
                        "type": "scatter"
                      }
                    ],
                    "scatter3d": [
                      {
                        "line": {
                          "colorbar": {
                            "outlinewidth": 0,
                            "ticks": ""
                          }
                        },
                        "marker": {
                          "colorbar": {
                            "outlinewidth": 0,
                            "ticks": ""
                          }
                        },
                        "type": "scatter3d"
                      }
                    ],
                    "scattercarpet": [
                      {
                        "marker": {
                          "colorbar": {
                            "outlinewidth": 0,
                            "ticks": ""
                          }
                        },
                        "type": "scattercarpet"
                      }
                    ],
                    "scattergeo": [
                      {
                        "marker": {
                          "colorbar": {
                            "outlinewidth": 0,
                            "ticks": ""
                          }
                        },
                        "type": "scattergeo"
                      }
                    ],
                    "scattergl": [
                      {
                        "marker": {
                          "colorbar": {
                            "outlinewidth": 0,
                            "ticks": ""
                          }
                        },
                        "type": "scattergl"
                      }
                    ],
                    "scattermapbox": [
                      {
                        "marker": {
                          "colorbar": {
                            "outlinewidth": 0,
                            "ticks": ""
                          }
                        },
                        "type": "scattermapbox"
                      }
                    ],
                    "scatterpolar": [
                      {
                        "marker": {
                          "colorbar": {
                            "outlinewidth": 0,
                            "ticks": ""
                          }
                        },
                        "type": "scatterpolar"
                      }
                    ],
                    "scatterpolargl": [
                      {
                        "marker": {
                          "colorbar": {
                            "outlinewidth": 0,
                            "ticks": ""
                          }
                        },
                        "type": "scatterpolargl"
                      }
                    ],
                    "scatterternary": [
                      {
                        "marker": {
                          "colorbar": {
                            "outlinewidth": 0,
                            "ticks": ""
                          }
                        },
                        "type": "scatterternary"
                      }
                    ],
                    "surface": [
                      {
                        "colorbar": {
                          "outlinewidth": 0,
                          "ticks": ""
                        },
                        "colorscale": [
                          [
                            0,
                            "#0d0887"
                          ],
                          [
                            0.1111111111111111,
                            "#46039f"
                          ],
                          [
                            0.2222222222222222,
                            "#7201a8"
                          ],
                          [
                            0.3333333333333333,
                            "#9c179e"
                          ],
                          [
                            0.4444444444444444,
                            "#bd3786"
                          ],
                          [
                            0.5555555555555556,
                            "#d8576b"
                          ],
                          [
                            0.6666666666666666,
                            "#ed7953"
                          ],
                          [
                            0.7777777777777778,
                            "#fb9f3a"
                          ],
                          [
                            0.8888888888888888,
                            "#fdca26"
                          ],
                          [
                            1,
                            "#f0f921"
                          ]
                        ],
                        "type": "surface"
                      }
                    ],
                    "table": [
                      {
                        "cells": {
                          "fill": {
                            "color": "#EBF0F8"
                          },
                          "line": {
                            "color": "white"
                          }
                        },
                        "header": {
                          "fill": {
                            "color": "#C8D4E3"
                          },
                          "line": {
                            "color": "white"
                          }
                        },
                        "type": "table"
                      }
                    ]
                  },
                  "layout": {
                    "annotationdefaults": {
                      "arrowcolor": "#2a3f5f",
                      "arrowhead": 0,
                      "arrowwidth": 1
                    },
                    "autotypenumbers": "strict",
                    "coloraxis": {
                      "colorbar": {
                        "outlinewidth": 0,
                        "ticks": ""
                      }
                    },
                    "colorscale": {
                      "diverging": [
                        [
                          0,
                          "#8e0152"
                        ],
                        [
                          0.1,
                          "#c51b7d"
                        ],
                        [
                          0.2,
                          "#de77ae"
                        ],
                        [
                          0.3,
                          "#f1b6da"
                        ],
                        [
                          0.4,
                          "#fde0ef"
                        ],
                        [
                          0.5,
                          "#f7f7f7"
                        ],
                        [
                          0.6,
                          "#e6f5d0"
                        ],
                        [
                          0.7,
                          "#b8e186"
                        ],
                        [
                          0.8,
                          "#7fbc41"
                        ],
                        [
                          0.9,
                          "#4d9221"
                        ],
                        [
                          1,
                          "#276419"
                        ]
                      ],
                      "sequential": [
                        [
                          0,
                          "#0d0887"
                        ],
                        [
                          0.1111111111111111,
                          "#46039f"
                        ],
                        [
                          0.2222222222222222,
                          "#7201a8"
                        ],
                        [
                          0.3333333333333333,
                          "#9c179e"
                        ],
                        [
                          0.4444444444444444,
                          "#bd3786"
                        ],
                        [
                          0.5555555555555556,
                          "#d8576b"
                        ],
                        [
                          0.6666666666666666,
                          "#ed7953"
                        ],
                        [
                          0.7777777777777778,
                          "#fb9f3a"
                        ],
                        [
                          0.8888888888888888,
                          "#fdca26"
                        ],
                        [
                          1,
                          "#f0f921"
                        ]
                      ],
                      "sequentialminus": [
                        [
                          0,
                          "#0d0887"
                        ],
                        [
                          0.1111111111111111,
                          "#46039f"
                        ],
                        [
                          0.2222222222222222,
                          "#7201a8"
                        ],
                        [
                          0.3333333333333333,
                          "#9c179e"
                        ],
                        [
                          0.4444444444444444,
                          "#bd3786"
                        ],
                        [
                          0.5555555555555556,
                          "#d8576b"
                        ],
                        [
                          0.6666666666666666,
                          "#ed7953"
                        ],
                        [
                          0.7777777777777778,
                          "#fb9f3a"
                        ],
                        [
                          0.8888888888888888,
                          "#fdca26"
                        ],
                        [
                          1,
                          "#f0f921"
                        ]
                      ]
                    },
                    "colorway": [
                      "#636efa",
                      "#EF553B",
                      "#00cc96",
                      "#ab63fa",
                      "#FFA15A",
                      "#19d3f3",
                      "#FF6692",
                      "#B6E880",
                      "#FF97FF",
                      "#FECB52"
                    ],
                    "font": {
                      "color": "#2a3f5f"
                    },
                    "geo": {
                      "bgcolor": "white",
                      "lakecolor": "white",
                      "landcolor": "#E5ECF6",
                      "showlakes": true,
                      "showland": true,
                      "subunitcolor": "white"
                    },
                    "hoverlabel": {
                      "align": "left"
                    },
                    "hovermode": "closest",
                    "mapbox": {
                      "style": "light"
                    },
                    "paper_bgcolor": "white",
                    "plot_bgcolor": "#E5ECF6",
                    "polar": {
                      "angularaxis": {
                        "gridcolor": "white",
                        "linecolor": "white",
                        "ticks": ""
                      },
                      "bgcolor": "#E5ECF6",
                      "radialaxis": {
                        "gridcolor": "white",
                        "linecolor": "white",
                        "ticks": ""
                      }
                    },
                    "scene": {
                      "xaxis": {
                        "backgroundcolor": "#E5ECF6",
                        "gridcolor": "white",
                        "gridwidth": 2,
                        "linecolor": "white",
                        "showbackground": true,
                        "ticks": "",
                        "zerolinecolor": "white"
                      },
                      "yaxis": {
                        "backgroundcolor": "#E5ECF6",
                        "gridcolor": "white",
                        "gridwidth": 2,
                        "linecolor": "white",
                        "showbackground": true,
                        "ticks": "",
                        "zerolinecolor": "white"
                      },
                      "zaxis": {
                        "backgroundcolor": "#E5ECF6",
                        "gridcolor": "white",
                        "gridwidth": 2,
                        "linecolor": "white",
                        "showbackground": true,
                        "ticks": "",
                        "zerolinecolor": "white"
                      }
                    },
                    "shapedefaults": {
                      "line": {
                        "color": "#2a3f5f"
                      }
                    },
                    "ternary": {
                      "aaxis": {
                        "gridcolor": "white",
                        "linecolor": "white",
                        "ticks": ""
                      },
                      "baxis": {
                        "gridcolor": "white",
                        "linecolor": "white",
                        "ticks": ""
                      },
                      "bgcolor": "#E5ECF6",
                      "caxis": {
                        "gridcolor": "white",
                        "linecolor": "white",
                        "ticks": ""
                      }
                    },
                    "title": {
                      "x": 0.05
                    },
                    "xaxis": {
                      "automargin": true,
                      "gridcolor": "white",
                      "linecolor": "white",
                      "ticks": "",
                      "title": {
                        "standoff": 15
                      },
                      "zerolinecolor": "white",
                      "zerolinewidth": 2
                    },
                    "yaxis": {
                      "automargin": true,
                      "gridcolor": "white",
                      "linecolor": "white",
                      "ticks": "",
                      "title": {
                        "standoff": 15
                      },
                      "zerolinecolor": "white",
                      "zerolinewidth": 2
                    }
                  }
                },
                "title": {
                  "text": "Batch Season Comparison - Properly Scaled"
                },
                "xaxis": {
                  "anchor": "y",
                  "domain": [
                    0,
                    0.45
                  ],
                  "title": {
                    "text": "Season"
                  }
                },
                "xaxis2": {
                  "anchor": "y2",
                  "domain": [
                    0.55,
                    1
                  ],
                  "title": {
                    "text": "Season"
                  }
                },
                "xaxis3": {
                  "anchor": "y3",
                  "domain": [
                    0,
                    0.45
                  ],
                  "title": {
                    "text": "Season"
                  }
                },
                "xaxis4": {
                  "anchor": "y4",
                  "domain": [
                    0.55,
                    1
                  ],
                  "title": {
                    "text": "Season"
                  }
                },
                "yaxis": {
                  "anchor": "x",
                  "domain": [
                    0.625,
                    1
                  ],
                  "title": {
                    "text": "Number of Companies"
                  }
                },
                "yaxis2": {
                  "anchor": "x2",
                  "domain": [
                    0.625,
                    1
                  ],
                  "title": {
                    "text": "Success Rate (%)"
                  }
                },
                "yaxis3": {
                  "anchor": "x3",
                  "domain": [
                    0,
                    0.375
                  ],
                  "title": {
                    "text": "Average Founders"
                  }
                },
                "yaxis4": {
                  "anchor": "x4",
                  "domain": [
                    0,
                    0.375
                  ],
                  "title": {
                    "text": "Average Team Size"
                  }
                }
              }
            }
          },
          "metadata": {},
          "output_type": "display_data"
        },
        {
          "data": {
            "application/vnd.plotly.v1+json": {
              "config": {
                "plotlyServerURL": "https://plot.ly"
              },
              "data": [
                {
                  "hovertemplate": "Industry=saas<br>Year=%{x}<br># Companies per Year=%{y}<extra></extra>",
                  "legendgroup": "saas",
                  "line": {
                    "color": "#636efa",
                    "dash": "solid"
                  },
                  "marker": {
                    "symbol": "circle"
                  },
                  "mode": "lines",
                  "name": "saas",
                  "orientation": "v",
                  "showlegend": true,
                  "type": "scatter",
                  "x": [
                    2005,
                    2006,
                    2007,
                    2008,
                    2009,
                    2010,
                    2011,
                    2012,
                    2013,
                    2014,
                    2015,
                    2016,
                    2017,
                    2018,
                    2019,
                    2020,
                    2021,
                    2022,
                    2023,
                    2024,
                    2025
                  ],
                  "xaxis": "x",
                  "y": [
                    0,
                    1,
                    1,
                    3,
                    1,
                    1,
                    18,
                    17,
                    9,
                    19,
                    34,
                    25,
                    26,
                    42,
                    68,
                    125,
                    221,
                    181,
                    133,
                    98,
                    108
                  ],
                  "yaxis": "y"
                },
                {
                  "hovertemplate": "Industry=b2b<br>Year=%{x}<br># Companies per Year=%{y}<extra></extra>",
                  "legendgroup": "b2b",
                  "line": {
                    "color": "#EF553B",
                    "dash": "solid"
                  },
                  "marker": {
                    "symbol": "circle"
                  },
                  "mode": "lines",
                  "name": "b2b",
                  "orientation": "v",
                  "showlegend": true,
                  "type": "scatter",
                  "x": [
                    2005,
                    2006,
                    2007,
                    2008,
                    2009,
                    2010,
                    2011,
                    2012,
                    2013,
                    2014,
                    2015,
                    2016,
                    2017,
                    2018,
                    2019,
                    2020,
                    2021,
                    2022,
                    2023,
                    2024,
                    2025
                  ],
                  "xaxis": "x",
                  "y": [
                    0,
                    0,
                    1,
                    0,
                    1,
                    0,
                    7,
                    11,
                    5,
                    13,
                    13,
                    10,
                    21,
                    23,
                    45,
                    105,
                    184,
                    192,
                    155,
                    147,
                    137
                  ],
                  "yaxis": "y"
                },
                {
                  "hovertemplate": "Industry=artificial-intelligence<br>Year=%{x}<br># Companies per Year=%{y}<extra></extra>",
                  "legendgroup": "artificial-intelligence",
                  "line": {
                    "color": "#00cc96",
                    "dash": "solid"
                  },
                  "marker": {
                    "symbol": "circle"
                  },
                  "mode": "lines",
                  "name": "artificial-intelligence",
                  "orientation": "v",
                  "showlegend": true,
                  "type": "scatter",
                  "x": [
                    2005,
                    2006,
                    2007,
                    2008,
                    2009,
                    2010,
                    2011,
                    2012,
                    2013,
                    2014,
                    2015,
                    2016,
                    2017,
                    2018,
                    2019,
                    2020,
                    2021,
                    2022,
                    2023,
                    2024,
                    2025
                  ],
                  "xaxis": "x",
                  "y": [
                    0,
                    0,
                    0,
                    1,
                    1,
                    0,
                    0,
                    2,
                    3,
                    3,
                    10,
                    17,
                    26,
                    24,
                    31,
                    37,
                    77,
                    82,
                    131,
                    201,
                    166
                  ],
                  "yaxis": "y"
                },
                {
                  "hovertemplate": "Industry=fintech<br>Year=%{x}<br># Companies per Year=%{y}<extra></extra>",
                  "legendgroup": "fintech",
                  "line": {
                    "color": "#ab63fa",
                    "dash": "solid"
                  },
                  "marker": {
                    "symbol": "circle"
                  },
                  "mode": "lines",
                  "name": "fintech",
                  "orientation": "v",
                  "showlegend": true,
                  "type": "scatter",
                  "x": [
                    2005,
                    2006,
                    2007,
                    2008,
                    2009,
                    2010,
                    2011,
                    2012,
                    2013,
                    2014,
                    2015,
                    2016,
                    2017,
                    2018,
                    2019,
                    2020,
                    2021,
                    2022,
                    2023,
                    2024,
                    2025
                  ],
                  "xaxis": "x",
                  "y": [
                    0,
                    0,
                    1,
                    0,
                    2,
                    2,
                    5,
                    7,
                    5,
                    15,
                    22,
                    20,
                    27,
                    33,
                    54,
                    79,
                    144,
                    151,
                    53,
                    44,
                    32
                  ],
                  "yaxis": "y"
                },
                {
                  "hovertemplate": "Industry=ai<br>Year=%{x}<br># Companies per Year=%{y}<extra></extra>",
                  "legendgroup": "ai",
                  "line": {
                    "color": "#FFA15A",
                    "dash": "solid"
                  },
                  "marker": {
                    "symbol": "circle"
                  },
                  "mode": "lines",
                  "name": "ai",
                  "orientation": "v",
                  "showlegend": true,
                  "type": "scatter",
                  "x": [
                    2005,
                    2006,
                    2007,
                    2008,
                    2009,
                    2010,
                    2011,
                    2012,
                    2013,
                    2014,
                    2015,
                    2016,
                    2017,
                    2018,
                    2019,
                    2020,
                    2021,
                    2022,
                    2023,
                    2024,
                    2025
                  ],
                  "xaxis": "x",
                  "y": [
                    0,
                    0,
                    0,
                    0,
                    0,
                    0,
                    1,
                    1,
                    0,
                    3,
                    6,
                    8,
                    9,
                    15,
                    16,
                    28,
                    51,
                    92,
                    113,
                    171,
                    171
                  ],
                  "yaxis": "y"
                },
                {
                  "hovertemplate": "Industry=developer-tools<br>Year=%{x}<br># Companies per Year=%{y}<extra></extra>",
                  "legendgroup": "developer-tools",
                  "line": {
                    "color": "#19d3f3",
                    "dash": "solid"
                  },
                  "marker": {
                    "symbol": "circle"
                  },
                  "mode": "lines",
                  "name": "developer-tools",
                  "orientation": "v",
                  "showlegend": true,
                  "type": "scatter",
                  "x": [
                    2005,
                    2006,
                    2007,
                    2008,
                    2009,
                    2010,
                    2011,
                    2012,
                    2013,
                    2014,
                    2015,
                    2016,
                    2017,
                    2018,
                    2019,
                    2020,
                    2021,
                    2022,
                    2023,
                    2024,
                    2025
                  ],
                  "xaxis": "x",
                  "y": [
                    0,
                    0,
                    0,
                    1,
                    1,
                    0,
                    7,
                    8,
                    4,
                    4,
                    13,
                    8,
                    7,
                    14,
                    32,
                    48,
                    67,
                    62,
                    91,
                    81,
                    69
                  ],
                  "yaxis": "y"
                },
                {
                  "hovertemplate": "Industry=marketplace<br>Year=%{x}<br># Companies per Year=%{y}<extra></extra>",
                  "legendgroup": "marketplace",
                  "line": {
                    "color": "#FF6692",
                    "dash": "solid"
                  },
                  "marker": {
                    "symbol": "circle"
                  },
                  "mode": "lines",
                  "name": "marketplace",
                  "orientation": "v",
                  "showlegend": true,
                  "type": "scatter",
                  "x": [
                    2005,
                    2006,
                    2007,
                    2008,
                    2009,
                    2010,
                    2011,
                    2012,
                    2013,
                    2014,
                    2015,
                    2016,
                    2017,
                    2018,
                    2019,
                    2020,
                    2021,
                    2022,
                    2023,
                    2024,
                    2025
                  ],
                  "xaxis": "x",
                  "y": [
                    0,
                    1,
                    0,
                    1,
                    5,
                    4,
                    12,
                    8,
                    12,
                    14,
                    16,
                    20,
                    22,
                    14,
                    23,
                    31,
                    53,
                    38,
                    13,
                    12,
                    8
                  ],
                  "yaxis": "y"
                },
                {
                  "hovertemplate": "Industry=generative-ai<br>Year=%{x}<br># Companies per Year=%{y}<extra></extra>",
                  "legendgroup": "generative-ai",
                  "line": {
                    "color": "#B6E880",
                    "dash": "solid"
                  },
                  "marker": {
                    "symbol": "circle"
                  },
                  "mode": "lines",
                  "name": "generative-ai",
                  "orientation": "v",
                  "showlegend": true,
                  "type": "scatter",
                  "x": [
                    2005,
                    2006,
                    2007,
                    2008,
                    2009,
                    2010,
                    2011,
                    2012,
                    2013,
                    2014,
                    2015,
                    2016,
                    2017,
                    2018,
                    2019,
                    2020,
                    2021,
                    2022,
                    2023,
                    2024,
                    2025
                  ],
                  "xaxis": "x",
                  "y": [
                    0,
                    0,
                    0,
                    0,
                    0,
                    0,
                    0,
                    0,
                    0,
                    1,
                    1,
                    0,
                    3,
                    5,
                    6,
                    11,
                    20,
                    39,
                    84,
                    54,
                    44
                  ],
                  "yaxis": "y"
                },
                {
                  "hovertemplate": "Industry=e-commerce<br>Year=%{x}<br># Companies per Year=%{y}<extra></extra>",
                  "legendgroup": "e-commerce",
                  "line": {
                    "color": "#FF97FF",
                    "dash": "solid"
                  },
                  "marker": {
                    "symbol": "circle"
                  },
                  "mode": "lines",
                  "name": "e-commerce",
                  "orientation": "v",
                  "showlegend": true,
                  "type": "scatter",
                  "x": [
                    2005,
                    2006,
                    2007,
                    2008,
                    2009,
                    2010,
                    2011,
                    2012,
                    2013,
                    2014,
                    2015,
                    2016,
                    2017,
                    2018,
                    2019,
                    2020,
                    2021,
                    2022,
                    2023,
                    2024,
                    2025
                  ],
                  "xaxis": "x",
                  "y": [
                    0,
                    1,
                    0,
                    1,
                    0,
                    1,
                    7,
                    9,
                    10,
                    8,
                    11,
                    13,
                    8,
                    12,
                    19,
                    22,
                    49,
                    34,
                    11,
                    11,
                    9
                  ],
                  "yaxis": "y"
                },
                {
                  "hovertemplate": "Industry=machine-learning<br>Year=%{x}<br># Companies per Year=%{y}<extra></extra>",
                  "legendgroup": "machine-learning",
                  "line": {
                    "color": "#FECB52",
                    "dash": "solid"
                  },
                  "marker": {
                    "symbol": "circle"
                  },
                  "mode": "lines",
                  "name": "machine-learning",
                  "orientation": "v",
                  "showlegend": true,
                  "type": "scatter",
                  "x": [
                    2005,
                    2006,
                    2007,
                    2008,
                    2009,
                    2010,
                    2011,
                    2012,
                    2013,
                    2014,
                    2015,
                    2016,
                    2017,
                    2018,
                    2019,
                    2020,
                    2021,
                    2022,
                    2023,
                    2024,
                    2025
                  ],
                  "xaxis": "x",
                  "y": [
                    0,
                    0,
                    0,
                    0,
                    1,
                    0,
                    2,
                    1,
                    0,
                    7,
                    7,
                    6,
                    10,
                    14,
                    14,
                    27,
                    31,
                    39,
                    25,
                    25,
                    15
                  ],
                  "yaxis": "y"
                }
              ],
              "layout": {
                "height": 500,
                "legend": {
                  "title": {
                    "text": "Industry"
                  },
                  "tracegroupgap": 0
                },
                "template": {
                  "data": {
                    "bar": [
                      {
                        "error_x": {
                          "color": "#2a3f5f"
                        },
                        "error_y": {
                          "color": "#2a3f5f"
                        },
                        "marker": {
                          "line": {
                            "color": "#E5ECF6",
                            "width": 0.5
                          },
                          "pattern": {
                            "fillmode": "overlay",
                            "size": 10,
                            "solidity": 0.2
                          }
                        },
                        "type": "bar"
                      }
                    ],
                    "barpolar": [
                      {
                        "marker": {
                          "line": {
                            "color": "#E5ECF6",
                            "width": 0.5
                          },
                          "pattern": {
                            "fillmode": "overlay",
                            "size": 10,
                            "solidity": 0.2
                          }
                        },
                        "type": "barpolar"
                      }
                    ],
                    "carpet": [
                      {
                        "aaxis": {
                          "endlinecolor": "#2a3f5f",
                          "gridcolor": "white",
                          "linecolor": "white",
                          "minorgridcolor": "white",
                          "startlinecolor": "#2a3f5f"
                        },
                        "baxis": {
                          "endlinecolor": "#2a3f5f",
                          "gridcolor": "white",
                          "linecolor": "white",
                          "minorgridcolor": "white",
                          "startlinecolor": "#2a3f5f"
                        },
                        "type": "carpet"
                      }
                    ],
                    "choropleth": [
                      {
                        "colorbar": {
                          "outlinewidth": 0,
                          "ticks": ""
                        },
                        "type": "choropleth"
                      }
                    ],
                    "contour": [
                      {
                        "colorbar": {
                          "outlinewidth": 0,
                          "ticks": ""
                        },
                        "colorscale": [
                          [
                            0,
                            "#0d0887"
                          ],
                          [
                            0.1111111111111111,
                            "#46039f"
                          ],
                          [
                            0.2222222222222222,
                            "#7201a8"
                          ],
                          [
                            0.3333333333333333,
                            "#9c179e"
                          ],
                          [
                            0.4444444444444444,
                            "#bd3786"
                          ],
                          [
                            0.5555555555555556,
                            "#d8576b"
                          ],
                          [
                            0.6666666666666666,
                            "#ed7953"
                          ],
                          [
                            0.7777777777777778,
                            "#fb9f3a"
                          ],
                          [
                            0.8888888888888888,
                            "#fdca26"
                          ],
                          [
                            1,
                            "#f0f921"
                          ]
                        ],
                        "type": "contour"
                      }
                    ],
                    "contourcarpet": [
                      {
                        "colorbar": {
                          "outlinewidth": 0,
                          "ticks": ""
                        },
                        "type": "contourcarpet"
                      }
                    ],
                    "heatmap": [
                      {
                        "colorbar": {
                          "outlinewidth": 0,
                          "ticks": ""
                        },
                        "colorscale": [
                          [
                            0,
                            "#0d0887"
                          ],
                          [
                            0.1111111111111111,
                            "#46039f"
                          ],
                          [
                            0.2222222222222222,
                            "#7201a8"
                          ],
                          [
                            0.3333333333333333,
                            "#9c179e"
                          ],
                          [
                            0.4444444444444444,
                            "#bd3786"
                          ],
                          [
                            0.5555555555555556,
                            "#d8576b"
                          ],
                          [
                            0.6666666666666666,
                            "#ed7953"
                          ],
                          [
                            0.7777777777777778,
                            "#fb9f3a"
                          ],
                          [
                            0.8888888888888888,
                            "#fdca26"
                          ],
                          [
                            1,
                            "#f0f921"
                          ]
                        ],
                        "type": "heatmap"
                      }
                    ],
                    "heatmapgl": [
                      {
                        "colorbar": {
                          "outlinewidth": 0,
                          "ticks": ""
                        },
                        "colorscale": [
                          [
                            0,
                            "#0d0887"
                          ],
                          [
                            0.1111111111111111,
                            "#46039f"
                          ],
                          [
                            0.2222222222222222,
                            "#7201a8"
                          ],
                          [
                            0.3333333333333333,
                            "#9c179e"
                          ],
                          [
                            0.4444444444444444,
                            "#bd3786"
                          ],
                          [
                            0.5555555555555556,
                            "#d8576b"
                          ],
                          [
                            0.6666666666666666,
                            "#ed7953"
                          ],
                          [
                            0.7777777777777778,
                            "#fb9f3a"
                          ],
                          [
                            0.8888888888888888,
                            "#fdca26"
                          ],
                          [
                            1,
                            "#f0f921"
                          ]
                        ],
                        "type": "heatmapgl"
                      }
                    ],
                    "histogram": [
                      {
                        "marker": {
                          "pattern": {
                            "fillmode": "overlay",
                            "size": 10,
                            "solidity": 0.2
                          }
                        },
                        "type": "histogram"
                      }
                    ],
                    "histogram2d": [
                      {
                        "colorbar": {
                          "outlinewidth": 0,
                          "ticks": ""
                        },
                        "colorscale": [
                          [
                            0,
                            "#0d0887"
                          ],
                          [
                            0.1111111111111111,
                            "#46039f"
                          ],
                          [
                            0.2222222222222222,
                            "#7201a8"
                          ],
                          [
                            0.3333333333333333,
                            "#9c179e"
                          ],
                          [
                            0.4444444444444444,
                            "#bd3786"
                          ],
                          [
                            0.5555555555555556,
                            "#d8576b"
                          ],
                          [
                            0.6666666666666666,
                            "#ed7953"
                          ],
                          [
                            0.7777777777777778,
                            "#fb9f3a"
                          ],
                          [
                            0.8888888888888888,
                            "#fdca26"
                          ],
                          [
                            1,
                            "#f0f921"
                          ]
                        ],
                        "type": "histogram2d"
                      }
                    ],
                    "histogram2dcontour": [
                      {
                        "colorbar": {
                          "outlinewidth": 0,
                          "ticks": ""
                        },
                        "colorscale": [
                          [
                            0,
                            "#0d0887"
                          ],
                          [
                            0.1111111111111111,
                            "#46039f"
                          ],
                          [
                            0.2222222222222222,
                            "#7201a8"
                          ],
                          [
                            0.3333333333333333,
                            "#9c179e"
                          ],
                          [
                            0.4444444444444444,
                            "#bd3786"
                          ],
                          [
                            0.5555555555555556,
                            "#d8576b"
                          ],
                          [
                            0.6666666666666666,
                            "#ed7953"
                          ],
                          [
                            0.7777777777777778,
                            "#fb9f3a"
                          ],
                          [
                            0.8888888888888888,
                            "#fdca26"
                          ],
                          [
                            1,
                            "#f0f921"
                          ]
                        ],
                        "type": "histogram2dcontour"
                      }
                    ],
                    "mesh3d": [
                      {
                        "colorbar": {
                          "outlinewidth": 0,
                          "ticks": ""
                        },
                        "type": "mesh3d"
                      }
                    ],
                    "parcoords": [
                      {
                        "line": {
                          "colorbar": {
                            "outlinewidth": 0,
                            "ticks": ""
                          }
                        },
                        "type": "parcoords"
                      }
                    ],
                    "pie": [
                      {
                        "automargin": true,
                        "type": "pie"
                      }
                    ],
                    "scatter": [
                      {
                        "fillpattern": {
                          "fillmode": "overlay",
                          "size": 10,
                          "solidity": 0.2
                        },
                        "type": "scatter"
                      }
                    ],
                    "scatter3d": [
                      {
                        "line": {
                          "colorbar": {
                            "outlinewidth": 0,
                            "ticks": ""
                          }
                        },
                        "marker": {
                          "colorbar": {
                            "outlinewidth": 0,
                            "ticks": ""
                          }
                        },
                        "type": "scatter3d"
                      }
                    ],
                    "scattercarpet": [
                      {
                        "marker": {
                          "colorbar": {
                            "outlinewidth": 0,
                            "ticks": ""
                          }
                        },
                        "type": "scattercarpet"
                      }
                    ],
                    "scattergeo": [
                      {
                        "marker": {
                          "colorbar": {
                            "outlinewidth": 0,
                            "ticks": ""
                          }
                        },
                        "type": "scattergeo"
                      }
                    ],
                    "scattergl": [
                      {
                        "marker": {
                          "colorbar": {
                            "outlinewidth": 0,
                            "ticks": ""
                          }
                        },
                        "type": "scattergl"
                      }
                    ],
                    "scattermapbox": [
                      {
                        "marker": {
                          "colorbar": {
                            "outlinewidth": 0,
                            "ticks": ""
                          }
                        },
                        "type": "scattermapbox"
                      }
                    ],
                    "scatterpolar": [
                      {
                        "marker": {
                          "colorbar": {
                            "outlinewidth": 0,
                            "ticks": ""
                          }
                        },
                        "type": "scatterpolar"
                      }
                    ],
                    "scatterpolargl": [
                      {
                        "marker": {
                          "colorbar": {
                            "outlinewidth": 0,
                            "ticks": ""
                          }
                        },
                        "type": "scatterpolargl"
                      }
                    ],
                    "scatterternary": [
                      {
                        "marker": {
                          "colorbar": {
                            "outlinewidth": 0,
                            "ticks": ""
                          }
                        },
                        "type": "scatterternary"
                      }
                    ],
                    "surface": [
                      {
                        "colorbar": {
                          "outlinewidth": 0,
                          "ticks": ""
                        },
                        "colorscale": [
                          [
                            0,
                            "#0d0887"
                          ],
                          [
                            0.1111111111111111,
                            "#46039f"
                          ],
                          [
                            0.2222222222222222,
                            "#7201a8"
                          ],
                          [
                            0.3333333333333333,
                            "#9c179e"
                          ],
                          [
                            0.4444444444444444,
                            "#bd3786"
                          ],
                          [
                            0.5555555555555556,
                            "#d8576b"
                          ],
                          [
                            0.6666666666666666,
                            "#ed7953"
                          ],
                          [
                            0.7777777777777778,
                            "#fb9f3a"
                          ],
                          [
                            0.8888888888888888,
                            "#fdca26"
                          ],
                          [
                            1,
                            "#f0f921"
                          ]
                        ],
                        "type": "surface"
                      }
                    ],
                    "table": [
                      {
                        "cells": {
                          "fill": {
                            "color": "#EBF0F8"
                          },
                          "line": {
                            "color": "white"
                          }
                        },
                        "header": {
                          "fill": {
                            "color": "#C8D4E3"
                          },
                          "line": {
                            "color": "white"
                          }
                        },
                        "type": "table"
                      }
                    ]
                  },
                  "layout": {
                    "annotationdefaults": {
                      "arrowcolor": "#2a3f5f",
                      "arrowhead": 0,
                      "arrowwidth": 1
                    },
                    "autotypenumbers": "strict",
                    "coloraxis": {
                      "colorbar": {
                        "outlinewidth": 0,
                        "ticks": ""
                      }
                    },
                    "colorscale": {
                      "diverging": [
                        [
                          0,
                          "#8e0152"
                        ],
                        [
                          0.1,
                          "#c51b7d"
                        ],
                        [
                          0.2,
                          "#de77ae"
                        ],
                        [
                          0.3,
                          "#f1b6da"
                        ],
                        [
                          0.4,
                          "#fde0ef"
                        ],
                        [
                          0.5,
                          "#f7f7f7"
                        ],
                        [
                          0.6,
                          "#e6f5d0"
                        ],
                        [
                          0.7,
                          "#b8e186"
                        ],
                        [
                          0.8,
                          "#7fbc41"
                        ],
                        [
                          0.9,
                          "#4d9221"
                        ],
                        [
                          1,
                          "#276419"
                        ]
                      ],
                      "sequential": [
                        [
                          0,
                          "#0d0887"
                        ],
                        [
                          0.1111111111111111,
                          "#46039f"
                        ],
                        [
                          0.2222222222222222,
                          "#7201a8"
                        ],
                        [
                          0.3333333333333333,
                          "#9c179e"
                        ],
                        [
                          0.4444444444444444,
                          "#bd3786"
                        ],
                        [
                          0.5555555555555556,
                          "#d8576b"
                        ],
                        [
                          0.6666666666666666,
                          "#ed7953"
                        ],
                        [
                          0.7777777777777778,
                          "#fb9f3a"
                        ],
                        [
                          0.8888888888888888,
                          "#fdca26"
                        ],
                        [
                          1,
                          "#f0f921"
                        ]
                      ],
                      "sequentialminus": [
                        [
                          0,
                          "#0d0887"
                        ],
                        [
                          0.1111111111111111,
                          "#46039f"
                        ],
                        [
                          0.2222222222222222,
                          "#7201a8"
                        ],
                        [
                          0.3333333333333333,
                          "#9c179e"
                        ],
                        [
                          0.4444444444444444,
                          "#bd3786"
                        ],
                        [
                          0.5555555555555556,
                          "#d8576b"
                        ],
                        [
                          0.6666666666666666,
                          "#ed7953"
                        ],
                        [
                          0.7777777777777778,
                          "#fb9f3a"
                        ],
                        [
                          0.8888888888888888,
                          "#fdca26"
                        ],
                        [
                          1,
                          "#f0f921"
                        ]
                      ]
                    },
                    "colorway": [
                      "#636efa",
                      "#EF553B",
                      "#00cc96",
                      "#ab63fa",
                      "#FFA15A",
                      "#19d3f3",
                      "#FF6692",
                      "#B6E880",
                      "#FF97FF",
                      "#FECB52"
                    ],
                    "font": {
                      "color": "#2a3f5f"
                    },
                    "geo": {
                      "bgcolor": "white",
                      "lakecolor": "white",
                      "landcolor": "#E5ECF6",
                      "showlakes": true,
                      "showland": true,
                      "subunitcolor": "white"
                    },
                    "hoverlabel": {
                      "align": "left"
                    },
                    "hovermode": "closest",
                    "mapbox": {
                      "style": "light"
                    },
                    "paper_bgcolor": "white",
                    "plot_bgcolor": "#E5ECF6",
                    "polar": {
                      "angularaxis": {
                        "gridcolor": "white",
                        "linecolor": "white",
                        "ticks": ""
                      },
                      "bgcolor": "#E5ECF6",
                      "radialaxis": {
                        "gridcolor": "white",
                        "linecolor": "white",
                        "ticks": ""
                      }
                    },
                    "scene": {
                      "xaxis": {
                        "backgroundcolor": "#E5ECF6",
                        "gridcolor": "white",
                        "gridwidth": 2,
                        "linecolor": "white",
                        "showbackground": true,
                        "ticks": "",
                        "zerolinecolor": "white"
                      },
                      "yaxis": {
                        "backgroundcolor": "#E5ECF6",
                        "gridcolor": "white",
                        "gridwidth": 2,
                        "linecolor": "white",
                        "showbackground": true,
                        "ticks": "",
                        "zerolinecolor": "white"
                      },
                      "zaxis": {
                        "backgroundcolor": "#E5ECF6",
                        "gridcolor": "white",
                        "gridwidth": 2,
                        "linecolor": "white",
                        "showbackground": true,
                        "ticks": "",
                        "zerolinecolor": "white"
                      }
                    },
                    "shapedefaults": {
                      "line": {
                        "color": "#2a3f5f"
                      }
                    },
                    "ternary": {
                      "aaxis": {
                        "gridcolor": "white",
                        "linecolor": "white",
                        "ticks": ""
                      },
                      "baxis": {
                        "gridcolor": "white",
                        "linecolor": "white",
                        "ticks": ""
                      },
                      "bgcolor": "#E5ECF6",
                      "caxis": {
                        "gridcolor": "white",
                        "linecolor": "white",
                        "ticks": ""
                      }
                    },
                    "title": {
                      "x": 0.05
                    },
                    "xaxis": {
                      "automargin": true,
                      "gridcolor": "white",
                      "linecolor": "white",
                      "ticks": "",
                      "title": {
                        "standoff": 15
                      },
                      "zerolinecolor": "white",
                      "zerolinewidth": 2
                    },
                    "yaxis": {
                      "automargin": true,
                      "gridcolor": "white",
                      "linecolor": "white",
                      "ticks": "",
                      "title": {
                        "standoff": 15
                      },
                      "zerolinecolor": "white",
                      "zerolinewidth": 2
                    }
                  }
                },
                "title": {
                  "text": "Industry Trends Over Time (Top 10 Industries)"
                },
                "xaxis": {
                  "anchor": "y",
                  "domain": [
                    0,
                    1
                  ],
                  "title": {
                    "text": "Year"
                  }
                },
                "yaxis": {
                  "anchor": "x",
                  "domain": [
                    0,
                    1
                  ],
                  "title": {
                    "text": "# Companies per Year"
                  }
                }
              }
            }
          },
          "metadata": {},
          "output_type": "display_data"
        }
      ],
      "source": [
        "# Temporal Analysis - How has YC evolved over 20 years?\n",
        "def analyze_batch_trends():\n",
        "    \"\"\"Analyze batch statistics and trends over time\"\"\"\n",
        "    batch_stats = df.groupby('batch_year').agg({\n",
        "        'company_id': 'count',\n",
        "        'is_successful': 'mean',\n",
        "        'num_founders': 'mean',\n",
        "        'team_size': 'mean',\n",
        "        'is_ai': 'mean',\n",
        "        'is_b2b': 'mean'\n",
        "    }).round(3)\n",
        "    \n",
        "    batch_stats.columns = ['Batch_Size', 'Success_Rate', 'Avg_Founders', 'Avg_Team_Size', 'AI_Pct', 'B2B_Pct']\n",
        "    batch_stats = batch_stats.dropna()\n",
        "    \n",
        "    # Plot multiple trends\n",
        "    fig = make_subplots(\n",
        "        rows=2, cols=2,\n",
        "        subplot_titles=('Batch Size Over Time', 'Success Rate by Vintage', \n",
        "                        'AI Companies Trend', 'B2B Companies Trend')\n",
        "    )\n",
        "    \n",
        "    # 1. Batch size\n",
        "    fig.add_trace(\n",
        "        go.Scatter(x=batch_stats.index, y=batch_stats['Batch_Size'], \n",
        "                   mode='lines+markers', marker_color='#0099FF', fill='tozeroy'),\n",
        "        row=1, col=1\n",
        "    )\n",
        "    \n",
        "    # 2. Success rate\n",
        "    fig.add_trace(\n",
        "        go.Scatter(x=batch_stats.index, y=batch_stats['Success_Rate']*100, \n",
        "                   mode='lines+markers', marker_color='#00CC66'),\n",
        "        row=1, col=2\n",
        "    )\n",
        "    \n",
        "    # 3. AI trend\n",
        "    fig.add_trace(\n",
        "        go.Scatter(x=batch_stats.index, y=batch_stats['AI_Pct']*100, \n",
        "                   mode='lines+markers', marker_color='#9933FF', fill='tozeroy'),\n",
        "        row=2, col=1\n",
        "    )\n",
        "    \n",
        "    # 4. B2B trend\n",
        "    fig.add_trace(\n",
        "        go.Scatter(x=batch_stats.index, y=batch_stats['B2B_Pct']*100, \n",
        "                   mode='lines+markers', marker_color='#FF6600', fill='tozeroy'),\n",
        "        row=2, col=2\n",
        "    )\n",
        "    \n",
        "    fig.update_yaxes(title_text=\"# Companies\", row=1, col=1)\n",
        "    fig.update_yaxes(title_text=\"Success Rate (%)\", row=1, col=2)\n",
        "    fig.update_yaxes(title_text=\"% AI Companies\", row=2, col=1)\n",
        "    fig.update_yaxes(title_text=\"% B2B Companies\", row=2, col=2)\n",
        "    \n",
        "    fig.update_layout(height=700, showlegend=False, title_text=\"YC Evolution: 20-Year Trends\")\n",
        "    fig.show()\n",
        "    \n",
        "    return batch_stats\n",
        "\n",
        "def analyze_seasonal_patterns():\n",
        "    \"\"\"Analyze seasonal patterns in YC batches\"\"\"\n",
        "    import re\n",
        "    \n",
        "    # Check if batch_season column exists and has data\n",
        "    if 'batch_season' not in df.columns:\n",
        "        print(\"⚠️  batch_season column not found. Creating it now...\")\n",
        "        # Create batch_season column if it doesn't exist\n",
        "        def parse_batch(batch):\n",
        "            \"\"\"Extract season and year from batch string\"\"\"\n",
        "            if pd.isna(batch):\n",
        "                return None, None\n",
        "            \n",
        "            # Handle new format: 'Winter 2025', 'Fall 2024'\n",
        "            match = re.search(r'(Winter|Summer|Spring|Fall|W|S|IK)\\s*(\\d{2,4})', str(batch))\n",
        "            if match:\n",
        "                season = match.group(1)\n",
        "                year = match.group(2)\n",
        "                \n",
        "                # Convert to 4-digit year\n",
        "                if len(year) == 2:\n",
        "                    year = int(year)\n",
        "                    year = 2000 + year if year < 50 else 1900 + year\n",
        "                else:\n",
        "                    year = int(year)\n",
        "                    \n",
        "                # Map season abbreviations\n",
        "                season_map = {'W': 'Winter', 'S': 'Summer', 'IK': 'IK'}\n",
        "                season = season_map.get(season, season)\n",
        "                \n",
        "                return season, year\n",
        "            return None, None\n",
        "        \n",
        "        df[['batch_season', 'batch_year']] = df['batch'].apply(lambda x: pd.Series(parse_batch(x)))\n",
        "    \n",
        "    # Filter out NaN values for seasonal analysis\n",
        "    seasonal_df = df[df['batch_season'].notna()].copy()\n",
        "    \n",
        "    print(f\"📊 Seasonal data available: {len(seasonal_df)} companies\")\n",
        "    print(f\"📊 Unique seasons: {seasonal_df['batch_season'].unique()}\")\n",
        "    \n",
        "    if len(seasonal_df) == 0:\n",
        "        print(\"⚠️  No seasonal data available. Skipping seasonal analysis.\")\n",
        "        return None\n",
        "    \n",
        "    season_stats = seasonal_df.groupby('batch_season').agg({\n",
        "        'company_id': 'count',\n",
        "        'is_successful': 'mean',\n",
        "        'num_founders': 'mean',\n",
        "        'team_size': 'mean'\n",
        "    }).round(3)\n",
        "    \n",
        "    season_stats.columns = ['Count', 'Success_Rate', 'Avg_Founders', 'Avg_Team_Size']\n",
        "    \n",
        "    # Filter seasons with sufficient data\n",
        "    season_stats = season_stats[season_stats['Count'] >= 10]\n",
        "    \n",
        "    if len(season_stats) == 0:\n",
        "        print(\"⚠️  No seasons with sufficient data (≥10 companies).\")\n",
        "        print(\"🔄 Falling back to batch year analysis...\")\n",
        "        \n",
        "        # Fallback: analyze by batch year instead\n",
        "        year_stats = df.groupby('batch_year').agg({\n",
        "            'company_id': 'count',\n",
        "            'is_successful': 'mean',\n",
        "            'num_founders': 'mean',\n",
        "            'team_size': 'mean'\n",
        "        }).round(3)\n",
        "        \n",
        "        year_stats.columns = ['Count', 'Success_Rate', 'Avg_Founders', 'Avg_Team_Size']\n",
        "        year_stats = year_stats[year_stats['Count'] >= 10]\n",
        "        \n",
        "        if len(year_stats) == 0:\n",
        "            print(\"⚠️  No batch years with sufficient data. Skipping seasonal analysis.\")\n",
        "            return None\n",
        "        \n",
        "        print(\"\\n📅 BATCH YEAR COMPARISON (Fallback):\")\n",
        "        print(year_stats.head(10).to_string())\n",
        "        \n",
        "        # Create visualization for year comparison with proper scaling\n",
        "        from plotly.subplots import make_subplots\n",
        "        \n",
        "        # Create subplots with different scales\n",
        "        fig = make_subplots(\n",
        "            rows=2, cols=2,\n",
        "            subplot_titles=('Companies per Year', 'Success Rate by Year', \n",
        "                            'Average Founders by Year', 'Average Team Size by Year'),\n",
        "            specs=[[{\"type\": \"bar\"}, {\"type\": \"bar\"}],\n",
        "                   [{\"type\": \"bar\"}, {\"type\": \"bar\"}]]\n",
        "        )\n",
        "        \n",
        "        # Get top 5 years for visualization\n",
        "        top_years = year_stats.head(5)\n",
        "        \n",
        "        # 1. Companies (row=1, col=1)\n",
        "        fig.add_trace(\n",
        "            go.Bar(x=top_years.index, y=top_years['Count'], \n",
        "                   name='Companies', marker_color='lightblue'),\n",
        "            row=1, col=1\n",
        "        )\n",
        "        \n",
        "        # 2. Success Rate (row=1, col=2)\n",
        "        fig.add_trace(\n",
        "            go.Bar(x=top_years.index, y=top_years['Success_Rate']*100, \n",
        "                   name='Success Rate %', marker_color='lightgreen'),\n",
        "            row=1, col=2\n",
        "        )\n",
        "        \n",
        "        # 3. Average Founders (row=2, col=1)\n",
        "        fig.add_trace(\n",
        "            go.Bar(x=top_years.index, y=top_years['Avg_Founders'], \n",
        "                   name='Avg Founders', marker_color='lightcoral'),\n",
        "            row=2, col=1\n",
        "        )\n",
        "        \n",
        "        # 4. Average Team Size (row=2, col=2)\n",
        "        fig.add_trace(\n",
        "            go.Bar(x=top_years.index, y=top_years['Avg_Team_Size'], \n",
        "                   name='Avg Team Size', marker_color='lightyellow'),\n",
        "            row=2, col=2\n",
        "        )\n",
        "        \n",
        "        # Update layout\n",
        "        fig.update_layout(\n",
        "            title='Batch Year Comparison (Fallback) - Properly Scaled',\n",
        "            showlegend=False,\n",
        "            height=600\n",
        "        )\n",
        "        \n",
        "        # Update axes labels\n",
        "        fig.update_xaxes(title_text=\"Year\", row=1, col=1)\n",
        "        fig.update_xaxes(title_text=\"Year\", row=1, col=2)\n",
        "        fig.update_xaxes(title_text=\"Year\", row=2, col=1)\n",
        "        fig.update_xaxes(title_text=\"Year\", row=2, col=2)\n",
        "        \n",
        "        fig.update_yaxes(title_text=\"Number of Companies\", row=1, col=1)\n",
        "        fig.update_yaxes(title_text=\"Success Rate (%)\", row=1, col=2)\n",
        "        fig.update_yaxes(title_text=\"Average Founders\", row=2, col=1)\n",
        "        fig.update_yaxes(title_text=\"Average Team Size\", row=2, col=2)\n",
        "        \n",
        "        fig.show()\n",
        "        \n",
        "        return year_stats\n",
        "    \n",
        "    print(\"\\n🌤️  SEASONAL BATCH COMPARISON:\")\n",
        "    print(season_stats.to_string())\n",
        "    \n",
        "    # Visual comparison with proper scaling\n",
        "    from plotly.subplots import make_subplots\n",
        "    \n",
        "    # Create subplots with different scales\n",
        "    fig = make_subplots(\n",
        "        rows=2, cols=2,\n",
        "        subplot_titles=('Companies per Season', 'Success Rate by Season', \n",
        "                        'Average Founders by Season', 'Average Team Size by Season'),\n",
        "        specs=[[{\"type\": \"bar\"}, {\"type\": \"bar\"}],\n",
        "               [{\"type\": \"bar\"}, {\"type\": \"bar\"}]]\n",
        "    )\n",
        "    \n",
        "    # 1. Companies (row=1, col=1)\n",
        "    fig.add_trace(\n",
        "        go.Bar(x=season_stats.index, y=season_stats['Count'], \n",
        "               name='Companies', marker_color='lightblue'),\n",
        "        row=1, col=1\n",
        "    )\n",
        "    \n",
        "    # 2. Success Rate (row=1, col=2)\n",
        "    fig.add_trace(\n",
        "        go.Bar(x=season_stats.index, y=season_stats['Success_Rate']*100, \n",
        "               name='Success Rate %', marker_color='lightgreen'),\n",
        "        row=1, col=2\n",
        "    )\n",
        "    \n",
        "    # 3. Average Founders (row=2, col=1)\n",
        "    fig.add_trace(\n",
        "        go.Bar(x=season_stats.index, y=season_stats['Avg_Founders'], \n",
        "               name='Avg Founders', marker_color='lightcoral'),\n",
        "        row=2, col=1\n",
        "    )\n",
        "    \n",
        "    # 4. Average Team Size (row=2, col=2)\n",
        "    fig.add_trace(\n",
        "        go.Bar(x=season_stats.index, y=season_stats['Avg_Team_Size'], \n",
        "               name='Avg Team Size', marker_color='lightyellow'),\n",
        "        row=2, col=2\n",
        "    )\n",
        "    \n",
        "    # Update layout\n",
        "    fig.update_layout(\n",
        "        title='Batch Season Comparison - Properly Scaled',\n",
        "        showlegend=False,\n",
        "        height=600\n",
        "    )\n",
        "    \n",
        "    # Update axes labels\n",
        "    fig.update_xaxes(title_text=\"Season\", row=1, col=1)\n",
        "    fig.update_xaxes(title_text=\"Season\", row=1, col=2)\n",
        "    fig.update_xaxes(title_text=\"Season\", row=2, col=1)\n",
        "    fig.update_xaxes(title_text=\"Season\", row=2, col=2)\n",
        "    \n",
        "    fig.update_yaxes(title_text=\"Number of Companies\", row=1, col=1)\n",
        "    fig.update_yaxes(title_text=\"Success Rate (%)\", row=1, col=2)\n",
        "    fig.update_yaxes(title_text=\"Average Founders\", row=2, col=1)\n",
        "    fig.update_yaxes(title_text=\"Average Team Size\", row=2, col=2)\n",
        "    \n",
        "    fig.show()\n",
        "    \n",
        "    return season_stats\n",
        "\n",
        "def analyze_industry_trends():\n",
        "    \"\"\"Analyze industry trends over time\"\"\"\n",
        "    # Industry trends over time (top 10 industries)\n",
        "    all_tags = [tag for tags in df['tags'].dropna() for tag in tags if isinstance(tags, list)]\n",
        "    top_industries = pd.Series(all_tags).value_counts().head(10).index\n",
        "    \n",
        "    industry_time_data = []\n",
        "    for year in sorted(df['batch_year'].dropna().unique()):\n",
        "        year_df = df[df['batch_year'] == year]\n",
        "        for industry in top_industries:\n",
        "            count = year_df['tags'].apply(lambda x: industry in x if isinstance(x, list) else False).sum()\n",
        "            industry_time_data.append({\n",
        "                'Year': year,\n",
        "                'Industry': industry,\n",
        "                'Count': count\n",
        "            })\n",
        "    \n",
        "    industry_time_df = pd.DataFrame(industry_time_data)\n",
        "    \n",
        "    fig = px.line(\n",
        "        industry_time_df,\n",
        "        x='Year',\n",
        "        y='Count',\n",
        "        color='Industry',\n",
        "        title='Industry Trends Over Time (Top 10 Industries)',\n",
        "        labels={'Count': '# Companies per Year'}\n",
        "    )\n",
        "    \n",
        "    fig.update_layout(height=500)\n",
        "    fig.show()\n",
        "    \n",
        "    return industry_time_df\n",
        "\n",
        "# Run temporal analysis\n",
        "print(\"📈 Analyzing YC Evolution Over Time\")\n",
        "batch_trends = analyze_batch_trends()\n",
        "seasonal_patterns = analyze_seasonal_patterns()\n",
        "industry_trends = analyze_industry_trends()\n"
      ]
    },
    {
      "cell_type": "markdown",
      "metadata": {},
      "source": [
        "## 2.9. Industry Deep Dive\n"
      ]
    },
    {
      "cell_type": "code",
      "execution_count": 66,
      "metadata": {},
      "outputs": [
        {
          "name": "stdout",
          "output_type": "stream",
          "text": [
            "🏭 Deep Dive: Industry Analysis\n",
            "\n",
            "🏆 TOP 20 INDUSTRIES BY SUCCESS RATE (min 10 companies):\n",
            "        Industry  Total  Successful  Success_Rate  Active  Avg_Team_Size  Solo_Pct\n",
            "           video     85          19      0.223529      46      37.564706  0.223529\n",
            "       analytics    181          39      0.215470     119      27.592179  0.254144\n",
            "     real-estate     79          15      0.189873      51      20.102564  0.177215\n",
            "          social     68          12      0.176471      25      38.529412  0.323529\n",
            "        security     85          15      0.176471      58      32.308642  0.305882\n",
            "data-engineering     91          15      0.164835      60      32.186813  0.186813\n",
            "       education    164          26      0.158537     112      55.734568  0.274390\n",
            "          gaming     85          13      0.152941      46      44.166667  0.317647\n",
            " computer-vision     72          11      0.152778      51      22.057143  0.208333\n",
            "      e-commerce    236          36      0.152542     149     140.130435  0.224576\n",
            "     open-source    158          23      0.145570     125      30.762821  0.253165\n",
            "             api    139          20      0.143885     104      30.737226  0.223022\n",
            " medical-devices     66           9      0.136364      49      14.045455  0.348485\n",
            "      enterprise    108          14      0.129630      77      20.323810  0.296296\n",
            "        payments    148          19      0.128378     113      69.161972  0.175676\n",
            "            saas   1131         145      0.128205     865      50.401251  0.224580\n",
            "    productivity    156          20      0.128205     103      12.522876  0.230769\n",
            "machine-learning    224          27      0.120536     165      42.171946  0.236607\n",
            "         fintech    696          83      0.119253     541      76.241228  0.205460\n",
            "     marketplace    307          36      0.117264     201     109.086093  0.270358\n",
            "\n",
            "⚠️  BOTTOM 10 INDUSTRIES BY SUCCESS RATE:\n",
            "                Industry  Total  Successful  Success_Rate  Active  Avg_Team_Size  Solo_Pct\n",
            "                   sales    109           5      0.045872      87      18.027778  0.165138\n",
            "consumer-health-services    102           4      0.039216      84      96.574257  0.284314\n",
            "                      ai    685          26      0.037956     626      22.857988  0.195620\n",
            "            ai-assistant    140           5      0.035714     126      13.963768  0.185714\n",
            "                robotics     87           3      0.034483      73      26.895349  0.287356\n",
            "               hard-tech     91           3      0.032967      79      14.213483  0.241758\n",
            "            supply-chain     80           2      0.025000      68     128.962025  0.325000\n",
            "          infrastructure     89           2      0.022472      81       9.250000  0.157303\n",
            "           manufacturing     67           1      0.014925      57      30.447761  0.313433\n",
            "     workflow-automation     70           0      0.000000      64      11.928571  0.200000\n",
            "\n",
            "📊 INDUSTRY SATURATION ANALYSIS:\n",
            "                  Success_Rate  Total\n",
            "Saturation_Level                     \n",
            "Underserved                NaN      0\n",
            "Emerging                 0.098     39\n",
            "Growing                  0.105      5\n",
            "Mature                   0.080      4\n",
            "Oversaturated            0.106      2\n"
          ]
        },
        {
          "data": {
            "application/vnd.plotly.v1+json": {
              "config": {
                "plotlyServerURL": "https://plot.ly"
              },
              "data": [
                {
                  "customdata": [
                    [
                      "video",
                      19,
                      46
                    ],
                    [
                      "analytics",
                      39,
                      119
                    ],
                    [
                      "real-estate",
                      15,
                      51
                    ],
                    [
                      "social",
                      12,
                      25
                    ],
                    [
                      "security",
                      15,
                      58
                    ],
                    [
                      "data-engineering",
                      15,
                      60
                    ],
                    [
                      "education",
                      26,
                      112
                    ],
                    [
                      "gaming",
                      13,
                      46
                    ],
                    [
                      "computer-vision",
                      11,
                      51
                    ],
                    [
                      "e-commerce",
                      36,
                      149
                    ],
                    [
                      "open-source",
                      23,
                      125
                    ],
                    [
                      "api",
                      20,
                      104
                    ],
                    [
                      "medical-devices",
                      9,
                      49
                    ],
                    [
                      "enterprise",
                      14,
                      77
                    ],
                    [
                      "payments",
                      19,
                      113
                    ],
                    [
                      "saas",
                      145,
                      865
                    ],
                    [
                      "productivity",
                      20,
                      103
                    ],
                    [
                      "machine-learning",
                      27,
                      165
                    ],
                    [
                      "fintech",
                      83,
                      541
                    ],
                    [
                      "marketplace",
                      36,
                      201
                    ],
                    [
                      "proptech",
                      9,
                      59
                    ],
                    [
                      "hr-tech",
                      8,
                      62
                    ],
                    [
                      "developer-tools",
                      56,
                      400
                    ],
                    [
                      "hardware",
                      12,
                      82
                    ],
                    [
                      "insurance",
                      6,
                      51
                    ],
                    [
                      "climate",
                      13,
                      111
                    ],
                    [
                      "crypto-web3",
                      8,
                      64
                    ],
                    [
                      "b2b",
                      89,
                      898
                    ],
                    [
                      "consumer",
                      18,
                      179
                    ],
                    [
                      "logistics",
                      10,
                      92
                    ]
                  ],
                  "hovertemplate": "Number of Companies=%{x}<br>Success Rate=%{y}<br>Avg_Team_Size=%{marker.size}<br>Industry=%{customdata[0]}<br>Successful=%{customdata[1]}<br>Active=%{customdata[2]}<br>% Solo Founders=%{marker.color}<extra></extra>",
                  "legendgroup": "",
                  "marker": {
                    "color": [
                      0.2235294117647059,
                      0.2541436464088398,
                      0.17721518987341772,
                      0.3235294117647059,
                      0.3058823529411765,
                      0.18681318681318682,
                      0.27439024390243905,
                      0.3176470588235294,
                      0.20833333333333334,
                      0.2245762711864407,
                      0.25316455696202533,
                      0.22302158273381295,
                      0.3484848484848485,
                      0.2962962962962963,
                      0.17567567567567569,
                      0.22458001768346597,
                      0.23076923076923078,
                      0.23660714285714285,
                      0.20545977011494254,
                      0.2703583061889251,
                      0.09876543209876543,
                      0.1917808219178082,
                      0.2495164410058027,
                      0.2605042016806723,
                      0.22388059701492538,
                      0.2328767123287671,
                      0.25274725274725274,
                      0.21495327102803738,
                      0.2488479262672811,
                      0.2727272727272727
                    ],
                    "coloraxis": "coloraxis",
                    "size": [
                      37.56470588235294,
                      27.592178770949722,
                      20.102564102564102,
                      38.529411764705884,
                      32.30864197530864,
                      32.18681318681319,
                      55.73456790123457,
                      44.166666666666664,
                      22.057142857142857,
                      140.1304347826087,
                      30.762820512820515,
                      30.73722627737226,
                      14.045454545454545,
                      20.323809523809523,
                      69.16197183098592,
                      50.40125111706881,
                      12.522875816993464,
                      42.171945701357465,
                      76.24122807017544,
                      109.08609271523179,
                      44.3625,
                      175.3835616438356,
                      23.161735700197237,
                      24.69747899159664,
                      38.76119402985075,
                      54.021126760563384,
                      91.56976744186046,
                      37.81456953642384,
                      47.693396226415096,
                      164.80672268907563
                    ],
                    "sizemode": "area",
                    "sizeref": 0.438458904109589,
                    "symbol": "circle"
                  },
                  "mode": "markers+text",
                  "name": "",
                  "orientation": "v",
                  "showlegend": false,
                  "text": [
                    "video",
                    "analytics",
                    "real-estate",
                    "social",
                    "security",
                    "data-engineering",
                    "education",
                    "gaming",
                    "computer-vision",
                    "e-commerce",
                    "open-source",
                    "api",
                    "medical-devices",
                    "enterprise",
                    "payments",
                    "saas",
                    "productivity",
                    "machine-learning",
                    "fintech",
                    "marketplace",
                    "proptech",
                    "hr-tech",
                    "developer-tools",
                    "hardware",
                    "insurance",
                    "climate",
                    "crypto-web3",
                    "b2b",
                    "consumer",
                    "logistics"
                  ],
                  "textposition": "top center",
                  "type": "scatter",
                  "x": [
                    85,
                    181,
                    79,
                    68,
                    85,
                    91,
                    164,
                    85,
                    72,
                    236,
                    158,
                    139,
                    66,
                    108,
                    148,
                    1131,
                    156,
                    224,
                    696,
                    307,
                    81,
                    73,
                    517,
                    119,
                    67,
                    146,
                    91,
                    1070,
                    217,
                    121
                  ],
                  "xaxis": "x",
                  "y": [
                    0.2235294117647059,
                    0.2154696132596685,
                    0.189873417721519,
                    0.17647058823529413,
                    0.17647058823529413,
                    0.16483516483516483,
                    0.15853658536585366,
                    0.15294117647058825,
                    0.1527777777777778,
                    0.15254237288135594,
                    0.14556962025316456,
                    0.14388489208633093,
                    0.13636363636363635,
                    0.12962962962962962,
                    0.12837837837837837,
                    0.1282051282051282,
                    0.1282051282051282,
                    0.12053571428571429,
                    0.11925287356321838,
                    0.11726384364820847,
                    0.1111111111111111,
                    0.1095890410958904,
                    0.10831721470019343,
                    0.10084033613445378,
                    0.08955223880597014,
                    0.08904109589041095,
                    0.08791208791208792,
                    0.08317757009345794,
                    0.08294930875576037,
                    0.08264462809917356
                  ],
                  "yaxis": "y"
                }
              ],
              "layout": {
                "coloraxis": {
                  "colorbar": {
                    "title": {
                      "text": "% Solo Founders"
                    }
                  },
                  "colorscale": [
                    [
                      0,
                      "rgb(165,0,38)"
                    ],
                    [
                      0.1,
                      "rgb(215,48,39)"
                    ],
                    [
                      0.2,
                      "rgb(244,109,67)"
                    ],
                    [
                      0.3,
                      "rgb(253,174,97)"
                    ],
                    [
                      0.4,
                      "rgb(254,224,139)"
                    ],
                    [
                      0.5,
                      "rgb(255,255,191)"
                    ],
                    [
                      0.6,
                      "rgb(217,239,139)"
                    ],
                    [
                      0.7,
                      "rgb(166,217,106)"
                    ],
                    [
                      0.8,
                      "rgb(102,189,99)"
                    ],
                    [
                      0.9,
                      "rgb(26,152,80)"
                    ],
                    [
                      1,
                      "rgb(0,104,55)"
                    ]
                  ]
                },
                "height": 600,
                "legend": {
                  "itemsizing": "constant",
                  "tracegroupgap": 0
                },
                "template": {
                  "data": {
                    "bar": [
                      {
                        "error_x": {
                          "color": "#2a3f5f"
                        },
                        "error_y": {
                          "color": "#2a3f5f"
                        },
                        "marker": {
                          "line": {
                            "color": "#E5ECF6",
                            "width": 0.5
                          },
                          "pattern": {
                            "fillmode": "overlay",
                            "size": 10,
                            "solidity": 0.2
                          }
                        },
                        "type": "bar"
                      }
                    ],
                    "barpolar": [
                      {
                        "marker": {
                          "line": {
                            "color": "#E5ECF6",
                            "width": 0.5
                          },
                          "pattern": {
                            "fillmode": "overlay",
                            "size": 10,
                            "solidity": 0.2
                          }
                        },
                        "type": "barpolar"
                      }
                    ],
                    "carpet": [
                      {
                        "aaxis": {
                          "endlinecolor": "#2a3f5f",
                          "gridcolor": "white",
                          "linecolor": "white",
                          "minorgridcolor": "white",
                          "startlinecolor": "#2a3f5f"
                        },
                        "baxis": {
                          "endlinecolor": "#2a3f5f",
                          "gridcolor": "white",
                          "linecolor": "white",
                          "minorgridcolor": "white",
                          "startlinecolor": "#2a3f5f"
                        },
                        "type": "carpet"
                      }
                    ],
                    "choropleth": [
                      {
                        "colorbar": {
                          "outlinewidth": 0,
                          "ticks": ""
                        },
                        "type": "choropleth"
                      }
                    ],
                    "contour": [
                      {
                        "colorbar": {
                          "outlinewidth": 0,
                          "ticks": ""
                        },
                        "colorscale": [
                          [
                            0,
                            "#0d0887"
                          ],
                          [
                            0.1111111111111111,
                            "#46039f"
                          ],
                          [
                            0.2222222222222222,
                            "#7201a8"
                          ],
                          [
                            0.3333333333333333,
                            "#9c179e"
                          ],
                          [
                            0.4444444444444444,
                            "#bd3786"
                          ],
                          [
                            0.5555555555555556,
                            "#d8576b"
                          ],
                          [
                            0.6666666666666666,
                            "#ed7953"
                          ],
                          [
                            0.7777777777777778,
                            "#fb9f3a"
                          ],
                          [
                            0.8888888888888888,
                            "#fdca26"
                          ],
                          [
                            1,
                            "#f0f921"
                          ]
                        ],
                        "type": "contour"
                      }
                    ],
                    "contourcarpet": [
                      {
                        "colorbar": {
                          "outlinewidth": 0,
                          "ticks": ""
                        },
                        "type": "contourcarpet"
                      }
                    ],
                    "heatmap": [
                      {
                        "colorbar": {
                          "outlinewidth": 0,
                          "ticks": ""
                        },
                        "colorscale": [
                          [
                            0,
                            "#0d0887"
                          ],
                          [
                            0.1111111111111111,
                            "#46039f"
                          ],
                          [
                            0.2222222222222222,
                            "#7201a8"
                          ],
                          [
                            0.3333333333333333,
                            "#9c179e"
                          ],
                          [
                            0.4444444444444444,
                            "#bd3786"
                          ],
                          [
                            0.5555555555555556,
                            "#d8576b"
                          ],
                          [
                            0.6666666666666666,
                            "#ed7953"
                          ],
                          [
                            0.7777777777777778,
                            "#fb9f3a"
                          ],
                          [
                            0.8888888888888888,
                            "#fdca26"
                          ],
                          [
                            1,
                            "#f0f921"
                          ]
                        ],
                        "type": "heatmap"
                      }
                    ],
                    "heatmapgl": [
                      {
                        "colorbar": {
                          "outlinewidth": 0,
                          "ticks": ""
                        },
                        "colorscale": [
                          [
                            0,
                            "#0d0887"
                          ],
                          [
                            0.1111111111111111,
                            "#46039f"
                          ],
                          [
                            0.2222222222222222,
                            "#7201a8"
                          ],
                          [
                            0.3333333333333333,
                            "#9c179e"
                          ],
                          [
                            0.4444444444444444,
                            "#bd3786"
                          ],
                          [
                            0.5555555555555556,
                            "#d8576b"
                          ],
                          [
                            0.6666666666666666,
                            "#ed7953"
                          ],
                          [
                            0.7777777777777778,
                            "#fb9f3a"
                          ],
                          [
                            0.8888888888888888,
                            "#fdca26"
                          ],
                          [
                            1,
                            "#f0f921"
                          ]
                        ],
                        "type": "heatmapgl"
                      }
                    ],
                    "histogram": [
                      {
                        "marker": {
                          "pattern": {
                            "fillmode": "overlay",
                            "size": 10,
                            "solidity": 0.2
                          }
                        },
                        "type": "histogram"
                      }
                    ],
                    "histogram2d": [
                      {
                        "colorbar": {
                          "outlinewidth": 0,
                          "ticks": ""
                        },
                        "colorscale": [
                          [
                            0,
                            "#0d0887"
                          ],
                          [
                            0.1111111111111111,
                            "#46039f"
                          ],
                          [
                            0.2222222222222222,
                            "#7201a8"
                          ],
                          [
                            0.3333333333333333,
                            "#9c179e"
                          ],
                          [
                            0.4444444444444444,
                            "#bd3786"
                          ],
                          [
                            0.5555555555555556,
                            "#d8576b"
                          ],
                          [
                            0.6666666666666666,
                            "#ed7953"
                          ],
                          [
                            0.7777777777777778,
                            "#fb9f3a"
                          ],
                          [
                            0.8888888888888888,
                            "#fdca26"
                          ],
                          [
                            1,
                            "#f0f921"
                          ]
                        ],
                        "type": "histogram2d"
                      }
                    ],
                    "histogram2dcontour": [
                      {
                        "colorbar": {
                          "outlinewidth": 0,
                          "ticks": ""
                        },
                        "colorscale": [
                          [
                            0,
                            "#0d0887"
                          ],
                          [
                            0.1111111111111111,
                            "#46039f"
                          ],
                          [
                            0.2222222222222222,
                            "#7201a8"
                          ],
                          [
                            0.3333333333333333,
                            "#9c179e"
                          ],
                          [
                            0.4444444444444444,
                            "#bd3786"
                          ],
                          [
                            0.5555555555555556,
                            "#d8576b"
                          ],
                          [
                            0.6666666666666666,
                            "#ed7953"
                          ],
                          [
                            0.7777777777777778,
                            "#fb9f3a"
                          ],
                          [
                            0.8888888888888888,
                            "#fdca26"
                          ],
                          [
                            1,
                            "#f0f921"
                          ]
                        ],
                        "type": "histogram2dcontour"
                      }
                    ],
                    "mesh3d": [
                      {
                        "colorbar": {
                          "outlinewidth": 0,
                          "ticks": ""
                        },
                        "type": "mesh3d"
                      }
                    ],
                    "parcoords": [
                      {
                        "line": {
                          "colorbar": {
                            "outlinewidth": 0,
                            "ticks": ""
                          }
                        },
                        "type": "parcoords"
                      }
                    ],
                    "pie": [
                      {
                        "automargin": true,
                        "type": "pie"
                      }
                    ],
                    "scatter": [
                      {
                        "fillpattern": {
                          "fillmode": "overlay",
                          "size": 10,
                          "solidity": 0.2
                        },
                        "type": "scatter"
                      }
                    ],
                    "scatter3d": [
                      {
                        "line": {
                          "colorbar": {
                            "outlinewidth": 0,
                            "ticks": ""
                          }
                        },
                        "marker": {
                          "colorbar": {
                            "outlinewidth": 0,
                            "ticks": ""
                          }
                        },
                        "type": "scatter3d"
                      }
                    ],
                    "scattercarpet": [
                      {
                        "marker": {
                          "colorbar": {
                            "outlinewidth": 0,
                            "ticks": ""
                          }
                        },
                        "type": "scattercarpet"
                      }
                    ],
                    "scattergeo": [
                      {
                        "marker": {
                          "colorbar": {
                            "outlinewidth": 0,
                            "ticks": ""
                          }
                        },
                        "type": "scattergeo"
                      }
                    ],
                    "scattergl": [
                      {
                        "marker": {
                          "colorbar": {
                            "outlinewidth": 0,
                            "ticks": ""
                          }
                        },
                        "type": "scattergl"
                      }
                    ],
                    "scattermapbox": [
                      {
                        "marker": {
                          "colorbar": {
                            "outlinewidth": 0,
                            "ticks": ""
                          }
                        },
                        "type": "scattermapbox"
                      }
                    ],
                    "scatterpolar": [
                      {
                        "marker": {
                          "colorbar": {
                            "outlinewidth": 0,
                            "ticks": ""
                          }
                        },
                        "type": "scatterpolar"
                      }
                    ],
                    "scatterpolargl": [
                      {
                        "marker": {
                          "colorbar": {
                            "outlinewidth": 0,
                            "ticks": ""
                          }
                        },
                        "type": "scatterpolargl"
                      }
                    ],
                    "scatterternary": [
                      {
                        "marker": {
                          "colorbar": {
                            "outlinewidth": 0,
                            "ticks": ""
                          }
                        },
                        "type": "scatterternary"
                      }
                    ],
                    "surface": [
                      {
                        "colorbar": {
                          "outlinewidth": 0,
                          "ticks": ""
                        },
                        "colorscale": [
                          [
                            0,
                            "#0d0887"
                          ],
                          [
                            0.1111111111111111,
                            "#46039f"
                          ],
                          [
                            0.2222222222222222,
                            "#7201a8"
                          ],
                          [
                            0.3333333333333333,
                            "#9c179e"
                          ],
                          [
                            0.4444444444444444,
                            "#bd3786"
                          ],
                          [
                            0.5555555555555556,
                            "#d8576b"
                          ],
                          [
                            0.6666666666666666,
                            "#ed7953"
                          ],
                          [
                            0.7777777777777778,
                            "#fb9f3a"
                          ],
                          [
                            0.8888888888888888,
                            "#fdca26"
                          ],
                          [
                            1,
                            "#f0f921"
                          ]
                        ],
                        "type": "surface"
                      }
                    ],
                    "table": [
                      {
                        "cells": {
                          "fill": {
                            "color": "#EBF0F8"
                          },
                          "line": {
                            "color": "white"
                          }
                        },
                        "header": {
                          "fill": {
                            "color": "#C8D4E3"
                          },
                          "line": {
                            "color": "white"
                          }
                        },
                        "type": "table"
                      }
                    ]
                  },
                  "layout": {
                    "annotationdefaults": {
                      "arrowcolor": "#2a3f5f",
                      "arrowhead": 0,
                      "arrowwidth": 1
                    },
                    "autotypenumbers": "strict",
                    "coloraxis": {
                      "colorbar": {
                        "outlinewidth": 0,
                        "ticks": ""
                      }
                    },
                    "colorscale": {
                      "diverging": [
                        [
                          0,
                          "#8e0152"
                        ],
                        [
                          0.1,
                          "#c51b7d"
                        ],
                        [
                          0.2,
                          "#de77ae"
                        ],
                        [
                          0.3,
                          "#f1b6da"
                        ],
                        [
                          0.4,
                          "#fde0ef"
                        ],
                        [
                          0.5,
                          "#f7f7f7"
                        ],
                        [
                          0.6,
                          "#e6f5d0"
                        ],
                        [
                          0.7,
                          "#b8e186"
                        ],
                        [
                          0.8,
                          "#7fbc41"
                        ],
                        [
                          0.9,
                          "#4d9221"
                        ],
                        [
                          1,
                          "#276419"
                        ]
                      ],
                      "sequential": [
                        [
                          0,
                          "#0d0887"
                        ],
                        [
                          0.1111111111111111,
                          "#46039f"
                        ],
                        [
                          0.2222222222222222,
                          "#7201a8"
                        ],
                        [
                          0.3333333333333333,
                          "#9c179e"
                        ],
                        [
                          0.4444444444444444,
                          "#bd3786"
                        ],
                        [
                          0.5555555555555556,
                          "#d8576b"
                        ],
                        [
                          0.6666666666666666,
                          "#ed7953"
                        ],
                        [
                          0.7777777777777778,
                          "#fb9f3a"
                        ],
                        [
                          0.8888888888888888,
                          "#fdca26"
                        ],
                        [
                          1,
                          "#f0f921"
                        ]
                      ],
                      "sequentialminus": [
                        [
                          0,
                          "#0d0887"
                        ],
                        [
                          0.1111111111111111,
                          "#46039f"
                        ],
                        [
                          0.2222222222222222,
                          "#7201a8"
                        ],
                        [
                          0.3333333333333333,
                          "#9c179e"
                        ],
                        [
                          0.4444444444444444,
                          "#bd3786"
                        ],
                        [
                          0.5555555555555556,
                          "#d8576b"
                        ],
                        [
                          0.6666666666666666,
                          "#ed7953"
                        ],
                        [
                          0.7777777777777778,
                          "#fb9f3a"
                        ],
                        [
                          0.8888888888888888,
                          "#fdca26"
                        ],
                        [
                          1,
                          "#f0f921"
                        ]
                      ]
                    },
                    "colorway": [
                      "#636efa",
                      "#EF553B",
                      "#00cc96",
                      "#ab63fa",
                      "#FFA15A",
                      "#19d3f3",
                      "#FF6692",
                      "#B6E880",
                      "#FF97FF",
                      "#FECB52"
                    ],
                    "font": {
                      "color": "#2a3f5f"
                    },
                    "geo": {
                      "bgcolor": "white",
                      "lakecolor": "white",
                      "landcolor": "#E5ECF6",
                      "showlakes": true,
                      "showland": true,
                      "subunitcolor": "white"
                    },
                    "hoverlabel": {
                      "align": "left"
                    },
                    "hovermode": "closest",
                    "mapbox": {
                      "style": "light"
                    },
                    "paper_bgcolor": "white",
                    "plot_bgcolor": "#E5ECF6",
                    "polar": {
                      "angularaxis": {
                        "gridcolor": "white",
                        "linecolor": "white",
                        "ticks": ""
                      },
                      "bgcolor": "#E5ECF6",
                      "radialaxis": {
                        "gridcolor": "white",
                        "linecolor": "white",
                        "ticks": ""
                      }
                    },
                    "scene": {
                      "xaxis": {
                        "backgroundcolor": "#E5ECF6",
                        "gridcolor": "white",
                        "gridwidth": 2,
                        "linecolor": "white",
                        "showbackground": true,
                        "ticks": "",
                        "zerolinecolor": "white"
                      },
                      "yaxis": {
                        "backgroundcolor": "#E5ECF6",
                        "gridcolor": "white",
                        "gridwidth": 2,
                        "linecolor": "white",
                        "showbackground": true,
                        "ticks": "",
                        "zerolinecolor": "white"
                      },
                      "zaxis": {
                        "backgroundcolor": "#E5ECF6",
                        "gridcolor": "white",
                        "gridwidth": 2,
                        "linecolor": "white",
                        "showbackground": true,
                        "ticks": "",
                        "zerolinecolor": "white"
                      }
                    },
                    "shapedefaults": {
                      "line": {
                        "color": "#2a3f5f"
                      }
                    },
                    "ternary": {
                      "aaxis": {
                        "gridcolor": "white",
                        "linecolor": "white",
                        "ticks": ""
                      },
                      "baxis": {
                        "gridcolor": "white",
                        "linecolor": "white",
                        "ticks": ""
                      },
                      "bgcolor": "#E5ECF6",
                      "caxis": {
                        "gridcolor": "white",
                        "linecolor": "white",
                        "ticks": ""
                      }
                    },
                    "title": {
                      "x": 0.05
                    },
                    "xaxis": {
                      "automargin": true,
                      "gridcolor": "white",
                      "linecolor": "white",
                      "ticks": "",
                      "title": {
                        "standoff": 15
                      },
                      "zerolinecolor": "white",
                      "zerolinewidth": 2
                    },
                    "yaxis": {
                      "automargin": true,
                      "gridcolor": "white",
                      "linecolor": "white",
                      "ticks": "",
                      "title": {
                        "standoff": 15
                      },
                      "zerolinecolor": "white",
                      "zerolinewidth": 2
                    }
                  }
                },
                "title": {
                  "text": "Industry Map: Saturation vs Success Rate (Top 30)"
                },
                "xaxis": {
                  "anchor": "y",
                  "domain": [
                    0,
                    1
                  ],
                  "title": {
                    "text": "Number of Companies"
                  }
                },
                "yaxis": {
                  "anchor": "x",
                  "domain": [
                    0,
                    1
                  ],
                  "title": {
                    "text": "Success Rate"
                  }
                }
              }
            }
          },
          "metadata": {},
          "output_type": "display_data"
        }
      ],
      "source": [
        "# Industry Analysis - Which industries are thriving vs oversaturated?\n",
        "def analyze_industry_success():\n",
        "    \"\"\"Comprehensive industry analysis with success rates and saturation\"\"\"\n",
        "    # Extract all tags and analyze success rates\n",
        "    all_tags = []\n",
        "    for tags in df['tags'].dropna():\n",
        "        if isinstance(tags, list):\n",
        "            all_tags.extend(tags)\n",
        "    \n",
        "    tag_counts = pd.Series(all_tags).value_counts()\n",
        "    \n",
        "    # Success rate per industry\n",
        "    industry_analysis = []\n",
        "    for tag in tag_counts.head(50).index:\n",
        "        tag_companies = df[df['tags'].apply(lambda x: tag in x if isinstance(x, list) else False)]\n",
        "        if len(tag_companies) >= 10:\n",
        "            industry_analysis.append({\n",
        "                'Industry': tag,\n",
        "                'Total': len(tag_companies),\n",
        "                'Successful': tag_companies['is_successful'].sum(),\n",
        "                'Success_Rate': tag_companies['is_successful'].mean(),\n",
        "                'Active': (tag_companies['status'] == 'Active').sum(),\n",
        "                'Avg_Team_Size': tag_companies['team_size'].mean(),\n",
        "                'Solo_Pct': tag_companies['is_solo_founder'].mean()\n",
        "            })\n",
        "    \n",
        "    industry_df = pd.DataFrame(industry_analysis).sort_values('Success_Rate', ascending=False)\n",
        "    \n",
        "    print(\"\\n🏆 TOP 20 INDUSTRIES BY SUCCESS RATE (min 10 companies):\")\n",
        "    print(industry_df.head(20).to_string(index=False))\n",
        "    \n",
        "    print(\"\\n⚠️  BOTTOM 10 INDUSTRIES BY SUCCESS RATE:\")\n",
        "    print(industry_df.tail(10).to_string(index=False))\n",
        "    \n",
        "    return industry_df\n",
        "\n",
        "def create_industry_saturation_map(industry_df):\n",
        "    \"\"\"Create industry saturation vs success bubble chart\"\"\"\n",
        "    fig = px.scatter(\n",
        "        industry_df.head(30),\n",
        "        x='Total',\n",
        "        y='Success_Rate',\n",
        "        size='Avg_Team_Size',\n",
        "        color='Solo_Pct',\n",
        "        hover_data=['Industry', 'Successful', 'Active'],\n",
        "        text='Industry',\n",
        "        title='Industry Map: Saturation vs Success Rate (Top 30)',\n",
        "        labels={'Total': 'Number of Companies', 'Success_Rate': 'Success Rate', 'Solo_Pct': '% Solo Founders'},\n",
        "        color_continuous_scale='RdYlGn'\n",
        "    )\n",
        "    \n",
        "    fig.update_traces(textposition='top center')\n",
        "    fig.update_layout(height=600)\n",
        "    fig.show()\n",
        "\n",
        "def analyze_industry_saturation():\n",
        "    \"\"\"Analyze industry saturation levels\"\"\"\n",
        "    industry_df = analyze_industry_success()\n",
        "    \n",
        "    # Create saturation categories\n",
        "    industry_df['Saturation_Level'] = pd.cut(\n",
        "        industry_df['Total'], \n",
        "        bins=[0, 50, 200, 500, 1000, float('inf')], \n",
        "        labels=['Underserved', 'Emerging', 'Growing', 'Mature', 'Oversaturated']\n",
        "    )\n",
        "    \n",
        "    # Success rate by saturation level\n",
        "    saturation_analysis = industry_df.groupby('Saturation_Level').agg({\n",
        "        'Success_Rate': 'mean',\n",
        "        'Total': 'count'\n",
        "    }).round(3)\n",
        "    \n",
        "    print(\"\\n📊 INDUSTRY SATURATION ANALYSIS:\")\n",
        "    print(saturation_analysis.to_string())\n",
        "    \n",
        "    # Visualize saturation map\n",
        "    create_industry_saturation_map(industry_df)\n",
        "    \n",
        "    return industry_df, saturation_analysis\n",
        "\n",
        "# Run industry analysis\n",
        "print(\"🏭 Deep Dive: Industry Analysis\")\n",
        "industry_results, saturation_analysis = analyze_industry_saturation()\n"
      ]
    },
    {
      "cell_type": "markdown",
      "metadata": {},
      "source": [
        "## 2.9.1. AI Industry Deep Dive\n"
      ]
    },
    {
      "cell_type": "code",
      "execution_count": 67,
      "metadata": {},
      "outputs": [
        {
          "name": "stdout",
          "output_type": "stream",
          "text": [
            "🤖 AI Industry Deep Dive Analysis (FIXED)\n",
            "\n",
            "🤖 AI INDUSTRY DEEP DIVE (FIXED)\n",
            "============================================================\n",
            "📊 AI Companies Overview:\n",
            "  Total AI Companies: 1,386\n",
            "  Success Rate: 6.4%\n",
            "  Active Companies: 1,157\n",
            "  Solo Founders: 302 (21.8%)\n",
            "  SF Bay Area: 714 (51.5%)\n",
            "  International: 313 (22.6%)\n",
            "\n",
            "🏷️  TOP AI-RELATED TAGS:\n",
            "   1. ai: 685 companies\n",
            "   2. b2b: 368 companies\n",
            "   3. artificial-intelligence: 335 companies\n",
            "   4. saas: 315 companies\n",
            "   5. generative-ai: 268 companies\n",
            "   6. machine-learning: 224 companies\n",
            "   7. developer-tools: 175 companies\n",
            "   8. ai-assistant: 140 companies\n",
            "   9. fintech: 92 companies\n",
            "  10. consumer: 82 companies\n",
            "\n",
            "📈 AI COMPANIES BY YEAR:\n",
            "            AI_Companies  AI_Success_Rate  Avg_Team_Size\n",
            "batch_year                                              \n",
            "2016                  31            0.258        199.233\n",
            "2017                  38            0.079         76.842\n",
            "2018                  51            0.118         62.804\n",
            "2019                  47            0.128         34.936\n",
            "2020                  87            0.149         23.954\n",
            "2021                 130            0.062         25.897\n",
            "2022                 179            0.034         12.891\n",
            "2023                 225            0.058          6.744\n",
            "2024                 263            0.008          4.861\n",
            "2025                 255            0.000          2.949\n",
            "\n",
            "🔄 AI vs NON-AI COMPARISON:\n",
            "          Metric  AI Companies  Non-AI Companies  Difference\n",
            " Total Companies       1386.00           4077.00    -2691.00\n",
            "Success Rate (%)          6.42             15.33       -8.91\n",
            "   Avg Team Size         29.32             55.92      -26.60\n",
            "  Solo Founder %         21.79             27.50       -5.71\n",
            "   SF Bay Area %         51.52             36.23       15.29\n",
            " International %         22.58             34.95      -12.37\n"
          ]
        },
        {
          "data": {
            "application/vnd.plotly.v1+json": {
              "config": {
                "plotlyServerURL": "https://plot.ly"
              },
              "data": [
                {
                  "marker": {
                    "color": "purple"
                  },
                  "name": "AI Companies",
                  "type": "bar",
                  "x": [
                    2006,
                    2008,
                    2009,
                    2010,
                    2011,
                    2012,
                    2013,
                    2014,
                    2015,
                    2016,
                    2017,
                    2018,
                    2019,
                    2020,
                    2021,
                    2022,
                    2023,
                    2024,
                    2025
                  ],
                  "xaxis": "x",
                  "y": [
                    1,
                    1,
                    4,
                    3,
                    9,
                    13,
                    4,
                    17,
                    28,
                    31,
                    38,
                    51,
                    47,
                    87,
                    130,
                    179,
                    225,
                    263,
                    255
                  ],
                  "yaxis": "y"
                },
                {
                  "line": {
                    "color": "green",
                    "width": 3
                  },
                  "mode": "lines+markers",
                  "name": "AI Success Rate %",
                  "type": "scatter",
                  "x": [
                    2006,
                    2008,
                    2009,
                    2010,
                    2011,
                    2012,
                    2013,
                    2014,
                    2015,
                    2016,
                    2017,
                    2018,
                    2019,
                    2020,
                    2021,
                    2022,
                    2023,
                    2024,
                    2025
                  ],
                  "xaxis": "x2",
                  "y": [
                    0,
                    100,
                    25,
                    33.300000000000004,
                    33.300000000000004,
                    30.8,
                    25,
                    29.4,
                    28.599999999999998,
                    25.8,
                    7.9,
                    11.799999999999999,
                    12.8,
                    14.899999999999999,
                    6.2,
                    3.4000000000000004,
                    5.800000000000001,
                    0.8,
                    0
                  ],
                  "yaxis": "y2"
                },
                {
                  "marker": {
                    "color": [
                      "purple",
                      "lightblue"
                    ]
                  },
                  "name": "Success Rate %",
                  "type": "bar",
                  "x": [
                    "AI Companies",
                    "Non-AI Companies"
                  ],
                  "xaxis": "x3",
                  "y": [
                    6.421356421356421,
                    15.329899435859701
                  ],
                  "yaxis": "y3"
                },
                {
                  "domain": {
                    "x": [
                      0.55,
                      1
                    ],
                    "y": [
                      0,
                      0.375
                    ]
                  },
                  "labels": [
                    "Active",
                    "Inactive",
                    "Acquired"
                  ],
                  "name": "AI Company Status",
                  "type": "pie",
                  "values": [
                    1157,
                    140,
                    89
                  ]
                }
              ],
              "layout": {
                "annotations": [
                  {
                    "font": {
                      "size": 16
                    },
                    "showarrow": false,
                    "text": "AI Companies by Year",
                    "x": 0.225,
                    "xanchor": "center",
                    "xref": "paper",
                    "y": 1,
                    "yanchor": "bottom",
                    "yref": "paper"
                  },
                  {
                    "font": {
                      "size": 16
                    },
                    "showarrow": false,
                    "text": "AI Success Rate Trend",
                    "x": 0.775,
                    "xanchor": "center",
                    "xref": "paper",
                    "y": 1,
                    "yanchor": "bottom",
                    "yref": "paper"
                  },
                  {
                    "font": {
                      "size": 16
                    },
                    "showarrow": false,
                    "text": "AI vs Non-AI Success Rate",
                    "x": 0.225,
                    "xanchor": "center",
                    "xref": "paper",
                    "y": 0.375,
                    "yanchor": "bottom",
                    "yref": "paper"
                  },
                  {
                    "font": {
                      "size": 16
                    },
                    "showarrow": false,
                    "text": "AI Company Distribution",
                    "x": 0.775,
                    "xanchor": "center",
                    "xref": "paper",
                    "y": 0.375,
                    "yanchor": "bottom",
                    "yref": "paper"
                  }
                ],
                "height": 600,
                "showlegend": false,
                "template": {
                  "data": {
                    "bar": [
                      {
                        "error_x": {
                          "color": "#2a3f5f"
                        },
                        "error_y": {
                          "color": "#2a3f5f"
                        },
                        "marker": {
                          "line": {
                            "color": "#E5ECF6",
                            "width": 0.5
                          },
                          "pattern": {
                            "fillmode": "overlay",
                            "size": 10,
                            "solidity": 0.2
                          }
                        },
                        "type": "bar"
                      }
                    ],
                    "barpolar": [
                      {
                        "marker": {
                          "line": {
                            "color": "#E5ECF6",
                            "width": 0.5
                          },
                          "pattern": {
                            "fillmode": "overlay",
                            "size": 10,
                            "solidity": 0.2
                          }
                        },
                        "type": "barpolar"
                      }
                    ],
                    "carpet": [
                      {
                        "aaxis": {
                          "endlinecolor": "#2a3f5f",
                          "gridcolor": "white",
                          "linecolor": "white",
                          "minorgridcolor": "white",
                          "startlinecolor": "#2a3f5f"
                        },
                        "baxis": {
                          "endlinecolor": "#2a3f5f",
                          "gridcolor": "white",
                          "linecolor": "white",
                          "minorgridcolor": "white",
                          "startlinecolor": "#2a3f5f"
                        },
                        "type": "carpet"
                      }
                    ],
                    "choropleth": [
                      {
                        "colorbar": {
                          "outlinewidth": 0,
                          "ticks": ""
                        },
                        "type": "choropleth"
                      }
                    ],
                    "contour": [
                      {
                        "colorbar": {
                          "outlinewidth": 0,
                          "ticks": ""
                        },
                        "colorscale": [
                          [
                            0,
                            "#0d0887"
                          ],
                          [
                            0.1111111111111111,
                            "#46039f"
                          ],
                          [
                            0.2222222222222222,
                            "#7201a8"
                          ],
                          [
                            0.3333333333333333,
                            "#9c179e"
                          ],
                          [
                            0.4444444444444444,
                            "#bd3786"
                          ],
                          [
                            0.5555555555555556,
                            "#d8576b"
                          ],
                          [
                            0.6666666666666666,
                            "#ed7953"
                          ],
                          [
                            0.7777777777777778,
                            "#fb9f3a"
                          ],
                          [
                            0.8888888888888888,
                            "#fdca26"
                          ],
                          [
                            1,
                            "#f0f921"
                          ]
                        ],
                        "type": "contour"
                      }
                    ],
                    "contourcarpet": [
                      {
                        "colorbar": {
                          "outlinewidth": 0,
                          "ticks": ""
                        },
                        "type": "contourcarpet"
                      }
                    ],
                    "heatmap": [
                      {
                        "colorbar": {
                          "outlinewidth": 0,
                          "ticks": ""
                        },
                        "colorscale": [
                          [
                            0,
                            "#0d0887"
                          ],
                          [
                            0.1111111111111111,
                            "#46039f"
                          ],
                          [
                            0.2222222222222222,
                            "#7201a8"
                          ],
                          [
                            0.3333333333333333,
                            "#9c179e"
                          ],
                          [
                            0.4444444444444444,
                            "#bd3786"
                          ],
                          [
                            0.5555555555555556,
                            "#d8576b"
                          ],
                          [
                            0.6666666666666666,
                            "#ed7953"
                          ],
                          [
                            0.7777777777777778,
                            "#fb9f3a"
                          ],
                          [
                            0.8888888888888888,
                            "#fdca26"
                          ],
                          [
                            1,
                            "#f0f921"
                          ]
                        ],
                        "type": "heatmap"
                      }
                    ],
                    "heatmapgl": [
                      {
                        "colorbar": {
                          "outlinewidth": 0,
                          "ticks": ""
                        },
                        "colorscale": [
                          [
                            0,
                            "#0d0887"
                          ],
                          [
                            0.1111111111111111,
                            "#46039f"
                          ],
                          [
                            0.2222222222222222,
                            "#7201a8"
                          ],
                          [
                            0.3333333333333333,
                            "#9c179e"
                          ],
                          [
                            0.4444444444444444,
                            "#bd3786"
                          ],
                          [
                            0.5555555555555556,
                            "#d8576b"
                          ],
                          [
                            0.6666666666666666,
                            "#ed7953"
                          ],
                          [
                            0.7777777777777778,
                            "#fb9f3a"
                          ],
                          [
                            0.8888888888888888,
                            "#fdca26"
                          ],
                          [
                            1,
                            "#f0f921"
                          ]
                        ],
                        "type": "heatmapgl"
                      }
                    ],
                    "histogram": [
                      {
                        "marker": {
                          "pattern": {
                            "fillmode": "overlay",
                            "size": 10,
                            "solidity": 0.2
                          }
                        },
                        "type": "histogram"
                      }
                    ],
                    "histogram2d": [
                      {
                        "colorbar": {
                          "outlinewidth": 0,
                          "ticks": ""
                        },
                        "colorscale": [
                          [
                            0,
                            "#0d0887"
                          ],
                          [
                            0.1111111111111111,
                            "#46039f"
                          ],
                          [
                            0.2222222222222222,
                            "#7201a8"
                          ],
                          [
                            0.3333333333333333,
                            "#9c179e"
                          ],
                          [
                            0.4444444444444444,
                            "#bd3786"
                          ],
                          [
                            0.5555555555555556,
                            "#d8576b"
                          ],
                          [
                            0.6666666666666666,
                            "#ed7953"
                          ],
                          [
                            0.7777777777777778,
                            "#fb9f3a"
                          ],
                          [
                            0.8888888888888888,
                            "#fdca26"
                          ],
                          [
                            1,
                            "#f0f921"
                          ]
                        ],
                        "type": "histogram2d"
                      }
                    ],
                    "histogram2dcontour": [
                      {
                        "colorbar": {
                          "outlinewidth": 0,
                          "ticks": ""
                        },
                        "colorscale": [
                          [
                            0,
                            "#0d0887"
                          ],
                          [
                            0.1111111111111111,
                            "#46039f"
                          ],
                          [
                            0.2222222222222222,
                            "#7201a8"
                          ],
                          [
                            0.3333333333333333,
                            "#9c179e"
                          ],
                          [
                            0.4444444444444444,
                            "#bd3786"
                          ],
                          [
                            0.5555555555555556,
                            "#d8576b"
                          ],
                          [
                            0.6666666666666666,
                            "#ed7953"
                          ],
                          [
                            0.7777777777777778,
                            "#fb9f3a"
                          ],
                          [
                            0.8888888888888888,
                            "#fdca26"
                          ],
                          [
                            1,
                            "#f0f921"
                          ]
                        ],
                        "type": "histogram2dcontour"
                      }
                    ],
                    "mesh3d": [
                      {
                        "colorbar": {
                          "outlinewidth": 0,
                          "ticks": ""
                        },
                        "type": "mesh3d"
                      }
                    ],
                    "parcoords": [
                      {
                        "line": {
                          "colorbar": {
                            "outlinewidth": 0,
                            "ticks": ""
                          }
                        },
                        "type": "parcoords"
                      }
                    ],
                    "pie": [
                      {
                        "automargin": true,
                        "type": "pie"
                      }
                    ],
                    "scatter": [
                      {
                        "fillpattern": {
                          "fillmode": "overlay",
                          "size": 10,
                          "solidity": 0.2
                        },
                        "type": "scatter"
                      }
                    ],
                    "scatter3d": [
                      {
                        "line": {
                          "colorbar": {
                            "outlinewidth": 0,
                            "ticks": ""
                          }
                        },
                        "marker": {
                          "colorbar": {
                            "outlinewidth": 0,
                            "ticks": ""
                          }
                        },
                        "type": "scatter3d"
                      }
                    ],
                    "scattercarpet": [
                      {
                        "marker": {
                          "colorbar": {
                            "outlinewidth": 0,
                            "ticks": ""
                          }
                        },
                        "type": "scattercarpet"
                      }
                    ],
                    "scattergeo": [
                      {
                        "marker": {
                          "colorbar": {
                            "outlinewidth": 0,
                            "ticks": ""
                          }
                        },
                        "type": "scattergeo"
                      }
                    ],
                    "scattergl": [
                      {
                        "marker": {
                          "colorbar": {
                            "outlinewidth": 0,
                            "ticks": ""
                          }
                        },
                        "type": "scattergl"
                      }
                    ],
                    "scattermapbox": [
                      {
                        "marker": {
                          "colorbar": {
                            "outlinewidth": 0,
                            "ticks": ""
                          }
                        },
                        "type": "scattermapbox"
                      }
                    ],
                    "scatterpolar": [
                      {
                        "marker": {
                          "colorbar": {
                            "outlinewidth": 0,
                            "ticks": ""
                          }
                        },
                        "type": "scatterpolar"
                      }
                    ],
                    "scatterpolargl": [
                      {
                        "marker": {
                          "colorbar": {
                            "outlinewidth": 0,
                            "ticks": ""
                          }
                        },
                        "type": "scatterpolargl"
                      }
                    ],
                    "scatterternary": [
                      {
                        "marker": {
                          "colorbar": {
                            "outlinewidth": 0,
                            "ticks": ""
                          }
                        },
                        "type": "scatterternary"
                      }
                    ],
                    "surface": [
                      {
                        "colorbar": {
                          "outlinewidth": 0,
                          "ticks": ""
                        },
                        "colorscale": [
                          [
                            0,
                            "#0d0887"
                          ],
                          [
                            0.1111111111111111,
                            "#46039f"
                          ],
                          [
                            0.2222222222222222,
                            "#7201a8"
                          ],
                          [
                            0.3333333333333333,
                            "#9c179e"
                          ],
                          [
                            0.4444444444444444,
                            "#bd3786"
                          ],
                          [
                            0.5555555555555556,
                            "#d8576b"
                          ],
                          [
                            0.6666666666666666,
                            "#ed7953"
                          ],
                          [
                            0.7777777777777778,
                            "#fb9f3a"
                          ],
                          [
                            0.8888888888888888,
                            "#fdca26"
                          ],
                          [
                            1,
                            "#f0f921"
                          ]
                        ],
                        "type": "surface"
                      }
                    ],
                    "table": [
                      {
                        "cells": {
                          "fill": {
                            "color": "#EBF0F8"
                          },
                          "line": {
                            "color": "white"
                          }
                        },
                        "header": {
                          "fill": {
                            "color": "#C8D4E3"
                          },
                          "line": {
                            "color": "white"
                          }
                        },
                        "type": "table"
                      }
                    ]
                  },
                  "layout": {
                    "annotationdefaults": {
                      "arrowcolor": "#2a3f5f",
                      "arrowhead": 0,
                      "arrowwidth": 1
                    },
                    "autotypenumbers": "strict",
                    "coloraxis": {
                      "colorbar": {
                        "outlinewidth": 0,
                        "ticks": ""
                      }
                    },
                    "colorscale": {
                      "diverging": [
                        [
                          0,
                          "#8e0152"
                        ],
                        [
                          0.1,
                          "#c51b7d"
                        ],
                        [
                          0.2,
                          "#de77ae"
                        ],
                        [
                          0.3,
                          "#f1b6da"
                        ],
                        [
                          0.4,
                          "#fde0ef"
                        ],
                        [
                          0.5,
                          "#f7f7f7"
                        ],
                        [
                          0.6,
                          "#e6f5d0"
                        ],
                        [
                          0.7,
                          "#b8e186"
                        ],
                        [
                          0.8,
                          "#7fbc41"
                        ],
                        [
                          0.9,
                          "#4d9221"
                        ],
                        [
                          1,
                          "#276419"
                        ]
                      ],
                      "sequential": [
                        [
                          0,
                          "#0d0887"
                        ],
                        [
                          0.1111111111111111,
                          "#46039f"
                        ],
                        [
                          0.2222222222222222,
                          "#7201a8"
                        ],
                        [
                          0.3333333333333333,
                          "#9c179e"
                        ],
                        [
                          0.4444444444444444,
                          "#bd3786"
                        ],
                        [
                          0.5555555555555556,
                          "#d8576b"
                        ],
                        [
                          0.6666666666666666,
                          "#ed7953"
                        ],
                        [
                          0.7777777777777778,
                          "#fb9f3a"
                        ],
                        [
                          0.8888888888888888,
                          "#fdca26"
                        ],
                        [
                          1,
                          "#f0f921"
                        ]
                      ],
                      "sequentialminus": [
                        [
                          0,
                          "#0d0887"
                        ],
                        [
                          0.1111111111111111,
                          "#46039f"
                        ],
                        [
                          0.2222222222222222,
                          "#7201a8"
                        ],
                        [
                          0.3333333333333333,
                          "#9c179e"
                        ],
                        [
                          0.4444444444444444,
                          "#bd3786"
                        ],
                        [
                          0.5555555555555556,
                          "#d8576b"
                        ],
                        [
                          0.6666666666666666,
                          "#ed7953"
                        ],
                        [
                          0.7777777777777778,
                          "#fb9f3a"
                        ],
                        [
                          0.8888888888888888,
                          "#fdca26"
                        ],
                        [
                          1,
                          "#f0f921"
                        ]
                      ]
                    },
                    "colorway": [
                      "#636efa",
                      "#EF553B",
                      "#00cc96",
                      "#ab63fa",
                      "#FFA15A",
                      "#19d3f3",
                      "#FF6692",
                      "#B6E880",
                      "#FF97FF",
                      "#FECB52"
                    ],
                    "font": {
                      "color": "#2a3f5f"
                    },
                    "geo": {
                      "bgcolor": "white",
                      "lakecolor": "white",
                      "landcolor": "#E5ECF6",
                      "showlakes": true,
                      "showland": true,
                      "subunitcolor": "white"
                    },
                    "hoverlabel": {
                      "align": "left"
                    },
                    "hovermode": "closest",
                    "mapbox": {
                      "style": "light"
                    },
                    "paper_bgcolor": "white",
                    "plot_bgcolor": "#E5ECF6",
                    "polar": {
                      "angularaxis": {
                        "gridcolor": "white",
                        "linecolor": "white",
                        "ticks": ""
                      },
                      "bgcolor": "#E5ECF6",
                      "radialaxis": {
                        "gridcolor": "white",
                        "linecolor": "white",
                        "ticks": ""
                      }
                    },
                    "scene": {
                      "xaxis": {
                        "backgroundcolor": "#E5ECF6",
                        "gridcolor": "white",
                        "gridwidth": 2,
                        "linecolor": "white",
                        "showbackground": true,
                        "ticks": "",
                        "zerolinecolor": "white"
                      },
                      "yaxis": {
                        "backgroundcolor": "#E5ECF6",
                        "gridcolor": "white",
                        "gridwidth": 2,
                        "linecolor": "white",
                        "showbackground": true,
                        "ticks": "",
                        "zerolinecolor": "white"
                      },
                      "zaxis": {
                        "backgroundcolor": "#E5ECF6",
                        "gridcolor": "white",
                        "gridwidth": 2,
                        "linecolor": "white",
                        "showbackground": true,
                        "ticks": "",
                        "zerolinecolor": "white"
                      }
                    },
                    "shapedefaults": {
                      "line": {
                        "color": "#2a3f5f"
                      }
                    },
                    "ternary": {
                      "aaxis": {
                        "gridcolor": "white",
                        "linecolor": "white",
                        "ticks": ""
                      },
                      "baxis": {
                        "gridcolor": "white",
                        "linecolor": "white",
                        "ticks": ""
                      },
                      "bgcolor": "#E5ECF6",
                      "caxis": {
                        "gridcolor": "white",
                        "linecolor": "white",
                        "ticks": ""
                      }
                    },
                    "title": {
                      "x": 0.05
                    },
                    "xaxis": {
                      "automargin": true,
                      "gridcolor": "white",
                      "linecolor": "white",
                      "ticks": "",
                      "title": {
                        "standoff": 15
                      },
                      "zerolinecolor": "white",
                      "zerolinewidth": 2
                    },
                    "yaxis": {
                      "automargin": true,
                      "gridcolor": "white",
                      "linecolor": "white",
                      "ticks": "",
                      "title": {
                        "standoff": 15
                      },
                      "zerolinecolor": "white",
                      "zerolinewidth": 2
                    }
                  }
                },
                "title": {
                  "text": "AI Industry Deep Dive - Comprehensive Analysis (FIXED)"
                },
                "xaxis": {
                  "anchor": "y",
                  "domain": [
                    0,
                    0.45
                  ]
                },
                "xaxis2": {
                  "anchor": "y2",
                  "domain": [
                    0.55,
                    1
                  ]
                },
                "xaxis3": {
                  "anchor": "y3",
                  "domain": [
                    0,
                    0.45
                  ]
                },
                "yaxis": {
                  "anchor": "x",
                  "domain": [
                    0.625,
                    1
                  ]
                },
                "yaxis2": {
                  "anchor": "x2",
                  "domain": [
                    0.625,
                    1
                  ]
                },
                "yaxis3": {
                  "anchor": "x3",
                  "domain": [
                    0,
                    0.375
                  ]
                }
              }
            }
          },
          "metadata": {},
          "output_type": "display_data"
        }
      ],
      "source": [
        "# Fixed AI Industry Analysis - Corrected subplot specifications\n",
        "def analyze_ai_industry():\n",
        "    \"\"\"Deep dive analysis of AI/ML companies with proper subplot specs\"\"\"\n",
        "    ai_df = df[df['is_ai']].copy()\n",
        "    \n",
        "    if len(ai_df) == 0:\n",
        "        print(\"⚠️  No AI companies found in dataset\")\n",
        "        return None\n",
        "    \n",
        "    print(f\"\\n🤖 AI INDUSTRY DEEP DIVE (FIXED)\")\n",
        "    print(\"=\"*60)\n",
        "    print(f\"📊 AI Companies Overview:\")\n",
        "    print(f\"  Total AI Companies: {len(ai_df):,}\")\n",
        "    print(f\"  Success Rate: {ai_df['is_successful'].mean()*100:.1f}%\")\n",
        "    print(f\"  Active Companies: {(ai_df['status'] == 'Active').sum():,}\")\n",
        "    print(f\"  Solo Founders: {ai_df['is_solo_founder'].sum():,} ({ai_df['is_solo_founder'].mean()*100:.1f}%)\")\n",
        "    print(f\"  SF Bay Area: {ai_df['is_sf_bay'].sum():,} ({ai_df['is_sf_bay'].mean()*100:.1f}%)\")\n",
        "    print(f\"  International: {(~ai_df['is_us']).sum():,} ({(~ai_df['is_us']).mean()*100:.1f}%)\")\n",
        "    \n",
        "    # AI-specific tags analysis\n",
        "    ai_tags = []\n",
        "    for tags in ai_df['tags'].dropna():\n",
        "        if isinstance(tags, list):\n",
        "            ai_tags.extend(tags)\n",
        "    \n",
        "    ai_tag_counts = pd.Series(ai_tags).value_counts()\n",
        "    print(f\"\\n🏷️  TOP AI-RELATED TAGS:\")\n",
        "    for i, (tag, count) in enumerate(ai_tag_counts.head(10).items(), 1):\n",
        "        print(f\"  {i:2d}. {tag}: {count} companies\")\n",
        "    \n",
        "    # AI success by year\n",
        "    ai_yearly = ai_df.groupby('batch_year').agg({\n",
        "        'company_id': 'count',\n",
        "        'is_successful': 'mean',\n",
        "        'team_size': 'mean'\n",
        "    }).round(3)\n",
        "    ai_yearly.columns = ['AI_Companies', 'AI_Success_Rate', 'Avg_Team_Size']\n",
        "    ai_yearly = ai_yearly.dropna()\n",
        "    \n",
        "    print(f\"\\n📈 AI COMPANIES BY YEAR:\")\n",
        "    print(ai_yearly.tail(10).to_string())\n",
        "    \n",
        "    # AI vs Non-AI comparison\n",
        "    non_ai_df = df[~df['is_ai']].copy()\n",
        "    \n",
        "    comparison = pd.DataFrame({\n",
        "        'Metric': [\n",
        "            'Total Companies',\n",
        "            'Success Rate (%)',\n",
        "            'Avg Team Size',\n",
        "            'Solo Founder %',\n",
        "            'SF Bay Area %',\n",
        "            'International %'\n",
        "        ],\n",
        "        'AI Companies': [\n",
        "            len(ai_df),\n",
        "            ai_df['is_successful'].mean() * 100,\n",
        "            ai_df['team_size'].mean(),\n",
        "            ai_df['is_solo_founder'].mean() * 100,\n",
        "            ai_df['is_sf_bay'].mean() * 100,\n",
        "            (~ai_df['is_us']).mean() * 100\n",
        "        ],\n",
        "        'Non-AI Companies': [\n",
        "            len(non_ai_df),\n",
        "            non_ai_df['is_successful'].mean() * 100,\n",
        "            non_ai_df['team_size'].mean(),\n",
        "            non_ai_df['is_solo_founder'].mean() * 100,\n",
        "            non_ai_df['is_sf_bay'].mean() * 100,\n",
        "            (~non_ai_df['is_us']).mean() * 100\n",
        "        ]\n",
        "    })\n",
        "    \n",
        "    comparison['Difference'] = comparison['AI Companies'] - comparison['Non-AI Companies']\n",
        "    comparison = comparison.round(2)\n",
        "    \n",
        "    print(f\"\\n🔄 AI vs NON-AI COMPARISON:\")\n",
        "    print(comparison.to_string(index=False))\n",
        "    \n",
        "    # AI industry trends visualization with CORRECT subplot specs\n",
        "    fig = make_subplots(\n",
        "        rows=2, cols=2,\n",
        "        subplot_titles=(\n",
        "            'AI Companies by Year',\n",
        "            'AI Success Rate Trend',\n",
        "            'AI vs Non-AI Success Rate',\n",
        "            'AI Company Distribution'\n",
        "        ),\n",
        "        specs=[[{\"type\": \"bar\"}, {\"type\": \"scatter\"}],\n",
        "               [{\"type\": \"bar\"}, {\"type\": \"pie\"}]]\n",
        "    )\n",
        "    \n",
        "    # 1. AI Companies by Year\n",
        "    fig.add_trace(\n",
        "        go.Bar(x=ai_yearly.index, y=ai_yearly['AI_Companies'], \n",
        "               name='AI Companies', marker_color='purple'),\n",
        "        row=1, col=1\n",
        "    )\n",
        "    \n",
        "    # 2. AI Success Rate Trend\n",
        "    fig.add_trace(\n",
        "        go.Scatter(x=ai_yearly.index, y=ai_yearly['AI_Success_Rate']*100, \n",
        "                   mode='lines+markers', name='AI Success Rate %',\n",
        "                   line=dict(color='green', width=3)),\n",
        "        row=1, col=2\n",
        "    )\n",
        "    \n",
        "    # 3. AI vs Non-AI Success Rate\n",
        "    fig.add_trace(\n",
        "        go.Bar(x=['AI Companies', 'Non-AI Companies'], \n",
        "               y=[ai_df['is_successful'].mean()*100, non_ai_df['is_successful'].mean()*100],\n",
        "               name='Success Rate %', marker_color=['purple', 'lightblue']),\n",
        "        row=2, col=1\n",
        "    )\n",
        "    \n",
        "    # 4. AI Company Distribution (PIE CHART - now properly specified)\n",
        "    ai_status = ai_df['status'].value_counts()\n",
        "    fig.add_trace(\n",
        "        go.Pie(labels=ai_status.index, values=ai_status.values,\n",
        "               name='AI Company Status'),\n",
        "        row=2, col=2\n",
        "    )\n",
        "    \n",
        "    fig.update_layout(\n",
        "        title='AI Industry Deep Dive - Comprehensive Analysis (FIXED)',\n",
        "        showlegend=False,\n",
        "        height=600\n",
        "    )\n",
        "    \n",
        "    fig.show()\n",
        "    \n",
        "    return ai_df, comparison\n",
        "\n",
        "# Run the FIXED AI industry analysis\n",
        "print(\"🤖 AI Industry Deep Dive Analysis (FIXED)\")\n",
        "ai_results, ai_comparison = analyze_ai_industry_fixed()\n"
      ]
    },
    {
      "cell_type": "markdown",
      "metadata": {},
      "source": [
        "## 2.10. Geographic Intelligence\n"
      ]
    },
    {
      "cell_type": "code",
      "execution_count": 68,
      "metadata": {},
      "outputs": [
        {
          "name": "stdout",
          "output_type": "stream",
          "text": [
            "🌍 Geographic Intelligence Analysis (FIXED)\n",
            "\n",
            "🌍 SUCCESS RATE BY COUNTRY (min 10 companies):\n",
            "         Total  Successful  Success_Rate  Avg_Team_Size  Solo_Pct\n",
            "country                                                          \n",
            "DK          14           3         0.214         13.714     0.143\n",
            "ES          16           3         0.188         16.812     0.188\n",
            "NL          11           2         0.182         56.364     0.182\n",
            "CA         138          23         0.167         26.650     0.275\n",
            "US        3725         574         0.154         47.367     0.282\n",
            "IL          28           4         0.143         37.074     0.143\n",
            "FR          56           8         0.143         13.571     0.196\n",
            "SG          51           6         0.118         36.059     0.157\n",
            "BR          49           5         0.102         66.104     0.306\n",
            "CH          10           1         0.100          7.100     0.100\n",
            "PK          10           1         0.100         49.400     0.300\n",
            "IN         197          19         0.096        118.546     0.142\n",
            "GB         151          14         0.093         26.750     0.252\n",
            "DE          46           4         0.087         16.739     0.196\n",
            "MX          80           6         0.075        122.557     0.150\n",
            "AR          17           1         0.059         56.824     0.118\n",
            "NG          55           2         0.036         66.741     0.145\n",
            "CO          29           1         0.034        264.414     0.241\n",
            "CL          16           0         0.000         71.250     0.062\n",
            "AE          10           0         0.000         37.200     0.500\n"
          ]
        },
        {
          "data": {
            "application/vnd.plotly.v1+json": {
              "config": {
                "plotlyServerURL": "https://plot.ly"
              },
              "data": [
                {
                  "marker": {
                    "color": "#0099FF"
                  },
                  "name": "Total Companies",
                  "orientation": "h",
                  "text": [
                    "1986 (15.7%)",
                    "523 (10.3%)",
                    "132 (8.3%)",
                    "109 (11.9%)",
                    "107 (13.1%)",
                    "94 (20.2%)",
                    "85 (23.5%)",
                    "75 (20.0%)",
                    "61 (21.3%)",
                    "55 (14.5%)",
                    "54 (9.3%)",
                    "53 (13.2%)",
                    "52 (9.6%)",
                    "50 (12.0%)",
                    "47 (2.1%)",
                    "39 (15.4%)",
                    "36 (8.3%)",
                    "35 (25.7%)",
                    "34 (14.7%)",
                    "33 (21.2%)"
                  ],
                  "textposition": "outside",
                  "type": "bar",
                  "x": [
                    1986,
                    523,
                    132,
                    109,
                    107,
                    94,
                    85,
                    75,
                    61,
                    55,
                    54,
                    53,
                    52,
                    50,
                    47,
                    39,
                    36,
                    35,
                    34,
                    33
                  ],
                  "y": [
                    "San Francisco",
                    "New York",
                    "London, United Kingdom",
                    "Bengaluru, India",
                    "Los Angeles, CA",
                    "Palo Alto",
                    "Mountain View",
                    "Toronto, Canada",
                    "Boston",
                    "Paris, France",
                    "Mexico City, Mexico",
                    "Austin, TX",
                    "Seattle, WA",
                    "Singapore, Singapore",
                    "Lagos, Nigeria",
                    "Oakland, CA",
                    "São Paulo, Brazil",
                    "San Mateo, CA",
                    "San Jose, CA",
                    "Berkeley, CA"
                  ]
                }
              ],
              "layout": {
                "height": 600,
                "template": {
                  "data": {
                    "bar": [
                      {
                        "error_x": {
                          "color": "#2a3f5f"
                        },
                        "error_y": {
                          "color": "#2a3f5f"
                        },
                        "marker": {
                          "line": {
                            "color": "#E5ECF6",
                            "width": 0.5
                          },
                          "pattern": {
                            "fillmode": "overlay",
                            "size": 10,
                            "solidity": 0.2
                          }
                        },
                        "type": "bar"
                      }
                    ],
                    "barpolar": [
                      {
                        "marker": {
                          "line": {
                            "color": "#E5ECF6",
                            "width": 0.5
                          },
                          "pattern": {
                            "fillmode": "overlay",
                            "size": 10,
                            "solidity": 0.2
                          }
                        },
                        "type": "barpolar"
                      }
                    ],
                    "carpet": [
                      {
                        "aaxis": {
                          "endlinecolor": "#2a3f5f",
                          "gridcolor": "white",
                          "linecolor": "white",
                          "minorgridcolor": "white",
                          "startlinecolor": "#2a3f5f"
                        },
                        "baxis": {
                          "endlinecolor": "#2a3f5f",
                          "gridcolor": "white",
                          "linecolor": "white",
                          "minorgridcolor": "white",
                          "startlinecolor": "#2a3f5f"
                        },
                        "type": "carpet"
                      }
                    ],
                    "choropleth": [
                      {
                        "colorbar": {
                          "outlinewidth": 0,
                          "ticks": ""
                        },
                        "type": "choropleth"
                      }
                    ],
                    "contour": [
                      {
                        "colorbar": {
                          "outlinewidth": 0,
                          "ticks": ""
                        },
                        "colorscale": [
                          [
                            0,
                            "#0d0887"
                          ],
                          [
                            0.1111111111111111,
                            "#46039f"
                          ],
                          [
                            0.2222222222222222,
                            "#7201a8"
                          ],
                          [
                            0.3333333333333333,
                            "#9c179e"
                          ],
                          [
                            0.4444444444444444,
                            "#bd3786"
                          ],
                          [
                            0.5555555555555556,
                            "#d8576b"
                          ],
                          [
                            0.6666666666666666,
                            "#ed7953"
                          ],
                          [
                            0.7777777777777778,
                            "#fb9f3a"
                          ],
                          [
                            0.8888888888888888,
                            "#fdca26"
                          ],
                          [
                            1,
                            "#f0f921"
                          ]
                        ],
                        "type": "contour"
                      }
                    ],
                    "contourcarpet": [
                      {
                        "colorbar": {
                          "outlinewidth": 0,
                          "ticks": ""
                        },
                        "type": "contourcarpet"
                      }
                    ],
                    "heatmap": [
                      {
                        "colorbar": {
                          "outlinewidth": 0,
                          "ticks": ""
                        },
                        "colorscale": [
                          [
                            0,
                            "#0d0887"
                          ],
                          [
                            0.1111111111111111,
                            "#46039f"
                          ],
                          [
                            0.2222222222222222,
                            "#7201a8"
                          ],
                          [
                            0.3333333333333333,
                            "#9c179e"
                          ],
                          [
                            0.4444444444444444,
                            "#bd3786"
                          ],
                          [
                            0.5555555555555556,
                            "#d8576b"
                          ],
                          [
                            0.6666666666666666,
                            "#ed7953"
                          ],
                          [
                            0.7777777777777778,
                            "#fb9f3a"
                          ],
                          [
                            0.8888888888888888,
                            "#fdca26"
                          ],
                          [
                            1,
                            "#f0f921"
                          ]
                        ],
                        "type": "heatmap"
                      }
                    ],
                    "heatmapgl": [
                      {
                        "colorbar": {
                          "outlinewidth": 0,
                          "ticks": ""
                        },
                        "colorscale": [
                          [
                            0,
                            "#0d0887"
                          ],
                          [
                            0.1111111111111111,
                            "#46039f"
                          ],
                          [
                            0.2222222222222222,
                            "#7201a8"
                          ],
                          [
                            0.3333333333333333,
                            "#9c179e"
                          ],
                          [
                            0.4444444444444444,
                            "#bd3786"
                          ],
                          [
                            0.5555555555555556,
                            "#d8576b"
                          ],
                          [
                            0.6666666666666666,
                            "#ed7953"
                          ],
                          [
                            0.7777777777777778,
                            "#fb9f3a"
                          ],
                          [
                            0.8888888888888888,
                            "#fdca26"
                          ],
                          [
                            1,
                            "#f0f921"
                          ]
                        ],
                        "type": "heatmapgl"
                      }
                    ],
                    "histogram": [
                      {
                        "marker": {
                          "pattern": {
                            "fillmode": "overlay",
                            "size": 10,
                            "solidity": 0.2
                          }
                        },
                        "type": "histogram"
                      }
                    ],
                    "histogram2d": [
                      {
                        "colorbar": {
                          "outlinewidth": 0,
                          "ticks": ""
                        },
                        "colorscale": [
                          [
                            0,
                            "#0d0887"
                          ],
                          [
                            0.1111111111111111,
                            "#46039f"
                          ],
                          [
                            0.2222222222222222,
                            "#7201a8"
                          ],
                          [
                            0.3333333333333333,
                            "#9c179e"
                          ],
                          [
                            0.4444444444444444,
                            "#bd3786"
                          ],
                          [
                            0.5555555555555556,
                            "#d8576b"
                          ],
                          [
                            0.6666666666666666,
                            "#ed7953"
                          ],
                          [
                            0.7777777777777778,
                            "#fb9f3a"
                          ],
                          [
                            0.8888888888888888,
                            "#fdca26"
                          ],
                          [
                            1,
                            "#f0f921"
                          ]
                        ],
                        "type": "histogram2d"
                      }
                    ],
                    "histogram2dcontour": [
                      {
                        "colorbar": {
                          "outlinewidth": 0,
                          "ticks": ""
                        },
                        "colorscale": [
                          [
                            0,
                            "#0d0887"
                          ],
                          [
                            0.1111111111111111,
                            "#46039f"
                          ],
                          [
                            0.2222222222222222,
                            "#7201a8"
                          ],
                          [
                            0.3333333333333333,
                            "#9c179e"
                          ],
                          [
                            0.4444444444444444,
                            "#bd3786"
                          ],
                          [
                            0.5555555555555556,
                            "#d8576b"
                          ],
                          [
                            0.6666666666666666,
                            "#ed7953"
                          ],
                          [
                            0.7777777777777778,
                            "#fb9f3a"
                          ],
                          [
                            0.8888888888888888,
                            "#fdca26"
                          ],
                          [
                            1,
                            "#f0f921"
                          ]
                        ],
                        "type": "histogram2dcontour"
                      }
                    ],
                    "mesh3d": [
                      {
                        "colorbar": {
                          "outlinewidth": 0,
                          "ticks": ""
                        },
                        "type": "mesh3d"
                      }
                    ],
                    "parcoords": [
                      {
                        "line": {
                          "colorbar": {
                            "outlinewidth": 0,
                            "ticks": ""
                          }
                        },
                        "type": "parcoords"
                      }
                    ],
                    "pie": [
                      {
                        "automargin": true,
                        "type": "pie"
                      }
                    ],
                    "scatter": [
                      {
                        "fillpattern": {
                          "fillmode": "overlay",
                          "size": 10,
                          "solidity": 0.2
                        },
                        "type": "scatter"
                      }
                    ],
                    "scatter3d": [
                      {
                        "line": {
                          "colorbar": {
                            "outlinewidth": 0,
                            "ticks": ""
                          }
                        },
                        "marker": {
                          "colorbar": {
                            "outlinewidth": 0,
                            "ticks": ""
                          }
                        },
                        "type": "scatter3d"
                      }
                    ],
                    "scattercarpet": [
                      {
                        "marker": {
                          "colorbar": {
                            "outlinewidth": 0,
                            "ticks": ""
                          }
                        },
                        "type": "scattercarpet"
                      }
                    ],
                    "scattergeo": [
                      {
                        "marker": {
                          "colorbar": {
                            "outlinewidth": 0,
                            "ticks": ""
                          }
                        },
                        "type": "scattergeo"
                      }
                    ],
                    "scattergl": [
                      {
                        "marker": {
                          "colorbar": {
                            "outlinewidth": 0,
                            "ticks": ""
                          }
                        },
                        "type": "scattergl"
                      }
                    ],
                    "scattermapbox": [
                      {
                        "marker": {
                          "colorbar": {
                            "outlinewidth": 0,
                            "ticks": ""
                          }
                        },
                        "type": "scattermapbox"
                      }
                    ],
                    "scatterpolar": [
                      {
                        "marker": {
                          "colorbar": {
                            "outlinewidth": 0,
                            "ticks": ""
                          }
                        },
                        "type": "scatterpolar"
                      }
                    ],
                    "scatterpolargl": [
                      {
                        "marker": {
                          "colorbar": {
                            "outlinewidth": 0,
                            "ticks": ""
                          }
                        },
                        "type": "scatterpolargl"
                      }
                    ],
                    "scatterternary": [
                      {
                        "marker": {
                          "colorbar": {
                            "outlinewidth": 0,
                            "ticks": ""
                          }
                        },
                        "type": "scatterternary"
                      }
                    ],
                    "surface": [
                      {
                        "colorbar": {
                          "outlinewidth": 0,
                          "ticks": ""
                        },
                        "colorscale": [
                          [
                            0,
                            "#0d0887"
                          ],
                          [
                            0.1111111111111111,
                            "#46039f"
                          ],
                          [
                            0.2222222222222222,
                            "#7201a8"
                          ],
                          [
                            0.3333333333333333,
                            "#9c179e"
                          ],
                          [
                            0.4444444444444444,
                            "#bd3786"
                          ],
                          [
                            0.5555555555555556,
                            "#d8576b"
                          ],
                          [
                            0.6666666666666666,
                            "#ed7953"
                          ],
                          [
                            0.7777777777777778,
                            "#fb9f3a"
                          ],
                          [
                            0.8888888888888888,
                            "#fdca26"
                          ],
                          [
                            1,
                            "#f0f921"
                          ]
                        ],
                        "type": "surface"
                      }
                    ],
                    "table": [
                      {
                        "cells": {
                          "fill": {
                            "color": "#EBF0F8"
                          },
                          "line": {
                            "color": "white"
                          }
                        },
                        "header": {
                          "fill": {
                            "color": "#C8D4E3"
                          },
                          "line": {
                            "color": "white"
                          }
                        },
                        "type": "table"
                      }
                    ]
                  },
                  "layout": {
                    "annotationdefaults": {
                      "arrowcolor": "#2a3f5f",
                      "arrowhead": 0,
                      "arrowwidth": 1
                    },
                    "autotypenumbers": "strict",
                    "coloraxis": {
                      "colorbar": {
                        "outlinewidth": 0,
                        "ticks": ""
                      }
                    },
                    "colorscale": {
                      "diverging": [
                        [
                          0,
                          "#8e0152"
                        ],
                        [
                          0.1,
                          "#c51b7d"
                        ],
                        [
                          0.2,
                          "#de77ae"
                        ],
                        [
                          0.3,
                          "#f1b6da"
                        ],
                        [
                          0.4,
                          "#fde0ef"
                        ],
                        [
                          0.5,
                          "#f7f7f7"
                        ],
                        [
                          0.6,
                          "#e6f5d0"
                        ],
                        [
                          0.7,
                          "#b8e186"
                        ],
                        [
                          0.8,
                          "#7fbc41"
                        ],
                        [
                          0.9,
                          "#4d9221"
                        ],
                        [
                          1,
                          "#276419"
                        ]
                      ],
                      "sequential": [
                        [
                          0,
                          "#0d0887"
                        ],
                        [
                          0.1111111111111111,
                          "#46039f"
                        ],
                        [
                          0.2222222222222222,
                          "#7201a8"
                        ],
                        [
                          0.3333333333333333,
                          "#9c179e"
                        ],
                        [
                          0.4444444444444444,
                          "#bd3786"
                        ],
                        [
                          0.5555555555555556,
                          "#d8576b"
                        ],
                        [
                          0.6666666666666666,
                          "#ed7953"
                        ],
                        [
                          0.7777777777777778,
                          "#fb9f3a"
                        ],
                        [
                          0.8888888888888888,
                          "#fdca26"
                        ],
                        [
                          1,
                          "#f0f921"
                        ]
                      ],
                      "sequentialminus": [
                        [
                          0,
                          "#0d0887"
                        ],
                        [
                          0.1111111111111111,
                          "#46039f"
                        ],
                        [
                          0.2222222222222222,
                          "#7201a8"
                        ],
                        [
                          0.3333333333333333,
                          "#9c179e"
                        ],
                        [
                          0.4444444444444444,
                          "#bd3786"
                        ],
                        [
                          0.5555555555555556,
                          "#d8576b"
                        ],
                        [
                          0.6666666666666666,
                          "#ed7953"
                        ],
                        [
                          0.7777777777777778,
                          "#fb9f3a"
                        ],
                        [
                          0.8888888888888888,
                          "#fdca26"
                        ],
                        [
                          1,
                          "#f0f921"
                        ]
                      ]
                    },
                    "colorway": [
                      "#636efa",
                      "#EF553B",
                      "#00cc96",
                      "#ab63fa",
                      "#FFA15A",
                      "#19d3f3",
                      "#FF6692",
                      "#B6E880",
                      "#FF97FF",
                      "#FECB52"
                    ],
                    "font": {
                      "color": "#2a3f5f"
                    },
                    "geo": {
                      "bgcolor": "white",
                      "lakecolor": "white",
                      "landcolor": "#E5ECF6",
                      "showlakes": true,
                      "showland": true,
                      "subunitcolor": "white"
                    },
                    "hoverlabel": {
                      "align": "left"
                    },
                    "hovermode": "closest",
                    "mapbox": {
                      "style": "light"
                    },
                    "paper_bgcolor": "white",
                    "plot_bgcolor": "#E5ECF6",
                    "polar": {
                      "angularaxis": {
                        "gridcolor": "white",
                        "linecolor": "white",
                        "ticks": ""
                      },
                      "bgcolor": "#E5ECF6",
                      "radialaxis": {
                        "gridcolor": "white",
                        "linecolor": "white",
                        "ticks": ""
                      }
                    },
                    "scene": {
                      "xaxis": {
                        "backgroundcolor": "#E5ECF6",
                        "gridcolor": "white",
                        "gridwidth": 2,
                        "linecolor": "white",
                        "showbackground": true,
                        "ticks": "",
                        "zerolinecolor": "white"
                      },
                      "yaxis": {
                        "backgroundcolor": "#E5ECF6",
                        "gridcolor": "white",
                        "gridwidth": 2,
                        "linecolor": "white",
                        "showbackground": true,
                        "ticks": "",
                        "zerolinecolor": "white"
                      },
                      "zaxis": {
                        "backgroundcolor": "#E5ECF6",
                        "gridcolor": "white",
                        "gridwidth": 2,
                        "linecolor": "white",
                        "showbackground": true,
                        "ticks": "",
                        "zerolinecolor": "white"
                      }
                    },
                    "shapedefaults": {
                      "line": {
                        "color": "#2a3f5f"
                      }
                    },
                    "ternary": {
                      "aaxis": {
                        "gridcolor": "white",
                        "linecolor": "white",
                        "ticks": ""
                      },
                      "baxis": {
                        "gridcolor": "white",
                        "linecolor": "white",
                        "ticks": ""
                      },
                      "bgcolor": "#E5ECF6",
                      "caxis": {
                        "gridcolor": "white",
                        "linecolor": "white",
                        "ticks": ""
                      }
                    },
                    "title": {
                      "x": 0.05
                    },
                    "xaxis": {
                      "automargin": true,
                      "gridcolor": "white",
                      "linecolor": "white",
                      "ticks": "",
                      "title": {
                        "standoff": 15
                      },
                      "zerolinecolor": "white",
                      "zerolinewidth": 2
                    },
                    "yaxis": {
                      "automargin": true,
                      "gridcolor": "white",
                      "linecolor": "white",
                      "ticks": "",
                      "title": {
                        "standoff": 15
                      },
                      "zerolinecolor": "white",
                      "zerolinewidth": 2
                    }
                  }
                },
                "title": {
                  "text": "Top 20 Cities by YC Company Count"
                },
                "xaxis": {
                  "title": {
                    "text": "Number of Companies"
                  }
                }
              }
            }
          },
          "metadata": {},
          "output_type": "display_data"
        },
        {
          "data": {
            "application/vnd.plotly.v1+json": {
              "config": {
                "plotlyServerURL": "https://plot.ly"
              },
              "data": [
                {
                  "marker": {
                    "color": "#00CC66"
                  },
                  "name": "Success Rate %",
                  "type": "bar",
                  "x": [
                    "DK",
                    "ES",
                    "NL",
                    "CA",
                    "US",
                    "IL",
                    "FR",
                    "SG",
                    "BR",
                    "CH"
                  ],
                  "xaxis": "x",
                  "y": [
                    21.4,
                    18.8,
                    18.2,
                    16.7,
                    15.4,
                    14.299999999999999,
                    14.299999999999999,
                    11.799999999999999,
                    10.2,
                    10
                  ],
                  "yaxis": "y"
                },
                {
                  "marker": {
                    "color": "#0099FF"
                  },
                  "name": "Company Count",
                  "type": "bar",
                  "x": [
                    "DK",
                    "ES",
                    "NL",
                    "CA",
                    "US",
                    "IL",
                    "FR",
                    "SG",
                    "BR",
                    "CH"
                  ],
                  "xaxis": "x2",
                  "y": [
                    14,
                    16,
                    11,
                    138,
                    3725,
                    28,
                    56,
                    51,
                    49,
                    10
                  ],
                  "yaxis": "y2"
                },
                {
                  "marker": {
                    "color": "#FF6600"
                  },
                  "name": "Cities",
                  "orientation": "h",
                  "type": "bar",
                  "x": [
                    1986,
                    523,
                    132,
                    109,
                    107,
                    94,
                    85,
                    75,
                    61,
                    55
                  ],
                  "xaxis": "x3",
                  "y": [
                    "San Francisco",
                    "New York",
                    "London, United Kingdom",
                    "Bengaluru, India",
                    "Los Angeles, CA",
                    "Palo Alto",
                    "Mountain View",
                    "Toronto, Canada",
                    "Boston",
                    "Paris, France"
                  ],
                  "yaxis": "y3"
                },
                {
                  "domain": {
                    "x": [
                      0.55,
                      1
                    ],
                    "y": [
                      0,
                      0.375
                    ]
                  },
                  "labels": [
                    "US",
                    "IN",
                    "GB",
                    "CA",
                    "MX",
                    "FR",
                    "NG",
                    "SG",
                    "BR",
                    "DE"
                  ],
                  "name": "Geographic Distribution",
                  "type": "pie",
                  "values": [
                    3725,
                    197,
                    151,
                    138,
                    80,
                    56,
                    55,
                    51,
                    49,
                    46
                  ]
                }
              ],
              "layout": {
                "annotations": [
                  {
                    "font": {
                      "size": 16
                    },
                    "showarrow": false,
                    "text": "Success Rate by Country",
                    "x": 0.225,
                    "xanchor": "center",
                    "xref": "paper",
                    "y": 1,
                    "yanchor": "bottom",
                    "yref": "paper"
                  },
                  {
                    "font": {
                      "size": 16
                    },
                    "showarrow": false,
                    "text": "Company Count by Country",
                    "x": 0.775,
                    "xanchor": "center",
                    "xref": "paper",
                    "y": 1,
                    "yanchor": "bottom",
                    "yref": "paper"
                  },
                  {
                    "font": {
                      "size": 16
                    },
                    "showarrow": false,
                    "text": "Top Cities by Company Count",
                    "x": 0.225,
                    "xanchor": "center",
                    "xref": "paper",
                    "y": 0.375,
                    "yanchor": "bottom",
                    "yref": "paper"
                  },
                  {
                    "font": {
                      "size": 16
                    },
                    "showarrow": false,
                    "text": "Geographic Distribution",
                    "x": 0.775,
                    "xanchor": "center",
                    "xref": "paper",
                    "y": 0.375,
                    "yanchor": "bottom",
                    "yref": "paper"
                  }
                ],
                "height": 800,
                "showlegend": false,
                "template": {
                  "data": {
                    "bar": [
                      {
                        "error_x": {
                          "color": "#2a3f5f"
                        },
                        "error_y": {
                          "color": "#2a3f5f"
                        },
                        "marker": {
                          "line": {
                            "color": "#E5ECF6",
                            "width": 0.5
                          },
                          "pattern": {
                            "fillmode": "overlay",
                            "size": 10,
                            "solidity": 0.2
                          }
                        },
                        "type": "bar"
                      }
                    ],
                    "barpolar": [
                      {
                        "marker": {
                          "line": {
                            "color": "#E5ECF6",
                            "width": 0.5
                          },
                          "pattern": {
                            "fillmode": "overlay",
                            "size": 10,
                            "solidity": 0.2
                          }
                        },
                        "type": "barpolar"
                      }
                    ],
                    "carpet": [
                      {
                        "aaxis": {
                          "endlinecolor": "#2a3f5f",
                          "gridcolor": "white",
                          "linecolor": "white",
                          "minorgridcolor": "white",
                          "startlinecolor": "#2a3f5f"
                        },
                        "baxis": {
                          "endlinecolor": "#2a3f5f",
                          "gridcolor": "white",
                          "linecolor": "white",
                          "minorgridcolor": "white",
                          "startlinecolor": "#2a3f5f"
                        },
                        "type": "carpet"
                      }
                    ],
                    "choropleth": [
                      {
                        "colorbar": {
                          "outlinewidth": 0,
                          "ticks": ""
                        },
                        "type": "choropleth"
                      }
                    ],
                    "contour": [
                      {
                        "colorbar": {
                          "outlinewidth": 0,
                          "ticks": ""
                        },
                        "colorscale": [
                          [
                            0,
                            "#0d0887"
                          ],
                          [
                            0.1111111111111111,
                            "#46039f"
                          ],
                          [
                            0.2222222222222222,
                            "#7201a8"
                          ],
                          [
                            0.3333333333333333,
                            "#9c179e"
                          ],
                          [
                            0.4444444444444444,
                            "#bd3786"
                          ],
                          [
                            0.5555555555555556,
                            "#d8576b"
                          ],
                          [
                            0.6666666666666666,
                            "#ed7953"
                          ],
                          [
                            0.7777777777777778,
                            "#fb9f3a"
                          ],
                          [
                            0.8888888888888888,
                            "#fdca26"
                          ],
                          [
                            1,
                            "#f0f921"
                          ]
                        ],
                        "type": "contour"
                      }
                    ],
                    "contourcarpet": [
                      {
                        "colorbar": {
                          "outlinewidth": 0,
                          "ticks": ""
                        },
                        "type": "contourcarpet"
                      }
                    ],
                    "heatmap": [
                      {
                        "colorbar": {
                          "outlinewidth": 0,
                          "ticks": ""
                        },
                        "colorscale": [
                          [
                            0,
                            "#0d0887"
                          ],
                          [
                            0.1111111111111111,
                            "#46039f"
                          ],
                          [
                            0.2222222222222222,
                            "#7201a8"
                          ],
                          [
                            0.3333333333333333,
                            "#9c179e"
                          ],
                          [
                            0.4444444444444444,
                            "#bd3786"
                          ],
                          [
                            0.5555555555555556,
                            "#d8576b"
                          ],
                          [
                            0.6666666666666666,
                            "#ed7953"
                          ],
                          [
                            0.7777777777777778,
                            "#fb9f3a"
                          ],
                          [
                            0.8888888888888888,
                            "#fdca26"
                          ],
                          [
                            1,
                            "#f0f921"
                          ]
                        ],
                        "type": "heatmap"
                      }
                    ],
                    "heatmapgl": [
                      {
                        "colorbar": {
                          "outlinewidth": 0,
                          "ticks": ""
                        },
                        "colorscale": [
                          [
                            0,
                            "#0d0887"
                          ],
                          [
                            0.1111111111111111,
                            "#46039f"
                          ],
                          [
                            0.2222222222222222,
                            "#7201a8"
                          ],
                          [
                            0.3333333333333333,
                            "#9c179e"
                          ],
                          [
                            0.4444444444444444,
                            "#bd3786"
                          ],
                          [
                            0.5555555555555556,
                            "#d8576b"
                          ],
                          [
                            0.6666666666666666,
                            "#ed7953"
                          ],
                          [
                            0.7777777777777778,
                            "#fb9f3a"
                          ],
                          [
                            0.8888888888888888,
                            "#fdca26"
                          ],
                          [
                            1,
                            "#f0f921"
                          ]
                        ],
                        "type": "heatmapgl"
                      }
                    ],
                    "histogram": [
                      {
                        "marker": {
                          "pattern": {
                            "fillmode": "overlay",
                            "size": 10,
                            "solidity": 0.2
                          }
                        },
                        "type": "histogram"
                      }
                    ],
                    "histogram2d": [
                      {
                        "colorbar": {
                          "outlinewidth": 0,
                          "ticks": ""
                        },
                        "colorscale": [
                          [
                            0,
                            "#0d0887"
                          ],
                          [
                            0.1111111111111111,
                            "#46039f"
                          ],
                          [
                            0.2222222222222222,
                            "#7201a8"
                          ],
                          [
                            0.3333333333333333,
                            "#9c179e"
                          ],
                          [
                            0.4444444444444444,
                            "#bd3786"
                          ],
                          [
                            0.5555555555555556,
                            "#d8576b"
                          ],
                          [
                            0.6666666666666666,
                            "#ed7953"
                          ],
                          [
                            0.7777777777777778,
                            "#fb9f3a"
                          ],
                          [
                            0.8888888888888888,
                            "#fdca26"
                          ],
                          [
                            1,
                            "#f0f921"
                          ]
                        ],
                        "type": "histogram2d"
                      }
                    ],
                    "histogram2dcontour": [
                      {
                        "colorbar": {
                          "outlinewidth": 0,
                          "ticks": ""
                        },
                        "colorscale": [
                          [
                            0,
                            "#0d0887"
                          ],
                          [
                            0.1111111111111111,
                            "#46039f"
                          ],
                          [
                            0.2222222222222222,
                            "#7201a8"
                          ],
                          [
                            0.3333333333333333,
                            "#9c179e"
                          ],
                          [
                            0.4444444444444444,
                            "#bd3786"
                          ],
                          [
                            0.5555555555555556,
                            "#d8576b"
                          ],
                          [
                            0.6666666666666666,
                            "#ed7953"
                          ],
                          [
                            0.7777777777777778,
                            "#fb9f3a"
                          ],
                          [
                            0.8888888888888888,
                            "#fdca26"
                          ],
                          [
                            1,
                            "#f0f921"
                          ]
                        ],
                        "type": "histogram2dcontour"
                      }
                    ],
                    "mesh3d": [
                      {
                        "colorbar": {
                          "outlinewidth": 0,
                          "ticks": ""
                        },
                        "type": "mesh3d"
                      }
                    ],
                    "parcoords": [
                      {
                        "line": {
                          "colorbar": {
                            "outlinewidth": 0,
                            "ticks": ""
                          }
                        },
                        "type": "parcoords"
                      }
                    ],
                    "pie": [
                      {
                        "automargin": true,
                        "type": "pie"
                      }
                    ],
                    "scatter": [
                      {
                        "fillpattern": {
                          "fillmode": "overlay",
                          "size": 10,
                          "solidity": 0.2
                        },
                        "type": "scatter"
                      }
                    ],
                    "scatter3d": [
                      {
                        "line": {
                          "colorbar": {
                            "outlinewidth": 0,
                            "ticks": ""
                          }
                        },
                        "marker": {
                          "colorbar": {
                            "outlinewidth": 0,
                            "ticks": ""
                          }
                        },
                        "type": "scatter3d"
                      }
                    ],
                    "scattercarpet": [
                      {
                        "marker": {
                          "colorbar": {
                            "outlinewidth": 0,
                            "ticks": ""
                          }
                        },
                        "type": "scattercarpet"
                      }
                    ],
                    "scattergeo": [
                      {
                        "marker": {
                          "colorbar": {
                            "outlinewidth": 0,
                            "ticks": ""
                          }
                        },
                        "type": "scattergeo"
                      }
                    ],
                    "scattergl": [
                      {
                        "marker": {
                          "colorbar": {
                            "outlinewidth": 0,
                            "ticks": ""
                          }
                        },
                        "type": "scattergl"
                      }
                    ],
                    "scattermapbox": [
                      {
                        "marker": {
                          "colorbar": {
                            "outlinewidth": 0,
                            "ticks": ""
                          }
                        },
                        "type": "scattermapbox"
                      }
                    ],
                    "scatterpolar": [
                      {
                        "marker": {
                          "colorbar": {
                            "outlinewidth": 0,
                            "ticks": ""
                          }
                        },
                        "type": "scatterpolar"
                      }
                    ],
                    "scatterpolargl": [
                      {
                        "marker": {
                          "colorbar": {
                            "outlinewidth": 0,
                            "ticks": ""
                          }
                        },
                        "type": "scatterpolargl"
                      }
                    ],
                    "scatterternary": [
                      {
                        "marker": {
                          "colorbar": {
                            "outlinewidth": 0,
                            "ticks": ""
                          }
                        },
                        "type": "scatterternary"
                      }
                    ],
                    "surface": [
                      {
                        "colorbar": {
                          "outlinewidth": 0,
                          "ticks": ""
                        },
                        "colorscale": [
                          [
                            0,
                            "#0d0887"
                          ],
                          [
                            0.1111111111111111,
                            "#46039f"
                          ],
                          [
                            0.2222222222222222,
                            "#7201a8"
                          ],
                          [
                            0.3333333333333333,
                            "#9c179e"
                          ],
                          [
                            0.4444444444444444,
                            "#bd3786"
                          ],
                          [
                            0.5555555555555556,
                            "#d8576b"
                          ],
                          [
                            0.6666666666666666,
                            "#ed7953"
                          ],
                          [
                            0.7777777777777778,
                            "#fb9f3a"
                          ],
                          [
                            0.8888888888888888,
                            "#fdca26"
                          ],
                          [
                            1,
                            "#f0f921"
                          ]
                        ],
                        "type": "surface"
                      }
                    ],
                    "table": [
                      {
                        "cells": {
                          "fill": {
                            "color": "#EBF0F8"
                          },
                          "line": {
                            "color": "white"
                          }
                        },
                        "header": {
                          "fill": {
                            "color": "#C8D4E3"
                          },
                          "line": {
                            "color": "white"
                          }
                        },
                        "type": "table"
                      }
                    ]
                  },
                  "layout": {
                    "annotationdefaults": {
                      "arrowcolor": "#2a3f5f",
                      "arrowhead": 0,
                      "arrowwidth": 1
                    },
                    "autotypenumbers": "strict",
                    "coloraxis": {
                      "colorbar": {
                        "outlinewidth": 0,
                        "ticks": ""
                      }
                    },
                    "colorscale": {
                      "diverging": [
                        [
                          0,
                          "#8e0152"
                        ],
                        [
                          0.1,
                          "#c51b7d"
                        ],
                        [
                          0.2,
                          "#de77ae"
                        ],
                        [
                          0.3,
                          "#f1b6da"
                        ],
                        [
                          0.4,
                          "#fde0ef"
                        ],
                        [
                          0.5,
                          "#f7f7f7"
                        ],
                        [
                          0.6,
                          "#e6f5d0"
                        ],
                        [
                          0.7,
                          "#b8e186"
                        ],
                        [
                          0.8,
                          "#7fbc41"
                        ],
                        [
                          0.9,
                          "#4d9221"
                        ],
                        [
                          1,
                          "#276419"
                        ]
                      ],
                      "sequential": [
                        [
                          0,
                          "#0d0887"
                        ],
                        [
                          0.1111111111111111,
                          "#46039f"
                        ],
                        [
                          0.2222222222222222,
                          "#7201a8"
                        ],
                        [
                          0.3333333333333333,
                          "#9c179e"
                        ],
                        [
                          0.4444444444444444,
                          "#bd3786"
                        ],
                        [
                          0.5555555555555556,
                          "#d8576b"
                        ],
                        [
                          0.6666666666666666,
                          "#ed7953"
                        ],
                        [
                          0.7777777777777778,
                          "#fb9f3a"
                        ],
                        [
                          0.8888888888888888,
                          "#fdca26"
                        ],
                        [
                          1,
                          "#f0f921"
                        ]
                      ],
                      "sequentialminus": [
                        [
                          0,
                          "#0d0887"
                        ],
                        [
                          0.1111111111111111,
                          "#46039f"
                        ],
                        [
                          0.2222222222222222,
                          "#7201a8"
                        ],
                        [
                          0.3333333333333333,
                          "#9c179e"
                        ],
                        [
                          0.4444444444444444,
                          "#bd3786"
                        ],
                        [
                          0.5555555555555556,
                          "#d8576b"
                        ],
                        [
                          0.6666666666666666,
                          "#ed7953"
                        ],
                        [
                          0.7777777777777778,
                          "#fb9f3a"
                        ],
                        [
                          0.8888888888888888,
                          "#fdca26"
                        ],
                        [
                          1,
                          "#f0f921"
                        ]
                      ]
                    },
                    "colorway": [
                      "#636efa",
                      "#EF553B",
                      "#00cc96",
                      "#ab63fa",
                      "#FFA15A",
                      "#19d3f3",
                      "#FF6692",
                      "#B6E880",
                      "#FF97FF",
                      "#FECB52"
                    ],
                    "font": {
                      "color": "#2a3f5f"
                    },
                    "geo": {
                      "bgcolor": "white",
                      "lakecolor": "white",
                      "landcolor": "#E5ECF6",
                      "showlakes": true,
                      "showland": true,
                      "subunitcolor": "white"
                    },
                    "hoverlabel": {
                      "align": "left"
                    },
                    "hovermode": "closest",
                    "mapbox": {
                      "style": "light"
                    },
                    "paper_bgcolor": "white",
                    "plot_bgcolor": "#E5ECF6",
                    "polar": {
                      "angularaxis": {
                        "gridcolor": "white",
                        "linecolor": "white",
                        "ticks": ""
                      },
                      "bgcolor": "#E5ECF6",
                      "radialaxis": {
                        "gridcolor": "white",
                        "linecolor": "white",
                        "ticks": ""
                      }
                    },
                    "scene": {
                      "xaxis": {
                        "backgroundcolor": "#E5ECF6",
                        "gridcolor": "white",
                        "gridwidth": 2,
                        "linecolor": "white",
                        "showbackground": true,
                        "ticks": "",
                        "zerolinecolor": "white"
                      },
                      "yaxis": {
                        "backgroundcolor": "#E5ECF6",
                        "gridcolor": "white",
                        "gridwidth": 2,
                        "linecolor": "white",
                        "showbackground": true,
                        "ticks": "",
                        "zerolinecolor": "white"
                      },
                      "zaxis": {
                        "backgroundcolor": "#E5ECF6",
                        "gridcolor": "white",
                        "gridwidth": 2,
                        "linecolor": "white",
                        "showbackground": true,
                        "ticks": "",
                        "zerolinecolor": "white"
                      }
                    },
                    "shapedefaults": {
                      "line": {
                        "color": "#2a3f5f"
                      }
                    },
                    "ternary": {
                      "aaxis": {
                        "gridcolor": "white",
                        "linecolor": "white",
                        "ticks": ""
                      },
                      "baxis": {
                        "gridcolor": "white",
                        "linecolor": "white",
                        "ticks": ""
                      },
                      "bgcolor": "#E5ECF6",
                      "caxis": {
                        "gridcolor": "white",
                        "linecolor": "white",
                        "ticks": ""
                      }
                    },
                    "title": {
                      "x": 0.05
                    },
                    "xaxis": {
                      "automargin": true,
                      "gridcolor": "white",
                      "linecolor": "white",
                      "ticks": "",
                      "title": {
                        "standoff": 15
                      },
                      "zerolinecolor": "white",
                      "zerolinewidth": 2
                    },
                    "yaxis": {
                      "automargin": true,
                      "gridcolor": "white",
                      "linecolor": "white",
                      "ticks": "",
                      "title": {
                        "standoff": 15
                      },
                      "zerolinecolor": "white",
                      "zerolinewidth": 2
                    }
                  }
                },
                "title": {
                  "text": "Geographic Intelligence Dashboard (FIXED)"
                },
                "xaxis": {
                  "anchor": "y",
                  "domain": [
                    0,
                    0.45
                  ]
                },
                "xaxis2": {
                  "anchor": "y2",
                  "domain": [
                    0.55,
                    1
                  ]
                },
                "xaxis3": {
                  "anchor": "y3",
                  "domain": [
                    0,
                    0.45
                  ]
                },
                "yaxis": {
                  "anchor": "x",
                  "domain": [
                    0.625,
                    1
                  ]
                },
                "yaxis2": {
                  "anchor": "x2",
                  "domain": [
                    0.625,
                    1
                  ]
                },
                "yaxis3": {
                  "anchor": "x3",
                  "domain": [
                    0,
                    0.375
                  ]
                }
              }
            }
          },
          "metadata": {},
          "output_type": "display_data"
        }
      ],
      "source": [
        "# FIXED Geographic Dashboard - Corrected subplot specifications\n",
        "def create_geographic_dashboard():\n",
        "    \"\"\"Create comprehensive geographic dashboard with proper subplot specs\"\"\"\n",
        "    geo_stats = analyze_geographic_success()\n",
        "    city_stats = analyze_city_success()\n",
        "    \n",
        "    # Create geographic success map with CORRECT subplot specs\n",
        "    fig = make_subplots(\n",
        "        rows=2, cols=2,\n",
        "        subplot_titles=(\n",
        "            'Success Rate by Country',\n",
        "            'Company Count by Country', \n",
        "            'Top Cities by Company Count',\n",
        "            'Geographic Distribution'\n",
        "        ),\n",
        "        specs=[[{\"type\": \"bar\"}, {\"type\": \"bar\"}],\n",
        "               [{\"type\": \"bar\"}, {\"type\": \"pie\"}]]\n",
        "    )\n",
        "    \n",
        "    # 1. Success rate by country (top 10)\n",
        "    top_countries = geo_stats.head(10)\n",
        "    fig.add_trace(\n",
        "        go.Bar(x=top_countries.index, y=top_countries['Success_Rate']*100,\n",
        "               name='Success Rate %', marker_color='#00CC66'),\n",
        "        row=1, col=1\n",
        "    )\n",
        "    \n",
        "    # 2. Company count by country (top 10)\n",
        "    fig.add_trace(\n",
        "        go.Bar(x=top_countries.index, y=top_countries['Total'],\n",
        "               name='Company Count', marker_color='#0099FF'),\n",
        "        row=1, col=2\n",
        "    )\n",
        "    \n",
        "    # 3. Top cities\n",
        "    top_cities = city_stats.head(10)\n",
        "    fig.add_trace(\n",
        "        go.Bar(y=top_cities.index, x=top_cities['Total'],\n",
        "               orientation='h', name='Cities', marker_color='#FF6600'),\n",
        "        row=2, col=1\n",
        "    )\n",
        "    \n",
        "    # 4. Geographic distribution pie chart (PIE CHART - now properly specified)\n",
        "    geo_dist = df['country'].value_counts().head(10)\n",
        "    fig.add_trace(\n",
        "        go.Pie(labels=geo_dist.index, values=geo_dist.values,\n",
        "               name='Geographic Distribution'),\n",
        "        row=2, col=2\n",
        "    )\n",
        "    \n",
        "    fig.update_layout(height=800, showlegend=False, title_text=\"Geographic Intelligence Dashboard (FIXED)\")\n",
        "    fig.show()\n",
        "    \n",
        "    return geo_stats, city_stats\n",
        "\n",
        "# Run the FIXED geographic analysis\n",
        "print(\"🌍 Geographic Intelligence Analysis (FIXED)\")\n",
        "geo_results, city_results = create_geographic_dashboard()\n"
      ]
    },
    {
      "cell_type": "markdown",
      "metadata": {},
      "source": [
        "## 2.11. Predictive Analysis\n"
      ]
    },
    {
      "cell_type": "code",
      "execution_count": 69,
      "metadata": {},
      "outputs": [
        {
          "name": "stdout",
          "output_type": "stream",
          "text": [
            "🔧 Creating Enhanced Features for Predictive Modeling...\n",
            "📅 Creating temporal features...\n",
            "👥 Creating team composition features...\n",
            "🌍 Creating geographic features...\n",
            "🏭 Creating industry features...\n",
            "📝 Creating text features...\n",
            "🔗 Creating interaction features...\n",
            "📊 Creating statistical features...\n",
            "🧹 Final data validation...\n",
            "✅ Enhanced features created! Total features: 78\n",
            "📊 Data shape: (5463, 78)\n",
            "🔍 Infinity values: 0\n",
            "🔍 NaN values: 8294\n"
          ]
        }
      ],
      "source": [
        "# Enhanced Predictive Analysis with Improved Feature Engineering\n",
        "def create_enhanced_features(df):\n",
        "    \"\"\"Create advanced features for better predictive modeling\"\"\"\n",
        "    print(\"🔧 Creating Enhanced Features for Predictive Modeling...\")\n",
        "    \n",
        "    # Start with a copy of the dataframe\n",
        "    enhanced_df = df.copy()\n",
        "    \n",
        "    # 1. TEMPORAL FEATURES\n",
        "    print(\"📅 Creating temporal features...\")\n",
        "    \n",
        "    # Batch year features\n",
        "    enhanced_df['batch_year_numeric'] = pd.to_numeric(enhanced_df['batch_year'], errors='coerce')\n",
        "    enhanced_df['years_since_batch'] = 2025 - enhanced_df['batch_year_numeric']\n",
        "    enhanced_df['is_recent_batch'] = enhanced_df['batch_year_numeric'] >= 2020\n",
        "    enhanced_df['is_early_batch'] = enhanced_df['batch_year_numeric'] <= 2010\n",
        "    \n",
        "    # Company age features\n",
        "    enhanced_df['company_age_squared'] = enhanced_df['company_age'] ** 2\n",
        "    enhanced_df['company_age_log'] = np.log1p(enhanced_df['company_age'])\n",
        "    enhanced_df['is_young_company'] = enhanced_df['company_age'] <= 2\n",
        "    enhanced_df['is_old_company'] = enhanced_df['company_age'] >= 10\n",
        "    \n",
        "    # 2. TEAM COMPOSITION FEATURES\n",
        "    print(\"👥 Creating team composition features...\")\n",
        "    \n",
        "    # Founder team features\n",
        "    enhanced_df['is_solo_founder'] = enhanced_df['num_founders'] == 1\n",
        "    enhanced_df['is_team_founded'] = enhanced_df['num_founders'] > 1\n",
        "    \n",
        "    # Safe division to avoid infinity\n",
        "    enhanced_df['founder_team_size_ratio'] = np.where(\n",
        "        enhanced_df['num_founders'] > 0,\n",
        "        enhanced_df['team_size'] / enhanced_df['num_founders'],\n",
        "        1.0  # Default ratio when num_founders is 0\n",
        "    )\n",
        "    \n",
        "    enhanced_df['has_grown_team'] = enhanced_df['team_size'] > enhanced_df['num_founders']\n",
        "    \n",
        "    # Safe division for team growth rate\n",
        "    enhanced_df['team_growth_rate'] = np.where(\n",
        "        enhanced_df['num_founders'] > 0,\n",
        "        (enhanced_df['team_size'] - enhanced_df['num_founders']) / enhanced_df['num_founders'],\n",
        "        0.0  # No growth when num_founders is 0\n",
        "    )\n",
        "    \n",
        "    # Team size features\n",
        "    enhanced_df['team_size_log'] = np.log1p(enhanced_df['team_size'])\n",
        "    enhanced_df['is_small_team'] = enhanced_df['team_size'] <= 3\n",
        "    enhanced_df['is_large_team'] = enhanced_df['team_size'] >= 20\n",
        "    \n",
        "    # 3. GEOGRAPHIC FEATURES\n",
        "    print(\"🌍 Creating geographic features...\")\n",
        "    \n",
        "    # Location hierarchy\n",
        "    enhanced_df['is_sf_bay'] = enhanced_df['location'].str.contains('San Francisco|Palo Alto|Mountain View|Menlo Park|Redwood City', case=False, na=False)\n",
        "    enhanced_df['is_nyc'] = enhanced_df['location'].str.contains('New York|Brooklyn|Manhattan', case=False, na=False)\n",
        "    enhanced_df['is_london'] = enhanced_df['location'].str.contains('London', case=False, na=False)\n",
        "    enhanced_df['is_tel_aviv'] = enhanced_df['location'].str.contains('Tel Aviv', case=False, na=False)\n",
        "    \n",
        "    # Geographic clustering\n",
        "    enhanced_df['is_tier1_city'] = enhanced_df['is_sf_bay'] | enhanced_df['is_nyc'] | enhanced_df['is_london']\n",
        "    enhanced_df['is_international'] = ~enhanced_df['is_us']\n",
        "    \n",
        "    # 4. INDUSTRY FEATURES\n",
        "    print(\"🏭 Creating industry features...\")\n",
        "    \n",
        "    # Industry diversity\n",
        "    enhanced_df['num_tags'] = enhanced_df['tags'].apply(lambda x: len(x) if isinstance(x, list) else 0)\n",
        "    enhanced_df['industry_diversity'] = enhanced_df['num_tags'] / 10  # Normalize\n",
        "    enhanced_df['is_high_diversity'] = enhanced_df['num_tags'] >= 5\n",
        "    enhanced_df['is_low_diversity'] = enhanced_df['num_tags'] <= 2\n",
        "    \n",
        "    # Specific industry features\n",
        "    enhanced_df['is_ai'] = enhanced_df['tags'].apply(lambda x: any('ai' in str(tag).lower() or 'machine-learning' in str(tag).lower() for tag in x) if isinstance(x, list) else False)\n",
        "    enhanced_df['is_b2b'] = enhanced_df['tags'].apply(lambda x: any('b2b' in str(tag).lower() or 'saas' in str(tag).lower() for tag in x) if isinstance(x, list) else False)\n",
        "    enhanced_df['is_fintech'] = enhanced_df['tags'].apply(lambda x: any('fintech' in str(tag).lower() or 'financial' in str(tag).lower() for tag in x) if isinstance(x, list) else False)\n",
        "    enhanced_df['is_healthcare'] = enhanced_df['tags'].apply(lambda x: any('health' in str(tag).lower() or 'medical' in str(tag).lower() for tag in x) if isinstance(x, list) else False)\n",
        "    enhanced_df['is_edtech'] = enhanced_df['tags'].apply(lambda x: any('education' in str(tag).lower() or 'edtech' in str(tag).lower() for tag in x) if isinstance(x, list) else False)\n",
        "    \n",
        "    # Industry combination features\n",
        "    enhanced_df['is_ai_b2b'] = enhanced_df['is_ai'] & enhanced_df['is_b2b']\n",
        "    enhanced_df['is_ai_fintech'] = enhanced_df['is_ai'] & enhanced_df['is_fintech']\n",
        "    \n",
        "    # 5. TEXT FEATURES\n",
        "    print(\"📝 Creating text features...\")\n",
        "    \n",
        "    # Description length features\n",
        "    enhanced_df['description_length'] = enhanced_df['short_description'].str.len().fillna(0)\n",
        "    enhanced_df['description_word_count'] = enhanced_df['short_description'].str.split().str.len().fillna(0)\n",
        "    \n",
        "    # Safe division for average word length\n",
        "    enhanced_df['avg_word_length'] = np.where(\n",
        "        enhanced_df['description_word_count'] > 0,\n",
        "        enhanced_df['description_length'] / enhanced_df['description_word_count'],\n",
        "        0.0  # Default when no words\n",
        "    )\n",
        "    \n",
        "    # Description sentiment (simplified)\n",
        "    enhanced_df['has_positive_words'] = enhanced_df['short_description'].str.contains('innovative|revolutionary|breakthrough|leading|advanced', case=False, na=False)\n",
        "    enhanced_df['has_tech_words'] = enhanced_df['short_description'].str.contains('platform|software|technology|digital|data', case=False, na=False)\n",
        "    \n",
        "    # 6. INTERACTION FEATURES\n",
        "    print(\"🔗 Creating interaction features...\")\n",
        "    \n",
        "    # Geographic + Industry interactions\n",
        "    enhanced_df['sf_bay_ai'] = enhanced_df['is_sf_bay'] & enhanced_df['is_ai']\n",
        "    enhanced_df['international_b2b'] = enhanced_df['is_international'] & enhanced_df['is_b2b']\n",
        "    \n",
        "    # Team + Industry interactions\n",
        "    enhanced_df['solo_ai'] = enhanced_df['is_solo_founder'] & enhanced_df['is_ai']\n",
        "    enhanced_df['team_b2b'] = enhanced_df['is_team_founded'] & enhanced_df['is_b2b']\n",
        "    \n",
        "    # Age + Industry interactions\n",
        "    enhanced_df['young_ai'] = enhanced_df['is_young_company'] & enhanced_df['is_ai']\n",
        "    enhanced_df['old_b2b'] = enhanced_df['is_old_company'] & enhanced_df['is_b2b']\n",
        "    \n",
        "    # 7. STATISTICAL FEATURES\n",
        "    print(\"📊 Creating statistical features...\")\n",
        "    \n",
        "    # Z-scores for continuous variables\n",
        "    for col in ['company_age', 'team_size', 'num_tags', 'description_length']:\n",
        "        if col in enhanced_df.columns:\n",
        "            enhanced_df[f'{col}_zscore'] = (enhanced_df[col] - enhanced_df[col].mean()) / enhanced_df[col].std()\n",
        "    \n",
        "    # Percentile rankings\n",
        "    for col in ['company_age', 'team_size', 'num_tags']:\n",
        "        if col in enhanced_df.columns:\n",
        "            enhanced_df[f'{col}_percentile'] = enhanced_df[col].rank(pct=True)\n",
        "    \n",
        "    # Final data validation and cleaning\n",
        "    print(\"🧹 Final data validation...\")\n",
        "    \n",
        "    # Replace any remaining infinity values\n",
        "    numeric_cols = enhanced_df.select_dtypes(include=[np.number]).columns\n",
        "    for col in numeric_cols:\n",
        "        if enhanced_df[col].isin([np.inf, -np.inf]).any():\n",
        "            print(f\"  ⚠️  Found infinity in {col}, replacing with median...\")\n",
        "            median_val = enhanced_df[col].replace([np.inf, -np.inf], np.nan).median()\n",
        "            enhanced_df[col] = enhanced_df[col].replace([np.inf, -np.inf], median_val)\n",
        "    \n",
        "    # Cap extremely large values\n",
        "    for col in numeric_cols:\n",
        "        if enhanced_df[col].abs().max() > 1e10:\n",
        "            print(f\"  ⚠️  Found extremely large values in {col}, capping...\")\n",
        "            enhanced_df[col] = enhanced_df[col].clip(-1e10, 1e10)\n",
        "    \n",
        "    print(f\"✅ Enhanced features created! Total features: {len(enhanced_df.columns)}\")\n",
        "    print(f\"📊 Data shape: {enhanced_df.shape}\")\n",
        "    print(f\"🔍 Infinity values: {enhanced_df.isin([np.inf, -np.inf]).sum().sum()}\")\n",
        "    print(f\"🔍 NaN values: {enhanced_df.isnull().sum().sum()}\")\n",
        "    \n",
        "    return enhanced_df\n",
        "\n",
        "# Create enhanced features\n",
        "enhanced_df = create_enhanced_features(df)\n"
      ]
    },
    {
      "cell_type": "code",
      "execution_count": 70,
      "metadata": {},
      "outputs": [
        {
          "name": "stdout",
          "output_type": "stream",
          "text": [
            "🤖 Building Enhanced Predictive Model with Advanced Features...\n",
            "📊 Selected 57 features for modeling\n",
            "📊 Dataset Info:\n",
            "  Total samples: 2,998\n",
            "  Successful: 408 (13.6%)\n",
            "  Features: 57\n",
            "  ⚠️  Class imbalance: 6.3:1 ratio\n",
            "🧹 Cleaning data for modeling...\n",
            "  ✅ Data cleaned: 2998 samples, 57 features\n",
            "📏 Scaling features...\n",
            "  ✅ Features scaled successfully\n",
            "\n",
            "🤖 Training Multiple Models...\n",
            "  Training Logistic Regression...\n",
            "    ROC-AUC: 0.743, CV: 0.730 (±0.032)\n",
            "  Training Random Forest...\n",
            "    ROC-AUC: 0.722, CV: 0.706 (±0.031)\n",
            "  Training Gradient Boosting...\n",
            "    ROC-AUC: 0.729, CV: 0.716 (±0.030)\n",
            "  Training SVM...\n",
            "    ROC-AUC: 0.723, CV: 0.705 (±0.030)\n",
            "\n",
            "🏆 Best Model: Logistic Regression\n",
            "  ROC-AUC: 0.743\n",
            "  Cross-Val: 0.730 (±0.032)\n",
            "\n",
            "📊 Detailed Classification Report (Logistic Regression):\n",
            "                precision    recall  f1-score   support\n",
            "\n",
            "Not Successful       0.93      0.70      0.80       518\n",
            "    Successful       0.26      0.67      0.38        82\n",
            "\n",
            "      accuracy                           0.69       600\n",
            "     macro avg       0.60      0.68      0.59       600\n",
            "  weighted avg       0.84      0.69      0.74       600\n",
            "\n",
            "\n",
            "📊 Confusion Matrix:\n",
            "  True Negatives: 362\n",
            "  False Positives: 156\n",
            "  False Negatives: 27\n",
            "  True Positives: 55\n"
          ]
        }
      ],
      "source": [
        "# Enhanced Predictive Model with Advanced Feature Engineering\n",
        "def build_enhanced_prediction_model(enhanced_df):\n",
        "    \"\"\"Build advanced ML model with enhanced feature engineering\"\"\"\n",
        "    from sklearn.ensemble import RandomForestClassifier, GradientBoostingClassifier\n",
        "    from sklearn.linear_model import LogisticRegression\n",
        "    from sklearn.svm import SVC\n",
        "    from sklearn.model_selection import cross_val_score, GridSearchCV\n",
        "    from sklearn.metrics import classification_report, confusion_matrix, roc_auc_score\n",
        "    from sklearn.preprocessing import StandardScaler, LabelEncoder\n",
        "    import numpy as np\n",
        "    \n",
        "    print(\"🤖 Building Enhanced Predictive Model with Advanced Features...\")\n",
        "    \n",
        "    # Use mature companies only\n",
        "    mature_df = enhanced_df[enhanced_df['is_mature']].copy()\n",
        "    \n",
        "    # Select features for modeling (exclude target and non-predictive columns)\n",
        "    exclude_cols = [\n",
        "        'is_successful', 'company_id', 'company_name', 'short_description', \n",
        "        'tags', 'location', 'country', 'status', 'batch', 'year_founded',\n",
        "        'batch_year', 'batch_season', 'is_mature', 'is_active'\n",
        "    ]\n",
        "    \n",
        "    # Get all numeric and boolean columns\n",
        "    feature_cols = [col for col in mature_df.columns \n",
        "                   if col not in exclude_cols \n",
        "                   and mature_df[col].dtype in ['int64', 'float64', 'bool']]\n",
        "    \n",
        "    print(f\"📊 Selected {len(feature_cols)} features for modeling\")\n",
        "    \n",
        "    # Prepare data\n",
        "    model_df = mature_df[feature_cols + ['is_successful']].dropna()\n",
        "    \n",
        "    if len(model_df) == 0:\n",
        "        print(\"⚠️  No data available after feature selection\")\n",
        "        return None\n",
        "    \n",
        "    X = model_df.drop('is_successful', axis=1)\n",
        "    y = model_df['is_successful']\n",
        "    \n",
        "    print(f\"📊 Dataset Info:\")\n",
        "    print(f\"  Total samples: {len(y):,}\")\n",
        "    print(f\"  Successful: {y.sum():,} ({y.mean()*100:.1f}%)\")\n",
        "    print(f\"  Features: {X.shape[1]}\")\n",
        "    print(f\"  ⚠️  Class imbalance: {(~y).sum() / y.sum():.1f}:1 ratio\")\n",
        "    \n",
        "    # Data cleaning and validation\n",
        "    print(\"🧹 Cleaning data for modeling...\")\n",
        "    \n",
        "    # Replace infinity values with NaN\n",
        "    X = X.replace([np.inf, -np.inf], np.nan)\n",
        "    \n",
        "    # Check for infinity values\n",
        "    inf_cols = X.columns[X.isin([np.inf, -np.inf]).any()]\n",
        "    if len(inf_cols) > 0:\n",
        "        print(f\"  ⚠️  Found infinity values in columns: {list(inf_cols)}\")\n",
        "        # Replace with median values\n",
        "        for col in inf_cols:\n",
        "            X[col] = X[col].replace([np.inf, -np.inf], X[col].median())\n",
        "    \n",
        "    # Check for extremely large values\n",
        "    large_value_threshold = 1e10\n",
        "    large_cols = X.columns[(X.abs() > large_value_threshold).any()]\n",
        "    if len(large_cols) > 0:\n",
        "        print(f\"  ⚠️  Found extremely large values in columns: {list(large_cols)}\")\n",
        "        # Cap values at reasonable thresholds\n",
        "        for col in large_cols:\n",
        "            if X[col].dtype in ['float64', 'int64']:\n",
        "                X[col] = X[col].clip(-large_value_threshold, large_value_threshold)\n",
        "    \n",
        "    # Handle remaining NaN values\n",
        "    nan_before = X.isnull().sum().sum()\n",
        "    if nan_before > 0:\n",
        "        print(f\"  🔧 Handling {nan_before} NaN values...\")\n",
        "        # Fill with median for numeric columns\n",
        "        for col in X.columns:\n",
        "            if X[col].dtype in ['float64', 'int64']:\n",
        "                X[col] = X[col].fillna(X[col].median())\n",
        "            else:\n",
        "                X[col] = X[col].fillna(X[col].mode()[0] if len(X[col].mode()) > 0 else 0)\n",
        "    \n",
        "    # Final validation\n",
        "    if X.isnull().any().any():\n",
        "        print(\"  ⚠️  Still have NaN values, dropping rows...\")\n",
        "        valid_idx = ~X.isnull().any(axis=1)\n",
        "        X = X[valid_idx]\n",
        "        y = y[valid_idx]\n",
        "    \n",
        "    if len(X) == 0:\n",
        "        print(\"⚠️  No valid data after cleaning\")\n",
        "        return None\n",
        "    \n",
        "    print(f\"  ✅ Data cleaned: {len(X)} samples, {X.shape[1]} features\")\n",
        "    \n",
        "    # Train-test split\n",
        "    X_train, X_test, y_train, y_test = train_test_split(X, y, test_size=0.2, random_state=42, stratify=y)\n",
        "    \n",
        "    # Scale features with robust scaling\n",
        "    print(\"📏 Scaling features...\")\n",
        "    scaler = StandardScaler()\n",
        "    \n",
        "    # Additional validation before scaling\n",
        "    if np.isinf(X_train).any().any() or np.isnan(X_train).any().any():\n",
        "        print(\"  ⚠️  Found invalid values in training data, applying additional cleaning...\")\n",
        "        X_train = X_train.replace([np.inf, -np.inf], np.nan)\n",
        "        X_train = X_train.fillna(X_train.median())\n",
        "        X_test = X_test.replace([np.inf, -np.inf], np.nan)\n",
        "        X_test = X_test.fillna(X_train.median())\n",
        "    \n",
        "    try:\n",
        "        X_train_scaled = scaler.fit_transform(X_train)\n",
        "        X_test_scaled = scaler.transform(X_test)\n",
        "        print(\"  ✅ Features scaled successfully\")\n",
        "    except Exception as e:\n",
        "        print(f\"  ❌ Scaling failed: {str(e)}\")\n",
        "        print(\"  🔧 Using original features without scaling...\")\n",
        "        X_train_scaled = X_train.values\n",
        "        X_test_scaled = X_test.values\n",
        "    \n",
        "    # Train multiple models\n",
        "    models = {\n",
        "        'Logistic Regression': LogisticRegression(max_iter=1000, class_weight='balanced', random_state=42),\n",
        "        'Random Forest': RandomForestClassifier(n_estimators=100, class_weight='balanced', random_state=42),\n",
        "        'Gradient Boosting': GradientBoostingClassifier(n_estimators=100, random_state=42),\n",
        "        'SVM': SVC(class_weight='balanced', probability=True, random_state=42)\n",
        "    }\n",
        "    \n",
        "    results = {}\n",
        "    \n",
        "    print(f\"\\n🤖 Training Multiple Models...\")\n",
        "    for name, model in models.items():\n",
        "        print(f\"  Training {name}...\")\n",
        "        \n",
        "        # Train model\n",
        "        if name == 'SVM':\n",
        "            model.fit(X_train_scaled, y_train)\n",
        "            y_pred = model.predict(X_test_scaled)\n",
        "            y_pred_proba = model.predict_proba(X_test_scaled)[:, 1]\n",
        "        else:\n",
        "            model.fit(X_train, y_train)\n",
        "            y_pred = model.predict(X_test)\n",
        "            y_pred_proba = model.predict_proba(X_test)[:, 1]\n",
        "        \n",
        "        # Calculate metrics\n",
        "        train_score = model.score(X_train_scaled if name == 'SVM' else X_train, y_train)\n",
        "        test_score = model.score(X_test_scaled if name == 'SVM' else X_test, y_test)\n",
        "        roc_auc = roc_auc_score(y_test, y_pred_proba)\n",
        "        \n",
        "        # Cross-validation\n",
        "        cv_scores = cross_val_score(model, X_train_scaled if name == 'SVM' else X_train, y_train, cv=5, scoring='roc_auc')\n",
        "        \n",
        "        results[name] = {\n",
        "            'model': model,\n",
        "            'train_score': train_score,\n",
        "            'test_score': test_score,\n",
        "            'roc_auc': roc_auc,\n",
        "            'cv_mean': cv_scores.mean(),\n",
        "            'cv_std': cv_scores.std(),\n",
        "            'predictions': y_pred,\n",
        "            'probabilities': y_pred_proba\n",
        "        }\n",
        "        \n",
        "        print(f\"    ROC-AUC: {roc_auc:.3f}, CV: {cv_scores.mean():.3f} (±{cv_scores.std():.3f})\")\n",
        "    \n",
        "    # Find best model\n",
        "    best_model_name = max(results.keys(), key=lambda x: results[x]['roc_auc'])\n",
        "    best_model = results[best_model_name]\n",
        "    \n",
        "    print(f\"\\n🏆 Best Model: {best_model_name}\")\n",
        "    print(f\"  ROC-AUC: {best_model['roc_auc']:.3f}\")\n",
        "    print(f\"  Cross-Val: {best_model['cv_mean']:.3f} (±{best_model['cv_std']:.3f})\")\n",
        "    \n",
        "    # Feature importance (for tree-based models)\n",
        "    if hasattr(best_model['model'], 'feature_importances_'):\n",
        "        feature_importance = pd.DataFrame({\n",
        "            'Feature': X.columns,\n",
        "            'Importance': best_model['model'].feature_importances_\n",
        "        }).sort_values('Importance', ascending=False)\n",
        "        \n",
        "        print(f\"\\n📈 Top 15 Feature Importances:\")\n",
        "        print(feature_importance.head(15).to_string(index=False))\n",
        "        \n",
        "        # Visualize feature importance\n",
        "        fig = go.Figure(go.Bar(\n",
        "            y=feature_importance.head(15)['Feature'],\n",
        "            x=feature_importance.head(15)['Importance'],\n",
        "            orientation='h',\n",
        "            marker_color='lightblue'\n",
        "        ))\n",
        "        \n",
        "        fig.update_layout(\n",
        "            title=f'Top 15 Feature Importances - {best_model_name}',\n",
        "            xaxis_title='Feature Importance',\n",
        "            height=600\n",
        "        )\n",
        "        fig.show()\n",
        "    \n",
        "    # Detailed classification report\n",
        "    print(f\"\\n📊 Detailed Classification Report ({best_model_name}):\")\n",
        "    print(classification_report(y_test, best_model['predictions'], \n",
        "                              target_names=['Not Successful', 'Successful']))\n",
        "    \n",
        "    # Confusion Matrix\n",
        "    cm = confusion_matrix(y_test, best_model['predictions'])\n",
        "    print(f\"\\n📊 Confusion Matrix:\")\n",
        "    print(f\"  True Negatives: {cm[0,0]}\")\n",
        "    print(f\"  False Positives: {cm[0,1]}\")\n",
        "    print(f\"  False Negatives: {cm[1,0]}\")\n",
        "    print(f\"  True Positives: {cm[1,1]}\")\n",
        "    \n",
        "    return {\n",
        "        'best_model': best_model['model'],\n",
        "        'best_model_name': best_model_name,\n",
        "        'results': results,\n",
        "        'feature_importance': feature_importance if 'feature_importance' in locals() else None,\n",
        "        'metrics': {\n",
        "            'roc_auc': best_model['roc_auc'],\n",
        "            'cv_mean': best_model['cv_mean'],\n",
        "            'cv_std': best_model['cv_std']\n",
        "        }\n",
        "    }\n",
        "\n",
        "# Build enhanced predictive model\n",
        "enhanced_model_results = build_enhanced_prediction_model(enhanced_df)\n"
      ]
    },
    {
      "cell_type": "code",
      "execution_count": 71,
      "metadata": {},
      "outputs": [
        {
          "name": "stdout",
          "output_type": "stream",
          "text": [
            "🔍 Analyzing Feature Importance and Insights...\n",
            "⚠️  No feature importance data available\n"
          ]
        }
      ],
      "source": [
        "# Feature Analysis and Insights\n",
        "def analyze_feature_importance(enhanced_df, model_results):\n",
        "    \"\"\"Analyze feature importance and provide insights\"\"\"\n",
        "    print(\"🔍 Analyzing Feature Importance and Insights...\")\n",
        "    \n",
        "    if model_results is None or model_results['feature_importance'] is None:\n",
        "        print(\"⚠️  No feature importance data available\")\n",
        "        return\n",
        "    \n",
        "    feature_importance = model_results['feature_importance']\n",
        "    \n",
        "    # Categorize features\n",
        "    temporal_features = [f for f in feature_importance['Feature'] if any(x in f for x in ['batch_year', 'company_age', 'years_since', 'is_recent', 'is_early', 'is_young', 'is_old'])]\n",
        "    team_features = [f for f in feature_importance['Feature'] if any(x in f for x in ['founder', 'team', 'solo', 'num_founders', 'team_size', 'growth'])]\n",
        "    geographic_features = [f for f in feature_importance['Feature'] if any(x in f for x in ['sf_bay', 'nyc', 'london', 'tier1', 'international', 'is_us'])]\n",
        "    industry_features = [f for f in feature_importance['Feature'] if any(x in f for x in ['is_ai', 'is_b2b', 'is_fintech', 'is_healthcare', 'is_edtech', 'diversity', 'tags'])]\n",
        "    text_features = [f for f in feature_importance['Feature'] if any(x in f for x in ['description', 'length', 'word', 'positive', 'tech'])]\n",
        "    interaction_features = [f for f in feature_importance['Feature'] if any(x in f for x in ['_ai', '_b2b', '_fintech', 'sf_bay_', 'international_', 'solo_', 'team_', 'young_', 'old_'])]\n",
        "    \n",
        "    print(f\"\\n📊 Feature Categories Analysis:\")\n",
        "    print(f\"  🕒 Temporal Features: {len(temporal_features)}\")\n",
        "    print(f\"  👥 Team Features: {len(team_features)}\")\n",
        "    print(f\"  🌍 Geographic Features: {len(geographic_features)}\")\n",
        "    print(f\"  🏭 Industry Features: {len(industry_features)}\")\n",
        "    print(f\"  📝 Text Features: {len(text_features)}\")\n",
        "    print(f\"  🔗 Interaction Features: {len(interaction_features)}\")\n",
        "    \n",
        "    # Top features by category\n",
        "    print(f\"\\n🏆 Top Features by Category:\")\n",
        "    \n",
        "    for category, features in [\n",
        "        (\"Temporal\", temporal_features),\n",
        "        (\"Team\", team_features),\n",
        "        (\"Geographic\", geographic_features),\n",
        "        (\"Industry\", industry_features),\n",
        "        (\"Text\", text_features),\n",
        "        (\"Interaction\", interaction_features)\n",
        "    ]:\n",
        "        if features:\n",
        "            cat_importance = feature_importance[feature_importance['Feature'].isin(features)].head(3)\n",
        "            print(f\"\\n  {category}:\")\n",
        "            for _, row in cat_importance.iterrows():\n",
        "                print(f\"    • {row['Feature']}: {row['Importance']:.4f}\")\n",
        "    \n",
        "    # Key insights\n",
        "    print(f\"\\n💡 Key Insights:\")\n",
        "    \n",
        "    # Most important feature\n",
        "    top_feature = feature_importance.iloc[0]\n",
        "    print(f\"  🥇 Most Important: {top_feature['Feature']} ({top_feature['Importance']:.4f})\")\n",
        "    \n",
        "    # Feature distribution\n",
        "    high_importance = feature_importance[feature_importance['Importance'] > 0.01]\n",
        "    medium_importance = feature_importance[(feature_importance['Importance'] > 0.005) & (feature_importance['Importance'] <= 0.01)]\n",
        "    low_importance = feature_importance[feature_importance['Importance'] <= 0.005]\n",
        "    \n",
        "    print(f\"  📈 High Importance (>0.01): {len(high_importance)} features\")\n",
        "    print(f\"  📊 Medium Importance (0.005-0.01): {len(medium_importance)} features\")\n",
        "    print(f\"  📉 Low Importance (<0.005): {len(low_importance)} features\")\n",
        "    \n",
        "    # Model performance insights\n",
        "    metrics = model_results['metrics']\n",
        "    print(f\"\\n🤖 Model Performance:\")\n",
        "    print(f\"  ROC-AUC: {metrics['roc_auc']:.3f}\")\n",
        "    print(f\"  Cross-Validation: {metrics['cv_mean']:.3f} (±{metrics['cv_std']:.3f})\")\n",
        "    \n",
        "    # Performance interpretation\n",
        "    if metrics['roc_auc'] > 0.8:\n",
        "        performance = \"Excellent\"\n",
        "    elif metrics['roc_auc'] > 0.7:\n",
        "        performance = \"Good\"\n",
        "    elif metrics['roc_auc'] > 0.6:\n",
        "        performance = \"Fair\"\n",
        "    else:\n",
        "        performance = \"Poor\"\n",
        "    \n",
        "    print(f\"  📊 Performance Level: {performance}\")\n",
        "    \n",
        "    return {\n",
        "        'temporal_features': temporal_features,\n",
        "        'team_features': team_features,\n",
        "        'geographic_features': geographic_features,\n",
        "        'industry_features': industry_features,\n",
        "        'text_features': text_features,\n",
        "        'interaction_features': interaction_features,\n",
        "        'performance_level': performance\n",
        "    }\n",
        "\n",
        "# Analyze feature importance\n",
        "if enhanced_model_results:\n",
        "    feature_analysis = analyze_feature_importance(enhanced_df, enhanced_model_results)\n",
        "else:\n",
        "    print(\"⚠️  Enhanced model results not available\")\n"
      ]
    },
    {
      "cell_type": "code",
      "execution_count": 72,
      "metadata": {},
      "outputs": [
        {
          "name": "stdout",
          "output_type": "stream",
          "text": [
            "🤖 Building Enhanced Success Prediction Model\n",
            "🤖 Building Success Prediction Model with Enhanced Features...\n",
            "📊 Using 57 enhanced features for modeling\n",
            "📊 Dataset Info:\n",
            "  Total samples: 2,998\n",
            "  Successful: 408 (13.6%)\n",
            "  Features: 57\n",
            "  ⚠️  Class imbalance: 6.3:1 ratio\n",
            "🧹 Cleaning data for modeling...\n",
            "  ✅ Data cleaned: 2998 samples, 57 features\n",
            "📏 Scaling features...\n",
            "  ✅ Features scaled successfully\n",
            "🤖 ENHANCED PREDICTIVE MODEL RESULTS:\n",
            "  Training Accuracy: 69.93%\n",
            "  Test Accuracy: 68.83%\n",
            "  ROC-AUC Score: 0.735\n",
            "  Cross-Val ROC-AUC: 0.720 (±0.033)\n",
            "\n",
            "⚠️  Note: Accuracy is misleading with class imbalance. ROC-AUC is better metric.\n",
            "\n",
            "📊 Detailed Classification Report:\n",
            "                precision    recall  f1-score   support\n",
            "\n",
            "Not Successful       0.93      0.69      0.79       518\n",
            "    Successful       0.25      0.66      0.37        82\n",
            "\n",
            "      accuracy                           0.69       600\n",
            "     macro avg       0.59      0.68      0.58       600\n",
            "  weighted avg       0.84      0.69      0.73       600\n",
            "\n",
            "\n",
            "📈 Top 20 Feature Importance (Logistic Regression Coefficients):\n",
            "⚠️  Note: These show predictive association, NOT causation.\n",
            "\n",
            "               Feature  Coefficient\n",
            "       company_age_log     0.542946\n",
            "     years_since_batch     0.402817\n",
            "description_word_count     0.312907\n",
            "              team_b2b     0.228920\n",
            "       avg_word_length     0.206513\n",
            "       num_tags_zscore     0.183689\n",
            "              num_tags     0.183689\n",
            "    industry_diversity     0.183689\n",
            "  team_size_percentile     0.171890\n",
            "       is_team_founded     0.146181\n",
            "       is_solo_founder     0.130792\n",
            "            is_fintech     0.108666\n",
            "       sentiment_score     0.107313\n",
            "             is_edtech     0.103838\n",
            "       is_recent_batch     0.087488\n",
            "      team_size_zscore     0.087293\n",
            "             team_size     0.087293\n",
            "             is_sf_bay     0.070699\n",
            "        has_tech_words     0.069883\n",
            "                 is_ai     0.064720\n"
          ]
        },
        {
          "data": {
            "application/vnd.plotly.v1+json": {
              "config": {
                "plotlyServerURL": "https://plot.ly"
              },
              "data": [
                {
                  "marker": {
                    "color": [
                      "#00CC66",
                      "#00CC66",
                      "#00CC66",
                      "#00CC66",
                      "#00CC66",
                      "#00CC66",
                      "#00CC66",
                      "#00CC66",
                      "#00CC66",
                      "#00CC66",
                      "#00CC66",
                      "#00CC66",
                      "#00CC66",
                      "#00CC66",
                      "#00CC66",
                      "#00CC66",
                      "#00CC66",
                      "#00CC66",
                      "#00CC66",
                      "#00CC66"
                    ]
                  },
                  "orientation": "h",
                  "type": "bar",
                  "x": [
                    0.5429455088544186,
                    0.40281725603009366,
                    0.31290732348058137,
                    0.22892028788358157,
                    0.2065129133837376,
                    0.18368878416013923,
                    0.18368878416013623,
                    0.1836887841601317,
                    0.17188988626808208,
                    0.14618087378014197,
                    0.13079179313499062,
                    0.10866576479214451,
                    0.10731340477492235,
                    0.103838124252836,
                    0.08748760542014927,
                    0.08729314981800443,
                    0.0872931498180038,
                    0.07069850285335327,
                    0.06988297341818561,
                    0.06471957383633478
                  ],
                  "y": [
                    "company_age_log",
                    "years_since_batch",
                    "description_word_count",
                    "team_b2b",
                    "avg_word_length",
                    "num_tags_zscore",
                    "num_tags",
                    "industry_diversity",
                    "team_size_percentile",
                    "is_team_founded",
                    "is_solo_founder",
                    "is_fintech",
                    "sentiment_score",
                    "is_edtech",
                    "is_recent_batch",
                    "team_size_zscore",
                    "team_size",
                    "is_sf_bay",
                    "has_tech_words",
                    "is_ai"
                  ]
                }
              ],
              "layout": {
                "height": 600,
                "template": {
                  "data": {
                    "bar": [
                      {
                        "error_x": {
                          "color": "#2a3f5f"
                        },
                        "error_y": {
                          "color": "#2a3f5f"
                        },
                        "marker": {
                          "line": {
                            "color": "#E5ECF6",
                            "width": 0.5
                          },
                          "pattern": {
                            "fillmode": "overlay",
                            "size": 10,
                            "solidity": 0.2
                          }
                        },
                        "type": "bar"
                      }
                    ],
                    "barpolar": [
                      {
                        "marker": {
                          "line": {
                            "color": "#E5ECF6",
                            "width": 0.5
                          },
                          "pattern": {
                            "fillmode": "overlay",
                            "size": 10,
                            "solidity": 0.2
                          }
                        },
                        "type": "barpolar"
                      }
                    ],
                    "carpet": [
                      {
                        "aaxis": {
                          "endlinecolor": "#2a3f5f",
                          "gridcolor": "white",
                          "linecolor": "white",
                          "minorgridcolor": "white",
                          "startlinecolor": "#2a3f5f"
                        },
                        "baxis": {
                          "endlinecolor": "#2a3f5f",
                          "gridcolor": "white",
                          "linecolor": "white",
                          "minorgridcolor": "white",
                          "startlinecolor": "#2a3f5f"
                        },
                        "type": "carpet"
                      }
                    ],
                    "choropleth": [
                      {
                        "colorbar": {
                          "outlinewidth": 0,
                          "ticks": ""
                        },
                        "type": "choropleth"
                      }
                    ],
                    "contour": [
                      {
                        "colorbar": {
                          "outlinewidth": 0,
                          "ticks": ""
                        },
                        "colorscale": [
                          [
                            0,
                            "#0d0887"
                          ],
                          [
                            0.1111111111111111,
                            "#46039f"
                          ],
                          [
                            0.2222222222222222,
                            "#7201a8"
                          ],
                          [
                            0.3333333333333333,
                            "#9c179e"
                          ],
                          [
                            0.4444444444444444,
                            "#bd3786"
                          ],
                          [
                            0.5555555555555556,
                            "#d8576b"
                          ],
                          [
                            0.6666666666666666,
                            "#ed7953"
                          ],
                          [
                            0.7777777777777778,
                            "#fb9f3a"
                          ],
                          [
                            0.8888888888888888,
                            "#fdca26"
                          ],
                          [
                            1,
                            "#f0f921"
                          ]
                        ],
                        "type": "contour"
                      }
                    ],
                    "contourcarpet": [
                      {
                        "colorbar": {
                          "outlinewidth": 0,
                          "ticks": ""
                        },
                        "type": "contourcarpet"
                      }
                    ],
                    "heatmap": [
                      {
                        "colorbar": {
                          "outlinewidth": 0,
                          "ticks": ""
                        },
                        "colorscale": [
                          [
                            0,
                            "#0d0887"
                          ],
                          [
                            0.1111111111111111,
                            "#46039f"
                          ],
                          [
                            0.2222222222222222,
                            "#7201a8"
                          ],
                          [
                            0.3333333333333333,
                            "#9c179e"
                          ],
                          [
                            0.4444444444444444,
                            "#bd3786"
                          ],
                          [
                            0.5555555555555556,
                            "#d8576b"
                          ],
                          [
                            0.6666666666666666,
                            "#ed7953"
                          ],
                          [
                            0.7777777777777778,
                            "#fb9f3a"
                          ],
                          [
                            0.8888888888888888,
                            "#fdca26"
                          ],
                          [
                            1,
                            "#f0f921"
                          ]
                        ],
                        "type": "heatmap"
                      }
                    ],
                    "heatmapgl": [
                      {
                        "colorbar": {
                          "outlinewidth": 0,
                          "ticks": ""
                        },
                        "colorscale": [
                          [
                            0,
                            "#0d0887"
                          ],
                          [
                            0.1111111111111111,
                            "#46039f"
                          ],
                          [
                            0.2222222222222222,
                            "#7201a8"
                          ],
                          [
                            0.3333333333333333,
                            "#9c179e"
                          ],
                          [
                            0.4444444444444444,
                            "#bd3786"
                          ],
                          [
                            0.5555555555555556,
                            "#d8576b"
                          ],
                          [
                            0.6666666666666666,
                            "#ed7953"
                          ],
                          [
                            0.7777777777777778,
                            "#fb9f3a"
                          ],
                          [
                            0.8888888888888888,
                            "#fdca26"
                          ],
                          [
                            1,
                            "#f0f921"
                          ]
                        ],
                        "type": "heatmapgl"
                      }
                    ],
                    "histogram": [
                      {
                        "marker": {
                          "pattern": {
                            "fillmode": "overlay",
                            "size": 10,
                            "solidity": 0.2
                          }
                        },
                        "type": "histogram"
                      }
                    ],
                    "histogram2d": [
                      {
                        "colorbar": {
                          "outlinewidth": 0,
                          "ticks": ""
                        },
                        "colorscale": [
                          [
                            0,
                            "#0d0887"
                          ],
                          [
                            0.1111111111111111,
                            "#46039f"
                          ],
                          [
                            0.2222222222222222,
                            "#7201a8"
                          ],
                          [
                            0.3333333333333333,
                            "#9c179e"
                          ],
                          [
                            0.4444444444444444,
                            "#bd3786"
                          ],
                          [
                            0.5555555555555556,
                            "#d8576b"
                          ],
                          [
                            0.6666666666666666,
                            "#ed7953"
                          ],
                          [
                            0.7777777777777778,
                            "#fb9f3a"
                          ],
                          [
                            0.8888888888888888,
                            "#fdca26"
                          ],
                          [
                            1,
                            "#f0f921"
                          ]
                        ],
                        "type": "histogram2d"
                      }
                    ],
                    "histogram2dcontour": [
                      {
                        "colorbar": {
                          "outlinewidth": 0,
                          "ticks": ""
                        },
                        "colorscale": [
                          [
                            0,
                            "#0d0887"
                          ],
                          [
                            0.1111111111111111,
                            "#46039f"
                          ],
                          [
                            0.2222222222222222,
                            "#7201a8"
                          ],
                          [
                            0.3333333333333333,
                            "#9c179e"
                          ],
                          [
                            0.4444444444444444,
                            "#bd3786"
                          ],
                          [
                            0.5555555555555556,
                            "#d8576b"
                          ],
                          [
                            0.6666666666666666,
                            "#ed7953"
                          ],
                          [
                            0.7777777777777778,
                            "#fb9f3a"
                          ],
                          [
                            0.8888888888888888,
                            "#fdca26"
                          ],
                          [
                            1,
                            "#f0f921"
                          ]
                        ],
                        "type": "histogram2dcontour"
                      }
                    ],
                    "mesh3d": [
                      {
                        "colorbar": {
                          "outlinewidth": 0,
                          "ticks": ""
                        },
                        "type": "mesh3d"
                      }
                    ],
                    "parcoords": [
                      {
                        "line": {
                          "colorbar": {
                            "outlinewidth": 0,
                            "ticks": ""
                          }
                        },
                        "type": "parcoords"
                      }
                    ],
                    "pie": [
                      {
                        "automargin": true,
                        "type": "pie"
                      }
                    ],
                    "scatter": [
                      {
                        "fillpattern": {
                          "fillmode": "overlay",
                          "size": 10,
                          "solidity": 0.2
                        },
                        "type": "scatter"
                      }
                    ],
                    "scatter3d": [
                      {
                        "line": {
                          "colorbar": {
                            "outlinewidth": 0,
                            "ticks": ""
                          }
                        },
                        "marker": {
                          "colorbar": {
                            "outlinewidth": 0,
                            "ticks": ""
                          }
                        },
                        "type": "scatter3d"
                      }
                    ],
                    "scattercarpet": [
                      {
                        "marker": {
                          "colorbar": {
                            "outlinewidth": 0,
                            "ticks": ""
                          }
                        },
                        "type": "scattercarpet"
                      }
                    ],
                    "scattergeo": [
                      {
                        "marker": {
                          "colorbar": {
                            "outlinewidth": 0,
                            "ticks": ""
                          }
                        },
                        "type": "scattergeo"
                      }
                    ],
                    "scattergl": [
                      {
                        "marker": {
                          "colorbar": {
                            "outlinewidth": 0,
                            "ticks": ""
                          }
                        },
                        "type": "scattergl"
                      }
                    ],
                    "scattermapbox": [
                      {
                        "marker": {
                          "colorbar": {
                            "outlinewidth": 0,
                            "ticks": ""
                          }
                        },
                        "type": "scattermapbox"
                      }
                    ],
                    "scatterpolar": [
                      {
                        "marker": {
                          "colorbar": {
                            "outlinewidth": 0,
                            "ticks": ""
                          }
                        },
                        "type": "scatterpolar"
                      }
                    ],
                    "scatterpolargl": [
                      {
                        "marker": {
                          "colorbar": {
                            "outlinewidth": 0,
                            "ticks": ""
                          }
                        },
                        "type": "scatterpolargl"
                      }
                    ],
                    "scatterternary": [
                      {
                        "marker": {
                          "colorbar": {
                            "outlinewidth": 0,
                            "ticks": ""
                          }
                        },
                        "type": "scatterternary"
                      }
                    ],
                    "surface": [
                      {
                        "colorbar": {
                          "outlinewidth": 0,
                          "ticks": ""
                        },
                        "colorscale": [
                          [
                            0,
                            "#0d0887"
                          ],
                          [
                            0.1111111111111111,
                            "#46039f"
                          ],
                          [
                            0.2222222222222222,
                            "#7201a8"
                          ],
                          [
                            0.3333333333333333,
                            "#9c179e"
                          ],
                          [
                            0.4444444444444444,
                            "#bd3786"
                          ],
                          [
                            0.5555555555555556,
                            "#d8576b"
                          ],
                          [
                            0.6666666666666666,
                            "#ed7953"
                          ],
                          [
                            0.7777777777777778,
                            "#fb9f3a"
                          ],
                          [
                            0.8888888888888888,
                            "#fdca26"
                          ],
                          [
                            1,
                            "#f0f921"
                          ]
                        ],
                        "type": "surface"
                      }
                    ],
                    "table": [
                      {
                        "cells": {
                          "fill": {
                            "color": "#EBF0F8"
                          },
                          "line": {
                            "color": "white"
                          }
                        },
                        "header": {
                          "fill": {
                            "color": "#C8D4E3"
                          },
                          "line": {
                            "color": "white"
                          }
                        },
                        "type": "table"
                      }
                    ]
                  },
                  "layout": {
                    "annotationdefaults": {
                      "arrowcolor": "#2a3f5f",
                      "arrowhead": 0,
                      "arrowwidth": 1
                    },
                    "autotypenumbers": "strict",
                    "coloraxis": {
                      "colorbar": {
                        "outlinewidth": 0,
                        "ticks": ""
                      }
                    },
                    "colorscale": {
                      "diverging": [
                        [
                          0,
                          "#8e0152"
                        ],
                        [
                          0.1,
                          "#c51b7d"
                        ],
                        [
                          0.2,
                          "#de77ae"
                        ],
                        [
                          0.3,
                          "#f1b6da"
                        ],
                        [
                          0.4,
                          "#fde0ef"
                        ],
                        [
                          0.5,
                          "#f7f7f7"
                        ],
                        [
                          0.6,
                          "#e6f5d0"
                        ],
                        [
                          0.7,
                          "#b8e186"
                        ],
                        [
                          0.8,
                          "#7fbc41"
                        ],
                        [
                          0.9,
                          "#4d9221"
                        ],
                        [
                          1,
                          "#276419"
                        ]
                      ],
                      "sequential": [
                        [
                          0,
                          "#0d0887"
                        ],
                        [
                          0.1111111111111111,
                          "#46039f"
                        ],
                        [
                          0.2222222222222222,
                          "#7201a8"
                        ],
                        [
                          0.3333333333333333,
                          "#9c179e"
                        ],
                        [
                          0.4444444444444444,
                          "#bd3786"
                        ],
                        [
                          0.5555555555555556,
                          "#d8576b"
                        ],
                        [
                          0.6666666666666666,
                          "#ed7953"
                        ],
                        [
                          0.7777777777777778,
                          "#fb9f3a"
                        ],
                        [
                          0.8888888888888888,
                          "#fdca26"
                        ],
                        [
                          1,
                          "#f0f921"
                        ]
                      ],
                      "sequentialminus": [
                        [
                          0,
                          "#0d0887"
                        ],
                        [
                          0.1111111111111111,
                          "#46039f"
                        ],
                        [
                          0.2222222222222222,
                          "#7201a8"
                        ],
                        [
                          0.3333333333333333,
                          "#9c179e"
                        ],
                        [
                          0.4444444444444444,
                          "#bd3786"
                        ],
                        [
                          0.5555555555555556,
                          "#d8576b"
                        ],
                        [
                          0.6666666666666666,
                          "#ed7953"
                        ],
                        [
                          0.7777777777777778,
                          "#fb9f3a"
                        ],
                        [
                          0.8888888888888888,
                          "#fdca26"
                        ],
                        [
                          1,
                          "#f0f921"
                        ]
                      ]
                    },
                    "colorway": [
                      "#636efa",
                      "#EF553B",
                      "#00cc96",
                      "#ab63fa",
                      "#FFA15A",
                      "#19d3f3",
                      "#FF6692",
                      "#B6E880",
                      "#FF97FF",
                      "#FECB52"
                    ],
                    "font": {
                      "color": "#2a3f5f"
                    },
                    "geo": {
                      "bgcolor": "white",
                      "lakecolor": "white",
                      "landcolor": "#E5ECF6",
                      "showlakes": true,
                      "showland": true,
                      "subunitcolor": "white"
                    },
                    "hoverlabel": {
                      "align": "left"
                    },
                    "hovermode": "closest",
                    "mapbox": {
                      "style": "light"
                    },
                    "paper_bgcolor": "white",
                    "plot_bgcolor": "#E5ECF6",
                    "polar": {
                      "angularaxis": {
                        "gridcolor": "white",
                        "linecolor": "white",
                        "ticks": ""
                      },
                      "bgcolor": "#E5ECF6",
                      "radialaxis": {
                        "gridcolor": "white",
                        "linecolor": "white",
                        "ticks": ""
                      }
                    },
                    "scene": {
                      "xaxis": {
                        "backgroundcolor": "#E5ECF6",
                        "gridcolor": "white",
                        "gridwidth": 2,
                        "linecolor": "white",
                        "showbackground": true,
                        "ticks": "",
                        "zerolinecolor": "white"
                      },
                      "yaxis": {
                        "backgroundcolor": "#E5ECF6",
                        "gridcolor": "white",
                        "gridwidth": 2,
                        "linecolor": "white",
                        "showbackground": true,
                        "ticks": "",
                        "zerolinecolor": "white"
                      },
                      "zaxis": {
                        "backgroundcolor": "#E5ECF6",
                        "gridcolor": "white",
                        "gridwidth": 2,
                        "linecolor": "white",
                        "showbackground": true,
                        "ticks": "",
                        "zerolinecolor": "white"
                      }
                    },
                    "shapedefaults": {
                      "line": {
                        "color": "#2a3f5f"
                      }
                    },
                    "ternary": {
                      "aaxis": {
                        "gridcolor": "white",
                        "linecolor": "white",
                        "ticks": ""
                      },
                      "baxis": {
                        "gridcolor": "white",
                        "linecolor": "white",
                        "ticks": ""
                      },
                      "bgcolor": "#E5ECF6",
                      "caxis": {
                        "gridcolor": "white",
                        "linecolor": "white",
                        "ticks": ""
                      }
                    },
                    "title": {
                      "x": 0.05
                    },
                    "xaxis": {
                      "automargin": true,
                      "gridcolor": "white",
                      "linecolor": "white",
                      "ticks": "",
                      "title": {
                        "standoff": 15
                      },
                      "zerolinecolor": "white",
                      "zerolinewidth": 2
                    },
                    "yaxis": {
                      "automargin": true,
                      "gridcolor": "white",
                      "linecolor": "white",
                      "ticks": "",
                      "title": {
                        "standoff": 15
                      },
                      "zerolinecolor": "white",
                      "zerolinewidth": 2
                    }
                  }
                },
                "title": {
                  "text": "Enhanced Feature Importance: What Predicts Success?<br><sub>Higher coefficient = stronger positive association with success</sub>"
                },
                "xaxis": {
                  "title": {
                    "text": "Coefficient (Impact on Success Probability)"
                  }
                }
              }
            }
          },
          "metadata": {},
          "output_type": "display_data"
        },
        {
          "name": "stdout",
          "output_type": "stream",
          "text": [
            "\n",
            "⚠️  IMPORTANT CAVEATS:\n",
            "  1. This model shows ASSOCIATION, not CAUSATION\n",
            "  2. Survivorship bias partially mitigated by using mature companies only\n",
            "  3. Many unmeasured factors influence success (market timing, execution, luck)\n",
            "  4. Past performance ≠ future results\n",
            "  5. Enhanced features provide better predictive power than basic features\n"
          ]
        }
      ],
      "source": [
        "# Updated Original Predictive Model to Use Enhanced Features\n",
        "def build_success_prediction_model():\n",
        "    \"\"\"Build ML model to predict startup success using enhanced features\"\"\"\n",
        "    # Use the enhanced dataframe with advanced features\n",
        "    print(\"🤖 Building Success Prediction Model with Enhanced Features...\")\n",
        "    \n",
        "    # Use mature companies only\n",
        "    mature_df = enhanced_df[enhanced_df['is_mature']].copy()\n",
        "    \n",
        "    # Select enhanced features for modeling (exclude target and non-predictive columns)\n",
        "    exclude_cols = [\n",
        "        'is_successful', 'company_id', 'company_name', 'short_description', \n",
        "        'tags', 'location', 'country', 'status', 'batch', 'year_founded',\n",
        "        'batch_year', 'batch_season', 'is_mature', 'is_active'\n",
        "    ]\n",
        "    \n",
        "    # Get all numeric and boolean columns from enhanced features\n",
        "    feature_cols = [col for col in mature_df.columns \n",
        "                   if col not in exclude_cols \n",
        "                   and mature_df[col].dtype in ['int64', 'float64', 'bool']]\n",
        "    \n",
        "    print(f\"📊 Using {len(feature_cols)} enhanced features for modeling\")\n",
        "    \n",
        "    # Prepare data\n",
        "    model_df = mature_df[feature_cols + ['is_successful']].dropna()\n",
        "    \n",
        "    if len(model_df) == 0:\n",
        "        print(\"⚠️  No data available after feature selection\")\n",
        "        return None\n",
        "    \n",
        "    X = model_df.drop('is_successful', axis=1)\n",
        "    y = model_df['is_successful']\n",
        "    \n",
        "    print(f\"📊 Dataset Info:\")\n",
        "    print(f\"  Total samples: {len(y):,}\")\n",
        "    print(f\"  Successful: {y.sum():,} ({y.mean()*100:.1f}%)\")\n",
        "    print(f\"  Features: {X.shape[1]}\")\n",
        "    print(f\"  ⚠️  Class imbalance: {(~y).sum() / y.sum():.1f}:1 ratio\")\n",
        "    \n",
        "    # Data cleaning and validation\n",
        "    print(\"🧹 Cleaning data for modeling...\")\n",
        "    \n",
        "    # Replace infinity values with NaN\n",
        "    X = X.replace([np.inf, -np.inf], np.nan)\n",
        "    \n",
        "    # Check for infinity values\n",
        "    inf_cols = X.columns[X.isin([np.inf, -np.inf]).any()]\n",
        "    if len(inf_cols) > 0:\n",
        "        print(f\"  ⚠️  Found infinity values in columns: {list(inf_cols)}\")\n",
        "        # Replace with median values\n",
        "        for col in inf_cols:\n",
        "            X[col] = X[col].replace([np.inf, -np.inf], X[col].median())\n",
        "    \n",
        "    # Check for extremely large values\n",
        "    large_value_threshold = 1e10\n",
        "    large_cols = X.columns[(X.abs() > large_value_threshold).any()]\n",
        "    if len(large_cols) > 0:\n",
        "        print(f\"  ⚠️  Found extremely large values in columns: {list(large_cols)}\")\n",
        "        # Cap values at reasonable thresholds\n",
        "        for col in large_cols:\n",
        "            if X[col].dtype in ['float64', 'int64']:\n",
        "                X[col] = X[col].clip(-large_value_threshold, large_value_threshold)\n",
        "    \n",
        "    # Handle remaining NaN values\n",
        "    nan_before = X.isnull().sum().sum()\n",
        "    if nan_before > 0:\n",
        "        print(f\"  🔧 Handling {nan_before} NaN values...\")\n",
        "        # Fill with median for numeric columns\n",
        "        for col in X.columns:\n",
        "            if X[col].dtype in ['float64', 'int64']:\n",
        "                X[col] = X[col].fillna(X[col].median())\n",
        "            else:\n",
        "                X[col] = X[col].fillna(X[col].mode()[0] if len(X[col].mode()) > 0 else 0)\n",
        "    \n",
        "    # Final validation\n",
        "    if X.isnull().any().any():\n",
        "        print(\"  ⚠️  Still have NaN values, dropping rows...\")\n",
        "        valid_idx = ~X.isnull().any(axis=1)\n",
        "        X = X[valid_idx]\n",
        "        y = y[valid_idx]\n",
        "    \n",
        "    if len(X) == 0:\n",
        "        print(\"⚠️  No valid data after cleaning\")\n",
        "        return None\n",
        "    \n",
        "    print(f\"  ✅ Data cleaned: {len(X)} samples, {X.shape[1]} features\")\n",
        "    \n",
        "    # Train-test split\n",
        "    X_train, X_test, y_train, y_test = train_test_split(X, y, test_size=0.2, random_state=42, stratify=y)\n",
        "    \n",
        "    # Scale features with robust scaling\n",
        "    print(\"📏 Scaling features...\")\n",
        "    scaler = StandardScaler()\n",
        "    \n",
        "    # Additional validation before scaling\n",
        "    if np.isinf(X_train).any().any() or np.isnan(X_train).any().any():\n",
        "        print(\"  ⚠️  Found invalid values in training data, applying additional cleaning...\")\n",
        "        X_train = X_train.replace([np.inf, -np.inf], np.nan)\n",
        "        X_train = X_train.fillna(X_train.median())\n",
        "        X_test = X_test.replace([np.inf, -np.inf], np.nan)\n",
        "        X_test = X_test.fillna(X_train.median())\n",
        "    \n",
        "    try:\n",
        "        X_train_scaled = scaler.fit_transform(X_train)\n",
        "        X_test_scaled = scaler.transform(X_test)\n",
        "        print(\"  ✅ Features scaled successfully\")\n",
        "    except Exception as e:\n",
        "        print(f\"  ❌ Scaling failed: {str(e)}\")\n",
        "        print(\"  🔧 Using original features without scaling...\")\n",
        "        X_train_scaled = X_train.values\n",
        "        X_test_scaled = X_test.values\n",
        "    \n",
        "    # Train model with class weights to handle imbalance\n",
        "    model = LogisticRegression(max_iter=1000, class_weight='balanced', random_state=42)\n",
        "    model.fit(X_train_scaled, y_train)\n",
        "    \n",
        "    # Feature importance\n",
        "    feature_importance = pd.DataFrame({\n",
        "        'Feature': X.columns,\n",
        "        'Coefficient': model.coef_[0]\n",
        "    }).sort_values('Coefficient', ascending=False)\n",
        "    \n",
        "    # Predictions\n",
        "    y_pred = model.predict(X_test_scaled)\n",
        "    y_pred_proba = model.predict_proba(X_test_scaled)[:, 1]\n",
        "    \n",
        "    # Comprehensive metrics\n",
        "    train_score = model.score(X_train_scaled, y_train)\n",
        "    test_score = model.score(X_test_scaled, y_test)\n",
        "    roc_auc = roc_auc_score(y_test, y_pred_proba)\n",
        "    \n",
        "    # Cross-validation for robustness\n",
        "    cv_scores = cross_val_score(model, X_train_scaled, y_train, cv=5, scoring='roc_auc')\n",
        "    \n",
        "    print(f\"🤖 ENHANCED PREDICTIVE MODEL RESULTS:\")\n",
        "    print(f\"  Training Accuracy: {train_score*100:.2f}%\")\n",
        "    print(f\"  Test Accuracy: {test_score*100:.2f}%\")\n",
        "    print(f\"  ROC-AUC Score: {roc_auc:.3f}\")\n",
        "    print(f\"  Cross-Val ROC-AUC: {cv_scores.mean():.3f} (±{cv_scores.std():.3f})\")\n",
        "    print(f\"\\n⚠️  Note: Accuracy is misleading with class imbalance. ROC-AUC is better metric.\\n\")\n",
        "    \n",
        "    print(f\"📊 Detailed Classification Report:\")\n",
        "    print(classification_report(y_test, y_pred, target_names=['Not Successful', 'Successful']))\n",
        "    \n",
        "    print(f\"\\n📈 Top 20 Feature Importance (Logistic Regression Coefficients):\")\n",
        "    print(f\"⚠️  Note: These show predictive association, NOT causation.\\n\")\n",
        "    print(feature_importance.head(20).to_string(index=False))\n",
        "    \n",
        "    # Visualize feature importance\n",
        "    fig = go.Figure(go.Bar(\n",
        "        y=feature_importance.head(20)['Feature'],\n",
        "        x=feature_importance.head(20)['Coefficient'],\n",
        "        orientation='h',\n",
        "        marker_color=['#00CC66' if x > 0 else '#FF3333' for x in feature_importance.head(20)['Coefficient']]\n",
        "    ))\n",
        "    \n",
        "    fig.update_layout(\n",
        "        title='Enhanced Feature Importance: What Predicts Success?<br><sub>Higher coefficient = stronger positive association with success</sub>',\n",
        "        xaxis_title='Coefficient (Impact on Success Probability)',\n",
        "        height=600\n",
        "    )\n",
        "    fig.show()\n",
        "    \n",
        "    print(\"\\n⚠️  IMPORTANT CAVEATS:\")\n",
        "    print(\"  1. This model shows ASSOCIATION, not CAUSATION\")\n",
        "    print(\"  2. Survivorship bias partially mitigated by using mature companies only\")\n",
        "    print(\"  3. Many unmeasured factors influence success (market timing, execution, luck)\")\n",
        "    print(\"  4. Past performance ≠ future results\")\n",
        "    print(\"  5. Enhanced features provide better predictive power than basic features\")\n",
        "    \n",
        "    return model, feature_importance, {\n",
        "        'train_score': train_score,\n",
        "        'test_score': test_score,\n",
        "        'roc_auc': roc_auc,\n",
        "        'cv_scores': cv_scores,\n",
        "        'enhanced_features': True,\n",
        "        'num_features': len(feature_cols)\n",
        "    }\n",
        "\n",
        "# Build enhanced predictive model\n",
        "print(\"🤖 Building Enhanced Success Prediction Model\")\n",
        "model, feature_importance, model_metrics = build_success_prediction_model()\n"
      ]
    },
    {
      "cell_type": "markdown",
      "metadata": {},
      "source": [
        "## 2.12. Actionable Recommendations\n"
      ]
    },
    {
      "cell_type": "code",
      "execution_count": 73,
      "metadata": {},
      "outputs": [
        {
          "name": "stdout",
          "output_type": "stream",
          "text": [
            "💡 Actionable Recommendations Engine\n"
          ]
        },
        {
          "data": {
            "application/vnd.jupyter.widget-view+json": {
              "model_id": "ea3d081a184047be8fc5ce17d263df66",
              "version_major": 2,
              "version_minor": 0
            },
            "text/plain": [
              "interactive(children=(Dropdown(description='Founder Type', options=('solo', 'team'), value='solo'), Dropdown(d…"
            ]
          },
          "metadata": {},
          "output_type": "display_data"
        }
      ],
      "source": [
        "# Actionable Recommendations - Data-driven insights for founders\n",
        "def get_personalized_recommendations(founder_type='solo', industry=None, location='San Francisco'):\n",
        "    \"\"\"\n",
        "    Generate personalized recommendations based on founder profile\n",
        "    \"\"\"\n",
        "    print(\"\\n\" + \"═\" * 80)\n",
        "    print(f\"  PERSONALIZED RECOMMENDATIONS\")\n",
        "    print(f\"  Profile: {founder_type.title()} Founder | Industry: {industry or 'General'} | Location: {location}\")\n",
        "    print(\"═\" * 80)\n",
        "    \n",
        "    # Filter similar companies\n",
        "    if founder_type == 'solo':\n",
        "        similar = df[df['is_solo_founder']]\n",
        "    else:\n",
        "        similar = df[df['is_team_founded']]\n",
        "    \n",
        "    if industry:\n",
        "        similar = similar[similar['tags'].apply(\n",
        "            lambda x: industry.lower() in ' '.join(x).lower() if isinstance(x, list) else False\n",
        "        )]\n",
        "    \n",
        "    # Calculate metrics\n",
        "    success_rate = similar['is_successful'].mean() * 100\n",
        "    avg_team_size = similar['team_size'].mean()\n",
        "    top_locations = similar['location'].value_counts().head(5)\n",
        "    \n",
        "    print(f\"\\n✅ SUCCESS METRICS (Based on {len(similar):,} similar companies):\")\n",
        "    print(f\"  • Success Rate: {success_rate:.1f}%\")\n",
        "    print(f\"  • Average Team Size: {avg_team_size:.1f}\")\n",
        "    \n",
        "    print(f\"\\n🎯 KEY INSIGHTS:\")\n",
        "    \n",
        "    # Insight 1: Team composition\n",
        "    if founder_type == 'solo':\n",
        "        team_growth = (similar['team_size'] > similar['num_founders']).mean() * 100\n",
        "        print(f\"  • {team_growth:.1f}% of solo founders grow their team\")\n",
        "        successful_solos = similar[similar['is_successful']]\n",
        "        if len(successful_solos) > 0:\n",
        "            print(f\"  • Successful solo founders have avg {successful_solos['team_size'].mean():.0f} person teams\")\n",
        "    else:\n",
        "        print(f\"  • Team-founded companies have higher success rates\")\n",
        "    \n",
        "    # Insight 2: Location advantage\n",
        "    print(f\"\\n📍 TOP LOCATIONS FOR SIMILAR COMPANIES:\")\n",
        "    for loc, count in top_locations.items():\n",
        "        loc_success = similar[similar['location'] == loc]['is_successful'].mean() * 100\n",
        "        print(f\"  • {loc}: {count} companies ({loc_success:.1f}% success rate)\")\n",
        "    \n",
        "    # Insight 3: Industry trends\n",
        "    if industry:\n",
        "        recent_trend = similar[similar['batch_year'] >= 2020].shape[0]\n",
        "        total_trend = similar.shape[0]\n",
        "        print(f\"\\n📈 INDUSTRY TREND:\")\n",
        "        print(f\"  • {recent_trend}/{total_trend} companies in {industry} are from recent batches (2020+)\")\n",
        "        momentum = \"🔥 Hot\" if recent_trend/total_trend > 0.4 else \"📊 Steady\" if recent_trend/total_trend > 0.2 else \"⚠️  Declining\"\n",
        "        print(f\"  • Industry momentum: {momentum}\")\n",
        "    \n",
        "    # Recommendations\n",
        "    print(f\"\\n💡 RECOMMENDATIONS:\")\n",
        "    if success_rate < 5:\n",
        "        print(f\"  ⚠️  Warning: This profile has lower than average success rate\")\n",
        "        print(f\"  → Consider: Pivoting, finding co-founders, or targeting different market\")\n",
        "    elif success_rate > 15:\n",
        "        print(f\"  ✅ Strong profile with above-average success rate\")\n",
        "        print(f\"  → Focus on: Execution, customer acquisition, product-market fit\")\n",
        "    \n",
        "    if founder_type == 'solo' and team_growth > 70:\n",
        "        print(f\"  → Plan to hire early - {team_growth:.0f}% of successful solos grow their team\")\n",
        "    \n",
        "    print(\"\\n\" + \"═\" * 80)\n",
        "\n",
        "def create_interactive_recommendations():\n",
        "    \"\"\"Create interactive recommendation widget\"\"\"\n",
        "    from ipywidgets import interact, Dropdown\n",
        "    \n",
        "    # Get unique industries and locations\n",
        "    unique_industries = ['General'] + sorted(list(set([tag for tags in df['tags'].dropna() for tag in tags if isinstance(tags, list)]))[:30])\n",
        "    unique_locations = ['Any'] + df['location'].value_counts().head(20).index.tolist()\n",
        "    \n",
        "    @interact(\n",
        "        founder_type=Dropdown(options=['solo', 'team'], description='Founder Type'),\n",
        "        industry=Dropdown(options=unique_industries, description='Industry'),\n",
        "        location=Dropdown(options=unique_locations, description='Location')\n",
        "    )\n",
        "    def interactive_recommendations(founder_type, industry, location):\n",
        "        industry = None if industry == 'General' else industry\n",
        "        location = None if location == 'Any' else location\n",
        "        get_personalized_recommendations(founder_type, industry, location or 'Any')\n",
        "    \n",
        "    return interactive_recommendations\n",
        "\n",
        "# Create interactive recommendations\n",
        "print(\"💡 Actionable Recommendations Engine\")\n",
        "interactive_recommendations = create_interactive_recommendations()\n"
      ]
    },
    {
      "cell_type": "code",
      "execution_count": 74,
      "metadata": {},
      "outputs": [
        {
          "name": "stdout",
          "output_type": "stream",
          "text": [
            "✅ OpenAI client initialized\n",
            "🧠 Company Intelligence Engine initialized\n"
          ]
        }
      ],
      "source": [
        "# OpenAI Setup\n",
        "import os\n",
        "from dotenv import load_dotenv\n",
        "\n",
        "# Load environment variables\n",
        "load_dotenv()\n",
        "\n",
        "# Initialize OpenAI client\n",
        "api_key = os.environ.get('OPENAI_API_KEY')\n",
        "if not api_key:\n",
        "    print(\"⚠️ OPENAI_API_KEY not found in environment variables\")\n",
        "    print(\"\\nSet it with: export OPENAI_API_KEY='your-key'\")\n",
        "    print(\"Or in notebook: import os; os.environ['OPENAI_API_KEY'] = 'your-key'\")\n",
        "    client = None\n",
        "else:\n",
        "    client = OpenAI(api_key=api_key)\n",
        "    print(\"✅ OpenAI client initialized\")\n",
        "\n",
        "class CompanyIntelligence:\n",
        "    \"\"\"AI-powered company analysis and insights generation\"\"\"\n",
        "    \n",
        "    def __init__(self, openai_client):\n",
        "        self.client = openai_client\n",
        "        \n",
        "    def analyze_company_archetype(self, company_data):\n",
        "        \"\"\"Analyze company to determine business model archetype\"\"\"\n",
        "        if not self.client:\n",
        "            return \"OpenAI client not available\"\n",
        "            \n",
        "        prompt = f\"\"\"\n",
        "        Analyze this YC company and identify its business model archetype:\n",
        "        \n",
        "        Company: {company_data['company_name']}\n",
        "        Description: {company_data['short_description']}\n",
        "        Tags: {company_data['tags']}\n",
        "        Location: {company_data['location']}\n",
        "        Team Size: {company_data['team_size']}\n",
        "        Founders: {company_data['num_founders']}\n",
        "        \n",
        "        Classify into one of these archetypes:\n",
        "        1. B2B SaaS - Software for businesses\n",
        "        2. Marketplace - Connecting buyers and sellers\n",
        "        3. Consumer - Direct to consumer products/services\n",
        "        4. AI/ML - AI/ML focused companies\n",
        "        5. Fintech - Financial technology\n",
        "        6. Healthcare - Health/medical technology\n",
        "        7. Other - Doesn't fit above categories\n",
        "        \n",
        "        Also provide:\n",
        "        - Market positioning (pioneer, fast-follower, niche player)\n",
        "        - Target customer segment\n",
        "        - Key competitive advantages mentioned\n",
        "        - Growth stage indicators\n",
        "        \n",
        "        Format as JSON with archetype, positioning, customers, advantages, stage.\n",
        "        \"\"\"\n",
        "        \n",
        "        try:\n",
        "            response = self.client.chat.completions.create(\n",
        "                model=\"gpt-4\",\n",
        "                messages=[{\"role\": \"user\", \"content\": prompt}],\n",
        "                temperature=0.3\n",
        "            )\n",
        "            return response.choices[0].message.content\n",
        "        except Exception as e:\n",
        "            return f\"Analysis failed: {str(e)}\"\n",
        "    \n",
        "    def predict_success_probability(self, company_data):\n",
        "        \"\"\"Predict success probability with AI-generated reasoning\"\"\"\n",
        "        if not self.client:\n",
        "            return \"OpenAI client not available\"\n",
        "            \n",
        "        prompt = f\"\"\"\n",
        "        Analyze this YC company's success potential:\n",
        "        \n",
        "        Company: {company_data['company_name']}\n",
        "        Description: {company_data['short_description']}\n",
        "        Long Description: {company_data.get('long_description', 'N/A')}\n",
        "        Tags: {company_data['tags']}\n",
        "        Location: {company_data['location']}\n",
        "        Team Size: {company_data['team_size']}\n",
        "        Founders: {company_data['num_founders']}\n",
        "        Batch: {company_data['batch']}\n",
        "        \n",
        "        Based on successful YC company patterns, provide:\n",
        "        1. Success probability (0-100%)\n",
        "        2. Key success factors present\n",
        "        3. Potential risks/concerns\n",
        "        4. Recommendations for improvement\n",
        "        5. Similar successful companies (if any)\n",
        "        \n",
        "        Format as structured analysis with reasoning.\n",
        "        \"\"\"\n",
        "        \n",
        "        try:\n",
        "            response = self.client.chat.completions.create(\n",
        "                model=\"gpt-4\",\n",
        "                messages=[{\"role\": \"user\", \"content\": prompt}],\n",
        "                temperature=0.4\n",
        "            )\n",
        "            return response.choices[0].message.content\n",
        "        except Exception as e:\n",
        "            return f\"Prediction failed: {str(e)}\"\n",
        "    \n",
        "    def generate_competitive_analysis(self, company_data):\n",
        "        \"\"\"Generate competitive landscape analysis\"\"\"\n",
        "        if not self.client:\n",
        "            return \"OpenAI client not available\"\n",
        "            \n",
        "        prompt = f\"\"\"\n",
        "        Analyze the competitive landscape for this YC company:\n",
        "        \n",
        "        Company: {company_data['company_name']}\n",
        "        Description: {company_data['short_description']}\n",
        "        Tags: {company_data['tags']}\n",
        "        \n",
        "        Provide:\n",
        "        1. Direct competitors (other YC companies in similar space)\n",
        "        2. Market positioning opportunities\n",
        "        3. Competitive advantages to highlight\n",
        "        4. Potential partnership opportunities\n",
        "        5. Market gaps this company could fill\n",
        "        \n",
        "        Focus on actionable competitive intelligence.\n",
        "        \"\"\"\n",
        "        \n",
        "        try:\n",
        "            response = self.client.chat.completions.create(\n",
        "                model=\"gpt-4\",\n",
        "                messages=[{\"role\": \"user\", \"content\": prompt}],\n",
        "                temperature=0.5\n",
        "            )\n",
        "            return response.choices[0].message.content\n",
        "        except Exception as e:\n",
        "            return f\"Competitive analysis failed: {str(e)}\"\n",
        "\n",
        "# Initialize the intelligence engine\n",
        "if client:\n",
        "    intelligence = CompanyIntelligence(client)\n",
        "    print(\"🧠 Company Intelligence Engine initialized\")\n",
        "else:\n",
        "    intelligence = None\n",
        "    print(\"⚠️ Company Intelligence Engine not available (no OpenAI API key)\")\n"
      ]
    },
    {
      "cell_type": "markdown",
      "metadata": {},
      "source": [
        "## 3. Company Intelligence Engine\n"
      ]
    },
    {
      "cell_type": "code",
      "execution_count": 75,
      "metadata": {},
      "outputs": [
        {
          "name": "stdout",
          "output_type": "stream",
          "text": [
            "🎛️ Interactive Analysis Interface Ready\n",
            "Use the widgets below to analyze companies with AI insights\n"
          ]
        }
      ],
      "source": [
        "# Interactive Analysis Functions\n",
        "def analyze_company_interactive(company_name=None, company_index=None):\n",
        "    \"\"\"Interactive company analysis with AI insights\"\"\"\n",
        "    if company_name:\n",
        "        company = df[df['company_name'].str.contains(company_name, case=False, na=False)]\n",
        "        if len(company) == 0:\n",
        "            print(f\"❌ Company '{company_name}' not found\")\n",
        "            return\n",
        "        company = company.iloc[0]\n",
        "    elif company_index is not None:\n",
        "        company = df.iloc[company_index]\n",
        "    else:\n",
        "        # Random company\n",
        "        company = df.sample(1).iloc[0]\n",
        "    \n",
        "    print(f\"🔍 Analyzing: {company['company_name']}\")\n",
        "    print(f\"📝 Description: {company['short_description']}\")\n",
        "    print(f\"🏷️ Tags: {company['tags']}\")\n",
        "    print(f\"📍 Location: {company['location']}\")\n",
        "    print(f\"👥 Team: {company['num_founders']} founders, {company['team_size']} total\")\n",
        "    print(f\"📊 Status: {company['status']}\")\n",
        "    print(f\"📈 Success: {'✅' if company['is_successful'] else '❌'}\")\n",
        "    \n",
        "    if intelligence:\n",
        "        print(\"\\n\" + \"=\"*60)\n",
        "        print(\"🧠 AI-POWERED ANALYSIS\")\n",
        "        print(\"=\"*60)\n",
        "        \n",
        "        # Archetype analysis\n",
        "        print(\"\\n📋 BUSINESS MODEL ARCHETYPE:\")\n",
        "        archetype_analysis = intelligence.analyze_company_archetype(company)\n",
        "        print(archetype_analysis)\n",
        "        \n",
        "        print(\"\\n🎯 SUCCESS PREDICTION:\")\n",
        "        success_analysis = intelligence.predict_success_probability(company)\n",
        "        print(success_analysis)\n",
        "        \n",
        "        print(\"\\n⚔️ COMPETITIVE ANALYSIS:\")\n",
        "        competitive_analysis = intelligence.generate_competitive_analysis(company)\n",
        "        print(competitive_analysis)\n",
        "    else:\n",
        "        print(\"\\n⚠️ AI analysis not available (OpenAI API key required)\")\n",
        "\n",
        "# Create interactive widgets\n",
        "def create_analysis_widgets():\n",
        "    \"\"\"Create interactive widgets for company analysis\"\"\"\n",
        "    \n",
        "    # Company selector\n",
        "    company_options = [f\"{row['company_name']} ({row['batch']})\" for idx, row in df.iterrows()]\n",
        "    company_selector = widgets.Dropdown(\n",
        "        options=company_options,\n",
        "        description='Company:',\n",
        "        style={'description_width': 'initial'},\n",
        "        layout=widgets.Layout(width='400px')\n",
        "    )\n",
        "    \n",
        "    # Analysis type selector\n",
        "    analysis_type = widgets.RadioButtons(\n",
        "        options=['Full Analysis', 'Archetype Only', 'Success Prediction', 'Competitive Analysis'],\n",
        "        description='Analysis:',\n",
        "        style={'description_width': 'initial'}\n",
        "    )\n",
        "    \n",
        "    # Random company button\n",
        "    random_button = widgets.Button(\n",
        "        description='🎲 Random Company',\n",
        "        button_style='info',\n",
        "        layout=widgets.Layout(width='150px')\n",
        "    )\n",
        "    \n",
        "    # Output area\n",
        "    output = widgets.Output()\n",
        "    \n",
        "    def on_company_change(change):\n",
        "        with output:\n",
        "            output.clear_output()\n",
        "            if change['new']:\n",
        "                company_idx = company_options.index(change['new'])\n",
        "                analyze_company_interactive(company_index=company_idx)\n",
        "    \n",
        "    def on_random_click(b):\n",
        "        with output:\n",
        "            output.clear_output()\n",
        "            analyze_company_interactive()\n",
        "    \n",
        "    company_selector.observe(on_company_change, names='value')\n",
        "    random_button.on_click(on_random_click)\n",
        "    \n",
        "    # Layout\n",
        "    controls = widgets.HBox([company_selector, random_button])\n",
        "    display(controls)\n",
        "    display(output)\n",
        "    \n",
        "    return company_selector, analysis_type, random_button, output\n",
        "\n",
        "print(\"🎛️ Interactive Analysis Interface Ready\")\n",
        "print(\"Use the widgets below to analyze companies with AI insights\")\n"
      ]
    },
    {
      "cell_type": "markdown",
      "metadata": {},
      "source": [
        "## 4. Market Intelligence & Trends\n"
      ]
    },
    {
      "cell_type": "code",
      "execution_count": 76,
      "metadata": {},
      "outputs": [
        {
          "name": "stdout",
          "output_type": "stream",
          "text": [
            "📈 Market Intelligence Engine initialized\n",
            "📈 Market Intelligence Ready\n",
            "Run quick_market_analysis() for instant insights\n"
          ]
        }
      ],
      "source": [
        "# Market Intelligence Engine\n",
        "class MarketIntelligence:\n",
        "    \"\"\"AI-powered market trend analysis and opportunity detection\"\"\"\n",
        "    \n",
        "    def __init__(self, openai_client, df):\n",
        "        self.client = openai_client\n",
        "        self.df = df\n",
        "        \n",
        "    def analyze_industry_trends(self, time_period='2020-2025'):\n",
        "        \"\"\"Analyze industry trends over time with AI insights\"\"\"\n",
        "        if not self.client:\n",
        "            return \"OpenAI client not available\"\n",
        "        \n",
        "        # Get trend data\n",
        "        recent_companies = self.df[self.df['batch_year'] >= 2020]\n",
        "        industry_counts = recent_companies['tags'].explode().value_counts().head(20)\n",
        "        \n",
        "        prompt = f\"\"\"\n",
        "        Analyze these YC industry trends from {time_period}:\n",
        "        \n",
        "        Top Industries: {dict(industry_counts.head(10))}\n",
        "        \n",
        "        Provide insights on:\n",
        "        1. Emerging hot sectors (growing rapidly)\n",
        "        2. Saturated markets (declining or stable)\n",
        "        3. Market opportunities (underserved areas)\n",
        "        4. Investment timing recommendations\n",
        "        5. Competitive landscape changes\n",
        "        \n",
        "        Focus on actionable market intelligence for founders and investors.\n",
        "        \"\"\"\n",
        "        \n",
        "        try:\n",
        "            response = self.client.chat.completions.create(\n",
        "                model=\"gpt-4\",\n",
        "                messages=[{\"role\": \"user\", \"content\": prompt}],\n",
        "                temperature=0.4\n",
        "            )\n",
        "            return response.choices[0].message.content\n",
        "        except Exception as e:\n",
        "            return f\"Trend analysis failed: {str(e)}\"\n",
        "    \n",
        "    def identify_market_opportunities(self, filters=None):\n",
        "        \"\"\"Identify market gaps and opportunities\"\"\"\n",
        "        if not self.client:\n",
        "            return \"OpenAI client not available\"\n",
        "        \n",
        "        # Filter data\n",
        "        filtered_df = self.df.copy()\n",
        "        if filters:\n",
        "            for key, value in filters.items():\n",
        "                if key in filtered_df.columns:\n",
        "                    filtered_df = filtered_df[filtered_df[key] == value]\n",
        "        \n",
        "        # Get sample descriptions\n",
        "        sample_descriptions = filtered_df['short_description'].dropna().head(50).tolist()\n",
        "        \n",
        "        prompt = f\"\"\"\n",
        "        Analyze these YC company descriptions to identify market opportunities:\n",
        "        \n",
        "        Sample Descriptions: {sample_descriptions[:10]}\n",
        "        \n",
        "        Identify:\n",
        "        1. Underserved market segments\n",
        "        2. Emerging problem areas\n",
        "        3. Technology gaps\n",
        "        4. Partnership opportunities\n",
        "        5. Market timing insights\n",
        "        \n",
        "        Provide specific, actionable opportunities for new startups.\n",
        "        \"\"\"\n",
        "        \n",
        "        try:\n",
        "            response = self.client.chat.completions.create(\n",
        "                model=\"gpt-4\",\n",
        "                messages=[{\"role\": \"user\", \"content\": prompt}],\n",
        "                temperature=0.5\n",
        "            )\n",
        "            return response.choices[0].message.content\n",
        "        except Exception as e:\n",
        "            return f\"Opportunity analysis failed: {str(e)}\"\n",
        "    \n",
        "    def generate_market_report(self):\n",
        "        \"\"\"Generate comprehensive market intelligence report\"\"\"\n",
        "        if not self.client:\n",
        "            return \"OpenAI client not available\"\n",
        "        \n",
        "        # Gather market data\n",
        "        success_by_industry = self.df.groupby('tags').agg({\n",
        "            'is_successful': ['count', 'sum', 'mean'],\n",
        "            'company_name': 'count'\n",
        "        }).round(3)\n",
        "        \n",
        "        location_trends = self.df['location'].value_counts().head(10)\n",
        "        batch_trends = self.df['batch_year'].value_counts().sort_index()\n",
        "        \n",
        "        prompt = f\"\"\"\n",
        "        Generate a comprehensive market intelligence report based on YC data:\n",
        "        \n",
        "        Success by Industry: {success_by_industry.head(10).to_dict()}\n",
        "        Top Locations: {dict(location_trends)}\n",
        "        Batch Trends: {dict(batch_trends.tail(10))}\n",
        "        \n",
        "        Create a report covering:\n",
        "        1. Executive Summary\n",
        "        2. Market Trends & Opportunities\n",
        "        3. Success Factors Analysis\n",
        "        4. Geographic Insights\n",
        "        5. Investment Recommendations\n",
        "        6. Risk Assessment\n",
        "        \n",
        "        Format as a professional market intelligence report.\n",
        "        \"\"\"\n",
        "        \n",
        "        try:\n",
        "            response = self.client.chat.completions.create(\n",
        "                model=\"gpt-4\",\n",
        "                messages=[{\"role\": \"user\", \"content\": prompt}],\n",
        "                temperature=0.3\n",
        "            )\n",
        "            return response.choices[0].message.content\n",
        "        except Exception as e:\n",
        "            return f\"Market report generation failed: {str(e)}\"\n",
        "\n",
        "# Initialize market intelligence\n",
        "if client:\n",
        "    market_intel = MarketIntelligence(client, df)\n",
        "    print(\"📈 Market Intelligence Engine initialized\")\n",
        "else:\n",
        "    market_intel = None\n",
        "    print(\"⚠️ Market Intelligence not available (no OpenAI API key)\")\n",
        "\n",
        "# Quick market analysis\n",
        "def quick_market_analysis():\n",
        "    \"\"\"Run quick market intelligence analysis\"\"\"\n",
        "    if not market_intel:\n",
        "        print(\"⚠️ Market Intelligence not available\")\n",
        "        return\n",
        "    \n",
        "    print(\"🔍 Analyzing Market Trends...\")\n",
        "    trends = market_intel.analyze_industry_trends()\n",
        "    print(\"\\n📊 INDUSTRY TRENDS:\")\n",
        "    print(trends)\n",
        "    \n",
        "    print(\"\\n🎯 MARKET OPPORTUNITIES:\")\n",
        "    opportunities = market_intel.identify_market_opportunities()\n",
        "    print(opportunities)\n",
        "\n",
        "print(\"📈 Market Intelligence Ready\")\n",
        "print(\"Run quick_market_analysis() for instant insights\")\n"
      ]
    },
    {
      "cell_type": "markdown",
      "metadata": {},
      "source": [
        "## 5. Interactive Analysis Interface\n"
      ]
    },
    {
      "cell_type": "code",
      "execution_count": 77,
      "metadata": {},
      "outputs": [
        {
          "name": "stdout",
          "output_type": "stream",
          "text": [
            "📊 Creating AI-Enhanced Insights Dashboard...\n"
          ]
        },
        {
          "data": {
            "application/vnd.plotly.v1+json": {
              "config": {
                "plotlyServerURL": "https://plot.ly"
              },
              "data": [
                {
                  "marker": {
                    "color": "lightblue"
                  },
                  "name": "Success Rate",
                  "type": "bar",
                  "x": [
                    "art-trading-platforms",
                    "small-modular-reactors",
                    "smart-locks",
                    "smart-home-assistants",
                    "blockchain",
                    "chatbots",
                    "coding-bootcamps",
                    "election-tech",
                    "culture",
                    "cultivated-meat"
                  ],
                  "xaxis": "x",
                  "y": [
                    1,
                    1,
                    1,
                    0.571,
                    0.5,
                    0.5,
                    0.5,
                    0.5,
                    0.5,
                    0.5
                  ],
                  "yaxis": "y"
                },
                {
                  "domain": {
                    "x": [
                      0.55,
                      1
                    ],
                    "y": [
                      0.625,
                      1
                    ]
                  },
                  "labels": [
                    "0 founders",
                    "1 founders",
                    "2 founders",
                    "3 founders",
                    "4 founders",
                    "5 founders",
                    "6 founders"
                  ],
                  "name": "Team Size Distribution",
                  "type": "pie",
                  "values": [
                    17,
                    1423,
                    2960,
                    890,
                    152,
                    18,
                    3
                  ]
                },
                {
                  "marker": {
                    "color": "green",
                    "size": 10
                  },
                  "mode": "markers+text",
                  "name": "Location Performance",
                  "text": [
                    "CA",
                    "Redwood City, CA",
                    "NY",
                    "Chicago, IL",
                    "New Delhi, India",
                    "Santa Clara, CA",
                    "San Mateo, CA",
                    "Mountain View",
                    "Santa Monica, CA",
                    "Boston"
                  ],
                  "type": "scatter",
                  "x": [
                    13,
                    27,
                    15,
                    27,
                    11,
                    15,
                    35,
                    85,
                    13,
                    61
                  ],
                  "xaxis": "x2",
                  "y": [
                    0.385,
                    0.333,
                    0.333,
                    0.296,
                    0.273,
                    0.267,
                    0.257,
                    0.235,
                    0.231,
                    0.213
                  ],
                  "yaxis": "y2"
                },
                {
                  "marker": {
                    "color": "orange"
                  },
                  "name": "Companies per Batch",
                  "type": "bar",
                  "x": [
                    2005,
                    2006,
                    2007,
                    2008,
                    2009,
                    2010,
                    2011,
                    2012,
                    2013,
                    2014,
                    2015,
                    2016,
                    2017,
                    2018,
                    2019,
                    2020,
                    2021,
                    2022,
                    2023,
                    2024,
                    2025
                  ],
                  "xaxis": "x3",
                  "y": [
                    9,
                    18,
                    32,
                    43,
                    42,
                    63,
                    105,
                    149,
                    98,
                    152,
                    216,
                    224,
                    241,
                    277,
                    371,
                    436,
                    727,
                    634,
                    496,
                    596,
                    534
                  ],
                  "yaxis": "y3"
                }
              ],
              "layout": {
                "annotations": [
                  {
                    "font": {
                      "size": 16
                    },
                    "showarrow": false,
                    "text": "Success by Industry",
                    "x": 0.225,
                    "xanchor": "center",
                    "xref": "paper",
                    "y": 1,
                    "yanchor": "bottom",
                    "yref": "paper"
                  },
                  {
                    "font": {
                      "size": 16
                    },
                    "showarrow": false,
                    "text": "Founder Team Analysis",
                    "x": 0.775,
                    "xanchor": "center",
                    "xref": "paper",
                    "y": 1,
                    "yanchor": "bottom",
                    "yref": "paper"
                  },
                  {
                    "font": {
                      "size": 16
                    },
                    "showarrow": false,
                    "text": "Geographic Distribution",
                    "x": 0.225,
                    "xanchor": "center",
                    "xref": "paper",
                    "y": 0.375,
                    "yanchor": "bottom",
                    "yref": "paper"
                  },
                  {
                    "font": {
                      "size": 16
                    },
                    "showarrow": false,
                    "text": "Market Trends",
                    "x": 0.775,
                    "xanchor": "center",
                    "xref": "paper",
                    "y": 0.375,
                    "yanchor": "bottom",
                    "yref": "paper"
                  }
                ],
                "height": 800,
                "showlegend": false,
                "template": {
                  "data": {
                    "bar": [
                      {
                        "error_x": {
                          "color": "#2a3f5f"
                        },
                        "error_y": {
                          "color": "#2a3f5f"
                        },
                        "marker": {
                          "line": {
                            "color": "#E5ECF6",
                            "width": 0.5
                          },
                          "pattern": {
                            "fillmode": "overlay",
                            "size": 10,
                            "solidity": 0.2
                          }
                        },
                        "type": "bar"
                      }
                    ],
                    "barpolar": [
                      {
                        "marker": {
                          "line": {
                            "color": "#E5ECF6",
                            "width": 0.5
                          },
                          "pattern": {
                            "fillmode": "overlay",
                            "size": 10,
                            "solidity": 0.2
                          }
                        },
                        "type": "barpolar"
                      }
                    ],
                    "carpet": [
                      {
                        "aaxis": {
                          "endlinecolor": "#2a3f5f",
                          "gridcolor": "white",
                          "linecolor": "white",
                          "minorgridcolor": "white",
                          "startlinecolor": "#2a3f5f"
                        },
                        "baxis": {
                          "endlinecolor": "#2a3f5f",
                          "gridcolor": "white",
                          "linecolor": "white",
                          "minorgridcolor": "white",
                          "startlinecolor": "#2a3f5f"
                        },
                        "type": "carpet"
                      }
                    ],
                    "choropleth": [
                      {
                        "colorbar": {
                          "outlinewidth": 0,
                          "ticks": ""
                        },
                        "type": "choropleth"
                      }
                    ],
                    "contour": [
                      {
                        "colorbar": {
                          "outlinewidth": 0,
                          "ticks": ""
                        },
                        "colorscale": [
                          [
                            0,
                            "#0d0887"
                          ],
                          [
                            0.1111111111111111,
                            "#46039f"
                          ],
                          [
                            0.2222222222222222,
                            "#7201a8"
                          ],
                          [
                            0.3333333333333333,
                            "#9c179e"
                          ],
                          [
                            0.4444444444444444,
                            "#bd3786"
                          ],
                          [
                            0.5555555555555556,
                            "#d8576b"
                          ],
                          [
                            0.6666666666666666,
                            "#ed7953"
                          ],
                          [
                            0.7777777777777778,
                            "#fb9f3a"
                          ],
                          [
                            0.8888888888888888,
                            "#fdca26"
                          ],
                          [
                            1,
                            "#f0f921"
                          ]
                        ],
                        "type": "contour"
                      }
                    ],
                    "contourcarpet": [
                      {
                        "colorbar": {
                          "outlinewidth": 0,
                          "ticks": ""
                        },
                        "type": "contourcarpet"
                      }
                    ],
                    "heatmap": [
                      {
                        "colorbar": {
                          "outlinewidth": 0,
                          "ticks": ""
                        },
                        "colorscale": [
                          [
                            0,
                            "#0d0887"
                          ],
                          [
                            0.1111111111111111,
                            "#46039f"
                          ],
                          [
                            0.2222222222222222,
                            "#7201a8"
                          ],
                          [
                            0.3333333333333333,
                            "#9c179e"
                          ],
                          [
                            0.4444444444444444,
                            "#bd3786"
                          ],
                          [
                            0.5555555555555556,
                            "#d8576b"
                          ],
                          [
                            0.6666666666666666,
                            "#ed7953"
                          ],
                          [
                            0.7777777777777778,
                            "#fb9f3a"
                          ],
                          [
                            0.8888888888888888,
                            "#fdca26"
                          ],
                          [
                            1,
                            "#f0f921"
                          ]
                        ],
                        "type": "heatmap"
                      }
                    ],
                    "heatmapgl": [
                      {
                        "colorbar": {
                          "outlinewidth": 0,
                          "ticks": ""
                        },
                        "colorscale": [
                          [
                            0,
                            "#0d0887"
                          ],
                          [
                            0.1111111111111111,
                            "#46039f"
                          ],
                          [
                            0.2222222222222222,
                            "#7201a8"
                          ],
                          [
                            0.3333333333333333,
                            "#9c179e"
                          ],
                          [
                            0.4444444444444444,
                            "#bd3786"
                          ],
                          [
                            0.5555555555555556,
                            "#d8576b"
                          ],
                          [
                            0.6666666666666666,
                            "#ed7953"
                          ],
                          [
                            0.7777777777777778,
                            "#fb9f3a"
                          ],
                          [
                            0.8888888888888888,
                            "#fdca26"
                          ],
                          [
                            1,
                            "#f0f921"
                          ]
                        ],
                        "type": "heatmapgl"
                      }
                    ],
                    "histogram": [
                      {
                        "marker": {
                          "pattern": {
                            "fillmode": "overlay",
                            "size": 10,
                            "solidity": 0.2
                          }
                        },
                        "type": "histogram"
                      }
                    ],
                    "histogram2d": [
                      {
                        "colorbar": {
                          "outlinewidth": 0,
                          "ticks": ""
                        },
                        "colorscale": [
                          [
                            0,
                            "#0d0887"
                          ],
                          [
                            0.1111111111111111,
                            "#46039f"
                          ],
                          [
                            0.2222222222222222,
                            "#7201a8"
                          ],
                          [
                            0.3333333333333333,
                            "#9c179e"
                          ],
                          [
                            0.4444444444444444,
                            "#bd3786"
                          ],
                          [
                            0.5555555555555556,
                            "#d8576b"
                          ],
                          [
                            0.6666666666666666,
                            "#ed7953"
                          ],
                          [
                            0.7777777777777778,
                            "#fb9f3a"
                          ],
                          [
                            0.8888888888888888,
                            "#fdca26"
                          ],
                          [
                            1,
                            "#f0f921"
                          ]
                        ],
                        "type": "histogram2d"
                      }
                    ],
                    "histogram2dcontour": [
                      {
                        "colorbar": {
                          "outlinewidth": 0,
                          "ticks": ""
                        },
                        "colorscale": [
                          [
                            0,
                            "#0d0887"
                          ],
                          [
                            0.1111111111111111,
                            "#46039f"
                          ],
                          [
                            0.2222222222222222,
                            "#7201a8"
                          ],
                          [
                            0.3333333333333333,
                            "#9c179e"
                          ],
                          [
                            0.4444444444444444,
                            "#bd3786"
                          ],
                          [
                            0.5555555555555556,
                            "#d8576b"
                          ],
                          [
                            0.6666666666666666,
                            "#ed7953"
                          ],
                          [
                            0.7777777777777778,
                            "#fb9f3a"
                          ],
                          [
                            0.8888888888888888,
                            "#fdca26"
                          ],
                          [
                            1,
                            "#f0f921"
                          ]
                        ],
                        "type": "histogram2dcontour"
                      }
                    ],
                    "mesh3d": [
                      {
                        "colorbar": {
                          "outlinewidth": 0,
                          "ticks": ""
                        },
                        "type": "mesh3d"
                      }
                    ],
                    "parcoords": [
                      {
                        "line": {
                          "colorbar": {
                            "outlinewidth": 0,
                            "ticks": ""
                          }
                        },
                        "type": "parcoords"
                      }
                    ],
                    "pie": [
                      {
                        "automargin": true,
                        "type": "pie"
                      }
                    ],
                    "scatter": [
                      {
                        "fillpattern": {
                          "fillmode": "overlay",
                          "size": 10,
                          "solidity": 0.2
                        },
                        "type": "scatter"
                      }
                    ],
                    "scatter3d": [
                      {
                        "line": {
                          "colorbar": {
                            "outlinewidth": 0,
                            "ticks": ""
                          }
                        },
                        "marker": {
                          "colorbar": {
                            "outlinewidth": 0,
                            "ticks": ""
                          }
                        },
                        "type": "scatter3d"
                      }
                    ],
                    "scattercarpet": [
                      {
                        "marker": {
                          "colorbar": {
                            "outlinewidth": 0,
                            "ticks": ""
                          }
                        },
                        "type": "scattercarpet"
                      }
                    ],
                    "scattergeo": [
                      {
                        "marker": {
                          "colorbar": {
                            "outlinewidth": 0,
                            "ticks": ""
                          }
                        },
                        "type": "scattergeo"
                      }
                    ],
                    "scattergl": [
                      {
                        "marker": {
                          "colorbar": {
                            "outlinewidth": 0,
                            "ticks": ""
                          }
                        },
                        "type": "scattergl"
                      }
                    ],
                    "scattermapbox": [
                      {
                        "marker": {
                          "colorbar": {
                            "outlinewidth": 0,
                            "ticks": ""
                          }
                        },
                        "type": "scattermapbox"
                      }
                    ],
                    "scatterpolar": [
                      {
                        "marker": {
                          "colorbar": {
                            "outlinewidth": 0,
                            "ticks": ""
                          }
                        },
                        "type": "scatterpolar"
                      }
                    ],
                    "scatterpolargl": [
                      {
                        "marker": {
                          "colorbar": {
                            "outlinewidth": 0,
                            "ticks": ""
                          }
                        },
                        "type": "scatterpolargl"
                      }
                    ],
                    "scatterternary": [
                      {
                        "marker": {
                          "colorbar": {
                            "outlinewidth": 0,
                            "ticks": ""
                          }
                        },
                        "type": "scatterternary"
                      }
                    ],
                    "surface": [
                      {
                        "colorbar": {
                          "outlinewidth": 0,
                          "ticks": ""
                        },
                        "colorscale": [
                          [
                            0,
                            "#0d0887"
                          ],
                          [
                            0.1111111111111111,
                            "#46039f"
                          ],
                          [
                            0.2222222222222222,
                            "#7201a8"
                          ],
                          [
                            0.3333333333333333,
                            "#9c179e"
                          ],
                          [
                            0.4444444444444444,
                            "#bd3786"
                          ],
                          [
                            0.5555555555555556,
                            "#d8576b"
                          ],
                          [
                            0.6666666666666666,
                            "#ed7953"
                          ],
                          [
                            0.7777777777777778,
                            "#fb9f3a"
                          ],
                          [
                            0.8888888888888888,
                            "#fdca26"
                          ],
                          [
                            1,
                            "#f0f921"
                          ]
                        ],
                        "type": "surface"
                      }
                    ],
                    "table": [
                      {
                        "cells": {
                          "fill": {
                            "color": "#EBF0F8"
                          },
                          "line": {
                            "color": "white"
                          }
                        },
                        "header": {
                          "fill": {
                            "color": "#C8D4E3"
                          },
                          "line": {
                            "color": "white"
                          }
                        },
                        "type": "table"
                      }
                    ]
                  },
                  "layout": {
                    "annotationdefaults": {
                      "arrowcolor": "#2a3f5f",
                      "arrowhead": 0,
                      "arrowwidth": 1
                    },
                    "autotypenumbers": "strict",
                    "coloraxis": {
                      "colorbar": {
                        "outlinewidth": 0,
                        "ticks": ""
                      }
                    },
                    "colorscale": {
                      "diverging": [
                        [
                          0,
                          "#8e0152"
                        ],
                        [
                          0.1,
                          "#c51b7d"
                        ],
                        [
                          0.2,
                          "#de77ae"
                        ],
                        [
                          0.3,
                          "#f1b6da"
                        ],
                        [
                          0.4,
                          "#fde0ef"
                        ],
                        [
                          0.5,
                          "#f7f7f7"
                        ],
                        [
                          0.6,
                          "#e6f5d0"
                        ],
                        [
                          0.7,
                          "#b8e186"
                        ],
                        [
                          0.8,
                          "#7fbc41"
                        ],
                        [
                          0.9,
                          "#4d9221"
                        ],
                        [
                          1,
                          "#276419"
                        ]
                      ],
                      "sequential": [
                        [
                          0,
                          "#0d0887"
                        ],
                        [
                          0.1111111111111111,
                          "#46039f"
                        ],
                        [
                          0.2222222222222222,
                          "#7201a8"
                        ],
                        [
                          0.3333333333333333,
                          "#9c179e"
                        ],
                        [
                          0.4444444444444444,
                          "#bd3786"
                        ],
                        [
                          0.5555555555555556,
                          "#d8576b"
                        ],
                        [
                          0.6666666666666666,
                          "#ed7953"
                        ],
                        [
                          0.7777777777777778,
                          "#fb9f3a"
                        ],
                        [
                          0.8888888888888888,
                          "#fdca26"
                        ],
                        [
                          1,
                          "#f0f921"
                        ]
                      ],
                      "sequentialminus": [
                        [
                          0,
                          "#0d0887"
                        ],
                        [
                          0.1111111111111111,
                          "#46039f"
                        ],
                        [
                          0.2222222222222222,
                          "#7201a8"
                        ],
                        [
                          0.3333333333333333,
                          "#9c179e"
                        ],
                        [
                          0.4444444444444444,
                          "#bd3786"
                        ],
                        [
                          0.5555555555555556,
                          "#d8576b"
                        ],
                        [
                          0.6666666666666666,
                          "#ed7953"
                        ],
                        [
                          0.7777777777777778,
                          "#fb9f3a"
                        ],
                        [
                          0.8888888888888888,
                          "#fdca26"
                        ],
                        [
                          1,
                          "#f0f921"
                        ]
                      ]
                    },
                    "colorway": [
                      "#636efa",
                      "#EF553B",
                      "#00cc96",
                      "#ab63fa",
                      "#FFA15A",
                      "#19d3f3",
                      "#FF6692",
                      "#B6E880",
                      "#FF97FF",
                      "#FECB52"
                    ],
                    "font": {
                      "color": "#2a3f5f"
                    },
                    "geo": {
                      "bgcolor": "white",
                      "lakecolor": "white",
                      "landcolor": "#E5ECF6",
                      "showlakes": true,
                      "showland": true,
                      "subunitcolor": "white"
                    },
                    "hoverlabel": {
                      "align": "left"
                    },
                    "hovermode": "closest",
                    "mapbox": {
                      "style": "light"
                    },
                    "paper_bgcolor": "white",
                    "plot_bgcolor": "#E5ECF6",
                    "polar": {
                      "angularaxis": {
                        "gridcolor": "white",
                        "linecolor": "white",
                        "ticks": ""
                      },
                      "bgcolor": "#E5ECF6",
                      "radialaxis": {
                        "gridcolor": "white",
                        "linecolor": "white",
                        "ticks": ""
                      }
                    },
                    "scene": {
                      "xaxis": {
                        "backgroundcolor": "#E5ECF6",
                        "gridcolor": "white",
                        "gridwidth": 2,
                        "linecolor": "white",
                        "showbackground": true,
                        "ticks": "",
                        "zerolinecolor": "white"
                      },
                      "yaxis": {
                        "backgroundcolor": "#E5ECF6",
                        "gridcolor": "white",
                        "gridwidth": 2,
                        "linecolor": "white",
                        "showbackground": true,
                        "ticks": "",
                        "zerolinecolor": "white"
                      },
                      "zaxis": {
                        "backgroundcolor": "#E5ECF6",
                        "gridcolor": "white",
                        "gridwidth": 2,
                        "linecolor": "white",
                        "showbackground": true,
                        "ticks": "",
                        "zerolinecolor": "white"
                      }
                    },
                    "shapedefaults": {
                      "line": {
                        "color": "#2a3f5f"
                      }
                    },
                    "ternary": {
                      "aaxis": {
                        "gridcolor": "white",
                        "linecolor": "white",
                        "ticks": ""
                      },
                      "baxis": {
                        "gridcolor": "white",
                        "linecolor": "white",
                        "ticks": ""
                      },
                      "bgcolor": "#E5ECF6",
                      "caxis": {
                        "gridcolor": "white",
                        "linecolor": "white",
                        "ticks": ""
                      }
                    },
                    "title": {
                      "x": 0.05
                    },
                    "xaxis": {
                      "automargin": true,
                      "gridcolor": "white",
                      "linecolor": "white",
                      "ticks": "",
                      "title": {
                        "standoff": 15
                      },
                      "zerolinecolor": "white",
                      "zerolinewidth": 2
                    },
                    "yaxis": {
                      "automargin": true,
                      "gridcolor": "white",
                      "linecolor": "white",
                      "ticks": "",
                      "title": {
                        "standoff": 15
                      },
                      "zerolinecolor": "white",
                      "zerolinewidth": 2
                    }
                  }
                },
                "title": {
                  "text": "YC Companies: AI-Enhanced Insights Dashboard"
                },
                "xaxis": {
                  "anchor": "y",
                  "domain": [
                    0,
                    0.45
                  ]
                },
                "xaxis2": {
                  "anchor": "y2",
                  "domain": [
                    0,
                    0.45
                  ]
                },
                "xaxis3": {
                  "anchor": "y3",
                  "domain": [
                    0.55,
                    1
                  ]
                },
                "yaxis": {
                  "anchor": "x",
                  "domain": [
                    0.625,
                    1
                  ]
                },
                "yaxis2": {
                  "anchor": "x2",
                  "domain": [
                    0,
                    0.375
                  ]
                },
                "yaxis3": {
                  "anchor": "x3",
                  "domain": [
                    0,
                    0.375
                  ]
                }
              }
            }
          },
          "metadata": {},
          "output_type": "display_data"
        },
        {
          "name": "stdout",
          "output_type": "stream",
          "text": [
            "\n",
            "============================================================\n",
            "🧠 AI-POWERED INSIGHTS SUMMARY\n",
            "============================================================\n",
            "\n",
            "    🎯 KEY INSIGHTS FROM YC DATA:\n",
            "\n",
            "    📊 Overall Performance:\n",
            "    • Total Companies: 5,463\n",
            "    • Success Rate: 13.1%\n",
            "    • Successful Companies: 714\n",
            "\n",
            "    👥 Founder Analysis:\n",
            "    • Solo Founder Success: 13.5%\n",
            "    • Team Founder Success: 12.9%\n",
            "    • Team Advantage: -4.4%\n",
            "\n",
            "    🏭 Industry Performance:\n",
            "    • AI Companies Success: 6.4%\n",
            "    • B2B Companies Success: 10.7%\n",
            "\n",
            "    📍 Geographic Insights:\n",
            "    • SF Bay Area: 2,191 companies (40.1%)\n",
            "    • International: 1,738 companies (31.8%)\n",
            "\n",
            "    🎯 Success Factors:\n",
            "    • Mature Companies: 3,053 (55.9%)\n",
            "    • Average Team Size: 49.1\n",
            "    • Average Company Age: 4.8 years\n",
            "    \n"
          ]
        }
      ],
      "source": [
        "from plotly.subplots import make_subplots\n",
        "\n",
        "# Enhanced Visualization Functions\n",
        "def create_ai_insights_dashboard():\n",
        "    \"\"\"Create comprehensive AI-powered insights dashboard\"\"\"\n",
        "    \n",
        "    # Create subplots\n",
        "    fig = make_subplots(\n",
        "        rows=2, cols=2,\n",
        "        subplot_titles=('Success by Industry', 'Founder Team Analysis', \n",
        "                       'Geographic Distribution', 'Market Trends'),\n",
        "        specs=[[{\"type\": \"bar\"}, {\"type\": \"pie\"}],\n",
        "               [{\"type\": \"scatter\"}, {\"type\": \"bar\"}]]\n",
        "    )\n",
        "    \n",
        "    # 1. Success by Industry\n",
        "    industry_success = df.explode('tags').groupby('tags').agg({\n",
        "        'is_successful': ['count', 'sum', 'mean']\n",
        "    }).round(3)\n",
        "    industry_success.columns = ['total', 'successful', 'success_rate']\n",
        "    top_industries = industry_success.sort_values('success_rate', ascending=False).head(10)\n",
        "    \n",
        "    fig.add_trace(\n",
        "        go.Bar(x=top_industries.index, y=top_industries['success_rate'],\n",
        "               name='Success Rate', marker_color='lightblue'),\n",
        "        row=1, col=1\n",
        "    )\n",
        "    \n",
        "    # 2. Founder Team Analysis\n",
        "    team_analysis = df.groupby('num_founders').agg({\n",
        "        'is_successful': 'mean',\n",
        "        'company_name': 'count'\n",
        "    }).round(3)\n",
        "    \n",
        "    fig.add_trace(\n",
        "        go.Pie(labels=[f'{i} founders' for i in team_analysis.index],\n",
        "               values=team_analysis['company_name'],\n",
        "               name='Team Size Distribution'),\n",
        "        row=1, col=2\n",
        "    )\n",
        "    \n",
        "    # 3. Geographic Distribution\n",
        "    location_success = df.groupby('location').agg({\n",
        "        'is_successful': ['count', 'mean']\n",
        "    }).round(3)\n",
        "    location_success.columns = ['total', 'success_rate']\n",
        "    top_locations = location_success[location_success['total'] >= 10].sort_values('success_rate', ascending=False).head(10)\n",
        "    \n",
        "    fig.add_trace(\n",
        "        go.Scatter(x=top_locations['total'], y=top_locations['success_rate'],\n",
        "                   mode='markers+text', text=top_locations.index,\n",
        "                   name='Location Performance', marker=dict(size=10, color='green')),\n",
        "        row=2, col=1\n",
        "    )\n",
        "    \n",
        "    # 4. Market Trends\n",
        "    batch_trends = df.groupby('batch_year').agg({\n",
        "        'company_name': 'count',\n",
        "        'is_successful': 'mean'\n",
        "    }).round(3)\n",
        "    \n",
        "    fig.add_trace(\n",
        "        go.Bar(x=batch_trends.index, y=batch_trends['company_name'],\n",
        "               name='Companies per Batch', marker_color='orange'),\n",
        "        row=2, col=2\n",
        "    )\n",
        "    \n",
        "    fig.update_layout(\n",
        "        title_text=\"YC Companies: AI-Enhanced Insights Dashboard\",\n",
        "        showlegend=False,\n",
        "        height=800\n",
        "    )\n",
        "    \n",
        "    return fig\n",
        "\n",
        "def generate_insights_summary():\n",
        "    \"\"\"Generate AI-powered insights summary\"\"\"\n",
        "    if not intelligence:\n",
        "        return \"AI insights not available (OpenAI API key required)\"\n",
        "    \n",
        "    # Get key statistics\n",
        "    total_companies = len(df)\n",
        "    successful_companies = df['is_successful'].sum()\n",
        "    success_rate = successful_companies / total_companies\n",
        "    \n",
        "    solo_success = df[df['is_solo_founder']]['is_successful'].mean()\n",
        "    team_success = df[df['is_team_founded']]['is_successful'].mean()\n",
        "    \n",
        "    ai_success = df[df['is_ai']]['is_successful'].mean()\n",
        "    b2b_success = df[df['is_b2b']]['is_successful'].mean()\n",
        "    \n",
        "    # Generate insights\n",
        "    insights = f\"\"\"\n",
        "    🎯 KEY INSIGHTS FROM YC DATA:\n",
        "    \n",
        "    📊 Overall Performance:\n",
        "    • Total Companies: {total_companies:,}\n",
        "    • Success Rate: {success_rate:.1%}\n",
        "    • Successful Companies: {successful_companies:,}\n",
        "    \n",
        "    👥 Founder Analysis:\n",
        "    • Solo Founder Success: {solo_success:.1%}\n",
        "    • Team Founder Success: {team_success:.1%}\n",
        "    • Team Advantage: {((team_success - solo_success) / solo_success * 100):+.1f}%\n",
        "    \n",
        "    🏭 Industry Performance:\n",
        "    • AI Companies Success: {ai_success:.1%}\n",
        "    • B2B Companies Success: {b2b_success:.1%}\n",
        "    \n",
        "    📍 Geographic Insights:\n",
        "    • SF Bay Area: {df['is_sf_bay'].sum():,} companies ({df['is_sf_bay'].mean()*100:.1f}%)\n",
        "    • International: {(~df['is_us']).sum():,} companies ({(~df['is_us']).mean()*100:.1f}%)\n",
        "    \n",
        "    🎯 Success Factors:\n",
        "    • Mature Companies: {df['is_mature'].sum():,} ({df['is_mature'].mean()*100:.1f}%)\n",
        "    • Average Team Size: {df['team_size'].mean():.1f}\n",
        "    • Average Company Age: {df['company_age'].mean():.1f} years\n",
        "    \"\"\"\n",
        "    \n",
        "    return insights\n",
        "\n",
        "# Create the dashboard\n",
        "print(\"📊 Creating AI-Enhanced Insights Dashboard...\")\n",
        "dashboard = create_ai_insights_dashboard()\n",
        "dashboard.show()\n",
        "\n",
        "print(\"\\n\" + \"=\"*60)\n",
        "print(\"🧠 AI-POWERED INSIGHTS SUMMARY\")\n",
        "print(\"=\"*60)\n",
        "insights = generate_insights_summary()\n",
        "print(insights)\n"
      ]
    },
    {
      "cell_type": "markdown",
      "metadata": {},
      "source": [
        "## 6. Advanced Visualizations\n"
      ]
    },
    {
      "cell_type": "code",
      "execution_count": 78,
      "metadata": {},
      "outputs": [
        {
          "name": "stdout",
          "output_type": "stream",
          "text": [
            "🚀 YC GenAI Analysis - Quick Start Guide\n",
            "============================================================\n",
            "\n",
            "📚 AVAILABLE FUNCTIONS:\n",
            "\n",
            "1. analyze_company_interactive(company_name='Airbnb')\n",
            "   → Analyze any company with AI insights\n",
            "\n",
            "2. quick_market_analysis()\n",
            "   → Get instant market trends and opportunities\n",
            "\n",
            "3. create_analysis_widgets()\n",
            "   → Launch interactive analysis interface\n",
            "\n",
            "4. market_intel.generate_market_report()\n",
            "   → Generate comprehensive market intelligence report\n",
            "\n",
            "5. intelligence.predict_success_probability(company_data)\n",
            "   → Predict success with AI reasoning\n",
            "\n",
            "============================================================\n",
            "\n",
            "💡 TRY IT NOW:\n",
            "Run: analyze_company_interactive()\n",
            "     to analyze a random company with AI insights!\n",
            "\n",
            "🔑 NOTE: Requires OPENAI_API_KEY environment variable\n",
            "============================================================\n"
          ]
        }
      ],
      "source": [
        "# Quick Start Demo\n",
        "print(\"🚀 YC GenAI Analysis - Quick Start Guide\")\n",
        "print(\"=\"*60)\n",
        "print()\n",
        "print(\"📚 AVAILABLE FUNCTIONS:\")\n",
        "print()\n",
        "print(\"1. analyze_company_interactive(company_name='Airbnb')\")\n",
        "print(\"   → Analyze any company with AI insights\")\n",
        "print()\n",
        "print(\"2. quick_market_analysis()\")\n",
        "print(\"   → Get instant market trends and opportunities\")\n",
        "print()\n",
        "print(\"3. create_analysis_widgets()\")\n",
        "print(\"   → Launch interactive analysis interface\")\n",
        "print()\n",
        "print(\"4. market_intel.generate_market_report()\")\n",
        "print(\"   → Generate comprehensive market intelligence report\")\n",
        "print()\n",
        "print(\"5. intelligence.predict_success_probability(company_data)\")\n",
        "print(\"   → Predict success with AI reasoning\")\n",
        "print()\n",
        "print(\"=\"*60)\n",
        "print()\n",
        "print(\"💡 TRY IT NOW:\")\n",
        "print(\"Run: analyze_company_interactive()\")\n",
        "print(\"     to analyze a random company with AI insights!\")\n",
        "print()\n",
        "print(\"🔑 NOTE: Requires OPENAI_API_KEY environment variable\")\n",
        "print(\"=\"*60)\n"
      ]
    },
    {
      "cell_type": "code",
      "execution_count": 79,
      "metadata": {},
      "outputs": [
        {
          "data": {
            "application/vnd.jupyter.widget-view+json": {
              "model_id": "96ed88ed3e3f488d98137e93c1f5c57a",
              "version_major": 2,
              "version_minor": 0
            },
            "text/plain": [
              "HBox(children=(Dropdown(description='Company:', layout=Layout(width='400px'), options=('Bear (Fall 2025)', 'Cl…"
            ]
          },
          "metadata": {},
          "output_type": "display_data"
        },
        {
          "data": {
            "application/vnd.jupyter.widget-view+json": {
              "model_id": "6b1d4e27c4e84fa593fcb0cb0e0782c6",
              "version_major": 2,
              "version_minor": 0
            },
            "text/plain": [
              "Output()"
            ]
          },
          "metadata": {},
          "output_type": "display_data"
        },
        {
          "data": {
            "text/plain": [
              "(Dropdown(description='Company:', layout=Layout(width='400px'), options=('Bear (Fall 2025)', 'Clicks (Fall 2025)', 'Openroll (Fall 2025)', 'MarkIt (Fall 2025)', 'Freeport Markets (Fall 2025)', 'Bluma (Fall 2025)', 'Icarus (Fall 2025)', 'Metorial (Fall 2025)', 'Lua Global Inc (Fall 2025)', 'Narrative (Fall 2025)', 'Relaw (Fall 2025)', 'Specific (Fall 2025)', 'Dome (Fall 2025)', 'Sourcebot (Fall 2025)', 'Zalos (Fall 2025)', 'Imagine AI (Fall 2025)', 'Patent Watch (Fall 2025)', 's2.dev (Fall 2025)', 'Everest (Fall 2025)', 'Rivet (Fall 2025)', 'Pixley AI (Fall 2025)', 'Lexi (Fall 2025)', 'Multifactor (Fall 2025)', 'ComplyDo (Fall 2025)', 'AnswerThis (Fall 2025)', 'Unsiloed AI (Fall 2025)', 'Sunflower (Fall 2025)', 'SellRaze (Fall 2025)', 'Mod AI (Fall 2025)', 'Semble AI (Fall 2025)', 'Wardstone (Fall 2025)', 'Hypercubic (Fall 2025)', 'Veria Labs (Fall 2025)', 'hillclimb (Fall 2025)', 'Questom (Fall 2025)', 'Koyal (Fall 2025)', 'Dari (Fall 2025)', 'Soren (Fall 2025)', 'Sorce (Fall 2025)', 'Deeptrace (Fall 2025)', 'Bolna AI (Fall 2025)', 'Nexus (Fall 2025)', 'Zavo (Fall 2025)', 'Parrot (Fall 2025)', 'MOVEdot (Fall 2025)', 'Structured AI (Fall 2025)', 'Uplane (Fall 2025)', 'Brickanta (Fall 2025)', 'Mainflow (Fall 2025)', 'Mixy (Fall 2025)', 'Remedy (Fall 2025)', 'AutoAce (Fall 2025)', 'Nox Metals (Summer 2025)', 'Prox (Fall 2025)', 'Blue (Summer 2025)', 'Paloma (Summer 2025)', 'Uplift AI (Summer 2025)', 'RealRoots (Summer 2025)', 'Luminal (Summer 2025)', 'Freya (Summer 2025)', 'burnt (Summer 2025)', 'Avent (Summer 2025)', 'Cacao (Summer 2025)', 'Veritus Agent (Summer 2025)', 'Outrove (Summer 2025)', 'Spotlight Realty (Summer 2025)', 'NOSO LABS (Summer 2025)', 'Vulcan Technologies (Summer 2025)', 'Interfere (Summer 2025)', 'Munify (Summer 2025)', 'RowFlow (Summer 2025)', 'TectoAI (Summer 2025)', 'Duranium (Summer 2025)', 'Perspectives Health (Summer 2025)', 'Modelence (Summer 2025)', 'Magnetic (Summer 2025)', 'Fleetline (Summer 2025)', 'Clodo (Summer 2025)', 'stagewise (Summer 2025)', 'Flywheel AI (Summer 2025)', 'Vibe Code Go (Summer 2025)', 'Okibi (Summer 2025)', 'Juxta (Summer 2025)', 'dScribe AI (Summer 2025)', 'Kernel (Summer 2025)', 'Certus AI (Summer 2025)', 'Hera (Summer 2025)', 'Reacher (Summer 2025)', 'Nottelabs (Summer 2025)', 'Locata (Summer 2025)', 'Pally (Summer 2025)', 'Pleom (Summer 2025)', 'Convexia (Summer 2025)', 'Opennote (Summer 2025)', 'SigmanticAI (Summer 2025)', 'Sira (Summer 2025)', 'F4 (Summer 2025)', 'Eden (Summer 2025)', 'Altur (Summer 2025)', 'Metis (Summer 2025)', 'PARES AI (Summer 2025)', 'Avelis Health (Summer 2025)', 'Nautilus (Summer 2025)', 'Humoniq (Summer 2025)', 'Palace (Summer 2025)', 'Alara (Summer 2025)', 'Floot (Summer 2025)', 'Idler (Summer 2025)', 'Socratix AI (Summer 2025)', 'Minimal AI (Summer 2025)', 'Risely AI (Summer 2025)', 'Knowlify (Summer 2025)', 'Omnara (Summer 2025)', 'Autosana (Summer 2025)', 'April (Summer 2025)', 'Iron Grid (Summer 2025)', 'Finto (Summer 2025)', 'Motives (Summer 2025)', 'Relling (Summer 2025)', 'mcp-use (Summer 2025)', 'Novaflow (Summer 2025)', 'Hyprnote (Summer 2025)', 'Phases (Summer 2025)', 'Perseus Defense (Summer 2025)', 'Solva (Summer 2025)', 'Albacore Inc. (Summer 2025)', 'Riff (Summer 2025)', 'Mimos (Summer 2025)', 'Mohi (Summer 2025)', 'Nozomio (Summer 2025)', 'Comena (Summer 2025)', 'VibeFlow (Summer 2025)', 'Normal (Summer 2025)', 'GhostEye (Summer 2025)', 'Channel3 (Summer 2025)', 'Epicenter (Summer 2025)', 'Candytrail (Summer 2025)', 'Embedder (Summer 2025)', 'Fulcrum (Summer 2025)', 'Flai (Summer 2025)', 'Trace (Summer 2025)', 'The Interface (Summer 2025)', 'b-12 (Summer 2025)', 'IronLedger.ai (Summer 2025)', 'Doe (Summer 2025)', 'Louiza Labs (Summer 2025)', 'Parachute (Summer 2025)', 'Riverbank Security (Summer 2025)', 'Stellon Labs (Summer 2025)', 'Kalinda (Summer 2025)', 'BootLoop (Summer 2025)', 'Nexa Labs (Summer 2025)', 'Induction Labs (Summer 2025)', 'AgentHub (Summer 2025)', 'cocreate (Summer 2025)', 'Slashy (Summer 2025)', 'CareSwift (Summer 2025)', 'Wedge (Summer 2025)', 'Pangolin (Summer 2025)', 'Kestroll (Summer 2025)', 'Tesora (Summer 2025)', 'Sagekit (Summer 2025)', 'Stockline (Summer 2025)', 'DeepAware AI (Summer 2025)', 'Keystone (Summer 2025)', 'DeepGrove (Summer 2025)', 'Skope (Summer 2025)', 'Frizzle (Summer 2025)', 'Alter (Summer 2025)', 'OnDeck AI (Summer 2025)', 'Imprezia (Summer 2025)', 'Lilac (Summer 2025)', 'Janet AI (Summer 2025)', 'Cyberdesk (Summer 2025)', 'Qualify.bot (Summer 2025)', 'Panels (Summer 2025)', 'Herdora (Summer 2025)', 'Monarcha (Summer 2025)', 'Design Arena (Summer 2025)', 'Lotas (Summer 2025)', 'Orange Slice (Summer 2025)', 'EffiGov (Summer 2025)', 'bitrig (Summer 2025)', 'Lark (Summer 2025)', 'Topological (Summer 2025)', 'ContextFort (Summer 2025)', 'ZeroEval (Summer 2025)', 'datafruit (Summer 2025)', 'Verne Robotics (Summer 2025)', 'Pharmie AI (Summer 2025)', 'Liva AI (Summer 2025)', 'Ghostship (Summer 2025)', 'Async (Summer 2025)', 'Shor (Summer 2025)', 'Golpo (Summer 2025)', 'Pond (Summer 2025)', 'Lanesurf (Summer 2025)', 'Gaus (Summer 2025)', 'Blank Bio (Summer 2025)', 'truthsystems (Summer 2025)', 'AgentMail (Summer 2025)', 'Halluminate (Summer 2025)', 'TraceRoot.AI (Summer 2025)', 'The Prompting Company (Summer 2025)', 'MangoDesk (Summer 2025)', 'Acrely (Summer 2025)', 'Dedalus Labs (Summer 2025)', 'Closera (Summer 2025)', 'Meteor (Summer 2025)', 'Adaptional (Summer 2025)', 'GETASAP ASIA (Summer 2025)', 'Pingo AI (Summer 2025)', 'Rid (Summer 2025)', 'Synthetic Society (Summer 2025)', 'Nixo (Summer 2025)', 'Cactus (Summer 2025)', 'Serafis (Summer 2025)', 'WAYLINE (Summer 2025)', 'Ambral (Summer 2025)', 'Fluidize (Summer 2025)', 'Autumn (Summer 2025)', 'Cohesive (Spring 2025)', 'Stormy AI (Summer 2025)', 'Nuntius (Summer 2025)', 'Sureform (Spring 2025)', 'Docket (Spring 2025)', 'Foundation Industries (Spring 2025)', 'Godela (Spring 2025)', 'BitPatrol (Spring 2025)', 'Aegis (Spring 2025)', 'Bond (Spring 2025)', 'sieve (Spring 2025)', 'Blueshoe (Spring 2025)', 'Cascade Space (Spring 2025)', 'Airweave (Spring 2025)', 'Theorem (Spring 2025)', 'Text.ai (Spring 2025)', 'StarSling (Spring 2025)', 'Cactus (Spring 2025)', 'Wavedash (Spring 2025)', 'LineWise (Spring 2025)', 'Code Four (Spring 2025)', 'Lumari (Spring 2025)', 'mlop (Spring 2025)', 'Den (Spring 2025)', 'Cotool (Spring 2025)', 'Nimbic AI (Spring 2025)', 'Propolis (Spring 2025)', 'Delty (Spring 2025)', 'Rimba (Spring 2025)', 'Moby Analytics (Spring 2025)', 'Adentris (Spring 2025)', 'Probo (Spring 2025)', 'chrt (Spring 2025)', 'MindFort (Spring 2025)', 'Mesmer (Spring 2025)', 'Lapel (Spring 2025)', 'Janus (Spring 2025)', 'Relixir (Spring 2025)', 'Hemut (Spring 2025)', 'ValueMate (Spring 2025)', 'Zero (Spring 2025)', 'Bramante Biologics (Spring 2025)', 'Scalar Field (Spring 2025)', 'Eloquent AI (Spring 2025)', 'Vassar Robotics (Spring 2025)', 'MorphoAI (Spring 2025)', 'Boost Robotics (Spring 2025)', 'Klavis AI (Spring 2025)', 'ParaQuery (Spring 2025)', 'Sygaldry Technologies (Spring 2025)', 'Third Chair (Spring 2025)', 'Vesence (Spring 2025)', 'Jazzberry (Spring 2025)', 'PowerMatrix (Spring 2025)', 'Alkali (Spring 2025)', 'Human Behavior (Spring 2025)', 'Besimple AI (Spring 2025)', 'Prism (Spring 2025)', 'Novoflow (Spring 2025)', 'Theta Software (Spring 2025)', 'Lyra (Spring 2025)', 'Cleon (Spring 2025)', 'QualGent (Spring 2025)', 'throxy (Spring 2025)', 'Flott HQ (Spring 2025)', 'Lucis (Spring 2025)', 'Crimson (Spring 2025)', 'Casco (Spring 2025)', 'Nomi (Spring 2025)', 'Morphik (Spring 2025)', 'RunRL (Spring 2025)', 'Kaizen (Spring 2025)', 'Ticket Wallet (Spring 2025)', 'HABIT (Spring 2025)', 'Clidey (Spring 2025)', 'Opusense AI (Spring 2025)', 'Photonium (Spring 2025)', 'Labric (Spring 2025)', 'Sixtyfour (Spring 2025)', 'Odapt (Spring 2025)', 'Clado (Spring 2025)', 'Combinely (Spring 2025)', 'VoiceOS (Spring 2025)', 'Chiron (Spring 2025)', 'Jeevy Fabrication (Spring 2025)', 'Trapeze (Spring 2025)', 'Tinfoil (Spring 2025)', 'The LLM Data Company (Spring 2025)', 'Refresh (Spring 2025)', 'Parsewise (Spring 2025)', 'Better Auth (Spring 2025)', 'Bluejay (Spring 2025)', 'Kestral (Spring 2025)', 'Attune (Spring 2025)', 'PgDog (Spring 2025)', 'Kirana AI (Spring 2025)', 'Mbodi AI (Spring 2025)', 'Percival (Spring 2025)', 'YouLearn (Spring 2025)', 'TypeOS (Spring 2025)', 'stratify (Spring 2025)', 'Clarm (Spring 2025)', 'Sim (Spring 2025)', 'Beluga Labs (Spring 2025)', 'Kaelio (Spring 2025)', 'Zenobia Pay (Spring 2025)', 'HelixDB (Spring 2025)', 'Zeon Systems (Spring 2025)', 'The Robot Learning Company (Spring 2025)', 'Chonkie (Spring 2025)', 'Almond (Spring 2025)', 'Claim Health (Spring 2025)', 'Approval AI (Spring 2025)', 'neoncoral (Spring 2025)', 'Anvil (Spring 2025)', 'Auctor (Spring 2025)', 'Galen AI (Spring 2025)', 'Capacitive (Spring 2025)', 'SynthioLabs (Spring 2025)', 'Cua (Spring 2025)', 'Minerva (Spring 2025)', 'GroundControl (Spring 2025)', 'Avallon AI (Spring 2025)', 'Bloom (Spring 2025)', 'cubic (Spring 2025)', 'Notus Autonomous Systems (Spring 2025)', 'Golf (Spring 2025)', 'BitBoard (Spring 2025)', 'nao Labs (Spring 2025)', 'Vybe (Spring 2025)', 'Aravolta (Spring 2025)', 'Plexe (Spring 2025)', 'Kashikoi (Spring 2025)', 'Frekil (Spring 2025)', 'Chestnut (Spring 2025)', 'Blaxel (Spring 2025)', 'QFEX (Spring 2025)', 'Atlog (Spring 2025)', 'Aviro (Spring 2025)', 'Waffle (Spring 2025)', 'Partcl (Spring 2025)', 'Atum Works (Spring 2025)', 'Willow (Spring 2025)', 'Leeroo (Spring 2025)', 'Caucus (Spring 2025)', 'Red Barn Robotics (Winter 2025)', 'BlindPay (Winter 2025)', 'Kanava AI (Spring 2025)', 'Mentra (Winter 2025)', 'Vantel (Winter 2025)', 'Fira (Winter 2025)', 'assistant-ui (Winter 2025)', 'TrainLoop (Winter 2025)', 'Artifact (Winter 2025)', 'Axal (Winter 2025)', 'Tally (Winter 2025)', 'ThirdLayer (Winter 2025)', 'SAMMY Labs (Winter 2025)', 'Instinct (Winter 2025)', 'Lightbox (Winter 2025)', 'Mercura (Winter 2025)', 'Cedar (Winter 2025)', 'TamLabs (Winter 2025)', 'Browser Use (Winter 2025)', 'Ergo (Winter 2025)', 'CopyCat (Winter 2025)', 'Butter (Winter 2025)', 'Bluebook (Winter 2025)', 'Paratus Health (Winter 2025)', 'TensorPool (Winter 2025)', 'Roark (Winter 2025)', 'Dalus (Winter 2025)', 'Spott (Winter 2025)', 'Demeter (Winter 2025)', 'Proception Inc (Winter 2025)', 'Woz (Winter 2025)', 'Wildcard (Winter 2025)', 'Permitify (Winter 2025)', 'Rebolt (Winter 2025)', 'Optifye.ai (Winter 2025)', 'Reditus Space (Winter 2025)', 'Pinch (Winter 2025)', 'Retrofit (Winter 2025)', 'Archon (Winter 2025)', 'Forge Automation (Winter 2025)', 'Mastra (Winter 2025)', 'AfterQuery (Winter 2025)', 'Artificial Societies (Winter 2025)', 'Misprint (Winter 2025)', 'FuseAI (Winter 2025)', 'TripleZip (Winter 2025)', 'Miyagi Labs (Winter 2025)', 'Peppr AI (Winter 2025)', 'Sennu AI (Winter 2025)', 'Infinite (Winter 2025)', 'Tire Swing (Winter 2025)', 'Orbital Operations (Winter 2025)', 'Mesh (Winter 2025)', 'Outlit (Winter 2025)', 'Harper (Winter 2025)', 'Karsa (Winter 2025)', 'Calltree (Winter 2025)', 'Nitrode (Winter 2025)', 'Exla (Winter 2025)', 'Confident AI (Winter 2025)', 'Riviera (Winter 2025)', 'ReJot (Winter 2025)', 'Waypoint Transit (Winter 2025)', 'Agentin AI (Winter 2025)', 'Bystreet (Winter 2025)', 'General Trajectory (Winter 2025)', 'Trata (Winter 2025)', 'Solidroad (Winter 2025)', 'G LNK (Winter 2025)', 'Lucidic AI (Winter 2025)', 'Haleum (Winter 2025)', 'Mundo AI (Winter 2025)', 'Strike (Winter 2025)', 'AthenaHQ (Winter 2025)', 'Lopus AI (Winter 2025)', 'Cenote (Winter 2025)', 'Harbera (Winter 2025)', 'Bindwell (Winter 2025)', 'Stillwind (Winter 2025)', 'Lucid (Winter 2025)', 'Macadamia (Winter 2025)', 'Pickle (Winter 2025)', 'Asteroid (Winter 2025)', 'Gale (Winter 2025)', 'Pave Robotics (Winter 2025)', 'PAX Markets (Winter 2025)', 'Olive (Winter 2025)', 'finbar (Winter 2025)', 'hud (Winter 2025)', 'Cuckoo Labs (Winter 2025)', 'Mecha Health (Winter 2025)', 'GradeWiz (Winter 2025)', 'Operand (Winter 2025)', 'HealthKey (Winter 2025)', 'Swerve (Winter 2025)', 'Osmosis (Winter 2025)', 'Cifrato (Winter 2025)', 'Mosaic (Winter 2025)', 'Oki (Winter 2025)', 'ZeroEntropy (Winter 2025)', 'Cardamon (Winter 2025)', 'Trim (Winter 2025)', 'Amby Health (Winter 2025)', 'Bezel (Winter 2025)', 'Tergle (Winter 2025)', 'Rally (Winter 2025)', 'Adam (Winter 2025)', 'Inversion Semiconductor (Winter 2025)', 'Paragon (Winter 2025)', 'careCycle (Winter 2025)', 'Maive (Winter 2025)', 'SalesPatriot (Winter 2025)', 'Caseflood.ai (Winter 2025)', 'Tejas AI (Winter 2025)', 'Weave (Winter 2025)', 'Trava (Winter 2025)', 'Maritime Fusion (Winter 2025)', 'A1Base (Winter 2025)', 'a0.dev (Winter 2025)', 'General Agency (Winter 2025)', 'Verbiflow (Winter 2025)', 'Toothy AI (Winter 2025)', 'Rocketable (Winter 2025)', 'Contrario (Winter 2025)', 'Ovlo (Winter 2025)', 'Truffle AI (Winter 2025)', 'superglue (Winter 2025)', 'Conntour (Winter 2025)', 'Promptless (Winter 2025)', 'Closure (Winter 2025)', 'Subtrace (Winter 2025)', 'Scout (Winter 2025)', 'Vocality Health (Winter 2025)', 'Dartboard Energy (Winter 2025)', 'Astro (Winter 2025)', 'Karoo (Winter 2025)', 'Dollyglot (Winter 2025)', 'Alice.tech (Winter 2025)', 'Splash Inc. (Winter 2025)', 'Stamp (Winter 2025)', 'Orchids (Winter 2025)', 'Axiom (Winter 2025)', 'Steinmetz (Winter 2025)', 'SubImage (Winter 2025)', 'Hey Telo (Winter 2025)', 'Praxim (Winter 2025)', 'NextByte (Winter 2025)', 'Casixty (Winter 2025)', 'Excellence Learning (Winter 2025)', 'Leaping AI (Winter 2025)', 'awen (Winter 2025)', 'Vetnio (Winter 2025)', 'Candor (Winter 2025)', 'Trace (Winter 2025)', 'Revise Robotics (Winter 2025)', 'Bild AI (Winter 2025)', 'Enhanced Radar (Winter 2025)', 'Edexia (Winter 2025)', 'Quantstruct (Winter 2025)', 'Invo (Winter 2025)', 'Onlook (Winter 2025)', 'Delineate (Winter 2025)', 'Uncommon Therapeutics (Winter 2025)', 'Exin Therapeutics (Winter 2025)', 'Overstand Labs (Winter 2025)', 'YouShift (Winter 2025)', 'Egress Health (Winter 2025)', 'Asha Health (Fall 2024)', 'Sublingual (Winter 2025)', 'Apolink (Fall 2024)', 'Loombotic (Fall 2024)', 'HumanLayer (Fall 2024)', 'Roundabout Technologies (Fall 2024)', 'Helpcare AI (Fall 2024)', 'Synth (Fall 2024)', 'Canvas (Fall 2024)', 'Relvy AI (Fall 2024)', 'Friday (Fall 2024)', 'SRE.ai (Fall 2024)', 'Ember (Fall 2024)', 'Ryvn (Fall 2024)', 'Melder (Fall 2024)', 'Foundry (Fall 2024)', 'Edgedive (Fall 2024)', 'Forerunner AI (Fall 2024)', 'FutureClinic (Fall 2024)', 'Surge (Fall 2024)', 'BookMyFlight (Fall 2024)', 'ArchiLabs (Fall 2024)', 'Sunset (Fall 2024)', 'Revi (Fall 2024)', 'Diffusion Studio (Fall 2024)', 'Chorrie (Fall 2024)', 'Alex (Fall 2024)', 'Gander (Fall 2024)', 'Metreecs (Fall 2024)', 'Innate (Fall 2024)', 'Capy (Fall 2024)', 'Consus (Fall 2024)', 'CollectWise (Fall 2024)', 'Origami (Fall 2024)', 'PermitPortal (Fall 2024)', 'Gecko Security (Fall 2024)', 'Fresco (Fall 2024)', 'Curo (Fall 2024)', 'Dexter (Fall 2024)', 'Moonshine (Fall 2024)', 'AutoComputer (Fall 2024)', 'vly.ai (Fall 2024)', 'Tiny (Fall 2024)', 'Crustdata (Fall 2024)', 'Stewdio (Fall 2024)', 'Pearson Labs (Fall 2024)', 'Platus (Fall 2024)', 'Charm (Fall 2024)', 'Unusual (Fall 2024)', 'HYBRD (Fall 2024)', 'Lingo.dev (Fall 2024)', 'Karmen (Fall 2024)', 'Codebuff (Fall 2024)', 'Sphinx (Fall 2024)', 'RiskCube (Fall 2024)', 'Luthor (Fall 2024)', 'Keye (Fall 2024)', 'RevisionDojo (Fall 2024)', 'ISSEN (Fall 2024)', 'CTGT (Fall 2024)', 'attimet (Fall 2024)', 'Circlemind (Fall 2024)', 'Reticular (Fall 2024)', 'Astrix Health (Fall 2024)', 'Cosmic (Fall 2024)', 'Sandra AI (Fall 2024)', 'Archil (Fall 2024)', 'Vespper (Fall 2024)', 'Praxis AI (Fall 2024)', 'Cekura (Fall 2024)', 'Revyl (Fall 2024)', 'Lightscreen AI (Fall 2024)', 'Raycaster (Fall 2024)', 'Afternoon.co (Fall 2024)', 'Rulebase (Fall 2024)', 'HealthSpark (Fall 2024)', 'OpenFunnel (Fall 2024)', 'Coblocks (Fall 2024)', 'Getcho (Fall 2024)', 'Candle (Fall 2024)', 'Moonset Health (Fall 2024)', 'Durate (Fall 2024)', 'Upshift (Fall 2024)', 'PearAI (Fall 2024)', 'Symphony (Fall 2024)', 'telli (Fall 2024)', 'Avora (Fall 2024)', 'Galini (Fall 2024)', 'Riveter AI (Fall 2024)', 'Zeroframe (Fall 2024)', 'Verso (Fall 2024)', 'Variant (Fall 2024)', 'supercontrast (Fall 2024)', 'Gait (Fall 2024)', 'DreamRP (Summer 2024)', 'Outerport (Summer 2024)', 'Conductor (Summer 2024)', 'Kairo Health (Summer 2024)', 'Midship (Summer 2024)', 'Bits to Atoms (Summer 2024)', 'Syntra (Summer 2024)', 'SimCare AI (Summer 2024)', 'Merlin AI (Summer 2024)', 'Freestyle (Summer 2024)', 'PathPilot (Summer 2024)', 'Affil.ai (Summer 2024)', 'Patched (Summer 2024)', 'Arva AI (Summer 2024)', 'OrgOrg (Summer 2024)', 'Village Labs (Summer 2024)', 'Formula Insight (Summer 2024)', 'Mica AI (Summer 2024)', 'Overlap (Summer 2024)', 'Capitol AI (Summer 2024)', 'General Analysis (Summer 2024)', 'Void (Summer 2024)', 'XTraffic (Summer 2024)', 'Anglera (Summer 2024)', 'Henry (Summer 2024)', 'BrowserOS (Summer 2024)', 'Ficra (Summer 2024)', 'RowBoat Labs (Summer 2024)', 'Pipeshift (Summer 2024)', 'Vera Health (Summer 2024)', 'Pharos (Summer 2024)', 'Keet (Summer 2024)', 'et al. (Summer 2024)', 'Terra (Summer 2024)', 'AI Sell (Summer 2024)', 'Diode Computers, Inc. (Summer 2024)', 'Saldor (Summer 2024)', 'SureBright (Summer 2024)', 'Oway (Summer 2024)', 'Bucket Robotics (Summer 2024)', 'Usul (Summer 2024)', 'Elayne (Summer 2024)', 'Blaze (Summer 2024)', 'pap! (Summer 2024)', 'TradeFlow (Summer 2024)', 'RentFlow (Summer 2024)', 'Rastro (Summer 2024)', 'Voker (Summer 2024)', 'Quetzal (Summer 2024)', 'Typa (Summer 2024)', 'Moreta (Summer 2024)', 'Sterling Labs, Inc (Summer 2024)', 'Orca (Summer 2024)', 'Sepal AI (Summer 2024)', 'Assembly HOA (Summer 2024)', 'autarc (Summer 2024)', 'omnidock (Summer 2024)', 'Polymet (Summer 2024)', 'Weel (Summer 2024)', 'Kontigo (Summer 2024)', 'Remo (Summer 2024)', 'Propaya (Summer 2024)', 'Vendra (Summer 2024)', 'Argil (Summer 2024)', 'ZeroPath (Summer 2024)', 'Pumpkin (Summer 2024)', 'Starcloud (Summer 2024)', 'Zimi (Summer 2024)', 'Dataleap (Summer 2024)', 'Ionworks (Summer 2024)', 'Rescript (Summer 2024)', 'HeroUI (Summer 2024)', '&AI (Summer 2024)', 'Helium (Summer 2024)', 'Haystack Software (Summer 2024)', 'Odo (Summer 2024)', 'Finosu (Summer 2024)', 'Baseline AI (Summer 2024)', 'Winford Wealth (Summer 2024)', 'Blast (Summer 2024)', 'Cartage (Summer 2024)', 'Lilac Labs (Summer 2024)', 'Paasa (Summer 2024)', 'Palmier (Summer 2024)', 'Simple AI (Summer 2024)', 'Sensei (Summer 2024)', 'Guardian RF (Summer 2024)', 'Laminar (Summer 2024)', 'The Forecasting Company (Summer 2024)', 'Presti AI (Summer 2024)', 'Cerulion (Summer 2024)', 'Praxos (Summer 2024)', 'Zettascale (Summer 2024)', 'SchemeFlow (Summer 2024)', 'Brighterway (Summer 2024)', 'Parley (Summer 2024)', 'Mineflow (Summer 2024)', 'Soff (Summer 2024)', 'Intryc (Summer 2024)', 'Pinnacle (Summer 2024)', 'Ember Robotics (Summer 2024)', 'Thunder Compute (Summer 2024)', 'Kura AI (Summer 2024)', 'Zeit AI (Summer 2024)', 'Piggy Robotics (Summer 2024)', 'Remade (Summer 2024)', 'Emergent (Summer 2024)', 'Distro (Summer 2024)', 'Modern Realty (Summer 2024)', 'BeeBettor (Summer 2024)', 'David AI (Summer 2024)', 'Autumn Labs (Summer 2024)', 'Stempad (Summer 2024)', 'winfunc (Summer 2024)', 'Opslane (Summer 2024)', 'Pax (Summer 2024)', 'Conductor Quantum (Summer 2024)', 'Biocartesian (Summer 2024)', 'Seals AI (Summer 2024)', 'Drillbit (Summer 2024)', 'Lumenary (Summer 2024)', 'Dimely (Summer 2024)', 'Redouble AI (Summer 2024)', 'Planbase (Summer 2024)', 'Anara (Summer 2024)', 'Hestus, Inc. (Summer 2024)', 'MagiCode (Summer 2024)', 'Vibe (Summer 2024)', 'FINNY AI (Summer 2024)', 'ReactWise (Summer 2024)', '1849 bio (Summer 2024)', 'Zoa Research (Summer 2024)', 'Saturn (Summer 2024)', 'Clearly AI (Summer 2024)', 'expand.ai (Summer 2024)', 'Aluna (Summer 2024)', 'Ontra Mobility (Summer 2024)', 'Promi (Summer 2024)', 'Panora (Summer 2024)', 'Manaflow (Summer 2024)', 'CreativeMode (Summer 2024)', 'Kastle (Summer 2024)', 'Conveo (Summer 2024)', 'Kopra Bio (Summer 2024)', 'Anthrogen (Summer 2024)', 'Fazeshift (Summer 2024)', 'Benchify (Summer 2024)', 'TaxGPT (Summer 2024)', 'Zenbase AI (Summer 2024)', 'Substrate (Summer 2024)', 'Mito Health (Summer 2024)', 'Modus (Summer 2024)', 'dmodel (Summer 2024)', 'LedgerUp (Summer 2024)', 'Lighthouz AI (Summer 2024)', 'AutoPallet Robotics (Summer 2024)', 'Plume (Summer 2024)', 'AminoAnalytica (Summer 2024)', 'Pulse (Summer 2024)', 'Dench.com (Summer 2024)', 'Gauge (Summer 2024)', 'Weave Robotics (Summer 2024)', 'Kenley (Summer 2024)', 'Tivara (Summer 2024)', 'Tandem (Summer 2024)', 'camfer (Summer 2024)', 'MinusX (Summer 2024)', 'Spongecake (Summer 2024)', 'Parahelp (Summer 2024)', 'Snowpilot (Summer 2024)', 'CodeViz (Summer 2024)', 'RunLocal AI (Summer 2024)', 'Ares Industries (Summer 2024)', 'Dodo (Summer 2024)', 'Lucible (Summer 2024)', 'Elevate (Summer 2024)', 'Offstream (Summer 2024)', 'Storia AI (Summer 2024)', 'Scape (Summer 2024)', 'DeepSim, Inc. (Summer 2024)', 'Zuni (Summer 2024)', 'Proxis (Summer 2024)', 'Rewbi (Summer 2024)', 'Cloudglue (Summer 2024)', 'NetworkOcean (Summer 2024)', 'Silurian (Summer 2024)', 'Hyrex (Summer 2024)', 'RetroFix (Summer 2024)', 'Azalea Robotics Corporation (Summer 2024)', 'Decisional AI (Summer 2024)', 'Unbound (Summer 2024)', 'Stardrift (Summer 2024)', 'ideate.xyz (Summer 2024)', 'FirstWork (Summer 2024)', 'Sorcerer (Summer 2024)', 'Maitai (Summer 2024)', 'VideoGen (Summer 2024)', 'Corgi (Summer 2024)', 'Wordware (Summer 2024)', 'Clara (Summer 2024)', 'Phonely (Summer 2024)', 'Stack Auth (Summer 2024)', 'Tabula (Summer 2024)', 'Callback (Summer 2024)', 'Bayesline (Summer 2024)', 'DigitalCarbon (Summer 2024)', 'Unsloth AI (Summer 2024)', 'Random Labs (Summer 2024)', 'Codes Health (Summer 2024)', 'ClaimSorted (Summer 2024)', 'mdhub (Summer 2024)', 'Entangl (Summer 2024)', 'Hamming AI (Summer 2024)', 'Pre (Summer 2024)', 'Comfy Deploy (Summer 2024)', 'Spaceium Inc (Summer 2024)', 'Synnax (Summer 2024)', 'Theseus (Summer 2024)', 'ProhostAI (Summer 2024)', 'Educato AI (Summer 2024)', 'Understood Care (Summer 2024)', 'Glasskube (Summer 2024)', 'Saphira AI (Summer 2024)', 'Cheers (Summer 2024)', 'Undermind (Summer 2024)', 'Doublezero (Summer 2024)', 'Mem0 (Summer 2024)', 'Superunit (Summer 2024)', 'Miru (Summer 2024)', 'Spherecast (Summer 2024)', 'Apten (Summer 2024)', 'Roger (Summer 2024)', 'Domu Technology Inc. (Summer 2024)', 'Ultra (Summer 2024)', 'Abel Police (Summer 2024)', 'Ångström AI (Summer 2024)', 'Evolvere BioSciences (Summer 2024)', 'Coval (Summer 2024)', 'Ligo Biosciences (Summer 2024)', 'ACX (Summer 2024)', 'Overeasy (Summer 2024)', 'Spur (Summer 2024)', 'Central (Summer 2024)', 'Fuse (Summer 2024)', 'Poka Labs (Summer 2024)', 'Simplex (Summer 2024)', 'Hey Revia (Summer 2024)', 'RiskAngle (Summer 2024)', 'Thyme (Summer 2024)', 'deepsilicon (Summer 2024)', 'Invaria (Summer 2024)', 'Flyflow (Summer 2024)', 'ParcelBio (Winter 2024)', 'Indemni (Winter 2024)', 'Forge Rewards (Winter 2024)', 'K-Scale Labs (Winter 2024)', 'Marr Labs (Winter 2024)', 'Dropback (Winter 2024)', 'RetailReady (Winter 2024)', 'NowHouse (Winter 2024)', 'Same (Winter 2024)', 'Reprompt (Winter 2024)', 'InspectMind AI (Winter 2024)', 'Yarn (Winter 2024)', 'GetCrux (Winter 2024)', 'Blacksmith (Winter 2024)', 'CrowdVolt (Winter 2024)', 'kater.ai (Winter 2024)', 'Tower (Winter 2024)', 'renderlet (Winter 2024)', 'Mathos (Winter 2024)', 'Quivr (Winter 2024)', 'Dragoneye (Winter 2024)', 'Fume (Winter 2024)', 'Forge (Winter 2024)', 'The New Money Company (Winter 2024)', 'Integuru (Winter 2024)', 'VoxOps AI (Winter 2024)', 'Granza Bio (Winter 2024)', 'Healia (Winter 2024)', 'Haplotype Labs (Winter 2024)', 'TrueClaim (Winter 2024)', 'CoCrafter (Winter 2024)', 'Reform (Winter 2024)', 'Junction Bioscience (Winter 2024)', 'Piramidal (Winter 2024)', 'OddsView (Winter 2024)', 'Silogy (Winter 2024)', 'Senso (Winter 2024)', 'Eris Biotech (Winter 2024)', 'Powder (Winter 2024)', 'GoldenBasis (Winter 2024)', 'OpenFoundry (Winter 2024)', 'Penciled (Winter 2024)', 'Ryse (Winter 2024)', 'Magic Hour (Winter 2024)', 'Lumona (Winter 2024)', 'Datacurve (Winter 2024)', 'Marblism (Winter 2024)', 'CommodityAI (Winter 2024)', 'Miden (Winter 2024)', 'Veles (Winter 2024)', 'Basepilot (Winter 2024)', 'Fluently (Winter 2024)', 'Aqua Voice (Winter 2024)', 'xPay (Winter 2024)', 'Deepnight (Winter 2024)', 'Vista Power (Winter 2024)', 'Pernell (Winter 2024)', 'Ocular AI (Winter 2024)', 'camelAI (Winter 2024)', 'Rove (Winter 2024)', 'Retell AI (Winter 2024)', 'Spark (Winter 2024)', 'Downlink (Winter 2024)', 'Stacksync (Winter 2024)', 'Terrakotta (Winter 2024)', 'Shepherd (Winter 2024)', 'Velorum Therapeutics (Winter 2024)', 'BiteSight (Winter 2024)', 'Sonauto (Winter 2024)', 'Hatchet (Winter 2024)', 'Zep AI (Winter 2024)', 'Openmart (Winter 2024)', 'Triply (Winter 2024)', 'Thorntale (Winter 2024)', 'Ultra (Winter 2024)', 'Lumetric (Winter 2024)', 'Alai (Winter 2024)', 'Sample (Winter 2024)', 'Brainbase Labs (Winter 2024)', 'Focal (Winter 2024)', 'Givefront (Winter 2024)', 'Cleva (Winter 2024)', 'Oma Care (Winter 2024)', 'Artos (Winter 2024)', 'BetterBasket (Winter 2024)', 'Model ML (Winter 2024)', 'Circleback (Winter 2024)', 'Risotto (Winter 2024)', 'DianaHR (Winter 2024)', 'Just Words (Winter 2024)', 'HeartByte (Winter 2024)', 'Yondu (Winter 2024)', 'Raindrop (Winter 2024)', 'Centauri AI (Winter 2024)', 'ProSights (Winter 2024)', 'Chunkr (Winter 2024)', 'Manifold Freight (Winter 2024)', 'edgetrace (Winter 2024)', 'Clarum (Winter 2024)', 'Opencall.ai (Winter 2024)', 'Voicepanel (Winter 2024)', 'Andy AI (Winter 2024)', 'OffDeal (Winter 2024)', 'Delve (Winter 2024)', 'Hazel (Winter 2024)', 'Shiboleth (Winter 2024)', 'Aftercare (Winter 2024)', 'Soundry AI (Winter 2024)', 'Tensorfuse (Winter 2024)', 'Carma (Winter 2024)', 'Conduit (Winter 2024)', 'Elodin (Winter 2024)', 'Preloop (Winter 2024)', 'Toma (Winter 2024)', 'Superagent (Winter 2024)', 'Bilanc (Winter 2024)', 'Sagaland (Winter 2024)', 'Browser Buddy (Winter 2024)', 'Draftaid (Winter 2024)', 'Metofico (Winter 2024)', 'CodeAnt AI (Winter 2024)', 'Ellipsis (Winter 2024)', 'Astro Mechanica (Winter 2024)', 'Dime (Winter 2024)', 'Lytix (Winter 2024)', 'Pythagora (Winter 2024)', 'Aedilic (Winter 2024)', 'Open (Winter 2024)', 'Salvy (Winter 2024)', 'Centralize (Winter 2024)', 'phospho (Winter 2024)', 'Resonance (Winter 2024)', 'Firebender (Winter 2024)', 'Aether (Winter 2024)', 'Parallel (Winter 2024)', 'Ragas (Winter 2024)', 'PandasAI (Winter 2024)', 'sync. (Winter 2024)', 'Infinity (Winter 2024)', 'InQuery (Winter 2024)', '14.ai (Winter 2024)', 'Clarion (Winter 2024)', 'Tamarind Bio (Winter 2024)', 'Swift (Winter 2024)', 'Intercept (Winter 2024)', 'Lemon Slice (Winter 2024)', 'Double (Winter 2024)', 'Speck (Winter 2024)', 'Guide Labs (Winter 2024)', 'OmniAI (Winter 2024)', 'Decipher AI (Winter 2024)', 'Keywords AI (Winter 2024)', 'PromptArmor (Winter 2024)', 'Glimmer (Winter 2024)', 'Zaymo (Winter 2024)', 'Meticulate (Winter 2024)', 'CloudCruise (Winter 2024)', 'Attunement (Winter 2024)', 'Lucite (Winter 2024)', 'Selera Medical (Winter 2024)', 'OneGrep (Winter 2024)', 'Tusk (Winter 2024)', 'atopile (Winter 2024)', 'Copper Health (Winter 2024)', 'SynsoryBio (Winter 2024)', 'PartnerHQ (Winter 2024)', 'Yoneda Labs (Winter 2024)', 'TokenOwl (Winter 2024)', 'Verse Therapy (Winter 2024)', 'Ecliptor (Winter 2024)', 'Topo (Winter 2024)', 'Trellis AI (Winter 2024)', 'Greenboard (Winter 2024)', 'Octolane AI (Winter 2024)', 'Eggnog (Winter 2024)', 'Artisan (Winter 2024)', 'SuretyNow (Winter 2024)', 'ROE (Winter 2024)', 'FurtherAI (Winter 2024)', 'Paradigm (Winter 2024)', 'Arini (Winter 2024)', 'PointOne (Winter 2024)', 'Starlight Charging (Winter 2024)', 'MathDash (Winter 2024)', 'Assembly (Winter 2024)', 'Leaping (Winter 2024)', 'Basalt (Winter 2024)', 'Carousel Technologies (Winter 2024)', 'Agentic Labs (Winter 2024)', 'Fractal Labs (Winter 2024)', 'Aidy (Winter 2024)', 'Pivot Robotics (Winter 2024)', 'Buster (Winter 2024)', 'Garage (Winter 2024)', 'Lumen Payments (Winter 2024)', 'nCompass Technologies (Winter 2024)', 'Argon AI, Inc. (Winter 2024)', 'Alex (Winter 2024)', 'malibou (Winter 2024)', 'Newton (Winter 2024)', 'Tile (Winter 2024)', 'Tuesday Lab (Winter 2024)', 'Momentic (Winter 2024)', 'Reducto (Winter 2024)', 'Andon Labs (Winter 2024)', 'Maia (Winter 2024)', 'Nuanced (Winter 2024)', 'Precip (Winter 2024)', 'Tracecat (Winter 2024)', 'Kabilah (Winter 2024)', 'Sonia (Winter 2024)', 'Maihem (Winter 2024)', 'ion design (Winter 2024)', 'Duckie (Winter 2024)', 'Happenstance (Winter 2024)', 'PurplePages (Winter 2024)', 'Ubicloud (Winter 2024)', 'Greptile (Winter 2024)', 'ego (Winter 2024)', 'Legora (formerly Leya) (Winter 2024)', 'Scritch (Winter 2024)', 'Tesseral (Winter 2024)', 'Relari (Winter 2024)', 'DryMerge (Winter 2024)', 'Navier AI (Winter 2024)', 'Gumloop (Winter 2024)', 'Upsolve AI (Winter 2024)', 'Event Horizon Labs (Winter 2024)', 'Driver AI (Winter 2024)', 'Lantern (Winter 2024)', 'Onyx (Winter 2024)', 'jo (Winter 2024)', 'Yenmo (Winter 2024)', 'GovernGPT (Winter 2024)', 'Trieve (Winter 2024)', 'Arcane (Winter 2024)', 'StarJar (Winter 2024)', 'Fileforge (Winter 2024)', 'Abel (Winter 2024)', 'Wuri (Winter 2024)', 'crmCopilot (Winter 2024)', 'Toolify (Winter 2024)', 'Celest (Winter 2024)', 'Engines (Winter 2024)', 'Blume Benefits (Winter 2024)', 'Patchwork (Winter 2024)', 'DGI Apparel (Winter 2024)', 'Mango Health (Winter 2024)', 'Quary (Winter 2024)', 'Stitch Technologies (Winter 2024)', 'RadMate AI (Winter 2024)', 'Healthtech 1 (Summer 2023)', 'Flex (Summer 2023)', 'Martin (Summer 2023)', 'Feanix Biotechnologies (Summer 2023)', 'Orbio Earth (Summer 2023)', 'Catamaran (Summer 2023)', 'CodeStory (Summer 2023)', 'Coba (Summer 2023)', 'Taylor AI (Summer 2023)', 'Oversteer (Summer 2023)', 'Autotab (Summer 2023)', 'Tempo (Summer 2023)', 'Flair Technologies (Summer 2023)', 'Olio Labs (Summer 2023)', 'truemetrics (Summer 2023)', 'Glide (Summer 2023)', 'Wattson Health (Summer 2023)', 'Constructable (Summer 2023)', 'Morph (Summer 2023)', 'Waldium (Summer 2023)', 'Nowadays (Summer 2023)', 'Twine (Summer 2023)', 'Mocha (Summer 2023)', 'Simbie AI (Summer 2023)', 'Foundation (Summer 2023)', 'AiSDR (Summer 2023)', 'Affinity (Summer 2023)', 'Giga (Summer 2023)', 'Shadeform (Summer 2023)', 'Inconvo (Summer 2023)', 'CheqUPI (Summer 2023)', 'Cargo (Summer 2023)', 'Roame (Summer 2023)', 'Webhound (Summer 2023)', 'Trayd (Summer 2023)', 'dili (Summer 2023)', 'ParadeDB (Summer 2023)', 'Cair Health (Summer 2023)', 'Eden Care (Summer 2023)', 'Quill Bills (Summer 2023)', 'Strada (Summer 2023)', 'Minded (Summer 2023)', 'Smobi (Summer 2023)', 'Tiptap (Summer 2023)', 'RecipeUI (Summer 2023)', 'Fiber AI (Summer 2023)', 'Terracotta AI (Summer 2023)', 'Certainly Health (Summer 2023)', 'Cedalio (Summer 2023)', 'Nanograb (Summer 2023)', 'HappyRobot (Summer 2023)', 'Elythea (Summer 2023)', 'Pure (Summer 2023)', 'Santé (Summer 2023)', 'Langdock (Summer 2023)', 'SyntheticFi (Summer 2023)', 'Fragment (Summer 2023)', 'sudocode (Summer 2023)', 'Sendblue (Summer 2023)', 'Inventive AI (Summer 2023)', 'Sweep (Summer 2023)', 'Andromeda Surgical (Summer 2023)', 'Roundtable (Summer 2023)', 'Silimate (Summer 2023)', 'Envelope (Summer 2023)', 'SafetyKit (Summer 2023)', 'DisputeNinja (Summer 2023)', 'VectorShift (Summer 2023)', 'Baserun (Summer 2023)', 'Automorphic (Summer 2023)', 'Read Bean (Summer 2023)', 'Sola (Summer 2023)', 'Rankai (Summer 2023)', 'Inlet (Summer 2023)', 'Converge (Summer 2023)', 'Flint (Summer 2023)', 'CambioML (Summer 2023)', 'Osium AI (Summer 2023)', 'Slicker (Summer 2023)', 'Khoj (Summer 2023)', 'VaultPay (Summer 2023)', 'Kobalt Labs (Summer 2023)', 'Bolto (Summer 2023)', 'Gleam (Summer 2023)', 'Studdy (Summer 2023)', 'Trainy (Summer 2023)', 'Pincites (Summer 2023)', 'Apoxy (Summer 2023)', 'sizeless (Summer 2023)', 'Sourcepulse (Summer 2023)', 'Continue (Summer 2023)', 'Letter AI (Summer 2023)', 'CareOasis (Summer 2023)', 'Guac (Summer 2023)', 'Glade (Summer 2023)', 'LifestyleRx (Summer 2023)', 'Empirical Health (Summer 2023)', 'Fortuna Health (Summer 2023)', 'Aglide (Summer 2023)', 'Respaid (Summer 2023)', 'Revideo (Summer 2023)', 'Greenlite (Summer 2023)', 'MediSearch (Summer 2023)', 'Upstream (Summer 2023)', 'Metalware (Summer 2023)', 'Maven Bio (Summer 2023)', 'Surface Labs (Summer 2023)', 'CandorIQ (Summer 2023)', 'Epsilla (Summer 2023)', 'refine (Summer 2023)', 'maintouch (Summer 2023)', 'Lysto (Summer 2023)', 'Cleancard (Summer 2023)', 'VetRec (Summer 2023)', 'Decoda Health (Summer 2023)', 'Telophase (Summer 2023)', 'Skyvern (Summer 2023)', 'Dialtone (Summer 2023)', 'Cardinal Gray (Summer 2023)', 'Transformity (Summer 2023)', 'Repaint (Summer 2023)', 'Chow Central Inc (Summer 2023)', 'FleetWorks (Summer 2023)', 'Menza (Summer 2023)', 'Health Harbor (Summer 2023)', 'Hegel AI (Summer 2023)', 'Shasta Health (Summer 2023)', 'Outset (Summer 2023)', 'Serra (Summer 2023)', 'Corgea (Summer 2023)', 'MICSI (Summer 2023)', 'Terminal (Summer 2023)', 'Arcimus (Summer 2023)', 'Obento Health (Summer 2023)', 'Docsum (Summer 2023)', 'Kite (Summer 2023)', 'Bronco AI (Summer 2023)', 'Agentive (Summer 2023)', 'Venta AI (Summer 2023)', 'Parea (Summer 2023)', 'SID (Summer 2023)', 'Alguna (Summer 2023)', 'Campfire (Summer 2023)', 'Capi Money (Summer 2023)', 'SuperCraft (Summer 2023)', 'Spine AI (Summer 2023)', 'Subsets (Summer 2023)', 'Synch (Summer 2023)', 'SOL (Summer 2023)', 'Revamp (Summer 2023)', 'DataShare (Summer 2023)', 'Airgoods (Summer 2023)', 'Talc (Summer 2023)', 'Solve Intelligence (Summer 2023)', 'askLio (Summer 2023)', 'Craftwork (Summer 2023)', 'Electric Air (Summer 2023)', 'Prosper (Summer 2023)', 'Mandel AI (Summer 2023)', 'Every (Summer 2023)', 'Contour (Summer 2023)', 'Atla (Summer 2023)', 'Cedana (Summer 2023)', 'OpenTools (Summer 2023)', 'Zelos Cloud (Summer 2023)', 'Readily (Summer 2023)', 'PropRise (Summer 2023)', 'Pointhound (Summer 2023)', 'Casca (Summer 2023)', 'Bland AI (Summer 2023)', 'Sohar Health (Summer 2023)', 'Diligent (Summer 2023)', 'Sweetspot (Summer 2023)', 'Magic Loops (Summer 2023)', 'Ohmic Biosciences (Summer 2023)', 'Stellar Sleep (Summer 2023)', 'AIVideo.com (Summer 2023)', 'Linc. (Summer 2023)', 'Dioxus Labs (Summer 2023)', 'Clearest Health (Summer 2023)', 'Metoro (Summer 2023)', 'Accend (Summer 2023)', 'Elyos AI (Summer 2023)', 'Hyperbound (Summer 2023)', 'Xeol (Summer 2023)', 'Twenty (Summer 2023)', 'Ora AI (Summer 2023)', 'Reworkd (Summer 2023)', 'Nectar (Summer 2023)', 'Cardinal (Summer 2023)', 'Kino AI (Summer 2023)', 'kapa.ai (Summer 2023)', 'Artie (Summer 2023)', 'Can of Soup (Summer 2023)', 'HyLight (Summer 2023)', 'OpenPipe (Summer 2023)', 'Cercli (Summer 2023)', 'FlowiseAI (Summer 2023)', 'HockeyStack (Summer 2023)', 'Inari (Summer 2023)', 'Chatter (Summer 2023)', 'Watto AI (Summer 2023)', 'Tremor (Summer 2023)', 'Deasy Labs (Summer 2023)', 'PeerDB (Summer 2023)', 'Onward (Summer 2023)', 'Saatvy (Summer 2023)', 'Line.Build (Summer 2023)', 'Kips Health (Summer 2023)', 'Movley (Summer 2023)', 'Vango AI (Summer 2023)', 'Vizly (Summer 2023)', 'MantleBio (Summer 2023)', 'Unhaze (Summer 2023)', 'Sidenote (Summer 2023)', 'CraftOS (Summer 2023)', 'Briefer (Summer 2023)', 'GreenTally (Summer 2023)', 'Lifelike (Summer 2023)', 'Remy (Summer 2023)', 'Branch AI (Summer 2023)', 'Pando Bioscience (Winter 2023)', 'Metal (Winter 2023)', 'Vaero (Winter 2023)', 'Pierre (Winter 2023)', 'Yuma AI (Winter 2023)', 'Automat (Winter 2023)', 'SpecCheck (Winter 2023)', 'Finta (Winter 2023)', 'Speedy Labs (Winter 2023)', 'LiteLLM (Winter 2023)', 'Theya (Winter 2023)', 'Fetchr (Winter 2023)', 'Adri AI (Winter 2023)', 'Warp (Winter 2023)', 'Vendora (Winter 2023)', 'Type (Winter 2023)', 'Prompt (Winter 2023)', 'Lightski (Winter 2023)', 'Kyber (Winter 2023)', 'Escape (Winter 2023)', 'Keeling Labs (Winter 2023)', 'Modulari-T (Winter 2023)', 'Persana AI (Winter 2023)', 'Koala Ops (Winter 2023)', 'Texel.ai (Winter 2023)', 'Metal (Winter 2023)', 'Vector (Winter 2023)', 'Pier (Winter 2023)', 'Verata (Winter 2023)', 'Finni Health (Winter 2023)', 'Invitris (Winter 2023)', 'Adventris Pharmaceuticals (Winter 2023)', 'Edge (Winter 2023)', 'Untether Labs (Winter 2023)', 'Fabius (Winter 2023)', 'Benchmark (Winter 2023)', 'Wallbit (Winter 2023)', 'Vocode (Winter 2023)', 'rex.fit (Winter 2023)', 'Vellum (Winter 2023)', 'Persist AI (Winter 2023)', 'Berry (Winter 2023)', 'SuperAPI (Winter 2023)', 'Conduit (Winter 2023)', 'Resend (Winter 2023)', 'Unstatiq (Winter 2023)', 'Fern (Winter 2023)', 'Decohere (Winter 2023)', 'OpenInt (Winter 2023)', 'Constant (Winter 2023)', 'Common Paper (Winter 2023)', 'Hindsight (Winter 2023)', 'Dill (Winter 2023)', 'Littio (Winter 2023)', 'Thread (Winter 2023)', 'Waza (Winter 2023)', 'Rivet (Winter 2023)', 'Invopop (Winter 2023)', 'Swishjam (Winter 2023)', 'Turntable (Winter 2023)', 'Corgi Labs (Winter 2023)', 'Stralis Aircraft (Winter 2023)', 'Holacasa (Winter 2023)', 'Clad (Winter 2023)', 'Epsilon (Winter 2023)', 'Pylon (Winter 2023)', 'Peeba (Winter 2023)', 'Diffuse Bio (Winter 2023)', 'inBuild (Winter 2023)', 'Clearspace (Winter 2023)', 'Sanvivo (Winter 2023)', 'Univerbal (Winter 2023)', 'Milio (Winter 2023)', 'Mantys (Winter 2023)', 'Proglix (Winter 2023)', 'Coldreach (Winter 2023)', 'MagnaPlay (Winter 2023)', 'Shekel Mobility (Winter 2023)', 'iNRI (Winter 2023)', 'Loula (Winter 2023)', 'Retape (Winter 2023)', 'Sirdab (Winter 2023)', 'Clueso (Winter 2023)', 'Fastgen (Winter 2023)', 'Vendah (Winter 2023)', 'SuperKalam (Winter 2023)', 'Alaan (Winter 2023)', 'CombineHealth (Winter 2023)', 'Odigos Technologies Inc. (Winter 2023)', 'nunu.ai (Winter 2023)', 'Hona (Winter 2023)', 'Radical (Winter 2023)', 'Vitalize (Winter 2023)', 'Noya Software (Winter 2023)', 'Hippo Scribe (Winter 2023)', 'Koywe (Winter 2023)', 'Infinia (Winter 2023)', 'Finic (Winter 2023)', 'Honeydew (Winter 2023)', 'Sherloq (Winter 2023)', 'SPRX (Winter 2023)', 'Shortbread (Winter 2023)', 'Pointwise (Winter 2023)', 'Sage AI (Winter 2023)', 'Boundary (Winter 2023)', 'Hadrius (Winter 2023)', 'Defog.ai (Winter 2023)', 'ClickPe (Winter 2023)', 'Fiber (Winter 2023)', 'compliant-llm (Winter 2023)', 'Fintool (Winter 2023)', 'Variance (Winter 2023)', 'Ariglad (Winter 2023)', '222 (Winter 2023)', 'Homeflow (Winter 2023)', 'Berilium (Winter 2023)', 'Rainmaker (Winter 2023)', 'IcePanel (Winter 2023)', 'Helicone (Winter 2023)', '1stCollab (Winter 2023)', 'Storyboarder (Winter 2023)', 'Logital AI (Teclada) (Winter 2023)', 'Orchid (Winter 2023)', 'Forfeit (Winter 2023)', 'TableFlow (Winter 2023)', 'Truewind (Winter 2023)', 'BuildJet (Winter 2023)', 'ShortLoop (Winter 2023)', 'EzDubs (Winter 2023)', 'Velos (Winter 2023)', 'Wild Moose (Winter 2023)', 'Inkeep (Winter 2023)', 'Plutis (Winter 2023)', 'RUUF (Winter 2023)', 'Propexo (Winter 2023)', 'Iliad (Winter 2023)', 'Floworks (Winter 2023)', 'Relace (Winter 2023)', 'Extend (Winter 2023)', 'Langfuse (Winter 2023)', 'co.dev (Winter 2023)', 'TruthSuite (Winter 2023)', 'Bluedot (Winter 2023)', 'Dream3D (Winter 2023)', 'No Cap (Winter 2023)', 'Kivo Health (Winter 2023)', 'coil inc. (Winter 2023)', 'Haven (Winter 2023)', 'Suger (Winter 2023)', 'Cobblestone (Winter 2023)', 'Frigade (Winter 2023)', 'Repacket (Winter 2023)', 'Cloudchipr (Winter 2023)', 'Polo (Winter 2023)', 'Chart (Winter 2023)', 'Athina AI (Winter 2023)', 'Index (Winter 2023)', 'Bujeti (Winter 2023)', 'Flower (Winter 2023)', 'Cosine (Winter 2023)', 'LinkGrep (Winter 2023)', 'Pirros (Winter 2023)', 'Coperniq (Winter 2023)', 'Scanbase (Winter 2023)', 'GovEagle (Winter 2023)', 'PoplarML (Winter 2023)', 'LaunchFlow / infra.new (Winter 2023)', 'Vooma (Winter 2023)', 'FlexWash (Winter 2023)', 'Gluetrail (Winter 2023)', 'JustPaid (Winter 2023)', 'OfOne (Winter 2023)', 'Narrative (Winter 2023)', 'Omnistrate (Winter 2023)', 'Dataglade (Winter 2023)', 'Tennr (Winter 2023)', 'ZeroDev (Winter 2023)', 'Salient (Winter 2023)', 'Ruby Card (Winter 2023)', 'Pledge Health (Winter 2023)', 'Versive (Winter 2023)', 'Glass Health (Winter 2023)', 'Ohm (Winter 2023)', 'Pair AI (Winter 2023)', 'Mercoa (Winter 2023)', 'Double – Coding Copilot (Winter 2023)', 'Palomma (Winter 2023)', 'Numeral (Winter 2023)', 'Nango (Winter 2023)', 'Hammr (Winter 2023)', 'FlexDesk (Winter 2023)', 'Pyq AI (Winter 2023)', 'Trackstar (Winter 2023)', 'Backdrop (Winter 2023)', 'Concourse (Winter 2023)', 'Latent (Winter 2023)', 'SelectIQ (Winter 2023)', 'Lume (Winter 2023)', 'Depot (Winter 2023)', 'Pigeon (Winter 2023)', 'Magic Patterns (Winter 2023)', 'Rollstack (Winter 2023)', 'Credal.ai (Winter 2023)', 'DrDroid (Winter 2023)', 'Layup (Winter 2023)', 'Syncly (Winter 2023)', 'Versori (Winter 2023)', 'Trigger.dev (Winter 2023)', 'rift (Winter 2023)', 'Linum (Winter 2023)', 'Traceloop (Winter 2023)', 'Matano (Winter 2023)', 'OneText (Winter 2023)', 'Reflex (Winter 2023)', 'Miracle (Winter 2023)', 'Finvest (Winter 2023)', 'Laminate (Winter 2023)', 'Designbase (Winter 2023)', 'Middleware (Winter 2023)', 'Rubbrband (Winter 2023)', 'Avoca (Winter 2023)', 'StackAI (Winter 2023)', 'Infisical (Winter 2023)', 'LazyEditor (Winter 2023)', 'Sameday (Winter 2023)', 'Lavo Life Sciences (Winter 2023)', 'Chima (Winter 2023)', 'AlphaWatch AI (Winter 2023)', 'Unify (Winter 2023)', 'highlight.io (Winter 2023)', 'DAGWorks Inc. (Winter 2023)', 'Keep (Winter 2023)', 'PlayAI (Winter 2023)', 'Arroyo (Winter 2023)', 'Muffin Data (Winter 2023)', 'Fairway Health (Winter 2023)', 'OpenMeter (Winter 2023)', 'Outerbase (Winter 2023)', 'Booth AI (Winter 2023)', 'Bluebirds (Winter 2023)', 'Trigo (Winter 2023)', 'EdgeBit (Winter 2023)', 'Brewit (Winter 2023)', 'Dashdive (Winter 2023)', 'Viddy (Winter 2023)', 'Cardinal (Winter 2023)', 'Upfront (Winter 2023)', 'moonrepo (Winter 2023)', 'Second (Winter 2023)', 'Luca (Winter 2023)', 'Serial (Winter 2023)', 'Sorted (Winter 2023)', 'CodeParrot AI (Winter 2023)', 'Interlock (Winter 2023)', 'Defer (Winter 2023)', 'SensorSurf (Winter 2023)', 'Echo (Winter 2023)', 'OutSail Technologies (Winter 2023)', 'Magicflow 𐂂 (Winter 2023)', 'CreatorML (Winter 2023)', 'GoodCourse (Winter 2023)', 'Neptyne (Winter 2023)', 'Overflux (Winter 2023)', 'Choppy! (Winter 2023)', 'OpenSight (Winter 2023)', 'Cakework (Winter 2023)', 'Rubber Ducky Labs (Winter 2023)', 'Parabolic (Winter 2023)', 'Lynx (Winter 2023)', 'Struct (Winter 2023)', 'Indexical (Winter 2023)', 'Paperplane (Winter 2023)', 'Blyss (Winter 2023)', 'Mogara (Winter 2023)', 'Polymath Robotics (Summer 2022)', 'Morf Health (Summer 2022)', 'Ping (Summer 2022)', 'Demospace (Winter 2023)', 'Materee (Summer 2022)', 'Guardian Bio (Summer 2022)', 'Integrated Reasoning (Summer 2022)', 'Coverage Cat (Summer 2022)', 'Intuned (Summer 2022)', 'AccessOwl (Summer 2022)', 'Cone (Summer 2022)', 'Aldara (Summer 2022)', 'Cambio (Summer 2022)', 'Axle (Summer 2022)', 'InVision Medical Technology (Summer 2022)', 'Landeed (Summer 2022)', 'Kamion (Summer 2022)', 'Shelf (Summer 2022)', 'Delfino AI (Summer 2022)', 'Velontra (Summer 2022)', 'Kashin (Summer 2022)', 'AlgoTest (Summer 2022)', 'Sculpt (Summer 2022)', 'REVER (Summer 2022)', 'Knowtex (Summer 2022)', 'Taro (Summer 2022)', 'MovingLake (Summer 2022)', 'uwi (Summer 2022)', 'Lancey (Summer 2022)', 'Jamble (Summer 2022)', 'Relevium Medical (Summer 2022)', 'Blockscope (Summer 2022)', 'Pump.co (Summer 2022)', 'Entvin (Summer 2022)', 'Wondercraft (Summer 2022)', 'autone (Summer 2022)', 'Krave Mart (Summer 2022)', 'Oneleet (Summer 2022)', 'Almond (Summer 2022)', 'Drahim 💰 (Summer 2022)', 'Levers (Summer 2022)', 'Jasmine Energy (Summer 2022)', 'Superbar (Summer 2022)', 'Solum Health (Summer 2022)', 'FoodCourt (Summer 2022)', 'Firecrawl (Summer 2022)', 'Sunpia (Summer 2022)', 'TypeLess (Summer 2022)', 'Invofox (Summer 2022)', 'Avina (Summer 2022)', 'Boton (Summer 2022)', 'PrimeVault (Summer 2022)', 'KemNet (Summer 2022)', 'HOMLI (Summer 2022)', 'Patika (Summer 2022)', 'Findly (Summer 2022)', 'Relate (Summer 2022)', 'Relay Health (Summer 2022)', 'nsave (Summer 2022)', 'Lamin (Summer 2022)', 'Trendex - We Tokenize Talent (Summer 2022)', 'Wand Solar (Summer 2022)', 'CompUp (Summer 2022)', 'Roforco (Summer 2022)', 'AiPrise (Summer 2022)', 'Unthread (Summer 2022)', 'Vinci Games (Summer 2022)', 'Ekho (Summer 2022)', 'Kombo (Summer 2022)', 'Quindar (Summer 2022)', 'Plutto (Summer 2022)', 'Anchor (Summer 2022)', 'Accountable (Summer 2022)', 'Artemis Search (Summer 2022)', 'Cobbery (Summer 2022)', 'Feather (Summer 2022)', 'Fini (Summer 2022)', 'Rima AI (formerly Garage) (Summer 2022)', 'Metriport (Summer 2022)', 'iollo (Summer 2022)', 'Aurelian (Summer 2022)', 'Chowdeck (Summer 2022)', 'FlyCode (Summer 2022)', 'Maya Labs (Summer 2022)', 'Pluralith (Summer 2022)', 'Latent Space (Summer 2022)', 'Diversion (Summer 2022)', 'AviaryAI (Summer 2022)', 'Hedgehog (Summer 2022)', 'Mintplex Labs (Summer 2022)', 'Coris (Summer 2022)', 'Bitstack (Summer 2022)', 'Airhart Aeronautics (Summer 2022)', 'Neosync (Summer 2022)', 'Shipmates (Summer 2022)', 'Peoplebox (Summer 2022)', 'Thera (Summer 2022)', 'Sytex (Summer 2022)', 'Provision (Summer 2022)', 'Pulppo (Summer 2022)', '100x (Summer 2022)', 'Typewise (Summer 2022)', 'NewsCatcher (Summer 2022)', 'Slidely AI (Summer 2022)', 'Zapi (Summer 2022)', 'BiggerPicture (Summer 2022)', 'Flair Labs (Summer 2022)', 'Namecard.ai (Summer 2022)', 'Pivot (Summer 2022)', 'Aragorn AI (Summer 2022)', 'Hype (Summer 2022)', 'Malama Health (Summer 2022)', 'Ten Lives (Summer 2022)', 'Maverick Metals (Summer 2022)', 'Phind (Summer 2022)', 'Tank Payments (Summer 2022)', 'Illuminant Surgical (Summer 2022)', 'Evoly (Summer 2022)', 'Apply Design (Summer 2022)', 'Rio (Summer 2022)', 'Juicebox (Summer 2022)', 'Popsy (Summer 2022)', 'Capix (Summer 2022)', 'Gullak Money (Summer 2022)', 'Seaflight Technologies (Summer 2022)', 'Activepieces (Summer 2022)', 'Windmill (Summer 2022)', 'Raven (Summer 2022)', 'Cashboard (Summer 2022)', 'Blee (Summer 2022)', 'CodeCrafters (Summer 2022)', 'Overwatch (Summer 2022)', 'ALT TEX (Summer 2022)', 'Disclo (Summer 2022)', 'IvyCheck (Summer 2022)', 'Sunlight (Summer 2022)', 'Voltic (Summer 2022)', 'Lyra (Summer 2022)', 'Novig (Summer 2022)', 'Signatur Biosciences (Summer 2022)', 'NuMind (Summer 2022)', 'Ballerine (Summer 2022)', 'Boostly (Summer 2022)', 'EthosX (Summer 2022)', 'Paragon AI (Summer 2022)', 'Craze (Summer 2022)', 'BlueHill Payments (Summer 2022)', 'Array Labs (Summer 2022)', 'Fetii (Summer 2022)', 'Dr. Treat (Summer 2022)', 'Serinus Biosciences (Summer 2022)', 'trebu (Summer 2022)', 'Mocke (Summer 2022)', 'Moneco (Summer 2022)', 'ECSA (Summer 2022)', 'Coupl (Summer 2022)', 'Boundo (Summer 2022)', 'CustomerOS (Summer 2022)', 'TrueBiz (Summer 2022)', 'Cerrion (Summer 2022)', 'Blitz (Summer 2022)', 'erad (Summer 2022)', 'Pasito (Summer 2022)', 'Bunting Labs (Summer 2022)', 'Dittofeed (Summer 2022)', 'Tailor (Summer 2022)', 'Devyce (Summer 2022)', 'Chariot (Summer 2022)', 'Makeasite (Summer 2022)', 'Stackup (Summer 2022)', 'Versa (Summer 2022)', 'SigmaMind AI (Summer 2022)', 'Ciro (Summer 2022)', 'Birch Biosciences (Summer 2022)', 'Two Dots (Summer 2022)', 'Julius (Summer 2022)', 'SolStar (Summer 2022)', 'Elessar (Summer 2022)', 'Denormalized (Summer 2022)', 'Stream (Summer 2022)', 'Paces (Summer 2022)', 'Chordio (Summer 2022)', 'Instant (Summer 2022)', 'Wolfia (Summer 2022)', 'Banabo (Summer 2022)', 'Cisterna Biologics (Summer 2022)', 'Layerup (Summer 2022)', 'Albiware Inc. (Summer 2022)', 'Pana (Summer 2022)', 'Poly (Summer 2022)', 'Clinikally (Summer 2022)', 'Eugit Therapeutics (Summer 2022)', 'Medplum (Summer 2022)', 'TigerEye (Summer 2022)', 'SilkChart (Summer 2022)', 'Keylika (Summer 2022)', 'Emerge Career (Summer 2022)', 'Slingshot (Summer 2022)', 'Monterey AI (Summer 2022)', 'Vizzly (Summer 2022)', 'Payload (Summer 2022)', 'UpLink (Summer 2022)', 'Tranch (Summer 2022)', 'Alterya (Summer 2022)', 'Truva (Summer 2022)', 'HyperDX (Summer 2022)', 'Pivo Technology Inc (Summer 2022)', 'Dev Tools AI (Summer 2022)', 'Lotus (Summer 2022)', 'CAPSULE (Summer 2022)', 'Sonnet (Summer 2022)', 'Drip (Summer 2022)', 'Payfura (Summer 2022)', 'Argovox (Summer 2022)', 'Grai (Summer 2022)', 'Manatee (Summer 2022)', 'Ordinary Seafood (Summer 2022)', 'Slauth.io (Summer 2022)', 'Zoltar Labs (Summer 2022)', 'Stellar (Summer 2022)', 'Notebook Labs (Summer 2022)', 'Bridgecard (Summer 2022)', 'Delegasi (Summer 2022)', 'BricksAI (Summer 2022)', 'Integration Labs (Summer 2022)', 'Ruleset (Summer 2022)', 'Superpowered AI (Summer 2022)', 'Alma (Summer 2022)', 'ilumadata (Summer 2022)', 'Penguin AI (Summer 2022)', 'Dialect (Summer 2022)', 'Mercator (Summer 2022)', 'Airtrain AI (Summer 2022)', 'Weltio (Summer 2022)', 'BBy (Winter 2022)', 'Magic (Summer 2022)', 'WhiteLab Genomics (Winter 2022)', 'TradeX (Winter 2022)', 'Reality Defender (Winter 2022)', 'Lizza (Winter 2022)', 'Massdriver (Winter 2022)', 'CrediBook (Winter 2022)', 'Fresh Factory (Winter 2022)', 'Remi (Winter 2022)', 'Mono (Winter 2022)', 'Onboard.io (Winter 2022)', 'Seis (Winter 2022)', 'Jutsoo (Winter 2022)', 'Phoenix Hydrogen (Winter 2022)', 'AiSupervision (Winter 2022)', 'Alima (Winter 2022)', 'Finnix (Winter 2022)', 'Eventual (Winter 2022)', 'Karate Labs (Winter 2022)', 'HippoBuild (Winter 2022)', 'Pantore Pay (Winter 2022)', 'beU delivery (Winter 2022)', 'Powerdocs (Winter 2022)', 'EasyCode (Winter 2022)', 'Cofactr (Winter 2022)', 'Revoy (Winter 2022)', 'KorrAI (Winter 2022)', 'Beyond Aero (Winter 2022)', 'GovDash (Winter 2022)', 'Origami Therapeutics, Inc. (Winter 2022)', 'Cinapse (Winter 2022)', 'AirMyne (Winter 2022)', 'Offbeast (Winter 2022)', 'Poko (Winter 2022)', 'Cellbyte (Winter 2022)', 'GoSats (Winter 2022)', 'Dealls –\\xa0Jobs & Mentoring (Winter 2022)', 'Impossible Metals (Winter 2022)', 'Query Vary (Winter 2022)', 'Circular (Winter 2022)', 'Powerhouse AI (Winter 2022)', 'GIMO (Winter 2022)', 'Trusty (Winter 2022)', 'Netmaker (Winter 2022)', 'Pigeon (Winter 2022)', 'Olympian Motors (Winter 2022)', 'The Ankler (Winter 2022)', 'Kenobi (Winter 2022)', 'Darsel (Winter 2022)', 'Heptabase (Winter 2022)', 'Anja Health (Winter 2022)', 'Reviving Mind (Winter 2022)', 'Koko (Winter 2022)', 'AYC Fund (Winter 2022)', 'Finku (Winter 2022)', 'Splendor (Winter 2022)', 'Avocademy (Winter 2022)', 'Postal (Winter 2022)', 'Mahaana Wealth (Winter 2022)', 'Codec (Winter 2022)', 'Marathon Education (Winter 2022)', 'Workflow86 (Winter 2022)', 'WANTD (Winter 2022)', 'Humand (Winter 2022)', 'Blink (Winter 2022)', 'Unravel Carbon (Winter 2022)', 'RTHM (Winter 2022)', 'Rally UXR (Winter 2022)', 'Verse (Winter 2022)', 'Arpari (Winter 2022)', 'Fleek (Winter 2022)', 'GoJom (Winter 2022)', 'Ploomber (Winter 2022)', 'yhangry (Winter 2022)', 'Float Health (Winter 2022)', 'amiloz (Winter 2022)', 'Shaped (Winter 2022)', 'ngrow.ai (Winter 2022)', 'Sendo (Winter 2022)', 'Vobi (Winter 2022)', 'Clupp (Winter 2022)', 'QUIK (Winter 2022)', 'Unsaddl (Winter 2022)', 'Status (Winter 2022)', 'SOTERI SKIN (Winter 2022)', 'Spade (Winter 2022)', 'Fogbender (Winter 2022)', 'PropelAuth (Winter 2022)', 'Argument Computer Corporation (Winter 2022)', 'Topship (Winter 2022)', 'Amal Invest (Winter 2022)', 'Attain (Winter 2022)', 'SNAB (Winter 2022)', 'Better Opinions (Winter 2022)', 'UNISON (Winter 2022)', 'IoTFlows Inc (Winter 2022)', 'Cypher (Winter 2022)', 'Trueplace (Winter 2022)', 'Joon Health (Winter 2022)', 'Numida (Winter 2022)', 'PINA (Winter 2022)', 'Brainboard (Winter 2022)', 'Top Road (Winter 2022)', 'Torpedo Therapeutics (Winter 2022)', 'Ponyrun (Winter 2022)', 'Andson Biotech (Winter 2022)', 'Theneo (Winter 2022)', 'Kular (Winter 2022)', 'Venue.ink (Winter 2022)', 'Talentropy.ai (Winter 2022)', 'Rome (Winter 2022)', 'Bemlo (Winter 2022)', 'Vimmerse (Winter 2022)', 'Duplo (Winter 2022)', 'Broccoli AI (Winter 2022)', 'SaveIN (Winter 2022)', 'DimOrder (Winter 2022)', 'Courtyard.io (Winter 2022)', 'Material Depot (Winter 2022)', 'Take App (Winter 2022)', 'Carbon Crusher (Winter 2022)', 'Nullstone (Winter 2022)', 'BotCity (Winter 2022)', 'Partna (Winter 2022)', 'Cinder (Winter 2022)', 'Moni (Winter 2022)', 'Nash (Winter 2022)', 'Cash Flow Portal (Winter 2022)', 'Airwork (Winter 2022)', 'Simplifyd Systems (Winter 2022)', 'Durioo (Winter 2022)', 'goodfin (Winter 2022)', 'Trackingplan (Winter 2022)', 'Hydra (Winter 2022)', 'Arintra (Winter 2022)', 'SmartHelio (Winter 2022)', 'Sendme, Inc (Winter 2022)', 'Sprites (Winter 2022)', 'Benson (Winter 2022)', 'Vendy (Winter 2022)', 'Argo (Winter 2022)', 'Lovage (Winter 2022)', 'Tendo (Winter 2022)', 'Convoy (Winter 2022)', 'SubscriptionFlow (Winter 2022)', 'Lenco (Winter 2022)', 'Dojah Inc (Winter 2022)', 'Strong Compute (Winter 2022)', 'Grey (Winter 2022)', 'Finnt (Winter 2022)', 'Elphinstone, Inc. (Winter 2022)', 'Alga Biosciences (Winter 2022)', 'PayCrunch (Winter 2022)', 'Agency (Winter 2022)', 'Pluto.markets (Winter 2022)', 'Prembly (formerly Identitypass) (Winter 2022)', 'Livedocs (Winter 2022)', 'voize (Winter 2022)', 'Boya (Winter 2022)', 'Kaagaz (Winter 2022)', 'FinFlx (Winter 2022)', 'SpadeWorks (Winter 2022)', 'Curacel (Winter 2022)', 'LunaJoy Health (Winter 2022)', 'Cotera (Winter 2022)', 'Sero (Winter 2022)', 'Posh (Winter 2022)', 'Toko (Winter 2022)', 'Enlightra (Winter 2022)', 'Markaz Technologies (Winter 2022)', 'Eazipay Inc. (Winter 2022)', 'Cogram (Winter 2022)', 'Wibond (Winter 2022)', 'PayCaddy (Winter 2022)', 'digi (Winter 2022)', 'Velt (Winter 2022)', 'Tuva Health (Winter 2022)', 'Plumter (Winter 2022)', 'Siftly (Winter 2022)', 'Complete (Winter 2022)', 'Anfin (Winter 2022)', 'SALT (Winter 2022)', 'IMT Care (Winter 2022)', 'NearWave (Winter 2022)', 'Stairs Financial (Winter 2022)', 'RefineTrain AI (Winter 2022)', 'Mintlify (Winter 2022)', 'Magna (Winter 2022)', 'PermitFlow (Winter 2022)', 'IOMETE (Winter 2022)', 'SkyLink (Winter 2022)', 'RecordBook (Winter 2022)', 'Sphere (Winter 2022)', 'T3 Chat (Winter 2022)', 'RedBrick AI (Winter 2022)', 'Axis (Winter 2022)', 'Gauss (Winter 2022)', 'Flagright (Winter 2022)', 'HOKALI (Winter 2022)', 'Super Send (Winter 2022)', 'Bakool (Winter 2022)', 'Reforged Labs (Winter 2022)', 'Cardda (Winter 2022)', 'Streak (Winter 2022)', 'Palitronica Inc (Winter 2022)', 'Soon (Winter 2022)', 'Emobi (Winter 2022)', 'Dart (Winter 2022)', 'Armilla AI (Winter 2022)', 'Sophys (Winter 2022)', 'SnapTrade (Winter 2022)', 'Bunkyr (Winter 2022)', 'Zorba (Winter 2022)', 'Beam (Winter 2022)', 'RDash (Winter 2022)', 'Azuki (Winter 2022)', 'Stock Unlock (Winter 2022)', 'MosaicVoice (Winter 2022)', 'LanceDB (Winter 2022)', 'Creizer (Winter 2022)', 'Lightmeter (Winter 2022)', 'Phase Biolabs (Winter 2022)', 'Agentnoon (Winter 2022)', 'Firezone (Winter 2022)', 'Elementary (Winter 2022)', 'Versable (Winter 2022)', 'Rehook.ai (Winter 2022)', 'Oto (Winter 2022)', 'Lexter.ai (Winter 2022)', 'Cerebrium (Winter 2022)', 'Fintelite (Winter 2022)', 'haddock (Winter 2022)', 'Lenk (Winter 2022)', 'Pyrls (Winter 2022)', 'Munily (Winter 2022)', 'Complif (Winter 2022)', 'Happl (Winter 2022)', 'Unlayer (Winter 2022)', 'Fieldproxy (Winter 2022)', 'MySivi (Winter 2022)', 'UpBanx (Winter 2022)', 'Viva Labs (Winter 2022)', 'Bobidi (Winter 2022)', 'Hyperbeam (Winter 2022)', 'Ankr Health (Winter 2022)', 'Dioptra (Winter 2022)', 'Atlas (Winter 2022)', 'Miggos (Winter 2022)', 'Orca (Winter 2022)', 'Shuttle Central (Winter 2022)', 'Ozone (Winter 2022)', 'Corveus Medical (Winter 2022)', 'Instant Labs (Winter 2022)', 'Alixia (Winter 2022)', 'HypaHub (Winter 2022)', 'Myria (Winter 2022)', 'Vendoo (Winter 2022)', 'Heyfood (Winter 2022)', 'Kaso (Winter 2022)', 'Touch and Pay Technologies Limited (Winter 2022)', 'Koala (Winter 2022)', 'CUTR (Winter 2022)', 'Aspora (Winter 2022)', 'LlamaFarm (Winter 2022)', 'Industrial Next (Winter 2022)', 'Invert (Winter 2022)', 'Seabound (Winter 2022)', 'Sekilo (Winter 2022)', 'Harmoney (Winter 2022)', 'Dynamo AI (Winter 2022)', 'TeamOut (Winter 2022)', 'Fleetzero (Winter 2022)', 'Gym Class - by IRL Studios (Winter 2022)', 'Nyckel (Winter 2022)', 'Yezza (Winter 2022)', 'Lifted (Winter 2022)', 'Spinach AI (Winter 2022)', 'Blaze (Winter 2022)', 'Axross Pte Ltd (Winter 2022)', 'Brown Foods (Winter 2022)', 'Nest Genomics (Winter 2022)', 'Sei (Winter 2022)', 'Transfez (Winter 2022)', 'Perl Street (Winter 2022)', 'Stably AI (Winter 2022)', 'Loops (Winter 2022)', 'Wagetap (Winter 2022)', 'VacationHomeRents (Winter 2022)', 'CozmoX AI (Winter 2022)', 'Shinkei Systems (Winter 2022)', 'Craniometrix (Winter 2022)', 'Engage Bio (Winter 2022)', 'Actipulse Neuroscience (Winter 2022)', 'Momento (Winter 2022)', 'PromptLoop (Winter 2022)', 'Starling (Winter 2022)', 'Rosebud Biosciences (Winter 2022)', 'Wingback (Winter 2022)', 'VantedgeAI (Winter 2022)', 'Samos Insurance (Winter 2022)', 'WeReno (Winter 2022)', 'Trébol (Winter 2022)', 'Peakflo (Winter 2022)', 'Rebill (Winter 2022)', 'Trellus (Winter 2022)', 'Hubble Network (Winter 2022)', 'Flightcontrol (Winter 2022)', 'Lumina (Winter 2022)', 'Selia (Winter 2022)', 'Sieve (Winter 2022)', 'PolicyFly (Winter 2022)', 'WorldQL (Winter 2022)', 'Railbird (Winter 2022)', 'Kapital Bank (Winter 2022)', 'Syrona Health (Winter 2022)', 'Boardcave (Winter 2022)', 'TYBR Health (Winter 2022)', 'Moots AI (Winter 2022)', 'Scout (Winter 2022)', 'Remedial Health (Winter 2022)', 'Strac (Winter 2022)', 'LifeAt (Winter 2022)', 'Agave (Winter 2022)', 'AstroForge (Winter 2022)', 'Redbird (Winter 2022)', 'Mederva Health (Winter 2022)', 'GrowthBook (Winter 2022)', 'Compra Rápida (Winter 2022)', 'StafBook (Winter 2022)', 'Elevate (formerly Bloom) (Winter 2022)', 'Arc (Winter 2022)', 'Andi (Winter 2022)', 'Spot Health (Winter 2022)', 'Nira Energy (Winter 2022)', 'Joinarena (Winter 2022)', 'Optery (Winter 2022)', 'Uberduck (Winter 2022)', 'Wyvern (Winter 2022)', 'Instalab (Winter 2022)', 'SimpleHash (Winter 2022)', 'Pina Earth (Winter 2022)', 'Serif Health (Winter 2022)', 'TAI (Winter 2022)', 'Nara (Winter 2022)', 'Glow Energy (Winter 2022)', 'Apollo (Winter 2022)', 'Winter (Winter 2022)', 'Rider (Winter 2022)', 'Decent (Winter 2022)', 'Jamsocket (Winter 2022)', 'Quan (Winter 2022)', 'HOAi (Winter 2022)', 'Bracket (Winter 2022)', 'Joe (Winter 2022)', 'mutable.ai (Winter 2022)', 'Blitzllama (Winter 2022)', 'Fuell (Winter 2022)', 'Tola (Winter 2022)', 'Speechly (Winter 2022)', 'Stackshine (Winter 2022)', 'Requestly (Winter 2022)', 'BharatX (Winter 2022)', 'JumpWire (Winter 2022)', 'Onyx Private (Winter 2022)', 'HomeRoom (Winter 2022)', 'Sarus (Winter 2022)', 'Proper (Winter 2022)', 'Alfie (Winter 2022)', 'NFTScoring (Winter 2022)', 'Flike (Winter 2022)', 'Vecindario (Winter 2022)', 'Cashmere (Winter 2022)', 'Nophin (Winter 2022)', 'Vessel (Winter 2022)', 'Fello (Winter 2022)', 'AvairSense (Winter 2022)', 'AntWalk (Winter 2022)', 'Lifecast (Winter 2022)', 'Demo Gorilla (Winter 2022)', 'Aklimate (Winter 2022)', 'Botin (Winter 2022)', 'Suggestr (Winter 2022)', 'Ole (Winter 2022)', 'Drivingforce (Winter 2022)', 'Bifrost (Winter 2022)', 'Castled.io (Winter 2022)', 'Criya (Winter 2022)', 'Emigre (Winter 2022)', 'Whiz (Winter 2022)', 'Kable (Winter 2022)', 'Valari (Winter 2022)', 'Pursuit (Winter 2022)', 'Skillza (Winter 2022)', 'Supertone (Winter 2022)', 'Castia (Winter 2022)', 'CoffeeAI (Winter 2022)', 'Cherry Recommends (Winter 2022)', 'FlowDeploy (Winter 2022)', 'Pelm (Winter 2022)', 'Northwind (Winter 2022)', 'JABU (Summer 2021)', 'Careerist (Summer 2021)', 'Revolve Surgical (Summer 2021)', 'Liv Labs (Summer 2021)', 'Mecho Autotech (Summer 2021)', 'Beau (Summer 2021)', 'Toku (Summer 2021)', 'Safer Management (Summer 2021)', 'Sully.ai (Summer 2021)', 'Exa (Summer 2021)', 'Amenli (Summer 2021)', 'Chipax (Summer 2021)', 'Pide Directo (Summer 2021)', 'Lightly (Summer 2021)', 'Nash (Summer 2021)', 'Equipt Health (Summer 2021)', 'Payflow (Summer 2021)', 'Charge Robotics (Summer 2021)', 'Ahazou (Summer 2021)', 'Titipku (Summer 2021)', 'HEO Robotics (Summer 2021)', 'Turion Space (Summer 2021)', 'Synder (Summer 2021)', 'Café (Summer 2021)', 'Datlo (Summer 2021)', 'FirstIgnite (Summer 2021)', 'VedaBio (Summer 2021)', 'Stepful (Summer 2021)', 'Aviator (Summer 2021)', 'Sitenna (Summer 2021)', 'GamerPay (Summer 2021)', 'Medium Biosciences (Summer 2021)', 'Luminate Medical (Summer 2021)', 'Adravision (Summer 2021)', 'Bytebot (Summer 2021)', 'Evidence (Summer 2021)', 'Birdie (Summer 2021)', 'SFA Therapeutics (Summer 2021)', 'Crew (Summer 2021)', 'Therify (Summer 2021)', 'Phykos (Summer 2021)', 'Hirebolt (Summer 2021)', 'Plai (Summer 2021)', 'Atlas (Summer 2021)', 'CellChorus (Summer 2021)', 'Output Biosciences (Summer 2021)', 'Abatable (Summer 2021)', 'StrideQ (Summer 2021)', 'ContraForce (Summer 2021)', 'Sensible Biotechnologies (Summer 2021)', 'Storylane (Summer 2021)', 'Orderli (Summer 2021)', 'Abhi (Summer 2021)', 'Suplias (Summer 2021)', 'Pandai (Summer 2021)', 'Verde (Summer 2021)', 'idemeum (Summer 2021)', 'Shape (Summer 2021)', 'Baubap (Summer 2021)', 'Novatr (Summer 2021)', 'Malga (Summer 2021)', 'Filadd (Summer 2021)', 'Kiwi Biosciences (Summer 2021)', 'Tuli Health (Summer 2021)', 'Luable (Summer 2021)', 'Stownest (Summer 2021)', 'Caire Health (Summer 2021)', 'bloop (Summer 2021)', 'Pylon (Summer 2021)', 'Infer (Summer 2021)', 'Humane Genomics (Summer 2021)', 'Zuma (Summer 2021)', 'Female Invest (Summer 2021)', 'PAYZE (Summer 2021)', 'Ferveret (Summer 2021)', 'Filta (Summer 2021)', 'Siglo (Summer 2021)', 'Waterplan (Summer 2021)', 'Buoyant Aero (Summer 2021)', 'Hudson Labs (formerly Bedrock AI) (Summer 2021)', 'Nomod (Summer 2021)', 'Genuity (Summer 2021)', 'Genomelink (Summer 2021)', 'Telmai (Summer 2021)', 'Adni (Summer 2021)', 'Infina (Summer 2021)', 'Pillar (Summer 2021)', 'Chari (Summer 2021)', 'Tenyks (Summer 2021)', 'Noloco (Summer 2021)', 'Litnerd (Summer 2021)', 'RMFG (Summer 2021)', 'Revery AI (Summer 2021)', 'Dots 💸 (Summer 2021)', 'Mach9 (Summer 2021)', 'Ancana (Summer 2021)', 'Examedi (Summer 2021)', 'Floatpays Inc (Summer 2021)', 'HitPay (Summer 2021)', 'Bolster (Summer 2021)', 'Coast (Summer 2021)', 'The Breakaway (Summer 2021)', 'TransAstra Corporation (Summer 2021)', 'Float (Summer 2021)', 'Matrubials (Summer 2021)', 'Akute Health (Summer 2021)', 'outloud.ai (Summer 2021)', 'Writesonic (Summer 2021)', 'Sirka (Summer 2021)', 'Spark Studio (Summer 2021)', 'Mentum (Summer 2021)', 'Meticulous (Summer 2021)', 'Adaptyv (Summer 2021)', 'Endla (Summer 2021)', 'HeyCharge (Summer 2021)', 'aSim (Summer 2021)', 'Heimdal (Summer 2021)', 'Cumbuca (Summer 2021)', 'Evidently AI (Summer 2021)', 'Whaly (Summer 2021)', 'Payhippo (Summer 2021)', 'Portão 3 (Summer 2021)', 'Zensors (Summer 2021)', 'Flowly (Summer 2021)', 'Harmonic Discovery (Summer 2021)', 'Makani Science (Summer 2021)', 'lapzo (Summer 2021)', 'Fizz (Summer 2021)', 'Astek Diagnostics (Summer 2021)', 'Freterium (Summer 2021)', 'Inflow (Summer 2021)', 'Protex AI (Summer 2021)', 'Digistain (Summer 2021)', 'Vinco (Summer 2021)', 'KaiPod Learning (Summer 2021)', 'Aleph Solutions (Alephee) (Summer 2021)', 'Aleph (Summer 2021)', 'Zoios. (Summer 2021)', 'Forage Mail (Summer 2021)', 'Stardex (Summer 2021)', 'Encuadrado (Summer 2021)', 'Kurios (Summer 2021)', 'Shimmer (Summer 2021)', 'Pod AI (Summer 2021)', 'OneSchema (Summer 2021)', 'CoLoop (Summer 2021)', 'Dot (Summer 2021)', 'ShipBlu (Summer 2021)', 'Malloc Inc (Summer 2021)', 'Whalesync (Summer 2021)', 'Sequin (Summer 2021)', 'Mergent (Summer 2021)', 'Formance (Summer 2021)', 'Coinrule (Summer 2021)', 'Momo Medical (Summer 2021)', 'LemFi (Summer 2021)', 'Infiuss Health (Summer 2021)', 'Yemaachi Biotechnology (Summer 2021)', 'Scispot (Summer 2021)', 'LootRush (Summer 2021)', 'Cartpanda (Summer 2021)', 'Intellect (Summer 2021)', 'Arrow (Summer 2021)', 'Cloudthread (Summer 2021)', 'Truss (Summer 2021)', 'MindFi (Summer 2021)', 'Geostar (Summer 2021)', 'WarpBuild (Summer 2021)', 'Cero (Summer 2021)', 'Matidor.com (Summer 2021)', 'OneStopKitchen (Summer 2021)', 'fluke (Summer 2021)', 'DigiBuild (Summer 2021)', 'Palenca (Summer 2021)', 'SigmaOS (Summer 2021)', 'Cloudanix (Summer 2021)', 'TrackChain (Summer 2021)', 'Enso (Summer 2021)', 'testRigor (Summer 2021)', 'Monet (Summer 2021)', 'Glitzi (Summer 2021)', 'Planet A Foods (Summer 2021)', 'Warpfy (Summer 2021)', 'AI Tech Packs (Summer 2021)', 'Okani (Summer 2021)', 'Pluggy (Summer 2021)', 'Pideaky (Summer 2021)', 'Govly (Summer 2021)', 'Enerjazz (Summer 2021)', 'Breadcrumbs.io (Summer 2021)', 'Monto (Summer 2021)', 'Bree (Summer 2021)', 'Onebrief (Summer 2021)', 'Repool (Summer 2021)', 'Hyperbrowser (Summer 2021)', 'Iona Mind (Summer 2021)', 'Jovian (Summer 2021)', 'Sentiyen (Summer 2021)', 'Redbean (Summer 2021)', 'Rinse (Summer 2021)', 'Aqua (Summer 2021)', 'Kaya (Summer 2021)', 'SalaryBox (by Titanmind) (Summer 2021)', 'Pirouette Pharma (Summer 2021)', 'Secoda (Summer 2021)', 'Locale (Summer 2021)', 'Kodex (Summer 2021)', 'Verihubs (Summer 2021)', 'HyperTrader (Summer 2021)', 'Awesomic (Summer 2021)', 'Fitia (Summer 2021)', 'Kindamagical (Summer 2021)', 'trii (Summer 2021)', 'SafeBeat (Summer 2021)', 'Ivy Homes (Summer 2021)', 'Brite (Summer 2021)', 'Konta.com (Summer 2021)', 'Zen (Summer 2021)', 'Patterns (Summer 2021)', 'Tablevibe (Summer 2021)', 'DailyBot (Summer 2021)', 'Forage (Summer 2021)', 'RendaloMaq (Summer 2021)', 'Tavus (Summer 2021)', 'Lago (Summer 2021)', 'Hypercore (Summer 2021)', 'Union54 (Summer 2021)', 'SnapCalorie (Summer 2021)', 'StudyStream (Summer 2021)', 'Bite Ninja (Summer 2021)', 'Anakin (Summer 2021)', 'REPROSENT (Summer 2021)', 'Watu (Summer 2021)', 'Epinoma (Summer 2021)', 'InstaKin (Summer 2021)', 'Strive Math (Summer 2021)', 'Keeper (Summer 2021)', 'VitalStrata (Summer 2021)', 'Cabal (Summer 2021)', 'MobileBoost (Summer 2021)', 'AppX (Summer 2021)', 'Neodocs (Summer 2021)', 'AlgoUniversity (Summer 2021)', 'Echoes HQ (Summer 2021)', 'Advantage Club (Summer 2021)', 'Swipe (Summer 2021)', 'Nino Foods (Summer 2021)', 'Rivia.AI (Summer 2021)', 'BLUUMBIO (Summer 2021)', 'Parallel Bio (Summer 2021)', 'Zaz OS (Summer 2021)', 'Instacrops (Summer 2021)', 'BoldVoice (Summer 2021)', 'Confido (Summer 2021)', 'Atmana (Summer 2021)', 'SalaryBook (Summer 2021)', 'Zeit Medical (Summer 2021)', 'ODWEN (Summer 2021)', 'Deed (Summer 2021)', 'PropReturns (Summer 2021)', 'Coulomb AI (Summer 2021)', 'FrontPage (Summer 2021)', 'Koshex (Summer 2021)', 'Kalam Labs (Summer 2021)', 'Mailmodo (Summer 2021)', 'Affogato AI (Summer 2021)', 'Levro (Summer 2021)', 'Ananya Health (Summer 2021)', 'Catena Biosciences (Summer 2021)', 'Karbon Card (Summer 2021)', 'DolarApp (Summer 2021)', 'Fingo Africa (Summer 2021)', 'FirstQuadrant (Summer 2021)', 'Replo (Summer 2021)', 'Rootly (Summer 2021)', 'Potion (Summer 2021)', 'Concord Materials (Summer 2021)', 'Flow Club (Summer 2021)', 'Jestor (Summer 2021)', 'Baraka (Summer 2021)', 'Archbee (Summer 2021)', 'Carbonfact (Summer 2021)', 'Varos (Summer 2021)', 'TAG (Summer 2021)', 'Customily (Summer 2021)', 'Stipop (Summer 2021)', 'Abstra (Summer 2021)', 'Deskimo (Summer 2021)', 'Hive Health (Summer 2021)', 'Yummy (Summer 2021)', 'Mindstate Design Labs (Summer 2021)', 'Pipekit (Summer 2021)', 'Superwall (Summer 2021)', 'Odys Aviation (Summer 2021)', 'Talus Bio (Summer 2021)', 'hotglue (Summer 2021)', 'Legion Health (Summer 2021)', 'Artillery (Summer 2021)', 'AOA Dx (Summer 2021)', 'Contalink (Summer 2021)', 'Agapé (Summer 2021)', 'Blixo (Summer 2021)', 'Inversion Space (Summer 2021)', 'marketfeed (Summer 2021)', 'Reframe (Glucobit) (Summer 2021)', 'Mentorcam (Summer 2021)', 'Epsilon3 (Summer 2021)', 'Positional (Summer 2021)', 'Promakhos Therapeutics (Summer 2021)', 'Slope (Summer 2021)', 'Openlayer (Summer 2021)', 'PaletteHQ (Summer 2021)', 'Cococart (Summer 2021)', 'MarqVision (Summer 2021)', 'Palla (Summer 2021)', 'Satsuma (Summer 2021)', 'Verano Health (Summer 2021)', 'Slash (Summer 2021)', 'Vogent (Summer 2021)', 'Pactima (Summer 2021)', 'Byte Kitchen (Summer 2021)', 'Kapacity.io (Summer 2021)', 'Nasdisc (Summer 2021)', 'Aer (Summer 2021)', 'Onfolk (Summer 2021)', 'Telivy (Summer 2021)', 'Warrant (Summer 2021)', 'Mable (Summer 2021)', 'Arengu (Summer 2021)', 'inai (Summer 2021)', 'Laudable (Summer 2021)', 'Sproutfi (Summer 2021)', 'Keyri (Summer 2021)', 'Tarsal (Summer 2021)', 'Hilos (Summer 2021)', 'Maroo (Summer 2021)', 'MadEats (Summer 2021)', 'Sleek (Summer 2021)', 'Goodkind (Summer 2021)', 'Level (Summer 2021)', 'Beeper (Summer 2021)', 'Hyper (Summer 2021)', 'Quest (Summer 2021)', 'Cache (Summer 2021)', 'OneShop (Summer 2021)', 'Protego (Summer 2021)', 'Talentdrop (Summer 2021)', 'Spoken (Summer 2021)', 'Squire.ai (Summer 2021)', 'Mindmesh (Summer 2021)', 'Canopi (Summer 2021)', 'Opkit (Summer 2021)', 'Moving Parts (Summer 2021)', 'Membo (Summer 2021)', 'BlackOakTV (Summer 2021)', 'Ruth Health (Summer 2021)', 'Dime (Summer 2021)', 'Algofi (Summer 2021)', 'Onsite Pro (Summer 2021)', 'Hera (Summer 2021)', 'Levo (Summer 2021)', 'Kodda (Summer 2021)', 'Milky Way AI (Summer 2021)', 'FastFarma (Summer 2021)', 'Comet Health (Summer 2021)', 'Mixr (Summer 2021)', 'Apollo (Summer 2021)', 'Hypercontext (Summer 2021)', 'Ruta Health (Summer 2021)', 'Scratch Data (Summer 2021)', 'Ivella (Summer 2021)', 'Covie (Summer 2021)', 'Perfekto (Summer 2021)', 'Micro Meat (Summer 2021)', 'Commery (Summer 2021)', 'Nexus (Summer 2021)', 'Lariat Data (Summer 2021)', 'Abbot (Summer 2021)', 'SenpAI.GG (Summer 2021)', 'V-Flow Medical (Summer 2021)', 'Akudo (Summer 2021)', 'Buzzle (Summer 2021)', 'Flowbo (Summer 2021)', 'SolarMente (Summer 2021)', 'Gobillion (Summer 2021)', 'Lobby (Summer 2021)', 'Jupe (Summer 2021)', 'Hedgehog (Summer 2021)', 'Wabi (Summer 2021)', 'Zage (Summer 2021)', 'Hyperseed (Summer 2021)', 'Zepto (Winter 2021)', 'Moxion Power Co. (Winter 2021)', 'Kiwify (Winter 2021)', 'Nano Technologies (Winter 2021)', 'Flux (Winter 2021)', 'R.care (Winter 2021)', 'Kanda (Winter 2021)', 'Ollama (Winter 2021)', 'Meru.com (Winter 2021)', 'Chorus Sleep (Winter 2021)', 'NextPay (Winter 2021)', 'Camlist (Winter 2021)', 'Tackle (Winter 2021)', 'MagicBell (Winter 2021)', 'Reshape Biotech (Winter 2021)', 'Kilobaser (Winter 2021)', 'Shepherd (Winter 2021)', 'Terra API (Winter 2021)', 'My NextDerma (Winter 2021)', 'H3X Technologies (Winter 2021)', 'SwiftSku (Winter 2021)', 'Bloom (Winter 2021)', 'Clear (Winter 2021)', 'Mayan (Winter 2021)', 'Arpio (Winter 2021)', 'Waydev (Winter 2021)', 'Authologic (Winter 2021)', 'Triomics (Winter 2021)', 'Nuntius Therapeutics (Winter 2021)', 'MindPortal (Winter 2021)', 'Forcyte Biotechnologies (Winter 2021)', 'hoop.dev (Winter 2021)', 'Djamo (Winter 2021)', 'HUBUC (Winter 2021)', 'Wasp (Winter 2021)', 'Turing College (Winter 2021)', 'Vendease (Winter 2021)', 'Moonvalley (Winter 2021)', 'Routine (Winter 2021)', 'Estoca (Winter 2021)', 'Recover (Winter 2021)', 'Jiga (Winter 2021)', 'Navattic (Winter 2021)', 'Mystic (Winter 2021)', 'UPchieve (Winter 2021)', 'Somos (Winter 2021)', 'Voosh (Winter 2021)', 'Poliglota (Winter 2021)', 'Axolo (Winter 2021)', 'Dayra (Winter 2021)', 'peopleCQ (Winter 2021)', 'Prospa (Winter 2021)', 'Jetdocs (Winter 2021)', 'Gigs (Winter 2021)', 'Rethoric (Winter 2021)', 'BusinessOnBot (Winter 2021)', 'REGENT (Winter 2021)', 'Spline (Winter 2021)', 'Treinta (Winter 2021)', 'OlaClick (Winter 2021)', 'Svix (Winter 2021)', 'Foster (Winter 2021)', 'Machine26 (Winter 2021)', 'Swadesi Way (Winter 2021)', 'FlowEQ (Winter 2021)', 'Alpas (Winter 2021)', 'GreaseBoss (Winter 2021)', 'Rejoy Health (Winter 2021)', 'Kidato (Winter 2021)', 'FlutterFlow (Winter 2021)', 'AgendaPro (Winter 2021)', 'Chatwoot (Winter 2021)', 'Pagaloop (Winter 2021)', 'Infracost (Winter 2021)', 'Alokai (Winter 2021)', 'Zealth (Winter 2021)', 'Lunatic (Winter 2021)', 'Ziina (Winter 2021)', 'Houm (Winter 2021)', 'Mono (Winter 2021)', 'Morada Uno (Winter 2021)', 'Z1 (Winter 2021)', 'Mendel (Winter 2021)', 'Haystack (Winter 2021)', 'Ontop (Winter 2021)', 'Stayflexi (Winter 2021)', 'Soraban (Winter 2021)', 'Lamar Health (Winter 2021)', 'Compose.ai (Winter 2021)', 'Manara (Winter 2021)', 'Venu AI (Winter 2021)', 'Camp (Winter 2021)', 'Biodock (Winter 2021)', 'Betterhalf (Winter 2021)', 'ROGER (Winter 2021)', 'Phoenix (Winter 2021)', 'Feroot Security (Winter 2021)', 'Redcliffe Lifetech (Winter 2021)', 'Seer (Winter 2021)', 'FitHub (Winter 2021)', 'Rulebricks (Winter 2021)', 'BotBuilt (Winter 2021)', 'Sturdy (Winter 2021)', 'Reclaim Protocol (Winter 2021)', 'ZOKO (Winter 2021)', 'Tint (Winter 2021)', 'Striga (Winter 2021)', 'InpharmD (Winter 2021)', 'Simplify (Winter 2021)', 'Unschool (Winter 2021)', 'Tilt (Winter 2021)', 'Juicy Marbles (Winter 2021)', 'clicOH (Winter 2021)', 'Stoke Space (Winter 2021)', 'Tractian (Winter 2021)', 'Solo (Winter 2021)', 'QuickNode (Winter 2021)', 'Codingal (Winter 2021)', 'Resquared (Winter 2021)', 'Topline Pro (Winter 2021)', 'QuotaBook (Winter 2021)', 'Flextock (Winter 2021)', 'SST (Winter 2021)', 'Darrow (Winter 2021)', 'Homebase (Winter 2021)', 'Veera Health (Winter 2021)', 'LogisticsOS (Winter 2021)', 'LightTwist (Winter 2021)', 'Text Blaze (Winter 2021)', 'Coderhouse (Winter 2021)', 'Sendbox (Winter 2021)', 'Enode (Winter 2021)', 'Trela (Winter 2021)', 'Great Question (Winter 2021)', 'Datrics (Winter 2021)', 'Hudu (Winter 2021)', 'Aurabeat (Winter 2021)', 'Auricle (Winter 2021)', 'Finary.com (Winter 2021)', 'Remora (Winter 2021)', 'zingbus (Winter 2021)', 'Greywing (Winter 2021)', 'GimBooks (Winter 2021)', 'R2 (Winter 2021)', 'Measured (Winter 2021)', 'LiveFlow (Winter 2021)', 'Rinsed (Winter 2021)', 'BrioHR (Winter 2021)', 'FirstSupport.ai (Winter 2021)', 'True3D Labs (Winter 2021)', 'Popl (Winter 2021)', 'Hermes Robotics (Winter 2021)', 'Fathom (Winter 2021)', 'Logica (Winter 2021)', 'Care Weather (Winter 2021)', 'Pangea.app (Winter 2021)', 'Anima (Winter 2021)', 'Kredi (Winter 2021)', 'Mindee (Winter 2021)', 'weweb.io (Winter 2021)', 'Topkey (Winter 2021)', 'Udhaar App (Winter 2021)', 'Quadrant Health (Winter 2021)', 'Orbillion Bio (Winter 2021)', 'Dashlabs.ai (Winter 2021)', 'Kodo (Winter 2021)', 'Nirva (Winter 2021)', 'ControlHub (Winter 2021)', 'Fintoc (Winter 2021)', 'Vapi (Winter 2021)', 'Lendflow (Winter 2021)', 'Alinea (Winter 2021)', 'Parsagon (Winter 2021)', 'Aviron Interactive (Winter 2021)', 'June (Winter 2021)', 'FifthTry (Winter 2021)', 'Camber (Winter 2021)', 'Per Diem (Winter 2021)', 'Bimaplan (Winter 2021)', 'Version Story (Winter 2021)', 'Firstbase.io (Winter 2021)', 'Expent Inc (Winter 2021)', 'Gridware (Winter 2021)', 'Faction (Winter 2021)', 'Javelin Robotics (Winter 2021)', 'Terapify (Winter 2021)', 'Noya (Winter 2021)', 'Gradia Health (Winter 2021)', 'Sivo (Winter 2021)', 'Prequel (Winter 2021)', 'Axle Health (Winter 2021)', 'Valink Therapeutics (Winter 2021)', 'Fractional (Winter 2021)', 'Cyble (Winter 2021)', 'CashBook (Winter 2021)', 'Axiom.ai (Winter 2021)', 'Laudspeaker (Winter 2021)', 'Pragmatic Leaders (Ankai Inc) (Winter 2021)', 'Encord (Winter 2021)', 'Pesto (Winter 2021)', 'Smartcuts (Winter 2021)', 'Weekday (Winter 2021)', 'Tupelo (Winter 2021)', 'Avocado (Winter 2021)', 'Flux Auto (Winter 2021)', 'SpruceID (Winter 2021)', 'Curvenote (Winter 2021)', 'Bluelight (Winter 2021)', 'Wyndly (Winter 2021)', 'Gerald Technologies, Inc (Winter 2021)', 'Moichor (Winter 2021)', 'Lion Pose (Winter 2021)', 'Pibit.ai (Winter 2021)', 'Nourish (Winter 2021)', 'GroMo (Winter 2021)', 'ModernLoop (Winter 2021)', 'arnata (Winter 2021)', 'PowerRouter (Winter 2021)', 'SigNoz (Winter 2021)', 'Finley (Winter 2021)', 'Hapi (Winter 2021)', 'Spokn (Winter 2021)', 'Waypoint (Winter 2021)', 'Taloflow (Winter 2021)', 'MedMe Health (Winter 2021)', 'Snazzy (Winter 2021)', 'Lygg (Winter 2021)', 'Howdy.com (Winter 2021)', 'DreamWorld (Winter 2021)', 'Albedo (Winter 2021)', 'Humaans (Winter 2021)', 'Alba Orbital (Winter 2021)', 'authzed (Winter 2021)', 'Atomic Industries (Winter 2021)', 'The Third Place (Winter 2021)', 'Gaiia (Winter 2021)', 'Trestle Biotherapeutics (Winter 2021)', 'Serna Bio (Winter 2021)', 'Bristle (Winter 2021)', 'cloud humans (Winter 2021)', 'Atrato (Winter 2021)', 'Runway (Winter 2021)', 'Abacum (Winter 2021)', 'Lovd (Winter 2021)', 'Webiny (Winter 2021)', 'Journey (Winter 2021)', 'PipeBio (Winter 2021)', 'Friz (Winter 2021)', 'Awari (Winter 2021)', 'eqtble (Winter 2021)', 'Uiflow (Winter 2021)', 'inBalance (Winter 2021)', 'Kitemaker (Winter 2021)', 'Pyroscope (Winter 2021)', 'Preki (Winter 2021)', 'unSurvey (Winter 2021)', 'Worksphere (Winter 2021)', 'Enable Us (Winter 2021)', 'Dyte (Winter 2021)', 'TechBiz (Winter 2021)', 'Partnered (Winter 2021)', 'Verak (Winter 2021)', 'Trendpop (Winter 2021)', 'Roin Technologies (Winter 2021)', 'Procoto (Winter 2021)', 'Emerge Tools (Winter 2021)', 'Pry Financials (Winter 2021)', 'Promoted.ai (Winter 2021)', 'FunctionUp (FanPlay) (Winter 2021)', 'OctiFi (Winter 2021)', 'Bueno Finance (Winter 2021)', 'Flok (Winter 2021)', 'HyperGlue (Winter 2021)', 'Avenue (Winter 2021)', 'ClipDrop (Winter 2021)', 'PingPong (Winter 2021)', 'Segments.ai (Winter 2021)', 'Fountain9 (Winter 2021)', 'Furmacy (Winter 2021)', 'Stacksi (Winter 2021)', 'MeetAnyway (Winter 2021)', 'Alltruists (Winter 2021)', 'Avion School (Winter 2021)', 'Outfit (Winter 2021)', 'boitas.com (Winter 2021)', 'Blink (Winter 2021)', 'Mezli (Winter 2021)', 'Cheqout (Winter 2021)', 'Broad (Winter 2021)', 'Dressd (Winter 2021)', 'Galaxy (Winter 2021)', 'Moonshot Brands (Winter 2021)', 'Codeball (Winter 2021)', 'Prendea (Winter 2021)', 'Dataherald (Winter 2021)', 'Eat Blueprint (Winter 2021)', 'HomeBreeze (Winter 2021)', 'Entelexo Biotherapeutics (Winter 2021)', 'Fable (Winter 2021)', 'Mythia (Winter 2021)', 'Aerotime (Winter 2021)', 'Launcher Labs (Winter 2021)', 'Taste (Winter 2021)', 'Milk Video (Winter 2021)', 'Finantier (Winter 2021)', 'Platypus (Winter 2021)', 'Nimbus (Winter 2021)', 'Noble (Winter 2021)', 'MarcoPolo (Winter 2021)', 'Lalabox (Winter 2021)', 'Huddlefire (Winter 2021)', 'Invoid (Winter 2021)', 'Purpose Finance (Winter 2021)', 'YourQuote (Winter 2021)', 'Charge Running (Winter 2021)', 'noHQ (Winter 2021)', 'Finary (Winter 2021)', 'GoBuild (fka Brick) (Winter 2021)', 'BeWell Digital (Winter 2021)', 'Clay (Winter 2021)', 'Krab (Winter 2021)', 'CoVerified (Winter 2021)', 'Triplit (Winter 2021)', 'JoinSub (Winter 2021)', 'Queenly (Winter 2021)', 'Observa (Winter 2021)', 'SlashAuth (Winter 2021)', 'Unfurl (Winter 2021)', 'Gigs Live (Winter 2021)', 'Pensil (Winter 2021)', 'SBX Robotics (Winter 2021)', 'Quadrant Eye (Winter 2021)', 'Neverland (Winter 2021)', 'Playmaker (Winter 2021)', 'Gonddo (Winter 2021)', 'Pardes Biosciences (Summer 2020)', 'Degrees of Freedom (Winter 2021)', 'Gilgamesh Pharmaceuticals (Summer 2020)', 'Matter (Summer 2020)', 'Payflow (Summer 2020)', 'Verifiable (Summer 2020)', 'Rarebird (Summer 2020)', 'SiPhox Health (Summer 2020)', 'Future Fields (Summer 2020)', 'Clau (Summer 2020)', 'Todos Comemos (Summer 2020)', 'Hubla (Summer 2020)', 'Parrot Software 🦜 (Summer 2020)', 'Finch (Summer 2020)', 'Heron Data (Summer 2020)', 'Zuddl (Summer 2020)', 'Fieldguide (Summer 2020)', 'Inspectify (Summer 2020)', 'Mozart Data (Summer 2020)', 'Rally (Summer 2020)', 'Warmly, (Summer 2020)', 'Glimpse (Summer 2020)', 'Mobius Materials (Summer 2020)', 'inSoma Bio (Summer 2020)', 'Vena Vitals (Summer 2020)', 'MedPiper Technologies, Inc (Summer 2020)', 'Lendtable (Summer 2020)', 'Dumps (Summer 2020)', 'Afriex (Summer 2020)', 'Spenmo (Summer 2020)', 'Mito (Summer 2020)', 'Draftwise (Summer 2020)', 'Ready (Summer 2020)', 'SockSoho (Summer 2020)', 'Taktile (Summer 2020)', 'Supabase (Summer 2020)', 'CarbonChain (Summer 2020)', 'HENRY (Summer 2020)', 'Arketa (Summer 2020)', 'Laylo (Summer 2020)', 'Formal (Summer 2020)', 'Orange Health Labs (Summer 2020)', 'Awtomic (Summer 2020)', 'Akiflow (Summer 2020)', 'PANADATA (Summer 2020)', 'Dataland (Summer 2020)', 'Minimum (Summer 2020)', 'Hotplate (Summer 2020)', 'Farel (Summer 2020)', 'Skio (Summer 2020)', 'Scrimba (Summer 2020)', 'TyltGO (Summer 2020)', 'Flint (Summer 2020)', 'Nephrogen (Summer 2020)', 'Liyfe (Summer 2020)', 'Memberstack (Summer 2020)', 'Kingdom (Summer 2020)', 'Mozper (Summer 2020)', 'Tella (Summer 2020)', 'Mailwarm (Summer 2020)', 'BIK (Summer 2020)', 'Decentro (Summer 2020)', 'Notabene (Summer 2020)', 'Tydo (Summer 2020)', 'WareIQ (Summer 2020)', 'Balance (Summer 2020)', 'Nabla Bio (Summer 2020)', 'Vitable Health (Summer 2020)', 'Statiq. (Summer 2020)', 'Nextera Robotics (Summer 2020)', 'Justo (Summer 2020)', 'Hellometer (Summer 2020)', 'Stacker (Summer 2020)', 'Tappity (Summer 2020)', 'Yotta (Summer 2020)', 'Mesh (Summer 2020)', 'Daybreak Health (Summer 2020)', 'Biocogniv (Summer 2020)', 'Osmind (Summer 2020)', 'Atomic (Summer 2020)', 'MarketForce (Summer 2020)', 'Seal (Summer 2020)', 'Bits (Summer 2020)', 'Arist (Summer 2020)', 'Cradle (Summer 2020)', 'doola (Summer 2020)', 'Humanloop (Summer 2020)', 'Blissway (Summer 2020)', 'Swif.ai (Summer 2020)', 'Speedscale (Summer 2020)', 'CoreCare (Summer 2020)', 'Kernal Biologics (Summer 2020)', 'Farmako Healthcare (Summer 2020)', 'Dialect (Summer 2020)', 'BukuWarung (Summer 2020)', 'Synapticure (Summer 2020)', 'Hypotenuse AI (Summer 2020)', 'PowerUs (Summer 2020)', 'Pave (Summer 2020)', 'Novel (Summer 2020)', 'Volopay (Summer 2020)', 'VenoStent (Summer 2020)', 'Explorex (Summer 2020)', 'Safepay (Summer 2020)', 'Seam (Summer 2020)', 'Conta Simples (Summer 2020)', 'QuestDB (Summer 2020)', 'Shuttle (Summer 2020)', 'AtoB (Summer 2020)', 'Zitara Technologies, Inc. (Summer 2020)', 'Dripos (Summer 2020)', 'Blue Onion (Summer 2020)', 'Lightdash (Summer 2020)', 'Datafold (Summer 2020)', 'Depict (Summer 2020)', 'inFeedo AI (Summer 2020)', 'SuperTokens (Summer 2020)', 'Luminai (Summer 2020)', 'Roboflow (Summer 2020)', 'Jeeves (Summer 2020)', 'Increase (Summer 2020)', 'Ukama (Summer 2020)', 'Jitsu (Summer 2020)', 'Zip (Summer 2020)', 'Thndr (Summer 2020)', 'twoplus fertility (Summer 2020)', 'Photoroom (Summer 2020)', 'adyn (Summer 2020)', 'Recurrency (Summer 2020)', 'Response (Summer 2020)', 'Salesform (Summer 2020)', 'Basedash (Summer 2020)', 'Hellosaurus (Summer 2020)', 'Porter (Summer 2020)', 'Brevy (Summer 2020)', 'Clover (Summer 2020)', 'Nestybox (Summer 2020)', 'Riogrande (Summer 2020)', 'Reflect (Summer 2020)', 'Fancy (Summer 2020)', 'Together Video Chat (Summer 2020)', 'SafeBase (Summer 2020)', 'Cohere (Summer 2020)', 'Drapr (Summer 2020)', 'Sameplan (Summer 2020)', 'Aquarium Learning (Summer 2020)', 'Clew (Summer 2020)', 'Vectrix (Summer 2020)', 'KeyDB (Summer 2020)', 'Plerk (Summer 2020)', 'Workbase (Summer 2020)', 'webapp.io (Summer 2020)', 'Charityvest (Summer 2020)', 'Omni (Summer 2020)', 'Strive School (Summer 2020)', 'Current Foods (Summer 2020)', 'Finmark (Summer 2020)', 'Hypermile (Summer 2020)', 'Known Medicine (Summer 2020)', 'Momence (Summer 2020)', 'Gather (Summer 2020)', 'Bandit ML (Summer 2020)', 'LSK Technologies (Summer 2020)', 'Command AI (Summer 2020)', 'Jemi (Summer 2020)', 'Altro (Summer 2020)', 'Fig (Summer 2020)', 'Ladder (Summer 2020)', 'CapWay (Summer 2020)', 'Quell (Summer 2020)', 'Parade (Summer 2020)', 'Atmos (Summer 2020)', 'Sonar (Summer 2020)', 'Nextstore (Summer 2020)', 'Byte (Summer 2020)', 'Artifact (Summer 2020)', 'MilkRun (Summer 2020)', 'AI.Fashion (Summer 2020)', 'Lume (Summer 2020)', 'Letter (Summer 2020)', 'OneKey (Summer 2020)', 'Memo (Summer 2020)', 'Virtually (Summer 2020)', 'Intelligent (Summer 2020)', 'Jam.gg (formerly Piepacker) (Summer 2020)', 'In Stock (Summer 2020)', 'Hyper Online (Summer 2020)', 'Streamdal (Summer 2020)', 'Oico (Summer 2020)', 'buildspace (Summer 2020)', 'TANGObuilder (Summer 2020)', 'Atomized (Summer 2020)', 'Foreword (Summer 2020)', 'Monosi (Summer 2020)', 'ClearMix (Summer 2020)', 'Duckly (Summer 2020)', 'Jeevam Health (Summer 2020)', 'Queue (Summer 2020)', 'Nototo (Summer 2020)', 'RTCanary (Summer 2020)', 'Bento (Summer 2020)', 'Rume (Summer 2020)', 'Metamanagement (Summer 2020)', 'Overfit (Summer 2020)', 'Reploy (Summer 2020)', 'Trident Bioscience (Summer 2020)', 'Openbase (Summer 2020)', 'Racer (Summer 2020)', 'Unfaze AI (Summer 2020)', 'Whatnot (Winter 2020)', 'Jet Admin (Winter 2020)', 'Ochre Bio (Winter 2020)', 'Yassir (Winter 2020)', 'Ansa Biotechnologies (Winter 2020)', 'Jenfi (Winter 2020)', 'Legionfarm (Winter 2020)', 'Belvo (Winter 2020)', 'Menten AI (Winter 2020)', 'Gas Pos (Winter 2020)', 'Equator Therapeutics (Winter 2020)', 'Tasker AI (Winter 2020)', 'Prelay (Winter 2020)', 'Humanly (Winter 2020)', 'Airbyte (Winter 2020)', 'Tambua Health (Winter 2020)', 'Workpay (Winter 2020)', '99minutos (Winter 2020)', 'Living Carbon (Winter 2020)', 'SEND (Winter 2020)', 'Atmo (Winter 2020)', 'borong (Winter 2020)', 'Healthlane (Winter 2020)', 'Recall.ai (Winter 2020)', 'Stable (Winter 2020)', 'GiveAway (Winter 2020)', 'Sakneen (Winter 2020)', 'GuruHotel (Winter 2020)', 'Nomic Bio (Winter 2020)', 'Ramani (Winter 2020)', 'Zynq (Winter 2020)', 'Handl (Winter 2020)', 'STARK BANK (Winter 2020)', 'Termii (Winter 2020)', 'BeGo (Winter 2020)', 'Fondeadora (Winter 2020)', 'Linkana (Winter 2020)', 'FUTURA (Winter 2020)', 'Tajir (Winter 2020)', 'Bamboo (Winter 2020)', 'ElectroNeek (Winter 2020)', 'Swipe Technologies (Winter 2020)', 'SOMATIC (Winter 2020)', 'Daedalus (Winter 2020)', 'Oda (Winter 2020)', 'Nexu (Winter 2020)', 'Avion (Winter 2020)', 'OpenBiome (Winter 2020)', 'Isabl (Winter 2020)', 'Breathe Well-being (Winter 2020)', 'Angle Health (Winter 2020)', 'Pahamify (Winter 2020)', 'Raycast (Winter 2020)', 'Spenny (Winter 2020)', 'HireSweet (Winter 2020)', 'EduRev (Winter 2020)', 'Bikry (Winter 2020)', 'Hiration (Winter 2020)', 'Zeo Route Planner (Winter 2020)', 'Morphle Labs (Winter 2020)', 'farmtheory (Winter 2020)', 'TagMango (Winter 2020)', 'UrbanKisaan (Winter 2020)', 'Chutney Inc (Winter 2020)', 'StayQrious (Winter 2020)', 'Kosh (Winter 2020)', 'DeepSource (Winter 2020)', 'Upflow (Winter 2020)', 'PostEra (Winter 2020)', 'Junction (Winter 2020)', 'Skypher (Winter 2020)', 'Jitter (Winter 2020)', 'Fella & Delilah (Winter 2020)', 'Riot (Winter 2020)', 'PostHog (Winter 2020)', 'Modernbanc (Winter 2020)', 'Revenir (Winter 2020)', 'ToDesktop (Winter 2020)', 'Quill (Winter 2020)', 'Mini Exhibitions (Winter 2020)', 'Alloy Automation (Winter 2020)', 'Candid Health (Winter 2020)', 'Vori (Winter 2020)', 'BuildBuddy (Winter 2020)', 'Release (Winter 2020)', 'Cortex (Winter 2020)', 'QueryPie (Winter 2020)', 'Ello (Winter 2020)', 'Turing Labs Inc. (Winter 2020)', 'General Proximity (Winter 2020)', 'Altay Therapeutics (Winter 2020)', 'Medicare Vox (fka Fair Square) (Winter 2020)', 'Plura (formerly Bloom Community) (Winter 2020)', 'Tienda Crypto (Winter 2020)', 'Logarithm Labs (Winter 2020)', 'Operator Labs (Winter 2020)', 'Signadot (Winter 2020)', 'TrueNorth (Winter 2020)', 'Fly.io (Winter 2020)', 'Grain (Winter 2020)', 'StartPlaying.Games (Winter 2020)', 'Benepass (Winter 2020)', 'Infield (Winter 2020)', 'Eze (Winter 2020)', 'Peg (formerly Paymobil) (Winter 2020)', 'Farcast (Winter 2020)', 'SINAI (Winter 2020)', 'Replicate (Winter 2020)', 'Haven (Winter 2020)', 'Datasaur (Winter 2020)', 'Terrasoft (Winter 2020)', 'H1 (Winter 2020)', 'Nextmv (Winter 2020)', 'Aden (Winter 2020)', 'Ditto (Winter 2020)', 'Deep Meditate (Winter 2020)', 'Perceptive Technologies (Winter 2020)', 'Tough Commerce (Winter 2020)', 'Handoff (Winter 2020)', 'OpenUnit (Winter 2020)', 'Taiv (Winter 2020)', 'Letterdrop (Winter 2020)', 'yearend (Winter 2020)', 'Factored Quality (Winter 2020)', 'Explo (Winter 2020)', 'Segmed (Winter 2020)', 'MindsDB (Winter 2020)', 'Ophelia (Winter 2020)', 'Polytomic (Winter 2020)', 'StratumAI (Winter 2020)', 'Teleo (Winter 2020)', 'Alude (Winter 2020)', 'Abalone Bio (Winter 2020)', 'Pulley (Winter 2020)', 'Breezeful (Winter 2020)', 'Paragon (Winter 2020)', 'Kaiten (Winter 2020)', 'Accord (Winter 2020)', 'Flowglad (Winter 2020)', 'Motion (Winter 2020)', 'Karat Financial (Winter 2020)', 'Loop Health (Winter 2020)', 'Facio (Winter 2020)', 'Finlens (Winter 2020)', 'DocVita (Winter 2020)', 'Chaos Genius (Winter 2020)', 'Milo (Winter 2020)', 'Genecis Bio (Winter 2020)', 'PowerX (Winter 2020)', 'CrowdForce (Winter 2020)', 'Checkars (Winter 2020)', 'Sayana (Winter 2020)', 'delt.ai (Winter 2020)', 'Hent (Winter 2020)', 'yBANQ (Winter 2020)', 'Pay Swifter (Winter 2020)', 'Cron (Winter 2020)', 'Able (Winter 2020)', 'Typedream (Winter 2020)', 'Metaplane (Winter 2020)', 'Dropprint Genomics (Winter 2020)', 'Savvy (Winter 2020)', 'Talyn Air (Winter 2020)', 'Terusama (Winter 2020)', 'Weav (Winter 2020)', 'Glimpse (Winter 2020)', 'Dashworks (Winter 2020)', 'Eternal (Winter 2020)', 'Flowdash (Winter 2020)', 'FitnessAI (Winter 2020)', 'Hoss (Winter 2020)', 'Volumetric (Winter 2020)', 'Okay (Winter 2020)', 'Phonic (Winter 2020)', 'Zaraz (Winter 2020)', 'Syncro (Winter 2020)', 'CARUPI (Winter 2020)', 'Apartio (Winter 2020)', 'Valienta (Winter 2020)', 'Orchata (Winter 2020)', 'Viya (Winter 2020)', 'Easyplan (Winter 2020)', 'Synapsica Healthcare (Winter 2020)', 'Zumo Labs (Winter 2020)', 'Thunderpod (Winter 2020)', 'SprintAI (Winter 2020)', 'Snapboard (Winter 2020)', 'PillarPlus (Winter 2020)', 'goDutch (Winter 2020)', 'Laserfocus (Winter 2020)', 'Nimbus (Winter 2020)', 'onetool (Winter 2020)', 'Dropbase (Winter 2020)', 'Multiverse (Winter 2020)', 'Simple Strips (Winter 2020)', 'Pashi (Winter 2020)', 'Welcome (Winter 2020)', 'Scout (Winter 2020)', 'Global Belly (Winter 2020)', 'Duffl (Winter 2020)', 'Blok (Winter 2020)', 'Riya Collective (Winter 2020)', 'Zaam (Winter 2020)', 'Felix Biotechnology (Winter 2020)', 'Visual One (Winter 2020)', 'Homestead (Winter 2020)', 'Edlyft (Winter 2020)', 'The Mercer Club (Winter 2020)', 'Clayboard (Winter 2020)', 'Cadence (Winter 2020)', 'Protobase (Winter 2020)', 'Exosonic, Inc. (Winter 2020)', 'Jamiphy (Winter 2020)', 'Ardis AI (Winter 2020)', 'Glisten AI (Winter 2020)', 'Orbiter (Winter 2020)', 'Pantheon (Winter 2020)', 'Quickcard (Winter 2020)', 'Paneau (Winter 2020)', 'Carbon-12 Labs (Winter 2020)', 'RoboTire (Winter 2020)', 'Lilia (Winter 2020)', 'Enveloop (Winter 2020)', 'Nugget (Winter 2020)', 'Laguna (Winter 2020)', 'Hideout (Winter 2020)', 'Datree (Winter 2020)', 'HelpNow (Winter 2020)', 'Gather (Summer 2019)', 'Odeko (Summer 2019)', 'Sequence Bio (Summer 2019)', 'Vendr.com (Summer 2019)', 'Apurata (Summer 2019)', 'EPIC AEROSPACE (Summer 2019)', 'Breadfast (Summer 2019)', 'GitStart (Summer 2019)', 'LAIKA (Summer 2019)', 'Vorticity (Summer 2019)', 'Coco Wallet (Summer 2019)', 'Deepnote (Summer 2019)', 'Meridian Industries (Summer 2019)', 'Aspect (Summer 2019)', 'Asher Bio (Summer 2019)', 'Taskade (Summer 2019)', 'Vitau (Summer 2019)', 'Flowbot (Summer 2019)', 'treble.ai (Summer 2019)', 'Mudafy (Summer 2019)', 'Traces (Summer 2019)', 'zeroheight (Summer 2019)', 'Curri (Summer 2019)', 'PayMongo (Summer 2019)', 'Freshpaint (Summer 2019)', 'Recidiviz (Summer 2019)', 'Heru (Summer 2019)', 'Holy Grail (Summer 2019)', 'InEvent (Summer 2019)', 'Tranqui Finanzas (Summer 2019)', 'Trella (Summer 2019)', 'Flux (Summer 2019)', 'PredictLeads (Summer 2019)', 'Eden Farm (Summer 2019)', 'stoic. (Summer 2019)', 'Gotrade (Summer 2019)', 'Spice Data (Summer 2019)', 'Demand Curve (Summer 2019)', 'Hightouch (Summer 2019)', 'Ramen VR (Summer 2019)', 'Digi-Prex (Summer 2019)', 'FamPay (Summer 2019)', 'Proof Trading (Summer 2019)', 'Vahan (Summer 2019)', 'Lokal (Summer 2019)', 'LineLeap (Summer 2019)', 'Binks (Summer 2019)', 'CoLab (Summer 2019)', 'EARTH AI (Summer 2019)', 'Microverse (Summer 2019)', 'Wasmer (Summer 2019)', 'Kern Systems (Summer 2019)', 'PlayAbly (Summer 2019)', 'spotLESS Materials (Summer 2019)', 'Arpeggio Bio (Summer 2019)', 'DirectShifts (Summer 2019)', 'Rutter (Summer 2019)', 'Rosebud AI (Summer 2019)', 'Hatchways (Summer 2019)', 'Million Marker (Summer 2019)', 'Downtobid (Summer 2019)', 'Flo Recruit (Summer 2019)', 'Rainbow (Summer 2019)', 'Outtalent (Summer 2019)', 'Canix (Summer 2019)', 'Green Canopy NODE (Summer 2019)', 'KubeSail (Summer 2019)', 'OpenReplay (Summer 2019)', 'Banner (Summer 2019)', 'ZETA SURGICAL (Summer 2019)', 'Fynn (Summer 2019)', 'Localyze (Summer 2019)', 'UpEquity (Summer 2019)', 'Kitekraft (Summer 2019)', 'Mindset Health (Summer 2019)', 'GEn1E Lifesciences (Summer 2019)', 'Yummy Future (Summer 2019)', 'AudioFocus (Summer 2019)', 'Embrace (Summer 2019)', 'Prolific (Summer 2019)', 'Soteris (Summer 2019)', 'Obie (Summer 2019)', 'TRM Labs (Summer 2019)', 'Ever Loved (Summer 2019)', 'Lucid Bots (Summer 2019)', 'Hype and Vice (Summer 2019)', 'Pair Team (Summer 2019)', 'Jupiter (Summer 2019)', 'Zeal (Summer 2019)', 'Juno College of Technology (Summer 2019)', 'Short Story (Summer 2019)', 'Shift Health (Summer 2019)', 'Legacy (Summer 2019)', 'BODYSIM by Well Principled (Summer 2019)', 'Pillar (Summer 2019)', 'Gamebytes (Summer 2019)', 'Plotdrive (Summer 2019)', 'Courier (Summer 2019)', 'Method Financial (Summer 2019)', 'Shiru (Summer 2019)', 'Apero Health (Summer 2019)', 'Lofty (Summer 2019)', 'matagora (Summer 2019)', 'Dex (Summer 2019)', 'Playground (Summer 2019)', 'Vouch (Summer 2019)', 'Bun (Summer 2019)', 'Prenda (Summer 2019)', 'Beacons (Summer 2019)', 'Wren (Summer 2019)', 'Dover (Summer 2019)', 'Zippi (Summer 2019)', 'Superorder (Summer 2019)', 'Swadesh (Summer 2019)', 'Wingman (Summer 2019)', 'MyPetrolPump (Summer 2019)', 'Gaiascope (Summer 2019)', 'Data Mechanics (Summer 2019)', 'Compound (Summer 2019)', 'Bouncer (Summer 2019)', 'FeaturePeek (Summer 2019)', 'TaxProper (Summer 2019)', 'Sable (Summer 2019)', 'Intersect Labs (Summer 2019)', 'Voyage Biomedical (Summer 2019)', 'Actiondesk (Summer 2019)', 'Bayes (Summer 2019)', 'Kraftful (Summer 2019)', 'Cuboh (Summer 2019)', 'Together Software (Summer 2019)', 'PopSQL (Summer 2019)', 'Odin (Summer 2019)', 'Elpha (Summer 2019)', 'Unflow (Summer 2019)', 'Palifer (Summer 2019)', 'Symplex (Summer 2019)', 'Covela (Summer 2019)', 'Blockstamp (Summer 2019)', 'Mipos.dev (Summer 2019)', 'Valiu (Summer 2019)', 'Alana (Summer 2019)', 'Multis (Summer 2019)', 'Namaste Business (Summer 2019)', 'Khabri (Summer 2019)', 'Tensil (Summer 2019)', 'Boost Biomes (Summer 2019)', 'Flow (Summer 2019)', 'Blair (Summer 2019)', 'Zergo (Summer 2019)', 'Lightwell (Summer 2019)', 'Adla (Summer 2019)', 'Brave Care (Summer 2019)', 'Tandem (Summer 2019)', 'Revel (Summer 2019)', 'Nonu (Summer 2019)', 'Lumineye (Summer 2019)', 'LunaSec (Summer 2019)', 'Dashblock (Summer 2019)', 'Lantern (Summer 2019)', 'Narrator (Summer 2019)', 'Muddy (Summer 2019)', 'Encepheal Therapeutics (Summer 2019)', 'Preclusio (Summer 2019)', 'Prompt (Summer 2019)', 'BuildStream (Summer 2019)', 'Souffle Club (Summer 2019)', 'Mighty Health (Summer 2019)', 'ReverCare (Summer 2019)', 'MoFE (Summer 2019)', 'Safely Finance (Summer 2019)', 'Hey Healthcare (Summer 2019)', 'Path (Summer 2019)', 'Vizy (Summer 2019)', 'Hutsy (Summer 2019)', 'Fit to Form (Summer 2019)', 'Pippin / Rent the Backyard (Summer 2019)', 'Nowports (Winter 2019)', 'Deel (Winter 2019)', 'JuziBot (Winter 2019)', 'Shef (Winter 2019)', 'Schoolable (Winter 2019)', 'Shipper (Winter 2019)', 'Buy Me a Coffee (Winter 2019)', 'Eclipse Foods (Winter 2019)', 'YourChoice Therapeutics (Winter 2019)', 'NaturAll Club (Winter 2019)', 'rct AI (Winter 2019)', 'Taali Inc (Winter 2019)', 'Atlas (Winter 2019)', '1910 Genetics (Winter 2019)', 'Numero (Winter 2019)', 'Prometheus (Winter 2019)', 'OutRival, Inc. (Winter 2019)', 'Truora (Winter 2019)', 'Cosmic (Winter 2019)', 'Withfriends (Winter 2019)', 'FIRST (Winter 2019)', 'Latchel (Winter 2019)', 'Globe (Winter 2019)', 'Inito (Winter 2019)', 'Verto (Winter 2019)', 'VotingWorks (Winter 2019)', 'Mars Auto (Winter 2019)', 'Dockup (Winter 2019)', 'Frubana Inc (Winter 2019)', 'Cuanto (Winter 2019)', 'Rune (Winter 2019)', 'Pronto (Winter 2019)', 'Pulse Active Stations Network (Winter 2019)', 'Glide (Winter 2019)', 'Lezzoo (Winter 2019)', 'Cityfurnish (Winter 2019)', 'Bentocart (Winter 2019)', 'Emi Labs (Winter 2019)', 'Spring in Africa (Winter 2019)', 'CredPal (Winter 2019)', 'Exly (Winter 2019)', 'Keynua (Winter 2019)', 'Edyst (Winter 2019)', 'AccioJob (Winter 2019)', 'Mudrex (Winter 2019)', 'Skill-lync (Winter 2019)', 'NALA (Winter 2019)', 'AmpUp (Winter 2019)', 'Endpoint Health (Winter 2019)', 'XGenomes (Winter 2019)', 'Maple Materials (Winter 2019)', 'Alpaca (Winter 2019)', 'Upsolve (Winter 2019)', 'Dagger (Winter 2019)', 'Our World in Data (Winter 2019)', 'Superb AI (Winter 2019)', 'Reelables (Winter 2019)', 'Heart Aerospace (Winter 2019)', 'Volta Labs, Inc. (Winter 2019)', 'JetPack Aviation (Winter 2019)', 'Valo (Winter 2019)', 'Aura Vision (Winter 2019)', 'Wanderlog (Winter 2019)', 'Instapath Inc. (Winter 2019)', 'Caribou (Winter 2019)', 'Ravn (Winter 2019)', 'Doppler (Winter 2019)', 'PNOĒ (Winter 2019)', 'Gordian Software (Winter 2019)', 'Pyxai (Winter 2019)', 'In The Room (Winter 2019)', 'Landed (Winter 2019)', 'Intact Therapeutics (Winter 2019)', 'Excepgen (Winter 2019)', 'Mobot (Winter 2019)', 'Handle.com (Winter 2019)', 'Termius (Winter 2019)', 'Supernova (Winter 2019)', 'Bunkerhill Health (Winter 2019)', 'Probably Genetic (Winter 2019)', 'Okteto (Winter 2019)', 'Ashby (Winter 2019)', 'Bensen (Winter 2019)', 'Switchboard (Winter 2019)', 'AI Insurance (Winter 2019)', 'Demodesk (Winter 2019)', 'Nabis (Winter 2019)', 'Avo (Winter 2019)', 'Sapling.ai (Winter 2019)', 'WeatherCheck (Winter 2019)', 'Thrive Agric (Winter 2019)', 'Community Phone Company (Winter 2019)', 'Tailornova/Couturme (Winter 2019)', 'GoLinks (Winter 2019)', 'LEAH Labs (Winter 2019)', 'Middesk (Winter 2019)', 'Windwalk (Winter 2019)', 'MedCrypt (Winter 2019)', 'BrainKey (Winter 2019)', 'FLOWER CO. (Winter 2019)', 'Postscript (Winter 2019)', 'Hatch (Winter 2019)', 'SciTok (Winter 2019)', 'Sorting Robotics (Winter 2019)', 'Nebullam (DBA Clayton Farms) (Winter 2019)', 'Dyneti Technologies (Winter 2019)', 'Convictional (Winter 2019)', 'Sunsama (Winter 2019)', 'Spire Law (Winter 2019)', 'Ultralight (Winter 2019)', 'Bottomless (Winter 2019)', 'Keeper (Winter 2019)', 'Kalshi (Winter 2019)', 'Pachama (Winter 2019)', 'Centaur Labs (Winter 2019)', 'AllSome Fulfillment (Winter 2019)', 'Positive (Winter 2019)', 'The Juggernaut (Winter 2019)', 'Canopy (was Encarte) (Winter 2019)', 'Parker (Winter 2019)', 'Intelline (Winter 2019)', 'Flockjay (Winter 2019)', 'Overview (Winter 2019)', 'Trexo Robotics (Winter 2019)', 'Searchlight (Winter 2019)', 'ZeroDown (Winter 2019)', 'Taobotics (Winter 2019)', 'Memfault (Winter 2019)', 'Balto (Winter 2019)', 'Catch (Winter 2019)', 'Accept.inc (formerly BoardRE) (Winter 2019)', 'AXDRAFT (Winter 2019)', 'Allure Systems (Winter 2019)', 'Kovi (Winter 2019)', 'WorkClout (Winter 2019)', 'Shiok Meats (Winter 2019)', 'Slapdash (Winter 2019)', 'Seawise Capital (Winter 2019)', 'Cocoon (Winter 2019)', 'Doorport (Winter 2019)', 'Askdata (Winter 2019)', 'Elph (Winter 2019)', 'Docbot (Winter 2019)', 'Atomic Alchemy (Winter 2019)', 'Forage (Winter 2019)', 'Visly (Winter 2019)', 'Coursedog (Winter 2019)', 'Convex (Winter 2019)', 'Ascen (Winter 2019)', 'Preflight (Winter 2019)', 'Windsor (Winter 2019)', 'InterPrime (Winter 2019)', 'Insight (Winter 2019)', 'Geosite (Winter 2019)', 'ZeroStorefront (Winter 2019)', 'Fuzzbuzz (Winter 2019)', 'Spiral Genetics (Winter 2019)', 'Mage (Winter 2019)', 'Union Apartment (Winter 2019)', 'Datamode (Winter 2019)', 'Tailor-ED (Winter 2019)', 'Sublime Black (Winter 2019)', '54Gene (Winter 2019)', 'Capture (Winter 2019)', 'Traverse Technologies (Winter 2019)', 'Hypnos (Winter 2019)', 'DailyDoctor (Winter 2019)', 'CareerTu (Winter 2019)', 'Cherry (Winter 2019)', 'Fuse (Winter 2019)', 'Basement (Winter 2019)', 'AuroraQ (Winter 2019)', 'BlitzIQ (Winter 2019)', 'Maitian.ai (Winter 2019)', 'PerShop (Winter 2019)', 'Simmer (Winter 2019)', 'ResistanceBio (Winter 2019)', 'Evo.Do (Winter 2019)', 'Docucharm (Winter 2019)', 'Basilica (Winter 2019)', 'Adventurous Co (Winter 2019)', 'Avalanche (Winter 2019)', 'Herald (Winter 2019)', 'Portal Entryways (Winter 2019)', 'Green Energy Exchange (Winter 2019)', 'Chaser (Winter 2019)', 'DevFlight (Winter 2019)', 'Comradery (Winter 2019)', 'SpaceRyde (Winter 2019)', 'Pengram (Winter 2019)', 'Kopa (Winter 2019)', 'Vectordash (Winter 2019)', 'Volk Wireless (Winter 2019)', 'Brick Health (Winter 2019)', 'Allo (Winter 2019)', 'Momentus (Summer 2018)', 'Honeylove (Summer 2018)', 'Kunduz (Summer 2018)', 'OkCredit (Summer 2018)', 'Culdesac (Summer 2018)', 'Aesthetic (Summer 2018)', 'Circumvent (Summer 2018)', 'Rejuvenation Technologies Inc. (Summer 2018)', 'iLabService (Summer 2018)', 'Enveritas (Summer 2018)', 'LemonBox Health (Summer 2018)', 'SPATE (Summer 2018)', 'Oxygen (Summer 2018)', 'AnnieCannons (Summer 2018)', 'Mark Cuban Cost Plus Drug Company, PBC (Summer 2018)', 'Leena AI (Summer 2018)', 'Synkrino Biotherapeutics (Summer 2018)', 'Mutiny (Summer 2018)', 'Cowrywise (Summer 2018)', 'Helicarrier (prev Buycoins) (Summer 2018)', 'Khatabook (Summer 2018)', 'BrainHi (Summer 2018)', 'Four Growers (Summer 2018)', 'SkydropX (Summer 2018)', 'Eden (Summer 2018)', 'Nestor (Summer 2018)', 'Bot MD (Summer 2018)', 'ZiffyHomes (Summer 2018)', 'Fintual (Summer 2018)', 'Names & Faces (Summer 2018)', 'Calii (Summer 2018)', 'Tenderd (Summer 2018)', 'Prodigal (Summer 2018)', 'The Supplant Company (Summer 2018)', 'Canary Technologies (Summer 2018)', 'Papa (Summer 2018)', 'MentalHappy (Summer 2018)', 'Alpha Vantage (Summer 2018)', 'Pine Park Health (Summer 2018)', 'BlueCargo (Summer 2018)', 'CB Therapeutics (Summer 2018)', 'Mytos (Summer 2018)', 'DreamCraft Entertainment, Inc. (Summer 2018)', 'UBITS (Summer 2018)', 'Ajaib (Summer 2018)', 'Quickchat AI (Summer 2018)', 'Regology (Summer 2018)', 'Duffel (Summer 2018)', 'Corvus Robotics (Summer 2018)', 'Easol (Summer 2018)', 'Tall Poppy (Summer 2018)', 'Pocket Worlds (Summer 2018)', 'Anima App (Summer 2018)', '64x Bio (Summer 2018)', 'Embeddables (formerly Savvy) (Summer 2018)', 'Meru Health (Summer 2018)', 'Vimcal (Summer 2018)', 'Clear Gene (Summer 2018)', 'Paladin (Summer 2018)', 'Hepatx (Summer 2018)', 'The Good Food Institute (Summer 2018)', 'Rebellyous Foods (Summer 2018)', 'AskMyClass (Summer 2018)', 'College Pulse (Summer 2018)', 'OpenPhone (Summer 2018)', 'Apprentice Health (Summer 2018)', 'Inscribe (Summer 2018)', 'JITX (Summer 2018)', 'Data Driven Bioscience (Summer 2018)', 'Titan (Summer 2018)', 'Activeloop (Summer 2018)', 'OpenWrench (Summer 2018)', 'Federacy (Summer 2018)', 'RevenueCat (Summer 2018)', 'Verse Medical (Summer 2018)', 'Modern Treasury (Summer 2018)', 'C16 Biosciences (Summer 2018)', 'Dinesafe (Summer 2018)', 'Curebase (Summer 2018)', 'Klarity (Summer 2018)', 'Kinside (Summer 2018)', 'OWNY (Summer 2018)', 'Dorian Therapeutics (Summer 2018)', 'Nova (Summer 2018)', 'Grin (Summer 2018)', 'Coral Genomics (Summer 2018)', 'Shelf Engine (Summer 2018)', 'HeyDoctor (Summer 2018)', 'HappiLabs (Summer 2018)', 'Rain Neuromorphics (Summer 2018)', 'hypcloud (Summer 2018)', 'CSPA (Summer 2018)', 'Impactive (formerly Outvote) (Summer 2018)', 'Berbix (Summer 2018)', 'Scanwell Health (Summer 2018)', 'OneGraph (Summer 2018)', 'Optic (Summer 2018)', 'Lowkey (Summer 2018)', 'Demeanor.co (Summer 2018)', 'Phiar (Summer 2018)', 'Allotrope Medical (Summer 2018)', 'Gerostate Alpha (Summer 2018)', 'dNovo (Summer 2018)', 'Perception Biosystems (Summer 2018)', 'Goodly (Summer 2018)', 'Kobo360 (Summer 2018)', 'FameGame (Summer 2018)', 'BHRD (Summer 2018)', 'Purple Plate (Summer 2018)', 'The Buttermilk Company (Summer 2018)', 'Avo (Summer 2018)', 'Ixora (Summer 2018)', 'Radix Labs (Summer 2018)', 'LabelFlow (Summer 2018)', 'Grabb-It (Summer 2018)', 'Spero Foods (Summer 2018)', 'Medinas Health (Summer 2018)', 'ShopWith (Summer 2018)', 'Mylk Guys (Summer 2018)', 'Inokyo (Summer 2018)', 'Xkit (Summer 2018)', 'INKHUNTER (Summer 2018)', 'Contrast (Summer 2018)', 'FREY (Summer 2018)', 'Satchel (Summer 2018)', 'Passenger AI (Summer 2018)', 'numericcal, inc. (Summer 2018)', 'ExceptionALLY (Summer 2018)', 'User Hero (Summer 2018)', 'Penta Medical (Summer 2018)', 'Warpdrive by Synthetic Minds (Summer 2018)', 'Sqreen (Winter 2018)', 'Bear Flag Robotics (Winter 2018)', 'Groww (Winter 2018)', 'Newfront (Winter 2018)', 'Snackpass (Winter 2018)', 'Replit (Winter 2018)', 'Swayable (Winter 2018)', 'FidoCure® (Winter 2018)', 'Veriff (Winter 2018)', 'Aerones (Winter 2018)', 'Helloverify (Winter 2018)', 'Super (Winter 2018)', 'Runa (Winter 2018)', 'ErudiFi (Winter 2018)', 'CaptivateIQ (Winter 2018)', 'Mind Emulation Foundation (Winter 2018)', 'Vena Medical (Winter 2018)', 'Anjuna (Winter 2018)', 'Observe.AI (Winter 2018)', 'Tarjimly (Winter 2018)', 'Culture Biosciences (Winter 2018)', 'ArchForm (Winter 2018)', 'ZBiotics (Winter 2018)', 'OpenSea (Winter 2018)', 'Orangewood Labs (Winter 2018)', 'AlgoSurg Inc (Winter 2018)', 'SafetyWing (Winter 2018)', 'Aspire (Winter 2018)', 'Delphia (Winter 2018)', 'Pelago (Winter 2018)', 'Substack (Winter 2018)', 'Volley (Winter 2018)', 'Gainful (Winter 2018)', \"Players' Lounge (Winter 2018)\", 'Cognition IP (Winter 2018)', 'Psylaris (Winter 2018)', 'Treasury Prime (Winter 2018)', 'Juni (Winter 2018)', \"Let's Do This (Winter 2018)\", 'Universe (Winter 2018)', 'Podcast App (Winter 2018)', 'Plexus (Winter 2018)', 'Supermedium (Winter 2018)', 'Sourcify (Winter 2018)', 'Tributi (Winter 2018)', 'BioRender (Winter 2018)', 'tEQuitable (Winter 2018)', 'Meitre (Winter 2018)', 'EnvKey (Winter 2018)', 'LUS Brands (Winter 2018)', 'Draftbit (Winter 2018)', 'Vanta (Winter 2018)', 'Dear Brightly (Winter 2018)', 'Nuvocargo (Winter 2018)', 'AesculaTech (Winter 2018)', 'Tradewind BioScience (Winter 2018)', 'Persephone Biosciences (Winter 2018)', 'Modern Health (Winter 2018)', 'Promise (Winter 2018)', 'Nectome (Winter 2018)', 'NEXGENT (Winter 2018)', 'Biobot Analytics (Winter 2018)', 'Macromoltek (Winter 2018)', 'Avro Life Science (Winter 2018)', 'Mighty Buildings (Winter 2018)', 'Simetrik (Winter 2018)', 'SRTX (Winter 2018)', 'Key Values (Winter 2018)', 'CoinTracker (Winter 2018)', 'Slite (Winter 2018)', 'Glowing.io (Winter 2018)', 'Sixfold Bioscience (Winter 2018)', 'Observant AI (Winter 2018)', 'Fondo (Winter 2018)', 'Worklytics (Winter 2018)', 'Copilot (Winter 2018)', 'Jasper.ai (Winter 2018)', 'Shogun (Winter 2018)', 'Blueberry Pediatrics (Winter 2018)', 'Beanstalk (Winter 2018)', 'Torch (Winter 2018)', 'Quantstamp (Winter 2018)', 'Spellbrush (Winter 2018)', 'Precious (Winter 2018)', 'Proven Group (Winter 2018)', 'Look After My Bills (Winter 2018)', 'Qulture.Rocks (Winter 2018)', 'Lucy Goods, Inc (Winter 2018)', 'Jido Maps (Winter 2018)', 'Swipehouse (Winter 2018)', 'Medumo (Winter 2018)', 'Zyper (Winter 2018)', 'Memora Health (Winter 2018)', 'YouTeam (Winter 2018)', 'SharpestMinds (Winter 2018)', 'Dataform (Winter 2018)', 'Hunter2 (Winter 2018)', 'Lawyaw (Winter 2018)', 'Naborly (Winter 2018)', 'Mojo (Winter 2018)', 'Edwin (Winter 2018)', 'Flinto (Winter 2018)', 'NewCraft (Winter 2018)', 'Evry Health (Winter 2018)', 'Glimpse K12 (Winter 2018)', 'CodeStream (Winter 2018)', 'Squad (Winter 2018)', 'onederful (Winter 2018)', 'Sepsis Scout (Winter 2018)', 'ClearBrain (Winter 2018)', 'Mayhem (Winter 2018)', 'Lambda Tea (Winter 2018)', 'Pulse (Winter 2018)', 'Hexel (Winter 2018)', 'Point API (Winter 2018)', 'Iambiq Technologies (Winter 2018)', 'Ben (Winter 2018)', 'Secured (Winter 2018)', 'Atrium (Winter 2018)', 'OSIMple (Winter 2018)', 'Pagedraw (Winter 2018)', 'Shone (Winter 2018)', 'Vathys (Winter 2018)', 'Station (Winter 2018)', 'Voicery (Winter 2018)', 'Nutrigene (Winter 2018)', 'Storyline (Winter 2018)', 'miru (Winter 2018)', 'Meson (Winter 2018)', 'Aalo (Winter 2018)', 'Viaopt (Winter 2018)', 'Haiku (Winter 2018)', 'Curious Fictions (Winter 2018)', 'Openland (Winter 2018)', 'Closer Sports (Winter 2018)', 'Tingles (Winter 2018)', 'Skip (Winter 2018)', 'Reverie Labs (Winter 2018)', 'Tipe (Winter 2018)', 'Correlia Biosystems (Winter 2018)', 'OurMenu (Winter 2018)', 'California Dreamin (Winter 2018)', 'Rhythmm (Winter 2018)', 'Sketchbox (Winter 2018)', 'Ovipost (Winter 2018)', 'Modern Fertility (Summer 2017)', 'Necto (Winter 2018)', 'Flock Safety (Summer 2017)', 'FollowUpThen (Summer 2017)', 'Candidate.ly (Summer 2017)', 'Cashfree Payments (Summer 2017)', '10 By 10 (Summer 2017)', 'Thematic (Summer 2017)', 'Forever Labs (Summer 2017)', 'Just Appraised (Summer 2017)', 'Gem (Summer 2017)', 'Routable (Summer 2017)', 'Goodcover (Summer 2017)', 'Officely (Summer 2017)', 'Muzz (Summer 2017)', 'May Mobility (Summer 2017)', 'OneLocal (Summer 2017)', 'Sourceress (Summer 2017)', 'Oncobox (Summer 2017)', 'AssemblyAI (Summer 2017)', 'Zendar (Summer 2017)', 'D-ID (Summer 2017)', 'Skyscrape (Summer 2017)', 'Tesseract (Summer 2017)', 'Flowspace (Summer 2017)', 'Airthium (Summer 2017)', 'Rev Genomics (Summer 2017)', 'tpaga (Summer 2017)', 'Pyka (Summer 2017)', 'Entocycle (Summer 2017)', 'Pop Meals (Summer 2017)', 'HelpWear (Summer 2017)', 'Rabbet (Summer 2017)', 'Upfort (Summer 2017)', 'Cairns Health (Summer 2017)', 'Advano (Summer 2017)', 'Carrot Fertility (Summer 2017)', 'Prelim (Summer 2017)', 'CocuSocial (Summer 2017)', 'Relationship Hero (Summer 2017)', 'SafeButler (Summer 2017)', 'ThereCraft (Summer 2017)', 'Darmiyan (Summer 2017)', 'Nimble (Summer 2017)', 'Roofr (Summer 2017)', 'Standard AI (Summer 2017)', 'UpCodes (Summer 2017)', 'Helium Health (Summer 2017)', 'Releaf Earth (Summer 2017)', 'Leon & George (Summer 2017)', 'Bloom Institute of Technology (Summer 2017)', 'Aecore (Summer 2017)', 'VergeSense (Summer 2017)', 'Long Term Stock Exchange (Summer 2017)', 'Nobell Foods (Summer 2017)', 'FAZZ (Summer 2017)', 'Skyways (Summer 2017)', 'BillionToOne (Summer 2017)', 'Jerry (Summer 2017)', 'PullRequest (Summer 2017)', 'Dharma Labs (Summer 2017)', 'VIDA & Co. (Summer 2017)', 'Templarbit (Summer 2017)', 'disclosures.io (Summer 2017)', 'Headstart (Summer 2017)', 'Lyrebird (Summer 2017)', 'Opearlo (Summer 2017)', 'LotusPay (Summer 2017)', 'Percept.AI (Summer 2017)', 'Eduflow (Summer 2017)', 'Surematics (Summer 2017)', 'Truepill (Summer 2017)', 'Honeydue (Summer 2017)', 'bxblue (Summer 2017)', 'Plasticity (Summer 2017)', 'Meetingbird (Summer 2017)', 'Indivio (Summer 2017)', 'Guilded (Summer 2017)', 'Wildfire (Summer 2017)', 'Escher Reality (Summer 2017)', 'Solve (Summer 2017)', 'Enzyme (Summer 2017)', 'Mystery.org (Summer 2017)', 'CarDash (Summer 2017)', 'Fat Llama (Summer 2017)', 'Ribbon Health (Summer 2017)', 'Feather (Summer 2017)', 'Audm (Summer 2017)', 'Py (Summer 2017)', 'Elucd (Summer 2017)', 'AutoHub (Summer 2017)', 'NextDrop (Summer 2017)', 'WheelStreet (Summer 2017)', 'Bumpline (Summer 2017)', 'Social Construct (Summer 2017)', 'Cambridge Cancer Genomics (Summer 2017)', 'Polly (Summer 2017)', 'Commissary Club (formerly 70 Million Jobs) (Summer 2017)', 'Fastpad (Summer 2017)', 'Guggy (Summer 2017)', 'Gamelynx (Summer 2017)', 'Sunu (Summer 2017)', 'And Comfort (Summer 2017)', 'WATERFX (Summer 2017)', 'Modular Science (Summer 2017)', 'PreDxion Bio (Summer 2017)', 'Goosebump (Summer 2017)', 'Piggy (Summer 2017)', 'Spect (Summer 2017)', 'Storyboard (Summer 2017)', 'RideAlong (Summer 2017)', 'Slik (Summer 2017)', 'Caelum Health (Summer 2017)', 'Covetly (Summer 2017)', 'Semantix (Summer 2017)', 'Mystro (Summer 2017)', 'Sixty (Summer 2017)', 'Greo (Summer 2017)', 'Value Voting (Summer 2017)', 'Dropleaf (Summer 2017)', 'Gameday (Summer 2017)', 'Pathrise (Summer 2017)', 'Prism Labs (Summer 2017)', 'Fam (Summer 2017)', 'Sunfolding (Summer 2017)', 'Passerine Aircraft (Summer 2017)', 'Brex (Winter 2017)', 'Clipboard (Winter 2017)', 'Faire (Winter 2017)', 'Rippling (Winter 2017)', 'ACLU (Winter 2017)', 'Sigma Genetics (Winter 2017)', 'Retool (Winter 2017)', 'Helix Nanotechnologies (Winter 2017)', 'Mirror AI (Winter 2017)', 'Dost Education (Winter 2017)', 'The Centre for Effective Altruism (Winter 2017)', 'Lively, Inc. (Winter 2017)', 'Indee Labs (Winter 2017)', 'UpKeep (Winter 2017)', 'OneFin (Winter 2017)', 'Wifi Dabba, Inc. (Winter 2017)', 'NanoNets (Winter 2017)', 'Delee (Winter 2017)', 'BIOS Health (Winter 2017)', 'Nomba (Winter 2017)', 'AON3D (Winter 2017)', 'BuyPower (Winter 2017)', 'Apozy (Winter 2017)', 'Reliance Health (Winter 2017)', 'Hogaru (Winter 2017)', 'Bitrise (Winter 2017)', 'Plane (Winter 2017)', 'Bulk MRO Industrial Supply (Winter 2017)', 'Solugen (Winter 2017)', 'Inboxbooster (Winter 2017)', 'AlemHealth (Winter 2017)', 'Request Network (Winter 2017)', 'Collectly (Winter 2017)', 'Aella (Winter 2017)', 'Tolemi (Winter 2017)', 'Wright Electric (Winter 2017)', 'Mednet (Winter 2017)', 'Snappr (Winter 2017)', 'Token Transit (Winter 2017)', 'Veryfi, Inc. (Winter 2017)', 'RankScience (Winter 2017)', 'The Essential (Winter 2017)', 'Ledger Investing (Winter 2017)', 'Ambient.ai (Winter 2017)', 'Nuvola (Winter 2017)', 'Upcall (Winter 2017)', 'REZI (Winter 2017)', 'MDalgorithms Inc. (Winter 2017)', 'Extern (Winter 2017)', 'Bountiful (Winter 2017)', 'Sleep Reset (Winter 2017)', 'BloomAPI (Winter 2017)', 'Sinovia Technologies (Winter 2017)', 'Tizeti (Winter 2017)', 'Voiceops (Winter 2017)', 'Speak (Winter 2017)', 'Humi (Winter 2017)', 'ScopeAI (Winter 2017)', 'Peer5 (Winter 2017)', 'KidPass (Winter 2017)', 'Playment (Winter 2017)', 'ZipX (Winter 2017)', 'Terark (Winter 2017)', 'Bulletin (Winter 2017)', 'Breaker (Winter 2017)', 'Supr Daily (Winter 2017)', 'Hivy (Winter 2017)', 'Sandbox Banking (Winter 2017)', 'WaystoCap (Winter 2017)', 'Tetra (Winter 2017)', 'Wavy (Winter 2017)', 'Fiix (Winter 2017)', 'Penny (Winter 2017)', 'Armory (Winter 2017)', 'Soomgo (Winter 2017)', 'Scaphold.io (Winter 2017)', 'Volansi (Winter 2017)', 'Shipamax (Winter 2017)', 'Arthena (Winter 2017)', 'Loop Support (Winter 2017)', 'lvl5 (Winter 2017)', 'Scribe (Winter 2017)', 'No Lean Season (Winter 2017)', 'Voodoo Manufacturing (Winter 2017)', 'SourceBeacon (Winter 2017)', 'Marketfox (Winter 2017)', 'Clear Genetics (Winter 2017)', 'Bicycle AI (Winter 2017)', 'Anasen (Winter 2017)', 'Niles (Winter 2017)', 'Smart Alto (Winter 2017)', 'FloydHub (Winter 2017)', 'Neema (Winter 2017)', 'Arylla (Winter 2017)', 'Firsthand (Winter 2017)', 'Rally Tennis (Winter 2017)', 'Sycamore (Winter 2017)', 'Fibo (Winter 2017)', 'InnaMed (Winter 2017)', 'Volt Health (Winter 2017)', 'Entry (Winter 2017)', 'Origin (Winter 2017)', 'VanGo (Winter 2017)', 'Tress (Winter 2017)', 'Sudden Coffee (Winter 2017)', 'Beek (Winter 2017)', 'Zinc Platform (Winter 2017)', 'Cartcam (Winter 2017)', 'Pit.AI (Winter 2017)', 'Riley (Winter 2017)', 'Pulse (Winter 2017)', 'LitHit (Winter 2017)', 'Cowlar (Winter 2017)', 'Trade (Winter 2017)', 'Pearl (Winter 2017)', 'boxouse (Winter 2017)', 'Bird (Summer 2016)', 'The Athletic (Summer 2016)', 'Proxy (Summer 2016)', 'Meesho (Summer 2016)', 'Expo (Summer 2016)', 'Scale AI (Summer 2016)', 'Elemeno Health (Summer 2016)', 'Suiteness (Summer 2016)', 'Jumpcut (Summer 2016)', 'ApolloShield (Summer 2016)', 'Quero Education (Summer 2016)', 'Yoshi Mobility (Summer 2016)', 'People.ai (Summer 2016)', 'OMG Digital (Summer 2016)', 'Circa (Summer 2016)', 'Ready Education (Summer 2016)', 'Flutterwave (Summer 2016)', 'Emote (Summer 2016)', 'SmartPath (Summer 2016)', 'Curtsy (Summer 2016)', 'Validere (Summer 2016)', 'Airfordable (Summer 2016)', 'Squire Technologies (Summer 2016)', 'HiOperator (Summer 2016)', 'GoGoGrandparent (Summer 2016)', 'Synvivia (Summer 2016)', 'Miso (Summer 2016)', 'Athelas (Summer 2016)', 'Legalist (Summer 2016)', 'New Incentives (Summer 2016)', 'Multiply Labs (Summer 2016)', 'Women Who Code (Summer 2016)', 'The Flex Company (Summer 2016)', 'Kenota (formerly ExVivo Labs) (Summer 2016)', 'OneChronos (Summer 2016)', 'RocketLit (Summer 2016)', 'Nova Credit (Summer 2016)', 'Instrumentl (Summer 2016)', 'Livement (Summer 2016)', 'Rose Rocket (Summer 2016)', 'Upgraded (Summer 2016)', 'Vote.org (Summer 2016)', 'Raptor Maps (Summer 2016)', 'CareRev (Summer 2016)', 'Joy (Summer 2016)', 'WorkRamp (Summer 2016)', 'Vetcove (Summer 2016)', 'NuCypher (aka Threshold Network) (Summer 2016)', 'Prime Lightworks (Summer 2016)', 'RunKit (Summer 2016)', 'Starcity (Summer 2016)', 'Polymail (Summer 2016)', 'Saleswhale (Summer 2016)', 'CrowdAI (Summer 2016)', 'Innov8 (Summer 2016)', 'NeoWize (Summer 2016)', 'Vidcode (Summer 2016)', 'Bulldozair (Summer 2016)', 'Symple (Summer 2016)', 'Pursuit (Summer 2016)', 'garten (Summer 2016)', 'Techmate (Summer 2016)', 'Opsolutely (Summer 2016)', 'Burrow (Summer 2016)', 'Fabric (Summer 2016)', 'Iris Automation (Summer 2016)', 'Seneca Systems (Summer 2016)', 'SimpleCitizen (Summer 2016)', 'UtilityScore (formerly Pando) (Summer 2016)', 'Reebeez (Summer 2016)', 'Lendsnap (Summer 2016)', 'Abundance Labs (Summer 2016)', 'SkyLights (Summer 2016)', 'Ubiq (Summer 2016)', 'Starsky Robotics (Summer 2016)', 'Scanate/Fellow (Summer 2016)', 'GTRACK Technologies (Summer 2016)', 'Xberts (Summer 2016)', 'Seerslab (Summer 2016)', 'Sage Care (Summer 2016)', 'Drivezy (Summer 2016)', 'Coub (Summer 2016)', 'Robby Technologies (Summer 2016)', 'Mosaix.ai (Summer 2016)', 'Shield Bio (Summer 2016)', 'Clip Health (Summer 2016)', 'CoinTent (Summer 2016)', 'Haywheel (Summer 2016)', 'Airo Health (Summer 2016)', 'Metapacket (Summer 2016)', 'Looklive (Summer 2016)', 'Sway Finance (Summer 2016)', 'Farmstead (Summer 2016)', 'Hush (Summer 2016)', 'RigPlenish (Summer 2016)', 'Whyd (Summer 2016)', 'Hellobill (Summer 2016)', 'PatientBank (Summer 2016)', 'Sixa (Summer 2016)', 'Selfycart (Summer 2016)', 'SmartSite (Summer 2016)', 'Mindori (Summer 2016)', 'Embark Trucks (Winter 2016)', 'NURX (Winter 2016)', 'Caper (Winter 2016)', 'Truebill (Winter 2016)', 'Paystack (Winter 2016)', 'GitPrime (Winter 2016)', 'Podium (Winter 2016)', 'Mio (Winter 2016)', 'Daily (Winter 2016)', 'Rappi (Winter 2016)', 'Outschool (Winter 2016)', 'Petcube (Winter 2016)', 'Mason (Winter 2016)', 'Focal Systems (Winter 2016)', 'MagicBus (Winter 2016)', 'Tovala (Winter 2016)', 'Chatfuel (Winter 2016)', 'iSono Health (Winter 2016)', 'GetAccept (Winter 2016)', 'Yardbook (Winter 2016)', 'Stealth Worker (Winter 2016)', 'SOUNDBOKS (Winter 2016)', 'Lattice (Winter 2016)', 'AmberBox Gunshot Detection (Winter 2016)', 'Deepgram (Winter 2016)', 'Mux (Winter 2016)', 'Qvin (Winter 2016)', 'Perlara (Winter 2016)', 'DevColor (Winter 2016)', 'Lygos (Winter 2016)', 'Zenysis (Winter 2016)', 'Astranis (Winter 2016)', 'Bonsai (Winter 2016)', 'Protonet (Winter 2016)', 'Boom (Winter 2016)', 'Relativity Space (Winter 2016)', 'Wakie (Winter 2016)', 'Sanitation and Health Rights in India (SHRI) (Winter 2016)', 'Quilt Data (Winter 2016)', 'Carbic (Winter 2016)', 'FightCamp (Winter 2016)', 'Sendbird (Winter 2016)', 'NetBeez (Winter 2016)', 'mRelief (Winter 2016)', 'GoLorry (Winter 2016)', 'HistoWiz (Winter 2016)', 'Lynks (Winter 2016)', 'Gecko Robotics (Winter 2016)', 'Salt Security (Winter 2016)', 'Thunkable (Winter 2016)', 'Apollo.io (Winter 2016)', 'Pave (Winter 2016)', 'Instabug (Winter 2016)', 'Function of Beauty (Winter 2016)', 'Superside (Winter 2016)', 'Netomi (Winter 2016)', 'Castle (Winter 2016)', 'Opentrons (Winter 2016)', 'MailTime (Winter 2016)', 'Gigwell (Winter 2016)', 'PocketSuite (Winter 2016)', 'Meter Feeder (Winter 2016)', 'Revl (Winter 2016)', 'Deako (Winter 2016)', 'Copia (Winter 2016)', 'Kip Health (Winter 2016)', 'flexEngage (Winter 2016)', 'Stilt (Winter 2016)', 'Hingeto (Winter 2016)', 'Nova (Winter 2016)', 'UroDev Medical (Winter 2016)', 'Landed (Winter 2016)', 'Redspread (Winter 2016)', 'Plato (Winter 2016)', 'Emburse (Winter 2016)', 'Goodybag (Winter 2016)', 'Pulpix (Winter 2016)', 'MineralSoft (Winter 2016)', 'LendEDU (Winter 2016)', 'Luminist Labs (Winter 2016)', 'Able Health (Winter 2016)', 'Loop Genomics (Winter 2016)', 'Algoriz (Winter 2016)', 'VINEBOX (Usual Beverage Co.) (Winter 2016)', 'AlphaFlow (Winter 2016)', 'Magic Instruments (Winter 2016)', 'PhysioHealth (Winter 2016)', 'Compgun (Winter 2016)', 'Modal (Winter 2016)', 'Streamup (Winter 2016)', 'Index (Winter 2016)', 'StrongIntro (Winter 2016)', 'Unnyhog (Winter 2016)', 'Pathmind (Winter 2016)', 'Real Artists (Winter 2016)', 'Silver (Winter 2016)', 'Kisan Network (Winter 2016)', 'Georgette Packaging (Winter 2016)', 'Cover (Winter 2016)', 'Restocks (Winter 2016)', 'Elucify (Winter 2016)', 'Envyl (Winter 2016)', 'TRAC (Winter 2016)', 'Poppy (Winter 2016)', 'Anchor Health (Winter 2016)', 'Patchwork Security (Winter 2016)', 'Interstate Analytics (Winter 2016)', 'ConstructVR (Winter 2016)', 'Castle (Winter 2016)', 'Monthli (Winter 2016)', 'Start Closing (Winter 2016)', 'Open Motors (Winter 2016)', 'Unima (Winter 2016)', 'Enflux (Winter 2016)', 'Bus.com (Winter 2016)', 'Inevitable Tech (Winter 2016)', 'InnoVein (Winter 2016)', 'WorldCover (Winter 2016)', 'DoseDr (Winter 2016)', 'Chillabit (Winter 2016)', 'UpLabs (Winter 2016)', 'Toymail (Winter 2016)', 'OpenInvest (Summer 2015)', 'Go1 (Summer 2015)', 'Scentbird (Summer 2015)', 'Human Interest (Summer 2015)', 'Flirtey (SkyDrop) (Summer 2015)', 'Click & Grow (Summer 2015)', 'Instawork (Summer 2015)', 'Cofactor Genomics (Summer 2015)', 'Bitmovin (Summer 2015)', 'TetraScience (Summer 2015)', 'Eight Sleep (Summer 2015)', 'The Ticket Fairy (Summer 2015)', 'Font Awesome (Summer 2015)', '80,000 Hours (Summer 2015)', 'Xendit (Summer 2015)', 'Shred Video (Summer 2015)', 'RedCarpetUp (Summer 2015)', 'Shape (ShapeScale) (Summer 2015)', 'Plate IQ (Summer 2015)', 'PickTrace (Summer 2015)', 'Fountain (Summer 2015)', 'Microhealth (Summer 2015)', 'GiveCampus (Summer 2015)', 'Markhor (Summer 2015)', 'Chaldal (Summer 2015)', 'Zeplin (Summer 2015)', 'Drip Capital (Summer 2015)', 'Circle Medical (Summer 2015)', 'Verge Genomics (Summer 2015)', 'Bodyport (Summer 2015)', 'Thrive Agritech (Summer 2015)', 'Reach (Summer 2015)', 'SunFarmer (Summer 2015)', 'Confident LIMS (Summer 2015)', 'Branch8 (Summer 2015)', 'Tesorio (Summer 2015)', 'Heroic Labs (Summer 2015)', 'SnapMagic (Summer 2015)', 'Scope AR (Summer 2015)', 'PartnerStack (Summer 2015)', 'Assembly (Summer 2015)', 'Gemnote (Summer 2015)', 'New Story (Summer 2015)', 'Ironclad (Summer 2015)', 'Leaders In Tech (formerly InnerSpace) (Summer 2015)', 'Gigster (Summer 2015)', 'teaBOT (Summer 2015)', 'Teleport (Summer 2015)', 'Lugg (Summer 2015)', 'PlateJoy (Summer 2015)', 'Tenant Turner (Summer 2015)', 'Auro Robotics (Summer 2015)', 'Nebia (Summer 2015)', 'Mimir (Summer 2015)', 'HER (Summer 2015)', 'Xfers (Summer 2015)', 'Blitz Esports (Summer 2015)', 'Interviewed (Summer 2015)', 'Paribus (Summer 2015)', 'Oolu (Summer 2015)', 'zPREDICTA (Summer 2015)', 'Sphere Secure Workspace (Summer 2015)', 'Appcanary (Summer 2015)', 'Cloudstitch (Summer 2015)', 'Bluecrew (Summer 2015)', 'Willing (Summer 2015)', 'Foxpass (Summer 2015)', 'Eden (Summer 2015)', 'Cymmetria (Summer 2015)', 'Convox (Summer 2015)', 'SourceDNA (Summer 2015)', 'Second Measure (Summer 2015)', 'Jopwell (Summer 2015)', 'L. (Summer 2015)', 'Triplebyte (Summer 2015)', 'VOIQ (Summer 2015)', 'Halolife (Summer 2015)', 'Vive (Summer 2015)', 'StyleBee (Summer 2015)', 'Klarismo (Summer 2015)', 'Wheelys Café (Summer 2015)', 'Maderight (Summer 2015)', 'Saida (Summer 2015)', 'Fetch (Summer 2015)', 'Seva Coffee (Summer 2015)', 'Reduced Energy Microsystems (Summer 2015)', 'Traversal Networks (Summer 2015)', 'Prayas Analytics (Summer 2015)', 'Ohm (Summer 2015)', 'Leada (Summer 2015)', 'Locent (Summer 2015)', 'jEugene (Summer 2015)', 'Bistrobot (Summer 2015)', 'Apollo Health (Summer 2015)', 'Afrostream (Summer 2015)', 'Stitch Health (Summer 2015)', 'Shotput (Summer 2015)', 'CareLedger (Summer 2015)', 'Call9 (Summer 2015)', 'Hickory (Summer 2015)', 'Airmada (Summer 2015)', 'Vernox (Summer 2015)', 'ROSS Intelligence (Summer 2015)', 'Roomblocker (Summer 2015)', 'Serica (Summer 2015)', 'GitLab (Winter 2015)', 'Lucira Health (Winter 2015)', 'EquipmentShare (Winter 2015)', 'Razorpay (Winter 2015)', 'GrubMarket (Winter 2015)', 'Shasqi (Winter 2015)', 'Mashgin (Winter 2015)', 'Replika (Winter 2015)', 'NimbleRx (Winter 2015)', 'Flip (Winter 2015)', 'Tara AI (Winter 2015)', 'X-Zell (Winter 2015)', 'Zenflow (Winter 2015)', 'Tab (Winter 2015)', 'Priime (Winter 2015)', 'Meadow (Winter 2015)', 'Level Frames (Winter 2015)', 'Industrial Microbes (Winter 2015)', 'Giveffect (Winter 2015)', 'eBrandvalue (Winter 2015)', 'Quantierra (Winter 2015)', 'Makrwatch (Winter 2015)', 'Resolve (Winter 2015)', 'Cleanly (Winter 2015)', 'TeamNote (Winter 2015)', 'Tempo (Winter 2015)', 'SIRUM (Winter 2015)', 'Sails Co. (Winter 2015)', 'ReadMe (Winter 2015)', 'BuildScience (Winter 2015)', 'Platzi (Winter 2015)', 'Bankjoy (Winter 2015)', 'GiveMeTap (Winter 2015)', 'Labdoor (Winter 2015)', 'The Human Utility (Winter 2015)', 'Zeitview (Winter 2015)', 'Atomwise (Winter 2015)', 'Democracy Earth (Winter 2015)', 'Bright (Winter 2015)', 'Magic (Winter 2015)', 'Mezmo (Winter 2015)', 'Akido Labs (Winter 2015)', 'Qventus (Winter 2015)', 'DemocracyOS (Winter 2015)', 'Lumi (Winter 2015)', 'Spire Health (Winter 2015)', 'Raven Tech (Winter 2015)', 'Chariot (Winter 2015)', 'Vanhawks (Winter 2015)', 'Valor Water Analytics (Winter 2015)', 'SigOpt (Winter 2015)', 'Pretty Instant (Winter 2015)', 'Seed (Winter 2015)', 'Outbound (Winter 2015)', 'Popular Pays (Winter 2015)', 'Moltin (Winter 2015)', 'NexTravel (Winter 2015)', 'Bonfire (Winter 2015)', 'WayUp (Winter 2015)', 'Yhat (Winter 2015)', 'Vest (Winter 2015)', 'YesGraph (Winter 2015)', 'Mobydish (Winter 2015)', 'Smarking (Winter 2015)', 'Remix (Winter 2015)', 'Shift Labs (Winter 2015)', 'Paperspace (Winter 2015)', 'Open Listings (Winter 2015)', 'Pachyderm (Winter 2015)', 'HigherMe (Winter 2015)', 'CyberFend (Winter 2015)', 'WorkLife (Winter 2015)', 'Bizzy (Winter 2015)', 'Bluesmart (Winter 2015)', 'Smyte (Winter 2015)', 'Tech in Asia (Winter 2015)', 'Pomello (Winter 2015)', 'Nomiku (Winter 2015)', 'ThinAir (Winter 2015)', 'Final (Winter 2015)', 'Automate Ads (Winter 2015)', 'Notable Labs (Winter 2015)', 'Lully (Winter 2015)', 'Bagaveev Corporation (Winter 2015)', 'Wink Health (Winter 2015)', 'VetPronto (Winter 2015)', 'Standard Cyborg (Winter 2015)', 'Transcriptic (Winter 2015)', 'Rescue Forensics (Winter 2015)', 'Spoil (Winter 2015)', 'Dabble (Winter 2015)', 'Pigeonly (Winter 2015)', 'Cinder (Winter 2015)', 'Nextop (Winter 2015)', 'Dealyze (Winter 2015)', 'Underground Cellar (Winter 2015)', 'Shift Messenger (Winter 2015)', 'ReSchedule Med (Winter 2015)', 'Rare Door (Winter 2015)', 'Glassjar (Winter 2015)', 'Omniref (Winter 2015)', 'Pakible (Winter 2015)', 'Kickpay (Winter 2015)', 'GroupAhead (Winter 2015)', 'Instavest (Winter 2015)', 'SparkGift (Winter 2015)', 'Cribspot (Winter 2015)', 'Booktrope (Winter 2015)', '3dot (Winter 2015)', '20n (Winter 2015)', 'Oklo (Summer 2014)', 'Direct Match (Winter 2015)', 'Rigetti Computing (Summer 2014)', 'Ginkgo Bioworks (Summer 2014)', 'Cognito (Summer 2014)', 'Checkr (Summer 2014)', 'ShipBob (Summer 2014)', 'Bayes Impact (Summer 2014)', 'Helion Energy (Summer 2014)', 'Front (Summer 2014)', 'Roomstorm (Summer 2014)', 'Hive (Summer 2014)', 'SpotAngels (Summer 2014)', 'UserGems (Summer 2014)', 'SFOX (Summer 2014)', 'Tenjin (Summer 2014)', 'PicnicHealth (Summer 2014)', 'Permutive (Summer 2014)', 'Alchemy (Summer 2014)', 'MTailor (Summer 2014)', 'Greentoe (Summer 2014)', 'Protocol Labs (Summer 2014)', 'MetricWire (Summer 2014)', 'Hyperpad (Summer 2014)', 'Flaviar (Summer 2014)', 'Billforward (Summer 2014)', 'Clear (Summer 2014)', 'Backpack (Summer 2014)', 'Aptible (Summer 2014)', 'Unwind Me (Summer 2014)', 'Sliced Investing (Summer 2014)', 'One Codex (Summer 2014)', 'Ravti (Summer 2014)', 'Women.com (Summer 2014)', 'Tule (Summer 2014)', 'Payable (Summer 2014)', 'Apto Payments (Summer 2014)', 'Product Hunt (Summer 2014)', 'ListRunner (Summer 2014)', 'Replenish (Summer 2014)', 'Lawn Love (Summer 2014)', 'Kash (Summer 2014)', 'Impraise (Summer 2014)', 'Blockspring (Summer 2014)', 'GovPredict (Summer 2014)', 'Hublo (Summer 2014)', 'PersistIQ (Summer 2014)', 'Craft Coffee (Summer 2014)', 'Clara Labs (Summer 2014)', 'Carlypso (Summer 2014)', 'Bitaccess (Summer 2014)', 'Parenthoods (Summer 2014)', 'Zip Phone (Summer 2014)', 'Beep (Summer 2014)', 'Zenamins (Summer 2014)', 'Zoomer (Summer 2014)', 'Whirl (Summer 2014)', 'Weave (Summer 2014)', 'Paid (Summer 2014)', 'Tinker (Summer 2014)', 'Think Gaming (Summer 2014)', 'HauteDay (Summer 2014)', 'SalesSift (Summer 2014)', 'Roost (Summer 2014)', 'Cheddar (Summer 2014)', 'Shout (Summer 2014)', 'Nightingale (Summer 2014)', 'In Your Corner (Summer 2014)', 'Naytev (Summer 2014)', 'Neptune.io (Summer 2014)', 'VizeraLabs (Summer 2014)', 'TAXA Biotechnologies (Summer 2014)', 'Flytenow (Summer 2014)', 'Fixed (Summer 2014)', 'SpringWit (Summer 2014)', 'Bikanta (Summer 2014)', 'Owners Circle (Summer 2014)', 'Doblet (Summer 2014)', 'Bannerman (Summer 2014)', 'Cruise (Winter 2014)', 'Flexport (Winter 2014)', 'Algolia (Winter 2014)', 'Weave (Winter 2014)', 'Immunity Project (Winter 2014)', 'Bellabeat (Winter 2014)', 'Dyspatch (Winter 2014)', 'OpenCurriculum (Winter 2014)', 'MixerBox (Winter 2014)', 'GBatteries (Winter 2014)', 'Zinc (Winter 2014)', 'Snapdocs (Winter 2014)', 'TrueVault (Winter 2014)', 'Guesty (Winter 2014)', 'Zidisha (Winter 2014)', 'Povio (Winter 2014)', 'Shoobs (Winter 2014)', 'One Degree (Winter 2014)', 'PiinPoint (Winter 2014)', 'Pushbullet (Winter 2014)', 'MBX (Winter 2014)', 'Emailio (Winter 2014)', 'DevCycle (Winter 2014)', 'Axoni (Winter 2014)', 'CodeCombat (Winter 2014)', 'Noora Health (Winter 2014)', 'CodeNow (Winter 2014)', 'Cambly (Winter 2014)', 'AptDeco (Winter 2014)', 'CareMessage (Winter 2014)', 'Ambition (Winter 2014)', 'AirHelp (Winter 2014)', '42 (Winter 2014)', 'Avametric (Winter 2014)', 'Vidpresso (Winter 2014)', 'Framed Data (Winter 2014)', 'Unbabel (Winter 2014)', 'Gobble (Winter 2014)', 'Zesty (Winter 2014)', 'Wit.ai (Winter 2014)', 'Rocketrip (Winter 2014)', 'SketchDeck (Winter 2014)', 'Rickshaw (Winter 2014)', 'Liftigniter (Winter 2014)', 'PipelineDB (Winter 2014)', 'Theorem (Winter 2014)', 'Next Caller (Winter 2014)', 'StackLead (Winter 2014)', 'Motionlead (Winter 2014)', 'Kuna Systems (Winter 2014)', 'Kimono Labs (Winter 2014)', 'Eventjoy (Winter 2014)', 'Chargehound (Winter 2014)', 'Two Tap (Winter 2014)', 'Boostable (Winter 2014)', 'Whirlscape (Winter 2014)', 'Abacus (Winter 2014)', 'AirPair (Winter 2014)', 'ZowPow (Winter 2014)', 'Unicornly (Winter 2014)', 'Terravion (Winter 2014)', 'Edyn (Winter 2014)', 'Shopagram (Winter 2014)', 'Style Lend (Winter 2014)', 'MerryMint (Winter 2014)', 'HoverChat (Winter 2014)', 'MadeSolid (Winter 2014)', 'Move Loot (Winter 2014)', 'Drive Pulse (Winter 2014)', 'Yumbin (Winter 2014)', 'Dating Ring (Winter 2014)', 'Awesometalk (Winter 2014)', 'Threadable (Winter 2014)', 'Casetext (Summer 2013)', 'DoorDash (Summer 2013)', 'CoreOS (Summer 2013)', 'Webflow (Summer 2013)', 'Futureleague (Winter 2014)', 'True Link (Summer 2013)', 'Reebee (Summer 2013)', 'Lob (Summer 2013)', 'Panorama Education (Summer 2013)', 'Cratejoy (Summer 2013)', 'EasyPost (Summer 2013)', '7cups (Summer 2013)', 'Estimote, Inc. (Summer 2013)', 'Asseta (Summer 2013)', 'Echo Locker (Summer 2013)', 'Weilos (Summer 2013)', 'Datarank (Summer 2013)', 'Lumoid (Summer 2013)', 'StatusPage (Summer 2013)', 'Bop.fm (Summer 2013)', 'Arcus (Summer 2013)', 'Senic (Summer 2013)', 'RealCrowd (Summer 2013)', 'SpoonRocket (Summer 2013)', 'SimpleLegal (Summer 2013)', 'Layer By Layer (Summer 2013)', 'Hackermeter (Summer 2013)', 'BloomThat (Summer 2013)', 'Apptimize (Summer 2013)', 'URX (Summer 2013)', 'Standard Treasury (Summer 2013)', 'Ixiplay (Summer 2013)', 'WebCake (Summer 2013)', 'SoundFocus (Summer 2013)', 'Kivo (Summer 2013)', 'Butter Systems (Summer 2013)', 'Audobox (Summer 2013)', 'Amulyte (Summer 2013)', 'Watchsend (Summer 2013)', 'One Month (Summer 2013)', 'Meta (Summer 2013)', 'LocalOn (Summer 2013)', 'Hum (Summer 2013)', 'Le Tote (Summer 2013)', 'Graft Concepts (Summer 2013)', 'Glio (Summer 2013)', 'GoComm (Summer 2013)', 'Buttercoin (Summer 2013)', 'Floobits (Summer 2013)', 'Crowdery (Summer 2013)', 'StackMachine (Summer 2013)', 'FanHero (Summer 2013)', 'Teleborder (Summer 2013)', 'Zenefits (Winter 2013)', 'Fivetran (Winter 2013)', 'Heap (Winter 2013)', 'Watsi (Winter 2013)', 'North (Winter 2013)', 'Goldbelly (Winter 2013)', 'Wevorce (Winter 2013)', 'Wefunder (Winter 2013)', 'SimplyInsured (Winter 2013)', 'Lollipuff (Winter 2013)', 'Experiment (Winter 2013)', 'RADAR (Winter 2013)', 'Strikingly (Winter 2013)', 'InfluxData (Winter 2013)', 'Etleap (Winter 2013)', 'Cheetah (Winter 2013)', 'Lawdingo (Winter 2013)', 'Padlet (Winter 2013)', 'BuildZoom (Winter 2013)', 'CircuitLab (Winter 2013)', 'Teespring (Winter 2013)', 'StyleUp (Winter 2013)', 'Semantics3 (Winter 2013)', 'Kalibrr (Winter 2013)', 'Coin (Winter 2013)', 'MedXT (Winter 2013)', 'Meldium (Winter 2013)', 'Bitnami (Winter 2013)', 'GrepData (Winter 2013)', 'VaycayHero (Winter 2013)', 'Screenhero (Winter 2013)', 'Prophecy Sciences (Winter 2013)', 'Scuba (Winter 2013)', 'Airware (Winter 2013)', 'Posmetrics (Winter 2013)', 'CrowdMed (Winter 2013)', 'Logiblock (Winter 2013)', 'FlightCar (Winter 2013)', 'Swapbox (Winter 2013)', 'BeatDeck (Winter 2013)', 'Medisas (Winter 2013)', 'RoverRide (Winter 2013)', 'Trainzen (Winter 2013)', 'PayTango (Winter 2013)', 'Swish (Winter 2013)', 'Coinbase (Summer 2012)', 'Instacart (Summer 2012)', 'Benchling (Summer 2012)', 'SmartAsset (Summer 2012)', 'Clever (Summer 2012)', 'Appcubator (Winter 2013)', 'Lever (Summer 2012)', 'Zapier (Summer 2012)', '9gag (Summer 2012)', 'Plivo (Summer 2012)', 'Svbtle (Summer 2012)', 'Double Robotics (Summer 2012)', 'Vastrm (Summer 2012)', 'BackerKit (Summer 2012)', 'Flightfox (Summer 2012)', 'Submittable (Summer 2012)', 'NewsBlur (Summer 2012)', 'OctaveWealth (Summer 2012)', 'Upwave (Summer 2012)', 'Eligible (Summer 2012)', 'FundersClub (Summer 2012)', 'Mattermost (Summer 2012)', 'Zentail (Summer 2012)', 'HealthSherpa (Summer 2012)', 'Human Dx (Summer 2012)', 'ClassDojo (Summer 2012)', 'Rainforest (Summer 2012)', 'Mth Sense (Summer 2012)', 'Study Edge (Summer 2012)', 'Virool (Summer 2012)', 'VoiceGem (Summer 2012)', 'Natero (Summer 2012)', 'Mattermark (Summer 2012)', 'Easel (Summer 2012)', 'BufferBox (Summer 2012)', 'Vayable (Summer 2012)', 'Soylent (Summer 2012)', 'Fullstack Academy (Summer 2012)', 'OmniVirt (Summer 2012)', 'Streem (Summer 2012)', 'Kamcord (Summer 2012)', 'ZeroMailer (Summer 2012)', 'Boosted (Summer 2012)', 'Knowmia (Summer 2012)', 'Pixate (Summer 2012)', 'Light Table/Eve (Summer 2012)', 'Statwing (Summer 2012)', 'GetGoing (Summer 2012)', 'Thread (Summer 2012)', 'Scoutzie (Summer 2012)', 'Assorted Bits (Summer 2012)', 'Viacycle (Summer 2012)', 'RegistryLove (Summer 2012)', 'Parallel Universe (Summer 2012)', 'MicroEval (Summer 2012)', 'Celery (Summer 2012)', 'Everyday.me (Summer 2012)', 'Credictive (Summer 2012)', 'GoScale (Summer 2012)', 'Tastemaker (Summer 2012)', 'Profig (Summer 2012)', 'Coco Controller (Summer 2012)', 'Partnered (Summer 2012)', 'ReelSurfer (Summer 2012)', 'Keychain Logistics (Summer 2012)', 'Dreamforge (Summer 2012)', 'Collections (Summer 2012)', 'FileStack (Summer 2012)', 'Hipset (Summer 2012)', 'Kippt (Summer 2012)', 'Hiptype (Summer 2012)', 'BrainTripping (Summer 2012)', 'Markupwand (Summer 2012)', 'Crohnology (by Healthy Labs) (Summer 2012)', 'Grid (Summer 2012)', 'DataNitro (Summer 2012)', 'Airshared (Summer 2012)', 'Framebase (Summer 2012)', 'Testmunk (Summer 2012)', 'Arc (Summer 2012)', 'Imgfave (Summer 2012)', 'LeanMarket (Summer 2012)', 'Canopy Labs (Summer 2012)', 'TomoGuides (Summer 2012)', 'Matterport (Winter 2012)', 'Amplitude (Winter 2012)', 'PlanGrid (Winter 2012)', 'Medmonk (Winter 2012)', 'Wave (Winter 2012)', 'Sendwave (Winter 2012)', 'Per Vices (Winter 2012)', 'Gusto (Winter 2012)', 'Screenleap (Winter 2012)', 'CleverDeck (Winter 2012)', 'CircuitHub (Winter 2012)', 'Shoptiques (Winter 2012)', 'The Muse (Winter 2012)', '42Floors (Winter 2012)', 'HireArt (Winter 2012)', 'Medigram (Winter 2012)', 'Shopular (Winter 2012)', 'Ridecell (Winter 2012)', 'Rescale (Winter 2012)', 'iCracked (Winter 2012)', 'Socialcam (Winter 2012)', 'Priceonomics (Winter 2012)', 'YourMechanic (Winter 2012)', 'Loom (Winter 2012)', 'Fond (Winter 2012)', 'Flutter (Winter 2012)', 'Authy (Winter 2012)', 'FarmLogs (Winter 2012)', 'Swiftype (Winter 2012)', 'Tilt (Winter 2012)', 'FamilyLeaf (Winter 2012)', 'Exec (Winter 2012)', 'Chute (Winter 2012)', 'SlidePay (Winter 2012)', 'HackPad (Winter 2012)', 'CoderWall (Winter 2012)', 'Amiato (Winter 2012)', 'MyVR (Winter 2012)', 'Midnox (Winter 2012)', 'SendHub (Winter 2012)', 'GiveSpark (Winter 2012)', 'WireOver (Winter 2012)', 'Carsabi (Winter 2012)', 'Glider (Winter 2012)', 'SolidStage (Winter 2012)', 'Ark (Winter 2012)', 'Documents.Me (Winter 2012)', '99dresses (Winter 2012)', 'BarSense (Winter 2012)', 'LVL6 (Winter 2012)', 'Brace (Winter 2012)', 'LendUp (Winter 2012)', 'Grouper (Winter 2012)', 'Talkray (TiKL) (Winter 2012)', 'Zillabyte (Winter 2012)', 'Pixelapse (Winter 2012)', 'Make School (Winter 2012)', 'Zipio (Winter 2012)', 'Marft (Winter 2012)', 'Minefold (Winter 2012)', 'BookSolid (Winter 2012)', 'Optilly/Installmonetizer (Winter 2012)', 'Tap to Learn (Winter 2012)', 'Hipmob (Winter 2012)', 'Segment (Summer 2011)', 'Jellyfish Art (Winter 2012)', 'Couple (Winter 2012)', 'GoCardless (Summer 2011)', 'Codecademy (Summer 2011)', 'Clerky (Summer 2011)', 'AgileMD (Summer 2011)', 'Streak (Summer 2011)', 'Quartzy (Summer 2011)', 'Apollo (Summer 2011)', 'Vidyard (Summer 2011)', 'OneSignal (Summer 2011)', 'imgix (Summer 2011)', 'HackerRank (Summer 2011)', 'Videopixie (Summer 2011)', 'MixRank (Summer 2011)', 'Sift (Summer 2011)', 'LeadGenius (Summer 2011)', 'Realm (Summer 2011)', 'Citus Data (Summer 2011)', 'Firebase (Summer 2011)', 'Pagelever (Summer 2011)', 'Cryptoseal (Summer 2011)', 'Science Exchange (Summer 2011)', 'Genius (Summer 2011)', 'Aisle50 (Summer 2011)', 'Debteye (Summer 2011)', 'Clutch (Summer 2011)', 'Stypi (Summer 2011)', 'Automatic (Summer 2011)', 'Freshplum (Summer 2011)', 'Zeus (Summer 2011)', 'Parse (Summer 2011)', 'Compose (Summer 2011)', 'TapEngage (Summer 2011)', 'Launchpad Toys (Summer 2011)', 'GlassMap (Summer 2011)', 'Perfect Audience (Summer 2011)', 'Embark (Summer 2011)', 'Caviar (Summer 2011)', 'Verbling (Summer 2011)', 'Fobo (Summer 2011)', 'Zenbox (Summer 2011)', 'Dubjoy (Summer 2011)', 'Quad (Summer 2011)', 'PhoneSys (Summer 2011)', 'Proxino (Summer 2011)', 'Zigfu (Summer 2011)', 'PayDragon (Summer 2011)', 'Hungry Labs (Summer 2011)', 'Picplum (Summer 2011)', 'Draft (Summer 2011)', 'Ridejoy (Summer 2011)', 'Rentobo (Summer 2011)', 'Snapjoy (Summer 2011)', 'Leaky (Summer 2011)', 'Vapor (Summer 2011)', 'Opez (Summer 2011)', 'Kicksend (Summer 2011)', 'Everyme (Summer 2011)', 'Interstate (Summer 2011)', 'MarketBrief (Summer 2011)', 'GOAT Group (Winter 2011)', 'Fivestars (Winter 2011)', 'HelloSign (Winter 2011)', 'Storyworth (Winter 2011)', 'Zerocater (Winter 2011)', 'DrChrono (Winter 2011)', 'Mino Games (Winter 2011)', 'Tremendous (Winter 2011)', 'Close (Winter 2011)', 'Instapainting (Winter 2011)', 'You Got Listings (Winter 2011)', 'Tumult (Winter 2011)', 'Talkable (Winter 2011)', 'Acunote (Winter 2011)', 'SingleStore (Winter 2011)', 'TalkBin (Winter 2011)', 'Lanyrd (Winter 2011)', 'OrderAhead (Winter 2011)', 'Mailgun (Winter 2011)', 'Apportable (Winter 2011)', 'Humble Bundle (Winter 2011)', 'Comprehend (Winter 2011)', 'Pebble (Winter 2011)', 'Custora (Winter 2011)', 'Hotspots (Winter 2011)', 'Sendoid (Winter 2011)', 'Upverter (Winter 2011)', 'Earbits (Winter 2011)', 'SimplyListed (Winter 2011)', 'Venuetastic (Winter 2011)', 'Siasto (Winter 2011)', 'TrustEgg (Winter 2011)', 'Tutorspree (Winter 2011)', 'Balanced (Winter 2011)', 'Flotype (Winter 2011)', 'Hyperink (Winter 2011)', 'Insight Data Science (Winter 2011)', 'Convore (Winter 2011)', 'FitFu (Winter 2011)', 'AppHarbor (Winter 2011)', 'Assembled (Winter 2011)', 'Beetailer (Winter 2011)', 'Inporia (Winter 2011)', 'Userfox (Winter 2011)', 'TellFi (Winter 2011)', 'FutureAdvisor (Summer 2010)', 'PagerDuty (Summer 2010)', 'WorkFlowy (Summer 2010)', 'Docker (Summer 2010)', 'inDinero (Summer 2010)', 'AnyList (Summer 2010)', 'DemandSphere (Summer 2010)', 'Recurse Center (Summer 2010)', 'Whereoscope (Summer 2010)', 'Tapzilla (Summer 2010)', 'AdGrok (Summer 2010)', 'Fridge (Summer 2010)', 'Fanvibe (Summer 2010)', 'Leftronic (Summer 2010)', 'GazeHawk (Summer 2010)', '1000Memories (Summer 2010)', 'PadMapper (Summer 2010)', 'Homejoy (Summer 2010)', 'AeroFS (Summer 2010)', 'Simperium (Summer 2010)', 'Hipmunk (Summer 2010)', 'Rapportive (Summer 2010)', 'Chartio (Summer 2010)', 'Presto (Summer 2010)', 'Koduco (Summer 2010)', 'MessageParty (Summer 2010)', 'Pribbit (Summer 2010)', 'Post.fm (Summer 2010)', 'Ready For Zero (Summer 2010)', 'Upbeat (Summer 2010)', 'Opzi (Summer 2010)', 'Brushes (Summer 2010)', 'Habit Labs (Summer 2010)', 'Gantto (Summer 2010)', 'Optimizely (Winter 2010)', 'Chirply (Summer 2010)', 'Teevox (Summer 2010)', 'OwnLocal (Winter 2010)', 'Etacts (Winter 2010)', 'Cardpool (Winter 2010)', 'Movity (Winter 2010)', 'Cue (Winter 2010)', 'Zencoder (Winter 2010)', 'Creative Market (Winter 2010)', 'Nowmov (Winter 2010)', 'Embedly (Winter 2010)', 'Crocodoc (Winter 2010)', 'Bitplay (Winter 2010)', 'All Screen (Winter 2010)', '500Friends (Winter 2010)', 'Mertado (Winter 2010)', 'Infoharmoni (Winter 2010)', 'Mixed Media Labs (Winter 2010)', 'Notifo (Winter 2010)', 'Newcope (Winter 2010)', 'Newslabs (Winter 2010)', 'Data Marketplace (Winter 2010)', 'Gamador (Winter 2010)', 'Fithub (Winter 2010)', 'Answerly (Winter 2010)', 'Zenedy (Winter 2010)', 'Fabricly (Winter 2010)', 'LaunchHear (Winter 2010)', 'WePay (Summer 2009)', 'Mixpanel (Summer 2009)', 'Stripe (Summer 2009)', 'Lingt (Summer 2009)', 'RentHop (Summer 2009)', 'Directed Edge (Summer 2009)', 'Olark (Summer 2009)', 'Listia (Summer 2009)', 'GraffitiGeo (Summer 2009)', 'Flightcaster (Summer 2009)', 'Lockitron (Summer 2009)', 'RethinkDB (Summer 2009)', 'DailyBooth (Summer 2009)', 'Bump (Summer 2009)', 'Instantq (Summer 2009)', 'Wakemate (Summer 2009)', 'Stackq (Summer 2009)', 'AdThrow (Summer 2009)', 'RoboHR (Summer 2009)', 'NudgePad (Summer 2009)', 'Plurchase (Summer 2009)', 'Fanchatter (Summer 2009)', 'Tuxebo (Summer 2009)', 'CarWoo (Summer 2009)', 'Jobspice (Summer 2009)', 'Airbnb (Winter 2009)', 'HighlightCam (Summer 2009)', 'Cloudkick (Winter 2009)', 'Volantio (Winter 2009)', 'Echodio (Winter 2009)', 'reMail (Winter 2009)', 'Divvyshot (Winter 2009)', 'Heyzap (Winter 2009)', 'PetaSales (Winter 2009)', 'Voxli (Winter 2009)', 'Nambii (Winter 2009)', 'Spaces Life (Winter 2009)', 'Picurio (Winter 2009)', 'Foodoro (Winter 2009)', 'Recurious (Winter 2009)', 'Wattvision (Winter 2009)', 'Skysheet (Winter 2009)', 'BackType (Summer 2008)', 'JustSpotted (Summer 2008)', 'Posterous (Summer 2008)', 'Cloudant (Summer 2008)', 'Slinkset (Summer 2008)', 'Poll Everywhere (Summer 2008)', 'Treehouse (Summer 2008)', 'People & Pages (Summer 2008)', 'PlayReader (Summer 2008)', 'Popcuts (Summer 2008)', 'Snipd (Summer 2008)', 'Ticket Stumbler (Summer 2008)', 'Claimspotting (Summer 2008)', 'Precognate (Summer 2008)', 'Youlicit (Summer 2008)', 'CO2Stats (Summer 2008)', 'Team Apart (Summer 2008)', 'Picwing (Summer 2008)', 'Anyvite (Summer 2008)', 'Frogmetrics (Summer 2008)', 'Job Alchemist (Summer 2008)', 'OhLife (Summer 2008)', 'Heroku (Winter 2008)', 'RescueTime (Winter 2008)', 'Machine Zone (Winter 2008)', 'Ninite (Winter 2008)', '280 North (Winter 2008)', 'A Thinking Ape (Winter 2008)', 'Omnisio (Winter 2008)', 'BitSample (Winter 2008)', 'Joberator (Winter 2008)', 'Snaptalent (Winter 2008)', 'Insoshi (Winter 2008)', 'YumDots (Winter 2008)', 'Deluux (Winter 2008)', 'Mixwit (Winter 2008)', 'Kirkland North (Winter 2008)', 'Tipjoy (Winter 2008)', 'Socialbrowse (Winter 2008)', 'FathomDB (Winter 2008)', 'Wundrbar (Winter 2008)', 'MightyQuiz (Winter 2008)', 'Trigger (Winter 2008)', 'Dropbox (Summer 2007)', 'Blue Frog Gaming (Summer 2007)', 'Appjet (Summer 2007)', 'Anywhere.FM (Summer 2007)', 'Clickpass (Summer 2007)', 'ZumoDrive (Summer 2007)', 'Disqus (Summer 2007)', 'Songkick (Summer 2007)', 'Biographicon (Summer 2007)', 'Eivod (Summer 2007)', 'Fuzzwich (Summer 2007)', 'Meetyu (Summer 2007)', 'Reble (Summer 2007)', 'ContestMachine (Summer 2007)', 'SocialPicks (Summer 2007)', 'iJigg/Top440 (Summer 2007)', 'Hello Chair (Summer 2007)', 'Splashup (Summer 2007)', 'Bountii (Summer 2007)', 'Weebly (Winter 2007)', 'Twitch (Winter 2007)', 'Heysan (Winter 2007)', 'Virtualmin (Winter 2007)', 'Buxfer (Winter 2007)', 'Auctomatic (Winter 2007)', 'Zenter (Winter 2007)', 'Octopart (Winter 2007)', 'Socialmoth (Winter 2007)', 'View3 (Winter 2007)', 'Whitenoise (Winter 2007)', 'OMGPop (Summer 2006)', 'WriteWith (Winter 2007)', 'Tsumobi (Winter 2007)', 'Xobni (Summer 2006)', 'Scribd (Summer 2006)', 'Jumpchat (Summer 2006)', 'Likebetter (Summer 2006)', 'Zanbazaar (Summer 2006)', 'Pollground (Summer 2006)', 'Shoutfit (Summer 2006)', 'Talkito (Summer 2006)', 'Thinkature (Summer 2006)', 'Jamglue (Summer 2006)', 'Wufoo (Winter 2006)', 'Clustrix (Winter 2006)', 'Inkling (Winter 2006)', 'Project Wedding (Winter 2006)', 'Snipshot (Winter 2006)', 'Flagr (Winter 2006)', 'Audiobeta (Winter 2006)', 'Parakey (Summer 2005)', 'Reddit (Summer 2005)', 'Clickfacts (Summer 2005)', 'Loopt (Summer 2005)', 'Kiko (Summer 2005)', 'Infogami (Summer 2005)', 'Memamp (Summer 2005)', 'TextPayMe (Summer 2005)', 'Simmery (Summer 2005)'), style=DescriptionStyle(description_width='initial'), value='Bear (Fall 2025)'),\n",
              " RadioButtons(description='Analysis:', options=('Full Analysis', 'Archetype Only', 'Success Prediction', 'Competitive Analysis'), style=DescriptionStyle(description_width='initial'), value='Full Analysis'),\n",
              " Button(button_style='info', description='🎲 Random Company', layout=Layout(width='150px'), style=ButtonStyle()),\n",
              " Output())"
            ]
          },
          "execution_count": 79,
          "metadata": {},
          "output_type": "execute_result"
        }
      ],
      "source": [
        "create_analysis_widgets()"
      ]
    },
    {
      "cell_type": "code",
      "execution_count": 80,
      "metadata": {},
      "outputs": [
        {
          "name": "stdout",
          "output_type": "stream",
          "text": [
            "🔍 Analyzing Market Trends...\n",
            "\n",
            "📊 INDUSTRY TRENDS:\n",
            "1. Emerging Hot Sectors: The data shows that the B2B (Business to Business), SaaS (Software as a Service), and AI (Artificial Intelligence) sectors are the top three industries. This suggests that these sectors are growing rapidly and are the current hot sectors. Particularly, AI and its subsets like generative AI and machine learning are seeing a significant rise, indicating the increasing demand and growth in the AI industry.\n",
            "\n",
            "2. Saturated Markets: While the 'consumer' and 'marketplace' sectors are still in the top 10, they are at the lower end of the list. This could suggest that these markets are relatively stable or possibly declining, indicating that they might be more saturated markets.\n",
            "\n",
            "3. Market Opportunities: The 'generative-ai', 'consumer', and 'marketplace' sectors might be underserved areas. Despite being in the top 10, they have significantly fewer startups compared to the top sectors. This could indicate a potential for growth and opportunities in these areas.\n",
            "\n",
            "4. Investment Timing Recommendations: For investors, now might be a good time to invest in the rapidly growing sectors like B2B, SaaS, and AI, as these sectors are currently on the rise. For the underserved areas like 'generative-ai', 'consumer', and 'marketplace', it might be beneficial to wait and observe the market trends before making significant investments.\n",
            "\n",
            "5. Competitive Landscape Changes: The rise in B2B, SaaS, and AI startups indicates a shift in the competitive landscape. These sectors are becoming more competitive, and startups in these areas will need to differentiate themselves to succeed. On the other hand, the 'consumer' and 'marketplace' sectors might be less competitive due to their relative stability or decline.\n",
            "\n",
            "For founders, these trends suggest focusing on B2B, SaaS, and AI sectors for potential growth. However, they should also consider the increased competition in these areas. For underserved markets, there might be an opportunity to establish a strong presence and capture market share before these sectors become more competitive.\n",
            "\n",
            "🎯 MARKET OPPORTUNITIES:\n",
            "1. Underserved Market Segments:\n",
            "   - Small and medium-sized businesses looking for affordable AI solutions for back-office tasks or customer service.\n",
            "   - Industries such as agriculture, defense, and trade which might not have fully adapted AI and automation technologies yet.\n",
            "   \n",
            "2. Emerging Problem Areas:\n",
            "   - The need for AI solutions in trade compliance, indicating a complex regulatory environment that is difficult to navigate manually.\n",
            "   - The need for AI in editing footage, suggesting an increasing demand for video content and the challenges of managing and editing large volumes of footage.\n",
            "   - The need for more efficient AI solutions in the DeFi investing space, indicating potential issues with current interfaces and tools.\n",
            "\n",
            "3. Technology Gaps:\n",
            "   - Lack of accessible AI tools for small businesses, particularly in the area of back-office operations and customer service.\n",
            "   - The need for more sophisticated AI solutions in the field of video editing and advertising.\n",
            "   - The lack of integration platforms for agentic AI in open-source MCP.\n",
            "\n",
            "4. Partnership Opportunities:\n",
            "   - Potential partnerships with AI companies to create solutions for small businesses or specific industries.\n",
            "   - Potential partnerships with defense and agriculture sectors to integrate AI solutions.\n",
            "   - Potential partnerships with DeFi platforms to improve user interfaces and investment tools.\n",
            "\n",
            "5. Market Timing Insights:\n",
            "   - The increasing prevalence of AI in various sectors suggests that now is the right time to invest in AI technologies.\n",
            "   - The rise of DeFi and the need for better interfaces and tools suggests a growing market for fintech startups.\n",
            "   - The demand for AI in video editing and advertising suggests a growing market for AI solutions in the media and marketing sectors.\n",
            "\n",
            "Specific Opportunities for New Startups:\n",
            "   - Develop affordable and user-friendly AI solutions for small businesses.\n",
            "   - Create AI tools specifically for trade compliance, potentially in partnership with trade organizations or regulatory bodies.\n",
            "   - Develop an open-source platform for integrating agentic AI in various sectors.\n",
            "   - Create AI solutions for video editing and advertising, potentially in partnership with media companies or advertising agencies.\n",
            "   - Develop better interfaces and tools for DeFi investing, potentially in partnership with existing DeFi platforms.\n"
          ]
        }
      ],
      "source": [
        "quick_market_analysis()"
      ]
    },
    {
      "cell_type": "markdown",
      "metadata": {},
      "source": [
        "---\n",
        "\n",
        "## 📖 Summary & Next Steps\n",
        "\n",
        "### What This Notebook Provides:\n",
        "\n",
        "**🧠 AI-Powered Analysis:**\n",
        "- Intelligent company profiling and archetype detection\n",
        "- Success prediction with AI-generated reasoning\n",
        "- Competitive landscape analysis\n",
        "- Market trend identification\n",
        "\n",
        "**📊 Advanced Insights:**\n",
        "- Real-time market intelligence\n",
        "- Opportunity detection\n",
        "- Industry trend analysis\n",
        "- Geographic insights\n",
        "\n",
        "**🎯 Interactive Tools:**\n",
        "- Conversational company analysis\n",
        "- Dynamic visualizations\n",
        "- Market intelligence reports\n",
        "- Predictive analytics\n",
        "\n",
        "### Key Advantages Over Traditional Analysis:\n",
        "\n",
        "1. **Semantic Understanding** - AI comprehends company descriptions beyond keywords\n",
        "2. **Predictive Narratives** - Explains WHY companies succeed, not just statistics\n",
        "3. **Dynamic Intelligence** - Real-time insights based on latest data\n",
        "4. **Actionable Recommendations** - Specific guidance for founders and investors\n",
        "5. **Competitive Intelligence** - Automated competitive landscape analysis\n",
        "\n",
        "### Requirements:\n",
        "\n",
        "- **OpenAI API Key** - Set `OPENAI_API_KEY` environment variable\n",
        "- **Python Libraries** - textblob, umap-learn, networkx, wordcloud\n",
        "- **Data** - YC companies dataset (included)\n",
        "\n",
        "### Cost Considerations:\n",
        "\n",
        "- **GPT-4 API** - ~$0.03 per 1K tokens (input), ~$0.06 per 1K tokens (output)\n",
        "- **Typical Analysis** - $0.05-0.15 per company\n",
        "- **Batch Analysis** - Use GPT-3.5-turbo for lower costs\n",
        "\n",
        "### Next Steps:\n",
        "\n",
        "1. **Set up API key** - `export OPENAI_API_KEY='your-key'`\n",
        "2. **Run analysis** - Try `analyze_company_interactive()`\n",
        "3. **Explore insights** - Use `quick_market_analysis()`\n",
        "4. **Generate reports** - Call `market_intel.generate_market_report()`\n",
        "\n",
        "---\n",
        "\n",
        "**🚀 Ready to transform YC data into actionable intelligence!**\n",
        "\n",
        "*For questions or improvements, see README.md*\n"
      ]
    },
    {
      "cell_type": "markdown",
      "metadata": {},
      "source": [
        "## 7. Year-Level Batch Analysis\n"
      ]
    },
    {
      "cell_type": "code",
      "execution_count": 81,
      "metadata": {},
      "outputs": [
        {
          "name": "stdout",
          "output_type": "stream",
          "text": [
            "📊 Year-Level Analysis Engine initialized\n",
            "📅 Available years: 2005 - 2025\n"
          ]
        }
      ],
      "source": [
        "# Year-Level Batch Analysis Engine\n",
        "class YearLevelAnalysis:\n",
        "    \"\"\"Interactive year-level batch analysis with AI insights\"\"\"\n",
        "    \n",
        "    def __init__(self, df, openai_client=None):\n",
        "        self.df = df\n",
        "        self.client = openai_client\n",
        "        self.years = sorted(df['batch_year'].dropna().unique())\n",
        "        \n",
        "    def get_year_statistics(self, year):\n",
        "        \"\"\"Get comprehensive statistics for a specific year\"\"\"\n",
        "        year_df = self.df[self.df['batch_year'] == year]\n",
        "        \n",
        "        stats = {\n",
        "            'year': year,\n",
        "            'total_companies': len(year_df),\n",
        "            'success_rate': year_df['is_successful'].mean(),\n",
        "            'successful_companies': year_df['is_successful'].sum(),\n",
        "            'solo_founder_rate': year_df['is_solo_founder'].mean(),\n",
        "            'team_founder_rate': year_df['is_team_founded'].mean(),\n",
        "            'ai_companies': year_df['is_ai'].sum(),\n",
        "            'b2b_companies': year_df['is_b2b'].sum(),\n",
        "            'fintech_companies': year_df['is_fintech'].sum(),\n",
        "            'sf_bay_companies': year_df['is_sf_bay'].sum(),\n",
        "            'international_companies': (~year_df['is_us']).sum(),\n",
        "            'avg_team_size': year_df['team_size'].mean(),\n",
        "            'avg_company_age': year_df['company_age'].mean(),\n",
        "            'top_industries': year_df.explode('tags')['tags'].value_counts().head(10).to_dict(),\n",
        "            'top_locations': year_df['location'].value_counts().head(10).to_dict(),\n",
        "        }\n",
        "        \n",
        "        return stats\n",
        "    \n",
        "    def compare_years(self, year1, year2):\n",
        "        \"\"\"Compare statistics between two years\"\"\"\n",
        "        stats1 = self.get_year_statistics(year1)\n",
        "        stats2 = self.get_year_statistics(year2)\n",
        "        \n",
        "        comparison = {\n",
        "            'year1': year1,\n",
        "            'year2': year2,\n",
        "            'companies_growth': ((stats2['total_companies'] - stats1['total_companies']) / stats1['total_companies'] * 100) if stats1['total_companies'] > 0 else 0,\n",
        "            'success_rate_change': (stats2['success_rate'] - stats1['success_rate']) * 100,\n",
        "            'ai_growth': ((stats2['ai_companies'] - stats1['ai_companies']) / stats1['ai_companies'] * 100) if stats1['ai_companies'] > 0 else 0,\n",
        "            'b2b_growth': ((stats2['b2b_companies'] - stats1['b2b_companies']) / stats1['b2b_companies'] * 100) if stats1['b2b_companies'] > 0 else 0,\n",
        "            'stats1': stats1,\n",
        "            'stats2': stats2\n",
        "        }\n",
        "        \n",
        "        return comparison\n",
        "    \n",
        "    def generate_year_insights(self, year):\n",
        "        \"\"\"Generate AI-powered insights for a specific year\"\"\"\n",
        "        if not self.client:\n",
        "            return \"AI insights not available (OpenAI API key required)\"\n",
        "        \n",
        "        stats = self.get_year_statistics(year)\n",
        "        year_df = self.df[self.df['batch_year'] == year]\n",
        "        \n",
        "        # Get sample companies\n",
        "        sample_companies = year_df[['company_name', 'short_description', 'tags', 'status']].head(20).to_dict('records')\n",
        "        \n",
        "        prompt = f\"\"\"\n",
        "        Analyze YC batch year {year} and provide insights:\n",
        "        \n",
        "        Statistics:\n",
        "        - Total Companies: {stats['total_companies']}\n",
        "        - Success Rate: {stats['success_rate']:.1%}\n",
        "        - AI Companies: {stats['ai_companies']}\n",
        "        - B2B Companies: {stats['b2b_companies']}\n",
        "        - Top Industries: {list(stats['top_industries'].keys())[:5]}\n",
        "        \n",
        "        Sample Companies: {[c['company_name'] + ': ' + c['short_description'][:100] for c in sample_companies[:5]]}\n",
        "        \n",
        "        Provide:\n",
        "        1. Key trends and themes for this year\n",
        "        2. Notable success patterns\n",
        "        3. Emerging technologies/sectors\n",
        "        4. Market conditions and opportunities\n",
        "        5. Comparison to typical YC batch characteristics\n",
        "        6. Investment recommendations for this cohort\n",
        "        \n",
        "        Format as structured analysis with actionable insights.\n",
        "        \"\"\"\n",
        "        \n",
        "        try:\n",
        "            response = self.client.chat.completions.create(\n",
        "                model=\"gpt-4\",\n",
        "                messages=[{\"role\": \"user\", \"content\": prompt}],\n",
        "                temperature=0.4\n",
        "            )\n",
        "            return response.choices[0].message.content\n",
        "        except Exception as e:\n",
        "            return f\"AI analysis failed: {str(e)}\"\n",
        "    \n",
        "    def create_year_dashboard(self, year):\n",
        "        \"\"\"Create interactive dashboard for a specific year\"\"\"\n",
        "        year_df = self.df[self.df['batch_year'] == year]\n",
        "        stats = self.get_year_statistics(year)\n",
        "        \n",
        "        # Create subplots\n",
        "        fig = make_subplots(\n",
        "            rows=2, cols=2,\n",
        "            subplot_titles=(\n",
        "                f'Industry Distribution ({year})',\n",
        "                f'Success by Founder Team Size ({year})',\n",
        "                f'Geographic Distribution ({year})',\n",
        "                f'Company Status ({year})'\n",
        "            ),\n",
        "            specs=[[{\"type\": \"bar\"}, {\"type\": \"pie\"}],\n",
        "                   [{\"type\": \"bar\"}, {\"type\": \"pie\"}]]\n",
        "        )\n",
        "        \n",
        "        # 1. Industry Distribution\n",
        "        industry_counts = year_df.explode('tags')['tags'].value_counts().head(10)\n",
        "        fig.add_trace(\n",
        "            go.Bar(x=industry_counts.index, y=industry_counts.values,\n",
        "                   name='Companies', marker_color='lightblue'),\n",
        "            row=1, col=1\n",
        "        )\n",
        "        \n",
        "        # 2. Success by Founder Team Size\n",
        "        team_success = year_df.groupby('num_founders')['is_successful'].agg(['count', 'mean']).round(3)\n",
        "        fig.add_trace(\n",
        "            go.Pie(labels=[f'{i} founders' for i in team_success.index],\n",
        "                   values=team_success['count'],\n",
        "                   name='Team Distribution'),\n",
        "            row=1, col=2\n",
        "        )\n",
        "        \n",
        "        # 3. Geographic Distribution\n",
        "        location_counts = year_df['location'].value_counts().head(10)\n",
        "        fig.add_trace(\n",
        "            go.Bar(x=location_counts.index, y=location_counts.values,\n",
        "                   name='Companies', marker_color='lightgreen'),\n",
        "            row=2, col=1\n",
        "        )\n",
        "        \n",
        "        # 4. Company Status\n",
        "        status_counts = year_df['status'].value_counts()\n",
        "        fig.add_trace(\n",
        "            go.Pie(labels=status_counts.index, values=status_counts.values,\n",
        "                   name='Status Distribution'),\n",
        "            row=2, col=2\n",
        "        )\n",
        "        \n",
        "        fig.update_layout(\n",
        "            title_text=f\"YC Batch Year {year} - Comprehensive Analysis\",\n",
        "            showlegend=False,\n",
        "            height=800\n",
        "        )\n",
        "        \n",
        "        return fig\n",
        "    \n",
        "    def create_multi_year_comparison(self, years=None):\n",
        "        \"\"\"Create multi-year comparison dashboard\"\"\"\n",
        "        if years is None:\n",
        "            years = self.years[-10:]  # Last 10 years\n",
        "        \n",
        "        # Prepare data\n",
        "        year_stats = []\n",
        "        for year in years:\n",
        "            stats = self.get_year_statistics(year)\n",
        "            year_stats.append(stats)\n",
        "        \n",
        "        # Create subplots\n",
        "        fig = make_subplots(\n",
        "            rows=2, cols=2,\n",
        "            subplot_titles=(\n",
        "                'Companies per Year',\n",
        "                'Success Rate Trend',\n",
        "                'AI Companies Growth',\n",
        "                'International Expansion'\n",
        "            )\n",
        "        )\n",
        "        \n",
        "        # 1. Companies per Year\n",
        "        fig.add_trace(\n",
        "            go.Bar(x=[s['year'] for s in year_stats],\n",
        "                   y=[s['total_companies'] for s in year_stats],\n",
        "                   name='Total Companies', marker_color='lightblue'),\n",
        "            row=1, col=1\n",
        "        )\n",
        "        \n",
        "        # 2. Success Rate Trend\n",
        "        fig.add_trace(\n",
        "            go.Scatter(x=[s['year'] for s in year_stats],\n",
        "                       y=[s['success_rate']*100 for s in year_stats],\n",
        "                       mode='lines+markers', name='Success Rate %',\n",
        "                       line=dict(color='green', width=3)),\n",
        "            row=1, col=2\n",
        "        )\n",
        "        \n",
        "        # 3. AI Companies Growth\n",
        "        fig.add_trace(\n",
        "            go.Bar(x=[s['year'] for s in year_stats],\n",
        "                   y=[s['ai_companies'] for s in year_stats],\n",
        "                   name='AI Companies', marker_color='purple'),\n",
        "            row=2, col=1\n",
        "        )\n",
        "        \n",
        "        # 4. International Expansion\n",
        "        fig.add_trace(\n",
        "            go.Scatter(x=[s['year'] for s in year_stats],\n",
        "                       y=[s['international_companies'] for s in year_stats],\n",
        "                       mode='lines+markers', name='International Companies',\n",
        "                       line=dict(color='orange', width=3)),\n",
        "            row=2, col=2\n",
        "        )\n",
        "        \n",
        "        fig.update_layout(\n",
        "            title_text=\"YC Multi-Year Trends Analysis\",\n",
        "            showlegend=False,\n",
        "            height=800\n",
        "        )\n",
        "        \n",
        "        return fig\n",
        "\n",
        "# Initialize year-level analysis\n",
        "year_analysis = YearLevelAnalysis(df, client)\n",
        "print(f\"📊 Year-Level Analysis Engine initialized\")\n",
        "print(f\"📅 Available years: {year_analysis.years[0]} - {year_analysis.years[-1]}\")\n"
      ]
    },
    {
      "cell_type": "code",
      "execution_count": 82,
      "metadata": {},
      "outputs": [
        {
          "name": "stdout",
          "output_type": "stream",
          "text": [
            "\n",
            "🎛️ Interactive Year-Level Analysis Ready!\n",
            "============================================================\n",
            "📚 FEATURES:\n",
            "  1. Single Year Analysis - Deep dive into any YC batch year\n",
            "  2. Year Comparison - Compare two years side-by-side\n",
            "  3. Multi-Year Trends - Visualize trends across multiple years\n",
            "  4. AI-Powered Insights - Get AI-generated insights for any year\n",
            "\n",
            "💡 Run: create_year_analysis_widgets()\n",
            "    to launch the interactive year-level analysis dashboard!\n",
            "============================================================\n"
          ]
        }
      ],
      "source": [
        "# Create interactive widgets for year-level analysis\n",
        "def create_year_analysis_widgets():\n",
        "    \"\"\"Create interactive widgets for year-level batch analysis\"\"\"\n",
        "    \n",
        "    # Year selector\n",
        "    year_selector = widgets.Dropdown(\n",
        "        options=year_analysis.years,\n",
        "        value=year_analysis.years[-1],\n",
        "        description='Select Year:',\n",
        "        style={'description_width': 'initial'},\n",
        "        layout=widgets.Layout(width='200px')\n",
        "    )\n",
        "    \n",
        "    # Comparison year selectors\n",
        "    year1_selector = widgets.Dropdown(\n",
        "        options=year_analysis.years,\n",
        "        value=year_analysis.years[-2] if len(year_analysis.years) > 1 else year_analysis.years[-1],\n",
        "        description='Compare Year 1:',\n",
        "        style={'description_width': 'initial'},\n",
        "        layout=widgets.Layout(width='200px')\n",
        "    )\n",
        "    \n",
        "    year2_selector = widgets.Dropdown(\n",
        "        options=year_analysis.years,\n",
        "        value=year_analysis.years[-1],\n",
        "        description='Compare Year 2:',\n",
        "        style={'description_width': 'initial'},\n",
        "        layout=widgets.Layout(width='200px')\n",
        "    )\n",
        "    \n",
        "    # Analysis type selector\n",
        "    analysis_type = widgets.RadioButtons(\n",
        "        options=['Single Year Analysis', 'Year Comparison', 'Multi-Year Trends'],\n",
        "        description='Analysis Type:',\n",
        "        style={'description_width': 'initial'}\n",
        "    )\n",
        "    \n",
        "    # Action buttons\n",
        "    analyze_button = widgets.Button(\n",
        "        description='🔍 Analyze',\n",
        "        button_style='success',\n",
        "        layout=widgets.Layout(width='150px')\n",
        "    )\n",
        "    \n",
        "    ai_insights_button = widgets.Button(\n",
        "        description='🧠 AI Insights',\n",
        "        button_style='info',\n",
        "        layout=widgets.Layout(width='150px')\n",
        "    )\n",
        "    \n",
        "    # Output area\n",
        "    output = widgets.Output()\n",
        "    \n",
        "    def on_analyze_click(b):\n",
        "        with output:\n",
        "            output.clear_output()\n",
        "            \n",
        "            if analysis_type.value == 'Single Year Analysis':\n",
        "                year = year_selector.value\n",
        "                print(f\"📊 Analyzing YC Batch Year {year}\")\n",
        "                print(\"=\"*60)\n",
        "                \n",
        "                stats = year_analysis.get_year_statistics(year)\n",
        "                \n",
        "                print(f\"\\n🎯 KEY STATISTICS:\")\n",
        "                print(f\"  • Total Companies: {stats['total_companies']:,}\")\n",
        "                print(f\"  • Success Rate: {stats['success_rate']:.1%}\")\n",
        "                print(f\"  • Successful Companies: {stats['successful_companies']}\")\n",
        "                print(f\"\\n👥 FOUNDER ANALYSIS:\")\n",
        "                print(f\"  • Solo Founders: {stats['solo_founder_rate']:.1%}\")\n",
        "                print(f\"  • Team Founders: {stats['team_founder_rate']:.1%}\")\n",
        "                print(f\"\\n🏭 INDUSTRY BREAKDOWN:\")\n",
        "                print(f\"  • AI Companies: {stats['ai_companies']}\")\n",
        "                print(f\"  • B2B Companies: {stats['b2b_companies']}\")\n",
        "                print(f\"  • Fintech Companies: {stats['fintech_companies']}\")\n",
        "                print(f\"\\n📍 GEOGRAPHIC DISTRIBUTION:\")\n",
        "                print(f\"  • SF Bay Area: {stats['sf_bay_companies']} ({stats['sf_bay_companies']/stats['total_companies']*100:.1f}%)\")\n",
        "                print(f\"  • International: {stats['international_companies']} ({stats['international_companies']/stats['total_companies']*100:.1f}%)\")\n",
        "                print(f\"\\n📈 COMPANY METRICS:\")\n",
        "                print(f\"  • Average Team Size: {stats['avg_team_size']:.1f}\")\n",
        "                print(f\"  • Average Company Age: {stats['avg_company_age']:.1f} years\")\n",
        "                print(f\"\\n🏷️ TOP INDUSTRIES:\")\n",
        "                for industry, count in list(stats['top_industries'].items())[:5]:\n",
        "                    print(f\"  • {industry}: {count}\")\n",
        "                \n",
        "                # Show dashboard\n",
        "                dashboard = year_analysis.create_year_dashboard(year)\n",
        "                dashboard.show()\n",
        "                \n",
        "            elif analysis_type.value == 'Year Comparison':\n",
        "                y1 = year1_selector.value\n",
        "                y2 = year2_selector.value\n",
        "                print(f\"📊 Comparing YC Batch Years: {y1} vs {y2}\")\n",
        "                print(\"=\"*60)\n",
        "                \n",
        "                comparison = year_analysis.compare_years(y1, y2)\n",
        "                \n",
        "                print(f\"\\n📈 GROWTH METRICS:\")\n",
        "                print(f\"  • Companies Growth: {comparison['companies_growth']:+.1f}%\")\n",
        "                print(f\"  • Success Rate Change: {comparison['success_rate_change']:+.1f} percentage points\")\n",
        "                print(f\"  • AI Companies Growth: {comparison['ai_growth']:+.1f}%\")\n",
        "                print(f\"  • B2B Companies Growth: {comparison['b2b_growth']:+.1f}%\")\n",
        "                \n",
        "                print(f\"\\n📊 YEAR {y1} STATISTICS:\")\n",
        "                stats1 = comparison['stats1']\n",
        "                print(f\"  • Total Companies: {stats1['total_companies']:,}\")\n",
        "                print(f\"  • Success Rate: {stats1['success_rate']:.1%}\")\n",
        "                print(f\"  • AI Companies: {stats1['ai_companies']}\")\n",
        "                \n",
        "                print(f\"\\n📊 YEAR {y2} STATISTICS:\")\n",
        "                stats2 = comparison['stats2']\n",
        "                print(f\"  • Total Companies: {stats2['total_companies']:,}\")\n",
        "                print(f\"  • Success Rate: {stats2['success_rate']:.1%}\")\n",
        "                print(f\"  • AI Companies: {stats2['ai_companies']}\")\n",
        "                \n",
        "            elif analysis_type.value == 'Multi-Year Trends':\n",
        "                print(f\"📊 Multi-Year Trends Analysis\")\n",
        "                print(\"=\"*60)\n",
        "                \n",
        "                # Show multi-year dashboard\n",
        "                dashboard = year_analysis.create_multi_year_comparison()\n",
        "                dashboard.show()\n",
        "                \n",
        "                # Calculate overall trends\n",
        "                recent_years = year_analysis.years[-10:]\n",
        "                recent_stats = [year_analysis.get_year_statistics(y) for y in recent_years]\n",
        "                \n",
        "                print(f\"\\n📈 OVERALL TRENDS ({recent_years[0]}-{recent_years[-1]}):\")\n",
        "                print(f\"  • Total Companies Growth: {((recent_stats[-1]['total_companies'] - recent_stats[0]['total_companies']) / recent_stats[0]['total_companies'] * 100):+.1f}%\")\n",
        "                print(f\"  • Average Success Rate: {np.mean([s['success_rate'] for s in recent_stats]):.1%}\")\n",
        "                print(f\"  • AI Companies Growth: {((recent_stats[-1]['ai_companies'] - recent_stats[0]['ai_companies']) / max(recent_stats[0]['ai_companies'], 1) * 100):+.1f}%\")\n",
        "                print(f\"  • International Expansion: {((recent_stats[-1]['international_companies'] - recent_stats[0]['international_companies']) / max(recent_stats[0]['international_companies'], 1) * 100):+.1f}%\")\n",
        "    \n",
        "    def on_ai_insights_click(b):\n",
        "        with output:\n",
        "            output.clear_output()\n",
        "            \n",
        "            if analysis_type.value == 'Single Year Analysis':\n",
        "                year = year_selector.value\n",
        "                print(f\"🧠 Generating AI Insights for Year {year}...\")\n",
        "                print(\"=\"*60)\n",
        "                \n",
        "                insights = year_analysis.generate_year_insights(year)\n",
        "                print(insights)\n",
        "            else:\n",
        "                print(\"⚠️ AI Insights available only for Single Year Analysis\")\n",
        "                print(\"Please select 'Single Year Analysis' and try again\")\n",
        "    \n",
        "    analyze_button.on_click(on_analyze_click)\n",
        "    ai_insights_button.on_click(on_ai_insights_click)\n",
        "    \n",
        "    # Layout\n",
        "    single_year_controls = widgets.HBox([year_selector])\n",
        "    comparison_controls = widgets.HBox([year1_selector, year2_selector])\n",
        "    buttons = widgets.HBox([analyze_button, ai_insights_button])\n",
        "    \n",
        "    display(widgets.VBox([\n",
        "        analysis_type,\n",
        "        widgets.Label('Single Year Analysis:'),\n",
        "        single_year_controls,\n",
        "        widgets.Label('Year Comparison:'),\n",
        "        comparison_controls,\n",
        "        buttons,\n",
        "        output\n",
        "    ]))\n",
        "    \n",
        "    return year_selector, year1_selector, year2_selector, analysis_type, analyze_button, ai_insights_button, output\n",
        "\n",
        "print(\"\\n🎛️ Interactive Year-Level Analysis Ready!\")\n",
        "print(\"=\"*60)\n",
        "print(\"📚 FEATURES:\")\n",
        "print(\"  1. Single Year Analysis - Deep dive into any YC batch year\")\n",
        "print(\"  2. Year Comparison - Compare two years side-by-side\")\n",
        "print(\"  3. Multi-Year Trends - Visualize trends across multiple years\")\n",
        "print(\"  4. AI-Powered Insights - Get AI-generated insights for any year\")\n",
        "print(\"\\n💡 Run: create_year_analysis_widgets()\")\n",
        "print(\"    to launch the interactive year-level analysis dashboard!\")\n",
        "print(\"=\"*60)\n"
      ]
    },
    {
      "cell_type": "code",
      "execution_count": 83,
      "metadata": {},
      "outputs": [
        {
          "data": {
            "application/vnd.jupyter.widget-view+json": {
              "model_id": "11038bb46f1545e8871d2272bba76ab2",
              "version_major": 2,
              "version_minor": 0
            },
            "text/plain": [
              "VBox(children=(RadioButtons(description='Analysis Type:', options=('Single Year Analysis', 'Year Comparison', …"
            ]
          },
          "metadata": {},
          "output_type": "display_data"
        },
        {
          "data": {
            "text/plain": [
              "(Dropdown(description='Select Year:', index=20, layout=Layout(width='200px'), options=(np.int64(2005), np.int64(2006), np.int64(2007), np.int64(2008), np.int64(2009), np.int64(2010), np.int64(2011), np.int64(2012), np.int64(2013), np.int64(2014), np.int64(2015), np.int64(2016), np.int64(2017), np.int64(2018), np.int64(2019), np.int64(2020), np.int64(2021), np.int64(2022), np.int64(2023), np.int64(2024), np.int64(2025)), style=DescriptionStyle(description_width='initial'), value=np.int64(2025)),\n",
              " Dropdown(description='Compare Year 1:', index=19, layout=Layout(width='200px'), options=(np.int64(2005), np.int64(2006), np.int64(2007), np.int64(2008), np.int64(2009), np.int64(2010), np.int64(2011), np.int64(2012), np.int64(2013), np.int64(2014), np.int64(2015), np.int64(2016), np.int64(2017), np.int64(2018), np.int64(2019), np.int64(2020), np.int64(2021), np.int64(2022), np.int64(2023), np.int64(2024), np.int64(2025)), style=DescriptionStyle(description_width='initial'), value=np.int64(2024)),\n",
              " Dropdown(description='Compare Year 2:', index=20, layout=Layout(width='200px'), options=(np.int64(2005), np.int64(2006), np.int64(2007), np.int64(2008), np.int64(2009), np.int64(2010), np.int64(2011), np.int64(2012), np.int64(2013), np.int64(2014), np.int64(2015), np.int64(2016), np.int64(2017), np.int64(2018), np.int64(2019), np.int64(2020), np.int64(2021), np.int64(2022), np.int64(2023), np.int64(2024), np.int64(2025)), style=DescriptionStyle(description_width='initial'), value=np.int64(2025)),\n",
              " RadioButtons(description='Analysis Type:', options=('Single Year Analysis', 'Year Comparison', 'Multi-Year Trends'), style=DescriptionStyle(description_width='initial'), value='Single Year Analysis'),\n",
              " Button(button_style='success', description='🔍 Analyze', layout=Layout(width='150px'), style=ButtonStyle()),\n",
              " Button(button_style='info', description='🧠 AI Insights', layout=Layout(width='150px'), style=ButtonStyle()),\n",
              " Output())"
            ]
          },
          "execution_count": 83,
          "metadata": {},
          "output_type": "execute_result"
        }
      ],
      "source": [
        "# Launch the interactive year-level analysis dashboard\n",
        "create_year_analysis_widgets()\n"
      ]
    },
    {
      "cell_type": "code",
      "execution_count": 84,
      "metadata": {},
      "outputs": [
        {
          "name": "stdout",
          "output_type": "stream",
          "text": [
            "💡 Try: quick_year_analysis(2023)\n",
            "    for instant insights on any year!\n"
          ]
        }
      ],
      "source": [
        "# Quick year analysis demo\n",
        "def quick_year_analysis(year=None):\n",
        "    \"\"\"Quick analysis of a specific year\"\"\"\n",
        "    if year is None:\n",
        "        year = year_analysis.years[-1]  # Most recent year\n",
        "    \n",
        "    print(f\"📊 Quick Analysis: YC Batch Year {year}\")\n",
        "    print(\"=\"*60)\n",
        "    \n",
        "    stats = year_analysis.get_year_statistics(year)\n",
        "    \n",
        "    print(f\"\\n🎯 SNAPSHOT:\")\n",
        "    print(f\"  • {stats['total_companies']:,} companies\")\n",
        "    print(f\"  • {stats['success_rate']:.1%} success rate\")\n",
        "    print(f\"  • {stats['ai_companies']} AI companies ({stats['ai_companies']/stats['total_companies']*100:.1f}%)\")\n",
        "    print(f\"  • {stats['international_companies']} international ({stats['international_companies']/stats['total_companies']*100:.1f}%)\")\n",
        "    \n",
        "    print(f\"\\n🏷️ TOP 5 INDUSTRIES:\")\n",
        "    for i, (industry, count) in enumerate(list(stats['top_industries'].items())[:5], 1):\n",
        "        print(f\"  {i}. {industry}: {count} companies\")\n",
        "    \n",
        "    print(f\"\\n📍 TOP 5 LOCATIONS:\")\n",
        "    for i, (location, count) in enumerate(list(stats['top_locations'].items())[:5], 1):\n",
        "        print(f\"  {i}. {location}: {count} companies\")\n",
        "    \n",
        "    # Show visualization\n",
        "    dashboard = year_analysis.create_year_dashboard(year)\n",
        "    dashboard.show()\n",
        "\n",
        "print(\"💡 Try: quick_year_analysis(2023)\")\n",
        "print(\"    for instant insights on any year!\")\n"
      ]
    },
    {
      "cell_type": "markdown",
      "metadata": {},
      "source": [
        "## 8. Multi-Year Trends Analysis\n"
      ]
    },
    {
      "cell_type": "code",
      "execution_count": 85,
      "metadata": {},
      "outputs": [
        {
          "name": "stdout",
          "output_type": "stream",
          "text": [
            "📊 Multi-Year Trends Analysis\n",
            "============================================================\n"
          ]
        },
        {
          "data": {
            "application/vnd.plotly.v1+json": {
              "config": {
                "plotlyServerURL": "https://plot.ly"
              },
              "data": [
                {
                  "marker": {
                    "color": "lightblue"
                  },
                  "name": "Total Companies",
                  "type": "bar",
                  "x": [
                    2016,
                    2017,
                    2018,
                    2019,
                    2020,
                    2021,
                    2022,
                    2023,
                    2024,
                    2025
                  ],
                  "xaxis": "x",
                  "y": [
                    224,
                    241,
                    277,
                    371,
                    436,
                    727,
                    634,
                    496,
                    596,
                    534
                  ],
                  "yaxis": "y"
                },
                {
                  "line": {
                    "color": "green",
                    "width": 3
                  },
                  "mode": "lines+markers",
                  "name": "Success Rate %",
                  "type": "scatter",
                  "x": [
                    2016,
                    2017,
                    2018,
                    2019,
                    2020,
                    2021,
                    2022,
                    2023,
                    2024,
                    2025
                  ],
                  "xaxis": "x2",
                  "y": [
                    19.642857142857142,
                    24.896265560165975,
                    17.689530685920577,
                    13.477088948787062,
                    14.449541284403669,
                    8.253094910591471,
                    5.678233438485805,
                    5.040322580645161,
                    0.8389261744966443,
                    0
                  ],
                  "yaxis": "y2"
                },
                {
                  "marker": {
                    "color": "purple"
                  },
                  "name": "AI Companies",
                  "type": "bar",
                  "x": [
                    2016,
                    2017,
                    2018,
                    2019,
                    2020,
                    2021,
                    2022,
                    2023,
                    2024,
                    2025
                  ],
                  "xaxis": "x3",
                  "y": [
                    31,
                    38,
                    51,
                    47,
                    87,
                    130,
                    179,
                    225,
                    263,
                    255
                  ],
                  "yaxis": "y3"
                },
                {
                  "line": {
                    "color": "orange",
                    "width": 3
                  },
                  "mode": "lines+markers",
                  "name": "International Companies",
                  "type": "scatter",
                  "x": [
                    2016,
                    2017,
                    2018,
                    2019,
                    2020,
                    2021,
                    2022,
                    2023,
                    2024,
                    2025
                  ],
                  "xaxis": "x4",
                  "y": [
                    42,
                    72,
                    75,
                    110,
                    146,
                    337,
                    278,
                    177,
                    184,
                    173
                  ],
                  "yaxis": "y4"
                }
              ],
              "layout": {
                "annotations": [
                  {
                    "font": {
                      "size": 16
                    },
                    "showarrow": false,
                    "text": "Companies per Year",
                    "x": 0.225,
                    "xanchor": "center",
                    "xref": "paper",
                    "y": 1,
                    "yanchor": "bottom",
                    "yref": "paper"
                  },
                  {
                    "font": {
                      "size": 16
                    },
                    "showarrow": false,
                    "text": "Success Rate Trend",
                    "x": 0.775,
                    "xanchor": "center",
                    "xref": "paper",
                    "y": 1,
                    "yanchor": "bottom",
                    "yref": "paper"
                  },
                  {
                    "font": {
                      "size": 16
                    },
                    "showarrow": false,
                    "text": "AI Companies Growth",
                    "x": 0.225,
                    "xanchor": "center",
                    "xref": "paper",
                    "y": 0.375,
                    "yanchor": "bottom",
                    "yref": "paper"
                  },
                  {
                    "font": {
                      "size": 16
                    },
                    "showarrow": false,
                    "text": "International Expansion",
                    "x": 0.775,
                    "xanchor": "center",
                    "xref": "paper",
                    "y": 0.375,
                    "yanchor": "bottom",
                    "yref": "paper"
                  }
                ],
                "height": 800,
                "showlegend": false,
                "template": {
                  "data": {
                    "bar": [
                      {
                        "error_x": {
                          "color": "#2a3f5f"
                        },
                        "error_y": {
                          "color": "#2a3f5f"
                        },
                        "marker": {
                          "line": {
                            "color": "#E5ECF6",
                            "width": 0.5
                          },
                          "pattern": {
                            "fillmode": "overlay",
                            "size": 10,
                            "solidity": 0.2
                          }
                        },
                        "type": "bar"
                      }
                    ],
                    "barpolar": [
                      {
                        "marker": {
                          "line": {
                            "color": "#E5ECF6",
                            "width": 0.5
                          },
                          "pattern": {
                            "fillmode": "overlay",
                            "size": 10,
                            "solidity": 0.2
                          }
                        },
                        "type": "barpolar"
                      }
                    ],
                    "carpet": [
                      {
                        "aaxis": {
                          "endlinecolor": "#2a3f5f",
                          "gridcolor": "white",
                          "linecolor": "white",
                          "minorgridcolor": "white",
                          "startlinecolor": "#2a3f5f"
                        },
                        "baxis": {
                          "endlinecolor": "#2a3f5f",
                          "gridcolor": "white",
                          "linecolor": "white",
                          "minorgridcolor": "white",
                          "startlinecolor": "#2a3f5f"
                        },
                        "type": "carpet"
                      }
                    ],
                    "choropleth": [
                      {
                        "colorbar": {
                          "outlinewidth": 0,
                          "ticks": ""
                        },
                        "type": "choropleth"
                      }
                    ],
                    "contour": [
                      {
                        "colorbar": {
                          "outlinewidth": 0,
                          "ticks": ""
                        },
                        "colorscale": [
                          [
                            0,
                            "#0d0887"
                          ],
                          [
                            0.1111111111111111,
                            "#46039f"
                          ],
                          [
                            0.2222222222222222,
                            "#7201a8"
                          ],
                          [
                            0.3333333333333333,
                            "#9c179e"
                          ],
                          [
                            0.4444444444444444,
                            "#bd3786"
                          ],
                          [
                            0.5555555555555556,
                            "#d8576b"
                          ],
                          [
                            0.6666666666666666,
                            "#ed7953"
                          ],
                          [
                            0.7777777777777778,
                            "#fb9f3a"
                          ],
                          [
                            0.8888888888888888,
                            "#fdca26"
                          ],
                          [
                            1,
                            "#f0f921"
                          ]
                        ],
                        "type": "contour"
                      }
                    ],
                    "contourcarpet": [
                      {
                        "colorbar": {
                          "outlinewidth": 0,
                          "ticks": ""
                        },
                        "type": "contourcarpet"
                      }
                    ],
                    "heatmap": [
                      {
                        "colorbar": {
                          "outlinewidth": 0,
                          "ticks": ""
                        },
                        "colorscale": [
                          [
                            0,
                            "#0d0887"
                          ],
                          [
                            0.1111111111111111,
                            "#46039f"
                          ],
                          [
                            0.2222222222222222,
                            "#7201a8"
                          ],
                          [
                            0.3333333333333333,
                            "#9c179e"
                          ],
                          [
                            0.4444444444444444,
                            "#bd3786"
                          ],
                          [
                            0.5555555555555556,
                            "#d8576b"
                          ],
                          [
                            0.6666666666666666,
                            "#ed7953"
                          ],
                          [
                            0.7777777777777778,
                            "#fb9f3a"
                          ],
                          [
                            0.8888888888888888,
                            "#fdca26"
                          ],
                          [
                            1,
                            "#f0f921"
                          ]
                        ],
                        "type": "heatmap"
                      }
                    ],
                    "heatmapgl": [
                      {
                        "colorbar": {
                          "outlinewidth": 0,
                          "ticks": ""
                        },
                        "colorscale": [
                          [
                            0,
                            "#0d0887"
                          ],
                          [
                            0.1111111111111111,
                            "#46039f"
                          ],
                          [
                            0.2222222222222222,
                            "#7201a8"
                          ],
                          [
                            0.3333333333333333,
                            "#9c179e"
                          ],
                          [
                            0.4444444444444444,
                            "#bd3786"
                          ],
                          [
                            0.5555555555555556,
                            "#d8576b"
                          ],
                          [
                            0.6666666666666666,
                            "#ed7953"
                          ],
                          [
                            0.7777777777777778,
                            "#fb9f3a"
                          ],
                          [
                            0.8888888888888888,
                            "#fdca26"
                          ],
                          [
                            1,
                            "#f0f921"
                          ]
                        ],
                        "type": "heatmapgl"
                      }
                    ],
                    "histogram": [
                      {
                        "marker": {
                          "pattern": {
                            "fillmode": "overlay",
                            "size": 10,
                            "solidity": 0.2
                          }
                        },
                        "type": "histogram"
                      }
                    ],
                    "histogram2d": [
                      {
                        "colorbar": {
                          "outlinewidth": 0,
                          "ticks": ""
                        },
                        "colorscale": [
                          [
                            0,
                            "#0d0887"
                          ],
                          [
                            0.1111111111111111,
                            "#46039f"
                          ],
                          [
                            0.2222222222222222,
                            "#7201a8"
                          ],
                          [
                            0.3333333333333333,
                            "#9c179e"
                          ],
                          [
                            0.4444444444444444,
                            "#bd3786"
                          ],
                          [
                            0.5555555555555556,
                            "#d8576b"
                          ],
                          [
                            0.6666666666666666,
                            "#ed7953"
                          ],
                          [
                            0.7777777777777778,
                            "#fb9f3a"
                          ],
                          [
                            0.8888888888888888,
                            "#fdca26"
                          ],
                          [
                            1,
                            "#f0f921"
                          ]
                        ],
                        "type": "histogram2d"
                      }
                    ],
                    "histogram2dcontour": [
                      {
                        "colorbar": {
                          "outlinewidth": 0,
                          "ticks": ""
                        },
                        "colorscale": [
                          [
                            0,
                            "#0d0887"
                          ],
                          [
                            0.1111111111111111,
                            "#46039f"
                          ],
                          [
                            0.2222222222222222,
                            "#7201a8"
                          ],
                          [
                            0.3333333333333333,
                            "#9c179e"
                          ],
                          [
                            0.4444444444444444,
                            "#bd3786"
                          ],
                          [
                            0.5555555555555556,
                            "#d8576b"
                          ],
                          [
                            0.6666666666666666,
                            "#ed7953"
                          ],
                          [
                            0.7777777777777778,
                            "#fb9f3a"
                          ],
                          [
                            0.8888888888888888,
                            "#fdca26"
                          ],
                          [
                            1,
                            "#f0f921"
                          ]
                        ],
                        "type": "histogram2dcontour"
                      }
                    ],
                    "mesh3d": [
                      {
                        "colorbar": {
                          "outlinewidth": 0,
                          "ticks": ""
                        },
                        "type": "mesh3d"
                      }
                    ],
                    "parcoords": [
                      {
                        "line": {
                          "colorbar": {
                            "outlinewidth": 0,
                            "ticks": ""
                          }
                        },
                        "type": "parcoords"
                      }
                    ],
                    "pie": [
                      {
                        "automargin": true,
                        "type": "pie"
                      }
                    ],
                    "scatter": [
                      {
                        "fillpattern": {
                          "fillmode": "overlay",
                          "size": 10,
                          "solidity": 0.2
                        },
                        "type": "scatter"
                      }
                    ],
                    "scatter3d": [
                      {
                        "line": {
                          "colorbar": {
                            "outlinewidth": 0,
                            "ticks": ""
                          }
                        },
                        "marker": {
                          "colorbar": {
                            "outlinewidth": 0,
                            "ticks": ""
                          }
                        },
                        "type": "scatter3d"
                      }
                    ],
                    "scattercarpet": [
                      {
                        "marker": {
                          "colorbar": {
                            "outlinewidth": 0,
                            "ticks": ""
                          }
                        },
                        "type": "scattercarpet"
                      }
                    ],
                    "scattergeo": [
                      {
                        "marker": {
                          "colorbar": {
                            "outlinewidth": 0,
                            "ticks": ""
                          }
                        },
                        "type": "scattergeo"
                      }
                    ],
                    "scattergl": [
                      {
                        "marker": {
                          "colorbar": {
                            "outlinewidth": 0,
                            "ticks": ""
                          }
                        },
                        "type": "scattergl"
                      }
                    ],
                    "scattermapbox": [
                      {
                        "marker": {
                          "colorbar": {
                            "outlinewidth": 0,
                            "ticks": ""
                          }
                        },
                        "type": "scattermapbox"
                      }
                    ],
                    "scatterpolar": [
                      {
                        "marker": {
                          "colorbar": {
                            "outlinewidth": 0,
                            "ticks": ""
                          }
                        },
                        "type": "scatterpolar"
                      }
                    ],
                    "scatterpolargl": [
                      {
                        "marker": {
                          "colorbar": {
                            "outlinewidth": 0,
                            "ticks": ""
                          }
                        },
                        "type": "scatterpolargl"
                      }
                    ],
                    "scatterternary": [
                      {
                        "marker": {
                          "colorbar": {
                            "outlinewidth": 0,
                            "ticks": ""
                          }
                        },
                        "type": "scatterternary"
                      }
                    ],
                    "surface": [
                      {
                        "colorbar": {
                          "outlinewidth": 0,
                          "ticks": ""
                        },
                        "colorscale": [
                          [
                            0,
                            "#0d0887"
                          ],
                          [
                            0.1111111111111111,
                            "#46039f"
                          ],
                          [
                            0.2222222222222222,
                            "#7201a8"
                          ],
                          [
                            0.3333333333333333,
                            "#9c179e"
                          ],
                          [
                            0.4444444444444444,
                            "#bd3786"
                          ],
                          [
                            0.5555555555555556,
                            "#d8576b"
                          ],
                          [
                            0.6666666666666666,
                            "#ed7953"
                          ],
                          [
                            0.7777777777777778,
                            "#fb9f3a"
                          ],
                          [
                            0.8888888888888888,
                            "#fdca26"
                          ],
                          [
                            1,
                            "#f0f921"
                          ]
                        ],
                        "type": "surface"
                      }
                    ],
                    "table": [
                      {
                        "cells": {
                          "fill": {
                            "color": "#EBF0F8"
                          },
                          "line": {
                            "color": "white"
                          }
                        },
                        "header": {
                          "fill": {
                            "color": "#C8D4E3"
                          },
                          "line": {
                            "color": "white"
                          }
                        },
                        "type": "table"
                      }
                    ]
                  },
                  "layout": {
                    "annotationdefaults": {
                      "arrowcolor": "#2a3f5f",
                      "arrowhead": 0,
                      "arrowwidth": 1
                    },
                    "autotypenumbers": "strict",
                    "coloraxis": {
                      "colorbar": {
                        "outlinewidth": 0,
                        "ticks": ""
                      }
                    },
                    "colorscale": {
                      "diverging": [
                        [
                          0,
                          "#8e0152"
                        ],
                        [
                          0.1,
                          "#c51b7d"
                        ],
                        [
                          0.2,
                          "#de77ae"
                        ],
                        [
                          0.3,
                          "#f1b6da"
                        ],
                        [
                          0.4,
                          "#fde0ef"
                        ],
                        [
                          0.5,
                          "#f7f7f7"
                        ],
                        [
                          0.6,
                          "#e6f5d0"
                        ],
                        [
                          0.7,
                          "#b8e186"
                        ],
                        [
                          0.8,
                          "#7fbc41"
                        ],
                        [
                          0.9,
                          "#4d9221"
                        ],
                        [
                          1,
                          "#276419"
                        ]
                      ],
                      "sequential": [
                        [
                          0,
                          "#0d0887"
                        ],
                        [
                          0.1111111111111111,
                          "#46039f"
                        ],
                        [
                          0.2222222222222222,
                          "#7201a8"
                        ],
                        [
                          0.3333333333333333,
                          "#9c179e"
                        ],
                        [
                          0.4444444444444444,
                          "#bd3786"
                        ],
                        [
                          0.5555555555555556,
                          "#d8576b"
                        ],
                        [
                          0.6666666666666666,
                          "#ed7953"
                        ],
                        [
                          0.7777777777777778,
                          "#fb9f3a"
                        ],
                        [
                          0.8888888888888888,
                          "#fdca26"
                        ],
                        [
                          1,
                          "#f0f921"
                        ]
                      ],
                      "sequentialminus": [
                        [
                          0,
                          "#0d0887"
                        ],
                        [
                          0.1111111111111111,
                          "#46039f"
                        ],
                        [
                          0.2222222222222222,
                          "#7201a8"
                        ],
                        [
                          0.3333333333333333,
                          "#9c179e"
                        ],
                        [
                          0.4444444444444444,
                          "#bd3786"
                        ],
                        [
                          0.5555555555555556,
                          "#d8576b"
                        ],
                        [
                          0.6666666666666666,
                          "#ed7953"
                        ],
                        [
                          0.7777777777777778,
                          "#fb9f3a"
                        ],
                        [
                          0.8888888888888888,
                          "#fdca26"
                        ],
                        [
                          1,
                          "#f0f921"
                        ]
                      ]
                    },
                    "colorway": [
                      "#636efa",
                      "#EF553B",
                      "#00cc96",
                      "#ab63fa",
                      "#FFA15A",
                      "#19d3f3",
                      "#FF6692",
                      "#B6E880",
                      "#FF97FF",
                      "#FECB52"
                    ],
                    "font": {
                      "color": "#2a3f5f"
                    },
                    "geo": {
                      "bgcolor": "white",
                      "lakecolor": "white",
                      "landcolor": "#E5ECF6",
                      "showlakes": true,
                      "showland": true,
                      "subunitcolor": "white"
                    },
                    "hoverlabel": {
                      "align": "left"
                    },
                    "hovermode": "closest",
                    "mapbox": {
                      "style": "light"
                    },
                    "paper_bgcolor": "white",
                    "plot_bgcolor": "#E5ECF6",
                    "polar": {
                      "angularaxis": {
                        "gridcolor": "white",
                        "linecolor": "white",
                        "ticks": ""
                      },
                      "bgcolor": "#E5ECF6",
                      "radialaxis": {
                        "gridcolor": "white",
                        "linecolor": "white",
                        "ticks": ""
                      }
                    },
                    "scene": {
                      "xaxis": {
                        "backgroundcolor": "#E5ECF6",
                        "gridcolor": "white",
                        "gridwidth": 2,
                        "linecolor": "white",
                        "showbackground": true,
                        "ticks": "",
                        "zerolinecolor": "white"
                      },
                      "yaxis": {
                        "backgroundcolor": "#E5ECF6",
                        "gridcolor": "white",
                        "gridwidth": 2,
                        "linecolor": "white",
                        "showbackground": true,
                        "ticks": "",
                        "zerolinecolor": "white"
                      },
                      "zaxis": {
                        "backgroundcolor": "#E5ECF6",
                        "gridcolor": "white",
                        "gridwidth": 2,
                        "linecolor": "white",
                        "showbackground": true,
                        "ticks": "",
                        "zerolinecolor": "white"
                      }
                    },
                    "shapedefaults": {
                      "line": {
                        "color": "#2a3f5f"
                      }
                    },
                    "ternary": {
                      "aaxis": {
                        "gridcolor": "white",
                        "linecolor": "white",
                        "ticks": ""
                      },
                      "baxis": {
                        "gridcolor": "white",
                        "linecolor": "white",
                        "ticks": ""
                      },
                      "bgcolor": "#E5ECF6",
                      "caxis": {
                        "gridcolor": "white",
                        "linecolor": "white",
                        "ticks": ""
                      }
                    },
                    "title": {
                      "x": 0.05
                    },
                    "xaxis": {
                      "automargin": true,
                      "gridcolor": "white",
                      "linecolor": "white",
                      "ticks": "",
                      "title": {
                        "standoff": 15
                      },
                      "zerolinecolor": "white",
                      "zerolinewidth": 2
                    },
                    "yaxis": {
                      "automargin": true,
                      "gridcolor": "white",
                      "linecolor": "white",
                      "ticks": "",
                      "title": {
                        "standoff": 15
                      },
                      "zerolinecolor": "white",
                      "zerolinewidth": 2
                    }
                  }
                },
                "title": {
                  "text": "YC Multi-Year Trends Analysis"
                },
                "xaxis": {
                  "anchor": "y",
                  "domain": [
                    0,
                    0.45
                  ]
                },
                "xaxis2": {
                  "anchor": "y2",
                  "domain": [
                    0.55,
                    1
                  ]
                },
                "xaxis3": {
                  "anchor": "y3",
                  "domain": [
                    0,
                    0.45
                  ]
                },
                "xaxis4": {
                  "anchor": "y4",
                  "domain": [
                    0.55,
                    1
                  ]
                },
                "yaxis": {
                  "anchor": "x",
                  "domain": [
                    0.625,
                    1
                  ]
                },
                "yaxis2": {
                  "anchor": "x2",
                  "domain": [
                    0.625,
                    1
                  ]
                },
                "yaxis3": {
                  "anchor": "x3",
                  "domain": [
                    0,
                    0.375
                  ]
                },
                "yaxis4": {
                  "anchor": "x4",
                  "domain": [
                    0,
                    0.375
                  ]
                }
              }
            }
          },
          "metadata": {},
          "output_type": "display_data"
        },
        {
          "name": "stdout",
          "output_type": "stream",
          "text": [
            "\n",
            "📈 KEY TRENDS (Last 5 Years: 2021-2025):\n",
            "\n",
            "2021:\n",
            "  • Companies: 727\n",
            "  • Success Rate: 8.3%\n",
            "  • AI Companies: 130 (17.9%)\n",
            "  • Top Industry: saas\n",
            "\n",
            "2022:\n",
            "  • Companies: 634\n",
            "  • Success Rate: 5.7%\n",
            "  • AI Companies: 179 (28.2%)\n",
            "  • Top Industry: b2b\n",
            "\n",
            "2023:\n",
            "  • Companies: 496\n",
            "  • Success Rate: 5.0%\n",
            "  • AI Companies: 225 (45.4%)\n",
            "  • Top Industry: b2b\n",
            "\n",
            "2024:\n",
            "  • Companies: 596\n",
            "  • Success Rate: 0.8%\n",
            "  • AI Companies: 263 (44.1%)\n",
            "  • Top Industry: artificial-intelligence\n",
            "\n",
            "2025:\n",
            "  • Companies: 534\n",
            "  • Success Rate: 0.0%\n",
            "  • AI Companies: 255 (47.8%)\n",
            "  • Top Industry: ai\n"
          ]
        }
      ],
      "source": [
        "# Multi-year trends analysis and comparison\n",
        "print(\"📊 Multi-Year Trends Analysis\")\n",
        "print(\"=\"*60)\n",
        "\n",
        "# Show multi-year trends\n",
        "multi_year_dashboard = year_analysis.create_multi_year_comparison()\n",
        "multi_year_dashboard.show()\n",
        "\n",
        "# Calculate and display key trends\n",
        "recent_years = year_analysis.years[-5:]\n",
        "print(f\"\\n📈 KEY TRENDS (Last 5 Years: {recent_years[0]}-{recent_years[-1]}):\")\n",
        "\n",
        "for year in recent_years:\n",
        "    stats = year_analysis.get_year_statistics(year)\n",
        "    print(f\"\\n{year}:\")\n",
        "    print(f\"  • Companies: {stats['total_companies']:,}\")\n",
        "    print(f\"  • Success Rate: {stats['success_rate']:.1%}\")\n",
        "    print(f\"  • AI Companies: {stats['ai_companies']} ({stats['ai_companies']/stats['total_companies']*100:.1f}%)\")\n",
        "    print(f\"  • Top Industry: {list(stats['top_industries'].keys())[0] if stats['top_industries'] else 'N/A'}\")\n"
      ]
    },
    {
      "cell_type": "markdown",
      "metadata": {},
      "source": [
        "## 9. Quick Start Guide\n"
      ]
    },
    {
      "cell_type": "code",
      "execution_count": 86,
      "metadata": {},
      "outputs": [
        {
          "name": "stdout",
          "output_type": "stream",
          "text": [
            "🚀 YC GenAI Analysis - Quick Start Guide\n",
            "============================================================\n",
            "\n",
            "📚 AVAILABLE FUNCTIONS:\n",
            "\n",
            "1. analyze_company_interactive(company_name='Airbnb')\n",
            "   → Analyze any company with AI insights\n",
            "\n",
            "2. quick_market_analysis()\n",
            "   → Get instant market trends and opportunities\n",
            "\n",
            "3. create_analysis_widgets()\n",
            "   → Launch interactive analysis interface\n",
            "\n",
            "4. create_year_analysis_widgets()\n",
            "   → Launch year-level batch analysis\n",
            "\n",
            "5. quick_year_analysis(2023)\n",
            "   → Quick analysis of a specific year\n",
            "\n",
            "6. market_intel.generate_market_report()\n",
            "   → Generate comprehensive market intelligence report\n",
            "\n",
            "7. intelligence.predict_success_probability(company_data)\n",
            "   → Predict success with AI reasoning\n",
            "\n",
            "============================================================\n",
            "\n",
            "💡 TRY IT NOW:\n",
            "Run: analyze_company_interactive()\n",
            "     to analyze a random company with AI insights!\n",
            "\n",
            "🔑 NOTE: Requires OPENAI_API_KEY environment variable\n",
            "============================================================\n"
          ]
        }
      ],
      "source": [
        "# Quick Start Demo\n",
        "print(\"🚀 YC GenAI Analysis - Quick Start Guide\")\n",
        "print(\"=\"*60)\n",
        "print()\n",
        "print(\"📚 AVAILABLE FUNCTIONS:\")\n",
        "print()\n",
        "print(\"1. analyze_company_interactive(company_name='Airbnb')\")\n",
        "print(\"   → Analyze any company with AI insights\")\n",
        "print()\n",
        "print(\"2. quick_market_analysis()\")\n",
        "print(\"   → Get instant market trends and opportunities\")\n",
        "print()\n",
        "print(\"3. create_analysis_widgets()\")\n",
        "print(\"   → Launch interactive analysis interface\")\n",
        "print()\n",
        "print(\"4. create_year_analysis_widgets()\")\n",
        "print(\"   → Launch year-level batch analysis\")\n",
        "print()\n",
        "print(\"5. quick_year_analysis(2023)\")\n",
        "print(\"   → Quick analysis of a specific year\")\n",
        "print()\n",
        "print(\"6. market_intel.generate_market_report()\")\n",
        "print(\"   → Generate comprehensive market intelligence report\")\n",
        "print()\n",
        "print(\"7. intelligence.predict_success_probability(company_data)\")\n",
        "print(\"   → Predict success with AI reasoning\")\n",
        "print()\n",
        "print(\"=\"*60)\n",
        "print()\n",
        "print(\"💡 TRY IT NOW:\")\n",
        "print(\"Run: analyze_company_interactive()\")\n",
        "print(\"     to analyze a random company with AI insights!\")\n",
        "print()\n",
        "print(\"🔑 NOTE: Requires OPENAI_API_KEY environment variable\")\n",
        "print(\"=\"*60)\n"
      ]
    },
    {
      "cell_type": "markdown",
      "metadata": {},
      "source": [
        "## 10. Interactive Demos\n"
      ]
    },
    {
      "cell_type": "code",
      "execution_count": 87,
      "metadata": {},
      "outputs": [
        {
          "name": "stdout",
          "output_type": "stream",
          "text": [
            "🎛️ Launching Interactive Demos...\n",
            "============================================================\n",
            "📊 Demo 1: Company Analysis Interface\n"
          ]
        },
        {
          "data": {
            "application/vnd.jupyter.widget-view+json": {
              "model_id": "f91fa606ccad4b6085dc013ad77dc095",
              "version_major": 2,
              "version_minor": 0
            },
            "text/plain": [
              "HBox(children=(Dropdown(description='Company:', layout=Layout(width='400px'), options=('Bear (Fall 2025)', 'Cl…"
            ]
          },
          "metadata": {},
          "output_type": "display_data"
        },
        {
          "data": {
            "application/vnd.jupyter.widget-view+json": {
              "model_id": "bf982a921b784f04b3fe6d075900246c",
              "version_major": 2,
              "version_minor": 0
            },
            "text/plain": [
              "Output()"
            ]
          },
          "metadata": {},
          "output_type": "display_data"
        },
        {
          "name": "stdout",
          "output_type": "stream",
          "text": [
            "\n",
            "============================================================\n",
            "📊 Demo 2: Year-Level Batch Analysis Interface\n"
          ]
        },
        {
          "data": {
            "application/vnd.jupyter.widget-view+json": {
              "model_id": "22e6f8ca2a464a859bf839f4c020a9a5",
              "version_major": 2,
              "version_minor": 0
            },
            "text/plain": [
              "VBox(children=(RadioButtons(description='Analysis Type:', options=('Single Year Analysis', 'Year Comparison', …"
            ]
          },
          "metadata": {},
          "output_type": "display_data"
        },
        {
          "name": "stdout",
          "output_type": "stream",
          "text": [
            "\n",
            "============================================================\n",
            "📊 Demo 3: Market Intelligence Analysis\n",
            "🔍 Analyzing Market Trends...\n",
            "\n",
            "📊 INDUSTRY TRENDS:\n",
            "1. Emerging Hot Sectors: The data shows that B2B, SaaS, and AI-related startups are the most popular in the YC portfolio. These sectors are growing rapidly, indicating a strong interest in these areas. AI, both in its general form and more specific applications like generative AI and machine learning, is particularly noteworthy. The rise in AI-related startups suggests a growing trend towards automation and data-driven decision making.\n",
            "\n",
            "2. Saturated Markets: While the B2B and SaaS sectors are popular, they may also be nearing saturation, given the high number of startups in these areas. The same could be said for the AI sector. However, the continued growth in these sectors suggests that there is still room for innovation and disruption.\n",
            "\n",
            "3. Market Opportunities: On the other end of the spectrum, consumer-focused startups and marketplace platforms appear to be underserved areas. These sectors have fewer startups, suggesting there may be opportunities for new entrants. However, it's important to consider the challenges in these sectors, such as high customer acquisition costs and strong competition from established players.\n",
            "\n",
            "4. Investment Timing Recommendations: Given the rapid growth in the AI sector, now might be a good time to invest in AI startups, particularly those focusing on niche applications like generative AI. However, investors should also consider looking at underserved markets like consumer and marketplace for potential opportunities. These sectors may offer higher returns due to less competition.\n",
            "\n",
            "5. Competitive Landscape Changes: The high number of startups in the B2B, SaaS, and AI sectors suggests a highly competitive landscape. Startups in these sectors will need to differentiate themselves through unique value propositions, superior technology, or strong business models. Meanwhile, startups in the consumer and marketplace sectors may face less competition, but they will need to overcome challenges like high customer acquisition costs and competition from established players. \n",
            "\n",
            "In conclusion, while the B2B, SaaS, and AI sectors are crowded, they continue to offer opportunities for innovative startups. Meanwhile, the consumer and marketplace sectors may be underserved, offering potential opportunities for new entrants. Investors should consider these trends when making investment decisions.\n",
            "\n",
            "🎯 MARKET OPPORTUNITIES:\n",
            "1. Underserved market segments:\n",
            "   - Small and medium-sized businesses may struggle to afford or understand AI technologies. A startup could focus on offering affordable, user-friendly AI solutions for this market segment.\n",
            "   - There seems to be a gap in the market for AI in healthcare, particularly in areas like patient data management, diagnosis, and treatment. A startup could explore this opportunity.\n",
            "\n",
            "2. Emerging problem areas:\n",
            "   - As AI becomes more prevalent, there's an increasing need for transparency and explainability in AI decisions. Startups could develop solutions that make AI processes more understandable and accountable.\n",
            "   - Compliance with trade regulations is a challenge for businesses. Startups could develop AI-based solutions that help businesses ensure they're compliant with all relevant regulations.\n",
            "\n",
            "3. Technology gaps:\n",
            "   - While some companies are developing AI for back-office tasks and sales, there's a gap in the market for AI that can handle more complex, strategic tasks. A startup could look at developing AI that can handle these tasks.\n",
            "   - The description 'Stratospheric birds for defense' suggests a gap in the market for advanced defense technologies. Startups could explore opportunities in this space.\n",
            "\n",
            "4. Partnership opportunities:\n",
            "   - Companies developing AI for specific tasks (like video editing or sales) could partner with companies that offer a broader range of AI services, to provide a more comprehensive solution.\n",
            "   - Startups in the DeFi space could partner with traditional financial institutions to offer more secure, reliable services.\n",
            "\n",
            "5. Market timing insights:\n",
            "   - The rise of AI and DeFi suggests that now is a good time to start a company in these areas. However, these markets are also becoming increasingly crowded, so differentiation will be key.\n",
            "   - The need for trade compliance solutions is likely to increase as trade becomes more global and regulations become more complex. This suggests that now could be a good time to start a company in this space.\n",
            "\n",
            "Actionable opportunities:\n",
            "   - Develop an AI solution aimed at small and medium-sized businesses, with a focus on affordability and user-friendliness.\n",
            "   - Explore opportunities in AI for healthcare, particularly in patient data management, diagnosis, and treatment.\n",
            "   - Develop AI technologies that offer transparency and explainability in decision-making.\n",
            "   - Create an AI-based solution for trade compliance.\n",
            "   - Develop AI that can handle complex, strategic tasks.\n",
            "   - Explore opportunities in advanced defense technologies.\n",
            "   - Consider partnerships with companies that offer complementary AI services or with traditional financial institutions if operating in the DeFi space.\n"
          ]
        }
      ],
      "source": [
        "# Launch interactive demos\n",
        "print(\"🎛️ Launching Interactive Demos...\")\n",
        "print(\"=\"*60)\n",
        "\n",
        "# Demo 1: Company Analysis Interface\n",
        "print(\"📊 Demo 1: Company Analysis Interface\")\n",
        "create_analysis_widgets()\n",
        "\n",
        "print(\"\\n\" + \"=\"*60)\n",
        "\n",
        "# Demo 2: Year-Level Analysis Interface  \n",
        "print(\"📊 Demo 2: Year-Level Batch Analysis Interface\")\n",
        "create_year_analysis_widgets()\n",
        "\n",
        "print(\"\\n\" + \"=\"*60)\n",
        "\n",
        "# Demo 3: Market Intelligence\n",
        "print(\"📊 Demo 3: Market Intelligence Analysis\")\n",
        "quick_market_analysis()\n"
      ]
    },
    {
      "cell_type": "markdown",
      "metadata": {},
      "source": [
        "## 11. Summary & Next Steps\n"
      ]
    },
    {
      "cell_type": "markdown",
      "metadata": {},
      "source": [
        "### What This Notebook Provides:\n",
        "\n",
        "**🧠 AI-Powered Analysis:**\n",
        "- Intelligent company profiling and archetype detection\n",
        "- Success prediction with AI-generated reasoning\n",
        "- Competitive landscape analysis\n",
        "- Market trend identification\n",
        "\n",
        "**📊 Advanced Insights:**\n",
        "- Real-time market intelligence\n",
        "- Opportunity detection\n",
        "- Industry trend analysis\n",
        "- Geographic insights\n",
        "\n",
        "**🎯 Interactive Tools:**\n",
        "- Conversational company analysis\n",
        "- Dynamic visualizations\n",
        "- Market intelligence reports\n",
        "- Predictive analytics\n",
        "- Year-level batch analysis\n",
        "- Multi-year trend visualization\n",
        "\n",
        "### Key Advantages Over Traditional Analysis:\n",
        "\n",
        "1. **Semantic Understanding** - AI comprehends company descriptions beyond keywords\n",
        "2. **Predictive Narratives** - Explains WHY companies succeed, not just statistics\n",
        "3. **Dynamic Intelligence** - Real-time insights based on latest data\n",
        "4. **Actionable Recommendations** - Specific guidance for founders and investors\n",
        "5. **Competitive Intelligence** - Automated competitive landscape analysis\n",
        "6. **Year-Level Insights** - Deep dive into specific batch years\n",
        "7. **Trend Analysis** - Multi-year pattern recognition\n",
        "\n",
        "### Next Steps:\n",
        "\n",
        "1. **Set up API key** - `export OPENAI_API_KEY='your-key'`\n",
        "2. **Run analysis** - Try `analyze_company_interactive()`\n",
        "3. **Explore insights** - Use `quick_market_analysis()`\n",
        "4. **Year analysis** - Use `create_year_analysis_widgets()`\n",
        "5. **Generate reports** - Call `market_intel.generate_market_report()`\n",
        "\n",
        "---\n",
        "\n",
        "**🚀 Ready to transform YC data into actionable intelligence!**\n",
        "\n",
        "*For questions or improvements, see README.md*\n"
      ]
    },
    {
      "cell_type": "markdown",
      "metadata": {},
      "source": [
        "## 12. Requirements & Setup\n"
      ]
    },
    {
      "cell_type": "markdown",
      "metadata": {},
      "source": [
        "### Requirements:\n",
        "\n",
        "- **OpenAI API Key** - Set `OPENAI_API_KEY` environment variable\n",
        "- **Python Libraries** - textblob, umap-learn, networkx, wordcloud\n",
        "- **Data** - YC companies dataset (included)\n",
        "\n",
        "### Cost Considerations:\n",
        "\n",
        "- **GPT-4 API** - ~$0.03 per 1K tokens (input), ~$0.06 per 1K tokens (output)\n",
        "- **Typical Analysis** - $0.05-0.15 per company\n",
        "- **Batch Analysis** - Use GPT-3.5-turbo for lower costs\n",
        "\n",
        "### Setup Instructions:\n",
        "\n",
        "1. **Install Dependencies:**\n",
        "   ```bash\n",
        "   pip install -r requirements.txt\n",
        "   ```\n",
        "\n",
        "2. **Set OpenAI API Key:**\n",
        "   ```bash\n",
        "   export OPENAI_API_KEY='your-key-here'\n",
        "   ```\n",
        "\n",
        "3. **Run the Notebook:**\n",
        "   - Execute all cells in order\n",
        "   - Use interactive widgets for analysis\n",
        "   - Generate AI-powered insights\n",
        "\n",
        "### Troubleshooting:\n",
        "\n",
        "- **API Key Issues:** Ensure `OPENAI_API_KEY` is set correctly\n",
        "- **Import Errors:** Install missing packages with pip\n",
        "- **Data Issues:** Check that data files are in the correct location\n",
        "- **Widget Issues:** Ensure ipywidgets is installed and enabled\n",
        "\n",
        "---\n",
        "\n",
        "**🎯 Your YC analysis toolkit is ready to use!**\n"
      ]
    }
  ],
  "metadata": {
    "kernelspec": {
      "display_name": "Python 3",
      "language": "python",
      "name": "python3"
    },
    "language_info": {
      "codemirror_mode": {
        "name": "ipython",
        "version": 3
      },
      "file_extension": ".py",
      "mimetype": "text/x-python",
      "name": "python",
      "nbconvert_exporter": "python",
      "pygments_lexer": "ipython3",
      "version": "3.13.7"
    }
  },
  "nbformat": 4,
  "nbformat_minor": 2
}
