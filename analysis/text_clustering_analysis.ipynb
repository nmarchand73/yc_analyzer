{
 "cells": [
  {
   "cell_type": "markdown",
   "metadata": {},
   "source": [
    "# YC Companies Text Clustering Analysis\n",
    "\n",
    "Cluster YC companies based on their text descriptions using OpenAI embeddings.\n",
    "\n",
    "**Approach:**\n",
    "1. Generate embeddings for company descriptions using OpenAI API\n",
    "2. Apply clustering algorithms (K-means, DBSCAN)\n",
    "3. Visualize clusters using dimensionality reduction (t-SNE, UMAP)\n",
    "4. Analyze cluster characteristics and patterns\n",
    "\n",
    "---"
   ]
  },
  {
   "cell_type": "code",
   "execution_count": 1,
   "metadata": {},
   "outputs": [
    {
     "name": "stdout",
     "output_type": "stream",
     "text": [
      "✓ Libraries loaded\n"
     ]
    }
   ],
   "source": [
    "# Setup\n",
    "import pandas as pd\n",
    "import numpy as np\n",
    "import matplotlib.pyplot as plt\n",
    "import seaborn as sns\n",
    "from openai import OpenAI\n",
    "import os\n",
    "from sklearn.cluster import KMeans, DBSCAN\n",
    "from sklearn.manifold import TSNE\n",
    "from sklearn.preprocessing import StandardScaler\n",
    "import plotly.express as px\n",
    "import plotly.graph_objects as go\n",
    "from collections import Counter\n",
    "import warnings\n",
    "warnings.filterwarnings('ignore')\n",
    "\n",
    "# Plot settings\n",
    "sns.set_style('whitegrid')\n",
    "plt.rcParams['figure.figsize'] = (12, 8)\n",
    "\n",
    "print(\"✓ Libraries loaded\")"
   ]
  },
  {
   "cell_type": "markdown",
   "metadata": {},
   "source": [
    "## 1. Load Data & Setup OpenAI"
   ]
  },
  {
   "cell_type": "code",
   "execution_count": 2,
   "metadata": {},
   "outputs": [
    {
     "name": "stdout",
     "output_type": "stream",
     "text": [
      "✓ Loaded 5,463 companies\n",
      "\n",
      "Columns: ['company_id', 'company_name', 'short_description', 'long_description', 'batch', 'status', 'tags', 'location', 'country', 'year_founded', 'num_founders', 'founders_names', 'team_size', 'website', 'cb_url', 'linkedin_url']\n",
      "\n",
      "✓ Filtered to 5,300 companies with descriptions\n",
      "\n",
      "Example text:\n",
      "Bear: Show up on AI Search Engines. Bear AI helps companies show up AI search engines like ChatGPT, Perplexity, and Google AI Overviews. \n",
      "\n",
      "We provide analytics to track your brand's visibility, comp...\n"
     ]
    }
   ],
   "source": [
    "# Load YC companies data\n",
    "data_path = '../data/2025-10-05-yc.companies.jl'\n",
    "df = pd.read_json(data_path, lines=True)\n",
    "\n",
    "print(f\"✓ Loaded {len(df):,} companies\")\n",
    "print(f\"\\nColumns: {df.columns.tolist()}\")\n",
    "\n",
    "# Create combined text for embedding\n",
    "df['combined_text'] = df.apply(\n",
    "    lambda x: f\"{x['company_name']}: {x['short_description']}. {x.get('long_description', '')} Tags: {', '.join(x['tags']) if isinstance(x['tags'], list) else ''}\",\n",
    "    axis=1\n",
    ")\n",
    "\n",
    "# Filter to companies with meaningful descriptions\n",
    "df = df[df['short_description'].notna() & (df['short_description'].str.len() > 10)].copy()\n",
    "\n",
    "print(f\"\\n✓ Filtered to {len(df):,} companies with descriptions\")\n",
    "print(f\"\\nExample text:\\n{df['combined_text'].iloc[0][:200]}...\")"
   ]
  },
  {
   "cell_type": "code",
   "execution_count": 3,
   "metadata": {},
   "outputs": [
    {
     "name": "stdout",
     "output_type": "stream",
     "text": [
      "API key loaded: sk-proj-Xx...\n",
      "✓ OpenAI client initialized\n"
     ]
    }
   ],
   "source": [
    "from dotenv import load_dotenv\n",
    "import os\n",
    "\n",
    "# Load .env file\n",
    "load_dotenv()\n",
    "\n",
    "# Verify it's loaded\n",
    "api_key = os.environ.get('OPENAI_API_KEY')\n",
    "print(f\"API key loaded: {api_key[:10]}...\" if api_key else \"Not found\")\n",
    "\n",
    "api_key = os.environ.get('OPENAI_API_KEY')\n",
    "if not api_key:\n",
    "    print(\"⚠️  OPENAI_API_KEY not found in environment variables\")\n",
    "    print(\"\\nSet it with: export OPENAI_API_KEY='your-key'\")\n",
    "    print(\"Or in notebook: import os; os.environ['OPENAI_API_KEY'] = 'your-key'\")\n",
    "    raise ValueError(\"Missing OpenAI API key\")\n",
    "\n",
    "client = OpenAI(api_key=api_key)\n",
    "print(\"✓ OpenAI client initialized\")"
   ]
  },
  {
   "cell_type": "markdown",
   "metadata": {},
   "source": [
    "## 2. Generate Embeddings\n",
    "\n",
    "Using OpenAI's `text-embedding-3-small` model (lower cost, good performance)"
   ]
  },
  {
   "cell_type": "code",
   "execution_count": 4,
   "metadata": {},
   "outputs": [
    {
     "name": "stdout",
     "output_type": "stream",
     "text": [
      "✓ Embedding function defined\n"
     ]
    }
   ],
   "source": [
    "# Function to get embeddings in batches\n",
    "def get_embeddings_batch(texts, model=\"text-embedding-3-small\", batch_size=100):\n",
    "    \"\"\"\n",
    "    Get embeddings for texts in batches to handle rate limits.\n",
    "    \n",
    "    Note: OpenAI allows up to 3,000 RPM for text-embedding-3-small on free tier.\n",
    "    Adjust batch_size and add delays if you hit rate limits.\n",
    "    \"\"\"\n",
    "    embeddings = []\n",
    "    \n",
    "    for i in range(0, len(texts), batch_size):\n",
    "        batch = texts[i:i+batch_size]\n",
    "        print(f\"Processing batch {i//batch_size + 1}/{(len(texts)-1)//batch_size + 1} ({len(batch)} texts)...\")\n",
    "        \n",
    "        try:\n",
    "            response = client.embeddings.create(\n",
    "                input=batch,\n",
    "                model=model\n",
    "            )\n",
    "            batch_embeddings = [item.embedding for item in response.data]\n",
    "            embeddings.extend(batch_embeddings)\n",
    "            \n",
    "        except Exception as e:\n",
    "            print(f\"Error in batch {i//batch_size + 1}: {e}\")\n",
    "            # Return what we have so far\n",
    "            break\n",
    "    \n",
    "    return embeddings\n",
    "\n",
    "print(\"✓ Embedding function defined\")"
   ]
  },
  {
   "cell_type": "code",
   "execution_count": 6,
   "metadata": {},
   "outputs": [
    {
     "name": "stdout",
     "output_type": "stream",
     "text": [
      "⚠️  Using sample of 500 companies for demo\n",
      "\n",
      "Generating embeddings for 500 companies...\n",
      "⏱️  This may take a few minutes depending on sample size and API rate limits\n",
      "\n",
      "Processing batch 1/10 (50 texts)...\n",
      "Processing batch 2/10 (50 texts)...\n",
      "Processing batch 3/10 (50 texts)...\n",
      "Processing batch 4/10 (50 texts)...\n",
      "Processing batch 5/10 (50 texts)...\n",
      "Processing batch 6/10 (50 texts)...\n",
      "Processing batch 7/10 (50 texts)...\n",
      "Processing batch 8/10 (50 texts)...\n",
      "Processing batch 9/10 (50 texts)...\n",
      "Processing batch 10/10 (50 texts)...\n",
      "\n",
      "✓ Generated 500 embeddings\n",
      "  Embedding dimension: 1536\n",
      "  Estimated cost: $0.0100 (at $0.02/1M tokens)\n"
     ]
    }
   ],
   "source": [
    "# For demo purposes, let's use a sample\n",
    "# Remove this line to process all companies (will take longer and cost more)\n",
    "SAMPLE_SIZE = 500  # Set to None to process all companies\n",
    "\n",
    "if SAMPLE_SIZE:\n",
    "    df_sample = df.sample(n=min(SAMPLE_SIZE, len(df)), random_state=42).copy()\n",
    "    print(f\"⚠️  Using sample of {len(df_sample):,} companies for demo\")\n",
    "else:\n",
    "    df_sample = df.copy()\n",
    "    print(f\"Processing all {len(df_sample):,} companies\")\n",
    "\n",
    "# Truncate text to avoid token limits (8191 tokens max for text-embedding-3-small)\n",
    "# Roughly 1 token = 4 characters, so limit to ~6000 chars to be safe\n",
    "texts = df_sample['combined_text'].apply(lambda x: x[:6000] if len(x) > 6000 else x).tolist()\n",
    "\n",
    "print(f\"\\nGenerating embeddings for {len(texts):,} companies...\")\n",
    "print(\"⏱️  This may take a few minutes depending on sample size and API rate limits\\n\")\n",
    "\n",
    "# Generate embeddings\n",
    "embeddings = get_embeddings_batch(texts, batch_size=50)\n",
    "\n",
    "if len(embeddings) != len(texts):\n",
    "    print(f\"\\n⚠️  Warning: Got {len(embeddings)} embeddings for {len(texts)} texts\")\n",
    "    # Trim dataframe to match\n",
    "    df_sample = df_sample.iloc[:len(embeddings)].copy()\n",
    "\n",
    "# Add embeddings to dataframe\n",
    "df_sample['embedding'] = embeddings\n",
    "\n",
    "print(f\"\\n✓ Generated {len(embeddings):,} embeddings\")\n",
    "print(f\"  Embedding dimension: {len(embeddings[0]) if embeddings else 0}\")\n",
    "print(f\"  Estimated cost: ${len(embeddings) * 0.00002:.4f} (at $0.02/1M tokens)\")"
   ]
  },
  {
   "cell_type": "markdown",
   "metadata": {},
   "source": [
    "## 3. Clustering Analysis"
   ]
  },
  {
   "cell_type": "code",
   "execution_count": 7,
   "metadata": {},
   "outputs": [
    {
     "name": "stdout",
     "output_type": "stream",
     "text": [
      "Embedding matrix shape: (500, 1536)\n",
      "✓ Embeddings normalized\n"
     ]
    }
   ],
   "source": [
    "# Convert embeddings to numpy array\n",
    "X = np.array(df_sample['embedding'].tolist())\n",
    "print(f\"Embedding matrix shape: {X.shape}\")\n",
    "\n",
    "# Normalize embeddings (helps with clustering)\n",
    "scaler = StandardScaler()\n",
    "X_scaled = scaler.fit_transform(X)\n",
    "print(\"✓ Embeddings normalized\")"
   ]
  },
  {
   "cell_type": "markdown",
   "metadata": {},
   "source": [
    "### 3.1 Elbow Method - Find Optimal K"
   ]
  },
  {
   "cell_type": "code",
   "execution_count": 8,
   "metadata": {},
   "outputs": [
    {
     "name": "stdout",
     "output_type": "stream",
     "text": [
      "Finding optimal K...\n",
      "  K=2: inertia=742733.47\n",
      "  K=3: inertia=731540.74\n",
      "  K=4: inertia=720617.95\n",
      "  K=5: inertia=712267.45\n",
      "  K=6: inertia=705956.60\n",
      "  K=7: inertia=699179.83\n",
      "  K=8: inertia=692568.43\n",
      "  K=9: inertia=689973.64\n",
      "  K=10: inertia=685310.92\n",
      "  K=11: inertia=682308.46\n",
      "  K=12: inertia=677321.34\n",
      "  K=13: inertia=673851.51\n",
      "  K=14: inertia=673031.53\n",
      "  K=15: inertia=670141.05\n",
      "  K=16: inertia=667413.42\n",
      "  K=17: inertia=665502.52\n",
      "  K=18: inertia=659966.15\n",
      "  K=19: inertia=658733.76\n",
      "  K=20: inertia=656377.45\n"
     ]
    },
    {
     "data": {
      "image/png": "[encoded data removed]",
      "text/plain": [
       "<Figure size 1000x600 with 1 Axes>"
      ]
     },
     "metadata": {},
     "output_type": "display_data"
    },
    {
     "name": "stdout",
     "output_type": "stream",
     "text": [
      "\n",
      "💡 Look for the 'elbow' point where inertia starts decreasing more slowly\n"
     ]
    }
   ],
   "source": [
    "# Find optimal number of clusters using elbow method\n",
    "inertias = []\n",
    "K_range = range(2, 21)\n",
    "\n",
    "print(\"Finding optimal K...\")\n",
    "for k in K_range:\n",
    "    kmeans = KMeans(n_clusters=k, random_state=42, n_init=10)\n",
    "    kmeans.fit(X_scaled)\n",
    "    inertias.append(kmeans.inertia_)\n",
    "    print(f\"  K={k}: inertia={kmeans.inertia_:.2f}\")\n",
    "\n",
    "# Plot elbow curve\n",
    "plt.figure(figsize=(10, 6))\n",
    "plt.plot(K_range, inertias, 'bo-', linewidth=2, markersize=8)\n",
    "plt.xlabel('Number of Clusters (K)', fontsize=12)\n",
    "plt.ylabel('Inertia (Within-cluster sum of squares)', fontsize=12)\n",
    "plt.title('Elbow Method for Optimal K', fontsize=14)\n",
    "plt.grid(True, alpha=0.3)\n",
    "plt.tight_layout()\n",
    "plt.show()\n",
    "\n",
    "print(\"\\n💡 Look for the 'elbow' point where inertia starts decreasing more slowly\")"
   ]
  },
  {
   "cell_type": "markdown",
   "metadata": {},
   "source": [
    "### 3.2 K-Means Clustering"
   ]
  },
  {
   "cell_type": "code",
   "execution_count": 9,
   "metadata": {},
   "outputs": [
    {
     "name": "stdout",
     "output_type": "stream",
     "text": [
      "Applying K-means with K=17...\n",
      "✓ K-means clustering complete\n",
      "\n",
      "Cluster distribution:\n",
      "cluster_kmeans\n",
      "0     31\n",
      "1     77\n",
      "2     15\n",
      "3     37\n",
      "4     13\n",
      "5     38\n",
      "6     29\n",
      "7     20\n",
      "8      3\n",
      "9     42\n",
      "10    30\n",
      "11    37\n",
      "12    23\n",
      "13    44\n",
      "14    27\n",
      "15    14\n",
      "16    20\n",
      "Name: count, dtype: int64\n"
     ]
    }
   ],
   "source": [
    "# Apply K-means with chosen K (adjust based on elbow plot)\n",
    "optimal_k = 17  # Adjust this based on elbow plot above\n",
    "\n",
    "print(f\"Applying K-means with K={optimal_k}...\")\n",
    "kmeans = KMeans(n_clusters=optimal_k, random_state=42, n_init=20)\n",
    "df_sample['cluster_kmeans'] = kmeans.fit_predict(X_scaled)\n",
    "\n",
    "print(f\"✓ K-means clustering complete\")\n",
    "print(f\"\\nCluster distribution:\")\n",
    "print(df_sample['cluster_kmeans'].value_counts().sort_index())"
   ]
  },
  {
   "cell_type": "markdown",
   "metadata": {},
   "source": [
    "### 3.3 DBSCAN Clustering"
   ]
  },
  {
   "cell_type": "code",
   "execution_count": 10,
   "metadata": {},
   "outputs": [
    {
     "name": "stdout",
     "output_type": "stream",
     "text": [
      "Applying DBSCAN...\n",
      "✓ DBSCAN clustering complete\n",
      "  Clusters found: 0\n",
      "  Noise points: 500\n",
      "\n",
      "Cluster distribution:\n",
      "cluster_dbscan\n",
      "-1    500\n",
      "Name: count, dtype: int64\n"
     ]
    }
   ],
   "source": [
    "# Apply DBSCAN (density-based clustering)\n",
    "print(\"Applying DBSCAN...\")\n",
    "dbscan = DBSCAN(eps=3.0, min_samples=5, metric='euclidean')\n",
    "df_sample['cluster_dbscan'] = dbscan.fit_predict(X_scaled)\n",
    "\n",
    "n_clusters = len(set(df_sample['cluster_dbscan'])) - (1 if -1 in df_sample['cluster_dbscan'].values else 0)\n",
    "n_noise = list(df_sample['cluster_dbscan']).count(-1)\n",
    "\n",
    "print(f\"✓ DBSCAN clustering complete\")\n",
    "print(f\"  Clusters found: {n_clusters}\")\n",
    "print(f\"  Noise points: {n_noise}\")\n",
    "print(f\"\\nCluster distribution:\")\n",
    "print(df_sample['cluster_dbscan'].value_counts().sort_index())"
   ]
  },
  {
   "cell_type": "markdown",
   "metadata": {},
   "source": [
    "## 4. Dimensionality Reduction & Visualization"
   ]
  },
  {
   "cell_type": "markdown",
   "metadata": {},
   "source": [
    "### 4.1 t-SNE Visualization"
   ]
  },
  {
   "cell_type": "code",
   "execution_count": 11,
   "metadata": {},
   "outputs": [
    {
     "name": "stdout",
     "output_type": "stream",
     "text": [
      "Applying t-SNE (this may take a few minutes)...\n",
      "✓ t-SNE complete\n"
     ]
    }
   ],
   "source": [
    "# Apply t-SNE for 2D visualization\n",
    "print(\"Applying t-SNE (this may take a few minutes)...\")\n",
    "tsne = TSNE(n_components=2, random_state=42, perplexity=30, n_iter=1000)\n",
    "X_tsne = tsne.fit_transform(X_scaled)\n",
    "\n",
    "df_sample['tsne_x'] = X_tsne[:, 0]\n",
    "df_sample['tsne_y'] = X_tsne[:, 1]\n",
    "\n",
    "print(\"✓ t-SNE complete\")"
   ]
  },
  {
   "cell_type": "code",
   "execution_count": 12,
   "metadata": {},
   "outputs": [
    {
     "data": {
      "application/vnd.plotly.v1+json": {
       "config": {
        "plotlyServerURL": "https://plot.ly"
       },
       "data": [
        {
         "customdata": [
          [
           "StackMachine",
           "Instant sandboxed server environments",
           "Summer 2013",
           "Inactive"
          ],
          [
           "Pair Team",
           "Connecting underserved communities to high quality care",
           "Summer 2019",
           "Active"
          ],
          [
           "Ficra",
           "Real time, source of truth for every product screen and user flow",
           "Summer 2024",
           "Active"
          ],
          [
           "Opusense AI",
           "AI for Field Inspection Reports",
           "Spring 2025",
           "Active"
          ],
          [
           "Conta Simples",
           "All-in-one financial platform for latam Startups and SMBs.",
           "Summer 2020",
           "Active"
          ],
          [
           "No Lean Season",
           "A bus ticket out of poverty",
           "Winter 2017",
           "Inactive"
          ],
          [
           "Checkr",
           "People infrastructure for the future of work",
           "Summer 2014",
           "Active"
          ],
          [
           "Dimely",
           "AI agents for B2B SaaS Finance Teams",
           "Summer 2024",
           "Active"
          ],
          [
           "Centaur Labs",
           "Labeling medical data at scale",
           "Winter 2019",
           "Active"
          ],
          [
           "PromptArmor",
           "LLM Security and Compliance",
           "Winter 2024",
           "Active"
          ],
          [
           "Finary.com",
           "The new wealth manager for Europe",
           "Winter 2021",
           "Active"
          ],
          [
           "Whiz",
           "Transforming Finances, Maximizing Your Money Potential.",
           "Winter 2022",
           "Inactive"
          ],
          [
           "RADAR",
           "RADAR is building technology to completely transform the in-store…",
           "Winter 2013",
           "Active"
          ],
          [
           "Elevate (formerly Bloom)",
           "US based USD accounts for non-US residents ",
           "Winter 2022",
           "Active"
          ],
          [
           "Amiato",
           "The BI bridge for unstructured data. We automatically bridge the gap…",
           "Winter 2012",
           "Acquired"
          ],
          [
           "QuickNode",
           "Tools & infra to build and scale high-quality blockchain applications.",
           "Winter 2021",
           "Active"
          ],
          [
           "EdgeBit",
           "Autofix your software dependencies",
           "Winter 2023",
           "Acquired"
          ],
          [
           "Upsolve",
           "Helping low-income Americans overcome debt and rebuild credit at…",
           "Winter 2019",
           "Active"
          ],
          [
           "Treinta",
           "Digital ledger App for Latam microbusinesses",
           "Winter 2021",
           "Active"
          ],
          [
           "Profig",
           "The phone system for businesses. Manage everything from your company…",
           "Summer 2012",
           "Inactive"
          ],
          [
           "Operator Labs",
           "Building protocols for the intelligent, decentralized web.",
           "Winter 2020",
           "Active"
          ],
          [
           "FlexDesk",
           "One platform for corporate occupiers to manage their office portfolios",
           "Winter 2023",
           "Active"
          ],
          [
           "ClipDrop",
           "Turn regular mobile photos into professional product visuals",
           "Winter 2021",
           "Acquired"
          ],
          [
           "OpenSight",
           "AI-powered customer support automation for fast-growing companies",
           "Winter 2023",
           "Inactive"
          ],
          [
           "Onward",
           "Intelligent meeting automation for ambitious teams.",
           "Summer 2023",
           "Inactive"
          ],
          [
           "BarSense",
           "Kid's first smartphone with web-based parental controls.",
           "Winter 2012",
           "Inactive"
          ],
          [
           "Alixia",
           "Targeting the Tumor Ecosystem to address cancer drug resistance.",
           "Winter 2022",
           "Active"
          ],
          [
           "Fuse",
           "Unified API for financial data aggregators.",
           "Winter 2019",
           "Inactive"
          ],
          [
           "HealthSherpa",
           "Private sector Healthcare.gov. ",
           "Summer 2012",
           "Active"
          ],
          [
           "Lua Global Inc",
           "Self-Serve AI powered Sales, Support & Booking Agents",
           "Fall 2025",
           "Active"
          ],
          [
           "Alter",
           "Secure access control and authorization platform for agent workflows",
           "Summer 2025",
           "Active"
          ],
          [
           "OutSail Technologies",
           "Revolutionary, Modern Wing Sails",
           "Winter 2023",
           "Inactive"
          ],
          [
           "GiveCampus",
           "The fundraising platform for schools.",
           "Summer 2015",
           "Active"
          ],
          [
           "OpenCurriculum",
           "Helping K-12 teachers and school administrators build awesome…",
           "Winter 2014",
           "Active"
          ],
          [
           "Algofi",
           "Building the new financial system",
           "Summer 2021",
           "Inactive"
          ],
          [
           "AntWalk",
           "An employee up-skilling platform for fast growing companies",
           "Winter 2022",
           "Inactive"
          ],
          [
           "GroMo",
           "App for independent agents to sell financial products in India",
           "Winter 2021",
           "Active"
          ],
          [
           "DGI Apparel",
           "Expedia for ordering blank apparel",
           "Winter 2024",
           "Inactive"
          ],
          [
           "Popcuts",
           "Popcuts is an online music store where fans participate in the…",
           "Summer 2008",
           "Inactive"
          ],
          [
           "Blueberry Pediatrics",
           "24/7 pediatric clinic in every family's living room",
           "Winter 2018",
           "Active"
          ],
          [
           "Topship",
           "Flexport for African Merchants - Building the OS for Global Logistics",
           "Winter 2022",
           "Active"
          ],
          [
           "Fume",
           "We are building the AI Software Developer",
           "Winter 2024",
           "Active"
          ],
          [
           "SmartPath",
           "Financial wellness for the middle class",
           "Summer 2016",
           "Active"
          ],
          [
           "Imagine AI",
           "AI agent that handles all of your B2B content needs",
           "Fall 2025",
           "Active"
          ],
          [
           "HigherMe",
           "Helping restaurant employers find & hire better employees faster",
           "Winter 2015",
           "Acquired"
          ],
          [
           "Cribspot",
           "Tech-Enabled Real Estate Company (YC W15)",
           "Winter 2015",
           "Inactive"
          ],
          [
           "FlowiseAI",
           "Open source GenAI development platform",
           "Summer 2023",
           "Acquired"
          ],
          [
           "Durioo",
           "Streaming Platform for Muslim Children",
           "Winter 2022",
           "Active"
          ],
          [
           "Perl Street",
           "Financing the next-generation of infrastructure projects",
           "Winter 2022",
           "Active"
          ],
          [
           "Newton",
           "AI-powered phone platform for dentists",
           "Winter 2024",
           "Active"
          ],
          [
           "Kernel",
           "Crazy Fast Browsers-as-a-Service",
           "Summer 2025",
           "Active"
          ],
          [
           "Langfuse",
           "Open source LLM engineering platform",
           "Winter 2023",
           "Active"
          ],
          [
           "IvyCheck",
           "Clean and enrich your data 10x faster",
           "Summer 2022",
           "Active"
          ],
          [
           "CoinTracker",
           "The gold standard in cryptocurrency portfolio tracking and taxes",
           "Winter 2018",
           "Active"
          ],
          [
           "Rhythmm",
           "Read interesting conversations",
           "Winter 2018",
           "Inactive"
          ],
          [
           "Backdrop",
           "Vertical SaaS for $650B+ Film, TV, Music & Event Production Industry ",
           "Winter 2023",
           "Active"
          ],
          [
           "Overstand Labs",
           "We help business leaders get back into Founder Mode",
           "Winter 2025",
           "Active"
          ],
          [
           "Bronco AI",
           "AI for ASIC Design Verification",
           "Summer 2023",
           "Active"
          ],
          [
           "Stamp",
           "The AI Native Email Client",
           "Winter 2025",
           "Active"
          ],
          [
           "Worklytics",
           "Analytics to improve how teams work and collaborate",
           "Winter 2018",
           "Active"
          ],
          [
           "Cabal",
           "Private workspace for founders, investors, and advisors to collaborate",
           "Summer 2021",
           "Active"
          ],
          [
           "ComplyDo",
           "More Comply, Less Do. Most flexible compliance engine for enterprises.",
           "Fall 2025",
           "Active"
          ],
          [
           "Flightfox",
           "A platform to plan, book and manage global and group travel.",
           "Summer 2012",
           "Active"
          ],
          [
           "BharatX",
           "Enable Buy-Now-Pay-Later in a White-Labelled Manner",
           "Winter 2022",
           "Acquired"
          ],
          [
           "Bloom Institute of Technology",
           "The online coding school that invests in you.",
           "Summer 2017",
           "Active"
          ],
          [
           "Hideout",
           "A portfolio of delivery-only restaurant brands",
           "Winter 2020",
           "Inactive"
          ],
          [
           "Haystack",
           "Delivery Analytics for Software Teams",
           "Winter 2021",
           "Active"
          ],
          [
           "SRE.ai",
           "AI DevOps Agents",
           "Fall 2024",
           "Active"
          ],
          [
           "Partna",
           "Your Global payments partner for Africa",
           "Winter 2022",
           "Active"
          ],
          [
           "yhangry",
           "Marketplace for private chefs",
           "Winter 2022",
           "Active"
          ],
          [
           "Care Weather",
           "The highest-accuracy global weather data from low-cost flat satellites",
           "Winter 2021",
           "Active"
          ],
          [
           "Credal.ai",
           "Harness Frontier Intelligence by building AI assistants that can…",
           "Winter 2023",
           "Active"
          ],
          [
           "Matidor.com",
           "Project management on a live map",
           "Summer 2021",
           "Active"
          ],
          [
           "Stacksi",
           "Automated Answers to Security Questionnaires",
           "Winter 2021",
           "Acquired"
          ],
          [
           "Dot",
           "Chat with your Data Warehouse",
           "Summer 2021",
           "Active"
          ],
          [
           "GazeHawk",
           "Eyetracking using webcams.",
           "Summer 2010",
           "Acquired"
          ],
          [
           "Fragment",
           "Turn manual operations into scalable processes",
           "Summer 2023",
           "Active"
          ],
          [
           "OneStopKitchen",
           "AI-Driven Tech & Space Optimization to Scale Restaurants",
           "Summer 2021",
           "Active"
          ],
          [
           "TrainLoop",
           "Reasoning Fine-Tuning",
           "Winter 2025",
           "Active"
          ],
          [
           "Kilobaser",
           "Desktop DNA Printer. The Nespresso Machine for DNA.",
           "Winter 2021",
           "Active"
          ],
          [
           "Termius",
           "Termius is an SSH client with team collaboration features",
           "Winter 2019",
           "Active"
          ],
          [
           "Roundabout Technologies",
           "Software for AI-powered traffic lights",
           "Fall 2024",
           "Active"
          ],
          [
           "Nomic Bio",
           "Nomic is doing for proteins what Illumina has done for DNA",
           "Winter 2020",
           "Active"
          ],
          [
           "Lendflow",
           "Embedded lending infrastructure for software companies",
           "Winter 2021",
           "Active"
          ],
          [
           "Cinapse",
           "The Operating System of Hollywood",
           "Winter 2022",
           "Active"
          ],
          [
           "Farmako Healthcare",
           "India's fastest medicine delivery in just 30 minutes",
           "Summer 2020",
           "Active"
          ],
          [
           "Soon",
           "Automated sweep account, invest without the stress of speculating",
           "Winter 2022",
           "Active"
          ],
          [
           "Loula",
           "Enabling birth & postpartum doulas to easily accept Medicaid",
           "Winter 2023",
           "Active"
          ],
          [
           "Clover",
           "The all-in-one notebook for creatives to brainstorm, write, and plan…",
           "Summer 2020",
           "Acquired"
          ],
          [
           "MedXT",
           "Radiology in the cloud.  X-rays, CAT scans, MRI's, and…",
           "Winter 2013",
           "Acquired"
          ],
          [
           "Quill",
           "Fullstack API and management platform for dashboards and reporting",
           "Winter 2020",
           "Active"
          ],
          [
           "Rare Door",
           "Empowering brick-and-mortar retailers to sell more and engage shoppers",
           "Winter 2015",
           "Inactive"
          ],
          [
           "Hyrex",
           "The COLD Task Framework",
           "Summer 2024",
           "Active"
          ],
          [
           "flexEngage",
           "Dynamic transactional communications for physical stores to help…",
           "Winter 2016",
           "Acquired"
          ],
          [
           "CircuitHub",
           "On-Demand Electronics Manufacturing",
           "Winter 2012",
           "Active"
          ],
          [
           "Stripe",
           "Economic infrastructure for the internet.",
           "Summer 2009",
           "Active"
          ],
          [
           "Bluelight",
           "Analytics, built for the trades.",
           "Winter 2021",
           "Active"
          ],
          [
           "Advano",
           "Advano is a battery technology company that improve the longevity of…",
           "Summer 2017",
           "Active"
          ],
          [
           "Mystery.org",
           "We help kids stay curious by creating better explanations.",
           "Summer 2017",
           "Acquired"
          ],
          [
           "Peeba",
           "Risk-free wholesale for retailers across Southeast Asia",
           "Winter 2023",
           "Active"
          ],
          [
           "Mayhem",
           "Mayhem is the easiest way to play with your gaming community.",
           "Winter 2018",
           "Acquired"
          ],
          [
           "LVL6",
           "We make mobile MMOs. ",
           "Winter 2012",
           "Inactive"
          ],
          [
           "Symple",
           "Last mile logistics for delivery & service teams. We bring real-time…",
           "Summer 2016",
           "Acquired"
          ],
          [
           "Wavedash",
           "Play the latest games in your browser with no downloads",
           "Spring 2025",
           "Active"
          ],
          [
           "Sunset",
           "Find and move money after a death",
           "Fall 2024",
           "Active"
          ],
          [
           "Variant",
           "Creative intelligence",
           "Fall 2024",
           "Active"
          ],
          [
           "SynsoryBio",
           "\"If-then\" conditional logic for protein drugs",
           "Winter 2024",
           "Active"
          ],
          [
           "Backpack",
           "Marketplace to get stuff from overseas",
           "Summer 2014",
           "Active"
          ],
          [
           "ParcelBio",
           "Next-generation mRNA medicines",
           "Winter 2024",
           "Active"
          ],
          [
           "Plumter",
           "Easy foreign payments for African merchants",
           "Winter 2022",
           "Active"
          ],
          [
           "Coderhouse",
           "Effective and accessible online live education.",
           "Winter 2021",
           "Active"
          ],
          [
           "CapWay",
           "Inclusive financial technology service provider.",
           "Summer 2020",
           "Inactive"
          ],
          [
           "Transformity",
           "Point-of-sale & Vertical SaaS for the $75B Liquor Industry",
           "Summer 2023",
           "Active"
          ],
          [
           "Breadcrumbs.io",
           "No-code scoring engine identifying your most engaged upsell opps",
           "Summer 2021",
           "Active"
          ],
          [
           "lvl5",
           "HD maps for self-driving cars.",
           "Winter 2017",
           "Acquired"
          ],
          [
           "Seva Coffee",
           "We're changing the world of coffee, one personalized cup at a time.",
           "Summer 2015",
           "Inactive"
          ],
          [
           "Sakneen",
           "Shopify for Real Estate Developers",
           "Winter 2020",
           "Active"
          ],
          [
           "Coris",
           "AI-powered risk platform for Payment Providers, Banks, SaaS platforms…",
           "Summer 2022",
           "Active"
          ],
          [
           "Unhaze",
           "The right leads at the right time for B2B sales",
           "Summer 2023",
           "Inactive"
          ],
          [
           "Wifi Dabba, Inc.",
           "Decentralised broadband connectivity.",
           "Winter 2017",
           "Active"
          ],
          [
           "Letter",
           "Beautifully designed banking for high net-worth individuals.",
           "Summer 2020",
           "Inactive"
          ],
          [
           "Talentropy.ai",
           "AI solution that streamlines candidate screening and recruitment",
           "Winter 2022",
           "Active"
          ],
          [
           "Flywheel AI",
           "Waymo for excavators",
           "Summer 2025",
           "Active"
          ],
          [
           "Khabri",
           "India's Largest Podcast Platform",
           "Summer 2019",
           "Inactive"
          ],
          [
           "Hickory",
           "Hickory turns your employees into experts.",
           "Summer 2015",
           "Inactive"
          ],
          [
           "Axolo",
           "Improving Developer Experience with Streamlined Code Reviews",
           "Winter 2021",
           "Active"
          ],
          [
           "Attunement",
           "Automation workflow for psychiatric assessments.",
           "Winter 2024",
           "Active"
          ],
          [
           "Vibe Code Go",
           "Code from your phone",
           "Summer 2025",
           "Active"
          ],
          [
           "Serna Bio",
           "Genetic Medicine with Small Molecules ",
           "Winter 2021",
           "Active"
          ],
          [
           "Variance",
           "World-Class Tooling for Trust & Safety teams",
           "Winter 2023",
           "Active"
          ],
          [
           "Manaflow",
           "Build internal tools for AI using natural language",
           "Summer 2024",
           "Active"
          ],
          [
           "Landeed",
           "Landeed is India's fastest property title search engine ",
           "Summer 2022",
           "Active"
          ],
          [
           "Nova Credit",
           "Bridging a world of consumer-permissioned credit data",
           "Summer 2016",
           "Active"
          ],
          [
           "Shef",
           "Shef is a Marketplace for Homemade Food",
           "Winter 2019",
           "Active"
          ],
          [
           "Curvenote",
           "Communication and publishing tools for scientists",
           "Winter 2021",
           "Active"
          ],
          [
           "Doppler",
           "The first SecretOps Platform.",
           "Winter 2019",
           "Active"
          ],
          [
           "SkydropX",
           "Logistic Management System for E-commerce & Retail in Mexico. ",
           "Summer 2018",
           "Active"
          ],
          [
           "Pythagora",
           "Worlds first all-in-one AI development platform.",
           "Winter 2024",
           "Active"
          ],
          [
           "Browser Buddy",
           "Internet discovery engine",
           "Winter 2024",
           "Active"
          ],
          [
           "LineWise",
           "AI Agent to troubleshoot manufacturing issues",
           "Spring 2025",
           "Active"
          ],
          [
           "Prospa",
           "Banking for businesses in Nigeria",
           "Winter 2021",
           "Active"
          ],
          [
           "Approval AI",
           "One-click mortgage: AI shops, negotiates, and handles your application",
           "Spring 2025",
           "Active"
          ],
          [
           "Enerjazz",
           "Making electric vehicle batteries affordable ",
           "Summer 2021",
           "Active"
          ],
          [
           "Infisical",
           "Unified platform for secrets, certs, and privileged access management",
           "Winter 2023",
           "Active"
          ],
          [
           "AI Insurance",
           "AI Insurance is the platform that runs insurance companies",
           "Winter 2019",
           "Active"
          ],
          [
           "WhiteLab Genomics",
           "Unleashing the potential of DNA and RNA based therapies using AI",
           "Winter 2022",
           "Active"
          ],
          [
           "Hungry Labs",
           "Now part of Snaplayer.",
           "Summer 2011",
           "Inactive"
          ],
          [
           "MagicBus",
           "We make vanpool simple.",
           "Winter 2016",
           "Active"
          ],
          [
           "Scout",
           "AI-powered student information system for K-12 schools",
           "Winter 2025",
           "Active"
          ],
          [
           "Semble AI",
           "Autonomous fire and life-safety systems engineer",
           "Fall 2025",
           "Active"
          ],
          [
           "Iris Automation",
           "Enabling autonomous drone operations globally through AI software",
           "Summer 2016",
           "Acquired"
          ],
          [
           "Frizzle",
           "AI Grading for Teachers",
           "Summer 2025",
           "Active"
          ],
          [
           "Able",
           "India's Largest Placement Platform for Early Professionals",
           "Winter 2020",
           "Acquired"
          ],
          [
           "Smartcuts",
           "Chrome extension to turn clicks & keystrokes into no-code automations",
           "Winter 2021",
           "Active"
          ],
          [
           "Bond",
           "Building Donna, your AI Chief of Staff",
           "Spring 2025",
           "Active"
          ],
          [
           "Sohar Health",
           "AI-powered insurance verification to boost patient conversion.",
           "Summer 2023",
           "Active"
          ],
          [
           "Gather",
           "Project management software for People Operations",
           "Summer 2020",
           "Acquired"
          ],
          [
           "Plato",
           "Plato is the mentorship platform for engineering leaders",
           "Winter 2016",
           "Acquired"
          ],
          [
           "Glowing.io",
           "Unified, enterprise messaging platform for leading brands of the world",
           "Winter 2018",
           "Active"
          ],
          [
           "Query Vary",
           "No-Code LLM Application / Workflow Builder",
           "Winter 2022",
           "Active"
          ],
          [
           "Reliance Health",
           "We make healthcare in emerging markets affordable and accessible",
           "Winter 2017",
           "Active"
          ],
          [
           "Sphinx",
           "AI Compliance Analysts for Banks & Fintechs",
           "Fall 2024",
           "Active"
          ],
          [
           "Heptabase",
           "The visual note-taking tool for learning complex topics.",
           "Winter 2022",
           "Active"
          ],
          [
           "yearend",
           "Optimize your equity and taxes in real-time.",
           "Winter 2020",
           "Active"
          ],
          [
           "Dialect",
           "Making internet experiences distributable and actionable everywhere",
           "Summer 2020",
           "Active"
          ],
          [
           "Rescript",
           "AI Regulatory Analyst for Enterprises",
           "Summer 2024",
           "Active"
          ],
          [
           "Tracecat",
           "All-in-one AI automation platform for security and IT teams",
           "Winter 2024",
           "Active"
          ],
          [
           "Pando Bioscience",
           "Gen-AI Designed Enzymes for Pharmaceutical Innovation",
           "Winter 2023",
           "Active"
          ],
          [
           "Payload",
           "Developer-First Headless CMS and Application Framework",
           "Summer 2022",
           "Acquired"
          ],
          [
           "Dream3D",
           "Generative AI Worlds",
           "Winter 2023",
           "Active"
          ],
          [
           "Sensei",
           "Robotic Training Data at Scale",
           "Summer 2024",
           "Active"
          ],
          [
           "Seed",
           "Mobile banking for small business.",
           "Winter 2015",
           "Acquired"
          ],
          [
           "Idler",
           "Scale AI for reinforcement learning environments. ",
           "Summer 2025",
           "Active"
          ],
          [
           "Synnax",
           "Unified Hardware Control and Data Processing Software",
           "Summer 2024",
           "Active"
          ],
          [
           "Vitalize",
           "The OS for Hospital Operations",
           "Winter 2023",
           "Active"
          ],
          [
           "Legora (formerly Leya)",
           "The AI workspace for lawyers",
           "Winter 2024",
           "Active"
          ],
          [
           "Hipset",
           "The best way for artists to release new music and videos.",
           "Summer 2012",
           "Inactive"
          ],
          [
           "Normal",
           "Modern compliance for drones, robots, IoT, and beyond",
           "Summer 2025",
           "Active"
          ],
          [
           "Positive",
           "B2B supplier of fresh/healthy packaged food",
           "Winter 2019",
           "Active"
          ],
          [
           "Guide Labs",
           "Interpretable AI models and agents that are easy to audit and…",
           "Winter 2024",
           "Active"
          ],
          [
           "Syncro",
           "Zapier for scaling high-touch talent management",
           "Winter 2020",
           "Inactive"
          ],
          [
           "Salient",
           "AI Servicing for Auto Lenders",
           "Winter 2023",
           "Active"
          ],
          [
           "AviaryAI",
           "Outbound AI voice agents for the financial services industry",
           "Summer 2022",
           "Active"
          ],
          [
           "9gag",
           "Make the world happier.",
           "Summer 2012",
           "Active"
          ],
          [
           "Agave",
           "Data infrastructure for Construction",
           "Winter 2022",
           "Active"
          ],
          [
           "Orderli",
           "Square for Europe",
           "Summer 2021",
           "Active"
          ],
          [
           "HENRY",
           "We train AI engineers and connect them with companies.",
           "Summer 2020",
           "Active"
          ],
          [
           "Notus Autonomous Systems",
           "Swarm robotics and full AI-command hierarchy integration",
           "Spring 2025",
           "Active"
          ],
          [
           "Inflow",
           "A self-help app for people to manage their ADHD.",
           "Summer 2021",
           "Active"
          ],
          [
           "Mesh",
           "Building your AI finance co-worker",
           "Winter 2025",
           "Active"
          ],
          [
           "Entry",
           "Biometric sign in and identity verification platform",
           "Winter 2017",
           "Inactive"
          ],
          [
           "Echo Locker",
           "Android lock screen",
           "Summer 2013",
           "Acquired"
          ],
          [
           "Ping",
           "The global neo-bank for contractors and freelancers",
           "Summer 2022",
           "Active"
          ],
          [
           "Waldium",
           "Build AI-optimized blogs that rank in AI search results ",
           "Summer 2023",
           "Active"
          ],
          [
           "Wedge",
           "Palantir for Healthcare AI Agents",
           "Summer 2025",
           "Active"
          ],
          [
           "Spotlight Realty",
           "AI powered brokerage reducing residential rental commissions in NYC…",
           "Summer 2025",
           "Active"
          ],
          [
           "ZeroEntropy",
           "High accuracy search API over unstructured data.",
           "Winter 2025",
           "Active"
          ],
          [
           "Apozy",
           "Apozy makes every website safe to browse",
           "Winter 2017",
           "Active"
          ],
          [
           "Zenefits",
           "HR for small businesses: onboarding, payroll and benefits.",
           "Winter 2013",
           "Acquired"
          ],
          [
           "CAPSULE",
           "Buy anything you find on social media",
           "Summer 2022",
           "Inactive"
          ],
          [
           "LightTwist",
           "Record video in a photorealistic virtual studio all from your browser",
           "Winter 2021",
           "Active"
          ],
          [
           "Focal Systems",
           "Building the Operating System for B&M Retail using Deep Learning",
           "Winter 2016",
           "Active"
          ],
          [
           "Veera Health",
           "We treat women with Polycystic Ovary Syndrome in India",
           "Winter 2021",
           "Active"
          ],
          [
           "Mocke",
           "Mock email campaigns: know your reply rate 1 min without launch",
           "Summer 2022",
           "Active"
          ],
          [
           "Upsolve AI",
           "Embed GenBI in Your SaaS App",
           "Winter 2024",
           "Active"
          ],
          [
           "Humane Genomics",
           "A platform to make artificial viruses as cancer therapeutics.",
           "Summer 2021",
           "Active"
          ],
          [
           "Tire Swing",
           "AI for Healthcare Compliance",
           "Winter 2025",
           "Active"
          ],
          [
           "Fivestars",
           "Customer loyalty and payments platform for small businesses.",
           "Winter 2011",
           "Acquired"
          ],
          [
           "Givefront",
           "Nonprofit Financial Management",
           "Winter 2024",
           "Active"
          ],
          [
           "NearWave",
           "Helping physicians select the right therapy for breast cancer patients",
           "Winter 2022",
           "Active"
          ],
          [
           "Spott",
           "AI-native ATS/CRM for recruiting firms",
           "Winter 2025",
           "Active"
          ],
          [
           "Rally",
           "Financial OS for Modern Fleets",
           "Winter 2025",
           "Active"
          ],
          [
           "Parahelp",
           "The AI support agent built for fast-moving software companies",
           "Summer 2024",
           "Active"
          ],
          [
           "HockeyStack",
           "The operating system for inbound B2B revenue",
           "Summer 2023",
           "Active"
          ],
          [
           "Evry Health",
           "Better health insurance for mid-size companies",
           "Winter 2018",
           "Acquired"
          ],
          [
           "GBatteries",
           "Enabling li-ion batteries to charge ultra fast without compromising…",
           "Winter 2014",
           "Active"
          ],
          [
           "Plerk",
           "Acquired by Minu.mx - Fintech solutions for employees, starting with…",
           "Summer 2020",
           "Acquired"
          ],
          [
           "Catena Biosciences",
           "Using protein coupling to build new therapies",
           "Summer 2021",
           "Active"
          ],
          [
           "Vista Power",
           "Batteries and solar for $0 upfront to help businesses save money",
           "Winter 2024",
           "Active"
          ],
          [
           "Livedocs",
           "A New Kind of Notebook for Data Storytelling",
           "Winter 2022",
           "Active"
          ],
          [
           "UpCodes",
           "UpCodes helps the AEC industry deliver code compliant buildings",
           "Summer 2017",
           "Active"
          ],
          [
           "AtoB",
           "Rebuilding global transportation payments.",
           "Summer 2020",
           "Active"
          ],
          [
           "Morphik",
           "Open-source multimodal search for AI apps",
           "Spring 2025",
           "Active"
          ],
          [
           "OpenReplay",
           "Open-source, self-hosted, session replay tool for developers.",
           "Summer 2019",
           "Active"
          ],
          [
           "Svbtle",
           "A publishing platform.",
           "Summer 2012",
           "Active"
          ],
          [
           "Casca",
           "Make Banking Magical",
           "Summer 2023",
           "Active"
          ],
          [
           "Precious",
           "AI to curate your baby photos",
           "Winter 2018",
           "Active"
          ],
          [
           "Leon & George",
           "Buying and owning indoor potted plants made easy.",
           "Summer 2017",
           "Active"
          ],
          [
           "Tower",
           "Legal due diligence platform powered by AI",
           "Winter 2024",
           "Active"
          ],
          [
           "Noble",
           "Risk decisioning platform ",
           "Winter 2021",
           "Inactive"
          ],
          [
           "Finni Health",
           "Empowering Autism Care Providers to Go Independent",
           "Winter 2023",
           "Active"
          ],
          [
           "Olympian Motors",
           "Manufacturing modular electric vehicles with style",
           "Winter 2022",
           "Active"
          ],
          [
           "Nexa Labs",
           "Implantable microchips and AI for cattle monitoring",
           "Summer 2025",
           "Active"
          ],
          [
           "Terusama",
           "We help warehouses schedule trucks",
           "Winter 2020",
           "Acquired"
          ],
          [
           "hillclimb",
           "Math RL Environments for Post-training",
           "Fall 2025",
           "Active"
          ],
          [
           "Saphira AI",
           "Vanta for Hardware",
           "Summer 2024",
           "Active"
          ],
          [
           "Topo",
           "AI sales agent custom trained for each company to reach the best leads",
           "Winter 2024",
           "Active"
          ],
          [
           "Lifecast",
           "Software to create 3D video for VR, robotics and film.",
           "Winter 2022",
           "Inactive"
          ],
          [
           "Coldreach",
           "Find the best leads with custom intent signals",
           "Winter 2023",
           "Active"
          ],
          [
           "Parley",
           "Automating flat-fee legal work, starting with work visas + green cards",
           "Summer 2024",
           "Active"
          ],
          [
           "Leaders In Tech (formerly InnerSpace)",
           "Helping founders improve themselves, their companies, and the world.",
           "Summer 2015",
           "Active"
          ],
          [
           "ThinAir",
           "Intelligent data security for teams",
           "Winter 2015",
           "Inactive"
          ],
          [
           "Sentiyen",
           "Conversational AI assistants using your knowledge",
           "Summer 2021",
           "Active"
          ],
          [
           "Castia",
           "Built Rewards for Latam. Pay Rent and get benefits.",
           "Winter 2022",
           "Inactive"
          ],
          [
           "Aravolta",
           "Software to monitor, control, and optimize data centers.",
           "Spring 2025",
           "Active"
          ],
          [
           "Dev Tools AI",
           "AI powered web & mobile automation",
           "Summer 2022",
           "Inactive"
          ],
          [
           "GoLinks",
           "Intuitive, easy-to-remember short links - powered by AI.",
           "Winter 2019",
           "Active"
          ],
          [
           "Niles",
           "Knowledge Assistant for Work.",
           "Winter 2017",
           "Inactive"
          ],
          [
           "The Ankler",
           "Subscription entertainment news",
           "Winter 2022",
           "Active"
          ],
          [
           "Halolife",
           "Halolife is an online platform to find and plan a burial or cremation…",
           "Summer 2015",
           "Inactive"
          ],
          [
           "Nestor",
           "Skills-based talent management solutions for a dynamic workforce.",
           "Summer 2018",
           "Active"
          ],
          [
           "Automatic",
           "Automatic connects your car to the rest of your digital life.",
           "Summer 2011",
           "Acquired"
          ],
          [
           "Filadd",
           "We help students in Latin America graduate from College.",
           "Summer 2021",
           "Active"
          ],
          [
           "Endpoint Health",
           "Precision-first therapies",
           "Winter 2019",
           "Active"
          ],
          [
           "Starcity",
           "Starcity was one of the largest co-living brands. Exit to Common in…",
           "Summer 2016",
           "Acquired"
          ],
          [
           "Narrator",
           "The only platform that can prep data to answer EVERY question you…",
           "Summer 2019",
           "Inactive"
          ],
          [
           "Voicepanel",
           "AI agents for customer research",
           "Winter 2024",
           "Active"
          ],
          [
           "Driver AI",
           "Understand millions of lines of code in minutes.",
           "Winter 2024",
           "Active"
          ],
          [
           "Novoflow",
           "AI employees that automate medical operations for clinics. ",
           "Spring 2025",
           "Active"
          ],
          [
           "Laserfocus",
           "Implement streamlined Salesforce processes for agile GTM teams",
           "Winter 2020",
           "Inactive"
          ],
          [
           "Adentris",
           "Real-time AI Compliance for Medical Documentation",
           "Spring 2025",
           "Active"
          ],
          [
           "Adla",
           "Department store for e-commerce",
           "Summer 2019",
           "Inactive"
          ],
          [
           "Semantics3",
           "Data and AI platform for Ecommerce & Cross-Border Logistics",
           "Winter 2013",
           "Acquired"
          ],
          [
           "GiveMeTap",
           "We produce & sell stainless steel water bottles that enables people…",
           "Winter 2015",
           "Active"
          ],
          [
           "Swift",
           "Embedded finance for online merchants",
           "Winter 2024",
           "Active"
          ],
          [
           "Godela",
           "AI Physics Engine to replace simulations and prototypes",
           "Spring 2025",
           "Active"
          ],
          [
           "PicnicHealth",
           "Empowering Patients for Deep Real World Data",
           "Summer 2014",
           "Active"
          ],
          [
           "Burrow",
           "A design brand creating innovative, award winning furniture.",
           "Summer 2016",
           "Acquired"
          ],
          [
           "Clau",
           "The real estate superapp for Mexico",
           "Summer 2020",
           "Active"
          ],
          [
           "Positional",
           "A modern platform for content marketing & SEO.",
           "Summer 2021",
           "Active"
          ],
          [
           "Toko",
           "Learn English by speaking with an AI",
           "Winter 2022",
           "Active"
          ],
          [
           "Superb AI",
           "Superb AI provides end-to-end computer vision MLOps platform",
           "Winter 2019",
           "Active"
          ],
          [
           "VergeSense",
           "AI-Powered Building Management",
           "Summer 2017",
           "Active"
          ],
          [
           "ZeroDown",
           "Find beautiful homes",
           "Winter 2019",
           "Acquired"
          ],
          [
           "Gait",
           "Building Dev Infra for AI Software Engineers",
           "Fall 2024",
           "Inactive"
          ],
          [
           "The Buttermilk Company",
           "Instant, fresh ethnic food that actually taste homemade. We're…",
           "Summer 2018",
           "Inactive"
          ],
          [
           "Guardian Bio",
           "Dendritic cell-based platform for cancer therapy ",
           "Summer 2022",
           "Active"
          ],
          [
           "AthenaHQ",
           "Get Your Brand Discovered on ChatGPT.",
           "Winter 2025",
           "Active"
          ],
          [
           "Beacons",
           "An AI-powered, all-in-one business platform for content creators",
           "Summer 2019",
           "Active"
          ],
          [
           "AppHarbor",
           ".NET Cloud Platform as a Service",
           "Winter 2011",
           "Inactive"
          ],
          [
           "Jutsoo",
           "All your corporate bank accounts connected under one platform",
           "Winter 2022",
           "Active"
          ],
          [
           "Pair AI",
           "Reimagining education with short form video and AI",
           "Winter 2023",
           "Active"
          ],
          [
           "Photonium",
           "AI-Driven Optical System Design",
           "Spring 2025",
           "Active"
          ],
          [
           "Pulse",
           "Electronic Medical Records for India",
           "Winter 2017",
           "Inactive"
          ],
          [
           "Opearlo",
           "Opearlo produces voice apps for Amazon Alexa and Google Home.",
           "Summer 2017",
           "Acquired"
          ],
          [
           "Tusk",
           "AI agent that generates unit and integration tests",
           "Winter 2024",
           "Active"
          ],
          [
           "Boostable",
           "Advertising platform tools for marketplace sellers. ",
           "Winter 2014",
           "Acquired"
          ],
          [
           "FuseAI",
           "The only sales software you will ever need. ",
           "Winter 2025",
           "Active"
          ],
          [
           "Stralis Aircraft",
           "Emission free hydrogen electric aircraft",
           "Winter 2023",
           "Active"
          ],
          [
           "Nuvola",
           "Nuvola is transforming battery manufacturing, making EV batteries…",
           "Winter 2017",
           "Active"
          ],
          [
           "Phykos",
           "Growing seaweed to stabilize the climate.",
           "Summer 2021",
           "Active"
          ],
          [
           "Risotto",
           "Risotto auto-solves IT support requests using AI",
           "Winter 2024",
           "Active"
          ],
          [
           "Truffle AI",
           "AWS for AI Agents",
           "Winter 2025",
           "Active"
          ],
          [
           "NuCypher (aka Threshold Network)",
           "Network for decentralized threshold cryptography and end-to-end…",
           "Summer 2016",
           "Active"
          ],
          [
           "Function of Beauty",
           "Customizable beauty for hair, skin, and body care products.",
           "Winter 2016",
           "Active"
          ],
          [
           "Thrive Agric",
           "ThriveAgric help Farmers in Africa access finance, insight and Markets",
           "Winter 2019",
           "Active"
          ],
          [
           "Benchling",
           "Unlocking the power of biotech with modern software for modern science",
           "Summer 2012",
           "Active"
          ],
          [
           "MDalgorithms Inc.",
           "Democratizing Dermatology with AI ",
           "Winter 2017",
           "Active"
          ],
          [
           "Depict",
           "Merchandising for fashion e-commerce",
           "Summer 2020",
           "Active"
          ],
          [
           "Aklimate",
           "Software for enterprises to track and reduce supply chain emissions",
           "Winter 2022",
           "Inactive"
          ],
          [
           "Dialtone",
           "AI agents for enterprises",
           "Summer 2023",
           "Active"
          ],
          [
           "Sorted",
           "Instant SaaS management",
           "Winter 2023",
           "Inactive"
          ],
          [
           "Osmind",
           "Platform for breakthrough mental health research and treatment",
           "Summer 2020",
           "Active"
          ],
          [
           "Parse",
           "Parse is the easiest way to build apps.",
           "Summer 2011",
           "Acquired"
          ],
          [
           "Floot",
           "The easiest way for non-coders to build apps with AI.",
           "Summer 2025",
           "Active"
          ],
          [
           "Viddy",
           "A new way to create landing pages that is video-native.",
           "Winter 2023",
           "Acquired"
          ],
          [
           "Mogara",
           "Automatic software R&D capitalization ",
           "Winter 2023",
           "Inactive"
          ],
          [
           "HitPay",
           "Payments infrastructure for businesses scaling in APAC",
           "Summer 2021",
           "Active"
          ],
          [
           "Magicflow 𐂂",
           "The Gen AI evaluation and curation platform",
           "Winter 2023",
           "Inactive"
          ],
          [
           "Reditus Space",
           "Reusable Satellites for zero-g manufacturing",
           "Winter 2025",
           "Active"
          ],
          [
           "Foreword",
           "A marketplace for live, online workshops for professionals",
           "Summer 2020",
           "Inactive"
          ],
          [
           "Supernova",
           "Design system platform joins developers and designers together",
           "Winter 2019",
           "Active"
          ],
          [
           "PersistIQ",
           "PersistIQ is a free email automation platform to send a small batch…",
           "Summer 2014",
           "Acquired"
          ],
          [
           "Amby Health",
           "AI Copilot for Ambulance Agencies (EMS)",
           "Winter 2025",
           "Active"
          ],
          [
           "Greenboard",
           "'Rippling' for Financial Compliance and Operations ",
           "Winter 2024",
           "Active"
          ],
          [
           "Okay",
           "Dashboards and actionable insights for high-performing engineering…",
           "Winter 2020",
           "Acquired"
          ],
          [
           "Seam",
           "API for IoT Devices",
           "Summer 2020",
           "Active"
          ],
          [
           "Hestus, Inc.",
           "An AI-powered CAD software",
           "Summer 2024",
           "Active"
          ],
          [
           "Powerhouse AI",
           "Vision-powered warehouse automation: maximizing performance and value",
           "Winter 2022",
           "Active"
          ],
          [
           "SOMATIC",
           "Bathroom cleaning robots for office buildings. ",
           "Winter 2020",
           "Active"
          ],
          [
           "Flint",
           "AI personalized learning for schools",
           "Summer 2023",
           "Active"
          ],
          [
           "SST",
           "For whatever you build.",
           "Winter 2021",
           "Active"
          ],
          [
           "BuildScience",
           "The operating system for commercial buildings.",
           "Winter 2015",
           "Active"
          ],
          [
           "Mark Cuban Cost Plus Drug Company, PBC",
           "Making low cost versions of high cost generic drugs.",
           "Summer 2018",
           "Active"
          ],
          [
           "Sendblue",
           "iMessage for Sales",
           "Summer 2023",
           "Active"
          ],
          [
           "Tiptap",
           "Developer toolkit for building collaborative apps.",
           "Summer 2023",
           "Active"
          ],
          [
           "Lotas",
           "Cursor for Data Science — secure, AI-native IDE for data scientists",
           "Summer 2025",
           "Active"
          ],
          [
           "Coast",
           "Demo Platform for API-First Companies",
           "Summer 2021",
           "Active"
          ],
          [
           "Faire",
           "The global online platform empowering independent retail.",
           "Winter 2017",
           "Active"
          ],
          [
           "DeepSim, Inc.",
           "An AI physics simulator for AI chip design",
           "Summer 2024",
           "Active"
          ],
          [
           "iCracked",
           "On-demand smartphone repair in 3 countries and launching smart home…",
           "Winter 2012",
           "Acquired"
          ],
          [
           "Sekilo",
           "Poultry processing & supply chain for the SME foodservice industry.",
           "Winter 2022",
           "Active"
          ],
          [
           "Degrees of Freedom",
           "DoF provides a high quality, affordable higher education alternative.",
           "Winter 2021",
           "Inactive"
          ],
          [
           "Proof Trading",
           "Institutional equities broker-dealer",
           "Summer 2019",
           "Active"
          ],
          [
           "Nomod",
           "The payment links app to sell anything, anywhere",
           "Summer 2021",
           "Active"
          ],
          [
           "Xberts",
           "Xberts.com is a cross-border marketplace for Chinese hardware…",
           "Summer 2016",
           "Inactive"
          ],
          [
           "NewCraft",
           "Universal API for HR & Payroll",
           "Winter 2018",
           "Acquired"
          ],
          [
           "Verbiflow",
           "People search that works",
           "Winter 2025",
           "Active"
          ],
          [
           "Pigeonly",
           "The affordable way to search, find & communicate with an incarcerated…",
           "Winter 2015",
           "Inactive"
          ],
          [
           "SlashAuth",
           "The solution for fine-grained access control in web3",
           "Winter 2021",
           "Inactive"
          ],
          [
           "Roomblocker",
           "Hotel booking for groups and events.",
           "Summer 2015",
           "Inactive"
          ],
          [
           "Pandai",
           "Learning app for school students in Southeast Asia",
           "Summer 2021",
           "Active"
          ],
          [
           "noHQ",
           "International contractor and multi country payroll ",
           "Winter 2021",
           "Inactive"
          ],
          [
           "Squire.ai",
           "Never code alone.",
           "Summer 2021",
           "Inactive"
          ],
          [
           "Alloy Automation",
           "Alloy is a platform for building and managing SaaS integrations",
           "Winter 2020",
           "Active"
          ],
          [
           "Hive",
           "Marketing automation for event promoters (email, sms, ads, CRM)",
           "Summer 2014",
           "Active"
          ],
          [
           "Makani Science",
           "Reinventing respiration monitoring",
           "Summer 2021",
           "Active"
          ],
          [
           "Polymet",
           "AI Product Designer",
           "Summer 2024",
           "Active"
          ],
          [
           "Calltree",
           "Enterprise-grade AI support reps for call centers",
           "Winter 2025",
           "Active"
          ],
          [
           "Distro",
           "The AI co-pilot for sales reps at industrial wholesale distributors.",
           "Summer 2024",
           "Active"
          ],
          [
           "Intryc",
           "Intryc uses AI to automate quality assurance for customer support",
           "Summer 2024",
           "Active"
          ],
          [
           "Velontra",
           "Hypersonic space plane that can take-off from any location and weather",
           "Summer 2022",
           "Active"
          ],
          [
           "Encord",
           "Building the data backbone for the (artificial) intelligence…",
           "Winter 2021",
           "Active"
          ],
          [
           "Beek",
           "Leading audio subscription platform for Spanish content and creators",
           "Winter 2017",
           "Inactive"
          ],
          [
           "Airmada",
           "Autonomous ground stations for drones",
           "Summer 2015",
           "Inactive"
          ],
          [
           "Shone",
           "Shone makes existing cargo ships autonomous through retrofit.",
           "Winter 2018",
           "Inactive"
          ],
          [
           "Arist",
           "Deliver effective learning at scale ",
           "Summer 2020",
           "Active"
          ],
          [
           "Zapier",
           "The easiest way to automate your work.",
           "Summer 2012",
           "Active"
          ],
          [
           "Kopa",
           "Find furnished rentals and compatible housemates for 1-12 month stays ",
           "Winter 2019",
           "Inactive"
          ],
          [
           "Suiteness",
           "Book guaranteed connecting rooms and suites at hotels",
           "Summer 2016",
           "Active"
          ],
          [
           "Command AI",
           "AI-powered user assistance platform",
           "Summer 2020",
           "Acquired"
          ],
          [
           "EPIC AEROSPACE",
           "Last-mile delivery for satellites.",
           "Summer 2019",
           "Active"
          ],
          [
           "Bannerman",
           "Security Guard Company Marketplace",
           "Summer 2014",
           "Inactive"
          ],
          [
           "Sapling.ai",
           "Language models for enterprise applications.",
           "Winter 2019",
           "Active"
          ],
          [
           "Stewdio",
           "All-in-one AI creative platform",
           "Fall 2024",
           "Active"
          ],
          [
           "Forge Rewards",
           "Starbucks app for restaurants",
           "Winter 2024",
           "Active"
          ],
          [
           "Petcube",
           "Petcube is on the mission to improve lives of pets and pet owners…",
           "Winter 2016",
           "Active"
          ],
          [
           "Boostly",
           "Gamified marketing for restaurants",
           "Summer 2022",
           "Active"
          ],
          [
           "Sixfold Bioscience",
           "Delivering RNA therapies.",
           "Winter 2018",
           "Active"
          ],
          [
           "CSPA",
           "The Computer Science Proficiency Assessment (CSPA™) is a…",
           "Summer 2018",
           "Acquired"
          ],
          [
           "Promi",
           "Optimizing ecommerce pricing with dynamic, personalized discounts",
           "Summer 2024",
           "Active"
          ],
          [
           "RescueTime",
           "Take Back Control of your Time",
           "Winter 2008",
           "Active"
          ],
          [
           "Orchid",
           "AI-powered EHR for independent mental health professionals",
           "Winter 2023",
           "Active"
          ],
          [
           "CoCrafter",
           "B2B construction marketplace to match contractors and subcontractors.",
           "Winter 2024",
           "Active"
          ],
          [
           "Activepieces",
           "Open-source, AI-first and no-code business automation tool",
           "Summer 2022",
           "Active"
          ],
          [
           "Courtyard.io",
           "A frictionless, safe, and fun experience to invest in collectibles",
           "Winter 2022",
           "Active"
          ],
          [
           "Meridian Industries",
           "Index is the modern business intelligence platform",
           "Summer 2019",
           "Active"
          ],
          [
           "CraftOS",
           "Inventory Management and POS for the Wine industry",
           "Summer 2023",
           "Inactive"
          ],
          [
           "BuildZoom",
           "BuildZoom is a better way to remodel. We connect homeowners to the…",
           "Winter 2013",
           "Active"
          ],
          [
           "MindFort",
           "Autonomous Security Agents",
           "Spring 2025",
           "Active"
          ],
          [
           "Bristle",
           "At-home oral health testing, coaching & care",
           "Winter 2021",
           "Active"
          ],
          [
           "Cartcam",
           "Cartcam is an app for opinionated, deal-seeking shoppers.  It gives…",
           "Winter 2017",
           "Inactive"
          ],
          [
           "Karbon Card",
           "Corporate Card solution for Indian businesses",
           "Summer 2021",
           "Active"
          ],
          [
           "Tingles",
           "Find content that helps you relax and fall asleep.",
           "Winter 2018",
           "Inactive"
          ],
          [
           "DocVita",
           "Telehealth provider for India.",
           "Winter 2020",
           "Active"
          ],
          [
           "Sweetspot",
           "AI for Government Contracting.",
           "Summer 2023",
           "Active"
          ],
          [
           "BookMyFlight",
           "We make booking a flight as easy as booking an Uber.",
           "Fall 2024",
           "Active"
          ],
          [
           "Apten",
           "Omnichannel AI agents that engage leads across SMS, voice, and email",
           "Summer 2024",
           "Active"
          ],
          [
           "Skillza",
           "Skillza builds simple tools for teachers and schools in MEA",
           "Winter 2022",
           "Inactive"
          ],
          [
           "MedCrypt",
           "MedCrypt gives medical device vendors cybersecurity features in a few…",
           "Winter 2019",
           "Active"
          ],
          [
           "Metal",
           "AI Accelerated Deal Flow and Portfolio Intelligence",
           "Winter 2023",
           "Active"
          ],
          [
           "Bamboo",
           "Bamboo ― the first online brokerage service for Africans and their…",
           "Winter 2020",
           "Active"
          ],
          [
           "Prendea",
           "Live afterschool classes for Spanish-speaking kids ages 4 to 15.",
           "Winter 2021",
           "Inactive"
          ],
          [
           "Riviera",
           "AI Employees for Hotels",
           "Winter 2025",
           "Active"
          ],
          [
           "Cedalio",
           "Turn your utility bills into smart decisions with AI",
           "Summer 2023",
           "Active"
          ],
          [
           "Platypus",
           "The Distributed Data Operating System",
           "Winter 2021",
           "Inactive"
          ],
          [
           "truthsystems",
           "Automatically blocking risky behavior with real-time governance agents",
           "Summer 2025",
           "Active"
          ],
          [
           "Mintplex Labs",
           "Building the definitive all-in-one on-device AI tool suite",
           "Summer 2022",
           "Active"
          ],
          [
           "Xkit",
           "Universal CRM integration for B2B SaaS apps",
           "Summer 2018",
           "Inactive"
          ],
          [
           "ArchForm",
           "Replacing orthodontic braces with our clear aligner and software",
           "Winter 2018",
           "Active"
          ],
          [
           "Gainful",
           "Personalized Performance Nutrition",
           "Winter 2018",
           "Active"
          ],
          [
           "DirectShifts",
           "Helping healthcare workers find their next career opportunity ",
           "Summer 2019",
           "Active"
          ],
          [
           "Snipshot",
           "We sold Snipshot to Ansa in 2013.",
           "Winter 2006",
           "Inactive"
          ],
          [
           "Disclo",
           "Health disclosure and accommodation management platform",
           "Summer 2022",
           "Active"
          ],
          [
           "Botin",
           "Investment super app for Latin America",
           "Winter 2022",
           "Inactive"
          ],
          [
           "HappyRobot",
           "AI Communication. Built for Logistics.",
           "Summer 2023",
           "Active"
          ],
          [
           "Kuna Systems",
           "We're making a smart, front door camera with intercom that lets you…",
           "Winter 2014",
           "Acquired"
          ],
          [
           "Type",
           "The AI-first document editor.",
           "Winter 2023",
           "Active"
          ],
          [
           "Webflow",
           "Professional website design and publishing platform. ",
           "Summer 2013",
           "Active"
          ],
          [
           "Peer5",
           "P2P delivery network that enables high quality video streaming",
           "Winter 2017",
           "Acquired"
          ],
          [
           "Modern Realty",
           "The AI Native Real Estate Brokerage.",
           "Summer 2024",
           "Active"
          ],
          [
           "Cohere",
           "Support automation that's actually intelligent",
           "Summer 2020",
           "Acquired"
          ],
          [
           "Visly",
           "Build React components visually",
           "Winter 2019",
           "Acquired"
          ],
          [
           "Nonu",
           "We deliver hair loss medicines for Indian men on a subscription basis.",
           "Summer 2019",
           "Inactive"
          ],
          [
           "Vector",
           "Find your prospects who are most likely to buy.",
           "Winter 2023",
           "Active"
          ],
          [
           "Verak",
           "Better Business Insurance for MSMEs in India",
           "Winter 2021",
           "Acquired"
          ],
          [
           "Flint",
           "Securing Nurses for Your Future",
           "Summer 2020",
           "Active"
          ],
          [
           "Indee Labs",
           "Enabling T cell immunotherapy discovery, development and manufacturing",
           "Winter 2017",
           "Active"
          ],
          [
           "Outschool",
           "A live online learning platform that empowers kids ages 3–18.",
           "Winter 2016",
           "Active"
          ],
          [
           "Seis",
           "Banking 100% in Spanish for the 44 million US Spanish speakers",
           "Winter 2022",
           "Active"
          ],
          [
           "Gigwell",
           "Building the Future of Live Event Bookings.",
           "Winter 2016",
           "Active"
          ],
          [
           "Ankr Health",
           "Virtualizing brick-mortar infrastructures of clinics w/ generative AI ",
           "Winter 2022",
           "Active"
          ],
          [
           "BitPatrol",
           "AI-powered code security",
           "Spring 2025",
           "Active"
          ],
          [
           "Index",
           "Planning and AI Prototyping for Product Management",
           "Winter 2023",
           "Active"
          ],
          [
           "Pebble",
           "Watch that helps you get shit done and limit the mayhem of…",
           "Winter 2011",
           "Acquired"
          ],
          [
           "Zanbazaar",
           "Community-curated catalogs for product recommendations",
           "Summer 2006",
           "Inactive"
          ],
          [
           "Savvy",
           "Flexible stipends for employee health insurance",
           "Winter 2020",
           "Acquired"
          ],
          [
           "VetPronto",
           "On demand veterinary house calls. ",
           "Winter 2015",
           "Inactive"
          ],
          [
           "The Mercer Club",
           "The Mercer Club is a subscription service that allows men to rent…",
           "Winter 2020",
           "Inactive"
          ],
          [
           "Pylon",
           "Infrastructure management software for water & electricity companies",
           "Summer 2021",
           "Active"
          ],
          [
           "Tenjin",
           "Mobile marketing analytics and infrastructure",
           "Summer 2014",
           "Active"
          ],
          [
           "Kunduz",
           "Kunduz provides instant answers to students' questions and makes…",
           "Summer 2018",
           "Active"
          ],
          [
           "TRM Labs",
           "TRM is building a safer financial system for billions of people.",
           "Summer 2019",
           "Active"
          ],
          [
           "Strong Compute",
           "10x-1000x faster compute for Neural Network training",
           "Winter 2022",
           "Active"
          ],
          [
           "Cambridge Cancer Genomics",
           "CCG.ai empowers clinicians to make personalised treatment strategies…",
           "Summer 2017",
           "Inactive"
          ],
          [
           "Almond",
           "We make it easy to get great ObGyn care  in-person and over telehealth",
           "Summer 2022",
           "Active"
          ],
          [
           "Delty",
           "AI staff engineer: software architect that leads coding agents",
           "Spring 2025",
           "Active"
          ],
          [
           "Grin",
           "Mobility and payments platform for Latin America",
           "Summer 2018",
           "Acquired"
          ],
          [
           "Unicornly",
           "Unicorn.ly makes fundraising more efficient for both angel investors…",
           "Winter 2014",
           "Inactive"
          ],
          [
           "Shogun",
           "Shogun empowers brands to create exceptional ecommerce experience.",
           "Winter 2018",
           "Active"
          ],
          [
           "Selfycart",
           "Selfycart - let's grocery shoppers scan items and checkout on their…",
           "Summer 2016",
           "Inactive"
          ],
          [
           "Persephone Biosciences",
           "We are using the gut microbiome to end cancer. ",
           "Winter 2018",
           "Active"
          ],
          [
           "Symplex",
           "Applied Reinforcement Learning Research Laboratory",
           "Summer 2019",
           "Acquired"
          ],
          [
           "Cuboh",
           "We help restaurants manage their online orders.",
           "Summer 2019",
           "Acquired"
          ],
          [
           "SigOpt",
           "SigOpt is an Optimization-as-a-Service platform that seamlessly tunes…",
           "Winter 2015",
           "Acquired"
          ],
          [
           "Aether",
           "AI go-to-market revenue engine for home services installers. ",
           "Winter 2024",
           "Active"
          ],
          [
           "Hypotenuse AI",
           "Manage, create & optimize your ecommerce product content using AI",
           "Summer 2020",
           "Active"
          ],
          [
           "Tackle",
           "Time tracking on autopilot",
           "Winter 2021",
           "Active"
          ],
          [
           "Zigfu",
           "Layer above Kinect.",
           "Summer 2011",
           "Inactive"
          ],
          [
           "Roin Technologies",
           "Building robots to automate commercial concrete construction.",
           "Winter 2021",
           "Acquired"
          ],
          [
           "Genuity",
           "SaaS Platform to manage IT and buy business software ",
           "Summer 2021",
           "Active"
          ],
          [
           "Perlara",
           "Perlara: building the YC for rare disease parents",
           "Winter 2016",
           "Active"
          ],
          [
           "Social Construct",
           "Social Construct designs and assembles large apartment buildings …",
           "Summer 2017",
           "Inactive"
          ],
          [
           "Popl",
           "Your complete in-person GTM platform",
           "Winter 2021",
           "Active"
          ],
          [
           "Zergo",
           "We make a urine test that helps women get pregnant.",
           "Summer 2019",
           "Inactive"
          ],
          [
           "Metofico",
           "No Code Data Analysis for Life Science Research",
           "Winter 2024",
           "Active"
          ],
          [
           "Geosite",
           "Geosite is an enterprise SaaS platform for spatial data.",
           "Winter 2019",
           "Acquired"
          ],
          [
           "Adam",
           "AI Powered CAD",
           "Winter 2025",
           "Active"
          ],
          [
           "Coco Wallet",
           "Web3 super app for remittances to Latin America.",
           "Summer 2019",
           "Active"
          ],
          [
           "Procoto",
           "Self-service RFP management",
           "Winter 2021",
           "Acquired"
          ],
          [
           "Doorport",
           "Acquired by Alarm.com - We make existing apartment access smart.",
           "Winter 2019",
           "Acquired"
          ],
          [
           "Examedi",
           "Uber for Healthcare in Latinamerica",
           "Summer 2021",
           "Active"
          ],
          [
           "Shape (ShapeScale)",
           "ShapeScale is a personal 3D scanner and fitness tracker that…",
           "Summer 2015",
           "Active"
          ],
          [
           "Wit.ai",
           "Natural Language for Developers --Wit is an API that makes it easy…",
           "Winter 2014",
           "Acquired"
          ],
          [
           "Lucid Bots",
           "We build robots for dull, dirty, and dangerous jobs.",
           "Summer 2019",
           "Active"
          ],
          [
           "Nottelabs",
           "Reliable Web Agents for Enterprise",
           "Summer 2025",
           "Active"
          ],
          [
           "NexTravel",
           "NexTravel is a centralized travel booking platform that helps…",
           "Winter 2015",
           "Acquired"
          ],
          [
           "Karoo",
           "Canadian neobank focused on lending",
           "Winter 2025",
           "Active"
          ],
          [
           "Lumenary",
           "Build working software exceedingly fast in Solar",
           "Summer 2024",
           "Active"
          ],
          [
           "Necto",
           "ISP starter kit",
           "Winter 2018",
           "Inactive"
          ],
          [
           "Hexel",
           "Create a cryptocurrency for your community.",
           "Winter 2018",
           "Inactive"
          ],
          [
           "Lucible",
           "Combined checking and investment account",
           "Summer 2024",
           "Active"
          ],
          [
           "Release",
           "Environments as a service",
           "Winter 2020",
           "Active"
          ],
          [
           "CombineHealth",
           "Automating Healthcare Revenue Cycle Management with AI Workforce",
           "Winter 2023",
           "Active"
          ],
          [
           "LootRush",
           "A safe and friendly way to play crypto games.",
           "Summer 2021",
           "Active"
          ],
          [
           "RoverRide",
           "A universal urban transit app. Given all transportation options…",
           "Winter 2013",
           "Inactive"
          ],
          [
           "Butter Systems",
           "Replacing the paper restaurant menu with an interactive experience at…",
           "Summer 2013",
           "Inactive"
          ],
          [
           "GoComm",
           "Mobile communications platform for teams working on live events",
           "Summer 2013",
           "Inactive"
          ],
          [
           "Doe",
           "Autonomous AI workforce for PE roll-ups",
           "Summer 2025",
           "Active"
          ],
          [
           "Archil",
           "Transform S3 in an unlimited, local file system",
           "Fall 2024",
           "Active"
          ],
          [
           "TruthSuite",
           "AI Fact Checking for Lawyers",
           "Winter 2023",
           "Active"
          ],
          [
           "PgDog",
           "Scaling engine for PostgreSQL",
           "Spring 2025",
           "Active"
          ],
          [
           "Karmen",
           "AI Assistant for Construction Project Managers",
           "Fall 2024",
           "Active"
          ],
          [
           "LifestyleRx",
           "Virtual Care for Type 2 Diabetes Reversal",
           "Summer 2023",
           "Active"
          ],
          [
           "Deepnote",
           "A better data science notebook.",
           "Summer 2019",
           "Active"
          ],
          [
           "Julius",
           "AI Data Scientist",
           "Summer 2022",
           "Active"
          ],
          [
           "Minimum",
           "Helping corporates achieve Net Zero through tech solutions. ",
           "Summer 2020",
           "Active"
          ],
          [
           "Loop Health",
           "Modern & comprehensive health insurance plan for employees in India",
           "Winter 2020",
           "Active"
          ],
          [
           "Filta",
           "The Face Filter NFT Marketplace",
           "Summer 2021",
           "Active"
          ],
          [
           "Feanix Biotechnologies",
           "Farm Genetics Made Easy - Using DNA and Software",
           "Summer 2023",
           "Active"
          ],
          [
           "General Agency",
           "AI coworkers that can learn and act just like a human",
           "Winter 2025",
           "Active"
          ],
          [
           "ControlHub",
           "Purchasing Software | Procure-to-Pay SaaS ",
           "Winter 2021",
           "Active"
          ],
          [
           "JustPaid",
           "Billing Automation for B2B that actually works.",
           "Winter 2023",
           "Active"
          ],
          [
           "Scale AI",
           "Data-centric infrastructure to accelerate the development of AI ",
           "Summer 2016",
           "Active"
          ],
          [
           "Tranch",
           "Tranch is the invoice to payments platform for enterprises.",
           "Summer 2022",
           "Acquired"
          ],
          [
           "PagerDuty",
           "Real-time visibility into critical apps and services all in one place.",
           "Summer 2010",
           "Public"
          ],
          [
           "MarcoPolo",
           "Alibaba for Latin America",
           "Winter 2021",
           "Inactive"
          ],
          [
           "Honeydue",
           "The simplest way for couples to manage money, together",
           "Summer 2017",
           "Acquired"
          ],
          [
           "OctaveWealth",
           "The 401(k) that helps you grow",
           "Summer 2012",
           "Active"
          ],
          [
           "Altay Therapeutics",
           "Altay develops disease-modifying therapies targeting transcription…",
           "Winter 2020",
           "Active"
          ]
         ],
         "hovertemplate": "tsne_x=%{x}<br>tsne_y=%{y}<br>company_name=%{customdata[0]}<br>short_description=%{customdata[1]}<br>batch=%{customdata[2]}<br>status=%{customdata[3]}<br>Cluster=%{marker.color}<extra></extra>",
         "legendgroup": "",
         "marker": {
          "color": [
           11,
           6,
           1,
           1,
           5,
           0,
           10,
           1,
           6,
           13,
           5,
           5,
           13,
           5,
           1,
           11,
           11,
           0,
           5,
           3,
           14,
           3,
           9,
           1,
           1,
           11,
           7,
           5,
           6,
           1,
           11,
           15,
           2,
           2,
           5,
           1,
           5,
           9,
           9,
           16,
           3,
           13,
           5,
           1,
           0,
           10,
           12,
           2,
           15,
           6,
           11,
           8,
           1,
           10,
           0,
           3,
           1,
           13,
           14,
           3,
           10,
           13,
           3,
           5,
           2,
           9,
           11,
           1,
           5,
           0,
           10,
           1,
           4,
           13,
           1,
           11,
           1,
           9,
           8,
           7,
           11,
           13,
           7,
           5,
           3,
           16,
           5,
           16,
           14,
           6,
           11,
           9,
           11,
           0,
           15,
           0,
           3,
           15,
           2,
           9,
           4,
           9,
           3,
           11,
           10,
           14,
           7,
           9,
           7,
           5,
           2,
           5,
           9,
           1,
           13,
           9,
           9,
           1,
           1,
           9,
           5,
           1,
           13,
           10,
           10,
           14,
           6,
           14,
           7,
           13,
           4,
           4,
           5,
           0,
           14,
           11,
           3,
           12,
           1,
           13,
           5,
           1,
           15,
           11,
           1,
           7,
           11,
           3,
           13,
           13,
           13,
           2,
           1,
           14,
           1,
           6,
           3,
           13,
           3,
           1,
           16,
           1,
           14,
           10,
           9,
           1,
           1,
           7,
           11,
           14,
           13,
           5,
           12,
           3,
           16,
           12,
           9,
           13,
           9,
           12,
           3,
           1,
           1,
           0,
           3,
           9,
           1,
           13,
           6,
           4,
           6,
           10,
           5,
           1,
           6,
           1,
           1,
           11,
           0,
           9,
           11,
           9,
           16,
           1,
           1,
           7,
           6,
           0,
           5,
           6,
           1,
           5,
           1,
           3,
           6,
           15,
           5,
           7,
           15,
           14,
           13,
           5,
           12,
           11,
           14,
           1,
           12,
           9,
           4,
           5,
           6,
           15,
           6,
           3,
           8,
           13,
           1,
           13,
           1,
           1,
           0,
           13,
           12,
           0,
           11,
           1,
           1,
           14,
           0,
           16,
           1,
           13,
           2,
           7,
           0,
           1,
           1,
           13,
           6,
           3,
           6,
           9,
           1,
           0,
           5,
           13,
           6,
           9,
           10,
           3,
           12,
           1,
           13,
           0,
           14,
           9,
           7,
           1,
           1,
           11,
           5,
           12,
           13,
           16,
           12,
           14,
           0,
           1,
           15,
           15,
           15,
           1,
           12,
           10,
           9,
           5,
           7,
           6,
           9,
           3,
           1,
           3,
           16,
           11,
           12,
           9,
           4,
           5,
           12,
           15,
           2,
           14,
           3,
           6,
           13,
           14,
           11,
           13,
           13,
           13,
           12,
           14,
           3,
           9,
           3,
           14,
           14,
           1,
           0,
           13,
           11,
           9,
           2,
           10,
           5,
           0,
           10,
           1,
           0,
           11,
           9,
           2,
           10,
           14,
           4,
           3,
           6,
           13,
           1,
           1,
           1,
           15,
           12,
           0,
           13,
           9,
           12,
           3,
           9,
           9,
           1,
           15,
           9,
           12,
           14,
           0,
           0,
           0,
           7,
           13,
           9,
           10,
           6,
           10,
           1,
           10,
           4,
           9,
           0,
           4,
           6,
           0,
           5,
           16,
           16,
           1,
           1,
           1,
           2,
           6,
           4,
           5,
           2,
           1,
           13,
           11,
           13,
           12,
           3,
           6,
           0,
           6,
           11,
           6,
           5,
           1,
           11,
           14,
           11,
           11,
           1,
           1,
           14,
           16,
           1,
           3,
           16,
           7,
           2,
           5,
           0,
           6,
           13,
           14,
           10,
           9,
           16,
           16,
           9,
           3,
           10,
           2,
           10,
           11,
           7,
           16,
           13,
           5,
           10,
           9,
           9,
           7,
           12,
           9,
           3,
           1,
           1,
           1,
           14,
           13,
           3,
           7,
           13,
           3,
           16,
           4,
           3,
           13,
           10,
           10,
           4,
           16,
           0,
           12,
           13,
           1,
           3,
           5,
           11,
           11,
           10,
           5,
           11,
           6,
           10,
           10,
           9,
           3,
           1,
           11,
           1,
           11,
           13,
           16,
           14,
           12,
           10,
           16,
           0,
           7,
           1,
           3,
           1,
           12,
           5,
           11,
           9,
           10,
           10,
           7
          ],
          "coloraxis": "coloraxis",
          "opacity": 0.7,
          "size": 8,
          "symbol": "circle"
         },
         "mode": "markers",
         "name": "",
         "orientation": "v",
         "showlegend": false,
         "type": "scatter",
         "x": [
          3.2010586,
          9.042495,
          8.18764,
          -3.9312942,
          -22.489136,
          -11.912612,
          -5.6257815,
          1.3148825,
          -9.225184,
          6.299772,
          -21.63422,
          -20.787516,
          -6.7276835,
          -20.064201,
          -0.5959443,
          1.8871629,
          19.574844,
          -2.1070788,
          -22.860956,
          -8.122027,
          2.8127835,
          -6.9645433,
          -2.9799798,
          -1.4723643,
          4.5827737,
          -4.4064126,
          -21.785479,
          -21.818071,
          5.4093637,
          3.5875819,
          3.6561403,
          -12.758051,
          -0.88868254,
          20.654991,
          2.8415382,
          16.47717,
          -15.232265,
          -3.8453875,
          -4.504981,
          9.739062,
          -15.969894,
          12.423429,
          -19.045755,
          2.4033952,
          -5.4463305,
          -11.184385,
          13.016018,
          23.012318,
          -13.282422,
          11.6536665,
          3.6763597,
          11.342269,
          7.796204,
          -14.536621,
          3.3800333,
          -0.16340894,
          -1.3928367,
          11.666845,
          18.871265,
          -2.9658818,
          -2.7317894,
          11.262765,
          -16.099957,
          -16.354391,
          18.191051,
          -10.201445,
          -2.7317042,
          6.308237,
          -17.416483,
          -10.599925,
          -10.946755,
          7.808463,
          -4.7592764,
          20.914968,
          0.24109054,
          -6.433381,
          9.7934265,
          -9.887512,
          10.731481,
          -18.043331,
          19.927921,
          8.282249,
          -19.156483,
          -19.088991,
          0.036535542,
          6.9300365,
          -23.370747,
          8.450909,
          18.789015,
          11.424138,
          0.52654636,
          -7.889818,
          -2.9647696,
          -6.672157,
          -10.286497,
          -14.045308,
          -6.8402433,
          -14.599623,
          21.491714,
          -16.123127,
          3.4003346,
          -6.541547,
          -5.5892663,
          5.0891438,
          -24.284708,
          16.574312,
          -20.36842,
          -11.750871,
          -21.217976,
          -17.396172,
          18.57219,
          -18.279016,
          -8.228153,
          -1.2344981,
          6.007713,
          -12.174174,
          -10.528069,
          -16.268702,
          -0.9223753,
          -12.050743,
          -20.447565,
          3.0358365,
          7.6400456,
          17.0676,
          15.532721,
          13.248315,
          6.701908,
          15.120395,
          -20.88159,
          6.4013433,
          11.976228,
          2.8591888,
          -17.616858,
          -10.736297,
          18.08589,
          -0.42402261,
          -5.3039746,
          15.294171,
          2.108154,
          9.293836,
          -18.81708,
          3.4929376,
          -14.893169,
          4.652687,
          4.2638116,
          -19.51483,
          -10.46564,
          -2.6849895,
          21.156307,
          12.507392,
          11.520828,
          19.613512,
          16.97112,
          -1.9182419,
          9.94524,
          7.8040357,
          -5.017979,
          16.461128,
          -6.3835545,
          12.38828,
          6.1220613,
          8.6849575,
          17.945236,
          -23.220106,
          -11.972485,
          8.630148,
          7.633285,
          -18.474632,
          -3.3346763,
          15.104185,
          7.7519264,
          -19.079561,
          8.37447,
          -0.09370086,
          6.4006534,
          13.096997,
          0.32226077,
          11.718437,
          -13.425429,
          9.933995,
          -3.3644226,
          3.7080467,
          4.647167,
          2.4661844,
          -4.457283,
          -10.167313,
          7.8570013,
          11.905552,
          12.119653,
          11.519634,
          4.812233,
          1.0812112,
          -19.130905,
          9.810601,
          6.7746625,
          1.7682405,
          0.3139601,
          4.0861382,
          -5.8034315,
          -3.7662957,
          9.415307,
          -7.36811,
          5.7548428,
          0.12971476,
          -1.7065632,
          -19.880133,
          8.290464,
          -13.183606,
          -0.86874217,
          9.374692,
          0.7283295,
          -13.418123,
          6.0709124,
          -1.7303367,
          5.041883,
          -15.118595,
          -18.338602,
          -19.760275,
          -13.766891,
          17.831013,
          13.070635,
          -13.81354,
          11.708624,
          -0.14701779,
          19.967855,
          -16.883024,
          -2.3148549,
          -10.740563,
          8.957532,
          -17.61527,
          6.120054,
          -13.112257,
          -17.80146,
          -4.3225126,
          10.519393,
          11.695787,
          2.7783165,
          9.433285,
          0.11153399,
          13.335052,
          16.089222,
          6.0625625,
          8.265346,
          -24.113953,
          -7.601663,
          6.141069,
          2.2482,
          18.769081,
          1.793072,
          8.291687,
          15.619797,
          -1.2501609,
          20.171076,
          8.685225,
          -11.101602,
          16.330584,
          7.8628836,
          11.330388,
          10.8551855,
          -2.1750827,
          8.801981,
          -7.4122696,
          0.11594193,
          -2.1402712,
          -17.261238,
          13.659358,
          8.132756,
          -11.9047165,
          -11.494217,
          0.6908721,
          17.398346,
          4.0335755,
          -5.1078606,
          -8.532027,
          14.645309,
          -11.839312,
          -21.168474,
          10.333423,
          1.1916653,
          -2.1938782,
          -22.201124,
          16.604124,
          13.739723,
          7.3721795,
          9.878958,
          21.276217,
          -7.9975114,
          3.1240876,
          -13.587325,
          -14.083101,
          -11.999697,
          6.213812,
          6.4403563,
          -15.893154,
          -7.3986225,
          -15.855354,
          -18.001902,
          8.709214,
          -7.4632816,
          -11.312809,
          6.0913773,
          -3.4322765,
          10.781595,
          -4.1416416,
          14.185666,
          -2.9879878,
          12.095466,
          -18.31053,
          12.716886,
          -11.549668,
          18.602758,
          -0.027506076,
          -2.523419,
          8.352148,
          10.143094,
          -0.028336518,
          0.3541145,
          15.594562,
          3.7610102,
          9.5227165,
          19.176212,
          0.4119354,
          -6.321744,
          -23.135057,
          -6.735169,
          19.10793,
          16.350307,
          1.7871877,
          -8.558283,
          12.8605795,
          -2.464925,
          -13.467215,
          19.125555,
          -15.172926,
          -16.86799,
          -11.47965,
          -6.5368667,
          0.6635869,
          -7.0321703,
          2.8605268,
          -14.580393,
          22.186691,
          -18.43458,
          13.298175,
          2.6195908,
          -1.1926743,
          10.20657,
          14.142998,
          6.098383,
          1.9998308,
          7.425551,
          -13.072098,
          8.145737,
          1.458649,
          12.215696,
          5.385507,
          17.444805,
          -3.2764297,
          -13.141279,
          -10.184396,
          6.9765105,
          -11.480256,
          -4.486447,
          8.803437,
          17.840778,
          -12.732763,
          -6.589907,
          -8.006625,
          -20.871958,
          21.45703,
          -5.6287594,
          -5.023112,
          10.991399,
          -7.6748915,
          4.3505754,
          -13.8736725,
          1.8595301,
          -8.281863,
          -7.869652,
          6.5405025,
          9.991597,
          -4.6017995,
          -16.935389,
          3.3811407,
          7.0430264,
          0.19425094,
          6.2602077,
          4.153041,
          21.04811,
          11.42481,
          12.778078,
          -20.287426,
          20.834742,
          5.6327777,
          -7.270918,
          -0.67729414,
          7.8977795,
          10.945556,
          -4.446002,
          9.935255,
          -6.759928,
          13.943063,
          -2.4950442,
          12.793071,
          -22.398397,
          5.5411897,
          -0.13685516,
          18.417673,
          14.666671,
          -3.8905194,
          2.1305025,
          6.264658,
          -2.1574903,
          4.7544003,
          0.31109038,
          3.302571,
          14.523732,
          -19.812906,
          20.805048,
          -21.043083,
          -0.9655162,
          9.236467,
          5.6506653,
          14.337817,
          -6.318876,
          -11.086057,
          4.1842184,
          7.33915,
          -9.806022,
          -7.0438843,
          -5.3505654,
          21.720919,
          -14.815875,
          5.357303,
          -20.93408,
          8.634107,
          11.972168,
          -23.203882,
          -20.770195,
          -4.1277204,
          -5.5452156,
          -21.903927,
          7.5806813,
          -10.035322,
          -2.1003408,
          3.1879587,
          15.564812,
          5.599515,
          9.730482,
          8.419699,
          -4.1475406,
          -23.15003,
          -7.1761622,
          -6.042725,
          -18.50012,
          -15.430295,
          -4.4822783,
          15.251679,
          -22.689205,
          -8.137806,
          -0.18003061,
          12.063224,
          6.6706257,
          9.715776,
          10.109658,
          5.7894664,
          -16.134062,
          -18.387384,
          10.9225855,
          -12.494572,
          -14.093278,
          -20.14166,
          3.6191087,
          7.592631,
          -13.999779,
          -1.7752825,
          -10.939724,
          -5.8090405,
          3.1848648,
          6.522705,
          8.558487,
          -2.7742379,
          9.39275,
          9.49262,
          17.113672,
          8.263383,
          -11.572801,
          5.321514,
          -1.0273799,
          -17.871479,
          7.2632437,
          -8.109056,
          0.49064022,
          7.4999666,
          -15.213086,
          -1.7037386,
          -24.181517,
          -23.385906,
          -22.170233,
          -22.76964
         ],
         "xaxis": "x",
         "y": [
          17.704378,
          -14.862177,
          -1.83753,
          3.8846722,
          -8.647321,
          -16.092394,
          -6.118178,
          -4.097107,
          7.5049605,
          8.793996,
          -3.7098823,
          -3.5336883,
          -15.84141,
          -9.987146,
          6.848719,
          13.607443,
          3.0728192,
          4.653846,
          -8.313404,
          -1.8711044,
          14.778172,
          -13.202668,
          -17.331818,
          2.610228,
          -2.5147264,
          17.905651,
          10.590186,
          -11.018648,
          -13.595057,
          0.021417918,
          10.071672,
          17.656633,
          -12.29084,
          -6.395417,
          15.345314,
          -7.3321514,
          -7.783939,
          -0.3028781,
          -15.174357,
          -17.701939,
          -10.5170355,
          3.6731462,
          -5.000559,
          0.21274173,
          -7.119377,
          -2.0585408,
          1.8011893,
          -4.8012795,
          11.438719,
          -8.017307,
          12.98069,
          12.589361,
          4.914419,
          -1.9452881,
          -8.21062,
          -5.768245,
          1.6042793,
          7.285719,
          5.567397,
          8.436875,
          -7.085992,
          -4.258734,
          -16.394072,
          -6.3727117,
          -5.934238,
          -9.82029,
          9.287991,
          5.4384255,
          -9.684755,
          -13.882046,
          19.073647,
          3.6521568,
          1.6639018,
          1.0241097,
          8.658122,
          19.875666,
          -1.9706321,
          -10.048966,
          14.76426,
          10.089896,
          9.798015,
          11.308436,
          9.104959,
          -1.473006,
          -6.3674974,
          -15.971765,
          -4.394915,
          -20.850908,
          11.264711,
          -14.420092,
          10.8228245,
          -16.32684,
          6.7185683,
          -13.938331,
          15.09866,
          -4.7321596,
          2.09392,
          15.470678,
          -6.705515,
          -12.636867,
          -7.166795,
          7.5719643,
          -11.021316,
          -5.5153403,
          -3.725607,
          7.395045,
          9.291242,
          -17.525007,
          7.9805045,
          -9.6373005,
          -6.626072,
          -4.704358,
          -11.329953,
          -0.22680894,
          20.74055,
          -7.8015814,
          -4.169609,
          -3.791398,
          -1.7626488,
          5.436628,
          -4.969882,
          -2.2219565,
          18.604156,
          -11.469304,
          -8.264499,
          10.340959,
          -7.674057,
          9.430654,
          8.663946,
          10.40916,
          0.6893622,
          -20.354769,
          -2.6107578,
          -13.7215,
          12.638602,
          12.526569,
          -11.962773,
          2.7929742,
          5.7035837,
          6.00913,
          -7.242647,
          3.747438,
          16.383127,
          10.487097,
          3.1667292,
          11.045004,
          -8.863126,
          -8.4891405,
          -1.7319824,
          7.3087745,
          18.703268,
          -2.47545,
          -11.281777,
          -19.17005,
          -1.1580945,
          -10.621717,
          -2.5465796,
          2.4890213,
          -0.6713649,
          12.628504,
          -14.595005,
          -3.7067263,
          10.636835,
          -2.0748086,
          5.1497703,
          -6.0260396,
          -0.17438309,
          11.266632,
          10.772911,
          7.1870213,
          15.470793,
          -6.7222633,
          14.445826,
          16.058836,
          -17.984562,
          13.485338,
          -7.7896433,
          -4.0772214,
          -12.879915,
          8.428118,
          -4.868099,
          4.135456,
          2.837179,
          -6.4890056,
          3.592274,
          -11.465883,
          6.617825,
          18.31625,
          -10.177933,
          -0.0891482,
          8.596834,
          22.751905,
          -10.829625,
          4.661956,
          -9.310895,
          3.8613217,
          5.833239,
          12.183925,
          -6.902464,
          -17.27088,
          22.650951,
          -14.947278,
          -16.445467,
          1.0182889,
          4.41826,
          11.182007,
          -7.513854,
          -9.324631,
          -12.313523,
          -12.402253,
          2.8578591,
          -5.8935914,
          -1.5617485,
          -1.1921558,
          -14.139957,
          15.695549,
          -9.156031,
          9.542215,
          16.058163,
          13.403396,
          -4.1315484,
          -5.752931,
          2.2976172,
          13.590271,
          12.14735,
          -4.178672,
          -16.985466,
          1.3674871,
          9.780436,
          -2.3629878,
          -11.318424,
          17.225685,
          7.2931266,
          -10.437153,
          14.985707,
          8.769627,
          0.74162143,
          22.753956,
          0.3452054,
          13.8114395,
          -4.4484963,
          10.883219,
          2.2727973,
          -6.388319,
          10.345395,
          5.691435,
          -0.8854444,
          14.777863,
          -9.972154,
          -21.364876,
          -7.2633295,
          20.06185,
          -8.637672,
          -13.942273,
          -1.4685725,
          14.467119,
          1.2053937,
          6.152179,
          -8.914651,
          -1.9814785,
          -7.8650265,
          -18.236088,
          5.8439007,
          -11.16411,
          -7.461878,
          6.6980295,
          -13.907195,
          1.1900623,
          -3.269663,
          -1.8105931,
          -0.91388345,
          5.609698,
          4.9995756,
          3.126301,
          9.076749,
          -13.105818,
          11.9245615,
          3.452634,
          -1.9295753,
          9.951776,
          -10.61325,
          -1.175962,
          5.435017,
          -15.3516865,
          2.0251033,
          7.0083995,
          -8.404603,
          1.154195,
          18.761559,
          16.165215,
          11.698233,
          -0.22140406,
          3.4518168,
          3.0219963,
          -19.512392,
          -9.475377,
          9.05036,
          -11.570641,
          -19.108074,
          10.747825,
          2.372198,
          -2.4327874,
          -11.53658,
          10.18516,
          1.6277075,
          14.729337,
          -1.516442,
          -11.473922,
          1.5883704,
          19.87121,
          -7.1730285,
          15.465537,
          -3.9817278,
          -8.991034,
          -4.7737775,
          10.564611,
          18.66515,
          5.519759,
          6.749568,
          19.324635,
          -2.412098,
          13.984792,
          4.771684,
          5.618046,
          0.55853015,
          10.173611,
          12.9363165,
          1.125221,
          -15.806673,
          7.142875,
          20.17251,
          -12.881972,
          -5.5529394,
          -1.1394486,
          -7.943749,
          -18.626362,
          -5.277216,
          -0.6868806,
          13.04004,
          11.053905,
          -16.778341,
          -4.352798,
          -11.910649,
          10.196843,
          9.421423,
          -3.7664216,
          -12.381569,
          4.490866,
          2.193127,
          2.0846546,
          -0.5723986,
          19.023417,
          13.409587,
          -9.754487,
          19.057718,
          21.121807,
          -2.632365,
          -4.626286,
          -17.431307,
          -6.348465,
          1.670227,
          19.678188,
          -8.060222,
          3.3609018,
          6.110626,
          -9.369306,
          17.012909,
          -8.579133,
          8.462564,
          0.9063416,
          -14.474937,
          16.169025,
          -10.879763,
          -5.0595956,
          -0.9283436,
          1.0958843,
          7.3298335,
          -11.269155,
          2.686369,
          7.7979074,
          -17.5302,
          -17.16158,
          -5.965803,
          -9.887171,
          -16.561768,
          3.25344,
          -3.846568,
          1.1380997,
          -2.2943537,
          -14.129325,
          -0.214839,
          -8.0271015,
          -8.2757845,
          0.6729533,
          11.162641,
          8.221893,
          9.742577,
          11.554171,
          -4.353362,
          -7.506192,
          -9.381608,
          -14.011297,
          -18.322647,
          -13.414854,
          -6.5519156,
          1.2937102,
          21.135502,
          8.162329,
          1.1726243,
          13.709823,
          3.9239469,
          -1.5290664,
          15.206214,
          -17.355013,
          -0.25674525,
          -15.295363,
          -13.953005,
          12.241049,
          -6.932461,
          -6.3999434,
          -4.9882483,
          -9.703101,
          8.605245,
          4.2385707,
          16.925596,
          -19.493584,
          -13.929167,
          -17.772032,
          -17.490557,
          12.180772,
          7.519774,
          -3.9445105,
          -2.12183,
          14.346634,
          10.791188,
          -17.1871,
          4.8886666,
          -7.6317654,
          -1.3854736,
          -12.8969345,
          -17.041365,
          11.222421,
          14.44137,
          -11.242597,
          2.8811936,
          1.9815481,
          -0.96687967,
          6.0802975,
          23.900118,
          18.72056,
          -1.7253231,
          9.462717,
          4.9402595,
          -1.1904887,
          4.67024,
          8.941494,
          1.9283229,
          5.508376,
          -6.584742,
          -3.1629503,
          20.902409,
          -16.125574,
          16.388935,
          5.5570297,
          19.11002,
          4.42709,
          -16.375032,
          -3.726737,
          12.541425,
          6.394871,
          2.8903878,
          -1.5227721,
          17.806938,
          -9.477468,
          1.4052787,
          -9.293893,
          -11.424079,
          -2.6053321,
          -4.1951804,
          13.632908,
          9.728873,
          11.968892,
          0.37768984,
          -15.844309,
          13.198584,
          7.2418365,
          10.292491,
          -15.355762,
          -15.390213,
          7.3166294,
          3.287148,
          -3.2759054,
          -4.080028,
          14.249587,
          -5.360152,
          12.294597,
          -8.070216,
          -12.028275,
          -2.9128158,
          9.6472
         ],
         "yaxis": "y"
        }
       ],
       "layout": {
        "coloraxis": {
         "colorbar": {
          "title": {
           "text": "Cluster"
          }
         },
         "colorscale": [
          [
           0,
           "#440154"
          ],
          [
           0.1111111111111111,
           "#482878"
          ],
          [
           0.2222222222222222,
           "#3e4989"
          ],
          [
           0.3333333333333333,
           "#31688e"
          ],
          [
           0.4444444444444444,
           "#26828e"
          ],
          [
           0.5555555555555556,
           "#1f9e89"
          ],
          [
           0.6666666666666666,
           "#35b779"
          ],
          [
           0.7777777777777778,
           "#6ece58"
          ],
          [
           0.8888888888888888,
           "#b5de2b"
          ],
          [
           1,
           "#fde725"
          ]
         ]
        },
        "height": 700,
        "legend": {
         "tracegroupgap": 0
        },
        "template": {
         "data": {
          "bar": [
           {
            "error_x": {
             "color": "#2a3f5f"
            },
            "error_y": {
             "color": "#2a3f5f"
            },
            "marker": {
             "line": {
              "color": "#E5ECF6",
              "width": 0.5
             },
             "pattern": {
              "fillmode": "overlay",
              "size": 10,
              "solidity": 0.2
             }
            },
            "type": "bar"
           }
          ],
          "barpolar": [
           {
            "marker": {
             "line": {
              "color": "#E5ECF6",
              "width": 0.5
             },
             "pattern": {
              "fillmode": "overlay",
              "size": 10,
              "solidity": 0.2
             }
            },
            "type": "barpolar"
           }
          ],
          "carpet": [
           {
            "aaxis": {
             "endlinecolor": "#2a3f5f",
             "gridcolor": "white",
             "linecolor": "white",
             "minorgridcolor": "white",
             "startlinecolor": "#2a3f5f"
            },
            "baxis": {
             "endlinecolor": "#2a3f5f",
             "gridcolor": "white",
             "linecolor": "white",
             "minorgridcolor": "white",
             "startlinecolor": "#2a3f5f"
            },
            "type": "carpet"
           }
          ],
          "choropleth": [
           {
            "colorbar": {
             "outlinewidth": 0,
             "ticks": ""
            },
            "type": "choropleth"
           }
          ],
          "contour": [
           {
            "colorbar": {
             "outlinewidth": 0,
             "ticks": ""
            },
            "colorscale": [
             [
              0,
              "#0d0887"
             ],
             [
              0.1111111111111111,
              "#46039f"
             ],
             [
              0.2222222222222222,
              "#7201a8"
             ],
             [
              0.3333333333333333,
              "#9c179e"
             ],
             [
              0.4444444444444444,
              "#bd3786"
             ],
             [
              0.5555555555555556,
              "#d8576b"
             ],
             [
              0.6666666666666666,
              "#ed7953"
             ],
             [
              0.7777777777777778,
              "#fb9f3a"
             ],
             [
              0.8888888888888888,
              "#fdca26"
             ],
             [
              1,
              "#f0f921"
             ]
            ],
            "type": "contour"
           }
          ],
          "contourcarpet": [
           {
            "colorbar": {
             "outlinewidth": 0,
             "ticks": ""
            },
            "type": "contourcarpet"
           }
          ],
          "heatmap": [
           {
            "colorbar": {
             "outlinewidth": 0,
             "ticks": ""
            },
            "colorscale": [
             [
              0,
              "#0d0887"
             ],
             [
              0.1111111111111111,
              "#46039f"
             ],
             [
              0.2222222222222222,
              "#7201a8"
             ],
             [
              0.3333333333333333,
              "#9c179e"
             ],
             [
              0.4444444444444444,
              "#bd3786"
             ],
             [
              0.5555555555555556,
              "#d8576b"
             ],
             [
              0.6666666666666666,
              "#ed7953"
             ],
             [
              0.7777777777777778,
              "#fb9f3a"
             ],
             [
              0.8888888888888888,
              "#fdca26"
             ],
             [
              1,
              "#f0f921"
             ]
            ],
            "type": "heatmap"
           }
          ],
          "heatmapgl": [
           {
            "colorbar": {
             "outlinewidth": 0,
             "ticks": ""
            },
            "colorscale": [
             [
              0,
              "#0d0887"
             ],
             [
              0.1111111111111111,
              "#46039f"
             ],
             [
              0.2222222222222222,
              "#7201a8"
             ],
             [
              0.3333333333333333,
              "#9c179e"
             ],
             [
              0.4444444444444444,
              "#bd3786"
             ],
             [
              0.5555555555555556,
              "#d8576b"
             ],
             [
              0.6666666666666666,
              "#ed7953"
             ],
             [
              0.7777777777777778,
              "#fb9f3a"
             ],
             [
              0.8888888888888888,
              "#fdca26"
             ],
             [
              1,
              "#f0f921"
             ]
            ],
            "type": "heatmapgl"
           }
          ],
          "histogram": [
           {
            "marker": {
             "pattern": {
              "fillmode": "overlay",
              "size": 10,
              "solidity": 0.2
             }
            },
            "type": "histogram"
           }
          ],
          "histogram2d": [
           {
            "colorbar": {
             "outlinewidth": 0,
             "ticks": ""
            },
            "colorscale": [
             [
              0,
              "#0d0887"
             ],
             [
              0.1111111111111111,
              "#46039f"
             ],
             [
              0.2222222222222222,
              "#7201a8"
             ],
             [
              0.3333333333333333,
              "#9c179e"
             ],
             [
              0.4444444444444444,
              "#bd3786"
             ],
             [
              0.5555555555555556,
              "#d8576b"
             ],
             [
              0.6666666666666666,
              "#ed7953"
             ],
             [
              0.7777777777777778,
              "#fb9f3a"
             ],
             [
              0.8888888888888888,
              "#fdca26"
             ],
             [
              1,
              "#f0f921"
             ]
            ],
            "type": "histogram2d"
           }
          ],
          "histogram2dcontour": [
           {
            "colorbar": {
             "outlinewidth": 0,
             "ticks": ""
            },
            "colorscale": [
             [
              0,
              "#0d0887"
             ],
             [
              0.1111111111111111,
              "#46039f"
             ],
             [
              0.2222222222222222,
              "#7201a8"
             ],
             [
              0.3333333333333333,
              "#9c179e"
             ],
             [
              0.4444444444444444,
              "#bd3786"
             ],
             [
              0.5555555555555556,
              "#d8576b"
             ],
             [
              0.6666666666666666,
              "#ed7953"
             ],
             [
              0.7777777777777778,
              "#fb9f3a"
             ],
             [
              0.8888888888888888,
              "#fdca26"
             ],
             [
              1,
              "#f0f921"
             ]
            ],
            "type": "histogram2dcontour"
           }
          ],
          "mesh3d": [
           {
            "colorbar": {
             "outlinewidth": 0,
             "ticks": ""
            },
            "type": "mesh3d"
           }
          ],
          "parcoords": [
           {
            "line": {
             "colorbar": {
              "outlinewidth": 0,
              "ticks": ""
             }
            },
            "type": "parcoords"
           }
          ],
          "pie": [
           {
            "automargin": true,
            "type": "pie"
           }
          ],
          "scatter": [
           {
            "fillpattern": {
             "fillmode": "overlay",
             "size": 10,
             "solidity": 0.2
            },
            "type": "scatter"
           }
          ],
          "scatter3d": [
           {
            "line": {
             "colorbar": {
              "outlinewidth": 0,
              "ticks": ""
             }
            },
            "marker": {
             "colorbar": {
              "outlinewidth": 0,
              "ticks": ""
             }
            },
            "type": "scatter3d"
           }
          ],
          "scattercarpet": [
           {
            "marker": {
             "colorbar": {
              "outlinewidth": 0,
              "ticks": ""
             }
            },
            "type": "scattercarpet"
           }
          ],
          "scattergeo": [
           {
            "marker": {
             "colorbar": {
              "outlinewidth": 0,
              "ticks": ""
             }
            },
            "type": "scattergeo"
           }
          ],
          "scattergl": [
           {
            "marker": {
             "colorbar": {
              "outlinewidth": 0,
              "ticks": ""
             }
            },
            "type": "scattergl"
           }
          ],
          "scattermapbox": [
           {
            "marker": {
             "colorbar": {
              "outlinewidth": 0,
              "ticks": ""
             }
            },
            "type": "scattermapbox"
           }
          ],
          "scatterpolar": [
           {
            "marker": {
             "colorbar": {
              "outlinewidth": 0,
              "ticks": ""
             }
            },
            "type": "scatterpolar"
           }
          ],
          "scatterpolargl": [
           {
            "marker": {
             "colorbar": {
              "outlinewidth": 0,
              "ticks": ""
             }
            },
            "type": "scatterpolargl"
           }
          ],
          "scatterternary": [
           {
            "marker": {
             "colorbar": {
              "outlinewidth": 0,
              "ticks": ""
             }
            },
            "type": "scatterternary"
           }
          ],
          "surface": [
           {
            "colorbar": {
             "outlinewidth": 0,
             "ticks": ""
            },
            "colorscale": [
             [
              0,
              "#0d0887"
             ],
             [
              0.1111111111111111,
              "#46039f"
             ],
             [
              0.2222222222222222,
              "#7201a8"
             ],
             [
              0.3333333333333333,
              "#9c179e"
             ],
             [
              0.4444444444444444,
              "#bd3786"
             ],
             [
              0.5555555555555556,
              "#d8576b"
             ],
             [
              0.6666666666666666,
              "#ed7953"
             ],
             [
              0.7777777777777778,
              "#fb9f3a"
             ],
             [
              0.8888888888888888,
              "#fdca26"
             ],
             [
              1,
              "#f0f921"
             ]
            ],
            "type": "surface"
           }
          ],
          "table": [
           {
            "cells": {
             "fill": {
              "color": "#EBF0F8"
             },
             "line": {
              "color": "white"
             }
            },
            "header": {
             "fill": {
              "color": "#C8D4E3"
             },
             "line": {
              "color": "white"
             }
            },
            "type": "table"
           }
          ]
         },
         "layout": {
          "annotationdefaults": {
           "arrowcolor": "#2a3f5f",
           "arrowhead": 0,
           "arrowwidth": 1
          },
          "autotypenumbers": "strict",
          "coloraxis": {
           "colorbar": {
            "outlinewidth": 0,
            "ticks": ""
           }
          },
          "colorscale": {
           "diverging": [
            [
             0,
             "#8e0152"
            ],
            [
             0.1,
             "#c51b7d"
            ],
            [
             0.2,
             "#de77ae"
            ],
            [
             0.3,
             "#f1b6da"
            ],
            [
             0.4,
             "#fde0ef"
            ],
            [
             0.5,
             "#f7f7f7"
            ],
            [
             0.6,
             "#e6f5d0"
            ],
            [
             0.7,
             "#b8e186"
            ],
            [
             0.8,
             "#7fbc41"
            ],
            [
             0.9,
             "#4d9221"
            ],
            [
             1,
             "#276419"
            ]
           ],
           "sequential": [
            [
             0,
             "#0d0887"
            ],
            [
             0.1111111111111111,
             "#46039f"
            ],
            [
             0.2222222222222222,
             "#7201a8"
            ],
            [
             0.3333333333333333,
             "#9c179e"
            ],
            [
             0.4444444444444444,
             "#bd3786"
            ],
            [
             0.5555555555555556,
             "#d8576b"
            ],
            [
             0.6666666666666666,
             "#ed7953"
            ],
            [
             0.7777777777777778,
             "#fb9f3a"
            ],
            [
             0.8888888888888888,
             "#fdca26"
            ],
            [
             1,
             "#f0f921"
            ]
           ],
           "sequentialminus": [
            [
             0,
             "#0d0887"
            ],
            [
             0.1111111111111111,
             "#46039f"
            ],
            [
             0.2222222222222222,
             "#7201a8"
            ],
            [
             0.3333333333333333,
             "#9c179e"
            ],
            [
             0.4444444444444444,
             "#bd3786"
            ],
            [
             0.5555555555555556,
             "#d8576b"
            ],
            [
             0.6666666666666666,
             "#ed7953"
            ],
            [
             0.7777777777777778,
             "#fb9f3a"
            ],
            [
             0.8888888888888888,
             "#fdca26"
            ],
            [
             1,
             "#f0f921"
            ]
           ]
          },
          "colorway": [
           "#636efa",
           "#EF553B",
           "#00cc96",
           "#ab63fa",
           "#FFA15A",
           "#19d3f3",
           "#FF6692",
           "#B6E880",
           "#FF97FF",
           "#FECB52"
          ],
          "font": {
           "color": "#2a3f5f"
          },
          "geo": {
           "bgcolor": "white",
           "lakecolor": "white",
           "landcolor": "#E5ECF6",
           "showlakes": true,
           "showland": true,
           "subunitcolor": "white"
          },
          "hoverlabel": {
           "align": "left"
          },
          "hovermode": "closest",
          "mapbox": {
           "style": "light"
          },
          "paper_bgcolor": "white",
          "plot_bgcolor": "#E5ECF6",
          "polar": {
           "angularaxis": {
            "gridcolor": "white",
            "linecolor": "white",
            "ticks": ""
           },
           "bgcolor": "#E5ECF6",
           "radialaxis": {
            "gridcolor": "white",
            "linecolor": "white",
            "ticks": ""
           }
          },
          "scene": {
           "xaxis": {
            "backgroundcolor": "#E5ECF6",
            "gridcolor": "white",
            "gridwidth": 2,
            "linecolor": "white",
            "showbackground": true,
            "ticks": "",
            "zerolinecolor": "white"
           },
           "yaxis": {
            "backgroundcolor": "#E5ECF6",
            "gridcolor": "white",
            "gridwidth": 2,
            "linecolor": "white",
            "showbackground": true,
            "ticks": "",
            "zerolinecolor": "white"
           },
           "zaxis": {
            "backgroundcolor": "#E5ECF6",
            "gridcolor": "white",
            "gridwidth": 2,
            "linecolor": "white",
            "showbackground": true,
            "ticks": "",
            "zerolinecolor": "white"
           }
          },
          "shapedefaults": {
           "line": {
            "color": "#2a3f5f"
           }
          },
          "ternary": {
           "aaxis": {
            "gridcolor": "white",
            "linecolor": "white",
            "ticks": ""
           },
           "baxis": {
            "gridcolor": "white",
            "linecolor": "white",
            "ticks": ""
           },
           "bgcolor": "#E5ECF6",
           "caxis": {
            "gridcolor": "white",
            "linecolor": "white",
            "ticks": ""
           }
          },
          "title": {
           "x": 0.05
          },
          "xaxis": {
           "automargin": true,
           "gridcolor": "white",
           "linecolor": "white",
           "ticks": "",
           "title": {
            "standoff": 15
           },
           "zerolinecolor": "white",
           "zerolinewidth": 2
          },
          "yaxis": {
           "automargin": true,
           "gridcolor": "white",
           "linecolor": "white",
           "ticks": "",
           "title": {
            "standoff": 15
           },
           "zerolinecolor": "white",
           "zerolinewidth": 2
          }
         }
        },
        "title": {
         "text": "t-SNE Visualization - K-means Clusters (K=17)"
        },
        "width": 1000,
        "xaxis": {
         "anchor": "y",
         "domain": [
          0,
          1
         ],
         "title": {
          "text": "tsne_x"
         }
        },
        "yaxis": {
         "anchor": "x",
         "domain": [
          0,
          1
         ],
         "title": {
          "text": "tsne_y"
         }
        }
       }
      }
     },
     "metadata": {},
     "output_type": "display_data"
    }
   ],
   "source": [
    "# Interactive t-SNE plot with K-means clusters\n",
    "fig = px.scatter(\n",
    "    df_sample,\n",
    "    x='tsne_x',\n",
    "    y='tsne_y',\n",
    "    color='cluster_kmeans',\n",
    "    hover_data=['company_name', 'short_description', 'batch', 'status'],\n",
    "    title=f't-SNE Visualization - K-means Clusters (K={optimal_k})',\n",
    "    labels={'cluster_kmeans': 'Cluster'},\n",
    "    color_continuous_scale='viridis'\n",
    ")\n",
    "\n",
    "fig.update_traces(marker=dict(size=8, opacity=0.7))\n",
    "fig.update_layout(height=700, width=1000)\n",
    "fig.show()"
   ]
  },
  {
   "cell_type": "code",
   "execution_count": 13,
   "metadata": {},
   "outputs": [
    {
     "data": {
      "application/vnd.plotly.v1+json": {
       "config": {
        "plotlyServerURL": "https://plot.ly"
       },
       "data": [
        {
         "customdata": [
          [
           "StackMachine",
           "Instant sandboxed server environments",
           "Summer 2013",
           "Inactive"
          ],
          [
           "Pair Team",
           "Connecting underserved communities to high quality care",
           "Summer 2019",
           "Active"
          ],
          [
           "Ficra",
           "Real time, source of truth for every product screen and user flow",
           "Summer 2024",
           "Active"
          ],
          [
           "Opusense AI",
           "AI for Field Inspection Reports",
           "Spring 2025",
           "Active"
          ],
          [
           "Conta Simples",
           "All-in-one financial platform for latam Startups and SMBs.",
           "Summer 2020",
           "Active"
          ],
          [
           "No Lean Season",
           "A bus ticket out of poverty",
           "Winter 2017",
           "Inactive"
          ],
          [
           "Checkr",
           "People infrastructure for the future of work",
           "Summer 2014",
           "Active"
          ],
          [
           "Dimely",
           "AI agents for B2B SaaS Finance Teams",
           "Summer 2024",
           "Active"
          ],
          [
           "Centaur Labs",
           "Labeling medical data at scale",
           "Winter 2019",
           "Active"
          ],
          [
           "PromptArmor",
           "LLM Security and Compliance",
           "Winter 2024",
           "Active"
          ],
          [
           "Finary.com",
           "The new wealth manager for Europe",
           "Winter 2021",
           "Active"
          ],
          [
           "Whiz",
           "Transforming Finances, Maximizing Your Money Potential.",
           "Winter 2022",
           "Inactive"
          ],
          [
           "RADAR",
           "RADAR is building technology to completely transform the in-store…",
           "Winter 2013",
           "Active"
          ],
          [
           "Elevate (formerly Bloom)",
           "US based USD accounts for non-US residents ",
           "Winter 2022",
           "Active"
          ],
          [
           "Amiato",
           "The BI bridge for unstructured data. We automatically bridge the gap…",
           "Winter 2012",
           "Acquired"
          ],
          [
           "QuickNode",
           "Tools & infra to build and scale high-quality blockchain applications.",
           "Winter 2021",
           "Active"
          ],
          [
           "EdgeBit",
           "Autofix your software dependencies",
           "Winter 2023",
           "Acquired"
          ],
          [
           "Upsolve",
           "Helping low-income Americans overcome debt and rebuild credit at…",
           "Winter 2019",
           "Active"
          ],
          [
           "Treinta",
           "Digital ledger App for Latam microbusinesses",
           "Winter 2021",
           "Active"
          ],
          [
           "Profig",
           "The phone system for businesses. Manage everything from your company…",
           "Summer 2012",
           "Inactive"
          ],
          [
           "Operator Labs",
           "Building protocols for the intelligent, decentralized web.",
           "Winter 2020",
           "Active"
          ],
          [
           "FlexDesk",
           "One platform for corporate occupiers to manage their office portfolios",
           "Winter 2023",
           "Active"
          ],
          [
           "ClipDrop",
           "Turn regular mobile photos into professional product visuals",
           "Winter 2021",
           "Acquired"
          ],
          [
           "OpenSight",
           "AI-powered customer support automation for fast-growing companies",
           "Winter 2023",
           "Inactive"
          ],
          [
           "Onward",
           "Intelligent meeting automation for ambitious teams.",
           "Summer 2023",
           "Inactive"
          ],
          [
           "BarSense",
           "Kid's first smartphone with web-based parental controls.",
           "Winter 2012",
           "Inactive"
          ],
          [
           "Alixia",
           "Targeting the Tumor Ecosystem to address cancer drug resistance.",
           "Winter 2022",
           "Active"
          ],
          [
           "Fuse",
           "Unified API for financial data aggregators.",
           "Winter 2019",
           "Inactive"
          ],
          [
           "HealthSherpa",
           "Private sector Healthcare.gov. ",
           "Summer 2012",
           "Active"
          ],
          [
           "Lua Global Inc",
           "Self-Serve AI powered Sales, Support & Booking Agents",
           "Fall 2025",
           "Active"
          ],
          [
           "Alter",
           "Secure access control and authorization platform for agent workflows",
           "Summer 2025",
           "Active"
          ],
          [
           "OutSail Technologies",
           "Revolutionary, Modern Wing Sails",
           "Winter 2023",
           "Inactive"
          ],
          [
           "GiveCampus",
           "The fundraising platform for schools.",
           "Summer 2015",
           "Active"
          ],
          [
           "OpenCurriculum",
           "Helping K-12 teachers and school administrators build awesome…",
           "Winter 2014",
           "Active"
          ],
          [
           "Algofi",
           "Building the new financial system",
           "Summer 2021",
           "Inactive"
          ],
          [
           "AntWalk",
           "An employee up-skilling platform for fast growing companies",
           "Winter 2022",
           "Inactive"
          ],
          [
           "GroMo",
           "App for independent agents to sell financial products in India",
           "Winter 2021",
           "Active"
          ],
          [
           "DGI Apparel",
           "Expedia for ordering blank apparel",
           "Winter 2024",
           "Inactive"
          ],
          [
           "Popcuts",
           "Popcuts is an online music store where fans participate in the…",
           "Summer 2008",
           "Inactive"
          ],
          [
           "Blueberry Pediatrics",
           "24/7 pediatric clinic in every family's living room",
           "Winter 2018",
           "Active"
          ],
          [
           "Topship",
           "Flexport for African Merchants - Building the OS for Global Logistics",
           "Winter 2022",
           "Active"
          ],
          [
           "Fume",
           "We are building the AI Software Developer",
           "Winter 2024",
           "Active"
          ],
          [
           "SmartPath",
           "Financial wellness for the middle class",
           "Summer 2016",
           "Active"
          ],
          [
           "Imagine AI",
           "AI agent that handles all of your B2B content needs",
           "Fall 2025",
           "Active"
          ],
          [
           "HigherMe",
           "Helping restaurant employers find & hire better employees faster",
           "Winter 2015",
           "Acquired"
          ],
          [
           "Cribspot",
           "Tech-Enabled Real Estate Company (YC W15)",
           "Winter 2015",
           "Inactive"
          ],
          [
           "FlowiseAI",
           "Open source GenAI development platform",
           "Summer 2023",
           "Acquired"
          ],
          [
           "Durioo",
           "Streaming Platform for Muslim Children",
           "Winter 2022",
           "Active"
          ],
          [
           "Perl Street",
           "Financing the next-generation of infrastructure projects",
           "Winter 2022",
           "Active"
          ],
          [
           "Newton",
           "AI-powered phone platform for dentists",
           "Winter 2024",
           "Active"
          ],
          [
           "Kernel",
           "Crazy Fast Browsers-as-a-Service",
           "Summer 2025",
           "Active"
          ],
          [
           "Langfuse",
           "Open source LLM engineering platform",
           "Winter 2023",
           "Active"
          ],
          [
           "IvyCheck",
           "Clean and enrich your data 10x faster",
           "Summer 2022",
           "Active"
          ],
          [
           "CoinTracker",
           "The gold standard in cryptocurrency portfolio tracking and taxes",
           "Winter 2018",
           "Active"
          ],
          [
           "Rhythmm",
           "Read interesting conversations",
           "Winter 2018",
           "Inactive"
          ],
          [
           "Backdrop",
           "Vertical SaaS for $650B+ Film, TV, Music & Event Production Industry ",
           "Winter 2023",
           "Active"
          ],
          [
           "Overstand Labs",
           "We help business leaders get back into Founder Mode",
           "Winter 2025",
           "Active"
          ],
          [
           "Bronco AI",
           "AI for ASIC Design Verification",
           "Summer 2023",
           "Active"
          ],
          [
           "Stamp",
           "The AI Native Email Client",
           "Winter 2025",
           "Active"
          ],
          [
           "Worklytics",
           "Analytics to improve how teams work and collaborate",
           "Winter 2018",
           "Active"
          ],
          [
           "Cabal",
           "Private workspace for founders, investors, and advisors to collaborate",
           "Summer 2021",
           "Active"
          ],
          [
           "ComplyDo",
           "More Comply, Less Do. Most flexible compliance engine for enterprises.",
           "Fall 2025",
           "Active"
          ],
          [
           "Flightfox",
           "A platform to plan, book and manage global and group travel.",
           "Summer 2012",
           "Active"
          ],
          [
           "BharatX",
           "Enable Buy-Now-Pay-Later in a White-Labelled Manner",
           "Winter 2022",
           "Acquired"
          ],
          [
           "Bloom Institute of Technology",
           "The online coding school that invests in you.",
           "Summer 2017",
           "Active"
          ],
          [
           "Hideout",
           "A portfolio of delivery-only restaurant brands",
           "Winter 2020",
           "Inactive"
          ],
          [
           "Haystack",
           "Delivery Analytics for Software Teams",
           "Winter 2021",
           "Active"
          ],
          [
           "SRE.ai",
           "AI DevOps Agents",
           "Fall 2024",
           "Active"
          ],
          [
           "Partna",
           "Your Global payments partner for Africa",
           "Winter 2022",
           "Active"
          ],
          [
           "yhangry",
           "Marketplace for private chefs",
           "Winter 2022",
           "Active"
          ],
          [
           "Care Weather",
           "The highest-accuracy global weather data from low-cost flat satellites",
           "Winter 2021",
           "Active"
          ],
          [
           "Credal.ai",
           "Harness Frontier Intelligence by building AI assistants that can…",
           "Winter 2023",
           "Active"
          ],
          [
           "Matidor.com",
           "Project management on a live map",
           "Summer 2021",
           "Active"
          ],
          [
           "Stacksi",
           "Automated Answers to Security Questionnaires",
           "Winter 2021",
           "Acquired"
          ],
          [
           "Dot",
           "Chat with your Data Warehouse",
           "Summer 2021",
           "Active"
          ],
          [
           "GazeHawk",
           "Eyetracking using webcams.",
           "Summer 2010",
           "Acquired"
          ],
          [
           "Fragment",
           "Turn manual operations into scalable processes",
           "Summer 2023",
           "Active"
          ],
          [
           "OneStopKitchen",
           "AI-Driven Tech & Space Optimization to Scale Restaurants",
           "Summer 2021",
           "Active"
          ],
          [
           "TrainLoop",
           "Reasoning Fine-Tuning",
           "Winter 2025",
           "Active"
          ],
          [
           "Kilobaser",
           "Desktop DNA Printer. The Nespresso Machine for DNA.",
           "Winter 2021",
           "Active"
          ],
          [
           "Termius",
           "Termius is an SSH client with team collaboration features",
           "Winter 2019",
           "Active"
          ],
          [
           "Roundabout Technologies",
           "Software for AI-powered traffic lights",
           "Fall 2024",
           "Active"
          ],
          [
           "Nomic Bio",
           "Nomic is doing for proteins what Illumina has done for DNA",
           "Winter 2020",
           "Active"
          ],
          [
           "Lendflow",
           "Embedded lending infrastructure for software companies",
           "Winter 2021",
           "Active"
          ],
          [
           "Cinapse",
           "The Operating System of Hollywood",
           "Winter 2022",
           "Active"
          ],
          [
           "Farmako Healthcare",
           "India's fastest medicine delivery in just 30 minutes",
           "Summer 2020",
           "Active"
          ],
          [
           "Soon",
           "Automated sweep account, invest without the stress of speculating",
           "Winter 2022",
           "Active"
          ],
          [
           "Loula",
           "Enabling birth & postpartum doulas to easily accept Medicaid",
           "Winter 2023",
           "Active"
          ],
          [
           "Clover",
           "The all-in-one notebook for creatives to brainstorm, write, and plan…",
           "Summer 2020",
           "Acquired"
          ],
          [
           "MedXT",
           "Radiology in the cloud.  X-rays, CAT scans, MRI's, and…",
           "Winter 2013",
           "Acquired"
          ],
          [
           "Quill",
           "Fullstack API and management platform for dashboards and reporting",
           "Winter 2020",
           "Active"
          ],
          [
           "Rare Door",
           "Empowering brick-and-mortar retailers to sell more and engage shoppers",
           "Winter 2015",
           "Inactive"
          ],
          [
           "Hyrex",
           "The COLD Task Framework",
           "Summer 2024",
           "Active"
          ],
          [
           "flexEngage",
           "Dynamic transactional communications for physical stores to help…",
           "Winter 2016",
           "Acquired"
          ],
          [
           "CircuitHub",
           "On-Demand Electronics Manufacturing",
           "Winter 2012",
           "Active"
          ],
          [
           "Stripe",
           "Economic infrastructure for the internet.",
           "Summer 2009",
           "Active"
          ],
          [
           "Bluelight",
           "Analytics, built for the trades.",
           "Winter 2021",
           "Active"
          ],
          [
           "Advano",
           "Advano is a battery technology company that improve the longevity of…",
           "Summer 2017",
           "Active"
          ],
          [
           "Mystery.org",
           "We help kids stay curious by creating better explanations.",
           "Summer 2017",
           "Acquired"
          ],
          [
           "Peeba",
           "Risk-free wholesale for retailers across Southeast Asia",
           "Winter 2023",
           "Active"
          ],
          [
           "Mayhem",
           "Mayhem is the easiest way to play with your gaming community.",
           "Winter 2018",
           "Acquired"
          ],
          [
           "LVL6",
           "We make mobile MMOs. ",
           "Winter 2012",
           "Inactive"
          ],
          [
           "Symple",
           "Last mile logistics for delivery & service teams. We bring real-time…",
           "Summer 2016",
           "Acquired"
          ],
          [
           "Wavedash",
           "Play the latest games in your browser with no downloads",
           "Spring 2025",
           "Active"
          ],
          [
           "Sunset",
           "Find and move money after a death",
           "Fall 2024",
           "Active"
          ],
          [
           "Variant",
           "Creative intelligence",
           "Fall 2024",
           "Active"
          ],
          [
           "SynsoryBio",
           "\"If-then\" conditional logic for protein drugs",
           "Winter 2024",
           "Active"
          ],
          [
           "Backpack",
           "Marketplace to get stuff from overseas",
           "Summer 2014",
           "Active"
          ],
          [
           "ParcelBio",
           "Next-generation mRNA medicines",
           "Winter 2024",
           "Active"
          ],
          [
           "Plumter",
           "Easy foreign payments for African merchants",
           "Winter 2022",
           "Active"
          ],
          [
           "Coderhouse",
           "Effective and accessible online live education.",
           "Winter 2021",
           "Active"
          ],
          [
           "CapWay",
           "Inclusive financial technology service provider.",
           "Summer 2020",
           "Inactive"
          ],
          [
           "Transformity",
           "Point-of-sale & Vertical SaaS for the $75B Liquor Industry",
           "Summer 2023",
           "Active"
          ],
          [
           "Breadcrumbs.io",
           "No-code scoring engine identifying your most engaged upsell opps",
           "Summer 2021",
           "Active"
          ],
          [
           "lvl5",
           "HD maps for self-driving cars.",
           "Winter 2017",
           "Acquired"
          ],
          [
           "Seva Coffee",
           "We're changing the world of coffee, one personalized cup at a time.",
           "Summer 2015",
           "Inactive"
          ],
          [
           "Sakneen",
           "Shopify for Real Estate Developers",
           "Winter 2020",
           "Active"
          ],
          [
           "Coris",
           "AI-powered risk platform for Payment Providers, Banks, SaaS platforms…",
           "Summer 2022",
           "Active"
          ],
          [
           "Unhaze",
           "The right leads at the right time for B2B sales",
           "Summer 2023",
           "Inactive"
          ],
          [
           "Wifi Dabba, Inc.",
           "Decentralised broadband connectivity.",
           "Winter 2017",
           "Active"
          ],
          [
           "Letter",
           "Beautifully designed banking for high net-worth individuals.",
           "Summer 2020",
           "Inactive"
          ],
          [
           "Talentropy.ai",
           "AI solution that streamlines candidate screening and recruitment",
           "Winter 2022",
           "Active"
          ],
          [
           "Flywheel AI",
           "Waymo for excavators",
           "Summer 2025",
           "Active"
          ],
          [
           "Khabri",
           "India's Largest Podcast Platform",
           "Summer 2019",
           "Inactive"
          ],
          [
           "Hickory",
           "Hickory turns your employees into experts.",
           "Summer 2015",
           "Inactive"
          ],
          [
           "Axolo",
           "Improving Developer Experience with Streamlined Code Reviews",
           "Winter 2021",
           "Active"
          ],
          [
           "Attunement",
           "Automation workflow for psychiatric assessments.",
           "Winter 2024",
           "Active"
          ],
          [
           "Vibe Code Go",
           "Code from your phone",
           "Summer 2025",
           "Active"
          ],
          [
           "Serna Bio",
           "Genetic Medicine with Small Molecules ",
           "Winter 2021",
           "Active"
          ],
          [
           "Variance",
           "World-Class Tooling for Trust & Safety teams",
           "Winter 2023",
           "Active"
          ],
          [
           "Manaflow",
           "Build internal tools for AI using natural language",
           "Summer 2024",
           "Active"
          ],
          [
           "Landeed",
           "Landeed is India's fastest property title search engine ",
           "Summer 2022",
           "Active"
          ],
          [
           "Nova Credit",
           "Bridging a world of consumer-permissioned credit data",
           "Summer 2016",
           "Active"
          ],
          [
           "Shef",
           "Shef is a Marketplace for Homemade Food",
           "Winter 2019",
           "Active"
          ],
          [
           "Curvenote",
           "Communication and publishing tools for scientists",
           "Winter 2021",
           "Active"
          ],
          [
           "Doppler",
           "The first SecretOps Platform.",
           "Winter 2019",
           "Active"
          ],
          [
           "SkydropX",
           "Logistic Management System for E-commerce & Retail in Mexico. ",
           "Summer 2018",
           "Active"
          ],
          [
           "Pythagora",
           "Worlds first all-in-one AI development platform.",
           "Winter 2024",
           "Active"
          ],
          [
           "Browser Buddy",
           "Internet discovery engine",
           "Winter 2024",
           "Active"
          ],
          [
           "LineWise",
           "AI Agent to troubleshoot manufacturing issues",
           "Spring 2025",
           "Active"
          ],
          [
           "Prospa",
           "Banking for businesses in Nigeria",
           "Winter 2021",
           "Active"
          ],
          [
           "Approval AI",
           "One-click mortgage: AI shops, negotiates, and handles your application",
           "Spring 2025",
           "Active"
          ],
          [
           "Enerjazz",
           "Making electric vehicle batteries affordable ",
           "Summer 2021",
           "Active"
          ],
          [
           "Infisical",
           "Unified platform for secrets, certs, and privileged access management",
           "Winter 2023",
           "Active"
          ],
          [
           "AI Insurance",
           "AI Insurance is the platform that runs insurance companies",
           "Winter 2019",
           "Active"
          ],
          [
           "WhiteLab Genomics",
           "Unleashing the potential of DNA and RNA based therapies using AI",
           "Winter 2022",
           "Active"
          ],
          [
           "Hungry Labs",
           "Now part of Snaplayer.",
           "Summer 2011",
           "Inactive"
          ],
          [
           "MagicBus",
           "We make vanpool simple.",
           "Winter 2016",
           "Active"
          ],
          [
           "Scout",
           "AI-powered student information system for K-12 schools",
           "Winter 2025",
           "Active"
          ],
          [
           "Semble AI",
           "Autonomous fire and life-safety systems engineer",
           "Fall 2025",
           "Active"
          ],
          [
           "Iris Automation",
           "Enabling autonomous drone operations globally through AI software",
           "Summer 2016",
           "Acquired"
          ],
          [
           "Frizzle",
           "AI Grading for Teachers",
           "Summer 2025",
           "Active"
          ],
          [
           "Able",
           "India's Largest Placement Platform for Early Professionals",
           "Winter 2020",
           "Acquired"
          ],
          [
           "Smartcuts",
           "Chrome extension to turn clicks & keystrokes into no-code automations",
           "Winter 2021",
           "Active"
          ],
          [
           "Bond",
           "Building Donna, your AI Chief of Staff",
           "Spring 2025",
           "Active"
          ],
          [
           "Sohar Health",
           "AI-powered insurance verification to boost patient conversion.",
           "Summer 2023",
           "Active"
          ],
          [
           "Gather",
           "Project management software for People Operations",
           "Summer 2020",
           "Acquired"
          ],
          [
           "Plato",
           "Plato is the mentorship platform for engineering leaders",
           "Winter 2016",
           "Acquired"
          ],
          [
           "Glowing.io",
           "Unified, enterprise messaging platform for leading brands of the world",
           "Winter 2018",
           "Active"
          ],
          [
           "Query Vary",
           "No-Code LLM Application / Workflow Builder",
           "Winter 2022",
           "Active"
          ],
          [
           "Reliance Health",
           "We make healthcare in emerging markets affordable and accessible",
           "Winter 2017",
           "Active"
          ],
          [
           "Sphinx",
           "AI Compliance Analysts for Banks & Fintechs",
           "Fall 2024",
           "Active"
          ],
          [
           "Heptabase",
           "The visual note-taking tool for learning complex topics.",
           "Winter 2022",
           "Active"
          ],
          [
           "yearend",
           "Optimize your equity and taxes in real-time.",
           "Winter 2020",
           "Active"
          ],
          [
           "Dialect",
           "Making internet experiences distributable and actionable everywhere",
           "Summer 2020",
           "Active"
          ],
          [
           "Rescript",
           "AI Regulatory Analyst for Enterprises",
           "Summer 2024",
           "Active"
          ],
          [
           "Tracecat",
           "All-in-one AI automation platform for security and IT teams",
           "Winter 2024",
           "Active"
          ],
          [
           "Pando Bioscience",
           "Gen-AI Designed Enzymes for Pharmaceutical Innovation",
           "Winter 2023",
           "Active"
          ],
          [
           "Payload",
           "Developer-First Headless CMS and Application Framework",
           "Summer 2022",
           "Acquired"
          ],
          [
           "Dream3D",
           "Generative AI Worlds",
           "Winter 2023",
           "Active"
          ],
          [
           "Sensei",
           "Robotic Training Data at Scale",
           "Summer 2024",
           "Active"
          ],
          [
           "Seed",
           "Mobile banking for small business.",
           "Winter 2015",
           "Acquired"
          ],
          [
           "Idler",
           "Scale AI for reinforcement learning environments. ",
           "Summer 2025",
           "Active"
          ],
          [
           "Synnax",
           "Unified Hardware Control and Data Processing Software",
           "Summer 2024",
           "Active"
          ],
          [
           "Vitalize",
           "The OS for Hospital Operations",
           "Winter 2023",
           "Active"
          ],
          [
           "Legora (formerly Leya)",
           "The AI workspace for lawyers",
           "Winter 2024",
           "Active"
          ],
          [
           "Hipset",
           "The best way for artists to release new music and videos.",
           "Summer 2012",
           "Inactive"
          ],
          [
           "Normal",
           "Modern compliance for drones, robots, IoT, and beyond",
           "Summer 2025",
           "Active"
          ],
          [
           "Positive",
           "B2B supplier of fresh/healthy packaged food",
           "Winter 2019",
           "Active"
          ],
          [
           "Guide Labs",
           "Interpretable AI models and agents that are easy to audit and…",
           "Winter 2024",
           "Active"
          ],
          [
           "Syncro",
           "Zapier for scaling high-touch talent management",
           "Winter 2020",
           "Inactive"
          ],
          [
           "Salient",
           "AI Servicing for Auto Lenders",
           "Winter 2023",
           "Active"
          ],
          [
           "AviaryAI",
           "Outbound AI voice agents for the financial services industry",
           "Summer 2022",
           "Active"
          ],
          [
           "9gag",
           "Make the world happier.",
           "Summer 2012",
           "Active"
          ],
          [
           "Agave",
           "Data infrastructure for Construction",
           "Winter 2022",
           "Active"
          ],
          [
           "Orderli",
           "Square for Europe",
           "Summer 2021",
           "Active"
          ],
          [
           "HENRY",
           "We train AI engineers and connect them with companies.",
           "Summer 2020",
           "Active"
          ],
          [
           "Notus Autonomous Systems",
           "Swarm robotics and full AI-command hierarchy integration",
           "Spring 2025",
           "Active"
          ],
          [
           "Inflow",
           "A self-help app for people to manage their ADHD.",
           "Summer 2021",
           "Active"
          ],
          [
           "Mesh",
           "Building your AI finance co-worker",
           "Winter 2025",
           "Active"
          ],
          [
           "Entry",
           "Biometric sign in and identity verification platform",
           "Winter 2017",
           "Inactive"
          ],
          [
           "Echo Locker",
           "Android lock screen",
           "Summer 2013",
           "Acquired"
          ],
          [
           "Ping",
           "The global neo-bank for contractors and freelancers",
           "Summer 2022",
           "Active"
          ],
          [
           "Waldium",
           "Build AI-optimized blogs that rank in AI search results ",
           "Summer 2023",
           "Active"
          ],
          [
           "Wedge",
           "Palantir for Healthcare AI Agents",
           "Summer 2025",
           "Active"
          ],
          [
           "Spotlight Realty",
           "AI powered brokerage reducing residential rental commissions in NYC…",
           "Summer 2025",
           "Active"
          ],
          [
           "ZeroEntropy",
           "High accuracy search API over unstructured data.",
           "Winter 2025",
           "Active"
          ],
          [
           "Apozy",
           "Apozy makes every website safe to browse",
           "Winter 2017",
           "Active"
          ],
          [
           "Zenefits",
           "HR for small businesses: onboarding, payroll and benefits.",
           "Winter 2013",
           "Acquired"
          ],
          [
           "CAPSULE",
           "Buy anything you find on social media",
           "Summer 2022",
           "Inactive"
          ],
          [
           "LightTwist",
           "Record video in a photorealistic virtual studio all from your browser",
           "Winter 2021",
           "Active"
          ],
          [
           "Focal Systems",
           "Building the Operating System for B&M Retail using Deep Learning",
           "Winter 2016",
           "Active"
          ],
          [
           "Veera Health",
           "We treat women with Polycystic Ovary Syndrome in India",
           "Winter 2021",
           "Active"
          ],
          [
           "Mocke",
           "Mock email campaigns: know your reply rate 1 min without launch",
           "Summer 2022",
           "Active"
          ],
          [
           "Upsolve AI",
           "Embed GenBI in Your SaaS App",
           "Winter 2024",
           "Active"
          ],
          [
           "Humane Genomics",
           "A platform to make artificial viruses as cancer therapeutics.",
           "Summer 2021",
           "Active"
          ],
          [
           "Tire Swing",
           "AI for Healthcare Compliance",
           "Winter 2025",
           "Active"
          ],
          [
           "Fivestars",
           "Customer loyalty and payments platform for small businesses.",
           "Winter 2011",
           "Acquired"
          ],
          [
           "Givefront",
           "Nonprofit Financial Management",
           "Winter 2024",
           "Active"
          ],
          [
           "NearWave",
           "Helping physicians select the right therapy for breast cancer patients",
           "Winter 2022",
           "Active"
          ],
          [
           "Spott",
           "AI-native ATS/CRM for recruiting firms",
           "Winter 2025",
           "Active"
          ],
          [
           "Rally",
           "Financial OS for Modern Fleets",
           "Winter 2025",
           "Active"
          ],
          [
           "Parahelp",
           "The AI support agent built for fast-moving software companies",
           "Summer 2024",
           "Active"
          ],
          [
           "HockeyStack",
           "The operating system for inbound B2B revenue",
           "Summer 2023",
           "Active"
          ],
          [
           "Evry Health",
           "Better health insurance for mid-size companies",
           "Winter 2018",
           "Acquired"
          ],
          [
           "GBatteries",
           "Enabling li-ion batteries to charge ultra fast without compromising…",
           "Winter 2014",
           "Active"
          ],
          [
           "Plerk",
           "Acquired by Minu.mx - Fintech solutions for employees, starting with…",
           "Summer 2020",
           "Acquired"
          ],
          [
           "Catena Biosciences",
           "Using protein coupling to build new therapies",
           "Summer 2021",
           "Active"
          ],
          [
           "Vista Power",
           "Batteries and solar for $0 upfront to help businesses save money",
           "Winter 2024",
           "Active"
          ],
          [
           "Livedocs",
           "A New Kind of Notebook for Data Storytelling",
           "Winter 2022",
           "Active"
          ],
          [
           "UpCodes",
           "UpCodes helps the AEC industry deliver code compliant buildings",
           "Summer 2017",
           "Active"
          ],
          [
           "AtoB",
           "Rebuilding global transportation payments.",
           "Summer 2020",
           "Active"
          ],
          [
           "Morphik",
           "Open-source multimodal search for AI apps",
           "Spring 2025",
           "Active"
          ],
          [
           "OpenReplay",
           "Open-source, self-hosted, session replay tool for developers.",
           "Summer 2019",
           "Active"
          ],
          [
           "Svbtle",
           "A publishing platform.",
           "Summer 2012",
           "Active"
          ],
          [
           "Casca",
           "Make Banking Magical",
           "Summer 2023",
           "Active"
          ],
          [
           "Precious",
           "AI to curate your baby photos",
           "Winter 2018",
           "Active"
          ],
          [
           "Leon & George",
           "Buying and owning indoor potted plants made easy.",
           "Summer 2017",
           "Active"
          ],
          [
           "Tower",
           "Legal due diligence platform powered by AI",
           "Winter 2024",
           "Active"
          ],
          [
           "Noble",
           "Risk decisioning platform ",
           "Winter 2021",
           "Inactive"
          ],
          [
           "Finni Health",
           "Empowering Autism Care Providers to Go Independent",
           "Winter 2023",
           "Active"
          ],
          [
           "Olympian Motors",
           "Manufacturing modular electric vehicles with style",
           "Winter 2022",
           "Active"
          ],
          [
           "Nexa Labs",
           "Implantable microchips and AI for cattle monitoring",
           "Summer 2025",
           "Active"
          ],
          [
           "Terusama",
           "We help warehouses schedule trucks",
           "Winter 2020",
           "Acquired"
          ],
          [
           "hillclimb",
           "Math RL Environments for Post-training",
           "Fall 2025",
           "Active"
          ],
          [
           "Saphira AI",
           "Vanta for Hardware",
           "Summer 2024",
           "Active"
          ],
          [
           "Topo",
           "AI sales agent custom trained for each company to reach the best leads",
           "Winter 2024",
           "Active"
          ],
          [
           "Lifecast",
           "Software to create 3D video for VR, robotics and film.",
           "Winter 2022",
           "Inactive"
          ],
          [
           "Coldreach",
           "Find the best leads with custom intent signals",
           "Winter 2023",
           "Active"
          ],
          [
           "Parley",
           "Automating flat-fee legal work, starting with work visas + green cards",
           "Summer 2024",
           "Active"
          ],
          [
           "Leaders In Tech (formerly InnerSpace)",
           "Helping founders improve themselves, their companies, and the world.",
           "Summer 2015",
           "Active"
          ],
          [
           "ThinAir",
           "Intelligent data security for teams",
           "Winter 2015",
           "Inactive"
          ],
          [
           "Sentiyen",
           "Conversational AI assistants using your knowledge",
           "Summer 2021",
           "Active"
          ],
          [
           "Castia",
           "Built Rewards for Latam. Pay Rent and get benefits.",
           "Winter 2022",
           "Inactive"
          ],
          [
           "Aravolta",
           "Software to monitor, control, and optimize data centers.",
           "Spring 2025",
           "Active"
          ],
          [
           "Dev Tools AI",
           "AI powered web & mobile automation",
           "Summer 2022",
           "Inactive"
          ],
          [
           "GoLinks",
           "Intuitive, easy-to-remember short links - powered by AI.",
           "Winter 2019",
           "Active"
          ],
          [
           "Niles",
           "Knowledge Assistant for Work.",
           "Winter 2017",
           "Inactive"
          ],
          [
           "The Ankler",
           "Subscription entertainment news",
           "Winter 2022",
           "Active"
          ],
          [
           "Halolife",
           "Halolife is an online platform to find and plan a burial or cremation…",
           "Summer 2015",
           "Inactive"
          ],
          [
           "Nestor",
           "Skills-based talent management solutions for a dynamic workforce.",
           "Summer 2018",
           "Active"
          ],
          [
           "Automatic",
           "Automatic connects your car to the rest of your digital life.",
           "Summer 2011",
           "Acquired"
          ],
          [
           "Filadd",
           "We help students in Latin America graduate from College.",
           "Summer 2021",
           "Active"
          ],
          [
           "Endpoint Health",
           "Precision-first therapies",
           "Winter 2019",
           "Active"
          ],
          [
           "Starcity",
           "Starcity was one of the largest co-living brands. Exit to Common in…",
           "Summer 2016",
           "Acquired"
          ],
          [
           "Narrator",
           "The only platform that can prep data to answer EVERY question you…",
           "Summer 2019",
           "Inactive"
          ],
          [
           "Voicepanel",
           "AI agents for customer research",
           "Winter 2024",
           "Active"
          ],
          [
           "Driver AI",
           "Understand millions of lines of code in minutes.",
           "Winter 2024",
           "Active"
          ],
          [
           "Novoflow",
           "AI employees that automate medical operations for clinics. ",
           "Spring 2025",
           "Active"
          ],
          [
           "Laserfocus",
           "Implement streamlined Salesforce processes for agile GTM teams",
           "Winter 2020",
           "Inactive"
          ],
          [
           "Adentris",
           "Real-time AI Compliance for Medical Documentation",
           "Spring 2025",
           "Active"
          ],
          [
           "Adla",
           "Department store for e-commerce",
           "Summer 2019",
           "Inactive"
          ],
          [
           "Semantics3",
           "Data and AI platform for Ecommerce & Cross-Border Logistics",
           "Winter 2013",
           "Acquired"
          ],
          [
           "GiveMeTap",
           "We produce & sell stainless steel water bottles that enables people…",
           "Winter 2015",
           "Active"
          ],
          [
           "Swift",
           "Embedded finance for online merchants",
           "Winter 2024",
           "Active"
          ],
          [
           "Godela",
           "AI Physics Engine to replace simulations and prototypes",
           "Spring 2025",
           "Active"
          ],
          [
           "PicnicHealth",
           "Empowering Patients for Deep Real World Data",
           "Summer 2014",
           "Active"
          ],
          [
           "Burrow",
           "A design brand creating innovative, award winning furniture.",
           "Summer 2016",
           "Acquired"
          ],
          [
           "Clau",
           "The real estate superapp for Mexico",
           "Summer 2020",
           "Active"
          ],
          [
           "Positional",
           "A modern platform for content marketing & SEO.",
           "Summer 2021",
           "Active"
          ],
          [
           "Toko",
           "Learn English by speaking with an AI",
           "Winter 2022",
           "Active"
          ],
          [
           "Superb AI",
           "Superb AI provides end-to-end computer vision MLOps platform",
           "Winter 2019",
           "Active"
          ],
          [
           "VergeSense",
           "AI-Powered Building Management",
           "Summer 2017",
           "Active"
          ],
          [
           "ZeroDown",
           "Find beautiful homes",
           "Winter 2019",
           "Acquired"
          ],
          [
           "Gait",
           "Building Dev Infra for AI Software Engineers",
           "Fall 2024",
           "Inactive"
          ],
          [
           "The Buttermilk Company",
           "Instant, fresh ethnic food that actually taste homemade. We're…",
           "Summer 2018",
           "Inactive"
          ],
          [
           "Guardian Bio",
           "Dendritic cell-based platform for cancer therapy ",
           "Summer 2022",
           "Active"
          ],
          [
           "AthenaHQ",
           "Get Your Brand Discovered on ChatGPT.",
           "Winter 2025",
           "Active"
          ],
          [
           "Beacons",
           "An AI-powered, all-in-one business platform for content creators",
           "Summer 2019",
           "Active"
          ],
          [
           "AppHarbor",
           ".NET Cloud Platform as a Service",
           "Winter 2011",
           "Inactive"
          ],
          [
           "Jutsoo",
           "All your corporate bank accounts connected under one platform",
           "Winter 2022",
           "Active"
          ],
          [
           "Pair AI",
           "Reimagining education with short form video and AI",
           "Winter 2023",
           "Active"
          ],
          [
           "Photonium",
           "AI-Driven Optical System Design",
           "Spring 2025",
           "Active"
          ],
          [
           "Pulse",
           "Electronic Medical Records for India",
           "Winter 2017",
           "Inactive"
          ],
          [
           "Opearlo",
           "Opearlo produces voice apps for Amazon Alexa and Google Home.",
           "Summer 2017",
           "Acquired"
          ],
          [
           "Tusk",
           "AI agent that generates unit and integration tests",
           "Winter 2024",
           "Active"
          ],
          [
           "Boostable",
           "Advertising platform tools for marketplace sellers. ",
           "Winter 2014",
           "Acquired"
          ],
          [
           "FuseAI",
           "The only sales software you will ever need. ",
           "Winter 2025",
           "Active"
          ],
          [
           "Stralis Aircraft",
           "Emission free hydrogen electric aircraft",
           "Winter 2023",
           "Active"
          ],
          [
           "Nuvola",
           "Nuvola is transforming battery manufacturing, making EV batteries…",
           "Winter 2017",
           "Active"
          ],
          [
           "Phykos",
           "Growing seaweed to stabilize the climate.",
           "Summer 2021",
           "Active"
          ],
          [
           "Risotto",
           "Risotto auto-solves IT support requests using AI",
           "Winter 2024",
           "Active"
          ],
          [
           "Truffle AI",
           "AWS for AI Agents",
           "Winter 2025",
           "Active"
          ],
          [
           "NuCypher (aka Threshold Network)",
           "Network for decentralized threshold cryptography and end-to-end…",
           "Summer 2016",
           "Active"
          ],
          [
           "Function of Beauty",
           "Customizable beauty for hair, skin, and body care products.",
           "Winter 2016",
           "Active"
          ],
          [
           "Thrive Agric",
           "ThriveAgric help Farmers in Africa access finance, insight and Markets",
           "Winter 2019",
           "Active"
          ],
          [
           "Benchling",
           "Unlocking the power of biotech with modern software for modern science",
           "Summer 2012",
           "Active"
          ],
          [
           "MDalgorithms Inc.",
           "Democratizing Dermatology with AI ",
           "Winter 2017",
           "Active"
          ],
          [
           "Depict",
           "Merchandising for fashion e-commerce",
           "Summer 2020",
           "Active"
          ],
          [
           "Aklimate",
           "Software for enterprises to track and reduce supply chain emissions",
           "Winter 2022",
           "Inactive"
          ],
          [
           "Dialtone",
           "AI agents for enterprises",
           "Summer 2023",
           "Active"
          ],
          [
           "Sorted",
           "Instant SaaS management",
           "Winter 2023",
           "Inactive"
          ],
          [
           "Osmind",
           "Platform for breakthrough mental health research and treatment",
           "Summer 2020",
           "Active"
          ],
          [
           "Parse",
           "Parse is the easiest way to build apps.",
           "Summer 2011",
           "Acquired"
          ],
          [
           "Floot",
           "The easiest way for non-coders to build apps with AI.",
           "Summer 2025",
           "Active"
          ],
          [
           "Viddy",
           "A new way to create landing pages that is video-native.",
           "Winter 2023",
           "Acquired"
          ],
          [
           "Mogara",
           "Automatic software R&D capitalization ",
           "Winter 2023",
           "Inactive"
          ],
          [
           "HitPay",
           "Payments infrastructure for businesses scaling in APAC",
           "Summer 2021",
           "Active"
          ],
          [
           "Magicflow 𐂂",
           "The Gen AI evaluation and curation platform",
           "Winter 2023",
           "Inactive"
          ],
          [
           "Reditus Space",
           "Reusable Satellites for zero-g manufacturing",
           "Winter 2025",
           "Active"
          ],
          [
           "Foreword",
           "A marketplace for live, online workshops for professionals",
           "Summer 2020",
           "Inactive"
          ],
          [
           "Supernova",
           "Design system platform joins developers and designers together",
           "Winter 2019",
           "Active"
          ],
          [
           "PersistIQ",
           "PersistIQ is a free email automation platform to send a small batch…",
           "Summer 2014",
           "Acquired"
          ],
          [
           "Amby Health",
           "AI Copilot for Ambulance Agencies (EMS)",
           "Winter 2025",
           "Active"
          ],
          [
           "Greenboard",
           "'Rippling' for Financial Compliance and Operations ",
           "Winter 2024",
           "Active"
          ],
          [
           "Okay",
           "Dashboards and actionable insights for high-performing engineering…",
           "Winter 2020",
           "Acquired"
          ],
          [
           "Seam",
           "API for IoT Devices",
           "Summer 2020",
           "Active"
          ],
          [
           "Hestus, Inc.",
           "An AI-powered CAD software",
           "Summer 2024",
           "Active"
          ],
          [
           "Powerhouse AI",
           "Vision-powered warehouse automation: maximizing performance and value",
           "Winter 2022",
           "Active"
          ],
          [
           "SOMATIC",
           "Bathroom cleaning robots for office buildings. ",
           "Winter 2020",
           "Active"
          ],
          [
           "Flint",
           "AI personalized learning for schools",
           "Summer 2023",
           "Active"
          ],
          [
           "SST",
           "For whatever you build.",
           "Winter 2021",
           "Active"
          ],
          [
           "BuildScience",
           "The operating system for commercial buildings.",
           "Winter 2015",
           "Active"
          ],
          [
           "Mark Cuban Cost Plus Drug Company, PBC",
           "Making low cost versions of high cost generic drugs.",
           "Summer 2018",
           "Active"
          ],
          [
           "Sendblue",
           "iMessage for Sales",
           "Summer 2023",
           "Active"
          ],
          [
           "Tiptap",
           "Developer toolkit for building collaborative apps.",
           "Summer 2023",
           "Active"
          ],
          [
           "Lotas",
           "Cursor for Data Science — secure, AI-native IDE for data scientists",
           "Summer 2025",
           "Active"
          ],
          [
           "Coast",
           "Demo Platform for API-First Companies",
           "Summer 2021",
           "Active"
          ],
          [
           "Faire",
           "The global online platform empowering independent retail.",
           "Winter 2017",
           "Active"
          ],
          [
           "DeepSim, Inc.",
           "An AI physics simulator for AI chip design",
           "Summer 2024",
           "Active"
          ],
          [
           "iCracked",
           "On-demand smartphone repair in 3 countries and launching smart home…",
           "Winter 2012",
           "Acquired"
          ],
          [
           "Sekilo",
           "Poultry processing & supply chain for the SME foodservice industry.",
           "Winter 2022",
           "Active"
          ],
          [
           "Degrees of Freedom",
           "DoF provides a high quality, affordable higher education alternative.",
           "Winter 2021",
           "Inactive"
          ],
          [
           "Proof Trading",
           "Institutional equities broker-dealer",
           "Summer 2019",
           "Active"
          ],
          [
           "Nomod",
           "The payment links app to sell anything, anywhere",
           "Summer 2021",
           "Active"
          ],
          [
           "Xberts",
           "Xberts.com is a cross-border marketplace for Chinese hardware…",
           "Summer 2016",
           "Inactive"
          ],
          [
           "NewCraft",
           "Universal API for HR & Payroll",
           "Winter 2018",
           "Acquired"
          ],
          [
           "Verbiflow",
           "People search that works",
           "Winter 2025",
           "Active"
          ],
          [
           "Pigeonly",
           "The affordable way to search, find & communicate with an incarcerated…",
           "Winter 2015",
           "Inactive"
          ],
          [
           "SlashAuth",
           "The solution for fine-grained access control in web3",
           "Winter 2021",
           "Inactive"
          ],
          [
           "Roomblocker",
           "Hotel booking for groups and events.",
           "Summer 2015",
           "Inactive"
          ],
          [
           "Pandai",
           "Learning app for school students in Southeast Asia",
           "Summer 2021",
           "Active"
          ],
          [
           "noHQ",
           "International contractor and multi country payroll ",
           "Winter 2021",
           "Inactive"
          ],
          [
           "Squire.ai",
           "Never code alone.",
           "Summer 2021",
           "Inactive"
          ],
          [
           "Alloy Automation",
           "Alloy is a platform for building and managing SaaS integrations",
           "Winter 2020",
           "Active"
          ],
          [
           "Hive",
           "Marketing automation for event promoters (email, sms, ads, CRM)",
           "Summer 2014",
           "Active"
          ],
          [
           "Makani Science",
           "Reinventing respiration monitoring",
           "Summer 2021",
           "Active"
          ],
          [
           "Polymet",
           "AI Product Designer",
           "Summer 2024",
           "Active"
          ],
          [
           "Calltree",
           "Enterprise-grade AI support reps for call centers",
           "Winter 2025",
           "Active"
          ],
          [
           "Distro",
           "The AI co-pilot for sales reps at industrial wholesale distributors.",
           "Summer 2024",
           "Active"
          ],
          [
           "Intryc",
           "Intryc uses AI to automate quality assurance for customer support",
           "Summer 2024",
           "Active"
          ],
          [
           "Velontra",
           "Hypersonic space plane that can take-off from any location and weather",
           "Summer 2022",
           "Active"
          ],
          [
           "Encord",
           "Building the data backbone for the (artificial) intelligence…",
           "Winter 2021",
           "Active"
          ],
          [
           "Beek",
           "Leading audio subscription platform for Spanish content and creators",
           "Winter 2017",
           "Inactive"
          ],
          [
           "Airmada",
           "Autonomous ground stations for drones",
           "Summer 2015",
           "Inactive"
          ],
          [
           "Shone",
           "Shone makes existing cargo ships autonomous through retrofit.",
           "Winter 2018",
           "Inactive"
          ],
          [
           "Arist",
           "Deliver effective learning at scale ",
           "Summer 2020",
           "Active"
          ],
          [
           "Zapier",
           "The easiest way to automate your work.",
           "Summer 2012",
           "Active"
          ],
          [
           "Kopa",
           "Find furnished rentals and compatible housemates for 1-12 month stays ",
           "Winter 2019",
           "Inactive"
          ],
          [
           "Suiteness",
           "Book guaranteed connecting rooms and suites at hotels",
           "Summer 2016",
           "Active"
          ],
          [
           "Command AI",
           "AI-powered user assistance platform",
           "Summer 2020",
           "Acquired"
          ],
          [
           "EPIC AEROSPACE",
           "Last-mile delivery for satellites.",
           "Summer 2019",
           "Active"
          ],
          [
           "Bannerman",
           "Security Guard Company Marketplace",
           "Summer 2014",
           "Inactive"
          ],
          [
           "Sapling.ai",
           "Language models for enterprise applications.",
           "Winter 2019",
           "Active"
          ],
          [
           "Stewdio",
           "All-in-one AI creative platform",
           "Fall 2024",
           "Active"
          ],
          [
           "Forge Rewards",
           "Starbucks app for restaurants",
           "Winter 2024",
           "Active"
          ],
          [
           "Petcube",
           "Petcube is on the mission to improve lives of pets and pet owners…",
           "Winter 2016",
           "Active"
          ],
          [
           "Boostly",
           "Gamified marketing for restaurants",
           "Summer 2022",
           "Active"
          ],
          [
           "Sixfold Bioscience",
           "Delivering RNA therapies.",
           "Winter 2018",
           "Active"
          ],
          [
           "CSPA",
           "The Computer Science Proficiency Assessment (CSPA™) is a…",
           "Summer 2018",
           "Acquired"
          ],
          [
           "Promi",
           "Optimizing ecommerce pricing with dynamic, personalized discounts",
           "Summer 2024",
           "Active"
          ],
          [
           "RescueTime",
           "Take Back Control of your Time",
           "Winter 2008",
           "Active"
          ],
          [
           "Orchid",
           "AI-powered EHR for independent mental health professionals",
           "Winter 2023",
           "Active"
          ],
          [
           "CoCrafter",
           "B2B construction marketplace to match contractors and subcontractors.",
           "Winter 2024",
           "Active"
          ],
          [
           "Activepieces",
           "Open-source, AI-first and no-code business automation tool",
           "Summer 2022",
           "Active"
          ],
          [
           "Courtyard.io",
           "A frictionless, safe, and fun experience to invest in collectibles",
           "Winter 2022",
           "Active"
          ],
          [
           "Meridian Industries",
           "Index is the modern business intelligence platform",
           "Summer 2019",
           "Active"
          ],
          [
           "CraftOS",
           "Inventory Management and POS for the Wine industry",
           "Summer 2023",
           "Inactive"
          ],
          [
           "BuildZoom",
           "BuildZoom is a better way to remodel. We connect homeowners to the…",
           "Winter 2013",
           "Active"
          ],
          [
           "MindFort",
           "Autonomous Security Agents",
           "Spring 2025",
           "Active"
          ],
          [
           "Bristle",
           "At-home oral health testing, coaching & care",
           "Winter 2021",
           "Active"
          ],
          [
           "Cartcam",
           "Cartcam is an app for opinionated, deal-seeking shoppers.  It gives…",
           "Winter 2017",
           "Inactive"
          ],
          [
           "Karbon Card",
           "Corporate Card solution for Indian businesses",
           "Summer 2021",
           "Active"
          ],
          [
           "Tingles",
           "Find content that helps you relax and fall asleep.",
           "Winter 2018",
           "Inactive"
          ],
          [
           "DocVita",
           "Telehealth provider for India.",
           "Winter 2020",
           "Active"
          ],
          [
           "Sweetspot",
           "AI for Government Contracting.",
           "Summer 2023",
           "Active"
          ],
          [
           "BookMyFlight",
           "We make booking a flight as easy as booking an Uber.",
           "Fall 2024",
           "Active"
          ],
          [
           "Apten",
           "Omnichannel AI agents that engage leads across SMS, voice, and email",
           "Summer 2024",
           "Active"
          ],
          [
           "Skillza",
           "Skillza builds simple tools for teachers and schools in MEA",
           "Winter 2022",
           "Inactive"
          ],
          [
           "MedCrypt",
           "MedCrypt gives medical device vendors cybersecurity features in a few…",
           "Winter 2019",
           "Active"
          ],
          [
           "Metal",
           "AI Accelerated Deal Flow and Portfolio Intelligence",
           "Winter 2023",
           "Active"
          ],
          [
           "Bamboo",
           "Bamboo ― the first online brokerage service for Africans and their…",
           "Winter 2020",
           "Active"
          ],
          [
           "Prendea",
           "Live afterschool classes for Spanish-speaking kids ages 4 to 15.",
           "Winter 2021",
           "Inactive"
          ],
          [
           "Riviera",
           "AI Employees for Hotels",
           "Winter 2025",
           "Active"
          ],
          [
           "Cedalio",
           "Turn your utility bills into smart decisions with AI",
           "Summer 2023",
           "Active"
          ],
          [
           "Platypus",
           "The Distributed Data Operating System",
           "Winter 2021",
           "Inactive"
          ],
          [
           "truthsystems",
           "Automatically blocking risky behavior with real-time governance agents",
           "Summer 2025",
           "Active"
          ],
          [
           "Mintplex Labs",
           "Building the definitive all-in-one on-device AI tool suite",
           "Summer 2022",
           "Active"
          ],
          [
           "Xkit",
           "Universal CRM integration for B2B SaaS apps",
           "Summer 2018",
           "Inactive"
          ],
          [
           "ArchForm",
           "Replacing orthodontic braces with our clear aligner and software",
           "Winter 2018",
           "Active"
          ],
          [
           "Gainful",
           "Personalized Performance Nutrition",
           "Winter 2018",
           "Active"
          ],
          [
           "DirectShifts",
           "Helping healthcare workers find their next career opportunity ",
           "Summer 2019",
           "Active"
          ],
          [
           "Snipshot",
           "We sold Snipshot to Ansa in 2013.",
           "Winter 2006",
           "Inactive"
          ],
          [
           "Disclo",
           "Health disclosure and accommodation management platform",
           "Summer 2022",
           "Active"
          ],
          [
           "Botin",
           "Investment super app for Latin America",
           "Winter 2022",
           "Inactive"
          ],
          [
           "HappyRobot",
           "AI Communication. Built for Logistics.",
           "Summer 2023",
           "Active"
          ],
          [
           "Kuna Systems",
           "We're making a smart, front door camera with intercom that lets you…",
           "Winter 2014",
           "Acquired"
          ],
          [
           "Type",
           "The AI-first document editor.",
           "Winter 2023",
           "Active"
          ],
          [
           "Webflow",
           "Professional website design and publishing platform. ",
           "Summer 2013",
           "Active"
          ],
          [
           "Peer5",
           "P2P delivery network that enables high quality video streaming",
           "Winter 2017",
           "Acquired"
          ],
          [
           "Modern Realty",
           "The AI Native Real Estate Brokerage.",
           "Summer 2024",
           "Active"
          ],
          [
           "Cohere",
           "Support automation that's actually intelligent",
           "Summer 2020",
           "Acquired"
          ],
          [
           "Visly",
           "Build React components visually",
           "Winter 2019",
           "Acquired"
          ],
          [
           "Nonu",
           "We deliver hair loss medicines for Indian men on a subscription basis.",
           "Summer 2019",
           "Inactive"
          ],
          [
           "Vector",
           "Find your prospects who are most likely to buy.",
           "Winter 2023",
           "Active"
          ],
          [
           "Verak",
           "Better Business Insurance for MSMEs in India",
           "Winter 2021",
           "Acquired"
          ],
          [
           "Flint",
           "Securing Nurses for Your Future",
           "Summer 2020",
           "Active"
          ],
          [
           "Indee Labs",
           "Enabling T cell immunotherapy discovery, development and manufacturing",
           "Winter 2017",
           "Active"
          ],
          [
           "Outschool",
           "A live online learning platform that empowers kids ages 3–18.",
           "Winter 2016",
           "Active"
          ],
          [
           "Seis",
           "Banking 100% in Spanish for the 44 million US Spanish speakers",
           "Winter 2022",
           "Active"
          ],
          [
           "Gigwell",
           "Building the Future of Live Event Bookings.",
           "Winter 2016",
           "Active"
          ],
          [
           "Ankr Health",
           "Virtualizing brick-mortar infrastructures of clinics w/ generative AI ",
           "Winter 2022",
           "Active"
          ],
          [
           "BitPatrol",
           "AI-powered code security",
           "Spring 2025",
           "Active"
          ],
          [
           "Index",
           "Planning and AI Prototyping for Product Management",
           "Winter 2023",
           "Active"
          ],
          [
           "Pebble",
           "Watch that helps you get shit done and limit the mayhem of…",
           "Winter 2011",
           "Acquired"
          ],
          [
           "Zanbazaar",
           "Community-curated catalogs for product recommendations",
           "Summer 2006",
           "Inactive"
          ],
          [
           "Savvy",
           "Flexible stipends for employee health insurance",
           "Winter 2020",
           "Acquired"
          ],
          [
           "VetPronto",
           "On demand veterinary house calls. ",
           "Winter 2015",
           "Inactive"
          ],
          [
           "The Mercer Club",
           "The Mercer Club is a subscription service that allows men to rent…",
           "Winter 2020",
           "Inactive"
          ],
          [
           "Pylon",
           "Infrastructure management software for water & electricity companies",
           "Summer 2021",
           "Active"
          ],
          [
           "Tenjin",
           "Mobile marketing analytics and infrastructure",
           "Summer 2014",
           "Active"
          ],
          [
           "Kunduz",
           "Kunduz provides instant answers to students' questions and makes…",
           "Summer 2018",
           "Active"
          ],
          [
           "TRM Labs",
           "TRM is building a safer financial system for billions of people.",
           "Summer 2019",
           "Active"
          ],
          [
           "Strong Compute",
           "10x-1000x faster compute for Neural Network training",
           "Winter 2022",
           "Active"
          ],
          [
           "Cambridge Cancer Genomics",
           "CCG.ai empowers clinicians to make personalised treatment strategies…",
           "Summer 2017",
           "Inactive"
          ],
          [
           "Almond",
           "We make it easy to get great ObGyn care  in-person and over telehealth",
           "Summer 2022",
           "Active"
          ],
          [
           "Delty",
           "AI staff engineer: software architect that leads coding agents",
           "Spring 2025",
           "Active"
          ],
          [
           "Grin",
           "Mobility and payments platform for Latin America",
           "Summer 2018",
           "Acquired"
          ],
          [
           "Unicornly",
           "Unicorn.ly makes fundraising more efficient for both angel investors…",
           "Winter 2014",
           "Inactive"
          ],
          [
           "Shogun",
           "Shogun empowers brands to create exceptional ecommerce experience.",
           "Winter 2018",
           "Active"
          ],
          [
           "Selfycart",
           "Selfycart - let's grocery shoppers scan items and checkout on their…",
           "Summer 2016",
           "Inactive"
          ],
          [
           "Persephone Biosciences",
           "We are using the gut microbiome to end cancer. ",
           "Winter 2018",
           "Active"
          ],
          [
           "Symplex",
           "Applied Reinforcement Learning Research Laboratory",
           "Summer 2019",
           "Acquired"
          ],
          [
           "Cuboh",
           "We help restaurants manage their online orders.",
           "Summer 2019",
           "Acquired"
          ],
          [
           "SigOpt",
           "SigOpt is an Optimization-as-a-Service platform that seamlessly tunes…",
           "Winter 2015",
           "Acquired"
          ],
          [
           "Aether",
           "AI go-to-market revenue engine for home services installers. ",
           "Winter 2024",
           "Active"
          ],
          [
           "Hypotenuse AI",
           "Manage, create & optimize your ecommerce product content using AI",
           "Summer 2020",
           "Active"
          ],
          [
           "Tackle",
           "Time tracking on autopilot",
           "Winter 2021",
           "Active"
          ],
          [
           "Zigfu",
           "Layer above Kinect.",
           "Summer 2011",
           "Inactive"
          ],
          [
           "Roin Technologies",
           "Building robots to automate commercial concrete construction.",
           "Winter 2021",
           "Acquired"
          ],
          [
           "Genuity",
           "SaaS Platform to manage IT and buy business software ",
           "Summer 2021",
           "Active"
          ],
          [
           "Perlara",
           "Perlara: building the YC for rare disease parents",
           "Winter 2016",
           "Active"
          ],
          [
           "Social Construct",
           "Social Construct designs and assembles large apartment buildings …",
           "Summer 2017",
           "Inactive"
          ],
          [
           "Popl",
           "Your complete in-person GTM platform",
           "Winter 2021",
           "Active"
          ],
          [
           "Zergo",
           "We make a urine test that helps women get pregnant.",
           "Summer 2019",
           "Inactive"
          ],
          [
           "Metofico",
           "No Code Data Analysis for Life Science Research",
           "Winter 2024",
           "Active"
          ],
          [
           "Geosite",
           "Geosite is an enterprise SaaS platform for spatial data.",
           "Winter 2019",
           "Acquired"
          ],
          [
           "Adam",
           "AI Powered CAD",
           "Winter 2025",
           "Active"
          ],
          [
           "Coco Wallet",
           "Web3 super app for remittances to Latin America.",
           "Summer 2019",
           "Active"
          ],
          [
           "Procoto",
           "Self-service RFP management",
           "Winter 2021",
           "Acquired"
          ],
          [
           "Doorport",
           "Acquired by Alarm.com - We make existing apartment access smart.",
           "Winter 2019",
           "Acquired"
          ],
          [
           "Examedi",
           "Uber for Healthcare in Latinamerica",
           "Summer 2021",
           "Active"
          ],
          [
           "Shape (ShapeScale)",
           "ShapeScale is a personal 3D scanner and fitness tracker that…",
           "Summer 2015",
           "Active"
          ],
          [
           "Wit.ai",
           "Natural Language for Developers --Wit is an API that makes it easy…",
           "Winter 2014",
           "Acquired"
          ],
          [
           "Lucid Bots",
           "We build robots for dull, dirty, and dangerous jobs.",
           "Summer 2019",
           "Active"
          ],
          [
           "Nottelabs",
           "Reliable Web Agents for Enterprise",
           "Summer 2025",
           "Active"
          ],
          [
           "NexTravel",
           "NexTravel is a centralized travel booking platform that helps…",
           "Winter 2015",
           "Acquired"
          ],
          [
           "Karoo",
           "Canadian neobank focused on lending",
           "Winter 2025",
           "Active"
          ],
          [
           "Lumenary",
           "Build working software exceedingly fast in Solar",
           "Summer 2024",
           "Active"
          ],
          [
           "Necto",
           "ISP starter kit",
           "Winter 2018",
           "Inactive"
          ],
          [
           "Hexel",
           "Create a cryptocurrency for your community.",
           "Winter 2018",
           "Inactive"
          ],
          [
           "Lucible",
           "Combined checking and investment account",
           "Summer 2024",
           "Active"
          ],
          [
           "Release",
           "Environments as a service",
           "Winter 2020",
           "Active"
          ],
          [
           "CombineHealth",
           "Automating Healthcare Revenue Cycle Management with AI Workforce",
           "Winter 2023",
           "Active"
          ],
          [
           "LootRush",
           "A safe and friendly way to play crypto games.",
           "Summer 2021",
           "Active"
          ],
          [
           "RoverRide",
           "A universal urban transit app. Given all transportation options…",
           "Winter 2013",
           "Inactive"
          ],
          [
           "Butter Systems",
           "Replacing the paper restaurant menu with an interactive experience at…",
           "Summer 2013",
           "Inactive"
          ],
          [
           "GoComm",
           "Mobile communications platform for teams working on live events",
           "Summer 2013",
           "Inactive"
          ],
          [
           "Doe",
           "Autonomous AI workforce for PE roll-ups",
           "Summer 2025",
           "Active"
          ],
          [
           "Archil",
           "Transform S3 in an unlimited, local file system",
           "Fall 2024",
           "Active"
          ],
          [
           "TruthSuite",
           "AI Fact Checking for Lawyers",
           "Winter 2023",
           "Active"
          ],
          [
           "PgDog",
           "Scaling engine for PostgreSQL",
           "Spring 2025",
           "Active"
          ],
          [
           "Karmen",
           "AI Assistant for Construction Project Managers",
           "Fall 2024",
           "Active"
          ],
          [
           "LifestyleRx",
           "Virtual Care for Type 2 Diabetes Reversal",
           "Summer 2023",
           "Active"
          ],
          [
           "Deepnote",
           "A better data science notebook.",
           "Summer 2019",
           "Active"
          ],
          [
           "Julius",
           "AI Data Scientist",
           "Summer 2022",
           "Active"
          ],
          [
           "Minimum",
           "Helping corporates achieve Net Zero through tech solutions. ",
           "Summer 2020",
           "Active"
          ],
          [
           "Loop Health",
           "Modern & comprehensive health insurance plan for employees in India",
           "Winter 2020",
           "Active"
          ],
          [
           "Filta",
           "The Face Filter NFT Marketplace",
           "Summer 2021",
           "Active"
          ],
          [
           "Feanix Biotechnologies",
           "Farm Genetics Made Easy - Using DNA and Software",
           "Summer 2023",
           "Active"
          ],
          [
           "General Agency",
           "AI coworkers that can learn and act just like a human",
           "Winter 2025",
           "Active"
          ],
          [
           "ControlHub",
           "Purchasing Software | Procure-to-Pay SaaS ",
           "Winter 2021",
           "Active"
          ],
          [
           "JustPaid",
           "Billing Automation for B2B that actually works.",
           "Winter 2023",
           "Active"
          ],
          [
           "Scale AI",
           "Data-centric infrastructure to accelerate the development of AI ",
           "Summer 2016",
           "Active"
          ],
          [
           "Tranch",
           "Tranch is the invoice to payments platform for enterprises.",
           "Summer 2022",
           "Acquired"
          ],
          [
           "PagerDuty",
           "Real-time visibility into critical apps and services all in one place.",
           "Summer 2010",
           "Public"
          ],
          [
           "MarcoPolo",
           "Alibaba for Latin America",
           "Winter 2021",
           "Inactive"
          ],
          [
           "Honeydue",
           "The simplest way for couples to manage money, together",
           "Summer 2017",
           "Acquired"
          ],
          [
           "OctaveWealth",
           "The 401(k) that helps you grow",
           "Summer 2012",
           "Active"
          ],
          [
           "Altay Therapeutics",
           "Altay develops disease-modifying therapies targeting transcription…",
           "Winter 2020",
           "Active"
          ]
         ],
         "hovertemplate": "tsne_x=%{x}<br>tsne_y=%{y}<br>company_name=%{customdata[0]}<br>short_description=%{customdata[1]}<br>batch=%{customdata[2]}<br>status=%{customdata[3]}<br>Cluster (-1 = Noise)=%{marker.color}<extra></extra>",
         "legendgroup": "",
         "marker": {
          "color": [
           -1,
           -1,
           -1,
           -1,
           -1,
           -1,
           -1,
           -1,
           -1,
           -1,
           -1,
           -1,
           -1,
           -1,
           -1,
           -1,
           -1,
           -1,
           -1,
           -1,
           -1,
           -1,
           -1,
           -1,
           -1,
           -1,
           -1,
           -1,
           -1,
           -1,
           -1,
           -1,
           -1,
           -1,
           -1,
           -1,
           -1,
           -1,
           -1,
           -1,
           -1,
           -1,
           -1,
           -1,
           -1,
           -1,
           -1,
           -1,
           -1,
           -1,
           -1,
           -1,
           -1,
           -1,
           -1,
           -1,
           -1,
           -1,
           -1,
           -1,
           -1,
           -1,
           -1,
           -1,
           -1,
           -1,
           -1,
           -1,
           -1,
           -1,
           -1,
           -1,
           -1,
           -1,
           -1,
           -1,
           -1,
           -1,
           -1,
           -1,
           -1,
           -1,
           -1,
           -1,
           -1,
           -1,
           -1,
           -1,
           -1,
           -1,
           -1,
           -1,
           -1,
           -1,
           -1,
           -1,
           -1,
           -1,
           -1,
           -1,
           -1,
           -1,
           -1,
           -1,
           -1,
           -1,
           -1,
           -1,
           -1,
           -1,
           -1,
           -1,
           -1,
           -1,
           -1,
           -1,
           -1,
           -1,
           -1,
           -1,
           -1,
           -1,
           -1,
           -1,
           -1,
           -1,
           -1,
           -1,
           -1,
           -1,
           -1,
           -1,
           -1,
           -1,
           -1,
           -1,
           -1,
           -1,
           -1,
           -1,
           -1,
           -1,
           -1,
           -1,
           -1,
           -1,
           -1,
           -1,
           -1,
           -1,
           -1,
           -1,
           -1,
           -1,
           -1,
           -1,
           -1,
           -1,
           -1,
           -1,
           -1,
           -1,
           -1,
           -1,
           -1,
           -1,
           -1,
           -1,
           -1,
           -1,
           -1,
           -1,
           -1,
           -1,
           -1,
           -1,
           -1,
           -1,
           -1,
           -1,
           -1,
           -1,
           -1,
           -1,
           -1,
           -1,
           -1,
           -1,
           -1,
           -1,
           -1,
           -1,
           -1,
           -1,
           -1,
           -1,
           -1,
           -1,
           -1,
           -1,
           -1,
           -1,
           -1,
           -1,
           -1,
           -1,
           -1,
           -1,
           -1,
           -1,
           -1,
           -1,
           -1,
           -1,
           -1,
           -1,
           -1,
           -1,
           -1,
           -1,
           -1,
           -1,
           -1,
           -1,
           -1,
           -1,
           -1,
           -1,
           -1,
           -1,
           -1,
           -1,
           -1,
           -1,
           -1,
           -1,
           -1,
           -1,
           -1,
           -1,
           -1,
           -1,
           -1,
           -1,
           -1,
           -1,
           -1,
           -1,
           -1,
           -1,
           -1,
           -1,
           -1,
           -1,
           -1,
           -1,
           -1,
           -1,
           -1,
           -1,
           -1,
           -1,
           -1,
           -1,
           -1,
           -1,
           -1,
           -1,
           -1,
           -1,
           -1,
           -1,
           -1,
           -1,
           -1,
           -1,
           -1,
           -1,
           -1,
           -1,
           -1,
           -1,
           -1,
           -1,
           -1,
           -1,
           -1,
           -1,
           -1,
           -1,
           -1,
           -1,
           -1,
           -1,
           -1,
           -1,
           -1,
           -1,
           -1,
           -1,
           -1,
           -1,
           -1,
           -1,
           -1,
           -1,
           -1,
           -1,
           -1,
           -1,
           -1,
           -1,
           -1,
           -1,
           -1,
           -1,
           -1,
           -1,
           -1,
           -1,
           -1,
           -1,
           -1,
           -1,
           -1,
           -1,
           -1,
           -1,
           -1,
           -1,
           -1,
           -1,
           -1,
           -1,
           -1,
           -1,
           -1,
           -1,
           -1,
           -1,
           -1,
           -1,
           -1,
           -1,
           -1,
           -1,
           -1,
           -1,
           -1,
           -1,
           -1,
           -1,
           -1,
           -1,
           -1,
           -1,
           -1,
           -1,
           -1,
           -1,
           -1,
           -1,
           -1,
           -1,
           -1,
           -1,
           -1,
           -1,
           -1,
           -1,
           -1,
           -1,
           -1,
           -1,
           -1,
           -1,
           -1,
           -1,
           -1,
           -1,
           -1,
           -1,
           -1,
           -1,
           -1,
           -1,
           -1,
           -1,
           -1,
           -1,
           -1,
           -1,
           -1,
           -1,
           -1,
           -1,
           -1,
           -1,
           -1,
           -1,
           -1,
           -1,
           -1,
           -1,
           -1,
           -1,
           -1,
           -1,
           -1,
           -1,
           -1,
           -1,
           -1,
           -1,
           -1,
           -1,
           -1,
           -1,
           -1,
           -1,
           -1,
           -1,
           -1,
           -1,
           -1,
           -1,
           -1,
           -1,
           -1,
           -1,
           -1,
           -1,
           -1,
           -1,
           -1,
           -1,
           -1,
           -1,
           -1,
           -1,
           -1,
           -1,
           -1,
           -1,
           -1,
           -1,
           -1,
           -1,
           -1,
           -1,
           -1,
           -1,
           -1,
           -1,
           -1,
           -1,
           -1,
           -1,
           -1,
           -1,
           -1,
           -1,
           -1,
           -1,
           -1,
           -1,
           -1,
           -1,
           -1,
           -1,
           -1,
           -1,
           -1,
           -1,
           -1,
           -1,
           -1,
           -1,
           -1,
           -1,
           -1,
           -1,
           -1,
           -1,
           -1,
           -1,
           -1,
           -1,
           -1,
           -1,
           -1,
           -1,
           -1,
           -1,
           -1,
           -1,
           -1,
           -1,
           -1,
           -1
          ],
          "coloraxis": "coloraxis",
          "opacity": 0.7,
          "size": 8,
          "symbol": "circle"
         },
         "mode": "markers",
         "name": "",
         "orientation": "v",
         "showlegend": false,
         "type": "scatter",
         "x": [
          3.2010586,
          9.042495,
          8.18764,
          -3.9312942,
          -22.489136,
          -11.912612,
          -5.6257815,
          1.3148825,
          -9.225184,
          6.299772,
          -21.63422,
          -20.787516,
          -6.7276835,
          -20.064201,
          -0.5959443,
          1.8871629,
          19.574844,
          -2.1070788,
          -22.860956,
          -8.122027,
          2.8127835,
          -6.9645433,
          -2.9799798,
          -1.4723643,
          4.5827737,
          -4.4064126,
          -21.785479,
          -21.818071,
          5.4093637,
          3.5875819,
          3.6561403,
          -12.758051,
          -0.88868254,
          20.654991,
          2.8415382,
          16.47717,
          -15.232265,
          -3.8453875,
          -4.504981,
          9.739062,
          -15.969894,
          12.423429,
          -19.045755,
          2.4033952,
          -5.4463305,
          -11.184385,
          13.016018,
          23.012318,
          -13.282422,
          11.6536665,
          3.6763597,
          11.342269,
          7.796204,
          -14.536621,
          3.3800333,
          -0.16340894,
          -1.3928367,
          11.666845,
          18.871265,
          -2.9658818,
          -2.7317894,
          11.262765,
          -16.099957,
          -16.354391,
          18.191051,
          -10.201445,
          -2.7317042,
          6.308237,
          -17.416483,
          -10.599925,
          -10.946755,
          7.808463,
          -4.7592764,
          20.914968,
          0.24109054,
          -6.433381,
          9.7934265,
          -9.887512,
          10.731481,
          -18.043331,
          19.927921,
          8.282249,
          -19.156483,
          -19.088991,
          0.036535542,
          6.9300365,
          -23.370747,
          8.450909,
          18.789015,
          11.424138,
          0.52654636,
          -7.889818,
          -2.9647696,
          -6.672157,
          -10.286497,
          -14.045308,
          -6.8402433,
          -14.599623,
          21.491714,
          -16.123127,
          3.4003346,
          -6.541547,
          -5.5892663,
          5.0891438,
          -24.284708,
          16.574312,
          -20.36842,
          -11.750871,
          -21.217976,
          -17.396172,
          18.57219,
          -18.279016,
          -8.228153,
          -1.2344981,
          6.007713,
          -12.174174,
          -10.528069,
          -16.268702,
          -0.9223753,
          -12.050743,
          -20.447565,
          3.0358365,
          7.6400456,
          17.0676,
          15.532721,
          13.248315,
          6.701908,
          15.120395,
          -20.88159,
          6.4013433,
          11.976228,
          2.8591888,
          -17.616858,
          -10.736297,
          18.08589,
          -0.42402261,
          -5.3039746,
          15.294171,
          2.108154,
          9.293836,
          -18.81708,
          3.4929376,
          -14.893169,
          4.652687,
          4.2638116,
          -19.51483,
          -10.46564,
          -2.6849895,
          21.156307,
          12.507392,
          11.520828,
          19.613512,
          16.97112,
          -1.9182419,
          9.94524,
          7.8040357,
          -5.017979,
          16.461128,
          -6.3835545,
          12.38828,
          6.1220613,
          8.6849575,
          17.945236,
          -23.220106,
          -11.972485,
          8.630148,
          7.633285,
          -18.474632,
          -3.3346763,
          15.104185,
          7.7519264,
          -19.079561,
          8.37447,
          -0.09370086,
          6.4006534,
          13.096997,
          0.32226077,
          11.718437,
          -13.425429,
          9.933995,
          -3.3644226,
          3.7080467,
          4.647167,
          2.4661844,
          -4.457283,
          -10.167313,
          7.8570013,
          11.905552,
          12.119653,
          11.519634,
          4.812233,
          1.0812112,
          -19.130905,
          9.810601,
          6.7746625,
          1.7682405,
          0.3139601,
          4.0861382,
          -5.8034315,
          -3.7662957,
          9.415307,
          -7.36811,
          5.7548428,
          0.12971476,
          -1.7065632,
          -19.880133,
          8.290464,
          -13.183606,
          -0.86874217,
          9.374692,
          0.7283295,
          -13.418123,
          6.0709124,
          -1.7303367,
          5.041883,
          -15.118595,
          -18.338602,
          -19.760275,
          -13.766891,
          17.831013,
          13.070635,
          -13.81354,
          11.708624,
          -0.14701779,
          19.967855,
          -16.883024,
          -2.3148549,
          -10.740563,
          8.957532,
          -17.61527,
          6.120054,
          -13.112257,
          -17.80146,
          -4.3225126,
          10.519393,
          11.695787,
          2.7783165,
          9.433285,
          0.11153399,
          13.335052,
          16.089222,
          6.0625625,
          8.265346,
          -24.113953,
          -7.601663,
          6.141069,
          2.2482,
          18.769081,
          1.793072,
          8.291687,
          15.619797,
          -1.2501609,
          20.171076,
          8.685225,
          -11.101602,
          16.330584,
          7.8628836,
          11.330388,
          10.8551855,
          -2.1750827,
          8.801981,
          -7.4122696,
          0.11594193,
          -2.1402712,
          -17.261238,
          13.659358,
          8.132756,
          -11.9047165,
          -11.494217,
          0.6908721,
          17.398346,
          4.0335755,
          -5.1078606,
          -8.532027,
          14.645309,
          -11.839312,
          -21.168474,
          10.333423,
          1.1916653,
          -2.1938782,
          -22.201124,
          16.604124,
          13.739723,
          7.3721795,
          9.878958,
          21.276217,
          -7.9975114,
          3.1240876,
          -13.587325,
          -14.083101,
          -11.999697,
          6.213812,
          6.4403563,
          -15.893154,
          -7.3986225,
          -15.855354,
          -18.001902,
          8.709214,
          -7.4632816,
          -11.312809,
          6.0913773,
          -3.4322765,
          10.781595,
          -4.1416416,
          14.185666,
          -2.9879878,
          12.095466,
          -18.31053,
          12.716886,
          -11.549668,
          18.602758,
          -0.027506076,
          -2.523419,
          8.352148,
          10.143094,
          -0.028336518,
          0.3541145,
          15.594562,
          3.7610102,
          9.5227165,
          19.176212,
          0.4119354,
          -6.321744,
          -23.135057,
          -6.735169,
          19.10793,
          16.350307,
          1.7871877,
          -8.558283,
          12.8605795,
          -2.464925,
          -13.467215,
          19.125555,
          -15.172926,
          -16.86799,
          -11.47965,
          -6.5368667,
          0.6635869,
          -7.0321703,
          2.8605268,
          -14.580393,
          22.186691,
          -18.43458,
          13.298175,
          2.6195908,
          -1.1926743,
          10.20657,
          14.142998,
          6.098383,
          1.9998308,
          7.425551,
          -13.072098,
          8.145737,
          1.458649,
          12.215696,
          5.385507,
          17.444805,
          -3.2764297,
          -13.141279,
          -10.184396,
          6.9765105,
          -11.480256,
          -4.486447,
          8.803437,
          17.840778,
          -12.732763,
          -6.589907,
          -8.006625,
          -20.871958,
          21.45703,
          -5.6287594,
          -5.023112,
          10.991399,
          -7.6748915,
          4.3505754,
          -13.8736725,
          1.8595301,
          -8.281863,
          -7.869652,
          6.5405025,
          9.991597,
          -4.6017995,
          -16.935389,
          3.3811407,
          7.0430264,
          0.19425094,
          6.2602077,
          4.153041,
          21.04811,
          11.42481,
          12.778078,
          -20.287426,
          20.834742,
          5.6327777,
          -7.270918,
          -0.67729414,
          7.8977795,
          10.945556,
          -4.446002,
          9.935255,
          -6.759928,
          13.943063,
          -2.4950442,
          12.793071,
          -22.398397,
          5.5411897,
          -0.13685516,
          18.417673,
          14.666671,
          -3.8905194,
          2.1305025,
          6.264658,
          -2.1574903,
          4.7544003,
          0.31109038,
          3.302571,
          14.523732,
          -19.812906,
          20.805048,
          -21.043083,
          -0.9655162,
          9.236467,
          5.6506653,
          14.337817,
          -6.318876,
          -11.086057,
          4.1842184,
          7.33915,
          -9.806022,
          -7.0438843,
          -5.3505654,
          21.720919,
          -14.815875,
          5.357303,
          -20.93408,
          8.634107,
          11.972168,
          -23.203882,
          -20.770195,
          -4.1277204,
          -5.5452156,
          -21.903927,
          7.5806813,
          -10.035322,
          -2.1003408,
          3.1879587,
          15.564812,
          5.599515,
          9.730482,
          8.419699,
          -4.1475406,
          -23.15003,
          -7.1761622,
          -6.042725,
          -18.50012,
          -15.430295,
          -4.4822783,
          15.251679,
          -22.689205,
          -8.137806,
          -0.18003061,
          12.063224,
          6.6706257,
          9.715776,
          10.109658,
          5.7894664,
          -16.134062,
          -18.387384,
          10.9225855,
          -12.494572,
          -14.093278,
          -20.14166,
          3.6191087,
          7.592631,
          -13.999779,
          -1.7752825,
          -10.939724,
          -5.8090405,
          3.1848648,
          6.522705,
          8.558487,
          -2.7742379,
          9.39275,
          9.49262,
          17.113672,
          8.263383,
          -11.572801,
          5.321514,
          -1.0273799,
          -17.871479,
          7.2632437,
          -8.109056,
          0.49064022,
          7.4999666,
          -15.213086,
          -1.7037386,
          -24.181517,
          -23.385906,
          -22.170233,
          -22.76964
         ],
         "xaxis": "x",
         "y": [
          17.704378,
          -14.862177,
          -1.83753,
          3.8846722,
          -8.647321,
          -16.092394,
          -6.118178,
          -4.097107,
          7.5049605,
          8.793996,
          -3.7098823,
          -3.5336883,
          -15.84141,
          -9.987146,
          6.848719,
          13.607443,
          3.0728192,
          4.653846,
          -8.313404,
          -1.8711044,
          14.778172,
          -13.202668,
          -17.331818,
          2.610228,
          -2.5147264,
          17.905651,
          10.590186,
          -11.018648,
          -13.595057,
          0.021417918,
          10.071672,
          17.656633,
          -12.29084,
          -6.395417,
          15.345314,
          -7.3321514,
          -7.783939,
          -0.3028781,
          -15.174357,
          -17.701939,
          -10.5170355,
          3.6731462,
          -5.000559,
          0.21274173,
          -7.119377,
          -2.0585408,
          1.8011893,
          -4.8012795,
          11.438719,
          -8.017307,
          12.98069,
          12.589361,
          4.914419,
          -1.9452881,
          -8.21062,
          -5.768245,
          1.6042793,
          7.285719,
          5.567397,
          8.436875,
          -7.085992,
          -4.258734,
          -16.394072,
          -6.3727117,
          -5.934238,
          -9.82029,
          9.287991,
          5.4384255,
          -9.684755,
          -13.882046,
          19.073647,
          3.6521568,
          1.6639018,
          1.0241097,
          8.658122,
          19.875666,
          -1.9706321,
          -10.048966,
          14.76426,
          10.089896,
          9.798015,
          11.308436,
          9.104959,
          -1.473006,
          -6.3674974,
          -15.971765,
          -4.394915,
          -20.850908,
          11.264711,
          -14.420092,
          10.8228245,
          -16.32684,
          6.7185683,
          -13.938331,
          15.09866,
          -4.7321596,
          2.09392,
          15.470678,
          -6.705515,
          -12.636867,
          -7.166795,
          7.5719643,
          -11.021316,
          -5.5153403,
          -3.725607,
          7.395045,
          9.291242,
          -17.525007,
          7.9805045,
          -9.6373005,
          -6.626072,
          -4.704358,
          -11.329953,
          -0.22680894,
          20.74055,
          -7.8015814,
          -4.169609,
          -3.791398,
          -1.7626488,
          5.436628,
          -4.969882,
          -2.2219565,
          18.604156,
          -11.469304,
          -8.264499,
          10.340959,
          -7.674057,
          9.430654,
          8.663946,
          10.40916,
          0.6893622,
          -20.354769,
          -2.6107578,
          -13.7215,
          12.638602,
          12.526569,
          -11.962773,
          2.7929742,
          5.7035837,
          6.00913,
          -7.242647,
          3.747438,
          16.383127,
          10.487097,
          3.1667292,
          11.045004,
          -8.863126,
          -8.4891405,
          -1.7319824,
          7.3087745,
          18.703268,
          -2.47545,
          -11.281777,
          -19.17005,
          -1.1580945,
          -10.621717,
          -2.5465796,
          2.4890213,
          -0.6713649,
          12.628504,
          -14.595005,
          -3.7067263,
          10.636835,
          -2.0748086,
          5.1497703,
          -6.0260396,
          -0.17438309,
          11.266632,
          10.772911,
          7.1870213,
          15.470793,
          -6.7222633,
          14.445826,
          16.058836,
          -17.984562,
          13.485338,
          -7.7896433,
          -4.0772214,
          -12.879915,
          8.428118,
          -4.868099,
          4.135456,
          2.837179,
          -6.4890056,
          3.592274,
          -11.465883,
          6.617825,
          18.31625,
          -10.177933,
          -0.0891482,
          8.596834,
          22.751905,
          -10.829625,
          4.661956,
          -9.310895,
          3.8613217,
          5.833239,
          12.183925,
          -6.902464,
          -17.27088,
          22.650951,
          -14.947278,
          -16.445467,
          1.0182889,
          4.41826,
          11.182007,
          -7.513854,
          -9.324631,
          -12.313523,
          -12.402253,
          2.8578591,
          -5.8935914,
          -1.5617485,
          -1.1921558,
          -14.139957,
          15.695549,
          -9.156031,
          9.542215,
          16.058163,
          13.403396,
          -4.1315484,
          -5.752931,
          2.2976172,
          13.590271,
          12.14735,
          -4.178672,
          -16.985466,
          1.3674871,
          9.780436,
          -2.3629878,
          -11.318424,
          17.225685,
          7.2931266,
          -10.437153,
          14.985707,
          8.769627,
          0.74162143,
          22.753956,
          0.3452054,
          13.8114395,
          -4.4484963,
          10.883219,
          2.2727973,
          -6.388319,
          10.345395,
          5.691435,
          -0.8854444,
          14.777863,
          -9.972154,
          -21.364876,
          -7.2633295,
          20.06185,
          -8.637672,
          -13.942273,
          -1.4685725,
          14.467119,
          1.2053937,
          6.152179,
          -8.914651,
          -1.9814785,
          -7.8650265,
          -18.236088,
          5.8439007,
          -11.16411,
          -7.461878,
          6.6980295,
          -13.907195,
          1.1900623,
          -3.269663,
          -1.8105931,
          -0.91388345,
          5.609698,
          4.9995756,
          3.126301,
          9.076749,
          -13.105818,
          11.9245615,
          3.452634,
          -1.9295753,
          9.951776,
          -10.61325,
          -1.175962,
          5.435017,
          -15.3516865,
          2.0251033,
          7.0083995,
          -8.404603,
          1.154195,
          18.761559,
          16.165215,
          11.698233,
          -0.22140406,
          3.4518168,
          3.0219963,
          -19.512392,
          -9.475377,
          9.05036,
          -11.570641,
          -19.108074,
          10.747825,
          2.372198,
          -2.4327874,
          -11.53658,
          10.18516,
          1.6277075,
          14.729337,
          -1.516442,
          -11.473922,
          1.5883704,
          19.87121,
          -7.1730285,
          15.465537,
          -3.9817278,
          -8.991034,
          -4.7737775,
          10.564611,
          18.66515,
          5.519759,
          6.749568,
          19.324635,
          -2.412098,
          13.984792,
          4.771684,
          5.618046,
          0.55853015,
          10.173611,
          12.9363165,
          1.125221,
          -15.806673,
          7.142875,
          20.17251,
          -12.881972,
          -5.5529394,
          -1.1394486,
          -7.943749,
          -18.626362,
          -5.277216,
          -0.6868806,
          13.04004,
          11.053905,
          -16.778341,
          -4.352798,
          -11.910649,
          10.196843,
          9.421423,
          -3.7664216,
          -12.381569,
          4.490866,
          2.193127,
          2.0846546,
          -0.5723986,
          19.023417,
          13.409587,
          -9.754487,
          19.057718,
          21.121807,
          -2.632365,
          -4.626286,
          -17.431307,
          -6.348465,
          1.670227,
          19.678188,
          -8.060222,
          3.3609018,
          6.110626,
          -9.369306,
          17.012909,
          -8.579133,
          8.462564,
          0.9063416,
          -14.474937,
          16.169025,
          -10.879763,
          -5.0595956,
          -0.9283436,
          1.0958843,
          7.3298335,
          -11.269155,
          2.686369,
          7.7979074,
          -17.5302,
          -17.16158,
          -5.965803,
          -9.887171,
          -16.561768,
          3.25344,
          -3.846568,
          1.1380997,
          -2.2943537,
          -14.129325,
          -0.214839,
          -8.0271015,
          -8.2757845,
          0.6729533,
          11.162641,
          8.221893,
          9.742577,
          11.554171,
          -4.353362,
          -7.506192,
          -9.381608,
          -14.011297,
          -18.322647,
          -13.414854,
          -6.5519156,
          1.2937102,
          21.135502,
          8.162329,
          1.1726243,
          13.709823,
          3.9239469,
          -1.5290664,
          15.206214,
          -17.355013,
          -0.25674525,
          -15.295363,
          -13.953005,
          12.241049,
          -6.932461,
          -6.3999434,
          -4.9882483,
          -9.703101,
          8.605245,
          4.2385707,
          16.925596,
          -19.493584,
          -13.929167,
          -17.772032,
          -17.490557,
          12.180772,
          7.519774,
          -3.9445105,
          -2.12183,
          14.346634,
          10.791188,
          -17.1871,
          4.8886666,
          -7.6317654,
          -1.3854736,
          -12.8969345,
          -17.041365,
          11.222421,
          14.44137,
          -11.242597,
          2.8811936,
          1.9815481,
          -0.96687967,
          6.0802975,
          23.900118,
          18.72056,
          -1.7253231,
          9.462717,
          4.9402595,
          -1.1904887,
          4.67024,
          8.941494,
          1.9283229,
          5.508376,
          -6.584742,
          -3.1629503,
          20.902409,
          -16.125574,
          16.388935,
          5.5570297,
          19.11002,
          4.42709,
          -16.375032,
          -3.726737,
          12.541425,
          6.394871,
          2.8903878,
          -1.5227721,
          17.806938,
          -9.477468,
          1.4052787,
          -9.293893,
          -11.424079,
          -2.6053321,
          -4.1951804,
          13.632908,
          9.728873,
          11.968892,
          0.37768984,
          -15.844309,
          13.198584,
          7.2418365,
          10.292491,
          -15.355762,
          -15.390213,
          7.3166294,
          3.287148,
          -3.2759054,
          -4.080028,
          14.249587,
          -5.360152,
          12.294597,
          -8.070216,
          -12.028275,
          -2.9128158,
          9.6472
         ],
         "yaxis": "y"
        }
       ],
       "layout": {
        "coloraxis": {
         "colorbar": {
          "title": {
           "text": "Cluster (-1 = Noise)"
          }
         },
         "colorscale": [
          [
           0,
           "#0d0887"
          ],
          [
           0.1111111111111111,
           "#46039f"
          ],
          [
           0.2222222222222222,
           "#7201a8"
          ],
          [
           0.3333333333333333,
           "#9c179e"
          ],
          [
           0.4444444444444444,
           "#bd3786"
          ],
          [
           0.5555555555555556,
           "#d8576b"
          ],
          [
           0.6666666666666666,
           "#ed7953"
          ],
          [
           0.7777777777777778,
           "#fb9f3a"
          ],
          [
           0.8888888888888888,
           "#fdca26"
          ],
          [
           1,
           "#f0f921"
          ]
         ]
        },
        "height": 700,
        "legend": {
         "tracegroupgap": 0
        },
        "template": {
         "data": {
          "bar": [
           {
            "error_x": {
             "color": "#2a3f5f"
            },
            "error_y": {
             "color": "#2a3f5f"
            },
            "marker": {
             "line": {
              "color": "#E5ECF6",
              "width": 0.5
             },
             "pattern": {
              "fillmode": "overlay",
              "size": 10,
              "solidity": 0.2
             }
            },
            "type": "bar"
           }
          ],
          "barpolar": [
           {
            "marker": {
             "line": {
              "color": "#E5ECF6",
              "width": 0.5
             },
             "pattern": {
              "fillmode": "overlay",
              "size": 10,
              "solidity": 0.2
             }
            },
            "type": "barpolar"
           }
          ],
          "carpet": [
           {
            "aaxis": {
             "endlinecolor": "#2a3f5f",
             "gridcolor": "white",
             "linecolor": "white",
             "minorgridcolor": "white",
             "startlinecolor": "#2a3f5f"
            },
            "baxis": {
             "endlinecolor": "#2a3f5f",
             "gridcolor": "white",
             "linecolor": "white",
             "minorgridcolor": "white",
             "startlinecolor": "#2a3f5f"
            },
            "type": "carpet"
           }
          ],
          "choropleth": [
           {
            "colorbar": {
             "outlinewidth": 0,
             "ticks": ""
            },
            "type": "choropleth"
           }
          ],
          "contour": [
           {
            "colorbar": {
             "outlinewidth": 0,
             "ticks": ""
            },
            "colorscale": [
             [
              0,
              "#0d0887"
             ],
             [
              0.1111111111111111,
              "#46039f"
             ],
             [
              0.2222222222222222,
              "#7201a8"
             ],
             [
              0.3333333333333333,
              "#9c179e"
             ],
             [
              0.4444444444444444,
              "#bd3786"
             ],
             [
              0.5555555555555556,
              "#d8576b"
             ],
             [
              0.6666666666666666,
              "#ed7953"
             ],
             [
              0.7777777777777778,
              "#fb9f3a"
             ],
             [
              0.8888888888888888,
              "#fdca26"
             ],
             [
              1,
              "#f0f921"
             ]
            ],
            "type": "contour"
           }
          ],
          "contourcarpet": [
           {
            "colorbar": {
             "outlinewidth": 0,
             "ticks": ""
            },
            "type": "contourcarpet"
           }
          ],
          "heatmap": [
           {
            "colorbar": {
             "outlinewidth": 0,
             "ticks": ""
            },
            "colorscale": [
             [
              0,
              "#0d0887"
             ],
             [
              0.1111111111111111,
              "#46039f"
             ],
             [
              0.2222222222222222,
              "#7201a8"
             ],
             [
              0.3333333333333333,
              "#9c179e"
             ],
             [
              0.4444444444444444,
              "#bd3786"
             ],
             [
              0.5555555555555556,
              "#d8576b"
             ],
             [
              0.6666666666666666,
              "#ed7953"
             ],
             [
              0.7777777777777778,
              "#fb9f3a"
             ],
             [
              0.8888888888888888,
              "#fdca26"
             ],
             [
              1,
              "#f0f921"
             ]
            ],
            "type": "heatmap"
           }
          ],
          "heatmapgl": [
           {
            "colorbar": {
             "outlinewidth": 0,
             "ticks": ""
            },
            "colorscale": [
             [
              0,
              "#0d0887"
             ],
             [
              0.1111111111111111,
              "#46039f"
             ],
             [
              0.2222222222222222,
              "#7201a8"
             ],
             [
              0.3333333333333333,
              "#9c179e"
             ],
             [
              0.4444444444444444,
              "#bd3786"
             ],
             [
              0.5555555555555556,
              "#d8576b"
             ],
             [
              0.6666666666666666,
              "#ed7953"
             ],
             [
              0.7777777777777778,
              "#fb9f3a"
             ],
             [
              0.8888888888888888,
              "#fdca26"
             ],
             [
              1,
              "#f0f921"
             ]
            ],
            "type": "heatmapgl"
           }
          ],
          "histogram": [
           {
            "marker": {
             "pattern": {
              "fillmode": "overlay",
              "size": 10,
              "solidity": 0.2
             }
            },
            "type": "histogram"
           }
          ],
          "histogram2d": [
           {
            "colorbar": {
             "outlinewidth": 0,
             "ticks": ""
            },
            "colorscale": [
             [
              0,
              "#0d0887"
             ],
             [
              0.1111111111111111,
              "#46039f"
             ],
             [
              0.2222222222222222,
              "#7201a8"
             ],
             [
              0.3333333333333333,
              "#9c179e"
             ],
             [
              0.4444444444444444,
              "#bd3786"
             ],
             [
              0.5555555555555556,
              "#d8576b"
             ],
             [
              0.6666666666666666,
              "#ed7953"
             ],
             [
              0.7777777777777778,
              "#fb9f3a"
             ],
             [
              0.8888888888888888,
              "#fdca26"
             ],
             [
              1,
              "#f0f921"
             ]
            ],
            "type": "histogram2d"
           }
          ],
          "histogram2dcontour": [
           {
            "colorbar": {
             "outlinewidth": 0,
             "ticks": ""
            },
            "colorscale": [
             [
              0,
              "#0d0887"
             ],
             [
              0.1111111111111111,
              "#46039f"
             ],
             [
              0.2222222222222222,
              "#7201a8"
             ],
             [
              0.3333333333333333,
              "#9c179e"
             ],
             [
              0.4444444444444444,
              "#bd3786"
             ],
             [
              0.5555555555555556,
              "#d8576b"
             ],
             [
              0.6666666666666666,
              "#ed7953"
             ],
             [
              0.7777777777777778,
              "#fb9f3a"
             ],
             [
              0.8888888888888888,
              "#fdca26"
             ],
             [
              1,
              "#f0f921"
             ]
            ],
            "type": "histogram2dcontour"
           }
          ],
          "mesh3d": [
           {
            "colorbar": {
             "outlinewidth": 0,
             "ticks": ""
            },
            "type": "mesh3d"
           }
          ],
          "parcoords": [
           {
            "line": {
             "colorbar": {
              "outlinewidth": 0,
              "ticks": ""
             }
            },
            "type": "parcoords"
           }
          ],
          "pie": [
           {
            "automargin": true,
            "type": "pie"
           }
          ],
          "scatter": [
           {
            "fillpattern": {
             "fillmode": "overlay",
             "size": 10,
             "solidity": 0.2
            },
            "type": "scatter"
           }
          ],
          "scatter3d": [
           {
            "line": {
             "colorbar": {
              "outlinewidth": 0,
              "ticks": ""
             }
            },
            "marker": {
             "colorbar": {
              "outlinewidth": 0,
              "ticks": ""
             }
            },
            "type": "scatter3d"
           }
          ],
          "scattercarpet": [
           {
            "marker": {
             "colorbar": {
              "outlinewidth": 0,
              "ticks": ""
             }
            },
            "type": "scattercarpet"
           }
          ],
          "scattergeo": [
           {
            "marker": {
             "colorbar": {
              "outlinewidth": 0,
              "ticks": ""
             }
            },
            "type": "scattergeo"
           }
          ],
          "scattergl": [
           {
            "marker": {
             "colorbar": {
              "outlinewidth": 0,
              "ticks": ""
             }
            },
            "type": "scattergl"
           }
          ],
          "scattermapbox": [
           {
            "marker": {
             "colorbar": {
              "outlinewidth": 0,
              "ticks": ""
             }
            },
            "type": "scattermapbox"
           }
          ],
          "scatterpolar": [
           {
            "marker": {
             "colorbar": {
              "outlinewidth": 0,
              "ticks": ""
             }
            },
            "type": "scatterpolar"
           }
          ],
          "scatterpolargl": [
           {
            "marker": {
             "colorbar": {
              "outlinewidth": 0,
              "ticks": ""
             }
            },
            "type": "scatterpolargl"
           }
          ],
          "scatterternary": [
           {
            "marker": {
             "colorbar": {
              "outlinewidth": 0,
              "ticks": ""
             }
            },
            "type": "scatterternary"
           }
          ],
          "surface": [
           {
            "colorbar": {
             "outlinewidth": 0,
             "ticks": ""
            },
            "colorscale": [
             [
              0,
              "#0d0887"
             ],
             [
              0.1111111111111111,
              "#46039f"
             ],
             [
              0.2222222222222222,
              "#7201a8"
             ],
             [
              0.3333333333333333,
              "#9c179e"
             ],
             [
              0.4444444444444444,
              "#bd3786"
             ],
             [
              0.5555555555555556,
              "#d8576b"
             ],
             [
              0.6666666666666666,
              "#ed7953"
             ],
             [
              0.7777777777777778,
              "#fb9f3a"
             ],
             [
              0.8888888888888888,
              "#fdca26"
             ],
             [
              1,
              "#f0f921"
             ]
            ],
            "type": "surface"
           }
          ],
          "table": [
           {
            "cells": {
             "fill": {
              "color": "#EBF0F8"
             },
             "line": {
              "color": "white"
             }
            },
            "header": {
             "fill": {
              "color": "#C8D4E3"
             },
             "line": {
              "color": "white"
             }
            },
            "type": "table"
           }
          ]
         },
         "layout": {
          "annotationdefaults": {
           "arrowcolor": "#2a3f5f",
           "arrowhead": 0,
           "arrowwidth": 1
          },
          "autotypenumbers": "strict",
          "coloraxis": {
           "colorbar": {
            "outlinewidth": 0,
            "ticks": ""
           }
          },
          "colorscale": {
           "diverging": [
            [
             0,
             "#8e0152"
            ],
            [
             0.1,
             "#c51b7d"
            ],
            [
             0.2,
             "#de77ae"
            ],
            [
             0.3,
             "#f1b6da"
            ],
            [
             0.4,
             "#fde0ef"
            ],
            [
             0.5,
             "#f7f7f7"
            ],
            [
             0.6,
             "#e6f5d0"
            ],
            [
             0.7,
             "#b8e186"
            ],
            [
             0.8,
             "#7fbc41"
            ],
            [
             0.9,
             "#4d9221"
            ],
            [
             1,
             "#276419"
            ]
           ],
           "sequential": [
            [
             0,
             "#0d0887"
            ],
            [
             0.1111111111111111,
             "#46039f"
            ],
            [
             0.2222222222222222,
             "#7201a8"
            ],
            [
             0.3333333333333333,
             "#9c179e"
            ],
            [
             0.4444444444444444,
             "#bd3786"
            ],
            [
             0.5555555555555556,
             "#d8576b"
            ],
            [
             0.6666666666666666,
             "#ed7953"
            ],
            [
             0.7777777777777778,
             "#fb9f3a"
            ],
            [
             0.8888888888888888,
             "#fdca26"
            ],
            [
             1,
             "#f0f921"
            ]
           ],
           "sequentialminus": [
            [
             0,
             "#0d0887"
            ],
            [
             0.1111111111111111,
             "#46039f"
            ],
            [
             0.2222222222222222,
             "#7201a8"
            ],
            [
             0.3333333333333333,
             "#9c179e"
            ],
            [
             0.4444444444444444,
             "#bd3786"
            ],
            [
             0.5555555555555556,
             "#d8576b"
            ],
            [
             0.6666666666666666,
             "#ed7953"
            ],
            [
             0.7777777777777778,
             "#fb9f3a"
            ],
            [
             0.8888888888888888,
             "#fdca26"
            ],
            [
             1,
             "#f0f921"
            ]
           ]
          },
          "colorway": [
           "#636efa",
           "#EF553B",
           "#00cc96",
           "#ab63fa",
           "#FFA15A",
           "#19d3f3",
           "#FF6692",
           "#B6E880",
           "#FF97FF",
           "#FECB52"
          ],
          "font": {
           "color": "#2a3f5f"
          },
          "geo": {
           "bgcolor": "white",
           "lakecolor": "white",
           "landcolor": "#E5ECF6",
           "showlakes": true,
           "showland": true,
           "subunitcolor": "white"
          },
          "hoverlabel": {
           "align": "left"
          },
          "hovermode": "closest",
          "mapbox": {
           "style": "light"
          },
          "paper_bgcolor": "white",
          "plot_bgcolor": "#E5ECF6",
          "polar": {
           "angularaxis": {
            "gridcolor": "white",
            "linecolor": "white",
            "ticks": ""
           },
           "bgcolor": "#E5ECF6",
           "radialaxis": {
            "gridcolor": "white",
            "linecolor": "white",
            "ticks": ""
           }
          },
          "scene": {
           "xaxis": {
            "backgroundcolor": "#E5ECF6",
            "gridcolor": "white",
            "gridwidth": 2,
            "linecolor": "white",
            "showbackground": true,
            "ticks": "",
            "zerolinecolor": "white"
           },
           "yaxis": {
            "backgroundcolor": "#E5ECF6",
            "gridcolor": "white",
            "gridwidth": 2,
            "linecolor": "white",
            "showbackground": true,
            "ticks": "",
            "zerolinecolor": "white"
           },
           "zaxis": {
            "backgroundcolor": "#E5ECF6",
            "gridcolor": "white",
            "gridwidth": 2,
            "linecolor": "white",
            "showbackground": true,
            "ticks": "",
            "zerolinecolor": "white"
           }
          },
          "shapedefaults": {
           "line": {
            "color": "#2a3f5f"
           }
          },
          "ternary": {
           "aaxis": {
            "gridcolor": "white",
            "linecolor": "white",
            "ticks": ""
           },
           "baxis": {
            "gridcolor": "white",
            "linecolor": "white",
            "ticks": ""
           },
           "bgcolor": "#E5ECF6",
           "caxis": {
            "gridcolor": "white",
            "linecolor": "white",
            "ticks": ""
           }
          },
          "title": {
           "x": 0.05
          },
          "xaxis": {
           "automargin": true,
           "gridcolor": "white",
           "linecolor": "white",
           "ticks": "",
           "title": {
            "standoff": 15
           },
           "zerolinecolor": "white",
           "zerolinewidth": 2
          },
          "yaxis": {
           "automargin": true,
           "gridcolor": "white",
           "linecolor": "white",
           "ticks": "",
           "title": {
            "standoff": 15
           },
           "zerolinecolor": "white",
           "zerolinewidth": 2
          }
         }
        },
        "title": {
         "text": "t-SNE Visualization - DBSCAN Clusters"
        },
        "width": 1000,
        "xaxis": {
         "anchor": "y",
         "domain": [
          0,
          1
         ],
         "title": {
          "text": "tsne_x"
         }
        },
        "yaxis": {
         "anchor": "x",
         "domain": [
          0,
          1
         ],
         "title": {
          "text": "tsne_y"
         }
        }
       }
      }
     },
     "metadata": {},
     "output_type": "display_data"
    }
   ],
   "source": [
    "# Interactive t-SNE plot with DBSCAN clusters\n",
    "fig = px.scatter(\n",
    "    df_sample,\n",
    "    x='tsne_x',\n",
    "    y='tsne_y',\n",
    "    color='cluster_dbscan',\n",
    "    hover_data=['company_name', 'short_description', 'batch', 'status'],\n",
    "    title='t-SNE Visualization - DBSCAN Clusters',\n",
    "    labels={'cluster_dbscan': 'Cluster (-1 = Noise)'},\n",
    "    color_continuous_scale='plasma'\n",
    ")\n",
    "\n",
    "fig.update_traces(marker=dict(size=8, opacity=0.7))\n",
    "fig.update_layout(height=700, width=1000)\n",
    "fig.show()"
   ]
  },
  {
   "cell_type": "markdown",
   "metadata": {},
   "source": [
    "## 5. Cluster Analysis & Interpretation"
   ]
  },
  {
   "cell_type": "code",
   "execution_count": 14,
   "metadata": {},
   "outputs": [
    {
     "name": "stdout",
     "output_type": "stream",
     "text": [
      "\n",
      "================================================================================\n",
      "CLUSTER 0 - 31 companies (6.2%)\n",
      "================================================================================\n",
      "\n",
      "📊 Top Tags:\n",
      "  • marketplace: 6 (19.4%)\n",
      "  • fintech: 5 (16.1%)\n",
      "  • saas: 4 (12.9%)\n",
      "  • consumer: 3 (9.7%)\n",
      "  • food-tech: 3 (9.7%)\n",
      "\n",
      "📈 Status Distribution:\n",
      "  • Active: 17 (54.8%)\n",
      "  • Inactive: 7 (22.6%)\n",
      "  • Acquired: 7 (22.6%)\n",
      "\n",
      "📍 Top Locations:\n",
      "  • San Francisco: 15\n",
      "  • New York: 2\n",
      "  • Los Angeles, CA: 2\n",
      "\n",
      "💼 Sample Companies:\n",
      "  • No Lean Season: A bus ticket out of poverty...\n",
      "  • Upsolve: Helping low-income Americans overcome debt and rebuild credit at…...\n",
      "  • HigherMe: Helping restaurant employers find & hire better employees faster...\n",
      "  • Rhythmm: Read interesting conversations...\n",
      "  • yhangry: Marketplace for private chefs...\n",
      "\n",
      "================================================================================\n",
      "CLUSTER 1 - 77 companies (15.4%)\n",
      "================================================================================\n",
      "\n",
      "📊 Top Tags:\n",
      "  • b2b: 31 (40.3%)\n",
      "  • artificial-intelligence: 27 (35.1%)\n",
      "  • saas: 23 (29.9%)\n",
      "  • ai: 23 (29.9%)\n",
      "  • generative-ai: 11 (14.3%)\n",
      "\n",
      "📈 Status Distribution:\n",
      "  • Active: 66 (85.7%)\n",
      "  • Inactive: 6 (7.8%)\n",
      "  • Acquired: 5 (6.5%)\n",
      "\n",
      "📍 Top Locations:\n",
      "  • San Francisco: 38\n",
      "  • New York: 6\n",
      "  • Palo Alto: 2\n",
      "\n",
      "💼 Sample Companies:\n",
      "  • Ficra: Real time, source of truth for every product screen and user flow...\n",
      "  • Opusense AI: AI for Field Inspection Reports...\n",
      "  • Dimely: AI agents for B2B SaaS Finance Teams...\n",
      "  • Amiato: The BI bridge for unstructured data. We automatically bridge the gap…...\n",
      "  • OpenSight: AI-powered customer support automation for fast-growing companies...\n",
      "\n",
      "================================================================================\n",
      "CLUSTER 2 - 15 companies (3.0%)\n",
      "================================================================================\n",
      "\n",
      "📊 Top Tags:\n",
      "  • education: 13 (86.7%)\n",
      "  • elearning: 4 (26.7%)\n",
      "  • saas: 3 (20.0%)\n",
      "  • subscriptions: 3 (20.0%)\n",
      "  • marketplace: 3 (20.0%)\n",
      "\n",
      "📈 Status Distribution:\n",
      "  • Active: 10 (66.7%)\n",
      "  • Inactive: 4 (26.7%)\n",
      "  • Acquired: 1 (6.7%)\n",
      "\n",
      "📍 Top Locations:\n",
      "  • San Francisco: 5\n",
      "  • Mountain View: 1\n",
      "  • Washington, DC: 1\n",
      "\n",
      "💼 Sample Companies:\n",
      "  • GiveCampus: The fundraising platform for schools....\n",
      "  • OpenCurriculum: Helping K-12 teachers and school administrators build awesome…...\n",
      "  • Durioo: Streaming Platform for Muslim Children...\n",
      "  • Bloom Institute of Technology: The online coding school that invests in you....\n",
      "  • Mystery.org: We help kids stay curious by creating better explanations....\n",
      "\n",
      "================================================================================\n",
      "CLUSTER 3 - 37 companies (7.4%)\n",
      "================================================================================\n",
      "\n",
      "📊 Top Tags:\n",
      "  • saas: 18 (48.6%)\n",
      "  • b2b: 16 (43.2%)\n",
      "  • logistics: 4 (10.8%)\n",
      "  • productivity: 4 (10.8%)\n",
      "  • proptech: 3 (8.1%)\n",
      "\n",
      "📈 Status Distribution:\n",
      "  • Active: 22 (59.5%)\n",
      "  • Acquired: 8 (21.6%)\n",
      "  • Inactive: 7 (18.9%)\n",
      "\n",
      "📍 Top Locations:\n",
      "  • San Francisco: 9\n",
      "  • New York: 3\n",
      "  • Mountain View: 3\n",
      "\n",
      "💼 Sample Companies:\n",
      "  • Profig: The phone system for businesses. Manage everything from your company…...\n",
      "  • FlexDesk: One platform for corporate occupiers to manage their office portfolios...\n",
      "  • Topship: Flexport for African Merchants - Building the OS for Global Logistics...\n",
      "  • Backdrop: Vertical SaaS for $650B+ Film, TV, Music & Event Production Industry ...\n",
      "  • Worklytics: Analytics to improve how teams work and collaborate...\n",
      "\n",
      "================================================================================\n",
      "CLUSTER 4 - 13 companies (2.6%)\n",
      "================================================================================\n",
      "\n",
      "📊 Top Tags:\n",
      "  • saas: 4 (30.8%)\n",
      "  • b2b: 4 (30.8%)\n",
      "  • artificial-intelligence: 3 (23.1%)\n",
      "  • data-visualization: 2 (15.4%)\n",
      "  • geographic-information-system: 1 (7.7%)\n",
      "\n",
      "📈 Status Distribution:\n",
      "  • Active: 10 (76.9%)\n",
      "  • Acquired: 2 (15.4%)\n",
      "  • Inactive: 1 (7.7%)\n",
      "\n",
      "📍 Top Locations:\n",
      "  • San Francisco: 5\n",
      "  • New York: 3\n",
      "  • Vancouver, Canada: 1\n",
      "\n",
      "💼 Sample Companies:\n",
      "  • Matidor.com: Project management on a live map...\n",
      "  • Mayhem: Mayhem is the easiest way to play with your gaming community....\n",
      "  • Manaflow: Build internal tools for AI using natural language...\n",
      "  • Landeed: Landeed is India's fastest property title search engine ...\n",
      "  • Mesh: Building your AI finance co-worker...\n",
      "\n",
      "================================================================================\n",
      "CLUSTER 5 - 38 companies (7.6%)\n",
      "================================================================================\n",
      "\n",
      "📊 Top Tags:\n",
      "  • fintech: 31 (81.6%)\n",
      "  • neobank: 8 (21.1%)\n",
      "  • payments: 8 (21.1%)\n",
      "  • saas: 8 (21.1%)\n",
      "  • b2b: 7 (18.4%)\n",
      "\n",
      "📈 Status Distribution:\n",
      "  • Active: 26 (68.4%)\n",
      "  • Inactive: 7 (18.4%)\n",
      "  • Acquired: 5 (13.2%)\n",
      "\n",
      "📍 Top Locations:\n",
      "  • San Francisco: 5\n",
      "  • Lagos, Nigeria: 3\n",
      "  • Dubai, United Arab Emirates: 2\n",
      "\n",
      "💼 Sample Companies:\n",
      "  • Conta Simples: All-in-one financial platform for latam Startups and SMBs....\n",
      "  • Finary.com: The new wealth manager for Europe...\n",
      "  • Whiz: Transforming Finances, Maximizing Your Money Potential....\n",
      "  • Elevate (formerly Bloom): US based USD accounts for non-US residents ...\n",
      "  • Treinta: Digital ledger App for Latam microbusinesses...\n",
      "\n",
      "================================================================================\n",
      "CLUSTER 6 - 29 companies (5.8%)\n",
      "================================================================================\n",
      "\n",
      "📊 Top Tags:\n",
      "  • health-tech: 12 (41.4%)\n",
      "  • healthcare: 12 (41.4%)\n",
      "  • artificial-intelligence: 8 (27.6%)\n",
      "  • medical-devices: 6 (20.7%)\n",
      "  • digital-health: 5 (17.2%)\n",
      "\n",
      "📈 Status Distribution:\n",
      "  • Active: 26 (89.7%)\n",
      "  • Acquired: 2 (6.9%)\n",
      "  • Inactive: 1 (3.4%)\n",
      "\n",
      "📍 Top Locations:\n",
      "  • San Francisco: 14\n",
      "  • New York: 3\n",
      "  • Austin, TX: 2\n",
      "\n",
      "💼 Sample Companies:\n",
      "  • Pair Team: Connecting underserved communities to high quality care...\n",
      "  • Centaur Labs: Labeling medical data at scale...\n",
      "  • HealthSherpa: Private sector Healthcare.gov. ...\n",
      "  • Newton: AI-powered phone platform for dentists...\n",
      "  • MedXT: Radiology in the cloud.  X-rays, CAT scans, MRI's, and…...\n",
      "\n",
      "================================================================================\n",
      "CLUSTER 7 - 20 companies (4.0%)\n",
      "================================================================================\n",
      "\n",
      "📊 Top Tags:\n",
      "  • biotech: 9 (45.0%)\n",
      "  • therapeutics: 6 (30.0%)\n",
      "  • oncology: 4 (20.0%)\n",
      "  • gene-therapy: 4 (20.0%)\n",
      "  • drug-discovery: 3 (15.0%)\n",
      "\n",
      "📈 Status Distribution:\n",
      "  • Active: 19 (95.0%)\n",
      "  • Inactive: 1 (5.0%)\n",
      "\n",
      "📍 Top Locations:\n",
      "  • San Francisco: 3\n",
      "  • Boston: 2\n",
      "  • Berkeley, CA: 2\n",
      "\n",
      "💼 Sample Companies:\n",
      "  • Alixia: Targeting the Tumor Ecosystem to address cancer drug resistance....\n",
      "  • Kilobaser: Desktop DNA Printer. The Nespresso Machine for DNA....\n",
      "  • Nomic Bio: Nomic is doing for proteins what Illumina has done for DNA...\n",
      "  • SynsoryBio: \"If-then\" conditional logic for protein drugs...\n",
      "  • ParcelBio: Next-generation mRNA medicines...\n",
      "\n",
      "================================================================================\n",
      "CLUSTER 8 - 3 companies (0.6%)\n",
      "================================================================================\n",
      "\n",
      "📊 Top Tags:\n",
      "  • developer-tools: 2 (66.7%)\n",
      "  • generative-ai: 2 (66.7%)\n",
      "  • reinforcement-learning: 2 (66.7%)\n",
      "  • analytics: 1 (33.3%)\n",
      "  • open-source: 1 (33.3%)\n",
      "\n",
      "📈 Status Distribution:\n",
      "  • Active: 3 (100.0%)\n",
      "\n",
      "📍 Top Locations:\n",
      "  • San Francisco: 2\n",
      "  • Berlin, Germany: 1\n",
      "\n",
      "💼 Sample Companies:\n",
      "  • Langfuse: Open source LLM engineering platform...\n",
      "  • TrainLoop: Reasoning Fine-Tuning...\n",
      "  • hillclimb: Math RL Environments for Post-training...\n",
      "\n",
      "================================================================================\n",
      "CLUSTER 9 - 42 companies (8.4%)\n",
      "================================================================================\n",
      "\n",
      "📊 Top Tags:\n",
      "  • e-commerce: 14 (33.3%)\n",
      "  • marketplace: 8 (19.0%)\n",
      "  • b2b: 8 (19.0%)\n",
      "  • saas: 7 (16.7%)\n",
      "  • retail: 5 (11.9%)\n",
      "\n",
      "📈 Status Distribution:\n",
      "  • Inactive: 20 (47.6%)\n",
      "  • Active: 18 (42.9%)\n",
      "  • Acquired: 4 (9.5%)\n",
      "\n",
      "📍 Top Locations:\n",
      "  • San Francisco: 10\n",
      "  • New York: 7\n",
      "  • Los Angeles, CA: 3\n",
      "\n",
      "💼 Sample Companies:\n",
      "  • ClipDrop: Turn regular mobile photos into professional product visuals...\n",
      "  • DGI Apparel: Expedia for ordering blank apparel...\n",
      "  • Popcuts: Popcuts is an online music store where fans participate in the…...\n",
      "  • Hideout: A portfolio of delivery-only restaurant brands...\n",
      "  • OneStopKitchen: AI-Driven Tech & Space Optimization to Scale Restaurants...\n",
      "\n",
      "================================================================================\n",
      "CLUSTER 10 - 30 companies (6.0%)\n",
      "================================================================================\n",
      "\n",
      "📊 Top Tags:\n",
      "  • fintech: 10 (33.3%)\n",
      "  • crypto-web3: 5 (16.7%)\n",
      "  • saas: 4 (13.3%)\n",
      "  • finance: 3 (10.0%)\n",
      "  • marketplace: 3 (10.0%)\n",
      "\n",
      "📈 Status Distribution:\n",
      "  • Active: 18 (60.0%)\n",
      "  • Inactive: 7 (23.3%)\n",
      "  • Acquired: 5 (16.7%)\n",
      "\n",
      "📍 Top Locations:\n",
      "  • San Francisco: 12\n",
      "  • New York: 4\n",
      "  • Palo Alto: 2\n",
      "\n",
      "💼 Sample Companies:\n",
      "  • Checkr: People infrastructure for the future of work...\n",
      "  • Cribspot: Tech-Enabled Real Estate Company (YC W15)...\n",
      "  • CoinTracker: The gold standard in cryptocurrency portfolio tracking and taxes...\n",
      "  • Cabal: Private workspace for founders, investors, and advisors to collaborate...\n",
      "  • Care Weather: The highest-accuracy global weather data from low-cost flat satellites...\n",
      "\n",
      "================================================================================\n",
      "CLUSTER 11 - 37 companies (7.4%)\n",
      "================================================================================\n",
      "\n",
      "📊 Top Tags:\n",
      "  • developer-tools: 13 (35.1%)\n",
      "  • security: 7 (18.9%)\n",
      "  • cloud-computing: 6 (16.2%)\n",
      "  • saas: 6 (16.2%)\n",
      "  • api: 4 (10.8%)\n",
      "\n",
      "📈 Status Distribution:\n",
      "  • Active: 21 (56.8%)\n",
      "  • Inactive: 8 (21.6%)\n",
      "  • Acquired: 7 (18.9%)\n",
      "\n",
      "📍 Top Locations:\n",
      "  • San Francisco: 18\n",
      "  • Mountain View: 2\n",
      "  • Miami, FL: 1\n",
      "\n",
      "💼 Sample Companies:\n",
      "  • StackMachine: Instant sandboxed server environments...\n",
      "  • QuickNode: Tools & infra to build and scale high-quality blockchain applications....\n",
      "  • EdgeBit: Autofix your software dependencies...\n",
      "  • BarSense: Kid's first smartphone with web-based parental controls....\n",
      "  • Alter: Secure access control and authorization platform for agent workflows...\n",
      "\n",
      "================================================================================\n",
      "CLUSTER 12 - 23 companies (4.6%)\n",
      "================================================================================\n",
      "\n",
      "📊 Top Tags:\n",
      "  • artificial-intelligence: 14 (60.9%)\n",
      "  • developer-tools: 7 (30.4%)\n",
      "  • generative-ai: 7 (30.4%)\n",
      "  • ai: 6 (26.1%)\n",
      "  • ai-assistant: 5 (21.7%)\n",
      "\n",
      "📈 Status Distribution:\n",
      "  • Active: 18 (78.3%)\n",
      "  • Acquired: 4 (17.4%)\n",
      "  • Inactive: 1 (4.3%)\n",
      "\n",
      "📍 Top Locations:\n",
      "  • San Francisco: 11\n",
      "  • New York: 3\n",
      "  • London, United Kingdom: 2\n",
      "\n",
      "💼 Sample Companies:\n",
      "  • FlowiseAI: Open source GenAI development platform...\n",
      "  • Pythagora: Worlds first all-in-one AI development platform....\n",
      "  • Idler: Scale AI for reinforcement learning environments. ...\n",
      "  • Legora (formerly Leya): The AI workspace for lawyers...\n",
      "  • Guide Labs: Interpretable AI models and agents that are easy to audit and…...\n",
      "\n",
      "================================================================================\n",
      "CLUSTER 13 - 44 companies (8.8%)\n",
      "================================================================================\n",
      "\n",
      "📊 Top Tags:\n",
      "  • artificial-intelligence: 14 (31.8%)\n",
      "  • b2b: 7 (15.9%)\n",
      "  • robotics: 7 (15.9%)\n",
      "  • cybersecurity: 6 (13.6%)\n",
      "  • hardware: 6 (13.6%)\n",
      "\n",
      "📈 Status Distribution:\n",
      "  • Active: 33 (75.0%)\n",
      "  • Acquired: 7 (15.9%)\n",
      "  • Inactive: 4 (9.1%)\n",
      "\n",
      "📍 Top Locations:\n",
      "  • San Francisco: 19\n",
      "  • New York: 4\n",
      "  • Palo Alto: 2\n",
      "\n",
      "💼 Sample Companies:\n",
      "  • PromptArmor: LLM Security and Compliance...\n",
      "  • RADAR: RADAR is building technology to completely transform the in-store…...\n",
      "  • Fume: We are building the AI Software Developer...\n",
      "  • Bronco AI: AI for ASIC Design Verification...\n",
      "  • ComplyDo: More Comply, Less Do. Most flexible compliance engine for enterprises....\n",
      "\n",
      "================================================================================\n",
      "CLUSTER 14 - 27 companies (5.4%)\n",
      "================================================================================\n",
      "\n",
      "📊 Top Tags:\n",
      "  • developer-tools: 12 (44.4%)\n",
      "  • saas: 7 (25.9%)\n",
      "  • ai: 6 (22.2%)\n",
      "  • productivity: 5 (18.5%)\n",
      "  • design-tools: 4 (14.8%)\n",
      "\n",
      "📈 Status Distribution:\n",
      "  • Active: 20 (74.1%)\n",
      "  • Inactive: 4 (14.8%)\n",
      "  • Acquired: 3 (11.1%)\n",
      "\n",
      "📍 Top Locations:\n",
      "  • San Francisco: 9\n",
      "  • New York: 5\n",
      "  • NY: 1\n",
      "\n",
      "💼 Sample Companies:\n",
      "  • Operator Labs: Building protocols for the intelligent, decentralized web....\n",
      "  • Stamp: The AI Native Email Client...\n",
      "  • Clover: The all-in-one notebook for creatives to brainstorm, write, and plan…...\n",
      "  • Variant: Creative intelligence...\n",
      "  • Axolo: Improving Developer Experience with Streamlined Code Reviews...\n",
      "\n",
      "================================================================================\n",
      "CLUSTER 15 - 14 companies (2.8%)\n",
      "================================================================================\n",
      "\n",
      "📊 Top Tags:\n",
      "  • climate: 9 (64.3%)\n",
      "  • hard-tech: 6 (42.9%)\n",
      "  • manufacturing: 4 (28.6%)\n",
      "  • energy-storage: 3 (21.4%)\n",
      "  • hardware: 2 (14.3%)\n",
      "\n",
      "📈 Status Distribution:\n",
      "  • Active: 13 (92.9%)\n",
      "  • Inactive: 1 (7.1%)\n",
      "\n",
      "📍 Top Locations:\n",
      "  • San Francisco: 2\n",
      "  • Austin, TX: 1\n",
      "  • London, United Kingdom: 1\n",
      "\n",
      "💼 Sample Companies:\n",
      "  • OutSail Technologies: Revolutionary, Modern Wing Sails...\n",
      "  • Perl Street: Financing the next-generation of infrastructure projects...\n",
      "  • CircuitHub: On-Demand Electronics Manufacturing...\n",
      "  • Advano: Advano is a battery technology company that improve the longevity of…...\n",
      "  • Enerjazz: Making electric vehicle batteries affordable ...\n",
      "\n",
      "================================================================================\n",
      "CLUSTER 16 - 20 companies (4.0%)\n",
      "================================================================================\n",
      "\n",
      "📊 Top Tags:\n",
      "  • healthcare: 10 (50.0%)\n",
      "  • health-tech: 7 (35.0%)\n",
      "  • consumer-health-services: 5 (25.0%)\n",
      "  • digital-health: 4 (20.0%)\n",
      "  • telehealth: 3 (15.0%)\n",
      "\n",
      "📈 Status Distribution:\n",
      "  • Active: 13 (65.0%)\n",
      "  • Inactive: 6 (30.0%)\n",
      "  • Acquired: 1 (5.0%)\n",
      "\n",
      "📍 Top Locations:\n",
      "  • San Francisco: 7\n",
      "  • India: 2\n",
      "  • Bengaluru, India: 2\n",
      "\n",
      "💼 Sample Companies:\n",
      "  • Blueberry Pediatrics: 24/7 pediatric clinic in every family's living room...\n",
      "  • Farmako Healthcare: India's fastest medicine delivery in just 30 minutes...\n",
      "  • Loula: Enabling birth & postpartum doulas to easily accept Medicaid...\n",
      "  • Reliance Health: We make healthcare in emerging markets affordable and accessible...\n",
      "  • Vitalize: The OS for Hospital Operations...\n"
     ]
    }
   ],
   "source": [
    "# Analyze each K-means cluster\n",
    "def analyze_cluster(df, cluster_id, cluster_col='cluster_kmeans'):\n",
    "    \"\"\"\n",
    "    Analyze characteristics of a cluster\n",
    "    \"\"\"\n",
    "    cluster_df = df[df[cluster_col] == cluster_id]\n",
    "    \n",
    "    print(f\"\\n{'='*80}\")\n",
    "    print(f\"CLUSTER {cluster_id} - {len(cluster_df)} companies ({len(cluster_df)/len(df)*100:.1f}%)\")\n",
    "    print(f\"{'='*80}\")\n",
    "    \n",
    "    # Top tags\n",
    "    all_tags = []\n",
    "    for tags in cluster_df['tags'].dropna():\n",
    "        if isinstance(tags, list):\n",
    "            all_tags.extend(tags)\n",
    "    \n",
    "    tag_counts = Counter(all_tags)\n",
    "    print(f\"\\n📊 Top Tags:\")\n",
    "    for tag, count in tag_counts.most_common(5):\n",
    "        print(f\"  • {tag}: {count} ({count/len(cluster_df)*100:.1f}%)\")\n",
    "    \n",
    "    # Status distribution\n",
    "    print(f\"\\n📈 Status Distribution:\")\n",
    "    for status, count in cluster_df['status'].value_counts().head(3).items():\n",
    "        print(f\"  • {status}: {count} ({count/len(cluster_df)*100:.1f}%)\")\n",
    "    \n",
    "    # Top locations\n",
    "    print(f\"\\n📍 Top Locations:\")\n",
    "    for loc, count in cluster_df['location'].value_counts().head(3).items():\n",
    "        print(f\"  • {loc}: {count}\")\n",
    "    \n",
    "    # Sample companies\n",
    "    print(f\"\\n💼 Sample Companies:\")\n",
    "    for idx, row in cluster_df.head(5).iterrows():\n",
    "        print(f\"  • {row['company_name']}: {row['short_description'][:80]}...\")\n",
    "\n",
    "# Analyze all clusters\n",
    "for cluster_id in sorted(df_sample['cluster_kmeans'].unique()):\n",
    "    analyze_cluster(df_sample, cluster_id)"
   ]
  },
  {
   "cell_type": "markdown",
   "metadata": {},
   "source": [
    "## 6. Cluster Comparison"
   ]
  },
  {
   "cell_type": "code",
   "execution_count": 15,
   "metadata": {},
   "outputs": [
    {
     "name": "stdout",
     "output_type": "stream",
     "text": [
      "\n",
      "📊 CLUSTER COMPARISON:\n",
      "                Size  Avg_Founders  Avg_Team_Size  Avg_Year_Founded  Success_Rate\n",
      "cluster_kmeans                                                                   \n",
      "0                 31          2.10         309.63           2015.79          22.6\n",
      "1                 77          2.14          12.55           2022.33           6.5\n",
      "2                 15          2.07          60.21           2018.00           6.7\n",
      "3                 37          1.92          43.58           2017.97          21.6\n",
      "4                 13          2.15           9.54           2021.91          15.4\n",
      "5                 38          2.13          42.00           2020.00          13.2\n",
      "6                 29          1.97          26.55           2020.19           6.9\n",
      "7                 20          2.05          47.95           2018.60           0.0\n",
      "8                  3          2.33           5.67           2024.00           0.0\n",
      "9                 42          1.83          22.24           2018.10           9.5\n",
      "10                30          1.80          52.00           2018.40          16.7\n",
      "11                37          1.97          53.35           2019.89          21.6\n",
      "12                23          1.83          33.74           2022.00          17.4\n",
      "13                44          1.91          10.24           2022.16          15.9\n",
      "14                27          2.04           4.30           2021.05          11.1\n",
      "15                14          1.79          13.29           2019.23           0.0\n",
      "16                20          2.10          35.15           2019.75           5.0\n"
     ]
    },
    {
     "data": {
      "application/vnd.plotly.v1+json": {
       "config": {
        "plotlyServerURL": "https://plot.ly"
       },
       "data": [
        {
         "marker": {
          "color": "steelblue"
         },
         "text": [
          31,
          77,
          15,
          37,
          13,
          38,
          29,
          20,
          3,
          42,
          30,
          37,
          23,
          44,
          27,
          14,
          20
         ],
         "textposition": "outside",
         "type": "bar",
         "x": [
          0,
          1,
          2,
          3,
          4,
          5,
          6,
          7,
          8,
          9,
          10,
          11,
          12,
          13,
          14,
          15,
          16
         ],
         "y": [
          31,
          77,
          15,
          37,
          13,
          38,
          29,
          20,
          3,
          42,
          30,
          37,
          23,
          44,
          27,
          14,
          20
         ]
        }
       ],
       "layout": {
        "height": 400,
        "template": {
         "data": {
          "bar": [
           {
            "error_x": {
             "color": "#2a3f5f"
            },
            "error_y": {
             "color": "#2a3f5f"
            },
            "marker": {
             "line": {
              "color": "#E5ECF6",
              "width": 0.5
             },
             "pattern": {
              "fillmode": "overlay",
              "size": 10,
              "solidity": 0.2
             }
            },
            "type": "bar"
           }
          ],
          "barpolar": [
           {
            "marker": {
             "line": {
              "color": "#E5ECF6",
              "width": 0.5
             },
             "pattern": {
              "fillmode": "overlay",
              "size": 10,
              "solidity": 0.2
             }
            },
            "type": "barpolar"
           }
          ],
          "carpet": [
           {
            "aaxis": {
             "endlinecolor": "#2a3f5f",
             "gridcolor": "white",
             "linecolor": "white",
             "minorgridcolor": "white",
             "startlinecolor": "#2a3f5f"
            },
            "baxis": {
             "endlinecolor": "#2a3f5f",
             "gridcolor": "white",
             "linecolor": "white",
             "minorgridcolor": "white",
             "startlinecolor": "#2a3f5f"
            },
            "type": "carpet"
           }
          ],
          "choropleth": [
           {
            "colorbar": {
             "outlinewidth": 0,
             "ticks": ""
            },
            "type": "choropleth"
           }
          ],
          "contour": [
           {
            "colorbar": {
             "outlinewidth": 0,
             "ticks": ""
            },
            "colorscale": [
             [
              0,
              "#0d0887"
             ],
             [
              0.1111111111111111,
              "#46039f"
             ],
             [
              0.2222222222222222,
              "#7201a8"
             ],
             [
              0.3333333333333333,
              "#9c179e"
             ],
             [
              0.4444444444444444,
              "#bd3786"
             ],
             [
              0.5555555555555556,
              "#d8576b"
             ],
             [
              0.6666666666666666,
              "#ed7953"
             ],
             [
              0.7777777777777778,
              "#fb9f3a"
             ],
             [
              0.8888888888888888,
              "#fdca26"
             ],
             [
              1,
              "#f0f921"
             ]
            ],
            "type": "contour"
           }
          ],
          "contourcarpet": [
           {
            "colorbar": {
             "outlinewidth": 0,
             "ticks": ""
            },
            "type": "contourcarpet"
           }
          ],
          "heatmap": [
           {
            "colorbar": {
             "outlinewidth": 0,
             "ticks": ""
            },
            "colorscale": [
             [
              0,
              "#0d0887"
             ],
             [
              0.1111111111111111,
              "#46039f"
             ],
             [
              0.2222222222222222,
              "#7201a8"
             ],
             [
              0.3333333333333333,
              "#9c179e"
             ],
             [
              0.4444444444444444,
              "#bd3786"
             ],
             [
              0.5555555555555556,
              "#d8576b"
             ],
             [
              0.6666666666666666,
              "#ed7953"
             ],
             [
              0.7777777777777778,
              "#fb9f3a"
             ],
             [
              0.8888888888888888,
              "#fdca26"
             ],
             [
              1,
              "#f0f921"
             ]
            ],
            "type": "heatmap"
           }
          ],
          "heatmapgl": [
           {
            "colorbar": {
             "outlinewidth": 0,
             "ticks": ""
            },
            "colorscale": [
             [
              0,
              "#0d0887"
             ],
             [
              0.1111111111111111,
              "#46039f"
             ],
             [
              0.2222222222222222,
              "#7201a8"
             ],
             [
              0.3333333333333333,
              "#9c179e"
             ],
             [
              0.4444444444444444,
              "#bd3786"
             ],
             [
              0.5555555555555556,
              "#d8576b"
             ],
             [
              0.6666666666666666,
              "#ed7953"
             ],
             [
              0.7777777777777778,
              "#fb9f3a"
             ],
             [
              0.8888888888888888,
              "#fdca26"
             ],
             [
              1,
              "#f0f921"
             ]
            ],
            "type": "heatmapgl"
           }
          ],
          "histogram": [
           {
            "marker": {
             "pattern": {
              "fillmode": "overlay",
              "size": 10,
              "solidity": 0.2
             }
            },
            "type": "histogram"
           }
          ],
          "histogram2d": [
           {
            "colorbar": {
             "outlinewidth": 0,
             "ticks": ""
            },
            "colorscale": [
             [
              0,
              "#0d0887"
             ],
             [
              0.1111111111111111,
              "#46039f"
             ],
             [
              0.2222222222222222,
              "#7201a8"
             ],
             [
              0.3333333333333333,
              "#9c179e"
             ],
             [
              0.4444444444444444,
              "#bd3786"
             ],
             [
              0.5555555555555556,
              "#d8576b"
             ],
             [
              0.6666666666666666,
              "#ed7953"
             ],
             [
              0.7777777777777778,
              "#fb9f3a"
             ],
             [
              0.8888888888888888,
              "#fdca26"
             ],
             [
              1,
              "#f0f921"
             ]
            ],
            "type": "histogram2d"
           }
          ],
          "histogram2dcontour": [
           {
            "colorbar": {
             "outlinewidth": 0,
             "ticks": ""
            },
            "colorscale": [
             [
              0,
              "#0d0887"
             ],
             [
              0.1111111111111111,
              "#46039f"
             ],
             [
              0.2222222222222222,
              "#7201a8"
             ],
             [
              0.3333333333333333,
              "#9c179e"
             ],
             [
              0.4444444444444444,
              "#bd3786"
             ],
             [
              0.5555555555555556,
              "#d8576b"
             ],
             [
              0.6666666666666666,
              "#ed7953"
             ],
             [
              0.7777777777777778,
              "#fb9f3a"
             ],
             [
              0.8888888888888888,
              "#fdca26"
             ],
             [
              1,
              "#f0f921"
             ]
            ],
            "type": "histogram2dcontour"
           }
          ],
          "mesh3d": [
           {
            "colorbar": {
             "outlinewidth": 0,
             "ticks": ""
            },
            "type": "mesh3d"
           }
          ],
          "parcoords": [
           {
            "line": {
             "colorbar": {
              "outlinewidth": 0,
              "ticks": ""
             }
            },
            "type": "parcoords"
           }
          ],
          "pie": [
           {
            "automargin": true,
            "type": "pie"
           }
          ],
          "scatter": [
           {
            "fillpattern": {
             "fillmode": "overlay",
             "size": 10,
             "solidity": 0.2
            },
            "type": "scatter"
           }
          ],
          "scatter3d": [
           {
            "line": {
             "colorbar": {
              "outlinewidth": 0,
              "ticks": ""
             }
            },
            "marker": {
             "colorbar": {
              "outlinewidth": 0,
              "ticks": ""
             }
            },
            "type": "scatter3d"
           }
          ],
          "scattercarpet": [
           {
            "marker": {
             "colorbar": {
              "outlinewidth": 0,
              "ticks": ""
             }
            },
            "type": "scattercarpet"
           }
          ],
          "scattergeo": [
           {
            "marker": {
             "colorbar": {
              "outlinewidth": 0,
              "ticks": ""
             }
            },
            "type": "scattergeo"
           }
          ],
          "scattergl": [
           {
            "marker": {
             "colorbar": {
              "outlinewidth": 0,
              "ticks": ""
             }
            },
            "type": "scattergl"
           }
          ],
          "scattermapbox": [
           {
            "marker": {
             "colorbar": {
              "outlinewidth": 0,
              "ticks": ""
             }
            },
            "type": "scattermapbox"
           }
          ],
          "scatterpolar": [
           {
            "marker": {
             "colorbar": {
              "outlinewidth": 0,
              "ticks": ""
             }
            },
            "type": "scatterpolar"
           }
          ],
          "scatterpolargl": [
           {
            "marker": {
             "colorbar": {
              "outlinewidth": 0,
              "ticks": ""
             }
            },
            "type": "scatterpolargl"
           }
          ],
          "scatterternary": [
           {
            "marker": {
             "colorbar": {
              "outlinewidth": 0,
              "ticks": ""
             }
            },
            "type": "scatterternary"
           }
          ],
          "surface": [
           {
            "colorbar": {
             "outlinewidth": 0,
             "ticks": ""
            },
            "colorscale": [
             [
              0,
              "#0d0887"
             ],
             [
              0.1111111111111111,
              "#46039f"
             ],
             [
              0.2222222222222222,
              "#7201a8"
             ],
             [
              0.3333333333333333,
              "#9c179e"
             ],
             [
              0.4444444444444444,
              "#bd3786"
             ],
             [
              0.5555555555555556,
              "#d8576b"
             ],
             [
              0.6666666666666666,
              "#ed7953"
             ],
             [
              0.7777777777777778,
              "#fb9f3a"
             ],
             [
              0.8888888888888888,
              "#fdca26"
             ],
             [
              1,
              "#f0f921"
             ]
            ],
            "type": "surface"
           }
          ],
          "table": [
           {
            "cells": {
             "fill": {
              "color": "#EBF0F8"
             },
             "line": {
              "color": "white"
             }
            },
            "header": {
             "fill": {
              "color": "#C8D4E3"
             },
             "line": {
              "color": "white"
             }
            },
            "type": "table"
           }
          ]
         },
         "layout": {
          "annotationdefaults": {
           "arrowcolor": "#2a3f5f",
           "arrowhead": 0,
           "arrowwidth": 1
          },
          "autotypenumbers": "strict",
          "coloraxis": {
           "colorbar": {
            "outlinewidth": 0,
            "ticks": ""
           }
          },
          "colorscale": {
           "diverging": [
            [
             0,
             "#8e0152"
            ],
            [
             0.1,
             "#c51b7d"
            ],
            [
             0.2,
             "#de77ae"
            ],
            [
             0.3,
             "#f1b6da"
            ],
            [
             0.4,
             "#fde0ef"
            ],
            [
             0.5,
             "#f7f7f7"
            ],
            [
             0.6,
             "#e6f5d0"
            ],
            [
             0.7,
             "#b8e186"
            ],
            [
             0.8,
             "#7fbc41"
            ],
            [
             0.9,
             "#4d9221"
            ],
            [
             1,
             "#276419"
            ]
           ],
           "sequential": [
            [
             0,
             "#0d0887"
            ],
            [
             0.1111111111111111,
             "#46039f"
            ],
            [
             0.2222222222222222,
             "#7201a8"
            ],
            [
             0.3333333333333333,
             "#9c179e"
            ],
            [
             0.4444444444444444,
             "#bd3786"
            ],
            [
             0.5555555555555556,
             "#d8576b"
            ],
            [
             0.6666666666666666,
             "#ed7953"
            ],
            [
             0.7777777777777778,
             "#fb9f3a"
            ],
            [
             0.8888888888888888,
             "#fdca26"
            ],
            [
             1,
             "#f0f921"
            ]
           ],
           "sequentialminus": [
            [
             0,
             "#0d0887"
            ],
            [
             0.1111111111111111,
             "#46039f"
            ],
            [
             0.2222222222222222,
             "#7201a8"
            ],
            [
             0.3333333333333333,
             "#9c179e"
            ],
            [
             0.4444444444444444,
             "#bd3786"
            ],
            [
             0.5555555555555556,
             "#d8576b"
            ],
            [
             0.6666666666666666,
             "#ed7953"
            ],
            [
             0.7777777777777778,
             "#fb9f3a"
            ],
            [
             0.8888888888888888,
             "#fdca26"
            ],
            [
             1,
             "#f0f921"
            ]
           ]
          },
          "colorway": [
           "#636efa",
           "#EF553B",
           "#00cc96",
           "#ab63fa",
           "#FFA15A",
           "#19d3f3",
           "#FF6692",
           "#B6E880",
           "#FF97FF",
           "#FECB52"
          ],
          "font": {
           "color": "#2a3f5f"
          },
          "geo": {
           "bgcolor": "white",
           "lakecolor": "white",
           "landcolor": "#E5ECF6",
           "showlakes": true,
           "showland": true,
           "subunitcolor": "white"
          },
          "hoverlabel": {
           "align": "left"
          },
          "hovermode": "closest",
          "mapbox": {
           "style": "light"
          },
          "paper_bgcolor": "white",
          "plot_bgcolor": "#E5ECF6",
          "polar": {
           "angularaxis": {
            "gridcolor": "white",
            "linecolor": "white",
            "ticks": ""
           },
           "bgcolor": "#E5ECF6",
           "radialaxis": {
            "gridcolor": "white",
            "linecolor": "white",
            "ticks": ""
           }
          },
          "scene": {
           "xaxis": {
            "backgroundcolor": "#E5ECF6",
            "gridcolor": "white",
            "gridwidth": 2,
            "linecolor": "white",
            "showbackground": true,
            "ticks": "",
            "zerolinecolor": "white"
           },
           "yaxis": {
            "backgroundcolor": "#E5ECF6",
            "gridcolor": "white",
            "gridwidth": 2,
            "linecolor": "white",
            "showbackground": true,
            "ticks": "",
            "zerolinecolor": "white"
           },
           "zaxis": {
            "backgroundcolor": "#E5ECF6",
            "gridcolor": "white",
            "gridwidth": 2,
            "linecolor": "white",
            "showbackground": true,
            "ticks": "",
            "zerolinecolor": "white"
           }
          },
          "shapedefaults": {
           "line": {
            "color": "#2a3f5f"
           }
          },
          "ternary": {
           "aaxis": {
            "gridcolor": "white",
            "linecolor": "white",
            "ticks": ""
           },
           "baxis": {
            "gridcolor": "white",
            "linecolor": "white",
            "ticks": ""
           },
           "bgcolor": "#E5ECF6",
           "caxis": {
            "gridcolor": "white",
            "linecolor": "white",
            "ticks": ""
           }
          },
          "title": {
           "x": 0.05
          },
          "xaxis": {
           "automargin": true,
           "gridcolor": "white",
           "linecolor": "white",
           "ticks": "",
           "title": {
            "standoff": 15
           },
           "zerolinecolor": "white",
           "zerolinewidth": 2
          },
          "yaxis": {
           "automargin": true,
           "gridcolor": "white",
           "linecolor": "white",
           "ticks": "",
           "title": {
            "standoff": 15
           },
           "zerolinecolor": "white",
           "zerolinewidth": 2
          }
         }
        },
        "title": {
         "text": "Cluster Sizes"
        },
        "xaxis": {
         "title": {
          "text": "Cluster ID"
         }
        },
        "yaxis": {
         "title": {
          "text": "Number of Companies"
         }
        }
       }
      }
     },
     "metadata": {},
     "output_type": "display_data"
    }
   ],
   "source": [
    "# Compare cluster characteristics\n",
    "cluster_stats = df_sample.groupby('cluster_kmeans').agg({\n",
    "    'company_id': 'count',\n",
    "    'num_founders': 'mean',\n",
    "    'team_size': 'mean',\n",
    "    'year_founded': 'mean'\n",
    "}).round(2)\n",
    "\n",
    "cluster_stats.columns = ['Size', 'Avg_Founders', 'Avg_Team_Size', 'Avg_Year_Founded']\n",
    "\n",
    "# Add success rate\n",
    "cluster_stats['Success_Rate'] = df_sample.groupby('cluster_kmeans').apply(\n",
    "    lambda x: (x['status'].str.contains('Public|Acquired', case=False, na=False).sum() / len(x) * 100)\n",
    ").round(1)\n",
    "\n",
    "print(\"\\n📊 CLUSTER COMPARISON:\")\n",
    "print(cluster_stats.to_string())\n",
    "\n",
    "# Visualize cluster sizes\n",
    "fig = go.Figure(data=[\n",
    "    go.Bar(\n",
    "        x=cluster_stats.index,\n",
    "        y=cluster_stats['Size'],\n",
    "        text=cluster_stats['Size'],\n",
    "        textposition='outside',\n",
    "        marker_color='steelblue'\n",
    "    )\n",
    "])\n",
    "\n",
    "fig.update_layout(\n",
    "    title='Cluster Sizes',\n",
    "    xaxis_title='Cluster ID',\n",
    "    yaxis_title='Number of Companies',\n",
    "    height=400\n",
    ")\n",
    "fig.show()"
   ]
  },
  {
   "cell_type": "markdown",
   "metadata": {},
   "source": [
    "## 7. Export Results"
   ]
  },
  {
   "cell_type": "code",
   "execution_count": 16,
   "metadata": {},
   "outputs": [
    {
     "name": "stdout",
     "output_type": "stream",
     "text": [
      "✓ Saved clustered data to: ../data/yc_companies_clustered.csv\n",
      "\n",
      "📊 SUMMARY:\n",
      "  Total companies analyzed: 500\n",
      "  K-means clusters: 17\n",
      "  DBSCAN clusters: 1\n",
      "  Embedding dimension: 1536\n"
     ]
    }
   ],
   "source": [
    "# Save clustered data\n",
    "output_path = '../data/yc_companies_clustered.csv'\n",
    "df_sample[[\n",
    "    'company_id', 'company_name', 'short_description', 'batch', 'status', \n",
    "    'tags', 'cluster_kmeans', 'cluster_dbscan', 'tsne_x', 'tsne_y'\n",
    "]].to_csv(output_path, index=False)\n",
    "\n",
    "print(f\"✓ Saved clustered data to: {output_path}\")\n",
    "\n",
    "# Summary statistics\n",
    "print(f\"\\n📊 SUMMARY:\")\n",
    "print(f\"  Total companies analyzed: {len(df_sample):,}\")\n",
    "print(f\"  K-means clusters: {df_sample['cluster_kmeans'].nunique()}\")\n",
    "print(f\"  DBSCAN clusters: {df_sample['cluster_dbscan'].nunique()}\")\n",
    "print(f\"  Embedding dimension: {len(embeddings[0]) if embeddings else 0}\")"
   ]
  },
  {
   "cell_type": "markdown",
   "metadata": {},
   "source": [
    "---\n",
    "\n",
    "## Key Takeaways\n",
    "\n",
    "**Clustering Approach:**\n",
    "- Used OpenAI `text-embedding-3-small` for semantic embeddings\n",
    "- Applied K-means (parametric) and DBSCAN (density-based) clustering\n",
    "- Visualized with t-SNE dimensionality reduction\n",
    "\n",
    "**Findings:**\n",
    "- Companies naturally cluster by industry vertical and problem domain\n",
    "- Semantic similarity reveals non-obvious connections between companies\n",
    "- Some clusters show distinct characteristics (team size, location, success rate)\n",
    "\n",
    "**Limitations:**\n",
    "- Clustering quality depends on description text quality\n",
    "- Optimal K is subjective (use domain knowledge + elbow method)\n",
    "- t-SNE visualization is non-deterministic (different runs may vary)\n",
    "- Sample size affects cluster stability\n",
    "\n",
    "**Cost Considerations:**\n",
    "- `text-embedding-3-small`: ~$0.02 per 1M tokens\n",
    "- 500 companies ≈ $0.01-0.02\n",
    "- 8,000 companies ≈ $0.15-0.30\n",
    "\n",
    "---\n",
    "\n",
    "*Analysis powered by OpenAI embeddings and scikit-learn*"
   ]
  }
 ],
 "metadata": {
  "kernelspec": {
   "display_name": "Python 3",
   "language": "python",
   "name": "python3"
  },
  "language_info": {
   "codemirror_mode": {
    "name": "ipython",
    "version": 3
   },
   "file_extension": ".py",
   "mimetype": "text/x-python",
   "name": "python",
   "nbconvert_exporter": "python",
   "pygments_lexer": "ipython3",
   "version": "3.13.7"
  }
 },
 "nbformat": 4,
 "nbformat_minor": 4
}
